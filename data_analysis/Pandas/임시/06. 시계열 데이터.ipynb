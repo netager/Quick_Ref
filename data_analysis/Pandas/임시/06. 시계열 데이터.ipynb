{
 "cells": [
  {
   "cell_type": "markdown",
   "metadata": {},
   "source": [
    "## 01) Timestamp\n",
    "- 시계열 데이터란 일정 시간 간격으로 배치된 데이터 셋의 집합\n",
    "- 판다스는 파이썬에서 날짜와 시간을 표현하기 위해 사용하는 Datetime 타입과 유사한 Timestamp 클래스를 제공\n",
    "- 판다스에 정의된 to_datetime 함수를 사용해서 \"2021-01-02\"라는 문자열을 Timestamp 타입의 객체로 변환할 수 있습"
   ]
  },
  {
   "cell_type": "code",
   "execution_count": 1,
   "metadata": {},
   "outputs": [
    {
     "name": "stdout",
     "output_type": "stream",
     "text": [
      "<class 'pandas._libs.tslibs.timestamps.Timestamp'>\n",
      "2021-01-02 00:00:00\n"
     ]
    }
   ],
   "source": [
    "import pandas as pd\n",
    "\n",
    "ts = pd.to_datetime(\"2021-01-02\")\n",
    "print(type(ts))\n",
    "print(ts)"
   ]
  },
  {
   "cell_type": "code",
   "execution_count": 2,
   "metadata": {},
   "outputs": [
    {
     "name": "stdout",
     "output_type": "stream",
     "text": [
      "2021-01-02 09:00:00\n"
     ]
    }
   ],
   "source": [
    "# to_datetime함수에 시간 정보를 \"시:분:초\" 형태로 추가할 수 있음.\\\n",
    "# 다음 코드는 2021-01-02의 오전 9시를 가리킴.\n",
    "ts = pd.to_datetime(\"2021-01-02 09:00:00\")\n",
    "print(ts)"
   ]
  },
  {
   "cell_type": "code",
   "execution_count": 3,
   "metadata": {},
   "outputs": [
    {
     "name": "stdout",
     "output_type": "stream",
     "text": [
      "2021-01-02 09:00:00\n"
     ]
    }
   ],
   "source": [
    "ts = pd.to_datetime(\"20210102 090000\")\n",
    "print(ts)"
   ]
  },
  {
   "cell_type": "code",
   "execution_count": 4,
   "metadata": {},
   "outputs": [
    {
     "name": "stdout",
     "output_type": "stream",
     "text": [
      "2020-06-07 00:00:00\n"
     ]
    }
   ],
   "source": [
    "# 날짜를 표현하는 방법은 나라마다 다를 수 있음\n",
    "# 미국은 월/일/년 형태로 표현하며, 영국은 일/월/년 형태로 표기\n",
    "# 영국식 표기법으로 표현된 문자열의 날짜를 to_datetime은 어떻게 해석될까?\n",
    "# 영국식 표기법이라 2020-07-06을 의도했지만 이러한 사실을 알 수 없는 to_datetime 함수는 \n",
    "# 다음과 같이 2020-06-07로 변경\n",
    "print(pd.to_datetime(\"06/07/20\"))"
   ]
  },
  {
   "cell_type": "code",
   "execution_count": 5,
   "metadata": {},
   "outputs": [
    {
     "name": "stdout",
     "output_type": "stream",
     "text": [
      "2020-07-06 00:00:00\n"
     ]
    }
   ],
   "source": [
    "# 이런 문제를 해결하려면 to_datetime 함수의 format 파라미터로 날짜가 표현된 형태를 알려줘야 함.\n",
    "# %Y는 네 자리의 연도를, %y는 2자리의 연도, %m은 두 자리로 구성된 월, %d 일을 의미\n",
    "# 따라서 '%y/%m/%d'라고 적으면 앞에서부터 두 자리의 연도, 두 자리 월, 두 자리 날짜가 '/'으로 구분돼 있음을 to_datetime 함수에 알려주는 겁니다.\n",
    "# 다음 코드는 영국식 표기법으로 표현된 날짜를 Timestamp 객체로 변환합니다.\n",
    "\n",
    "print(pd.to_datetime(\"06/07/20\", format=\"%d/%m/%y\"))"
   ]
  },
  {
   "cell_type": "code",
   "execution_count": 6,
   "metadata": {},
   "outputs": [
    {
     "name": "stdout",
     "output_type": "stream",
     "text": [
      "2021\n",
      "8\n",
      "14\n",
      "0\n",
      "0\n",
      "0\n"
     ]
    }
   ],
   "source": [
    "# Timestamp 클래스에는 년/월/일/시/분/초를 저장하는 속성(attribute)이 정의돼 있어서 \n",
    "# 필요에 따라 Timestamp 객체에서 값을 꺼내 올 수 있습니다. \n",
    "# 해당 데이터를 위한 속성의 이름이 직관적이라 별도의 설명 없이 다음 코드를 이해할 수 있습니다.\n",
    "\n",
    "ts = pd.to_datetime(\"2021-08-14\")\n",
    "print(ts.year)\n",
    "print(ts.month)\n",
    "print(ts.day)\n",
    "print(ts.hour)\n",
    "print(ts.minute)\n",
    "print(ts.second)"
   ]
  },
  {
   "cell_type": "code",
   "execution_count": 7,
   "metadata": {},
   "outputs": [
    {
     "name": "stdout",
     "output_type": "stream",
     "text": [
      "5\n"
     ]
    }
   ],
   "source": [
    "# Timestamp 클래스는 여러 메서드도 제공합니다.\n",
    "# weekday 메서드는 요일 정보를 숫자로 반환합니다. \n",
    "# 월요일 0, 화요일 1, 수요일 2, 목요일 3, 금요일 4, 토요일 5, 일요일 6을 의미합니다.\n",
    "\n",
    "ts = pd.to_datetime(\"2021-08-14\")\n",
    "print(ts.weekday())"
   ]
  },
  {
   "cell_type": "code",
   "execution_count": 8,
   "metadata": {},
   "outputs": [
    {
     "name": "stdout",
     "output_type": "stream",
     "text": [
      "2021-08-14\n"
     ]
    }
   ],
   "source": [
    "# Timestamp객체를 다시 문자열 타입으로 변경할 수도 있습니다. \n",
    "# strftime 메서드로 변경할 문자열의 format을 지정합니다. \n",
    "# %Y는 네 글자 연도, %m은 두 글자 월, %d는 두 글자 일을 의미했었죠? \n",
    "# 다음 코드는 Timestamp 객체를 ‘연-월-일’로 표현된 문자열을 반환합니다. \n",
    "# 구분자로 \"-\"를 사용했습니다.\n",
    "\n",
    "print(ts.strftime(\"%Y-%m-%d\"))"
   ]
  },
  {
   "cell_type": "code",
   "execution_count": 9,
   "metadata": {},
   "outputs": [
    {
     "name": "stdout",
     "output_type": "stream",
     "text": [
      "100 days 02:30:30\n"
     ]
    }
   ],
   "source": [
    "# 2021년 8월 14일부터 100일 뒤의 날짜는 언제일까요? \n",
    "# 문자열로 데이터가 정의돼 있다면 월마다 다른 일자와 윤달을 고려해야 돼서 \n",
    "# 계산하기 쉽지 않습니다. 판다스는 Timedelta 객체로 날짜의 차이를 표현할 수 있습니다. \n",
    "# 클래스의 초기화자로 표현할 시간 정보를 넣어 주면 됩니다. \n",
    "# 파라미터의 이름이 모두 복수 형태로 표현돼 s가 붙었음에 주의하세요.\n",
    "\n",
    "diff = pd.Timedelta(days=100, hours=2, minutes=30, seconds=30 )\n",
    "print(diff)\n"
   ]
  },
  {
   "cell_type": "code",
   "execution_count": 10,
   "metadata": {},
   "outputs": [
    {
     "name": "stdout",
     "output_type": "stream",
     "text": [
      "2021-11-22 02:30:30\n"
     ]
    }
   ],
   "source": [
    "# Timedelta 객체를 사용하면 Timestamp 객체와 덧셈, 뺄셈 연산으로 쉽게 100일 뒤의 날짜를 계산할 수 있습니다. \n",
    "# 다음 코드는 ts를 기준으로 100일 2시간 30분 30초 뒤의 시간을 계산합니다. \n",
    "# 아쉽지만 Timedelta를 사용하는 경우에도 월이나 연 단위로 차이를 표현할 수는 없습니다. \n",
    "# 예를 들어, 오늘로부터 2달 후의 날짜를 구하는 것이 불가능합니다.\n",
    "\n",
    "print(ts + diff)"
   ]
  },
  {
   "cell_type": "code",
   "execution_count": 11,
   "metadata": {},
   "outputs": [
    {
     "name": "stdout",
     "output_type": "stream",
     "text": [
      "DatetimeIndex(['2021-01-01', '2021-01-02', '2021-01-03'], dtype='datetime64[ns]', freq=None)\n"
     ]
    }
   ],
   "source": [
    "# 판다스의 to_datetime 함수는 리스트에 저장된 모든 문자열을 Timestamp 객체로 변경할 수 있습니다.\n",
    "# 다음은 문자열로 표현된 세 개의 날짜가 들어 있는 리스트를 to_datetime 함수로 전달합니다.\n",
    "\n",
    "candidates = [ \"2021-01-01\", \"2021-01-02\", \"2021-01-03\"]\n",
    "idx = pd.to_datetime(candidates)\n",
    "print(idx)"
   ]
  },
  {
   "cell_type": "code",
   "execution_count": 12,
   "metadata": {},
   "outputs": [
    {
     "name": "stdout",
     "output_type": "stream",
     "text": [
      "2021-01-01 00:00:00\n",
      "DatetimeIndex(['2021-01-01', '2021-01-02'], dtype='datetime64[ns]', freq=None)\n"
     ]
    }
   ],
   "source": [
    "# DatetimeIndex는 리스트와 비슷한 순서가 있는 자료구조로 정수를 사용한 인덱싱과 슬라이싱을 지원합니다. \n",
    "# 다음 코드를 실행하면 idx[0]에는 2021-01-01이 Timestamp 객체로 저장된 것을 알 수 있습니다. \n",
    "# idx[0:2]로 범위 슬라이싱하면, 2021-01-01과 2021-01-02 두 개의 Timestamp가 저장된 DatetimeIndex를 얻을 수 있습니다.\n",
    "\n",
    "print(idx[0])\n",
    "print(idx[0:2])\n"
   ]
  },
  {
   "cell_type": "code",
   "execution_count": 13,
   "metadata": {},
   "outputs": [
    {
     "name": "stdout",
     "output_type": "stream",
     "text": [
      "Int64Index([2021, 2021, 2021], dtype='int64')\n",
      "Int64Index([1, 1, 1], dtype='int64')\n",
      "Int64Index([1, 2, 3], dtype='int64')\n"
     ]
    }
   ],
   "source": [
    "# DatetimeIndex에는 총 세 개의 Timestamp 객체가 저장돼 있습니다. \n",
    "# DatetimeIndex는 저장된 모든 Timestamp의 연/월/일/시/분/초 정보를 각각 한 번에 얻어올 수 있는 편의 기능을 제공합니다.\n",
    "\n",
    "print(idx.year)\n",
    "print(idx.month)\n",
    "print(idx.day)"
   ]
  },
  {
   "cell_type": "code",
   "execution_count": 14,
   "metadata": {},
   "outputs": [
    {
     "name": "stdout",
     "output_type": "stream",
     "text": [
      "18853.0 51.652054794520545\n"
     ]
    }
   ],
   "source": [
    "# 특정 시스템에서는 시간 정보를 유닉스 시간(unix time)으로 저장합니다. \n",
    "# 유닉스 시간은 협정 세계시 (UTC)인 1970년 1월 1일부터 경과한 시간을 초(sec)로 환산하여 정수로 나타낸 것입니다. \n",
    "# 특정 시각을 하나의 정수로 나타내기 간편함 때문에 유닉스 계열의 운영체제나 파일 형식들에서 자주 사용됩니다. \n",
    "# 유닉스 시간은 에포크(epoch) 시간으로 부르기도 합니다.\n",
    "\n",
    "# 연습을 위해 에포크로 표현된 1628899200이라는 숫자를 사람이 읽기 좋은 형태로 계산해 보겠습니다. \n",
    "# 다음 코드는 단위를 second에서 day, year로 변경합니다. 이때 윤달이 있을 수 있지만, 계산의 편의를 위해 단순히 365로 나눴습니다.\n",
    "\n",
    "# 출력된 결과를 참고하면 대략 51년이 지났음을 알 수 있습니다. \n",
    "# 1970년에서 51년이 지났으니 2021년이며 0.65를 계산하면 8월 14일입니다.\n",
    "\n",
    "day = 1628899200 / 60 / 60 / 24\n",
    "year = day / 365\n",
    "print(day, year)"
   ]
  },
  {
   "cell_type": "code",
   "execution_count": 2,
   "metadata": {},
   "outputs": [
    {
     "name": "stdout",
     "output_type": "stream",
     "text": [
      "2021-08-14 00:00:00\n"
     ]
    }
   ],
   "source": [
    "# to_datetime은 에포크 시간을 읽기 좋은 Timestamp 객체로 변환합니다. \n",
    "# 다만 입력하는 단위가 second라는 것을 unit 파라미터로 함수에 알려줘야 합니다.\n",
    "import pandas as pd \n",
    "\n",
    "dt = pd.to_datetime(1628899200, unit='s')\n",
    "print(dt)"
   ]
  },
  {
   "cell_type": "code",
   "execution_count": 4,
   "metadata": {},
   "outputs": [
    {
     "data": {
      "text/html": [
       "<div>\n",
       "<style scoped>\n",
       "    .dataframe tbody tr th:only-of-type {\n",
       "        vertical-align: middle;\n",
       "    }\n",
       "\n",
       "    .dataframe tbody tr th {\n",
       "        vertical-align: top;\n",
       "    }\n",
       "\n",
       "    .dataframe thead th {\n",
       "        text-align: right;\n",
       "    }\n",
       "</style>\n",
       "<table border=\"1\" class=\"dataframe\">\n",
       "  <thead>\n",
       "    <tr style=\"text-align: right;\">\n",
       "      <th></th>\n",
       "      <th>시가</th>\n",
       "      <th>고가</th>\n",
       "      <th>저가</th>\n",
       "      <th>종가</th>\n",
       "    </tr>\n",
       "  </thead>\n",
       "  <tbody>\n",
       "    <tr>\n",
       "      <th>20200615</th>\n",
       "      <td>100</td>\n",
       "      <td>110</td>\n",
       "      <td>90</td>\n",
       "      <td>105</td>\n",
       "    </tr>\n",
       "    <tr>\n",
       "      <th>20200616</th>\n",
       "      <td>100</td>\n",
       "      <td>112</td>\n",
       "      <td>80</td>\n",
       "      <td>95</td>\n",
       "    </tr>\n",
       "    <tr>\n",
       "      <th>20200717</th>\n",
       "      <td>99</td>\n",
       "      <td>115</td>\n",
       "      <td>70</td>\n",
       "      <td>85</td>\n",
       "    </tr>\n",
       "    <tr>\n",
       "      <th>20200718</th>\n",
       "      <td>70</td>\n",
       "      <td>80</td>\n",
       "      <td>60</td>\n",
       "      <td>75</td>\n",
       "    </tr>\n",
       "  </tbody>\n",
       "</table>\n",
       "</div>"
      ],
      "text/plain": [
       "           시가   고가  저가   종가\n",
       "20200615  100  110  90  105\n",
       "20200616  100  112  80   95\n",
       "20200717   99  115  70   85\n",
       "20200718   70   80  60   75"
      ]
     },
     "execution_count": 4,
     "metadata": {},
     "output_type": "execute_result"
    }
   ],
   "source": [
    "# Timestamp를 사용하는 이유를 실용적인 예제와 함께 알아봅시다. \n",
    "# 다음의 데이터프레임에는 시가/고가/저가/종가가 문자열로 된 인덱스와 함께 저장\n",
    "\n",
    "data = [\n",
    "    {'시가': 100, '고가': 110, '저가': 90, '종가': 105}, \n",
    "    {'시가': 100, '고가': 112, '저가': 80, '종가':  95}, \n",
    "    {'시가':  99, '고가': 115, '저가': 70, '종가':  85}, \n",
    "    {'시가':  70, '고가':  80, '저가': 60, '종가':  75}, \n",
    "]\n",
    "df = pd.DataFrame(data, index=['20200615','20200616','20200717','20200718'])\n",
    "df"
   ]
  },
  {
   "cell_type": "code",
   "execution_count": 17,
   "metadata": {},
   "outputs": [
    {
     "name": "stdout",
     "output_type": "stream",
     "text": [
      "           시가   고가  저가   종가\n",
      "20200615  100  110  90  105\n",
      "20200616  100  112  80   95\n",
      "           시가   고가  저가   종가\n",
      "20200615  100  110  90  105\n",
      "20200616  100  112  80   95\n",
      "           시가   고가  저가   종가\n",
      "20200615  100  110  90  105\n",
      "20200616  100  112  80   95\n",
      "           시가   고가  저가   종가\n",
      "20200615  100  110  90  105\n",
      "20200616  100  112  80   95\n"
     ]
    }
   ],
   "source": [
    "print(df.iloc[[0,1]])\n",
    "print(df.iloc[0:2])\n",
    "\n",
    "cond = df.index.str[:6] == '202006'\n",
    "print(df[cond])\n",
    "print(df.loc[cond])\n",
    "\n",
    "# 위와 같이 간단한 연산은 슬라이싱과 조건 비교로 구분할 수 있습니다. \n",
    "# 하지만 2020년 6월 이후의 모든 날짜를 선택하는 경우에는 문자열 비교 연산만으로 문제를 해결하기 어렵습니다.\n",
    "# 이러한 이유로 날짜와 시간 데이터는 문자열로 저장하기보다 시간을 관리하는 Timestamp로 표현하는 것이 좋습니다."
   ]
  },
  {
   "cell_type": "code",
   "execution_count": 20,
   "metadata": {},
   "outputs": [
    {
     "data": {
      "text/html": [
       "<div>\n",
       "<style scoped>\n",
       "    .dataframe tbody tr th:only-of-type {\n",
       "        vertical-align: middle;\n",
       "    }\n",
       "\n",
       "    .dataframe tbody tr th {\n",
       "        vertical-align: top;\n",
       "    }\n",
       "\n",
       "    .dataframe thead th {\n",
       "        text-align: right;\n",
       "    }\n",
       "</style>\n",
       "<table border=\"1\" class=\"dataframe\">\n",
       "  <thead>\n",
       "    <tr style=\"text-align: right;\">\n",
       "      <th></th>\n",
       "      <th>시가</th>\n",
       "      <th>고가</th>\n",
       "      <th>저가</th>\n",
       "      <th>종가</th>\n",
       "    </tr>\n",
       "  </thead>\n",
       "  <tbody>\n",
       "    <tr>\n",
       "      <th>2020-06-15</th>\n",
       "      <td>100</td>\n",
       "      <td>110</td>\n",
       "      <td>90</td>\n",
       "      <td>105</td>\n",
       "    </tr>\n",
       "    <tr>\n",
       "      <th>2020-06-16</th>\n",
       "      <td>100</td>\n",
       "      <td>112</td>\n",
       "      <td>80</td>\n",
       "      <td>95</td>\n",
       "    </tr>\n",
       "    <tr>\n",
       "      <th>2020-07-17</th>\n",
       "      <td>99</td>\n",
       "      <td>115</td>\n",
       "      <td>70</td>\n",
       "      <td>85</td>\n",
       "    </tr>\n",
       "    <tr>\n",
       "      <th>2020-07-18</th>\n",
       "      <td>70</td>\n",
       "      <td>80</td>\n",
       "      <td>60</td>\n",
       "      <td>75</td>\n",
       "    </tr>\n",
       "  </tbody>\n",
       "</table>\n",
       "</div>"
      ],
      "text/plain": [
       "             시가   고가  저가   종가\n",
       "2020-06-15  100  110  90  105\n",
       "2020-06-16  100  112  80   95\n",
       "2020-07-17   99  115  70   85\n",
       "2020-07-18   70   80  60   75"
      ]
     },
     "execution_count": 20,
     "metadata": {},
     "output_type": "execute_result"
    }
   ],
   "source": [
    "# 위와 같이 간단한 연산은 슬라이싱과 조건 비교로 구분할 수 있습니다. \n",
    "# 하지만 2020년 6월 이후의 모든 날짜를 선택하는 경우에는 문자열 비교 연산만으로 문제를 해결하기 어렵습니다.\n",
    "# 이러한 이유로 날짜와 시간 데이터는 문자열로 저장하기보다 시간을 관리하는 Timestamp로 표현하는 것이 좋습니다.\n",
    "df.index = pd.to_datetime(df.index)\n",
    "df\n"
   ]
  },
  {
   "cell_type": "code",
   "execution_count": 21,
   "metadata": {},
   "outputs": [
    {
     "data": {
      "text/html": [
       "<div>\n",
       "<style scoped>\n",
       "    .dataframe tbody tr th:only-of-type {\n",
       "        vertical-align: middle;\n",
       "    }\n",
       "\n",
       "    .dataframe tbody tr th {\n",
       "        vertical-align: top;\n",
       "    }\n",
       "\n",
       "    .dataframe thead th {\n",
       "        text-align: right;\n",
       "    }\n",
       "</style>\n",
       "<table border=\"1\" class=\"dataframe\">\n",
       "  <thead>\n",
       "    <tr style=\"text-align: right;\">\n",
       "      <th></th>\n",
       "      <th>시가</th>\n",
       "      <th>고가</th>\n",
       "      <th>저가</th>\n",
       "      <th>종가</th>\n",
       "    </tr>\n",
       "  </thead>\n",
       "  <tbody>\n",
       "    <tr>\n",
       "      <th>2020-06-15</th>\n",
       "      <td>100</td>\n",
       "      <td>110</td>\n",
       "      <td>90</td>\n",
       "      <td>105</td>\n",
       "    </tr>\n",
       "    <tr>\n",
       "      <th>2020-06-16</th>\n",
       "      <td>100</td>\n",
       "      <td>112</td>\n",
       "      <td>80</td>\n",
       "      <td>95</td>\n",
       "    </tr>\n",
       "  </tbody>\n",
       "</table>\n",
       "</div>"
      ],
      "text/plain": [
       "             시가   고가  저가   종가\n",
       "2020-06-15  100  110  90  105\n",
       "2020-06-16  100  112  80   95"
      ]
     },
     "execution_count": 21,
     "metadata": {},
     "output_type": "execute_result"
    }
   ],
   "source": [
    "# 날짜를 관리하는 객체로 인덱스를 표현하면 문자열에서는 불가능했던 슬라이싱을 사용할 수 있습니다. \n",
    "# 다음 코드는 2020년 6월의 모든 행을 선택합니다. 연도와 월 사이에 대시를 넣어줘야함에 주의하세요.\n",
    "\n",
    "df.loc['2020-06']"
   ]
  },
  {
   "cell_type": "code",
   "execution_count": 26,
   "metadata": {},
   "outputs": [
    {
     "data": {
      "text/html": [
       "<div>\n",
       "<style scoped>\n",
       "    .dataframe tbody tr th:only-of-type {\n",
       "        vertical-align: middle;\n",
       "    }\n",
       "\n",
       "    .dataframe tbody tr th {\n",
       "        vertical-align: top;\n",
       "    }\n",
       "\n",
       "    .dataframe thead th {\n",
       "        text-align: right;\n",
       "    }\n",
       "</style>\n",
       "<table border=\"1\" class=\"dataframe\">\n",
       "  <thead>\n",
       "    <tr style=\"text-align: right;\">\n",
       "      <th></th>\n",
       "      <th>시가</th>\n",
       "      <th>고가</th>\n",
       "      <th>저가</th>\n",
       "      <th>종가</th>\n",
       "      <th>date</th>\n",
       "    </tr>\n",
       "  </thead>\n",
       "  <tbody>\n",
       "    <tr>\n",
       "      <th>2020-06-15</th>\n",
       "      <td>100</td>\n",
       "      <td>110</td>\n",
       "      <td>90</td>\n",
       "      <td>105</td>\n",
       "      <td>2020-06-15</td>\n",
       "    </tr>\n",
       "    <tr>\n",
       "      <th>2020-06-16</th>\n",
       "      <td>100</td>\n",
       "      <td>112</td>\n",
       "      <td>80</td>\n",
       "      <td>95</td>\n",
       "      <td>2020-06-16</td>\n",
       "    </tr>\n",
       "    <tr>\n",
       "      <th>2020-07-17</th>\n",
       "      <td>99</td>\n",
       "      <td>115</td>\n",
       "      <td>70</td>\n",
       "      <td>85</td>\n",
       "      <td>2020-07-17</td>\n",
       "    </tr>\n",
       "    <tr>\n",
       "      <th>2020-07-18</th>\n",
       "      <td>70</td>\n",
       "      <td>80</td>\n",
       "      <td>60</td>\n",
       "      <td>75</td>\n",
       "      <td>2020-07-18</td>\n",
       "    </tr>\n",
       "  </tbody>\n",
       "</table>\n",
       "</div>"
      ],
      "text/plain": [
       "             시가   고가  저가   종가       date\n",
       "2020-06-15  100  110  90  105 2020-06-15\n",
       "2020-06-16  100  112  80   95 2020-06-16\n",
       "2020-07-17   99  115  70   85 2020-07-17\n",
       "2020-07-18   70   80  60   75 2020-07-18"
      ]
     },
     "execution_count": 26,
     "metadata": {},
     "output_type": "execute_result"
    }
   ],
   "source": [
    "# 날짜로 변경한 DatetimeIndex를 컬럼에 저장할 경우 데이터 타입이 자동으로 변경됩니다. \n",
    "# 다음 코드를 실행하면 우변에 있는 DatetimeIndex가 date컬럼에 시리즈로 저장됩니다. \n",
    "# 시리즈에는 year 변수가 정의돼 있지 않아서 df[“date”].year 와 같은 형태로 전체 데이터의 연도를 한 번에 읽어올 수 없습니다.\n",
    "\n",
    "df['date'] = df.index\n",
    "df"
   ]
  },
  {
   "cell_type": "code",
   "execution_count": 30,
   "metadata": {},
   "outputs": [
    {
     "name": "stdout",
     "output_type": "stream",
     "text": [
      "2020-06-15    2020\n",
      "2020-06-16    2020\n",
      "2020-07-17    2020\n",
      "2020-07-18    2020\n",
      "Name: date, dtype: int64\n",
      "2020-06-15    6\n",
      "2020-06-16    6\n",
      "2020-07-17    7\n",
      "2020-07-18    7\n",
      "Name: date, dtype: int64\n",
      "2020-06-15    15\n",
      "2020-06-16    16\n",
      "2020-07-17    17\n",
      "2020-07-18    18\n",
      "Name: date, dtype: int64\n"
     ]
    }
   ],
   "source": [
    "# 날짜가 저장된 시리즈에서는 dt 속성을 사용해 DatetimeIndex에 접근할 수 있습니다. \n",
    "# 다음 코드는 date 컬럼의 시리즈에 저장된 모든 연도를 Int64Index로 반환합니다. \n",
    "# 문자열에서는 str 속성, 날짜에는 dt 속성을 사용할 수 있습니다.\n",
    "\n",
    "print(df['date'].dt.year)\n",
    "print(df['date'].dt.month)\n",
    "print(df['date'].dt.day)\n"
   ]
  },
  {
   "cell_type": "code",
   "execution_count": null,
   "metadata": {},
   "outputs": [],
   "source": []
  }
 ],
 "metadata": {
  "interpreter": {
   "hash": "e22b443d4a462610bbb3bb0fd2fbd617a36ac78e8b795270db94d44357032c35"
  },
  "kernelspec": {
   "display_name": "Python 3.8.8 ('base')",
   "language": "python",
   "name": "python3"
  },
  "language_info": {
   "codemirror_mode": {
    "name": "ipython",
    "version": 3
   },
   "file_extension": ".py",
   "mimetype": "text/x-python",
   "name": "python",
   "nbconvert_exporter": "python",
   "pygments_lexer": "ipython3",
   "version": "3.8.8"
  },
  "orig_nbformat": 4
 },
 "nbformat": 4,
 "nbformat_minor": 2
}
