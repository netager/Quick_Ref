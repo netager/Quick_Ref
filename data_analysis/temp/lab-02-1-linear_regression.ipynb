{
 "cells": [
  {
   "cell_type": "markdown",
   "metadata": {},
   "source": [
    "# Lab 2 Linear Regression"
   ]
  },
  {
   "cell_type": "code",
   "execution_count": 1,
   "metadata": {},
   "outputs": [
    {
     "name": "stdout",
     "output_type": "stream",
     "text": [
      "WARNING:tensorflow:From c:\\Users\\USER\\anaconda3\\lib\\site-packages\\tensorflow\\python\\compat\\v2_compat.py:107: disable_resource_variables (from tensorflow.python.ops.variable_scope) is deprecated and will be removed in a future version.\n",
      "Instructions for updating:\n",
      "non-resource variables are not supported in the long term\n"
     ]
    },
    {
     "data": {
      "text/plain": [
       "'2.10.0'"
      ]
     },
     "execution_count": 1,
     "metadata": {},
     "output_type": "execute_result"
    }
   ],
   "source": [
    "#import tensorflow as tf\n",
    "\n",
    "import tensorflow.compat.v1 as tf  # TensorFlow 1.0 버전 호환성 유지\n",
    "tf.disable_v2_behavior()\n",
    "\n",
    "tf.__version__"
   ]
  },
  {
   "cell_type": "code",
   "execution_count": 3,
   "metadata": {},
   "outputs": [
    {
     "name": "stdout",
     "output_type": "stream",
     "text": [
      "Step:  0 Cost Val:  3.4529064 W:  [-0.6433359] b:  [2.2330985]\n",
      "Step:  20 Cost Val:  0.8263619 W:  [-0.09104674] b:  [2.33713]\n",
      "Step:  40 Cost Val:  0.7295744 W:  [0.00546314] b:  [2.2471924]\n",
      "Step:  60 Cost Val:  0.6624207 W:  [0.05651015] b:  [2.1434767]\n",
      "Step:  80 Cost Val:  0.6016198 W:  [0.10126072] b:  [2.0429223]\n",
      "Step:  100 Cost Val:  0.54640085 W:  [0.14353707] b:  [1.9469298]\n",
      "Step:  120 Cost Val:  0.49625006 W:  [0.18379134] b:  [1.855433]\n",
      "Step:  140 Cost Val:  0.4507023 W:  [0.22215042] b:  [1.7682348]\n",
      "Step:  160 Cost Val:  0.40933514 W:  [0.2587065] b:  [1.6851343]\n",
      "Step:  180 Cost Val:  0.37176466 W:  [0.2935446] b:  [1.6059391]\n",
      "Step:  200 Cost Val:  0.33764264 W:  [0.32674542] b:  [1.530466]\n",
      "Step:  220 Cost Val:  0.30665252 W:  [0.3583859] b:  [1.4585398]\n",
      "Step:  240 Cost Val:  0.2785068 W:  [0.3885393] b:  [1.3899939]\n",
      "Step:  260 Cost Val:  0.25294423 W:  [0.41727573] b:  [1.3246692]\n",
      "Step:  280 Cost Val:  0.22972794 W:  [0.44466165] b:  [1.2624145]\n",
      "Step:  300 Cost Val:  0.20864266 W:  [0.47076055] b:  [1.2030858]\n",
      "Step:  320 Cost Val:  0.1894926 W:  [0.49563283] b:  [1.1465452]\n",
      "Step:  340 Cost Val:  0.17210023 W:  [0.51933616] b:  [1.0926617]\n",
      "Step:  360 Cost Val:  0.15630423 W:  [0.54192555] b:  [1.0413108]\n",
      "Step:  380 Cost Val:  0.14195794 W:  [0.5634535] b:  [0.9923729]\n",
      "Step:  400 Cost Val:  0.12892851 W:  [0.58396953] b:  [0.94573504]\n",
      "Step:  420 Cost Val:  0.11709496 W:  [0.60352135] b:  [0.901289]\n",
      "Step:  440 Cost Val:  0.10634748 W:  [0.6221545] b:  [0.8589317]\n",
      "Step:  460 Cost Val:  0.09658649 W:  [0.63991183] b:  [0.81856513]\n",
      "Step:  480 Cost Val:  0.087721415 W:  [0.6568346] b:  [0.78009564]\n",
      "Step:  500 Cost Val:  0.07966998 W:  [0.6729621] b:  [0.74343395]\n",
      "Step:  520 Cost Val:  0.07235753 W:  [0.6883317] b:  [0.70849526]\n",
      "Step:  540 Cost Val:  0.0657163 W:  [0.70297897] b:  [0.67519855]\n",
      "Step:  560 Cost Val:  0.059684556 W:  [0.7169379] b:  [0.6434667]\n",
      "Step:  580 Cost Val:  0.054206505 W:  [0.7302408] b:  [0.6132262]\n",
      "Step:  600 Cost Val:  0.04923122 W:  [0.74291843] b:  [0.5844068]\n",
      "Step:  620 Cost Val:  0.04471256 W:  [0.7550004] b:  [0.5569418]\n",
      "Step:  640 Cost Val:  0.04060866 W:  [0.7665145] b:  [0.5307675]\n",
      "Step:  660 Cost Val:  0.03688143 W:  [0.7774875] b:  [0.5058234]\n",
      "Step:  680 Cost Val:  0.033496294 W:  [0.7879448] b:  [0.48205143]\n",
      "Step:  700 Cost Val:  0.030421859 W:  [0.7979106] b:  [0.45939672]\n",
      "Step:  720 Cost Val:  0.027629608 W:  [0.8074081] b:  [0.4378068]\n",
      "Step:  740 Cost Val:  0.02509367 W:  [0.8164591] b:  [0.41723147]\n",
      "Step:  760 Cost Val:  0.022790452 W:  [0.8250849] b:  [0.39762303]\n",
      "Step:  780 Cost Val:  0.020698657 W:  [0.8333053] b:  [0.3789362]\n",
      "Step:  800 Cost Val:  0.018798849 W:  [0.8411393] b:  [0.36112764]\n",
      "Step:  820 Cost Val:  0.017073417 W:  [0.8486053] b:  [0.344156]\n",
      "Step:  840 Cost Val:  0.0155063495 W:  [0.85572016] b:  [0.32798186]\n",
      "Step:  860 Cost Val:  0.014083126 W:  [0.8625008] b:  [0.31256798]\n",
      "Step:  880 Cost Val:  0.012790511 W:  [0.8689629] b:  [0.29787838]\n",
      "Step:  900 Cost Val:  0.011616554 W:  [0.87512106] b:  [0.28387916]\n",
      "Step:  920 Cost Val:  0.010550338 W:  [0.8809899] b:  [0.2705379]\n",
      "Step:  940 Cost Val:  0.0095819915 W:  [0.88658285] b:  [0.25782368]\n",
      "Step:  960 Cost Val:  0.008702517 W:  [0.89191306] b:  [0.24570693]\n",
      "Step:  980 Cost Val:  0.007903764 W:  [0.89699274] b:  [0.23415966]\n",
      "Step:  1000 Cost Val:  0.007178323 W:  [0.9018337] b:  [0.22315504]\n",
      "Step:  1020 Cost Val:  0.0065194727 W:  [0.9064471] b:  [0.2126676]\n",
      "Step:  1040 Cost Val:  0.005921088 W:  [0.91084373] b:  [0.20267303]\n",
      "Step:  1060 Cost Val:  0.005377633 W:  [0.91503376] b:  [0.19314815]\n",
      "Step:  1080 Cost Val:  0.004884058 W:  [0.91902685] b:  [0.18407091]\n",
      "Step:  1100 Cost Val:  0.0044357735 W:  [0.9228323] b:  [0.17542027]\n",
      "Step:  1120 Cost Val:  0.004028642 W:  [0.9264589] b:  [0.16717616]\n",
      "Step:  1140 Cost Val:  0.003658871 W:  [0.92991513] b:  [0.15931948]\n",
      "Step:  1160 Cost Val:  0.0033230453 W:  [0.9332088] b:  [0.15183204]\n",
      "Step:  1180 Cost Val:  0.0030180467 W:  [0.9363478] b:  [0.1446965]\n",
      "Step:  1200 Cost Val:  0.002741039 W:  [0.9393391] b:  [0.13789636]\n",
      "Step:  1220 Cost Val:  0.0024894604 W:  [0.94218993] b:  [0.13141575]\n",
      "Step:  1240 Cost Val:  0.0022609672 W:  [0.94490683] b:  [0.1252397]\n",
      "Step:  1260 Cost Val:  0.0020534464 W:  [0.94749606] b:  [0.11935389]\n",
      "Step:  1280 Cost Val:  0.0018649731 W:  [0.9499635] b:  [0.11374474]\n",
      "Step:  1300 Cost Val:  0.0016937996 W:  [0.95231503] b:  [0.10839915]\n",
      "Step:  1320 Cost Val:  0.0015383344 W:  [0.95455605] b:  [0.10330478]\n",
      "Step:  1340 Cost Val:  0.0013971367 W:  [0.9566918] b:  [0.09844982]\n",
      "Step:  1360 Cost Val:  0.0012689036 W:  [0.9587271] b:  [0.09382303]\n",
      "Step:  1380 Cost Val:  0.0011524385 W:  [0.9606669] b:  [0.08941361]\n",
      "Step:  1400 Cost Val:  0.0010466612 W:  [0.9625153] b:  [0.08521147]\n",
      "Step:  1420 Cost Val:  0.0009505953 W:  [0.96427697] b:  [0.08120684]\n",
      "Step:  1440 Cost Val:  0.0008633441 W:  [0.9659558] b:  [0.07739042]\n",
      "Step:  1460 Cost Val:  0.0007841042 W:  [0.96755576] b:  [0.07375337]\n",
      "Step:  1480 Cost Val:  0.0007121365 W:  [0.9690804] b:  [0.07028727]\n",
      "Step:  1500 Cost Val:  0.0006467752 W:  [0.97053355] b:  [0.06698409]\n",
      "Step:  1520 Cost Val:  0.0005874132 W:  [0.9719184] b:  [0.06383611]\n",
      "Step:  1540 Cost Val:  0.00053349545 W:  [0.97323817] b:  [0.06083602]\n",
      "Step:  1560 Cost Val:  0.00048452857 W:  [0.9744959] b:  [0.05797692]\n",
      "Step:  1580 Cost Val:  0.00044005853 W:  [0.9756945] b:  [0.05525219]\n",
      "Step:  1600 Cost Val:  0.00039966576 W:  [0.97683674] b:  [0.05265552]\n",
      "Step:  1620 Cost Val:  0.00036298367 W:  [0.9779253] b:  [0.05018091]\n",
      "Step:  1640 Cost Val:  0.0003296676 W:  [0.9789628] b:  [0.04782262]\n",
      "Step:  1660 Cost Val:  0.00029941005 W:  [0.9799514] b:  [0.04557519]\n",
      "Step:  1680 Cost Val:  0.00027192882 W:  [0.9808936] b:  [0.04343329]\n",
      "Step:  1700 Cost Val:  0.0002469695 W:  [0.98179156] b:  [0.04139207]\n",
      "Step:  1720 Cost Val:  0.00022430228 W:  [0.9826473] b:  [0.0394468]\n",
      "Step:  1740 Cost Val:  0.0002037153 W:  [0.9834628] b:  [0.03759294]\n",
      "Step:  1760 Cost Val:  0.00018501608 W:  [0.98424] b:  [0.03582621]\n",
      "Step:  1780 Cost Val:  0.00016803546 W:  [0.9849807] b:  [0.03414249]\n",
      "Step:  1800 Cost Val:  0.00015261168 W:  [0.98568654] b:  [0.0325379]\n",
      "Step:  1820 Cost Val:  0.00013860408 W:  [0.9863592] b:  [0.03100875]\n",
      "Step:  1840 Cost Val:  0.00012588354 W:  [0.9870003] b:  [0.02955145]\n",
      "Step:  1860 Cost Val:  0.00011432883 W:  [0.9876112] b:  [0.02816264]\n",
      "Step:  1880 Cost Val:  0.00010383539 W:  [0.9881934] b:  [0.02683913]\n",
      "Step:  1900 Cost Val:  9.4305484e-05 W:  [0.98874825] b:  [0.02557781]\n",
      "Step:  1920 Cost Val:  8.5649175e-05 W:  [0.98927706] b:  [0.02437577]\n",
      "Step:  1940 Cost Val:  7.77898e-05 W:  [0.9897807] b:  [0.02323031]\n",
      "Step:  1960 Cost Val:  7.06496e-05 W:  [0.99026126] b:  [0.02213865]\n",
      "Step:  1980 Cost Val:  6.416519e-05 W:  [0.99071896] b:  [0.02109815]\n",
      "Step:  2000 Cost Val:  5.8275382e-05 W:  [0.9911551] b:  [0.02010659]\n"
     ]
    }
   ],
   "source": [
    "# Lab 2 Linear Regression\n",
    "tf.set_random_seed(777)  # for reproducibility\n",
    "\n",
    "# X and Y data\n",
    "x_train = [1, 2, 3]\n",
    "y_train = [1, 2, 3]\n",
    "\n",
    "# Try to find values for W and b to compute y_data = x_data * W + b\n",
    "# We know that W should be 1 and b should be 0\n",
    "# But let TensorFlow figure it out\n",
    "W = tf.Variable(tf.random_normal([1]), name=\"weight\")\n",
    "b = tf.Variable(tf.random_normal([1]), name=\"bias\")\n",
    "\n",
    "# Our hypothesis XW+b\n",
    "hypothesis = x_train * W + b\n",
    "\n",
    "# cost/loss function\n",
    "cost = tf.reduce_mean(tf.square(hypothesis - y_train))\n",
    "\n",
    "# optimizer\n",
    "train = tf.train.GradientDescentOptimizer(learning_rate=0.01).minimize(cost)\n",
    "\n",
    "# Launch the graph in a session.\n",
    "with tf.Session() as sess:\n",
    "    # Initializes global variables in the graph.\n",
    "    sess.run(tf.global_variables_initializer())\n",
    "\n",
    "    # Fit the line\n",
    "    for step in range(2001):\n",
    "        _, cost_val, W_val, b_val = sess.run([train, cost, W, b])\n",
    "\n",
    "        if step % 20 == 0:\n",
    "            print('Step: ', step, 'Cost Val: ', cost_val, 'W: ', W_val, 'b: ', b_val)"
   ]
  },
  {
   "cell_type": "code",
   "execution_count": null,
   "metadata": {},
   "outputs": [],
   "source": []
  }
 ],
 "metadata": {
  "interpreter": {
   "hash": "263930470851f494f0ed2879c35b57985588df20f9e529b86e97dd5eb9ddc466"
  },
  "kernelspec": {
   "display_name": "Python 3.9.7 ('base')",
   "language": "python",
   "name": "python3"
  },
  "language_info": {
   "codemirror_mode": {
    "name": "ipython",
    "version": 3
   },
   "file_extension": ".py",
   "mimetype": "text/x-python",
   "name": "python",
   "nbconvert_exporter": "python",
   "pygments_lexer": "ipython3",
   "version": "3.9.7"
  },
  "orig_nbformat": 4
 },
 "nbformat": 4,
 "nbformat_minor": 2
}
