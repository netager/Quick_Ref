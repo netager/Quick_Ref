{
 "cells": [
  {
   "cell_type": "markdown",
   "metadata": {},
   "source": [
    "# Lec-03 How to minimize cost minimize"
   ]
  },
  {
   "cell_type": "markdown",
   "metadata": {},
   "source": [
    "## Hypothesis and Cost\n",
    "- H(x) = Wx + b\n",
    "- cost(W,b) = "
   ]
  },
  {
   "cell_type": "markdown",
   "metadata": {},
   "source": [
    "## Simplified hypothesis\n",
    "- H(x) = Wx\n",
    "- cost(W) = "
   ]
  },
  {
   "cell_type": "markdown",
   "metadata": {},
   "source": [
    "## What cost(W) looks like?\n",
    "- cost(W) =\n",
    "    x = [1,2,3]\n",
    "    y = [1,2,3]\n",
    "    - W=1, cost(W)=0    \n",
    "    - W=0, cost(W)=4.67\n",
    "    - W=2, cost(W)=4.67\n",
    "- x축 : W, y축 : cost(W)     \n",
    " "
   ]
  },
  {
   "cell_type": "markdown",
   "metadata": {},
   "source": [
    "# Gradient descent algorithm\n",
    "- Minimize cost function\n",
    "- Gradient descent is used many minimization problems\n",
    "- For a given cost function, cost(W,b), it will find W, b to minimize cost\n",
    "- It can be applied to more general function: cost(W1, W2, ...)"
   ]
  },
  {
   "cell_type": "code",
   "execution_count": 17,
   "metadata": {},
   "outputs": [
    {
     "name": "stdout",
     "output_type": "stream",
     "text": [
      "40\n"
     ]
    }
   ],
   "source": [
    "import numpy as np\n",
    "W = np.arange(1,4)\n",
    "X = np.array([1,2,3])\n",
    "Y = np.array([1,2,3])\n",
    "cost1 = (sum((W*X - Y)**2))\n",
    "#cost = 1/len(X)(sum((W*X - Y)**2))\n",
    " \n",
    "print(cost1)\n"
   ]
  },
  {
   "cell_type": "code",
   "execution_count": 7,
   "metadata": {},
   "outputs": [
    {
     "data": {
      "text/plain": [
       "3"
      ]
     },
     "execution_count": 7,
     "metadata": {},
     "output_type": "execute_result"
    }
   ],
   "source": [
    "X=np.array([1,2,3])\n",
    "len(X)"
   ]
  },
  {
   "cell_type": "code",
   "execution_count": 18,
   "metadata": {},
   "outputs": [
    {
     "data": {
      "text/plain": [
       "array([1, 2, 3])"
      ]
     },
     "execution_count": 18,
     "metadata": {},
     "output_type": "execute_result"
    }
   ],
   "source": [
    "W"
   ]
  },
  {
   "cell_type": "code",
   "execution_count": null,
   "metadata": {},
   "outputs": [],
   "source": []
  }
 ],
 "metadata": {
  "interpreter": {
   "hash": "263930470851f494f0ed2879c35b57985588df20f9e529b86e97dd5eb9ddc466"
  },
  "kernelspec": {
   "display_name": "Python 3.9.7 ('base')",
   "language": "python",
   "name": "python3"
  },
  "language_info": {
   "codemirror_mode": {
    "name": "ipython",
    "version": 3
   },
   "file_extension": ".py",
   "mimetype": "text/x-python",
   "name": "python",
   "nbconvert_exporter": "python",
   "pygments_lexer": "ipython3",
   "version": "3.9.7"
  },
  "orig_nbformat": 4
 },
 "nbformat": 4,
 "nbformat_minor": 2
}
