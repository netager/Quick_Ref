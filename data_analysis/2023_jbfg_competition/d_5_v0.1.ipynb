{
 "cells": [
  {
   "attachments": {},
   "cell_type": "markdown",
   "metadata": {},
   "source": [
    "# 5-Credit Card Churn Customers, accuracy 96%"
   ]
  },
  {
   "cell_type": "code",
   "execution_count": null,
   "metadata": {},
   "outputs": [],
   "source": [
    "import pandas as pd\n",
    "import numpy as np\n",
    "import matplotlib.pyplot as plt\n",
    "%matplotlib inline\n",
    "import seaborn as sns"
   ]
  },
  {
   "cell_type": "code",
   "execution_count": null,
   "metadata": {},
   "outputs": [],
   "source": [
    "bank_churner_df = pd.read_csv(\"./data/bank_churner.csv\")\n",
    "bank_churner_df_org = bank_churner_df.copy()"
   ]
  },
  {
   "cell_type": "code",
   "execution_count": null,
   "metadata": {},
   "outputs": [],
   "source": [
    "bank_churner_df = pd.read_csv(\"./data/bank_churner.csv\")\n",
    "bank_churner_df_org = bank_churner_df.copy()\n",
    "\n",
    "def test_transform(x_test):\n",
    "    ''' 전처리 함수 정의'''\n",
    "    \n",
    "    # 불필요 컬럼 제거(고객번호)\n",
    "    # -------------------------\n",
    "    x_test = x_test.drop('cstno', axis=1)\n",
    "    \n",
    "    \n",
    "    # 성별 변환('F':0, 'M':1)\n",
    "    # -------------------------\n",
    "    x_test['sex']=x_test['sex'].replace({'F':0,'M':1})\n",
    "    \n",
    "    \n",
    "    # # 다중공선성 컬럼 제거\n",
    "    # # -------------------------\n",
    "    # x_test = x_test.drop('mon_on_book', axis = 1)\n",
    "    # x_test = x_test.drop('mean_open_to_buy', axis = 1)\n",
    "    # x_test = x_test.drop('tot_trans_cnt_for_12m', axis = 1)\n",
    "    \n",
    "    return x_test\n",
    "\n",
    "bank_churner_df_org = test_transform(bank_churner_df_org)\n"
   ]
  },
  {
   "cell_type": "code",
   "execution_count": null,
   "metadata": {},
   "outputs": [],
   "source": [
    "bank_churner_df_org"
   ]
  },
  {
   "cell_type": "code",
   "execution_count": null,
   "metadata": {},
   "outputs": [],
   "source": [
    "correlation=bank_churner_df_org.corr()\n",
    "plt.figure(figsize=(12,6))\n",
    "sns.heatmap(correlation,cmap = sns.diverging_palette(20, 220, n = 200), annot =False)\n",
    "plt.show()"
   ]
  },
  {
   "cell_type": "code",
   "execution_count": null,
   "metadata": {},
   "outputs": [],
   "source": [
    "bank_churner_df_org.info()"
   ]
  },
  {
   "cell_type": "code",
   "execution_count": null,
   "metadata": {},
   "outputs": [],
   "source": [
    "plt.figure(figsize=(12,6))\n",
    "plt.scatter(bank_churner_df_org['credit_line'],bank_churner_df_org['mean_open_to_buy'])\n",
    "plt.xlabel('credit_line')\n",
    "plt.ylabel('mean_open_to_buy')"
   ]
  },
  {
   "cell_type": "code",
   "execution_count": null,
   "metadata": {},
   "outputs": [],
   "source": [
    "plt.figure(figsize=(12,6))\n",
    "plt.scatter(bank_churner_df_org['tot_trans_amt_for_12m'],bank_churner_df_org['tot_trans_cnt_for_12m'])\n",
    "plt.xlabel('tot_trans_amt_for_12m')\n",
    "plt.ylabel('tot_trans_cnt_for_12m')"
   ]
  },
  {
   "cell_type": "code",
   "execution_count": null,
   "metadata": {},
   "outputs": [],
   "source": [
    "plt.figure(figsize=(12,6))\n",
    "plt.scatter(bank_churner_df_org['mean_open_to_buy'],bank_churner_df_org['mean_util_pct'])\n",
    "plt.xlabel('mean_open_to_buy')\n",
    "plt.ylabel('mean_util_pct')"
   ]
  },
  {
   "cell_type": "code",
   "execution_count": null,
   "metadata": {},
   "outputs": [],
   "source": [
    "plt.figure(figsize=(12,6))\n",
    "plt.scatter(bank_churner_df_org['credit_line'],bank_churner_df_org['mean_util_pct'])\n",
    "plt.xlabel('credit_line')\n",
    "plt.ylabel('mean_util_pct')\n"
   ]
  },
  {
   "cell_type": "code",
   "execution_count": null,
   "metadata": {},
   "outputs": [],
   "source": [
    "plt.figure(figsize=(12,6))\n",
    "plt.scatter(bank_churner_df_org['credit_line'],bank_churner_df_org['card_type'])\n",
    "plt.xlabel('credit_line')\n",
    "plt.ylabel('card_type')\n"
   ]
  },
  {
   "cell_type": "code",
   "execution_count": null,
   "metadata": {},
   "outputs": [],
   "source": [
    "correlation1=bank_churner_df_org.corr()\n",
    "plt.figure(figsize=(12,6))\n",
    "sns.heatmap(correlation1,cmap = sns.diverging_palette(20, 220, n = 200), annot =False)\n",
    "plt.show()"
   ]
  },
  {
   "attachments": {},
   "cell_type": "markdown",
   "metadata": {},
   "source": [
    "# 예측 단계"
   ]
  },
  {
   "attachments": {},
   "cell_type": "markdown",
   "metadata": {},
   "source": [
    "## Null 처리"
   ]
  },
  {
   "cell_type": "code",
   "execution_count": null,
   "metadata": {},
   "outputs": [],
   "source": [
    "# mean_util_pct 살리고 null 처리\n",
    "#bank_churner_df_org.drop(columns = ['mean_util_pct'], inplace=True)\n",
    "bank_churner_df_org.dropna(axis=0, inplace=True)"
   ]
  },
  {
   "attachments": {},
   "cell_type": "markdown",
   "metadata": {},
   "source": [
    "## 표준화, 스케일링"
   ]
  },
  {
   "cell_type": "code",
   "execution_count": null,
   "metadata": {},
   "outputs": [],
   "source": [
    "cat1 = bank_churner_df_org.select_dtypes(exclude = ['int64','float64']).columns\n",
    "int1 = bank_churner_df_org.select_dtypes(include = ['int64']).columns\n",
    "float1 = bank_churner_df_org.select_dtypes(include = ['Float64']).columns\n",
    "\n",
    "\n",
    "bank_churner_df_org = pd.get_dummies(bank_churner_df_org, columns = cat1)\n",
    "\n",
    "from sklearn.preprocessing import MinMaxScaler\n",
    "for col in bank_churner_df_org[float1]:\n",
    "    bank_churner_df_org[col] = MinMaxScaler().fit_transform(bank_churner_df_org[[col]])\n",
    "\n",
    "for col in bank_churner_df_org[int1]:\n",
    "    bank_churner_df_org[col] = MinMaxScaler().fit_transform(bank_churner_df_org[[col]])\n",
    "\n",
    "print('New Number of Features: %d'%(bank_churner_df_org.shape[1]))"
   ]
  },
  {
   "attachments": {},
   "cell_type": "markdown",
   "metadata": {},
   "source": [
    "## 중요 Feature 설정"
   ]
  },
  {
   "cell_type": "code",
   "execution_count": null,
   "metadata": {},
   "outputs": [],
   "source": [
    "corr1 = bank_churner_df_org.corr()\n",
    "corr1.sort_values([\"is_churned\"], ascending = False, inplace = True)\n",
    "correlations2 = corr1.is_churned\n",
    "\n",
    "a = correlations2[correlations2 > 0.1]\n",
    "b = correlations2[correlations2 < -0.1]\n",
    "\n",
    "top_corr_features = a.append(b)\n",
    "\n",
    "top_corr_features\n",
    "print(top_corr_features)"
   ]
  },
  {
   "cell_type": "code",
   "execution_count": null,
   "metadata": {},
   "outputs": [],
   "source": [
    "from sklearn.model_selection import train_test_split\n",
    "from sklearn.ensemble import RandomForestClassifier"
   ]
  },
  {
   "attachments": {},
   "cell_type": "markdown",
   "metadata": {},
   "source": [
    "## 예측 데이터 생성"
   ]
  },
  {
   "cell_type": "code",
   "execution_count": null,
   "metadata": {},
   "outputs": [],
   "source": [
    "x=bank_churner_df_org[['contact_cnt_for_12m','months_inact_for_12m','tot_amt_ratio_q4_q1','tot_product_count','tot_trans_amt_for_12m','tot_revol_balance','tot_cnt_ratio_q4_q1','tot_trans_cnt_for_12m']]\n",
    "y=bank_churner_df_org['is_churned']"
   ]
  },
  {
   "cell_type": "code",
   "execution_count": null,
   "metadata": {},
   "outputs": [],
   "source": [
    "x_train, x_test,y_train,y_test=train_test_split(x,y,test_size=0.3,random_state=42)"
   ]
  },
  {
   "cell_type": "code",
   "execution_count": null,
   "metadata": {},
   "outputs": [],
   "source": [
    "model=RandomForestClassifier(n_estimators=100)\n",
    "model.fit(x_train,y_train)"
   ]
  },
  {
   "cell_type": "code",
   "execution_count": null,
   "metadata": {},
   "outputs": [],
   "source": [
    "model_pred=model.predict(x_test)"
   ]
  },
  {
   "cell_type": "code",
   "execution_count": null,
   "metadata": {},
   "outputs": [],
   "source": [
    "from sklearn.metrics import classification_report"
   ]
  },
  {
   "cell_type": "code",
   "execution_count": null,
   "metadata": {},
   "outputs": [],
   "source": [
    "print(classification_report(y_test,model_pred))"
   ]
  },
  {
   "attachments": {},
   "cell_type": "markdown",
   "metadata": {},
   "source": [
    "## 회귀분석"
   ]
  },
  {
   "cell_type": "code",
   "execution_count": null,
   "metadata": {},
   "outputs": [],
   "source": [
    "from sklearn.linear_model import LogisticRegression"
   ]
  },
  {
   "cell_type": "code",
   "execution_count": null,
   "metadata": {},
   "outputs": [],
   "source": [
    "model2=LogisticRegression().fit(x_train,y_train)"
   ]
  },
  {
   "cell_type": "code",
   "execution_count": null,
   "metadata": {},
   "outputs": [],
   "source": [
    "y_test_pred=model2.predict(x_test)"
   ]
  },
  {
   "cell_type": "code",
   "execution_count": null,
   "metadata": {},
   "outputs": [],
   "source": [
    "print(classification_report(y_test,y_test_pred))"
   ]
  },
  {
   "attachments": {},
   "cell_type": "markdown",
   "metadata": {},
   "source": [
    "# 다중 공선성 제거후 재수행"
   ]
  },
  {
   "attachments": {},
   "cell_type": "markdown",
   "metadata": {},
   "source": [
    "## 데이터 로딩"
   ]
  },
  {
   "cell_type": "code",
   "execution_count": null,
   "metadata": {},
   "outputs": [],
   "source": [
    "bank_churner_df = pd.read_csv(\"./data/bank_churner.csv\")\n",
    "bank_churner_df_org = bank_churner_df.copy()\n",
    "\n",
    "def test_transform(x_test):\n",
    "    ''' 전처리 함수 정의'''\n",
    "    \n",
    "    # 불필요 컬럼 제거(고객번호)\n",
    "    # -------------------------\n",
    "    x_test = x_test.drop('cstno', axis=1)\n",
    "    \n",
    "    \n",
    "    # 성별 변환('F':0, 'M':1)\n",
    "    # -------------------------\n",
    "    x_test['sex']=x_test['sex'].replace({'F':0,'M':1})\n",
    "    \n",
    "    \n",
    "    # 다중공선성 컬럼 제거\n",
    "    # -------------------------\n",
    "    x_test = x_test.drop('mon_on_book', axis = 1)\n",
    "    x_test = x_test.drop('mean_open_to_buy', axis = 1)\n",
    "    x_test = x_test.drop('tot_trans_cnt_for_12m', axis = 1)\n",
    "    \n",
    "    return x_test\n",
    "\n",
    "bank_churner_df_org = test_transform(bank_churner_df_org)\n"
   ]
  },
  {
   "attachments": {},
   "cell_type": "markdown",
   "metadata": {},
   "source": [
    "## Null 처리"
   ]
  },
  {
   "cell_type": "code",
   "execution_count": null,
   "metadata": {},
   "outputs": [],
   "source": [
    "bank_churner_df_org.drop(columns = ['mean_util_pct'], inplace=True)\n",
    "bank_churner_df_org.dropna(axis=0, inplace=True)"
   ]
  },
  {
   "attachments": {},
   "cell_type": "markdown",
   "metadata": {},
   "source": [
    "## 표준화, 스케일링"
   ]
  },
  {
   "cell_type": "code",
   "execution_count": null,
   "metadata": {},
   "outputs": [],
   "source": [
    "cat1 = bank_churner_df_org.select_dtypes(exclude = ['int64','float64']).columns\n",
    "int1 = bank_churner_df_org.select_dtypes(include = ['int64']).columns\n",
    "float1 = bank_churner_df_org.select_dtypes(include = ['Float64']).columns\n",
    "\n",
    "\n",
    "bank_churner_df_org = pd.get_dummies(bank_churner_df_org, columns = cat1)\n",
    "\n",
    "from sklearn.preprocessing import MinMaxScaler\n",
    "for col in bank_churner_df_org[float1]:\n",
    "    bank_churner_df_org[col] = MinMaxScaler().fit_transform(bank_churner_df_org[[col]])\n",
    "\n",
    "for col in bank_churner_df_org[int1]:\n",
    "    bank_churner_df_org[col] = MinMaxScaler().fit_transform(bank_churner_df_org[[col]])\n",
    "\n",
    "print('New Number of Features: %d'%(bank_churner_df_org.shape[1]))"
   ]
  },
  {
   "attachments": {},
   "cell_type": "markdown",
   "metadata": {},
   "source": [
    "## 중요 Feature 설정"
   ]
  },
  {
   "cell_type": "code",
   "execution_count": null,
   "metadata": {},
   "outputs": [],
   "source": [
    "corr1 = bank_churner_df_org.corr()\n",
    "corr1.sort_values([\"is_churned\"], ascending = False, inplace = True)\n",
    "correlations2 = corr1.is_churned\n",
    "\n",
    "a = correlations2[correlations2 > 0.1]\n",
    "b = correlations2[correlations2 < -0.1]\n",
    "\n",
    "top_corr_features = a.append(b)\n",
    "\n",
    "top_corr_features\n",
    "print(top_corr_features)"
   ]
  },
  {
   "attachments": {},
   "cell_type": "markdown",
   "metadata": {},
   "source": [
    "## 예측 데이터 생성"
   ]
  },
  {
   "cell_type": "code",
   "execution_count": null,
   "metadata": {},
   "outputs": [],
   "source": [
    "x=bank_churner_df_org[['contact_cnt_for_12m','months_inact_for_12m','tot_amt_ratio_q4_q1','tot_product_count','tot_trans_amt_for_12m','tot_revol_balance','tot_cnt_ratio_q4_q1']]\n",
    "y=bank_churner_df_org['is_churned']"
   ]
  },
  {
   "cell_type": "code",
   "execution_count": null,
   "metadata": {},
   "outputs": [],
   "source": [
    "x_train, x_test,y_train,y_test=train_test_split(x,y,test_size=0.3,random_state=42)"
   ]
  },
  {
   "cell_type": "code",
   "execution_count": null,
   "metadata": {},
   "outputs": [],
   "source": [
    "model=RandomForestClassifier(n_estimators=100)\n",
    "model.fit(x_train,y_train)"
   ]
  },
  {
   "cell_type": "code",
   "execution_count": null,
   "metadata": {},
   "outputs": [],
   "source": [
    "model_pred=model.predict(x_test)"
   ]
  },
  {
   "cell_type": "code",
   "execution_count": null,
   "metadata": {},
   "outputs": [],
   "source": [
    "print(classification_report(y_test,model_pred))"
   ]
  },
  {
   "attachments": {},
   "cell_type": "markdown",
   "metadata": {},
   "source": [
    "## 회귀분석"
   ]
  },
  {
   "cell_type": "code",
   "execution_count": null,
   "metadata": {},
   "outputs": [],
   "source": [
    "from sklearn.linear_model import LogisticRegression"
   ]
  },
  {
   "cell_type": "code",
   "execution_count": null,
   "metadata": {},
   "outputs": [],
   "source": [
    "model2=LogisticRegression().fit(x_train,y_train)"
   ]
  },
  {
   "cell_type": "code",
   "execution_count": null,
   "metadata": {},
   "outputs": [],
   "source": [
    "y_test_pred=model2.predict(x_test)"
   ]
  },
  {
   "cell_type": "code",
   "execution_count": null,
   "metadata": {},
   "outputs": [],
   "source": [
    "print(classification_report(y_test,y_test_pred))"
   ]
  }
 ],
 "metadata": {
  "kernelspec": {
   "display_name": "base",
   "language": "python",
   "name": "python3"
  },
  "language_info": {
   "codemirror_mode": {
    "name": "ipython",
    "version": 3
   },
   "file_extension": ".py",
   "mimetype": "text/x-python",
   "name": "python",
   "nbconvert_exporter": "python",
   "pygments_lexer": "ipython3",
   "version": "3.9.7"
  },
  "orig_nbformat": 4
 },
 "nbformat": 4,
 "nbformat_minor": 2
}
