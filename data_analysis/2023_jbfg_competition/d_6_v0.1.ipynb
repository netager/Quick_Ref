{
 "cells": [
  {
   "cell_type": "code",
   "execution_count": null,
   "metadata": {},
   "outputs": [],
   "source": [
    "import pandas as pd\n",
    "import seaborn as sns\n",
    "import matplotlib.pyplot as plt\n",
    "import numpy as np"
   ]
  },
  {
   "cell_type": "code",
   "execution_count": null,
   "metadata": {},
   "outputs": [],
   "source": [
    "bank_churner_df = pd.read_csv(\"./data/bank_churner.csv\")\n",
    "bank_churner_df_org = bank_churner_df.copy()\n",
    "\n",
    "def test_transform(x_test):\n",
    "    ''' 전처리 함수 정의'''\n",
    "    \n",
    "    # 불필요 컬럼 제거(고객번호)\n",
    "    # -------------------------\n",
    "    x_test = x_test.drop('cstno', axis=1)\n",
    "    \n",
    "    \n",
    "    # 성별 변환('F':0, 'M':1)\n",
    "    # -------------------------\n",
    "    #x_test['sex']=x_test['sex'].replace({'F':0,'M':1})\n",
    "    \n",
    "    \n",
    "    # # 다중공선성 컬럼 제거\n",
    "    # # -------------------------\n",
    "    # x_test = x_test.drop('mon_on_book', axis = 1)\n",
    "    # x_test = x_test.drop('mean_open_to_buy', axis = 1)\n",
    "    # x_test = x_test.drop('tot_trans_cnt_for_12m', axis = 1)\n",
    "    \n",
    "    \n",
    "    # Null 처리\n",
    "    x_test.drop(columns = ['mean_util_pct'], inplace=True)\n",
    "    x_test.dropna(axis=0, inplace=True)\n",
    "    \n",
    "    return x_test\n",
    "\n",
    "bank_churner_df_org = test_transform(bank_churner_df_org)"
   ]
  },
  {
   "cell_type": "code",
   "execution_count": null,
   "metadata": {},
   "outputs": [],
   "source": [
    "bank_churner_df_org.info()"
   ]
  },
  {
   "cell_type": "code",
   "execution_count": null,
   "metadata": {},
   "outputs": [],
   "source": [
    "# Creating dummy variables for the categorical features\n",
    "dummy = pd.get_dummies(bank_churner_df_org, columns=['sex', 'education', 'marital_stat', 'imcome_cat', 'card_type'])\n",
    "bank_churner_df_org = pd.concat([bank_churner_df_org, dummy], axis=1)\n",
    "bank_churner_df_org.drop(columns=['sex', 'education', 'marital_stat', 'imcome_cat', 'card_type'], inplace=True)\n",
    "bank_churner_df_org = bank_churner_df_org.loc[:, ~bank_churner_df_org.columns.duplicated()]\n",
    "bank_churner_df_org.info()"
   ]
  },
  {
   "cell_type": "code",
   "execution_count": null,
   "metadata": {},
   "outputs": [],
   "source": [
    "from sklearn.preprocessing import LabelEncoder\n",
    "from sklearn.model_selection import train_test_split\n",
    "\n",
    "# Inicializando o codificador\n",
    "le = LabelEncoder()\n",
    "\n",
    "# Codificando a variável target\n",
    "bank_churner_df_org['is_churned'] = le.fit_transform(bank_churner_df_org['is_churned'])\n",
    "\n",
    "# Agora dividindo os dados\n",
    "X = bank_churner_df_org.drop(columns=[\"is_churned\"])\n",
    "y = bank_churner_df_org[\"is_churned\"]\n",
    "\n",
    "X_train, X_test, y_train, y_test = train_test_split(X, y, test_size=0.2, random_state=42, shuffle=True)"
   ]
  },
  {
   "cell_type": "code",
   "execution_count": null,
   "metadata": {},
   "outputs": [],
   "source": [
    "from sklearn.preprocessing import MinMaxScaler\n",
    "\n",
    "req_cols = ['Customer_Age', 'Dependent_count', 'Months_on_book', 'Total_Relationship_Count',\n",
    "            'Months_Inactive_12_mon', 'Contacts_Count_12_mon', 'Credit_Limit', 'Total_Revolving_Bal',\n",
    "            'Avg_Open_To_Buy', 'Total_Amt_Chng_Q4_Q1', 'Total_Trans_Amt', 'Total_Trans_Ct', 'Total_Ct_Chng_Q4_Q1',\n",
    "            'Avg_Utilization_Ratio']\n",
    "\n",
    "#scaler = MinMaxScaler()\n",
    "\n",
    "#X_train = scaler.fit_transform(X_train[req_cols])\n",
    "\n",
    "#X_test = scaler.transform(X_test[req_cols])\n",
    "\n",
    "from sklearn.preprocessing import StandardScaler\n",
    "\n",
    "# Cria o normalizador\n",
    "scaler = StandardScaler()\n",
    "\n",
    "# Ajusta o normalizador aos dados de treinamento e transforma\n",
    "X_train = scaler.fit_transform(X_train)\n",
    "\n",
    "# Usa o mesmo normalizador para transformar os dados de teste\n",
    "X_test = scaler.transform(X_test)"
   ]
  }
 ],
 "metadata": {
  "kernelspec": {
   "display_name": "base",
   "language": "python",
   "name": "python3"
  },
  "language_info": {
   "codemirror_mode": {
    "name": "ipython",
    "version": 3
   },
   "file_extension": ".py",
   "mimetype": "text/x-python",
   "name": "python",
   "nbconvert_exporter": "python",
   "pygments_lexer": "ipython3",
   "version": "3.9.7"
  },
  "orig_nbformat": 4
 },
 "nbformat": 4,
 "nbformat_minor": 2
}
