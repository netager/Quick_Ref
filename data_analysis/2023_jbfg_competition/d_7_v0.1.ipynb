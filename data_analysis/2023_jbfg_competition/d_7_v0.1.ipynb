{
 "cells": [
  {
   "cell_type": "code",
   "execution_count": null,
   "metadata": {},
   "outputs": [],
   "source": [
    "!pip install -q feature_engine"
   ]
  },
  {
   "cell_type": "code",
   "execution_count": null,
   "metadata": {},
   "outputs": [],
   "source": [
    "!pip install shap"
   ]
  },
  {
   "cell_type": "code",
   "execution_count": null,
   "metadata": {},
   "outputs": [],
   "source": [
    "!pip install catboost"
   ]
  },
  {
   "cell_type": "code",
   "execution_count": null,
   "metadata": {},
   "outputs": [],
   "source": [
    "# import libraries\n",
    "import numpy as np # linear algebra\n",
    "import pandas as pd # data processing, CSV file I/O (e.g. pd.read_csv)\n",
    "\n",
    "import warnings \n",
    "warnings.filterwarnings(\"ignore\")\n",
    "\n",
    "import shap\n",
    "import matplotlib.pyplot as plt\n",
    "from catboost import Pool, CatBoostClassifier\n",
    "from sklearn.metrics import roc_auc_score\n",
    "from sklearn.model_selection import train_test_split\n",
    "from feature_engine.encoding import RareLabelEncoder\n",
    "from sklearn.feature_extraction.text import CountVectorizer\n",
    "import ast\n",
    "\n",
    "pd.set_option('display.max_rows', 1000)"
   ]
  },
  {
   "cell_type": "code",
   "execution_count": null,
   "metadata": {},
   "outputs": [],
   "source": [
    "bank_churner_df = pd.read_csv(\"./data/bank_churner.csv\")\n",
    "bank_churner_df_org = bank_churner_df.copy()\n",
    "\n",
    "def test_transform(x_test):\n",
    "    ''' 전처리 함수 정의'''\n",
    "    \n",
    "    # 불필요 컬럼 제거(고객번호)\n",
    "    # -------------------------\n",
    "    x_test = x_test.drop('cstno', axis=1)\n",
    "    \n",
    "    \n",
    "    # 성별 변환('F':0, 'M':1)\n",
    "    # -------------------------\n",
    "    #x_test['sex']=x_test['sex'].replace({'F':0,'M':1})\n",
    "    \n",
    "    \n",
    "    # # 다중공선성 컬럼 제거\n",
    "    # # -------------------------\n",
    "    # x_test = x_test.drop('mon_on_book', axis = 1)\n",
    "    # x_test = x_test.drop('mean_open_to_buy', axis = 1)\n",
    "    # x_test = x_test.drop('tot_trans_cnt_for_12m', axis = 1)\n",
    "    \n",
    "    \n",
    "    # Null 처리\n",
    "    x_test.drop(columns = ['mean_util_pct'], inplace=True)\n",
    "    x_test.dropna(axis=0, inplace=True)\n",
    "    \n",
    "    return x_test\n",
    "\n",
    "bank_churner_df_org = test_transform(bank_churner_df_org)\n",
    "df = bank_churner_df_org.copy()"
   ]
  },
  {
   "cell_type": "code",
   "execution_count": null,
   "metadata": {},
   "outputs": [],
   "source": [
    "df.info()"
   ]
  },
  {
   "cell_type": "code",
   "execution_count": null,
   "metadata": {},
   "outputs": [],
   "source": [
    "int(False)"
   ]
  },
  {
   "cell_type": "code",
   "execution_count": null,
   "metadata": {},
   "outputs": [],
   "source": [
    "# select main label\n",
    "main_label = 'is_churned'\n",
    "# df[main_label] = (df[main_label]!='Existing Customer').astype(int)\n",
    "# group columns by larger bins\n",
    "df['age'] = df['age'].apply(lambda x: 5*round(1/5*x))\n",
    "df['mon_on_book'] = df['mon_on_book'].apply(lambda x: 6*round(1/6*x))\n",
    "df['tot_amt_ratio_q4_q1'] = df['tot_amt_ratio_q4_q1'].apply(lambda x: 1/10*round(10*x))\n",
    "df['tot_cnt_ratio_q4_q1'] = df['tot_cnt_ratio_q4_q1'].apply(lambda x: 1/10*round(10*x))\n",
    "# df['mean_util_pct '] = df['mean_util_pct '].apply(lambda x: 1/10*round(10*x))\n",
    "# log10 transform columns and group by larger bins\n",
    "for col in ['credit_line', 'tot_revol_balance', 'mean_open_to_buy', 'tot_trans_amt_for_12m', 'tot_trans_cnt_for_12m']:\n",
    "    df[f'log10_{col}'] = df[col].apply(lambda x: 1/5*round(5*np.log10(1+x)))\n",
    "    df = df.drop([col], axis=1)\n",
    "\n",
    "# set up the rare label encoder limiting number of categories to max_n_categories\n",
    "for col in ['sex', 'education', 'marital_stat', 'imcome_cat', 'card_type']:\n",
    "    encoder = RareLabelEncoder(n_categories=1, max_n_categories=50, replace_with='Other', tol=20/df.shape[0])\n",
    "    df[col] = encoder.fit_transform(df[[col]])\n",
    "print(df.shape)\n",
    "df.sample(5).T"
   ]
  },
  {
   "cell_type": "code",
   "execution_count": null,
   "metadata": {},
   "outputs": [],
   "source": [
    "df.describe().T"
   ]
  },
  {
   "attachments": {},
   "cell_type": "markdown",
   "metadata": {},
   "source": [
    "## 머신 러닝"
   ]
  },
  {
   "cell_type": "code",
   "execution_count": null,
   "metadata": {},
   "outputs": [],
   "source": [
    "# initialize data\n",
    "y = df[main_label].values.reshape(-1,)\n",
    "X = df.drop([main_label], axis=1)\n",
    "cat_cols = df.select_dtypes(include=['object']).columns\n",
    "cat_cols_idx = [list(X.columns).index(c) for c in cat_cols]\n",
    "X_train,X_test,y_train,y_test = train_test_split(X, y, test_size=0.5, random_state=0)\n",
    "X_train.shape, X_test.shape, y_train.shape, y_test.shape"
   ]
  },
  {
   "cell_type": "code",
   "execution_count": null,
   "metadata": {},
   "outputs": [],
   "source": [
    "# initialize Pool\n",
    "train_pool = Pool(X_train, \n",
    "                  y_train, \n",
    "                  cat_features=cat_cols_idx)\n",
    "test_pool = Pool(X_test,\n",
    "                 y_test,\n",
    "                 cat_features=cat_cols_idx)\n",
    "# specify the training parameters \n",
    "model = CatBoostClassifier(iterations=1200,\n",
    "                           depth=5,\n",
    "                           border_count=22,\n",
    "                           l2_leaf_reg=0.3,\n",
    "                           learning_rate=3e-2,\n",
    "                           verbose=0)\n",
    "\n",
    "#train the model\n",
    "model.fit(train_pool)\n",
    "# make the prediction using the resulting model\n",
    "y_train_pred = model.predict_proba(train_pool)[:,1]\n",
    "y_test_pred = model.predict_proba(test_pool)[:,1]\n",
    "roc_auc_train = roc_auc_score(y_train, y_train_pred)\n",
    "roc_auc_test = roc_auc_score(y_test, y_test_pred)\n",
    "print(f\"ROC AUC score for train {round(roc_auc_train,4)}, and for test {round(roc_auc_test,4)}\")"
   ]
  },
  {
   "cell_type": "code",
   "execution_count": null,
   "metadata": {},
   "outputs": [],
   "source": [
    "# calculating the baseline ROC AUC score assuming the same probability from training labels to test\n",
    "roc_auc_baseline = roc_auc_score(y_test, [np.mean(y_train)]*len(y_test))\n",
    "print(roc_auc_baseline)"
   ]
  },
  {
   "attachments": {},
   "cell_type": "markdown",
   "metadata": {},
   "source": [
    "## Explanations with SHAP values"
   ]
  },
  {
   "cell_type": "code",
   "execution_count": null,
   "metadata": {},
   "outputs": [],
   "source": [
    "shap.initjs()\n",
    "ex = shap.TreeExplainer(model)\n",
    "print(f\"Average churn probability is {round(np.mean(y_test),4)}\")\n",
    "shap_values = ex.shap_values(X_test)\n",
    "shap.summary_plot(shap_values, X_test, max_display=30)"
   ]
  },
  {
   "cell_type": "code",
   "execution_count": null,
   "metadata": {},
   "outputs": [],
   "source": [
    "def show_shap(col, shap_values=shap_values, label=main_label, X_test=X_test, ylabel='SHAP value'):\n",
    "    df_infl = X_test.copy()\n",
    "    df_infl['shap_'] = shap_values[:,df_infl.columns.tolist().index(col)]\n",
    "    gain = round(df_infl.groupby(col).mean()['shap_'],4)\n",
    "    gain_std = round(df_infl.groupby(col).std()['shap_'],4)\n",
    "    cnt = df_infl.groupby(col).count()['shap_']\n",
    "    dd_dict = {'col': list(gain.index), 'gain': list(gain.values), 'gain_std': list(gain_std.values), 'count': cnt}\n",
    "    df_res = pd.DataFrame.from_dict(dd_dict).sort_values('gain', ascending=False).set_index('col')\n",
    "    plt.figure(figsize=(8,6))\n",
    "    plt.errorbar(df_res.index, df_res['gain'], yerr=df_res['gain_std'], fmt=\"o\", color=\"r\")\n",
    "    plt.title(f'SHAP values for column {col}, label {label}')\n",
    "    plt.ylabel(ylabel)\n",
    "    plt.tick_params(axis=\"x\", rotation=90)\n",
    "    plt.show();\n",
    "    print(df_res)\n",
    "    return\n",
    "\n",
    "for col in X_test.columns:\n",
    "    print()\n",
    "    print(col)\n",
    "    print()\n",
    "    show_shap(col, shap_values, label=main_label, X_test=X_test)"
   ]
  }
 ],
 "metadata": {
  "kernelspec": {
   "display_name": "base",
   "language": "python",
   "name": "python3"
  },
  "language_info": {
   "codemirror_mode": {
    "name": "ipython",
    "version": 3
   },
   "file_extension": ".py",
   "mimetype": "text/x-python",
   "name": "python",
   "nbconvert_exporter": "python",
   "pygments_lexer": "ipython3",
   "version": "3.9.7"
  },
  "orig_nbformat": 4
 },
 "nbformat": 4,
 "nbformat_minor": 2
}
