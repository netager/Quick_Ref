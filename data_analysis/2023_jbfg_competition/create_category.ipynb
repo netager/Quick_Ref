{
 "cells": [
  {
   "cell_type": "code",
   "execution_count": 1,
   "metadata": {},
   "outputs": [],
   "source": [
    "import pandas as pd"
   ]
  },
  {
   "cell_type": "code",
   "execution_count": 4,
   "metadata": {},
   "outputs": [],
   "source": [
    "df = pd.read_csv(\"./data/bank_churner.csv\")"
   ]
  },
  {
   "cell_type": "code",
   "execution_count": 5,
   "metadata": {},
   "outputs": [
    {
     "name": "stdout",
     "output_type": "stream",
     "text": [
      "<class 'pandas.core.frame.DataFrame'>\n",
      "RangeIndex: 8101 entries, 0 to 8100\n",
      "Data columns (total 21 columns):\n",
      " #   Column                 Non-Null Count  Dtype  \n",
      "---  ------                 --------------  -----  \n",
      " 0   cstno                  8101 non-null   int64  \n",
      " 1   is_churned             8101 non-null   int64  \n",
      " 2   age                    8101 non-null   int64  \n",
      " 3   sex                    7293 non-null   object \n",
      " 4   dependent_num          8101 non-null   int64  \n",
      " 5   education              8101 non-null   object \n",
      " 6   marital_stat           8101 non-null   object \n",
      " 7   imcome_cat             6482 non-null   object \n",
      " 8   card_type              8101 non-null   object \n",
      " 9   mon_on_book            8101 non-null   int64  \n",
      " 10  tot_product_count      8101 non-null   int64  \n",
      " 11  months_inact_for_12m   8101 non-null   int64  \n",
      " 12  contact_cnt_for_12m    8101 non-null   int64  \n",
      " 13  credit_line            8101 non-null   float64\n",
      " 14  tot_revol_balance      6580 non-null   float64\n",
      " 15  mean_open_to_buy       8101 non-null   float64\n",
      " 16  tot_amt_ratio_q4_q1    5666 non-null   float64\n",
      " 17  tot_trans_amt_for_12m  6432 non-null   float64\n",
      " 18  tot_trans_cnt_for_12m  4851 non-null   float64\n",
      " 19  tot_cnt_ratio_q4_q1    6472 non-null   float64\n",
      " 20  mean_util_pct          5575 non-null   float64\n",
      "dtypes: float64(8), int64(8), object(5)\n",
      "memory usage: 1.3+ MB\n"
     ]
    }
   ],
   "source": [
    "df.info()"
   ]
  }
 ],
 "metadata": {
  "kernelspec": {
   "display_name": "base",
   "language": "python",
   "name": "python3"
  },
  "language_info": {
   "codemirror_mode": {
    "name": "ipython",
    "version": 3
   },
   "file_extension": ".py",
   "mimetype": "text/x-python",
   "name": "python",
   "nbconvert_exporter": "python",
   "pygments_lexer": "ipython3",
   "version": "3.9.18"
  },
  "orig_nbformat": 4
 },
 "nbformat": 4,
 "nbformat_minor": 2
}
