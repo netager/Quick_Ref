{
 "cells": [
  {
   "cell_type": "code",
   "execution_count": 1,
   "metadata": {},
   "outputs": [],
   "source": [
    "import pandas as pd\n",
    "import numpy as np\n",
    "import random"
   ]
  },
  {
   "cell_type": "code",
   "execution_count": 2,
   "metadata": {},
   "outputs": [],
   "source": [
    "df = pd.read_csv(\"./data/bank_churner.csv\")\n",
    "df = df.drop('cstno', axis=1)"
   ]
  },
  {
   "cell_type": "code",
   "execution_count": 3,
   "metadata": {},
   "outputs": [
    {
     "name": "stdout",
     "output_type": "stream",
     "text": [
      "<class 'pandas.core.frame.DataFrame'>\n",
      "RangeIndex: 8101 entries, 0 to 8100\n",
      "Data columns (total 20 columns):\n",
      " #   Column                 Non-Null Count  Dtype  \n",
      "---  ------                 --------------  -----  \n",
      " 0   is_churned             8101 non-null   int64  \n",
      " 1   age                    8101 non-null   int64  \n",
      " 2   sex                    7293 non-null   object \n",
      " 3   dependent_num          8101 non-null   int64  \n",
      " 4   education              8101 non-null   object \n",
      " 5   marital_stat           8101 non-null   object \n",
      " 6   imcome_cat             6482 non-null   object \n",
      " 7   card_type              8101 non-null   object \n",
      " 8   mon_on_book            8101 non-null   int64  \n",
      " 9   tot_product_count      8101 non-null   int64  \n",
      " 10  months_inact_for_12m   8101 non-null   int64  \n",
      " 11  contact_cnt_for_12m    8101 non-null   int64  \n",
      " 12  credit_line            8101 non-null   float64\n",
      " 13  tot_revol_balance      6580 non-null   float64\n",
      " 14  mean_open_to_buy       8101 non-null   float64\n",
      " 15  tot_amt_ratio_q4_q1    5666 non-null   float64\n",
      " 16  tot_trans_amt_for_12m  6432 non-null   float64\n",
      " 17  tot_trans_cnt_for_12m  4851 non-null   float64\n",
      " 18  tot_cnt_ratio_q4_q1    6472 non-null   float64\n",
      " 19  mean_util_pct          5575 non-null   float64\n",
      "dtypes: float64(8), int64(7), object(5)\n",
      "memory usage: 1.2+ MB\n"
     ]
    }
   ],
   "source": [
    "df.info()"
   ]
  },
  {
   "cell_type": "code",
   "execution_count": 4,
   "metadata": {},
   "outputs": [
    {
     "data": {
      "text/plain": [
       "imcome_cat\n",
       "Less than $40K    2277\n",
       "$40K - $60K       1151\n",
       "$80K - $120K       988\n",
       "$60K - $80K        891\n",
       "Unknown            702\n",
       "$120K +            473\n",
       "Name: count, dtype: int64"
      ]
     },
     "execution_count": 4,
     "metadata": {},
     "output_type": "execute_result"
    }
   ],
   "source": [
    "df['imcome_cat'].value_counts()"
   ]
  },
  {
   "cell_type": "code",
   "execution_count": 5,
   "metadata": {},
   "outputs": [],
   "source": [
    "df['imcome_cat']=df['imcome_cat'].replace({'Less than $40K':40000, '$40K - $60K':50000, '$60K - $80K':70000, '$80K - $120K':100000, '$120K +':120000, 'Unknown':63000})"
   ]
  },
  {
   "cell_type": "code",
   "execution_count": 6,
   "metadata": {},
   "outputs": [
    {
     "data": {
      "text/plain": [
       "imcome_cat\n",
       "40000.0     2277\n",
       "50000.0     1151\n",
       "100000.0     988\n",
       "70000.0      891\n",
       "63000.0      702\n",
       "120000.0     473\n",
       "Name: count, dtype: int64"
      ]
     },
     "execution_count": 6,
     "metadata": {},
     "output_type": "execute_result"
    }
   ],
   "source": [
    "df['imcome_cat'].value_counts()"
   ]
  },
  {
   "cell_type": "code",
   "execution_count": 7,
   "metadata": {},
   "outputs": [
    {
     "data": {
      "text/plain": [
       "63418.685121107264"
      ]
     },
     "execution_count": 7,
     "metadata": {},
     "output_type": "execute_result"
    }
   ],
   "source": [
    "(40000*2277 + 50000*1151 + 70000*891 + 100000*988 + 120000*473) / (2277 + 1151 + 891 + 988 + 473) "
   ]
  },
  {
   "cell_type": "code",
   "execution_count": 8,
   "metadata": {},
   "outputs": [
    {
     "ename": "NameError",
     "evalue": "name 'ml_churner_df' is not defined",
     "output_type": "error",
     "traceback": [
      "\u001b[1;31m---------------------------------------------------------------------------\u001b[0m",
      "\u001b[1;31mNameError\u001b[0m                                 Traceback (most recent call last)",
      "Cell \u001b[1;32mIn[8], line 11\u001b[0m\n\u001b[0;32m      7\u001b[0m         result_list\u001b[39m.\u001b[39mappend(\u001b[39mlist\u001b[39m(i))\n\u001b[0;32m     10\u001b[0m \u001b[39mfor\u001b[39;00m drop_no, drop_column \u001b[39min\u001b[39;00m \u001b[39menumerate\u001b[39m(result_list):\n\u001b[1;32m---> 11\u001b[0m     \u001b[39mfor\u001b[39;00m group_no, groupby_column \u001b[39min\u001b[39;00m \u001b[39menumerate\u001b[39m(ml_churner_df\u001b[39m.\u001b[39mcolumns):\n\u001b[0;32m     12\u001b[0m         \u001b[39mif\u001b[39;00m groupby_column \u001b[39m==\u001b[39m \u001b[39m'\u001b[39m\u001b[39mis_churned\u001b[39m\u001b[39m'\u001b[39m \u001b[39mor\u001b[39;00m groupby_column \u001b[39min\u001b[39;00m drop_column:\n\u001b[0;32m     13\u001b[0m             \u001b[39mcontinue\u001b[39;00m\n",
      "\u001b[1;31mNameError\u001b[0m: name 'ml_churner_df' is not defined"
     ]
    }
   ],
   "source": [
    "from itertools import combinations\n",
    "\n",
    "result_list = []\n",
    "drop_target_columns = ['sex','imcome_cat', 'tot_amt_ratio_q4_q1', 'mean_util_pct', 'tot_trans_cnt_for_12m','age','mean_open_to_buy','tot_trans_amt_for_12m']\n",
    "for j in range(1, len(drop_target_columns)+1):\n",
    "    for i in combinations(drop_target_columns, j):\n",
    "        result_list.append(list(i))\n",
    "\n",
    "\n",
    "for drop_no, drop_column in enumerate(result_list):\n",
    "    for group_no, groupby_column in enumerate(ml_churner_df.columns):\n",
    "        if groupby_column == 'is_churned' or groupby_column in drop_column:\n",
    "            continue\n",
    "        print(groupby_column)\n",
    "    \n",
    "                \n",
    "        \n"
   ]
  },
  {
   "cell_type": "code",
   "execution_count": null,
   "metadata": {},
   "outputs": [
    {
     "data": {
      "text/plain": [
       "Index(['is_churned', 'age', 'sex', 'dependent_num', 'education',\n",
       "       'marital_stat', 'imcome_cat', 'card_type', 'mon_on_book',\n",
       "       'tot_product_count', 'months_inact_for_12m', 'contact_cnt_for_12m',\n",
       "       'credit_line', 'tot_revol_balance', 'mean_open_to_buy',\n",
       "       'tot_amt_ratio_q4_q1', 'tot_trans_amt_for_12m', 'tot_trans_cnt_for_12m',\n",
       "       'tot_cnt_ratio_q4_q1', 'mean_util_pct'],\n",
       "      dtype='object')"
      ]
     },
     "execution_count": 99,
     "metadata": {},
     "output_type": "execute_result"
    }
   ],
   "source": [
    "ml_churner_df.columns"
   ]
  },
  {
   "cell_type": "code",
   "execution_count": null,
   "metadata": {},
   "outputs": [
    {
     "name": "stdout",
     "output_type": "stream",
     "text": [
      "age\n",
      "sex\n",
      "dependent_num\n",
      "education\n",
      "marital_stat\n",
      "imcome_cat\n",
      "card_type\n",
      "mon_on_book\n",
      "tot_product_count\n",
      "months_inact_for_12m\n",
      "contact_cnt_for_12m\n",
      "credit_line\n",
      "tot_revol_balance\n",
      "mean_open_to_buy\n",
      "tot_amt_ratio_q4_q1\n",
      "tot_trans_amt_for_12m\n",
      "tot_trans_cnt_for_12m\n",
      "tot_cnt_ratio_q4_q1\n",
      "mean_util_pct\n"
     ]
    }
   ],
   "source": [
    "for groupby_column in ml_churner_df.columns:\n",
    "    if groupby_column == 'is_churned':\n",
    "        continue\n",
    "    print(groupby_column)"
   ]
  },
  {
   "cell_type": "code",
   "execution_count": null,
   "metadata": {},
   "outputs": [],
   "source": [
    "def tot_column_counts(df):\n",
    "    ''' \n",
    "    '''\n",
    "    data_counts = df.count()\n",
    "    null_counts = df.isnull().sum()\n",
    "    tot_counts_df = pd.concat([data_counts, null_counts], axis=1)\n",
    "    tot_counts_df = tot_counts_df.rename(columns={0: 'data_counts', 1: 'null_counts'})\n",
    "    tot_counts_df.insert(0,'tot_counts', tot_counts_df['data_counts'] + tot_counts_df['null_counts'])\n",
    "    tot_counts_df['data_percents'] = tot_counts_df['data_counts'].values / tot_counts_df['tot_counts'].values\n",
    "    tot_counts_df['null_percents'] = tot_counts_df['null_counts'].values / tot_counts_df['tot_counts'].values\n",
    "    tot_counts_df = tot_counts_df.sort_values(by='null_percents', ascending=False)\n",
    "\n",
    "    tot_counts_df = change_format(tot_counts_df, 'tot_counts', 'comma')\n",
    "    tot_counts_df = change_format(tot_counts_df, 'data_counts','comma')\n",
    "    tot_counts_df = change_format(tot_counts_df, 'null_counts','comma')\n",
    "    tot_counts_df = change_format(tot_counts_df, 'data_percents', 'percent')\n",
    "    tot_counts_df = change_format(tot_counts_df, 'null_percents', 'percent')\n",
    "\n",
    "    tot_counts_df = tot_counts_df.reset_index()\n",
    "\n",
    "    print(tot_counts_df.to_string(index=False))\n",
    "    \n",
    "\n",
    "\n",
    "def change_format(df, column, format):\n",
    "    if format == 'comma':\n",
    "        df[column] = df[column].apply(lambda x: f\"{x:,}\")\n",
    "    elif format == 'percent':\n",
    "        df[column] = df[column].apply(lambda x: f\"{x:.2%}\")\n",
    "        \n",
    "    return df    "
   ]
  },
  {
   "cell_type": "code",
   "execution_count": null,
   "metadata": {},
   "outputs": [],
   "source": [
    "ml_churner_df = pd.read_csv(\"./data/bank_churner.csv\")\n",
    "ml_churner_df = ml_churner_df.drop('cstno', axis=1)"
   ]
  },
  {
   "cell_type": "code",
   "execution_count": null,
   "metadata": {},
   "outputs": [
    {
     "name": "stdout",
     "output_type": "stream",
     "text": [
      "                index tot_counts data_counts null_counts data_percents null_percents\n",
      "tot_trans_cnt_for_12m      8,101       4,851       3,250        59.88%        40.12%\n",
      "        mean_util_pct      8,101       5,575       2,526        68.82%        31.18%\n",
      "  tot_amt_ratio_q4_q1      8,101       5,666       2,435        69.94%        30.06%\n",
      "tot_trans_amt_for_12m      8,101       6,432       1,669        79.40%        20.60%\n",
      "  tot_cnt_ratio_q4_q1      8,101       6,472       1,629        79.89%        20.11%\n",
      "           imcome_cat      8,101       6,482       1,619        80.01%        19.99%\n",
      "    tot_revol_balance      8,101       6,580       1,521        81.22%        18.78%\n",
      "                  sex      8,101       7,293         808        90.03%         9.97%\n",
      "  contact_cnt_for_12m      8,101       8,101           0       100.00%         0.00%\n",
      "     mean_open_to_buy      8,101       8,101           0       100.00%         0.00%\n",
      "          credit_line      8,101       8,101           0       100.00%         0.00%\n",
      "           is_churned      8,101       8,101           0       100.00%         0.00%\n",
      "                  age      8,101       8,101           0       100.00%         0.00%\n",
      "    tot_product_count      8,101       8,101           0       100.00%         0.00%\n",
      "          mon_on_book      8,101       8,101           0       100.00%         0.00%\n",
      "            card_type      8,101       8,101           0       100.00%         0.00%\n",
      "         marital_stat      8,101       8,101           0       100.00%         0.00%\n",
      "            education      8,101       8,101           0       100.00%         0.00%\n",
      "        dependent_num      8,101       8,101           0       100.00%         0.00%\n",
      " months_inact_for_12m      8,101       8,101           0       100.00%         0.00%\n"
     ]
    }
   ],
   "source": [
    "tot_column_counts(ml_churner_df)"
   ]
  },
  {
   "cell_type": "code",
   "execution_count": null,
   "metadata": {},
   "outputs": [],
   "source": [
    "ml_churner_df = ml_churner_df.fillna(ml_churner_df.mean(numeric_only=True))"
   ]
  },
  {
   "cell_type": "code",
   "execution_count": null,
   "metadata": {},
   "outputs": [
    {
     "name": "stdout",
     "output_type": "stream",
     "text": [
      "                index tot_counts data_counts null_counts data_percents null_percents\n",
      "           imcome_cat      8,101       6,482       1,619        80.01%        19.99%\n",
      "                  sex      8,101       7,293         808        90.03%         9.97%\n",
      "           is_churned      8,101       8,101           0       100.00%         0.00%\n",
      "  contact_cnt_for_12m      8,101       8,101           0       100.00%         0.00%\n",
      "  tot_cnt_ratio_q4_q1      8,101       8,101           0       100.00%         0.00%\n",
      "tot_trans_cnt_for_12m      8,101       8,101           0       100.00%         0.00%\n",
      "tot_trans_amt_for_12m      8,101       8,101           0       100.00%         0.00%\n",
      "  tot_amt_ratio_q4_q1      8,101       8,101           0       100.00%         0.00%\n",
      "     mean_open_to_buy      8,101       8,101           0       100.00%         0.00%\n",
      "    tot_revol_balance      8,101       8,101           0       100.00%         0.00%\n",
      "          credit_line      8,101       8,101           0       100.00%         0.00%\n",
      " months_inact_for_12m      8,101       8,101           0       100.00%         0.00%\n",
      "                  age      8,101       8,101           0       100.00%         0.00%\n",
      "    tot_product_count      8,101       8,101           0       100.00%         0.00%\n",
      "          mon_on_book      8,101       8,101           0       100.00%         0.00%\n",
      "            card_type      8,101       8,101           0       100.00%         0.00%\n",
      "         marital_stat      8,101       8,101           0       100.00%         0.00%\n",
      "            education      8,101       8,101           0       100.00%         0.00%\n",
      "        dependent_num      8,101       8,101           0       100.00%         0.00%\n",
      "        mean_util_pct      8,101       8,101           0       100.00%         0.00%\n"
     ]
    }
   ],
   "source": [
    "tot_column_counts(ml_churner_df)"
   ]
  },
  {
   "cell_type": "code",
   "execution_count": 10,
   "metadata": {},
   "outputs": [
    {
     "data": {
      "text/html": [
       "<div>\n",
       "<style scoped>\n",
       "    .dataframe tbody tr th:only-of-type {\n",
       "        vertical-align: middle;\n",
       "    }\n",
       "\n",
       "    .dataframe tbody tr th {\n",
       "        vertical-align: top;\n",
       "    }\n",
       "\n",
       "    .dataframe thead th {\n",
       "        text-align: right;\n",
       "    }\n",
       "</style>\n",
       "<table border=\"1\" class=\"dataframe\">\n",
       "  <thead>\n",
       "    <tr style=\"text-align: right;\">\n",
       "      <th></th>\n",
       "      <th>C1</th>\n",
       "      <th>C2</th>\n",
       "      <th>C3</th>\n",
       "    </tr>\n",
       "  </thead>\n",
       "  <tbody>\n",
       "    <tr>\n",
       "      <th>0</th>\n",
       "      <td>NaN</td>\n",
       "      <td>0.715279</td>\n",
       "      <td>-1.545400</td>\n",
       "    </tr>\n",
       "    <tr>\n",
       "      <th>1</th>\n",
       "      <td>NaN</td>\n",
       "      <td>0.621336</td>\n",
       "      <td>NaN</td>\n",
       "    </tr>\n",
       "    <tr>\n",
       "      <th>2</th>\n",
       "      <td>0.265512</td>\n",
       "      <td>NaN</td>\n",
       "      <td>0.004291</td>\n",
       "    </tr>\n",
       "    <tr>\n",
       "      <th>3</th>\n",
       "      <td>-0.174600</td>\n",
       "      <td>NaN</td>\n",
       "      <td>1.203037</td>\n",
       "    </tr>\n",
       "    <tr>\n",
       "      <th>4</th>\n",
       "      <td>-0.965066</td>\n",
       "      <td>1.028274</td>\n",
       "      <td>NaN</td>\n",
       "    </tr>\n",
       "  </tbody>\n",
       "</table>\n",
       "</div>"
      ],
      "text/plain": [
       "         C1        C2        C3\n",
       "0       NaN  0.715279 -1.545400\n",
       "1       NaN  0.621336       NaN\n",
       "2  0.265512       NaN  0.004291\n",
       "3 -0.174600       NaN  1.203037\n",
       "4 -0.965066  1.028274       NaN"
      ]
     },
     "execution_count": 10,
     "metadata": {},
     "output_type": "execute_result"
    }
   ],
   "source": [
    "np.random.seed(10)\n",
    "df = pd.DataFrame(np.random.randn(5, 3),\n",
    "                  columns=['C1', 'C2', 'C3'])\n",
    "\n",
    "## replacing some values with None\n",
    "df.loc[0, 'C1'] = np.nan\n",
    "df.loc[1, 'C1'] = np.nan\n",
    "df.loc[1, 'C3'] = np.nan\n",
    "df.loc[2, 'C2'] = np.nan\n",
    "df.loc[3, 'C2'] = np.nan\n",
    "df.loc[4, 'C3'] = np.nan\n",
    "\n",
    "\n",
    "df"
   ]
  },
  {
   "cell_type": "code",
   "execution_count": null,
   "metadata": {},
   "outputs": [
    {
     "data": {
      "text/html": [
       "<div>\n",
       "<style scoped>\n",
       "    .dataframe tbody tr th:only-of-type {\n",
       "        vertical-align: middle;\n",
       "    }\n",
       "\n",
       "    .dataframe tbody tr th {\n",
       "        vertical-align: top;\n",
       "    }\n",
       "\n",
       "    .dataframe thead th {\n",
       "        text-align: right;\n",
       "    }\n",
       "</style>\n",
       "<table border=\"1\" class=\"dataframe\">\n",
       "  <thead>\n",
       "    <tr style=\"text-align: right;\">\n",
       "      <th></th>\n",
       "      <th>C1</th>\n",
       "      <th>C2</th>\n",
       "      <th>C3</th>\n",
       "    </tr>\n",
       "  </thead>\n",
       "  <tbody>\n",
       "    <tr>\n",
       "      <th>0</th>\n",
       "      <td>-0.291385</td>\n",
       "      <td>0.715279</td>\n",
       "      <td>-1.545400</td>\n",
       "    </tr>\n",
       "    <tr>\n",
       "      <th>1</th>\n",
       "      <td>-0.291385</td>\n",
       "      <td>0.621336</td>\n",
       "      <td>-0.112690</td>\n",
       "    </tr>\n",
       "    <tr>\n",
       "      <th>2</th>\n",
       "      <td>0.265512</td>\n",
       "      <td>0.788296</td>\n",
       "      <td>0.004291</td>\n",
       "    </tr>\n",
       "    <tr>\n",
       "      <th>3</th>\n",
       "      <td>-0.174600</td>\n",
       "      <td>0.788296</td>\n",
       "      <td>1.203037</td>\n",
       "    </tr>\n",
       "    <tr>\n",
       "      <th>4</th>\n",
       "      <td>-0.965066</td>\n",
       "      <td>1.028274</td>\n",
       "      <td>-0.112690</td>\n",
       "    </tr>\n",
       "  </tbody>\n",
       "</table>\n",
       "</div>"
      ],
      "text/plain": [
       "         C1        C2        C3\n",
       "0 -0.291385  0.715279 -1.545400\n",
       "1 -0.291385  0.621336 -0.112690\n",
       "2  0.265512  0.788296  0.004291\n",
       "3 -0.174600  0.788296  1.203037\n",
       "4 -0.965066  1.028274 -0.112690"
      ]
     },
     "execution_count": 38,
     "metadata": {},
     "output_type": "execute_result"
    }
   ],
   "source": [
    "df1 = df.copy()\n",
    "df1.fillna(df1.mean())"
   ]
  },
  {
   "cell_type": "code",
   "execution_count": null,
   "metadata": {},
   "outputs": [
    {
     "data": {
      "text/html": [
       "<div>\n",
       "<style scoped>\n",
       "    .dataframe tbody tr th:only-of-type {\n",
       "        vertical-align: middle;\n",
       "    }\n",
       "\n",
       "    .dataframe tbody tr th {\n",
       "        vertical-align: top;\n",
       "    }\n",
       "\n",
       "    .dataframe thead th {\n",
       "        text-align: right;\n",
       "    }\n",
       "</style>\n",
       "<table border=\"1\" class=\"dataframe\">\n",
       "  <thead>\n",
       "    <tr style=\"text-align: right;\">\n",
       "      <th></th>\n",
       "      <th>C1</th>\n",
       "      <th>C2</th>\n",
       "      <th>C3</th>\n",
       "    </tr>\n",
       "  </thead>\n",
       "  <tbody>\n",
       "    <tr>\n",
       "      <th>0</th>\n",
       "      <td>-0.291385</td>\n",
       "      <td>0.715279</td>\n",
       "      <td>-1.545400</td>\n",
       "    </tr>\n",
       "    <tr>\n",
       "      <th>1</th>\n",
       "      <td>-0.291385</td>\n",
       "      <td>0.621336</td>\n",
       "      <td>-0.112690</td>\n",
       "    </tr>\n",
       "    <tr>\n",
       "      <th>2</th>\n",
       "      <td>0.265512</td>\n",
       "      <td>0.788296</td>\n",
       "      <td>0.004291</td>\n",
       "    </tr>\n",
       "    <tr>\n",
       "      <th>3</th>\n",
       "      <td>-0.174600</td>\n",
       "      <td>0.788296</td>\n",
       "      <td>1.203037</td>\n",
       "    </tr>\n",
       "    <tr>\n",
       "      <th>4</th>\n",
       "      <td>-0.965066</td>\n",
       "      <td>1.028274</td>\n",
       "      <td>-0.112690</td>\n",
       "    </tr>\n",
       "  </tbody>\n",
       "</table>\n",
       "</div>"
      ],
      "text/plain": [
       "         C1        C2        C3\n",
       "0 -0.291385  0.715279 -1.545400\n",
       "1 -0.291385  0.621336 -0.112690\n",
       "2  0.265512  0.788296  0.004291\n",
       "3 -0.174600  0.788296  1.203037\n",
       "4 -0.965066  1.028274 -0.112690"
      ]
     },
     "execution_count": 39,
     "metadata": {},
     "output_type": "execute_result"
    }
   ],
   "source": [
    "df2 = df.copy()\n",
    "df2.where(pd.notnull(df2), df2.mean(), axis='columns')"
   ]
  },
  {
   "cell_type": "code",
   "execution_count": null,
   "metadata": {},
   "outputs": [
    {
     "data": {
      "text/html": [
       "<div>\n",
       "<style scoped>\n",
       "    .dataframe tbody tr th:only-of-type {\n",
       "        vertical-align: middle;\n",
       "    }\n",
       "\n",
       "    .dataframe tbody tr th {\n",
       "        vertical-align: top;\n",
       "    }\n",
       "\n",
       "    .dataframe thead th {\n",
       "        text-align: right;\n",
       "    }\n",
       "</style>\n",
       "<table border=\"1\" class=\"dataframe\">\n",
       "  <thead>\n",
       "    <tr style=\"text-align: right;\">\n",
       "      <th></th>\n",
       "      <th>C1</th>\n",
       "      <th>C2</th>\n",
       "      <th>C3</th>\n",
       "    </tr>\n",
       "  </thead>\n",
       "  <tbody>\n",
       "    <tr>\n",
       "      <th>0</th>\n",
       "      <td>0.000000</td>\n",
       "      <td>0.715279</td>\n",
       "      <td>-1.545400</td>\n",
       "    </tr>\n",
       "    <tr>\n",
       "      <th>1</th>\n",
       "      <td>0.000000</td>\n",
       "      <td>0.621336</td>\n",
       "      <td>NaN</td>\n",
       "    </tr>\n",
       "    <tr>\n",
       "      <th>2</th>\n",
       "      <td>0.265512</td>\n",
       "      <td>NaN</td>\n",
       "      <td>0.004291</td>\n",
       "    </tr>\n",
       "    <tr>\n",
       "      <th>3</th>\n",
       "      <td>-0.174600</td>\n",
       "      <td>NaN</td>\n",
       "      <td>1.203037</td>\n",
       "    </tr>\n",
       "    <tr>\n",
       "      <th>4</th>\n",
       "      <td>-0.965066</td>\n",
       "      <td>1.028274</td>\n",
       "      <td>NaN</td>\n",
       "    </tr>\n",
       "  </tbody>\n",
       "</table>\n",
       "</div>"
      ],
      "text/plain": [
       "         C1        C2        C3\n",
       "0  0.000000  0.715279 -1.545400\n",
       "1  0.000000  0.621336       NaN\n",
       "2  0.265512       NaN  0.004291\n",
       "3 -0.174600       NaN  1.203037\n",
       "4 -0.965066  1.028274       NaN"
      ]
     },
     "execution_count": 42,
     "metadata": {},
     "output_type": "execute_result"
    }
   ],
   "source": [
    "df3 = df.copy()\n",
    "df3['C1']=df3['C1'].fillna(0)\n",
    "df3"
   ]
  },
  {
   "cell_type": "code",
   "execution_count": null,
   "metadata": {},
   "outputs": [
    {
     "data": {
      "text/html": [
       "<div>\n",
       "<style scoped>\n",
       "    .dataframe tbody tr th:only-of-type {\n",
       "        vertical-align: middle;\n",
       "    }\n",
       "\n",
       "    .dataframe tbody tr th {\n",
       "        vertical-align: top;\n",
       "    }\n",
       "\n",
       "    .dataframe thead th {\n",
       "        text-align: right;\n",
       "    }\n",
       "</style>\n",
       "<table border=\"1\" class=\"dataframe\">\n",
       "  <thead>\n",
       "    <tr style=\"text-align: right;\">\n",
       "      <th></th>\n",
       "      <th>C1</th>\n",
       "      <th>C2</th>\n",
       "      <th>C3</th>\n",
       "    </tr>\n",
       "  </thead>\n",
       "  <tbody>\n",
       "    <tr>\n",
       "      <th>0</th>\n",
       "      <td>-0.291385</td>\n",
       "      <td>0.715279</td>\n",
       "      <td>-1.545400</td>\n",
       "    </tr>\n",
       "    <tr>\n",
       "      <th>1</th>\n",
       "      <td>-0.291385</td>\n",
       "      <td>0.621336</td>\n",
       "      <td>NaN</td>\n",
       "    </tr>\n",
       "    <tr>\n",
       "      <th>2</th>\n",
       "      <td>0.265512</td>\n",
       "      <td>NaN</td>\n",
       "      <td>0.004291</td>\n",
       "    </tr>\n",
       "    <tr>\n",
       "      <th>3</th>\n",
       "      <td>-0.174600</td>\n",
       "      <td>NaN</td>\n",
       "      <td>1.203037</td>\n",
       "    </tr>\n",
       "    <tr>\n",
       "      <th>4</th>\n",
       "      <td>-0.965066</td>\n",
       "      <td>1.028274</td>\n",
       "      <td>NaN</td>\n",
       "    </tr>\n",
       "  </tbody>\n",
       "</table>\n",
       "</div>"
      ],
      "text/plain": [
       "         C1        C2        C3\n",
       "0 -0.291385  0.715279 -1.545400\n",
       "1 -0.291385  0.621336       NaN\n",
       "2  0.265512       NaN  0.004291\n",
       "3 -0.174600       NaN  1.203037\n",
       "4 -0.965066  1.028274       NaN"
      ]
     },
     "execution_count": 70,
     "metadata": {},
     "output_type": "execute_result"
    }
   ],
   "source": [
    "# 중요\n",
    "# ----\n",
    "df31 = df.copy()\n",
    "df31['C1']=df31['C1'].fillna(df31['C1'].mean())\n",
    "df31"
   ]
  },
  {
   "cell_type": "code",
   "execution_count": null,
   "metadata": {},
   "outputs": [
    {
     "data": {
      "text/html": [
       "<div>\n",
       "<style scoped>\n",
       "    .dataframe tbody tr th:only-of-type {\n",
       "        vertical-align: middle;\n",
       "    }\n",
       "\n",
       "    .dataframe tbody tr th {\n",
       "        vertical-align: top;\n",
       "    }\n",
       "\n",
       "    .dataframe thead th {\n",
       "        text-align: right;\n",
       "    }\n",
       "</style>\n",
       "<table border=\"1\" class=\"dataframe\">\n",
       "  <thead>\n",
       "    <tr style=\"text-align: right;\">\n",
       "      <th></th>\n",
       "      <th>C1</th>\n",
       "      <th>C2</th>\n",
       "      <th>C3</th>\n",
       "    </tr>\n",
       "  </thead>\n",
       "  <tbody>\n",
       "    <tr>\n",
       "      <th>0</th>\n",
       "      <td>-0.291385</td>\n",
       "      <td>0.715279</td>\n",
       "      <td>-1.545400</td>\n",
       "    </tr>\n",
       "    <tr>\n",
       "      <th>1</th>\n",
       "      <td>-0.291385</td>\n",
       "      <td>0.621336</td>\n",
       "      <td>-0.112690</td>\n",
       "    </tr>\n",
       "    <tr>\n",
       "      <th>2</th>\n",
       "      <td>0.265512</td>\n",
       "      <td>0.788296</td>\n",
       "      <td>0.004291</td>\n",
       "    </tr>\n",
       "    <tr>\n",
       "      <th>3</th>\n",
       "      <td>-0.174600</td>\n",
       "      <td>0.788296</td>\n",
       "      <td>1.203037</td>\n",
       "    </tr>\n",
       "    <tr>\n",
       "      <th>4</th>\n",
       "      <td>-0.965066</td>\n",
       "      <td>1.028274</td>\n",
       "      <td>-0.112690</td>\n",
       "    </tr>\n",
       "  </tbody>\n",
       "</table>\n",
       "</div>"
      ],
      "text/plain": [
       "         C1        C2        C3\n",
       "0 -0.291385  0.715279 -1.545400\n",
       "1 -0.291385  0.621336 -0.112690\n",
       "2  0.265512  0.788296  0.004291\n",
       "3 -0.174600  0.788296  1.203037\n",
       "4 -0.965066  1.028274 -0.112690"
      ]
     },
     "execution_count": 92,
     "metadata": {},
     "output_type": "execute_result"
    }
   ],
   "source": [
    "df4 = df.copy()\n",
    "fill_df = df4.fillna(df4.mean())\n",
    "fill_df"
   ]
  },
  {
   "cell_type": "code",
   "execution_count": 15,
   "metadata": {},
   "outputs": [
    {
     "data": {
      "text/html": [
       "<div>\n",
       "<style scoped>\n",
       "    .dataframe tbody tr th:only-of-type {\n",
       "        vertical-align: middle;\n",
       "    }\n",
       "\n",
       "    .dataframe tbody tr th {\n",
       "        vertical-align: top;\n",
       "    }\n",
       "\n",
       "    .dataframe thead th {\n",
       "        text-align: right;\n",
       "    }\n",
       "</style>\n",
       "<table border=\"1\" class=\"dataframe\">\n",
       "  <thead>\n",
       "    <tr style=\"text-align: right;\">\n",
       "      <th></th>\n",
       "      <th>C1</th>\n",
       "      <th>C2</th>\n",
       "      <th>C3</th>\n",
       "      <th>gubun</th>\n",
       "      <th>char</th>\n",
       "    </tr>\n",
       "  </thead>\n",
       "  <tbody>\n",
       "    <tr>\n",
       "      <th>0</th>\n",
       "      <td>NaN</td>\n",
       "      <td>0.715279</td>\n",
       "      <td>-1.545400</td>\n",
       "      <td>a</td>\n",
       "      <td>aa</td>\n",
       "    </tr>\n",
       "    <tr>\n",
       "      <th>1</th>\n",
       "      <td>NaN</td>\n",
       "      <td>0.621336</td>\n",
       "      <td>NaN</td>\n",
       "      <td>a</td>\n",
       "      <td>aa</td>\n",
       "    </tr>\n",
       "    <tr>\n",
       "      <th>2</th>\n",
       "      <td>0.265512</td>\n",
       "      <td>NaN</td>\n",
       "      <td>0.004291</td>\n",
       "      <td>b</td>\n",
       "      <td>bb</td>\n",
       "    </tr>\n",
       "    <tr>\n",
       "      <th>3</th>\n",
       "      <td>-0.174600</td>\n",
       "      <td>NaN</td>\n",
       "      <td>1.203037</td>\n",
       "      <td>b</td>\n",
       "      <td>bb</td>\n",
       "    </tr>\n",
       "    <tr>\n",
       "      <th>4</th>\n",
       "      <td>-0.965066</td>\n",
       "      <td>1.028274</td>\n",
       "      <td>NaN</td>\n",
       "      <td>b</td>\n",
       "      <td>bb</td>\n",
       "    </tr>\n",
       "  </tbody>\n",
       "</table>\n",
       "</div>"
      ],
      "text/plain": [
       "         C1        C2        C3 gubun char\n",
       "0       NaN  0.715279 -1.545400     a   aa\n",
       "1       NaN  0.621336       NaN     a   aa\n",
       "2  0.265512       NaN  0.004291     b   bb\n",
       "3 -0.174600       NaN  1.203037     b   bb\n",
       "4 -0.965066  1.028274       NaN     b   bb"
      ]
     },
     "execution_count": 15,
     "metadata": {},
     "output_type": "execute_result"
    }
   ],
   "source": [
    "df5 = df.copy()\n",
    "df5['gubun'] = pd.Series(['a','a','b','b','b'])\n",
    "df5['char'] = pd.Series(['aa','aa','bb','bb','bb'])\n",
    "df5"
   ]
  },
  {
   "cell_type": "code",
   "execution_count": 17,
   "metadata": {},
   "outputs": [
    {
     "data": {
      "text/html": [
       "<div>\n",
       "<style scoped>\n",
       "    .dataframe tbody tr th:only-of-type {\n",
       "        vertical-align: middle;\n",
       "    }\n",
       "\n",
       "    .dataframe tbody tr th {\n",
       "        vertical-align: top;\n",
       "    }\n",
       "\n",
       "    .dataframe thead th {\n",
       "        text-align: right;\n",
       "    }\n",
       "</style>\n",
       "<table border=\"1\" class=\"dataframe\">\n",
       "  <thead>\n",
       "    <tr style=\"text-align: right;\">\n",
       "      <th></th>\n",
       "      <th>C1</th>\n",
       "      <th>C2</th>\n",
       "      <th>C3</th>\n",
       "      <th>gubun</th>\n",
       "      <th>char</th>\n",
       "    </tr>\n",
       "  </thead>\n",
       "  <tbody>\n",
       "    <tr>\n",
       "      <th>0</th>\n",
       "      <td>NaN</td>\n",
       "      <td>0.715279</td>\n",
       "      <td>-1.545400</td>\n",
       "      <td>a</td>\n",
       "      <td>aa</td>\n",
       "    </tr>\n",
       "    <tr>\n",
       "      <th>1</th>\n",
       "      <td>NaN</td>\n",
       "      <td>0.621336</td>\n",
       "      <td>NaN</td>\n",
       "      <td>a</td>\n",
       "      <td>aa</td>\n",
       "    </tr>\n",
       "    <tr>\n",
       "      <th>2</th>\n",
       "      <td>0.265512</td>\n",
       "      <td>NaN</td>\n",
       "      <td>0.004291</td>\n",
       "      <td>b</td>\n",
       "      <td>bb</td>\n",
       "    </tr>\n",
       "    <tr>\n",
       "      <th>3</th>\n",
       "      <td>-0.174600</td>\n",
       "      <td>NaN</td>\n",
       "      <td>1.203037</td>\n",
       "      <td>b</td>\n",
       "      <td>bb</td>\n",
       "    </tr>\n",
       "    <tr>\n",
       "      <th>4</th>\n",
       "      <td>-0.965066</td>\n",
       "      <td>1.028274</td>\n",
       "      <td>NaN</td>\n",
       "      <td>b</td>\n",
       "      <td>bb</td>\n",
       "    </tr>\n",
       "  </tbody>\n",
       "</table>\n",
       "</div>"
      ],
      "text/plain": [
       "         C1        C2        C3 gubun char\n",
       "0       NaN  0.715279 -1.545400     a   aa\n",
       "1       NaN  0.621336       NaN     a   aa\n",
       "2  0.265512       NaN  0.004291     b   bb\n",
       "3 -0.174600       NaN  1.203037     b   bb\n",
       "4 -0.965066  1.028274       NaN     b   bb"
      ]
     },
     "execution_count": 17,
     "metadata": {},
     "output_type": "execute_result"
    }
   ],
   "source": [
    "df5\n",
    "# df5.groupby('gubun').mean()"
   ]
  },
  {
   "cell_type": "code",
   "execution_count": 18,
   "metadata": {},
   "outputs": [
    {
     "data": {
      "text/html": [
       "<div>\n",
       "<style scoped>\n",
       "    .dataframe tbody tr th:only-of-type {\n",
       "        vertical-align: middle;\n",
       "    }\n",
       "\n",
       "    .dataframe tbody tr th {\n",
       "        vertical-align: top;\n",
       "    }\n",
       "\n",
       "    .dataframe thead th {\n",
       "        text-align: right;\n",
       "    }\n",
       "</style>\n",
       "<table border=\"1\" class=\"dataframe\">\n",
       "  <thead>\n",
       "    <tr style=\"text-align: right;\">\n",
       "      <th></th>\n",
       "      <th>C1</th>\n",
       "      <th>C2</th>\n",
       "      <th>C3</th>\n",
       "      <th>gubun</th>\n",
       "      <th>char</th>\n",
       "    </tr>\n",
       "  </thead>\n",
       "  <tbody>\n",
       "    <tr>\n",
       "      <th>0</th>\n",
       "      <td>NaN</td>\n",
       "      <td>0.715279</td>\n",
       "      <td>-1.545400</td>\n",
       "      <td>a</td>\n",
       "      <td>aa</td>\n",
       "    </tr>\n",
       "    <tr>\n",
       "      <th>1</th>\n",
       "      <td>NaN</td>\n",
       "      <td>0.621336</td>\n",
       "      <td>NaN</td>\n",
       "      <td>a</td>\n",
       "      <td>aa</td>\n",
       "    </tr>\n",
       "    <tr>\n",
       "      <th>2</th>\n",
       "      <td>0.265512</td>\n",
       "      <td>NaN</td>\n",
       "      <td>0.004291</td>\n",
       "      <td>b</td>\n",
       "      <td>bb</td>\n",
       "    </tr>\n",
       "    <tr>\n",
       "      <th>3</th>\n",
       "      <td>-0.174600</td>\n",
       "      <td>NaN</td>\n",
       "      <td>1.203037</td>\n",
       "      <td>b</td>\n",
       "      <td>bb</td>\n",
       "    </tr>\n",
       "    <tr>\n",
       "      <th>4</th>\n",
       "      <td>-0.965066</td>\n",
       "      <td>1.028274</td>\n",
       "      <td>NaN</td>\n",
       "      <td>b</td>\n",
       "      <td>bb</td>\n",
       "    </tr>\n",
       "  </tbody>\n",
       "</table>\n",
       "</div>"
      ],
      "text/plain": [
       "         C1        C2        C3 gubun char\n",
       "0       NaN  0.715279 -1.545400     a   aa\n",
       "1       NaN  0.621336       NaN     a   aa\n",
       "2  0.265512       NaN  0.004291     b   bb\n",
       "3 -0.174600       NaN  1.203037     b   bb\n",
       "4 -0.965066  1.028274       NaN     b   bb"
      ]
     },
     "execution_count": 18,
     "metadata": {},
     "output_type": "execute_result"
    }
   ],
   "source": [
    "df5\n"
   ]
  },
  {
   "cell_type": "code",
   "execution_count": 19,
   "metadata": {},
   "outputs": [],
   "source": [
    "df5 = df5.groupby('gubun').apply(lambda x: x.fillna(x.mean(numeric_only=True)))"
   ]
  },
  {
   "cell_type": "code",
   "execution_count": 20,
   "metadata": {},
   "outputs": [
    {
     "data": {
      "text/html": [
       "<div>\n",
       "<style scoped>\n",
       "    .dataframe tbody tr th:only-of-type {\n",
       "        vertical-align: middle;\n",
       "    }\n",
       "\n",
       "    .dataframe tbody tr th {\n",
       "        vertical-align: top;\n",
       "    }\n",
       "\n",
       "    .dataframe thead th {\n",
       "        text-align: right;\n",
       "    }\n",
       "</style>\n",
       "<table border=\"1\" class=\"dataframe\">\n",
       "  <thead>\n",
       "    <tr style=\"text-align: right;\">\n",
       "      <th></th>\n",
       "      <th></th>\n",
       "      <th>C1</th>\n",
       "      <th>C2</th>\n",
       "      <th>C3</th>\n",
       "      <th>gubun</th>\n",
       "      <th>char</th>\n",
       "    </tr>\n",
       "    <tr>\n",
       "      <th>gubun</th>\n",
       "      <th></th>\n",
       "      <th></th>\n",
       "      <th></th>\n",
       "      <th></th>\n",
       "      <th></th>\n",
       "      <th></th>\n",
       "    </tr>\n",
       "  </thead>\n",
       "  <tbody>\n",
       "    <tr>\n",
       "      <th rowspan=\"2\" valign=\"top\">a</th>\n",
       "      <th>0</th>\n",
       "      <td>NaN</td>\n",
       "      <td>0.715279</td>\n",
       "      <td>-1.545400</td>\n",
       "      <td>a</td>\n",
       "      <td>aa</td>\n",
       "    </tr>\n",
       "    <tr>\n",
       "      <th>1</th>\n",
       "      <td>NaN</td>\n",
       "      <td>0.621336</td>\n",
       "      <td>-1.545400</td>\n",
       "      <td>a</td>\n",
       "      <td>aa</td>\n",
       "    </tr>\n",
       "    <tr>\n",
       "      <th rowspan=\"3\" valign=\"top\">b</th>\n",
       "      <th>2</th>\n",
       "      <td>0.265512</td>\n",
       "      <td>1.028274</td>\n",
       "      <td>0.004291</td>\n",
       "      <td>b</td>\n",
       "      <td>bb</td>\n",
       "    </tr>\n",
       "    <tr>\n",
       "      <th>3</th>\n",
       "      <td>-0.174600</td>\n",
       "      <td>1.028274</td>\n",
       "      <td>1.203037</td>\n",
       "      <td>b</td>\n",
       "      <td>bb</td>\n",
       "    </tr>\n",
       "    <tr>\n",
       "      <th>4</th>\n",
       "      <td>-0.965066</td>\n",
       "      <td>1.028274</td>\n",
       "      <td>0.603664</td>\n",
       "      <td>b</td>\n",
       "      <td>bb</td>\n",
       "    </tr>\n",
       "  </tbody>\n",
       "</table>\n",
       "</div>"
      ],
      "text/plain": [
       "               C1        C2        C3 gubun char\n",
       "gubun                                           \n",
       "a     0       NaN  0.715279 -1.545400     a   aa\n",
       "      1       NaN  0.621336 -1.545400     a   aa\n",
       "b     2  0.265512  1.028274  0.004291     b   bb\n",
       "      3 -0.174600  1.028274  1.203037     b   bb\n",
       "      4 -0.965066  1.028274  0.603664     b   bb"
      ]
     },
     "execution_count": 20,
     "metadata": {},
     "output_type": "execute_result"
    }
   ],
   "source": [
    "df5"
   ]
  },
  {
   "cell_type": "code",
   "execution_count": 21,
   "metadata": {},
   "outputs": [
    {
     "data": {
      "text/html": [
       "<div>\n",
       "<style scoped>\n",
       "    .dataframe tbody tr th:only-of-type {\n",
       "        vertical-align: middle;\n",
       "    }\n",
       "\n",
       "    .dataframe tbody tr th {\n",
       "        vertical-align: top;\n",
       "    }\n",
       "\n",
       "    .dataframe thead th {\n",
       "        text-align: right;\n",
       "    }\n",
       "</style>\n",
       "<table border=\"1\" class=\"dataframe\">\n",
       "  <thead>\n",
       "    <tr style=\"text-align: right;\">\n",
       "      <th></th>\n",
       "      <th>C1</th>\n",
       "      <th>C2</th>\n",
       "      <th>C3</th>\n",
       "      <th>gubun</th>\n",
       "      <th>char</th>\n",
       "    </tr>\n",
       "  </thead>\n",
       "  <tbody>\n",
       "    <tr>\n",
       "      <th>0</th>\n",
       "      <td>NaN</td>\n",
       "      <td>0.715279</td>\n",
       "      <td>-1.545400</td>\n",
       "      <td>a</td>\n",
       "      <td>aa</td>\n",
       "    </tr>\n",
       "    <tr>\n",
       "      <th>1</th>\n",
       "      <td>NaN</td>\n",
       "      <td>0.621336</td>\n",
       "      <td>-1.545400</td>\n",
       "      <td>a</td>\n",
       "      <td>aa</td>\n",
       "    </tr>\n",
       "    <tr>\n",
       "      <th>2</th>\n",
       "      <td>0.265512</td>\n",
       "      <td>1.028274</td>\n",
       "      <td>0.004291</td>\n",
       "      <td>b</td>\n",
       "      <td>bb</td>\n",
       "    </tr>\n",
       "    <tr>\n",
       "      <th>3</th>\n",
       "      <td>-0.174600</td>\n",
       "      <td>1.028274</td>\n",
       "      <td>1.203037</td>\n",
       "      <td>b</td>\n",
       "      <td>bb</td>\n",
       "    </tr>\n",
       "    <tr>\n",
       "      <th>4</th>\n",
       "      <td>-0.965066</td>\n",
       "      <td>1.028274</td>\n",
       "      <td>0.603664</td>\n",
       "      <td>b</td>\n",
       "      <td>bb</td>\n",
       "    </tr>\n",
       "  </tbody>\n",
       "</table>\n",
       "</div>"
      ],
      "text/plain": [
       "         C1        C2        C3 gubun char\n",
       "0       NaN  0.715279 -1.545400     a   aa\n",
       "1       NaN  0.621336 -1.545400     a   aa\n",
       "2  0.265512  1.028274  0.004291     b   bb\n",
       "3 -0.174600  1.028274  1.203037     b   bb\n",
       "4 -0.965066  1.028274  0.603664     b   bb"
      ]
     },
     "execution_count": 21,
     "metadata": {},
     "output_type": "execute_result"
    }
   ],
   "source": [
    "df5 = df5.reset_index(drop=True)\n",
    "df5"
   ]
  }
 ],
 "metadata": {
  "kernelspec": {
   "display_name": "base",
   "language": "python",
   "name": "python3"
  },
  "language_info": {
   "codemirror_mode": {
    "name": "ipython",
    "version": 3
   },
   "file_extension": ".py",
   "mimetype": "text/x-python",
   "name": "python",
   "nbconvert_exporter": "python",
   "pygments_lexer": "ipython3",
   "version": "3.9.18"
  },
  "orig_nbformat": 4
 },
 "nbformat": 4,
 "nbformat_minor": 2
}
