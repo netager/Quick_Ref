{
 "cells": [
  {
   "attachments": {},
   "cell_type": "markdown",
   "metadata": {},
   "source": [
    "# JBFG Data Analysis Competition"
   ]
  },
  {
   "cell_type": "code",
   "execution_count": 22,
   "metadata": {},
   "outputs": [
    {
     "name": "stdout",
     "output_type": "stream",
     "text": [
      "The watermark extension is already loaded. To reload it, use:\n",
      "  %reload_ext watermark\n",
      "Author: DataLine\n",
      "\n",
      "Python implementation: CPython\n",
      "Python version       : 3.9.18\n",
      "IPython version      : 8.15.0\n",
      "\n",
      "numpy     : 1.24.3\n",
      "pandas    : 2.0.3\n",
      "sklearn   : 1.3.0\n",
      "imblearn  : 0.0\n",
      "tensorflow: 2.10.0\n",
      "plotly    : 5.9.0\n",
      "matplotlib: 3.7.2\n",
      "seaborn   : 0.12.2\n",
      "missingno : 0.5.1\n",
      "lightgbm  : 3.3.5\n",
      "\n",
      "Compiler    : MSC v.1916 64 bit (AMD64)\n",
      "OS          : Windows\n",
      "Release     : 10\n",
      "Machine     : AMD64\n",
      "Processor   : Intel64 Family 6 Model 165 Stepping 3, GenuineIntel\n",
      "CPU cores   : 12\n",
      "Architecture: 64bit\n",
      "\n"
     ]
    }
   ],
   "source": [
    "#!pip install watermark\n",
    "%load_ext watermark\n",
    "%watermark -a 'DataLine' -nmv --packages numpy,pandas,sklearn,imblearn,tensorflow,plotly,matplotlib,seaborn,missingno,lightgbm"
   ]
  },
  {
   "cell_type": "code",
   "execution_count": 23,
   "metadata": {},
   "outputs": [],
   "source": [
    "import imblearn"
   ]
  },
  {
   "attachments": {},
   "cell_type": "markdown",
   "metadata": {},
   "source": [
    "#### 컬럼 데이터 및 Null 건수 확인"
   ]
  },
  {
   "cell_type": "code",
   "execution_count": 24,
   "metadata": {},
   "outputs": [
    {
     "data": {
      "text/plain": [
       "'\\n# 데이터 포맷 함수\\n# ---------------\\ndef change_format(df, column, format):\\n    \\'\\'\\'\\n    데이터프레임의 지정된 컬럼에 컴마, 백분율로 변경하여 데이터프레임을 반환하는 함수\\n        Args:\\n            df (df) : DataFrame\\n            column (str) : column of DataFrame\\n            format (str) : \\'comma\\' | \\'percent\\'\\n        Return:\\n            DataFrame\\n    \\'\\'\\'\\n    if format == \\'comma\\':\\n        df[column] = df[column].apply(lambda x: f\"{x:,}\")\\n    elif format == \\'percent\\':\\n        df[column] = df[column].apply(lambda x: f\"{x:.2%}\")\\n        \\n    return df\\n\\n\\n# 데이터프레임의 특정 컬럼에 대한 건수, Null, Percent 표시\\n# -----------------------------------------------------\\ndef count_column_na_count(df, column):\\n    \\'\\'\\'\\n    데이터프레임의 특정 컬럼에 대한 건수, Null, Percent를 출력하는 함수\\n        Args:\\n            df (df) : DataFrame\\n            column (str) : column of DataFrame\\n        Return:\\n            None\\n    \\'\\'\\'\\n    column_na_counts = df[column].size, df[column].count(), df[column].isnull().sum()\\n    column_na_counts_df = pd.Series(column_na_counts).to_frame().T\\n    column_na_counts_df.columns = [\\'tot_counts\\', \\'data_counts\\', \\'null_counts\\']\\n    column_na_counts_df[\\'data_percents\\'] = column_na_counts_df[\\'data_counts\\'].values/column_na_counts_df[\\'tot_counts\\'].values\\n    column_na_counts_df[\\'null_percents\\'] = column_na_counts_df[\\'null_counts\\'].values/column_na_counts_df[\\'tot_counts\\'].values\\n\\n\\n    column_na_counts_df = change_format(column_na_counts_df, \\'tot_counts\\', \\'comma\\')\\n    column_na_counts_df = change_format(column_na_counts_df, \\'data_counts\\',\\'comma\\')\\n    column_na_counts_df = change_format(column_na_counts_df, \\'null_counts\\',\\'comma\\')\\n    column_na_counts_df = change_format(column_na_counts_df, \\'data_percents\\', \\'percent\\')\\n    column_na_counts_df = change_format(column_na_counts_df, \\'null_percents\\', \\'percent\\')\\n\\n    print(column_na_counts_df.to_string(index=False))\\n    print(\\'-\\'*70)\\n\\n\\ndef count_column_data_count(df, column):\\n    \\'\\'\\' \\n    \\'\\'\\'\\n    # column_data_countcounts = df.groupby(column)[\\'is_churned\\'].value_counts().unstack()\\n\\n\\n    column_counts = df.groupby(column)[\\'is_churned\\'].value_counts().unstack()\\n    column_counts = column_counts.rename(columns={0: \\'exist_counts\\', 1: \\'churned_counts\\'})\\n    column_counts[\\'total_counts\\'] =  column_counts[\\'exist_counts\\'] + column_counts[\\'churned_counts\\']\\n    column_counts = column_counts.fillna(0)\\n\\n    column_percents = df.groupby(column)[\\'is_churned\\'].value_counts(normalize=True).unstack()\\n    column_percents = column_percents.rename(columns={0: \\'exist_percents\\', 1: \\'churned_percents\\'})\\n    column_percents = column_percents.fillna(0)\\n\\n\\n    column_count_percent = pd.concat([column_counts, column_percents], axis=1)\\n    column_count_percent = column_count_percent.reset_index()\\n    column_count_percent = column_count_percent.sort_values(by=\\'churned_percents\\', ascending=False)\\n\\n    \\n    column_count_percent = change_format(column_count_percent, \\'exist_counts\\', \\'comma\\')\\n    column_count_percent = change_format(column_count_percent, \\'churned_counts\\', \\'comma\\')\\n    column_count_percent = change_format(column_count_percent, \\'total_counts\\', \\'comma\\')\\n    column_count_percent = change_format(column_count_percent, \\'exist_percents\\', \\'percent\\')\\n    column_count_percent = change_format(column_count_percent, \\'churned_percents\\', \\'percent\\')\\n    \\n\\n    print(column_count_percent.to_string(index=False))\\n\\n'"
      ]
     },
     "execution_count": 24,
     "metadata": {},
     "output_type": "execute_result"
    }
   ],
   "source": [
    "\"\"\"\n",
    "# 데이터 포맷 함수\n",
    "# ---------------\n",
    "def change_format(df, column, format):\n",
    "    '''\n",
    "    데이터프레임의 지정된 컬럼에 컴마, 백분율로 변경하여 데이터프레임을 반환하는 함수\n",
    "        Args:\n",
    "            df (df) : DataFrame\n",
    "            column (str) : column of DataFrame\n",
    "            format (str) : 'comma' | 'percent'\n",
    "        Return:\n",
    "            DataFrame\n",
    "    '''\n",
    "    if format == 'comma':\n",
    "        df[column] = df[column].apply(lambda x: f\"{x:,}\")\n",
    "    elif format == 'percent':\n",
    "        df[column] = df[column].apply(lambda x: f\"{x:.2%}\")\n",
    "        \n",
    "    return df\n",
    "\n",
    "\n",
    "# 데이터프레임의 특정 컬럼에 대한 건수, Null, Percent 표시\n",
    "# -----------------------------------------------------\n",
    "def count_column_na_count(df, column):\n",
    "    '''\n",
    "    데이터프레임의 특정 컬럼에 대한 건수, Null, Percent를 출력하는 함수\n",
    "        Args:\n",
    "            df (df) : DataFrame\n",
    "            column (str) : column of DataFrame\n",
    "        Return:\n",
    "            None\n",
    "    '''\n",
    "    column_na_counts = df[column].size, df[column].count(), df[column].isnull().sum()\n",
    "    column_na_counts_df = pd.Series(column_na_counts).to_frame().T\n",
    "    column_na_counts_df.columns = ['tot_counts', 'data_counts', 'null_counts']\n",
    "    column_na_counts_df['data_percents'] = column_na_counts_df['data_counts'].values/column_na_counts_df['tot_counts'].values\n",
    "    column_na_counts_df['null_percents'] = column_na_counts_df['null_counts'].values/column_na_counts_df['tot_counts'].values\n",
    "\n",
    "\n",
    "    column_na_counts_df = change_format(column_na_counts_df, 'tot_counts', 'comma')\n",
    "    column_na_counts_df = change_format(column_na_counts_df, 'data_counts','comma')\n",
    "    column_na_counts_df = change_format(column_na_counts_df, 'null_counts','comma')\n",
    "    column_na_counts_df = change_format(column_na_counts_df, 'data_percents', 'percent')\n",
    "    column_na_counts_df = change_format(column_na_counts_df, 'null_percents', 'percent')\n",
    "\n",
    "    print(column_na_counts_df.to_string(index=False))\n",
    "    print('-'*70)\n",
    "\n",
    "\n",
    "def count_column_data_count(df, column):\n",
    "    ''' \n",
    "    '''\n",
    "    # column_data_countcounts = df.groupby(column)['is_churned'].value_counts().unstack()\n",
    "\n",
    "\n",
    "    column_counts = df.groupby(column)['is_churned'].value_counts().unstack()\n",
    "    column_counts = column_counts.rename(columns={0: 'exist_counts', 1: 'churned_counts'})\n",
    "    column_counts['total_counts'] =  column_counts['exist_counts'] + column_counts['churned_counts']\n",
    "    column_counts = column_counts.fillna(0)\n",
    "\n",
    "    column_percents = df.groupby(column)['is_churned'].value_counts(normalize=True).unstack()\n",
    "    column_percents = column_percents.rename(columns={0: 'exist_percents', 1: 'churned_percents'})\n",
    "    column_percents = column_percents.fillna(0)\n",
    "\n",
    "\n",
    "    column_count_percent = pd.concat([column_counts, column_percents], axis=1)\n",
    "    column_count_percent = column_count_percent.reset_index()\n",
    "    column_count_percent = column_count_percent.sort_values(by='churned_percents', ascending=False)\n",
    "\n",
    "    \n",
    "    column_count_percent = change_format(column_count_percent, 'exist_counts', 'comma')\n",
    "    column_count_percent = change_format(column_count_percent, 'churned_counts', 'comma')\n",
    "    column_count_percent = change_format(column_count_percent, 'total_counts', 'comma')\n",
    "    column_count_percent = change_format(column_count_percent, 'exist_percents', 'percent')\n",
    "    column_count_percent = change_format(column_count_percent, 'churned_percents', 'percent')\n",
    "    \n",
    "\n",
    "    print(column_count_percent.to_string(index=False))\n",
    "\n",
    "\"\"\"    "
   ]
  },
  {
   "attachments": {},
   "cell_type": "markdown",
   "metadata": {},
   "source": [
    "## Machine Learning\n",
    "***"
   ]
  },
  {
   "attachments": {},
   "cell_type": "markdown",
   "metadata": {},
   "source": [
    "### Import Library"
   ]
  },
  {
   "cell_type": "code",
   "execution_count": 25,
   "metadata": {},
   "outputs": [],
   "source": [
    "import pandas as pd\n",
    "import numpy as np\n",
    "from itertools import combinations\n",
    "import time\n",
    "import datetime\n",
    "import joblib\n",
    "\n",
    "from sklearn.linear_model import LogisticRegression\n",
    "from sklearn.tree import DecisionTreeClassifier\n",
    "from sklearn.neighbors import KNeighborsClassifier\n",
    "from sklearn.naive_bayes import GaussianNB\n",
    "from sklearn.ensemble import ExtraTreesClassifier, RandomForestClassifier\n",
    "from lightgbm import LGBMClassifier, LGBMRegressor\n",
    "from xgboost import XGBClassifier\n",
    "\n",
    "from sklearn.feature_selection import SelectFromModel\n",
    "from sklearn.metrics import accuracy_score, precision_score, recall_score, f1_score, roc_auc_score\n",
    "from sklearn.feature_selection import RFE\n",
    "from sklearn.model_selection import cross_val_score"
   ]
  },
  {
   "attachments": {},
   "cell_type": "markdown",
   "metadata": {},
   "source": [
    "### Function Definition"
   ]
  },
  {
   "attachments": {},
   "cell_type": "markdown",
   "metadata": {},
   "source": [
    "#### tot_column_count()"
   ]
  },
  {
   "cell_type": "code",
   "execution_count": 26,
   "metadata": {},
   "outputs": [
    {
     "data": {
      "text/plain": [
       "\"\\ndef tot_column_counts(df):\\n    ''' \\n    '''\\n    data_counts = df.count()\\n    null_counts = df.isnull().sum()\\n    tot_counts_df = pd.concat([data_counts, null_counts], axis=1)\\n    tot_counts_df = tot_counts_df.rename(columns={0: 'data_counts', 1: 'null_counts'})\\n    tot_counts_df.insert(0,'tot_counts', tot_counts_df['data_counts'] + tot_counts_df['null_counts'])\\n    tot_counts_df['data_percents'] = tot_counts_df['data_counts'].values / tot_counts_df['tot_counts'].values\\n    tot_counts_df['null_percents'] = tot_counts_df['null_counts'].values / tot_counts_df['tot_counts'].values\\n    tot_counts_df = tot_counts_df.sort_values(by='null_percents', ascending=False)\\n\\n    tot_counts_df = change_format(tot_counts_df, 'tot_counts', 'comma')\\n    tot_counts_df = change_format(tot_counts_df, 'data_counts','comma')\\n    tot_counts_df = change_format(tot_counts_df, 'null_counts','comma')\\n    tot_counts_df = change_format(tot_counts_df, 'data_percents', 'percent')\\n    tot_counts_df = change_format(tot_counts_df, 'null_percents', 'percent')\\n\\n    tot_counts_df = tot_counts_df.reset_index()\\n\\n    print(tot_counts_df.to_string(index=False))\\n    \\n\""
      ]
     },
     "execution_count": 26,
     "metadata": {},
     "output_type": "execute_result"
    }
   ],
   "source": [
    "\"\"\"\n",
    "def tot_column_counts(df):\n",
    "    ''' \n",
    "    '''\n",
    "    data_counts = df.count()\n",
    "    null_counts = df.isnull().sum()\n",
    "    tot_counts_df = pd.concat([data_counts, null_counts], axis=1)\n",
    "    tot_counts_df = tot_counts_df.rename(columns={0: 'data_counts', 1: 'null_counts'})\n",
    "    tot_counts_df.insert(0,'tot_counts', tot_counts_df['data_counts'] + tot_counts_df['null_counts'])\n",
    "    tot_counts_df['data_percents'] = tot_counts_df['data_counts'].values / tot_counts_df['tot_counts'].values\n",
    "    tot_counts_df['null_percents'] = tot_counts_df['null_counts'].values / tot_counts_df['tot_counts'].values\n",
    "    tot_counts_df = tot_counts_df.sort_values(by='null_percents', ascending=False)\n",
    "\n",
    "    tot_counts_df = change_format(tot_counts_df, 'tot_counts', 'comma')\n",
    "    tot_counts_df = change_format(tot_counts_df, 'data_counts','comma')\n",
    "    tot_counts_df = change_format(tot_counts_df, 'null_counts','comma')\n",
    "    tot_counts_df = change_format(tot_counts_df, 'data_percents', 'percent')\n",
    "    tot_counts_df = change_format(tot_counts_df, 'null_percents', 'percent')\n",
    "\n",
    "    tot_counts_df = tot_counts_df.reset_index()\n",
    "\n",
    "    print(tot_counts_df.to_string(index=False))\n",
    "    \n",
    "\"\"\"    "
   ]
  },
  {
   "attachments": {},
   "cell_type": "markdown",
   "metadata": {},
   "source": [
    "#### drop_null_column()"
   ]
  },
  {
   "cell_type": "code",
   "execution_count": 27,
   "metadata": {},
   "outputs": [],
   "source": [
    "# 데이터프레임의 특정컬럼을 리스트로 받아 삭제\n",
    "def drop_null_column(df, drop_list):\n",
    "    '''\n",
    "        데이터프레임의 특정컬럼을 리스트로 받아 삭제후 반환하는 함수\n",
    "        \n",
    "        Args:\n",
    "            df (df) : DataFrame\n",
    "            drop_list (list) : 삭제대상 컬럼의 List \n",
    "        Return:\n",
    "            DataFrame\n",
    "    '''\n",
    "    for col_name in drop_list:\n",
    "        # print(col_name, type(col_name))\n",
    "        df = df.drop(col_name, axis=1)\n",
    "    df.dropna(axis=0, inplace=True)\n",
    "\n",
    "    return df"
   ]
  },
  {
   "attachments": {},
   "cell_type": "markdown",
   "metadata": {},
   "source": [
    "#### encode_onehot()"
   ]
  },
  {
   "cell_type": "code",
   "execution_count": 28,
   "metadata": {},
   "outputs": [],
   "source": [
    "# 원-핫 인코딩 처리 \n",
    "# ----------------\n",
    "def encode_onehot(df):\n",
    "    '''\n",
    "        데이터프레임의 object type 컬럼을 원-핫 인코딩하는 함수\n",
    "        \n",
    "        Args:\n",
    "            df (df) : DataFrame\n",
    "        Return:\n",
    "            DataFrame\n",
    "    '''\n",
    "    catcols = df.select_dtypes(exclude = ['int64','float64']).columns\n",
    "    df = pd.get_dummies(df, columns = catcols)\n",
    "    \n",
    "    return df"
   ]
  },
  {
   "attachments": {},
   "cell_type": "markdown",
   "metadata": {},
   "source": [
    "#### select_feature()"
   ]
  },
  {
   "cell_type": "code",
   "execution_count": 29,
   "metadata": {},
   "outputs": [],
   "source": [
    "# 중요 Feature 식별\n",
    "# ----------------\n",
    "def select_feature(df, y, chosen_model):\n",
    "\n",
    "    np.random.seed(42)    \n",
    "    \n",
    "    available_models = {\n",
    "    'ExtraTrees': ExtraTreesClassifier(n_estimators=100),\n",
    "    'RandomForest': RandomForestClassifier(n_estimators=100),\n",
    "    'KNN': KNeighborsClassifier(n_neighbors=5),\n",
    "    'RFE': RFE(estimator=RandomForestClassifier(n_estimators=100), n_features_to_select=13),\n",
    "    'LGBMC': LGBMClassifier(),\n",
    "    'LGBMR': LGBMRegressor(),\n",
    "    'Xg Boost':XGBClassifier(booster='gbtree', importance_type='gain', eval_metric='auc'),\n",
    "    }\n",
    "\n",
    "    # Create the selected model\n",
    "    clf = available_models[chosen_model]\n",
    "\n",
    "    clf = clf.fit(df.values, y)                                     # Train\n",
    "\n",
    "    if chosen_model == 'LGBMC' or chosen_model == 'LGBMR': \n",
    "        feature_importances = clf.booster_.feature_importance(importance_type=\"gain\")\n",
    "    else:        \n",
    "        feature_importances = clf.feature_importances_\n",
    "\n",
    "\n",
    "    chosen_model = SelectFromModel(clf, prefit=True)\n",
    "    X_df = chosen_model.transform(df.values) \n",
    "    selected_feature_indices = chosen_model.get_support(indices=True)\n",
    "\n",
    "    selected_columns = df.columns[selected_feature_indices]         # Get the indices of the selected features\n",
    "    \n",
    "    return X_df, selected_columns"
   ]
  },
  {
   "attachments": {},
   "cell_type": "markdown",
   "metadata": {},
   "source": [
    "#### proc_smote()"
   ]
  },
  {
   "cell_type": "code",
   "execution_count": 30,
   "metadata": {},
   "outputs": [],
   "source": [
    "def proc_smote(X_new, y):\n",
    "    #Model Training\n",
    "    from sklearn.model_selection import train_test_split\n",
    "    from imblearn.over_sampling import SMOTE\n",
    "\n",
    "    X_train,X_test,y_train,y_test=train_test_split(X_new,y,test_size=0.25,stratify=y,random_state=0)\n",
    "\n",
    "    sm = SMOTE(sampling_strategy='auto', random_state=42)\n",
    "    X_train, y_train=sm.fit_resample(X_train,y_train)\n",
    "    \n",
    "    return X_train, y_train, X_test, y_test\n"
   ]
  },
  {
   "attachments": {},
   "cell_type": "markdown",
   "metadata": {},
   "source": [
    "#### proc_normalization()"
   ]
  },
  {
   "cell_type": "code",
   "execution_count": 31,
   "metadata": {},
   "outputs": [],
   "source": [
    "from sklearn.preprocessing import QuantileTransformer\n",
    "from sklearn.preprocessing import StandardScaler\n",
    "from sklearn.preprocessing import PowerTransformer\n",
    "\n",
    "def proc_normalization(X_train, X_test):\n",
    "    scaler=StandardScaler()\n",
    "    # scaler = QuantileTransformer()\n",
    "    # scaler = PowerTransformer()\n",
    "    X_train=scaler.fit_transform(X_train)\n",
    "    X_test=scaler.transform(X_test)\n",
    "    \n",
    "    return X_train, X_test"
   ]
  },
  {
   "attachments": {},
   "cell_type": "markdown",
   "metadata": {},
   "source": [
    "#### fit_predict_eval()"
   ]
  },
  {
   "cell_type": "code",
   "execution_count": 32,
   "metadata": {},
   "outputs": [],
   "source": [
    "# 예측 및 평가\n",
    "# -----------\n",
    "def fit_predict_eval(proc_type, drop_no, model_comparison, X_train, y_train, X_test, y_test):\n",
    "    \n",
    "    # 초기화\n",
    "    # ------\n",
    "    best_roc_auc = 0\n",
    "    \n",
    "    # Define Models\n",
    "    # ------------- \n",
    "    models = [\n",
    "        # ('LogisticRegression', LogisticRegression()),\n",
    "        # ('DecisionTree', DecisionTreeClassifier(criterion='entropy', random_state=0)),\n",
    "        # ('KNN', KNeighborsClassifier(n_neighbors=5)),\n",
    "        # ('NaiveBayes', GaussianNB()),\n",
    "        # ('RandomForest', RandomForestClassifier(n_estimators=700, criterion='entropy', random_state=0)),\n",
    "        ('LightGBM', LGBMClassifier(n_estimators=700, random_state=42, boosting_type='GOSS')),\n",
    "        # ('XgBoost', XGBClassifier(n_estimators=700, random_state=42, use_label_encoder=False,  eval_metric='auc')),\n",
    "        # ('Xg Boost', XGBClassifier(n_estimators=700, random_state=42, use_label_encoder=False, eval_metric='logloss')),        \n",
    "        # ('ExtraTrees', ExtraTreesClassifier(n_estimators=700)),\n",
    "        # ('SVM', SVC(kernel='linear')),\n",
    "        # ('LASSO', Lasso(alpha=0.01)),\n",
    "    ]\n",
    "\n",
    "\n",
    "    # Model Fit and Testing\n",
    "    # ---------------------\n",
    "    for model_name, classifier in models:\n",
    "        start_time = time.time()\n",
    "\n",
    "        # 학습\n",
    "        # ----            \n",
    "        classifier.fit(X_train, y_train)            # Fit\n",
    "        \n",
    "        # 학습된 모델 저장\n",
    "        # ---------------\n",
    "        # file_name = f'./models/{model_name}.pkl'\n",
    "        # print\n",
    "        # joblib.dump(classifier, file_name)\n",
    "\n",
    "        # 평가\n",
    "        # ---- \n",
    "        y_pred = classifier.predict(X_test)         # Test\n",
    "        pred_proba = classifier.predict_proba(X_test)[:, 1]\n",
    "\n",
    "        accuracy = accuracy_score(y_test, y_pred)\n",
    "        f1 = f1_score(y_test, y_pred, average='weighted')\n",
    "        \n",
    "        accuracies = cross_val_score(estimator=classifier, X=X_train, y=y_train, cv=5, scoring=\"roc_auc\")\n",
    "        # accuracies = cross_val_score(estimator=classifier, X=X_test, y=y_test, cv=5, scoring=\"recall\")\n",
    "        cv_auc = accuracies.mean()\n",
    "        cv_std = accuracies.std()\n",
    "        \n",
    "        accuracy_class_0 = accuracy_score(y_test[y_test == 0], y_pred[y_test == 0])\n",
    "        accuracy_class_1 = accuracy_score(y_test[y_test == 1], y_pred[y_test == 1], )\n",
    "        \n",
    "        roc_auc = roc_auc_score(y_test, pred_proba)\n",
    "        \n",
    "        \n",
    "        # Collect Result\n",
    "        # --------------\n",
    "        model_comparison[f'{model_name}_{proc_type}_{drop_no}'] = [accuracy, accuracy_class_0, accuracy_class_1, f1, cv_auc, cv_std, roc_auc]\n",
    "        \n",
    "        \n",
    "        # Best ROC_AUC Value Return\n",
    "        # -------------------------\n",
    "        if roc_auc > best_roc_auc:\n",
    "            best_roc_auc = roc_auc\n",
    "\n",
    "        cur_datetime = datetime.datetime.now().strftime('%Y-%m-%d %H:%M:%S')\n",
    "        end_time = time.time()\n",
    "        delta_time = end_time - start_time\n",
    "        print(f'[테스트] {cur_datetime}, {str(datetime.timedelta(seconds=delta_time)).split(\".\")[0]}, [{proc_type}_{drop_no}], Model Name: {model_name:<18}, BEST AUC: {best_roc_auc:0.6f}, AUC: {roc_auc:0.6f}')\n",
    "\n",
    "    return best_roc_auc\n",
    "\n"
   ]
  },
  {
   "attachments": {},
   "cell_type": "markdown",
   "metadata": {},
   "source": [
    "#### print_eval_result()"
   ]
  },
  {
   "cell_type": "code",
   "execution_count": 33,
   "metadata": {},
   "outputs": [],
   "source": [
    "def print_eval_result(model_comparison):\n",
    "\n",
    "    # # MODEL COMPARISSON\n",
    "    # Model_com_df=pd.DataFrame(model_comparison).T\n",
    "    # Model_com_df.columns=['Model Accuracy','Model Accuracy-0','Model Accuracy-1','Model F1-Score','CV Accuracy','CV std', 'AUC']\n",
    "    # Model_com_df=Model_com_df.sort_values(by='AUC',ascending=False)\n",
    "    # # display(Model_com_df.style.format(\"{:.2%}\").background_gradient(cmap='magma'))\n",
    "\n",
    "    Model_com_df = pd.DataFrame(model_comparison).T\n",
    "    Model_com_df.columns = ['Accuracy', 'Accuracy-No', 'Accuracy-Yes', 'F1-Score', 'CV AUC', 'CV std', 'AUC']\n",
    "    Model_com_df = Model_com_df.sort_values(by='AUC', ascending=False)\n",
    "\n",
    "    def highlight_below_75(s):\n",
    "        if s.name != 'CV std' and isinstance(s, pd.Series) and s.dtype == 'float64':\n",
    "            return ['color: red' if value < 0.75 else 'color: black' for value in s]\n",
    "        else:\n",
    "            return ['color: black'] * len(s)\n",
    "\n",
    "    styled_df = Model_com_df.iloc[:10,:].style.highlight_max(axis=0).apply(highlight_below_75, subset=pd.IndexSlice[:, :'CV AUC']).format(\"{:.2%}\", subset=pd.IndexSlice[:, :'CV AUC'])\n",
    "    display(styled_df)"
   ]
  },
  {
   "attachments": {},
   "cell_type": "markdown",
   "metadata": {},
   "source": [
    "#### test_transform()"
   ]
  },
  {
   "cell_type": "code",
   "execution_count": 34,
   "metadata": {},
   "outputs": [],
   "source": [
    "def test_transform(df):\n",
    "    \n",
    "    # 데이터 변환\n",
    "    # ------------------- \n",
    "    df = df.drop('cstno', axis=1)\n",
    "    df = df.drop('sex', axis=1)\n",
    "    # after_drop_cnt=len(df)\n",
    "    df['imcome_cat']=df['imcome_cat'].replace({'Less than $40K':40000, '$40K - $60K':50000, '$60K - $80K':70000, '$80K - $120K':100000, '$120K +':120000, 'Unknown':63000})\n",
    "\n",
    "    \n",
    "    # 결측치 처리\n",
    "    # ----------\n",
    "    df = df.fillna(df.mean(numeric_only=True))\n",
    "    df.dropna(axis=0, inplace=True)\n",
    "    # after_drop_cnt=len(df)\n",
    "    \n",
    "    # One-Hot Encoding\n",
    "    # ----------------\n",
    "    df = encode_onehot(df)  \n",
    "   \n",
    "    return df"
   ]
  },
  {
   "attachments": {},
   "cell_type": "markdown",
   "metadata": {},
   "source": [
    "### 학습 및 Test 단계"
   ]
  },
  {
   "attachments": {},
   "cell_type": "markdown",
   "metadata": {},
   "source": [
    "#### 데이터 로딩"
   ]
  },
  {
   "cell_type": "code",
   "execution_count": 35,
   "metadata": {},
   "outputs": [],
   "source": [
    "ml_churner_df = pd.read_csv(\"./data/bank_churner.csv\")\n",
    "tot_cnt = len(ml_churner_df)"
   ]
  },
  {
   "attachments": {},
   "cell_type": "markdown",
   "metadata": {},
   "source": [
    "#### 예측 및 결과"
   ]
  },
  {
   "cell_type": "code",
   "execution_count": 36,
   "metadata": {},
   "outputs": [],
   "source": [
    "# 결과 저장소 초기화\n",
    "# -----------------\n",
    "model_comparison = {}  #Dictionary to store the comparison metrics of models\n",
    "model_eval_comparison = {}       \n",
    "drop_no = 1                 "
   ]
  },
  {
   "cell_type": "code",
   "execution_count": 37,
   "metadata": {},
   "outputs": [
    {
     "name": "stdout",
     "output_type": "stream",
     "text": [
      "[테스트] 2023-09-17 16:59:28, 0:00:08, [T_1], Model Name: LightGBM          , BEST AUC: 0.978527, AUC: 0.978527\n",
      "[테스트] 2023-09-17 16:59:28, 0:00:10, [T_1], AUC: 0.978527, tot_cnt: 8101  , after_drop_cnt : 8101  , after_smote_cnt: 10200 , X_train:(10200, 13), y_train:(10200,), X_test:(2026, 13), y_test:(2026,)\n"
     ]
    }
   ],
   "source": [
    "# 결과 저장소 초기화\n",
    "# -----------------\n",
    "model_comparison = {}  #Dictionary to store the comparison metrics of models\n",
    "model_eval_comparison = {}                        \n",
    "drop_no = 1\n",
    "start_time = time.time()\n",
    "\n",
    "\n",
    "ml_churner_df = test_transform(ml_churner_df)\n",
    "after_drop_cnt = len(ml_churner_df)\n",
    "\n",
    "# ML 데이터 분리\n",
    "# --------------\n",
    "X=ml_churner_df.drop(['is_churned'],axis=1)\n",
    "y=ml_churner_df['is_churned']\n",
    "\n",
    "\n",
    "# 중요 Feature Column 선택\n",
    "# -----------------------\n",
    "# X_new, selected_columns = select_feature(X, y, 'Xg Boost')\n",
    "X_new, selected_columns = select_feature(X, y, 'ExtraTrees')\n",
    "\n",
    "\n",
    "# Train and Test 데이터 생성 및 가공\n",
    "# ---------------------------------\n",
    "X_train, y_train, X_test, y_test = proc_smote(X_new, y)\n",
    "X_train_for_normalization = X_train.copy()\n",
    "after_smote_cnt = len(X_train)\n",
    "\n",
    "\n",
    "# Normalization\n",
    "# -------------\n",
    "X_train, X_test = proc_normalization(X_train, X_test)    \n",
    "\n",
    "\n",
    "# Pridict 및 Test 평가\n",
    "# --------------------\n",
    "proc_type='T'\n",
    "test_auc = fit_predict_eval(proc_type, drop_no, model_comparison, X_train, y_train, X_test, y_test)\n",
    "\n",
    "\n",
    "# 예측 및 테스트 로그 출력\n",
    "# ----------------------\n",
    "cur_datetime = datetime.datetime.now().strftime('%Y-%m-%d %H:%M:%S')\n",
    "end_time = time.time()\n",
    "delta_time = end_time - start_time\n",
    "print(f'[테스트] {cur_datetime}, {str(datetime.timedelta(seconds=delta_time)).split(\".\")[0]}, [{proc_type}_{drop_no}], AUC: {test_auc:0.6f}, tot_cnt: {tot_cnt:<6}, after_drop_cnt : {after_drop_cnt:<6}, after_smote_cnt: {after_smote_cnt:<6}, X_train:{X_train.shape}, y_train:{y_train.shape}, X_test:{X_test.shape}, y_test:{y_test.shape}')\n",
    "\n",
    "\n",
    "# print_eval_result(model_comparison)\n"
   ]
  },
  {
   "cell_type": "code",
   "execution_count": 41,
   "metadata": {},
   "outputs": [
    {
     "data": {
      "text/html": [
       "<style type=\"text/css\">\n",
       "#T_c27b1_row0_col0, #T_c27b1_row0_col1, #T_c27b1_row0_col2, #T_c27b1_row0_col3, #T_c27b1_row0_col4 {\n",
       "  background-color: yellow;\n",
       "  color: black;\n",
       "}\n",
       "#T_c27b1_row0_col5, #T_c27b1_row0_col6 {\n",
       "  background-color: yellow;\n",
       "}\n",
       "</style>\n",
       "<table id=\"T_c27b1\">\n",
       "  <thead>\n",
       "    <tr>\n",
       "      <th class=\"blank level0\" >&nbsp;</th>\n",
       "      <th id=\"T_c27b1_level0_col0\" class=\"col_heading level0 col0\" >Accuracy</th>\n",
       "      <th id=\"T_c27b1_level0_col1\" class=\"col_heading level0 col1\" >Accuracy-No</th>\n",
       "      <th id=\"T_c27b1_level0_col2\" class=\"col_heading level0 col2\" >Accuracy-Yes</th>\n",
       "      <th id=\"T_c27b1_level0_col3\" class=\"col_heading level0 col3\" >F1-Score</th>\n",
       "      <th id=\"T_c27b1_level0_col4\" class=\"col_heading level0 col4\" >CV AUC</th>\n",
       "      <th id=\"T_c27b1_level0_col5\" class=\"col_heading level0 col5\" >CV std</th>\n",
       "      <th id=\"T_c27b1_level0_col6\" class=\"col_heading level0 col6\" >AUC</th>\n",
       "    </tr>\n",
       "  </thead>\n",
       "  <tbody>\n",
       "    <tr>\n",
       "      <th id=\"T_c27b1_level0_row0\" class=\"row_heading level0 row0\" >LightGBM_T_1</th>\n",
       "      <td id=\"T_c27b1_row0_col0\" class=\"data row0 col0\" >94.87%</td>\n",
       "      <td id=\"T_c27b1_row0_col1\" class=\"data row0 col1\" >97.82%</td>\n",
       "      <td id=\"T_c27b1_row0_col2\" class=\"data row0 col2\" >79.38%</td>\n",
       "      <td id=\"T_c27b1_row0_col3\" class=\"data row0 col3\" >94.76%</td>\n",
       "      <td id=\"T_c27b1_row0_col4\" class=\"data row0 col4\" >99.39%</td>\n",
       "      <td id=\"T_c27b1_row0_col5\" class=\"data row0 col5\" >0.011514</td>\n",
       "      <td id=\"T_c27b1_row0_col6\" class=\"data row0 col6\" >0.978527</td>\n",
       "    </tr>\n",
       "  </tbody>\n",
       "</table>\n"
      ],
      "text/plain": [
       "<pandas.io.formats.style.Styler at 0x17969755a60>"
      ]
     },
     "metadata": {},
     "output_type": "display_data"
    }
   ],
   "source": [
    "print_eval_result(model_comparison)"
   ]
  },
  {
   "attachments": {},
   "cell_type": "markdown",
   "metadata": {},
   "source": [
    "### 평가 단계 ~ 평가자가 Competition 평가를 위해 사용 하는 단계"
   ]
  },
  {
   "attachments": {},
   "cell_type": "markdown",
   "metadata": {},
   "source": [
    "#### 데이터 로딩"
   ]
  },
  {
   "cell_type": "code",
   "execution_count": 38,
   "metadata": {},
   "outputs": [],
   "source": [
    "eval_df = pd.read_csv(\"./data/test_churner.csv\") # 평가를 위한 데이터 로드 - 평가데이터 경로를 입력해 주세요!!!\n",
    "# eval_df = pd.read_csv(\"./data/test_churner_kaggle_all.csv\") # 평가를 위한 데이터 로드 - 평가데이터 경로를 입력해 주세요!!!\n",
    "\n",
    "fit_df = pd.read_csv(\"./data/bank_churner.csv\") # 학습을 위한 데이터 로드\n",
    "tot_cnt = len(eval_df)"
   ]
  },
  {
   "attachments": {},
   "cell_type": "markdown",
   "metadata": {},
   "source": [
    "#### 예측 및 결과"
   ]
  },
  {
   "cell_type": "code",
   "execution_count": 39,
   "metadata": {},
   "outputs": [
    {
     "name": "stdout",
     "output_type": "stream",
     "text": [
      "[테스트] 2023-09-17 16:59:39, 0:00:08, [E_1], Model Name: LightGBM          , BEST AUC: 0.989888, AUC: 0.989888\n",
      "[평  가] 2023-09-17 16:59:39, 0:00:10, [E_1], AUC: 0.989888, tot_cnt: 2026  , after_drop_cnt : 2026  , X_eval: (2026, 13), y_eval:(2026,)\n"
     ]
    }
   ],
   "source": [
    "# -----------------------------------------------------------------------------------    \n",
    "# 평가 for Competition\n",
    "# -----------------------------------------------------------------------------------\n",
    "start_time = time.time()\n",
    "\n",
    "\n",
    "# 전처리 단계\n",
    "# -----------\n",
    "fit_df = test_transform(fit_df)\n",
    "eval_df = test_transform(eval_df)\n",
    "after_drop_cnt = len(eval_df)\n",
    "\n",
    "    \n",
    "# 평가를 위한 데이터 분리\n",
    "# ---------------------\n",
    "X_train=fit_df.drop(['is_churned'],axis=1)\n",
    "y_train=fit_df['is_churned']\n",
    "\n",
    "X_eval=eval_df.drop(['is_churned'],axis=1)\n",
    "y_eval=eval_df['is_churned']\n",
    "\n",
    "\n",
    "# 중요 Feature Column 선택\n",
    "# -----------------------\n",
    "X_new, selected_columns = select_feature(X_train, y_train, 'ExtraTrees')\n",
    "X_eval = X_eval[selected_columns]\n",
    "\n",
    "\n",
    "# Train and Test 데이터 생성 및 가공\n",
    "# ---------------------------------\n",
    "X_train, y_train, X_test_temp, y_test_temp = proc_smote(X_new, y_train)\n",
    "\n",
    "\n",
    "# Evaluation 데이터 생성 및 가공\n",
    "# ---------------------------------\n",
    "X_train, X_eval = proc_normalization(X_train, X_eval.values)   \n",
    "\n",
    "\n",
    "# 최종 평가\n",
    "# --------\n",
    "proc_type='E'\n",
    "# eval_auc = fit_predict(proc_type, drop_no, model_eval_comparison, X_train_for_evaluation, y_train_for_evaluation, X_eval, y_eval)\n",
    "eval_auc = fit_predict_eval(proc_type, drop_no, model_eval_comparison, X_train, y_train, X_eval, y_eval)\n",
    "\n",
    "\n",
    "# 최종 평가 로그 출력\n",
    "# ------------------\n",
    "cur_datetime = datetime.datetime.now().strftime('%Y-%m-%d %H:%M:%S')\n",
    "end_time = time.time()\n",
    "delta_time = end_time - start_time\n",
    "# print(f'[평  가] {cur_datetime}, {str(datetime.timedelta(seconds=delta_time)).split(\".\")[0]}, AUC: {test_auc:0.6f}, 처리 건수: {len(eval_df)}, 최종 평가 건수: {len(X_eval)}')\n",
    "print(f'[평  가] {cur_datetime}, {str(datetime.timedelta(seconds=delta_time)).split(\".\")[0]}, [{proc_type}_{drop_no}], AUC: {eval_auc:0.6f}, tot_cnt: {tot_cnt:<6}, after_drop_cnt : {after_drop_cnt:<6}, X_eval: {X_eval.shape}, y_eval:{y_eval.shape}')\n",
    "\n",
    "\n",
    "# print_eval_result(model_eval_comparison)"
   ]
  },
  {
   "cell_type": "code",
   "execution_count": 40,
   "metadata": {},
   "outputs": [
    {
     "data": {
      "text/html": [
       "<style type=\"text/css\">\n",
       "#T_acefd_row0_col0, #T_acefd_row0_col1, #T_acefd_row0_col2, #T_acefd_row0_col3, #T_acefd_row0_col4 {\n",
       "  background-color: yellow;\n",
       "  color: black;\n",
       "}\n",
       "#T_acefd_row0_col5, #T_acefd_row0_col6 {\n",
       "  background-color: yellow;\n",
       "}\n",
       "</style>\n",
       "<table id=\"T_acefd\">\n",
       "  <thead>\n",
       "    <tr>\n",
       "      <th class=\"blank level0\" >&nbsp;</th>\n",
       "      <th id=\"T_acefd_level0_col0\" class=\"col_heading level0 col0\" >Accuracy</th>\n",
       "      <th id=\"T_acefd_level0_col1\" class=\"col_heading level0 col1\" >Accuracy-No</th>\n",
       "      <th id=\"T_acefd_level0_col2\" class=\"col_heading level0 col2\" >Accuracy-Yes</th>\n",
       "      <th id=\"T_acefd_level0_col3\" class=\"col_heading level0 col3\" >F1-Score</th>\n",
       "      <th id=\"T_acefd_level0_col4\" class=\"col_heading level0 col4\" >CV AUC</th>\n",
       "      <th id=\"T_acefd_level0_col5\" class=\"col_heading level0 col5\" >CV std</th>\n",
       "      <th id=\"T_acefd_level0_col6\" class=\"col_heading level0 col6\" >AUC</th>\n",
       "    </tr>\n",
       "  </thead>\n",
       "  <tbody>\n",
       "    <tr>\n",
       "      <th id=\"T_acefd_level0_row0\" class=\"row_heading level0 row0\" >LightGBM_E_1</th>\n",
       "      <td id=\"T_acefd_row0_col0\" class=\"data row0 col0\" >96.25%</td>\n",
       "      <td id=\"T_acefd_row0_col1\" class=\"data row0 col1\" >97.53%</td>\n",
       "      <td id=\"T_acefd_row0_col2\" class=\"data row0 col2\" >89.60%</td>\n",
       "      <td id=\"T_acefd_row0_col3\" class=\"data row0 col3\" >96.27%</td>\n",
       "      <td id=\"T_acefd_row0_col4\" class=\"data row0 col4\" >99.39%</td>\n",
       "      <td id=\"T_acefd_row0_col5\" class=\"data row0 col5\" >0.011514</td>\n",
       "      <td id=\"T_acefd_row0_col6\" class=\"data row0 col6\" >0.989888</td>\n",
       "    </tr>\n",
       "  </tbody>\n",
       "</table>\n"
      ],
      "text/plain": [
       "<pandas.io.formats.style.Styler at 0x1796925d520>"
      ]
     },
     "metadata": {},
     "output_type": "display_data"
    }
   ],
   "source": [
    "print_eval_result(model_eval_comparison)\n"
   ]
  }
 ],
 "metadata": {
  "kernelspec": {
   "display_name": "base",
   "language": "python",
   "name": "python3"
  },
  "language_info": {
   "codemirror_mode": {
    "name": "ipython",
    "version": 3
   },
   "file_extension": ".py",
   "mimetype": "text/x-python",
   "name": "python",
   "nbconvert_exporter": "python",
   "pygments_lexer": "ipython3",
   "version": "3.9.18"
  },
  "orig_nbformat": 4
 },
 "nbformat": 4,
 "nbformat_minor": 2
}
