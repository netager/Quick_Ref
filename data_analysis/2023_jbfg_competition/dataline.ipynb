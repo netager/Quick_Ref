{
 "cells": [
  {
   "attachments": {},
   "cell_type": "markdown",
   "metadata": {},
   "source": [
    "# 데이터 탐색 과정"
   ]
  },
  {
   "attachments": {},
   "cell_type": "markdown",
   "metadata": {},
   "source": [
    "## 분석용 Library import "
   ]
  },
  {
   "cell_type": "code",
   "execution_count": 10,
   "metadata": {},
   "outputs": [],
   "source": [
    "import pandas as pd\n",
    "import numpy as np\n",
    "import seaborn as sns\n",
    "\n",
    "import warnings\n",
    "warnings.filterwarnings('ignore')\n",
    "\n"
   ]
  },
  {
   "attachments": {},
   "cell_type": "markdown",
   "metadata": {},
   "source": [
    "## 데이터 세트 로딩\n",
    "### \"data/bank_churner.csv\"를 판다스 데이터프레임으로 로딩(pd.read_csv)"
   ]
  },
  {
   "cell_type": "code",
   "execution_count": 5,
   "metadata": {},
   "outputs": [
    {
     "data": {
      "text/html": [
       "<div>\n",
       "<style scoped>\n",
       "    .dataframe tbody tr th:only-of-type {\n",
       "        vertical-align: middle;\n",
       "    }\n",
       "\n",
       "    .dataframe tbody tr th {\n",
       "        vertical-align: top;\n",
       "    }\n",
       "\n",
       "    .dataframe thead th {\n",
       "        text-align: right;\n",
       "    }\n",
       "</style>\n",
       "<table border=\"1\" class=\"dataframe\">\n",
       "  <thead>\n",
       "    <tr style=\"text-align: right;\">\n",
       "      <th></th>\n",
       "      <th>cstno</th>\n",
       "      <th>is_churned</th>\n",
       "      <th>age</th>\n",
       "      <th>sex</th>\n",
       "      <th>dependent_num</th>\n",
       "      <th>education</th>\n",
       "      <th>marital_stat</th>\n",
       "      <th>imcome_cat</th>\n",
       "      <th>card_type</th>\n",
       "      <th>mon_on_book</th>\n",
       "      <th>...</th>\n",
       "      <th>months_inact_for_12m</th>\n",
       "      <th>contact_cnt_for_12m</th>\n",
       "      <th>credit_line</th>\n",
       "      <th>tot_revol_balance</th>\n",
       "      <th>mean_open_to_buy</th>\n",
       "      <th>tot_amt_ratio_q4_q1</th>\n",
       "      <th>tot_trans_amt_for_12m</th>\n",
       "      <th>tot_trans_cnt_for_12m</th>\n",
       "      <th>tot_cnt_ratio_q4_q1</th>\n",
       "      <th>mean_util_pct</th>\n",
       "    </tr>\n",
       "  </thead>\n",
       "  <tbody>\n",
       "    <tr>\n",
       "      <th>0</th>\n",
       "      <td>708082083</td>\n",
       "      <td>0</td>\n",
       "      <td>45</td>\n",
       "      <td>F</td>\n",
       "      <td>3</td>\n",
       "      <td>High School</td>\n",
       "      <td>Married</td>\n",
       "      <td>Less than $40K</td>\n",
       "      <td>Blue</td>\n",
       "      <td>36</td>\n",
       "      <td>...</td>\n",
       "      <td>3</td>\n",
       "      <td>3</td>\n",
       "      <td>3544.0</td>\n",
       "      <td>NaN</td>\n",
       "      <td>1883.0</td>\n",
       "      <td>0.831</td>\n",
       "      <td>NaN</td>\n",
       "      <td>111.0</td>\n",
       "      <td>0.734</td>\n",
       "      <td>0.469</td>\n",
       "    </tr>\n",
       "    <tr>\n",
       "      <th>1</th>\n",
       "      <td>708083283</td>\n",
       "      <td>1</td>\n",
       "      <td>58</td>\n",
       "      <td>M</td>\n",
       "      <td>0</td>\n",
       "      <td>Unknown</td>\n",
       "      <td>Single</td>\n",
       "      <td>$40K - $60K</td>\n",
       "      <td>Blue</td>\n",
       "      <td>45</td>\n",
       "      <td>...</td>\n",
       "      <td>1</td>\n",
       "      <td>3</td>\n",
       "      <td>3421.0</td>\n",
       "      <td>2517.0</td>\n",
       "      <td>904.0</td>\n",
       "      <td>0.992</td>\n",
       "      <td>992.0</td>\n",
       "      <td>21.0</td>\n",
       "      <td>0.400</td>\n",
       "      <td>NaN</td>\n",
       "    </tr>\n",
       "    <tr>\n",
       "      <th>2</th>\n",
       "      <td>708084558</td>\n",
       "      <td>1</td>\n",
       "      <td>46</td>\n",
       "      <td>M</td>\n",
       "      <td>3</td>\n",
       "      <td>Doctorate</td>\n",
       "      <td>Divorced</td>\n",
       "      <td>$80K - $120K</td>\n",
       "      <td>Blue</td>\n",
       "      <td>38</td>\n",
       "      <td>...</td>\n",
       "      <td>3</td>\n",
       "      <td>3</td>\n",
       "      <td>8258.0</td>\n",
       "      <td>1771.0</td>\n",
       "      <td>6487.0</td>\n",
       "      <td>NaN</td>\n",
       "      <td>1447.0</td>\n",
       "      <td>23.0</td>\n",
       "      <td>0.000</td>\n",
       "      <td>0.214</td>\n",
       "    </tr>\n",
       "    <tr>\n",
       "      <th>3</th>\n",
       "      <td>708085458</td>\n",
       "      <td>0</td>\n",
       "      <td>34</td>\n",
       "      <td>F</td>\n",
       "      <td>2</td>\n",
       "      <td>Uneducated</td>\n",
       "      <td>Single</td>\n",
       "      <td>Less than $40K</td>\n",
       "      <td>Blue</td>\n",
       "      <td>24</td>\n",
       "      <td>...</td>\n",
       "      <td>2</td>\n",
       "      <td>2</td>\n",
       "      <td>1438.3</td>\n",
       "      <td>0.0</td>\n",
       "      <td>1438.3</td>\n",
       "      <td>0.827</td>\n",
       "      <td>3940.0</td>\n",
       "      <td>82.0</td>\n",
       "      <td>0.952</td>\n",
       "      <td>0.000</td>\n",
       "    </tr>\n",
       "    <tr>\n",
       "      <th>4</th>\n",
       "      <td>708086958</td>\n",
       "      <td>0</td>\n",
       "      <td>49</td>\n",
       "      <td>F</td>\n",
       "      <td>2</td>\n",
       "      <td>Uneducated</td>\n",
       "      <td>Married</td>\n",
       "      <td>Unknown</td>\n",
       "      <td>Blue</td>\n",
       "      <td>41</td>\n",
       "      <td>...</td>\n",
       "      <td>5</td>\n",
       "      <td>2</td>\n",
       "      <td>3128.0</td>\n",
       "      <td>749.0</td>\n",
       "      <td>2379.0</td>\n",
       "      <td>0.598</td>\n",
       "      <td>NaN</td>\n",
       "      <td>NaN</td>\n",
       "      <td>NaN</td>\n",
       "      <td>0.239</td>\n",
       "    </tr>\n",
       "  </tbody>\n",
       "</table>\n",
       "<p>5 rows × 21 columns</p>\n",
       "</div>"
      ],
      "text/plain": [
       "       cstno  is_churned  age sex  dependent_num    education marital_stat  \\\n",
       "0  708082083           0   45   F              3  High School      Married   \n",
       "1  708083283           1   58   M              0      Unknown       Single   \n",
       "2  708084558           1   46   M              3    Doctorate     Divorced   \n",
       "3  708085458           0   34   F              2   Uneducated       Single   \n",
       "4  708086958           0   49   F              2   Uneducated      Married   \n",
       "\n",
       "       imcome_cat card_type  mon_on_book  ...  months_inact_for_12m  \\\n",
       "0  Less than $40K      Blue           36  ...                     3   \n",
       "1     $40K - $60K      Blue           45  ...                     1   \n",
       "2    $80K - $120K      Blue           38  ...                     3   \n",
       "3  Less than $40K      Blue           24  ...                     2   \n",
       "4         Unknown      Blue           41  ...                     5   \n",
       "\n",
       "   contact_cnt_for_12m  credit_line  tot_revol_balance  mean_open_to_buy  \\\n",
       "0                    3       3544.0                NaN            1883.0   \n",
       "1                    3       3421.0             2517.0             904.0   \n",
       "2                    3       8258.0             1771.0            6487.0   \n",
       "3                    2       1438.3                0.0            1438.3   \n",
       "4                    2       3128.0              749.0            2379.0   \n",
       "\n",
       "   tot_amt_ratio_q4_q1  tot_trans_amt_for_12m  tot_trans_cnt_for_12m  \\\n",
       "0                0.831                    NaN                  111.0   \n",
       "1                0.992                  992.0                   21.0   \n",
       "2                  NaN                 1447.0                   23.0   \n",
       "3                0.827                 3940.0                   82.0   \n",
       "4                0.598                    NaN                    NaN   \n",
       "\n",
       "   tot_cnt_ratio_q4_q1  mean_util_pct  \n",
       "0                0.734          0.469  \n",
       "1                0.400            NaN  \n",
       "2                0.000          0.214  \n",
       "3                0.952          0.000  \n",
       "4                  NaN          0.239  \n",
       "\n",
       "[5 rows x 21 columns]"
      ]
     },
     "execution_count": 5,
     "metadata": {},
     "output_type": "execute_result"
    }
   ],
   "source": [
    "bank_churner_df = pd.read_csv(\"./data/bank_churner.csv\")\n",
    "bank_churner_df.head(5)"
   ]
  },
  {
   "attachments": {},
   "cell_type": "markdown",
   "metadata": {},
   "source": [
    "## 데이터 세트 정보 확인\n",
    "- 일부 Feature에 Null 값 존재함을 확인 함\n",
    "- 향후 모델학습시 Null 값 처리에 대한 필요성 확인 함\n",
    "- 모델학습을 의해 Oject 항목을 적절하게 변형할 필요성을 확인 함 - sex, education, marital_stat, imcome_cat, card_type (5개 Features) "
   ]
  },
  {
   "cell_type": "code",
   "execution_count": 4,
   "metadata": {},
   "outputs": [
    {
     "name": "stdout",
     "output_type": "stream",
     "text": [
      "<class 'pandas.core.frame.DataFrame'>\n",
      "RangeIndex: 8101 entries, 0 to 8100\n",
      "Data columns (total 21 columns):\n",
      " #   Column                 Non-Null Count  Dtype  \n",
      "---  ------                 --------------  -----  \n",
      " 0   cstno                  8101 non-null   int64  \n",
      " 1   is_churned             8101 non-null   int64  \n",
      " 2   age                    8101 non-null   int64  \n",
      " 3   sex                    7293 non-null   object \n",
      " 4   dependent_num          8101 non-null   int64  \n",
      " 5   education              8101 non-null   object \n",
      " 6   marital_stat           8101 non-null   object \n",
      " 7   imcome_cat             6482 non-null   object \n",
      " 8   card_type              8101 non-null   object \n",
      " 9   mon_on_book            8101 non-null   int64  \n",
      " 10  tot_product_count      8101 non-null   int64  \n",
      " 11  months_inact_for_12m   8101 non-null   int64  \n",
      " 12  contact_cnt_for_12m    8101 non-null   int64  \n",
      " 13  credit_line            8101 non-null   float64\n",
      " 14  tot_revol_balance      6580 non-null   float64\n",
      " 15  mean_open_to_buy       8101 non-null   float64\n",
      " 16  tot_amt_ratio_q4_q1    5666 non-null   float64\n",
      " 17  tot_trans_amt_for_12m  6432 non-null   float64\n",
      " 18  tot_trans_cnt_for_12m  4851 non-null   float64\n",
      " 19  tot_cnt_ratio_q4_q1    6472 non-null   float64\n",
      " 20  mean_util_pct          5575 non-null   float64\n",
      "dtypes: float64(8), int64(8), object(5)\n",
      "memory usage: 1.3+ MB\n"
     ]
    }
   ],
   "source": [
    "bank_churner_df.info()"
   ]
  },
  {
   "attachments": {},
   "cell_type": "markdown",
   "metadata": {},
   "source": [
    "## 수치 데이터의 분포값 개략 확인"
   ]
  },
  {
   "cell_type": "code",
   "execution_count": 6,
   "metadata": {},
   "outputs": [
    {
     "data": {
      "text/html": [
       "<div>\n",
       "<style scoped>\n",
       "    .dataframe tbody tr th:only-of-type {\n",
       "        vertical-align: middle;\n",
       "    }\n",
       "\n",
       "    .dataframe tbody tr th {\n",
       "        vertical-align: top;\n",
       "    }\n",
       "\n",
       "    .dataframe thead th {\n",
       "        text-align: right;\n",
       "    }\n",
       "</style>\n",
       "<table border=\"1\" class=\"dataframe\">\n",
       "  <thead>\n",
       "    <tr style=\"text-align: right;\">\n",
       "      <th></th>\n",
       "      <th>cstno</th>\n",
       "      <th>is_churned</th>\n",
       "      <th>age</th>\n",
       "      <th>dependent_num</th>\n",
       "      <th>mon_on_book</th>\n",
       "      <th>tot_product_count</th>\n",
       "      <th>months_inact_for_12m</th>\n",
       "      <th>contact_cnt_for_12m</th>\n",
       "      <th>credit_line</th>\n",
       "      <th>tot_revol_balance</th>\n",
       "      <th>mean_open_to_buy</th>\n",
       "      <th>tot_amt_ratio_q4_q1</th>\n",
       "      <th>tot_trans_amt_for_12m</th>\n",
       "      <th>tot_trans_cnt_for_12m</th>\n",
       "      <th>tot_cnt_ratio_q4_q1</th>\n",
       "      <th>mean_util_pct</th>\n",
       "    </tr>\n",
       "  </thead>\n",
       "  <tbody>\n",
       "    <tr>\n",
       "      <th>count</th>\n",
       "      <td>8.101000e+03</td>\n",
       "      <td>8101.000000</td>\n",
       "      <td>8101.000000</td>\n",
       "      <td>8101.000000</td>\n",
       "      <td>8101.000000</td>\n",
       "      <td>8101.000000</td>\n",
       "      <td>8101.000000</td>\n",
       "      <td>8101.000000</td>\n",
       "      <td>8101.000000</td>\n",
       "      <td>6580.000000</td>\n",
       "      <td>8101.000000</td>\n",
       "      <td>5666.000000</td>\n",
       "      <td>6432.000000</td>\n",
       "      <td>4851.000000</td>\n",
       "      <td>6472.000000</td>\n",
       "      <td>5575.000000</td>\n",
       "    </tr>\n",
       "    <tr>\n",
       "      <th>mean</th>\n",
       "      <td>7.391329e+08</td>\n",
       "      <td>0.160474</td>\n",
       "      <td>46.306382</td>\n",
       "      <td>2.334773</td>\n",
       "      <td>35.923590</td>\n",
       "      <td>3.813233</td>\n",
       "      <td>2.346871</td>\n",
       "      <td>2.450315</td>\n",
       "      <td>8636.548068</td>\n",
       "      <td>1158.693313</td>\n",
       "      <td>7476.165276</td>\n",
       "      <td>0.761457</td>\n",
       "      <td>4438.785448</td>\n",
       "      <td>64.568336</td>\n",
       "      <td>0.709951</td>\n",
       "      <td>0.274055</td>\n",
       "    </tr>\n",
       "    <tr>\n",
       "      <th>std</th>\n",
       "      <td>3.691912e+07</td>\n",
       "      <td>0.367068</td>\n",
       "      <td>8.022527</td>\n",
       "      <td>1.289564</td>\n",
       "      <td>8.024359</td>\n",
       "      <td>1.551838</td>\n",
       "      <td>1.014177</td>\n",
       "      <td>1.100687</td>\n",
       "      <td>9086.419557</td>\n",
       "      <td>814.653118</td>\n",
       "      <td>9080.279910</td>\n",
       "      <td>0.217645</td>\n",
       "      <td>3451.913558</td>\n",
       "      <td>23.659213</td>\n",
       "      <td>0.234484</td>\n",
       "      <td>0.275833</td>\n",
       "    </tr>\n",
       "    <tr>\n",
       "      <th>min</th>\n",
       "      <td>7.080821e+08</td>\n",
       "      <td>0.000000</td>\n",
       "      <td>26.000000</td>\n",
       "      <td>0.000000</td>\n",
       "      <td>13.000000</td>\n",
       "      <td>1.000000</td>\n",
       "      <td>0.000000</td>\n",
       "      <td>0.000000</td>\n",
       "      <td>1438.300000</td>\n",
       "      <td>0.000000</td>\n",
       "      <td>3.000000</td>\n",
       "      <td>0.000000</td>\n",
       "      <td>510.000000</td>\n",
       "      <td>11.000000</td>\n",
       "      <td>0.000000</td>\n",
       "      <td>0.000000</td>\n",
       "    </tr>\n",
       "    <tr>\n",
       "      <th>25%</th>\n",
       "      <td>7.130534e+08</td>\n",
       "      <td>0.000000</td>\n",
       "      <td>41.000000</td>\n",
       "      <td>1.000000</td>\n",
       "      <td>31.000000</td>\n",
       "      <td>3.000000</td>\n",
       "      <td>2.000000</td>\n",
       "      <td>2.000000</td>\n",
       "      <td>2555.000000</td>\n",
       "      <td>324.750000</td>\n",
       "      <td>1341.000000</td>\n",
       "      <td>0.631000</td>\n",
       "      <td>2152.750000</td>\n",
       "      <td>44.500000</td>\n",
       "      <td>0.581000</td>\n",
       "      <td>0.023000</td>\n",
       "    </tr>\n",
       "    <tr>\n",
       "      <th>50%</th>\n",
       "      <td>7.178860e+08</td>\n",
       "      <td>0.000000</td>\n",
       "      <td>46.000000</td>\n",
       "      <td>2.000000</td>\n",
       "      <td>36.000000</td>\n",
       "      <td>4.000000</td>\n",
       "      <td>2.000000</td>\n",
       "      <td>2.000000</td>\n",
       "      <td>4549.000000</td>\n",
       "      <td>1272.000000</td>\n",
       "      <td>3495.000000</td>\n",
       "      <td>0.739000</td>\n",
       "      <td>3905.000000</td>\n",
       "      <td>67.000000</td>\n",
       "      <td>0.700000</td>\n",
       "      <td>0.175000</td>\n",
       "    </tr>\n",
       "    <tr>\n",
       "      <th>75%</th>\n",
       "      <td>7.728464e+08</td>\n",
       "      <td>0.000000</td>\n",
       "      <td>52.000000</td>\n",
       "      <td>3.000000</td>\n",
       "      <td>40.000000</td>\n",
       "      <td>5.000000</td>\n",
       "      <td>3.000000</td>\n",
       "      <td>3.000000</td>\n",
       "      <td>11128.000000</td>\n",
       "      <td>1777.250000</td>\n",
       "      <td>9942.000000</td>\n",
       "      <td>0.862000</td>\n",
       "      <td>4754.250000</td>\n",
       "      <td>80.000000</td>\n",
       "      <td>0.818000</td>\n",
       "      <td>0.501000</td>\n",
       "    </tr>\n",
       "    <tr>\n",
       "      <th>max</th>\n",
       "      <td>8.283431e+08</td>\n",
       "      <td>1.000000</td>\n",
       "      <td>70.000000</td>\n",
       "      <td>5.000000</td>\n",
       "      <td>56.000000</td>\n",
       "      <td>6.000000</td>\n",
       "      <td>6.000000</td>\n",
       "      <td>6.000000</td>\n",
       "      <td>34516.000000</td>\n",
       "      <td>2517.000000</td>\n",
       "      <td>34516.000000</td>\n",
       "      <td>2.594000</td>\n",
       "      <td>18484.000000</td>\n",
       "      <td>139.000000</td>\n",
       "      <td>3.571000</td>\n",
       "      <td>0.999000</td>\n",
       "    </tr>\n",
       "  </tbody>\n",
       "</table>\n",
       "</div>"
      ],
      "text/plain": [
       "              cstno   is_churned          age  dependent_num  mon_on_book  \\\n",
       "count  8.101000e+03  8101.000000  8101.000000    8101.000000  8101.000000   \n",
       "mean   7.391329e+08     0.160474    46.306382       2.334773    35.923590   \n",
       "std    3.691912e+07     0.367068     8.022527       1.289564     8.024359   \n",
       "min    7.080821e+08     0.000000    26.000000       0.000000    13.000000   \n",
       "25%    7.130534e+08     0.000000    41.000000       1.000000    31.000000   \n",
       "50%    7.178860e+08     0.000000    46.000000       2.000000    36.000000   \n",
       "75%    7.728464e+08     0.000000    52.000000       3.000000    40.000000   \n",
       "max    8.283431e+08     1.000000    70.000000       5.000000    56.000000   \n",
       "\n",
       "       tot_product_count  months_inact_for_12m  contact_cnt_for_12m  \\\n",
       "count        8101.000000           8101.000000          8101.000000   \n",
       "mean            3.813233              2.346871             2.450315   \n",
       "std             1.551838              1.014177             1.100687   \n",
       "min             1.000000              0.000000             0.000000   \n",
       "25%             3.000000              2.000000             2.000000   \n",
       "50%             4.000000              2.000000             2.000000   \n",
       "75%             5.000000              3.000000             3.000000   \n",
       "max             6.000000              6.000000             6.000000   \n",
       "\n",
       "        credit_line  tot_revol_balance  mean_open_to_buy  tot_amt_ratio_q4_q1  \\\n",
       "count   8101.000000        6580.000000       8101.000000          5666.000000   \n",
       "mean    8636.548068        1158.693313       7476.165276             0.761457   \n",
       "std     9086.419557         814.653118       9080.279910             0.217645   \n",
       "min     1438.300000           0.000000          3.000000             0.000000   \n",
       "25%     2555.000000         324.750000       1341.000000             0.631000   \n",
       "50%     4549.000000        1272.000000       3495.000000             0.739000   \n",
       "75%    11128.000000        1777.250000       9942.000000             0.862000   \n",
       "max    34516.000000        2517.000000      34516.000000             2.594000   \n",
       "\n",
       "       tot_trans_amt_for_12m  tot_trans_cnt_for_12m  tot_cnt_ratio_q4_q1  \\\n",
       "count            6432.000000            4851.000000          6472.000000   \n",
       "mean             4438.785448              64.568336             0.709951   \n",
       "std              3451.913558              23.659213             0.234484   \n",
       "min               510.000000              11.000000             0.000000   \n",
       "25%              2152.750000              44.500000             0.581000   \n",
       "50%              3905.000000              67.000000             0.700000   \n",
       "75%              4754.250000              80.000000             0.818000   \n",
       "max             18484.000000             139.000000             3.571000   \n",
       "\n",
       "       mean_util_pct  \n",
       "count    5575.000000  \n",
       "mean        0.274055  \n",
       "std         0.275833  \n",
       "min         0.000000  \n",
       "25%         0.023000  \n",
       "50%         0.175000  \n",
       "75%         0.501000  \n",
       "max         0.999000  "
      ]
     },
     "execution_count": 6,
     "metadata": {},
     "output_type": "execute_result"
    }
   ],
   "source": [
    "bank_churner_df.describe()"
   ]
  },
  {
   "attachments": {},
   "cell_type": "markdown",
   "metadata": {},
   "source": [
    "## Feature별 특징 확인"
   ]
  },
  {
   "attachments": {},
   "cell_type": "markdown",
   "metadata": {},
   "source": [
    "### is_churned : 이탈  여부\n",
    "- 1 : 이탈, 0 : 유지"
   ]
  },
  {
   "cell_type": "code",
   "execution_count": 13,
   "metadata": {},
   "outputs": [
    {
     "data": {
      "text/plain": [
       "0    6801\n",
       "1    1300\n",
       "Name: is_churned, dtype: int64"
      ]
     },
     "execution_count": 13,
     "metadata": {},
     "output_type": "execute_result"
    }
   ],
   "source": [
    "bank_churner_df[\"is_churned\"].value_counts()"
   ]
  },
  {
   "cell_type": "code",
   "execution_count": 15,
   "metadata": {},
   "outputs": [
    {
     "data": {
      "text/plain": [
       "<Axes: xlabel='is_churned', ylabel='count'>"
      ]
     },
     "execution_count": 15,
     "metadata": {},
     "output_type": "execute_result"
    },
    {
     "data": {
      "image/png": "[encoded data removed]",
      "text/plain": [
       "<Figure size 640x480 with 1 Axes>"
      ]
     },
     "metadata": {},
     "output_type": "display_data"
    }
   ],
   "source": [
    "sns.set_theme(style=\"whitegrid\")\n",
    "sns.countplot(x='is_churned', data=bank_churner_df)"
   ]
  },
  {
   "attachments": {},
   "cell_type": "markdown",
   "metadata": {},
   "source": [
    "### age : 나이"
   ]
  },
  {
   "cell_type": "code",
   "execution_count": 28,
   "metadata": {},
   "outputs": [
    {
     "data": {
      "text/plain": [
       "count    8101.000000\n",
       "mean       46.306382\n",
       "std         8.022527\n",
       "min        26.000000\n",
       "25%        41.000000\n",
       "50%        46.000000\n",
       "75%        52.000000\n",
       "max        70.000000\n",
       "Name: age, dtype: float64"
      ]
     },
     "execution_count": 28,
     "metadata": {},
     "output_type": "execute_result"
    }
   ],
   "source": [
    "bank_churner_df[\"age\"].describe()"
   ]
  },
  {
   "cell_type": "code",
   "execution_count": 56,
   "metadata": {},
   "outputs": [
    {
     "data": {
      "text/plain": [
       "<Axes: xlabel='age', ylabel='count'>"
      ]
     },
     "execution_count": 56,
     "metadata": {},
     "output_type": "execute_result"
    },
    {
     "data": {
      "image/png": "[encoded data removed]",
      "text/plain": [
       "<Figure size 640x480 with 1 Axes>"
      ]
     },
     "metadata": {},
     "output_type": "display_data"
    }
   ],
   "source": [
    "age_df = bank_churner_df[(bank_churner_df['age'] > 20) & (bank_churner_df['age'] < 70)][['age']]\n",
    "age_df\n",
    "sns.countplot(x='age', data=age_df)"
   ]
  },
  {
   "cell_type": "code",
   "execution_count": 30,
   "metadata": {},
   "outputs": [
    {
     "data": {
      "text/plain": [
       "0       40\n",
       "1       50\n",
       "2       40\n",
       "3       30\n",
       "4       40\n",
       "        ..\n",
       "8096    40\n",
       "8097    50\n",
       "8098    40\n",
       "8099    50\n",
       "8100    40\n",
       "Name: age_category, Length: 8101, dtype: int64"
      ]
     },
     "execution_count": 30,
     "metadata": {},
     "output_type": "execute_result"
    }
   ],
   "source": [
    "# 나이를 나이대별로 범주화\n",
    "def age_categorize(age):\n",
    "    age = (age // 10) * 10\n",
    "    return age\n",
    "\n",
    "bank_churner_df['age_category'] = bank_churner_df.age.apply(age_categorize)\n",
    "bank_churner_df['age_category']\n",
    "    "
   ]
  },
  {
   "cell_type": "code",
   "execution_count": 39,
   "metadata": {},
   "outputs": [
    {
     "data": {
      "text/plain": [
       "<Axes: xlabel='age_category', ylabel='count'>"
      ]
     },
     "execution_count": 39,
     "metadata": {},
     "output_type": "execute_result"
    },
    {
     "data": {
      "image/png": "[encoded data removed]",
      "text/plain": [
       "<Figure size 640x480 with 1 Axes>"
      ]
     },
     "metadata": {},
     "output_type": "display_data"
    }
   ],
   "source": [
    "sns.countplot(x='age_category', data=bank_churner_df)"
   ]
  },
  {
   "cell_type": "code",
   "execution_count": 40,
   "metadata": {},
   "outputs": [
    {
     "data": {
      "text/plain": [
       "<Axes: xlabel='age_category', ylabel='count'>"
      ]
     },
     "execution_count": 40,
     "metadata": {},
     "output_type": "execute_result"
    },
    {
     "data": {
      "image/png": "[encoded data removed]",
      "text/plain": [
       "<Figure size 640x480 with 1 Axes>"
      ]
     },
     "metadata": {},
     "output_type": "display_data"
    }
   ],
   "source": [
    "sns.countplot(x='age_category', data=bank_churner_df, hue='is_churned')"
   ]
  },
  {
   "attachments": {},
   "cell_type": "markdown",
   "metadata": {},
   "source": [
    "### sex : 성별"
   ]
  },
  {
   "cell_type": "code",
   "execution_count": null,
   "metadata": {},
   "outputs": [],
   "source": []
  }
 ],
 "metadata": {
  "kernelspec": {
   "display_name": "base",
   "language": "python",
   "name": "python3"
  },
  "language_info": {
   "codemirror_mode": {
    "name": "ipython",
    "version": 3
   },
   "file_extension": ".py",
   "mimetype": "text/x-python",
   "name": "python",
   "nbconvert_exporter": "python",
   "pygments_lexer": "ipython3",
   "version": "3.9.7"
  },
  "orig_nbformat": 4
 },
 "nbformat": 4,
 "nbformat_minor": 2
}
