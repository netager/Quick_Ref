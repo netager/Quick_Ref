{
 "cells": [
  {
   "attachments": {},
   "cell_type": "markdown",
   "metadata": {},
   "source": [
    "# JBFG Data Analysis Competition"
   ]
  },
  {
   "cell_type": "code",
   "execution_count": 17,
   "metadata": {},
   "outputs": [],
   "source": [
    "\n",
    "# #!pip install watermark\n",
    "# %load_ext watermark\n",
    "# %watermark -a 'DataLine' -nmv --packages numpy,pandas,sklearn,imblearn,tensorflow,plotly,matplotlib,seaborn,missingno,lightgbm\n"
   ]
  },
  {
   "attachments": {},
   "cell_type": "markdown",
   "metadata": {},
   "source": [
    "#### 컬럼 데이터 및 Null 건수 확인"
   ]
  },
  {
   "attachments": {},
   "cell_type": "markdown",
   "metadata": {},
   "source": [
    "## DNN\n",
    "***"
   ]
  },
  {
   "attachments": {},
   "cell_type": "markdown",
   "metadata": {},
   "source": [
    "### Import Library"
   ]
  },
  {
   "cell_type": "code",
   "execution_count": 18,
   "metadata": {},
   "outputs": [],
   "source": [
    "import pandas as pd\n",
    "import numpy as np\n",
    "from itertools import combinations\n",
    "import time\n",
    "import datetime\n",
    "import joblib\n",
    "\n",
    "from sklearn.linear_model import LogisticRegression\n",
    "from sklearn.tree import DecisionTreeClassifier\n",
    "from sklearn.neighbors import KNeighborsClassifier\n",
    "from sklearn.naive_bayes import GaussianNB\n",
    "from sklearn.ensemble import ExtraTreesClassifier, RandomForestClassifier\n",
    "from lightgbm import LGBMClassifier, LGBMRegressor\n",
    "from xgboost import XGBClassifier\n",
    "\n",
    "from sklearn.feature_selection import SelectFromModel\n",
    "from sklearn.metrics import accuracy_score, precision_score, recall_score, f1_score, roc_auc_score\n",
    "from sklearn.feature_selection import RFE\n",
    "from sklearn.model_selection import cross_val_score, StratifiedKFold, GridSearchCV"
   ]
  },
  {
   "attachments": {},
   "cell_type": "markdown",
   "metadata": {},
   "source": [
    "### Function Definition"
   ]
  },
  {
   "attachments": {},
   "cell_type": "markdown",
   "metadata": {},
   "source": [
    "#### encode_onehot()"
   ]
  },
  {
   "cell_type": "code",
   "execution_count": 19,
   "metadata": {},
   "outputs": [],
   "source": [
    "# 원-핫 인코딩 처리 \n",
    "# ----------------\n",
    "def encode_onehot(df):\n",
    "    '''\n",
    "        데이터프레임의 object type 컬럼을 원-핫 인코딩하는 함수\n",
    "        \n",
    "        Args:\n",
    "            df (df) : DataFrame\n",
    "        Return:\n",
    "            DataFrame\n",
    "    '''\n",
    "    catcols = df.select_dtypes(exclude = ['int64','float64']).columns\n",
    "    df = pd.get_dummies(df, columns = catcols)\n",
    "    \n",
    "    return df"
   ]
  },
  {
   "attachments": {},
   "cell_type": "markdown",
   "metadata": {},
   "source": [
    "#### proc_split_smote()"
   ]
  },
  {
   "cell_type": "code",
   "execution_count": 20,
   "metadata": {},
   "outputs": [],
   "source": [
    "\n",
    "\n",
    "def proc_split_smote(X_new, y):\n",
    "    #Model Training\n",
    "    from sklearn.model_selection import train_test_split\n",
    "    from imblearn.over_sampling import SMOTE\n",
    "\n",
    "    X_train, X_test, y_train, y_test = train_test_split(X_new, y, test_size=0.25, stratify=y, random_state=0)\n",
    "\n",
    "    sm = SMOTE(sampling_strategy='auto', random_state=42)\n",
    "    X_train, y_train=sm.fit_resample(X_train,y_train)\n",
    "    \n",
    "    return X_train, y_train, X_test, y_test"
   ]
  },
  {
   "cell_type": "code",
   "execution_count": 21,
   "metadata": {},
   "outputs": [],
   "source": [
    "#### proc_feature_split()"
   ]
  },
  {
   "cell_type": "code",
   "execution_count": 22,
   "metadata": {},
   "outputs": [],
   "source": [
    "def proc_feature_split(X_new, y):\n",
    "    #Model Training\n",
    "    from sklearn.model_selection import train_test_split\n",
    "    from imblearn.over_sampling import SMOTE\n",
    "\n",
    "    X_train, X_test, y_train, y_test = train_test_split(X_new, y, test_size=0.25, stratify=y, random_state=0)\n",
    "\n",
    "    sm = SMOTE(sampling_strategy='auto', random_state=42)\n",
    "    X_train, y_train=sm.fit_resample(X_train,y_train)\n",
    "    \n",
    "    return X_train, y_train, X_test, y_test"
   ]
  },
  {
   "attachments": {},
   "cell_type": "markdown",
   "metadata": {},
   "source": [
    "#### proc_standardization() - 표준화 함수"
   ]
  },
  {
   "cell_type": "code",
   "execution_count": 23,
   "metadata": {},
   "outputs": [],
   "source": [
    "from sklearn.preprocessing import QuantileTransformer\n",
    "from sklearn.preprocessing import StandardScaler\n",
    "from sklearn.preprocessing import PowerTransformer\n",
    "\n",
    "def proc_standardization(X_train, X_test, X_eval):\n",
    "    scaler  = StandardScaler()\n",
    "    X_train = scaler.fit_transform(X_train)\n",
    "    X_test  = scaler.transform(X_test)\n",
    "    X_eval  = scaler.transform(X_eval)\n",
    "    \n",
    "    return X_train, X_test, X_eval"
   ]
  },
  {
   "attachments": {},
   "cell_type": "markdown",
   "metadata": {},
   "source": [
    "#### select_feature()"
   ]
  },
  {
   "cell_type": "code",
   "execution_count": 24,
   "metadata": {},
   "outputs": [],
   "source": [
    "# 중요 Feature 식별\n",
    "# ----------------\n",
    "def select_feature(df, y_labels, chosen_model):\n",
    "\n",
    "    np.random.seed(42)    \n",
    "    \n",
    "    available_models = {\n",
    "    'ExtraTrees': ExtraTreesClassifier(n_estimators=700),\n",
    "    'RandomForest': RandomForestClassifier(n_estimators=700),\n",
    "    'LGBMC': LGBMClassifier(n_estimators=700, random_state=42, boosting_type='GOSS'),\n",
    "    'LGBMR': LGBMRegressor(),\n",
    "    'Xg Boost':XGBClassifier(booster='gbtree', importance_type='gain', eval_metric='auc'),\n",
    "    }\n",
    "\n",
    "    # Create the selected model\n",
    "    clf = available_models[chosen_model]\n",
    "\n",
    "    clf = clf.fit(df, y_labels)                                     # Train\n",
    "\n",
    "    if chosen_model == 'LGBMC' or chosen_model == 'LGBMR': \n",
    "        feature_importances = clf.booster_.feature_importance(importance_type=\"gain\")\n",
    "    else:        \n",
    "        feature_importances = clf.feature_importances_\n",
    "\n",
    "\n",
    "    chosen_model = SelectFromModel(clf, prefit=True)\n",
    "    X_df = chosen_model.transform(df.values) \n",
    "    selected_feature_indices = chosen_model.get_support(indices=True)\n",
    "\n",
    "    selected_columns = df.columns[selected_feature_indices]         # Get the indices of the selected features\n",
    "    \n",
    "    return X_df, selected_columns"
   ]
  },
  {
   "attachments": {},
   "cell_type": "markdown",
   "metadata": {},
   "source": [
    "#### fit_predict_eval()"
   ]
  },
  {
   "cell_type": "code",
   "execution_count": 25,
   "metadata": {},
   "outputs": [],
   "source": [
    "\n",
    "# 예측 및 평가\n",
    "# -----------\n",
    "def fit_predict_eval(models, model_comparison, X_train, y_train, X_test, y_test):\n",
    "   \n",
    "    # 초기화\n",
    "    # ------\n",
    "    best_roc_auc = 0\n",
    "    \n",
    "    # Define Models\n",
    "    # ------------- \n",
    "    # No: 1 origin\n",
    "    # models = [\n",
    "    #     ('LogisticRegression', LogisticRegression()),\n",
    "    #     ('DecisionTree', DecisionTreeClassifier(criterion='entropy', random_state=0)),\n",
    "    #     ('ExtraTrees', ExtraTreesClassifier(n_estimators=700)),\n",
    "    #     ('KNN', KNeighborsClassifier(n_neighbors=5)),\n",
    "    #     ('NaiveBayes', GaussianNB()),\n",
    "    #     ('RandomForest', RandomForestClassifier(n_estimators=700, criterion='entropy', random_state=0)),\n",
    "    #     ('LightGBM', LGBMClassifier(n_estimators=700, random_state=42, boosting_type='GOSS')),\n",
    "    #     ('XgBoost', XGBClassifier(n_estimators=700, random_state=42, eval_metric='auc')),\n",
    "    # ]\n",
    "\n",
    "    \n",
    "    # Model Fit and Testing\n",
    "    # ---------------------\n",
    "    for model_name, classifier in models:\n",
    "        start_time = time.time()\n",
    "\n",
    "\n",
    "        # 학습\n",
    "        # ----            \n",
    "        classifier.fit(X_train, y_train)\n",
    "        \n",
    "        \n",
    "        # 학습된 모델 저장하기 - 필요한 경우 향후 사용할 예정\n",
    "        # -----------------------------------------------\n",
    "        # file_name = f'./models/{model_name}.pkl'\n",
    "        # joblib.dump(classifier, file_name)\n",
    "\n",
    "\n",
    "        # 예측\n",
    "        # ---- \n",
    "        y_pred = classifier.predict(X_test)\n",
    "\n",
    "\n",
    "        # 평가\n",
    "        # ---- \n",
    "        accuracy = accuracy_score(y_test, y_pred)\n",
    "        accuracy_class_0 = accuracy_score(y_test[y_test == 0], y_pred[y_test == 0])\n",
    "        accuracy_class_1 = accuracy_score(y_test[y_test == 1], y_pred[y_test == 1], )\n",
    "\n",
    "        precision = precision_score(y_test , y_pred)\n",
    "        recall = recall_score(y_test , y_pred)\n",
    "        f1 = f1_score(y_test, y_pred)\n",
    "        \n",
    "        skf = StratifiedKFold(n_splits=5, shuffle=True, random_state=0)\n",
    "        auces = cross_val_score(estimator=classifier, X=X_train, y=y_train, cv=skf, scoring=\"roc_auc\")\n",
    "        cv_auc = auces.mean()\n",
    "        cv_std = auces.std()\n",
    "        \n",
    "        pred_proba = classifier.predict_proba(X_test)[:, 1]        \n",
    "        roc_auc = roc_auc_score(y_test, pred_proba)\n",
    "        \n",
    "        \n",
    "        # 예측 평가 결과 저장\n",
    "        # -----------------\n",
    "        model_comparison[f'{model_name}'] = [accuracy, accuracy_class_0, accuracy_class_1, precision, recall, f1, cv_auc, cv_std, roc_auc]\n",
    "        \n",
    "        \n",
    "        # Best ROC_AUC Value Return\n",
    "        # -------------------------\n",
    "        if roc_auc > best_roc_auc:\n",
    "            best_roc_auc = roc_auc\n",
    "            \n",
    "        \n",
    "        # Print Log\n",
    "        # ---------    \n",
    "        cur_datetime = datetime.datetime.now().strftime('%Y-%m-%d %H:%M:%S')\n",
    "        end_time = time.time()\n",
    "        delta_time = end_time - start_time\n",
    "        print(f'Model Name: [{model_name:<18}], {cur_datetime}, {str(datetime.timedelta(seconds=delta_time)).split(\".\")[0]},  BEST AUC: {best_roc_auc:0.6f}, AUC: {roc_auc:0.6f}')\n"
   ]
  },
  {
   "attachments": {},
   "cell_type": "markdown",
   "metadata": {},
   "source": [
    "#### print_eval_result()"
   ]
  },
  {
   "cell_type": "code",
   "execution_count": 26,
   "metadata": {},
   "outputs": [],
   "source": [
    "def print_eval_result(model_comparison):\n",
    "\n",
    "    # # MODEL COMPARISSON\n",
    "    # Model_com_df=pd.DataFrame(model_comparison).T\n",
    "    # Model_com_df.columns=['Accuracy','Accuracy-0','Accuracy-1', 'Precision', 'Recall', 'F1-Score','CV AUC','CV std', 'AUC']\n",
    "    # Model_com_df=Model_com_df.sort_values(by='AUC',ascending=False)\n",
    "    # # display(Model_com_df.style.format(\"{:.2%}\").background_gradient(cmap='magma'))\n",
    "\n",
    "    Model_com_df = pd.DataFrame(model_comparison).T\n",
    "    Model_com_df.columns = ['Accuracy', 'Accuracy-No', 'Accuracy-Yes', 'Precision', 'Recall', 'F1-Score', 'CV AUC', 'CV std', 'AUC']\n",
    "    Model_com_df = Model_com_df.sort_values(by='AUC', ascending=False)\n",
    "\n",
    "    def highlight_below_75(s):\n",
    "        if s.name != 'CV std' and isinstance(s, pd.Series) and s.dtype == 'float64':\n",
    "            return ['color: red' if value < 0.75 else 'color: black' for value in s]\n",
    "        else:\n",
    "            return ['color: black'] * len(s)\n",
    "\n",
    "    # styled_df = Model_com_df.iloc[:10,:].style.highlight_max(axis=0).apply(highlight_below_75, subset=pd.IndexSlice[:, :'CV AUC']).format(\"{:.2%}\", subset=pd.IndexSlice[:, :'CV AUC'])\n",
    "    styled_df = Model_com_df.style.highlight_max(axis=0).apply(highlight_below_75, subset=pd.IndexSlice[:, :'CV AUC']).format(\"{:.2%}\", subset=pd.IndexSlice[:, :'CV AUC'])\n",
    "    display(styled_df)"
   ]
  },
  {
   "attachments": {},
   "cell_type": "markdown",
   "metadata": {},
   "source": [
    "#### data_transform()"
   ]
  },
  {
   "cell_type": "code",
   "execution_count": 27,
   "metadata": {},
   "outputs": [],
   "source": [
    "\n",
    "def data_transform(df):\n",
    "\n",
    "    # 데이터 변환\n",
    "    # ------------------- \n",
    "    df = df.drop('cstno', axis=1)\n",
    "    df = df.drop('sex', axis=1)\n",
    "    df['imcome_cat']=df['imcome_cat'].replace({'Less than $40K':40000, '$40K - $60K':50000, '$60K - $80K':70000, '$80K - $120K':100000, '$120K +':120000, 'Unknown':63000})\n",
    "\n",
    "   \n",
    "    # 결측치 처리\n",
    "    # ----------\n",
    "    df = df.groupby(['marital_stat']).apply(lambda x: x.fillna(x.mean(numeric_only=True)))\n",
    "    df = df.reset_index(drop=True)\n",
    "    df.dropna(axis=0, inplace=True)\n",
    "\n",
    "\n",
    "    # One-Hot Encoding\n",
    "    # ----------------\n",
    "    df = encode_onehot(df)     \n",
    "    \n",
    "    return df"
   ]
  },
  {
   "attachments": {},
   "cell_type": "markdown",
   "metadata": {},
   "source": [
    "#### test_transform()"
   ]
  },
  {
   "cell_type": "code",
   "execution_count": 28,
   "metadata": {},
   "outputs": [],
   "source": [
    "def test_transform(source_df, eval_df):\n",
    "\n",
    "    # 데이터 변환\n",
    "    # -----------\n",
    "    source_df = data_transform(source_df)\n",
    "    eval_df = data_transform(eval_df)\n",
    "\n",
    "        \n",
    "    # 테스트 및 평가를 위한 데이터 분리\n",
    "    # -------------------------------\n",
    "    X_Features = source_df.drop(['is_churned'], axis=1)\n",
    "    y_labels = source_df['is_churned']\n",
    "\n",
    "    X_eval=eval_df.drop(['is_churned'], axis=1)\n",
    "    y_eval=eval_df['is_churned'].values\n",
    "\n",
    "\n",
    "    # 중요 Feature Column 선택\n",
    "    # -----------------------\n",
    "    X_Features_new, selected_columns = select_feature(X_Features, y_labels, 'RandomForest')\n",
    "    X_eval = X_eval[selected_columns]\n",
    "\n",
    "\n",
    "    # Train and Test 데이터 생성 및 가공\n",
    "    # ---------------------------------\n",
    "    X_train, y_train, X_test, y_test = proc_split_smote(X_Features_new, y_labels.values)\n",
    "    \n",
    "\n",
    "    # standardization ~ StandardScaler 적용\n",
    "    # -----------------------------------\n",
    "    X_train, X_test, X_eval = proc_standardization(X_train, X_test, X_eval.values) \n",
    "    \n",
    "    return X_train, y_train, X_test, y_test, X_eval, y_eval \n"
   ]
  },
  {
   "attachments": {},
   "cell_type": "markdown",
   "metadata": {},
   "source": [
    "### 학습 및 Test 평가"
   ]
  },
  {
   "attachments": {},
   "cell_type": "markdown",
   "metadata": {},
   "source": [
    "#### 데이터 로딩 및 초기화"
   ]
  },
  {
   "cell_type": "code",
   "execution_count": 29,
   "metadata": {},
   "outputs": [],
   "source": [
    "# 경진대회를 위해 주최측에서 제공한 데이터(EDA 및 ML 학습을 위한 데이터)\n",
    "bank_churner_df = pd.read_csv(\"./data/bank_churner.csv\")\n",
    "\n",
    "\n",
    " # 평가를 위한 데이터 로드 - 평가자님 평가데이터 경로를 입력해 주세요!!! - 평가 결과는 평가결과 출력을 확인\n",
    "eval_churner_df = pd.read_csv(\"./data/eval_churner.csv\")"
   ]
  },
  {
   "attachments": {},
   "cell_type": "markdown",
   "metadata": {},
   "source": [
    "#### 초기화 및 전처리"
   ]
  },
  {
   "cell_type": "code",
   "execution_count": 30,
   "metadata": {},
   "outputs": [],
   "source": [
    "# 전처리 \n",
    "# -----\n",
    "X_train, y_train, X_test, y_test, X_eval, y_eval = test_transform(bank_churner_df, eval_churner_df)"
   ]
  },
  {
   "attachments": {},
   "cell_type": "markdown",
   "metadata": {},
   "source": [
    "#### Model Define"
   ]
  },
  {
   "attachments": {},
   "cell_type": "markdown",
   "metadata": {},
   "source": [
    "* 모델 신경망 구조 정의"
   ]
  },
  {
   "cell_type": "code",
   "execution_count": 31,
   "metadata": {},
   "outputs": [],
   "source": [
    "from tensorflow.keras import models\n",
    "from tensorflow.keras import layers\n",
    "\n",
    "ccfd = models.Sequential()\n",
    "ccfd.add(layers.Dense(128, activation = 'relu', input_shape = (13,)))\n",
    "ccfd.add(layers.Dense(64, activation = 'relu'))\n",
    "ccfd.add(layers.Dense(32, activation = 'relu'))\n",
    "ccfd.add(layers.Dense(1, activation = 'sigmoid'))"
   ]
  },
  {
   "attachments": {},
   "cell_type": "markdown",
   "metadata": {},
   "source": [
    "* 모델 구조 확인"
   ]
  },
  {
   "cell_type": "code",
   "execution_count": 32,
   "metadata": {},
   "outputs": [
    {
     "name": "stdout",
     "output_type": "stream",
     "text": [
      "Model: \"sequential_1\"\n",
      "_________________________________________________________________\n",
      " Layer (type)                Output Shape              Param #   \n",
      "=================================================================\n",
      " dense_4 (Dense)             (None, 128)               1792      \n",
      "                                                                 \n",
      " dense_5 (Dense)             (None, 64)                8256      \n",
      "                                                                 \n",
      " dense_6 (Dense)             (None, 32)                2080      \n",
      "                                                                 \n",
      " dense_7 (Dense)             (None, 1)                 33        \n",
      "                                                                 \n",
      "=================================================================\n",
      "Total params: 12,161\n",
      "Trainable params: 12,161\n",
      "Non-trainable params: 0\n",
      "_________________________________________________________________\n"
     ]
    }
   ],
   "source": [
    "ccfd.summary()"
   ]
  },
  {
   "attachments": {},
   "cell_type": "markdown",
   "metadata": {},
   "source": [
    "#### 3) Model Compile"
   ]
  },
  {
   "cell_type": "code",
   "execution_count": 50,
   "metadata": {},
   "outputs": [],
   "source": [
    "ccfd.compile(loss = 'binary_crossentropy',\n",
    "             optimizer = 'adam',\n",
    "             metrics = ['AUC'])"
   ]
  },
  {
   "attachments": {},
   "cell_type": "markdown",
   "metadata": {},
   "source": [
    "> ## 4) Model Fit"
   ]
  },
  {
   "attachments": {},
   "cell_type": "markdown",
   "metadata": {},
   "source": [
    "* 모델 학습 수행"
   ]
  },
  {
   "cell_type": "code",
   "execution_count": 51,
   "metadata": {},
   "outputs": [
    {
     "name": "stdout",
     "output_type": "stream",
     "text": [
      "Epoch 1/50\n",
      "10/10 [==============================] - 1s 21ms/step - loss: 0.0290 - auc: 0.9996 - val_loss: 0.5568 - val_auc: 0.8815\n",
      "Epoch 2/50\n",
      "10/10 [==============================] - 0s 4ms/step - loss: 0.0218 - auc: 0.9998 - val_loss: 0.5482 - val_auc: 0.8756\n",
      "Epoch 3/50\n",
      "10/10 [==============================] - 0s 5ms/step - loss: 0.0206 - auc: 0.9998 - val_loss: 0.5415 - val_auc: 0.8798\n",
      "Epoch 4/50\n",
      "10/10 [==============================] - 0s 5ms/step - loss: 0.0184 - auc: 0.9999 - val_loss: 0.5535 - val_auc: 0.8771\n",
      "Epoch 5/50\n",
      "10/10 [==============================] - 0s 5ms/step - loss: 0.0181 - auc: 0.9999 - val_loss: 0.5525 - val_auc: 0.8823\n",
      "Epoch 6/50\n",
      "10/10 [==============================] - 0s 8ms/step - loss: 0.0175 - auc: 0.9999 - val_loss: 0.5557 - val_auc: 0.8762\n",
      "Epoch 7/50\n",
      "10/10 [==============================] - 0s 6ms/step - loss: 0.0175 - auc: 0.9999 - val_loss: 0.5711 - val_auc: 0.8803\n",
      "Epoch 8/50\n",
      "10/10 [==============================] - 0s 5ms/step - loss: 0.0175 - auc: 0.9999 - val_loss: 0.5618 - val_auc: 0.8730\n",
      "Epoch 9/50\n",
      "10/10 [==============================] - 0s 4ms/step - loss: 0.0165 - auc: 0.9999 - val_loss: 0.5729 - val_auc: 0.8777\n",
      "Epoch 10/50\n",
      "10/10 [==============================] - 0s 5ms/step - loss: 0.0162 - auc: 0.9999 - val_loss: 0.5701 - val_auc: 0.8731\n",
      "Epoch 11/50\n",
      "10/10 [==============================] - 0s 5ms/step - loss: 0.0160 - auc: 0.9999 - val_loss: 0.5778 - val_auc: 0.8796\n",
      "Epoch 12/50\n",
      "10/10 [==============================] - 0s 5ms/step - loss: 0.0150 - auc: 0.9999 - val_loss: 0.5778 - val_auc: 0.8760\n",
      "Epoch 13/50\n",
      "10/10 [==============================] - 0s 5ms/step - loss: 0.0145 - auc: 1.0000 - val_loss: 0.5892 - val_auc: 0.8783\n",
      "Epoch 14/50\n",
      "10/10 [==============================] - 0s 5ms/step - loss: 0.0149 - auc: 0.9999 - val_loss: 0.5866 - val_auc: 0.8789\n",
      "Epoch 15/50\n",
      "10/10 [==============================] - 0s 5ms/step - loss: 0.0144 - auc: 0.9999 - val_loss: 0.5880 - val_auc: 0.8762\n",
      "Epoch 16/50\n",
      "10/10 [==============================] - 0s 6ms/step - loss: 0.0132 - auc: 1.0000 - val_loss: 0.5992 - val_auc: 0.8795\n",
      "Epoch 17/50\n",
      "10/10 [==============================] - 0s 5ms/step - loss: 0.0126 - auc: 1.0000 - val_loss: 0.5968 - val_auc: 0.8738\n",
      "Epoch 18/50\n",
      "10/10 [==============================] - 0s 4ms/step - loss: 0.0135 - auc: 1.0000 - val_loss: 0.6097 - val_auc: 0.8784\n",
      "Epoch 19/50\n",
      "10/10 [==============================] - 0s 4ms/step - loss: 0.0134 - auc: 1.0000 - val_loss: 0.6055 - val_auc: 0.8693\n",
      "Epoch 20/50\n",
      "10/10 [==============================] - 0s 5ms/step - loss: 0.0140 - auc: 1.0000 - val_loss: 0.6105 - val_auc: 0.8731\n",
      "Epoch 21/50\n",
      "10/10 [==============================] - 0s 5ms/step - loss: 0.0138 - auc: 1.0000 - val_loss: 0.6184 - val_auc: 0.8688\n",
      "Epoch 22/50\n",
      "10/10 [==============================] - 0s 6ms/step - loss: 0.0149 - auc: 1.0000 - val_loss: 0.6235 - val_auc: 0.8637\n",
      "Epoch 23/50\n",
      "10/10 [==============================] - 0s 5ms/step - loss: 0.0156 - auc: 0.9999 - val_loss: 0.6314 - val_auc: 0.8779\n",
      "Epoch 24/50\n",
      "10/10 [==============================] - 0s 7ms/step - loss: 0.0134 - auc: 1.0000 - val_loss: 0.6253 - val_auc: 0.8688\n",
      "Epoch 25/50\n",
      "10/10 [==============================] - 0s 6ms/step - loss: 0.0130 - auc: 1.0000 - val_loss: 0.6390 - val_auc: 0.8755\n",
      "Epoch 26/50\n",
      "10/10 [==============================] - 0s 6ms/step - loss: 0.0119 - auc: 1.0000 - val_loss: 0.6329 - val_auc: 0.8680\n",
      "Epoch 27/50\n",
      "10/10 [==============================] - 0s 5ms/step - loss: 0.0106 - auc: 1.0000 - val_loss: 0.6509 - val_auc: 0.8760\n",
      "Epoch 28/50\n",
      "10/10 [==============================] - 0s 5ms/step - loss: 0.0106 - auc: 1.0000 - val_loss: 0.6338 - val_auc: 0.8720\n",
      "Epoch 29/50\n",
      "10/10 [==============================] - 0s 5ms/step - loss: 0.0104 - auc: 1.0000 - val_loss: 0.6479 - val_auc: 0.8721\n",
      "Epoch 30/50\n",
      "10/10 [==============================] - 0s 5ms/step - loss: 0.0105 - auc: 1.0000 - val_loss: 0.6481 - val_auc: 0.8680\n",
      "Epoch 31/50\n",
      "10/10 [==============================] - 0s 6ms/step - loss: 0.0098 - auc: 1.0000 - val_loss: 0.6511 - val_auc: 0.8671\n",
      "Epoch 32/50\n",
      "10/10 [==============================] - 0s 6ms/step - loss: 0.0096 - auc: 1.0000 - val_loss: 0.6487 - val_auc: 0.8718\n",
      "Epoch 33/50\n",
      "10/10 [==============================] - 0s 8ms/step - loss: 0.0090 - auc: 1.0000 - val_loss: 0.6594 - val_auc: 0.8694\n",
      "Epoch 34/50\n",
      "10/10 [==============================] - 0s 6ms/step - loss: 0.0095 - auc: 1.0000 - val_loss: 0.6590 - val_auc: 0.8672\n",
      "Epoch 35/50\n",
      "10/10 [==============================] - 0s 6ms/step - loss: 0.0092 - auc: 1.0000 - val_loss: 0.6601 - val_auc: 0.8648\n",
      "Epoch 36/50\n",
      "10/10 [==============================] - 0s 6ms/step - loss: 0.0087 - auc: 1.0000 - val_loss: 0.6670 - val_auc: 0.8682\n",
      "Epoch 37/50\n",
      "10/10 [==============================] - 0s 5ms/step - loss: 0.0080 - auc: 1.0000 - val_loss: 0.6682 - val_auc: 0.8677\n",
      "Epoch 38/50\n",
      "10/10 [==============================] - 0s 6ms/step - loss: 0.0080 - auc: 1.0000 - val_loss: 0.6753 - val_auc: 0.8722\n",
      "Epoch 39/50\n",
      "10/10 [==============================] - 0s 6ms/step - loss: 0.0075 - auc: 1.0000 - val_loss: 0.6733 - val_auc: 0.8695\n",
      "Epoch 40/50\n",
      "10/10 [==============================] - 0s 5ms/step - loss: 0.0073 - auc: 1.0000 - val_loss: 0.6767 - val_auc: 0.8658\n",
      "Epoch 41/50\n",
      "10/10 [==============================] - 0s 5ms/step - loss: 0.0075 - auc: 1.0000 - val_loss: 0.6845 - val_auc: 0.8702\n",
      "Epoch 42/50\n",
      "10/10 [==============================] - 0s 5ms/step - loss: 0.0076 - auc: 1.0000 - val_loss: 0.6894 - val_auc: 0.8694\n",
      "Epoch 43/50\n",
      "10/10 [==============================] - 0s 5ms/step - loss: 0.0074 - auc: 1.0000 - val_loss: 0.6871 - val_auc: 0.8651\n",
      "Epoch 44/50\n",
      "10/10 [==============================] - 0s 6ms/step - loss: 0.0067 - auc: 1.0000 - val_loss: 0.6920 - val_auc: 0.8672\n",
      "Epoch 45/50\n",
      "10/10 [==============================] - 0s 6ms/step - loss: 0.0063 - auc: 1.0000 - val_loss: 0.6995 - val_auc: 0.8658\n",
      "Epoch 46/50\n",
      "10/10 [==============================] - 0s 5ms/step - loss: 0.0062 - auc: 1.0000 - val_loss: 0.7007 - val_auc: 0.8651\n",
      "Epoch 47/50\n",
      "10/10 [==============================] - 0s 5ms/step - loss: 0.0061 - auc: 1.0000 - val_loss: 0.7009 - val_auc: 0.8687\n",
      "Epoch 48/50\n",
      "10/10 [==============================] - 0s 5ms/step - loss: 0.0060 - auc: 1.0000 - val_loss: 0.7027 - val_auc: 0.8657\n",
      "Epoch 49/50\n",
      "10/10 [==============================] - 0s 6ms/step - loss: 0.0058 - auc: 1.0000 - val_loss: 0.7124 - val_auc: 0.8635\n",
      "Epoch 50/50\n",
      "10/10 [==============================] - 0s 5ms/step - loss: 0.0057 - auc: 1.0000 - val_loss: 0.7117 - val_auc: 0.8665\n",
      "CPU times: total: 4.17 s\n",
      "Wall time: 3.32 s\n"
     ]
    }
   ],
   "source": [
    "%%time\n",
    "\n",
    "Hist_ccfd = ccfd.fit(X_train, y_train,\n",
    "                     epochs = 50,\n",
    "                     batch_size = 1024,\n",
    "                     validation_data = (X_test, y_test))"
   ]
  },
  {
   "attachments": {},
   "cell_type": "markdown",
   "metadata": {},
   "source": [
    "> ## 5) 학습 결과 시각화"
   ]
  },
  {
   "attachments": {},
   "cell_type": "markdown",
   "metadata": {},
   "source": [
    "* Loss Visualization"
   ]
  },
  {
   "cell_type": "code",
   "execution_count": 67,
   "metadata": {},
   "outputs": [
    {
     "data": {
      "image/png": "[encoded data removed]",
      "text/plain": [
       "<Figure size 1000x500 with 2 Axes>"
      ]
     },
     "metadata": {},
     "output_type": "display_data"
    }
   ],
   "source": [
    "import matplotlib.pyplot as plt\n",
    "\n",
    "epochs = range(1, len(Hist_ccfd.history['loss']) + 1)\n",
    "\n",
    "plt.figure(figsize = (10, 5))\n",
    "\n",
    "plt.subplot(1, 2, 1)\n",
    "plt.plot(epochs, Hist_ccfd.history['loss'], 'b-')\n",
    "plt.plot(epochs, Hist_ccfd.history['val_loss'], 'r--')\n",
    "plt.title('Training & Validation Loss')\n",
    "plt.xlabel('Epochs')\n",
    "plt.ylabel('Loss')\n",
    "plt.legend(['Training Loss', 'Validation Loss'])\n",
    "plt.grid()\n",
    "\n",
    "plt.subplot(1, 2, 2)\n",
    "plt.plot(epochs, Hist_ccfd.history['auc'], 'b-')\n",
    "plt.plot(epochs, Hist_ccfd.history['val_auc'], 'r--')\n",
    "plt.title('Training & Validation AUC')\n",
    "plt.xlabel('Epochs')\n",
    "plt.ylabel('AUC')\n",
    "plt.legend(['Training AUC', 'Validation AUC'])\n",
    "plt.grid()\n",
    "\n",
    "plt.show()\n",
    "\n",
    "\n",
    "# plt.figure(figsize = (9, 6))\n",
    "# plt.plot(epochs, Hist_ccfd.history['loss'])\n",
    "# plt.plot(epochs, Hist_ccfd.history['val_loss'])\n",
    "# plt.title('Training & Validation Loss')\n",
    "# plt.xlabel('Epochs')\n",
    "# plt.ylabel('Loss')\n",
    "# plt.legend(['Training Loss', 'Validation Loss'])\n",
    "# plt.grid()\n",
    "# plt.show()"
   ]
  },
  {
   "attachments": {},
   "cell_type": "markdown",
   "metadata": {},
   "source": [
    "* AUC Visualization"
   ]
  },
  {
   "cell_type": "code",
   "execution_count": 54,
   "metadata": {},
   "outputs": [
    {
     "data": {
      "image/png": "[encoded data removed]",
      "text/plain": [
       "<Figure size 900x600 with 1 Axes>"
      ]
     },
     "metadata": {},
     "output_type": "display_data"
    }
   ],
   "source": [
    "import matplotlib.pyplot as plt\n",
    "\n",
    "epochs = range(1, len(Hist_ccfd.history['auc']) + 1)\n",
    "\n",
    "plt.figure(figsize = (9, 6))\n",
    "plt.plot(epochs, Hist_ccfd.history['auc'])\n",
    "plt.plot(epochs, Hist_ccfd.history['val_auc'])\n",
    "plt.title('Training & Validation AUC')\n",
    "plt.xlabel('Epochs')\n",
    "plt.ylabel('AUC')\n",
    "plt.legend(['Training AUC', 'Validation AUC'])\n",
    "plt.grid()\n",
    "plt.show()"
   ]
  },
  {
   "attachments": {},
   "cell_type": "markdown",
   "metadata": {},
   "source": [
    "> ## 6) Model Evaluate"
   ]
  },
  {
   "attachments": {},
   "cell_type": "markdown",
   "metadata": {},
   "source": [
    "* Loss & AUC"
   ]
  },
  {
   "cell_type": "code",
   "execution_count": 60,
   "metadata": {},
   "outputs": [
    {
     "name": "stdout",
     "output_type": "stream",
     "text": [
      "64/64 [==============================] - 0s 934us/step - loss: 0.5222 - auc: 0.9315\n",
      "Loss = 0.52219\n",
      "AUC = 0.93145\n"
     ]
    }
   ],
   "source": [
    "loss, auc = ccfd.evaluate(X_eval, y_eval)\n",
    "\n",
    "print('Loss = {:.5f}'.format(loss))\n",
    "print('AUC = {:.5f}'.format(auc))"
   ]
  },
  {
   "attachments": {},
   "cell_type": "markdown",
   "metadata": {},
   "source": [
    "> ## 7) Model Predict"
   ]
  },
  {
   "cell_type": "code",
   "execution_count": 61,
   "metadata": {},
   "outputs": [
    {
     "name": "stdout",
     "output_type": "stream",
     "text": [
      "64/64 [==============================] - 0s 712us/step\n"
     ]
    },
    {
     "data": {
      "text/plain": [
       "array([[0.],\n",
       "       [0.],\n",
       "       [0.],\n",
       "       ...,\n",
       "       [0.],\n",
       "       [0.],\n",
       "       [1.]], dtype=float32)"
      ]
     },
     "execution_count": 61,
     "metadata": {},
     "output_type": "execute_result"
    }
   ],
   "source": [
    "import numpy as np\n",
    "\n",
    "y_hat = np.round(ccfd.predict(X_eval))\n",
    "\n",
    "y_hat"
   ]
  },
  {
   "cell_type": "code",
   "execution_count": 62,
   "metadata": {},
   "outputs": [
    {
     "data": {
      "text/plain": [
       "array([[1562,  137],\n",
       "       [  50,  277]], dtype=int64)"
      ]
     },
     "execution_count": 62,
     "metadata": {},
     "output_type": "execute_result"
    }
   ],
   "source": [
    "from sklearn.metrics import confusion_matrix\n",
    "\n",
    "confusion_matrix(y_eval, y_hat)"
   ]
  },
  {
   "cell_type": "code",
   "execution_count": 64,
   "metadata": {},
   "outputs": [
    {
     "name": "stdout",
     "output_type": "stream",
     "text": [
      "Accuracy: 0.9076999012833169\n",
      "Precision: 0.6690821256038647\n",
      "Recall: 0.8470948012232415\n"
     ]
    }
   ],
   "source": [
    "from sklearn.metrics import accuracy_score, precision_score, recall_score\n",
    "\n",
    "print(f'Accuracy: {accuracy_score(y_eval, y_hat)}')\n",
    "print(f'Precision: {precision_score(y_eval, y_hat, pos_label = 1)}')\n",
    "print(f'Recall: {recall_score(y_eval, y_hat, pos_label = 1)}')"
   ]
  }
 ],
 "metadata": {
  "kernelspec": {
   "display_name": "base",
   "language": "python",
   "name": "python3"
  },
  "language_info": {
   "codemirror_mode": {
    "name": "ipython",
    "version": 3
   },
   "file_extension": ".py",
   "mimetype": "text/x-python",
   "name": "python",
   "nbconvert_exporter": "python",
   "pygments_lexer": "ipython3",
   "version": "3.9.18"
  },
  "orig_nbformat": 4
 },
 "nbformat": 4,
 "nbformat_minor": 2
}
