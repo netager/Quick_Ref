{
 "cells": [
  {
   "cell_type": "markdown",
   "metadata": {},
   "source": [
    "# 03 판다스 시리즈"
   ]
  },
  {
   "cell_type": "code",
   "execution_count": null,
   "metadata": {},
   "outputs": [],
   "source": [
    "## 01) 시리즈(Series) 소개"
   ]
  },
  {
   "cell_type": "code",
   "execution_count": null,
   "metadata": {},
   "outputs": [],
   "source": [
    "# pandas 설치\n",
    "!pip install pandas"
   ]
  },
  {
   "cell_type": "markdown",
   "metadata": {},
   "source": [
    "##  02) 시리즈 생성"
   ]
  },
  {
   "cell_type": "markdown",
   "metadata": {},
   "source": [
    "### 시리즈 생성"
   ]
  },
  {
   "cell_type": "code",
   "execution_count": null,
   "metadata": {},
   "outputs": [],
   "source": [
    "import pandas as pd\n",
    "\n",
    "data = [10,20,30]\n",
    "s = pd.Series(data)\n",
    "print(s)"
   ]
  },
  {
   "cell_type": "code",
   "execution_count": null,
   "metadata": {},
   "outputs": [],
   "source": [
    "import pandas as pd\n",
    "import numpy as np\n",
    "\n",
    "data = np.arange(5)\n",
    "s = pd.Series(data)\n",
    "print(s)"
   ]
  },
  {
   "cell_type": "code",
   "execution_count": null,
   "metadata": {},
   "outputs": [],
   "source": [
    "# 시리즈에는 수치형 데이터 뿐만아니라 문자열 데이터도 저장\n",
    "data = ['시가', '고가']\n",
    "s = pd.Series(data)\n",
    "s"
   ]
  },
  {
   "cell_type": "code",
   "execution_count": null,
   "metadata": {},
   "outputs": [],
   "source": [
    "s = pd.Series(['samsung', 80000])\n",
    "s"
   ]
  },
  {
   "cell_type": "markdown",
   "metadata": {},
   "source": [
    "## 03) 시리즈 인덱스"
   ]
  },
  {
   "cell_type": "markdown",
   "metadata": {},
   "source": [
    "### 시리즈 인덱스"
   ]
  },
  {
   "cell_type": "code",
   "execution_count": null,
   "metadata": {},
   "outputs": [],
   "source": [
    "import pandas as pd\n",
    "data = [1000, 2000, 3000]\n",
    "s = pd.Series(data)\n",
    "print(s)\n",
    "print(s.index)\n",
    "print(s.index.to_list())"
   ]
  },
  {
   "cell_type": "code",
   "execution_count": null,
   "metadata": {},
   "outputs": [],
   "source": [
    "# Series 인덱스 변경\n",
    "\n",
    "data = [1000, 2000, 3000]\n",
    "s = pd.Series(data)\n",
    "print(s)\n",
    "print(s.index)\n",
    "print(s.index.to_list())\n",
    "\n",
    "s.index = ['메로나','구구콘','하겐다즈']\n",
    "print(s)"
   ]
  },
  {
   "cell_type": "code",
   "execution_count": null,
   "metadata": {},
   "outputs": [],
   "source": [
    "data = [1000, 2000, 3000]\n",
    "index = ['메로나','구구콘','하겐다즈']\n",
    "\n",
    "s = pd.Series(data, index)\n",
    "# s = pd.Series(data, index=index)\n",
    "print(s)"
   ]
  },
  {
   "cell_type": "code",
   "execution_count": null,
   "metadata": {},
   "outputs": [],
   "source": [
    "# reindex 메서드를 사용하면 인자로 전달한 새로운 값으로 맞춰 인덱스를 변경.\n",
    "# 이때 기존에 인덱스는 기존값을 그대로 사용하고, 새로운 인덱스는 NaN 값을 채움.\n",
    "# \n",
    "data = [1000, 2000, 3000]\n",
    "index = ['메로나','구구콘','하겐다즈']\n",
    "s = pd.Series(data=data, index=index)\n",
    "\n",
    "s2 = s.reindex(['메로나','비비빅','구구콘']) # reindex\n",
    "s2"
   ]
  },
  {
   "cell_type": "code",
   "execution_count": null,
   "metadata": {},
   "outputs": [],
   "source": [
    "# fillna() 사용\n",
    "print(s2.fillna(0)) # s2의 값을 변경시키지 않음\n",
    "print(s2)"
   ]
  },
  {
   "cell_type": "code",
   "execution_count": null,
   "metadata": {},
   "outputs": [],
   "source": [
    "# reindex 메서드를 사용할 때 fill_value 파라미터를 사용해서 한 번에 처리할 수도 있습니다.\n",
    "s2 = s.reindex(['메로나','비비빅','구구콘'], fill_value = 0) # reindex\n",
    "s2"
   ]
  },
  {
   "cell_type": "code",
   "execution_count": null,
   "metadata": {},
   "outputs": [],
   "source": [
    "# 삼성전자 5일 종가\n",
    "price = [42500, 42550, 41800, 42550, 42650]\n",
    "date = [\"2019-05-31\", \"2019-05-30\", \"2019-05-29\", \"2019-05-28\", \"2019-05-27\"]\n",
    "s = pd.Series(price, date)\n",
    "print(s)"
   ]
  },
  {
   "cell_type": "code",
   "execution_count": null,
   "metadata": {},
   "outputs": [],
   "source": [
    "# 딕셔너리를 사용해서 시리즈를 한번에 만들기\n",
    "data = {\n",
    "    \"2019-05-31\" : 42500,\n",
    "    \"2019-05-30\" : 42550,\n",
    "    \"2019-05-29\" : 41800,\n",
    "    \"2019-05-28\" : 42550,\n",
    "    \"2019-05-27\" : 42650\n",
    "}\n",
    "s = pd.Series(data)\n",
    "s"
   ]
  },
  {
   "cell_type": "code",
   "execution_count": null,
   "metadata": {},
   "outputs": [],
   "source": [
    "# 시리즈 객체는 index와 values라는 속성을 통해 인덱스와 값을 각각 분리해서 얻어올 수 있습니다\n",
    "print(s.index)\n",
    "print(s.index.dtype)\n",
    "\n",
    "print(s.values)\n",
    "print(s.values.dtype)"
   ]
  },
  {
   "cell_type": "markdown",
   "metadata": {},
   "source": [
    "## 05) 시리즈 슬라이싱"
   ]
  },
  {
   "cell_type": "code",
   "execution_count": null,
   "metadata": {},
   "outputs": [],
   "source": [
    "import pandas as pd\n",
    "\n",
    "data = [1000, 2000, 3000]\n",
    "index = ['메로나','구구콘','하겐다즈']\n",
    "s = pd.Series(data, index)\n",
    "print(s[0:2])"
   ]
  },
  {
   "cell_type": "code",
   "execution_count": null,
   "metadata": {},
   "outputs": [],
   "source": [
    "s['메로나':'구구콘']"
   ]
  },
  {
   "cell_type": "code",
   "execution_count": null,
   "metadata": {},
   "outputs": [],
   "source": [
    "print(s.iloc[0:2])"
   ]
  },
  {
   "cell_type": "code",
   "execution_count": null,
   "metadata": {},
   "outputs": [],
   "source": [
    "s.loc['메로나':'구구콘']"
   ]
  },
  {
   "cell_type": "code",
   "execution_count": null,
   "metadata": {},
   "outputs": [],
   "source": [
    "data = [1000, 2000, 3000]\n",
    "index = [\"메로나\", \"구구콘\", \"하겐다즈\"]\n",
    "s = pd.Series(data=data, index=index)"
   ]
  },
  {
   "cell_type": "code",
   "execution_count": null,
   "metadata": {},
   "outputs": [],
   "source": [
    "indice = [0, 2]\n",
    "print(s.iloc[indice])\n",
    "print(s.iloc[[0, 2]])"
   ]
  },
  {
   "cell_type": "code",
   "execution_count": null,
   "metadata": {},
   "outputs": [],
   "source": [
    "data = [1000, 2000, 3000]\n",
    "index = [\"메로나\", \"구구콘\", \"하겐다즈\"]\n",
    "s =  pd.Series(data=data, index=index)\n",
    "indice = [\"메로나\", \"하겐다즈\"]\n",
    "print(s.loc[ indice ])\n",
    "print(s.loc[ [\"메로나\", \"하겐다즈\"] ])"
   ]
  },
  {
   "cell_type": "markdown",
   "metadata": {},
   "source": [
    "## 06) 시리즈 수정/추가/삭제"
   ]
  },
  {
   "cell_type": "code",
   "execution_count": null,
   "metadata": {},
   "outputs": [],
   "source": [
    "import pandas as pd\n",
    "data  = [100,200,300]\n",
    "index = ['메로나','구구콘','하겐다즈']\n",
    "s = pd.Series(data, index)\n",
    "\n",
    "print(s)\n",
    "s.loc['메로나'] = 500\n",
    "print(s)\n"
   ]
  },
  {
   "cell_type": "code",
   "execution_count": null,
   "metadata": {},
   "outputs": [],
   "source": [
    "s.iloc[0] = 600\n",
    "print(s)\n",
    "s.loc['메로나'] = 700\n",
    "print(s)\n"
   ]
  },
  {
   "cell_type": "code",
   "execution_count": null,
   "metadata": {},
   "outputs": [],
   "source": [
    "# 값 추가\n",
    "s.loc['비비빅'] = 800\n",
    "print(s)"
   ]
  },
  {
   "cell_type": "code",
   "execution_count": null,
   "metadata": {},
   "outputs": [],
   "source": [
    "# 시리즈에서 값의 삭제는 drop 메서드를 사용\n",
    "print(s)\n",
    "s.drop('메로나')\n",
    "print(s)\n",
    "s = s.drop('메로나')\n",
    "print(s)\n",
    "\n",
    "# s.drop(0) # 에러 발생\n"
   ]
  },
  {
   "cell_type": "code",
   "execution_count": null,
   "metadata": {},
   "outputs": [],
   "source": [
    "s.index"
   ]
  },
  {
   "cell_type": "code",
   "execution_count": null,
   "metadata": {},
   "outputs": [],
   "source": [
    "s.values"
   ]
  },
  {
   "cell_type": "markdown",
   "metadata": {},
   "source": [
    "## 07) 시리즈 연산"
   ]
  },
  {
   "cell_type": "code",
   "execution_count": null,
   "metadata": {},
   "outputs": [],
   "source": [
    "# 같은 인덱스를 갖는 종목끼리 덕셈을 수행하고, 같은 인덱스에 계산 결과를 저장\n",
    "import pandas as pd\n",
    "철수 = pd.Series([10,20,30], index=['NAVER','SKT','KT'])\n",
    "영희 = pd.Series([10,30,20], index=['SKT','KT','NAVER'])\n",
    "가족 = 철수 + 영희\n",
    "print(가족)"
   ]
  },
  {
   "cell_type": "code",
   "execution_count": null,
   "metadata": {},
   "outputs": [],
   "source": [
    "# 시리즈와 스칼라(숫자)의 연산은 브로드캐스팅이 적용되어 모든 데이터에 연산이 적용\n",
    "print(철수)\n",
    "print(철수 * 10)"
   ]
  },
  {
   "cell_type": "code",
   "execution_count": null,
   "metadata": {},
   "outputs": [],
   "source": [
    "# 삼성전자의 5일 일봉 데이터에서 고가와 저가 시리즈로 각 거래일의 변동폭을 계산\n",
    "\n",
    "high = pd.Series([42800, 42700, 42050, 42950, 43000])\n",
    "low = pd.Series([42150, 42150, 41300, 42150, 42350])\n",
    "\n",
    "diff = high - low\n",
    "print(diff)\n",
    "print('----------------------')\n",
    "print(diff.max())\n"
   ]
  },
  {
   "cell_type": "code",
   "execution_count": null,
   "metadata": {},
   "outputs": [],
   "source": [
    "date = [\"6/1\", \"6/2\", \"6/3\", \"6/4\", \"6/5\"]\n",
    "high = pd.Series([42800, 42700, 42050, 42950, 43000], index=date)\n",
    "low = pd.Series([42150, 42150, 41300, 42150, 42350] , index=date)\n",
    "\n",
    "diff = high - low\n",
    "print(diff)"
   ]
  },
  {
   "cell_type": "code",
   "execution_count": null,
   "metadata": {},
   "outputs": [],
   "source": [
    "max_idx = 0\n",
    "max_val = 0\n",
    "\n",
    "for i,j in enumerate(diff):\n",
    "    if j > max_val:\n",
    "        max_val = j\n",
    "        max_idx = i\n",
    "\n",
    "print(max_val)\n",
    "print(diff.index[max_idx])\n",
    "        \n",
    "        "
   ]
  },
  {
   "cell_type": "code",
   "execution_count": null,
   "metadata": {},
   "outputs": [],
   "source": [
    "max_idx = 0\n",
    "max_val = 0\n",
    "for i in range(len(diff)):\n",
    "    if diff[i] > max_val:\n",
    "        max_val = diff[i]\n",
    "        max_idx = i\n",
    "    \n",
    "print(max_idx)\n",
    "print(diff[max_idx])\n",
    "print(diff.index[max_idx])\n",
    "        "
   ]
  },
  {
   "cell_type": "code",
   "execution_count": null,
   "metadata": {},
   "outputs": [],
   "source": [
    "# 시리즈는 최댓값일 때의 인덱스를 반환하는 idxmax와 최솟값일 떄의 인덱스를 반환하는 idxmin 메서드를 제공\n",
    "print(diff.idxmax(), diff[diff.idxmax()])\n",
    "print(diff.idxmin(), diff[diff.idxmin()])"
   ]
  },
  {
   "cell_type": "code",
   "execution_count": null,
   "metadata": {},
   "outputs": [],
   "source": [
    "# 매일 저가에 사서 고가에 팔았을 경우 수익률 계산\n",
    "\n",
    "date = [\"6/1\", \"6/2\", \"6/3\", \"6/4\", \"6/5\"]\n",
    "high = pd.Series([42800, 42700, 42050, 42950, 43000], index=date)\n",
    "low = pd.Series([42150, 42150, 41300, 42150, 42350] , index=date)\n",
    "\n",
    "profit = high / low\n",
    "print(profit)\n",
    "\n"
   ]
  },
  {
   "cell_type": "code",
   "execution_count": null,
   "metadata": {},
   "outputs": [],
   "source": [
    "# 누적 수익률 - 모든 수익률을 누적해서 곱합으로써 계산 - cumprod()\n",
    "# profit[0], profit[0] * profit[1], (profit[0] * profit[1]) * profit[2], ...\n",
    "print(profit)\n",
    "print('-----------------------')\n",
    "print(profit.cumprod())"
   ]
  },
  {
   "cell_type": "code",
   "execution_count": null,
   "metadata": {},
   "outputs": [],
   "source": [
    "print(profit.cumprod().iloc[-1])"
   ]
  },
  {
   "cell_type": "code",
   "execution_count": null,
   "metadata": {},
   "outputs": [],
   "source": [
    "data = {\n",
    "    \"삼성전자\": \"전기,전자\",\n",
    "    \"LG전자\": \"전기,전자\",\n",
    "    \"현대차\": \"운수장비\",\n",
    "    \"NAVER\": \"서비스업\",\n",
    "    \"카카오\": \"서비스업\"\n",
    "}\n",
    "s = pd.Series(data)\n",
    "print(s)"
   ]
  },
  {
   "cell_type": "code",
   "execution_count": null,
   "metadata": {},
   "outputs": [],
   "source": [
    "# 중복 제거\n",
    "s.unique()"
   ]
  },
  {
   "cell_type": "code",
   "execution_count": null,
   "metadata": {},
   "outputs": [],
   "source": [
    "# 값의 갯수 조회\n",
    "s.value_counts()"
   ]
  },
  {
   "cell_type": "markdown",
   "metadata": {},
   "source": [
    "## 08) 시리즈와 Map"
   ]
  },
  {
   "cell_type": "code",
   "execution_count": null,
   "metadata": {},
   "outputs": [],
   "source": [
    "import pandas as pd\n",
    "\n",
    "s = pd.Series([\"1,234\", \"5,678\", \"9,876\"])\n",
    "# print( int(s) ) # 에러 발생 - 형변환 에러\n"
   ]
  },
  {
   "cell_type": "code",
   "execution_count": null,
   "metadata": {},
   "outputs": [],
   "source": [
    "# map() 메서드 동작 원리\n",
    "def remove_comma(x):\n",
    "    print(x, 'in function')\n",
    "    return x \n",
    "\n",
    "s = pd.Series(['1,234', '5,678', '9,876'])\n",
    "print(s)\n",
    "result = s.map(remove_comma)\n",
    "print(result)\n",
    "    \n",
    "    "
   ]
  },
  {
   "cell_type": "code",
   "execution_count": null,
   "metadata": {},
   "outputs": [],
   "source": [
    "# map() 메서드 동작 원리\n",
    "def remove_comma(x):\n",
    "    return int(x.replace(',',''))  # comma를 제거하고 정수로 변경후 Return\n",
    "\n",
    "s = pd.Series(['1,234', '5,678', '9,876'])\n",
    "print(s)\n",
    "result = s.map(remove_comma)\n",
    "print(result)"
   ]
  },
  {
   "cell_type": "code",
   "execution_count": null,
   "metadata": {},
   "outputs": [],
   "source": [
    "# map() 메서드를 사용해서 수치형 데이터를 범주형 데이터로 구분\n",
    "\n",
    "def is_greater_than_5000(x):\n",
    "    if x > 5000:\n",
    "        return '크다'\n",
    "    else:\n",
    "        return '작다'\n",
    "    \n",
    "s = pd.Series([1234, 5678, 9876])\n",
    "s = s.map(is_greater_than_5000)\n",
    "print(s)"
   ]
  },
  {
   "cell_type": "markdown",
   "metadata": {},
   "source": [
    "## 09) 시리즈 필터링"
   ]
  },
  {
   "cell_type": "code",
   "execution_count": null,
   "metadata": {},
   "outputs": [],
   "source": [
    "# 삼성전자의 5일 종가를 시리즈 객체로 표현\n",
    "\n",
    "data = [42500, 42550, 41800, 42550, 42650]\n",
    "index = ['2019-05-31', '2019-05-30', '2019-05-29', '2019-05-28', '2019-05-27']\n",
    "s = pd.Series(data=data, index=index)\n",
    "cond = s > 42000\n",
    "print(cond)\n",
    "\n",
    "# 블리언 색인\n",
    "print(s[cond])"
   ]
  },
  {
   "cell_type": "code",
   "execution_count": null,
   "metadata": {},
   "outputs": [],
   "source": [
    "close = [42500, 42550, 41800, 42550, 42650]\n",
    "open = [42600, 42200, 41850, 42550, 42500]\n",
    "index = ['2019-05-31', '2019-05-30', '2019-05-29', '2019-05-28', '2019-05-27']\n",
    "\n",
    "open = pd.Series(data=open, index=index)\n",
    "close = pd.Series(data=close, index=index)\n",
    "\n",
    "cond = close > open\n",
    "print(cond)"
   ]
  },
  {
   "cell_type": "code",
   "execution_count": null,
   "metadata": {},
   "outputs": [],
   "source": [
    "print(close[cond])\n",
    "print(open[cond])\n"
   ]
  },
  {
   "cell_type": "code",
   "execution_count": null,
   "metadata": {},
   "outputs": [],
   "source": [
    "close.index[close>open]"
   ]
  },
  {
   "cell_type": "code",
   "execution_count": null,
   "metadata": {},
   "outputs": [],
   "source": [
    "close[close>open].index"
   ]
  },
  {
   "cell_type": "code",
   "execution_count": null,
   "metadata": {},
   "outputs": [],
   "source": [
    "close = [42500, 42550, 41800, 42550, 42650]\n",
    "open = [42600, 42200, 41850, 42550, 42500]\n",
    "index = ['2019-05-31', '2019-05-30', '2019-05-29', '2019-05-28', '2019-05-27']\n",
    " \n",
    "open = pd.Series(data=open, index=index)\n",
    "close = pd.Series(data=close, index=index)\n",
    "diff = close - open\n",
    "diff[close > open]"
   ]
  },
  {
   "cell_type": "markdown",
   "metadata": {},
   "source": [
    "## 10) 정렬 및 순위"
   ]
  },
  {
   "cell_type": "code",
   "execution_count": null,
   "metadata": {},
   "outputs": [],
   "source": [
    "import pandas as pd\n",
    "\n",
    "data = [3.1, 2.0, 10.1, 5.1]\n",
    "index = ['000010', '000020', '000030', '000040']\n",
    "s = pd.Series(data=data, index=index)\n",
    "print(s)\n",
    "\n",
    "# 정렬 (오름차순)\n",
    "s1 = s.sort_values()\n",
    "print(s1)\n",
    "\n",
    "# 정렬 (내림차순)\n",
    "s2 = s.sort_values(ascending=False)\n",
    "print(s2)\n"
   ]
  },
  {
   "cell_type": "code",
   "execution_count": null,
   "metadata": {},
   "outputs": [],
   "source": [
    "# 데이터의 위치는 그래로 유지한 채 순위만 추가한다는 점\n",
    "# rank() 메서드\n",
    "# rank() - option\n",
    "# \n",
    "\n",
    "data = [3.1, 2.0, 10.1, 3.1]\n",
    "index = ['000010', '000020', '000030', '000040']\n",
    "s = pd.Series(data=data, index=index)\n",
    "print(s)\n",
    "s.rank()\n"
   ]
  },
  {
   "cell_type": "code",
   "execution_count": null,
   "metadata": {},
   "outputs": [],
   "source": []
  },
  {
   "cell_type": "code",
   "execution_count": null,
   "metadata": {},
   "outputs": [],
   "source": []
  },
  {
   "cell_type": "code",
   "execution_count": null,
   "metadata": {},
   "outputs": [],
   "source": []
  },
  {
   "cell_type": "code",
   "execution_count": null,
   "metadata": {},
   "outputs": [],
   "source": []
  }
 ],
 "metadata": {
  "language_info": {
   "name": "python"
  },
  "orig_nbformat": 4
 },
 "nbformat": 4,
 "nbformat_minor": 2
}
