{
 "cells": [
  {
   "cell_type": "markdown",
   "metadata": {},
   "source": [
    "## 01) 주가지수"
   ]
  },
  {
   "cell_type": "code",
   "execution_count": 3,
   "metadata": {},
   "outputs": [
    {
     "name": "stdout",
     "output_type": "stream",
     "text": [
      "936\n",
      "937\n"
     ]
    }
   ],
   "source": [
    "import pandas as pd\n",
    "\n",
    "df_13 = pd.read_excel('data/data_20210913.xlsx', index_col=0)\n",
    "df_14 = pd.read_excel('data/data_20210914.xlsx', index_col=0)\n",
    "print(len(df_13))\n",
    "print(len(df_14))"
   ]
  },
  {
   "cell_type": "code",
   "execution_count": 16,
   "metadata": {},
   "outputs": [
    {
     "name": "stdout",
     "output_type": "stream",
     "text": [
      "Index(['395400'], dtype='object', name='종목코드')\n",
      "SK리츠\n"
     ]
    }
   ],
   "source": [
    "# 9월 13일에는 936개 종목, 9월 14일에는 937개 종목이 상장돼 있음을 알 수 있습니다. \n",
    "# 종목의 변화가 생겼기 때문에 기준시가총액을 수정해서 사용해야 합니다.\n",
    "\n",
    "# 출력된 결과를 참고하면 2021-09-14에는 395400의 SK리츠가 추가 상장된 것을 알 수 있습니다. \n",
    "# 행과 열의 정보를 한 번에 선택하는 인덱싱을 사용했습니다.\n",
    "idx = df_14.index.difference(df_13.index)\n",
    "print(idx)\n",
    "print(df_14.loc[idx[0], '종목명'])"
   ]
  },
  {
   "cell_type": "code",
   "execution_count": 19,
   "metadata": {},
   "outputs": [
    {
     "name": "stdout",
     "output_type": "stream",
     "text": [
      "1.006711949331194\n"
     ]
    }
   ],
   "source": [
    "# 다음 코드는 시가총액의 증감률을 구해서 수정된 기준시가총액을 유도하고 최종적으로 지수의 증감률을 출력합니다.\n",
    "\n",
    "전일비교시가총액 = df_13['시가총액'].sum()\n",
    "전일기준시가총액 = df_13['시가총액'].sum()\n",
    "증감률 = (전일비교시가총액 + df_14.loc[idx[0], '시가총액']) / 전일비교시가총액\n",
    "당일기준시가총액 = 증감률 * 전일기준시가총액\n",
    "당일비교시가총액 = df_14['시가총액'].sum()\n",
    "print(당일비교시가총액 / 당일기준시가총액)"
   ]
  },
  {
   "cell_type": "code",
   "execution_count": 20,
   "metadata": {},
   "outputs": [
    {
     "name": "stdout",
     "output_type": "stream",
     "text": [
      "False\n"
     ]
    }
   ],
   "source": [
    "# 출력되는 결과를 참고하면 2021-09-14의 지수는 반올림해서 약 0.67% 상승했음을 알 수 있습니다. \n",
    "# 그림 8.1.1의 등락률 컬럼의 값과 비슷하죠? 아직 고려해야 할 내용이 남아 있어서 완전히 같지 않습니다.\n",
    "# 종목의 상장뿐만 아니라 전환 사채 등의 이슈로 주식 수가 변경되는 것도 반영해야 합니다. \n",
    "# 주식 수가 변경된 종목이 있는지 확인해 봅시다.\n",
    "\n",
    "idx = df_14.index.intersection(df_13.index)\n",
    "t_13 = df_13.loc[idx]\n",
    "t_14 = df_14.loc[idx]\n",
    "cond = t_13['상장주식수'] != t_14['상장주식수']\n",
    "print(cond.all()) # 시리즈의 all 메서드는 시리즈의 모든 값이 True 라면 True를, 그렇지 않다면 False를 반환합니다. "
   ]
  },
  {
   "cell_type": "code",
   "execution_count": 30,
   "metadata": {},
   "outputs": [
    {
     "data": {
      "text/plain": [
       "종목코드\n",
       "001570    True\n",
       "011930    True\n",
       "Name: 상장주식수, dtype: bool"
      ]
     },
     "execution_count": 30,
     "metadata": {},
     "output_type": "execute_result"
    }
   ],
   "source": [
    "cond[cond == True]"
   ]
  },
  {
   "cell_type": "code",
   "execution_count": 25,
   "metadata": {},
   "outputs": [
    {
     "data": {
      "text/plain": [
       "종목코드\n",
       "001570    499996\n",
       "011930      5661\n",
       "Name: 상장주식수, dtype: int64"
      ]
     },
     "execution_count": 25,
     "metadata": {},
     "output_type": "execute_result"
    }
   ],
   "source": [
    "# 조건 슬라이싱과 시리즈 연산으로 변경사항이 있는 종목들의 추가된 상장주식 수를 출력합니다.\n",
    "\n",
    "t_14.loc[cond, '상장주식수'] - t_13.loc[cond, '상장주식수'] \n"
   ]
  },
  {
   "cell_type": "code",
   "execution_count": 32,
   "metadata": {},
   "outputs": [
    {
     "name": "stdout",
     "output_type": "stream",
     "text": [
      "1.0069842957814492\n"
     ]
    }
   ],
   "source": [
    "# 주식 수의 증가에 따른 시가총액을 수정된 비교시가총액에 반영해 봅시다. \n",
    "# 2021-09-13의 종가와 추가된 주식 수를 곱해서 증가액을 계산하고 증감률에 반영합니다. \n",
    "# 라인 1과 라인 4의 변경된 코드를 눈여겨보세요.\n",
    "\n",
    "주식수증가액 = (t_14.loc[cond, '상장주식수'] - t_13.loc[cond, '상장주식수']) * t_13.loc[cond, '종가']\n",
    "전일비교시가총액 = df_13['시가총액'].sum()\n",
    "전일기준시가총액 = df_13['시가총액'].sum()\n",
    "증감률 = (전일비교시가총액 + df_14.loc[idx[0], '시가총액'] + 주식수증가액.sum()) / 전일비교시가총액\n",
    "당일기준시가총액 = 증감률 * 전일기준시가총액\n",
    "당일비교시가총액 = df_14['시가총액'].sum()\n",
    "print(당일비교시가총액 / 당일기준시가총액)"
   ]
  },
  {
   "cell_type": "markdown",
   "metadata": {},
   "source": [
    "## 02) 코스피와 삼성전자"
   ]
  },
  {
   "cell_type": "code",
   "execution_count": 34,
   "metadata": {},
   "outputs": [
    {
     "data": {
      "text/html": [
       "<div>\n",
       "<style scoped>\n",
       "    .dataframe tbody tr th:only-of-type {\n",
       "        vertical-align: middle;\n",
       "    }\n",
       "\n",
       "    .dataframe tbody tr th {\n",
       "        vertical-align: top;\n",
       "    }\n",
       "\n",
       "    .dataframe thead th {\n",
       "        text-align: right;\n",
       "    }\n",
       "</style>\n",
       "<table border=\"1\" class=\"dataframe\">\n",
       "  <thead>\n",
       "    <tr style=\"text-align: right;\">\n",
       "      <th></th>\n",
       "      <th>종목명</th>\n",
       "      <th>종가</th>\n",
       "      <th>시가총액</th>\n",
       "    </tr>\n",
       "    <tr>\n",
       "      <th>종목코드</th>\n",
       "      <th></th>\n",
       "      <th></th>\n",
       "      <th></th>\n",
       "    </tr>\n",
       "  </thead>\n",
       "  <tbody>\n",
       "    <tr>\n",
       "      <th>095570</th>\n",
       "      <td>AJ네트웍스</td>\n",
       "      <td>6000</td>\n",
       "      <td>280933770000</td>\n",
       "    </tr>\n",
       "    <tr>\n",
       "      <th>006840</th>\n",
       "      <td>AK홀딩스</td>\n",
       "      <td>27700</td>\n",
       "      <td>366957439700</td>\n",
       "    </tr>\n",
       "    <tr>\n",
       "      <th>027410</th>\n",
       "      <td>BGF</td>\n",
       "      <td>6260</td>\n",
       "      <td>599187111660</td>\n",
       "    </tr>\n",
       "    <tr>\n",
       "      <th>282330</th>\n",
       "      <td>BGF리테일</td>\n",
       "      <td>179000</td>\n",
       "      <td>3093819174000</td>\n",
       "    </tr>\n",
       "    <tr>\n",
       "      <th>138930</th>\n",
       "      <td>BNK금융지주</td>\n",
       "      <td>8070</td>\n",
       "      <td>2630297435220</td>\n",
       "    </tr>\n",
       "    <tr>\n",
       "      <th>...</th>\n",
       "      <td>...</td>\n",
       "      <td>...</td>\n",
       "      <td>...</td>\n",
       "    </tr>\n",
       "    <tr>\n",
       "      <th>069260</th>\n",
       "      <td>휴켐스</td>\n",
       "      <td>27050</td>\n",
       "      <td>1105765805400</td>\n",
       "    </tr>\n",
       "    <tr>\n",
       "      <th>000540</th>\n",
       "      <td>흥국화재</td>\n",
       "      <td>4045</td>\n",
       "      <td>259861499025</td>\n",
       "    </tr>\n",
       "    <tr>\n",
       "      <th>000547</th>\n",
       "      <td>흥국화재2우B</td>\n",
       "      <td>29500</td>\n",
       "      <td>4531200000</td>\n",
       "    </tr>\n",
       "    <tr>\n",
       "      <th>000545</th>\n",
       "      <td>흥국화재우</td>\n",
       "      <td>9350</td>\n",
       "      <td>7180800000</td>\n",
       "    </tr>\n",
       "    <tr>\n",
       "      <th>003280</th>\n",
       "      <td>흥아해운</td>\n",
       "      <td>1035</td>\n",
       "      <td>247494403980</td>\n",
       "    </tr>\n",
       "  </tbody>\n",
       "</table>\n",
       "<p>937 rows × 3 columns</p>\n",
       "</div>"
      ],
      "text/plain": [
       "            종목명      종가           시가총액\n",
       "종목코드                                  \n",
       "095570   AJ네트웍스    6000   280933770000\n",
       "006840    AK홀딩스   27700   366957439700\n",
       "027410      BGF    6260   599187111660\n",
       "282330   BGF리테일  179000  3093819174000\n",
       "138930  BNK금융지주    8070  2630297435220\n",
       "...         ...     ...            ...\n",
       "069260      휴켐스   27050  1105765805400\n",
       "000540     흥국화재    4045   259861499025\n",
       "000547  흥국화재2우B   29500     4531200000\n",
       "000545    흥국화재우    9350     7180800000\n",
       "003280     흥아해운    1035   247494403980\n",
       "\n",
       "[937 rows x 3 columns]"
      ]
     },
     "execution_count": 34,
     "metadata": {},
     "output_type": "execute_result"
    }
   ],
   "source": [
    "# 2021-09-14을 기준으로 코스피 시장에 상장된 종목들의 현황을 확인해 보겠습니다. \n",
    "# 엑셀 파일의 전 종목 데이터를 읽어와서 종목명, 종가, 시가총액 컬럼만을 선택합니다.\n",
    "\n",
    "import pandas as pd\n",
    "df = pd.read_excel('data/data_20210914.xlsx', index_col=0)\n",
    "df = df[['종목명', '종가', '시가총액']]\n",
    "df"
   ]
  },
  {
   "cell_type": "code",
   "execution_count": 35,
   "metadata": {},
   "outputs": [
    {
     "data": {
      "text/html": [
       "<div>\n",
       "<style scoped>\n",
       "    .dataframe tbody tr th:only-of-type {\n",
       "        vertical-align: middle;\n",
       "    }\n",
       "\n",
       "    .dataframe tbody tr th {\n",
       "        vertical-align: top;\n",
       "    }\n",
       "\n",
       "    .dataframe thead th {\n",
       "        text-align: right;\n",
       "    }\n",
       "</style>\n",
       "<table border=\"1\" class=\"dataframe\">\n",
       "  <thead>\n",
       "    <tr style=\"text-align: right;\">\n",
       "      <th></th>\n",
       "      <th>종목명</th>\n",
       "      <th>종가</th>\n",
       "      <th>시가총액</th>\n",
       "    </tr>\n",
       "    <tr>\n",
       "      <th>종목코드</th>\n",
       "      <th></th>\n",
       "      <th></th>\n",
       "      <th></th>\n",
       "    </tr>\n",
       "  </thead>\n",
       "  <tbody>\n",
       "    <tr>\n",
       "      <th>095570</th>\n",
       "      <td>AJ네트웍스</td>\n",
       "      <td>6000</td>\n",
       "      <td>280933770000</td>\n",
       "    </tr>\n",
       "    <tr>\n",
       "      <th>006840</th>\n",
       "      <td>AK홀딩스</td>\n",
       "      <td>27700</td>\n",
       "      <td>366957439700</td>\n",
       "    </tr>\n",
       "    <tr>\n",
       "      <th>027410</th>\n",
       "      <td>BGF</td>\n",
       "      <td>6260</td>\n",
       "      <td>599187111660</td>\n",
       "    </tr>\n",
       "    <tr>\n",
       "      <th>282330</th>\n",
       "      <td>BGF리테일</td>\n",
       "      <td>179000</td>\n",
       "      <td>3093819174000</td>\n",
       "    </tr>\n",
       "    <tr>\n",
       "      <th>138930</th>\n",
       "      <td>BNK금융지주</td>\n",
       "      <td>8070</td>\n",
       "      <td>2630297435220</td>\n",
       "    </tr>\n",
       "  </tbody>\n",
       "</table>\n",
       "</div>"
      ],
      "text/plain": [
       "            종목명      종가           시가총액\n",
       "종목코드                                  \n",
       "095570   AJ네트웍스    6000   280933770000\n",
       "006840    AK홀딩스   27700   366957439700\n",
       "027410      BGF    6260   599187111660\n",
       "282330   BGF리테일  179000  3093819174000\n",
       "138930  BNK금융지주    8070  2630297435220"
      ]
     },
     "execution_count": 35,
     "metadata": {},
     "output_type": "execute_result"
    }
   ],
   "source": [
    "# usescols 파라미터를 사용하면 한 번에 필요한 컬럼을 선택할 수 있어서 매우 편리합니다. \n",
    "# 원본 엑셀 데이터에서 종목코드, 종목명, 종가, 시가총액의 네 개의 컬럼을 선택하고 나서, \n",
    "# index_col로 0번 컬럼을 인덱스로 지정합니다.\n",
    "\n",
    "df = pd.read_excel('data/data_20210914.xlsx', index_col=0, usecols=[0, 1, 2, 10])\n",
    "df.head()"
   ]
  },
  {
   "cell_type": "code",
   "execution_count": 50,
   "metadata": {},
   "outputs": [
    {
     "data": {
      "text/html": [
       "<div>\n",
       "<style scoped>\n",
       "    .dataframe tbody tr th:only-of-type {\n",
       "        vertical-align: middle;\n",
       "    }\n",
       "\n",
       "    .dataframe tbody tr th {\n",
       "        vertical-align: top;\n",
       "    }\n",
       "\n",
       "    .dataframe thead th {\n",
       "        text-align: right;\n",
       "    }\n",
       "</style>\n",
       "<table border=\"1\" class=\"dataframe\">\n",
       "  <thead>\n",
       "    <tr style=\"text-align: right;\">\n",
       "      <th></th>\n",
       "      <th>종목명</th>\n",
       "      <th>종가</th>\n",
       "      <th>시가총액</th>\n",
       "      <th>비중</th>\n",
       "    </tr>\n",
       "    <tr>\n",
       "      <th>종목코드</th>\n",
       "      <th></th>\n",
       "      <th></th>\n",
       "      <th></th>\n",
       "      <th></th>\n",
       "    </tr>\n",
       "  </thead>\n",
       "  <tbody>\n",
       "    <tr>\n",
       "      <th>005930</th>\n",
       "      <td>삼성전자</td>\n",
       "      <td>76600</td>\n",
       "      <td>457285343330000</td>\n",
       "      <td>20.054103</td>\n",
       "    </tr>\n",
       "    <tr>\n",
       "      <th>000660</th>\n",
       "      <td>SK하이닉스</td>\n",
       "      <td>107500</td>\n",
       "      <td>78260254237500</td>\n",
       "      <td>3.432078</td>\n",
       "    </tr>\n",
       "    <tr>\n",
       "      <th>035420</th>\n",
       "      <td>NAVER</td>\n",
       "      <td>402500</td>\n",
       "      <td>66116016487500</td>\n",
       "      <td>2.899497</td>\n",
       "    </tr>\n",
       "    <tr>\n",
       "      <th>207940</th>\n",
       "      <td>삼성바이오로직스</td>\n",
       "      <td>913000</td>\n",
       "      <td>60408645000000</td>\n",
       "      <td>2.649202</td>\n",
       "    </tr>\n",
       "    <tr>\n",
       "      <th>005935</th>\n",
       "      <td>삼성전자우</td>\n",
       "      <td>71400</td>\n",
       "      <td>58754110380000</td>\n",
       "      <td>2.576643</td>\n",
       "    </tr>\n",
       "  </tbody>\n",
       "</table>\n",
       "</div>"
      ],
      "text/plain": [
       "             종목명      종가             시가총액         비중\n",
       "종목코드                                                \n",
       "005930      삼성전자   76600  457285343330000  20.054103\n",
       "000660    SK하이닉스  107500   78260254237500   3.432078\n",
       "035420     NAVER  402500   66116016487500   2.899497\n",
       "207940  삼성바이오로직스  913000   60408645000000   2.649202\n",
       "005935     삼성전자우   71400   58754110380000   2.576643"
      ]
     },
     "execution_count": 50,
     "metadata": {},
     "output_type": "execute_result"
    }
   ],
   "source": [
    "# 각 종목이 차지하는 시가총액의 비중을 구한 뒤에 비중을 기준으로 정렬해 봅시다. \n",
    "# 시리즈의 sum 메서드로 전 종목의 합을 구해서 시가총액 시리즈를 나누고 100을 곱합니다. \n",
    "# 브로드캐스팅이 적용되어 전체 데이터에 연산이 적용됩니다. 이어서 비중 컬럼을 내림차순으로 정렬합니다.\n",
    "\n",
    "df['비중'] = df['시가총액']/df['시가총액'].sum() * 100\n",
    "df.sort_values('비중', ascending=False).head()"
   ]
  },
  {
   "cell_type": "code",
   "execution_count": null,
   "metadata": {},
   "outputs": [],
   "source": [
    "# 삼성전자와 코스피 지수의 유사한 정도를 확인하기 위해 산포도를 그려서 데이터의 흩어진 정도를 시각화해 봅시다. \n",
    "# 다음 코드는 2020년 1월 1일부터 2021년 8월 31일까지의 코스피 지수와 삼성전자의 OHLCV 데이터를 읽습니다.\n",
    "\n",
    "import numpy as np\n",
    "\n",
    "kospi = pd.read_excel(\"data/kospi.xlsx\")\n",
    "samsung = pd.read_excel(\"data/samsung.xlsx\")\n",
    "\n",
    "data = [ kospi['종가'], samsung['종가'] ]\n",
    "df = pd.concat(data, axis=1, keys=[\"kospi\", \"samsung\"])\n",
    "df.head()"
   ]
  },
  {
   "cell_type": "code",
   "execution_count": 68,
   "metadata": {},
   "outputs": [
    {
     "name": "stderr",
     "output_type": "stream",
     "text": [
      "C:\\Users\\USER\\anaconda3\\lib\\site-packages\\openpyxl\\styles\\stylesheet.py:226: UserWarning: Workbook contains no default style, apply openpyxl's default\n",
      "  warn(\"Workbook contains no default style, apply openpyxl's default\")\n"
     ]
    },
    {
     "data": {
      "text/html": [
       "<div>\n",
       "<style scoped>\n",
       "    .dataframe tbody tr th:only-of-type {\n",
       "        vertical-align: middle;\n",
       "    }\n",
       "\n",
       "    .dataframe tbody tr th {\n",
       "        vertical-align: top;\n",
       "    }\n",
       "\n",
       "    .dataframe thead th {\n",
       "        text-align: right;\n",
       "    }\n",
       "</style>\n",
       "<table border=\"1\" class=\"dataframe\">\n",
       "  <thead>\n",
       "    <tr style=\"text-align: right;\">\n",
       "      <th></th>\n",
       "      <th>kospi</th>\n",
       "      <th>samsung</th>\n",
       "    </tr>\n",
       "  </thead>\n",
       "  <tbody>\n",
       "    <tr>\n",
       "      <th>655</th>\n",
       "      <td>2025.27</td>\n",
       "      <td>NaN</td>\n",
       "    </tr>\n",
       "    <tr>\n",
       "      <th>656</th>\n",
       "      <td>2037.10</td>\n",
       "      <td>NaN</td>\n",
       "    </tr>\n",
       "    <tr>\n",
       "      <th>657</th>\n",
       "      <td>2010.25</td>\n",
       "      <td>NaN</td>\n",
       "    </tr>\n",
       "    <tr>\n",
       "      <th>658</th>\n",
       "      <td>1993.70</td>\n",
       "      <td>NaN</td>\n",
       "    </tr>\n",
       "    <tr>\n",
       "      <th>659</th>\n",
       "      <td>2010.00</td>\n",
       "      <td>NaN</td>\n",
       "    </tr>\n",
       "  </tbody>\n",
       "</table>\n",
       "</div>"
      ],
      "text/plain": [
       "       kospi  samsung\n",
       "655  2025.27      NaN\n",
       "656  2037.10      NaN\n",
       "657  2010.25      NaN\n",
       "658  1993.70      NaN\n",
       "659  2010.00      NaN"
      ]
     },
     "execution_count": 68,
     "metadata": {},
     "output_type": "execute_result"
    }
   ],
   "source": [
    "kospi = pd.read_excel(\"data/kospi.xlsx\")\n",
    "samsung = pd.read_excel(\"data/samsung.xlsx\")\n",
    "\n",
    "\n",
    "data = [ kospi['종가'], samsung['종가'] ]\n",
    "df = pd.concat(data, axis=1, keys=['kospi', 'samsung'])\n",
    "df.tail()"
   ]
  },
  {
   "cell_type": "code",
   "execution_count": 70,
   "metadata": {},
   "outputs": [
    {
     "data": {
      "text/plain": [
       "<AxesSubplot:xlabel='samsung', ylabel='kospi'>"
      ]
     },
     "execution_count": 70,
     "metadata": {},
     "output_type": "execute_result"
    },
    {
     "data": {
      "image/png": "[encoded data removed]",
      "text/plain": [
       "<Figure size 432x288 with 1 Axes>"
      ]
     },
     "metadata": {
      "needs_background": "light"
     },
     "output_type": "display_data"
    }
   ],
   "source": [
    "# 컬럼 단위로 저장된 데이터는 시각화하기 좋은 형태입니다. \n",
    "# 데이터프레임의 plot 속성 안의 scatter 메서드로 산포도를 그립니다. \n",
    "# x 축에는 삼성전자의 종가, y축에는 코스피 지수를 연결합니다.\n",
    "\n",
    "df.plot.scatter(x='samsung', y='kospi')\n",
    "\n",
    "# 코스피 지수와 삼성전자의 종가는 그림 8.2.4와 같이 강한 양의 상관관계 가 있음을 알 수 있습니다. \n",
    "# 코스피 지수가 시가총액 합산 방식으로 계산돼서, 지수의 20%를 차지하는 삼성전자의 종가와 코스피 지수는 높은 연관성이 있는 겁니다."
   ]
  },
  {
   "cell_type": "code",
   "execution_count": 71,
   "metadata": {},
   "outputs": [
    {
     "data": {
      "text/html": [
       "<div>\n",
       "<style scoped>\n",
       "    .dataframe tbody tr th:only-of-type {\n",
       "        vertical-align: middle;\n",
       "    }\n",
       "\n",
       "    .dataframe tbody tr th {\n",
       "        vertical-align: top;\n",
       "    }\n",
       "\n",
       "    .dataframe thead th {\n",
       "        text-align: right;\n",
       "    }\n",
       "</style>\n",
       "<table border=\"1\" class=\"dataframe\">\n",
       "  <thead>\n",
       "    <tr style=\"text-align: right;\">\n",
       "      <th></th>\n",
       "      <th>kospi</th>\n",
       "      <th>samsung</th>\n",
       "    </tr>\n",
       "  </thead>\n",
       "  <tbody>\n",
       "    <tr>\n",
       "      <th>kospi</th>\n",
       "      <td>1.000000</td>\n",
       "      <td>0.966597</td>\n",
       "    </tr>\n",
       "    <tr>\n",
       "      <th>samsung</th>\n",
       "      <td>0.966597</td>\n",
       "      <td>1.000000</td>\n",
       "    </tr>\n",
       "  </tbody>\n",
       "</table>\n",
       "</div>"
      ],
      "text/plain": [
       "            kospi   samsung\n",
       "kospi    1.000000  0.966597\n",
       "samsung  0.966597  1.000000"
      ]
     },
     "execution_count": 71,
     "metadata": {},
     "output_type": "execute_result"
    }
   ],
   "source": [
    "# 상관계수를 계산해서 유사한 정도를 수치화해 봅시다. \n",
    "# 상관계수는 -1에서 +1 범위 내의 숫자로 표현됩니다. \n",
    "# 상관계수가 0.9 이상이면 매우 강한 양의 상관관계, 0.7 이상이면 강한 양의 상관관계가 있다고 말할 수 있습니다. \n",
    "# 판다스의 corr 메서드는 컬럼 단위로 상관계수를 계산합니다.\n",
    "\n",
    "df.corr()"
   ]
  },
  {
   "cell_type": "markdown",
   "metadata": {},
   "source": [
    "## 03) 코스피의 통계"
   ]
  },
  {
   "cell_type": "code",
   "execution_count": 72,
   "metadata": {},
   "outputs": [
    {
     "name": "stderr",
     "output_type": "stream",
     "text": [
      "C:\\Users\\USER\\anaconda3\\lib\\site-packages\\openpyxl\\styles\\stylesheet.py:226: UserWarning: Workbook contains no default style, apply openpyxl's default\n",
      "  warn(\"Workbook contains no default style, apply openpyxl's default\")\n"
     ]
    },
    {
     "data": {
      "text/html": [
       "<div>\n",
       "<style scoped>\n",
       "    .dataframe tbody tr th:only-of-type {\n",
       "        vertical-align: middle;\n",
       "    }\n",
       "\n",
       "    .dataframe tbody tr th {\n",
       "        vertical-align: top;\n",
       "    }\n",
       "\n",
       "    .dataframe thead th {\n",
       "        text-align: right;\n",
       "    }\n",
       "</style>\n",
       "<table border=\"1\" class=\"dataframe\">\n",
       "  <thead>\n",
       "    <tr style=\"text-align: right;\">\n",
       "      <th></th>\n",
       "      <th>종가</th>\n",
       "      <th>대비</th>\n",
       "      <th>등락률</th>\n",
       "      <th>시가</th>\n",
       "      <th>고가</th>\n",
       "      <th>저가</th>\n",
       "      <th>거래량</th>\n",
       "      <th>거래대금</th>\n",
       "      <th>상장시가총액</th>\n",
       "    </tr>\n",
       "    <tr>\n",
       "      <th>일자</th>\n",
       "      <th></th>\n",
       "      <th></th>\n",
       "      <th></th>\n",
       "      <th></th>\n",
       "      <th></th>\n",
       "      <th></th>\n",
       "      <th></th>\n",
       "      <th></th>\n",
       "      <th></th>\n",
       "    </tr>\n",
       "  </thead>\n",
       "  <tbody>\n",
       "    <tr>\n",
       "      <th>2021-08-31</th>\n",
       "      <td>3199.27</td>\n",
       "      <td>55.08</td>\n",
       "      <td>1.75</td>\n",
       "      <td>3144.49</td>\n",
       "      <td>3199.89</td>\n",
       "      <td>3130.30</td>\n",
       "      <td>661221.0</td>\n",
       "      <td>15863630.0</td>\n",
       "      <td>2.309063e+09</td>\n",
       "    </tr>\n",
       "    <tr>\n",
       "      <th>2021-08-30</th>\n",
       "      <td>3144.19</td>\n",
       "      <td>10.29</td>\n",
       "      <td>0.33</td>\n",
       "      <td>3160.87</td>\n",
       "      <td>3164.87</td>\n",
       "      <td>3132.77</td>\n",
       "      <td>602858.0</td>\n",
       "      <td>11758710.0</td>\n",
       "      <td>2.269581e+09</td>\n",
       "    </tr>\n",
       "    <tr>\n",
       "      <th>2021-08-27</th>\n",
       "      <td>3133.90</td>\n",
       "      <td>5.37</td>\n",
       "      <td>0.17</td>\n",
       "      <td>3116.29</td>\n",
       "      <td>3143.01</td>\n",
       "      <td>3106.97</td>\n",
       "      <td>520669.0</td>\n",
       "      <td>11039934.0</td>\n",
       "      <td>2.262423e+09</td>\n",
       "    </tr>\n",
       "    <tr>\n",
       "      <th>2021-08-26</th>\n",
       "      <td>3128.53</td>\n",
       "      <td>-18.28</td>\n",
       "      <td>-0.58</td>\n",
       "      <td>3151.30</td>\n",
       "      <td>3159.37</td>\n",
       "      <td>3121.04</td>\n",
       "      <td>727719.0</td>\n",
       "      <td>13335288.0</td>\n",
       "      <td>2.259280e+09</td>\n",
       "    </tr>\n",
       "    <tr>\n",
       "      <th>2021-08-25</th>\n",
       "      <td>3146.81</td>\n",
       "      <td>8.51</td>\n",
       "      <td>0.27</td>\n",
       "      <td>3148.13</td>\n",
       "      <td>3161.00</td>\n",
       "      <td>3124.25</td>\n",
       "      <td>624688.0</td>\n",
       "      <td>13365596.0</td>\n",
       "      <td>2.272311e+09</td>\n",
       "    </tr>\n",
       "    <tr>\n",
       "      <th>...</th>\n",
       "      <td>...</td>\n",
       "      <td>...</td>\n",
       "      <td>...</td>\n",
       "      <td>...</td>\n",
       "      <td>...</td>\n",
       "      <td>...</td>\n",
       "      <td>...</td>\n",
       "      <td>...</td>\n",
       "      <td>...</td>\n",
       "    </tr>\n",
       "    <tr>\n",
       "      <th>2019-01-08</th>\n",
       "      <td>2025.27</td>\n",
       "      <td>-11.83</td>\n",
       "      <td>-0.58</td>\n",
       "      <td>2038.68</td>\n",
       "      <td>2042.70</td>\n",
       "      <td>2023.59</td>\n",
       "      <td>397831.0</td>\n",
       "      <td>4826642.0</td>\n",
       "      <td>1.333996e+09</td>\n",
       "    </tr>\n",
       "    <tr>\n",
       "      <th>2019-01-07</th>\n",
       "      <td>2037.10</td>\n",
       "      <td>26.85</td>\n",
       "      <td>1.34</td>\n",
       "      <td>2034.24</td>\n",
       "      <td>2048.06</td>\n",
       "      <td>2030.90</td>\n",
       "      <td>440191.0</td>\n",
       "      <td>5301385.0</td>\n",
       "      <td>1.342382e+09</td>\n",
       "    </tr>\n",
       "    <tr>\n",
       "      <th>2019-01-04</th>\n",
       "      <td>2010.25</td>\n",
       "      <td>16.55</td>\n",
       "      <td>0.83</td>\n",
       "      <td>1992.40</td>\n",
       "      <td>2011.56</td>\n",
       "      <td>1984.53</td>\n",
       "      <td>408991.0</td>\n",
       "      <td>5490148.0</td>\n",
       "      <td>1.323719e+09</td>\n",
       "    </tr>\n",
       "    <tr>\n",
       "      <th>2019-01-03</th>\n",
       "      <td>1993.70</td>\n",
       "      <td>-16.30</td>\n",
       "      <td>-0.81</td>\n",
       "      <td>2011.81</td>\n",
       "      <td>2014.72</td>\n",
       "      <td>1991.65</td>\n",
       "      <td>427976.0</td>\n",
       "      <td>5358519.0</td>\n",
       "      <td>1.312759e+09</td>\n",
       "    </tr>\n",
       "    <tr>\n",
       "      <th>2019-01-02</th>\n",
       "      <td>2010.00</td>\n",
       "      <td>-31.04</td>\n",
       "      <td>-1.52</td>\n",
       "      <td>2050.55</td>\n",
       "      <td>2053.45</td>\n",
       "      <td>2004.27</td>\n",
       "      <td>326368.0</td>\n",
       "      <td>4295872.0</td>\n",
       "      <td>1.323645e+09</td>\n",
       "    </tr>\n",
       "  </tbody>\n",
       "</table>\n",
       "<p>660 rows × 9 columns</p>\n",
       "</div>"
      ],
      "text/plain": [
       "                 종가     대비   등락률       시가       고가       저가       거래량  \\\n",
       "일자                                                                      \n",
       "2021-08-31  3199.27  55.08  1.75  3144.49  3199.89  3130.30  661221.0   \n",
       "2021-08-30  3144.19  10.29  0.33  3160.87  3164.87  3132.77  602858.0   \n",
       "2021-08-27  3133.90   5.37  0.17  3116.29  3143.01  3106.97  520669.0   \n",
       "2021-08-26  3128.53 -18.28 -0.58  3151.30  3159.37  3121.04  727719.0   \n",
       "2021-08-25  3146.81   8.51  0.27  3148.13  3161.00  3124.25  624688.0   \n",
       "...             ...    ...   ...      ...      ...      ...       ...   \n",
       "2019-01-08  2025.27 -11.83 -0.58  2038.68  2042.70  2023.59  397831.0   \n",
       "2019-01-07  2037.10  26.85  1.34  2034.24  2048.06  2030.90  440191.0   \n",
       "2019-01-04  2010.25  16.55  0.83  1992.40  2011.56  1984.53  408991.0   \n",
       "2019-01-03  1993.70 -16.30 -0.81  2011.81  2014.72  1991.65  427976.0   \n",
       "2019-01-02  2010.00 -31.04 -1.52  2050.55  2053.45  2004.27  326368.0   \n",
       "\n",
       "                  거래대금        상장시가총액  \n",
       "일자                                    \n",
       "2021-08-31  15863630.0  2.309063e+09  \n",
       "2021-08-30  11758710.0  2.269581e+09  \n",
       "2021-08-27  11039934.0  2.262423e+09  \n",
       "2021-08-26  13335288.0  2.259280e+09  \n",
       "2021-08-25  13365596.0  2.272311e+09  \n",
       "...                ...           ...  \n",
       "2019-01-08   4826642.0  1.333996e+09  \n",
       "2019-01-07   5301385.0  1.342382e+09  \n",
       "2019-01-04   5490148.0  1.323719e+09  \n",
       "2019-01-03   5358519.0  1.312759e+09  \n",
       "2019-01-02   4295872.0  1.323645e+09  \n",
       "\n",
       "[660 rows x 9 columns]"
      ]
     },
     "execution_count": 72,
     "metadata": {},
     "output_type": "execute_result"
    }
   ],
   "source": [
    "# 2020년 1월부터 2021년 8월까지의 코스피 지수의 통계를 구해 보겠습니다. \n",
    "# 다음 코드는 첫 번째 컬럼을 인덱스로 지정하며, 인덱스를 문자열이 아닌 날짜로 해석합니다. \n",
    "# parse_dates는 데이터를 읽으면서 날짜를 DatetimeIndex 객체로 변경하는 유용한 옵션입니다.\n",
    "\n",
    "import pandas as pd \n",
    "kospi = pd.read_excel(\"data/kospi.xlsx\", index_col=0, parse_dates=True)\n",
    "kospi"
   ]
  },
  {
   "cell_type": "code",
   "execution_count": 74,
   "metadata": {},
   "outputs": [
    {
     "data": {
      "text/plain": [
       "(1457.64, 3305.21)"
      ]
     },
     "execution_count": 74,
     "metadata": {},
     "output_type": "execute_result"
    }
   ],
   "source": [
    "# 주어진 기간에서 코스피 지수의 최저가와 최고가를 구해 봅시다.\n",
    "kospi['종가'].min(), kospi['종가'].max()"
   ]
  },
  {
   "cell_type": "code",
   "execution_count": 86,
   "metadata": {},
   "outputs": [
    {
     "name": "stdout",
     "output_type": "stream",
     "text": [
      "                 종가    대비   등락률       시가       고가       저가        거래량  \\\n",
      "일자                                                                      \n",
      "2021-07-06  3305.21  12.0  0.36  3295.44  3313.51  3295.44  1029465.0   \n",
      "\n",
      "                  거래대금        상장시가총액  \n",
      "일자                                    \n",
      "2021-07-06  14686383.0  2.314417e+09  \n"
     ]
    },
    {
     "data": {
      "text/html": [
       "<div>\n",
       "<style scoped>\n",
       "    .dataframe tbody tr th:only-of-type {\n",
       "        vertical-align: middle;\n",
       "    }\n",
       "\n",
       "    .dataframe tbody tr th {\n",
       "        vertical-align: top;\n",
       "    }\n",
       "\n",
       "    .dataframe thead th {\n",
       "        text-align: right;\n",
       "    }\n",
       "</style>\n",
       "<table border=\"1\" class=\"dataframe\">\n",
       "  <thead>\n",
       "    <tr style=\"text-align: right;\">\n",
       "      <th></th>\n",
       "      <th>종가</th>\n",
       "      <th>대비</th>\n",
       "      <th>등락률</th>\n",
       "      <th>시가</th>\n",
       "      <th>고가</th>\n",
       "      <th>저가</th>\n",
       "      <th>거래량</th>\n",
       "      <th>거래대금</th>\n",
       "      <th>상장시가총액</th>\n",
       "    </tr>\n",
       "    <tr>\n",
       "      <th>일자</th>\n",
       "      <th></th>\n",
       "      <th></th>\n",
       "      <th></th>\n",
       "      <th></th>\n",
       "      <th></th>\n",
       "      <th></th>\n",
       "      <th></th>\n",
       "      <th></th>\n",
       "      <th></th>\n",
       "    </tr>\n",
       "  </thead>\n",
       "  <tbody>\n",
       "    <tr>\n",
       "      <th>2021-07-06</th>\n",
       "      <td>3305.21</td>\n",
       "      <td>12.0</td>\n",
       "      <td>0.36</td>\n",
       "      <td>3295.44</td>\n",
       "      <td>3313.51</td>\n",
       "      <td>3295.44</td>\n",
       "      <td>1029465.0</td>\n",
       "      <td>14686383.0</td>\n",
       "      <td>2.314417e+09</td>\n",
       "    </tr>\n",
       "  </tbody>\n",
       "</table>\n",
       "</div>"
      ],
      "text/plain": [
       "                 종가    대비   등락률       시가       고가       저가        거래량  \\\n",
       "일자                                                                      \n",
       "2021-07-06  3305.21  12.0  0.36  3295.44  3313.51  3295.44  1029465.0   \n",
       "\n",
       "                  거래대금        상장시가총액  \n",
       "일자                                    \n",
       "2021-07-06  14686383.0  2.314417e+09  "
      ]
     },
     "execution_count": 86,
     "metadata": {},
     "output_type": "execute_result"
    }
   ],
   "source": [
    "# 그렇다면 종가를 기준으로 최고가를 기록한 거래일은 언제일까요? \n",
    "# 인덱스에는 일자가 들어 있어서 인덱스와 데이터를 함께 얻어오면 원하는 정보를 얻을 수 있습니다. \n",
    "# 다음 코드는 최댓값과 종가 시리즈를 비교해서 조건을 이용한 슬라이싱으로 최댓값이 들어 있는 데이터프레임을 선택합니다.\n",
    " \n",
    "kospi_max = kospi[kospi['종가'] == kospi['종가'].max()]\n",
    "print(kospi_max)\n",
    "\n",
    "cond =  kospi['종가'] == kospi['종가'].max()\n",
    "kospi.loc[cond]"
   ]
  },
  {
   "cell_type": "code",
   "execution_count": 90,
   "metadata": {},
   "outputs": [
    {
     "name": "stdout",
     "output_type": "stream",
     "text": [
      "DatetimeIndex(['2021-07-06'], dtype='datetime64[ns]', name='일자', freq=None)\n"
     ]
    },
    {
     "data": {
      "text/plain": [
       "Timestamp('2021-07-06 00:00:00')"
      ]
     },
     "execution_count": 90,
     "metadata": {},
     "output_type": "execute_result"
    }
   ],
   "source": [
    "# 선택된 데이터프레임의 인덱스는 DatetimeIndex 객체라서 정수 인덱싱으로 첫 번째 날짜를 가져올 수 있습니다.\n",
    "# DatetimeIndex 객체 안에 저장돼 있던 2021-07-06의 Timestamp 객체가 출력됩니다.\n",
    "\n",
    "print(kospi.loc[cond].index)\n",
    "kospi.loc[cond].index[0]"
   ]
  },
  {
   "cell_type": "code",
   "execution_count": 93,
   "metadata": {},
   "outputs": [
    {
     "name": "stdout",
     "output_type": "stream",
     "text": [
      "2020-03-19 00:00:00\n",
      "2021-07-06 00:00:00\n"
     ]
    }
   ],
   "source": [
    "# 간단한 기능인데 조건 비교까지 써야 해서 코드가 복잡해집니다. \n",
    "# 빈번하게 사용하는 기능이라서 판다스의 시리즈는 idxmax와 idxmin 메서드를 제공합니다.\n",
    "\n",
    "print(kospi['종가'].idxmin())\n",
    "print(kospi['종가'].idxmax())"
   ]
  },
  {
   "cell_type": "code",
   "execution_count": 9,
   "metadata": {},
   "outputs": [
    {
     "name": "stdout",
     "output_type": "stream",
     "text": [
      "                 종가     변동폭\n",
      "일자                         \n",
      "2020/03/23  1482.46 -127.51\n",
      "2021/01/07  3031.68 -120.50\n",
      "2020/03/19  1457.64 -108.51\n",
      "2020/06/15  2030.82 -107.23\n",
      "2021/02/24  2994.98 -104.71\n",
      "                 종가     변동폭\n",
      "일자                         \n",
      "2020/03/18  1591.20  133.56\n",
      "2020/06/12  2132.30  101.48\n",
      "2021/01/28  3069.05   92.84\n",
      "2021/02/25  3099.69   86.74\n",
      "2020/08/19  2360.54   86.32\n"
     ]
    },
    {
     "name": "stderr",
     "output_type": "stream",
     "text": [
      "C:\\Users\\USER\\anaconda3\\lib\\site-packages\\openpyxl\\styles\\stylesheet.py:226: UserWarning: Workbook contains no default style, apply openpyxl's default\n",
      "  warn(\"Workbook contains no default style, apply openpyxl's default\")\n"
     ]
    }
   ],
   "source": [
    "# 이번에는 코스피 지수의 최대 상승폭과 최대 하락폭을 5개씩 출력해 보겠습니다. \n",
    "# 다음 코드는 전일 종가와 당일 종가의 차이를 변동폭이라는 컬럼에 저장한 후 정렬해서 데이터를 슬라이싱합니다.\n",
    "\n",
    "import pandas as pd \n",
    "\n",
    "kospi = pd.read_excel(\"data/kospi.xlsx\", index_col=0, usecols=[0, 1])\n",
    "kospi['변동폭'] = kospi['종가'] - kospi['종가'].shift(1)\n",
    "print(kospi.sort_values('변동폭').iloc[:5])\n",
    "print(kospi.sort_values('변동폭', ascending=False).iloc[:5])\n"
   ]
  },
  {
   "cell_type": "code",
   "execution_count": 12,
   "metadata": {},
   "outputs": [
    {
     "name": "stdout",
     "output_type": "stream",
     "text": [
      "일자\n",
      "2020/03/18    133.56\n",
      "2020/06/12    101.48\n",
      "2021/01/28     92.84\n",
      "2021/02/25     86.74\n",
      "2020/08/19     86.32\n",
      "Name: 변동폭, dtype: float64\n",
      "일자\n",
      "2020/03/23   -127.51\n",
      "2021/01/07   -120.50\n",
      "2020/03/19   -108.51\n",
      "2020/06/15   -107.23\n",
      "2021/02/24   -104.71\n",
      "Name: 변동폭, dtype: float64\n"
     ]
    }
   ],
   "source": [
    "# nlargest와 nsmallest 메서드를 알고 있다면 코드를 간략하게 표현할 수 있습니다. \n",
    "# 메서드로 넘겨주는 숫자를 변경하면 반환되는 데이터의 개수를 지정할 수 있습니다. \n",
    "# 코드를 실행하면 정렬 후 슬라이싱하는 코드와 같은 결과를 얻을 수 있습니다.\n",
    "\n",
    "print(kospi[\"변동폭\"].nlargest(n=5))\n",
    "print(kospi[\"변동폭\"].nsmallest(n=5))"
   ]
  },
  {
   "cell_type": "code",
   "execution_count": 22,
   "metadata": {},
   "outputs": [
    {
     "data": {
      "text/html": [
       "<div>\n",
       "<style scoped>\n",
       "    .dataframe tbody tr th:only-of-type {\n",
       "        vertical-align: middle;\n",
       "    }\n",
       "\n",
       "    .dataframe tbody tr th {\n",
       "        vertical-align: top;\n",
       "    }\n",
       "\n",
       "    .dataframe thead th {\n",
       "        text-align: right;\n",
       "    }\n",
       "</style>\n",
       "<table border=\"1\" class=\"dataframe\">\n",
       "  <thead>\n",
       "    <tr style=\"text-align: right;\">\n",
       "      <th></th>\n",
       "      <th>시가</th>\n",
       "      <th>고가</th>\n",
       "      <th>저가</th>\n",
       "      <th>종가</th>\n",
       "      <th>거래량</th>\n",
       "    </tr>\n",
       "    <tr>\n",
       "      <th>일자</th>\n",
       "      <th></th>\n",
       "      <th></th>\n",
       "      <th></th>\n",
       "      <th></th>\n",
       "      <th></th>\n",
       "    </tr>\n",
       "  </thead>\n",
       "  <tbody>\n",
       "    <tr>\n",
       "      <th>2019-01-31</th>\n",
       "      <td>2050.55</td>\n",
       "      <td>2222.88</td>\n",
       "      <td>1984.53</td>\n",
       "      <td>2204.85</td>\n",
       "      <td>9455198.0</td>\n",
       "    </tr>\n",
       "    <tr>\n",
       "      <th>2019-02-28</th>\n",
       "      <td>2211.93</td>\n",
       "      <td>2241.76</td>\n",
       "      <td>2167.36</td>\n",
       "      <td>2195.44</td>\n",
       "      <td>6882555.0</td>\n",
       "    </tr>\n",
       "    <tr>\n",
       "      <th>2019-03-31</th>\n",
       "      <td>2210.97</td>\n",
       "      <td>2216.02</td>\n",
       "      <td>2120.93</td>\n",
       "      <td>2140.67</td>\n",
       "      <td>6458056.0</td>\n",
       "    </tr>\n",
       "    <tr>\n",
       "      <th>2019-04-30</th>\n",
       "      <td>2153.31</td>\n",
       "      <td>2252.05</td>\n",
       "      <td>2153.31</td>\n",
       "      <td>2203.59</td>\n",
       "      <td>9689747.0</td>\n",
       "    </tr>\n",
       "    <tr>\n",
       "      <th>2019-05-31</th>\n",
       "      <td>2192.94</td>\n",
       "      <td>2217.03</td>\n",
       "      <td>2016.25</td>\n",
       "      <td>2041.74</td>\n",
       "      <td>11242892.0</td>\n",
       "    </tr>\n",
       "  </tbody>\n",
       "</table>\n",
       "</div>"
      ],
      "text/plain": [
       "                 시가       고가       저가       종가         거래량\n",
       "일자                                                        \n",
       "2019-01-31  2050.55  2222.88  1984.53  2204.85   9455198.0\n",
       "2019-02-28  2211.93  2241.76  2167.36  2195.44   6882555.0\n",
       "2019-03-31  2210.97  2216.02  2120.93  2140.67   6458056.0\n",
       "2019-04-30  2153.31  2252.05  2153.31  2203.59   9689747.0\n",
       "2019-05-31  2192.94  2217.03  2016.25  2041.74  11242892.0"
      ]
     },
     "execution_count": 22,
     "metadata": {},
     "output_type": "execute_result"
    }
   ],
   "source": [
    "# 이번에는 월별로 코스피의 시가/고가/저가/종가/거래량을 정리해 보겠습니다. \n",
    "# 날짜를 연도와 월로 분할하고 groupby를 사용해서 집계할 수 있습니다.\n",
    "\n",
    "kospi = pd.read_excel(\"data/kospi.xlsx\", usecols=[0,1,4,5,6,7], parse_dates=[0])\n",
    "how = {\n",
    "    '시가':'first',\n",
    "    '고가':max,\n",
    "    '저가':min,\n",
    "    '종가':'last',\n",
    "    '거래량':sum\n",
    "}\n",
    "\n",
    "df = kospi.groupby(pd.Grouper(key='일자', freq='m')).agg(how)\n",
    "df.head()"
   ]
  },
  {
   "cell_type": "code",
   "execution_count": 20,
   "metadata": {},
   "outputs": [
    {
     "name": "stdout",
     "output_type": "stream",
     "text": [
      "<class 'pandas.core.frame.DataFrame'>\n",
      "RangeIndex: 660 entries, 0 to 659\n",
      "Data columns (total 6 columns):\n",
      " #   Column  Non-Null Count  Dtype         \n",
      "---  ------  --------------  -----         \n",
      " 0   일자      660 non-null    datetime64[ns]\n",
      " 1   종가      660 non-null    float64       \n",
      " 2   시가      660 non-null    float64       \n",
      " 3   고가      660 non-null    float64       \n",
      " 4   저가      660 non-null    float64       \n",
      " 5   거래량     660 non-null    float64       \n",
      "dtypes: datetime64[ns](1), float64(5)\n",
      "memory usage: 31.1 KB\n"
     ]
    }
   ],
   "source": [
    "# 이번에는 종가를 기준으로 지수의 이벤트를 정리해 보겠습니다. \n",
    "# 규칙적으로 데이터를 슬라이싱 하거나 특정 값을 기준으로 비교한다면 판다스의 브로드캐스팅을 사용할 수 있습니다. \n",
    "# 하지만 돌파 이벤트는 불규칙적인 위치의 값을 선택해야 해서 반복문으로 데이터를 수집하고 \n",
    "# 데이터프레임으로 변환하는 작업을 해야 합니다.\n",
    "\n"
   ]
  },
  {
   "cell_type": "code",
   "execution_count": 41,
   "metadata": {},
   "outputs": [
    {
     "name": "stdout",
     "output_type": "stream",
     "text": [
      "2311.86\n",
      "2020-08-05 00:00:00\n"
     ]
    },
    {
     "name": "stderr",
     "output_type": "stream",
     "text": [
      "C:\\Users\\USER\\anaconda3\\lib\\site-packages\\openpyxl\\styles\\stylesheet.py:226: UserWarning: Workbook contains no default style, apply openpyxl's default\n",
      "  warn(\"Workbook contains no default style, apply openpyxl's default\")\n"
     ]
    }
   ],
   "source": [
    "# 하나의 이벤트로 결과를 확인하고 전체 이벤트로 확장해 봅시다. \n",
    "# 다음 코드는 코스피 지수가 2,300 포인트를 처음 돌파한 날을 찾습니다.\n",
    "\n",
    "kospi = pd.read_excel('data/kospi.xlsx', usecols=[0,1], index_col=0, parse_dates=True)\n",
    "kospi = kospi.sort_index()\n",
    "\n",
    "threshold = 2300\n",
    "cond = kospi['종가'] >= threshold\n",
    "print(kospi.loc[cond, '종가'].iloc[0])\n",
    "print(kospi.loc[cond, '종가'].index[0])"
   ]
  },
  {
   "cell_type": "code",
   "execution_count": 47,
   "metadata": {},
   "outputs": [
    {
     "name": "stdout",
     "output_type": "stream",
     "text": [
      "2300 2311.86 2020-08-05 00:00:00\n",
      "2400 2418.67 2020-08-11 00:00:00\n",
      "2500 2543.03 2020-11-16 00:00:00\n",
      "2600 2602.59 2020-11-23 00:00:00\n",
      "2700 2731.45 2020-12-04 00:00:00\n",
      "2800 2806.86 2020-12-24 00:00:00\n",
      "2900 2944.45 2021-01-04 00:00:00\n",
      "3000 3031.68 2021-01-07 00:00:00\n"
     ]
    }
   ],
   "source": [
    "# 반복문을 사용해서 전체 이벤트로 확장합니다. \n",
    "# 각각의 탐색을 구분하기 위해 이벤트, 지수, 일자 정보를 출력합니다.\n",
    "\n",
    "kospi = pd.read_excel('data/kospi.xlsx', usecols=[0,1], index_col=0, parse_dates=True)\n",
    "kospi = kospi.sort_index()\n",
    "\n",
    "for threshold in range(2300, 3100, 100):\n",
    "    cond = kospi['종가'] >= threshold\n",
    "    print(threshold, kospi.loc[cond, '종가'].iloc[0], kospi.loc[cond, '종가'].index[0])\n"
   ]
  },
  {
   "cell_type": "code",
   "execution_count": 50,
   "metadata": {},
   "outputs": [
    {
     "name": "stdout",
     "output_type": "stream",
     "text": [
      "           이벤트         일자       지수\n",
      "0  2300 포인트 돌파 2020-11-02  2300.16\n",
      "1  2400 포인트 돌파 2020-09-08  2401.91\n",
      "2  2500 포인트 돌파 2020-11-17  2539.15\n",
      "3  2600 포인트 돌파 2020-11-25  2601.54\n",
      "4  2700 포인트 돌파 2020-12-08  2700.93\n",
      "5  2800 포인트 돌파 2020-12-24  2806.86\n",
      "6  2900 포인트 돌파 2021-01-04  2944.45\n",
      "7  3000 포인트 돌파 2021-03-23  3004.74\n"
     ]
    }
   ],
   "source": [
    "# 데이터를 리스트로 모아서 데이터프레임으로 변환하도록 코드를 수정합니다. \n",
    "# 리스트 안에 튜플로 문자열로 된 이벤트, 일자, 지수 정보를 차례로 정의합니다.\n",
    "\n",
    "data = [ ]\n",
    "for threshold in range(2300, 3100, 100):\n",
    "    cond = kospi['종가'] > threshold\n",
    "    data.append( (f'{threshold} 포인트 돌파', kospi.index[cond][0], kospi.loc[cond, '종가'].iloc[0]) )\n",
    "\n",
    "df = pd.DataFrame(data, columns=['이벤트', '일자', '지수'])\n",
    "print(df)"
   ]
  },
  {
   "cell_type": "markdown",
   "metadata": {},
   "source": [
    "## 04) 코스피 수익률"
   ]
  },
  {
   "cell_type": "code",
   "execution_count": 52,
   "metadata": {},
   "outputs": [
    {
     "name": "stdout",
     "output_type": "stream",
     "text": [
      "59.167661691542285\n"
     ]
    },
    {
     "name": "stderr",
     "output_type": "stream",
     "text": [
      "C:\\Users\\USER\\anaconda3\\lib\\site-packages\\openpyxl\\styles\\stylesheet.py:226: UserWarning: Workbook contains no default style, apply openpyxl's default\n",
      "  warn(\"Workbook contains no default style, apply openpyxl's default\")\n"
     ]
    }
   ],
   "source": [
    "# 2020-01-02일부터 2021-08-31일까지 투자했을 때의 코스피 시장수익률을 계산해 보겠습니다. \n",
    "# 계산의 편의를 위해 2020-01-02 일 종가에 사서 2021-08-31 일 종가에 팔았다고 가정합니다.\n",
    "\n",
    "import pandas as pd\n",
    "\n",
    "kospi = pd.read_excel(\"data/kospi.xlsx\", usecols=[0, 1], index_col=0, parse_dates=True)\n",
    "kospi = kospi.sort_index()\n",
    "수익률 = kospi.iloc[-1, 0]/kospi.iloc[0, 0]\n",
    "print( (수익률 - 1) * 100 )"
   ]
  },
  {
   "cell_type": "code",
   "execution_count": 54,
   "metadata": {},
   "outputs": [
    {
     "name": "stdout",
     "output_type": "stream",
     "text": [
      "0.19069189759525607\n"
     ]
    }
   ],
   "source": [
    "# 코드를 실행하면 약 47%의 수익률을 확인할 수 있습니다. \n",
    "# 보유한 기간 동안의 수익률을 짧게 줄여 ‘기간수익률’이라고 부릅니다. \n",
    "# 기간수익률에는 투자기간이라는 개념이 포함되어 있지 않습니다. \n",
    "# 투자에는 당연히 투자기간이 중요합니다. 1년 투자에서 2배를 버는 것과 10년 투자에서 2배를 버는 것에는 차이가 있지요?\n",
    "\n",
    "# 연복리수익률(Compound Annual Growth Rate, CAGR)은 투자 기간을 고려한 수익률로 다음과 같이 계산됩니다. \n",
    "# 수식에서 투자 기간의 단위는 ‘년’입니다. 연복리수익률을 다른말로 연평균수익률이라고도 합니다.\n",
    "#  CAGR(Compound Annual Growth Rate) = (최종자산 / 최초자산)**(1 / 투자기간(년)) - 1\n",
    "\n",
    "# 2020-01-02에서 2021-08-31까지 18개월 동안 얻은 47%의 수익률을 CAGR로 계산해 보겠습니다.\n",
    "\n",
    "\n",
    "\n",
    "diff = (kospi.index[-1] - kospi.index[0])\n",
    "투자기간 = diff.days / 365\n",
    "cagr = 수익률 ** (1/투자기간) -1\n",
    "print(cagr)  # 연평균 수익률 또는 연복리수익률"
   ]
  },
  {
   "cell_type": "code",
   "execution_count": 57,
   "metadata": {},
   "outputs": [
    {
     "name": "stdout",
     "output_type": "stream",
     "text": [
      "21.871470174981077\n"
     ]
    },
    {
     "name": "stderr",
     "output_type": "stream",
     "text": [
      "C:\\Users\\USER\\anaconda3\\lib\\site-packages\\openpyxl\\styles\\stylesheet.py:226: UserWarning: Workbook contains no default style, apply openpyxl's default\n",
      "  warn(\"Workbook contains no default style, apply openpyxl's default\")\n"
     ]
    },
    {
     "data": {
      "text/plain": [
       "'21.871470174981077 %'"
      ]
     },
     "execution_count": 57,
     "metadata": {},
     "output_type": "execute_result"
    }
   ],
   "source": [
    "# 보유 자산을 100% 삼성전자에 투자했다면 연평균수익률이 어떻게 되는지 확인해 봅시다. \n",
    "# 위 코드를 한데 모으고 엑셀 파일의 경로만 수정했습니다.\n",
    "\n",
    "ss = pd.read_excel(\"data/samsung.xlsx\", usecols=[0, 1], index_col=0, parse_dates=True)\n",
    "ss = ss.sort_index()\n",
    "\n",
    "수익률 = ss.iloc[-1, 0] / ss.iloc[0, 0]\n",
    "diff = ss.index[-1] - ss.index[0]\n",
    "투자기간 = diff.days / 365\n",
    "cagr = 수익률 ** (1/투자기간) - 1\n",
    "print(cagr * 100)\n",
    "f'{cagr * 100} %'\n"
   ]
  },
  {
   "cell_type": "code",
   "execution_count": 58,
   "metadata": {},
   "outputs": [
    {
     "data": {
      "text/plain": [
       "<AxesSubplot:>"
      ]
     },
     "execution_count": 58,
     "metadata": {},
     "output_type": "execute_result"
    },
    {
     "data": {
      "image/png": "[encoded data removed]",
      "text/plain": [
       "<Figure size 864x360 with 1 Axes>"
      ]
     },
     "metadata": {
      "needs_background": "light"
     },
     "output_type": "display_data"
    }
   ],
   "source": [
    "# 삼성전자와 코스피 지수의 수익률을 시각화해 보겠습니다.\n",
    "kospi_return = kospi['종가'] / kospi.iloc[0, 0]\n",
    "ss_return = ss['종가']       / ss.iloc[0, 0]\n",
    "\n",
    "df = pd. concat([kospi_return, ss_return], axis=1, keys=['kospi','samsung'])\n",
    "df.index.name = ''\n",
    "df.plot(figsize=(12,5))"
   ]
  },
  {
   "cell_type": "markdown",
   "metadata": {},
   "source": [
    "## 05) Maximum Drawdown\n",
    "투자 알고리즘의 주요 성과 지표 중 하나로 MDD가 있습니다. MDD는 낙폭(Drawdown) 중 최댓값을 의미합니다. 표 8.5.1의 데이터를 사용해 낙폭 계산에 필요한 전고점의 개념을 이해해봅시다. 표 8.5.1에는 거래일별로 종가가 저장돼 있습니다. 전고점은 투자 시점부터 현재 거래일까지의 가격 중 가장 높은 가격을 의미합니다. 예를 들어, 2020-03-03의 전고점은 max([100, 120, 100])으로 계산해서 2020-03-02의 종가 120이 됩니다. 이를 반복해서 거래일별로 전고점을 얻을 수 있습니다.\n",
    "\n",
    "각 거래일의 가격과 전고점을 구했다면 낙폭을 계산해봅시다. 낙폭은 다음 수식과 같이 정의됩니다. 어떤 거래일에 전고점(high)이 100이고 가격(cur)이 80이라면 해당 거래일의 낙폭은 20%입니다. 모든 거래일에 대해서 낙폭을 구한 후 그중 가장 큰 낙폭이 바로 MDD입니다. 위 표의 데이터를 기준으로 하면 2020-03-04의 25%가 투자 기간의 최대 낙폭(MDD)입니다.\n",
    "\n",
    "Drawdown(낙폭) = ((high - cur) / high) * 100 \n"
   ]
  },
  {
   "cell_type": "code",
   "execution_count": 68,
   "metadata": {},
   "outputs": [
    {
     "data": {
      "text/html": [
       "<div>\n",
       "<style scoped>\n",
       "    .dataframe tbody tr th:only-of-type {\n",
       "        vertical-align: middle;\n",
       "    }\n",
       "\n",
       "    .dataframe tbody tr th {\n",
       "        vertical-align: top;\n",
       "    }\n",
       "\n",
       "    .dataframe thead th {\n",
       "        text-align: right;\n",
       "    }\n",
       "</style>\n",
       "<table border=\"1\" class=\"dataframe\">\n",
       "  <thead>\n",
       "    <tr style=\"text-align: right;\">\n",
       "      <th></th>\n",
       "      <th>Close</th>\n",
       "      <th>Open</th>\n",
       "      <th>High</th>\n",
       "      <th>Low</th>\n",
       "      <th>Volume</th>\n",
       "      <th>Change</th>\n",
       "      <th>전고점</th>\n",
       "      <th>DD</th>\n",
       "    </tr>\n",
       "    <tr>\n",
       "      <th>Date</th>\n",
       "      <th></th>\n",
       "      <th></th>\n",
       "      <th></th>\n",
       "      <th></th>\n",
       "      <th></th>\n",
       "      <th></th>\n",
       "      <th></th>\n",
       "      <th></th>\n",
       "    </tr>\n",
       "  </thead>\n",
       "  <tbody>\n",
       "    <tr>\n",
       "      <th>2000-01-04</th>\n",
       "      <td>1059.04</td>\n",
       "      <td>1028.33</td>\n",
       "      <td>1066.18</td>\n",
       "      <td>1016.59</td>\n",
       "      <td>195900000.0</td>\n",
       "      <td>0.0301</td>\n",
       "      <td>1059.04</td>\n",
       "      <td>0.000000</td>\n",
       "    </tr>\n",
       "    <tr>\n",
       "      <th>2000-01-05</th>\n",
       "      <td>986.31</td>\n",
       "      <td>1006.87</td>\n",
       "      <td>1026.52</td>\n",
       "      <td>984.05</td>\n",
       "      <td>257700000.0</td>\n",
       "      <td>-0.0687</td>\n",
       "      <td>1059.04</td>\n",
       "      <td>6.867540</td>\n",
       "    </tr>\n",
       "    <tr>\n",
       "      <th>2000-01-06</th>\n",
       "      <td>960.79</td>\n",
       "      <td>1013.95</td>\n",
       "      <td>1014.90</td>\n",
       "      <td>953.50</td>\n",
       "      <td>203520000.0</td>\n",
       "      <td>-0.0259</td>\n",
       "      <td>1059.04</td>\n",
       "      <td>9.277270</td>\n",
       "    </tr>\n",
       "    <tr>\n",
       "      <th>2000-01-07</th>\n",
       "      <td>948.65</td>\n",
       "      <td>949.17</td>\n",
       "      <td>970.16</td>\n",
       "      <td>930.84</td>\n",
       "      <td>215660000.0</td>\n",
       "      <td>-0.0126</td>\n",
       "      <td>1059.04</td>\n",
       "      <td>10.423591</td>\n",
       "    </tr>\n",
       "    <tr>\n",
       "      <th>2000-01-10</th>\n",
       "      <td>987.24</td>\n",
       "      <td>979.67</td>\n",
       "      <td>994.94</td>\n",
       "      <td>965.02</td>\n",
       "      <td>240180000.0</td>\n",
       "      <td>0.0407</td>\n",
       "      <td>1059.04</td>\n",
       "      <td>6.779725</td>\n",
       "    </tr>\n",
       "  </tbody>\n",
       "</table>\n",
       "</div>"
      ],
      "text/plain": [
       "              Close     Open     High      Low       Volume  Change      전고점  \\\n",
       "Date                                                                           \n",
       "2000-01-04  1059.04  1028.33  1066.18  1016.59  195900000.0  0.0301  1059.04   \n",
       "2000-01-05   986.31  1006.87  1026.52   984.05  257700000.0 -0.0687  1059.04   \n",
       "2000-01-06   960.79  1013.95  1014.90   953.50  203520000.0 -0.0259  1059.04   \n",
       "2000-01-07   948.65   949.17   970.16   930.84  215660000.0 -0.0126  1059.04   \n",
       "2000-01-10   987.24   979.67   994.94   965.02  240180000.0  0.0407  1059.04   \n",
       "\n",
       "                   DD  \n",
       "Date                   \n",
       "2000-01-04   0.000000  \n",
       "2000-01-05   6.867540  \n",
       "2000-01-06   9.277270  \n",
       "2000-01-07  10.423591  \n",
       "2000-01-10   6.779725  "
      ]
     },
     "execution_count": 68,
     "metadata": {},
     "output_type": "execute_result"
    }
   ],
   "source": [
    "# 2000-01-01 이후의 코스피 지수 데이터를 사용해서 거래일별로 전고점을 구하고 종가와 전고점을 이용해 낙폭을 계산해봅시다.\n",
    "\n",
    "import pandas as pd\n",
    "\n",
    "kospi = pd.read_excel(\"data/kospi2000.xlsx\", index_col=0)\n",
    "kospi['전고점'] = kospi['Close'].cummax() # cummax 메소드는 이전일까지의 값 중 최댓값을 구함\n",
    "kospi['DD'] = (1 - kospi['Close'] / kospi['전고점']) * 100\n",
    "kospi.head(5)"
   ]
  },
  {
   "cell_type": "code",
   "execution_count": 75,
   "metadata": {},
   "outputs": [
    {
     "data": {
      "text/plain": [
       "0.06779725033993045"
      ]
     },
     "execution_count": 75,
     "metadata": {},
     "output_type": "execute_result"
    }
   ],
   "source": [
    "1 - (987.24 / 1059.04)"
   ]
  },
  {
   "cell_type": "code",
   "execution_count": 74,
   "metadata": {},
   "outputs": [
    {
     "data": {
      "text/plain": [
       "6.7770842579390145"
      ]
     },
     "execution_count": 74,
     "metadata": {},
     "output_type": "execute_result"
    }
   ],
   "source": [
    "(1 - 987.24 / 1059.01) * 100"
   ]
  },
  {
   "cell_type": "code",
   "execution_count": 76,
   "metadata": {},
   "outputs": [
    {
     "name": "stdout",
     "output_type": "stream",
     "text": [
      "55.73727149116181\n"
     ]
    }
   ],
   "source": [
    "# MDD는 Drawdown 컬럼의 최댓값입니다. \n",
    "# 데이터프레임의 컬럼이 시리즈 객체이므로 시리즈 객체의 max 메서드를 호출하면 MDD를 구할 수 있습니다.\n",
    "\n",
    "MDD = kospi['DD'].max()\n",
    "print(MDD)"
   ]
  },
  {
   "cell_type": "code",
   "execution_count": 83,
   "metadata": {},
   "outputs": [
    {
     "data": {
      "image/png": "[encoded data removed]",
      "text/plain": [
       "<Figure size 1008x432 with 2 Axes>"
      ]
     },
     "metadata": {
      "needs_background": "light"
     },
     "output_type": "display_data"
    }
   ],
   "source": [
    "# 이번에는 코스피지수와 낙폭을 그래프로 그려봅시다. \n",
    "# Figure 객체와 두 개의 AxesSubplot 객체를 생성한 후 첫 번째 AxesSubplot에는 코스피 지수를 \n",
    "# 두 번째 AxesSubplot에는 Drawdown을 플롯팅합니다. fill_between 함수를 사용하여 영역의 색상을 채웠습니다.\n",
    "\n",
    "import matplotlib.pyplot as plt\n",
    "\n",
    "plt.rc('axes', unicode_minus=False) # y축 음수 처리\n",
    "\n",
    "fig = plt.figure(figsize=(14, 6))\n",
    "ax1 = fig.add_subplot(2,1,1)\n",
    "ax2 = fig.add_subplot(2,1,2)\n",
    "\n",
    "ax1.plot(kospi.index, kospi['Close'], label='close')\n",
    "ax2.plot(kospi.index, kospi['DD'] * -1, label='Drawdown')\n",
    "ax2. fill_between(kospi.index, kospi['DD'] * -1, alpha=0.3) # 색상 채우기\n",
    "\n",
    "ax1.grid()\n",
    "ax2.grid()\n",
    "\n",
    "ax1.legend(loc='best')\n",
    "ax2.legend(loc='best')\n",
    "plt.show()\n",
    "\n"
   ]
  },
  {
   "cell_type": "code",
   "execution_count": null,
   "metadata": {},
   "outputs": [],
   "source": []
  }
 ],
 "metadata": {
  "interpreter": {
   "hash": "42588fd11209419b7c81abe23e31a1d2101f60811b02170c268e57ebb57d5d9a"
  },
  "kernelspec": {
   "display_name": "Python 3.9.7 ('base')",
   "language": "python",
   "name": "python3"
  },
  "language_info": {
   "codemirror_mode": {
    "name": "ipython",
    "version": 3
   },
   "file_extension": ".py",
   "mimetype": "text/x-python",
   "name": "python",
   "nbconvert_exporter": "python",
   "pygments_lexer": "ipython3",
   "version": "3.9.7"
  },
  "orig_nbformat": 4
 },
 "nbformat": 4,
 "nbformat_minor": 2
}
