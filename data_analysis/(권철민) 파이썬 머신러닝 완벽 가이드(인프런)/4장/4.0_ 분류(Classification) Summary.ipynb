{
 "cells": [
  {
   "cell_type": "markdown",
   "metadata": {},
   "source": [
    "# 분류(Classification) Summary\n",
    "- 결정 트리와 결정 트리 기반의 앙상블\n",
    "- 배깅과 부스팅\n",
    "    - 랜덤 포레스트, GBM\n",
    "- GBM의 기능을 더욱 향상 시킨 XGBoost, LightGBM - 현재 많이 사용하는 모델(kaggle에서 많이 사용되고 있음)\n",
    "- 스태킹 모델"
   ]
  },
  {
   "cell_type": "markdown",
   "metadata": {},
   "source": []
  }
 ],
 "metadata": {
  "kernelspec": {
   "display_name": "Python 3.9.7 ('base')",
   "language": "python",
   "name": "python3"
  },
  "language_info": {
   "name": "python",
   "version": "3.9.7"
  },
  "orig_nbformat": 4,
  "vscode": {
   "interpreter": {
    "hash": "263930470851f494f0ed2879c35b57985588df20f9e529b86e97dd5eb9ddc466"
   }
  }
 },
 "nbformat": 4,
 "nbformat_minor": 2
}
