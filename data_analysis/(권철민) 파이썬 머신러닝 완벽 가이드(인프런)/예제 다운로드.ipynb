{
 "cells": [
  {
   "cell_type": "markdown",
   "metadata": {},
   "source": [
    "강의에 사용되는 소스 코드는 https://github.com/chulminkw/PerfectGuide "
   ]
  }
 ],
 "metadata": {
  "language_info": {
   "name": "python"
  },
  "orig_nbformat": 4
 },
 "nbformat": 4,
 "nbformat_minor": 2
}
