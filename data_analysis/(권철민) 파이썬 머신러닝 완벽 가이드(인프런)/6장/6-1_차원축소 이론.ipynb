{
 "cells": [
  {
   "cell_type": "code",
   "execution_count": null,
   "metadata": {},
   "outputs": [],
   "source": [
    "#6장 차원 축소(Dimension Reduction)"
   ]
  },
  {
   "cell_type": "markdown",
   "metadata": {},
   "source": [
    "## 차원의 저주\n",
    "\n",
    "- 차원이 커질수록 데이터 포인트들간 거리가 크게 늘어나며 데이터가 희소화(Sparse) 됨\n",
    "\n",
    "- 수백 ~ 수천개 이상의 피처로 구성된 포인트들간 거리에 기반한 ML 알고리즘이 무력화 됨\n",
    "\n",
    "- 또한, 피처가 많을 경우 개별 피처간에 상관관계가 높아 선형 회귀와 같은 모델에서는 다중 공선성 문제로\n",
    "\n",
    "  모델의 예측 성능이 저하될 가능성이 높음\n",
    "\n",
    "  - <img src=\"../images/차원의저주.png\" width=\"500px\" height=\"300px\" title=\"차원의 저주\"></img>\n"
   ]
  },
  {
   "cell_type": "markdown",
   "metadata": {},
   "source": [
    "## 차원 축소의 장점\n",
    "\n",
    "- 수십 ~ 수백개의 피처들을 작은 수의 피처 들로 축소한다면?\n",
    "    - 학습 데이터 크기를 줄여서 학습 시간 절약\n",
    "    - 불필요한 피처들을 줄여서 모델 성능 샹상에 기여(주로 이미지 관련 데이터)\n",
    "    - 다차원의 데이터를 3차원 이하의 차원 축소를 통해서 시각적으로 보다 쉽게 데이터 패턴 인지\n",
    "\n",
    "- 어떻게 하면 원본 데이터의 정보를 최대한으로 유지한 채로 차원 축소를 수행할 것인가?"
   ]
  },
  {
   "cell_type": "markdown",
   "metadata": {},
   "source": [
    "## 피처 선택과 피처 추출\n",
    "- 일반적으로 차원 축소는 피처 선택(Feature selection) 과 피처 추출(Feature extraction)로 나눌 수 있음\n",
    "\n",
    "- 피처 선택(Feature Selection)\n",
    "    - 특정 피처에 종속성이 강한 불필요한 피처는 아예 제거하고, 데이터의 특징을 잘 나타내는 피처만 선택하는 것\n",
    "\n",
    "- 피처 추출(Feature Extraction)\n",
    "    - 피처(특징) 추출은 기존 피처를 저차원의 중요 피처로 압축해서 추출하는 것. 이렇게 새롭게 추출된 중요 특성은 기존의 피처를 반영해\n",
    "\n",
    "      압축된 것이지만 새로운 피처로 추출하는 것임.\n",
    "    \n",
    "      - <img src=\"../images/피처선택과추출.png\" width=\"500px\" height=\"300px\" title=\"피처의 선택과 추출\"></img>\n"
   ]
  },
  {
   "cell_type": "markdown",
   "metadata": {},
   "source": [
    "## 피처 추출(Feature Extraction)\n",
    "- 피처 추출은 기존 피처를 단순 압축이 아닌, 피처를 함축적으로 더 잘 설명할 수 있는 또 다른 공간으로 매핑해 추출하는 것임.\n",
    "\n",
    "    - 모의 고사 성적, 종합 내신 성적, 수능 성적, 봉사활동, 대외활동, 수상 경력 ---> 학업 성취도, 커뮤니케이션, 문제 해결력"
   ]
  },
  {
   "cell_type": "markdown",
   "metadata": {},
   "source": [
    "## 차원 축소의 의미\n",
    "- 차원 축소는 단순히 데이터의 압축을 의미하는 것이 아님. 더 중요한 의미는 차원 축소를 통해 좀 더 데이터를 잘 설명할 수 있는 잠재적(Latent)인\n",
    "\n",
    "  요소를 추출하는 데에 있음\n",
    "\n",
    "    - 추천 엔진\n",
    "    - 이미지 분류 및 변환\n",
    "    - 문서 토픽 모델링"
   ]
  }
 ],
 "metadata": {
  "kernelspec": {
   "display_name": "Python 3.9.7 ('base')",
   "language": "python",
   "name": "python3"
  },
  "language_info": {
   "name": "python",
   "version": "3.9.7"
  },
  "orig_nbformat": 4,
  "vscode": {
   "interpreter": {
    "hash": "263930470851f494f0ed2879c35b57985588df20f9e529b86e97dd5eb9ddc466"
   }
  }
 },
 "nbformat": 4,
 "nbformat_minor": 2
}
