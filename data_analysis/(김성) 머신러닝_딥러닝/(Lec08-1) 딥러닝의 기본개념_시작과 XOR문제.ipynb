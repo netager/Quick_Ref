{
 "cells": [
  {
   "cell_type": "markdown",
   "metadata": {},
   "source": [
    "# Lecture 8-1 Deep Neural Nets for Everyone"
   ]
  },
  {
   "cell_type": "markdown",
   "metadata": {},
   "source": [
    "## Ultimate dream: thinking machine\n",
    "\n",
    "<img src=\"./think_machine.png\" width=\"900px\" height=\"400px\" title=\"Queue Runner\"></img>\n",
    "<img src=\"./activation.png\" width=\"900px\" height=\"400px\" title=\"Queue Runner\"></img>\n"
   ]
  },
  {
   "cell_type": "markdown",
   "metadata": {},
   "source": [
    "## Logistic regression units\n",
    "<img src=\"./lr_units.png\" width=\"900px\" height=\"400px\" title=\"Queue Runner\"></img>"
   ]
  },
  {
   "cell_type": "markdown",
   "metadata": {},
   "source": [
    "## Hardware implementations\n"
   ]
  },
  {
   "cell_type": "markdown",
   "metadata": {},
   "source": [
    "## False Promises"
   ]
  },
  {
   "cell_type": "markdown",
   "metadata": {},
   "source": [
    "##(Simple) AND/OR problem: linearly separable?\n",
    "\n",
    "<img src=\"./and_or.png\" width=\"500px\" height=\"400px\" title=\"Queue Runner\"></img>\n"
   ]
  },
  {
   "cell_type": "markdown",
   "metadata": {},
   "source": [
    "##(Simple) XOR problem: linearly separable?\n",
    "\n",
    "<img src=\"./xor.png\" width=\"500px\" height=\"400px\" title=\"Queue Runner\"></img>"
   ]
  },
  {
   "cell_type": "markdown",
   "metadata": {},
   "source": [
    "## Perceptron(1969)\n",
    "by Marvin Minsky, founder of the MIT AI Lab\n",
    "- We need to use MLP, multilayer perceptrons(multilayer neural nets)\n",
    "- No one on earth had found a viable way to train MLPs good enouth to learn such simple functions"
   ]
  },
  {
   "cell_type": "markdown",
   "metadata": {},
   "source": [
    "## \"No one on earth had found a viable way to train\"\n",
    "\n",
    "<img src=\"./minsky.png\" width=\"500px\" height=\"400px\" title=\"Queue Runner\"></img>"
   ]
  },
  {
   "cell_type": "markdown",
   "metadata": {},
   "source": [
    "## Backpropagaton\n",
    "(1974, 1982 by Paul Werbos, 1986 by Hinton)\n",
    "\n",
    "<img src=\"./backpropagation.png\" width=\"800px\" height=\"500px\" title=\"Queue Runner\"></img>"
   ]
  },
  {
   "cell_type": "markdown",
   "metadata": {},
   "source": [
    "## Convolutional Neural Networks\n",
    "- AlphaGo 사용한 방법\n",
    "- At some point in the late 1990s, one of these systems was reading 10 to 20% of all the checks in the US\n",
    "- \n",
    "\n",
    "<img src=\"./cnn.png\" width=\"400px\" height=\"200px\" title=\"Queue Runner\"></img>\n",
    "\n",
    "\n"
   ]
  },
  {
   "cell_type": "markdown",
   "metadata": {},
   "source": [
    "## A BIG problem\n",
    "- Backpropagation jus did not work well for normal neural nets with many layers\n",
    "- Other rising machine learing algorithms: SVM, RandomForest, etc.\n",
    "- 1995 \"Comparison of Learing Algorithms For Handwritten Digit Recognition\" by LeCun et al. found that this new approach worked better\n",
    "\n",
    "<img src=\"./bp_problem.jpg\" width=\"800px\" height=\"200px\" title=\"Queue Runner\"></img>"
   ]
  },
  {
   "cell_type": "markdown",
   "metadata": {},
   "source": []
  }
 ],
 "metadata": {
  "kernelspec": {
   "display_name": "Python 3.8.8 ('base')",
   "language": "python",
   "name": "python3"
  },
  "language_info": {
   "name": "python",
   "version": "3.8.8"
  },
  "orig_nbformat": 4,
  "vscode": {
   "interpreter": {
    "hash": "f08154012ddadd8e950e6e9e035c7a7b32c136e7647e9b7c77e02eb723a8bedb"
   }
  }
 },
 "nbformat": 4,
 "nbformat_minor": 2
}
