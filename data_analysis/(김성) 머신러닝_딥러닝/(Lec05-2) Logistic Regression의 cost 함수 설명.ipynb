{
 "cells": [
  {
   "cell_type": "markdown",
   "metadata": {},
   "source": [
    "# Lecture 5-2 Logistic (regression) classification: cost function & gradient decent"
   ]
  },
  {
   "cell_type": "markdown",
   "metadata": {},
   "source": [
    "## Cost\n",
    "$$cost(W, b) = \\frac{1}{m}\\sum_{i=1}^m (H(x^{(i)}) - y^{(i)})^2 \\;when\\; H(x) = Wx + b$$\n",
    "\n",
    "$$H(X) = \\frac{1}{1+e^{-(W^TX)}}$$"
   ]
  },
  {
   "cell_type": "markdown",
   "metadata": {},
   "source": [
    "## New cost function for logistic\n",
    "\n",
    "$$cost(W) = \\frac{1}{m}\\sum C(H(x),y)$$\n",
    "\n",
    "$$ C(H(x),y) = \\begin{cases} -log(H(x)) \\;\\;\\;\\;\\;\\;\\;\\;  : y = 1\\\\\n",
    "                             -log(1-H(x)) \\;\\;: y = 0\\end{cases}$$\n",
    "\n",
    "$$ C(H(x), y) = -ylog(H(x)) - (1 - y)log(1 - H(x))$$"
   ]
  },
  {
   "cell_type": "markdown",
   "metadata": {},
   "source": [
    "## Minimize cost - Gradient decent algorithm\n",
    "\n",
    "$$cost(W) = \\frac{1}{m}\\sum C(H(x),y)$$\n",
    "\n",
    "$$ C(H(x), y) = -ylog(H(x)) - (1 - y)log(1 - H(x))$$\n",
    "\n",
    "$$cost(W) = -\\frac{1}{m}\\sum ylog(H(x)) + (1-y)log(1-H(x))$$\n",
    "\n",
    "$$W := W -  \\alpha \\frac{\\partial}{\\partial W}cost(W)$$\n"
   ]
  },
  {
   "cell_type": "markdown",
   "metadata": {},
   "source": []
  }
 ],
 "metadata": {
  "kernelspec": {
   "display_name": "Python 3.8.8 ('base')",
   "language": "python",
   "name": "python3"
  },
  "language_info": {
   "name": "python",
   "version": "3.8.8"
  },
  "orig_nbformat": 4,
  "vscode": {
   "interpreter": {
    "hash": "f08154012ddadd8e950e6e9e035c7a7b32c136e7647e9b7c77e02eb723a8bedb"
   }
  }
 },
 "nbformat": 4,
 "nbformat_minor": 2
}
