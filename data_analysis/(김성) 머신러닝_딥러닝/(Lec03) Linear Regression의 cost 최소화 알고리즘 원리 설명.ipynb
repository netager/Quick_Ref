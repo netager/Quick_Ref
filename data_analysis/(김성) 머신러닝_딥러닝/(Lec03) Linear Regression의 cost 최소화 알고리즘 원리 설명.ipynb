{
 "cells": [
  {
   "cell_type": "markdown",
   "metadata": {},
   "source": [
    "# Lecture 3 How to minimize cost"
   ]
  },
  {
   "cell_type": "markdown",
   "metadata": {},
   "source": [
    "## Hypothesis and Cost\n",
    "$$H(x) = Wx + b$$\n",
    "$$cost(W, b) = \\frac{1}{m}\\sum_{i=1}^m (H(x^{(i)}) - y^{(i)})^2"
   ]
  },
  {
   "cell_type": "markdown",
   "metadata": {},
   "source": [
    "## Simplified hypothesis\n",
    "$$H(x) = Wx$$\n",
    "$$cost(W) = \\frac{1}{m}\\sum_{i=1}^m (W(x^{(i)}) - y^{(i)})^2"
   ]
  },
  {
   "cell_type": "markdown",
   "metadata": {},
   "source": [
    "## What cost(W) looks like?\n",
    "$$cost(W) = \\frac{1}{m}\\sum_{i=1}^m (W(x^{(i)}) - y^{(i)})^2$$\n",
    "\n",
    "x = [1, 2, 3]\n",
    "y = [1, 2, 3]\n",
    "\n",
    "- W=1, cost(W) = 0\n",
    "- W=0, cost(W) = 4.67\n",
    "- W=3, cost(W) = 4.67\n"
   ]
  },
  {
   "cell_type": "code",
   "execution_count": 3,
   "metadata": {},
   "outputs": [
    {
     "data": {
      "text/plain": [
       "[<matplotlib.lines.Line2D at 0x14a441148e0>]"
      ]
     },
     "execution_count": 3,
     "metadata": {},
     "output_type": "execute_result"
    },
    {
     "data": {
      "image/png": "[encoded data removed]",
      "text/plain": [
       "<Figure size 432x288 with 1 Axes>"
      ]
     },
     "metadata": {
      "needs_background": "light"
     },
     "output_type": "display_data"
    }
   ],
   "source": [
    "import matplotlib.pyplot as plt\n",
    "W = [1,0,3]\n",
    "cost = [0, 4.67, 4.67]\n",
    "\n",
    "plt.plot(W, cost)"
   ]
  },
  {
   "cell_type": "markdown",
   "metadata": {},
   "source": [
    "## Gradient descent algorithm\n",
    "- Minimize cost function\n",
    "- Gradient descent is used many minimization problems\n",
    "- For a given cost function, cost(W,b), it wil find W, b to minimize cost\n",
    "- It can be applied to more general function: cost(w1, w2, ...)"
   ]
  },
  {
   "cell_type": "markdown",
   "metadata": {},
   "source": [
    "## How it works?\n",
    "How would you find the lowest point?\n",
    "- Start with initial guesses\n",
    "    - Start at 0, 0 (or any other value)\n",
    "    - Keeping changing W and b a little bit to try and reduce cost(W, b)\n",
    "- Each time you change the parameters, you select the gradient which reduces cost(W, b) the most possible\n",
    "- Repeat\n",
    "- Do so until you converge to a local minimum\n",
    "- Has an interesting property\n",
    "    - Where you start can determine which minimum you end up\n"
   ]
  },
  {
   "cell_type": "code",
   "execution_count": 48,
   "metadata": {},
   "outputs": [
    {
     "data": {
      "text/plain": [
       "[<matplotlib.lines.Line2D at 0x22e16a517c0>]"
      ]
     },
     "execution_count": 48,
     "metadata": {},
     "output_type": "execute_result"
    },
    {
     "data": {
      "image/png": "[encoded data removed]",
      "text/plain": [
       "<Figure size 432x288 with 1 Axes>"
      ]
     },
     "metadata": {
      "needs_background": "light"
     },
     "output_type": "display_data"
    }
   ],
   "source": [
    "import numpy as np\n",
    "import matplotlib.pyplot as plt\n",
    "\n",
    "x = np.sort(np.random.randn(40000))\n",
    "y = x**2\n",
    "\n",
    "#plt.scatter(x, y, linewidths=0.1)\n",
    "plt.plot(x, y)\n"
   ]
  },
  {
   "cell_type": "markdown",
   "metadata": {},
   "source": [
    "## Formal definition\n",
    "$$cost(W) = \\frac{1}{m}\\sum_{i=1}^m (Wx^{(i)} - y^{(i)})^2$$\n",
    "$$cost(W) = \\frac{1}{2m}\\sum_{i=1}^m (Wx^{(i)} - y^{(i)})^2$$\n",
    "$$W := W -  \\alpha \\frac{\\partial}{\\partial W}cost(W)$$\n",
    "$$W := W -  \\alpha \\frac{\\partial}{\\partial W}\\frac{1}{2m}\\sum_{i=1}^m (Wx^{(i)} - y^{(i)})^2$$\n",
    "$$W := W -  \\alpha \\frac{1}{2m}\\sum_{i=1}^m 2(Wx^{(i)} - y^{(i)})x^{(i)}$$\n",
    "$$W := W -  \\alpha \\frac{1}{m}\\sum_{i=1}^m (Wx^{(i)} - y^{(i)})x^{(i)}$$\n"
   ]
  },
  {
   "cell_type": "markdown",
   "metadata": {},
   "source": [
    "## Gradient descent algorithm\n",
    "$$W := W -  \\alpha \\frac{1}{m}\\sum_{i=1}^m (Wx^{(i)} - y^{(i)})x^{(i)}$$\n"
   ]
  },
  {
   "cell_type": "markdown",
   "metadata": {},
   "source": [
    "## Convex function\n",
    "- Linear Regression 의 경우 Cost 함수를 적용하기전 Convex Function인지 확인 필요"
   ]
  },
  {
   "cell_type": "markdown",
   "metadata": {},
   "source": []
  }
 ],
 "metadata": {
  "kernelspec": {
   "display_name": "Python 3.8.8 ('base')",
   "language": "python",
   "name": "python3"
  },
  "language_info": {
   "codemirror_mode": {
    "name": "ipython",
    "version": 3
   },
   "file_extension": ".py",
   "mimetype": "text/x-python",
   "name": "python",
   "nbconvert_exporter": "python",
   "pygments_lexer": "ipython3",
   "version": "3.8.8"
  },
  "orig_nbformat": 4,
  "vscode": {
   "interpreter": {
    "hash": "f08154012ddadd8e950e6e9e035c7a7b32c136e7647e9b7c77e02eb723a8bedb"
   }
  }
 },
 "nbformat": 4,
 "nbformat_minor": 2
}
