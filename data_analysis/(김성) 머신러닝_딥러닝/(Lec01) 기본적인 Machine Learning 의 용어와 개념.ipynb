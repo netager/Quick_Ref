{
 "cells": [
  {
   "cell_type": "markdown",
   "metadata": {},
   "source": [
    "# Basic concepts"
   ]
  },
  {
   "cell_type": "markdown",
   "metadata": {},
   "source": [
    "- What is ML?\n",
    "- What is learning?\n",
    "  - supervised\n",
    "  - unsupervised\n",
    "- What is regression?\n",
    "- What is classfication?"
   ]
  },
  {
   "cell_type": "markdown",
   "metadata": {},
   "source": [
    "## Machine Learning\n",
    "- Limitations of explicit programming\n",
    "  - Spam filter:many rules\n",
    "  - Automatic driving: too many rules\n",
    "- Machine learning: \"Field of study that gives computers the ability to learn without \n",
    "  \n",
    "  being explicitly programmed\" Arthur Samuel(1959)"
   ]
  },
  {
   "cell_type": "markdown",
   "metadata": {},
   "source": [
    "## Supervised/Unsupervised learning\n",
    "- Supervised learning:\n",
    "    - learning with labeled examples - training set"
   ]
  },
  {
   "cell_type": "markdown",
   "metadata": {},
   "source": [
    "## Supervised learning\n",
    "- An example training set for four visual categories.\n",
    "- Unsupervised learning: un-labeled data\n",
    "  - Google news grouping\n",
    "  - Word clustering"
   ]
  },
  {
   "cell_type": "markdown",
   "metadata": {},
   "source": [
    "## Supervised learning\n",
    "- Most common problem type in ML\n",
    "  - image labeling : learning from tagged imanges\n",
    "  - Email spam filter : learing from labeled (spam or ham) email\n",
    "  - Predicting exam score : learning from previous exam score and time spent"
   ]
  },
  {
   "cell_type": "markdown",
   "metadata": {},
   "source": [
    "## Training data set"
   ]
  },
  {
   "cell_type": "markdown",
   "metadata": {},
   "source": [
    "## AlphaGo"
   ]
  },
  {
   "cell_type": "markdown",
   "metadata": {},
   "source": [
    "## Types of supervised learning\n",
    "- Predicting final exam score based on time spent\n",
    "  - regression\n",
    "- Pass/non-pass based on time spent\n",
    "  - binary classification\n",
    "- Letter grade(A, B, C, E and F) based on time spent\n",
    "  - multi-label classification"
   ]
  },
  {
   "cell_type": "markdown",
   "metadata": {},
   "source": [
    "## Predicting final exam score based on time spent"
   ]
  },
  {
   "cell_type": "markdown",
   "metadata": {},
   "source": [
    "## Pass/non-pass based on time spent"
   ]
  },
  {
   "cell_type": "markdown",
   "metadata": {},
   "source": []
  }
 ],
 "metadata": {
  "kernelspec": {
   "display_name": "Python 3.8.8 ('base')",
   "language": "python",
   "name": "python3"
  },
  "language_info": {
   "codemirror_mode": {
    "name": "ipython",
    "version": 3
   },
   "file_extension": ".py",
   "mimetype": "text/x-python",
   "name": "python",
   "nbconvert_exporter": "python",
   "pygments_lexer": "ipython3",
   "version": "3.8.8"
  },
  "orig_nbformat": 4,
  "vscode": {
   "interpreter": {
    "hash": "f08154012ddadd8e950e6e9e035c7a7b32c136e7647e9b7c77e02eb723a8bedb"
   }
  }
 },
 "nbformat": 4,
 "nbformat_minor": 2
}
