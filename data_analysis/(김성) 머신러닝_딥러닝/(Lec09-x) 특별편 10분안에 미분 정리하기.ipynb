{
 "cells": [
  {
   "cell_type": "markdown",
   "metadata": {},
   "source": [
    "# Lec 9-x 10분안에 미분 정리하기"
   ]
  },
  {
   "cell_type": "markdown",
   "metadata": {},
   "source": [
    "## Basic derivative\n",
    "### 순간 변화율\n",
    "$$\\frac{d}{dx}f(x) = \\lim_{\\Delta x\\to0} \\frac{f(x+\\Delta x)-f(x)}{\\Delta x}$$"
   ]
  },
  {
   "cell_type": "markdown",
   "metadata": {},
   "source": [
    "$$f(x) = 3$$\n",
    "\n",
    "$$\\frac{df}{dx} = \\frac{f(x + 0.01) - f(x)}{0.01} = \\frac{3 - 3}{0.01} = \\frac{0}{0.01} = 0$$\n"
   ]
  },
  {
   "cell_type": "markdown",
   "metadata": {},
   "source": [
    "$$ f(x) = x $$\n",
    "\n",
    "$$\\frac{df}{dx} = \\frac{f(x + 0.01) - f(x)}{0.01} = \\frac{x + 0.01 -x}{0.01} = \\frac{0.01}{0.01} = 1$$"
   ]
  },
  {
   "cell_type": "markdown",
   "metadata": {},
   "source": [
    "$$ f(x) = 2x$$\n",
    "\n",
    "$$\\frac{df}{dx} = \\frac{f(x + 0.01) - f(x)}{0.01} = \\frac{2(x + 0.01) -2x}{0.01} = \\frac{0.02}{0.01} = 2$$\n",
    "\n"
   ]
  },
  {
   "cell_type": "markdown",
   "metadata": {},
   "source": [
    "## Partial derivative (편미분)\n",
    "consider other variables as constants"
   ]
  },
  {
   "cell_type": "markdown",
   "metadata": {},
   "source": [
    "$$ f(x) = 2x$$\n",
    "$$\\frac{df}{dx} = 2$$"
   ]
  },
  {
   "cell_type": "markdown",
   "metadata": {},
   "source": [
    "$$ f(x, y) = xy$$\n",
    "$$\\frac{\\partial f}{\\partial x} = y$$"
   ]
  },
  {
   "cell_type": "markdown",
   "metadata": {},
   "source": [
    "$$ f(x, y) = xy $$\n",
    "\n",
    "$$\\frac{\\partial f}{\\partial y} = x$$\n"
   ]
  },
  {
   "cell_type": "markdown",
   "metadata": {},
   "source": [
    "$$f(x) = 3$$\n",
    "\n",
    "$$\\frac{df}{dx} = 0$$\n"
   ]
  },
  {
   "cell_type": "markdown",
   "metadata": {},
   "source": [
    "$$ f(x) = 2x $$\n",
    "$$ f(x) = x + x $$\n",
    "$$\\frac{df}{dx} = \\frac{dx}{dx} + \\frac{dx}{dx} = 2$$\n",
    "\n"
   ]
  },
  {
   "cell_type": "markdown",
   "metadata": {},
   "source": [
    "$$ f(x) = x + 3 $$\n",
    "\n",
    "$$\\frac{df}{dx} = \\frac{dx}{dx} + \\frac{3}{dx} = 1$$"
   ]
  },
  {
   "cell_type": "markdown",
   "metadata": {},
   "source": [
    "$$ f(x, y) = x + y $$\n",
    "\n",
    "$$\\frac{\\partial f}{\\partial x} = \\frac{x}{\\partial x} + \\frac{y}{\\partial x} = 1$$\n"
   ]
  },
  {
   "cell_type": "markdown",
   "metadata": {},
   "source": [
    "$$ f(x, y) = x + y $$\n",
    "\n",
    "$$\\frac{\\partial f}{\\partial y} = \\frac{x}{\\partial y} + \\frac{y}{\\partial y} = 1$$"
   ]
  },
  {
   "cell_type": "markdown",
   "metadata": {},
   "source": [
    "$$ f(g(x)) $$\n",
    "\n",
    "$$ \\frac{\\partial f}{\\partial x} = \\frac{\\partial f}{\\partial g} \\centerdot \\frac{\\partial g}{\\partial x} $$"
   ]
  },
  {
   "cell_type": "markdown",
   "metadata": {},
   "source": []
  }
 ],
 "metadata": {
  "kernelspec": {
   "display_name": "Python 3.8.8 ('base')",
   "language": "python",
   "name": "python3"
  },
  "language_info": {
   "name": "python",
   "version": "3.8.8"
  },
  "orig_nbformat": 4,
  "vscode": {
   "interpreter": {
    "hash": "f08154012ddadd8e950e6e9e035c7a7b32c136e7647e9b7c77e02eb723a8bedb"
   }
  }
 },
 "nbformat": 4,
 "nbformat_minor": 2
}
