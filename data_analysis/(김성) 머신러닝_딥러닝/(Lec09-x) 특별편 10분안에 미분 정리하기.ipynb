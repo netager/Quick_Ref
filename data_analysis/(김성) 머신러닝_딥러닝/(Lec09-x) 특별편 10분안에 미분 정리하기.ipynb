{
 "cells": [
  {
   "cell_type": "markdown",
   "metadata": {},
   "source": [
    "# Lec 9-x 10분안에 미분 정리하기"
   ]
  },
  {
   "cell_type": "markdown",
   "metadata": {},
   "source": [
    "## Basic derivative\n",
    "### 순간 변화율\n",
    "$$\\frac{d}{dx}f(x) = \\lim_{\\Delta x\\to0} \\frac{f(x+\\Delta x)-f(x)}{\\Delta x}$$"
   ]
  },
  {
   "cell_type": "markdown",
   "metadata": {},
   "source": [
    "$$f(x) = 3$$\n",
    "\n",
    "$$\\frac{df}{dx} = \\frac{f(x + 0.01) - f(x)}{0.01} = \\frac{3 - 3}{0.01} = \\frac{0}{0.01} = 0$$\n"
   ]
  },
  {
   "cell_type": "markdown",
   "metadata": {},
   "source": [
    "$$ f(x) = x $$\n",
    "\n",
    "$$\\frac{df}{dx} = \\frac{f(x + 0.01) - f(x)}{0.01} = \\frac{x + 0.01 -x}{0.01} = \\frac{0.01}{0.01} = 1$$"
   ]
  },
  {
   "cell_type": "markdown",
   "metadata": {},
   "source": [
    "$$ f(x) = 2x$$\n",
    "\n",
    "$$\\frac{df}{dx} = \\frac{f(x + 0.01) - f(x)}{0.01} = \\frac{2(x + 0.01) -2x}{0.01} = \\frac{0.02}{0.01} = 2$$\n",
    "\n"
   ]
  },
  {
   "cell_type": "markdown",
   "metadata": {},
   "source": [
    "## Partial derivative (편미분)\n",
    "consider other variables as constants"
   ]
  },
  {
   "cell_type": "markdown",
   "metadata": {},
   "source": [
    "$$ f(x) = 2x$$\n",
    "$$\\frac{df}{dx} = 2$$"
   ]
  },
  {
   "cell_type": "markdown",
   "metadata": {},
   "source": [
    "$$ f(x, y) = xy$$\n",
    "$$\\frac{\\partial f}{\\partial x} = y$$"
   ]
  },
  {
   "cell_type": "markdown",
   "metadata": {},
   "source": [
    "$$ f(x, y) = xy $$\n",
    "\n",
    "$$\\frac{\\partial f}{\\partial y} = x$$\n"
   ]
  },
  {
   "cell_type": "markdown",
   "metadata": {},
   "source": [
    "$$f(x) = 3$$\n",
    "\n",
    "$$\\frac{df}{dx} = 0$$\n"
   ]
  },
  {
   "cell_type": "markdown",
   "metadata": {},
   "source": [
    "$$ f(x) = 2x $$\n",
    "$$ f(x) = x + x $$\n",
    "$$\\frac{df}{dx} = \\frac{dx}{dx} + \\frac{dx}{dx} = 2$$\n",
    "\n"
   ]
  },
  {
   "cell_type": "markdown",
   "metadata": {},
   "source": [
    "$$ f(x) = x + 3 $$\n",
    "\n",
    "$$\\frac{df}{dx} = \\frac{dx}{dx} + \\frac{3}{dx} = 1$$"
   ]
  },
  {
   "cell_type": "markdown",
   "metadata": {},
   "source": [
    "$$ f(x, y) = x + y $$\n",
    "\n",
    "$$\\frac{\\partial f}{\\partial x} = \\frac{x}{\\partial x} + \\frac{y}{\\partial x} = 1$$\n"
   ]
  },
  {
   "cell_type": "markdown",
   "metadata": {},
   "source": [
    "$$ f(x, y) = x + y $$\n",
    "\n",
    "$$\\frac{\\partial f}{\\partial y} = \\frac{x}{\\partial y} + \\frac{y}{\\partial y} = 1$$"
   ]
  },
  {
   "cell_type": "markdown",
   "metadata": {},
   "source": [
    "$$ f(g(x)) $$\n",
    "\n",
    "$$ \\frac{\\partial f}{\\partial x} = \\frac{\\partial f}{\\partial g} \\centerdot \\frac{\\partial g}{\\partial x} $$"
   ]
  },
  {
   "cell_type": "markdown",
   "metadata": {},
   "source": []
  }
 ],
 "metadata": {
  "kernelspec": {
   "display_name": "Python 3.9.7 ('base')",
   "language": "python",
   "name": "python3"
  },
  "language_info": {
   "name": "python",
   "version": "3.9.7"
  },
  "orig_nbformat": 4,
  "vscode": {
   "interpreter": {
    "hash": "263930470851f494f0ed2879c35b57985588df20f9e529b86e97dd5eb9ddc466"
   }
  }
 },
 "nbformat": 4,
 "nbformat_minor": 2
}
