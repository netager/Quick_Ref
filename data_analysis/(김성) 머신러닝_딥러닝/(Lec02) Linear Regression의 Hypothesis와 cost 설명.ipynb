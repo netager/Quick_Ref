{
 "cells": [
  {
   "cell_type": "markdown",
   "metadata": {},
   "source": [
    "# ML lec 02 - Linear Regression의 Hypothesis와 Cost"
   ]
  },
  {
   "cell_type": "markdown",
   "metadata": {},
   "source": [
    "## Predicting exam score: regression"
   ]
  },
  {
   "cell_type": "code",
   "execution_count": 25,
   "metadata": {},
   "outputs": [],
   "source": [
    "%matplotlib inline \n",
    "import pandas as pd\n",
    "import numpy as np\n",
    "import matplotlib.pyplot as plt\n",
    "import matplotlib\n",
    "import tensorflow.compat.v1 as tf\n",
    "tf.disable_v2_behavior()\n",
    "\n",
    "matplotlib.rcParams['font.family'] = 'Malgun Gothic'\n",
    "matplotlib.rcParams['font.size'] = 15\n",
    "matplotlib.rcParams['axes.unicode_minus'] = False\n",
    "\n",
    "import warnings\n",
    "warnings.filterwarnings('ignore')"
   ]
  },
  {
   "cell_type": "markdown",
   "metadata": {},
   "source": [
    "## (Linear) Hypothesis(r가설, 추정)\n",
    "- H(x) = Wx + b"
   ]
  },
  {
   "cell_type": "code",
   "execution_count": 7,
   "metadata": {},
   "outputs": [
    {
     "data": {
      "text/plain": [
       "[<matplotlib.lines.Line2D at 0x21070047580>]"
      ]
     },
     "execution_count": 7,
     "metadata": {},
     "output_type": "execute_result"
    },
    {
     "data": {
      "image/png": "[encoded data removed]",
      "text/plain": [
       "<Figure size 432x288 with 1 Axes>"
      ]
     },
     "metadata": {
      "needs_background": "light"
     },
     "output_type": "display_data"
    }
   ],
   "source": [
    "x = [1,2,3]\n",
    "y = [1,2,3]\n",
    "\n",
    "plt.plot(x, y, marker='x')"
   ]
  },
  {
   "cell_type": "code",
   "execution_count": 8,
   "metadata": {},
   "outputs": [],
   "source": [
    "## Which hypothesis is bettr"
   ]
  },
  {
   "cell_type": "markdown",
   "metadata": {},
   "source": [
    "## Cost function (Loss function)\n",
    "- How fit the line to our (training) data\n",
    "  - H(x) - y\n",
    "  - (H(x) -y) ** 2\n",
    "  - (H(x1) -y1)**2 + (H(x2) -y2)**2 + (H(x3) -y3)**2 / 3\n",
    "  -  "
   ]
  },
  {
   "cell_type": "markdown",
   "metadata": {},
   "source": [
    "## Cost function\n",
    "- How fit the line to our (training) data\n",
    "  - H(x) - y\n",
    "  - (H(x) -y) ** 2\n",
    "  - (H(x1) -y1)**2 + (H(x2) -y2)**2 + (H(x3) -y3)**2 / 3\n",
    "  - cost = $s^2+2s+s\\over s+\\sqrt s+1$\n"
   ]
  },
  {
   "cell_type": "markdown",
   "metadata": {},
   "source": [
    "# ML Lab 02 - TensorFlow로 간단한 linear regression을 구현"
   ]
  },
  {
   "cell_type": "markdown",
   "metadata": {},
   "source": [
    "## 참고 사이트\n",
    "- https://github.com/hunkim/DeepLearningZeroToAll"
   ]
  },
  {
   "cell_type": "markdown",
   "metadata": {},
   "source": [
    "## Hypothesis and cost function\n",
    "- H(x) = Wx + b\n",
    "- cost(W, b) = 1/mSUM(i to m)(H(x(i)) - y(i))**2"
   ]
  },
  {
   "cell_type": "markdown",
   "metadata": {},
   "source": [
    "## TensorFlow Mechanics\n",
    "1. Build graph using TensorFlow operations\n",
    "2. feed data and run graph(operation\n",
    "    - sess.run(op, feed_dict={x: x_data})\n",
    "3. update variables in the graph (and return values)"
   ]
  },
  {
   "cell_type": "markdown",
   "metadata": {},
   "source": [
    "## 1. Build graph using TF operations"
   ]
  },
  {
   "cell_type": "code",
   "execution_count": 22,
   "metadata": {},
   "outputs": [],
   "source": [
    "import tensorflow as tf\n",
    "import tensorflow.compat.v1 as tf\n",
    "tf.disable_v2_behavior()\n",
    "\n",
    "# H(x) = Wx + b\n",
    "\n",
    "# X adn Y data\n",
    "x_train = [1, 2, 3]\n",
    "y_train = [1, 2, 3]\n",
    "\n",
    "W = tf.Variable(tf.random.normal([1]), name='weight')\n",
    "b = tf.Variable(tf.random.normal([1]), name = 'bias')\n",
    "\n",
    "# Our hypothesis XW+b\n",
    "hypothesis = x_train * W + b\n",
    "\n",
    "\n",
    "# cost(W, b) = 1/mSUM(i to m)(H(x(i)) - y(i))**2\n",
    "cost = tf.reduce_mean(tf.square(hypothesis - y_train))\n",
    "\n",
    "# Gradient Descent\n",
    "# Minimize\n",
    "optimizer = tf.train.GradientDescentOptimizer(learning_rate=0.01)\n",
    "#optimizer = tf.optimizers.SGD (lr_decay=0.0, decay_step=100, staircase=False, use_locking=False, name='SGD')\n",
    "train = optimizer.minimize(cost)\n",
    "\n"
   ]
  },
  {
   "cell_type": "markdown",
   "metadata": {},
   "source": []
  },
  {
   "cell_type": "markdown",
   "metadata": {},
   "source": [
    "## 2,3 Run/update graph and get results"
   ]
  },
  {
   "cell_type": "code",
   "execution_count": 23,
   "metadata": {},
   "outputs": [
    {
     "name": "stdout",
     "output_type": "stream",
     "text": [
      "0 22.068369 [-1.4358592] [0.6158092]\n",
      "20 0.45790124 [0.23458788] [1.2713426]\n",
      "40 0.23830207 [0.41871786] [1.2767693]\n",
      "60 0.21481974 [0.46014354] [1.2229717]\n",
      "80 0.19508809 [0.4868582] [1.1660874]\n",
      "100 0.17718197 [0.5111019] [1.1113417]\n",
      "120 0.16091947 [0.5340906] [1.059118]\n",
      "140 0.14614965 [0.5559877] [1.0093439]\n",
      "160 0.13273546 [0.57685477] [0.9619086]\n",
      "180 0.12055246 [0.596741] [0.9167024]\n",
      "200 0.109487675 [0.61569273] [0.8736206]\n",
      "220 0.09943843 [0.63375384] [0.83256364]\n",
      "240 0.090311565 [0.65096605] [0.79343617]\n",
      "260 0.08202241 [0.66736937] [0.75614756]\n",
      "280 0.074494086 [0.6830019] [0.72061145]\n",
      "300 0.06765672 [0.6978995] [0.68674535]\n",
      "320 0.061446894 [0.71209717] [0.6544708]\n",
      "340 0.055807028 [0.72562754] [0.623713]\n",
      "360 0.050684843 [0.7385221] [0.5944008]\n",
      "380 0.0460328 [0.75081056] [0.56646615]\n",
      "400 0.04180771 [0.76252156] [0.53984433]\n",
      "420 0.03797044 [0.7736822] [0.5144737]\n",
      "440 0.03448537 [0.7843183] [0.49029523]\n",
      "460 0.03132016 [0.7944545] [0.46725315]\n",
      "480 0.028445462 [0.8041144] [0.445294]\n",
      "500 0.02583462 [0.8133203] [0.4243668]\n",
      "520 0.023463426 [0.82209355] [0.40442318]\n",
      "540 0.021309853 [0.83045447] [0.38541678]\n",
      "560 0.019353967 [0.8384225] [0.36730364]\n",
      "580 0.017577576 [0.846016] [0.35004172]\n",
      "600 0.015964242 [0.85325277] [0.333591]\n",
      "620 0.014498965 [0.8601494] [0.31791338]\n",
      "640 0.013168187 [0.86672175] [0.3029726]\n",
      "660 0.011959569 [0.87298536] [0.28873408]\n",
      "680 0.010861876 [0.8789546] [0.27516466]\n",
      "700 0.009864931 [0.88464326] [0.26223293]\n",
      "720 0.008959492 [0.8900646] [0.24990895]\n",
      "740 0.008137151 [0.8952312] [0.23816416]\n",
      "760 0.0073902947 [0.90015495] [0.22697134]\n",
      "780 0.0067119743 [0.90484726] [0.21630453]\n",
      "800 0.0060959305 [0.9093191] [0.20613903]\n",
      "820 0.00553642 [0.91358083] [0.19645122]\n",
      "840 0.0050282576 [0.91764224] [0.18721874]\n",
      "860 0.004566747 [0.92151266] [0.17842014]\n",
      "880 0.0041475995 [0.9252013] [0.17003506]\n",
      "900 0.0037669137 [0.9287166] [0.16204403]\n",
      "920 0.0034211713 [0.9320666] [0.15442854]\n",
      "940 0.003107161 [0.9352593] [0.14717095]\n",
      "960 0.0028219752 [0.93830174] [0.14025445]\n",
      "980 0.00256296 [0.94120145] [0.13366301]\n",
      "1000 0.0023277241 [0.94396466] [0.12738134]\n",
      "1020 0.0021140713 [0.9465982] [0.12139489]\n",
      "1040 0.0019200384 [0.9491078] [0.11568979]\n",
      "1060 0.001743808 [0.95149964] [0.11025277]\n",
      "1080 0.0015837532 [0.953779] [0.10507129]\n",
      "1100 0.0014383914 [0.95595115] [0.10013331]\n",
      "1120 0.0013063665 [0.9580213] [0.09542742]\n",
      "1140 0.0011864662 [0.9599942] [0.09094265]\n",
      "1160 0.0010775642 [0.9618743] [0.08666866]\n",
      "1180 0.0009786595 [0.9636661] [0.08259553]\n",
      "1200 0.00088883686 [0.9653736] [0.07871391]\n",
      "1220 0.00080725783 [0.9670009] [0.07501466]\n",
      "1240 0.0007331621 [0.96855175] [0.07148927]\n",
      "1260 0.0006658737 [0.9700297] [0.06812958]\n",
      "1280 0.00060475396 [0.9714382] [0.0649277]\n",
      "1300 0.00054924807 [0.97278047] [0.06187632]\n",
      "1320 0.0004988345 [0.9740597] [0.05896837]\n",
      "1340 0.0004530515 [0.9752788] [0.05619707]\n",
      "1360 0.00041146713 [0.97644055] [0.05355603]\n",
      "1380 0.00037370133 [0.97754776] [0.05103913]\n",
      "1400 0.00033940328 [0.9786029] [0.0486405]\n",
      "1420 0.00030825252 [0.9796085] [0.04635462]\n",
      "1440 0.00027995903 [0.9805669] [0.04417609]\n",
      "1460 0.00025426215 [0.9814802] [0.04209996]\n",
      "1480 0.00023092597 [0.9823505] [0.04012141]\n",
      "1500 0.00020972977 [0.98318005] [0.03823584]\n",
      "1520 0.00019047967 [0.98397046] [0.03643889]\n",
      "1540 0.00017299649 [0.98472387] [0.0347264]\n",
      "1560 0.00015711805 [0.98544174] [0.03309436]\n",
      "1580 0.00014269735 [0.98612595] [0.03153903]\n",
      "1600 0.00012960027 [0.98677796] [0.03005679]\n",
      "1620 0.000117704796 [0.98739934] [0.02864424]\n",
      "1640 0.000106901316 [0.9879916] [0.02729808]\n",
      "1660 9.7089534e-05 [0.9885559] [0.02601517]\n",
      "1680 8.817914e-05 [0.98909366] [0.02479256]\n",
      "1700 8.008598e-05 [0.9896061] [0.02362744]\n",
      "1720 7.2735405e-05 [0.99009466] [0.02251714]\n",
      "1740 6.605941e-05 [0.99056023] [0.02145888]\n",
      "1760 5.999635e-05 [0.9910039] [0.02045036]\n",
      "1780 5.4489345e-05 [0.99142665] [0.01948925]\n",
      "1800 4.9488055e-05 [0.9918296] [0.01857332]\n",
      "1820 4.494588e-05 [0.9922136] [0.01770042]\n",
      "1840 4.08199e-05 [0.9925795] [0.01686854]\n",
      "1860 3.7073423e-05 [0.99292827] [0.01607578]\n",
      "1880 3.3670975e-05 [0.99326056] [0.01532028]\n",
      "1900 3.0580206e-05 [0.9935773] [0.0146003]\n",
      "1920 2.7773442e-05 [0.99387914] [0.01391414]\n",
      "1940 2.5224661e-05 [0.9941668] [0.01326024]\n",
      "1960 2.290964e-05 [0.9944409] [0.01263706]\n",
      "1980 2.0806508e-05 [0.99470216] [0.01204318]\n",
      "2000 1.8896737e-05 [0.99495125] [0.01147717]\n"
     ]
    }
   ],
   "source": [
    "import tensorflow as tf\n",
    "import tensorflow.compat.v1 as tf\n",
    "tf.disable_v2_behavior()\n",
    "\n",
    "# Launch the graph in a session\n",
    "sess = tf.Session()\n",
    "\n",
    "# Initializes global variables in the graph\n",
    "sess.run(tf.global_variables_initializer())\n",
    "\n",
    "# Fit the line\n",
    "for step in range(2001):\n",
    "    sess.run(train)\n",
    "    if step % 20 == 0:\n",
    "        print(step, sess.run(cost), sess.run(W), sess.run(b))\n"
   ]
  },
  {
   "cell_type": "code",
   "execution_count": null,
   "metadata": {},
   "outputs": [],
   "source": []
  },
  {
   "cell_type": "markdown",
   "metadata": {},
   "source": [
    "## Placeholders"
   ]
  },
  {
   "cell_type": "code",
   "execution_count": 26,
   "metadata": {},
   "outputs": [
    {
     "name": "stdout",
     "output_type": "stream",
     "text": [
      "0 1.8896737e-05 [0.9949634] [0.01144957]\n",
      "20 1.7162203e-05 [0.99520004] [0.01091143]\n",
      "40 1.5587206e-05 [0.99542564] [0.01039862]\n",
      "60 1.4156226e-05 [0.9956406] [0.00990993]\n",
      "80 1.2856864e-05 [0.99584544] [0.00944422]\n",
      "100 1.1677239e-05 [0.9960407] [0.00900038]\n",
      "120 1.0605196e-05 [0.99622685] [0.00857738]\n",
      "140 9.631997e-06 [0.9964041] [0.00817426]\n",
      "160 8.747748e-06 [0.99657315] [0.0077901]\n",
      "180 7.94468e-06 [0.9967342] [0.00742397]\n",
      "200 7.2153744e-06 [0.9968877] [0.00707506]\n",
      "220 6.553221e-06 [0.9970339] [0.00674255]\n",
      "240 5.9520003e-06 [0.9971733] [0.0064257]\n",
      "260 5.4056986e-06 [0.9973061] [0.00612374]\n",
      "280 4.9093915e-06 [0.99743277] [0.00583596]\n",
      "300 4.459001e-06 [0.9975534] [0.00556169]\n",
      "320 4.0497102e-06 [0.9976683] [0.00530032]\n",
      "340 3.6780857e-06 [0.99777794] [0.00505124]\n",
      "360 3.3402823e-06 [0.99788237] [0.00481386]\n",
      "380 3.0338172e-06 [0.9979819] [0.00458764]\n",
      "400 2.7554288e-06 [0.99807674] [0.00437205]\n",
      "420 2.5025238e-06 [0.9981671] [0.00416657]\n",
      "440 2.272866e-06 [0.9982532] [0.00397078]\n",
      "460 2.064202e-06 [0.9983353] [0.00378417]\n",
      "480 1.8747351e-06 [0.99841356] [0.00360633]\n",
      "500 1.7026551e-06 [0.99848807] [0.00343686]\n",
      "520 1.546362e-06 [0.9985592] [0.00327535]\n",
      "540 1.4044549e-06 [0.9986269] [0.00312141]\n",
      "560 1.2755849e-06 [0.9986914] [0.00297473]\n",
      "580 1.158539e-06 [0.9987529] [0.00283494]\n",
      "600 1.0521915e-06 [0.9988115] [0.00270173]\n",
      "620 9.556629e-07 [0.99886733] [0.00257477]\n",
      "640 8.679455e-07 [0.9989206] [0.00245377]\n",
      "660 7.883175e-07 [0.9989713] [0.00233849]\n",
      "680 7.15959e-07 [0.9990196] [0.00222863]\n",
      "700 6.5027547e-07 [0.9990657] [0.0021239]\n",
      "720 5.9059437e-07 [0.9991095] [0.00202411]\n",
      "740 5.364066e-07 [0.99915135] [0.00192903]\n",
      "760 4.872525e-07 [0.9991912] [0.00183843]\n",
      "780 4.4248273e-07 [0.9992292] [0.00175206]\n",
      "800 4.0195292e-07 [0.99926543] [0.00166976]\n",
      "820 3.6505082e-07 [0.99929994] [0.00159132]\n",
      "840 3.315689e-07 [0.9993328] [0.00151657]\n",
      "860 3.01103e-07 [0.99936414] [0.00144535]\n",
      "880 2.7346454e-07 [0.99939406] [0.00137745]\n",
      "900 2.484379e-07 [0.99942243] [0.00131275]\n",
      "920 2.2565796e-07 [0.99944955] [0.00125112]\n",
      "940 2.0493809e-07 [0.99947536] [0.00119237]\n",
      "960 1.8617841e-07 [0.9995] [0.00113639]\n",
      "980 1.690684e-07 [0.99952346] [0.00108305]\n",
      "1000 1.5360084e-07 [0.9995459] [0.00103221]\n",
      "1020 1.3947913e-07 [0.9995672] [0.00098376]\n",
      "1040 1.2673193e-07 [0.99958754] [0.00093759]\n",
      "1060 1.1510008e-07 [0.9996067] [0.00089361]\n",
      "1080 1.04556925e-07 [0.9996252] [0.00085167]\n",
      "1100 9.498388e-08 [0.9996429] [0.0008117]\n",
      "1120 8.629342e-08 [0.9996596] [0.00077365]\n",
      "1140 7.838514e-08 [0.9996755] [0.00073733]\n",
      "1160 7.1175876e-08 [0.99969083] [0.00070273]\n",
      "1180 6.468108e-08 [0.99970526] [0.00066978]\n",
      "1200 5.8727792e-08 [0.99971914] [0.00063832]\n",
      "1220 5.335954e-08 [0.99973226] [0.00060842]\n",
      "1240 4.8462812e-08 [0.99974483] [0.00057985]\n",
      "1260 4.4035364e-08 [0.99975675] [0.00055271]\n",
      "1280 4.0013603e-08 [0.99976826] [0.00052676]\n",
      "1300 3.635368e-08 [0.999779] [0.0005021]\n",
      "1320 3.3007215e-08 [0.9997895] [0.00047852]\n",
      "1340 3.0000432e-08 [0.9997992] [0.00045611]\n",
      "1360 2.725515e-08 [0.9998087] [0.00043478]\n",
      "1380 2.4758913e-08 [0.99981767] [0.00041434]\n",
      "1400 2.2499982e-08 [0.9998261] [0.00039498]\n",
      "1420 2.0436588e-08 [0.9998344] [0.00037649]\n",
      "1440 1.8551823e-08 [0.9998421] [0.00035878]\n",
      "1460 1.6871285e-08 [0.9998494] [0.00034201]\n",
      "1480 1.532937e-08 [0.99985653] [0.00032604]\n",
      "1500 1.3921093e-08 [0.9998634] [0.00031069]\n",
      "1520 1.2648101e-08 [0.9998696] [0.00029613]\n",
      "1540 1.1496628e-08 [0.9998756] [0.00028234]\n",
      "1560 1.0445397e-08 [0.99988157] [0.00026918]\n",
      "1580 9.485039e-09 [0.9998872] [0.00025648]\n",
      "1600 8.621739e-09 [0.9998924] [0.00024444]\n",
      "1620 7.835746e-09 [0.99989724] [0.00023307]\n",
      "1640 7.1280373e-09 [0.999902] [0.0002223]\n",
      "1660 6.475025e-09 [0.9999068] [0.00021194]\n",
      "1680 5.8788827e-09 [0.99991125] [0.00020192]\n",
      "1700 5.3376326e-09 [0.9999153] [0.00019242]\n",
      "1720 4.850387e-09 [0.9999192] [0.00018344]\n",
      "1740 4.420827e-09 [0.9999228] [0.00017496]\n",
      "1760 4.014694e-09 [0.9999264] [0.00016691]\n",
      "1780 3.6559384e-09 [0.99992996] [0.00015916]\n",
      "1800 3.3093288e-09 [0.9999334] [0.00015161]\n",
      "1820 3.0062755e-09 [0.9999365] [0.00014442]\n",
      "1840 2.7337446e-09 [0.99993944] [0.00013763]\n",
      "1860 2.4824882e-09 [0.9999422] [0.0001312]\n",
      "1880 2.2589244e-09 [0.9999448] [0.00012514]\n",
      "1900 2.0560447e-09 [0.99994725] [0.00011939]\n",
      "1920 1.8736408e-09 [0.99994963] [0.00011397]\n",
      "1940 1.705371e-09 [0.999952] [0.00010876]\n",
      "1960 1.5487799e-09 [0.9999544] [0.0001037]\n",
      "1980 1.404298e-09 [0.9999567] [9.874855e-05]\n",
      "2000 1.2708354e-09 [0.9999587] [9.400941e-05]\n"
     ]
    }
   ],
   "source": [
    "# X and Y data\n",
    "x_train = [1,2,3]\n",
    "y_train = [1,2,3]\n",
    "\n",
    "# Now we can use X and Y in place of x_data and y_data\n",
    "# # placeholders for a tensor that will be always fed using feed_dict\n",
    "# See http://stackoverflow.com/questions/36693740/\n",
    "X = tf.placeholder(tf.float32)\n",
    "Y = tf.placeholder(tf.float32)\n",
    "...\n",
    "\n",
    "# Fit the line\n",
    "for step in range(2001):\n",
    "    cost_val, W_val, b_val, _ = \\\n",
    "        sess.run([cost, W, b, train],\n",
    "                  feed_dict={X:[1,2,3], Y: [1,2,3]})\n",
    "    if step % 20 == 0:\n",
    "        print(step, cost_val, W_val, b_val)\n"
   ]
  },
  {
   "cell_type": "code",
   "execution_count": 19,
   "metadata": {},
   "outputs": [
    {
     "name": "stdout",
     "output_type": "stream",
     "text": [
      "WARNING:tensorflow:From c:\\Users\\User\\anaconda3\\lib\\site-packages\\tensorflow\\python\\compat\\v2_compat.py:107: disable_resource_variables (from tensorflow.python.ops.variable_scope) is deprecated and will be removed in a future version.\n",
      "Instructions for updating:\n",
      "non-resource variables are not supported in the long term\n",
      "0 [-0.3851604] [0.7885341]\n",
      "20 [-0.00456104] [0.3567649]\n",
      "40 [0.08113585] [0.31024113]\n",
      "60 [0.09659665] [0.30184764]\n",
      "80 [0.09938598] [0.30033335]\n",
      "100 [0.09988923] [0.30006015]\n",
      "120 [0.09998] [0.30001086]\n",
      "140 [0.09999638] [0.30000198]\n",
      "160 [0.09999935] [0.30000037]\n",
      "180 [0.0999999] [0.30000007]\n",
      "200 [0.09999991] [0.30000007]\n"
     ]
    }
   ],
   "source": [
    "import  tensorflow as tf\n",
    "import  numpy as np\n",
    "import tensorflow.compat.v1 as tf\n",
    "tf.disable_v2_behavior()\n",
    "\n",
    "x_data=np.random.rand(1,10).astype(np.float32)\n",
    "y_data=x_data*0.1+0.3\n",
    "\n",
    "\n",
    "Weights = tf.Variable(tf.random.uniform([1], -1.0, 1.0))\n",
    "biases = tf.Variable(tf.zeros([1]))\n",
    "y=Weights*x_data+biases\n",
    "\n",
    "loss=tf.reduce_mean(tf.square(y-y_data))\n",
    "\n",
    "optimizer=tf.train.GradientDescentOptimizer(0.5)\n",
    "train=optimizer.minimize(loss)\n",
    "\n",
    "init = tf.global_variables_initializer()  \n",
    "\n",
    "sess = tf.Session()\n",
    "sess.run(init)          \n",
    "\n",
    "for step in range(201):\n",
    "    sess.run(train)\n",
    "    if step % 20 == 0:\n",
    "        print(step, sess.run(Weights), sess.run(biases))"
   ]
  },
  {
   "cell_type": "code",
   "execution_count": null,
   "metadata": {},
   "outputs": [],
   "source": []
  }
 ],
 "metadata": {
  "kernelspec": {
   "display_name": "Python 3.9.7 ('base')",
   "language": "python",
   "name": "python3"
  },
  "language_info": {
   "codemirror_mode": {
    "name": "ipython",
    "version": 3
   },
   "file_extension": ".py",
   "mimetype": "text/x-python",
   "name": "python",
   "nbconvert_exporter": "python",
   "pygments_lexer": "ipython3",
   "version": "3.9.7"
  },
  "orig_nbformat": 4,
  "vscode": {
   "interpreter": {
    "hash": "263930470851f494f0ed2879c35b57985588df20f9e529b86e97dd5eb9ddc466"
   }
  }
 },
 "nbformat": 4,
 "nbformat_minor": 2
}
