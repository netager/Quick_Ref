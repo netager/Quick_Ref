{
 "cells": [
  {
   "cell_type": "markdown",
   "metadata": {},
   "source": [
    "## Lecture 7-1 Application & Tips: Learning rate, data preprocessing, overfitting"
   ]
  },
  {
   "cell_type": "markdown",
   "metadata": {},
   "source": [
    "## Gradient descent"
   ]
  },
  {
   "cell_type": "markdown",
   "metadata": {},
   "source": [
    "## Large learning rate: overshooting\n",
    "<img src=\"./large_lr.jpg\" width=\"600px\" height=\"300px\" title=\"Large learning rate: Overshooting\"></img>   \n",
    "<img src=\"./learning_rate.png\" width=\"600px\" height=\"300px\" title=\"Large learning rate: Overshooting\"></img>   "
   ]
  },
  {
   "cell_type": "markdown",
   "metadata": {},
   "source": [
    "## Data(X) preprocessing for gradient descent\n",
    "- zero-centered data\n",
    "- normalized data"
   ]
  },
  {
   "cell_type": "markdown",
   "metadata": {},
   "source": [
    "## Standardization\n",
    "\n",
    "$$ x_j^{'} = \\frac{x_j - \\mu_j}{\\sigma_j}$$\n",
    "X_std[:0] = (X[:,0] - X[:,0].mean()) / X[:, 0].std()"
   ]
  },
  {
   "cell_type": "markdown",
   "metadata": {},
   "source": [
    "## Overfitting\n",
    "- Our model is very good with training data set (with memorization)\n",
    "- Not good at test dataset or in real use"
   ]
  },
  {
   "cell_type": "markdown",
   "metadata": {},
   "source": [
    "## Solutions for overfitting\n",
    "- More training data!\n",
    "- Reduce the number of features\n",
    "- Regularization"
   ]
  },
  {
   "cell_type": "markdown",
   "metadata": {},
   "source": [
    "## Regularization\n",
    "- Let's not have too big numbers in the weight\n",
    "$$\\mathcal{L} = \\frac{1}{N} \\sum_i \\mathcal{D}(S(WX_i + b), L_i) + \\lambda \\sum W^2$$\n",
    "$$\\mathcal{L} : Lost \\;Function$$\n",
    "$$\\lambda : regularization \\;strength$$ \n",
    "\n",
    "l2reg = 0.001 * tf.reduce_sum(tf.square(W))"
   ]
  },
  {
   "cell_type": "markdown",
   "metadata": {},
   "source": [
    "## Summary\n",
    "- Learning rate\n",
    "- Data preprocessing\n",
    "- Overfitting\n",
    "    - More training data\n",
    "    - Regularization"
   ]
  },
  {
   "cell_type": "markdown",
   "metadata": {},
   "source": []
  }
 ],
 "metadata": {
  "kernelspec": {
   "display_name": "Python 3.9.7 ('base')",
   "language": "python",
   "name": "python3"
  },
  "language_info": {
   "name": "python",
   "version": "3.9.7"
  },
  "orig_nbformat": 4,
  "vscode": {
   "interpreter": {
    "hash": "263930470851f494f0ed2879c35b57985588df20f9e529b86e97dd5eb9ddc466"
   }
  }
 },
 "nbformat": 4,
 "nbformat_minor": 2
}
