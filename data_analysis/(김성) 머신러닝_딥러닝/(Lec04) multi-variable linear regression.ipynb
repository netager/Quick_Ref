{
 "cells": [
  {
   "cell_type": "markdown",
   "metadata": {},
   "source": [
    "# Lecture 4 Multivariable linear regression"
   ]
  },
  {
   "cell_type": "markdown",
   "metadata": {},
   "source": [
    "## Recap\n",
    "- Hypothesis\n",
    "    $$H(x) = Wx + b$$\n",
    "\n",
    "- Cost function\n",
    "    $$cost(W, b) = \\frac{1}{m}\\sum_{i=1}^m (H(x^{(i)}) - y^{(i)})^2$$\n",
    "\n",
    "- Gradient descent algorithm\n",
    "    $$W := W -  \\alpha \\frac{\\partial}{\\partial W}\\frac{1}{2m}\\sum_{i=1}^m (Wx^{(i)} - y^{(i)})^2$$"
   ]
  },
  {
   "cell_type": "markdown",
   "metadata": {},
   "source": [
    "## Predicting exam score: regression using one input (x)\n",
    "- one-variable, one-feature\n",
    "    - x(hours) = [10,9,3,2,11]\n",
    "    - y(score) = [90,80,50,60,40]"
   ]
  },
  {
   "cell_type": "markdown",
   "metadata": {},
   "source": [
    "## Predicting exam score: regression using three inputs (x1, x2, x3)\n",
    "- multi-variable/feature\n",
    "    - x1(quiz1)    = [10,9,3,2,11]\n",
    "    - x2(quiz2)    = [90,80,50,60,40]\n",
    "    - x3(midterm1) = [10,9,3,2,11]\n",
    "    - y(final)     = [152,185,180,196,142]"
   ]
  },
  {
   "cell_type": "markdown",
   "metadata": {},
   "source": [
    "## Hypothesis\n",
    "$$H(x) = Wx + b$$\n",
    "$$H(x1,x2,x3) = w_1x_1 + w_2x_2 + w_3x_3 + b$$"
   ]
  },
  {
   "cell_type": "markdown",
   "metadata": {},
   "source": [
    "## Cost function\n",
    "$$H(x1,x2,x3) = w_1x_1 + w_2x_2 + w_3x_3 + b$$\n",
    "$$cost(W, b) = \\frac{1}{m}\\sum_{i=1}^m (H(x_1^{(i)}, x_2^{(i)}, x_3^{(i)}) - y^{(i)})^2$$"
   ]
  },
  {
   "cell_type": "markdown",
   "metadata": {},
   "source": [
    "## Matrix\n",
    "$$w_1x_1 + w_2x_2 + w_3x_3 + ... + w_nx_n$$"
   ]
  },
  {
   "cell_type": "markdown",
   "metadata": {},
   "source": [
    "## Matrix multiplication\n",
    "$$\n",
    "\\begin{bmatrix}\n",
    "    1 & 2 & 3\\\\\n",
    "    4 & 5 & 6\\\\\n",
    "\\end{bmatrix} X \n",
    "\n",
    "\\begin{bmatrix}\n",
    "    7 & 8\\\\\n",
    "    9 & 10\\\\\n",
    "    11 & 12\\\\\n",
    "\\end{bmatrix} =\n",
    "\n",
    "\\begin{bmatrix}\n",
    "    58 & 8\\\\\n",
    "    9 & 10\\\\\n",
    "\\end{bmatrix} \n",
    "$$"
   ]
  },
  {
   "cell_type": "markdown",
   "metadata": {},
   "source": [
    "## Hypothesis using matrix\n",
    "$$w_1x_1 + w_2x_2 + w_3x_3 + ... + w_nx_n$$\n",
    "$$  \\begin{pmatrix}\n",
    "        x_1 & x_2 & x_3\n",
    "    \\end{pmatrix} \n",
    "    \\begin{pmatrix}\n",
    "        w_1 \\\\\n",
    "        w_2 \\\\\n",
    "        w_3\n",
    "    \\end{pmatrix} = \n",
    "    (w_1x_1 + w_2x_2 + w_3x_3)$$\n",
    "$$H(X) = XW$$    "
   ]
  },
  {
   "cell_type": "markdown",
   "metadata": {},
   "source": [
    "## Hypothesis using matrix\n",
    "$$H(x1,x2,x3) = w_1x_1 + w_2x_2 + w_3x_3$$\n",
    "$$  \\begin{pmatrix}\n",
    "        x_1 & x_2 & x_3\n",
    "    \\end{pmatrix} \n",
    "    \\begin{pmatrix}\n",
    "        w_1 \\\\\n",
    "        w_2 \\\\\n",
    "        w_3\n",
    "    \\end{pmatrix} = \n",
    "    (w_1x_1 + w_2x_2 + w_3x_3)\n",
    "$$\n",
    "\n",
    "$$  \\begin{pmatrix}\n",
    "        x_{11} & x_{12} & x_{13} \\\\\n",
    "        x_{21} & x_{22} & x_{23} \\\\\n",
    "        x_{31} & x_{32} & x_{33} \\\\\n",
    "        x_{41} & x_{42} & x_{43} \\\\\n",
    "        x_{51} & x_{52} & x_{53} \\\\\n",
    "    \\end{pmatrix} \n",
    "    \\begin{pmatrix}\n",
    "        w_1 \\\\\n",
    "        w_2 \\\\\n",
    "        w_3\n",
    "    \\end{pmatrix} =\n",
    "    \n",
    "    \\begin{pmatrix}\n",
    "    (x_{11}w_1 + x_{12}w_2 + x_{13}w_3) \\\\\n",
    "    (x_{21}w_1 + x_{22}w_2 + x_{23}w_3) \\\\\n",
    "    (x_{31}w_1 + x_{32}w_2 + x_{33}w_3) \\\\\n",
    "    (x_{41}w_1 + x_{42}w_2 + x_{43}w_3) \\\\\n",
    "    (x_{51}w_1 + x_{52}w_2 + x_{53}w_3) \n",
    "    \\end{pmatrix}\n",
    "$$\n",
    "\n",
    "$$ H(X) = XW$$\n",
    "\n",
    "    - x1 = [73,93,89,96,73]\n",
    "    - x2 = [80,88,91,98,66]\n",
    "    - x3 = [75,93,90,100,70]\n",
    "    - y  = [152,185,180,196,142]"
   ]
  },
  {
   "cell_type": "markdown",
   "metadata": {},
   "source": [
    "## Hypothesis using matrix"
   ]
  },
  {
   "cell_type": "markdown",
   "metadata": {},
   "source": [
    "## Hypothesis using matrix (n output)"
   ]
  },
  {
   "cell_type": "markdown",
   "metadata": {},
   "source": [
    "## WX vs. XW\n",
    "- Lecture (theory):\n",
    "    - $$H(x) = Wx + b$$\n",
    "- Implementation (TensorFlow)    \n",
    "    - $$H(X) = XW$$\n"
   ]
  },
  {
   "cell_type": "markdown",
   "metadata": {},
   "source": [
    "## Queue Runners\n",
    "- 여러개의 파일을 읽어와서 Queue에 쌓고 처리하는 방식\n",
    "\n",
    "1) filename_queue = tf.train.string_input_producer(\n",
    "\n",
    "    ['data-01-test-score.csv', 'data-02-test-score.csv', ...],\n",
    "    \n",
    "    shuffle=False, name='filename_queue')\n",
    "\n",
    "2) reader = tf.TextLineReader()\n",
    "\n",
    "   key, value = reader.read(filename_queue)\n",
    "\n",
    "3) record_defaults = [[0.], [0.], [0.], [0.]]\n",
    "\n",
    "   xy = tf.decode_csv(value, record_defaults=record_defaults)\n",
    "\n",
    "4) train_x_batch, train_y_batch = \n",
    "\n",
    "   tf.train.batch([xy[0:-1], xy[-1]], batch_size=10)\n",
    "\n",
    "   sess = tf.Session()\n",
    "\n",
    "   coord = tf.train.Coordinator()\n",
    "\n",
    "   threads = tf.train.start_queue_runner(sess=sess, coord=coord)\n",
    "\n",
    "   for step in range(2001):\n",
    "      x_batch, y_batch = sess.run([train_x_batch, train_y_batch])\n",
    "      ...\n",
    "   coord.request_stop()\n",
    "   coord.join(threads)\n",
    "\n",
    "<img src=\"./queue_runner.png\" width=\"800px\" height=\"300px\" title=\"Queue Runner\"></img>   "
   ]
  },
  {
   "cell_type": "markdown",
   "metadata": {},
   "source": [
    "## shuffle_batch\n"
   ]
  }
 ],
 "metadata": {
  "kernelspec": {
   "display_name": "Python 3.8.8 ('base')",
   "language": "python",
   "name": "python3"
  },
  "language_info": {
   "name": "python",
   "version": "3.8.8"
  },
  "orig_nbformat": 4,
  "vscode": {
   "interpreter": {
    "hash": "f08154012ddadd8e950e6e9e035c7a7b32c136e7647e9b7c77e02eb723a8bedb"
   }
  }
 },
 "nbformat": 4,
 "nbformat_minor": 2
}
