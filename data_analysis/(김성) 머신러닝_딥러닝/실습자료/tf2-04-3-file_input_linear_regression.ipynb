{
 "cells": [
  {
   "cell_type": "code",
   "execution_count": 2,
   "metadata": {},
   "outputs": [
    {
     "name": "stdout",
     "output_type": "stream",
     "text": [
      "Model: \"sequential_1\"\n",
      "_________________________________________________________________\n",
      " Layer (type)                Output Shape              Param #   \n",
      "=================================================================\n",
      " dense_1 (Dense)             (None, 1)                 4         \n",
      "                                                                 \n",
      "=================================================================\n",
      "Total params: 4\n",
      "Trainable params: 4\n",
      "Non-trainable params: 0\n",
      "_________________________________________________________________\n",
      "1/1 [==============================] - 0s 47ms/step\n",
      "Your score will be  [[206.60896]]\n",
      "1/1 [==============================] - 0s 31ms/step\n",
      "Other scores will be  [[174.05232]\n",
      " [169.57274]]\n"
     ]
    }
   ],
   "source": [
    "import tensorflow as tf\n",
    "import numpy as np\n",
    "\n",
    "xy = np.loadtxt('data-01-test-score.csv', delimiter=',', dtype=np.float32)\n",
    "x_data = xy[:, 0:-1]\n",
    "y_data = xy[:, [-1]]\n",
    "\n",
    "# Make sure the shape and data are OK\n",
    "#print(x_data, \"\\nx_data shape:\", x_data.shape)\n",
    "#print(y_data, \"\\ny_data shape:\", y_data.shape)\n",
    "\n",
    "# data output\n",
    "'''\n",
    "[[ 73.  80.  75.]\n",
    " [ 93.  88.  93.]\n",
    " ...\n",
    " [ 76.  83.  71.]\n",
    " [ 96.  93.  95.]] \n",
    "x_data shape: (25, 3)\n",
    "[[152.]\n",
    " [185.]\n",
    " ...\n",
    " [149.]\n",
    " [192.]] \n",
    "y_data shape: (25, 1)\n",
    "'''\n",
    "tf.model = tf.keras.Sequential()\n",
    "# activation function doesn't have to be added as a separate layer. Add it as an argument of Dense() layer\n",
    "tf.model.add(tf.keras.layers.Dense(units=1, input_dim=3, activation='linear'))\n",
    "# tf.model.add(tf.keras.layers.Activation('linear'))\n",
    "tf.model.summary()\n",
    "\n",
    "tf.model.compile(loss='mse', optimizer=tf.keras.optimizers.SGD(lr=1e-5))\n",
    "history = tf.model.fit(x_data, y_data, epochs=2000, verbose=0)\n",
    "\n",
    "# Ask my score\n",
    "print(\"Your score will be \", tf.model.predict([[100, 70, 101]]))\n",
    "print(\"Other scores will be \", tf.model.predict([[60, 70, 110], [90, 100, 80]]))"
   ]
  },
  {
   "cell_type": "code",
   "execution_count": null,
   "metadata": {},
   "outputs": [],
   "source": []
  }
 ],
 "metadata": {
  "kernelspec": {
   "display_name": "Python 3.9.7 ('base')",
   "language": "python",
   "name": "python3"
  },
  "language_info": {
   "codemirror_mode": {
    "name": "ipython",
    "version": 3
   },
   "file_extension": ".py",
   "mimetype": "text/x-python",
   "name": "python",
   "nbconvert_exporter": "python",
   "pygments_lexer": "ipython3",
   "version": "3.9.7"
  },
  "orig_nbformat": 4,
  "vscode": {
   "interpreter": {
    "hash": "263930470851f494f0ed2879c35b57985588df20f9e529b86e97dd5eb9ddc466"
   }
  }
 },
 "nbformat": 4,
 "nbformat_minor": 2
}
