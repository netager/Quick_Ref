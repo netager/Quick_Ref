{
 "cells": [
  {
   "cell_type": "markdown",
   "metadata": {},
   "source": [
    "# Lecture 5-1 Logistic (regression) classification"
   ]
  },
  {
   "cell_type": "markdown",
   "metadata": {},
   "source": [
    "## Regression(HCG)\n",
    "- Hypothesis  : $$H(X) = XW$$\n",
    "- Cost : $$cost(W) = \\frac{1}{m}\\sum_{i=1}^m (H(x^{(i)}) - y^{(i)})^2$$\n",
    "- Gradient decent: \n",
    "$$W := W -  \\alpha \\frac{\\partial}{\\partial W}cost(W)$$\n"
   ]
  },
  {
   "cell_type": "markdown",
   "metadata": {},
   "source": [
    "## Classfication\n",
    "- Spam Detection: Spam or Ham\n",
    "- Facebook feed: show or  hide\n",
    "- Credit Card Fraudulent Transaction detection: legitimate/fraud"
   ]
  },
  {
   "cell_type": "markdown",
   "metadata": {},
   "source": [
    "##  0, 1 encoding\n",
    "- Spam Detection: Spam(1) or Ham(0)\n",
    "- Facebook feed: show(1) or hide(0)\n",
    "- Credit Card Fraudulent Transaction detection: legitimate(0)/fraud(1)"
   ]
  },
  {
   "cell_type": "markdown",
   "metadata": {},
   "source": [
    "## Radiology\n",
    "- Malignant tumor or Benign tumor"
   ]
  },
  {
   "cell_type": "markdown",
   "metadata": {},
   "source": [
    "## Finance\n",
    "- stocks sell or buy"
   ]
  },
  {
   "cell_type": "markdown",
   "metadata": {},
   "source": [
    "## Pass(1)/Fail(0) based on study hours\n"
   ]
  },
  {
   "cell_type": "markdown",
   "metadata": {},
   "source": [
    "## Linear regression\n",
    "- We know Y is 0 or 1\n",
    "$$H(x) = Wx + b$$\n",
    "\n",
    "- Hypothesis can give values large than 1 or less than 0"
   ]
  },
  {
   "cell_type": "markdown",
   "metadata": {},
   "source": []
  },
  {
   "cell_type": "markdown",
   "metadata": {},
   "source": [
    "## Logistic Hypothesis\n",
    "\n",
    "- sigmoid 함수\n",
    "$$g(z) = \\frac{1}{(1+e^{-z})}$$\n",
    "\n",
    "$$H(x) = \\frac{1}{(1+e^{-(W^TX)})}$$\n",
    "\n"
   ]
  },
  {
   "cell_type": "markdown",
   "metadata": {},
   "source": []
  }
 ],
 "metadata": {
  "kernelspec": {
   "display_name": "Python 3.9.7 ('base')",
   "language": "python",
   "name": "python3"
  },
  "language_info": {
   "name": "python",
   "version": "3.9.7"
  },
  "orig_nbformat": 4,
  "vscode": {
   "interpreter": {
    "hash": "263930470851f494f0ed2879c35b57985588df20f9e529b86e97dd5eb9ddc466"
   }
  }
 },
 "nbformat": 4,
 "nbformat_minor": 2
}
