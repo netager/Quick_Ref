{
 "cells": [
  {
   "cell_type": "markdown",
   "metadata": {},
   "source": [
    "# Lecture 9-1 Neural Nets(NN) for XOR"
   ]
  },
  {
   "cell_type": "markdown",
   "metadata": {},
   "source": [
    "## One logistic regression unit cannot separate XOR"
   ]
  },
  {
   "cell_type": "markdown",
   "metadata": {},
   "source": [
    "## Multiple logistic regression units"
   ]
  },
  {
   "cell_type": "markdown",
   "metadata": {},
   "source": [
    "## Neural Network(NN)\n",
    "\"No one on earth had found a viable way to train\"\n",
    "\n",
    "<img src=\"./nn.png\" width=\"900px\" height=\"500px\" title=\"Queue Runner\"></img>\n"
   ]
  },
  {
   "cell_type": "markdown",
   "metadata": {},
   "source": [
    "## XOR using NN\n",
    "\n",
    "\n",
    "<img src=\"./xor.png\" width=\"900px\" height=\"500px\" title=\"Queue Runner\"></img>\n",
    "<img src=\"./xor1.jpg\" width=\"900px\" height=\"500px\" title=\"Queue Runner\"></img>\n"
   ]
  },
  {
   "cell_type": "markdown",
   "metadata": {},
   "source": [
    "## Neural Net\n",
    "\n",
    "<img src=\"./xor2.png\" width=\"900px\" height=\"500px\" title=\"Queue Runner\"></img>"
   ]
  },
  {
   "cell_type": "markdown",
   "metadata": {},
   "source": [
    "## Forward propagation\n",
    "\n",
    "<img src=\"./xor4.png\" width=\"900px\" height=\"500px\" title=\"Queue Runner\"></img>"
   ]
  },
  {
   "cell_type": "markdown",
   "metadata": {},
   "source": [
    "## NN\n",
    "\n",
    "<img src=\"./xor5.png\" width=\"900px\" height=\"500px\" title=\"Queue Runner\"></img>\n",
    "<img src=\"./xor6.png\" width=\"900px\" height=\"500px\" title=\"Queue Runner\"></img>"
   ]
  },
  {
   "cell_type": "markdown",
   "metadata": {},
   "source": []
  }
 ],
 "metadata": {
  "kernelspec": {
   "display_name": "Python 3.8.8 ('base')",
   "language": "python",
   "name": "python3"
  },
  "language_info": {
   "name": "python",
   "version": "3.8.8"
  },
  "orig_nbformat": 4,
  "vscode": {
   "interpreter": {
    "hash": "f08154012ddadd8e950e6e9e035c7a7b32c136e7647e9b7c77e02eb723a8bedb"
   }
  }
 },
 "nbformat": 4,
 "nbformat_minor": 2
}
