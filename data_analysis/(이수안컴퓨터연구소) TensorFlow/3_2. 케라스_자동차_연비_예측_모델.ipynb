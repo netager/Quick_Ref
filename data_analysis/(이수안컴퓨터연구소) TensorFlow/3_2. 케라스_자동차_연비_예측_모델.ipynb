{
  "nbformat": 4,
  "nbformat_minor": 0,
  "metadata": {
    "colab": {
      "provenance": [],
      "collapsed_sections": []
    },
    "kernelspec": {
      "name": "python3",
      "display_name": "Python 3"
    }
  },
  "cells": [
    {
      "cell_type": "markdown",
      "metadata": {
        "id": "AG5Q_Uu-qiI2"
      },
      "source": [
        "## 케라스 자동차 연비 예측 모델\n",
        "\n",
        "- Source : https://www.tensorflow.org/tutorials/keras/regression"
      ]
    },
    {
      "cell_type": "markdown",
      "metadata": {
        "id": "_Rr9jWKngOgy"
      },
      "source": [
        "### modules import"
      ]
    },
    {
      "cell_type": "code",
      "metadata": {
        "id": "4PSytyWKfLOZ"
      },
      "source": [],
      "execution_count": null,
      "outputs": []
    },
    {
      "cell_type": "code",
      "metadata": {
        "id": "HDUAQWo3QhmG"
      },
      "source": [],
      "execution_count": null,
      "outputs": []
    },
    {
      "cell_type": "markdown",
      "metadata": {
        "id": "v-vEZFgsgpuQ"
      },
      "source": [
        "### 데이터 로드"
      ]
    },
    {
      "cell_type": "code",
      "metadata": {
        "id": "aTcmFf0dgccf"
      },
      "source": [],
      "execution_count": null,
      "outputs": []
    },
    {
      "cell_type": "code",
      "metadata": {
        "id": "MiAfXha5gsmg"
      },
      "source": [],
      "execution_count": null,
      "outputs": []
    },
    {
      "cell_type": "markdown",
      "metadata": {
        "id": "kZ65CxI8hEq2"
      },
      "source": [
        "### 데이터 확인"
      ]
    },
    {
      "cell_type": "code",
      "metadata": {
        "id": "KJbyeHhTg2T8"
      },
      "source": [],
      "execution_count": null,
      "outputs": []
    },
    {
      "cell_type": "markdown",
      "metadata": {
        "id": "eaaVxpxRhHP4"
      },
      "source": [
        "### 데이터 전처리\n"
      ]
    },
    {
      "cell_type": "markdown",
      "metadata": {
        "id": "3LTwaT2chT4f"
      },
      "source": [
        "- 해당 데이터는 일부 데이터가 누락되어 있음"
      ]
    },
    {
      "cell_type": "code",
      "metadata": {
        "id": "txLDRNShg3Ig"
      },
      "source": [],
      "execution_count": null,
      "outputs": []
    },
    {
      "cell_type": "markdown",
      "metadata": {
        "id": "7oxL9L4KhQpM"
      },
      "source": [
        "- 누락된 행 삭제"
      ]
    },
    {
      "cell_type": "code",
      "metadata": {
        "id": "iSufLyzKhL33"
      },
      "source": [],
      "execution_count": null,
      "outputs": []
    },
    {
      "cell_type": "markdown",
      "metadata": {
        "id": "8iv3HflBhgBl"
      },
      "source": [
        "- \"Origin\" 범주형 데이터\n",
        "  - 원-핫 인코딩(one-hot encoding) 진행"
      ]
    },
    {
      "cell_type": "code",
      "metadata": {
        "id": "Ku5RGZM2h6UW"
      },
      "source": [],
      "execution_count": null,
      "outputs": []
    },
    {
      "cell_type": "code",
      "metadata": {
        "id": "NxwouNjIhQHJ"
      },
      "source": [],
      "execution_count": null,
      "outputs": []
    },
    {
      "cell_type": "code",
      "metadata": {
        "id": "WRRmHsYThZfU"
      },
      "source": [],
      "execution_count": null,
      "outputs": []
    },
    {
      "cell_type": "markdown",
      "metadata": {
        "id": "4kICQKA4ilf4"
      },
      "source": [
        "#### 검증 데이터셋 생성"
      ]
    },
    {
      "cell_type": "code",
      "metadata": {
        "id": "YUEZfT46h1pJ"
      },
      "source": [],
      "execution_count": null,
      "outputs": []
    },
    {
      "cell_type": "markdown",
      "metadata": {
        "id": "7NPiS8NEi7Lv"
      },
      "source": [
        "#### 데이터 조사"
      ]
    },
    {
      "cell_type": "code",
      "metadata": {
        "id": "yLpqn3enirF9"
      },
      "source": [],
      "execution_count": null,
      "outputs": []
    },
    {
      "cell_type": "code",
      "metadata": {
        "id": "wQSp4xCiit80"
      },
      "source": [],
      "execution_count": null,
      "outputs": []
    },
    {
      "cell_type": "markdown",
      "metadata": {
        "id": "xCCmA-3djFsG"
      },
      "source": [
        "#### 데이터의 특성과 레이블 분리"
      ]
    },
    {
      "cell_type": "code",
      "metadata": {
        "id": "3KdR3Kisi0We"
      },
      "source": [],
      "execution_count": null,
      "outputs": []
    },
    {
      "cell_type": "markdown",
      "metadata": {
        "id": "1A-Bjz0zjNAv"
      },
      "source": [
        "#### 데이터 정규화"
      ]
    },
    {
      "cell_type": "code",
      "metadata": {
        "id": "ei3NZJ0qjJ20"
      },
      "source": [],
      "execution_count": null,
      "outputs": []
    },
    {
      "cell_type": "markdown",
      "metadata": {
        "id": "wz_TfWQmjVZy"
      },
      "source": [
        "### 모델 구성"
      ]
    },
    {
      "cell_type": "code",
      "metadata": {
        "id": "Ntz9c8DfjP75"
      },
      "source": [],
      "execution_count": null,
      "outputs": []
    },
    {
      "cell_type": "code",
      "metadata": {
        "id": "ibCcNSiRkQQQ"
      },
      "source": [],
      "execution_count": null,
      "outputs": []
    },
    {
      "cell_type": "code",
      "metadata": {
        "id": "pMxwvb4LkTHt"
      },
      "source": [],
      "execution_count": null,
      "outputs": []
    },
    {
      "cell_type": "code",
      "metadata": {
        "id": "PLSTcwwFkUgt"
      },
      "source": [],
      "execution_count": null,
      "outputs": []
    },
    {
      "cell_type": "markdown",
      "metadata": {
        "id": "BBkjT44zkw1K"
      },
      "source": [
        "### 샘플 데이터 확인"
      ]
    },
    {
      "cell_type": "code",
      "metadata": {
        "id": "GQ0Vc-yokkG-"
      },
      "source": [],
      "execution_count": null,
      "outputs": []
    },
    {
      "cell_type": "markdown",
      "metadata": {
        "id": "-moOic_bk_vq"
      },
      "source": [
        "### 모델 학습"
      ]
    },
    {
      "cell_type": "code",
      "metadata": {
        "id": "w3vhCJYKk77A"
      },
      "source": [],
      "execution_count": null,
      "outputs": []
    },
    {
      "cell_type": "markdown",
      "metadata": {
        "id": "ubk0O4_KmiWy"
      },
      "source": [
        "### 모델 학습 시각화"
      ]
    },
    {
      "cell_type": "code",
      "metadata": {
        "id": "KU858ATWm51n"
      },
      "source": [],
      "execution_count": null,
      "outputs": []
    },
    {
      "cell_type": "code",
      "metadata": {
        "id": "ZNJPvJOUlRId"
      },
      "source": [],
      "execution_count": null,
      "outputs": []
    },
    {
      "cell_type": "code",
      "metadata": {
        "id": "liQIEC9Kmxvp"
      },
      "source": [],
      "execution_count": null,
      "outputs": []
    },
    {
      "cell_type": "markdown",
      "metadata": {
        "id": "YrgzOyZfo95D"
      },
      "source": [
        "### EarlyStopping을 이용한 규제화"
      ]
    },
    {
      "cell_type": "code",
      "metadata": {
        "id": "rV-0l-2QpEEf"
      },
      "source": [],
      "execution_count": null,
      "outputs": []
    },
    {
      "cell_type": "code",
      "metadata": {
        "id": "bk2oafpzoVrx"
      },
      "source": [],
      "execution_count": null,
      "outputs": []
    },
    {
      "cell_type": "code",
      "metadata": {
        "id": "QDw0js3ko6q9"
      },
      "source": [],
      "execution_count": null,
      "outputs": []
    },
    {
      "cell_type": "markdown",
      "metadata": {
        "id": "rm_U3X5ppw-f"
      },
      "source": [
        "### 모델 평가"
      ]
    },
    {
      "cell_type": "code",
      "metadata": {
        "id": "b7GwFWyNpkdv"
      },
      "source": [],
      "execution_count": null,
      "outputs": []
    },
    {
      "cell_type": "markdown",
      "metadata": {
        "id": "srbiGiM5p9F_"
      },
      "source": [
        "### 학습된 모델을 통한 예측"
      ]
    },
    {
      "cell_type": "code",
      "metadata": {
        "id": "8DASKBNKpvp8"
      },
      "source": [],
      "execution_count": null,
      "outputs": []
    },
    {
      "cell_type": "code",
      "metadata": {
        "id": "B9Zm_qKGqBfK"
      },
      "source": [],
      "execution_count": null,
      "outputs": []
    }
  ]
}