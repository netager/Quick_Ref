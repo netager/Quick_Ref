{
  "cells": [
    {
      "cell_type": "markdown",
      "metadata": {
        "id": "YmY-0QeUYcaa"
      },
      "source": [
        "# 케라스(Keras) 기초부터 모델 생성까지\n",
        "\n",
        "<img src=\"https://s3.amazonaws.com/keras.io/img/keras-logo-2018-large-1200.png\">\n",
        "\n",
        "- 파이썬으로 작성된 고수준 신경망 API로 TensorFlow, CNTK, 혹은 Theano와 함께 사용 가능\n",
        "- 사용자 친화성, 모듈성, 확장성을 통해 빠르고 간편한 프로토타이핑 가능\n",
        "- 컨볼루션 신경망, 순환 신경망, 그리고 둘의 조합까지 모두 지원\n",
        "- CPU와 GPU에서 매끄럽게 실행"
      ]
    },
    {
      "cell_type": "code",
      "execution_count": 10,
      "metadata": {
        "id": "qBkF9tvAbX08"
      },
      "outputs": [
        {
          "data": {
            "text/plain": [
              "'2.10.0'"
            ]
          },
          "execution_count": 10,
          "metadata": {},
          "output_type": "execute_result"
        }
      ],
      "source": [
        "import numpy as np\n",
        "import tensorflow as tf\n",
        "\n",
        "tf.__version__"
      ]
    },
    {
      "cell_type": "markdown",
      "metadata": {
        "id": "ih4Nb7nMbfMc"
      },
      "source": [
        "레이어들을 import하는 방식 (1)\n",
        "- 일일이 import 하지 않아도 됨\n",
        "\n",
        "- 코드가 다소 길어질 수 있음"
      ]
    },
    {
      "cell_type": "code",
      "execution_count": 11,
      "metadata": {
        "id": "76J3cta0bd0e"
      },
      "outputs": [
        {
          "data": {
            "text/plain": [
              "'2.10.0'"
            ]
          },
          "execution_count": 11,
          "metadata": {},
          "output_type": "execute_result"
        }
      ],
      "source": [
        "from tensorflow import keras\n",
        "keras.__version__"
      ]
    },
    {
      "cell_type": "code",
      "execution_count": 12,
      "metadata": {
        "id": "JZondHPTb6Vx"
      },
      "outputs": [
        {
          "data": {
            "text/plain": [
              "<keras.layers.core.dense.Dense at 0x15eb4600b80>"
            ]
          },
          "execution_count": 12,
          "metadata": {},
          "output_type": "execute_result"
        }
      ],
      "source": [
        "keras.layers.Dense(10, activation='sigmoid')"
      ]
    },
    {
      "cell_type": "code",
      "execution_count": 13,
      "metadata": {
        "id": "inaUuk6Nb84X"
      },
      "outputs": [
        {
          "data": {
            "text/plain": [
              "<keras.engine.training.Model at 0x15eaa30c760>"
            ]
          },
          "execution_count": 13,
          "metadata": {},
          "output_type": "execute_result"
        }
      ],
      "source": [
        "keras.Model()"
      ]
    },
    {
      "cell_type": "code",
      "execution_count": 14,
      "metadata": {
        "id": "NBNQZ7GxcF2H"
      },
      "outputs": [
        {
          "data": {
            "text/plain": [
              "<keras.engine.sequential.Sequential at 0x15eb4967250>"
            ]
          },
          "execution_count": 14,
          "metadata": {},
          "output_type": "execute_result"
        }
      ],
      "source": [
        "keras.models.Sequential()"
      ]
    },
    {
      "cell_type": "markdown",
      "metadata": {
        "id": "XseyoEwjbrO-"
      },
      "source": [
        "레이어들을 import하는 방식 (2)\n",
        "- 일일이 import 해야함\n",
        "- 코드가 간결"
      ]
    },
    {
      "cell_type": "code",
      "execution_count": 15,
      "metadata": {
        "id": "W8WLjvCZbwoF"
      },
      "outputs": [],
      "source": [
        "from tensorflow.keras.layers import Dense, Input, Flatten, Activation\n",
        "from tensorflow.keras.models import Sequential\n",
        "from tensorflow.keras import Model"
      ]
    },
    {
      "cell_type": "code",
      "execution_count": 16,
      "metadata": {
        "id": "nYcV0CnVcWJO"
      },
      "outputs": [
        {
          "data": {
            "text/plain": [
              "<keras.layers.core.dense.Dense at 0x15eb4967e50>"
            ]
          },
          "execution_count": 16,
          "metadata": {},
          "output_type": "execute_result"
        }
      ],
      "source": [
        "Dense(10, activation='relu')"
      ]
    },
    {
      "cell_type": "code",
      "execution_count": 17,
      "metadata": {
        "id": "RMd9TR6FcWDr"
      },
      "outputs": [
        {
          "data": {
            "text/plain": [
              "<keras.layers.reshaping.flatten.Flatten at 0x15eb4967bb0>"
            ]
          },
          "execution_count": 17,
          "metadata": {},
          "output_type": "execute_result"
        }
      ],
      "source": [
        "Flatten(input_shape=[28,28])"
      ]
    },
    {
      "cell_type": "code",
      "execution_count": 22,
      "metadata": {
        "id": "8_Ho3qKbcjOr"
      },
      "outputs": [
        {
          "data": {
            "text/plain": [
              "<KerasTensor: shape=(None, 2) dtype=float32 (created by layer 'input_1')>"
            ]
          },
          "execution_count": 22,
          "metadata": {},
          "output_type": "execute_result"
        }
      ],
      "source": [
        "X_train = np.random.randn(5500, 2)\n",
        "Input(shape=X_train.shape[1:])"
      ]
    },
    {
      "cell_type": "code",
      "execution_count": 24,
      "metadata": {},
      "outputs": [
        {
          "data": {
            "text/plain": [
              "(2,)"
            ]
          },
          "execution_count": 24,
          "metadata": {},
          "output_type": "execute_result"
        }
      ],
      "source": [
        "X_train.shape[1:]"
      ]
    },
    {
      "cell_type": "markdown",
      "metadata": {
        "id": "1Qz5gkr70p12"
      },
      "source": [
        "## 주요 레이어"
      ]
    },
    {
      "cell_type": "markdown",
      "metadata": {
        "id": "Vl0XJyRvbNh5"
      },
      "source": [
        "### Dense\n",
        "- Fully-Connected Layer\n",
        "\n",
        "- 노드수(유닛수), 활성화 함수 등을 지정\n",
        "\n",
        "- name을 통한 레이어간 구분 가능\n",
        "\n",
        "- 기본적으로  \n",
        "  'Glorot_uniform' 가중치, zeros bias로 초기화\n",
        "  - kernel_initializer 인자를 통해 다른 가중치 초기화를 진행할 수 있음"
      ]
    },
    {
      "cell_type": "code",
      "execution_count": null,
      "metadata": {
        "id": "0By3apmYYe31"
      },
      "outputs": [],
      "source": []
    },
    {
      "cell_type": "code",
      "execution_count": null,
      "metadata": {
        "id": "KUAMqoGNd9gq"
      },
      "outputs": [],
      "source": []
    },
    {
      "cell_type": "code",
      "execution_count": null,
      "metadata": {
        "id": "nhb-kQGzhJWC"
      },
      "outputs": [],
      "source": []
    },
    {
      "cell_type": "code",
      "execution_count": null,
      "metadata": {
        "id": "IF_zVkbnhJPz"
      },
      "outputs": [],
      "source": []
    },
    {
      "cell_type": "markdown",
      "metadata": {
        "id": "v6kPbw7ZJ0W5"
      },
      "source": [
        "### Activation\n",
        "- Dense layer에서 미리 활성화함수를 지정할 수도 있지만 때에 따라서 따로 레이어를 만들어줄 수 있음"
      ]
    },
    {
      "cell_type": "code",
      "execution_count": null,
      "metadata": {
        "id": "71iUDTGUJ8vu"
      },
      "outputs": [],
      "source": []
    },
    {
      "cell_type": "markdown",
      "metadata": {
        "id": "NYDu0hcJejJh"
      },
      "source": [
        "### Flatten\n",
        "- 배치 크기(또는 데이터 크기)를 제외하고 데이터를 1차원으로 쭉 펼치는 작업\n",
        "\n",
        "- 예시)\n",
        "        (128, 3, 2, 2) ---> (128, 12)\n",
        "      "
      ]
    },
    {
      "cell_type": "code",
      "execution_count": null,
      "metadata": {
        "id": "3HzBfkjRd-dN"
      },
      "outputs": [],
      "source": []
    },
    {
      "cell_type": "markdown",
      "metadata": {
        "id": "gREcwh2cg1Zc"
      },
      "source": [
        "### Input \n",
        "- 모델의 입력을 정의\n",
        "\n",
        "- shape, dtype을 포함\n",
        "\n",
        "- 하나의 모델은 여러 개의 입력을 가질 수 있음\n",
        "\n",
        "- summary() 메소드를 통해서는 보이지 않음"
      ]
    },
    {
      "cell_type": "code",
      "execution_count": null,
      "metadata": {
        "id": "2_kWKUMUefMf"
      },
      "outputs": [],
      "source": []
    },
    {
      "cell_type": "code",
      "execution_count": null,
      "metadata": {
        "id": "1ErOXHCgh6gq"
      },
      "outputs": [],
      "source": []
    },
    {
      "cell_type": "code",
      "execution_count": null,
      "metadata": {
        "id": "ic2vspIbh87y"
      },
      "outputs": [],
      "source": []
    },
    {
      "cell_type": "markdown",
      "metadata": {
        "id": "_BMMAUoKjVC6"
      },
      "source": [
        "## 모델 구성 방법\n",
        "- Sequential()\n",
        "\n",
        "- 서브클래싱(Subclassing)\n",
        "\n",
        "- 함수형 API"
      ]
    },
    {
      "cell_type": "markdown",
      "metadata": {
        "id": "QckCD5TQjubf"
      },
      "source": [
        "### Sequential()\n",
        "\n",
        "- 모델이 순차적으로 진행할 때 사용\n",
        "\n",
        "- 간단한 방법\n",
        "  - Sequential 객체 생성 후, **add**를 통한 방법\n",
        "  \n",
        "  - Sequential 인자에 한번에 추가\n",
        "\n",
        "- 다중 입력 및 출력이 존재하는 등의 복잡한 모델을 구성할 수 없음\n"
      ]
    },
    {
      "cell_type": "code",
      "execution_count": null,
      "metadata": {
        "id": "0TaLg9w4h9_Z"
      },
      "outputs": [],
      "source": []
    },
    {
      "cell_type": "code",
      "execution_count": null,
      "metadata": {
        "id": "AaZWV6DckLz-"
      },
      "outputs": [],
      "source": []
    },
    {
      "cell_type": "markdown",
      "metadata": {
        "id": "uPelUwFwk-ap"
      },
      "source": [
        "모델 구조 확인\n",
        "- model 객체의 **summary()** 이용"
      ]
    },
    {
      "cell_type": "code",
      "execution_count": null,
      "metadata": {
        "id": "11qLpBoRkVd6"
      },
      "outputs": [],
      "source": []
    },
    {
      "cell_type": "code",
      "execution_count": null,
      "metadata": {
        "id": "4AO6KrJzlAwh"
      },
      "outputs": [],
      "source": []
    },
    {
      "cell_type": "code",
      "execution_count": null,
      "metadata": {
        "id": "ezAsiEPhJWsU"
      },
      "outputs": [],
      "source": []
    },
    {
      "cell_type": "code",
      "execution_count": null,
      "metadata": {
        "id": "ktw3lIKKlDx5"
      },
      "outputs": [],
      "source": []
    },
    {
      "cell_type": "code",
      "execution_count": null,
      "metadata": {
        "id": "SqNs_lvWlrfg"
      },
      "outputs": [],
      "source": []
    },
    {
      "cell_type": "code",
      "execution_count": null,
      "metadata": {
        "id": "ePBTYE0FltI_"
      },
      "outputs": [],
      "source": []
    },
    {
      "cell_type": "code",
      "execution_count": null,
      "metadata": {
        "id": "ohU5iTldJOXT"
      },
      "outputs": [],
      "source": []
    },
    {
      "cell_type": "markdown",
      "metadata": {
        "id": "ZM04XyfbrBpX"
      },
      "source": [
        "### 함수형 API\n",
        "\n",
        "- 가장 권장되는 방벚\n",
        "\n",
        "- 모델을 복잡하고, 유연하게 구성 가능\n",
        "\n",
        "- 다중 입출력을 다룰 수 있음"
      ]
    },
    {
      "cell_type": "code",
      "execution_count": null,
      "metadata": {
        "id": "0XjcLyjetLdh"
      },
      "outputs": [],
      "source": []
    },
    {
      "cell_type": "code",
      "execution_count": null,
      "metadata": {
        "id": "IvJZX1mbtZNm"
      },
      "outputs": [],
      "source": []
    },
    {
      "cell_type": "code",
      "execution_count": null,
      "metadata": {
        "id": "_C4-YXaYtZG2"
      },
      "outputs": [],
      "source": []
    },
    {
      "cell_type": "code",
      "execution_count": null,
      "metadata": {
        "id": "541mCIP_utZ0"
      },
      "outputs": [],
      "source": []
    },
    {
      "cell_type": "code",
      "execution_count": null,
      "metadata": {
        "id": "9eqHbjseuzmi"
      },
      "outputs": [],
      "source": []
    },
    {
      "cell_type": "code",
      "execution_count": null,
      "metadata": {
        "id": "4zp-khCAJ_Rg"
      },
      "outputs": [],
      "source": []
    },
    {
      "cell_type": "code",
      "execution_count": null,
      "metadata": {
        "id": "3iAC6QhRwsBn"
      },
      "outputs": [],
      "source": []
    },
    {
      "cell_type": "code",
      "execution_count": null,
      "metadata": {
        "id": "c2VgxtTgwr5_"
      },
      "outputs": [],
      "source": []
    },
    {
      "cell_type": "code",
      "execution_count": null,
      "metadata": {
        "id": "rMPkFz43xvwA"
      },
      "outputs": [],
      "source": []
    },
    {
      "cell_type": "code",
      "execution_count": null,
      "metadata": {
        "id": "Mcq5LtfcKBh_"
      },
      "outputs": [],
      "source": []
    },
    {
      "cell_type": "code",
      "execution_count": null,
      "metadata": {
        "id": "wvtGiFj6x6qa"
      },
      "outputs": [],
      "source": []
    },
    {
      "cell_type": "code",
      "execution_count": null,
      "metadata": {
        "id": "aVvTOFzfx61O"
      },
      "outputs": [],
      "source": []
    },
    {
      "cell_type": "code",
      "execution_count": null,
      "metadata": {
        "id": "nfxZETTvx6zE"
      },
      "outputs": [],
      "source": []
    },
    {
      "cell_type": "code",
      "execution_count": null,
      "metadata": {
        "id": "xkJlrolMKD6B"
      },
      "outputs": [],
      "source": []
    },
    {
      "cell_type": "code",
      "execution_count": null,
      "metadata": {
        "id": "qGorWfShzuYS"
      },
      "outputs": [],
      "source": []
    },
    {
      "cell_type": "code",
      "execution_count": null,
      "metadata": {
        "id": "r-VZlGGczugL"
      },
      "outputs": [],
      "source": []
    },
    {
      "cell_type": "code",
      "execution_count": null,
      "metadata": {
        "id": "VWiRsHIB0ROK"
      },
      "outputs": [],
      "source": []
    },
    {
      "cell_type": "code",
      "execution_count": null,
      "metadata": {
        "id": "121rkvNOKF43"
      },
      "outputs": [],
      "source": []
    },
    {
      "cell_type": "code",
      "execution_count": null,
      "metadata": {
        "id": "i31xM7skx6xD"
      },
      "outputs": [],
      "source": []
    },
    {
      "cell_type": "code",
      "execution_count": null,
      "metadata": {
        "id": "tmD5BP2izGQJ"
      },
      "outputs": [],
      "source": []
    },
    {
      "cell_type": "code",
      "execution_count": null,
      "metadata": {
        "id": "0UjQwGT-x6Bo"
      },
      "outputs": [],
      "source": []
    },
    {
      "cell_type": "code",
      "execution_count": null,
      "metadata": {
        "id": "QpuecYvrKH_i"
      },
      "outputs": [],
      "source": []
    },
    {
      "cell_type": "markdown",
      "metadata": {
        "id": "MRQUHfuHmW9a"
      },
      "source": [
        "### 서브클래싱(Subclassing)\n",
        "- 커스터마이징에 최적화된 방법\n",
        "\n",
        "- Model 클래스를 상속받아 Model이 포함하는 기능을 사용할 수 있음  \n",
        "  - `fit()`, `evaluate()`, `predict()`\n",
        "  - `save()`, `load()`\n",
        "\n",
        "- 주로 `call()` 메소드안에서 원하는 계산 가능\n",
        "  - for, if, 저수준 연산 등\n",
        "\n",
        "- 권장되는 방법은 아니지만 어떤 모델의 구현 코드를 참고할 때  \n",
        "  해석할 수 있어야함"
      ]
    },
    {
      "cell_type": "code",
      "execution_count": null,
      "metadata": {
        "id": "J8edl37Ylv7h"
      },
      "outputs": [],
      "source": []
    },
    {
      "cell_type": "code",
      "execution_count": null,
      "metadata": {
        "id": "7JKLw7bNsRcr"
      },
      "outputs": [],
      "source": []
    },
    {
      "cell_type": "markdown",
      "metadata": {
        "id": "a8TkTb9x6_KI"
      },
      "source": [
        "## 모델 가중치 확인"
      ]
    },
    {
      "cell_type": "code",
      "execution_count": null,
      "metadata": {
        "id": "A12S4z1qpfwh"
      },
      "outputs": [],
      "source": []
    },
    {
      "cell_type": "code",
      "execution_count": null,
      "metadata": {
        "id": "HLgHWRTv7D2L"
      },
      "outputs": [],
      "source": []
    },
    {
      "cell_type": "code",
      "execution_count": null,
      "metadata": {
        "id": "b_34PqiU7Dvz"
      },
      "outputs": [],
      "source": []
    },
    {
      "cell_type": "markdown",
      "metadata": {
        "id": "KK-5msf3qRo0"
      },
      "source": [
        "모델의 레이어들이 리스트로 표현됨\n"
      ]
    },
    {
      "cell_type": "code",
      "execution_count": null,
      "metadata": {
        "id": "Tf2F-J8vpi49"
      },
      "outputs": [],
      "source": []
    },
    {
      "cell_type": "code",
      "execution_count": null,
      "metadata": {
        "id": "-aHbATTApi0h"
      },
      "outputs": [],
      "source": []
    },
    {
      "cell_type": "markdown",
      "metadata": {
        "id": "t1DREsBb5iJE"
      },
      "source": [
        "위의 layer name 참고"
      ]
    },
    {
      "cell_type": "code",
      "execution_count": null,
      "metadata": {
        "id": "nCrffB2wqNW8"
      },
      "outputs": [],
      "source": []
    },
    {
      "cell_type": "code",
      "execution_count": null,
      "metadata": {
        "id": "OJGopmDxqcO1"
      },
      "outputs": [],
      "source": []
    },
    {
      "cell_type": "code",
      "execution_count": null,
      "metadata": {
        "id": "j7zkvduWqhhw"
      },
      "outputs": [],
      "source": []
    },
    {
      "cell_type": "code",
      "execution_count": null,
      "metadata": {
        "id": "jZsI7ExUqhcH"
      },
      "outputs": [],
      "source": []
    },
    {
      "cell_type": "code",
      "execution_count": null,
      "metadata": {
        "id": "yS8ljwRlqkMc"
      },
      "outputs": [],
      "source": []
    },
    {
      "cell_type": "markdown",
      "metadata": {
        "id": "PTFFAcfb2DSF"
      },
      "source": [
        "## 모델 컴파일(compile)\n",
        "\n",
        "- 모델을 구성한 후, 사용할 손실함수(loss), 옵티마이저(optimizer)를 지정\n"
      ]
    },
    {
      "cell_type": "code",
      "execution_count": null,
      "metadata": {
        "id": "jp4t9-iF2xpN"
      },
      "outputs": [],
      "source": []
    },
    {
      "cell_type": "markdown",
      "metadata": {
        "id": "a8Y5B43W3EmY"
      },
      "source": [
        "### 참고1\n",
        "\n",
        "#### loss\n",
        "- `keras.losses.sparse_categorical_crossentropy` 등과 같이 지정 가능\n",
        "  - `sparse_categorical_crossentropy`  \n",
        "    클래스가 배타적, 즉 MNIST 예제에서 (0, 1, 2, ..., 9)와 같은 방식으로 구분되어 있을 때 사용\n",
        "\n",
        "  - `categorical_cross_entropy`\n",
        "    클래스가 원-핫 인코딩 방식으로 되어 있을 때 사용\n",
        "\n",
        "  - `binary_crossentropy`\n",
        "  이진 분류를 수행할 때 사용\n",
        "\n",
        "\n",
        "#### optimizer\n",
        "- `keras.optimizer.SGD()` 등과 같이 사용 가능\n",
        "  - 보통 옵티마이저의 튜닝을 위해 따로 객체를 생성하여 컴파일    \n",
        "        optimizer = keras.optimizer.SGD(learning_rate=1e-5)  \n",
        "        model.compile(...,\n",
        "                      optimizer=optimzer,\n",
        "                      ...)\n",
        "\n",
        "- `keras.optimizer.Adam()` 도 많이 사용\n",
        "\n",
        "#### metrics\n",
        "- 모니터링할 지표\n",
        "\n",
        "- 주로 'accuracy', 'acc'로도 가능\n"
      ]
    },
    {
      "cell_type": "markdown",
      "metadata": {
        "id": "8k7z79M1Kv-x"
      },
      "source": [
        "### 참고2 - 컴파일 설정 예시\n",
        "- 평균 제곱 오차 회귀 문제  \n",
        "      model.compile(loss = 'mse',  \n",
        "                    optimizer = RMSprop(),  \n",
        "                    metrics=['mae'])\n",
        "\n",
        "- 이진 분류\n",
        "      model.compile(loss = 'binary_crossentropy',  \n",
        "                    optimizer = RMSprop(),  \n",
        "                    metrics=['accuracy])\n",
        "\n",
        "\n",
        "\n",
        "- 다항 분류\n",
        "      model.compile(loss = 'categorical_crossentropy',  \n",
        "                    optimizer = RMSprop(),  \n",
        "                    metrics=['accuracy])\n",
        " \n"
      ]
    },
    {
      "cell_type": "markdown",
      "metadata": {
        "id": "hKAtKRop3AvE"
      },
      "source": [
        "## 모델 훈련, 평가 및 예측\n",
        "- `fit()` 함수\n",
        "\n",
        "  - train_data(학습 데이터), train_label(데이터의 정답)\n",
        "  \n",
        "  - epochs\n",
        "  \n",
        "  - batch_size\n",
        "  \n",
        "  - validation_data\n",
        "\n",
        "- `evaluate()` 함수\n",
        "  - 테스트 데이터\n",
        "\n",
        "\n",
        "- `predict()`\n",
        "  임의의 데이터를 인자로 넣어 예측 가능"
      ]
    },
    {
      "cell_type": "markdown",
      "metadata": {
        "id": "WDPKNEsm2qTQ"
      },
      "source": [
        "## MNIST 예제를 통해 모델 구성하기\n",
        "\n",
        "- keras.datasets 에 포함되어 있는 데이터셋\n",
        "\n",
        "  <img src=\"https://storage.googleapis.com/tfds-data/visualization/fig/mnist-3.0.1.png\" width=\"400\">\n",
        "\n",
        "  <sub>출처: https://www.tensorflow.org/datasets/catalog/mnist</sub>"
      ]
    },
    {
      "cell_type": "markdown",
      "metadata": {
        "id": "Q1CMnkAQGvYE"
      },
      "source": [
        "### modules import"
      ]
    },
    {
      "cell_type": "code",
      "execution_count": null,
      "metadata": {
        "id": "1AKwa2VeGxqf"
      },
      "outputs": [],
      "source": []
    },
    {
      "cell_type": "markdown",
      "metadata": {
        "id": "vEJBVkwzGpsX"
      },
      "source": [
        "### 데이터셋 로드\n",
        "- MNIST 데이터셋을 로드\n",
        "\n",
        "- Train Data 중, 30%를 검증 데이터(valiation data)로 사용\n"
      ]
    },
    {
      "cell_type": "code",
      "execution_count": null,
      "metadata": {
        "id": "_OGqRrXg2URI"
      },
      "outputs": [],
      "source": []
    },
    {
      "cell_type": "markdown",
      "metadata": {
        "id": "Vyci_3GlH52j"
      },
      "source": [
        "### 데이터 확인"
      ]
    },
    {
      "cell_type": "code",
      "execution_count": null,
      "metadata": {
        "id": "xYDatr9Q2UsB"
      },
      "outputs": [],
      "source": []
    },
    {
      "cell_type": "code",
      "execution_count": null,
      "metadata": {
        "id": "uqff0qU_2VRV"
      },
      "outputs": [],
      "source": []
    },
    {
      "cell_type": "code",
      "execution_count": null,
      "metadata": {
        "id": "OPlhbVEJ2VNs"
      },
      "outputs": [],
      "source": []
    },
    {
      "cell_type": "code",
      "execution_count": null,
      "metadata": {
        "id": "I0aqzgMM2VKg"
      },
      "outputs": [],
      "source": []
    },
    {
      "cell_type": "markdown",
      "metadata": {
        "id": "Du5KAU8COICG"
      },
      "source": [
        "### 데이터 전처리\n",
        "- Normalization"
      ]
    },
    {
      "cell_type": "code",
      "execution_count": null,
      "metadata": {
        "id": "CMvKiV6POJaR"
      },
      "outputs": [],
      "source": []
    },
    {
      "cell_type": "code",
      "execution_count": null,
      "metadata": {
        "id": "bMuBGKWxP7DM"
      },
      "outputs": [],
      "source": []
    },
    {
      "cell_type": "markdown",
      "metadata": {
        "id": "S9ke94boKfre"
      },
      "source": [
        "### 모델 구성 (Sequential)"
      ]
    },
    {
      "cell_type": "code",
      "execution_count": null,
      "metadata": {
        "id": "ZBfX4bt52UoZ"
      },
      "outputs": [],
      "source": []
    },
    {
      "cell_type": "code",
      "execution_count": null,
      "metadata": {
        "id": "QYsY9ghjO0RW"
      },
      "outputs": [],
      "source": []
    },
    {
      "cell_type": "code",
      "execution_count": null,
      "metadata": {
        "id": "zE-EHHkK2UMG"
      },
      "outputs": [],
      "source": []
    },
    {
      "cell_type": "code",
      "execution_count": null,
      "metadata": {
        "id": "KW7h-7mR26Xf"
      },
      "outputs": [],
      "source": []
    },
    {
      "cell_type": "markdown",
      "metadata": {
        "id": "ttXdLuQsQE_k"
      },
      "source": [
        "### 모델 컴파일"
      ]
    },
    {
      "cell_type": "code",
      "execution_count": null,
      "metadata": {
        "id": "EXld9Ehd2UJW"
      },
      "outputs": [],
      "source": []
    },
    {
      "cell_type": "markdown",
      "metadata": {
        "id": "TeRlwrsNQUP_"
      },
      "source": [
        "### 모델 학습\n",
        "- 모델 시각화를 위해 history라는 변수에 학습 과정을 담음"
      ]
    },
    {
      "cell_type": "code",
      "execution_count": null,
      "metadata": {
        "id": "5TaYebESQT0X"
      },
      "outputs": [],
      "source": []
    },
    {
      "cell_type": "markdown",
      "metadata": {
        "id": "0XaPJX7sRVzi"
      },
      "source": [
        "### 학습 결과 시각화"
      ]
    },
    {
      "cell_type": "code",
      "execution_count": null,
      "metadata": {
        "id": "vAnCqu9ARVTw"
      },
      "outputs": [],
      "source": []
    },
    {
      "cell_type": "code",
      "execution_count": null,
      "metadata": {
        "id": "MHfJkN2lRVOc"
      },
      "outputs": [],
      "source": []
    },
    {
      "cell_type": "markdown",
      "metadata": {
        "id": "Gwl7tQLcTZnW"
      },
      "source": [
        "### 모델 평가 (1)\n",
        "- evaluate"
      ]
    },
    {
      "cell_type": "code",
      "execution_count": null,
      "metadata": {
        "id": "gX7HcpeoTZGU"
      },
      "outputs": [],
      "source": []
    },
    {
      "cell_type": "markdown",
      "metadata": {
        "id": "ZIV4MhWSTtqH"
      },
      "source": [
        "### 학습된 모델을 통해 값 예측"
      ]
    },
    {
      "cell_type": "code",
      "execution_count": null,
      "metadata": {
        "id": "te5Wt3jFTY8g"
      },
      "outputs": [],
      "source": []
    },
    {
      "cell_type": "code",
      "execution_count": null,
      "metadata": {
        "id": "uJHPRGpMTnnM"
      },
      "outputs": [],
      "source": []
    },
    {
      "cell_type": "markdown",
      "metadata": {
        "id": "G6ypcp0iVyjj"
      },
      "source": [
        "### 모델 평가 (2)\n",
        "- 혼동행렬 (Confusion Maxtrix)"
      ]
    },
    {
      "cell_type": "code",
      "execution_count": null,
      "metadata": {
        "id": "8fN2G31JTnrY"
      },
      "outputs": [],
      "source": []
    },
    {
      "cell_type": "code",
      "execution_count": null,
      "metadata": {
        "id": "IPX11GMeTnt-"
      },
      "outputs": [],
      "source": []
    },
    {
      "cell_type": "markdown",
      "metadata": {
        "id": "BMo2g1TZWctY"
      },
      "source": [
        "### 모델 평가 (3)\n",
        "- 분류 보고서"
      ]
    },
    {
      "cell_type": "code",
      "execution_count": null,
      "metadata": {
        "id": "J1n_j_h4TnjP"
      },
      "outputs": [],
      "source": []
    },
    {
      "cell_type": "markdown",
      "metadata": {
        "id": "6VWo95AB0W2v"
      },
      "source": [
        "## 모델 저장과 복원\n",
        "- `save()`\n",
        "\n",
        "- `load_model()`\n",
        "\n",
        "- (주의)  \n",
        "  시퀀셜 API, 함수형 API에서는 **모델**의 저장 및 로드기 가능하지만 서브클래싱 방식으로는 할 수 없음  \n",
        "  \n",
        "  서브클래싱 방식\n",
        "      save_weights()\n",
        "      load_weights()  \n",
        "  위 두가지를 통해 **모델의 파라미터**만 저장 및 로드\n",
        "\n",
        "\n",
        "- JSON 형식\n",
        "  - `model.to_json()` (저장)\n",
        "\n",
        "  - `tf.keras.models.model_from_json(file_path)` (복원)\n",
        "\n",
        "- YAML로 직렬화\n",
        "  - `model.to_yaml()` (저장)\n",
        "\n",
        "  - `tf.keras.models.model_from_yaml(file_path)` (복원)\n"
      ]
    },
    {
      "cell_type": "code",
      "execution_count": null,
      "metadata": {
        "id": "qI-OJUAvtkZs"
      },
      "outputs": [],
      "source": []
    },
    {
      "cell_type": "code",
      "execution_count": null,
      "metadata": {
        "id": "CKkUgRlEX9yN"
      },
      "outputs": [],
      "source": []
    },
    {
      "cell_type": "code",
      "execution_count": null,
      "metadata": {
        "id": "xcSNxvvLYMJO"
      },
      "outputs": [],
      "source": []
    },
    {
      "cell_type": "code",
      "execution_count": null,
      "metadata": {
        "id": "qUAZUdOpZOqp"
      },
      "outputs": [],
      "source": []
    },
    {
      "cell_type": "code",
      "execution_count": null,
      "metadata": {
        "id": "lGcJHpbJaRiN"
      },
      "outputs": [],
      "source": []
    },
    {
      "cell_type": "markdown",
      "metadata": {
        "id": "vwprko04qWeg"
      },
      "source": [
        "## 콜백 (Callbacks)\n",
        "\n",
        "- `fit()` 함수의 callbacks 매개변수를 사용하여 케라스가 훈련의 시작이나 끝에 호출할 객체 리스트를 지정할 수 있음\n",
        "\n",
        "- 여러 개 사용 가능\n",
        "\n",
        "- ModelCheckpoint\n",
        "  - `tf.keras.callbacks.ModelCheckpoint`\n",
        "  - 정기적으로 모델의 체크포인트를 저장하고, 문제가 발생할 때 복구하는데 사용\n",
        "\n",
        "- EarlyStopping\n",
        "  - `tf.keras.callbacks.EarlyStopping`\n",
        "  - 검증 성능이 한동안 개선되지 않을 경우 학습을 중단할 때 사용\n",
        "\n",
        "- LearningRateSchduler\n",
        "  - `tf.keras.callbacks.LearningRateSchduler`\n",
        "  - 최적화를 하는 동안 학습률(learning_rate)를 동적으로 변경할 때 사용\n",
        "\n",
        "- TensorBoard\n",
        "  - `tf.keras.callbacks.TensorBoard`\n",
        "  - 모델의 경과를 모니터링할 때 사용\n"
      ]
    },
    {
      "cell_type": "code",
      "execution_count": null,
      "metadata": {
        "id": "0_oKQ3gw4Gtp"
      },
      "outputs": [],
      "source": []
    },
    {
      "cell_type": "code",
      "execution_count": null,
      "metadata": {
        "id": "ENnkJ6Qq2JQm"
      },
      "outputs": [],
      "source": []
    },
    {
      "cell_type": "code",
      "execution_count": null,
      "metadata": {
        "id": "Olb_CPA33UPe"
      },
      "outputs": [],
      "source": []
    },
    {
      "cell_type": "markdown",
      "metadata": {
        "id": "xNBMnd5IgE8H"
      },
      "source": [
        "### ModelCheckpoint"
      ]
    },
    {
      "cell_type": "code",
      "execution_count": null,
      "metadata": {
        "id": "tVOIVgBnqdIg"
      },
      "outputs": [],
      "source": []
    },
    {
      "cell_type": "code",
      "execution_count": null,
      "metadata": {
        "id": "HAHm-GqSqdE7"
      },
      "outputs": [],
      "source": []
    },
    {
      "cell_type": "code",
      "execution_count": null,
      "metadata": {
        "id": "h4Z8KGWSqdBb"
      },
      "outputs": [],
      "source": []
    },
    {
      "cell_type": "markdown",
      "metadata": {
        "id": "dGv8fIyo4_Th"
      },
      "source": [
        "최상의 모델만을 저장\n",
        "- save_best_only=True"
      ]
    },
    {
      "cell_type": "code",
      "execution_count": null,
      "metadata": {
        "id": "4W4rJEOsqc98"
      },
      "outputs": [],
      "source": []
    },
    {
      "cell_type": "code",
      "execution_count": null,
      "metadata": {
        "id": "r2QNCtmjqc6f"
      },
      "outputs": [],
      "source": []
    },
    {
      "cell_type": "code",
      "execution_count": null,
      "metadata": {
        "id": "_HlEkRagqc3D"
      },
      "outputs": [],
      "source": []
    },
    {
      "cell_type": "markdown",
      "metadata": {
        "id": "osAT_QOp7roL"
      },
      "source": [
        "### EarlyStopping\n",
        "- 일정 에포크(patience) 동안 검증 세트에 대한 점수가 오르지 않으면 학습을 멈춤\n",
        "\n",
        "- 모델이 향상되지 않으면 학습이 자동으로 중지되므로,  \n",
        "  에포크(epochs) 숫자를 크게 해도 무방\n",
        "\n",
        "- 학습이 끝난 후의 최상의 가중치를 복원하기 때문에 모델을 따로 복원할 필요없음"
      ]
    },
    {
      "cell_type": "code",
      "execution_count": null,
      "metadata": {
        "id": "JT61djueqczo"
      },
      "outputs": [],
      "source": []
    },
    {
      "cell_type": "markdown",
      "metadata": {
        "id": "sPadOgZM9bM-"
      },
      "source": [
        "### LearningRateScheduler"
      ]
    },
    {
      "cell_type": "code",
      "execution_count": null,
      "metadata": {
        "id": "njq81hTgqcwG"
      },
      "outputs": [],
      "source": []
    },
    {
      "cell_type": "code",
      "execution_count": null,
      "metadata": {
        "id": "5AUc7PaMqcsd"
      },
      "outputs": [],
      "source": []
    },
    {
      "cell_type": "code",
      "execution_count": null,
      "metadata": {
        "id": "ZEH3d9__qco9"
      },
      "outputs": [],
      "source": []
    },
    {
      "cell_type": "markdown",
      "metadata": {
        "id": "A31OUv_C-QHX"
      },
      "source": [
        "### Tensorboard\n",
        "- 텐서보드를 이용하여 학습과정 모니터링"
      ]
    },
    {
      "cell_type": "markdown",
      "metadata": {
        "id": "CcDhXXgn_W2F"
      },
      "source": [
        "텐서보드를 사용하기 위해 logs폴더를 만들고, 학습이 진행되는 동안 로그 파일을 생성"
      ]
    },
    {
      "cell_type": "code",
      "execution_count": null,
      "metadata": {
        "id": "zc38Lumyqclb"
      },
      "outputs": [],
      "source": []
    },
    {
      "cell_type": "code",
      "execution_count": null,
      "metadata": {
        "id": "XS1P1aDdqcgb"
      },
      "outputs": [],
      "source": []
    },
    {
      "cell_type": "code",
      "execution_count": null,
      "metadata": {
        "id": "veufv36_BiZM"
      },
      "outputs": [],
      "source": []
    },
    {
      "cell_type": "markdown",
      "metadata": {
        "id": "nkmm5b03CBQb"
      },
      "source": [
        "load하는데 시간 소요\n",
        "\n",
        "- load가 안된다면 port번호를 바꿔서 실행!  \n",
        "  ex) %tensorboard --logdir {log_dir} port 8000"
      ]
    },
    {
      "cell_type": "code",
      "execution_count": null,
      "metadata": {
        "id": "RgN2oO6dBnmN"
      },
      "outputs": [],
      "source": []
    }
  ],
  "metadata": {
    "colab": {
      "collapsed_sections": [],
      "provenance": []
    },
    "kernelspec": {
      "display_name": "Python 3.9.7 ('base')",
      "language": "python",
      "name": "python3"
    },
    "language_info": {
      "codemirror_mode": {
        "name": "ipython",
        "version": 3
      },
      "file_extension": ".py",
      "mimetype": "text/x-python",
      "name": "python",
      "nbconvert_exporter": "python",
      "pygments_lexer": "ipython3",
      "version": "3.9.7"
    },
    "vscode": {
      "interpreter": {
        "hash": "263930470851f494f0ed2879c35b57985588df20f9e529b86e97dd5eb9ddc466"
      }
    }
  },
  "nbformat": 4,
  "nbformat_minor": 0
}
