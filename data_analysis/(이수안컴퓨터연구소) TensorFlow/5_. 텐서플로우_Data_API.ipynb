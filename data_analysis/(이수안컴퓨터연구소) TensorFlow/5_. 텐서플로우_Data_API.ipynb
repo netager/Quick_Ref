{
  "cells": [
    {
      "cell_type": "markdown",
      "metadata": {
        "id": "pvT4Kena44U-"
      },
      "source": [
        "# Data API\n",
        "\n",
        "- `tf.data`: https://www.tensorflow.org/api_docs/python/tf/data\n",
        "- `tf.data.datasets`\n",
        "\n"
      ]
    },
    {
      "cell_type": "markdown",
      "metadata": {
        "id": "qMJ7xx8N882t"
      },
      "source": [
        "## tf.data.datasets"
      ]
    },
    {
      "cell_type": "code",
      "execution_count": null,
      "metadata": {},
      "outputs": [],
      "source": [
        "#!pip install tensorflow_datasets"
      ]
    },
    {
      "cell_type": "code",
      "execution_count": 1,
      "metadata": {
        "id": "uA_5y-rv5K0x"
      },
      "outputs": [],
      "source": [
        "import tensorflow as tf \n",
        "import tensorflow_datasets as tfds"
      ]
    },
    {
      "cell_type": "code",
      "execution_count": 2,
      "metadata": {
        "id": "_77BigY5g3hd"
      },
      "outputs": [
        {
          "name": "stdout",
          "output_type": "stream",
          "text": [
            "['abstract_reasoning', 'accentdb', 'aeslc', 'aflw2k3d', 'ag_news_subset', 'ai2_arc', 'ai2_arc_with_ir', 'amazon_us_reviews', 'anli', 'answer_equivalence', 'arc', 'asqa', 'asset', 'assin2', 'bair_robot_pushing_small', 'bccd', 'beans', 'bee_dataset', 'beir', 'big_patent', 'bigearthnet', 'billsum', 'binarized_mnist', 'binary_alpha_digits', 'ble_wind_field', 'blimp', 'booksum', 'bool_q', 'bucc', 'c4', 'caltech101', 'caltech_birds2010', 'caltech_birds2011', 'cardiotox', 'cars196', 'cassava', 'cats_vs_dogs', 'celeb_a', 'celeb_a_hq', 'cfq', 'cherry_blossoms', 'chexpert', 'cifar10', 'cifar100', 'cifar100_n', 'cifar10_1', 'cifar10_corrupted', 'cifar10_n', 'citrus_leaves', 'cityscapes', 'civil_comments', 'clevr', 'clic', 'clinc_oos', 'cmaterdb', 'cnn_dailymail', 'coco', 'coco_captions', 'coil100', 'colorectal_histology', 'colorectal_histology_large', 'common_voice', 'conll2003', 'controlled_noisy_web_labels', 'coqa', 'cos_e', 'cosmos_qa', 'covid19', 'covid19sum', 'crema_d', 'criteo', 'cs_restaurants', 'curated_breast_imaging_ddsm', 'cycle_gan', 'd4rl_adroit_door', 'd4rl_adroit_hammer', 'd4rl_adroit_pen', 'd4rl_adroit_relocate', 'd4rl_antmaze', 'd4rl_mujoco_ant', 'd4rl_mujoco_halfcheetah', 'd4rl_mujoco_hopper', 'd4rl_mujoco_walker2d', 'dart', 'davis', 'deep1b', 'deep_weeds', 'definite_pronoun_resolution', 'dementiabank', 'diabetic_retinopathy_detection', 'diamonds', 'div2k', 'dmlab', 'doc_nli', 'dolphin_number_word', 'domainnet', 'downsampled_imagenet', 'drop', 'dsprites', 'dtd', 'duke_ultrasound', 'e2e_cleaned', 'efron_morris75', 'emnist', 'eraser_multi_rc', 'esnli', 'eurosat', 'fashion_mnist', 'flic', 'flores', 'food101', 'forest_fires', 'fuss', 'gap', 'geirhos_conflict_stimuli', 'gem', 'genomics_ood', 'german_credit_numeric', 'gigaword', 'glove100_angular', 'glue', 'goemotions', 'gov_report', 'gpt3', 'gref', 'groove', 'grounded_scan', 'gsm8k', 'gtzan', 'gtzan_music_speech', 'hellaswag', 'higgs', 'hillstrom', 'horses_or_humans', 'howell', 'i_naturalist2017', 'i_naturalist2018', 'i_naturalist2021', 'imagenet2012', 'imagenet2012_corrupted', 'imagenet2012_fewshot', 'imagenet2012_multilabel', 'imagenet2012_real', 'imagenet2012_subset', 'imagenet_a', 'imagenet_lt', 'imagenet_r', 'imagenet_resized', 'imagenet_sketch', 'imagenet_v2', 'imagenette', 'imagewang', 'imdb_reviews', 'irc_disentanglement', 'iris', 'istella', 'kddcup99', 'kitti', 'kmnist', 'lambada', 'lfw', 'librispeech', 'librispeech_lm', 'libritts', 'ljspeech', 'lm1b', 'locomotion', 'lost_and_found', 'lsun', 'lvis', 'malaria', 'math_dataset', 'math_qa', 'mctaco', 'media_sum', 'mlqa', 'mnist', 'mnist_corrupted', 'movie_lens', 'movie_rationales', 'movielens', 'moving_mnist', 'mrqa', 'mslr_web', 'mt_opt', 'mtnt', 'multi_news', 'multi_nli', 'multi_nli_mismatch', 'natural_questions', 'natural_questions_open', 'newsroom', 'nsynth', 'nyu_depth_v2', 'ogbg_molpcba', 'omniglot', 'open_images_challenge2019_detection', 'open_images_v4', 'openbookqa', 'opinion_abstracts', 'opinosis', 'opus', 'oxford_flowers102', 'oxford_iiit_pet', 'para_crawl', 'pass', 'patch_camelyon', 'paws_wiki', 'paws_x_wiki', 'penguins', 'pet_finder', 'pg19', 'piqa', 'places365_small', 'placesfull', 'plant_leaves', 'plant_village', 'plantae_k', 'protein_net', 'qa4mre', 'qasc', 'quac', 'quality', 'quickdraw_bitmap', 'race', 'radon', 'reddit', 'reddit_disentanglement', 'reddit_tifu', 'ref_coco', 'resisc45', 'rlu_atari', 'rlu_atari_checkpoints', 'rlu_atari_checkpoints_ordered', 'rlu_control_suite', 'rlu_dmlab_explore_object_rewards_few', 'rlu_dmlab_explore_object_rewards_many', 'rlu_dmlab_rooms_select_nonmatching_object', 'rlu_dmlab_rooms_watermaze', 'rlu_dmlab_seekavoid_arena01', 'rlu_locomotion', 'rlu_rwrl', 'robomimic_ph', 'robonet', 'robosuite_panda_pick_place_can', 'rock_paper_scissors', 'rock_you', 's3o4d', 'salient_span_wikipedia', 'samsum', 'savee', 'scan', 'scene_parse150', 'schema_guided_dialogue', 'sci_tail', 'scicite', 'scientific_papers', 'scrolls', 'sentiment140', 'shapes3d', 'sift1m', 'simpte', 'siscore', 'smallnorb', 'smartwatch_gestures', 'snli', 'so2sat', 'speech_commands', 'spoken_digit', 'squad', 'squad_question_generation', 'stanford_dogs', 'stanford_online_products', 'star_cfq', 'starcraft_video', 'stl10', 'story_cloze', 'summscreen', 'sun397', 'super_glue', 'svhn_cropped', 'symmetric_solids', 'tao', 'tatoeba', 'ted_hrlr_translate', 'ted_multi_translate', 'tedlium', 'tf_flowers', 'the300w_lp', 'tiny_shakespeare', 'titanic', 'trec', 'trivia_qa', 'tydi_qa', 'uc_merced', 'ucf101', 'unified_qa', 'universal_dependencies', 'user_libri_audio', 'user_libri_text', 'vctk', 'visual_domain_decathlon', 'voc', 'voxceleb', 'voxforge', 'waymo_open_dataset', 'web_graph', 'web_nlg', 'web_questions', 'wider_face', 'wiki40b', 'wiki_auto', 'wiki_bio', 'wiki_dialog', 'wiki_table_questions', 'wiki_table_text', 'wikiann', 'wikihow', 'wikipedia', 'wikipedia_toxicity_subtypes', 'wine_quality', 'winogrande', 'wit', 'wit_kaggle', 'wmt13_translate', 'wmt14_translate', 'wmt15_translate', 'wmt16_translate', 'wmt17_translate', 'wmt18_translate', 'wmt19_translate', 'wmt_t2t_translate', 'wmt_translate', 'wordnet', 'wsc273', 'xnli', 'xquad', 'xsum', 'xtreme_pawsx', 'xtreme_pos', 'xtreme_s', 'xtreme_xnli', 'yahoo_ltrc', 'yelp_polarity_reviews', 'yes_no', 'youtube_vis']\n"
          ]
        }
      ],
      "source": [
        "builders = tfds.list_builders() \n",
        "print(builders)"
      ]
    },
    {
      "cell_type": "code",
<<<<<<< HEAD
<<<<<<< HEAD
      "execution_count": 4,
=======
      "execution_count": 64,
>>>>>>> 693165988902f54aad775a79e4400965906690ff
=======
      "execution_count": 3,
>>>>>>> fd553d544bddd925f7d3de05e605a699614e271a
      "metadata": {
        "id": "wmRzwmofg3ef"
      },
      "outputs": [
        {
          "name": "stdout",
          "output_type": "stream",
          "text": [
            "\u001b[1mDownloading and preparing dataset Unknown size (download: Unknown size, generated: Unknown size, total: Unknown size) to C:\\Users\\User\\tensorflow_datasets\\mnist\\3.0.1...\u001b[0m\n"
          ]
        },
        {
          "name": "stderr",
          "output_type": "stream",
          "text": [
            "Dl Completed...: 0 url [00:00, ? url/s]\n",
            "Dl Completed...:   0%|          | 0/1 [00:00<?, ? url/s]\n",
            "Dl Completed...:   0%|          | 0/2 [00:00<?, ? url/s]\n",
            "Dl Completed...:   0%|          | 0/3 [00:00<?, ? url/s]\n",
            "Dl Completed...:   0%|          | 0/4 [00:00<?, ? url/s]\n",
            "Dl Completed...:   0%|          | 0/4 [00:00<?, ? url/s]\n",
            "Dl Completed...:   0%|          | 0/4 [00:00<?, ? url/s]\n",
            "Dl Completed...:   0%|          | 0/4 [00:00<?, ? url/s]\n",
            "Dl Completed...:   0%|          | 0/4 [00:00<?, ? url/s]\n",
            "Dl Completed...:  25%|██▌       | 1/4 [00:00<00:01,  2.25 url/s]\n",
            "Dl Completed...:  50%|█████     | 2/4 [00:00<00:00,  2.25 url/s]\n",
            "Dl Completed...:  50%|█████     | 2/4 [00:00<00:00,  2.25 url/s]\n",
            "Dl Completed...:  50%|█████     | 2/4 [00:00<00:00,  2.25 url/s]\n",
            "\u001b[A\n",
            "Dl Completed...:  50%|█████     | 2/4 [00:00<00:00,  2.25 url/s]\n",
            "Dl Completed...:  50%|█████     | 2/4 [00:00<00:00,  2.25 url/s]\n",
            "Dl Completed...:  50%|█████     | 2/4 [00:00<00:00,  2.25 url/s]\n",
            "Dl Completed...:  50%|█████     | 2/4 [00:00<00:00,  2.25 url/s]\n",
            "Dl Completed...:  75%|███████▌  | 3/4 [00:00<00:00,  3.40 url/s]\n",
            "Dl Completed...:  75%|███████▌  | 3/4 [00:00<00:00,  3.40 url/s]\n",
            "Dl Completed...:  75%|███████▌  | 3/4 [00:00<00:00,  3.40 url/s]\n",
            "Dl Completed...:  75%|███████▌  | 3/4 [00:01<00:00,  3.40 url/s]\n",
            "\u001b[A\n",
            "Dl Completed...:  75%|███████▌  | 3/4 [00:01<00:00,  3.40 url/s]\n",
            "Dl Completed...:  75%|███████▌  | 3/4 [00:01<00:00,  3.40 url/s]\n",
            "Dl Completed...:  75%|███████▌  | 3/4 [00:01<00:00,  3.40 url/s]\n",
            "Dl Completed...:  75%|███████▌  | 3/4 [00:01<00:00,  3.40 url/s]\n",
            "Dl Completed...:  75%|███████▌  | 3/4 [00:01<00:00,  3.40 url/s]\n",
            "Dl Completed...:  75%|███████▌  | 3/4 [00:01<00:00,  3.40 url/s]\n",
            "Dl Completed...:  75%|███████▌  | 3/4 [00:01<00:00,  3.40 url/s]\n",
            "Dl Completed...: 100%|██████████| 4/4 [00:02<00:00,  1.68 url/s]\n",
            "Dl Completed...: 100%|██████████| 4/4 [00:02<00:00,  1.68 url/s]\n",
            "\u001b[A\n",
            "Dl Completed...: 100%|██████████| 4/4 [00:02<00:00,  1.68 url/s]\n",
            "Extraction completed...: 100%|██████████| 4/4 [00:02<00:00,  1.36 file/s]\n",
            "Dl Size...: 100%|██████████| 10/10 [00:02<00:00,  3.39 MiB/s]\n",
            "Dl Completed...: 100%|██████████| 4/4 [00:02<00:00,  1.35 url/s]\n",
            "                                                                        \r"
          ]
        },
        {
          "name": "stdout",
          "output_type": "stream",
          "text": [
            "\u001b[1mDataset mnist downloaded and prepared to C:\\Users\\User\\tensorflow_datasets\\mnist\\3.0.1. Subsequent calls will reuse this data.\u001b[0m\n"
          ]
        }
      ],
      "source": [
        "data, info = tfds.load('mnist', with_info=True)\n",
        "train_data, test_data = data['train'], data['test']"
      ]
    },
    {
      "cell_type": "code",
<<<<<<< HEAD
<<<<<<< HEAD
      "execution_count": 10,
=======
      "execution_count": 65,
>>>>>>> 693165988902f54aad775a79e4400965906690ff
=======
      "execution_count": 4,
>>>>>>> fd553d544bddd925f7d3de05e605a699614e271a
      "metadata": {
        "id": "PgvmOxeYg3bi"
      },
      "outputs": [
        {
          "name": "stdout",
          "output_type": "stream",
          "text": [
            "tfds.core.DatasetInfo(\n",
            "    name='mnist',\n",
            "    full_name='mnist/3.0.1',\n",
            "    description=\"\"\"\n",
            "    The MNIST database of handwritten digits.\n",
            "    \"\"\",\n",
            "    homepage='http://yann.lecun.com/exdb/mnist/',\n",
            "    data_path='C:\\\\Users\\\\User\\\\tensorflow_datasets\\\\mnist\\\\3.0.1',\n",
            "    file_format=tfrecord,\n",
            "    download_size=11.06 MiB,\n",
            "    dataset_size=21.00 MiB,\n",
            "    features=FeaturesDict({\n",
            "        'image': Image(shape=(28, 28, 1), dtype=tf.uint8),\n",
            "        'label': ClassLabel(shape=(), dtype=tf.int64, num_classes=10),\n",
            "    }),\n",
            "    supervised_keys=('image', 'label'),\n",
            "    disable_shuffling=False,\n",
            "    splits={\n",
            "        'test': <SplitInfo num_examples=10000, num_shards=1>,\n",
            "        'train': <SplitInfo num_examples=60000, num_shards=1>,\n",
            "    },\n",
            "    citation=\"\"\"@article{lecun2010mnist,\n",
            "      title={MNIST handwritten digit database},\n",
            "      author={LeCun, Yann and Cortes, Corinna and Burges, CJ},\n",
            "      journal={ATT Labs [Online]. Available: http://yann.lecun.com/exdb/mnist},\n",
            "      volume={2},\n",
            "      year={2010}\n",
            "    }\"\"\",\n",
            ")\n"
          ]
        }
      ],
      "source": [
        "print(info)"
      ]
    },
    {
      "cell_type": "markdown",
      "metadata": {
        "id": "adN6woERhQrO"
      },
      "source": [
        "## tf.data\n",
        "\n",
        "- 생성\n",
        "  - `from_tensor_slices()`: 개별 또는 다중 넘파이를 받고, 배치를 지원\n",
        "\n",
        "  - `from_tensors()`: 배치를 지원하지 않음\n",
        "\n",
        "  - `from_generator()`: 생성자 함수에서 입력을 취함\n",
        "\n",
        "- 변환\n",
        "\n",
        "  - `batch()`: 순차적으로 지정한 배치사이즈로 데이터셋을 분할\n",
        "\n",
        "  - `repeat()`: 데이터를 복제\n",
        "\n",
        "  - `shuffle()`: 데이터를 무작위로 섞음\n",
        "\n",
        "  - `map()`: 데이터에 함수를 적용\n",
        "\n",
        "  - `filter()`: 데이터를 거르고자 할 때 사용\n",
        "- 반복\n",
        "  - `next_batch = iterator.get_next()` 사용"
      ]
    },
    {
      "cell_type": "markdown",
      "metadata": {
        "id": "51d2wkdMhTBn"
      },
      "source": [
        "### from_tensor_slices"
      ]
    },
    {
      "cell_type": "code",
<<<<<<< HEAD
<<<<<<< HEAD
      "execution_count": 11,
=======
      "execution_count": 66,
>>>>>>> 693165988902f54aad775a79e4400965906690ff
=======
      "execution_count": 5,
>>>>>>> fd553d544bddd925f7d3de05e605a699614e271a
      "metadata": {
        "id": "HWzGguIUg3Yi"
      },
      "outputs": [],
      "source": [
        "import numpy as np"
      ]
    },
    {
      "cell_type": "code",
<<<<<<< HEAD
<<<<<<< HEAD
      "execution_count": 12,
=======
      "execution_count": 67,
>>>>>>> 693165988902f54aad775a79e4400965906690ff
=======
      "execution_count": 6,
>>>>>>> fd553d544bddd925f7d3de05e605a699614e271a
      "metadata": {
        "id": "aaO5aOqsg3Vf"
      },
      "outputs": [],
      "source": [
        "num_items = 20\n",
        "num_list = np.arange(num_items)\n",
        "#num_list = [[i, i+1] for i in num_list]"
      ]
    },
    {
      "cell_type": "code",
<<<<<<< HEAD
<<<<<<< HEAD
      "execution_count": 13,
=======
      "execution_count": 68,
>>>>>>> 693165988902f54aad775a79e4400965906690ff
=======
      "execution_count": 7,
>>>>>>> fd553d544bddd925f7d3de05e605a699614e271a
      "metadata": {
        "id": "rFKz4nK2g3Sd"
      },
      "outputs": [],
      "source": [
        "num_list_dataset = tf.data.Dataset.from_tensor_slices(num_list)"
      ]
    },
    {
      "cell_type": "code",
<<<<<<< HEAD
<<<<<<< HEAD
      "execution_count": 14,
=======
      "execution_count": 69,
>>>>>>> 693165988902f54aad775a79e4400965906690ff
=======
      "execution_count": 8,
>>>>>>> fd553d544bddd925f7d3de05e605a699614e271a
      "metadata": {
        "id": "gzqeoFS6g3Pg"
      },
      "outputs": [
        {
          "data": {
            "text/plain": [
              "<TensorSliceDataset element_spec=TensorSpec(shape=(), dtype=tf.int32, name=None)>"
            ]
          },
<<<<<<< HEAD
<<<<<<< HEAD
          "execution_count": 14,
=======
          "execution_count": 69,
>>>>>>> 693165988902f54aad775a79e4400965906690ff
=======
          "execution_count": 8,
>>>>>>> fd553d544bddd925f7d3de05e605a699614e271a
          "metadata": {},
          "output_type": "execute_result"
        }
      ],
      "source": [
        "num_list_dataset"
      ]
    },
    {
      "cell_type": "code",
      "execution_count": 9,
      "metadata": {
        "id": "oBK4nAS7lpBJ"
      },
      "outputs": [
        {
          "name": "stdout",
          "output_type": "stream",
          "text": [
            "tf.Tensor(0, shape=(), dtype=int32)\n",
            "tf.Tensor(1, shape=(), dtype=int32)\n",
            "tf.Tensor(2, shape=(), dtype=int32)\n",
            "tf.Tensor(3, shape=(), dtype=int32)\n",
            "tf.Tensor(4, shape=(), dtype=int32)\n",
            "tf.Tensor(5, shape=(), dtype=int32)\n",
            "tf.Tensor(6, shape=(), dtype=int32)\n",
            "tf.Tensor(7, shape=(), dtype=int32)\n",
            "tf.Tensor(8, shape=(), dtype=int32)\n",
            "tf.Tensor(9, shape=(), dtype=int32)\n",
            "tf.Tensor(10, shape=(), dtype=int32)\n",
            "tf.Tensor(11, shape=(), dtype=int32)\n",
            "tf.Tensor(12, shape=(), dtype=int32)\n",
            "tf.Tensor(13, shape=(), dtype=int32)\n",
            "tf.Tensor(14, shape=(), dtype=int32)\n",
            "tf.Tensor(15, shape=(), dtype=int32)\n",
            "tf.Tensor(16, shape=(), dtype=int32)\n",
            "tf.Tensor(17, shape=(), dtype=int32)\n",
            "tf.Tensor(18, shape=(), dtype=int32)\n",
            "tf.Tensor(19, shape=(), dtype=int32)\n"
          ]
        }
      ],
      "source": [
        "for item in num_list_dataset:\n",
        "    print(item)"
      ]
    },
    {
      "cell_type": "markdown",
      "metadata": {
        "id": "8oSVGyqAsJz3"
      },
      "source": [
        "### from_generator()\n",
        "- 해당 클래스 메서드를 사용하면 생성자에서 데이터셋 생성 가능\n",
        "- output_types, output_shapes 인수로 출력 자료형과 크기를 지정해주어야 함"
      ]
    },
    {
      "cell_type": "code",
      "execution_count": 10,
      "metadata": {
        "id": "5LEG6TzOsOAB"
      },
      "outputs": [
        {
          "data": {
            "text/plain": [
              "[(1, array([1], dtype=int64)),\n",
              " (2, array([1, 1], dtype=int64)),\n",
              " (3, array([1, 1, 1], dtype=int64))]"
            ]
          },
          "execution_count": 10,
          "metadata": {},
          "output_type": "execute_result"
        }
      ],
      "source": [
        "import itertools\n",
        "\n",
        "def gen():\n",
        "    for i in itertools.count(1): \n",
        "        yield (i, [1]*i)\n",
        "\n",
        "dataset = tf.data.Dataset.from_generator(\n",
        "    gen,\n",
        "    (tf.int64, tf.int64),\n",
        "    (tf.TensorShape([]), tf.TensorShape([None]))\n",
        ")\n",
        "\n",
        "list(dataset.take(3).as_numpy_iterator())"
      ]
    },
    {
      "cell_type": "code",
      "execution_count": 12,
      "metadata": {},
      "outputs": [
        {
          "name": "stdout",
          "output_type": "stream",
          "text": [
            "(1, [1])\n",
            "(2, [1, 1])\n",
            "(3, [1, 1, 1])\n"
          ]
        }
      ],
      "source": [
        "import itertools\n",
        "def gen():\n",
        "    for i in itertools.count(1):\n",
        "        yield (i, [1]*i)\n",
        "\n",
        "for j in gen():\n",
        "    if j[0] > 3:\n",
        "        break\n",
        "    print(j)"
      ]
    },
    {
      "cell_type": "code",
      "execution_count": null,
      "metadata": {
        "id": "P8X1Mn56sODk"
      },
      "outputs": [],
      "source": [
        "# for item in dataset:\n",
        "#     print(item)"
      ]
    },
    {
      "cell_type": "code",
      "execution_count": 13,
      "metadata": {
        "id": "taha_e5QsN2U"
      },
      "outputs": [
        {
          "data": {
            "text/plain": [
              "[(1, array([1], dtype=int64)),\n",
              " (2, array([1, 1], dtype=int64)),\n",
              " (3, array([1, 1, 1], dtype=int64)),\n",
              " (4, array([1, 1, 1, 1], dtype=int64)),\n",
              " (5, array([1, 1, 1, 1, 1], dtype=int64)),\n",
              " (6, array([1, 1, 1, 1, 1, 1], dtype=int64)),\n",
              " (7, array([1, 1, 1, 1, 1, 1, 1], dtype=int64)),\n",
              " (8, array([1, 1, 1, 1, 1, 1, 1, 1], dtype=int64)),\n",
              " (9, array([1, 1, 1, 1, 1, 1, 1, 1, 1], dtype=int64))]"
            ]
          },
          "execution_count": 13,
          "metadata": {},
          "output_type": "execute_result"
        }
      ],
      "source": [
        "def gen(stop):\n",
        "    for i in itertools.count(1):\n",
        "        if i < stop:\n",
        "            yield (i, [1]*i)\n",
        "\n",
        "dataset = tf.data.Dataset.from_generator(\n",
        "    gen, \n",
        "    args=[10],\n",
        "    output_types = (tf.int64, tf.int64),\n",
        "    output_shapes = (tf.TensorShape([]), tf.TensorShape([None]))\n",
        ")\n",
        "\n",
        "list(dataset.take(9).as_numpy_iterator())\n"
      ]
    },
    {
      "cell_type": "code",
      "execution_count": 14,
      "metadata": {},
      "outputs": [
        {
          "name": "stdout",
          "output_type": "stream",
          "text": [
            "<generator object gen at 0x000002A91EA45A50>\n"
          ]
        }
      ],
      "source": [
        "def gen(stop):\n",
        "    for i in itertools.count(1):\n",
        "        if i < stop:\n",
        "            yield (i, [1]*i)\n",
        "\n",
        "aa = gen(2)\n",
        "# for j in gen(2):\n",
        "#     print(j)\n",
        "print(aa)"
      ]
    },
    {
      "cell_type": "markdown",
      "metadata": {
        "id": "IQUCMAdilyA1"
      },
      "source": [
        "### batch, repeat\n",
        "- `batch()`: 배치 사이즈 크기\n",
        "- `repeat()`: 반복 횟수"
      ]
    },
    {
      "cell_type": "code",
      "execution_count": 23,
      "metadata": {},
      "outputs": [
        {
          "data": {
            "text/plain": [
              "[<tf.Tensor: shape=(), dtype=int32, numpy=0>,\n",
              " <tf.Tensor: shape=(), dtype=int32, numpy=1>,\n",
              " <tf.Tensor: shape=(), dtype=int32, numpy=2>,\n",
              " <tf.Tensor: shape=(), dtype=int32, numpy=3>,\n",
              " <tf.Tensor: shape=(), dtype=int32, numpy=4>,\n",
              " <tf.Tensor: shape=(), dtype=int32, numpy=5>,\n",
              " <tf.Tensor: shape=(), dtype=int32, numpy=6>,\n",
              " <tf.Tensor: shape=(), dtype=int32, numpy=7>,\n",
              " <tf.Tensor: shape=(), dtype=int32, numpy=8>,\n",
              " <tf.Tensor: shape=(), dtype=int32, numpy=9>,\n",
              " <tf.Tensor: shape=(), dtype=int32, numpy=10>,\n",
              " <tf.Tensor: shape=(), dtype=int32, numpy=11>,\n",
              " <tf.Tensor: shape=(), dtype=int32, numpy=12>,\n",
              " <tf.Tensor: shape=(), dtype=int32, numpy=13>,\n",
              " <tf.Tensor: shape=(), dtype=int32, numpy=14>,\n",
              " <tf.Tensor: shape=(), dtype=int32, numpy=15>,\n",
              " <tf.Tensor: shape=(), dtype=int32, numpy=16>,\n",
              " <tf.Tensor: shape=(), dtype=int32, numpy=17>,\n",
              " <tf.Tensor: shape=(), dtype=int32, numpy=18>,\n",
              " <tf.Tensor: shape=(), dtype=int32, numpy=19>]"
            ]
          },
          "execution_count": 23,
          "metadata": {},
          "output_type": "execute_result"
        }
      ],
      "source": [
        "list(num_list_dataset)"
      ]
    },
    {
      "cell_type": "code",
      "execution_count": 24,
      "metadata": {
        "id": "qJunKghtl0Mk"
      },
      "outputs": [],
      "source": [
        "dataset = num_list_dataset.repeat(3).batch(7)"
      ]
    },
    {
      "cell_type": "code",
      "execution_count": 27,
      "metadata": {},
      "outputs": [
        {
          "data": {
            "text/plain": [
              "[<tf.Tensor: shape=(), dtype=int32, numpy=0>,\n",
              " <tf.Tensor: shape=(), dtype=int32, numpy=1>,\n",
              " <tf.Tensor: shape=(), dtype=int32, numpy=2>,\n",
              " <tf.Tensor: shape=(), dtype=int32, numpy=3>,\n",
              " <tf.Tensor: shape=(), dtype=int32, numpy=4>,\n",
              " <tf.Tensor: shape=(), dtype=int32, numpy=5>,\n",
              " <tf.Tensor: shape=(), dtype=int32, numpy=6>,\n",
              " <tf.Tensor: shape=(), dtype=int32, numpy=7>,\n",
              " <tf.Tensor: shape=(), dtype=int32, numpy=8>,\n",
              " <tf.Tensor: shape=(), dtype=int32, numpy=9>,\n",
              " <tf.Tensor: shape=(), dtype=int32, numpy=10>,\n",
              " <tf.Tensor: shape=(), dtype=int32, numpy=11>,\n",
              " <tf.Tensor: shape=(), dtype=int32, numpy=12>,\n",
              " <tf.Tensor: shape=(), dtype=int32, numpy=13>,\n",
              " <tf.Tensor: shape=(), dtype=int32, numpy=14>,\n",
              " <tf.Tensor: shape=(), dtype=int32, numpy=15>,\n",
              " <tf.Tensor: shape=(), dtype=int32, numpy=16>,\n",
              " <tf.Tensor: shape=(), dtype=int32, numpy=17>,\n",
              " <tf.Tensor: shape=(), dtype=int32, numpy=18>,\n",
              " <tf.Tensor: shape=(), dtype=int32, numpy=19>,\n",
              " <tf.Tensor: shape=(), dtype=int32, numpy=0>,\n",
              " <tf.Tensor: shape=(), dtype=int32, numpy=1>,\n",
              " <tf.Tensor: shape=(), dtype=int32, numpy=2>,\n",
              " <tf.Tensor: shape=(), dtype=int32, numpy=3>,\n",
              " <tf.Tensor: shape=(), dtype=int32, numpy=4>,\n",
              " <tf.Tensor: shape=(), dtype=int32, numpy=5>,\n",
              " <tf.Tensor: shape=(), dtype=int32, numpy=6>,\n",
              " <tf.Tensor: shape=(), dtype=int32, numpy=7>,\n",
              " <tf.Tensor: shape=(), dtype=int32, numpy=8>,\n",
              " <tf.Tensor: shape=(), dtype=int32, numpy=9>,\n",
              " <tf.Tensor: shape=(), dtype=int32, numpy=10>,\n",
              " <tf.Tensor: shape=(), dtype=int32, numpy=11>,\n",
              " <tf.Tensor: shape=(), dtype=int32, numpy=12>,\n",
              " <tf.Tensor: shape=(), dtype=int32, numpy=13>,\n",
              " <tf.Tensor: shape=(), dtype=int32, numpy=14>,\n",
              " <tf.Tensor: shape=(), dtype=int32, numpy=15>,\n",
              " <tf.Tensor: shape=(), dtype=int32, numpy=16>,\n",
              " <tf.Tensor: shape=(), dtype=int32, numpy=17>,\n",
              " <tf.Tensor: shape=(), dtype=int32, numpy=18>,\n",
              " <tf.Tensor: shape=(), dtype=int32, numpy=19>,\n",
              " <tf.Tensor: shape=(), dtype=int32, numpy=0>,\n",
              " <tf.Tensor: shape=(), dtype=int32, numpy=1>,\n",
              " <tf.Tensor: shape=(), dtype=int32, numpy=2>,\n",
              " <tf.Tensor: shape=(), dtype=int32, numpy=3>,\n",
              " <tf.Tensor: shape=(), dtype=int32, numpy=4>,\n",
              " <tf.Tensor: shape=(), dtype=int32, numpy=5>,\n",
              " <tf.Tensor: shape=(), dtype=int32, numpy=6>,\n",
              " <tf.Tensor: shape=(), dtype=int32, numpy=7>,\n",
              " <tf.Tensor: shape=(), dtype=int32, numpy=8>,\n",
              " <tf.Tensor: shape=(), dtype=int32, numpy=9>,\n",
              " <tf.Tensor: shape=(), dtype=int32, numpy=10>,\n",
              " <tf.Tensor: shape=(), dtype=int32, numpy=11>,\n",
              " <tf.Tensor: shape=(), dtype=int32, numpy=12>,\n",
              " <tf.Tensor: shape=(), dtype=int32, numpy=13>,\n",
              " <tf.Tensor: shape=(), dtype=int32, numpy=14>,\n",
              " <tf.Tensor: shape=(), dtype=int32, numpy=15>,\n",
              " <tf.Tensor: shape=(), dtype=int32, numpy=16>,\n",
              " <tf.Tensor: shape=(), dtype=int32, numpy=17>,\n",
              " <tf.Tensor: shape=(), dtype=int32, numpy=18>,\n",
              " <tf.Tensor: shape=(), dtype=int32, numpy=19>]"
            ]
          },
          "execution_count": 27,
          "metadata": {},
          "output_type": "execute_result"
        }
      ],
      "source": [
        "list(num_list_dataset.repeat(3))"
      ]
    },
    {
      "cell_type": "code",
      "execution_count": 29,
      "metadata": {},
      "outputs": [
        {
          "data": {
            "text/plain": [
              "[<tf.Tensor: shape=(7,), dtype=int32, numpy=array([0, 1, 2, 3, 4, 5, 6])>,\n",
              " <tf.Tensor: shape=(7,), dtype=int32, numpy=array([ 7,  8,  9, 10, 11, 12, 13])>,\n",
              " <tf.Tensor: shape=(7,), dtype=int32, numpy=array([14, 15, 16, 17, 18, 19,  0])>,\n",
              " <tf.Tensor: shape=(7,), dtype=int32, numpy=array([1, 2, 3, 4, 5, 6, 7])>,\n",
              " <tf.Tensor: shape=(7,), dtype=int32, numpy=array([ 8,  9, 10, 11, 12, 13, 14])>,\n",
              " <tf.Tensor: shape=(7,), dtype=int32, numpy=array([15, 16, 17, 18, 19,  0,  1])>,\n",
              " <tf.Tensor: shape=(7,), dtype=int32, numpy=array([2, 3, 4, 5, 6, 7, 8])>,\n",
              " <tf.Tensor: shape=(7,), dtype=int32, numpy=array([ 9, 10, 11, 12, 13, 14, 15])>,\n",
              " <tf.Tensor: shape=(4,), dtype=int32, numpy=array([16, 17, 18, 19])>]"
            ]
          },
          "execution_count": 29,
          "metadata": {},
          "output_type": "execute_result"
        }
      ],
      "source": [
        "list(num_list_dataset.repeat(3).batch(7))"
      ]
    },
    {
      "cell_type": "code",
      "execution_count": 30,
      "metadata": {
        "id": "EwNlE6d2l0Qy"
      },
      "outputs": [
        {
          "name": "stdout",
          "output_type": "stream",
          "text": [
            "tf.Tensor([0 1 2 3 4 5 6], shape=(7,), dtype=int32)\n",
            "tf.Tensor([ 7  8  9 10 11 12 13], shape=(7,), dtype=int32)\n",
            "tf.Tensor([14 15 16 17 18 19  0], shape=(7,), dtype=int32)\n",
            "tf.Tensor([1 2 3 4 5 6 7], shape=(7,), dtype=int32)\n",
            "tf.Tensor([ 8  9 10 11 12 13 14], shape=(7,), dtype=int32)\n",
            "tf.Tensor([15 16 17 18 19  0  1], shape=(7,), dtype=int32)\n",
            "tf.Tensor([2 3 4 5 6 7 8], shape=(7,), dtype=int32)\n",
            "tf.Tensor([ 9 10 11 12 13 14 15], shape=(7,), dtype=int32)\n",
            "tf.Tensor([16 17 18 19], shape=(4,), dtype=int32)\n"
          ]
        }
      ],
      "source": [
        "for item in dataset:\n",
        "    print(item)"
      ]
    },
    {
      "cell_type": "code",
      "execution_count": 31,
      "metadata": {
        "id": "cul1bFvImVxN"
      },
      "outputs": [],
      "source": [
        "dataset = num_list_dataset.repeat(3).batch(7, drop_remainder=True)"
      ]
    },
    {
      "cell_type": "code",
      "execution_count": 32,
      "metadata": {
        "id": "IHZ8JHIBmt_f"
      },
      "outputs": [
        {
          "name": "stdout",
          "output_type": "stream",
          "text": [
            "tf.Tensor([0 1 2 3 4 5 6], shape=(7,), dtype=int32)\n",
            "tf.Tensor([ 7  8  9 10 11 12 13], shape=(7,), dtype=int32)\n",
            "tf.Tensor([14 15 16 17 18 19  0], shape=(7,), dtype=int32)\n",
            "tf.Tensor([1 2 3 4 5 6 7], shape=(7,), dtype=int32)\n",
            "tf.Tensor([ 8  9 10 11 12 13 14], shape=(7,), dtype=int32)\n",
            "tf.Tensor([15 16 17 18 19  0  1], shape=(7,), dtype=int32)\n",
            "tf.Tensor([2 3 4 5 6 7 8], shape=(7,), dtype=int32)\n",
            "tf.Tensor([ 9 10 11 12 13 14 15], shape=(7,), dtype=int32)\n"
          ]
        }
      ],
      "source": [
        "for item in dataset:\n",
        "    print(item)"
      ]
    },
    {
      "cell_type": "markdown",
      "metadata": {
        "id": "xCAFfO6hmDDS"
      },
      "source": [
        "### map, filter\n",
        "- 전처리 단계에서 시행하여 원하지 않는 데이터를 거를 수 있음\n",
        "\n",
        "- `tf.Tensor` 자료형을 다룸"
      ]
    },
    {
      "cell_type": "code",
      "execution_count": 36,
      "metadata": {
        "id": "lw37RX7KvN-K"
      },
      "outputs": [],
      "source": [
        "from tensorflow.data import Dataset"
      ]
    },
    {
      "cell_type": "code",
      "execution_count": 37,
      "metadata": {
        "id": "ubOuEgxal0Hv"
      },
      "outputs": [
        {
          "data": {
            "text/plain": [
              "[2, 4, 6, 8, 10]"
            ]
          },
          "execution_count": 37,
          "metadata": {},
          "output_type": "execute_result"
        }
      ],
      "source": [
        "dataset = Dataset.range(1, 6)\n",
        "dataset = dataset.map(lambda x: x * 2)\n",
        "list(dataset.as_numpy_iterator())"
      ]
    },
    {
      "cell_type": "code",
      "execution_count": 40,
      "metadata": {},
      "outputs": [
        {
          "name": "stdout",
          "output_type": "stream",
          "text": [
            "tf.Tensor(1, shape=(), dtype=int64)\n",
            "tf.Tensor(2, shape=(), dtype=int64)\n",
            "tf.Tensor(3, shape=(), dtype=int64)\n",
            "tf.Tensor(4, shape=(), dtype=int64)\n",
            "tf.Tensor(5, shape=(), dtype=int64)\n"
          ]
        }
      ],
      "source": [
        "dataset = Dataset.range(1, 6)\n",
        "for i in dataset:\n",
        "    print(i)"
      ]
    },
    {
      "cell_type": "code",
      "execution_count": 35,
      "metadata": {},
      "outputs": [
        {
          "data": {
            "text/plain": [
              "[1, 2, 3, 4, 5]"
            ]
          },
          "execution_count": 35,
          "metadata": {},
          "output_type": "execute_result"
        }
      ],
      "source": [
        "list(Dataset.range(1,6).as_numpy_iterator())"
      ]
    },
    {
      "cell_type": "code",
      "execution_count": 20,
      "metadata": {
        "id": "jwxn37JRuzjV"
      },
      "outputs": [
        {
          "data": {
            "text/plain": [
              "[1, 2, 3, 4, 5]"
            ]
          },
          "execution_count": 20,
          "metadata": {},
          "output_type": "execute_result"
        }
      ],
      "source": [
        "dataset = Dataset.range(5)\n",
        "\n",
        "result = dataset.map(lambda x: x + 1)\n",
        "\n",
        "result\n",
        "\n",
        "list(result.as_numpy_iterator())"
      ]
    },
    {
      "cell_type": "code",
      "execution_count": 41,
      "metadata": {
        "id": "FcwzArdpuzad"
      },
      "outputs": [
        {
          "data": {
            "text/plain": [
              "[1, 2, 3]"
            ]
          },
          "execution_count": 41,
          "metadata": {},
          "output_type": "execute_result"
        }
      ],
      "source": [
        "elements = [(1, 'one'), (2, 'two'), (3, 'three')]\n",
        "dataset = Dataset.from_generator(lambda: elements, (tf.int32, tf.string))\n",
        "\n",
        "result = dataset.map(lambda x_int, y_str: x_int)\n",
        "list(result.as_numpy_iterator())\n"
      ]
    },
    {
      "cell_type": "code",
      "execution_count": 54,
      "metadata": {
        "id": "Tleeqc_GuzUX"
      },
      "outputs": [
        {
          "name": "stdout",
          "output_type": "stream",
          "text": [
            "tf.Tensor(0, shape=(), dtype=int64)\n",
            "tf.Tensor(1, shape=(), dtype=int64)\n",
            "tf.Tensor(2, shape=(), dtype=int64)\n"
          ]
        },
        {
          "data": {
            "text/plain": [
              "(TensorSpec(shape=(), dtype=tf.float32, name=None),\n",
              " TensorSpec(shape=(3,), dtype=tf.string, name=None))"
            ]
          },
          "execution_count": 54,
          "metadata": {},
          "output_type": "execute_result"
        }
      ],
      "source": [
        "dataset = Dataset.range(3)\n",
        "\n",
        "for i in dataset:\n",
        "    print(i)\n",
        "\n",
        "def g(x):\n",
        "    return tf.constant(10.5), tf.constant([\"One\", \"Two\", \"Three\"])\n",
        "\n",
        "result = dataset.map(g)\n",
        "result.element_spec"
      ]
    },
    {
      "cell_type": "code",
      "execution_count": 48,
      "metadata": {},
      "outputs": [
        {
          "name": "stdout",
          "output_type": "stream",
          "text": [
            "(<tf.Tensor: shape=(), dtype=float32, numpy=10.5>, <tf.Tensor: shape=(3,), dtype=string, numpy=array([b'One', b'Two', b'Three'], dtype=object)>)\n",
            "(<tf.Tensor: shape=(), dtype=float32, numpy=10.5>, <tf.Tensor: shape=(3,), dtype=string, numpy=array([b'One', b'Two', b'Three'], dtype=object)>)\n",
            "(<tf.Tensor: shape=(), dtype=float32, numpy=10.5>, <tf.Tensor: shape=(3,), dtype=string, numpy=array([b'One', b'Two', b'Three'], dtype=object)>)\n"
          ]
        },
        {
          "data": {
            "text/plain": [
              "(TensorSpec(shape=(), dtype=tf.float32, name=None),\n",
              " TensorSpec(shape=(3,), dtype=tf.string, name=None))"
            ]
          },
          "execution_count": 48,
          "metadata": {},
          "output_type": "execute_result"
        }
      ],
      "source": [
        "dataset = Dataset.range(3)\n",
        "\n",
        "def g(x):\n",
        "    return tf.constant(10.5), tf.constant([\"One\", \"Two\", \"Three\"])\n",
        "\n",
        "result = dataset.map(g)\n",
        "for i in result:\n",
        "    print(i)\n",
        "        \n",
        "result.element_spec"
      ]
    },
    {
      "cell_type": "code",
      "execution_count": 52,
      "metadata": {
        "id": "0aRvH0yR0H1H"
      },
      "outputs": [
        {
          "name": "stdout",
          "output_type": "stream",
          "text": [
            "(TensorSpec(shape=(), dtype=tf.float32, name=None), TensorSpec(shape=(3,), dtype=tf.string, name=None), TensorSpec(shape=(2,), dtype=tf.float64, name=None))\n",
            "-------------------------------------------\n",
            "(<tf.Tensor: shape=(), dtype=float32, numpy=10.5>, <tf.Tensor: shape=(3,), dtype=string, numpy=array([b'One', b'Two', b'Three'], dtype=object)>, <tf.Tensor: shape=(2,), dtype=float64, numpy=array([1., 2.])>)\n",
            "(<tf.Tensor: shape=(), dtype=float32, numpy=10.5>, <tf.Tensor: shape=(3,), dtype=string, numpy=array([b'One', b'Two', b'Three'], dtype=object)>, <tf.Tensor: shape=(2,), dtype=float64, numpy=array([1., 2.])>)\n",
            "(<tf.Tensor: shape=(), dtype=float32, numpy=10.5>, <tf.Tensor: shape=(3,), dtype=string, numpy=array([b'One', b'Two', b'Three'], dtype=object)>, <tf.Tensor: shape=(2,), dtype=float64, numpy=array([1., 2.])>)\n"
          ]
        }
      ],
      "source": [
        "dataset = Dataset.range(3)\n",
        "\n",
        "def h(x):\n",
        "    return 10.5, ['One','Two','Three'], np.array([1.0, 2.0], dtype=np.float64)\n",
        "\n",
        "result = dataset.map(h)\n",
        "print(result.element_spec)\n",
        "print('-------------------------------------------')\n",
        "\n",
        "for i in result:\n",
        "    print(i)"
      ]
    },
    {
      "cell_type": "code",
      "execution_count": 53,
      "metadata": {
        "id": "YxvOUl4u0HxH"
      },
      "outputs": [
        {
          "data": {
            "text/plain": [
              "((TensorSpec(shape=(), dtype=tf.float32, name=None),\n",
              "  TensorSpec(shape=(2,), dtype=tf.int32, name=None)),\n",
              " TensorSpec(shape=(), dtype=tf.string, name=None),\n",
              " TensorSpec(shape=(), dtype=tf.string, name=None))"
            ]
          },
          "execution_count": 53,
          "metadata": {},
          "output_type": "execute_result"
        }
      ],
      "source": [
        "dataset = Dataset.range(3)\n",
        "\n",
        "def i(x):\n",
        "    return (10.5, [12, 11]), \"One\", \"Two\"\n",
        "\n",
        "result = dataset.map(i)\n",
        "result.element_spec"
      ]
    },
    {
      "cell_type": "code",
      "execution_count": 56,
      "metadata": {
        "id": "LeKdClAA0Vjy"
      },
      "outputs": [
        {
          "data": {
            "text/plain": [
              "[1, 2]"
            ]
          },
          "execution_count": 56,
          "metadata": {},
          "output_type": "execute_result"
        }
      ],
      "source": [
        "dataset = Dataset.from_tensor_slices([1,2,3])\n",
        "dataset = dataset.filter(lambda x: x < 3)\n",
        "\n",
        "list(dataset.as_numpy_iterator())"
      ]
    },
    {
      "cell_type": "code",
      "execution_count": 55,
      "metadata": {},
      "outputs": [
        {
          "name": "stdout",
          "output_type": "stream",
          "text": [
            "tf.Tensor(1, shape=(), dtype=int32)\n",
            "tf.Tensor(2, shape=(), dtype=int32)\n",
            "tf.Tensor(3, shape=(), dtype=int32)\n"
          ]
        }
      ],
      "source": [
        "dataset = Dataset.from_tensor_slices([1,2,3])\n",
        "\n",
        "for i in dataset:\n",
        "    print(i)"
      ]
    },
    {
      "cell_type": "code",
      "execution_count": 57,
      "metadata": {
        "id": "mnMR0g6Y0X8g"
      },
      "outputs": [
        {
          "data": {
            "text/plain": [
              "[1, 2]"
            ]
          },
          "execution_count": 57,
          "metadata": {},
          "output_type": "execute_result"
        }
      ],
      "source": [
        "dataset = Dataset.from_tensor_slices([1,2,3,4,5,6,7,8,9,10])\n",
        "dataset = dataset.filter(lambda x: x < 3)\n",
        "\n",
        "list(dataset.as_numpy_iterator())"
      ]
    },
    {
      "cell_type": "code",
      "execution_count": 58,
      "metadata": {},
      "outputs": [
        {
          "data": {
            "text/plain": [
              "[1, 1, 1, 1, 1]"
            ]
          },
          "execution_count": 58,
          "metadata": {},
          "output_type": "execute_result"
        }
      ],
      "source": [
        "dataset = Dataset.from_tensor_slices([1,0,1,1,0,1,0,1])\n",
        "dataset = dataset.filter(lambda x: x == 1)\n",
        "\n",
        "list(dataset.as_numpy_iterator())"
      ]
    },
    {
      "cell_type": "code",
      "execution_count": 60,
      "metadata": {},
      "outputs": [
        {
          "data": {
            "text/plain": [
              "[6]"
            ]
          },
          "execution_count": 60,
          "metadata": {},
          "output_type": "execute_result"
        }
      ],
      "source": [
        "#dataset = Dataset.from_tensor_slices([1,0,1,1,0,1,0,1])\n",
        "dataset = Dataset.from_tensor_slices([1,2,3,4,5,6,7,8,9,10])\n",
        "\n",
        "def filter_fn(x):\n",
        "    return tf.math.equal(x, 6)\n",
        "\n",
        "dataset = dataset.filter(filter_fn)\n",
        "list(dataset.as_numpy_iterator())"
      ]
    },
    {
      "cell_type": "markdown",
      "metadata": {
        "id": "MZlHtx9HiBnw"
      },
      "source": [
        "### shuffle, take"
      ]
    },
    {
      "cell_type": "code",
      "execution_count": 61,
      "metadata": {
        "id": "yVjGXd0Zg3MV"
      },
      "outputs": [],
      "source": [
        "dataset, info = tfds.load('imdb_reviews', with_info=True, as_supervised=True)\n"
      ]
    },
    {
      "cell_type": "code",
      "execution_count": 63,
      "metadata": {},
      "outputs": [
        {
          "data": {
            "text/plain": [
              "dict_keys(['train', 'test', 'unsupervised'])"
            ]
          },
          "execution_count": 63,
          "metadata": {},
          "output_type": "execute_result"
        }
      ],
      "source": [
        "dataset.keys()"
      ]
    },
    {
      "cell_type": "code",
      "execution_count": 66,
      "metadata": {},
      "outputs": [
        {
          "data": {
            "text/plain": [
              "<PrefetchDataset element_spec=(TensorSpec(shape=(), dtype=tf.string, name=None), TensorSpec(shape=(), dtype=tf.int64, name=None))>"
            ]
          },
          "execution_count": 66,
          "metadata": {},
          "output_type": "execute_result"
        }
      ],
      "source": [
        "dataset['train']"
      ]
    },
    {
      "cell_type": "code",
      "execution_count": 68,
      "metadata": {},
      "outputs": [
        {
          "data": {
            "text/plain": [
              "<TensorSliceDataset element_spec=TensorSpec(shape=(), dtype=tf.int32, name=None)>"
            ]
          },
          "execution_count": 68,
          "metadata": {},
          "output_type": "execute_result"
        }
      ],
      "source": [
        "num_items = 20\n",
        "num_list = np.arange(num_items)\n",
        "\n",
        "num_list_dataset = tf.data.Dataset.from_tensor_slices(num_list)\n",
        "\n",
        "num_list_dataset"
      ]
    },
    {
      "cell_type": "code",
      "execution_count": 76,
      "metadata": {},
      "outputs": [
        {
          "data": {
            "text/plain": [
              "[array([0, 1, 2, 3, 4]), array([5, 6, 7, 8, 9])]"
            ]
          },
          "execution_count": 76,
          "metadata": {},
          "output_type": "execute_result"
        }
      ],
      "source": [
        "aa = num_list_dataset.batch(5).shuffle(5).take(2)\n",
        "list(aa.as_numpy_iterator())"
      ]
    },
    {
      "cell_type": "code",
      "execution_count": 79,
      "metadata": {},
      "outputs": [
        {
          "name": "stdout",
          "output_type": "stream",
          "text": [
            "(<tf.Tensor: shape=(), dtype=string, numpy=b\"This was an absolutely terrible movie. Don't be lured in by Christopher Walken or Michael Ironside. Both are great actors, but this must simply be their worst role in history. Even their great acting could not redeem this movie's ridiculous storyline. This movie is an early nineties US propaganda piece. The most pathetic scenes were those when the Columbian rebels were making their cases for revolutions. Maria Conchita Alonso appeared phony, and her pseudo-love affair with Walken was nothing but a pathetic emotional plug in a movie that was devoid of any real meaning. I am disappointed that there are movies like this, ruining actor's like Christopher Walken's good name. I could barely sit through it.\">, <tf.Tensor: shape=(), dtype=int64, numpy=0>)\n"
          ]
        }
      ],
      "source": [
        "train_dataset = dataset['train']\n",
        "for i in train_dataset:\n",
        "    print(i)\n",
        "    break"
      ]
    },
    {
      "cell_type": "code",
      "execution_count": null,
      "metadata": {},
      "outputs": [],
      "source": []
    },
    {
      "cell_type": "code",
      "execution_count": 67,
      "metadata": {
        "id": "aIYeC8XMg3JR"
      },
      "outputs": [
        {
          "name": "stdout",
          "output_type": "stream",
          "text": [
            "(<tf.Tensor: shape=(5,), dtype=string, numpy=\n",
            "array([b\"This is a film which should be seen by anybody interested in, effected by, or suffering from an eating disorder. It is an amazingly accurate and sensitive portrayal of bulimia in a teenage girl, its causes and its symptoms. The girl is played by one of the most brilliant young actresses working in cinema today, Alison Lohman, who was later so spectacular in 'Where the Truth Lies'. I would recommend that this film be shown in all schools, as you will never see a better on this subject. Alison Lohman is absolutely outstanding, and one marvels at her ability to convey the anguish of a girl suffering from this compulsive disorder. If barometers tell us the air pressure, Alison Lohman tells us the emotional pressure with the same degree of accuracy. Her emotional range is so precise, each scene could be measured microscopically for its gradations of trauma, on a scale of rising hysteria and desperation which reaches unbearable intensity. Mare Winningham is the perfect choice to play her mother, and does so with immense sympathy and a range of emotions just as finely tuned as Lohman's. Together, they make a pair of sensitive emotional oscillators vibrating in resonance with one another. This film is really an astonishing achievement, and director Katt Shea should be proud of it. The only reason for not seeing it is if you are not interested in people. But even if you like nature films best, this is after all animal behaviour at the sharp edge. Bulimia is an extreme version of how a tormented soul can destroy her own body in a frenzy of despair. And if we don't sympathise with people suffering from the depths of despair, then we are dead inside.\",\n",
            "       b'Okay, you have:<br /><br />Penelope Keith as Miss Herringbone-Tweed, B.B.E. (Backbone of England.) She\\'s killed off in the first scene - that\\'s right, folks; this show has no backbone!<br /><br />Peter O\\'Toole as Ol\\' Colonel Cricket from The First War and now the emblazered Lord of the Manor.<br /><br />Joanna Lumley as the ensweatered Lady of the Manor, 20 years younger than the colonel and 20 years past her own prime but still glamourous (Brit spelling, not mine) enough to have a toy-boy on the side. It\\'s alright, they have Col. Cricket\\'s full knowledge and consent (they guy even comes \\'round for Christmas!) Still, she\\'s considerate of the colonel enough to have said toy-boy her own age (what a gal!)<br /><br />David McCallum as said toy-boy, equally as pointlessly glamourous as his squeeze. Pilcher couldn\\'t come up with any cover for him within the story, so she gave him a hush-hush job at the Circus.<br /><br />and finally:<br /><br />Susan Hampshire as Miss Polonia Teacups, Venerable Headmistress of the Venerable Girls\\' Boarding-School, serving tea in her office with a dash of deep, poignant advice for life in the outside world just before graduation. Her best bit of advice: \"I\\'ve only been to Nancherrow (the local Stately Home of England) once. I thought it was very beautiful but, somehow, not part of the real world.\" Well, we can\\'t say they didn\\'t warn us.<br /><br />Ah, Susan - time was, your character would have been running the whole show. They don\\'t write \\'em like that any more. Our loss, not yours.<br /><br />So - with a cast and setting like this, you have the re-makings of \"Brideshead Revisited,\" right?<br /><br />Wrong! They took these 1-dimensional supporting roles because they paid so well. After all, acting is one of the oldest temp-jobs there is (YOU name another!)<br /><br />First warning sign: lots and lots of backlighting. They get around it by shooting outdoors - \"hey, it\\'s just the sunlight!\"<br /><br />Second warning sign: Leading Lady cries a lot. When not crying, her eyes are moist. That\\'s the law of romance novels: Leading Lady is \"dewy-eyed.\"<br /><br />Henceforth, Leading Lady shall be known as L.L.<br /><br />Third warning sign: L.L. actually has stars in her eyes when she\\'s in love. Still, I\\'ll give Emily Mortimer an award just for having to act with that spotlight in her eyes (I wonder . did they use contacts?)<br /><br />And lastly, fourth warning sign: no on-screen female character is \"Mrs.\" She\\'s either \"Miss\" or \"Lady.\"<br /><br />When all was said and done, I still couldn\\'t tell you who was pursuing whom and why. I couldn\\'t even tell you what was said and done.<br /><br />To sum up: they all live through World War II without anything happening to them at all.<br /><br />OK, at the end, L.L. finds she\\'s lost her parents to the Japanese prison camps and baby sis comes home catatonic. Meanwhile (there\\'s always a \"meanwhile,\") some young guy L.L. had a crush on (when, I don\\'t know) comes home from some wartime tough spot and is found living on the street by Lady of the Manor (must be some street if SHE\\'s going to find him there.) Both war casualties are whisked away to recover at Nancherrow (SOMEBODY has to be \"whisked away\" SOMEWHERE in these romance stories!)<br /><br />Great drama.',\n",
            "       b'The film is based on a genuine 1950s novel.<br /><br />Journalist Colin McInnes wrote a set of three \"London novels\": \"Absolute Beginners\", \"City of Spades\" and \"Mr Love and Justice\". I have read all three. The first two are excellent. The last, perhaps an experiment that did not come off. But McInnes\\'s work is highly acclaimed; and rightly so. This musical is the novelist\\'s ultimate nightmare - to see the fruits of one\\'s mind being turned into a glitzy, badly-acted, soporific one-dimensional apology of a film that says it captures the spirit of 1950s London, and does nothing of the sort.<br /><br />Thank goodness Colin McInnes wasn\\'t alive to witness it.',\n",
            "       b'I really love the sexy action and sci-fi films of the sixties and its because of the actress\\'s that appeared in them. They found the sexiest women to be in these films and it didn\\'t matter if they could act (Remember \"Candy\"?). The reason I was disappointed by this film was because it wasn\\'t nostalgic enough. The story here has a European sci-fi film called \"Dragonfly\" being made and the director is fired. So the producers decide to let a young aspiring filmmaker (Jeremy Davies) to complete the picture. They\\'re is one real beautiful woman in the film who plays Dragonfly but she\\'s barely in it. Film is written and directed by Roman Coppola who uses some of his fathers exploits from his early days and puts it into the script. I wish the film could have been an homage to those early films. They could have lots of cameos by actors who appeared in them. There is one actor in this film who was popular from the sixties and its John Phillip Law (Barbarella). Gerard Depardieu, Giancarlo Giannini and Dean Stockwell appear as well. I guess I\\'m going to have to continue waiting for a director to make a good homage to the films of the sixties. If any are reading this, \"Make it as sexy as you can\"! I\\'ll be waiting!',\n",
            "       b'Sure, this one isn\\'t really a blockbuster, nor does it target such a position. \"Dieter\" is the first name of a quite popular German musician, who is either loved or hated for his kind of acting and thats exactly what this movie is about. It is based on the autobiography \"Dieter Bohlen\" wrote a few years ago but isn\\'t meant to be accurate on that. The movie is filled with some sexual offensive content (at least for American standard) which is either amusing (not for the other \"actors\" of course) or dumb - it depends on your individual kind of humor or on you being a \"Bohlen\"-Fan or not. Technically speaking there isn\\'t much to criticize. Speaking of me I find this movie to be an OK-movie.'],\n",
            "      dtype=object)>, <tf.Tensor: shape=(5,), dtype=int64, numpy=array([1, 0, 0, 0, 0], dtype=int64)>)\n",
            "(<tf.Tensor: shape=(5,), dtype=string, numpy=\n",
            "array([b'It was disgusting and painful. What a waste of a cast! I swear, the audience (1/2 full) laughed TWICE in 90 minutes. This is not a lie. Do not even rent it.<br /><br />Zeta Jones was just too mean to be believable.<br /><br />Cusack was OK. Just OK. I felt sorry for him (the actor) in case people remember this mess.<br /><br />Roberts was the same as she always is. Charming and sweet, but with no purpose. The \"romance\" with John was completely unbelievable.',\n",
            "       b'This is a straight-to-video movie, so it should go without saying that it\\'s not going to rival the first Lion King, but that said, this was downright good.<br /><br />My kids loved this, but that\\'s a given, they love anything that\\'s a cartoon. The big shock was that *I* liked it too, it was laugh out loud funny at some parts (even the fart jokes*), had lots of rather creative tie-ins with the first movie, and even some jokes that you had to be older to understand (but without being risqu\\xc3\\xa9 like in Shrek [\"do you think he\\'s compensating for something?\"]).<br /><br />A special note on the fart jokes, I was surprised to find that none of the jokes were just toilet noises (in fact there were almost no noises/imagery at all, the references were actually rather subtle), they actually had a setup/punchline/etc, and were almost in good taste. I\\'d like my kids to think that there\\'s more to humor than going to the bathroom, and this movie is fine in those regards.<br /><br />Hmm what else? The music was so-so, not nearly as creative as in the first or second movie, but plenty of fun for the kids. No painfully corny moments, which was a blessing for me. A little action but nothing too scary (the Secret of NIMH gave my kids nightmares, not sure a G rating was appropriate for that one...)<br /><br />All in all I\\'d say this is a great movie for kids of any age, one that\\'s 100% safe to let them watch (I try not to be overly sensitive but I\\'ve had to jump up and turn off the TV during a few movies that were less kid-appropriate than expected) - but you\\'re safe to leave the room during this one. I\\'d say stick around anyway though, you might find that you enjoy it too :)',\n",
            "       b'Finally, Timon and Pumbaa in their own film...<br /><br />\\'The Lion King 1 1/2: Hakuna Matata\\' is an irreverent new take on a classic tale. Which classic tale, you ask? Why, \\'The Lion King\\' of course!<br /><br />Yep, if there\\'s one thing that Disney is never short of, it\\'s narcissism.<br /><br />But that doesn\\'t mean that this isn\\'t a good film. It\\'s basically the events of \\'The Lion King\\' as told from Timon and Pumbaa\\'s perspective. And it\\'s because of this that you\\'ll have to know the story of \\'The Lion King\\' by heart to see where they\\'re coming from.<br /><br />Anyway, at one level I was watching this and thinking \"Oh my god this is so lame...\" and on another level I was having a ball. Much of the humour is predictable - I mean, when Pumbaa makes up two beds, a big one for himself and a small one for Timon, within the first nanosecond we all know that Timon is going to take the big one. But that doesn\\'t stop it from being hilarious, which, IMO, is \\'Hakuna Matata\\' in a nutshell. It\\'s not what happens, it\\'s how.<br /><br />And a note of warning: there are also some fart jokes. Seriously, did you expect anything else in a film where Pumbaa takes centre stage? But as fart jokes go, these are especially good, and should satisfy even the most particular connoisseur.<br /><br />The returning voice talent is great. I\\'m kinda surprised that some of the actors were willing to return, what with most of them only having two or three lines (if they\\'re lucky). Whoopi Goldberg is particularly welcome.<br /><br />The music is also great. From \\'Digga Tunnah\\' at the start to \\'That\\'s all I need\\', an adaption of \\'Warthog Rhapsody\\' (a song that was cut from \\'The Lion King\\' and is frankly much improved in this incarnation), the music leaves me with nothing to complain about whatsoever.<br /><br />In the end, Timon and Pumbaa are awesome characters, and while it may be argued that \\'Hakuna Matata\\' is simply an excuse to see them in various fun and assorted compromising situations then so be it. It\\'s rare to find characters that you just want to spend time with.<br /><br />Am I starting to sound creepy?<br /><br />Either way, \\'The Lion King 1 1/2\\' is great if you\\'ve seen \\'The Lion King\\' far too many times. Especially if you are right now thinking \"Don\\'t be silly, there\\'s no such thing as seeing \\'The Lion King\\' too many times!\"',\n",
            "       b'Indian Directors have it tough, They have to compete with movies like \"Laggan\" where 11 henpecked,Castrated males defend their village and half of them are certifiable idiots. \"Devdas\", a hapless, fedar- festooned foreign return drinking to oblivion, with characters running in endless corridors oblivious to any one\\'s feelings or sentiments-alas they live in an ornate squalor of red tapestry and pageantry. But to make a good movie, you have to tight-rope walk to appease the frontbenchers who are the quentessential gapers who are mesmerized with Split skirts and Dishum-Dishum fights preferably involving a nitwit \"Bollywood\" leading actor who is marginally handsome. So you can connect with a director who wants to tell a tale of Leonine village head who in own words \"defending his Village\" this is considered a violent movie or too masculine for a male audience. There are very few actors who can convey the anger and pathos like Nana Patekar (Narasimhan). Nana Patekar lets you in his courtyard and watch him beret and mock the Politician when his loyal admirers burst in laughter with every word of satire thrown at him, meanwhile his daughter is bathing his Grandson.This is as authentic a scene you can get in rural India. Nana Patekar is the essential actor who belongs to the old school of acting which is a disappearing breed in Hindi Films. The violence depicted is an intricate part of storytelling with Song&Dances thrown in for the gawkers without whom movies won\\'t sell, a sad but true state of affairs. Faster this changes better for \"Bollywood\". All said and done this is one good Movie.',\n",
            "       b\"Nathan Detroit runs illegal craps games for high rollers in NYC, but the heat is on and he can't find a secure location. He bets chronic gambler Sky Masterson that Sky can't make a prim missionary, Sarah Brown, go out to dinner with him. Sky takes up the challenge, but both men have some surprises in store \\xc2\\x85<br /><br />This is one of those expensive fifties MGM musicals in splashy colour, with big sets, loud music, larger-than-life roles and performances to match; Broadway photographed for the big screen if you like that sort of thing, which I don't. My main problem with these type of movies is simply the music. I like all kinds of music, from Albinoni to ZZ Top, but Broadway show tunes in swing time with never-ending pah-pah-tah-dah trumpet flourishes at the end of every fourth bar aren't my cup of tea. This was written by the tag team of Frank Loesser, Mankiewicz, Jo Swerling and Abe Burrows (based on a couple of Damon Runyon stories), and while the plot is quite affable the songs are weak. Blaine's two numbers for example are identical, unnecessary, don't advance the plot and grate on the ears (and are also flagrantly misogynistic if that sort of thing bothers you). There are only two memorable tunes, Luck Be A Lady (sung by Brando, not Sinatra as you might expect) and Sit Down, You're Rockin' The Boat (nicely performed by Kaye) but you have to sit through two hours to get to them. The movie's trump card is a young Brando giving a thoughtful, laid-back performance; he also sings quite well and even dances a little, and is evenly matched with the always interesting Simmons. The sequence where the two of them escape to Havana for the night is a welcome respite from all the noise, bustle and vowel-murdering of Noo Yawk. Fans of musicals may dig this, but in my view a musical has to do something more than just film the stage show.\"],\n",
            "      dtype=object)>, <tf.Tensor: shape=(5,), dtype=int64, numpy=array([0, 1, 1, 1, 0], dtype=int64)>)\n"
          ]
        }
      ],
      "source": [
        "train_dataset = dataset['train']\n",
        "train_dataset = train_dataset.batch(5).shuffle(5).take(2)\n",
        "\n",
        "for data in train_dataset:\n",
        "    print(data)"
      ]
    },
    {
      "cell_type": "markdown",
      "metadata": {
        "id": "4OqOaYk6k7wy"
      },
      "source": [
        "### get_next()"
      ]
    },
    {
      "cell_type": "code",
      "execution_count": 80,
      "metadata": {
        "id": "m57rjJsskp8t"
      },
      "outputs": [
        {
          "name": "stdout",
          "output_type": "stream",
          "text": [
            "tf.Tensor(0, shape=(), dtype=int64)\n",
            "tf.Tensor(1, shape=(), dtype=int64)\n"
          ]
        }
      ],
      "source": [
        "dataset = Dataset.range(2)\n",
        "for element in dataset:\n",
        "    print(element)"
      ]
    },
    {
      "cell_type": "code",
      "execution_count": 81,
      "metadata": {
        "id": "vitlC-JCkp4U"
      },
      "outputs": [
        {
          "name": "stdout",
          "output_type": "stream",
          "text": [
            "<RangeDataset element_spec=TensorSpec(shape=(), dtype=tf.int64, name=None)>\n",
            "tf.Tensor(0, shape=(), dtype=int64)\n",
            "tf.Tensor(1, shape=(), dtype=int64)\n"
          ]
        }
      ],
      "source": [
        "dataset = Dataset.range(2)\n",
        "iterator = iter(dataset)\n",
        "\n",
        "print(dataset)\n",
        "print(iterator.get_next())\n",
        "print(iterator.get_next())\n"
      ]
    },
    {
      "cell_type": "code",
      "execution_count": null,
      "metadata": {
        "id": "6o4XRcpLg3Fm"
      },
      "outputs": [],
      "source": [
        "a = np.random.randint(0, 10, size=(2,3))\n",
        "print(a)\n",
        "\n",
        "dataset = Dataset.from_tensor_slices(a)\n",
        "iterator = iter(dataset)\n",
        "\n",
        "print(iterator.get_next())\n",
        "print(iterator.get_next())\n"
      ]
    },
    {
      "cell_type": "code",
      "execution_count": 83,
      "metadata": {},
      "outputs": [
        {
          "name": "stdout",
          "output_type": "stream",
          "text": [
            "[[2 8 0]\n",
            " [3 3 1]]\n"
          ]
        }
      ],
      "source": [
        "a = np.random.randint(0, 10, size=(2,3))\n",
        "print(a)"
      ]
    },
    {
      "cell_type": "code",
      "execution_count": 90,
      "metadata": {},
      "outputs": [
        {
          "name": "stdout",
          "output_type": "stream",
          "text": [
            "tf.Tensor([2 8 0], shape=(3,), dtype=int32)\n",
            "tf.Tensor([3 3 1], shape=(3,), dtype=int32)\n"
          ]
        }
      ],
      "source": [
        "dataset = Dataset.from_tensor_slices(a)\n",
        "dataset\n",
        "iterator = iter(dataset)\n",
        "print(iterator.get_next())\n",
        "print(iterator.get_next())\n"
      ]
    },
    {
      "cell_type": "markdown",
      "metadata": {
        "id": "oAK97VN4JObZ"
      },
      "source": [
        "## tf.dataset을 이용한 Fashion-MNIST 분류"
      ]
    },
    {
      "cell_type": "markdown",
      "metadata": {
        "id": "8FyGWr9h5s9m"
      },
      "source": [
        "### modules import"
      ]
    },
    {
      "cell_type": "code",
      "execution_count": 103,
      "metadata": {
        "id": "wtumZQhkobI5"
      },
      "outputs": [],
      "source": [
        "import matplotlib.pyplot as plt \n",
        "plt.style.use('seaborn-white')\n",
        "%matplotlib inline\n",
        "\n",
        "import tensorflow as tf \n",
        "from tensorflow.keras.layers import Dense, Input, Flatten, Dropout, Activation, BatchNormalization\n",
        "from tensorflow.keras.models import Model \n",
        "from tensorflow.keras.datasets.fashion_mnist import load_data\n",
        "\n",
        "from tensorflow.data import Dataset"
      ]
    },
    {
      "cell_type": "markdown",
      "metadata": {
        "id": "VOTtgNwc3R6f"
      },
      "source": [
        "### 데이터 로드"
      ]
    },
    {
      "cell_type": "code",
      "execution_count": 104,
      "metadata": {
        "id": "8434sHHjob1L"
      },
      "outputs": [],
      "source": [
        "(x_train, y_train), (x_test, y_test) = load_data()"
      ]
    },
    {
      "cell_type": "code",
      "execution_count": 105,
      "metadata": {
        "id": "bfxxi0TJ3kwq"
      },
      "outputs": [
        {
          "name": "stdout",
          "output_type": "stream",
          "text": [
            "(60000, 28, 28)\n",
            "(60000,)\n",
            "(10000, 28, 28)\n",
            "(10000,)\n"
          ]
        }
      ],
      "source": [
        "print(x_train.shape)\n",
        "print(y_train.shape)\n",
        "print(x_test.shape)\n",
        "print(y_test.shape)"
      ]
    },
    {
      "cell_type": "markdown",
      "metadata": {
        "id": "PPR9OD1w3mBQ"
      },
      "source": [
        "### 데이터 전처리"
      ]
    },
    {
      "cell_type": "code",
      "execution_count": 106,
      "metadata": {
        "id": "U3W43mhxob4P"
      },
      "outputs": [],
      "source": [
        "x_train = x_train / 255.\n",
        "x_test = x_test / 255."
      ]
    },
    {
      "cell_type": "markdown",
      "metadata": {
        "id": "nm8NM-QX32sf"
      },
      "source": [
        "### tf.data 이용"
      ]
    },
    {
      "cell_type": "code",
      "execution_count": 107,
      "metadata": {
        "id": "VC9howR-obaW"
      },
      "outputs": [],
      "source": [
        "train_ds = Dataset.from_tensor_slices((x_train, y_train))\n",
        "train_ds = train_ds.shuffle(1000)\n",
        "train_ds = train_ds.batch(32)\n",
        "\n",
        "test_ds = Dataset.from_tensor_slices((x_test, y_test))\n",
        "test_ds = test_ds.batch(32)"
      ]
    },
    {
      "cell_type": "code",
      "execution_count": 108,
      "metadata": {},
      "outputs": [
        {
          "data": {
            "text/plain": [
              "<BatchDataset element_spec=(TensorSpec(shape=(None, 28, 28), dtype=tf.float64, name=None), TensorSpec(shape=(None,), dtype=tf.uint8, name=None))>"
            ]
          },
          "execution_count": 108,
          "metadata": {},
          "output_type": "execute_result"
        }
      ],
      "source": [
        "train_ds"
      ]
    },
    {
      "cell_type": "code",
      "execution_count": 109,
      "metadata": {
        "id": "FkbVvnrU5Idc"
      },
      "outputs": [],
      "source": [
        "class_names = ['T-shirt/top','Trouser','Pullover','Dress','Coat', 'Sandle','Shirt','Sneaker','Bag','Ankle boot']"
      ]
    },
    {
      "cell_type": "markdown",
      "metadata": {
        "id": "aXJEB1qg4eB0"
      },
      "source": [
        "### 데이터 확인"
      ]
    },
    {
      "cell_type": "code",
      "execution_count": 110,
      "metadata": {
        "id": "COlETHf2obVD"
      },
      "outputs": [
        {
          "name": "stdout",
          "output_type": "stream",
          "text": [
            "(32, 28, 28) (32,)\n"
          ]
        },
        {
          "data": {
            "image/png": "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",
            "text/plain": [
              "<Figure size 432x288 with 1 Axes>"
            ]
          },
          "metadata": {
            "needs_background": "light"
          },
          "output_type": "display_data"
        },
        {
          "name": "stdout",
          "output_type": "stream",
          "text": [
            "(32, 28, 28) (32,)\n"
          ]
        },
        {
          "data": {
            "image/png": "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",
            "text/plain": [
              "<Figure size 432x288 with 1 Axes>"
            ]
          },
          "metadata": {
            "needs_background": "light"
          },
          "output_type": "display_data"
        },
        {
          "name": "stdout",
          "output_type": "stream",
          "text": [
            "(32, 28, 28) (32,)\n"
          ]
        },
        {
          "data": {
            "image/png": "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",
            "text/plain": [
              "<Figure size 432x288 with 1 Axes>"
            ]
          },
          "metadata": {
            "needs_background": "light"
          },
          "output_type": "display_data"
        },
        {
          "name": "stdout",
          "output_type": "stream",
          "text": [
            "(32, 28, 28) (32,)\n"
          ]
        },
        {
          "data": {
            "image/png": "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",
            "text/plain": [
              "<Figure size 432x288 with 1 Axes>"
            ]
          },
          "metadata": {
            "needs_background": "light"
          },
          "output_type": "display_data"
        },
        {
          "name": "stdout",
          "output_type": "stream",
          "text": [
            "(32, 28, 28) (32,)\n"
          ]
        },
        {
          "data": {
            "image/png": "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",
            "text/plain": [
              "<Figure size 432x288 with 1 Axes>"
            ]
          },
          "metadata": {
            "needs_background": "light"
          },
          "output_type": "display_data"
        }
      ],
      "source": [
        "for image, label in train_ds.take(5):\n",
        "    print(image.shape, label.shape)\n",
        "    plt.title('{}'.format(class_names[label[0]]))\n",
        "    plt.imshow(image[0, :, :], cmap='gray')\n",
        "    plt.show()"
      ]
    },
    {
      "cell_type": "markdown",
      "metadata": {
        "id": "-2PTjY1D5g4L"
      },
      "source": [
        "### 모델 생성\n",
        "- 임의의 모델"
      ]
    },
    {
      "cell_type": "code",
      "execution_count": 111,
      "metadata": {
        "id": "g29WUBIKobRN"
      },
      "outputs": [],
      "source": [
        "def build_model():\n",
        "    input = Input(shape=(28,28), name='input')\n",
        "    flatten = Flatten(input_shape=[28,28], name='flatten')(input)\n",
        "    hidden1 = Dense(256, kernel_initializer='he_normal', name='hidden1')(flatten)\n",
        "    hidden1 = BatchNormalization()(hidden1)\n",
        "    hidden1 = Activation('relu')(hidden1)\n",
        "    dropout1 = Dropout(0.5)(hidden1)\n",
        "    \n",
        "    hidden2 = Dense(100, kernel_initializer='he_normal', name='hidden2')(dropout1)\n",
        "    hidden2 = BatchNormalization()(hidden2)\n",
        "    hidden2 = Activation('relu')(hidden2)\n",
        "    dropout2 = Dropout(0.5)(hidden2)\n",
        "    \n",
        "    hidden3 = Dense(100, kernel_initializer='he_normal', name='hidden3')(dropout2)\n",
        "    hidden3 = BatchNormalization()(hidden3)\n",
        "    hidden3 = Activation('relu')(hidden3)\n",
        "    dropout3 = Dropout(0.5)(hidden3)\n",
        "\n",
        "    hidden4 = Dense(50, kernel_initializer='he_normal', name='hidden4')(dropout3)\n",
        "    hidden4 = BatchNormalization()(hidden4)\n",
        "    hidden4 = Activation('relu')(hidden4)\n",
        "    dropout4 = Dropout(0.5)(hidden4)\n",
        "\n",
        "    output = Dense(10, activation='softmax', name='output')(dropout4)\n",
        "    \n",
        "    model = Model(inputs=[input], outputs=[output])\n",
        "    \n",
        "    return model\n",
        "    "
      ]
    },
    {
      "cell_type": "code",
      "execution_count": 112,
      "metadata": {
        "id": "q7YYIDZq8iRN"
      },
      "outputs": [],
      "source": [
        "model = build_model()"
      ]
    },
    {
      "cell_type": "code",
      "execution_count": 113,
      "metadata": {
        "id": "qNlPrHBT9w-G"
      },
      "outputs": [
        {
          "name": "stdout",
          "output_type": "stream",
          "text": [
            "Model: \"model\"\n",
            "_________________________________________________________________\n",
            " Layer (type)                Output Shape              Param #   \n",
            "=================================================================\n",
            " input (InputLayer)          [(None, 28, 28)]          0         \n",
            "                                                                 \n",
            " flatten (Flatten)           (None, 784)               0         \n",
            "                                                                 \n",
            " hidden1 (Dense)             (None, 256)               200960    \n",
            "                                                                 \n",
            " batch_normalization (BatchN  (None, 256)              1024      \n",
            " ormalization)                                                   \n",
            "                                                                 \n",
            " activation (Activation)     (None, 256)               0         \n",
            "                                                                 \n",
            " dropout (Dropout)           (None, 256)               0         \n",
            "                                                                 \n",
            " hidden2 (Dense)             (None, 100)               25700     \n",
            "                                                                 \n",
            " batch_normalization_1 (Batc  (None, 100)              400       \n",
            " hNormalization)                                                 \n",
            "                                                                 \n",
            " activation_1 (Activation)   (None, 100)               0         \n",
            "                                                                 \n",
            " dropout_1 (Dropout)         (None, 100)               0         \n",
            "                                                                 \n",
            " hidden3 (Dense)             (None, 100)               10100     \n",
            "                                                                 \n",
            " batch_normalization_2 (Batc  (None, 100)              400       \n",
            " hNormalization)                                                 \n",
            "                                                                 \n",
            " activation_2 (Activation)   (None, 100)               0         \n",
            "                                                                 \n",
            " dropout_2 (Dropout)         (None, 100)               0         \n",
            "                                                                 \n",
            " hidden4 (Dense)             (None, 50)                5050      \n",
            "                                                                 \n",
            " batch_normalization_3 (Batc  (None, 50)               200       \n",
            " hNormalization)                                                 \n",
            "                                                                 \n",
            " activation_3 (Activation)   (None, 50)                0         \n",
            "                                                                 \n",
            " dropout_3 (Dropout)         (None, 50)                0         \n",
            "                                                                 \n",
            " output (Dense)              (None, 10)                510       \n",
            "                                                                 \n",
            "=================================================================\n",
            "Total params: 244,344\n",
            "Trainable params: 243,332\n",
            "Non-trainable params: 1,012\n",
            "_________________________________________________________________\n"
          ]
        }
      ],
      "source": [
        "model.summary()"
      ]
    },
    {
      "cell_type": "markdown",
      "metadata": {
        "id": "8noHcg8C6xMM"
      },
      "source": [
        "### 모델 컴파일\n",
        "- 평가(metrics)방식의 다른 방법\n",
        "  - `tf.keras.metrics.Mean`\n",
        "  - `tf.keras.metrics.SparseCategoricalAccuracy`\n",
        "\n",
        "- 위 두 방식을 사용하여 loss값을 좀 더 smooth하게 만들기(평균을 내는 방식)"
      ]
    },
    {
      "cell_type": "code",
      "execution_count": 114,
      "metadata": {
        "id": "gpjwC1pa7pvI"
      },
      "outputs": [],
      "source": [
        "loss_object = tf.keras.losses.SparseCategoricalCrossentropy()\n",
        "optimizer = tf.keras.optimizers.Adam()"
      ]
    },
    {
      "cell_type": "code",
      "execution_count": 115,
      "metadata": {
        "id": "DSA2H53-6967"
      },
      "outputs": [],
      "source": [
        "train_loss = tf.keras.metrics.Mean(name='train_loss')\n",
        "train_accuracy = tf.keras.metrics.SparseCategoricalAccuracy(name='train_accuracy')\n",
        "\n",
        "test_loss = tf.keras.metrics.Mean(name='test_loss')\n",
        "test_accuracy = tf.keras.metrics.SparseCategoricalAccuracy(name='test_accuracy')\n"
      ]
    },
    {
      "cell_type": "markdown",
      "metadata": {
        "id": "1uC7KjrU6WqL"
      },
      "source": [
        "### 모델 학습"
      ]
    },
    {
      "cell_type": "markdown",
      "metadata": {
        "id": "ZTF2mvFYRoj_"
      },
      "source": [
        "@tf.function 으로 인해 학습이 시작되면 그래프를 생성하여 속도가 빠름\n"
      ]
    },
    {
      "cell_type": "code",
      "execution_count": 116,
      "metadata": {
        "id": "rRw0DDmqobEv"
      },
      "outputs": [],
      "source": [
        "@tf.function\n",
        "def train_step(images, labels):\n",
        "    with tf.GradientTape() as tape:\n",
        "        predictions = model(images)\n",
        "        loss = loss_object(labels, predictions)\n",
        "    \n",
        "    gradients = tape.gradient(loss, model.trainable_variables)\n",
        "    optimizer.apply_gradients(zip(gradients, model.trainable_variables))\n",
        "    \n",
        "    train_loss(loss)\n",
        "    train_accuracy(labels, predictions)\n",
        "    "
      ]
    },
    {
      "cell_type": "code",
      "execution_count": 117,
      "metadata": {
        "id": "rKoMJ7iJobB_"
      },
      "outputs": [],
      "source": [
        "@tf.function\n",
        "def test_step(images, labels):\n",
        "    predictions = model(images)\n",
        "    loss = loss_object(labels, predictions)\n",
        "    \n",
        "    test_loss(loss)\n",
        "    test_accuracy(labels, predictions)"
      ]
    },
    {
      "cell_type": "code",
      "execution_count": 118,
      "metadata": {
        "id": "sYkJhFWIoa_m"
      },
      "outputs": [
        {
          "name": "stdout",
          "output_type": "stream",
          "text": [
            "Epochs   1\tLoss: 0.4938\tAccuracy: 82.2133\tTest Loss: 0.4489\tTest Accuracy: 83.5700\t\n",
            "Epochs   2\tLoss: 0.4312\tAccuracy: 84.3533\tTest Loss: 0.4149\tTest Accuracy: 84.8050\t\n",
            "Epochs   3\tLoss: 0.3985\tAccuracy: 85.4389\tTest Loss: 0.4032\tTest Accuracy: 85.1200\t\n",
            "Epochs   4\tLoss: 0.3763\tAccuracy: 86.2138\tTest Loss: 0.3903\tTest Accuracy: 85.5625\t\n",
            "Epochs   5\tLoss: 0.3594\tAccuracy: 86.7813\tTest Loss: 0.3817\tTest Accuracy: 85.9300\t\n",
            "Epochs   6\tLoss: 0.3454\tAccuracy: 87.2497\tTest Loss: 0.3744\tTest Accuracy: 86.2433\t\n",
            "Epochs   7\tLoss: 0.3339\tAccuracy: 87.6493\tTest Loss: 0.3706\tTest Accuracy: 86.4557\t\n",
            "Epochs   8\tLoss: 0.3237\tAccuracy: 87.9942\tTest Loss: 0.3686\tTest Accuracy: 86.6288\t\n",
            "Epochs   9\tLoss: 0.3148\tAccuracy: 88.3096\tTest Loss: 0.3658\tTest Accuracy: 86.7856\t\n",
            "Epochs  10\tLoss: 0.3067\tAccuracy: 88.5903\tTest Loss: 0.3639\tTest Accuracy: 86.9270\t\n",
            "Epochs  11\tLoss: 0.2994\tAccuracy: 88.8453\tTest Loss: 0.3628\tTest Accuracy: 87.0482\t\n",
            "Epochs  12\tLoss: 0.2926\tAccuracy: 89.0938\tTest Loss: 0.3612\tTest Accuracy: 87.1725\t\n",
            "Epochs  13\tLoss: 0.2863\tAccuracy: 89.3072\tTest Loss: 0.3604\tTest Accuracy: 87.2692\t\n",
            "Epochs  14\tLoss: 0.2804\tAccuracy: 89.5183\tTest Loss: 0.3596\tTest Accuracy: 87.3550\t\n",
            "Epochs  15\tLoss: 0.2751\tAccuracy: 89.7056\tTest Loss: 0.3599\tTest Accuracy: 87.4233\t\n",
            "Epochs  16\tLoss: 0.2700\tAccuracy: 89.8828\tTest Loss: 0.3612\tTest Accuracy: 87.4850\t\n",
            "Epochs  17\tLoss: 0.2651\tAccuracy: 90.0521\tTest Loss: 0.3605\tTest Accuracy: 87.5541\t\n",
            "Epochs  18\tLoss: 0.2606\tAccuracy: 90.2130\tTest Loss: 0.3613\tTest Accuracy: 87.6111\t\n",
            "Epochs  19\tLoss: 0.2562\tAccuracy: 90.3711\tTest Loss: 0.3616\tTest Accuracy: 87.6705\t\n",
            "Epochs  20\tLoss: 0.2520\tAccuracy: 90.5249\tTest Loss: 0.3629\tTest Accuracy: 87.7135\t\n"
          ]
        }
      ],
      "source": [
        "epochs = 20\n",
        "\n",
        "for epoch in range(epochs):\n",
        "    for images, labels in train_ds:\n",
        "        train_step(images, labels)\n",
        "\n",
        "    for test_images, test_labels in test_ds:\n",
        "        test_step(test_images, test_labels)\n",
        "        \n",
        "    template = 'Epochs {:3d}\\tLoss: {:.4f}\\tAccuracy: {:.4f}\\tTest Loss: {:.4f}\\tTest Accuracy: {:.4f}\\t'\n",
        "    print(template.format(epoch+1,\n",
        "                          train_loss.result(),\n",
        "                          train_accuracy.result()*100,\n",
        "                          test_loss.result(),\n",
        "                          test_accuracy.result()*100))\n"
      ]
    },
    {
      "cell_type": "markdown",
      "metadata": {
        "id": "ZEUXDyCMKWRo"
      },
      "source": [
        "### 모델 학습 : 2번째 방법 (Keras)"
      ]
    },
    {
      "cell_type": "code",
      "execution_count": 121,
      "metadata": {
        "id": "TRlqurJ_Mz6v"
      },
      "outputs": [],
      "source": [
        "from sklearn.model_selection import train_test_split \n"
      ]
    },
    {
      "cell_type": "code",
      "execution_count": 122,
      "metadata": {
        "id": "XGLv1B6-KiWK"
      },
      "outputs": [
        {
          "name": "stdout",
          "output_type": "stream",
          "text": [
            "(42000, 28, 28)\n",
            "(42000,)\n",
            "(18000, 28, 28)\n",
            "(18000,)\n",
            "(10000, 28, 28)\n",
            "(10000,)\n",
            "Model: \"model_1\"\n",
            "_________________________________________________________________\n",
            " Layer (type)                Output Shape              Param #   \n",
            "=================================================================\n",
            " input (InputLayer)          [(None, 28, 28)]          0         \n",
            "                                                                 \n",
            " flatten (Flatten)           (None, 784)               0         \n",
            "                                                                 \n",
            " hidden1 (Dense)             (None, 256)               200960    \n",
            "                                                                 \n",
            " batch_normalization_4 (Batc  (None, 256)              1024      \n",
            " hNormalization)                                                 \n",
            "                                                                 \n",
            " activation_4 (Activation)   (None, 256)               0         \n",
            "                                                                 \n",
            " dropout_4 (Dropout)         (None, 256)               0         \n",
            "                                                                 \n",
            " hidden2 (Dense)             (None, 100)               25700     \n",
            "                                                                 \n",
            " batch_normalization_5 (Batc  (None, 100)              400       \n",
            " hNormalization)                                                 \n",
            "                                                                 \n",
            " activation_5 (Activation)   (None, 100)               0         \n",
            "                                                                 \n",
            " dropout_5 (Dropout)         (None, 100)               0         \n",
            "                                                                 \n",
            " hidden3 (Dense)             (None, 100)               10100     \n",
            "                                                                 \n",
            " batch_normalization_6 (Batc  (None, 100)              400       \n",
            " hNormalization)                                                 \n",
            "                                                                 \n",
            " activation_6 (Activation)   (None, 100)               0         \n",
            "                                                                 \n",
            " dropout_6 (Dropout)         (None, 100)               0         \n",
            "                                                                 \n",
            " hidden4 (Dense)             (None, 50)                5050      \n",
            "                                                                 \n",
            " batch_normalization_7 (Batc  (None, 50)               200       \n",
            " hNormalization)                                                 \n",
            "                                                                 \n",
            " activation_7 (Activation)   (None, 50)                0         \n",
            "                                                                 \n",
            " dropout_7 (Dropout)         (None, 50)                0         \n",
            "                                                                 \n",
            " output (Dense)              (None, 10)                510       \n",
            "                                                                 \n",
            "=================================================================\n",
            "Total params: 244,344\n",
            "Trainable params: 243,332\n",
            "Non-trainable params: 1,012\n",
            "_________________________________________________________________\n"
          ]
        }
      ],
      "source": [
        "(x_train_full, y_train_full), (x_test, y_test) = load_data()\n",
        "\n",
        "x_train, x_val, y_train, y_val = train_test_split(x_train_full, y_train_full,\n",
        "                                                  test_size=0.3,\n",
        "                                                  random_state=777)\n",
        "\n",
        "x_train = x_train / 255.\n",
        "x_val = x_val / 255.\n",
        "x_test = x_test / 255.\n",
        "\n",
        "print(x_train.shape)\n",
        "print(y_train.shape)\n",
        "print(x_val.shape)\n",
        "print(y_val.shape)\n",
        "print(x_test.shape)\n",
        "print(y_test.shape)"
      ]
    },
    {
      "cell_type": "markdown",
      "metadata": {},
      "source": []
    },
    {
      "cell_type": "code",
      "execution_count": 123,
      "metadata": {},
      "outputs": [],
      "source": [
        "def build_model():\n",
        "    input = Input(shape=(28,28), name='input')\n",
        "    flatten = Flatten(input_shape=[28,28], name='flatten')(input)\n",
        "    hidden1 = Dense(256, kernel_initializer='he_normal', name='hidden1')(flatten)\n",
        "    hidden1 = BatchNormalization()(hidden1)\n",
        "    hidden1 = Activation('relu')(hidden1)\n",
        "    dropout1 = Dropout(0.5)(hidden1)\n",
        "    \n",
        "    hidden2 = Dense(100, kernel_initializer='he_normal', name='hidden2')(dropout1)\n",
        "    hidden2 = BatchNormalization()(hidden2)\n",
        "    hidden2 = Activation('relu')(hidden2)\n",
        "    dropout2 = Dropout(0.5)(hidden2)\n",
        "    \n",
        "    hidden3 = Dense(100, kernel_initializer='he_normal', name='hidden3')(dropout2)\n",
        "    hidden3 = BatchNormalization()(hidden3)\n",
        "    hidden3 = Activation('relu')(hidden3)\n",
        "    dropout3 = Dropout(0.5)(hidden3)\n",
        "\n",
        "    hidden4 = Dense(50, kernel_initializer='he_normal', name='hidden4')(dropout3)\n",
        "    hidden4 = BatchNormalization()(hidden4)\n",
        "    hidden4 = Activation('relu')(hidden4)\n",
        "    dropout4 = Dropout(0.5)(hidden4)\n",
        "\n",
        "    output = Dense(10, activation='softmax', name='output')(dropout4)\n",
        "    \n",
        "    model = Model(inputs=[input], outputs=[output])\n",
        "    \n",
        "    return model\n",
        "    "
      ]
    },
    {
      "cell_type": "code",
      "execution_count": 124,
      "metadata": {},
      "outputs": [
        {
          "name": "stdout",
          "output_type": "stream",
          "text": [
            "Model: \"model_2\"\n",
            "_________________________________________________________________\n",
            " Layer (type)                Output Shape              Param #   \n",
            "=================================================================\n",
            " input (InputLayer)          [(None, 28, 28)]          0         \n",
            "                                                                 \n",
            " flatten (Flatten)           (None, 784)               0         \n",
            "                                                                 \n",
            " hidden1 (Dense)             (None, 256)               200960    \n",
            "                                                                 \n",
            " batch_normalization_8 (Batc  (None, 256)              1024      \n",
            " hNormalization)                                                 \n",
            "                                                                 \n",
            " activation_8 (Activation)   (None, 256)               0         \n",
            "                                                                 \n",
            " dropout_8 (Dropout)         (None, 256)               0         \n",
            "                                                                 \n",
            " hidden2 (Dense)             (None, 100)               25700     \n",
            "                                                                 \n",
            " batch_normalization_9 (Batc  (None, 100)              400       \n",
            " hNormalization)                                                 \n",
            "                                                                 \n",
            " activation_9 (Activation)   (None, 100)               0         \n",
            "                                                                 \n",
            " dropout_9 (Dropout)         (None, 100)               0         \n",
            "                                                                 \n",
            " hidden3 (Dense)             (None, 100)               10100     \n",
            "                                                                 \n",
            " batch_normalization_10 (Bat  (None, 100)              400       \n",
            " chNormalization)                                                \n",
            "                                                                 \n",
            " activation_10 (Activation)  (None, 100)               0         \n",
            "                                                                 \n",
            " dropout_10 (Dropout)        (None, 100)               0         \n",
            "                                                                 \n",
            " hidden4 (Dense)             (None, 50)                5050      \n",
            "                                                                 \n",
            " batch_normalization_11 (Bat  (None, 50)               200       \n",
            " chNormalization)                                                \n",
            "                                                                 \n",
            " activation_11 (Activation)  (None, 50)                0         \n",
            "                                                                 \n",
            " dropout_11 (Dropout)        (None, 50)                0         \n",
            "                                                                 \n",
            " output (Dense)              (None, 10)                510       \n",
            "                                                                 \n",
            "=================================================================\n",
            "Total params: 244,344\n",
            "Trainable params: 243,332\n",
            "Non-trainable params: 1,012\n",
            "_________________________________________________________________\n"
          ]
        }
      ],
      "source": [
        "model = build_model()\n",
        "model.compile(optimizer='sgd',\n",
        "              loss='sparse_categorical_crossentropy',\n",
        "              metrics=['accuracy'])\n",
        "model.summary()"
      ]
    },
    {
      "cell_type": "markdown",
      "metadata": {
        "id": "xBBuYErFFj0b"
      },
      "source": [
        "5~6분 소요"
      ]
    },
    {
      "cell_type": "code",
      "execution_count": 125,
      "metadata": {
        "id": "32TtgSsWLT-0"
      },
      "outputs": [],
      "source": [
        "from tensorflow.keras.callbacks import EarlyStopping "
      ]
    },
    {
      "cell_type": "code",
      "execution_count": 126,
      "metadata": {
        "id": "TYEmlqkGKZbH"
      },
      "outputs": [
        {
          "name": "stdout",
          "output_type": "stream",
          "text": [
            "Epoch 1/200\n",
            "165/165 [==============================] - 2s 8ms/step - loss: 2.6081 - accuracy: 0.1359 - val_loss: 2.0556 - val_accuracy: 0.3889\n",
            "Epoch 2/200\n",
            "165/165 [==============================] - 1s 6ms/step - loss: 2.2062 - accuracy: 0.2114 - val_loss: 1.7106 - val_accuracy: 0.5999\n",
            "Epoch 3/200\n",
            "165/165 [==============================] - 1s 6ms/step - loss: 1.9709 - accuracy: 0.2790 - val_loss: 1.5190 - val_accuracy: 0.6383\n",
            "Epoch 4/200\n",
            "165/165 [==============================] - 1s 6ms/step - loss: 1.8055 - accuracy: 0.3384 - val_loss: 1.3807 - val_accuracy: 0.6665\n",
            "Epoch 5/200\n",
            "165/165 [==============================] - 1s 6ms/step - loss: 1.6855 - accuracy: 0.3795 - val_loss: 1.2803 - val_accuracy: 0.6779\n",
            "Epoch 6/200\n",
            "165/165 [==============================] - 1s 6ms/step - loss: 1.5799 - accuracy: 0.4139 - val_loss: 1.1954 - val_accuracy: 0.6977\n",
            "Epoch 7/200\n",
            "165/165 [==============================] - 1s 6ms/step - loss: 1.5010 - accuracy: 0.4418 - val_loss: 1.1279 - val_accuracy: 0.7071\n",
            "Epoch 8/200\n",
            "165/165 [==============================] - 1s 6ms/step - loss: 1.4299 - accuracy: 0.4682 - val_loss: 1.0677 - val_accuracy: 0.7167\n",
            "Epoch 9/200\n",
            "165/165 [==============================] - 1s 6ms/step - loss: 1.3722 - accuracy: 0.4877 - val_loss: 1.0163 - val_accuracy: 0.7173\n",
            "Epoch 10/200\n",
            "165/165 [==============================] - 1s 6ms/step - loss: 1.3273 - accuracy: 0.5053 - val_loss: 0.9780 - val_accuracy: 0.7198\n",
            "Epoch 11/200\n",
            "165/165 [==============================] - 1s 6ms/step - loss: 1.2864 - accuracy: 0.5205 - val_loss: 0.9411 - val_accuracy: 0.7252\n",
            "Epoch 12/200\n",
            "165/165 [==============================] - 1s 7ms/step - loss: 1.2538 - accuracy: 0.5302 - val_loss: 0.9162 - val_accuracy: 0.7266\n",
            "Epoch 13/200\n",
            "165/165 [==============================] - 1s 6ms/step - loss: 1.2239 - accuracy: 0.5396 - val_loss: 0.8886 - val_accuracy: 0.7149\n",
            "Epoch 14/200\n",
            "165/165 [==============================] - 1s 6ms/step - loss: 1.1984 - accuracy: 0.5473 - val_loss: 0.8660 - val_accuracy: 0.7268\n",
            "Epoch 15/200\n",
            "165/165 [==============================] - 1s 6ms/step - loss: 1.1732 - accuracy: 0.5566 - val_loss: 0.8470 - val_accuracy: 0.7264\n",
            "Epoch 16/200\n",
            "165/165 [==============================] - 1s 6ms/step - loss: 1.1451 - accuracy: 0.5688 - val_loss: 0.8278 - val_accuracy: 0.7319\n",
            "Epoch 17/200\n",
            "165/165 [==============================] - 1s 6ms/step - loss: 1.1340 - accuracy: 0.5685 - val_loss: 0.8133 - val_accuracy: 0.7251\n",
            "Epoch 18/200\n",
            "165/165 [==============================] - 1s 6ms/step - loss: 1.1136 - accuracy: 0.5829 - val_loss: 0.7995 - val_accuracy: 0.7259\n",
            "Epoch 19/200\n",
            "165/165 [==============================] - 1s 6ms/step - loss: 1.0974 - accuracy: 0.5842 - val_loss: 0.7859 - val_accuracy: 0.7199\n",
            "Epoch 20/200\n",
            "165/165 [==============================] - 1s 6ms/step - loss: 1.0824 - accuracy: 0.5902 - val_loss: 0.7737 - val_accuracy: 0.7329\n",
            "Epoch 21/200\n",
            "165/165 [==============================] - 1s 6ms/step - loss: 1.0707 - accuracy: 0.5934 - val_loss: 0.7642 - val_accuracy: 0.7318\n",
            "Epoch 22/200\n",
            "165/165 [==============================] - 1s 6ms/step - loss: 1.0460 - accuracy: 0.6069 - val_loss: 0.7510 - val_accuracy: 0.7433\n",
            "Epoch 23/200\n",
            "165/165 [==============================] - 1s 6ms/step - loss: 1.0387 - accuracy: 0.6085 - val_loss: 0.7404 - val_accuracy: 0.7319\n",
            "Epoch 24/200\n",
            "165/165 [==============================] - 1s 6ms/step - loss: 1.0284 - accuracy: 0.6107 - val_loss: 0.7298 - val_accuracy: 0.7404\n",
            "Epoch 25/200\n",
            "165/165 [==============================] - 1s 6ms/step - loss: 1.0174 - accuracy: 0.6154 - val_loss: 0.7219 - val_accuracy: 0.7438\n",
            "Epoch 26/200\n",
            "165/165 [==============================] - 1s 6ms/step - loss: 1.0043 - accuracy: 0.6209 - val_loss: 0.7145 - val_accuracy: 0.7464\n",
            "Epoch 27/200\n",
            "165/165 [==============================] - 1s 6ms/step - loss: 0.9977 - accuracy: 0.6216 - val_loss: 0.7063 - val_accuracy: 0.7566\n",
            "Epoch 28/200\n",
            "165/165 [==============================] - 1s 6ms/step - loss: 0.9826 - accuracy: 0.6298 - val_loss: 0.6988 - val_accuracy: 0.7557\n",
            "Epoch 29/200\n",
            "165/165 [==============================] - 1s 6ms/step - loss: 0.9802 - accuracy: 0.6301 - val_loss: 0.6912 - val_accuracy: 0.7444\n",
            "Epoch 30/200\n",
            "165/165 [==============================] - 1s 6ms/step - loss: 0.9685 - accuracy: 0.6317 - val_loss: 0.6832 - val_accuracy: 0.7422\n",
            "Epoch 31/200\n",
            "165/165 [==============================] - 1s 6ms/step - loss: 0.9652 - accuracy: 0.6358 - val_loss: 0.6773 - val_accuracy: 0.7534\n",
            "Epoch 32/200\n",
            "165/165 [==============================] - 1s 6ms/step - loss: 0.9544 - accuracy: 0.6413 - val_loss: 0.6721 - val_accuracy: 0.7676\n",
            "Epoch 33/200\n",
            "165/165 [==============================] - 1s 6ms/step - loss: 0.9415 - accuracy: 0.6460 - val_loss: 0.6623 - val_accuracy: 0.7704\n",
            "Epoch 34/200\n",
            "165/165 [==============================] - 1s 6ms/step - loss: 0.9377 - accuracy: 0.6493 - val_loss: 0.6566 - val_accuracy: 0.7731\n",
            "Epoch 35/200\n",
            "165/165 [==============================] - 1s 6ms/step - loss: 0.9295 - accuracy: 0.6500 - val_loss: 0.6530 - val_accuracy: 0.7696\n",
            "Epoch 36/200\n",
            "165/165 [==============================] - 1s 6ms/step - loss: 0.9194 - accuracy: 0.6538 - val_loss: 0.6485 - val_accuracy: 0.7741\n",
            "Epoch 37/200\n",
            "165/165 [==============================] - 1s 6ms/step - loss: 0.9133 - accuracy: 0.6566 - val_loss: 0.6420 - val_accuracy: 0.7769\n",
            "Epoch 38/200\n",
            "165/165 [==============================] - 1s 6ms/step - loss: 0.9070 - accuracy: 0.6569 - val_loss: 0.6371 - val_accuracy: 0.7773\n",
            "Epoch 39/200\n",
            "165/165 [==============================] - 1s 6ms/step - loss: 0.9060 - accuracy: 0.6591 - val_loss: 0.6325 - val_accuracy: 0.7782\n",
            "Epoch 40/200\n",
            "165/165 [==============================] - 1s 6ms/step - loss: 0.8943 - accuracy: 0.6630 - val_loss: 0.6309 - val_accuracy: 0.7799\n",
            "Epoch 41/200\n",
            "165/165 [==============================] - 1s 6ms/step - loss: 0.8859 - accuracy: 0.6684 - val_loss: 0.6261 - val_accuracy: 0.7722\n",
            "Epoch 42/200\n",
            "165/165 [==============================] - 1s 6ms/step - loss: 0.8882 - accuracy: 0.6666 - val_loss: 0.6203 - val_accuracy: 0.7762\n",
            "Epoch 43/200\n",
            "165/165 [==============================] - 1s 6ms/step - loss: 0.8781 - accuracy: 0.6739 - val_loss: 0.6153 - val_accuracy: 0.7763\n",
            "Epoch 44/200\n",
            "165/165 [==============================] - 1s 6ms/step - loss: 0.8746 - accuracy: 0.6698 - val_loss: 0.6129 - val_accuracy: 0.7846\n",
            "Epoch 45/200\n",
            "165/165 [==============================] - 1s 6ms/step - loss: 0.8667 - accuracy: 0.6750 - val_loss: 0.6074 - val_accuracy: 0.7851\n",
            "Epoch 46/200\n",
            "165/165 [==============================] - 1s 6ms/step - loss: 0.8634 - accuracy: 0.6759 - val_loss: 0.6065 - val_accuracy: 0.7733\n",
            "Epoch 47/200\n",
            "165/165 [==============================] - 1s 6ms/step - loss: 0.8601 - accuracy: 0.6808 - val_loss: 0.6029 - val_accuracy: 0.7836\n",
            "Epoch 48/200\n",
            "165/165 [==============================] - 1s 6ms/step - loss: 0.8478 - accuracy: 0.6833 - val_loss: 0.5991 - val_accuracy: 0.7852\n",
            "Epoch 49/200\n",
            "165/165 [==============================] - 1s 6ms/step - loss: 0.8508 - accuracy: 0.6823 - val_loss: 0.5969 - val_accuracy: 0.7803\n",
            "Epoch 50/200\n",
            "165/165 [==============================] - 1s 6ms/step - loss: 0.8502 - accuracy: 0.6849 - val_loss: 0.5924 - val_accuracy: 0.7879\n",
            "Epoch 51/200\n",
            "165/165 [==============================] - 1s 6ms/step - loss: 0.8375 - accuracy: 0.6895 - val_loss: 0.5882 - val_accuracy: 0.7884\n",
            "Epoch 52/200\n",
            "165/165 [==============================] - 1s 6ms/step - loss: 0.8402 - accuracy: 0.6858 - val_loss: 0.5865 - val_accuracy: 0.7877\n",
            "Epoch 53/200\n",
            "165/165 [==============================] - 1s 6ms/step - loss: 0.8323 - accuracy: 0.6934 - val_loss: 0.5842 - val_accuracy: 0.7879\n",
            "Epoch 54/200\n",
            "165/165 [==============================] - 1s 6ms/step - loss: 0.8245 - accuracy: 0.6913 - val_loss: 0.5767 - val_accuracy: 0.7914\n",
            "Epoch 55/200\n",
            "165/165 [==============================] - 1s 6ms/step - loss: 0.8270 - accuracy: 0.6961 - val_loss: 0.5776 - val_accuracy: 0.7901\n",
            "Epoch 56/200\n",
            "165/165 [==============================] - 1s 6ms/step - loss: 0.8174 - accuracy: 0.6979 - val_loss: 0.5761 - val_accuracy: 0.7914\n",
            "Epoch 57/200\n",
            "165/165 [==============================] - 1s 6ms/step - loss: 0.8082 - accuracy: 0.7004 - val_loss: 0.5713 - val_accuracy: 0.7908\n",
            "Epoch 58/200\n",
            "165/165 [==============================] - 1s 6ms/step - loss: 0.8130 - accuracy: 0.7015 - val_loss: 0.5692 - val_accuracy: 0.7946\n",
            "Epoch 59/200\n",
            "165/165 [==============================] - 1s 6ms/step - loss: 0.8043 - accuracy: 0.7040 - val_loss: 0.5653 - val_accuracy: 0.7963\n",
            "Epoch 60/200\n",
            "165/165 [==============================] - 1s 6ms/step - loss: 0.8013 - accuracy: 0.7062 - val_loss: 0.5619 - val_accuracy: 0.7978\n",
            "Epoch 61/200\n",
            "165/165 [==============================] - 1s 6ms/step - loss: 0.7976 - accuracy: 0.7090 - val_loss: 0.5587 - val_accuracy: 0.7992\n",
            "Epoch 62/200\n",
            "165/165 [==============================] - 1s 6ms/step - loss: 0.7901 - accuracy: 0.7082 - val_loss: 0.5572 - val_accuracy: 0.8006\n",
            "Epoch 63/200\n",
            "165/165 [==============================] - 1s 6ms/step - loss: 0.7910 - accuracy: 0.7080 - val_loss: 0.5553 - val_accuracy: 0.8003\n",
            "Epoch 64/200\n",
            "165/165 [==============================] - 1s 6ms/step - loss: 0.7897 - accuracy: 0.7107 - val_loss: 0.5522 - val_accuracy: 0.8027\n",
            "Epoch 65/200\n",
            "165/165 [==============================] - 1s 6ms/step - loss: 0.7831 - accuracy: 0.7123 - val_loss: 0.5496 - val_accuracy: 0.8019\n",
            "Epoch 66/200\n",
            "165/165 [==============================] - 1s 6ms/step - loss: 0.7853 - accuracy: 0.7132 - val_loss: 0.5465 - val_accuracy: 0.8050\n",
            "Epoch 67/200\n",
            "165/165 [==============================] - 1s 6ms/step - loss: 0.7804 - accuracy: 0.7171 - val_loss: 0.5467 - val_accuracy: 0.8032\n",
            "Epoch 68/200\n",
            "165/165 [==============================] - 1s 6ms/step - loss: 0.7745 - accuracy: 0.7162 - val_loss: 0.5437 - val_accuracy: 0.8050\n",
            "Epoch 69/200\n",
            "165/165 [==============================] - 1s 6ms/step - loss: 0.7788 - accuracy: 0.7150 - val_loss: 0.5429 - val_accuracy: 0.8059\n",
            "Epoch 70/200\n",
            "165/165 [==============================] - 1s 6ms/step - loss: 0.7744 - accuracy: 0.7199 - val_loss: 0.5401 - val_accuracy: 0.8074\n",
            "Epoch 71/200\n",
            "165/165 [==============================] - 1s 6ms/step - loss: 0.7710 - accuracy: 0.7195 - val_loss: 0.5364 - val_accuracy: 0.8109\n",
            "Epoch 72/200\n",
            "165/165 [==============================] - 1s 6ms/step - loss: 0.7656 - accuracy: 0.7207 - val_loss: 0.5363 - val_accuracy: 0.8099\n",
            "Epoch 73/200\n",
            "165/165 [==============================] - 1s 6ms/step - loss: 0.7612 - accuracy: 0.7252 - val_loss: 0.5338 - val_accuracy: 0.8101\n",
            "Epoch 74/200\n",
            "165/165 [==============================] - 1s 6ms/step - loss: 0.7586 - accuracy: 0.7275 - val_loss: 0.5305 - val_accuracy: 0.8130\n",
            "Epoch 75/200\n",
            "165/165 [==============================] - 1s 6ms/step - loss: 0.7542 - accuracy: 0.7268 - val_loss: 0.5306 - val_accuracy: 0.8104\n",
            "Epoch 76/200\n",
            "165/165 [==============================] - 1s 6ms/step - loss: 0.7509 - accuracy: 0.7289 - val_loss: 0.5269 - val_accuracy: 0.8145\n",
            "Epoch 77/200\n",
            "165/165 [==============================] - 1s 6ms/step - loss: 0.7521 - accuracy: 0.7287 - val_loss: 0.5261 - val_accuracy: 0.8130\n",
            "Epoch 78/200\n",
            "165/165 [==============================] - 1s 6ms/step - loss: 0.7393 - accuracy: 0.7325 - val_loss: 0.5213 - val_accuracy: 0.8151\n",
            "Epoch 79/200\n",
            "165/165 [==============================] - 1s 6ms/step - loss: 0.7441 - accuracy: 0.7291 - val_loss: 0.5194 - val_accuracy: 0.8157\n",
            "Epoch 80/200\n",
            "165/165 [==============================] - 1s 6ms/step - loss: 0.7410 - accuracy: 0.7320 - val_loss: 0.5177 - val_accuracy: 0.8160\n",
            "Epoch 81/200\n",
            "165/165 [==============================] - 1s 6ms/step - loss: 0.7426 - accuracy: 0.7336 - val_loss: 0.5171 - val_accuracy: 0.8167\n",
            "Epoch 82/200\n",
            "165/165 [==============================] - 1s 6ms/step - loss: 0.7371 - accuracy: 0.7370 - val_loss: 0.5151 - val_accuracy: 0.8173\n",
            "Epoch 83/200\n",
            "165/165 [==============================] - 1s 6ms/step - loss: 0.7354 - accuracy: 0.7375 - val_loss: 0.5139 - val_accuracy: 0.8173\n",
            "Epoch 84/200\n",
            "165/165 [==============================] - 1s 6ms/step - loss: 0.7351 - accuracy: 0.7381 - val_loss: 0.5105 - val_accuracy: 0.8192\n",
            "Epoch 85/200\n",
            "165/165 [==============================] - 1s 6ms/step - loss: 0.7295 - accuracy: 0.7380 - val_loss: 0.5089 - val_accuracy: 0.8192\n",
            "Epoch 86/200\n",
            "165/165 [==============================] - 1s 6ms/step - loss: 0.7289 - accuracy: 0.7374 - val_loss: 0.5064 - val_accuracy: 0.8205\n",
            "Epoch 87/200\n",
            "165/165 [==============================] - 1s 6ms/step - loss: 0.7226 - accuracy: 0.7407 - val_loss: 0.5053 - val_accuracy: 0.8221\n",
            "Epoch 88/200\n",
            "165/165 [==============================] - 1s 6ms/step - loss: 0.7238 - accuracy: 0.7420 - val_loss: 0.5047 - val_accuracy: 0.8223\n",
            "Epoch 89/200\n",
            "165/165 [==============================] - 1s 6ms/step - loss: 0.7247 - accuracy: 0.7425 - val_loss: 0.5031 - val_accuracy: 0.8223\n",
            "Epoch 90/200\n",
            "165/165 [==============================] - 1s 7ms/step - loss: 0.7169 - accuracy: 0.7439 - val_loss: 0.5013 - val_accuracy: 0.8225\n",
            "Epoch 91/200\n",
            "165/165 [==============================] - 1s 6ms/step - loss: 0.7203 - accuracy: 0.7461 - val_loss: 0.5003 - val_accuracy: 0.8248\n",
            "Epoch 92/200\n",
            "165/165 [==============================] - 1s 6ms/step - loss: 0.7105 - accuracy: 0.7472 - val_loss: 0.4970 - val_accuracy: 0.8249\n",
            "Epoch 93/200\n",
            "165/165 [==============================] - 1s 6ms/step - loss: 0.7130 - accuracy: 0.7475 - val_loss: 0.4961 - val_accuracy: 0.8243\n",
            "Epoch 94/200\n",
            "165/165 [==============================] - 1s 6ms/step - loss: 0.7123 - accuracy: 0.7498 - val_loss: 0.4940 - val_accuracy: 0.8273\n",
            "Epoch 95/200\n",
            "165/165 [==============================] - 1s 6ms/step - loss: 0.7016 - accuracy: 0.7480 - val_loss: 0.4921 - val_accuracy: 0.8264\n",
            "Epoch 96/200\n",
            "165/165 [==============================] - 1s 6ms/step - loss: 0.7046 - accuracy: 0.7521 - val_loss: 0.4923 - val_accuracy: 0.8256\n",
            "Epoch 97/200\n",
            "165/165 [==============================] - 1s 6ms/step - loss: 0.7060 - accuracy: 0.7514 - val_loss: 0.4898 - val_accuracy: 0.8267\n",
            "Epoch 98/200\n",
            "165/165 [==============================] - 1s 6ms/step - loss: 0.7029 - accuracy: 0.7515 - val_loss: 0.4881 - val_accuracy: 0.8275\n",
            "Epoch 99/200\n",
            "165/165 [==============================] - 1s 6ms/step - loss: 0.6955 - accuracy: 0.7519 - val_loss: 0.4885 - val_accuracy: 0.8301\n",
            "Epoch 100/200\n",
            "165/165 [==============================] - 1s 6ms/step - loss: 0.6958 - accuracy: 0.7548 - val_loss: 0.4909 - val_accuracy: 0.8294\n",
            "Epoch 101/200\n",
            "165/165 [==============================] - 1s 6ms/step - loss: 0.7027 - accuracy: 0.7552 - val_loss: 0.4832 - val_accuracy: 0.8295\n",
            "Epoch 102/200\n",
            "165/165 [==============================] - 1s 6ms/step - loss: 0.6984 - accuracy: 0.7573 - val_loss: 0.4841 - val_accuracy: 0.8292\n",
            "Epoch 103/200\n",
            "165/165 [==============================] - 1s 6ms/step - loss: 0.6921 - accuracy: 0.7560 - val_loss: 0.4814 - val_accuracy: 0.8312\n",
            "Epoch 104/200\n",
            "165/165 [==============================] - 1s 6ms/step - loss: 0.6928 - accuracy: 0.7575 - val_loss: 0.4804 - val_accuracy: 0.8324\n",
            "Epoch 105/200\n",
            "165/165 [==============================] - 1s 6ms/step - loss: 0.6890 - accuracy: 0.7567 - val_loss: 0.4805 - val_accuracy: 0.8315\n",
            "Epoch 106/200\n",
            "165/165 [==============================] - 1s 6ms/step - loss: 0.6835 - accuracy: 0.7605 - val_loss: 0.4788 - val_accuracy: 0.8332\n",
            "Epoch 107/200\n",
            "165/165 [==============================] - 1s 6ms/step - loss: 0.6812 - accuracy: 0.7615 - val_loss: 0.4765 - val_accuracy: 0.8344\n",
            "Epoch 108/200\n",
            "165/165 [==============================] - 1s 6ms/step - loss: 0.6783 - accuracy: 0.7623 - val_loss: 0.4760 - val_accuracy: 0.8333\n",
            "Epoch 109/200\n",
            "165/165 [==============================] - 1s 6ms/step - loss: 0.6801 - accuracy: 0.7644 - val_loss: 0.4757 - val_accuracy: 0.8308\n",
            "Epoch 110/200\n",
            "165/165 [==============================] - 1s 6ms/step - loss: 0.6797 - accuracy: 0.7630 - val_loss: 0.4810 - val_accuracy: 0.8316\n",
            "Epoch 111/200\n",
            "165/165 [==============================] - 1s 6ms/step - loss: 0.6777 - accuracy: 0.7656 - val_loss: 0.4709 - val_accuracy: 0.8366\n",
            "Epoch 112/200\n",
            "165/165 [==============================] - 1s 6ms/step - loss: 0.6723 - accuracy: 0.7652 - val_loss: 0.4701 - val_accuracy: 0.8361\n",
            "Epoch 113/200\n",
            "165/165 [==============================] - 1s 6ms/step - loss: 0.6702 - accuracy: 0.7669 - val_loss: 0.4686 - val_accuracy: 0.8369\n",
            "Epoch 114/200\n",
            "165/165 [==============================] - 1s 6ms/step - loss: 0.6662 - accuracy: 0.7667 - val_loss: 0.4672 - val_accuracy: 0.8366\n",
            "Epoch 115/200\n",
            "165/165 [==============================] - 1s 6ms/step - loss: 0.6656 - accuracy: 0.7664 - val_loss: 0.4652 - val_accuracy: 0.8380\n",
            "Epoch 116/200\n",
            "165/165 [==============================] - 1s 6ms/step - loss: 0.6673 - accuracy: 0.7683 - val_loss: 0.4647 - val_accuracy: 0.8374\n",
            "Epoch 117/200\n",
            "165/165 [==============================] - 1s 6ms/step - loss: 0.6730 - accuracy: 0.7680 - val_loss: 0.4639 - val_accuracy: 0.8391\n",
            "Epoch 118/200\n",
            "165/165 [==============================] - 1s 6ms/step - loss: 0.6668 - accuracy: 0.7690 - val_loss: 0.4637 - val_accuracy: 0.8386\n",
            "Epoch 119/200\n",
            "165/165 [==============================] - 1s 6ms/step - loss: 0.6591 - accuracy: 0.7725 - val_loss: 0.4632 - val_accuracy: 0.8368\n",
            "Epoch 120/200\n",
            "165/165 [==============================] - 1s 6ms/step - loss: 0.6609 - accuracy: 0.7710 - val_loss: 0.4608 - val_accuracy: 0.8395\n",
            "Epoch 121/200\n",
            "165/165 [==============================] - 1s 6ms/step - loss: 0.6607 - accuracy: 0.7740 - val_loss: 0.4595 - val_accuracy: 0.8411\n",
            "Epoch 122/200\n",
            "165/165 [==============================] - 1s 6ms/step - loss: 0.6602 - accuracy: 0.7720 - val_loss: 0.4614 - val_accuracy: 0.8356\n",
            "Epoch 123/200\n",
            "165/165 [==============================] - 1s 6ms/step - loss: 0.6527 - accuracy: 0.7742 - val_loss: 0.4594 - val_accuracy: 0.8416\n",
            "Epoch 124/200\n",
            "165/165 [==============================] - 1s 6ms/step - loss: 0.6598 - accuracy: 0.7724 - val_loss: 0.4622 - val_accuracy: 0.8397\n",
            "Epoch 125/200\n",
            "165/165 [==============================] - 1s 6ms/step - loss: 0.6508 - accuracy: 0.7769 - val_loss: 0.4553 - val_accuracy: 0.8422\n",
            "Epoch 126/200\n",
            "165/165 [==============================] - 1s 6ms/step - loss: 0.6506 - accuracy: 0.7754 - val_loss: 0.4570 - val_accuracy: 0.8421\n",
            "Epoch 127/200\n",
            "165/165 [==============================] - 1s 6ms/step - loss: 0.6482 - accuracy: 0.7760 - val_loss: 0.4527 - val_accuracy: 0.8441\n",
            "Epoch 128/200\n",
            "165/165 [==============================] - 1s 6ms/step - loss: 0.6538 - accuracy: 0.7785 - val_loss: 0.4526 - val_accuracy: 0.8422\n",
            "Epoch 129/200\n",
            "165/165 [==============================] - 1s 6ms/step - loss: 0.6451 - accuracy: 0.7775 - val_loss: 0.4525 - val_accuracy: 0.8441\n",
            "Epoch 130/200\n",
            "165/165 [==============================] - 1s 6ms/step - loss: 0.6435 - accuracy: 0.7798 - val_loss: 0.4706 - val_accuracy: 0.8321\n",
            "Epoch 131/200\n",
            "165/165 [==============================] - 1s 6ms/step - loss: 0.6453 - accuracy: 0.7804 - val_loss: 0.4512 - val_accuracy: 0.8455\n",
            "Epoch 132/200\n",
            "165/165 [==============================] - 1s 6ms/step - loss: 0.6481 - accuracy: 0.7780 - val_loss: 0.4522 - val_accuracy: 0.8429\n",
            "Epoch 133/200\n",
            "165/165 [==============================] - 1s 6ms/step - loss: 0.6409 - accuracy: 0.7821 - val_loss: 0.4520 - val_accuracy: 0.8440\n",
            "Epoch 134/200\n",
            "165/165 [==============================] - 1s 6ms/step - loss: 0.6422 - accuracy: 0.7806 - val_loss: 0.4490 - val_accuracy: 0.8455\n",
            "Epoch 135/200\n",
            "165/165 [==============================] - 1s 6ms/step - loss: 0.6376 - accuracy: 0.7817 - val_loss: 0.4461 - val_accuracy: 0.8471\n",
            "Epoch 136/200\n",
            "165/165 [==============================] - 1s 6ms/step - loss: 0.6377 - accuracy: 0.7814 - val_loss: 0.4491 - val_accuracy: 0.8424\n",
            "Epoch 137/200\n",
            "165/165 [==============================] - 1s 6ms/step - loss: 0.6322 - accuracy: 0.7844 - val_loss: 0.4472 - val_accuracy: 0.8442\n",
            "Epoch 138/200\n",
            "165/165 [==============================] - 1s 6ms/step - loss: 0.6432 - accuracy: 0.7818 - val_loss: 0.4430 - val_accuracy: 0.8476\n",
            "Epoch 139/200\n",
            "165/165 [==============================] - 1s 6ms/step - loss: 0.6294 - accuracy: 0.7872 - val_loss: 0.4450 - val_accuracy: 0.8443\n",
            "Epoch 140/200\n",
            "165/165 [==============================] - 1s 6ms/step - loss: 0.6290 - accuracy: 0.7861 - val_loss: 0.4427 - val_accuracy: 0.8469\n",
            "Epoch 141/200\n",
            "165/165 [==============================] - 1s 6ms/step - loss: 0.6318 - accuracy: 0.7858 - val_loss: 0.4448 - val_accuracy: 0.8451\n",
            "Epoch 142/200\n",
            "165/165 [==============================] - 1s 6ms/step - loss: 0.6270 - accuracy: 0.7847 - val_loss: 0.4415 - val_accuracy: 0.8491\n",
            "Epoch 143/200\n",
            "165/165 [==============================] - 1s 6ms/step - loss: 0.6322 - accuracy: 0.7888 - val_loss: 0.4395 - val_accuracy: 0.8479\n",
            "Epoch 144/200\n",
            "165/165 [==============================] - 1s 6ms/step - loss: 0.6283 - accuracy: 0.7883 - val_loss: 0.4419 - val_accuracy: 0.8488\n",
            "Epoch 145/200\n",
            "165/165 [==============================] - 1s 6ms/step - loss: 0.6300 - accuracy: 0.7861 - val_loss: 0.4392 - val_accuracy: 0.8493\n",
            "Epoch 146/200\n",
            "165/165 [==============================] - 1s 6ms/step - loss: 0.6272 - accuracy: 0.7890 - val_loss: 0.4389 - val_accuracy: 0.8491\n",
            "Epoch 147/200\n",
            "165/165 [==============================] - 1s 6ms/step - loss: 0.6232 - accuracy: 0.7896 - val_loss: 0.4391 - val_accuracy: 0.8483\n",
            "Epoch 148/200\n",
            "165/165 [==============================] - 1s 6ms/step - loss: 0.6283 - accuracy: 0.7868 - val_loss: 0.4374 - val_accuracy: 0.8491\n",
            "Epoch 149/200\n",
            "165/165 [==============================] - 1s 6ms/step - loss: 0.6238 - accuracy: 0.7905 - val_loss: 0.4362 - val_accuracy: 0.8496\n",
            "Epoch 150/200\n",
            "165/165 [==============================] - 1s 6ms/step - loss: 0.6236 - accuracy: 0.7906 - val_loss: 0.4366 - val_accuracy: 0.8488\n",
            "Epoch 151/200\n",
            "165/165 [==============================] - 1s 6ms/step - loss: 0.6246 - accuracy: 0.7898 - val_loss: 0.4393 - val_accuracy: 0.8506\n",
            "Epoch 152/200\n",
            "165/165 [==============================] - 1s 6ms/step - loss: 0.6142 - accuracy: 0.7914 - val_loss: 0.4350 - val_accuracy: 0.8515\n",
            "Epoch 153/200\n",
            "165/165 [==============================] - 1s 6ms/step - loss: 0.6180 - accuracy: 0.7923 - val_loss: 0.4347 - val_accuracy: 0.8523\n",
            "Epoch 154/200\n",
            "165/165 [==============================] - 1s 6ms/step - loss: 0.6118 - accuracy: 0.7948 - val_loss: 0.4335 - val_accuracy: 0.8510\n",
            "Epoch 155/200\n",
            "165/165 [==============================] - 1s 6ms/step - loss: 0.6132 - accuracy: 0.7926 - val_loss: 0.4318 - val_accuracy: 0.8514\n",
            "Epoch 156/200\n",
            "165/165 [==============================] - 1s 6ms/step - loss: 0.6109 - accuracy: 0.7954 - val_loss: 0.4356 - val_accuracy: 0.8500\n",
            "Epoch 157/200\n",
            "165/165 [==============================] - 1s 6ms/step - loss: 0.6120 - accuracy: 0.7932 - val_loss: 0.4331 - val_accuracy: 0.8541\n",
            "Epoch 158/200\n",
            "165/165 [==============================] - 1s 6ms/step - loss: 0.6107 - accuracy: 0.7957 - val_loss: 0.4304 - val_accuracy: 0.8531\n",
            "Epoch 159/200\n",
            "165/165 [==============================] - 1s 6ms/step - loss: 0.6068 - accuracy: 0.7968 - val_loss: 0.4300 - val_accuracy: 0.8531\n",
            "Epoch 160/200\n",
            "165/165 [==============================] - 1s 6ms/step - loss: 0.6075 - accuracy: 0.7970 - val_loss: 0.4305 - val_accuracy: 0.8519\n",
            "Epoch 161/200\n",
            "165/165 [==============================] - 1s 6ms/step - loss: 0.6087 - accuracy: 0.7953 - val_loss: 0.4395 - val_accuracy: 0.8490\n",
            "Epoch 162/200\n",
            "165/165 [==============================] - 1s 6ms/step - loss: 0.6070 - accuracy: 0.7980 - val_loss: 0.4284 - val_accuracy: 0.8520\n",
            "Epoch 163/200\n",
            "165/165 [==============================] - 1s 6ms/step - loss: 0.5991 - accuracy: 0.7988 - val_loss: 0.4294 - val_accuracy: 0.8530\n",
            "Epoch 164/200\n",
            "165/165 [==============================] - 1s 6ms/step - loss: 0.6038 - accuracy: 0.7995 - val_loss: 0.4286 - val_accuracy: 0.8534\n",
            "Epoch 165/200\n",
            "165/165 [==============================] - 1s 6ms/step - loss: 0.6023 - accuracy: 0.7977 - val_loss: 0.4265 - val_accuracy: 0.8551\n",
            "Epoch 166/200\n",
            "165/165 [==============================] - 1s 6ms/step - loss: 0.6039 - accuracy: 0.7978 - val_loss: 0.4256 - val_accuracy: 0.8548\n",
            "Epoch 167/200\n",
            "165/165 [==============================] - 1s 6ms/step - loss: 0.5976 - accuracy: 0.7993 - val_loss: 0.4260 - val_accuracy: 0.8562\n",
            "Epoch 168/200\n",
            "165/165 [==============================] - 1s 6ms/step - loss: 0.6027 - accuracy: 0.7993 - val_loss: 0.4248 - val_accuracy: 0.8549\n",
            "Epoch 169/200\n",
            "165/165 [==============================] - 1s 6ms/step - loss: 0.5986 - accuracy: 0.8007 - val_loss: 0.4235 - val_accuracy: 0.8547\n",
            "Epoch 170/200\n",
            "165/165 [==============================] - 1s 6ms/step - loss: 0.5951 - accuracy: 0.8025 - val_loss: 0.4232 - val_accuracy: 0.8561\n",
            "Epoch 171/200\n",
            "165/165 [==============================] - 1s 6ms/step - loss: 0.6020 - accuracy: 0.8007 - val_loss: 0.4227 - val_accuracy: 0.8567\n",
            "Epoch 172/200\n",
            "165/165 [==============================] - 1s 6ms/step - loss: 0.6026 - accuracy: 0.8006 - val_loss: 0.4263 - val_accuracy: 0.8552\n",
            "Epoch 173/200\n",
            "165/165 [==============================] - 1s 6ms/step - loss: 0.5907 - accuracy: 0.8022 - val_loss: 0.4227 - val_accuracy: 0.8558\n",
            "Epoch 174/200\n",
            "165/165 [==============================] - 1s 6ms/step - loss: 0.5960 - accuracy: 0.8002 - val_loss: 0.4201 - val_accuracy: 0.8571\n",
            "Epoch 175/200\n",
            "165/165 [==============================] - 1s 6ms/step - loss: 0.5958 - accuracy: 0.8015 - val_loss: 0.4219 - val_accuracy: 0.8562\n",
            "Epoch 176/200\n",
            "165/165 [==============================] - 1s 6ms/step - loss: 0.5882 - accuracy: 0.8037 - val_loss: 0.4240 - val_accuracy: 0.8546\n",
            "Epoch 177/200\n",
            "165/165 [==============================] - 1s 6ms/step - loss: 0.5906 - accuracy: 0.8038 - val_loss: 0.4200 - val_accuracy: 0.8569\n",
            "Epoch 178/200\n",
            "165/165 [==============================] - 1s 6ms/step - loss: 0.5869 - accuracy: 0.8057 - val_loss: 0.4205 - val_accuracy: 0.8571\n",
            "Epoch 179/200\n",
            "165/165 [==============================] - 1s 6ms/step - loss: 0.5897 - accuracy: 0.8046 - val_loss: 0.4187 - val_accuracy: 0.8564\n",
            "Epoch 180/200\n",
            "165/165 [==============================] - 1s 6ms/step - loss: 0.5852 - accuracy: 0.8076 - val_loss: 0.4217 - val_accuracy: 0.8571\n",
            "Epoch 181/200\n",
            "165/165 [==============================] - 1s 6ms/step - loss: 0.5902 - accuracy: 0.8039 - val_loss: 0.4173 - val_accuracy: 0.8580\n",
            "Epoch 182/200\n",
            "165/165 [==============================] - 1s 6ms/step - loss: 0.5851 - accuracy: 0.8101 - val_loss: 0.4180 - val_accuracy: 0.8584\n",
            "Epoch 183/200\n",
            "165/165 [==============================] - 1s 6ms/step - loss: 0.5895 - accuracy: 0.8054 - val_loss: 0.4156 - val_accuracy: 0.8607\n",
            "Epoch 184/200\n",
            "165/165 [==============================] - 1s 6ms/step - loss: 0.5835 - accuracy: 0.8085 - val_loss: 0.4165 - val_accuracy: 0.8590\n",
            "Epoch 185/200\n",
            "165/165 [==============================] - 1s 6ms/step - loss: 0.5792 - accuracy: 0.8077 - val_loss: 0.4162 - val_accuracy: 0.8574\n",
            "Epoch 186/200\n",
            "165/165 [==============================] - 1s 6ms/step - loss: 0.5837 - accuracy: 0.8073 - val_loss: 0.4154 - val_accuracy: 0.8603\n",
            "Epoch 187/200\n",
            "165/165 [==============================] - 1s 6ms/step - loss: 0.5854 - accuracy: 0.8059 - val_loss: 0.4154 - val_accuracy: 0.8597\n",
            "Epoch 188/200\n",
            "165/165 [==============================] - 1s 6ms/step - loss: 0.5789 - accuracy: 0.8085 - val_loss: 0.4149 - val_accuracy: 0.8592\n",
            "Epoch 189/200\n",
            "165/165 [==============================] - 1s 6ms/step - loss: 0.5745 - accuracy: 0.8097 - val_loss: 0.4157 - val_accuracy: 0.8604\n",
            "Epoch 190/200\n",
            "165/165 [==============================] - 1s 6ms/step - loss: 0.5770 - accuracy: 0.8089 - val_loss: 0.4143 - val_accuracy: 0.8599\n",
            "Epoch 191/200\n",
            "165/165 [==============================] - 1s 6ms/step - loss: 0.5827 - accuracy: 0.8083 - val_loss: 0.4136 - val_accuracy: 0.8615\n",
            "Epoch 192/200\n",
            "165/165 [==============================] - 1s 6ms/step - loss: 0.5836 - accuracy: 0.8071 - val_loss: 0.4127 - val_accuracy: 0.8607\n",
            "Epoch 193/200\n",
            "165/165 [==============================] - 1s 6ms/step - loss: 0.5757 - accuracy: 0.8108 - val_loss: 0.4128 - val_accuracy: 0.8603\n",
            "Epoch 194/200\n",
            "165/165 [==============================] - 1s 6ms/step - loss: 0.5763 - accuracy: 0.8107 - val_loss: 0.4119 - val_accuracy: 0.8602\n",
            "Epoch 195/200\n",
            "165/165 [==============================] - 1s 6ms/step - loss: 0.5722 - accuracy: 0.8109 - val_loss: 0.4129 - val_accuracy: 0.8601\n",
            "Epoch 196/200\n",
            "165/165 [==============================] - 1s 6ms/step - loss: 0.5681 - accuracy: 0.8123 - val_loss: 0.4117 - val_accuracy: 0.8601\n",
            "Epoch 197/200\n",
            "165/165 [==============================] - 1s 6ms/step - loss: 0.5691 - accuracy: 0.8122 - val_loss: 0.4122 - val_accuracy: 0.8602\n",
            "Epoch 198/200\n",
            "165/165 [==============================] - 1s 6ms/step - loss: 0.5656 - accuracy: 0.8130 - val_loss: 0.4293 - val_accuracy: 0.8490\n",
            "Epoch 199/200\n",
            "165/165 [==============================] - 1s 6ms/step - loss: 0.5703 - accuracy: 0.8129 - val_loss: 0.4110 - val_accuracy: 0.8619\n",
            "Epoch 200/200\n",
            "165/165 [==============================] - 1s 6ms/step - loss: 0.5703 - accuracy: 0.8124 - val_loss: 0.4097 - val_accuracy: 0.8615\n"
          ]
        }
      ],
      "source": [
        "early_stopping_cb = EarlyStopping(patience=3, monitor='val_loss',\n",
        "                                  restore_best_weights=True)\n",
        "\n",
        "history = model.fit(x_train, y_train,\n",
        "                    batch_size=256,\n",
        "                    epochs=200,\n",
        "                    shuffle=True,\n",
        "                    validation_data=(x_val, y_val),\n",
        "                    callbacks=[early_stopping_cb])"
      ]
    },
    {
      "cell_type": "code",
      "execution_count": 127,
      "metadata": {
        "id": "RaeHz1VFKZVM"
      },
      "outputs": [
        {
          "data": {
            "text/plain": [
              "dict_keys(['loss', 'accuracy', 'val_loss', 'val_accuracy'])"
            ]
          },
          "execution_count": 127,
          "metadata": {},
          "output_type": "execute_result"
        }
      ],
      "source": [
        "history.history.keys()"
      ]
    },
    {
      "cell_type": "markdown",
      "metadata": {
        "id": "5pJ6MDW9CcwX"
      },
      "source": [
        "### 모델 평가"
      ]
    },
    {
      "cell_type": "code",
      "execution_count": 128,
      "metadata": {
        "id": "e4MxgLKOCeL9"
      },
      "outputs": [
        {
          "name": "stdout",
          "output_type": "stream",
          "text": [
            "100/100 [==============================] - 0s 1ms/step - loss: 0.4376 - accuracy: 0.8487\n"
          ]
        },
        {
          "data": {
            "text/plain": [
              "[0.437593549489975, 0.8486999869346619]"
            ]
          },
          "execution_count": 128,
          "metadata": {},
          "output_type": "execute_result"
        }
      ],
      "source": [
        "model.evaluate(x_test, y_test, batch_size=100)"
      ]
    },
    {
      "cell_type": "markdown",
      "metadata": {
        "id": "8McnnarjV2Tf"
      },
      "source": [
        "### 결과 확인"
      ]
    },
    {
      "cell_type": "code",
      "execution_count": 129,
      "metadata": {
        "id": "7zHvs2FICeHD"
      },
      "outputs": [
        {
          "name": "stdout",
          "output_type": "stream",
          "text": [
            "(28, 28)\n"
          ]
        }
      ],
      "source": [
        "test_img = x_test[0,:,:]\n",
        "print(test_img.shape)"
      ]
    },
    {
      "cell_type": "code",
      "execution_count": 131,
      "metadata": {
        "id": "L9TlZb73CeEj"
      },
      "outputs": [
        {
          "data": {
            "image/png": "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",
            "text/plain": [
              "<Figure size 432x288 with 1 Axes>"
            ]
          },
          "metadata": {
            "needs_background": "light"
          },
          "output_type": "display_data"
        }
      ],
      "source": [
        "plt.title(class_names[y_test[0]])\n",
        "plt.imshow(test_img, cmap='gray')\n",
        "plt.show()"
      ]
    },
    {
      "cell_type": "code",
      "execution_count": 132,
      "metadata": {
        "id": "tLU39hstWLfh"
      },
      "outputs": [
        {
          "name": "stdout",
          "output_type": "stream",
          "text": [
            "1/1 [==============================] - 0s 136ms/step\n"
          ]
        }
      ],
      "source": [
        "pred = model.predict(test_img.reshape(1,28,28))"
      ]
    },
    {
      "cell_type": "code",
      "execution_count": 133,
      "metadata": {
        "id": "VvN3dvdZWXRd"
      },
      "outputs": [
        {
          "data": {
            "text/plain": [
              "(1, 10)"
            ]
          },
          "execution_count": 133,
          "metadata": {},
          "output_type": "execute_result"
        }
      ],
      "source": [
        "pred.shape"
      ]
    },
    {
      "cell_type": "code",
      "execution_count": 134,
      "metadata": {
        "id": "gXCeb-f2WYm1"
      },
      "outputs": [
        {
          "data": {
            "text/plain": [
              "array([[1.8228342e-05, 1.5582481e-06, 3.0456456e-06, 1.2446510e-05,\n",
              "        4.3992245e-07, 4.5858469e-02, 8.0276482e-07, 8.6821400e-02,\n",
              "        5.2599359e-04, 8.6675757e-01]], dtype=float32)"
            ]
          },
          "execution_count": 134,
          "metadata": {},
          "output_type": "execute_result"
        }
      ],
      "source": [
        "pred"
      ]
    },
    {
      "cell_type": "code",
      "execution_count": 135,
      "metadata": {
        "id": "E_7gFZNAWZip"
      },
      "outputs": [
        {
          "data": {
            "text/plain": [
              "'Ankle boot'"
            ]
          },
          "execution_count": 135,
          "metadata": {},
          "output_type": "execute_result"
        }
      ],
      "source": [
        "class_names[np.argmax(pred)]"
      ]
    },
    {
      "cell_type": "markdown",
      "metadata": {
        "id": "MJL5wVZiWqtw"
      },
      "source": [
        "### Test Batch Dataset"
      ]
    },
    {
      "cell_type": "code",
      "execution_count": 136,
      "metadata": {
        "id": "joaO3OqrWxIp"
      },
      "outputs": [
        {
          "name": "stdout",
          "output_type": "stream",
          "text": [
            "(32, 28, 28)\n"
          ]
        }
      ],
      "source": [
        "test_batch = x_test[:32, :, :]\n",
        "test_batch_y = y_test[:32]\n",
        "print(test_batch.shape)"
      ]
    },
    {
      "cell_type": "code",
      "execution_count": 137,
      "metadata": {
        "id": "OxqBhlqXWmXl"
      },
      "outputs": [
        {
          "name": "stdout",
          "output_type": "stream",
          "text": [
            "1/1 [==============================] - 0s 23ms/step\n"
          ]
        },
        {
          "data": {
            "text/plain": [
              "(32, 10)"
            ]
          },
          "execution_count": 137,
          "metadata": {},
          "output_type": "execute_result"
        }
      ],
      "source": [
        "preds = model.predict(test_batch)\n",
        "preds.shape"
      ]
    },
    {
      "cell_type": "code",
      "execution_count": 138,
      "metadata": {
        "id": "5Pgwy4yXW2dt"
      },
      "outputs": [],
      "source": [
        "preds_arg = np.argmax(preds, -1)"
      ]
    },
    {
      "cell_type": "code",
      "execution_count": 140,
      "metadata": {
        "id": "53xdFvATW85m"
      },
      "outputs": [
        {
          "data": {
            "image/png": "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",
            "text/plain": [
              "<Figure size 1152x720 with 32 Axes>"
            ]
          },
          "metadata": {
            "needs_background": "light"
          },
          "output_type": "display_data"
        }
      ],
      "source": [
        "num_rows = 8\n",
        "num_cols = 4\n",
        "num_images = num_rows * num_cols \n",
        "\n",
        "plt.figure(figsize=(16,10))\n",
        "\n",
        "for idx in range(1, 33, 1):\n",
        "    plt.subplot(num_rows, num_cols, idx)\n",
        "    plt.title('Predicted: {}, True: {}'.format(class_names[preds_arg[idx-1]],\n",
        "                                               class_names[test_batch_y[idx-1]]))\n",
        "    plt.imshow(test_batch[idx-1], cmap='gray')\n",
        "    plt.show"
      ]
    },
    {
      "cell_type": "code",
      "execution_count": null,
      "metadata": {},
      "outputs": [],
      "source": []
    }
  ],
  "metadata": {
    "colab": {
      "collapsed_sections": [],
      "provenance": []
    },
    "kernelspec": {
      "display_name": "Python 3.8.8 ('base')",
      "language": "python",
      "name": "python3"
    },
    "language_info": {
      "codemirror_mode": {
        "name": "ipython",
        "version": 3
      },
      "file_extension": ".py",
      "mimetype": "text/x-python",
      "name": "python",
      "nbconvert_exporter": "python",
      "pygments_lexer": "ipython3",
      "version": "3.8.8"
    },
    "vscode": {
      "interpreter": {
        "hash": "f08154012ddadd8e950e6e9e035c7a7b32c136e7647e9b7c77e02eb723a8bedb"
      }
    }
  },
  "nbformat": 4,
  "nbformat_minor": 0
}
