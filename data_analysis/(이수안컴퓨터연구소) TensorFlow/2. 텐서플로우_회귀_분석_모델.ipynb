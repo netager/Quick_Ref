{
  "cells": [
    {
      "cell_type": "markdown",
      "metadata": {
        "id": "ME4xVKRSvWxH"
      },
      "source": [
        "# 텐서플로우 회귀 분석 모델\n",
        "\n",
        "- 다양한 방법이 존재\n",
        "- 텐서플로우2만 사용하는 방법, 케라스를 이용한 방법, 둘을 모두 섞은 방법 등등  \n"
      ]
    },
    {
      "cell_type": "markdown",
      "metadata": {
        "id": "Lw9JHQ2btU9O"
      },
      "source": [
        "## 선형 회귀(Linear Regression)"
      ]
    },
    {
      "cell_type": "code",
      "execution_count": 72,
      "metadata": {
        "id": "rc0SydSstXAj"
      },
      "outputs": [],
      "source": [
        "import numpy as np\n",
        "import tensorflow as tf \n",
        "import matplotlib.pyplot as plt \n",
        "plt.style.use('seaborn-white')"
      ]
    },
    {
      "cell_type": "code",
      "execution_count": 73,
      "metadata": {
        "id": "qvFld-m-tcnD"
      },
      "outputs": [],
      "source": [
        "learning_rate = 0.01 \n",
        "training_steps = 1000"
      ]
    },
    {
      "cell_type": "code",
      "execution_count": 74,
      "metadata": {
        "id": "0-3wzjHjtgBg"
      },
      "outputs": [],
      "source": [
        "X = np.random.randn(50)\n",
        "Y = 2*X + np.random.randn(50)"
      ]
    },
    {
      "cell_type": "code",
      "execution_count": 75,
      "metadata": {
        "id": "yAdt62LKti-W"
      },
      "outputs": [],
      "source": [
        "W = tf.Variable(np.random.randn(), name='weight')\n",
        "b = tf.Variable(np.random.randn(), name='bias')\n",
        "\n",
        "def linear_regression(x):\n",
        "    return W * x + b\n",
        "\n",
        "def mean_square(y_pred, y_true):\n",
        "    return tf.reduce_mean(tf.square(y_pred - y_true))\n",
        "\n",
        "optimizer = tf.optimizers.SGD(learning_rate)\n",
        " "
      ]
    },
    {
      "cell_type": "code",
      "execution_count": 76,
      "metadata": {
        "id": "P8mLzC5vuCwp"
      },
      "outputs": [],
      "source": [
        "def run_optimization():\n",
        "    with tf.GradientTape() as tape:\n",
        "        pred = linear_regression(X)\n",
        "        loss = mean_square(pred, Y)\n",
        "        \n",
        "    gradients = tape.gradient(loss, [W, b])        \n",
        "\n",
        "    optimizer.apply_gradients(zip(gradients, [W,b]))"
      ]
    },
    {
      "cell_type": "code",
      "execution_count": 77,
      "metadata": {
        "id": "dpMeJIaquPld"
      },
      "outputs": [
        {
          "name": "stdout",
          "output_type": "stream",
          "text": [
            "step:    50\tloss: 0.9470\tW: 1.6374\tb: 0.1282\n",
            "step:   100\tloss: 0.8939\tW: 1.7853\tb: 0.0701\n",
            "step:   150\tloss: 0.8845\tW: 1.8466\tb: 0.0440\n",
            "step:   200\tloss: 0.8829\tW: 1.8721\tb: 0.0324\n",
            "step:   250\tloss: 0.8826\tW: 1.8827\tb: 0.0274\n",
            "step:   300\tloss: 0.8825\tW: 1.8871\tb: 0.0252\n",
            "step:   350\tloss: 0.8825\tW: 1.8890\tb: 0.0243\n",
            "step:   400\tloss: 0.8825\tW: 1.8897\tb: 0.0238\n",
            "step:   450\tloss: 0.8825\tW: 1.8901\tb: 0.0237\n",
            "step:   500\tloss: 0.8825\tW: 1.8902\tb: 0.0236\n",
            "step:   550\tloss: 0.8825\tW: 1.8903\tb: 0.0236\n",
            "step:   600\tloss: 0.8825\tW: 1.8903\tb: 0.0236\n",
            "step:   650\tloss: 0.8825\tW: 1.8903\tb: 0.0236\n",
            "step:   700\tloss: 0.8825\tW: 1.8903\tb: 0.0235\n",
            "step:   750\tloss: 0.8825\tW: 1.8903\tb: 0.0235\n",
            "step:   800\tloss: 0.8825\tW: 1.8903\tb: 0.0235\n",
            "step:   850\tloss: 0.8825\tW: 1.8903\tb: 0.0235\n",
            "step:   900\tloss: 0.8825\tW: 1.8903\tb: 0.0235\n",
            "step:   950\tloss: 0.8825\tW: 1.8903\tb: 0.0235\n",
            "step:  1000\tloss: 0.8825\tW: 1.8903\tb: 0.0235\n"
          ]
        }
      ],
      "source": [
        "for step in range(1, training_steps + 1):\n",
        "    run_optimization()\n",
        "    \n",
        "    if step % 50 == 0:\n",
        "        pred = linear_regression(X)\n",
        "        loss = mean_square(pred, Y)\n",
        "        print(\"step: {:5d}\\tloss: {:.4f}\\tW: {:.4f}\\tb: {:.4f}\".format(step, loss, W.numpy(), b.numpy() ))"
      ]
    },
    {
      "cell_type": "code",
      "execution_count": 78,
      "metadata": {
        "id": "is397GkquXu1"
      },
      "outputs": [
        {
          "data": {
            "text/plain": [
              "[<matplotlib.lines.Line2D at 0x173a5aaa790>]"
            ]
          },
          "execution_count": 78,
          "metadata": {},
          "output_type": "execute_result"
        },
        {
          "data": {
            "image/png": "[encoded data removed]",
            "text/plain": [
              "<Figure size 432x288 with 1 Axes>"
            ]
          },
          "metadata": {},
          "output_type": "display_data"
        }
      ],
      "source": [
        "plt.plot(X, Y, 'ro', label='Data')\n",
        "plt.plot(X, np.array(W*X+b), label='Fitted Line')"
      ]
    },
    {
      "cell_type": "markdown",
      "metadata": {
        "id": "hmwhh8v7ooEh"
      },
      "source": [
        "## 다항 회귀 (Nonlinear Regression)\n"
      ]
    },
    {
      "cell_type": "markdown",
      "metadata": {
        "id": "JzPHMupUouoj"
      },
      "source": [
        "### modules import"
      ]
    },
    {
      "cell_type": "code",
      "execution_count": 79,
      "metadata": {
        "id": "nwjaLZxmosFb"
      },
      "outputs": [],
      "source": [
        "from tensorflow.keras.optimizers import Adam"
      ]
    },
    {
      "cell_type": "markdown",
      "metadata": {
        "id": "a4Eypd3lqIH7"
      },
      "source": [
        "### Hyper Parameters"
      ]
    },
    {
      "cell_type": "code",
      "execution_count": 80,
      "metadata": {
        "id": "PwYv4RjrqKDk"
      },
      "outputs": [],
      "source": [
        "epochs = 1000\n",
        "learning_rate = 0.04"
      ]
    },
    {
      "cell_type": "markdown",
      "metadata": {
        "id": "SBFf3xYkpK__"
      },
      "source": [
        "### 변수 지정"
      ]
    },
    {
      "cell_type": "code",
      "execution_count": 81,
      "metadata": {
        "id": "rdYHM586osJT"
      },
      "outputs": [],
      "source": [
        "a = tf.Variable(np.random.randn())\n",
        "b = tf.Variable(np.random.randn())\n",
        "c = tf.Variable(np.random.randn())"
      ]
    },
    {
      "cell_type": "code",
      "execution_count": 82,
      "metadata": {
        "id": "n0BoMoSgqmR2"
      },
      "outputs": [
        {
          "name": "stdout",
          "output_type": "stream",
          "text": [
            "1.4754443\n",
            "-0.61573726\n",
            "-2.1051655\n"
          ]
        }
      ],
      "source": [
        "print(a.numpy())\n",
        "print(b.numpy())\n",
        "print(c.numpy())"
      ]
    },
    {
      "cell_type": "markdown",
      "metadata": {
        "id": "3-ks5u2ypTtb"
      },
      "source": [
        "### 데이터 지정"
      ]
    },
    {
      "cell_type": "code",
      "execution_count": 83,
      "metadata": {
        "id": "rgVzGBLEor8l"
      },
      "outputs": [],
      "source": [
        "X = np.random.randn(50)\n",
        "Y = X**2 + X*np.random.randn(50)"
      ]
    },
    {
      "cell_type": "code",
      "execution_count": 84,
      "metadata": {
        "id": "uodrzxT1rU1G"
      },
      "outputs": [
        {
          "data": {
            "text/plain": [
              "<function matplotlib.pyplot.show(close=None, block=None)>"
            ]
          },
          "execution_count": 84,
          "metadata": {},
          "output_type": "execute_result"
        },
        {
          "data": {
            "image/png": "[encoded data removed]",
            "text/plain": [
              "<Figure size 432x288 with 1 Axes>"
            ]
          },
          "metadata": {},
          "output_type": "display_data"
        }
      ],
      "source": [
        "line_x = np.arange(min(X), max(X), 0.001)\n",
        "line_y = a*line_x**2 + b*line_x + c\n",
        "\n",
        "x_ = np.arange(-4.0, 4.0, 0.001)\n",
        "y_ = a*x_**2 + b*x_ + c\n",
        "\n",
        "plt.scatter(X, Y, label='X data')\n",
        "plt.plot(x_, y_, 'g--', label='origin line')\n",
        "plt.plot(line_x, line_y, 'r--', label='before train')\n",
        "plt.xlim(-4.0, 4.0)\n",
        "plt.legend()\n",
        "plt.grid()\n",
        "plt.show"
      ]
    },
    {
      "cell_type": "markdown",
      "metadata": {
        "id": "7C56lq45uM-V"
      },
      "source": [
        "### Util Functions"
      ]
    },
    {
      "cell_type": "code",
      "execution_count": 85,
      "metadata": {
        "id": "_pvdH6U9uJ8i"
      },
      "outputs": [],
      "source": [
        "def compute_loss():\n",
        "    pred_y = a*(np.array(X)**2) + b*np.array(X) + c\n",
        "    loss = tf.reduce_mean((Y - pred_y)**2)\n",
        "    return loss "
      ]
    },
    {
      "cell_type": "markdown",
      "metadata": {
        "id": "kcme5VWPp6fz"
      },
      "source": [
        "### Optimizer"
      ]
    },
    {
      "cell_type": "code",
      "execution_count": 86,
      "metadata": {
        "id": "R4TSy8j2or5J"
      },
      "outputs": [],
      "source": [
        "optimizer = Adam(learning_rate=learning_rate)"
      ]
    },
    {
      "cell_type": "markdown",
      "metadata": {
        "id": "5QVfbg2uqEx8"
      },
      "source": [
        "### 학습"
      ]
    },
    {
      "cell_type": "code",
      "execution_count": 87,
      "metadata": {
        "id": "DBjCdWz9or1p"
      },
      "outputs": [
        {
          "name": "stdout",
          "output_type": "stream",
          "text": [
            "epoch:  100\ta: 0.8361\tb: 0.2986\tc: 0.1342\n",
            "epoch:  200\ta: 0.8332\tb: 0.3026\tc: 0.1430\n",
            "epoch:  300\ta: 0.8331\tb: 0.3026\tc: 0.1432\n",
            "epoch:  400\ta: 0.8331\tb: 0.3026\tc: 0.1432\n",
            "epoch:  500\ta: 0.8331\tb: 0.3026\tc: 0.1432\n",
            "epoch:  600\ta: 0.8331\tb: 0.3026\tc: 0.1432\n",
            "epoch:  700\ta: 0.8331\tb: 0.3026\tc: 0.1432\n",
            "epoch:  800\ta: 0.8331\tb: 0.3026\tc: 0.1432\n",
            "epoch:  900\ta: 0.8331\tb: 0.3026\tc: 0.1432\n",
            "epoch: 1000\ta: 0.8331\tb: 0.3026\tc: 0.1432\n"
          ]
        }
      ],
      "source": [
        "for epoch in range(1, epochs+1, 1):\n",
        "    optimizer.minimize(compute_loss, var_list=[a, b, c])\n",
        "    \n",
        "    if epoch % 100 == 0:\n",
        "        print(\"epoch: {:4d}\\ta: {:.4f}\\tb: {:.4f}\\tc: {:.4f}\".format(epoch, a.numpy(), b.numpy(), c.numpy()))"
      ]
    },
    {
      "cell_type": "markdown",
      "metadata": {
        "id": "Fbyej01IumFX"
      },
      "source": [
        "### 학습 후의 회귀선"
      ]
    },
    {
      "cell_type": "code",
      "execution_count": 88,
      "metadata": {
        "id": "gKqDyDwXugdP"
      },
      "outputs": [
        {
          "data": {
            "text/plain": [
              "<function matplotlib.pyplot.show(close=None, block=None)>"
            ]
          },
          "execution_count": 88,
          "metadata": {},
          "output_type": "execute_result"
        },
        {
          "data": {
            "image/png": "[encoded data removed]",
            "text/plain": [
              "<Figure size 432x288 with 1 Axes>"
            ]
          },
          "metadata": {},
          "output_type": "display_data"
        }
      ],
      "source": [
        "line_x = np.arange(min(X), max(X), 0.001)\n",
        "line_y = a*line_x**2 + b*line_x + c\n",
        "\n",
        "plt.scatter(X, Y, label='X data')\n",
        "plt.plot(x_, y_, 'g--', label='origin line')\n",
        "plt.plot(line_x, line_y, 'r--', label='before train')\n",
        "plt.xlim(-4.0, 4.0)\n",
        "plt.legend()\n",
        "plt.grid()\n",
        "plt.show"
      ]
    },
    {
      "cell_type": "markdown",
      "metadata": {
        "id": "jtCFXjS6uwry"
      },
      "source": [
        "## 로지스틱 회귀(Logistic Regression)\n",
        "- 다항 분류, MNIST"
      ]
    },
    {
      "cell_type": "markdown",
      "metadata": {
        "id": "GIdxzXa1vJmt"
      },
      "source": [
        "### modules import"
      ]
    },
    {
      "cell_type": "code",
      "execution_count": 89,
      "metadata": {
        "id": "LGHeQjgYumXM"
      },
      "outputs": [],
      "source": [
        "from tensorflow.keras.datasets import mnist"
      ]
    },
    {
      "cell_type": "markdown",
      "metadata": {
        "id": "96xeDaPJvFW1"
      },
      "source": [
        "### 하이퍼 파라미터 (Hyper Parameter)\n"
      ]
    },
    {
      "cell_type": "code",
      "execution_count": 91,
      "metadata": {
        "id": "-lPlvJz1u6k-"
      },
      "outputs": [],
      "source": [
        "num_classes = 10\n",
        "num_features = 28 * 28\n",
        "\n",
        "learning_rate = 0.1\n",
        "training_steps = 1000\n",
        "batch_size = 256"
      ]
    },
    {
      "cell_type": "markdown",
      "metadata": {
        "id": "ZM5M9h8NvDWV"
      },
      "source": [
        "### 데이터 로드"
      ]
    },
    {
      "cell_type": "code",
      "execution_count": 92,
      "metadata": {
        "id": "qnobrT26vAvQ"
      },
      "outputs": [],
      "source": [
        "(x_train, y_train), (x_test, y_test) = mnist.load_data()\n",
        "x_train, x_test = np.array(x_train, np.float32), np.array(x_test, np.float32)\n",
        "\n",
        "x_train, x_test = x_train.reshape([-1, num_features]), x_test.reshape([-1, num_features])\n",
        "\n",
        "x_train, x_test = x_train / 255., x_test / 255."
      ]
    },
    {
      "cell_type": "markdown",
      "metadata": {
        "id": "o3bJVBPtve43"
      },
      "source": [
        "### tf.data API 사용"
      ]
    },
    {
      "cell_type": "code",
      "execution_count": 94,
      "metadata": {
        "id": "-OWS2nV_vPly"
      },
      "outputs": [],
      "source": [
        "from random import triangular\n",
        "\n",
        "\n",
        "train_data = tf.data.Dataset.from_tensor_slices((x_train, y_train))\n",
        "train_data = train_data.repeat().shuffle(5000).batch(batch_size).prefetch(1)"
      ]
    },
    {
      "cell_type": "markdown",
      "metadata": {
        "id": "fHbbQ29awub_"
      },
      "source": [
        "### 변수 지정"
      ]
    },
    {
      "cell_type": "code",
      "execution_count": 95,
      "metadata": {
        "id": "NTMKizyIww0x"
      },
      "outputs": [],
      "source": [
        "W = tf.Variable(tf.random.normal([num_features, num_classes]), name='weight')\n",
        "b = tf.Variable(tf.zeros([num_classes]), name='bias')"
      ]
    },
    {
      "cell_type": "markdown",
      "metadata": {
        "id": "kiK9LRUNwxC1"
      },
      "source": [
        "### Util Functions"
      ]
    },
    {
      "cell_type": "code",
      "execution_count": 101,
      "metadata": {
        "id": "ylkNeSdhvbi6"
      },
      "outputs": [],
      "source": [
        "def logistic_regression(x):\n",
        "    return tf.nn.softmax(tf.matmul(x, W) + b)\n",
        "\n",
        "def cross_entropy(pred_y, true_y):\n",
        "    true_y = tf.one_hot(true_y, depth=num_classes)\n",
        "    pred_y = tf.clip_by_value(pred_y, 1e-9, 1.)\n",
        "    \n",
        "    return tf.reduce_mean(-tf.reduce_sum(true_y * tf.math.log(pred_y), 1))\n",
        "\n",
        "def accuracy(y_pred, y_true):\n",
        "    correct_prediction = tf.equal(tf.argmax(y_pred,1), tf.cast(y_true, tf.int64))\n",
        "    return tf.reduce_mean(tf.cast(correct_prediction, tf.float32))"
      ]
    },
    {
      "cell_type": "markdown",
      "metadata": {
        "id": "ePdcyFeUxVNu"
      },
      "source": [
        "### Optimizer"
      ]
    },
    {
      "cell_type": "code",
      "execution_count": 102,
      "metadata": {
        "id": "uAQHksH_xW6h"
      },
      "outputs": [],
      "source": [
        "optimizer = tf.optimizers.SGD(learning_rate)"
      ]
    },
    {
      "cell_type": "code",
      "execution_count": 103,
      "metadata": {
        "id": "hksbn4Njvvyk"
      },
      "outputs": [],
      "source": [
        "def run_optimization(x, y):\n",
        "    with tf.GradientTape() as tape:\n",
        "        pred = logistic_regression(x)\n",
        "        loss = cross_entropy(pred, y)\n",
        "    \n",
        "    gradients = tape.gradient(loss, [W,b])\n",
        "    \n",
        "    optimizer.apply_gradients(zip(gradients, [W, b]))"
      ]
    },
    {
      "cell_type": "markdown",
      "metadata": {
        "id": "6B0i4_VvzheR"
      },
      "source": [
        "### 학습 진행"
      ]
    },
    {
      "cell_type": "code",
      "execution_count": 104,
      "metadata": {
        "id": "k1z97_GVwrOV"
      },
      "outputs": [
        {
          "name": "stdout",
          "output_type": "stream",
          "text": [
            "step:   50\tloss: 4.7105\taccuracy: 0.3086\n",
            "step:  100\tloss: 3.3079\taccuracy: 0.5000\n",
            "step:  150\tloss: 2.7484\taccuracy: 0.5352\n",
            "step:  200\tloss: 1.9209\taccuracy: 0.6328\n",
            "step:  250\tloss: 1.6120\taccuracy: 0.6602\n",
            "step:  300\tloss: 1.3678\taccuracy: 0.6875\n",
            "step:  350\tloss: 1.6584\taccuracy: 0.6680\n",
            "step:  400\tloss: 1.5825\taccuracy: 0.7070\n",
            "step:  450\tloss: 1.4841\taccuracy: 0.7109\n",
            "step:  500\tloss: 1.3823\taccuracy: 0.7148\n",
            "step:  550\tloss: 1.2219\taccuracy: 0.7461\n",
            "step:  600\tloss: 1.1410\taccuracy: 0.7656\n",
            "step:  650\tloss: 1.2032\taccuracy: 0.7734\n",
            "step:  700\tloss: 1.2209\taccuracy: 0.7500\n",
            "step:  750\tloss: 1.2996\taccuracy: 0.7539\n",
            "step:  800\tloss: 1.1939\taccuracy: 0.7656\n",
            "step:  850\tloss: 0.9267\taccuracy: 0.8203\n",
            "step:  900\tloss: 0.9519\taccuracy: 0.7617\n",
            "step:  950\tloss: 0.7621\taccuracy: 0.8281\n",
            "step: 1000\tloss: 0.9831\taccuracy: 0.8203\n"
          ]
        }
      ],
      "source": [
        "for step, (batch_x, batch_y) in enumerate(train_data.take(training_steps), 1):\n",
        "    run_optimization(batch_x, batch_y)\n",
        "    \n",
        "    if step % 50 ==0:\n",
        "        pred = logistic_regression(batch_x)\n",
        "        loss = cross_entropy(pred, batch_y)\n",
        "        acc = accuracy(pred, batch_y)\n",
        "        print(\"step: {:4d}\\tloss: {:.4f}\\taccuracy: {:.4f}\".format(step, loss, acc))"
      ]
    },
    {
      "cell_type": "markdown",
      "metadata": {
        "id": "RTv-fBSMzj3e"
      },
      "source": [
        "###  테스트"
      ]
    },
    {
      "cell_type": "code",
      "execution_count": 105,
      "metadata": {
        "id": "MlKYyRnWxbzs"
      },
      "outputs": [
        {
          "name": "stdout",
          "output_type": "stream",
          "text": [
            "Test Accuracy: 0.8108000159263611\n"
          ]
        }
      ],
      "source": [
        "pred = logistic_regression(x_test)\n",
        "print(\"Test Accuracy: {}\".format(accuracy(pred, y_test)))"
      ]
    },
    {
      "cell_type": "markdown",
      "metadata": {
        "id": "NX_R9BP3zkzH"
      },
      "source": [
        "### 시각화"
      ]
    },
    {
      "cell_type": "code",
      "execution_count": 108,
      "metadata": {
        "id": "Y2sVd13zyh3a"
      },
      "outputs": [
        {
          "data": {
            "image/png": "[encoded data removed]",
            "text/plain": [
              "<Figure size 1008x576 with 5 Axes>"
            ]
          },
          "metadata": {},
          "output_type": "display_data"
        }
      ],
      "source": [
        "num_images = 5\n",
        "test_images = x_test[:num_images]\n",
        "predictions = logistic_regression(test_images)\n",
        "\n",
        "plt.figure(figsize=(14, 8))\n",
        "for i in range(1, num_images+1, 1):\n",
        "    plt.subplot(1, num_images, i)\n",
        "    plt.imshow(np.reshape(test_images[i-1], [28, 28]), cmap='gray')\n",
        "    plt.title(\"Model prediction: {}\".format(np.argmax(predictions.numpy()[i-1])))\n"
      ]
    }
  ],
  "metadata": {
    "accelerator": "GPU",
    "colab": {
      "collapsed_sections": [],
      "provenance": []
    },
    "kernelspec": {
      "display_name": "Python 3.9.7 ('base')",
      "language": "python",
      "name": "python3"
    },
    "language_info": {
      "codemirror_mode": {
        "name": "ipython",
        "version": 3
      },
      "file_extension": ".py",
      "mimetype": "text/x-python",
      "name": "python",
      "nbconvert_exporter": "python",
      "pygments_lexer": "ipython3",
      "version": "3.9.7"
    },
    "vscode": {
      "interpreter": {
        "hash": "263930470851f494f0ed2879c35b57985588df20f9e529b86e97dd5eb9ddc466"
      }
    }
  },
  "nbformat": 4,
  "nbformat_minor": 0
}
