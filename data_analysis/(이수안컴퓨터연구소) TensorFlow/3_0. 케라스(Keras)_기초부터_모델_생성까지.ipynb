{
  "cells": [
    {
      "cell_type": "markdown",
      "metadata": {
        "id": "YmY-0QeUYcaa"
      },
      "source": [
        "# 케라스(Keras) 기초부터 모델 생성까지\n",
        "\n",
        "<img src=\"https://s3.amazonaws.com/keras.io/img/keras-logo-2018-large-1200.png\">\n",
        "\n",
        "- 파이썬으로 작성된 고수준 신경망 API로 TensorFlow, CNTK, 혹은 Theano와 함께 사용 가능\n",
        "- 사용자 친화성, 모듈성, 확장성을 통해 빠르고 간편한 프로토타이핑 가능\n",
        "- 컨볼루션 신경망, 순환 신경망, 그리고 둘의 조합까지 모두 지원\n",
        "- CPU와 GPU에서 매끄럽게 실행"
      ]
    },
    {
      "cell_type": "code",
      "execution_count": 2,
      "metadata": {
        "id": "qBkF9tvAbX08"
      },
      "outputs": [
        {
          "data": {
            "text/plain": [
              "'2.10.0'"
            ]
          },
          "execution_count": 2,
          "metadata": {},
          "output_type": "execute_result"
        }
      ],
      "source": [
        "import numpy as np\n",
        "import tensorflow as tf\n",
        "\n",
        "tf.__version__"
      ]
    },
    {
      "cell_type": "markdown",
      "metadata": {
        "id": "ih4Nb7nMbfMc"
      },
      "source": [
        "레이어들을 import하는 방식 (1)\n",
        "- 일일이 import 하지 않아도 됨\n",
        "\n",
        "- 코드가 다소 길어질 수 있음"
      ]
    },
    {
      "cell_type": "code",
      "execution_count": 3,
      "metadata": {
        "id": "76J3cta0bd0e"
      },
      "outputs": [
        {
          "data": {
            "text/plain": [
              "'2.10.0'"
            ]
          },
          "execution_count": 3,
          "metadata": {},
          "output_type": "execute_result"
        }
      ],
      "source": [
        "from tensorflow import keras\n",
        "keras.__version__"
      ]
    },
    {
      "cell_type": "code",
      "execution_count": 4,
      "metadata": {
        "id": "JZondHPTb6Vx"
      },
      "outputs": [
        {
          "data": {
            "text/plain": [
              "<keras.layers.core.dense.Dense at 0x1a58a7fb4f0>"
            ]
          },
          "execution_count": 4,
          "metadata": {},
          "output_type": "execute_result"
        }
      ],
      "source": [
        "keras.layers.Dense(10, activation='sigmoid')"
      ]
    },
    {
      "cell_type": "code",
      "execution_count": 5,
      "metadata": {
        "id": "inaUuk6Nb84X"
      },
      "outputs": [
        {
          "data": {
            "text/plain": [
              "<keras.engine.training.Model at 0x1a5954f01f0>"
            ]
          },
          "execution_count": 5,
          "metadata": {},
          "output_type": "execute_result"
        }
      ],
      "source": [
        "keras.Model()"
      ]
    },
    {
      "cell_type": "code",
      "execution_count": 6,
      "metadata": {
        "id": "NBNQZ7GxcF2H"
      },
      "outputs": [
        {
          "data": {
            "text/plain": [
              "<keras.engine.sequential.Sequential at 0x1a5954f06d0>"
            ]
          },
          "execution_count": 6,
          "metadata": {},
          "output_type": "execute_result"
        }
      ],
      "source": [
        "keras.models.Sequential()"
      ]
    },
    {
      "cell_type": "markdown",
      "metadata": {
        "id": "XseyoEwjbrO-"
      },
      "source": [
        "레이어들을 import하는 방식 (2)\n",
        "- 일일이 import 해야함\n",
        "- 코드가 간결"
      ]
    },
    {
      "cell_type": "code",
      "execution_count": 7,
      "metadata": {
        "id": "W8WLjvCZbwoF"
      },
      "outputs": [],
      "source": [
        "from tensorflow.keras.layers import Dense, Input, Flatten, Activation\n",
        "from tensorflow.keras.models import Sequential\n",
        "from tensorflow.keras import Model"
      ]
    },
    {
      "cell_type": "code",
      "execution_count": 8,
      "metadata": {
        "id": "nYcV0CnVcWJO"
      },
      "outputs": [
        {
          "data": {
            "text/plain": [
              "<keras.layers.core.dense.Dense at 0x1a5954f0e80>"
            ]
          },
          "execution_count": 8,
          "metadata": {},
          "output_type": "execute_result"
        }
      ],
      "source": [
        "Dense(10, activation='relu')"
      ]
    },
    {
      "cell_type": "code",
      "execution_count": 9,
      "metadata": {
        "id": "RMd9TR6FcWDr"
      },
      "outputs": [
        {
          "data": {
            "text/plain": [
              "<keras.layers.reshaping.flatten.Flatten at 0x1a5954f0d30>"
            ]
          },
          "execution_count": 9,
          "metadata": {},
          "output_type": "execute_result"
        }
      ],
      "source": [
        "Flatten(input_shape=[28,28])"
      ]
    },
    {
      "cell_type": "code",
      "execution_count": 10,
      "metadata": {
        "id": "8_Ho3qKbcjOr"
      },
      "outputs": [
        {
          "data": {
            "text/plain": [
              "<KerasTensor: shape=(None, 2) dtype=float32 (created by layer 'input_1')>"
            ]
          },
          "execution_count": 10,
          "metadata": {},
          "output_type": "execute_result"
        }
      ],
      "source": [
        "X_train = np.random.randn(5500, 2)\n",
        "Input(shape=X_train.shape[1:])"
      ]
    },
    {
      "cell_type": "code",
      "execution_count": 11,
      "metadata": {},
      "outputs": [
        {
          "data": {
            "text/plain": [
              "(2,)"
            ]
          },
          "execution_count": 11,
          "metadata": {},
          "output_type": "execute_result"
        }
      ],
      "source": [
        "X_train.shape[1:]"
      ]
    },
    {
      "cell_type": "code",
      "execution_count": 12,
      "metadata": {},
      "outputs": [
        {
          "data": {
            "text/plain": [
              "(5500, 2)"
            ]
          },
          "execution_count": 12,
          "metadata": {},
          "output_type": "execute_result"
        }
      ],
      "source": [
        "X_train.shape"
      ]
    },
    {
      "cell_type": "markdown",
      "metadata": {
        "id": "1Qz5gkr70p12"
      },
      "source": [
        "## 주요 레이어"
      ]
    },
    {
      "cell_type": "markdown",
      "metadata": {
        "id": "Vl0XJyRvbNh5"
      },
      "source": [
        "### Dense\n",
        "- Fully-Connected Layer\n",
        "\n",
        "- 노드수(유닛수), 활성화 함수 등을 지정\n",
        "\n",
        "- name을 통한 레이어간 구분 가능\n",
        "\n",
        "- 기본적으로  \n",
        "  'Glorot_uniform' 가중치(Xavier 초기화), zeros bias로 초기화\n",
        "  - kernel_initializer 인자를 통해 다른 가중치 초기화를 진행할 수 있음"
      ]
    },
    {
      "cell_type": "code",
      "execution_count": 13,
      "metadata": {
        "id": "0By3apmYYe31"
      },
      "outputs": [],
      "source": [
        "dense = Dense(10, activation='relu', name='Dense Layer')"
      ]
    },
    {
      "cell_type": "code",
      "execution_count": 14,
      "metadata": {
        "id": "KUAMqoGNd9gq"
      },
      "outputs": [
        {
          "data": {
            "text/plain": [
              "<keras.layers.core.dense.Dense at 0x1a59558ebb0>"
            ]
          },
          "execution_count": 14,
          "metadata": {},
          "output_type": "execute_result"
        }
      ],
      "source": [
        "dense"
      ]
    },
    {
      "cell_type": "code",
      "execution_count": 15,
      "metadata": {
        "id": "nhb-kQGzhJWC"
      },
      "outputs": [],
      "source": [
        "dense2 = Dense(15, activation='softmax')"
      ]
    },
    {
      "cell_type": "code",
      "execution_count": 16,
      "metadata": {
        "id": "IF_zVkbnhJPz"
      },
      "outputs": [
        {
          "data": {
            "text/plain": [
              "<keras.layers.core.dense.Dense at 0x1a59558ef70>"
            ]
          },
          "execution_count": 16,
          "metadata": {},
          "output_type": "execute_result"
        }
      ],
      "source": [
        "dense2"
      ]
    },
    {
      "cell_type": "markdown",
      "metadata": {
        "id": "v6kPbw7ZJ0W5"
      },
      "source": [
        "### Activation\n",
        "- Dense layer에서 미리 활성화함수를 지정할 수도 있지만 때에 따라서 따로 레이어를 만들어줄 수 있음"
      ]
    },
    {
      "cell_type": "code",
      "execution_count": 17,
      "metadata": {
        "id": "71iUDTGUJ8vu"
      },
      "outputs": [
        {
          "data": {
            "text/plain": [
              "<keras.layers.core.activation.Activation at 0x1a5954df040>"
            ]
          },
          "execution_count": 17,
          "metadata": {},
          "output_type": "execute_result"
        }
      ],
      "source": [
        "dense = Dense(10, kernel_initializer='he_normal', name='Dense Layer')\n",
        "dense = Activation(dense)\n",
        "dense"
      ]
    },
    {
      "cell_type": "markdown",
      "metadata": {
        "id": "NYDu0hcJejJh"
      },
      "source": [
        "### Flatten\n",
        "- 배치 크기(또는 데이터 크기)를 제외하고 데이터를 1차원으로 쭉 펼치는 작업\n",
        "\n",
        "- 예시)\n",
        "        (128, 3, 2, 2) ---> (128, 12)\n",
        "      "
      ]
    },
    {
      "cell_type": "code",
      "execution_count": 18,
      "metadata": {
        "id": "3HzBfkjRd-dN"
      },
      "outputs": [
        {
          "data": {
            "text/plain": [
              "<keras.layers.reshaping.flatten.Flatten at 0x1a5954cf820>"
            ]
          },
          "execution_count": 18,
          "metadata": {},
          "output_type": "execute_result"
        }
      ],
      "source": [
        "Flatten(input_shape=(28,28))"
      ]
    },
    {
      "cell_type": "markdown",
      "metadata": {
        "id": "gREcwh2cg1Zc"
      },
      "source": [
        "### Input \n",
        "- 모델의 입력을 정의\n",
        "\n",
        "- shape, dtype을 포함\n",
        "\n",
        "- 하나의 모델은 여러 개의 입력을 가질 수 있음\n",
        "\n",
        "- summary() 메소드를 통해서는 보이지 않음"
      ]
    },
    {
      "cell_type": "code",
      "execution_count": 19,
      "metadata": {
        "id": "2_kWKUMUefMf"
      },
      "outputs": [],
      "source": [
        "input_1 = Input(shape=(28,28), dtype=tf.float32)\n",
        "input_2 = Input(shape=(8,), dtype=tf.int32)"
      ]
    },
    {
      "cell_type": "code",
      "execution_count": 20,
      "metadata": {
        "id": "1ErOXHCgh6gq"
      },
      "outputs": [
        {
          "data": {
            "text/plain": [
              "<KerasTensor: shape=(None, 28, 28) dtype=float32 (created by layer 'input_2')>"
            ]
          },
          "execution_count": 20,
          "metadata": {},
          "output_type": "execute_result"
        }
      ],
      "source": [
        "input_1"
      ]
    },
    {
      "cell_type": "code",
      "execution_count": 21,
      "metadata": {
        "id": "ic2vspIbh87y"
      },
      "outputs": [
        {
          "data": {
            "text/plain": [
              "<KerasTensor: shape=(None, 8) dtype=int32 (created by layer 'input_3')>"
            ]
          },
          "execution_count": 21,
          "metadata": {},
          "output_type": "execute_result"
        }
      ],
      "source": [
        "input_2"
      ]
    },
    {
      "cell_type": "markdown",
      "metadata": {
        "id": "_BMMAUoKjVC6"
      },
      "source": [
        "## 모델 구성 방법\n",
        "- Sequential()\n",
        "\n",
        "- 서브클래싱(Subclassing)\n",
        "\n",
        "- 함수형 API"
      ]
    },
    {
      "cell_type": "markdown",
      "metadata": {
        "id": "QckCD5TQjubf"
      },
      "source": [
        "### Sequential()\n",
        "\n",
        "- 모델이 순차적으로 진행할 때 사용\n",
        "\n",
        "- 간단한 방법\n",
        "  - Sequential 객체 생성 후, **add**를 통한 방법\n",
        "  \n",
        "  - Sequential 인자에 한번에 추가\n",
        "\n",
        "- 다중 입력 및 출력이 존재하는 등의 복잡한 모델을 구성할 수 없음\n"
      ]
    },
    {
      "cell_type": "code",
      "execution_count": 22,
      "metadata": {
        "id": "0TaLg9w4h9_Z"
      },
      "outputs": [],
      "source": [
        "from tensorflow.keras.layers import Dense, Input, Flatten\n",
        "from tensorflow.keras.models import Sequential, Model\n",
        "from tensorflow.keras.utils import plot_model"
      ]
    },
    {
      "cell_type": "code",
      "execution_count": 23,
      "metadata": {
        "id": "AaZWV6DckLz-"
      },
      "outputs": [],
      "source": [
        "model = Sequential()\n",
        "model.add(Input(shape=(28,28)))\n",
        "model.add(Dense(300, activation='relu'))\n",
        "model.add(Dense(100, activation='relu'))\n",
        "model.add(Dense(10, activation='softmax'))"
      ]
    },
    {
      "cell_type": "markdown",
      "metadata": {
        "id": "uPelUwFwk-ap"
      },
      "source": [
        "모델 구조 확인\n",
        "- model 객체의 **summary()** 이용"
      ]
    },
    {
      "cell_type": "code",
      "execution_count": 24,
      "metadata": {
        "id": "11qLpBoRkVd6"
      },
      "outputs": [
        {
          "name": "stdout",
          "output_type": "stream",
          "text": [
            "Model: \"sequential_1\"\n",
            "_________________________________________________________________\n",
            " Layer (type)                Output Shape              Param #   \n",
            "=================================================================\n",
            " dense_3 (Dense)             (None, 28, 300)           8700      \n",
            "                                                                 \n",
            " dense_4 (Dense)             (None, 28, 100)           30100     \n",
            "                                                                 \n",
            " dense_5 (Dense)             (None, 28, 10)            1010      \n",
            "                                                                 \n",
            "=================================================================\n",
            "Total params: 39,810\n",
            "Trainable params: 39,810\n",
            "Non-trainable params: 0\n",
            "_________________________________________________________________\n"
          ]
        }
      ],
      "source": [
        "model.summary()"
      ]
    },
    {
      "cell_type": "code",
      "execution_count": 25,
      "metadata": {
        "id": "4AO6KrJzlAwh"
      },
      "outputs": [
        {
          "name": "stdout",
          "output_type": "stream",
          "text": [
            "You must install pydot (`pip install pydot`) and install graphviz (see instructions at https://graphviz.gitlab.io/download/) for plot_model to work.\n"
          ]
        }
      ],
      "source": [
        "%matplotlib inline \n",
        "\n",
        "plot_model(model)"
      ]
    },
    {
      "cell_type": "markdown",
      "metadata": {
        "id": "ZM04XyfbrBpX"
      },
      "source": [
        "### 함수형 API\n",
        "\n",
        "- 가장 권장되는 방벚\n",
        "\n",
        "- 모델을 복잡하고, 유연하게 구성 가능\n",
        "\n",
        "- 다중 입출력을 다룰 수 있음"
      ]
    },
    {
      "cell_type": "code",
      "execution_count": 26,
      "metadata": {
        "id": "0XjcLyjetLdh"
      },
      "outputs": [],
      "source": [
        "from tensorflow.keras.models import Model\n",
        "from tensorflow.keras.layers import Input, Flatten, Dense\n",
        "from tensorflow.keras.utils import plot_model"
      ]
    },
    {
      "cell_type": "code",
      "execution_count": 27,
      "metadata": {
        "id": "_C4-YXaYtZG2"
      },
      "outputs": [],
      "source": [
        "inputs = Input(shape=(28,28))\n",
        "x = Flatten(input_shape=(28,28,1))(inputs)\n",
        "x = Dense(300, activation='relu')(x)\n",
        "x = Dense(100, activation='relu')(x)\n",
        "x = Dense(10, activation='softmax')(x)"
      ]
    },
    {
      "cell_type": "code",
      "execution_count": 28,
      "metadata": {
        "id": "541mCIP_utZ0"
      },
      "outputs": [],
      "source": [
        "model = Model(inputs=inputs, outputs=x)"
      ]
    },
    {
      "cell_type": "code",
      "execution_count": 29,
      "metadata": {
        "id": "9eqHbjseuzmi"
      },
      "outputs": [
        {
          "name": "stdout",
          "output_type": "stream",
          "text": [
            "Model: \"model_1\"\n",
            "_________________________________________________________________\n",
            " Layer (type)                Output Shape              Param #   \n",
            "=================================================================\n",
            " input_5 (InputLayer)        [(None, 28, 28)]          0         \n",
            "                                                                 \n",
            " flatten_2 (Flatten)         (None, 784)               0         \n",
            "                                                                 \n",
            " dense_6 (Dense)             (None, 300)               235500    \n",
            "                                                                 \n",
            " dense_7 (Dense)             (None, 100)               30100     \n",
            "                                                                 \n",
            " dense_8 (Dense)             (None, 10)                1010      \n",
            "                                                                 \n",
            "=================================================================\n",
            "Total params: 266,610\n",
            "Trainable params: 266,610\n",
            "Non-trainable params: 0\n",
            "_________________________________________________________________\n"
          ]
        }
      ],
      "source": [
        "model.summary()"
      ]
    },
    {
      "cell_type": "code",
      "execution_count": 30,
      "metadata": {
        "id": "4zp-khCAJ_Rg"
      },
      "outputs": [
        {
          "name": "stdout",
          "output_type": "stream",
          "text": [
            "You must install pydot (`pip install pydot`) and install graphviz (see instructions at https://graphviz.gitlab.io/download/) for plot_model to work.\n"
          ]
        }
      ],
      "source": [
        "plot_model(model)"
      ]
    },
    {
      "cell_type": "code",
      "execution_count": 31,
      "metadata": {
        "id": "3iAC6QhRwsBn"
      },
      "outputs": [
        {
          "name": "stdout",
          "output_type": "stream",
          "text": [
            "You must install pydot (`pip install pydot`) and install graphviz (see instructions at https://graphviz.gitlab.io/download/) for plot_model to work.\n"
          ]
        }
      ],
      "source": [
        "plot_model(model, to_file='model3.png')"
      ]
    },
    {
      "cell_type": "code",
      "execution_count": 32,
      "metadata": {
        "id": "c2VgxtTgwr5_"
      },
      "outputs": [],
      "source": [
        "from tensorflow.keras.layers import Concatenate\n",
        "\n",
        "input_layer = Input(shape=(28,28))\n",
        "hidden1 = Dense(100, activation='relu')(input_layer)\n",
        "hidden2 = Dense(30, activation='relu')(hidden1)\n",
        "concat = Concatenate()([input_layer, hidden2])\n",
        "output = Dense(1)(concat)\n",
        "\n",
        "model = Model(inputs=[input_layer], outputs=[output])"
      ]
    },
    {
      "cell_type": "code",
      "execution_count": 33,
      "metadata": {
        "id": "rMPkFz43xvwA"
      },
      "outputs": [
        {
          "name": "stdout",
          "output_type": "stream",
          "text": [
            "Model: \"model_2\"\n",
            "__________________________________________________________________________________________________\n",
            " Layer (type)                   Output Shape         Param #     Connected to                     \n",
            "==================================================================================================\n",
            " input_6 (InputLayer)           [(None, 28, 28)]     0           []                               \n",
            "                                                                                                  \n",
            " dense_9 (Dense)                (None, 28, 100)      2900        ['input_6[0][0]']                \n",
            "                                                                                                  \n",
            " dense_10 (Dense)               (None, 28, 30)       3030        ['dense_9[0][0]']                \n",
            "                                                                                                  \n",
            " concatenate (Concatenate)      (None, 28, 58)       0           ['input_6[0][0]',                \n",
            "                                                                  'dense_10[0][0]']               \n",
            "                                                                                                  \n",
            " dense_11 (Dense)               (None, 28, 1)        59          ['concatenate[0][0]']            \n",
            "                                                                                                  \n",
            "==================================================================================================\n",
            "Total params: 5,989\n",
            "Trainable params: 5,989\n",
            "Non-trainable params: 0\n",
            "__________________________________________________________________________________________________\n"
          ]
        }
      ],
      "source": [
        "model.summary()"
      ]
    },
    {
      "cell_type": "code",
      "execution_count": 34,
      "metadata": {
        "id": "Mcq5LtfcKBh_"
      },
      "outputs": [
        {
          "name": "stdout",
          "output_type": "stream",
          "text": [
            "You must install pydot (`pip install pydot`) and install graphviz (see instructions at https://graphviz.gitlab.io/download/) for plot_model to work.\n"
          ]
        }
      ],
      "source": [
        "plot_model(model)"
      ]
    },
    {
      "cell_type": "code",
      "execution_count": 35,
      "metadata": {
        "id": "wvtGiFj6x6qa"
      },
      "outputs": [
        {
          "name": "stdout",
          "output_type": "stream",
          "text": [
            "You must install pydot (`pip install pydot`) and install graphviz (see instructions at https://graphviz.gitlab.io/download/) for plot_model to work.\n"
          ]
        }
      ],
      "source": [
        "plot_model(model, to_file='model4.png')"
      ]
    },
    {
      "cell_type": "code",
      "execution_count": 36,
      "metadata": {
        "id": "aVvTOFzfx61O"
      },
      "outputs": [],
      "source": [
        "input_1 = Input(shape=(10,10), name='input_1')\n",
        "input_2 = Input(shape=(10,28), name='input_2')\n",
        "\n",
        "hidden1 = Dense(100, activation='relu')(input_2)\n",
        "hidden2 = Dense(10, activation='relu')(hidden1)\n",
        "concat = Concatenate()([input_1, hidden2])\n",
        "output = Dense(1, activation='sigmoid', name='output')(concat)\n",
        "\n",
        "model = Model(inputs=[input_1, input_2], outputs=[output])"
      ]
    },
    {
      "cell_type": "code",
      "execution_count": 37,
      "metadata": {
        "id": "nfxZETTvx6zE"
      },
      "outputs": [
        {
          "name": "stdout",
          "output_type": "stream",
          "text": [
            "Model: \"model_3\"\n",
            "__________________________________________________________________________________________________\n",
            " Layer (type)                   Output Shape         Param #     Connected to                     \n",
            "==================================================================================================\n",
            " input_2 (InputLayer)           [(None, 10, 28)]     0           []                               \n",
            "                                                                                                  \n",
            " dense_12 (Dense)               (None, 10, 100)      2900        ['input_2[0][0]']                \n",
            "                                                                                                  \n",
            " input_1 (InputLayer)           [(None, 10, 10)]     0           []                               \n",
            "                                                                                                  \n",
            " dense_13 (Dense)               (None, 10, 10)       1010        ['dense_12[0][0]']               \n",
            "                                                                                                  \n",
            " concatenate_1 (Concatenate)    (None, 10, 20)       0           ['input_1[0][0]',                \n",
            "                                                                  'dense_13[0][0]']               \n",
            "                                                                                                  \n",
            " output (Dense)                 (None, 10, 1)        21          ['concatenate_1[0][0]']          \n",
            "                                                                                                  \n",
            "==================================================================================================\n",
            "Total params: 3,931\n",
            "Trainable params: 3,931\n",
            "Non-trainable params: 0\n",
            "__________________________________________________________________________________________________\n"
          ]
        }
      ],
      "source": [
        "model.summary()"
      ]
    },
    {
      "cell_type": "code",
      "execution_count": 38,
      "metadata": {
        "id": "xkJlrolMKD6B"
      },
      "outputs": [
        {
          "name": "stdout",
          "output_type": "stream",
          "text": [
            "You must install pydot (`pip install pydot`) and install graphviz (see instructions at https://graphviz.gitlab.io/download/) for plot_model to work.\n"
          ]
        }
      ],
      "source": [
        "plot_model(model)"
      ]
    },
    {
      "cell_type": "code",
      "execution_count": 39,
      "metadata": {
        "id": "qGorWfShzuYS"
      },
      "outputs": [
        {
          "name": "stdout",
          "output_type": "stream",
          "text": [
            "You must install pydot (`pip install pydot`) and install graphviz (see instructions at https://graphviz.gitlab.io/download/) for plot_model to work.\n"
          ]
        }
      ],
      "source": [
        "plot_model(model, to_file='model5.png')"
      ]
    },
    {
      "cell_type": "code",
      "execution_count": 40,
      "metadata": {
        "id": "r-VZlGGczugL"
      },
      "outputs": [],
      "source": [
        "input_ = Input(shape=(10,10), name='input_')\n",
        "\n",
        "hidden1 = Dense(100, activation='relu')(input_)\n",
        "hidden2 = Dense(10, activation='relu')(hidden1)\n",
        "\n",
        "output = Dense(1, activation='sigmoid', name='main_output')(hidden2)\n",
        "sub_out = Dense(1, name='sum_output')(hidden2)\n",
        "\n",
        "model = Model(inputs=[input_], outputs=[output, sub_out])"
      ]
    },
    {
      "cell_type": "code",
      "execution_count": 41,
      "metadata": {
        "id": "VWiRsHIB0ROK"
      },
      "outputs": [
        {
          "name": "stdout",
          "output_type": "stream",
          "text": [
            "Model: \"model_4\"\n",
            "__________________________________________________________________________________________________\n",
            " Layer (type)                   Output Shape         Param #     Connected to                     \n",
            "==================================================================================================\n",
            " input_ (InputLayer)            [(None, 10, 10)]     0           []                               \n",
            "                                                                                                  \n",
            " dense_14 (Dense)               (None, 10, 100)      1100        ['input_[0][0]']                 \n",
            "                                                                                                  \n",
            " dense_15 (Dense)               (None, 10, 10)       1010        ['dense_14[0][0]']               \n",
            "                                                                                                  \n",
            " main_output (Dense)            (None, 10, 1)        11          ['dense_15[0][0]']               \n",
            "                                                                                                  \n",
            " sum_output (Dense)             (None, 10, 1)        11          ['dense_15[0][0]']               \n",
            "                                                                                                  \n",
            "==================================================================================================\n",
            "Total params: 2,132\n",
            "Trainable params: 2,132\n",
            "Non-trainable params: 0\n",
            "__________________________________________________________________________________________________\n"
          ]
        }
      ],
      "source": [
        "model.summary()"
      ]
    },
    {
      "cell_type": "code",
      "execution_count": 42,
      "metadata": {
        "id": "121rkvNOKF43"
      },
      "outputs": [
        {
          "name": "stdout",
          "output_type": "stream",
          "text": [
            "You must install pydot (`pip install pydot`) and install graphviz (see instructions at https://graphviz.gitlab.io/download/) for plot_model to work.\n"
          ]
        }
      ],
      "source": [
        "plot_model(model)"
      ]
    },
    {
      "cell_type": "code",
      "execution_count": 43,
      "metadata": {
        "id": "i31xM7skx6xD"
      },
      "outputs": [
        {
          "name": "stdout",
          "output_type": "stream",
          "text": [
            "You must install pydot (`pip install pydot`) and install graphviz (see instructions at https://graphviz.gitlab.io/download/) for plot_model to work.\n"
          ]
        }
      ],
      "source": [
        "plot_model(model, to_file='model6.png')"
      ]
    },
    {
      "cell_type": "code",
      "execution_count": 44,
      "metadata": {
        "id": "tmD5BP2izGQJ"
      },
      "outputs": [],
      "source": [
        "input_1 = Input(shape=(10,10), name='input_1')\n",
        "input_2 = Input(shape=(10,28), name='input_2')\n",
        "\n",
        "hidden1 = Dense(100, activation='relu')(input_2)\n",
        "hidden2 = Dense(10, activation='relu')(hidden1)\n",
        "\n",
        "concat = Concatenate()([input_1, hidden2])\n",
        "output = Dense(1, activation='sigmoid', name='main_output')(concat)\n",
        "sub_out = Dense(1, name='sum_output')(hidden2)\n",
        "\n",
        "model = Model(inputs=[input_1, input_2], outputs=[output, sub_out])\n"
      ]
    },
    {
      "cell_type": "code",
      "execution_count": 45,
      "metadata": {
        "id": "0UjQwGT-x6Bo"
      },
      "outputs": [
        {
          "name": "stdout",
          "output_type": "stream",
          "text": [
            "Model: \"model_5\"\n",
            "__________________________________________________________________________________________________\n",
            " Layer (type)                   Output Shape         Param #     Connected to                     \n",
            "==================================================================================================\n",
            " input_2 (InputLayer)           [(None, 10, 28)]     0           []                               \n",
            "                                                                                                  \n",
            " dense_16 (Dense)               (None, 10, 100)      2900        ['input_2[0][0]']                \n",
            "                                                                                                  \n",
            " input_1 (InputLayer)           [(None, 10, 10)]     0           []                               \n",
            "                                                                                                  \n",
            " dense_17 (Dense)               (None, 10, 10)       1010        ['dense_16[0][0]']               \n",
            "                                                                                                  \n",
            " concatenate_2 (Concatenate)    (None, 10, 20)       0           ['input_1[0][0]',                \n",
            "                                                                  'dense_17[0][0]']               \n",
            "                                                                                                  \n",
            " main_output (Dense)            (None, 10, 1)        21          ['concatenate_2[0][0]']          \n",
            "                                                                                                  \n",
            " sum_output (Dense)             (None, 10, 1)        11          ['dense_17[0][0]']               \n",
            "                                                                                                  \n",
            "==================================================================================================\n",
            "Total params: 3,942\n",
            "Trainable params: 3,942\n",
            "Non-trainable params: 0\n",
            "__________________________________________________________________________________________________\n"
          ]
        }
      ],
      "source": [
        "model.summary()"
      ]
    },
    {
      "cell_type": "code",
      "execution_count": 46,
      "metadata": {
        "id": "QpuecYvrKH_i"
      },
      "outputs": [
        {
          "name": "stdout",
          "output_type": "stream",
          "text": [
            "You must install pydot (`pip install pydot`) and install graphviz (see instructions at https://graphviz.gitlab.io/download/) for plot_model to work.\n"
          ]
        }
      ],
      "source": [
        "plot_model(model)"
      ]
    },
    {
      "cell_type": "code",
      "execution_count": 47,
      "metadata": {},
      "outputs": [
        {
          "name": "stdout",
          "output_type": "stream",
          "text": [
            "You must install pydot (`pip install pydot`) and install graphviz (see instructions at https://graphviz.gitlab.io/download/) for plot_model to work.\n"
          ]
        }
      ],
      "source": [
        "plot_model(model, to_file='model7.png')"
      ]
    },
    {
      "cell_type": "markdown",
      "metadata": {
        "id": "MRQUHfuHmW9a"
      },
      "source": [
        "### 서브클래싱(Subclassing)\n",
        "- 커스터마이징에 최적화된 방법\n",
        "\n",
        "- Model 클래스를 상속받아 Model이 포함하는 기능을 사용할 수 있음  \n",
        "  - `fit()`, `evaluate()`, `predict()`\n",
        "  - `save()`, `load()`\n",
        "\n",
        "- 주로 `call()` 메소드안에서 원하는 계산 가능\n",
        "  - for, if, 저수준 연산 등\n",
        "\n",
        "- 권장되는 방법은 아니지만 어떤 모델의 구현 코드를 참고할 때  \n",
        "  해석할 수 있어야함"
      ]
    },
    {
      "cell_type": "code",
      "execution_count": 49,
      "metadata": {
        "id": "J8edl37Ylv7h"
      },
      "outputs": [],
      "source": [
        "from tensorflow.keras.models import Model\n",
        "from tensorflow.keras.layers import Input, Flatten, DenseFeatures\n",
        "from tensorflow.keras.utils import plot_model"
      ]
    },
    {
      "cell_type": "code",
      "execution_count": 51,
      "metadata": {
        "id": "7JKLw7bNsRcr"
      },
      "outputs": [],
      "source": [
        "class MyModel(Model):\n",
        "    def __init__(self, units=30, activation='relu', **kwargs):\n",
        "        super(MyModel, self).__init__(**kwargs)\n",
        "        \n",
        "        self.dense_layer1 = Dense(300, activation=activation)\n",
        "        self.dense_layer2 = Dense(100, activation=activation)\n",
        "        self.dense_layer3 = Dense(units, activation=activation)\n",
        "        \n",
        "        self.output_layer1 = Dense(1, activation='softmax')\n",
        "        \n",
        "    def call(self, inputs):\n",
        "        x = self.dense_layer1(inputs)\n",
        "        x = self.dense_layer2(x)\n",
        "        x = self.dense_layer3(x)\n",
        "        x = self.output_layer3(x)\n",
        "        return x\n",
        "        "
      ]
    },
    {
      "cell_type": "markdown",
      "metadata": {
        "id": "a8TkTb9x6_KI"
      },
      "source": [
        "## 모델 가중치 확인"
      ]
    },
    {
      "cell_type": "code",
      "execution_count": null,
      "metadata": {
        "id": "A12S4z1qpfwh"
      },
      "outputs": [],
      "source": [
        "from tensorflow.keras.models import Model\n",
        "from tensorflow.keras.layers import Input, Flatten, Dense\n",
        "from tensorflow.keras.utils import plot_model"
      ]
    },
    {
      "cell_type": "code",
      "execution_count": 60,
      "metadata": {
        "id": "HLgHWRTv7D2L"
      },
      "outputs": [],
      "source": [
        "inputs = Input(shape=(28,28,1))\n",
        "\n",
        "x = Flatten(input_shape=(28,28,1))(inputs)\n",
        "x = Dense(300, activation='relu', name='Dense1')(x)\n",
        "x = Dense(100, activation='relu')(x)\n",
        "x = Dense(10, activation='softmax')(x)\n",
        "\n",
        "model = Model(inputs=inputs, outputs=x)\n"
      ]
    },
    {
      "cell_type": "code",
      "execution_count": 63,
      "metadata": {
        "id": "b_34PqiU7Dvz"
      },
      "outputs": [
        {
          "name": "stdout",
          "output_type": "stream",
          "text": [
            "Model: \"model_8\"\n",
            "_________________________________________________________________\n",
            " Layer (type)                Output Shape              Param #   \n",
            "=================================================================\n",
            " input_10 (InputLayer)       [(None, 28, 28, 1)]       0         \n",
            "                                                                 \n",
            " flatten_5 (Flatten)         (None, 784)               0         \n",
            "                                                                 \n",
            " Dense1 (Dense)              (None, 300)               235500    \n",
            "                                                                 \n",
            " dense_23 (Dense)            (None, 100)               30100     \n",
            "                                                                 \n",
            " dense_24 (Dense)            (None, 10)                1010      \n",
            "                                                                 \n",
            "=================================================================\n",
            "Total params: 266,610\n",
            "Trainable params: 266,610\n",
            "Non-trainable params: 0\n",
            "_________________________________________________________________\n"
          ]
        }
      ],
      "source": [
        "model.summary()"
      ]
    },
    {
      "cell_type": "markdown",
      "metadata": {
        "id": "KK-5msf3qRo0"
      },
      "source": [
        "모델의 레이어들이 리스트로 표현됨\n"
      ]
    },
    {
      "cell_type": "code",
      "execution_count": 55,
      "metadata": {
        "id": "Tf2F-J8vpi49"
      },
      "outputs": [
        {
          "data": {
            "text/plain": [
              "[<keras.engine.input_layer.InputLayer at 0x1a5969acac0>,\n",
              " <keras.layers.reshaping.flatten.Flatten at 0x1a59596d190>,\n",
              " <keras.layers.core.dense.Dense at 0x1a59596d0d0>,\n",
              " <keras.layers.core.dense.Dense at 0x1a5969741f0>,\n",
              " <keras.layers.core.dense.Dense at 0x1a59596df10>]"
            ]
          },
          "execution_count": 55,
          "metadata": {},
          "output_type": "execute_result"
        }
      ],
      "source": [
        "model.layers"
      ]
    },
    {
      "cell_type": "code",
      "execution_count": 61,
      "metadata": {
        "id": "-aHbATTApi0h"
      },
      "outputs": [
        {
          "data": {
            "text/plain": [
              "'Dense1'"
            ]
          },
          "execution_count": 61,
          "metadata": {},
          "output_type": "execute_result"
        }
      ],
      "source": [
        "hidden_2 = model.layers[2]\n",
        "hidden_2.name"
      ]
    },
    {
      "cell_type": "markdown",
      "metadata": {
        "id": "t1DREsBb5iJE"
      },
      "source": [
        "위의 layer name 참고"
      ]
    },
    {
      "cell_type": "code",
      "execution_count": 64,
      "metadata": {
        "id": "nCrffB2wqNW8"
      },
      "outputs": [
        {
          "data": {
            "text/plain": [
              "True"
            ]
          },
          "execution_count": 64,
          "metadata": {},
          "output_type": "execute_result"
        }
      ],
      "source": [
        "model.get_layer('Dense1') is hidden_2"
      ]
    },
    {
      "cell_type": "code",
      "execution_count": 65,
      "metadata": {
        "id": "OJGopmDxqcO1"
      },
      "outputs": [],
      "source": [
        "weights, biases = hidden_2.get_weights()"
      ]
    },
    {
      "cell_type": "code",
      "execution_count": 66,
      "metadata": {
        "id": "j7zkvduWqhhw"
      },
      "outputs": [
        {
          "data": {
            "text/plain": [
              "array([[ 0.02298062, -0.04862607, -0.03170595, ...,  0.06366687,\n",
              "         0.02457127,  0.03998008],\n",
              "       [ 0.05558884, -0.00091421,  0.036608  , ..., -0.0091787 ,\n",
              "        -0.02174734, -0.04645782],\n",
              "       [ 0.0647269 ,  0.05747527,  0.02529239, ...,  0.07292555,\n",
              "        -0.0248899 ,  0.00707359],\n",
              "       ...,\n",
              "       [-0.00109783,  0.006684  , -0.04983551, ..., -0.00964272,\n",
              "        -0.04758651,  0.05570863],\n",
              "       [-0.03018892, -0.03304067, -0.01311049, ...,  0.03027137,\n",
              "        -0.03245082,  0.0657559 ],\n",
              "       [ 0.05639561,  0.04373384,  0.07090789, ...,  0.03991768,\n",
              "        -0.02067574, -0.04190351]], dtype=float32)"
            ]
          },
          "execution_count": 66,
          "metadata": {},
          "output_type": "execute_result"
        }
      ],
      "source": [
        "weights"
      ]
    },
    {
      "cell_type": "code",
      "execution_count": 68,
      "metadata": {
        "id": "jZsI7ExUqhcH"
      },
      "outputs": [
        {
          "data": {
            "text/plain": [
              "array([0., 0., 0., 0., 0., 0., 0., 0., 0., 0., 0., 0., 0., 0., 0., 0., 0.,\n",
              "       0., 0., 0., 0., 0., 0., 0., 0., 0., 0., 0., 0., 0., 0., 0., 0., 0.,\n",
              "       0., 0., 0., 0., 0., 0., 0., 0., 0., 0., 0., 0., 0., 0., 0., 0., 0.,\n",
              "       0., 0., 0., 0., 0., 0., 0., 0., 0., 0., 0., 0., 0., 0., 0., 0., 0.,\n",
              "       0., 0., 0., 0., 0., 0., 0., 0., 0., 0., 0., 0., 0., 0., 0., 0., 0.,\n",
              "       0., 0., 0., 0., 0., 0., 0., 0., 0., 0., 0., 0., 0., 0., 0., 0., 0.,\n",
              "       0., 0., 0., 0., 0., 0., 0., 0., 0., 0., 0., 0., 0., 0., 0., 0., 0.,\n",
              "       0., 0., 0., 0., 0., 0., 0., 0., 0., 0., 0., 0., 0., 0., 0., 0., 0.,\n",
              "       0., 0., 0., 0., 0., 0., 0., 0., 0., 0., 0., 0., 0., 0., 0., 0., 0.,\n",
              "       0., 0., 0., 0., 0., 0., 0., 0., 0., 0., 0., 0., 0., 0., 0., 0., 0.,\n",
              "       0., 0., 0., 0., 0., 0., 0., 0., 0., 0., 0., 0., 0., 0., 0., 0., 0.,\n",
              "       0., 0., 0., 0., 0., 0., 0., 0., 0., 0., 0., 0., 0., 0., 0., 0., 0.,\n",
              "       0., 0., 0., 0., 0., 0., 0., 0., 0., 0., 0., 0., 0., 0., 0., 0., 0.,\n",
              "       0., 0., 0., 0., 0., 0., 0., 0., 0., 0., 0., 0., 0., 0., 0., 0., 0.,\n",
              "       0., 0., 0., 0., 0., 0., 0., 0., 0., 0., 0., 0., 0., 0., 0., 0., 0.,\n",
              "       0., 0., 0., 0., 0., 0., 0., 0., 0., 0., 0., 0., 0., 0., 0., 0., 0.,\n",
              "       0., 0., 0., 0., 0., 0., 0., 0., 0., 0., 0., 0., 0., 0., 0., 0., 0.,\n",
              "       0., 0., 0., 0., 0., 0., 0., 0., 0., 0., 0.], dtype=float32)"
            ]
          },
          "execution_count": 68,
          "metadata": {},
          "output_type": "execute_result"
        }
      ],
      "source": [
        "biases"
      ]
    },
    {
      "cell_type": "code",
      "execution_count": 69,
      "metadata": {
        "id": "yS8ljwRlqkMc"
      },
      "outputs": [
        {
          "name": "stdout",
          "output_type": "stream",
          "text": [
            "(784, 300)\n",
            "(300,)\n"
          ]
        }
      ],
      "source": [
        "print(weights.shape)\n",
        "print(biases.shape)\n"
      ]
    },
    {
      "cell_type": "markdown",
      "metadata": {
        "id": "PTFFAcfb2DSF"
      },
      "source": [
        "## 모델 컴파일(compile)\n",
        "\n",
        "- 모델을 구성한 후, 사용할 손실함수(loss), 옵티마이저(optimizer)를 지정\n"
      ]
    },
    {
      "cell_type": "code",
      "execution_count": 72,
      "metadata": {
        "id": "jp4t9-iF2xpN"
      },
      "outputs": [],
      "source": [
        "model.compile(loss='sparse_categorical_crossentropy',\n",
        "              optimizer='sgd',\n",
        "              metrics=['accuracy'])"
      ]
    },
    {
      "cell_type": "markdown",
      "metadata": {
        "id": "a8Y5B43W3EmY"
      },
      "source": [
        "### 참고1\n",
        "\n",
        "#### loss\n",
        "- `keras.losses.sparse_categorical_crossentropy` 등과 같이 지정 가능\n",
        "  - `sparse_categorical_crossentropy`  \n",
        "    클래스가 배타적, 즉 MNIST 예제에서 (0, 1, 2, ..., 9)와 같은 방식으로 구분되어 있을 때 사용\n",
        "\n",
        "  - `categorical_cross_entropy`\n",
        "    클래스가 원-핫 인코딩 방식으로 되어 있을 때 사용\n",
        "\n",
        "  - `binary_crossentropy`\n",
        "  이진 분류를 수행할 때 사용\n",
        "\n",
        "\n",
        "#### optimizer\n",
        "- `keras.optimizer.SGD()` 등과 같이 사용 가능\n",
        "  - 보통 옵티마이저의 튜닝을 위해 따로 객체를 생성하여 컴파일    \n",
        "        optimizer = keras.optimizer.SGD(learning_rate=1e-5)  \n",
        "        model.compile(...,\n",
        "                      optimizer=optimzer,\n",
        "                      ...)\n",
        "\n",
        "- `keras.optimizer.Adam()` 도 많이 사용\n",
        "\n",
        "#### metrics\n",
        "- 모니터링할 지표\n",
        "\n",
        "- 주로 'accuracy', 'acc'로도 가능\n"
      ]
    },
    {
      "cell_type": "markdown",
      "metadata": {
        "id": "8k7z79M1Kv-x"
      },
      "source": [
        "### 참고2 - 컴파일 설정 예시\n",
        "- 평균 제곱 오차 회귀 문제\n",
        "      model.compile(loss = 'mse',  \n",
        "                    optimizer = RMSprop(),  \n",
        "                    metrics=['mae'])\n",
        "      \n",
        "- 이진 분류\n",
        "      model.compile(loss = 'binary_crossentropy',  \n",
        "                    optimizer = RMSprop(),  \n",
        "                    metrics=['accuracy])\n",
        "\n",
        "\n",
        "\n",
        "- 다항 분류\n",
        "      model.compile(loss = 'categorical_crossentropy',  \n",
        "                    optimizer = RMSprop(),  \n",
        "                    metrics=['accuracy])\n",
        " \n"
      ]
    },
    {
      "cell_type": "markdown",
      "metadata": {
        "id": "hKAtKRop3AvE"
      },
      "source": [
        "## 모델 훈련, 평가 및 예측\n",
        "- `fit()` 함수\n",
        "\n",
        "  - train_data(학습 데이터), train_label(데이터의 정답)\n",
        "  \n",
        "  - epochs\n",
        "  \n",
        "  - batch_size\n",
        "  \n",
        "  - validation_data\n",
        "\n",
        "- `evaluate()` 함수\n",
        "  - 테스트 데이터\n",
        "\n",
        "\n",
        "- `predict()`\n",
        "  임의의 데이터를 인자로 넣어 예측 가능"
      ]
    },
    {
      "cell_type": "markdown",
      "metadata": {
        "id": "WDPKNEsm2qTQ"
      },
      "source": [
        "## MNIST 예제를 통해 모델 구성하기\n",
        "\n",
        "- keras.datasets 에 포함되어 있는 데이터셋\n",
        "\n",
        "  <img src=\"https://storage.googleapis.com/tfds-data/visualization/fig/mnist-3.0.1.png\" width=\"400\">\n",
        "\n",
        "  <sub>출처: https://www.tensorflow.org/datasets/catalog/mnist</sub>"
      ]
    },
    {
      "cell_type": "markdown",
      "metadata": {
        "id": "Q1CMnkAQGvYE"
      },
      "source": [
        "### modules import"
      ]
    },
    {
      "cell_type": "code",
      "execution_count": 74,
      "metadata": {
        "id": "1AKwa2VeGxqf"
      },
      "outputs": [],
      "source": [
        "import tensorflow as tf\n",
        "from tensorflow.keras.datasets.mnist import load_data\n",
        "from tensorflow.keras.models import Sequential\n",
        "from tensorflow.keras import models\n",
        "from tensorflow.keras.layers import Dense, Input, Flatten\n",
        "from tensorflow.keras.utils import to_categorical \n",
        "from tensorflow.keras.utils import plot_model\n",
        "\n",
        "from sklearn.model_selection import train_test_split \n",
        "import numpy as np \n",
        "import matplotlib.pyplot as plt \n",
        "plt.style.use('seaborn-white')\n",
        "\n"
      ]
    },
    {
      "cell_type": "markdown",
      "metadata": {
        "id": "vEJBVkwzGpsX"
      },
      "source": [
        "### 데이터셋 로드\n",
        "- MNIST 데이터셋을 로드\n",
        "\n",
        "- Train Data 중, 30%를 검증 데이터(valiation data)로 사용\n"
      ]
    },
    {
      "cell_type": "code",
      "execution_count": 75,
      "metadata": {
        "id": "_OGqRrXg2URI"
      },
      "outputs": [],
      "source": [
        "tf.random.set_seed(111)\n",
        "\n",
        "(x_train_full, y_train_full), (x_test, y_test) = load_data(path='mnist.npz')\n",
        "\n",
        "x_train, x_val, y_train, y_val = train_test_split(x_train_full, y_train_full,\n",
        "                                                  test_size=0.3,\n",
        "                                                  random_state=111)"
      ]
    },
    {
      "cell_type": "markdown",
      "metadata": {
        "id": "Vyci_3GlH52j"
      },
      "source": [
        "### 데이터 확인"
      ]
    },
    {
      "cell_type": "code",
      "execution_count": 84,
      "metadata": {
        "id": "xYDatr9Q2UsB"
      },
      "outputs": [],
      "source": [
        "num_x_train = x_train.shape[0]   # 학습 데이터\n",
        "num_x_val = x_val.shape[0]       # 검증 데이터\n",
        "num_x_test = x_test.shape[0]     # 테스트 데이터"
      ]
    },
    {
      "cell_type": "code",
      "execution_count": 85,
      "metadata": {
        "id": "uqff0qU_2VRV"
      },
      "outputs": [
        {
          "name": "stdout",
          "output_type": "stream",
          "text": [
            "학습 데이터 : (60000, 28, 28)\t 레이블: (60000,)\n",
            "학습 데이터 : (42000, 28, 28)\t 레이블: (42000,)\n",
            "검증 데이터 : (18000, 28, 28)\t 레이블: (18000,)\n",
            "테스트 데이터 : (10000, 28, 28)\t 레이블: (10000,)\n"
          ]
        }
      ],
      "source": [
        "print(\"학습 데이터 : {}\\t 레이블: {}\".format(x_train_full.shape, y_train_full.shape))\n",
        "print(\"학습 데이터 : {}\\t 레이블: {}\".format(x_train.shape, y_train.shape))\n",
        "print(\"검증 데이터 : {}\\t 레이블: {}\".format(x_val.shape, y_val.shape))\n",
        "print(\"테스트 데이터 : {}\\t 레이블: {}\".format(x_test.shape, y_test.shape))"
      ]
    },
    {
      "cell_type": "code",
      "execution_count": 87,
      "metadata": {
        "id": "OPlhbVEJ2VNs"
      },
      "outputs": [
        {
          "data": {
            "image/png": "[encoded data removed]",
            "text/plain": [
              "<Figure size 1008x576 with 5 Axes>"
            ]
          },
          "metadata": {},
          "output_type": "display_data"
        }
      ],
      "source": [
        "num_sample = 5\n",
        "\n",
        "random_idxs = np.random.randint(6000, size=num_sample)\n",
        "\n",
        "plt.figure(figsize=(14, 8))\n",
        "for i, idx in enumerate(random_idxs):\n",
        "    img = x_train_full[idx, :]\n",
        "    label = y_train_full[idx]\n",
        "    \n",
        "    plt.subplot(1, len(random_idxs), i+1)\n",
        "    plt.imshow(img)\n",
        "    plt.title(\"Index: {}, Label: {}\".format(idx, label))"
      ]
    },
    {
      "cell_type": "code",
      "execution_count": 90,
      "metadata": {
        "id": "I0aqzgMM2VKg"
      },
      "outputs": [
        {
          "data": {
            "text/plain": [
              "8"
            ]
          },
          "execution_count": 90,
          "metadata": {},
          "output_type": "execute_result"
        }
      ],
      "source": [
        "y_train[0]"
      ]
    },
    {
      "cell_type": "markdown",
      "metadata": {
        "id": "Du5KAU8COICG"
      },
      "source": [
        "### 데이터 전처리\n",
        "- Normalization"
      ]
    },
    {
      "cell_type": "code",
      "execution_count": 91,
      "metadata": {
        "id": "CMvKiV6POJaR"
      },
      "outputs": [],
      "source": [
        "x_train = x_train / 255.\n",
        "x_val = x_val / 255.\n",
        "x_test = x_test / 255."
      ]
    },
    {
      "cell_type": "code",
      "execution_count": 92,
      "metadata": {
        "id": "bMuBGKWxP7DM"
      },
      "outputs": [],
      "source": [
        "y_train = to_categorical(y_train)\n",
        "y_val = to_categorical(y_val)\n",
        "y_test = to_categorical(y_test)"
      ]
    },
    {
      "cell_type": "markdown",
      "metadata": {
        "id": "S9ke94boKfre"
      },
      "source": [
        "### 모델 구성 (Sequential)"
      ]
    },
    {
      "cell_type": "code",
      "execution_count": 93,
      "metadata": {
        "id": "ZBfX4bt52UoZ"
      },
      "outputs": [],
      "source": [
        "model = Sequential([Input(shape=(28,28), name='input'),\n",
        "                    Flatten(input_shape=[28,28], name='flatten'),\n",
        "                    Dense(100, activation='relu', name='dense1'),\n",
        "                    Dense(64, activation='relu', name='dense2'),\n",
        "                    Dense(32, activation='relu', name='dense3'),\n",
        "                    Dense(10, activation='softmax', name='output')])"
      ]
    },
    {
      "cell_type": "code",
      "execution_count": 94,
      "metadata": {
        "id": "QYsY9ghjO0RW"
      },
      "outputs": [
        {
          "name": "stdout",
          "output_type": "stream",
          "text": [
            "Model: \"sequential_2\"\n",
            "_________________________________________________________________\n",
            " Layer (type)                Output Shape              Param #   \n",
            "=================================================================\n",
            " flatten (Flatten)           (None, 784)               0         \n",
            "                                                                 \n",
            " dense1 (Dense)              (None, 100)               78500     \n",
            "                                                                 \n",
            " dense2 (Dense)              (None, 64)                6464      \n",
            "                                                                 \n",
            " dense3 (Dense)              (None, 32)                2080      \n",
            "                                                                 \n",
            " output (Dense)              (None, 10)                330       \n",
            "                                                                 \n",
            "=================================================================\n",
            "Total params: 87,374\n",
            "Trainable params: 87,374\n",
            "Non-trainable params: 0\n",
            "_________________________________________________________________\n"
          ]
        }
      ],
      "source": [
        "model.summary()"
      ]
    },
    {
      "cell_type": "code",
      "execution_count": 95,
      "metadata": {
        "id": "zE-EHHkK2UMG"
      },
      "outputs": [
        {
          "name": "stdout",
          "output_type": "stream",
          "text": [
            "You must install pydot (`pip install pydot`) and install graphviz (see instructions at https://graphviz.gitlab.io/download/) for plot_model to work.\n"
          ]
        }
      ],
      "source": [
        "plot_model(model)"
      ]
    },
    {
      "cell_type": "code",
      "execution_count": 97,
      "metadata": {
        "id": "KW7h-7mR26Xf"
      },
      "outputs": [
        {
          "name": "stdout",
          "output_type": "stream",
          "text": [
            "You must install pydot (`pip install pydot`) and install graphviz (see instructions at https://graphviz.gitlab.io/download/) for plot_model to work.\n"
          ]
        }
      ],
      "source": [
        "plot_model(model, show_shapes=True)"
      ]
    },
    {
      "cell_type": "markdown",
      "metadata": {
        "id": "ttXdLuQsQE_k"
      },
      "source": [
        "### 모델 컴파일"
      ]
    },
    {
      "cell_type": "code",
      "execution_count": 100,
      "metadata": {
        "id": "EXld9Ehd2UJW"
      },
      "outputs": [],
      "source": [
        "model.compile(loss='categorical_crossentropy',\n",
        "              optimizer='sgd',\n",
        "              metrics=['accuracy'])"
      ]
    },
    {
      "cell_type": "markdown",
      "metadata": {
        "id": "TeRlwrsNQUP_"
      },
      "source": [
        "### 모델 학습\n",
        "- 모델 시각화를 위해 history라는 변수에 학습 과정을 담음"
      ]
    },
    {
      "cell_type": "code",
      "execution_count": 101,
      "metadata": {
        "id": "5TaYebESQT0X"
      },
      "outputs": [
        {
          "name": "stdout",
          "output_type": "stream",
          "text": [
            "Epoch 1/50\n",
            "329/329 [==============================] - 1s 3ms/step - loss: 1.8539 - accuracy: 0.4562 - val_loss: 1.2116 - val_accuracy: 0.7127\n",
            "Epoch 2/50\n",
            "329/329 [==============================] - 1s 2ms/step - loss: 0.8526 - accuracy: 0.7799 - val_loss: 0.6307 - val_accuracy: 0.8290\n",
            "Epoch 3/50\n",
            "329/329 [==============================] - 1s 2ms/step - loss: 0.5324 - accuracy: 0.8550 - val_loss: 0.4618 - val_accuracy: 0.8698\n",
            "Epoch 4/50\n",
            "329/329 [==============================] - 1s 2ms/step - loss: 0.4194 - accuracy: 0.8832 - val_loss: 0.3884 - val_accuracy: 0.8892\n",
            "Epoch 5/50\n",
            "329/329 [==============================] - 1s 2ms/step - loss: 0.3654 - accuracy: 0.8964 - val_loss: 0.3505 - val_accuracy: 0.8990\n",
            "Epoch 6/50\n",
            "329/329 [==============================] - 1s 2ms/step - loss: 0.3324 - accuracy: 0.9054 - val_loss: 0.3406 - val_accuracy: 0.8999\n",
            "Epoch 7/50\n",
            "329/329 [==============================] - 1s 2ms/step - loss: 0.3081 - accuracy: 0.9131 - val_loss: 0.3190 - val_accuracy: 0.9061\n",
            "Epoch 8/50\n",
            "329/329 [==============================] - 1s 2ms/step - loss: 0.2884 - accuracy: 0.9187 - val_loss: 0.2847 - val_accuracy: 0.9167\n",
            "Epoch 9/50\n",
            "329/329 [==============================] - 1s 2ms/step - loss: 0.2719 - accuracy: 0.9230 - val_loss: 0.2809 - val_accuracy: 0.9191\n",
            "Epoch 10/50\n",
            "329/329 [==============================] - 1s 2ms/step - loss: 0.2577 - accuracy: 0.9269 - val_loss: 0.2663 - val_accuracy: 0.9220\n",
            "Epoch 11/50\n",
            "329/329 [==============================] - 1s 2ms/step - loss: 0.2448 - accuracy: 0.9306 - val_loss: 0.2503 - val_accuracy: 0.9283\n",
            "Epoch 12/50\n",
            "329/329 [==============================] - 1s 2ms/step - loss: 0.2338 - accuracy: 0.9335 - val_loss: 0.2807 - val_accuracy: 0.9154\n",
            "Epoch 13/50\n",
            "329/329 [==============================] - 1s 2ms/step - loss: 0.2241 - accuracy: 0.9359 - val_loss: 0.2311 - val_accuracy: 0.9342\n",
            "Epoch 14/50\n",
            "329/329 [==============================] - 1s 2ms/step - loss: 0.2144 - accuracy: 0.9395 - val_loss: 0.2274 - val_accuracy: 0.9336\n",
            "Epoch 15/50\n",
            "329/329 [==============================] - 1s 2ms/step - loss: 0.2057 - accuracy: 0.9412 - val_loss: 0.2164 - val_accuracy: 0.9375\n",
            "Epoch 16/50\n",
            "329/329 [==============================] - 1s 2ms/step - loss: 0.1980 - accuracy: 0.9436 - val_loss: 0.2126 - val_accuracy: 0.9383\n",
            "Epoch 17/50\n",
            "329/329 [==============================] - 1s 2ms/step - loss: 0.1902 - accuracy: 0.9458 - val_loss: 0.2066 - val_accuracy: 0.9414\n",
            "Epoch 18/50\n",
            "329/329 [==============================] - 1s 2ms/step - loss: 0.1831 - accuracy: 0.9485 - val_loss: 0.2076 - val_accuracy: 0.9392\n",
            "Epoch 19/50\n",
            "329/329 [==============================] - 1s 2ms/step - loss: 0.1773 - accuracy: 0.9502 - val_loss: 0.1937 - val_accuracy: 0.9443\n",
            "Epoch 20/50\n",
            "329/329 [==============================] - 1s 2ms/step - loss: 0.1708 - accuracy: 0.9514 - val_loss: 0.2950 - val_accuracy: 0.9086\n",
            "Epoch 21/50\n",
            "329/329 [==============================] - 1s 2ms/step - loss: 0.1658 - accuracy: 0.9531 - val_loss: 0.1817 - val_accuracy: 0.9471\n",
            "Epoch 22/50\n",
            "329/329 [==============================] - 1s 2ms/step - loss: 0.1599 - accuracy: 0.9548 - val_loss: 0.1843 - val_accuracy: 0.9461\n",
            "Epoch 23/50\n",
            "329/329 [==============================] - 1s 2ms/step - loss: 0.1553 - accuracy: 0.9559 - val_loss: 0.1754 - val_accuracy: 0.9491\n",
            "Epoch 24/50\n",
            "329/329 [==============================] - 1s 2ms/step - loss: 0.1501 - accuracy: 0.9577 - val_loss: 0.1774 - val_accuracy: 0.9481\n",
            "Epoch 25/50\n",
            "329/329 [==============================] - 1s 2ms/step - loss: 0.1463 - accuracy: 0.9583 - val_loss: 0.1764 - val_accuracy: 0.9471\n",
            "Epoch 26/50\n",
            "329/329 [==============================] - 1s 2ms/step - loss: 0.1415 - accuracy: 0.9599 - val_loss: 0.1637 - val_accuracy: 0.9528\n",
            "Epoch 27/50\n",
            "329/329 [==============================] - 1s 2ms/step - loss: 0.1378 - accuracy: 0.9612 - val_loss: 0.1585 - val_accuracy: 0.9543\n",
            "Epoch 28/50\n",
            "329/329 [==============================] - 1s 2ms/step - loss: 0.1338 - accuracy: 0.9622 - val_loss: 0.1584 - val_accuracy: 0.9539\n",
            "Epoch 29/50\n",
            "329/329 [==============================] - 1s 2ms/step - loss: 0.1299 - accuracy: 0.9631 - val_loss: 0.1562 - val_accuracy: 0.9557\n",
            "Epoch 30/50\n",
            "329/329 [==============================] - 1s 2ms/step - loss: 0.1263 - accuracy: 0.9644 - val_loss: 0.1519 - val_accuracy: 0.9554\n",
            "Epoch 31/50\n",
            "329/329 [==============================] - 1s 2ms/step - loss: 0.1232 - accuracy: 0.9651 - val_loss: 0.1491 - val_accuracy: 0.9571\n",
            "Epoch 32/50\n",
            "329/329 [==============================] - 1s 2ms/step - loss: 0.1202 - accuracy: 0.9663 - val_loss: 0.1504 - val_accuracy: 0.9563\n",
            "Epoch 33/50\n",
            "329/329 [==============================] - 1s 2ms/step - loss: 0.1166 - accuracy: 0.9672 - val_loss: 0.1451 - val_accuracy: 0.9577\n",
            "Epoch 34/50\n",
            "329/329 [==============================] - 1s 2ms/step - loss: 0.1138 - accuracy: 0.9682 - val_loss: 0.1640 - val_accuracy: 0.9526\n",
            "Epoch 35/50\n",
            "329/329 [==============================] - 1s 2ms/step - loss: 0.1110 - accuracy: 0.9683 - val_loss: 0.1420 - val_accuracy: 0.9577\n",
            "Epoch 36/50\n",
            "329/329 [==============================] - 1s 2ms/step - loss: 0.1083 - accuracy: 0.9697 - val_loss: 0.1433 - val_accuracy: 0.9571\n",
            "Epoch 37/50\n",
            "329/329 [==============================] - 1s 2ms/step - loss: 0.1060 - accuracy: 0.9704 - val_loss: 0.1368 - val_accuracy: 0.9608\n",
            "Epoch 38/50\n",
            "329/329 [==============================] - 1s 3ms/step - loss: 0.1033 - accuracy: 0.9717 - val_loss: 0.1369 - val_accuracy: 0.9592\n",
            "Epoch 39/50\n",
            "329/329 [==============================] - 1s 2ms/step - loss: 0.1009 - accuracy: 0.9721 - val_loss: 0.1370 - val_accuracy: 0.9598\n",
            "Epoch 40/50\n",
            "329/329 [==============================] - 1s 2ms/step - loss: 0.0988 - accuracy: 0.9727 - val_loss: 0.1364 - val_accuracy: 0.9595\n",
            "Epoch 41/50\n",
            "329/329 [==============================] - 1s 2ms/step - loss: 0.0967 - accuracy: 0.9733 - val_loss: 0.1301 - val_accuracy: 0.9613\n",
            "Epoch 42/50\n",
            "329/329 [==============================] - 1s 2ms/step - loss: 0.0944 - accuracy: 0.9737 - val_loss: 0.1445 - val_accuracy: 0.9572\n",
            "Epoch 43/50\n",
            "329/329 [==============================] - 1s 2ms/step - loss: 0.0923 - accuracy: 0.9748 - val_loss: 0.1295 - val_accuracy: 0.9620\n",
            "Epoch 44/50\n",
            "329/329 [==============================] - 1s 2ms/step - loss: 0.0904 - accuracy: 0.9749 - val_loss: 0.1347 - val_accuracy: 0.9603\n",
            "Epoch 45/50\n",
            "329/329 [==============================] - 1s 2ms/step - loss: 0.0885 - accuracy: 0.9752 - val_loss: 0.1262 - val_accuracy: 0.9638\n",
            "Epoch 46/50\n",
            "329/329 [==============================] - 1s 2ms/step - loss: 0.0865 - accuracy: 0.9758 - val_loss: 0.1246 - val_accuracy: 0.9631\n",
            "Epoch 47/50\n",
            "329/329 [==============================] - 1s 2ms/step - loss: 0.0848 - accuracy: 0.9764 - val_loss: 0.1289 - val_accuracy: 0.9626\n",
            "Epoch 48/50\n",
            "329/329 [==============================] - 1s 2ms/step - loss: 0.0830 - accuracy: 0.9769 - val_loss: 0.1273 - val_accuracy: 0.9623\n",
            "Epoch 49/50\n",
            "329/329 [==============================] - 1s 2ms/step - loss: 0.0813 - accuracy: 0.9774 - val_loss: 0.1215 - val_accuracy: 0.9641\n",
            "Epoch 50/50\n",
            "329/329 [==============================] - 1s 2ms/step - loss: 0.0798 - accuracy: 0.9777 - val_loss: 0.1208 - val_accuracy: 0.9640\n"
          ]
        }
      ],
      "source": [
        "history = model.fit(x_train, y_train,\n",
        "                    epochs=50,\n",
        "                    batch_size=128,\n",
        "                    validation_data=(x_val, y_val))"
      ]
    },
    {
      "cell_type": "markdown",
      "metadata": {
        "id": "0XaPJX7sRVzi"
      },
      "source": [
        "### 학습 결과 시각화"
      ]
    },
    {
      "cell_type": "code",
      "execution_count": 102,
      "metadata": {
        "id": "vAnCqu9ARVTw"
      },
      "outputs": [
        {
          "data": {
            "text/plain": [
              "dict_keys(['loss', 'accuracy', 'val_loss', 'val_accuracy'])"
            ]
          },
          "execution_count": 102,
          "metadata": {},
          "output_type": "execute_result"
        }
      ],
      "source": [
        "history.history.keys()"
      ]
    },
    {
      "cell_type": "code",
      "execution_count": 104,
      "metadata": {
        "id": "MHfJkN2lRVOc"
      },
      "outputs": [
        {
          "data": {
            "image/png": "[encoded data removed]",
            "text/plain": [
              "<Figure size 864x432 with 2 Axes>"
            ]
          },
          "metadata": {},
          "output_type": "display_data"
        }
      ],
      "source": [
        "history_dict = history.history\n",
        "\n",
        "loss = history_dict['loss']\n",
        "val_loss = history_dict['val_loss']\n",
        "\n",
        "epochs = range(1, len(loss) + 1)\n",
        "fig = plt.figure(figsize=(12, 6))\n",
        "\n",
        "ax1 = fig.add_subplot(1,2, 1)\n",
        "ax1.plot(epochs, loss, color='blue', label='train_loss')\n",
        "ax1.plot(epochs, val_loss, color='red', label='val_loss')\n",
        "ax1.set_title('Train and Validation Loss')\n",
        "ax1.set_xlabel('Epochs')\n",
        "ax1.set_ylabel('Loss')\n",
        "ax1.grid()\n",
        "ax1.legend()\n",
        "\n",
        "\n",
        "accuracy = history_dict['accuracy']\n",
        "val_accuracy = history_dict['val_accuracy']\n",
        "\n",
        "ax2 = fig.add_subplot(1,2,2)\n",
        "ax2.plot(epochs, accuracy, color='blue', label='train_accuracy')\n",
        "ax2.plot(epochs, val_accuracy, color='red', label='val_accuracy')\n",
        "ax2.set_title('Train and Validation Accuracy')\n",
        "ax2.set_xlabel('Epochs')\n",
        "ax2.set_ylabel('Accuracy')\n",
        "ax2.grid()\n",
        "ax2.legend()\n",
        "\n",
        "plt.show()"
      ]
    },
    {
      "cell_type": "markdown",
      "metadata": {
        "id": "Gwl7tQLcTZnW"
      },
      "source": [
        "### 모델 평가 (1)\n",
        "- evaluate"
      ]
    },
    {
      "cell_type": "code",
      "execution_count": 105,
      "metadata": {
        "id": "gX7HcpeoTZGU"
      },
      "outputs": [
        {
          "name": "stdout",
          "output_type": "stream",
          "text": [
            "313/313 [==============================] - 0s 973us/step - loss: 0.1155 - accuracy: 0.9655\n"
          ]
        },
        {
          "data": {
            "text/plain": [
              "[0.11547326296567917, 0.965499997138977]"
            ]
          },
          "execution_count": 105,
          "metadata": {},
          "output_type": "execute_result"
        }
      ],
      "source": [
        "model.evaluate(x_test, y_test)"
      ]
    },
    {
      "cell_type": "markdown",
      "metadata": {
        "id": "ZIV4MhWSTtqH"
      },
      "source": [
        "### 학습된 모델을 통해 값 예측"
      ]
    },
    {
      "cell_type": "code",
      "execution_count": 106,
      "metadata": {
        "id": "te5Wt3jFTY8g"
      },
      "outputs": [
        {
          "name": "stdout",
          "output_type": "stream",
          "text": [
            "313/313 [==============================] - 0s 771us/step\n",
            "(10000, 10)\n",
            "[1.9869776e-06 2.7940155e-06 1.9717988e-04 2.4380239e-03 7.9655712e-07\n",
            " 1.7925708e-05 1.2398776e-07 9.9730742e-01 5.2753326e-06 2.8509505e-05]\n"
          ]
        }
      ],
      "source": [
        "pred_ys = model.predict(x_test)\n",
        "print(pred_ys.shape)\n",
        "\n",
        "np.set_printoptions(precision=7)\n",
        "print(pred_ys[0])"
      ]
    },
    {
      "cell_type": "code",
      "execution_count": 107,
      "metadata": {
        "id": "uJHPRGpMTnnM"
      },
      "outputs": [
        {
          "data": {
            "text/plain": [
              "Text(0.5, 1.0, 'predicted label: 7')"
            ]
          },
          "execution_count": 107,
          "metadata": {},
          "output_type": "execute_result"
        },
        {
          "data": {
            "image/png": "[encoded data removed]",
            "text/plain": [
              "<Figure size 432x288 with 1 Axes>"
            ]
          },
          "metadata": {},
          "output_type": "display_data"
        }
      ],
      "source": [
        "arg_pred_y = np.argmax(pred_ys, axis=1)\n",
        "\n",
        "plt.imshow(x_test[0])\n",
        "plt.title(\"predicted label: {}\".format(arg_pred_y[0]))"
      ]
    },
    {
      "cell_type": "code",
      "execution_count": 109,
      "metadata": {},
      "outputs": [
        {
          "data": {
            "text/plain": [
              "Text(0.5, 1.0, 'predicted label: 2')"
            ]
          },
          "execution_count": 109,
          "metadata": {},
          "output_type": "execute_result"
        },
        {
          "data": {
            "image/png": "[encoded data removed]",
            "text/plain": [
              "<Figure size 432x288 with 1 Axes>"
            ]
          },
          "metadata": {},
          "output_type": "display_data"
        }
      ],
      "source": [
        "plt.imshow(x_test[1])\n",
        "plt.title(\"predicted label: {}\".format(arg_pred_y[1]))"
      ]
    },
    {
      "cell_type": "markdown",
      "metadata": {
        "id": "G6ypcp0iVyjj"
      },
      "source": [
        "### 모델 평가 (2)\n",
        "- 혼동행렬 (Confusion Maxtrix)"
      ]
    },
    {
      "cell_type": "code",
      "execution_count": 110,
      "metadata": {
        "id": "8fN2G31JTnrY"
      },
      "outputs": [],
      "source": [
        "from sklearn.metrics import classification_report, confusion_matrix\n",
        "import seaborn as sns\n",
        "sns.set(style='white')"
      ]
    },
    {
      "cell_type": "code",
      "execution_count": 112,
      "metadata": {
        "id": "IPX11GMeTnt-"
      },
      "outputs": [
        {
          "data": {
            "image/png": "[encoded data removed]",
            "text/plain": [
              "<Figure size 576x576 with 2 Axes>"
            ]
          },
          "metadata": {},
          "output_type": "display_data"
        }
      ],
      "source": [
        "plt.figure(figsize=(8, 8))\n",
        "cm = confusion_matrix(np.argmax(y_test, axis=-1), np.argmax(pred_ys, axis=-1))\n",
        "sns.heatmap(cm, annot=True, fmt='d', cmap='Blues')\n",
        "plt.xlabel('Predicted Label')\n",
        "plt.ylabel('True Label')\n",
        "plt.show()"
      ]
    },
    {
      "cell_type": "markdown",
      "metadata": {
        "id": "BMo2g1TZWctY"
      },
      "source": [
        "### 모델 평가 (3)\n",
        "- 분류 보고서"
      ]
    },
    {
      "cell_type": "code",
      "execution_count": 113,
      "metadata": {
        "id": "J1n_j_h4TnjP"
      },
      "outputs": [
        {
          "name": "stdout",
          "output_type": "stream",
          "text": [
            "              precision    recall  f1-score   support\n",
            "\n",
            "           0       0.97      0.99      0.98       980\n",
            "           1       0.98      0.99      0.98      1135\n",
            "           2       0.97      0.96      0.96      1032\n",
            "           3       0.94      0.97      0.96      1010\n",
            "           4       0.96      0.97      0.96       982\n",
            "           5       0.97      0.95      0.96       892\n",
            "           6       0.97      0.97      0.97       958\n",
            "           7       0.96      0.96      0.96      1028\n",
            "           8       0.97      0.94      0.96       974\n",
            "           9       0.96      0.96      0.96      1009\n",
            "\n",
            "    accuracy                           0.97     10000\n",
            "   macro avg       0.97      0.97      0.97     10000\n",
            "weighted avg       0.97      0.97      0.97     10000\n",
            "\n"
          ]
        }
      ],
      "source": [
        "print(classification_report(np.argmax(y_test, axis=-1), np.argmax(pred_ys, axis=-1)))"
      ]
    },
    {
      "cell_type": "markdown",
      "metadata": {
        "id": "6VWo95AB0W2v"
      },
      "source": [
        "## 모델 저장과 복원\n",
        "- `save()`\n",
        "\n",
        "- `load_model()`\n",
        "\n",
        "- (주의)  \n",
        "  시퀀셜 API, 함수형 API에서는 **모델**의 저장 및 로드기 가능하지만 서브클래싱 방식으로는 할 수 없음  \n",
        "  \n",
        "  서브클래싱 방식\n",
        "      save_weights()\n",
        "      load_weights()  \n",
        "  위 두가지를 통해 **모델의 파라미터**만 저장 및 로드\n",
        "\n",
        "\n",
        "- JSON 형식\n",
        "  - `model.to_json()` (저장)\n",
        "\n",
        "  - `tf.keras.models.model_from_json(file_path)` (복원)\n",
        "\n",
        "- YAML로 직렬화\n",
        "  - `model.to_yaml()` (저장)\n",
        "\n",
        "  - `tf.keras.models.model_from_yaml(file_path)` (복원)\n"
      ]
    },
    {
      "cell_type": "code",
      "execution_count": 114,
      "metadata": {
        "id": "qI-OJUAvtkZs"
      },
      "outputs": [],
      "source": [
        "model.save('mnist_model.h5')"
      ]
    },
    {
      "cell_type": "code",
      "execution_count": 115,
      "metadata": {
        "id": "CKkUgRlEX9yN"
      },
      "outputs": [],
      "source": [
        "loaded_model = models.load_model('mnist_model.h5')"
      ]
    },
    {
      "cell_type": "code",
      "execution_count": 116,
      "metadata": {
        "id": "xcSNxvvLYMJO"
      },
      "outputs": [
        {
          "name": "stdout",
          "output_type": "stream",
          "text": [
            "Model: \"sequential_2\"\n",
            "_________________________________________________________________\n",
            " Layer (type)                Output Shape              Param #   \n",
            "=================================================================\n",
            " flatten (Flatten)           (None, 784)               0         \n",
            "                                                                 \n",
            " dense1 (Dense)              (None, 100)               78500     \n",
            "                                                                 \n",
            " dense2 (Dense)              (None, 64)                6464      \n",
            "                                                                 \n",
            " dense3 (Dense)              (None, 32)                2080      \n",
            "                                                                 \n",
            " output (Dense)              (None, 10)                330       \n",
            "                                                                 \n",
            "=================================================================\n",
            "Total params: 87,374\n",
            "Trainable params: 87,374\n",
            "Non-trainable params: 0\n",
            "_________________________________________________________________\n"
          ]
        }
      ],
      "source": [
        "loaded_model.summary()"
      ]
    },
    {
      "cell_type": "code",
      "execution_count": 120,
      "metadata": {
        "id": "qUAZUdOpZOqp"
      },
      "outputs": [
        {
          "name": "stdout",
          "output_type": "stream",
          "text": [
            "313/313 [==============================] - 0s 795us/step\n",
            "(10000, 10)\n",
            "[1.9869776e-06 2.7940155e-06 1.9717988e-04 2.4380239e-03 7.9655712e-07\n",
            " 1.7925708e-05 1.2398776e-07 9.9730742e-01 5.2753326e-06 2.8509505e-05]\n"
          ]
        }
      ],
      "source": [
        "pred_ys2 = loaded_model.predict(x_test)\n",
        "print(pred_ys2.shape)\n",
        "\n",
        "np.set_printoptions(precision=7)\n",
        "print(pred_ys2[0])"
      ]
    },
    {
      "cell_type": "code",
      "execution_count": 121,
      "metadata": {
        "id": "lGcJHpbJaRiN"
      },
      "outputs": [
        {
          "data": {
            "text/plain": [
              "Text(0.5, 1.0, 'predicted label: 7')"
            ]
          },
          "execution_count": 121,
          "metadata": {},
          "output_type": "execute_result"
        },
        {
          "data": {
            "image/png": "[encoded data removed]",
            "text/plain": [
              "<Figure size 432x288 with 1 Axes>"
            ]
          },
          "metadata": {},
          "output_type": "display_data"
        }
      ],
      "source": [
        "arg_pred_y2 = np.argmax(pred_ys2, axis=1)\n",
        "\n",
        "plt.imshow(x_test[0])\n",
        "plt.title(\"predicted label: {}\".format(arg_pred_y2[0]))"
      ]
    },
    {
      "cell_type": "markdown",
      "metadata": {
        "id": "vwprko04qWeg"
      },
      "source": [
        "## 콜백 (Callbacks)\n",
        "\n",
        "- `fit()` 함수의 callbacks 매개변수를 사용하여 케라스가 훈련의 시작이나 끝에 호출할 객체 리스트를 지정할 수 있음\n",
        "\n",
        "- 여러 개 사용 가능\n",
        "\n",
        "- ModelCheckpoint\n",
        "  - `tf.keras.callbacks.ModelCheckpoint`\n",
        "  - 정기적으로 모델의 체크포인트를 저장하고, 문제가 발생할 때 복구하는데 사용\n",
        "\n",
        "- EarlyStopping\n",
        "  - `tf.keras.callbacks.EarlyStopping`\n",
        "  - 검증 성능이 한동안 개선되지 않을 경우 학습을 중단할 때 사용\n",
        "\n",
        "- LearningRateSchduler\n",
        "  - `tf.keras.callbacks.LearningRateSchduler`\n",
        "  - 최적화를 하는 동안 학습률(learning_rate)를 동적으로 변경할 때 사용\n",
        "\n",
        "- TensorBoard\n",
        "  - `tf.keras.callbacks.TensorBoard`\n",
        "  - 모델의 경과를 모니터링할 때 사용\n"
      ]
    },
    {
      "cell_type": "code",
      "execution_count": 125,
      "metadata": {
        "id": "0_oKQ3gw4Gtp"
      },
      "outputs": [
        {
          "name": "stdout",
          "output_type": "stream",
          "text": [
            "학습 데이터 : (60000, 28, 28)\t 레이블: (60000,)\n",
            "학습 데이터 : (42000, 28, 28)\t 레이블: (42000,)\n",
            "검증 데이터 : (18000, 28, 28)\t 레이블: (18000,)\n",
            "테스트 데이터 : (10000, 28, 28)\t 레이블: (10000,)\n",
            "Model: \"sequential_4\"\n",
            "_________________________________________________________________\n",
            " Layer (type)                Output Shape              Param #   \n",
            "=================================================================\n",
            " flatten (Flatten)           (None, 784)               0         \n",
            "                                                                 \n",
            " dense1 (Dense)              (None, 100)               78500     \n",
            "                                                                 \n",
            " dense2 (Dense)              (None, 64)                6464      \n",
            "                                                                 \n",
            " dense3 (Dense)              (None, 32)                2080      \n",
            "                                                                 \n",
            " output (Dense)              (None, 10)                330       \n",
            "                                                                 \n",
            "=================================================================\n",
            "Total params: 87,374\n",
            "Trainable params: 87,374\n",
            "Non-trainable params: 0\n",
            "_________________________________________________________________\n"
          ]
        }
      ],
      "source": [
        "tf.random.set_seed(111)\n",
        "\n",
        "(x_train_full, y_train_full), (x_test, y_test) = load_data(path='mnist.npz')\n",
        "\n",
        "x_train, x_val, y_train, y_val = train_test_split(x_train_full, y_train_full,\n",
        "                                                  test_size=0.3,\n",
        "                                                  random_state=111)\n",
        "\n",
        "\n",
        "print(\"학습 데이터 : {}\\t 레이블: {}\".format(x_train_full.shape, y_train_full.shape))\n",
        "print(\"학습 데이터 : {}\\t 레이블: {}\".format(x_train.shape, y_train.shape))\n",
        "print(\"검증 데이터 : {}\\t 레이블: {}\".format(x_val.shape, y_val.shape))\n",
        "print(\"테스트 데이터 : {}\\t 레이블: {}\".format(x_test.shape, y_test.shape))\t\t\t\t\t\t\t\t\t\t\t\t  \n",
        "\n",
        "\n",
        "x_train = x_train / 255.\n",
        "x_val = x_val / 255.\n",
        "x_test = x_test / 255.\n",
        "\n",
        "\n",
        "y_train = to_categorical(y_train)\n",
        "y_val = to_categorical(y_val)\n",
        "y_test = to_categorical(y_test)\n",
        "\n",
        "def build_model():\n",
        "    model = Sequential([Input(shape=(28,28), name='input'),\n",
        "                    Flatten(input_shape=[28,28], name='flatten'),\n",
        "                    Dense(100, activation='relu', name='dense1'),\n",
        "                    Dense(64, activation='relu', name='dense2'),\n",
        "                    Dense(32, activation='relu', name='dense3'),\n",
        "                    Dense(10, activation='softmax', name='output')])\n",
        "    model.compile(loss='categorical_crossentropy',\n",
        "                  optimizer='sgd',\n",
        "                  metrics=['accuracy'])\n",
        "    \n",
        "    return model\n",
        "\n",
        "\n",
        "model = build_model()\n",
        "\n",
        "model.summary()\n",
        "    "
      ]
    },
    {
      "cell_type": "code",
      "execution_count": 129,
      "metadata": {
        "id": "ENnkJ6Qq2JQm"
      },
      "outputs": [],
      "source": [
        "from tensorflow.keras.models import load_model\n",
        "from tensorflow.keras.callbacks import ModelCheckpoint, EarlyStopping, LearningRateScheduler, TensorBoard"
      ]
    },
    {
      "cell_type": "markdown",
      "metadata": {
        "id": "xNBMnd5IgE8H"
      },
      "source": [
        "### ModelCheckpoint"
      ]
    },
    {
      "cell_type": "code",
      "execution_count": null,
      "metadata": {
        "id": "tVOIVgBnqdIg"
      },
      "outputs": [],
      "source": [
        "check_point_cb = ModelCheckpoint('keras_mnist_model.h5')\n",
        "history = model.fit(x_train, y_train, epochs=10, callbacks=[check_point_cb])"
      ]
    },
    {
      "cell_type": "code",
      "execution_count": 128,
      "metadata": {
        "id": "HAHm-GqSqdE7"
      },
      "outputs": [
        {
          "data": {
            "text/plain": [
              "dict_keys(['loss', 'accuracy'])"
            ]
          },
          "execution_count": 128,
          "metadata": {},
          "output_type": "execute_result"
        }
      ],
      "source": [
        "history.history.keys()"
      ]
    },
    {
      "cell_type": "code",
      "execution_count": 130,
      "metadata": {
        "id": "h4Z8KGWSqdBb"
      },
      "outputs": [],
      "source": [
        "loaded_model = load_model('keras_mnist_model.h5')"
      ]
    },
    {
      "cell_type": "code",
      "execution_count": 132,
      "metadata": {},
      "outputs": [
        {
          "name": "stdout",
          "output_type": "stream",
          "text": [
            "Model: \"sequential_4\"\n",
            "_________________________________________________________________\n",
            " Layer (type)                Output Shape              Param #   \n",
            "=================================================================\n",
            " flatten (Flatten)           (None, 784)               0         \n",
            "                                                                 \n",
            " dense1 (Dense)              (None, 100)               78500     \n",
            "                                                                 \n",
            " dense2 (Dense)              (None, 64)                6464      \n",
            "                                                                 \n",
            " dense3 (Dense)              (None, 32)                2080      \n",
            "                                                                 \n",
            " output (Dense)              (None, 10)                330       \n",
            "                                                                 \n",
            "=================================================================\n",
            "Total params: 87,374\n",
            "Trainable params: 87,374\n",
            "Non-trainable params: 0\n",
            "_________________________________________________________________\n"
          ]
        }
      ],
      "source": [
        "loaded_model.summary()"
      ]
    },
    {
      "cell_type": "markdown",
      "metadata": {
        "id": "dGv8fIyo4_Th"
      },
      "source": [
        "최상의 모델만을 저장\n",
        "- save_best_only=True"
      ]
    },
    {
      "cell_type": "code",
      "execution_count": 133,
      "metadata": {
        "id": "4W4rJEOsqc98"
      },
      "outputs": [
        {
          "name": "stdout",
          "output_type": "stream",
          "text": [
            "Epoch 1/10\n",
            "1313/1313 [==============================] - 2s 2ms/step - loss: 0.8162 - accuracy: 0.7730 - val_loss: 0.3830 - val_accuracy: 0.8879\n",
            "Epoch 2/10\n",
            "1313/1313 [==============================] - 2s 2ms/step - loss: 0.3383 - accuracy: 0.9025 - val_loss: 0.3097 - val_accuracy: 0.9088\n",
            "Epoch 3/10\n",
            "1313/1313 [==============================] - 2s 2ms/step - loss: 0.2708 - accuracy: 0.9213 - val_loss: 0.2519 - val_accuracy: 0.9279\n",
            "Epoch 4/10\n",
            "1313/1313 [==============================] - 2s 2ms/step - loss: 0.2294 - accuracy: 0.9336 - val_loss: 0.2280 - val_accuracy: 0.9329\n",
            "Epoch 5/10\n",
            "1313/1313 [==============================] - 2s 2ms/step - loss: 0.1999 - accuracy: 0.9424 - val_loss: 0.2030 - val_accuracy: 0.9414\n",
            "Epoch 6/10\n",
            "1313/1313 [==============================] - 2s 2ms/step - loss: 0.1775 - accuracy: 0.9486 - val_loss: 0.1875 - val_accuracy: 0.9444\n",
            "Epoch 7/10\n",
            "1313/1313 [==============================] - 2s 2ms/step - loss: 0.1595 - accuracy: 0.9535 - val_loss: 0.1735 - val_accuracy: 0.9489\n",
            "Epoch 8/10\n",
            "1313/1313 [==============================] - 2s 2ms/step - loss: 0.1447 - accuracy: 0.9582 - val_loss: 0.1560 - val_accuracy: 0.9544\n",
            "Epoch 9/10\n",
            "1313/1313 [==============================] - 2s 2ms/step - loss: 0.1317 - accuracy: 0.9612 - val_loss: 0.1506 - val_accuracy: 0.9562\n",
            "Epoch 10/10\n",
            "1313/1313 [==============================] - 2s 2ms/step - loss: 0.1211 - accuracy: 0.9651 - val_loss: 0.1444 - val_accuracy: 0.9573\n"
          ]
        }
      ],
      "source": [
        "model = build_model()\n",
        "\n",
        "cp = ModelCheckpoint('keras_best_model.h5', save_best_only=True)\n",
        "\n",
        "history = model.fit(x_train, y_train, epochs=10,\n",
        "                    validation_data=(x_val, y_val), callbacks=[cp])"
      ]
    },
    {
      "cell_type": "code",
      "execution_count": 134,
      "metadata": {
        "id": "r2QNCtmjqc6f"
      },
      "outputs": [
        {
          "data": {
            "text/plain": [
              "dict_keys(['loss', 'accuracy', 'val_loss', 'val_accuracy'])"
            ]
          },
          "execution_count": 134,
          "metadata": {},
          "output_type": "execute_result"
        }
      ],
      "source": [
        "history.history.keys()"
      ]
    },
    {
      "cell_type": "code",
      "execution_count": 135,
      "metadata": {
        "id": "_HlEkRagqc3D"
      },
      "outputs": [
        {
          "name": "stdout",
          "output_type": "stream",
          "text": [
            "Model: \"sequential_5\"\n",
            "_________________________________________________________________\n",
            " Layer (type)                Output Shape              Param #   \n",
            "=================================================================\n",
            " flatten (Flatten)           (None, 784)               0         \n",
            "                                                                 \n",
            " dense1 (Dense)              (None, 100)               78500     \n",
            "                                                                 \n",
            " dense2 (Dense)              (None, 64)                6464      \n",
            "                                                                 \n",
            " dense3 (Dense)              (None, 32)                2080      \n",
            "                                                                 \n",
            " output (Dense)              (None, 10)                330       \n",
            "                                                                 \n",
            "=================================================================\n",
            "Total params: 87,374\n",
            "Trainable params: 87,374\n",
            "Non-trainable params: 0\n",
            "_________________________________________________________________\n"
          ]
        }
      ],
      "source": [
        "loaded_model2 = load_model('keras_best_model.h5')\n",
        "loaded_model2.summary()"
      ]
    },
    {
      "cell_type": "markdown",
      "metadata": {
        "id": "osAT_QOp7roL"
      },
      "source": [
        "### EarlyStopping\n",
        "- 일정 에포크(patience) 동안 검증 세트에 대한 점수가 오르지 않으면 학습을 멈춤\n",
        "\n",
        "- 모델이 향상되지 않으면 학습이 자동으로 중지되므로,  \n",
        "  에포크(epochs) 숫자를 크게 해도 무방\n",
        "\n",
        "- 학습이 끝난 후의 최상의 가중치를 복원하기 때문에 모델을 따로 복원할 필요없음"
      ]
    },
    {
      "cell_type": "code",
      "execution_count": 136,
      "metadata": {
        "id": "JT61djueqczo"
      },
      "outputs": [
        {
          "name": "stdout",
          "output_type": "stream",
          "text": [
            "Epoch 1/50\n",
            "1313/1313 [==============================] - 2s 2ms/step - loss: 0.8792 - accuracy: 0.7457 - val_loss: 0.4051 - val_accuracy: 0.8738\n",
            "Epoch 2/50\n",
            "1313/1313 [==============================] - 2s 2ms/step - loss: 0.3272 - accuracy: 0.9047 - val_loss: 0.2951 - val_accuracy: 0.9127\n",
            "Epoch 3/50\n",
            "1313/1313 [==============================] - 2s 2ms/step - loss: 0.2592 - accuracy: 0.9236 - val_loss: 0.2441 - val_accuracy: 0.9276\n",
            "Epoch 4/50\n",
            "1313/1313 [==============================] - 2s 2ms/step - loss: 0.2163 - accuracy: 0.9376 - val_loss: 0.2125 - val_accuracy: 0.9358\n",
            "Epoch 5/50\n",
            "1313/1313 [==============================] - 2s 2ms/step - loss: 0.1873 - accuracy: 0.9456 - val_loss: 0.1904 - val_accuracy: 0.9438\n",
            "Epoch 6/50\n",
            "1313/1313 [==============================] - 2s 2ms/step - loss: 0.1663 - accuracy: 0.9506 - val_loss: 0.1779 - val_accuracy: 0.9471\n",
            "Epoch 7/50\n",
            "1313/1313 [==============================] - 2s 2ms/step - loss: 0.1495 - accuracy: 0.9562 - val_loss: 0.1605 - val_accuracy: 0.9524\n",
            "Epoch 8/50\n",
            "1313/1313 [==============================] - 2s 2ms/step - loss: 0.1355 - accuracy: 0.9608 - val_loss: 0.1468 - val_accuracy: 0.9569\n",
            "Epoch 9/50\n",
            "1313/1313 [==============================] - 2s 2ms/step - loss: 0.1239 - accuracy: 0.9635 - val_loss: 0.1424 - val_accuracy: 0.9574\n",
            "Epoch 10/50\n",
            "1313/1313 [==============================] - 2s 2ms/step - loss: 0.1133 - accuracy: 0.9667 - val_loss: 0.1389 - val_accuracy: 0.9585\n",
            "Epoch 11/50\n",
            "1313/1313 [==============================] - 2s 2ms/step - loss: 0.1043 - accuracy: 0.9697 - val_loss: 0.1300 - val_accuracy: 0.9607\n",
            "Epoch 12/50\n",
            "1313/1313 [==============================] - 2s 2ms/step - loss: 0.0965 - accuracy: 0.9716 - val_loss: 0.1269 - val_accuracy: 0.9621\n",
            "Epoch 13/50\n",
            "1313/1313 [==============================] - 2s 2ms/step - loss: 0.0895 - accuracy: 0.9739 - val_loss: 0.1222 - val_accuracy: 0.9625\n",
            "Epoch 14/50\n",
            "1313/1313 [==============================] - 2s 2ms/step - loss: 0.0834 - accuracy: 0.9757 - val_loss: 0.1156 - val_accuracy: 0.9663\n",
            "Epoch 15/50\n",
            "1313/1313 [==============================] - 2s 2ms/step - loss: 0.0771 - accuracy: 0.9769 - val_loss: 0.1219 - val_accuracy: 0.9640\n",
            "Epoch 16/50\n",
            "1313/1313 [==============================] - 2s 2ms/step - loss: 0.0717 - accuracy: 0.9788 - val_loss: 0.1208 - val_accuracy: 0.9627\n",
            "Epoch 17/50\n",
            "1313/1313 [==============================] - 2s 2ms/step - loss: 0.0673 - accuracy: 0.9800 - val_loss: 0.1120 - val_accuracy: 0.9666\n",
            "Epoch 18/50\n",
            "1313/1313 [==============================] - 2s 2ms/step - loss: 0.0620 - accuracy: 0.9819 - val_loss: 0.1137 - val_accuracy: 0.9656\n",
            "Epoch 19/50\n",
            "1313/1313 [==============================] - 2s 2ms/step - loss: 0.0579 - accuracy: 0.9830 - val_loss: 0.1092 - val_accuracy: 0.9682\n",
            "Epoch 20/50\n",
            "1313/1313 [==============================] - 2s 2ms/step - loss: 0.0545 - accuracy: 0.9848 - val_loss: 0.1118 - val_accuracy: 0.9656\n",
            "Epoch 21/50\n",
            "1313/1313 [==============================] - 2s 2ms/step - loss: 0.0509 - accuracy: 0.9857 - val_loss: 0.1059 - val_accuracy: 0.9686\n",
            "Epoch 22/50\n",
            "1313/1313 [==============================] - 2s 2ms/step - loss: 0.0469 - accuracy: 0.9866 - val_loss: 0.1095 - val_accuracy: 0.9670\n",
            "Epoch 23/50\n",
            "1313/1313 [==============================] - 2s 2ms/step - loss: 0.0443 - accuracy: 0.9874 - val_loss: 0.1032 - val_accuracy: 0.9684\n",
            "Epoch 24/50\n",
            "1313/1313 [==============================] - 2s 2ms/step - loss: 0.0415 - accuracy: 0.9883 - val_loss: 0.1086 - val_accuracy: 0.9686\n",
            "Epoch 25/50\n",
            "1313/1313 [==============================] - 2s 2ms/step - loss: 0.0389 - accuracy: 0.9892 - val_loss: 0.1050 - val_accuracy: 0.9697\n",
            "Epoch 26/50\n",
            "1313/1313 [==============================] - 2s 2ms/step - loss: 0.0359 - accuracy: 0.9900 - val_loss: 0.1006 - val_accuracy: 0.9707\n",
            "Epoch 27/50\n",
            "1313/1313 [==============================] - 2s 2ms/step - loss: 0.0336 - accuracy: 0.9916 - val_loss: 0.1012 - val_accuracy: 0.9716\n",
            "Epoch 28/50\n",
            "1313/1313 [==============================] - 2s 2ms/step - loss: 0.0319 - accuracy: 0.9913 - val_loss: 0.1045 - val_accuracy: 0.9705\n",
            "Epoch 29/50\n",
            "1313/1313 [==============================] - 2s 2ms/step - loss: 0.0292 - accuracy: 0.9924 - val_loss: 0.1049 - val_accuracy: 0.9699\n"
          ]
        }
      ],
      "source": [
        "model = build_model()\n",
        "\n",
        "cp = ModelCheckpoint('keras_best_model2.h5', save_best_only=True)\n",
        "early_stopping_cb = EarlyStopping(patience=3, monitor='val_loss',\n",
        "                                  restore_best_weights=True)\n",
        "\n",
        "history = model.fit(x_train, y_train, epochs=50,\n",
        "                    validation_data=(x_val, y_val), callbacks=[cp, early_stopping_cb])"
      ]
    },
    {
      "cell_type": "markdown",
      "metadata": {
        "id": "sPadOgZM9bM-"
      },
      "source": [
        "### LearningRateScheduler"
      ]
    },
    {
      "cell_type": "code",
      "execution_count": 137,
      "metadata": {
        "id": "njq81hTgqcwG"
      },
      "outputs": [],
      "source": [
        "def scheduler(epoch, learning_rate):\n",
        "    if epoch < 10:\n",
        "        return learning_rate\n",
        "    else:\n",
        "        return learning_rate * tf.math.exp(-0.1)"
      ]
    },
    {
      "cell_type": "code",
      "execution_count": 138,
      "metadata": {
        "id": "5AUc7PaMqcsd"
      },
      "outputs": [
        {
          "data": {
            "text/plain": [
              "0.01"
            ]
          },
          "execution_count": 138,
          "metadata": {},
          "output_type": "execute_result"
        }
      ],
      "source": [
        "model = build_model()\n",
        "round(model.optimizer.lr.numpy(), 5)"
      ]
    },
    {
      "cell_type": "code",
      "execution_count": 139,
      "metadata": {
        "id": "ZEH3d9__qco9"
      },
      "outputs": [
        {
          "data": {
            "text/plain": [
              "0.00607"
            ]
          },
          "execution_count": 139,
          "metadata": {},
          "output_type": "execute_result"
        }
      ],
      "source": [
        "lr_scheduler_cb = LearningRateScheduler(scheduler)\n",
        "\n",
        "history = model.fit(x_train, y_train, epochs=15,\n",
        "                    callbacks=[lr_scheduler_cb], verbose=0)\n",
        "\n",
        "round(model.optimizer.lr.numpy(), 5)"
      ]
    },
    {
      "cell_type": "markdown",
      "metadata": {
        "id": "A31OUv_C-QHX"
      },
      "source": [
        "### Tensorboard\n",
        "- 텐서보드를 이용하여 학습과정 모니터링"
      ]
    },
    {
      "cell_type": "markdown",
      "metadata": {
        "id": "CcDhXXgn_W2F"
      },
      "source": [
        "텐서보드를 사용하기 위해 logs폴더를 만들고, 학습이 진행되는 동안 로그 파일을 생성"
      ]
    },
    {
      "cell_type": "code",
      "execution_count": 142,
      "metadata": {
        "id": "zc38Lumyqclb"
      },
      "outputs": [
        {
          "data": {
            "text/plain": [
              "<keras.callbacks.TensorBoard at 0x1a59e5259a0>"
            ]
          },
          "execution_count": 142,
          "metadata": {},
          "output_type": "execute_result"
        }
      ],
      "source": [
        "TensorBoard(log_dir='.logs', histogram_freq=0, write_graph=True, write_images=True)"
      ]
    },
    {
      "cell_type": "code",
      "execution_count": null,
      "metadata": {
        "id": "XS1P1aDdqcgb"
      },
      "outputs": [],
      "source": [
        "log_dir='./logs'\n",
        "\n",
        "tensor_board_cb = [TensorBoard(log_dir=log_dir, histogram_freq=0, write_graph=True, write_images=True)]\n",
        "\n",
        "model = build_model()\n",
        "\n",
        "model.fit(x_train, y_train, batch_size=32, validation_data)\n"
      ]
    },
    {
      "cell_type": "code",
      "execution_count": null,
      "metadata": {
        "id": "veufv36_BiZM"
      },
      "outputs": [],
      "source": []
    },
    {
      "cell_type": "markdown",
      "metadata": {
        "id": "nkmm5b03CBQb"
      },
      "source": [
        "load하는데 시간 소요\n",
        "\n",
        "- load가 안된다면 port번호를 바꿔서 실행!  \n",
        "  ex) %tensorboard --logdir {log_dir} port 8000"
      ]
    },
    {
      "cell_type": "code",
      "execution_count": null,
      "metadata": {
        "id": "RgN2oO6dBnmN"
      },
      "outputs": [],
      "source": []
    }
  ],
  "metadata": {
    "colab": {
      "collapsed_sections": [],
      "provenance": []
    },
    "kernelspec": {
      "display_name": "Python 3.9.7 ('base')",
      "language": "python",
      "name": "python3"
    },
    "language_info": {
      "codemirror_mode": {
        "name": "ipython",
        "version": 3
      },
      "file_extension": ".py",
      "mimetype": "text/x-python",
      "name": "python",
      "nbconvert_exporter": "python",
      "pygments_lexer": "ipython3",
      "version": "3.9.7"
    },
    "vscode": {
      "interpreter": {
        "hash": "263930470851f494f0ed2879c35b57985588df20f9e529b86e97dd5eb9ddc466"
      }
    }
  },
  "nbformat": 4,
  "nbformat_minor": 0
}
