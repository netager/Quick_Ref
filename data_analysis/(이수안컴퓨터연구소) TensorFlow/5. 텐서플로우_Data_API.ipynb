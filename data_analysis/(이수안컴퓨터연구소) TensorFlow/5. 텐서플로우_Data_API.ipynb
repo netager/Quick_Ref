{
  "cells": [
    {
      "cell_type": "markdown",
      "metadata": {
        "id": "pvT4Kena44U-"
      },
      "source": [
        "# Data API\n",
        "\n",
        "- `tf.data`: https://www.tensorflow.org/api_docs/python/tf/data\n",
        "- `tf.data.datasets`\n",
        "\n"
      ]
    },
    {
      "cell_type": "markdown",
      "metadata": {
        "id": "qMJ7xx8N882t"
      },
      "source": [
        "## tf.data.datasets"
      ]
    },
    {
      "cell_type": "code",
      "execution_count": 61,
      "metadata": {},
      "outputs": [],
      "source": [
        "#!pip install tensorflow_datasets"
      ]
    },
    {
      "cell_type": "code",
      "execution_count": 62,
      "metadata": {
        "id": "uA_5y-rv5K0x"
      },
      "outputs": [],
      "source": [
        "import tensorflow as tf \n",
        "import tensorflow_datasets as tfds"
      ]
    },
    {
      "cell_type": "code",
      "execution_count": 63,
      "metadata": {
        "id": "_77BigY5g3hd"
      },
      "outputs": [
        {
          "name": "stdout",
          "output_type": "stream",
          "text": [
            "['abstract_reasoning', 'accentdb', 'aeslc', 'aflw2k3d', 'ag_news_subset', 'ai2_arc', 'ai2_arc_with_ir', 'amazon_us_reviews', 'anli', 'answer_equivalence', 'arc', 'asqa', 'asset', 'assin2', 'bair_robot_pushing_small', 'bccd', 'beans', 'bee_dataset', 'beir', 'big_patent', 'bigearthnet', 'billsum', 'binarized_mnist', 'binary_alpha_digits', 'ble_wind_field', 'blimp', 'booksum', 'bool_q', 'bucc', 'c4', 'caltech101', 'caltech_birds2010', 'caltech_birds2011', 'cardiotox', 'cars196', 'cassava', 'cats_vs_dogs', 'celeb_a', 'celeb_a_hq', 'cfq', 'cherry_blossoms', 'chexpert', 'cifar10', 'cifar100', 'cifar100_n', 'cifar10_1', 'cifar10_corrupted', 'cifar10_n', 'citrus_leaves', 'cityscapes', 'civil_comments', 'clevr', 'clic', 'clinc_oos', 'cmaterdb', 'cnn_dailymail', 'coco', 'coco_captions', 'coil100', 'colorectal_histology', 'colorectal_histology_large', 'common_voice', 'conll2003', 'controlled_noisy_web_labels', 'coqa', 'cos_e', 'cosmos_qa', 'covid19', 'covid19sum', 'crema_d', 'criteo', 'cs_restaurants', 'curated_breast_imaging_ddsm', 'cycle_gan', 'd4rl_adroit_door', 'd4rl_adroit_hammer', 'd4rl_adroit_pen', 'd4rl_adroit_relocate', 'd4rl_antmaze', 'd4rl_mujoco_ant', 'd4rl_mujoco_halfcheetah', 'd4rl_mujoco_hopper', 'd4rl_mujoco_walker2d', 'dart', 'davis', 'deep1b', 'deep_weeds', 'definite_pronoun_resolution', 'dementiabank', 'diabetic_retinopathy_detection', 'diamonds', 'div2k', 'dmlab', 'doc_nli', 'dolphin_number_word', 'domainnet', 'downsampled_imagenet', 'drop', 'dsprites', 'dtd', 'duke_ultrasound', 'e2e_cleaned', 'efron_morris75', 'emnist', 'eraser_multi_rc', 'esnli', 'eurosat', 'fashion_mnist', 'flic', 'flores', 'food101', 'forest_fires', 'fuss', 'gap', 'geirhos_conflict_stimuli', 'gem', 'genomics_ood', 'german_credit_numeric', 'gigaword', 'glove100_angular', 'glue', 'goemotions', 'gov_report', 'gpt3', 'gref', 'groove', 'grounded_scan', 'gsm8k', 'gtzan', 'gtzan_music_speech', 'hellaswag', 'higgs', 'hillstrom', 'horses_or_humans', 'howell', 'i_naturalist2017', 'i_naturalist2018', 'i_naturalist2021', 'imagenet2012', 'imagenet2012_corrupted', 'imagenet2012_fewshot', 'imagenet2012_multilabel', 'imagenet2012_real', 'imagenet2012_subset', 'imagenet_a', 'imagenet_lt', 'imagenet_r', 'imagenet_resized', 'imagenet_sketch', 'imagenet_v2', 'imagenette', 'imagewang', 'imdb_reviews', 'irc_disentanglement', 'iris', 'istella', 'kddcup99', 'kitti', 'kmnist', 'lambada', 'lfw', 'librispeech', 'librispeech_lm', 'libritts', 'ljspeech', 'lm1b', 'locomotion', 'lost_and_found', 'lsun', 'lvis', 'malaria', 'math_dataset', 'math_qa', 'mctaco', 'media_sum', 'mlqa', 'mnist', 'mnist_corrupted', 'movie_lens', 'movie_rationales', 'movielens', 'moving_mnist', 'mrqa', 'mslr_web', 'mt_opt', 'mtnt', 'multi_news', 'multi_nli', 'multi_nli_mismatch', 'natural_questions', 'natural_questions_open', 'newsroom', 'nsynth', 'nyu_depth_v2', 'ogbg_molpcba', 'omniglot', 'open_images_challenge2019_detection', 'open_images_v4', 'openbookqa', 'opinion_abstracts', 'opinosis', 'opus', 'oxford_flowers102', 'oxford_iiit_pet', 'para_crawl', 'pass', 'patch_camelyon', 'paws_wiki', 'paws_x_wiki', 'penguins', 'pet_finder', 'pg19', 'piqa', 'places365_small', 'placesfull', 'plant_leaves', 'plant_village', 'plantae_k', 'protein_net', 'qa4mre', 'qasc', 'quac', 'quality', 'quickdraw_bitmap', 'race', 'radon', 'reddit', 'reddit_disentanglement', 'reddit_tifu', 'ref_coco', 'resisc45', 'rlu_atari', 'rlu_atari_checkpoints', 'rlu_atari_checkpoints_ordered', 'rlu_control_suite', 'rlu_dmlab_explore_object_rewards_few', 'rlu_dmlab_explore_object_rewards_many', 'rlu_dmlab_rooms_select_nonmatching_object', 'rlu_dmlab_rooms_watermaze', 'rlu_dmlab_seekavoid_arena01', 'rlu_locomotion', 'rlu_rwrl', 'robomimic_ph', 'robonet', 'robosuite_panda_pick_place_can', 'rock_paper_scissors', 'rock_you', 's3o4d', 'salient_span_wikipedia', 'samsum', 'savee', 'scan', 'scene_parse150', 'schema_guided_dialogue', 'sci_tail', 'scicite', 'scientific_papers', 'scrolls', 'sentiment140', 'shapes3d', 'sift1m', 'simpte', 'siscore', 'smallnorb', 'smartwatch_gestures', 'snli', 'so2sat', 'speech_commands', 'spoken_digit', 'squad', 'squad_question_generation', 'stanford_dogs', 'stanford_online_products', 'star_cfq', 'starcraft_video', 'stl10', 'story_cloze', 'summscreen', 'sun397', 'super_glue', 'svhn_cropped', 'symmetric_solids', 'tao', 'tatoeba', 'ted_hrlr_translate', 'ted_multi_translate', 'tedlium', 'tf_flowers', 'the300w_lp', 'tiny_shakespeare', 'titanic', 'trec', 'trivia_qa', 'tydi_qa', 'uc_merced', 'ucf101', 'unified_qa', 'universal_dependencies', 'user_libri_audio', 'user_libri_text', 'vctk', 'visual_domain_decathlon', 'voc', 'voxceleb', 'voxforge', 'waymo_open_dataset', 'web_graph', 'web_nlg', 'web_questions', 'wider_face', 'wiki40b', 'wiki_auto', 'wiki_bio', 'wiki_dialog', 'wiki_table_questions', 'wiki_table_text', 'wikiann', 'wikihow', 'wikipedia', 'wikipedia_toxicity_subtypes', 'wine_quality', 'winogrande', 'wit', 'wit_kaggle', 'wmt13_translate', 'wmt14_translate', 'wmt15_translate', 'wmt16_translate', 'wmt17_translate', 'wmt18_translate', 'wmt19_translate', 'wmt_t2t_translate', 'wmt_translate', 'wordnet', 'wsc273', 'xnli', 'xquad', 'xsum', 'xtreme_pawsx', 'xtreme_pos', 'xtreme_s', 'xtreme_xnli', 'yahoo_ltrc', 'yelp_polarity_reviews', 'yes_no', 'youtube_vis']\n"
          ]
        }
      ],
      "source": [
        "builders = tfds.list_builders() \n",
        "print(builders)"
      ]
    },
    {
      "cell_type": "code",
      "execution_count": 64,
      "metadata": {
        "id": "wmRzwmofg3ef"
      },
      "outputs": [],
      "source": [
        "data, info = tfds.load('mnist', with_info=True)\n",
        "train_data, test_data = data['train'], data['test']"
      ]
    },
    {
      "cell_type": "code",
      "execution_count": 65,
      "metadata": {
        "id": "PgvmOxeYg3bi"
      },
      "outputs": [
        {
          "name": "stdout",
          "output_type": "stream",
          "text": [
            "tfds.core.DatasetInfo(\n",
            "    name='mnist',\n",
            "    full_name='mnist/3.0.1',\n",
            "    description=\"\"\"\n",
            "    The MNIST database of handwritten digits.\n",
            "    \"\"\",\n",
            "    homepage='http://yann.lecun.com/exdb/mnist/',\n",
            "    data_path='C:\\\\Users\\\\USER\\\\tensorflow_datasets\\\\mnist\\\\3.0.1',\n",
            "    file_format=tfrecord,\n",
            "    download_size=11.06 MiB,\n",
            "    dataset_size=21.00 MiB,\n",
            "    features=FeaturesDict({\n",
            "        'image': Image(shape=(28, 28, 1), dtype=tf.uint8),\n",
            "        'label': ClassLabel(shape=(), dtype=tf.int64, num_classes=10),\n",
            "    }),\n",
            "    supervised_keys=('image', 'label'),\n",
            "    disable_shuffling=False,\n",
            "    splits={\n",
            "        'test': <SplitInfo num_examples=10000, num_shards=1>,\n",
            "        'train': <SplitInfo num_examples=60000, num_shards=1>,\n",
            "    },\n",
            "    citation=\"\"\"@article{lecun2010mnist,\n",
            "      title={MNIST handwritten digit database},\n",
            "      author={LeCun, Yann and Cortes, Corinna and Burges, CJ},\n",
            "      journal={ATT Labs [Online]. Available: http://yann.lecun.com/exdb/mnist},\n",
            "      volume={2},\n",
            "      year={2010}\n",
            "    }\"\"\",\n",
            ")\n"
          ]
        }
      ],
      "source": [
        "print(info)"
      ]
    },
    {
      "cell_type": "markdown",
      "metadata": {
        "id": "adN6woERhQrO"
      },
      "source": [
        "## tf.data\n",
        "\n",
        "- 생성\n",
        "  - `from_tensor_slices()`: 개별 또는 다중 넘파이를 받고, 배치를 지원\n",
        "\n",
        "  - `from_tensors()`: 배치를 지원하지 않음\n",
        "\n",
        "  - `from_generator()`: 생성자 함수에서 입력을 취함\n",
        "\n",
        "- 변환\n",
        "\n",
        "  - `batch()`: 순차적으로 지정한 배치사이즈로 데이터셋을 분할\n",
        "\n",
        "  - `repeat()`: 데이터를 복제\n",
        "\n",
        "  - `shuffle()`: 데이터를 무작위로 섞음\n",
        "\n",
        "  - `map()`: 데이터에 함수를 적용\n",
        "\n",
        "  - `filter()`: 데이터를 거르고자 할 때 사용\n",
        "- 반복\n",
        "  - `next_batch = iterator.get_next()` 사용"
      ]
    },
    {
      "cell_type": "markdown",
      "metadata": {
        "id": "51d2wkdMhTBn"
      },
      "source": [
        "### from_tensor_slices"
      ]
    },
    {
      "cell_type": "code",
      "execution_count": 66,
      "metadata": {
        "id": "HWzGguIUg3Yi"
      },
      "outputs": [],
      "source": [
        "import numpy as np"
      ]
    },
    {
      "cell_type": "code",
      "execution_count": 67,
      "metadata": {
        "id": "aaO5aOqsg3Vf"
      },
      "outputs": [],
      "source": [
        "num_items = 20\n",
        "num_list = np.arange(num_items)\n",
        "#num_list = [[i, i+1] for i in num_list]"
      ]
    },
    {
      "cell_type": "code",
      "execution_count": 68,
      "metadata": {
        "id": "rFKz4nK2g3Sd"
      },
      "outputs": [],
      "source": [
        "num_list_dataset = tf.data.Dataset.from_tensor_slices(num_list)"
      ]
    },
    {
      "cell_type": "code",
      "execution_count": 69,
      "metadata": {
        "id": "gzqeoFS6g3Pg"
      },
      "outputs": [
        {
          "data": {
            "text/plain": [
              "<TensorSliceDataset element_spec=TensorSpec(shape=(), dtype=tf.int32, name=None)>"
            ]
          },
          "execution_count": 69,
          "metadata": {},
          "output_type": "execute_result"
        }
      ],
      "source": [
        "num_list_dataset"
      ]
    },
    {
      "cell_type": "code",
      "execution_count": 70,
      "metadata": {
        "id": "oBK4nAS7lpBJ"
      },
      "outputs": [
        {
          "name": "stdout",
          "output_type": "stream",
          "text": [
            "tf.Tensor(0, shape=(), dtype=int32)\n",
            "tf.Tensor(1, shape=(), dtype=int32)\n",
            "tf.Tensor(2, shape=(), dtype=int32)\n",
            "tf.Tensor(3, shape=(), dtype=int32)\n",
            "tf.Tensor(4, shape=(), dtype=int32)\n",
            "tf.Tensor(5, shape=(), dtype=int32)\n",
            "tf.Tensor(6, shape=(), dtype=int32)\n",
            "tf.Tensor(7, shape=(), dtype=int32)\n",
            "tf.Tensor(8, shape=(), dtype=int32)\n",
            "tf.Tensor(9, shape=(), dtype=int32)\n",
            "tf.Tensor(10, shape=(), dtype=int32)\n",
            "tf.Tensor(11, shape=(), dtype=int32)\n",
            "tf.Tensor(12, shape=(), dtype=int32)\n",
            "tf.Tensor(13, shape=(), dtype=int32)\n",
            "tf.Tensor(14, shape=(), dtype=int32)\n",
            "tf.Tensor(15, shape=(), dtype=int32)\n",
            "tf.Tensor(16, shape=(), dtype=int32)\n",
            "tf.Tensor(17, shape=(), dtype=int32)\n",
            "tf.Tensor(18, shape=(), dtype=int32)\n",
            "tf.Tensor(19, shape=(), dtype=int32)\n"
          ]
        }
      ],
      "source": [
        "for item in num_list_dataset:\n",
        "    print(item)"
      ]
    },
    {
      "cell_type": "markdown",
      "metadata": {
        "id": "8oSVGyqAsJz3"
      },
      "source": [
        "### from_generator()\n",
        "- 해당 클래스 메서드를 사용하면 생성자에서 데이터셋 생성 가능\n",
        "- output_types, output_shapes 인수로 출력 자료형과 크기를 지정해주어야 함"
      ]
    },
    {
      "cell_type": "code",
      "execution_count": 71,
      "metadata": {
        "id": "5LEG6TzOsOAB"
      },
      "outputs": [
        {
          "data": {
            "text/plain": [
              "[(1, array([1], dtype=int64)),\n",
              " (2, array([1, 1], dtype=int64)),\n",
              " (3, array([1, 1, 1], dtype=int64))]"
            ]
          },
          "execution_count": 71,
          "metadata": {},
          "output_type": "execute_result"
        }
      ],
      "source": [
        "import itertools\n",
        "\n",
        "def gen():\n",
        "    for i in itertools.count(1):\n",
        "        yield (i, [1]*i)\n",
        "\n",
        "dataset = tf.data.Dataset.from_generator(\n",
        "    gen,\n",
        "    (tf.int64, tf.int64),\n",
        "    (tf.TensorShape([]), tf.TensorShape([None]))\n",
        ")\n",
        "\n",
        "list(dataset.take(3).as_numpy_iterator())"
      ]
    },
    {
      "cell_type": "code",
      "execution_count": 72,
      "metadata": {},
      "outputs": [
        {
          "data": {
            "text/plain": [
              "[(1, array([1], dtype=int64)),\n",
              " (2, array([1, 1], dtype=int64)),\n",
              " (3, array([1, 1, 1], dtype=int64))]"
            ]
          },
          "execution_count": 72,
          "metadata": {},
          "output_type": "execute_result"
        }
      ],
      "source": [
        "list(dataset.take(3).as_numpy_iterator())"
      ]
    },
    {
      "cell_type": "code",
      "execution_count": 73,
      "metadata": {},
      "outputs": [
        {
          "name": "stdout",
          "output_type": "stream",
          "text": [
            "(1, [1])\n",
            "(2, [1, 1])\n",
            "(3, [1, 1, 1])\n",
            "(4, [1, 1, 1, 1])\n",
            "(5, [1, 1, 1, 1, 1])\n"
          ]
        }
      ],
      "source": [
        "import itertools\n",
        "def gen():\n",
        "    for i in itertools.count(1):\n",
        "        yield (i, [1]*i)\n",
        "\n",
        "k = 0\n",
        "for j in gen():\n",
        "    print(j)\n",
        "    if k > 3:\n",
        "        break\n",
        "    k += 1"
      ]
    },
    {
      "cell_type": "code",
      "execution_count": 74,
      "metadata": {
        "id": "P8X1Mn56sODk"
      },
      "outputs": [],
      "source": [
        "# for item in dataset:\n",
        "#     print(item)"
      ]
    },
    {
      "cell_type": "code",
      "execution_count": 75,
      "metadata": {
        "id": "taha_e5QsN2U"
      },
      "outputs": [
        {
          "data": {
            "text/plain": [
              "[(1, array([1], dtype=int64)),\n",
              " (2, array([1, 1], dtype=int64)),\n",
              " (3, array([1, 1, 1], dtype=int64)),\n",
              " (4, array([1, 1, 1, 1], dtype=int64)),\n",
              " (5, array([1, 1, 1, 1, 1], dtype=int64)),\n",
              " (6, array([1, 1, 1, 1, 1, 1], dtype=int64)),\n",
              " (7, array([1, 1, 1, 1, 1, 1, 1], dtype=int64)),\n",
              " (8, array([1, 1, 1, 1, 1, 1, 1, 1], dtype=int64)),\n",
              " (9, array([1, 1, 1, 1, 1, 1, 1, 1, 1], dtype=int64))]"
            ]
          },
          "execution_count": 75,
          "metadata": {},
          "output_type": "execute_result"
        }
      ],
      "source": [
        "def gen(stop):\n",
        "    for i in itertools.count(1):\n",
        "        if i < stop:\n",
        "            yield (i, [1]*i)\n",
        "\n",
        "dataset = tf.data.Dataset.from_generator(\n",
        "    gen, \n",
        "    args=[10],\n",
        "    output_types = (tf.int64, tf.int64),\n",
        "    output_shapes = (tf.TensorShape([]), tf.TensorShape([None]))\n",
        ")\n",
        "\n",
        "list(dataset.take(9).as_numpy_iterator())\n"
      ]
    },
    {
      "cell_type": "markdown",
      "metadata": {
        "id": "IQUCMAdilyA1"
      },
      "source": [
        "### batch, repeat\n",
        "- `batch()`: 배치 사이즈 크기\n",
        "- `repeat()`: 반복 횟수"
      ]
    },
    {
      "cell_type": "code",
      "execution_count": 76,
      "metadata": {
        "id": "qJunKghtl0Mk"
      },
      "outputs": [],
      "source": [
        "dataset = num_list_dataset.repeat(3).batch(7)"
      ]
    },
    {
      "cell_type": "code",
      "execution_count": 77,
      "metadata": {
        "id": "EwNlE6d2l0Qy"
      },
      "outputs": [
        {
          "name": "stdout",
          "output_type": "stream",
          "text": [
            "tf.Tensor([0 1 2 3 4 5 6], shape=(7,), dtype=int32)\n",
            "tf.Tensor([ 7  8  9 10 11 12 13], shape=(7,), dtype=int32)\n",
            "tf.Tensor([14 15 16 17 18 19  0], shape=(7,), dtype=int32)\n",
            "tf.Tensor([1 2 3 4 5 6 7], shape=(7,), dtype=int32)\n",
            "tf.Tensor([ 8  9 10 11 12 13 14], shape=(7,), dtype=int32)\n",
            "tf.Tensor([15 16 17 18 19  0  1], shape=(7,), dtype=int32)\n",
            "tf.Tensor([2 3 4 5 6 7 8], shape=(7,), dtype=int32)\n",
            "tf.Tensor([ 9 10 11 12 13 14 15], shape=(7,), dtype=int32)\n",
            "tf.Tensor([16 17 18 19], shape=(4,), dtype=int32)\n"
          ]
        }
      ],
      "source": [
        "for item in dataset:\n",
        "    print(item)"
      ]
    },
    {
      "cell_type": "code",
      "execution_count": 78,
      "metadata": {
        "id": "cul1bFvImVxN"
      },
      "outputs": [],
      "source": [
        "dataset = num_list_dataset.repeat(3).batch(7, drop_remainder=True)"
      ]
    },
    {
      "cell_type": "code",
      "execution_count": 79,
      "metadata": {
        "id": "IHZ8JHIBmt_f"
      },
      "outputs": [
        {
          "name": "stdout",
          "output_type": "stream",
          "text": [
            "tf.Tensor([0 1 2 3 4 5 6], shape=(7,), dtype=int32)\n",
            "tf.Tensor([ 7  8  9 10 11 12 13], shape=(7,), dtype=int32)\n",
            "tf.Tensor([14 15 16 17 18 19  0], shape=(7,), dtype=int32)\n",
            "tf.Tensor([1 2 3 4 5 6 7], shape=(7,), dtype=int32)\n",
            "tf.Tensor([ 8  9 10 11 12 13 14], shape=(7,), dtype=int32)\n",
            "tf.Tensor([15 16 17 18 19  0  1], shape=(7,), dtype=int32)\n",
            "tf.Tensor([2 3 4 5 6 7 8], shape=(7,), dtype=int32)\n",
            "tf.Tensor([ 9 10 11 12 13 14 15], shape=(7,), dtype=int32)\n"
          ]
        }
      ],
      "source": [
        "for item in dataset:\n",
        "    print(item)"
      ]
    },
    {
      "cell_type": "markdown",
      "metadata": {
        "id": "xCAFfO6hmDDS"
      },
      "source": [
        "### map, filter\n",
        "- 전처리 단계에서 시행하여 원하지 않는 데이터를 거를 수 있음\n",
        "\n",
        "- `tf.Tensor` 자료형을 다룸"
      ]
    },
    {
      "cell_type": "code",
      "execution_count": 80,
      "metadata": {
        "id": "lw37RX7KvN-K"
      },
      "outputs": [],
      "source": [
        "from tensorflow.data import Dataset"
      ]
    },
    {
      "cell_type": "code",
      "execution_count": 81,
      "metadata": {
        "id": "ubOuEgxal0Hv"
      },
      "outputs": [
        {
          "data": {
            "text/plain": [
              "[2, 4, 6, 8, 10]"
            ]
          },
          "execution_count": 81,
          "metadata": {},
          "output_type": "execute_result"
        }
      ],
      "source": [
        "dataset = Dataset.range(1, 6)\n",
        "dataset = dataset.map(lambda x: x * 2)\n",
        "list(dataset.as_numpy_iterator())"
      ]
    },
    {
      "cell_type": "code",
      "execution_count": 84,
      "metadata": {
        "id": "jwxn37JRuzjV"
      },
      "outputs": [
        {
          "data": {
            "text/plain": [
              "[1, 2, 3, 4, 5]"
            ]
          },
          "execution_count": 84,
          "metadata": {},
          "output_type": "execute_result"
        }
      ],
      "source": [
        "dataset = Dataset.range(5)\n",
        "\n",
        "result = dataset.map(lambda x: x + 1)\n",
        "\n",
        "result\n",
        "\n",
        "list(result.as_numpy_iterator())"
      ]
    },
    {
      "cell_type": "code",
      "execution_count": 85,
      "metadata": {
        "id": "FcwzArdpuzad"
      },
      "outputs": [
        {
          "data": {
            "text/plain": [
              "[1, 2, 3]"
            ]
          },
          "execution_count": 85,
          "metadata": {},
          "output_type": "execute_result"
        }
      ],
      "source": [
        "elements = [(1, 'one'), (2, 'two'), (3, 'three')]\n",
        "dataset = Dataset.from_generator(lambda: elements, (tf.int32, tf.string))\n",
        "\n",
        "result = dataset.map(lambda x_int, y_str: x_int)\n",
        "list(result.as_numpy_iterator())\n"
      ]
    },
    {
      "cell_type": "code",
      "execution_count": 86,
      "metadata": {
        "id": "Tleeqc_GuzUX"
      },
      "outputs": [
        {
          "data": {
            "text/plain": [
              "(TensorSpec(shape=(), dtype=tf.float32, name=None),\n",
              " TensorSpec(shape=(3,), dtype=tf.string, name=None))"
            ]
          },
          "execution_count": 86,
          "metadata": {},
          "output_type": "execute_result"
        }
      ],
      "source": [
        "dataset = Dataset.range(3)\n",
        "\n",
        "def g(x):\n",
        "    return tf.constant(10.5), tf.constant([\"One\", \"Two\", \"Three\"])\n",
        "\n",
        "result = dataset.map(g)\n",
        "result.element_spec"
      ]
    },
    {
      "cell_type": "code",
      "execution_count": 89,
      "metadata": {
        "id": "0aRvH0yR0H1H"
      },
      "outputs": [
        {
          "data": {
            "text/plain": [
              "(TensorSpec(shape=(), dtype=tf.float32, name=None),\n",
              " TensorSpec(shape=(3,), dtype=tf.string, name=None),\n",
              " TensorSpec(shape=(2,), dtype=tf.float64, name=None))"
            ]
          },
          "execution_count": 89,
          "metadata": {},
          "output_type": "execute_result"
        }
      ],
      "source": [
        "def h(x):\n",
        "    return 10.5, ['One','Two','Three'], np.array([1.0, 2.0], dtype=np.float64)\n",
        "\n",
        "result = dataset.map(h)\n",
        "result.element_spec"
      ]
    },
    {
      "cell_type": "code",
      "execution_count": 95,
      "metadata": {
        "id": "YxvOUl4u0HxH"
      },
      "outputs": [
        {
          "data": {
            "text/plain": [
              "((TensorSpec(shape=(), dtype=tf.float32, name=None),\n",
              "  TensorSpec(shape=(2,), dtype=tf.int32, name=None)),\n",
              " TensorSpec(shape=(), dtype=tf.string, name=None),\n",
              " TensorSpec(shape=(), dtype=tf.string, name=None))"
            ]
          },
          "execution_count": 95,
          "metadata": {},
          "output_type": "execute_result"
        }
      ],
      "source": [
        "def i(x):\n",
        "    return (10.5, [12, 11]), \"One\", \"Two\"\n",
        "\n",
        "result = dataset.map(i)\n",
        "result.element_spec"
      ]
    },
    {
      "cell_type": "code",
      "execution_count": 96,
      "metadata": {
        "id": "LeKdClAA0Vjy"
      },
      "outputs": [
        {
          "data": {
            "text/plain": [
              "[1, 2]"
            ]
          },
          "execution_count": 96,
          "metadata": {},
          "output_type": "execute_result"
        }
      ],
      "source": [
        "dataset = Dataset.from_tensor_slices([1,2,3])\n",
        "dataset = dataset.filter(lambda x: x < 3)\n",
        "\n",
        "list(dataset.as_numpy_iterator())"
      ]
    },
    {
      "cell_type": "code",
      "execution_count": 102,
      "metadata": {
        "id": "mnMR0g6Y0X8g"
      },
      "outputs": [
        {
          "data": {
            "text/plain": [
              "[1, 2]"
            ]
          },
          "execution_count": 102,
          "metadata": {},
          "output_type": "execute_result"
        }
      ],
      "source": [
        "dataset = Dataset.from_tensor_slices([1,2,3,4,5,6,7,8,9,10])\n",
        "dataset = dataset.filter(lambda x: x < 3)\n",
        "\n",
        "list(dataset.as_numpy_iterator())"
      ]
    },
    {
      "cell_type": "code",
      "execution_count": 100,
      "metadata": {},
      "outputs": [
        {
          "data": {
            "text/plain": [
              "[1, 1, 1, 1, 1]"
            ]
          },
          "execution_count": 100,
          "metadata": {},
          "output_type": "execute_result"
        }
      ],
      "source": [
        "dataset = Dataset.from_tensor_slices([1,0,1,1,0,1,0,1])\n",
        "dataset = dataset.filter(lambda x: x == 1)\n",
        "\n",
        "list(dataset.as_numpy_iterator())"
      ]
    },
    {
      "cell_type": "code",
      "execution_count": 104,
      "metadata": {},
      "outputs": [
        {
          "data": {
            "text/plain": [
              "[1]"
            ]
          },
          "execution_count": 104,
          "metadata": {},
          "output_type": "execute_result"
        }
      ],
      "source": [
        "#dataset = Dataset.from_tensor_slices([1,0,1,1,0,1,0,1])\n",
        "dataset = Dataset.from_tensor_slices([1,2,3,4,5,6,7,8,9,10])\n",
        "\n",
        "def filter_fn(x):\n",
        "    return tf.math.equal(x, 1)\n",
        "\n",
        "dataset = dataset.filter(filter_fn)\n",
        "list(dataset.as_numpy_iterator())"
      ]
    },
    {
      "cell_type": "markdown",
      "metadata": {
        "id": "MZlHtx9HiBnw"
      },
      "source": [
        "### shuffle, take"
      ]
    },
    {
      "cell_type": "code",
      "execution_count": 105,
      "metadata": {
        "id": "yVjGXd0Zg3MV"
      },
      "outputs": [
        {
          "name": "stdout",
          "output_type": "stream",
          "text": [
            "\u001b[1mDownloading and preparing dataset Unknown size (download: Unknown size, generated: Unknown size, total: Unknown size) to C:\\Users\\USER\\tensorflow_datasets\\imdb_reviews\\plain_text\\1.0.0...\u001b[0m\n"
          ]
        },
        {
          "name": "stderr",
          "output_type": "stream",
          "text": [
            "Dl Size...: 100%|██████████| 80/80 [00:34<00:00,  2.30 MiB/s]rl]\n",
            "Dl Completed...: 100%|██████████| 1/1 [00:34<00:00, 34.77s/ url]\n",
            "                                                                        "
          ]
        },
        {
          "name": "stdout",
          "output_type": "stream",
          "text": [
            "\u001b[1mDataset imdb_reviews downloaded and prepared to C:\\Users\\USER\\tensorflow_datasets\\imdb_reviews\\plain_text\\1.0.0. Subsequent calls will reuse this data.\u001b[0m\n"
          ]
        },
        {
          "name": "stderr",
          "output_type": "stream",
          "text": [
            "\r"
          ]
        }
      ],
      "source": [
        "dataset, info = tfds.load('imdb_reviews', with_info=True, as_supervised=True)\n"
      ]
    },
    {
      "cell_type": "code",
      "execution_count": 110,
      "metadata": {
        "id": "aIYeC8XMg3JR"
      },
      "outputs": [
        {
          "name": "stdout",
          "output_type": "stream",
          "text": [
            "(<tf.Tensor: shape=(5,), dtype=string, numpy=\n",
            "array([b'It was disgusting and painful. What a waste of a cast! I swear, the audience (1/2 full) laughed TWICE in 90 minutes. This is not a lie. Do not even rent it.<br /><br />Zeta Jones was just too mean to be believable.<br /><br />Cusack was OK. Just OK. I felt sorry for him (the actor) in case people remember this mess.<br /><br />Roberts was the same as she always is. Charming and sweet, but with no purpose. The \"romance\" with John was completely unbelievable.',\n",
            "       b'This is a straight-to-video movie, so it should go without saying that it\\'s not going to rival the first Lion King, but that said, this was downright good.<br /><br />My kids loved this, but that\\'s a given, they love anything that\\'s a cartoon. The big shock was that *I* liked it too, it was laugh out loud funny at some parts (even the fart jokes*), had lots of rather creative tie-ins with the first movie, and even some jokes that you had to be older to understand (but without being risqu\\xc3\\xa9 like in Shrek [\"do you think he\\'s compensating for something?\"]).<br /><br />A special note on the fart jokes, I was surprised to find that none of the jokes were just toilet noises (in fact there were almost no noises/imagery at all, the references were actually rather subtle), they actually had a setup/punchline/etc, and were almost in good taste. I\\'d like my kids to think that there\\'s more to humor than going to the bathroom, and this movie is fine in those regards.<br /><br />Hmm what else? The music was so-so, not nearly as creative as in the first or second movie, but plenty of fun for the kids. No painfully corny moments, which was a blessing for me. A little action but nothing too scary (the Secret of NIMH gave my kids nightmares, not sure a G rating was appropriate for that one...)<br /><br />All in all I\\'d say this is a great movie for kids of any age, one that\\'s 100% safe to let them watch (I try not to be overly sensitive but I\\'ve had to jump up and turn off the TV during a few movies that were less kid-appropriate than expected) - but you\\'re safe to leave the room during this one. I\\'d say stick around anyway though, you might find that you enjoy it too :)',\n",
            "       b'Finally, Timon and Pumbaa in their own film...<br /><br />\\'The Lion King 1 1/2: Hakuna Matata\\' is an irreverent new take on a classic tale. Which classic tale, you ask? Why, \\'The Lion King\\' of course!<br /><br />Yep, if there\\'s one thing that Disney is never short of, it\\'s narcissism.<br /><br />But that doesn\\'t mean that this isn\\'t a good film. It\\'s basically the events of \\'The Lion King\\' as told from Timon and Pumbaa\\'s perspective. And it\\'s because of this that you\\'ll have to know the story of \\'The Lion King\\' by heart to see where they\\'re coming from.<br /><br />Anyway, at one level I was watching this and thinking \"Oh my god this is so lame...\" and on another level I was having a ball. Much of the humour is predictable - I mean, when Pumbaa makes up two beds, a big one for himself and a small one for Timon, within the first nanosecond we all know that Timon is going to take the big one. But that doesn\\'t stop it from being hilarious, which, IMO, is \\'Hakuna Matata\\' in a nutshell. It\\'s not what happens, it\\'s how.<br /><br />And a note of warning: there are also some fart jokes. Seriously, did you expect anything else in a film where Pumbaa takes centre stage? But as fart jokes go, these are especially good, and should satisfy even the most particular connoisseur.<br /><br />The returning voice talent is great. I\\'m kinda surprised that some of the actors were willing to return, what with most of them only having two or three lines (if they\\'re lucky). Whoopi Goldberg is particularly welcome.<br /><br />The music is also great. From \\'Digga Tunnah\\' at the start to \\'That\\'s all I need\\', an adaption of \\'Warthog Rhapsody\\' (a song that was cut from \\'The Lion King\\' and is frankly much improved in this incarnation), the music leaves me with nothing to complain about whatsoever.<br /><br />In the end, Timon and Pumbaa are awesome characters, and while it may be argued that \\'Hakuna Matata\\' is simply an excuse to see them in various fun and assorted compromising situations then so be it. It\\'s rare to find characters that you just want to spend time with.<br /><br />Am I starting to sound creepy?<br /><br />Either way, \\'The Lion King 1 1/2\\' is great if you\\'ve seen \\'The Lion King\\' far too many times. Especially if you are right now thinking \"Don\\'t be silly, there\\'s no such thing as seeing \\'The Lion King\\' too many times!\"',\n",
            "       b'Indian Directors have it tough, They have to compete with movies like \"Laggan\" where 11 henpecked,Castrated males defend their village and half of them are certifiable idiots. \"Devdas\", a hapless, fedar- festooned foreign return drinking to oblivion, with characters running in endless corridors oblivious to any one\\'s feelings or sentiments-alas they live in an ornate squalor of red tapestry and pageantry. But to make a good movie, you have to tight-rope walk to appease the frontbenchers who are the quentessential gapers who are mesmerized with Split skirts and Dishum-Dishum fights preferably involving a nitwit \"Bollywood\" leading actor who is marginally handsome. So you can connect with a director who wants to tell a tale of Leonine village head who in own words \"defending his Village\" this is considered a violent movie or too masculine for a male audience. There are very few actors who can convey the anger and pathos like Nana Patekar (Narasimhan). Nana Patekar lets you in his courtyard and watch him beret and mock the Politician when his loyal admirers burst in laughter with every word of satire thrown at him, meanwhile his daughter is bathing his Grandson.This is as authentic a scene you can get in rural India. Nana Patekar is the essential actor who belongs to the old school of acting which is a disappearing breed in Hindi Films. The violence depicted is an intricate part of storytelling with Song&Dances thrown in for the gawkers without whom movies won\\'t sell, a sad but true state of affairs. Faster this changes better for \"Bollywood\". All said and done this is one good Movie.',\n",
            "       b\"Nathan Detroit runs illegal craps games for high rollers in NYC, but the heat is on and he can't find a secure location. He bets chronic gambler Sky Masterson that Sky can't make a prim missionary, Sarah Brown, go out to dinner with him. Sky takes up the challenge, but both men have some surprises in store \\xc2\\x85<br /><br />This is one of those expensive fifties MGM musicals in splashy colour, with big sets, loud music, larger-than-life roles and performances to match; Broadway photographed for the big screen if you like that sort of thing, which I don't. My main problem with these type of movies is simply the music. I like all kinds of music, from Albinoni to ZZ Top, but Broadway show tunes in swing time with never-ending pah-pah-tah-dah trumpet flourishes at the end of every fourth bar aren't my cup of tea. This was written by the tag team of Frank Loesser, Mankiewicz, Jo Swerling and Abe Burrows (based on a couple of Damon Runyon stories), and while the plot is quite affable the songs are weak. Blaine's two numbers for example are identical, unnecessary, don't advance the plot and grate on the ears (and are also flagrantly misogynistic if that sort of thing bothers you). There are only two memorable tunes, Luck Be A Lady (sung by Brando, not Sinatra as you might expect) and Sit Down, You're Rockin' The Boat (nicely performed by Kaye) but you have to sit through two hours to get to them. The movie's trump card is a young Brando giving a thoughtful, laid-back performance; he also sings quite well and even dances a little, and is evenly matched with the always interesting Simmons. The sequence where the two of them escape to Havana for the night is a welcome respite from all the noise, bustle and vowel-murdering of Noo Yawk. Fans of musicals may dig this, but in my view a musical has to do something more than just film the stage show.\"],\n",
            "      dtype=object)>, <tf.Tensor: shape=(5,), dtype=int64, numpy=array([0, 1, 1, 1, 0], dtype=int64)>)\n",
            "(<tf.Tensor: shape=(5,), dtype=string, numpy=\n",
            "array([b'During a sleepless night, I was switching through the channels & found this embarrassment of a movie. What were they thinking?<br /><br />If this is life after \"Remote Control\" for Kari (Wuhrer) Salin, no wonder she\\'s gone nowhere.<br /><br />And why did David Keith take this role? It\\'s pathetic!<br /><br />Anyway, I turned on the movie near the end, so I didn\\'t get much of the plot. But this must\\'ve been the best part. This nerdy college kid brings home this dominatrix-ish girl...this scene is straight out of the comic books -- or the cheap porn movies. She calls the mother anal retentive and kisses the father \"Oh, I didn\\'t expect tongue!\" Great lines!<br /><br />After this, I had to see how it ended..<br /><br />Well, of course, this bitch from hell has a helluva past, so the SWAT team is upstairs. And yes...they surround her! And YES YES! The kid blows her brains out!!!! AHAHHAHAHAHA!!<br /><br />This is must-see TV. <br /><br />',\n",
            "       b'Cute film about three lively sisters from Switzerland (often seen running about in matching outfits) who want to get their parents back together (seems mom is still carrying the torch for dad) - so they sail off to New York to stop the dad from marrying a blonde gold-digger he calls \"Precious\". Dad hasn\\'t seen his daughters in ten years, they (oddly enough) don\\'t seem to mind and think he\\'s wonderful, and meanwhile Precious seems to lead a life mainly run by her overbearing mother (Alice Brady), a woman who just wants to see to it her daughter marries a rich man. The sisters get the idea of pushing Precious into the path of a drunken Hungarian count, tricking the two gold-digging women into thinking he is one of the richest men in Europe. But a case of mistaken identity makes the girls think the count is good-looking Ray Milland, who goes along with the scheme \\'cause he has a crush on sister Kay.<br /><br />This film is enjoyable, light fare. Barbara Read as Kay comes across as sweet and pretty, Ray Milland looks oh so young and handsome here (though, unfortunately, is given little to do), Alice Brady is quite good as the scheming mother - but it is Deanna Durbin, a real charmer and cute as a button playing youngest sister Penny, who pretty much steals the show. With absolutely beautiful vocals, she sings several songs throughout the film, though I actually would have liked to have seen them feature her even more in this. The plot in this film is a bit silly, but nevertheless, I found the film to be entertaining and fun.',\n",
            "       b\"This 1984 version of the Dickens' classic `A Christmas Carol,' directed by Clive Donner, stars George C. Scott as Ebenezer Scrooge. By this time around, the challenge for the filmmaker was to take such familiar material and make it seem fresh and new again; and, happily to say, with this film Donner not only met the challenge but surpassed any expectations anyone might have had for it. He tells the story with precision and an eye to detail, and extracts performances from his actors that are nothing less than superlative, especially Scott. One could argue that the definitive portrayal of Scrooge-- one of the best known characters in literary fiction, ever-- was created by Alastair Sim in the 1951 film; but I think with his performance here, Scott has now achieved that distinction. There is such a purity and honesty in his Scrooge that it becomes difficult to even consider anyone else in the role once you've seen Scott do it; simply put, he IS Scrooge. And what a tribute it is to such a gifted actor; to be able to take such a well known figure and make it so uniquely his own is quite miraculous. It is truly a joy to see an actor ply his trade so well, to be able to make a character so real, from every word he utters down to the finest expression of his face, and to make it all ring so true. It's a study in perfection.<br /><br />The other members of the cast are splendid as well, but then again they have to be in order to maintain the integrity of Scott's performance; and they do. Frank Finlay is the Ghost of Jacob Marley; a notable turn, though not as memorable, perhaps, as the one by Alec Guinness (as Marley) in the film, `Scrooge.' Angela Pleasence is a welcome visage as the Spirit of Christmas Past; Edward Woodward, grand and boisterous, and altogether convincing as the Spirit of Christmas Present; and Michael Carter, grim and menacing as the Spirit of Christmas Yet To Come.<br /><br />David Warner hits just the right mark with his Bob Cratchit, bringing a sincerity to the role that measures up well to the standard of quality set by Scott's Scrooge, and Susannah York fares just as well as Mrs. Cratchit. The real gem to be found here, though, is the performance of young Anthony Walters as Tiny Tim; it's heartfelt without ever becoming maudlin, and simply one of the best interpretations-- and the most real-- ever presented on film.<br /><br />The excellent supporting cast includes Roger Rees (Fred Holywell, and also the narrator of the film), Caroline Langrishe (Janet Holywell), Lucy Gutteridge (Belle), Michael Gough (Mr. Poole) and Joanne Whalley (Fan). A flawless presentation, this version of `A Christmas Carol' sets the standard against which all others must be gauged; no matter how many versions you may have seen, watching this one is like seeing it for the first time ever. And forever after, whenever you think of Scrooge, the image your mind will conjure up will be that of George C. Scott. A thoroughly entertaining and satisfying experience, this film demands a place in the annual schedule of the holiday festivities of every home. I rate this one 10/10.\",\n",
            "       b'Put the blame on executive producer Wes Craven and financiers the Weinsteins for this big-budget debacle: a thrash-metal updating of \"Dracula\", with a condescending verbal jab at Bram Stoker (who probably wouldn\\'t want his name on this thing anyway) and nothing much for the rest of us except slasher-styled jolts and gore. Christopher Plummer looks winded as Van Helsing in the modern-day--not just a descendant of Van Helsing but the real thing; he keeps himself going with leeches obtained from Count Dracula\\'s corpse, which is exhumed from its coffin after being stolen from Van Helsing\\'s vault and flown to New Orleans. This is just what New Orleans needs in the 21st Century! The film, well-produced but without a single original idea (except for multi-racial victims), is both repulsive and lazy, and after about an hour starts repeating itself. * from ****',\n",
            "       b'Hilarious, evocative, confusing, brilliant film. Reminds me of Bunuel\\'s L\\'Age D\\'Or or Jodorowsky\\'s Holy Mountain-- lots of strange characters mucking about and looking for..... what is it? I laughed almost the whole way through, all the while keeping a peripheral eye on the bewildered and occasionally horrified reactions of the audience that surrounded me in the theatre. Entertaining through and through, from the beginning to the guts and poisoned entrails all the way to the end, if it was an end. I only wish i could remember every detail. It haunts me sometimes.<br /><br />Honestly, though, i have only the most positive recollections of this film. As it doesn\\'t seem to be available to take home and watch, i suppose i\\'ll have to wait a few more years until Crispin Glover comes my way again with his Big Slide Show (and subsequent \"What is it?\" screening)... I saw this film in Atlanta almost directly after being involved in a rather devastating car crash, so i was slightly dazed at the time, which was perhaps a very good state of mind to watch the prophetic talking arthropods and the retards in the superhero costumes and godlike Glover in his appropriate burly-Q setting, scantily clad girlies rising out of the floor like a magnificent DADAist wet dream.<br /><br />Is it a statement on Life As We Know It? Of course everyone EXPECTS art to be just that. I rather think that the truth is more evident in the absences and in the negative space. What you don\\'t tell us is what we must deduce, but is far more valid than the lies that other people feed us day in and day out. Rather one \"WHAT IS IT?\" than 5000 movies like \"Titanic\" or \"Sleepless in Seattle\" (shudder, gag, groan).<br /><br />Thank you, Mr. Glover (additionally a fun man to watch on screen or at his Big Slide Show-- smart, funny, quirky, and outrageously hot). Make more films, write more books, keep the nightmare alive.'],\n",
            "      dtype=object)>, <tf.Tensor: shape=(5,), dtype=int64, numpy=array([0, 1, 1, 0, 1], dtype=int64)>)\n"
          ]
        }
      ],
      "source": [
        "train_dataset = dataset['train']\n",
        "train_dataset = train_dataset.batch(5).shuffle(5).take(2)\n",
        "\n",
        "for data in train_dataset:\n",
        "    print(data)"
      ]
    },
    {
      "cell_type": "markdown",
      "metadata": {
        "id": "4OqOaYk6k7wy"
      },
      "source": [
        "### get_next()"
      ]
    },
    {
      "cell_type": "code",
      "execution_count": 111,
      "metadata": {
        "id": "m57rjJsskp8t"
      },
      "outputs": [
        {
          "name": "stdout",
          "output_type": "stream",
          "text": [
            "tf.Tensor(0, shape=(), dtype=int64)\n",
            "tf.Tensor(1, shape=(), dtype=int64)\n"
          ]
        }
      ],
      "source": [
        "dataset = Dataset.range(2)\n",
        "for element in dataset:\n",
        "    print(element)"
      ]
    },
    {
      "cell_type": "code",
      "execution_count": 114,
      "metadata": {
        "id": "vitlC-JCkp4U"
      },
      "outputs": [
        {
          "name": "stdout",
          "output_type": "stream",
          "text": [
            "<RangeDataset element_spec=TensorSpec(shape=(), dtype=tf.int64, name=None)>\n",
            "tf.Tensor(0, shape=(), dtype=int64)\n",
            "tf.Tensor(1, shape=(), dtype=int64)\n"
          ]
        }
      ],
      "source": [
        "dataset = Dataset.range(2)\n",
        "iterator = iter(dataset)\n",
        "\n",
        "print(dataset)\n",
        "print(iterator.get_next())\n",
        "print(iterator.get_next())\n"
      ]
    },
    {
      "cell_type": "code",
      "execution_count": 121,
      "metadata": {
        "id": "6o4XRcpLg3Fm"
      },
      "outputs": [
        {
          "name": "stdout",
          "output_type": "stream",
          "text": [
            "[[8 7 3]\n",
            " [5 9 9]]\n",
            "tf.Tensor([8 7 3], shape=(3,), dtype=int32)\n",
            "tf.Tensor([5 9 9], shape=(3,), dtype=int32)\n"
          ]
        }
      ],
      "source": [
        "a = np.random.randint(0, 10, size=(2,3))\n",
        "print(a)\n",
        "\n",
        "dataset = Dataset.from_tensor_slices(a)\n",
        "iterator = iter(dataset)\n",
        "\n",
        "print(iterator.get_next())\n",
        "print(iterator.get_next())\n"
      ]
    },
    {
      "cell_type": "markdown",
      "metadata": {
        "id": "oAK97VN4JObZ"
      },
      "source": [
        "## tf.dataset을 이용한 Fashion-MNIST 분류"
      ]
    },
    {
      "cell_type": "markdown",
      "metadata": {
        "id": "8FyGWr9h5s9m"
      },
      "source": [
        "### modules import"
      ]
    },
    {
      "cell_type": "code",
      "execution_count": 141,
      "metadata": {
        "id": "wtumZQhkobI5"
      },
      "outputs": [],
      "source": [
        "import matplotlib.pyplot as plt \n",
        "plt.style.use('seaborn-white')\n",
        "\n",
        "import tensorflow as tf \n",
        "from tensorflow.keras.layers import Dense, Input, Flatten, Dropout, Activation, BatchNormalization\n",
        "from tensorflow.keras.models import Model \n",
        "from tensorflow.keras.datasets.fashion_mnist import load_data"
      ]
    },
    {
      "cell_type": "markdown",
      "metadata": {
        "id": "VOTtgNwc3R6f"
      },
      "source": [
        "### 데이터 로드"
      ]
    },
    {
      "cell_type": "code",
      "execution_count": 123,
      "metadata": {
        "id": "8434sHHjob1L"
      },
      "outputs": [],
      "source": [
        "(x_train, y_train), (x_test, y_test) = load_data()"
      ]
    },
    {
      "cell_type": "code",
      "execution_count": 124,
      "metadata": {
        "id": "bfxxi0TJ3kwq"
      },
      "outputs": [
        {
          "name": "stdout",
          "output_type": "stream",
          "text": [
            "(60000, 28, 28)\n",
            "(60000,)\n",
            "(10000, 28, 28)\n",
            "(10000,)\n"
          ]
        }
      ],
      "source": [
        "print(x_train.shape)\n",
        "print(y_train.shape)\n",
        "print(x_test.shape)\n",
        "print(y_test.shape)"
      ]
    },
    {
      "cell_type": "markdown",
      "metadata": {
        "id": "PPR9OD1w3mBQ"
      },
      "source": [
        "### 데이터 전처리"
      ]
    },
    {
      "cell_type": "code",
      "execution_count": 125,
      "metadata": {
        "id": "U3W43mhxob4P"
      },
      "outputs": [],
      "source": [
        "x_train = x_train / 255.\n",
        "x_test = x_test / 255."
      ]
    },
    {
      "cell_type": "markdown",
      "metadata": {
        "id": "nm8NM-QX32sf"
      },
      "source": [
        "### tf.data 이용"
      ]
    },
    {
      "cell_type": "code",
      "execution_count": 130,
      "metadata": {
        "id": "VC9howR-obaW"
      },
      "outputs": [],
      "source": [
        "train_ds = Dataset.from_tensor_slices((x_train, y_train))\n",
        "train_ds = train_ds.shuffle(1000)\n",
        "train_ds = train_ds.batch(32)\n",
        "\n",
        "test_ds = Dataset.from_tensor_slices((x_test, y_test))\n",
        "test_ds = test_ds.batch(32)"
      ]
    },
    {
      "cell_type": "code",
      "execution_count": 131,
      "metadata": {
        "id": "FkbVvnrU5Idc"
      },
      "outputs": [],
      "source": [
        "class_names = ['T-shirt/top','Trouser','Pullover','Dress','Coat', 'Sandle','Shirt','Sneaker','Bag','Ankle boot']"
      ]
    },
    {
      "cell_type": "markdown",
      "metadata": {
        "id": "aXJEB1qg4eB0"
      },
      "source": [
        "### 데이터 확인"
      ]
    },
    {
      "cell_type": "code",
      "execution_count": 140,
      "metadata": {
        "id": "COlETHf2obVD"
      },
      "outputs": [
        {
          "name": "stdout",
          "output_type": "stream",
          "text": [
            "(32, 28, 28) (32,)\n"
          ]
        },
        {
          "data": {
            "image/png": "[encoded data removed]",
            "text/plain": [
              "<Figure size 432x288 with 1 Axes>"
            ]
          },
          "metadata": {},
          "output_type": "display_data"
        },
        {
          "name": "stdout",
          "output_type": "stream",
          "text": [
            "(32, 28, 28) (32,)\n"
          ]
        },
        {
          "data": {
            "image/png": "[encoded data removed]",
            "text/plain": [
              "<Figure size 432x288 with 1 Axes>"
            ]
          },
          "metadata": {},
          "output_type": "display_data"
        },
        {
          "name": "stdout",
          "output_type": "stream",
          "text": [
            "(32, 28, 28) (32,)\n"
          ]
        },
        {
          "data": {
            "image/png": "[encoded data removed]",
            "text/plain": [
              "<Figure size 432x288 with 1 Axes>"
            ]
          },
          "metadata": {},
          "output_type": "display_data"
        },
        {
          "name": "stdout",
          "output_type": "stream",
          "text": [
            "(32, 28, 28) (32,)\n"
          ]
        },
        {
          "data": {
            "image/png": "[encoded data removed]",
            "text/plain": [
              "<Figure size 432x288 with 1 Axes>"
            ]
          },
          "metadata": {},
          "output_type": "display_data"
        },
        {
          "name": "stdout",
          "output_type": "stream",
          "text": [
            "(32, 28, 28) (32,)\n"
          ]
        },
        {
          "data": {
            "image/png": "[encoded data removed]",
            "text/plain": [
              "<Figure size 432x288 with 1 Axes>"
            ]
          },
          "metadata": {},
          "output_type": "display_data"
        }
      ],
      "source": [
        "for image, label in train_ds.take(5):\n",
        "    print(image.shape, label.shape)\n",
        "    plt.title('{}'.format(class_names[label[0]]))\n",
        "    plt.imshow(image[0, :, :], cmap='gray')\n",
        "    plt.show()"
      ]
    },
    {
      "cell_type": "markdown",
      "metadata": {
        "id": "-2PTjY1D5g4L"
      },
      "source": [
        "### 모델 생성\n",
        "- 임의의 모델"
      ]
    },
    {
      "cell_type": "code",
      "execution_count": 144,
      "metadata": {
        "id": "g29WUBIKobRN"
      },
      "outputs": [],
      "source": [
        "def build_model():\n",
        "    input = Input(shape=(28,28), name='input')\n",
        "    flatten = Flatten(input_shape=[28,28], name='flatten')(input)\n",
        "    hidden1 = Dense(256, kernel_initializer='he_normal', name='hidden1')(flatten)\n",
        "    hidden1 = BatchNormalization()(hidden1)\n",
        "    hidden1 = Activation('relu')(hidden1)\n",
        "    dropout1 = Dropout(0.5)(hidden1)\n",
        "    \n",
        "    hidden2 = Dense(100, kernel_initializer='he_normal', name='hidden2')(dropout1)\n",
        "    hidden2 = BatchNormalization()(hidden2)\n",
        "    hidden2 = Activation('relu')(hidden2)\n",
        "    dropout2 = Dropout(0.5)(hidden2)\n",
        "    \n",
        "    hidden3 = Dense(100, kernel_initializer='he_normal', name='hidden3')(dropout2)\n",
        "    hidden3 = BatchNormalization()(hidden3)\n",
        "    hidden3 = Activation('relu')(hidden3)\n",
        "    dropout3 = Dropout(0.5)(hidden3)\n",
        "\n",
        "    hidden4 = Dense(50, kernel_initializer='he_normal', name='hidden4')(dropout3)\n",
        "    hidden4 = BatchNormalization()(hidden4)\n",
        "    hidden4 = Activation('relu')(hidden4)\n",
        "    dropout4 = Dropout(0.5)(hidden4)\n",
        "\n",
        "    output = Dense(10, activation='softmax', name='output')(dropout4)\n",
        "    \n",
        "    model = Model(inputs=[input], outputs=[output])\n",
        "    \n",
        "    return model\n",
        "    "
      ]
    },
    {
      "cell_type": "code",
      "execution_count": 145,
      "metadata": {
        "id": "q7YYIDZq8iRN"
      },
      "outputs": [],
      "source": [
        "model = build_model()"
      ]
    },
    {
      "cell_type": "code",
      "execution_count": 146,
      "metadata": {
        "id": "qNlPrHBT9w-G"
      },
      "outputs": [
        {
          "name": "stdout",
          "output_type": "stream",
          "text": [
            "Model: \"model_1\"\n",
            "_________________________________________________________________\n",
            " Layer (type)                Output Shape              Param #   \n",
            "=================================================================\n",
            " input (InputLayer)          [(None, 28, 28)]          0         \n",
            "                                                                 \n",
            " flatten (Flatten)           (None, 784)               0         \n",
            "                                                                 \n",
            " hidden1 (Dense)             (None, 256)               200960    \n",
            "                                                                 \n",
            " batch_normalization_4 (Batc  (None, 256)              1024      \n",
            " hNormalization)                                                 \n",
            "                                                                 \n",
            " activation_4 (Activation)   (None, 256)               0         \n",
            "                                                                 \n",
            " dropout_4 (Dropout)         (None, 256)               0         \n",
            "                                                                 \n",
            " hidden2 (Dense)             (None, 100)               25700     \n",
            "                                                                 \n",
            " batch_normalization_5 (Batc  (None, 100)              400       \n",
            " hNormalization)                                                 \n",
            "                                                                 \n",
            " activation_5 (Activation)   (None, 100)               0         \n",
            "                                                                 \n",
            " dropout_5 (Dropout)         (None, 100)               0         \n",
            "                                                                 \n",
            " hidden3 (Dense)             (None, 100)               10100     \n",
            "                                                                 \n",
            " batch_normalization_6 (Batc  (None, 100)              400       \n",
            " hNormalization)                                                 \n",
            "                                                                 \n",
            " activation_6 (Activation)   (None, 100)               0         \n",
            "                                                                 \n",
            " dropout_6 (Dropout)         (None, 100)               0         \n",
            "                                                                 \n",
            " hidden4 (Dense)             (None, 50)                5050      \n",
            "                                                                 \n",
            " batch_normalization_7 (Batc  (None, 50)               200       \n",
            " hNormalization)                                                 \n",
            "                                                                 \n",
            " activation_7 (Activation)   (None, 50)                0         \n",
            "                                                                 \n",
            " dropout_7 (Dropout)         (None, 50)                0         \n",
            "                                                                 \n",
            " output (Dense)              (None, 10)                510       \n",
            "                                                                 \n",
            "=================================================================\n",
            "Total params: 244,344\n",
            "Trainable params: 243,332\n",
            "Non-trainable params: 1,012\n",
            "_________________________________________________________________\n"
          ]
        }
      ],
      "source": [
        "model.summary()"
      ]
    },
    {
      "cell_type": "markdown",
      "metadata": {
        "id": "8noHcg8C6xMM"
      },
      "source": [
        "### 모델 컴파일\n",
        "- 평가(metrics)방식의 다른 방법\n",
        "  - `tf.keras.metrics.Mean`\n",
        "  - `tf.keras.metrics.SparseCategoricalAccuracy`\n",
        "\n",
        "- 위 두 방식을 사용하여 loss값을 좀 더 smooth하게 만들기(평균을 내는 방식)"
      ]
    },
    {
      "cell_type": "code",
      "execution_count": 149,
      "metadata": {
        "id": "gpjwC1pa7pvI"
      },
      "outputs": [],
      "source": [
        "loss_object = tf.keras.losses.SparseCategoricalCrossentropy()\n",
        "optimizer = tf.keras.optimizers.Adam()"
      ]
    },
    {
      "cell_type": "code",
      "execution_count": 150,
      "metadata": {
        "id": "DSA2H53-6967"
      },
      "outputs": [],
      "source": [
        "train_loss = tf.keras.metrics.Mean(name='train_loss')\n",
        "train_accuracy = tf.keras.metrics.SparseCategoricalAccuracy(name='train_accuracy')\n",
        "\n",
        "test_loss = tf.keras.metrics.Mean(name='test_loss')\n",
        "test_accuracy = tf.keras.metrics.SparseCategoricalAccuracy(name='test_accuracy')\n"
      ]
    },
    {
      "cell_type": "markdown",
      "metadata": {
        "id": "1uC7KjrU6WqL"
      },
      "source": [
        "### 모델 학습"
      ]
    },
    {
      "cell_type": "markdown",
      "metadata": {
        "id": "ZTF2mvFYRoj_"
      },
      "source": [
        "@tf.function 으로 인해 학습이 시작되면 그래프를 생성하여 속도가 빠름\n"
      ]
    },
    {
      "cell_type": "code",
      "execution_count": 154,
      "metadata": {
        "id": "rRw0DDmqobEv"
      },
      "outputs": [],
      "source": [
        "@tf.function\n",
        "def train_step(images, labels):\n",
        "    with tf.GradientTape() as tape:\n",
        "        predictions = model(images)\n",
        "        loss = loss_object(labels, predictions)\n",
        "    \n",
        "    gradients = tape.gradient(loss, model.trainable_variables)\n",
        "    optimizer.apply_gradients(zip(gradients, model.trainable_variables))\n",
        "    \n",
        "    train_loss(loss)\n",
        "    train_accuracy(labels, predictions)\n",
        "    "
      ]
    },
    {
      "cell_type": "code",
      "execution_count": 155,
      "metadata": {
        "id": "rKoMJ7iJobB_"
      },
      "outputs": [],
      "source": [
        "@tf.function\n",
        "def test_step(images, labels):\n",
        "    predictions = model(images)\n",
        "    loss = loss_object(labels, predictions)\n",
        "    \n",
        "    test_loss(loss)\n",
        "    test_accuracy(labels, predictions)"
      ]
    },
    {
      "cell_type": "code",
      "execution_count": 156,
      "metadata": {
        "id": "sYkJhFWIoa_m"
      },
      "outputs": [
        {
          "name": "stdout",
          "output_type": "stream",
          "text": [
            "Epochs   1\tLoss: 0.4912\tAccuracy: 82.3067\tTest Loss: 0.4178\tTest Accuracy: 84.6400\t\n",
            "Epochs   2\tLoss: 0.4303\tAccuracy: 84.4242\tTest Loss: 0.4042\tTest Accuracy: 85.3650\t\n",
            "Epochs   3\tLoss: 0.3994\tAccuracy: 85.4678\tTest Loss: 0.3901\tTest Accuracy: 85.8600\t\n",
            "Epochs   4\tLoss: 0.3776\tAccuracy: 86.1967\tTest Loss: 0.3790\tTest Accuracy: 86.1975\t\n",
            "Epochs   5\tLoss: 0.3616\tAccuracy: 86.7363\tTest Loss: 0.3819\tTest Accuracy: 86.1780\t\n",
            "Epochs   6\tLoss: 0.3480\tAccuracy: 87.1931\tTest Loss: 0.3763\tTest Accuracy: 86.3817\t\n",
            "Epochs   7\tLoss: 0.3369\tAccuracy: 87.5926\tTest Loss: 0.3732\tTest Accuracy: 86.5486\t\n",
            "Epochs   8\tLoss: 0.3271\tAccuracy: 87.9448\tTest Loss: 0.3690\tTest Accuracy: 86.7863\t\n",
            "Epochs   9\tLoss: 0.3183\tAccuracy: 88.2467\tTest Loss: 0.3645\tTest Accuracy: 86.9867\t\n",
            "Epochs  10\tLoss: 0.3106\tAccuracy: 88.5158\tTest Loss: 0.3624\tTest Accuracy: 87.0920\t\n",
            "Epochs  11\tLoss: 0.3033\tAccuracy: 88.7617\tTest Loss: 0.3594\tTest Accuracy: 87.2527\t\n",
            "Epochs  12\tLoss: 0.2965\tAccuracy: 89.0037\tTest Loss: 0.3571\tTest Accuracy: 87.3633\t\n",
            "Epochs  13\tLoss: 0.2903\tAccuracy: 89.2210\tTest Loss: 0.3570\tTest Accuracy: 87.4015\t\n",
            "Epochs  14\tLoss: 0.2844\tAccuracy: 89.4218\tTest Loss: 0.3583\tTest Accuracy: 87.4207\t\n",
            "Epochs  15\tLoss: 0.2791\tAccuracy: 89.6078\tTest Loss: 0.3589\tTest Accuracy: 87.4633\t\n",
            "Epochs  16\tLoss: 0.2739\tAccuracy: 89.7925\tTest Loss: 0.3604\tTest Accuracy: 87.5119\t\n",
            "Epochs  17\tLoss: 0.2689\tAccuracy: 89.9699\tTest Loss: 0.3609\tTest Accuracy: 87.5653\t\n",
            "Epochs  18\tLoss: 0.2643\tAccuracy: 90.1331\tTest Loss: 0.3598\tTest Accuracy: 87.6522\t\n",
            "Epochs  19\tLoss: 0.2599\tAccuracy: 90.2885\tTest Loss: 0.3603\tTest Accuracy: 87.6895\t\n",
            "Epochs  20\tLoss: 0.2557\tAccuracy: 90.4399\tTest Loss: 0.3605\tTest Accuracy: 87.7530\t\n"
          ]
        }
      ],
      "source": [
        "epochs = 20\n",
        "\n",
        "for epoch in range(epochs):\n",
        "    for images, labels in train_ds:\n",
        "        train_step(images, labels)\n",
        "\n",
        "    for test_images, test_labels in test_ds:\n",
        "        test_step(test_images, test_labels)\n",
        "        \n",
        "    template = 'Epochs {:3d}\\tLoss: {:.4f}\\tAccuracy: {:.4f}\\tTest Loss: {:.4f}\\tTest Accuracy: {:.4f}\\t'\n",
        "    print(template.format(epoch+1,\n",
        "                          train_loss.result(),\n",
        "                          train_accuracy.result()*100,\n",
        "                          test_loss.result(),\n",
        "                          test_accuracy.result()*100))\n"
      ]
    },
    {
      "cell_type": "markdown",
      "metadata": {
        "id": "ZEUXDyCMKWRo"
      },
      "source": [
        "### 모델 학습 : 2번째 방법 (Keras)"
      ]
    },
    {
      "cell_type": "code",
      "execution_count": null,
      "metadata": {
        "id": "TRlqurJ_Mz6v"
      },
      "outputs": [],
      "source": []
    },
    {
      "cell_type": "code",
      "execution_count": null,
      "metadata": {
        "id": "XGLv1B6-KiWK"
      },
      "outputs": [],
      "source": []
    },
    {
      "cell_type": "markdown",
      "metadata": {
        "id": "xBBuYErFFj0b"
      },
      "source": [
        "5~6분 소요"
      ]
    },
    {
      "cell_type": "code",
      "execution_count": null,
      "metadata": {
        "id": "32TtgSsWLT-0"
      },
      "outputs": [],
      "source": []
    },
    {
      "cell_type": "code",
      "execution_count": null,
      "metadata": {
        "id": "TYEmlqkGKZbH"
      },
      "outputs": [],
      "source": []
    },
    {
      "cell_type": "code",
      "execution_count": null,
      "metadata": {
        "id": "RaeHz1VFKZVM"
      },
      "outputs": [],
      "source": []
    },
    {
      "cell_type": "markdown",
      "metadata": {
        "id": "5pJ6MDW9CcwX"
      },
      "source": [
        "### 모델 평가"
      ]
    },
    {
      "cell_type": "code",
      "execution_count": null,
      "metadata": {
        "id": "e4MxgLKOCeL9"
      },
      "outputs": [],
      "source": []
    },
    {
      "cell_type": "markdown",
      "metadata": {
        "id": "8McnnarjV2Tf"
      },
      "source": [
        "### 결과 확인"
      ]
    },
    {
      "cell_type": "code",
      "execution_count": null,
      "metadata": {
        "id": "7zHvs2FICeHD"
      },
      "outputs": [],
      "source": []
    },
    {
      "cell_type": "code",
      "execution_count": null,
      "metadata": {
        "id": "L9TlZb73CeEj"
      },
      "outputs": [],
      "source": []
    },
    {
      "cell_type": "code",
      "execution_count": null,
      "metadata": {
        "id": "tLU39hstWLfh"
      },
      "outputs": [],
      "source": []
    },
    {
      "cell_type": "code",
      "execution_count": null,
      "metadata": {
        "id": "VvN3dvdZWXRd"
      },
      "outputs": [],
      "source": []
    },
    {
      "cell_type": "code",
      "execution_count": null,
      "metadata": {
        "id": "gXCeb-f2WYm1"
      },
      "outputs": [],
      "source": []
    },
    {
      "cell_type": "code",
      "execution_count": null,
      "metadata": {
        "id": "E_7gFZNAWZip"
      },
      "outputs": [],
      "source": []
    },
    {
      "cell_type": "markdown",
      "metadata": {
        "id": "MJL5wVZiWqtw"
      },
      "source": [
        "### Test Batch Dataset"
      ]
    },
    {
      "cell_type": "code",
      "execution_count": null,
      "metadata": {
        "id": "joaO3OqrWxIp"
      },
      "outputs": [],
      "source": []
    },
    {
      "cell_type": "code",
      "execution_count": null,
      "metadata": {
        "id": "OxqBhlqXWmXl"
      },
      "outputs": [],
      "source": []
    },
    {
      "cell_type": "code",
      "execution_count": null,
      "metadata": {
        "id": "5Pgwy4yXW2dt"
      },
      "outputs": [],
      "source": []
    },
    {
      "cell_type": "code",
      "execution_count": null,
      "metadata": {
        "id": "53xdFvATW85m"
      },
      "outputs": [],
      "source": []
    }
  ],
  "metadata": {
    "colab": {
      "collapsed_sections": [],
      "provenance": []
    },
    "kernelspec": {
      "display_name": "Python 3.9.7 ('base')",
      "language": "python",
      "name": "python3"
    },
    "language_info": {
      "codemirror_mode": {
        "name": "ipython",
        "version": 3
      },
      "file_extension": ".py",
      "mimetype": "text/x-python",
      "name": "python",
      "nbconvert_exporter": "python",
      "pygments_lexer": "ipython3",
      "version": "3.9.7"
    },
    "vscode": {
      "interpreter": {
        "hash": "263930470851f494f0ed2879c35b57985588df20f9e529b86e97dd5eb9ddc466"
      }
    }
  },
  "nbformat": 4,
  "nbformat_minor": 0
}
