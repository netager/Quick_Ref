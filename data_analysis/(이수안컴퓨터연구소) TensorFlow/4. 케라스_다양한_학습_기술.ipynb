{
  "nbformat": 4,
  "nbformat_minor": 0,
  "metadata": {
    "colab": {
      "provenance": [],
      "collapsed_sections": [],
      "toc_visible": true
    },
    "kernelspec": {
      "name": "python3",
      "display_name": "Python 3"
    }
  },
  "cells": [
    {
      "cell_type": "markdown",
      "metadata": {
        "id": "yOVeX9Ar4Auz"
      },
      "source": [
        "# 케라스 다양한 학습 기술\n",
        "\n",
        "- 과대적합, 과소적합을 막기 위한 방법들\n",
        "  - 모델의 크기 축소\n",
        "  \n",
        "  - 초기화\n",
        "\n",
        "  - 옵티마이저\n",
        "\n",
        "  - 배치 정규화\n",
        "\n",
        "  - 규제화"
      ]
    },
    {
      "cell_type": "markdown",
      "metadata": {
        "id": "IhPZ4w90viFx"
      },
      "source": [
        "### 모델의 크기 축소\n",
        "- 가장 단순한 방법\n",
        "\n",
        "- 모델의 크기를 줄인다는 것은 **학습 파라미터의 수를 줄이는 것**"
      ]
    },
    {
      "cell_type": "markdown",
      "metadata": {
        "id": "kxtmEK1Owrax"
      },
      "source": [
        "#### 데이터 준비\n",
        "- 설명을 위한 코드"
      ]
    },
    {
      "cell_type": "code",
      "metadata": {
        "id": "_iL6C1I3wuaA"
      },
      "source": [],
      "execution_count": null,
      "outputs": []
    },
    {
      "cell_type": "markdown",
      "metadata": {
        "id": "BZjjWyfyw6p2"
      },
      "source": [
        "#### 2가지의 모델 설정"
      ]
    },
    {
      "cell_type": "code",
      "metadata": {
        "id": "rrocxnqHvsmX"
      },
      "source": [],
      "execution_count": null,
      "outputs": []
    },
    {
      "cell_type": "code",
      "metadata": {
        "id": "EF3hYeDNvsjm"
      },
      "source": [],
      "execution_count": null,
      "outputs": []
    },
    {
      "cell_type": "code",
      "metadata": {
        "id": "amk5tmejvsgx"
      },
      "source": [],
      "execution_count": null,
      "outputs": []
    },
    {
      "cell_type": "code",
      "metadata": {
        "id": "xzcjFU1lvsco"
      },
      "source": [],
      "execution_count": null,
      "outputs": []
    },
    {
      "cell_type": "code",
      "metadata": {
        "id": "NVJKoQj-vsZY"
      },
      "source": [],
      "execution_count": null,
      "outputs": []
    },
    {
      "cell_type": "code",
      "metadata": {
        "id": "3Uvw3YxhwUVc"
      },
      "source": [],
      "execution_count": null,
      "outputs": []
    },
    {
      "cell_type": "markdown",
      "metadata": {
        "id": "Sm8jFl6RxLyg"
      },
      "source": [
        "#### 2개의 모델 학습"
      ]
    },
    {
      "cell_type": "code",
      "metadata": {
        "id": "9agfXfSGwUSr"
      },
      "source": [],
      "execution_count": null,
      "outputs": []
    },
    {
      "cell_type": "code",
      "metadata": {
        "id": "kvj6-Zu5wUPw"
      },
      "source": [],
      "execution_count": null,
      "outputs": []
    },
    {
      "cell_type": "markdown",
      "metadata": {
        "id": "AasztxUFxlLp"
      },
      "source": [
        "#### 비교"
      ]
    },
    {
      "cell_type": "code",
      "metadata": {
        "id": "W-6Wsh9GwULZ"
      },
      "source": [],
      "execution_count": null,
      "outputs": []
    },
    {
      "cell_type": "code",
      "metadata": {
        "id": "jbtSXzhBwUHl"
      },
      "source": [],
      "execution_count": null,
      "outputs": []
    },
    {
      "cell_type": "markdown",
      "metadata": {
        "id": "Cv89efVDyRFF"
      },
      "source": [
        "model_2 (더 작은 모델)이 '조금 더 나중에' 과대적합 발생"
      ]
    },
    {
      "cell_type": "code",
      "metadata": {
        "id": "E3mNd2HLxxwk"
      },
      "source": [],
      "execution_count": null,
      "outputs": []
    },
    {
      "cell_type": "markdown",
      "metadata": {
        "id": "_wprAXPZyY5L"
      },
      "source": [
        "### 모델의 크기 축소 (2)\n"
      ]
    },
    {
      "cell_type": "markdown",
      "metadata": {
        "id": "hbgdN2fJyewH"
      },
      "source": [
        "#### 모델 구성"
      ]
    },
    {
      "cell_type": "code",
      "metadata": {
        "id": "oxboLrD0xxsJ"
      },
      "source": [],
      "execution_count": null,
      "outputs": []
    },
    {
      "cell_type": "markdown",
      "metadata": {
        "id": "3cxKVbloyvpR"
      },
      "source": [
        "#### 모델 학습\n",
        "- 시간 소요"
      ]
    },
    {
      "cell_type": "code",
      "metadata": {
        "id": "C43sbIsCyu7A"
      },
      "source": [],
      "execution_count": null,
      "outputs": []
    },
    {
      "cell_type": "markdown",
      "metadata": {
        "id": "xeiG_rHIzX6F"
      },
      "source": [
        "#### 시각화"
      ]
    },
    {
      "cell_type": "code",
      "metadata": {
        "id": "UNFhd4hnyu3p"
      },
      "source": [],
      "execution_count": null,
      "outputs": []
    },
    {
      "cell_type": "code",
      "metadata": {
        "id": "w7q9Q2FIyu0y"
      },
      "source": [],
      "execution_count": null,
      "outputs": []
    },
    {
      "cell_type": "markdown",
      "metadata": {
        "id": "mMu_Mpi40Re6"
      },
      "source": [
        "* 볼륨이 큰 신경망일수록 빠르게 훈련데이터 모델링 가능(학습 손실이 낮아짐)\n",
        "* 과대 적합에는 더욱 민감해짐\n",
        "* 이는 학습-검증 데이터의 손실을 보면 알 수 있음"
      ]
    },
    {
      "cell_type": "code",
      "metadata": {
        "id": "Ro9vewyOyuv0"
      },
      "source": [],
      "execution_count": null,
      "outputs": []
    },
    {
      "cell_type": "markdown",
      "metadata": {
        "id": "yN4NPzGxzWP1"
      },
      "source": [
        "### 가중치 초기화\n"
      ]
    },
    {
      "cell_type": "markdown",
      "metadata": {
        "id": "KLRQayA6KcX8"
      },
      "source": [
        "#### 초기화 전략\n",
        "\n",
        "- Glorot Initialization (Xavier)\n",
        "  - 활성화 함수  \n",
        "    - 없음\n",
        "    - tanh\n",
        "    - sigmoid\n",
        "    - softmax\n",
        "\n",
        "- He Initialization \n",
        "  - 활성화 함수  \n",
        "    - ReLU\n",
        "    - LeakyReLU\n",
        "    - ELU 등\n",
        "\n",
        "    "
      ]
    },
    {
      "cell_type": "code",
      "metadata": {
        "id": "NJy2-2lXLa0i"
      },
      "source": [],
      "execution_count": null,
      "outputs": []
    },
    {
      "cell_type": "code",
      "metadata": {
        "id": "A9vpl6Gj4C3D"
      },
      "source": [],
      "execution_count": null,
      "outputs": []
    },
    {
      "cell_type": "markdown",
      "metadata": {
        "id": "MJ-qfqIszX2r"
      },
      "source": [
        "### 고속 옵티마이저"
      ]
    },
    {
      "cell_type": "markdown",
      "metadata": {
        "id": "RRNxoDg2ePqe"
      },
      "source": [
        "#### 모멘텀 최적화\n",
        "\n",
        "$\n",
        "\\qquad v \\ \\leftarrow \\ \\alpha \\ v - \\gamma \\ \\frac{\\partial L}{\\partial W} \\\\\n",
        "\\qquad W \\ \\leftarrow \\ W \\ + \\ v\n",
        "$\n",
        "\n",
        "  - $\\alpha\\ $ : 관성계수 \n",
        "\n",
        "  - $v$ :  속도\n",
        "\n",
        "  - $\\gamma\\ $ : 학습률\n",
        "\n",
        "  - $\\frac{\\partial L}{\\partial W}\\ $ : 손실함수에 대한 미분"
      ]
    },
    {
      "cell_type": "code",
      "metadata": {
        "id": "Sf0b9AlvzaQk"
      },
      "source": [],
      "execution_count": null,
      "outputs": []
    },
    {
      "cell_type": "code",
      "metadata": {
        "id": "t6yxEpN1edGO"
      },
      "source": [],
      "execution_count": null,
      "outputs": []
    },
    {
      "cell_type": "markdown",
      "metadata": {
        "id": "BTYgA4r8ePLk"
      },
      "source": [
        "#### 네스테로프 (Nesterov)\n",
        "\n",
        "- 모멘텀의 방향으로 조금 앞선 곳에서 손실함수의 그라디언트를 구함\n",
        "\n",
        "- 시간이 지날수록 조금 더 빨리 최솟값에 도달\n",
        "\n",
        "$\n",
        "\\qquad m \\ \\leftarrow \\  \\beta m - \\eta \\bigtriangledown_\\theta J(\\theta + \\beta m) \\\\\n",
        "\\qquad \\theta \\ \\leftarrow \\ \\theta \\ + m\n",
        "$\n",
        "\n",
        "\n",
        "  - $h\\ $ : 기존 기울기를 제곱하여 더한 값\n",
        "\n",
        "  - $\\eta\\ $ : 학습률\n",
        "\n",
        "  - $\\bigtriangledown_\\theta J(\\theta) \\ $ : $\\theta$에 대한 미분(그라디언트)\n",
        "\n",
        "  <img src=\"https://t1.daumcdn.net/cfile/tistory/99D91C455C76428D11\">\n",
        "\n",
        "  <sub>출처: CS231n</sub>"
      ]
    },
    {
      "cell_type": "code",
      "metadata": {
        "id": "EzNkLS48eoW_"
      },
      "source": [],
      "execution_count": null,
      "outputs": []
    },
    {
      "cell_type": "code",
      "metadata": {
        "id": "WDDQEcoRenpq"
      },
      "source": [],
      "execution_count": null,
      "outputs": []
    },
    {
      "cell_type": "markdown",
      "metadata": {
        "id": "UcY8kkknewpB"
      },
      "source": [
        "#### AdaGrad\n",
        "\n",
        "- 보통 간단한 모델에는 효과 좋을 수는 있으나, 심층 신경망 모델에서는 사용 X\n",
        "\n",
        "$\n",
        "\\qquad h \\ \\leftarrow \\  h + \\frac{\\partial L}{\\partial W} \\odot \\frac{\\partial L}{\\partial W} \\\\\n",
        "\\qquad W \\ \\leftarrow \\ W \\ + \\gamma \\frac{1}{\\sqrt h} \\ \\frac{\\partial L}{\\partial W}\n",
        "$\n",
        "\n",
        "  - $h\\ $ : 기존 기울기를 제곱하여 더한 값\n",
        "\n",
        "  - $\\gamma\\ $ : 학습률\n",
        "\n",
        "  - $\\frac{\\partial L}{\\partial W}\\ $ : $W$에 대한 미분\n"
      ]
    },
    {
      "cell_type": "code",
      "metadata": {
        "id": "PU_alkIreycK"
      },
      "source": [],
      "execution_count": null,
      "outputs": []
    },
    {
      "cell_type": "code",
      "metadata": {
        "id": "_PB1OADzfOET"
      },
      "source": [],
      "execution_count": null,
      "outputs": []
    },
    {
      "cell_type": "markdown",
      "metadata": {
        "id": "Js5uwi6lfYO_"
      },
      "source": [
        "#### RMSProp\n",
        "\n",
        "\n",
        "$\n",
        "\\qquad s \\ \\leftarrow \\ \\beta \\ s + (1 - \\beta) \\bigtriangledown_{\\theta} J(\\theta) \\otimes \\bigtriangledown_{\\theta} J(\\theta) \\\\\n",
        "\\qquad \\theta \\ \\leftarrow \\ \\theta \\ - \\eta  \\ \\bigtriangledown_{\\theta} J(\\theta) \\oslash \\sqrt{s + \\epsilon}\n",
        "$\n",
        "\n",
        "  - $s \\ $ : 그래디언트의 제곱을 감쇠율을 곱한 후 더함\n",
        "\n",
        "  - $\\eta\\ $ : 학습률\n",
        "\n",
        "  - $\\bigtriangledown_{\\theta} J(\\theta) \\ $ : 손실함수의 미분값\n",
        "\n",
        "\n",
        "  "
      ]
    },
    {
      "cell_type": "code",
      "metadata": {
        "id": "WEDCQVzofc2U"
      },
      "source": [],
      "execution_count": null,
      "outputs": []
    },
    {
      "cell_type": "code",
      "metadata": {
        "id": "44v7Nu8Gfg8H"
      },
      "source": [],
      "execution_count": null,
      "outputs": []
    },
    {
      "cell_type": "markdown",
      "metadata": {
        "id": "Y8UhxclQfl2h"
      },
      "source": [
        "#### Adam\n",
        "\n",
        "$\n",
        "\\qquad m \\ \\leftarrow \\  \\beta_1 \\ m - (1 - \\beta_1)\\ \\frac{\\partial L}{\\partial W}  \\\\\n",
        "\\qquad s \\ \\leftarrow \\ \\beta_2 \\ s + (1 - \\beta_2) \\frac{\\partial L}{\\partial W} \\odot \\frac{\\partial L}{\\partial W} \\\\\n",
        "\\qquad \\hat{m} \\ \\leftarrow \\frac{m}{1 - \\beta_1^t} \\\\\n",
        "\\qquad \\hat{s} \\ \\leftarrow \\frac{s}{1 - \\beta_2^t} \\\\\n",
        "\\qquad W \\ \\leftarrow \\ W \\ + \\gamma \\ \\hat{m}\\  \\oslash \\sqrt{\\hat{s} + \\epsilon}\n",
        "$\n",
        "\n",
        "  - $\\beta\\ $ : 지수 평균의 업데이트 계수\n",
        "\n",
        "  - $\\gamma\\ $ : 학습률\n",
        "\n",
        "  - $\\beta_1 \\approx 0.9\\ ,\\ \\ \\beta_2 \\approx 0.999$\n",
        "\n",
        "  - $\\frac{\\partial L}{\\partial W}\\ $ : $W$에 대한 미분"
      ]
    },
    {
      "cell_type": "code",
      "metadata": {
        "id": "5uPmICAYfg5q"
      },
      "source": [],
      "execution_count": null,
      "outputs": []
    },
    {
      "cell_type": "code",
      "metadata": {
        "id": "Dq8C4XTYfg2e"
      },
      "source": [],
      "execution_count": null,
      "outputs": []
    },
    {
      "cell_type": "markdown",
      "metadata": {
        "id": "kJBvCWbezZYk"
      },
      "source": [
        "### 배치 정규화\n",
        "- 모델에 주입되는 샘플들을 균일하게 만드는 방법\n",
        "\n",
        "- 학습 후 새로운 데이터에 잘 일반화 할 수 있도록 도와줌\n",
        "\n",
        "- 데이터 전처리 단계에서 진행해도 되지만 정규화가 되어서 layer에 들어갔다는 보장이 없음\n",
        "\n",
        "- 주로 **Dense** 또는 **Conv2D** Layer 후, **활성화 함수**이전에 놓임\n"
      ]
    },
    {
      "cell_type": "code",
      "metadata": {
        "id": "rxU6fA0A4HrM"
      },
      "source": [],
      "execution_count": null,
      "outputs": []
    },
    {
      "cell_type": "code",
      "metadata": {
        "id": "0igMU8uIzZAF"
      },
      "source": [],
      "execution_count": null,
      "outputs": []
    },
    {
      "cell_type": "markdown",
      "metadata": {
        "id": "EQzTjO9pzeOF"
      },
      "source": [
        "### 규제화\n",
        "- 복잡한 네트워크 일수록 네트워크의 복잡도에 제한을 두어  \n",
        "  가중치가 작은 값을 가지도록 함\n",
        "\n",
        "- 가중치의 분포가 더 균일하게 됨\n",
        "\n",
        "- 네트워크 손실함수에 큰 가중치에 연관된 비용을 추가\n",
        "  - L1 규제 : 가중치의 절댓값에 비례하는 비용이 추가\n",
        "  - L2 규제 : 가중치의 제곱에 비례하는 비용이 추가(흔히 가중치 감쇠라고도 불림)\n",
        "  - 위 2규제가 합쳐진 경우도 존재"
      ]
    },
    {
      "cell_type": "markdown",
      "metadata": {
        "id": "IlNRw0Os6nva"
      },
      "source": [
        "데이터는 **모델의 크기** 파트에서 사용된 imdb dataset"
      ]
    },
    {
      "cell_type": "code",
      "metadata": {
        "id": "8i1DeU7jzghS"
      },
      "source": [],
      "execution_count": null,
      "outputs": []
    },
    {
      "cell_type": "markdown",
      "metadata": {
        "id": "lprLPcG45OTJ"
      },
      "source": [
        "#### 모델 구성"
      ]
    },
    {
      "cell_type": "code",
      "metadata": {
        "id": "oaGfymuG5K-d"
      },
      "source": [],
      "execution_count": null,
      "outputs": []
    },
    {
      "cell_type": "markdown",
      "metadata": {
        "id": "sxREnpS7573M"
      },
      "source": [
        "#### 모델 학습"
      ]
    },
    {
      "cell_type": "code",
      "metadata": {
        "id": "LyAwuDMG5p2v"
      },
      "source": [],
      "execution_count": null,
      "outputs": []
    },
    {
      "cell_type": "markdown",
      "metadata": {
        "id": "9ncu8EfhBMSp"
      },
      "source": [
        "#### 시각화\n",
        "- Model 1은 **모델의 크기 축소**파트에서의 모델"
      ]
    },
    {
      "cell_type": "code",
      "metadata": {
        "id": "9bT9d1Ov5-g3"
      },
      "source": [],
      "execution_count": null,
      "outputs": []
    },
    {
      "cell_type": "markdown",
      "metadata": {
        "id": "mSAicW_U7PBQ"
      },
      "source": [
        "#### L1과 비교"
      ]
    },
    {
      "cell_type": "code",
      "metadata": {
        "id": "-aoBg6k16Ucv"
      },
      "source": [],
      "execution_count": null,
      "outputs": []
    },
    {
      "cell_type": "code",
      "metadata": {
        "id": "8CXp6Sae7vX_"
      },
      "source": [],
      "execution_count": null,
      "outputs": []
    },
    {
      "cell_type": "code",
      "metadata": {
        "id": "homdYX387xL4"
      },
      "source": [],
      "execution_count": null,
      "outputs": []
    },
    {
      "cell_type": "markdown",
      "metadata": {
        "id": "SMrhigPO9y3k"
      },
      "source": [
        "3가지 모델 비교\n",
        "- Original\n",
        "- L1\n",
        "- L2"
      ]
    },
    {
      "cell_type": "code",
      "metadata": {
        "id": "B5L4Dt0m8LYB"
      },
      "source": [],
      "execution_count": null,
      "outputs": []
    },
    {
      "cell_type": "markdown",
      "metadata": {
        "id": "Dt-_9PJa8ZPz"
      },
      "source": [
        "#### L1, L2와 비교"
      ]
    },
    {
      "cell_type": "code",
      "metadata": {
        "id": "om9_yG0N8p63"
      },
      "source": [],
      "execution_count": null,
      "outputs": []
    },
    {
      "cell_type": "code",
      "metadata": {
        "id": "HZvfp1oa8zqR"
      },
      "source": [],
      "execution_count": null,
      "outputs": []
    },
    {
      "cell_type": "code",
      "metadata": {
        "id": "pbAePZaz9Ct7"
      },
      "source": [],
      "execution_count": null,
      "outputs": []
    },
    {
      "cell_type": "markdown",
      "metadata": {
        "id": "adXSd24794wD"
      },
      "source": [
        "4가지 모델 비교\n",
        "- Original\n",
        "\n",
        "- L1\n",
        "\n",
        "- L2\n",
        "\n",
        "- L1_L2"
      ]
    },
    {
      "cell_type": "code",
      "metadata": {
        "id": "MSlpzdAR9X7o"
      },
      "source": [],
      "execution_count": null,
      "outputs": []
    },
    {
      "cell_type": "markdown",
      "metadata": {
        "id": "2HZJQ1Uc-Pwe"
      },
      "source": [
        "### 드롭아웃(Dropout)\n",
        "- 신경망을 위해 사용되는 규제 기법 중 가장 효과적이고 널리 사용되는 방법\n",
        "\n",
        "- 신경망의 레이어에 드롭아웃을 적용하면 훈련하는 동안 무작위로 층의 일부 특성(노드)를 제외\n",
        "  - 예를 들어, [1.0, 3.2, 0.6, 0.8, 1.1] 라는 벡터에 대해 드롭아웃을 적용하면 **무작위로 0으로 바뀜**  \n",
        "    $\\rightarrow$ [0, 3.2, 0.6, 0.8, 0]\n",
        "\n",
        "  - 보통 0.2 ~ 0.5 사이의 비율로 지정됨\n",
        "\n",
        "- 테스트 단계에서는 그 어떤 노드도 드롭아웃 되지 않는다.\n",
        "  - 대신 해당 레이어의 출력 노드를 드롭아웃 비율에 맞게 줄여줌"
      ]
    },
    {
      "cell_type": "code",
      "metadata": {
        "id": "m8vp3zV8_8va"
      },
      "source": [],
      "execution_count": null,
      "outputs": []
    },
    {
      "cell_type": "markdown",
      "metadata": {
        "id": "2Lv4SuKy_6C0"
      },
      "source": [
        "#### 모델 구성"
      ]
    },
    {
      "cell_type": "code",
      "metadata": {
        "id": "qb6_EQte-Jxu"
      },
      "source": [],
      "execution_count": null,
      "outputs": []
    },
    {
      "cell_type": "markdown",
      "metadata": {
        "id": "5aJVz33uArZo"
      },
      "source": [
        "#### 모델 학습"
      ]
    },
    {
      "cell_type": "code",
      "metadata": {
        "id": "3EKriwnYAhsO"
      },
      "source": [],
      "execution_count": null,
      "outputs": []
    },
    {
      "cell_type": "markdown",
      "metadata": {
        "id": "H1mtPk84GQhi"
      },
      "source": [
        "#### 시각화"
      ]
    },
    {
      "cell_type": "code",
      "metadata": {
        "id": "UCYzvVV5A0it"
      },
      "source": [],
      "execution_count": null,
      "outputs": []
    }
  ]
}