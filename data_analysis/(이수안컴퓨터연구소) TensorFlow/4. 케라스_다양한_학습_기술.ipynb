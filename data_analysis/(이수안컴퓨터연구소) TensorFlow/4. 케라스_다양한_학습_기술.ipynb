{
  "cells": [
    {
      "cell_type": "markdown",
      "metadata": {
        "id": "yOVeX9Ar4Auz"
      },
      "source": [
        "# 케라스 다양한 학습 기술\n",
        "\n",
        "- 과대적합, 과소적합을 막기 위한 방법들\n",
        "  - 모델의 크기 축소\n",
        "  \n",
        "  - 초기화\n",
        "\n",
        "  - 옵티마이저\n",
        "\n",
        "  - 배치 정규화\n",
        "\n",
        "  - 규제화"
      ]
    },
    {
      "cell_type": "markdown",
      "metadata": {
        "id": "IhPZ4w90viFx"
      },
      "source": [
        "### 모델의 크기 축소\n",
        "- 가장 단순한 방법\n",
        "\n",
        "- 모델의 크기를 줄인다는 것은 **학습 파라미터의 수를 줄이는 것**"
      ]
    },
    {
      "cell_type": "markdown",
      "metadata": {
        "id": "kxtmEK1Owrax"
      },
      "source": [
        "#### 데이터 준비\n",
        "- 설명을 위한 코드"
      ]
    },
    {
      "cell_type": "code",
      "execution_count": 3,
      "metadata": {
        "id": "_iL6C1I3wuaA"
      },
      "outputs": [],
      "source": [
        "from tensorflow.keras.datasets import imdb\n",
        "import numpy as np\n",
        "\n",
        "(train_data, train_labels), (test_data, test_labels) = imdb.load_data(num_words=10000)\n",
        "\n",
        "def vectorize_seq(seqs, dim=10000):\n",
        "    results = np.zeros((len(seqs), dim))\n",
        "    for i, seq in enumerate(seqs):\n",
        "        results[i, seq] = 1.\n",
        "        \n",
        "    return results\n",
        "\n",
        "x_train = vectorize_seq(train_data)\n",
        "x_test = vectorize_seq(test_data)\n",
        "\n",
        "y_train = np.asarray(train_labels).astype('float32')\n",
        "y_test = np.asarray(test_labels).astype('float32')"
      ]
    },
    {
      "cell_type": "markdown",
      "metadata": {
        "id": "BZjjWyfyw6p2"
      },
      "source": [
        "#### 2가지의 모델 설정"
      ]
    },
    {
      "cell_type": "code",
      "execution_count": 4,
      "metadata": {
        "id": "rrocxnqHvsmX"
      },
      "outputs": [],
      "source": [
        "import tensorflow as tf \n",
        "from tensorflow.keras.models import Sequential\n",
        "from tensorflow.keras.layers import Dense"
      ]
    },
    {
      "cell_type": "code",
      "execution_count": 5,
      "metadata": {
        "id": "EF3hYeDNvsjm"
      },
      "outputs": [],
      "source": [
        "model_1 = Sequential([Dense(16, activation='relu', input_shape=(10000, ), name='input'),\n",
        "                      Dense(16, activation='relu', name='hidden'),\n",
        "                      Dense(1, activation='sigmoid', name='output')])"
      ]
    },
    {
      "cell_type": "code",
      "execution_count": 6,
      "metadata": {
        "id": "amk5tmejvsgx"
      },
      "outputs": [
        {
          "name": "stdout",
          "output_type": "stream",
          "text": [
            "Model: \"sequential\"\n",
            "_________________________________________________________________\n",
            " Layer (type)                Output Shape              Param #   \n",
            "=================================================================\n",
            " input (Dense)               (None, 16)                160016    \n",
            "                                                                 \n",
            " hidden (Dense)              (None, 16)                272       \n",
            "                                                                 \n",
            " output (Dense)              (None, 1)                 17        \n",
            "                                                                 \n",
            "=================================================================\n",
            "Total params: 160,305\n",
            "Trainable params: 160,305\n",
            "Non-trainable params: 0\n",
            "_________________________________________________________________\n"
          ]
        }
      ],
      "source": [
        "model_1.summary()"
      ]
    },
    {
      "cell_type": "code",
      "execution_count": 7,
      "metadata": {
        "id": "xzcjFU1lvsco"
      },
      "outputs": [],
      "source": [
        "model_2 = Sequential([Dense(7, activation='relu', input_shape=(10000, ), name='input2'),\n",
        "                      Dense(7, activation='relu', name='hidden2'),\n",
        "                      Dense(1, activation='sigmoid', name='output2')])"
      ]
    },
    {
      "cell_type": "code",
      "execution_count": 8,
      "metadata": {
        "id": "NVJKoQj-vsZY"
      },
      "outputs": [
        {
          "name": "stdout",
          "output_type": "stream",
          "text": [
            "Model: \"sequential_1\"\n",
            "_________________________________________________________________\n",
            " Layer (type)                Output Shape              Param #   \n",
            "=================================================================\n",
            " input2 (Dense)              (None, 7)                 70007     \n",
            "                                                                 \n",
            " hidden2 (Dense)             (None, 7)                 56        \n",
            "                                                                 \n",
            " output2 (Dense)             (None, 1)                 8         \n",
            "                                                                 \n",
            "=================================================================\n",
            "Total params: 70,071\n",
            "Trainable params: 70,071\n",
            "Non-trainable params: 0\n",
            "_________________________________________________________________\n"
          ]
        }
      ],
      "source": [
        "model_2.summary()"
      ]
    },
    {
      "cell_type": "code",
      "execution_count": 9,
      "metadata": {
        "id": "3Uvw3YxhwUVc"
      },
      "outputs": [],
      "source": [
        "model_1.compile(optimizer='rmsprop',\n",
        "                loss='binary_crossentropy',\n",
        "                metrics=['acc'])\n",
        "\n",
        "model_2.compile(optimizer='rmsprop',\n",
        "                loss='binary_crossentropy',\n",
        "                metrics=['acc'])"
      ]
    },
    {
      "cell_type": "markdown",
      "metadata": {
        "id": "Sm8jFl6RxLyg"
      },
      "source": [
        "#### 2개의 모델 학습"
      ]
    },
    {
      "cell_type": "code",
      "execution_count": 10,
      "metadata": {
        "id": "9agfXfSGwUSr"
      },
      "outputs": [
        {
          "name": "stdout",
          "output_type": "stream",
          "text": [
            "Epoch 1/20\n",
            "49/49 [==============================] - 2s 26ms/step - loss: 0.4340 - acc: 0.8217 - val_loss: 0.3223 - val_acc: 0.8825\n",
            "Epoch 2/20\n",
            "49/49 [==============================] - 1s 14ms/step - loss: 0.2488 - acc: 0.9129 - val_loss: 0.2957 - val_acc: 0.8840\n",
            "Epoch 3/20\n",
            "49/49 [==============================] - 1s 13ms/step - loss: 0.1936 - acc: 0.9307 - val_loss: 0.2838 - val_acc: 0.8866\n",
            "Epoch 4/20\n",
            "49/49 [==============================] - 1s 13ms/step - loss: 0.1658 - acc: 0.9409 - val_loss: 0.3273 - val_acc: 0.8730\n",
            "Epoch 5/20\n",
            "49/49 [==============================] - 1s 13ms/step - loss: 0.1413 - acc: 0.9499 - val_loss: 0.3174 - val_acc: 0.8784\n",
            "Epoch 6/20\n",
            "49/49 [==============================] - 1s 13ms/step - loss: 0.1266 - acc: 0.9558 - val_loss: 0.3464 - val_acc: 0.8746\n",
            "Epoch 7/20\n",
            "49/49 [==============================] - 1s 14ms/step - loss: 0.1115 - acc: 0.9618 - val_loss: 0.3658 - val_acc: 0.8697\n",
            "Epoch 8/20\n",
            "49/49 [==============================] - 1s 14ms/step - loss: 0.1023 - acc: 0.9636 - val_loss: 0.3906 - val_acc: 0.8684\n",
            "Epoch 9/20\n",
            "49/49 [==============================] - 1s 13ms/step - loss: 0.0897 - acc: 0.9692 - val_loss: 0.4319 - val_acc: 0.8601\n",
            "Epoch 10/20\n",
            "49/49 [==============================] - 1s 13ms/step - loss: 0.0806 - acc: 0.9726 - val_loss: 0.4686 - val_acc: 0.8554\n",
            "Epoch 11/20\n",
            "49/49 [==============================] - 1s 13ms/step - loss: 0.0713 - acc: 0.9767 - val_loss: 0.4903 - val_acc: 0.8592\n",
            "Epoch 12/20\n",
            "49/49 [==============================] - 1s 13ms/step - loss: 0.0634 - acc: 0.9802 - val_loss: 0.5039 - val_acc: 0.8598\n",
            "Epoch 13/20\n",
            "49/49 [==============================] - 1s 14ms/step - loss: 0.0566 - acc: 0.9819 - val_loss: 0.5538 - val_acc: 0.8518\n",
            "Epoch 14/20\n",
            "49/49 [==============================] - 1s 15ms/step - loss: 0.0496 - acc: 0.9849 - val_loss: 0.5723 - val_acc: 0.8564\n",
            "Epoch 15/20\n",
            "49/49 [==============================] - 1s 13ms/step - loss: 0.0448 - acc: 0.9866 - val_loss: 0.6176 - val_acc: 0.8525\n",
            "Epoch 16/20\n",
            "49/49 [==============================] - 1s 13ms/step - loss: 0.0393 - acc: 0.9880 - val_loss: 0.6450 - val_acc: 0.8506\n",
            "Epoch 17/20\n",
            "49/49 [==============================] - 1s 13ms/step - loss: 0.0340 - acc: 0.9901 - val_loss: 0.6765 - val_acc: 0.8497\n",
            "Epoch 18/20\n",
            "49/49 [==============================] - 1s 13ms/step - loss: 0.0335 - acc: 0.9900 - val_loss: 0.7143 - val_acc: 0.8486\n",
            "Epoch 19/20\n",
            "49/49 [==============================] - 1s 13ms/step - loss: 0.0253 - acc: 0.9934 - val_loss: 0.7561 - val_acc: 0.8476\n",
            "Epoch 20/20\n",
            "49/49 [==============================] - 1s 13ms/step - loss: 0.0248 - acc: 0.9930 - val_loss: 0.7959 - val_acc: 0.8472\n"
          ]
        }
      ],
      "source": [
        "model_1_hist = model_1.fit(x_train, y_train,\n",
        "                           epochs=20,\n",
        "                           batch_size=512,\n",
        "                           validation_data=(x_test, y_test))"
      ]
    },
    {
      "cell_type": "code",
      "execution_count": 11,
      "metadata": {
        "id": "kvj6-Zu5wUPw"
      },
      "outputs": [
        {
          "name": "stdout",
          "output_type": "stream",
          "text": [
            "Epoch 1/20\n",
            "49/49 [==============================] - 2s 24ms/step - loss: 0.5274 - acc: 0.8012 - val_loss: 0.4201 - val_acc: 0.8634\n",
            "Epoch 2/20\n",
            "49/49 [==============================] - 1s 14ms/step - loss: 0.3298 - acc: 0.8992 - val_loss: 0.3219 - val_acc: 0.8850\n",
            "Epoch 3/20\n",
            "49/49 [==============================] - 1s 13ms/step - loss: 0.2448 - acc: 0.9208 - val_loss: 0.2870 - val_acc: 0.8902\n",
            "Epoch 4/20\n",
            "49/49 [==============================] - 1s 14ms/step - loss: 0.1998 - acc: 0.9330 - val_loss: 0.2867 - val_acc: 0.8858\n",
            "Epoch 5/20\n",
            "49/49 [==============================] - 1s 14ms/step - loss: 0.1710 - acc: 0.9423 - val_loss: 0.2837 - val_acc: 0.8874\n",
            "Epoch 6/20\n",
            "49/49 [==============================] - 1s 14ms/step - loss: 0.1476 - acc: 0.9514 - val_loss: 0.2919 - val_acc: 0.8858\n",
            "Epoch 7/20\n",
            "49/49 [==============================] - 1s 13ms/step - loss: 0.1289 - acc: 0.9588 - val_loss: 0.3149 - val_acc: 0.8789\n",
            "Epoch 8/20\n",
            "49/49 [==============================] - 1s 13ms/step - loss: 0.1139 - acc: 0.9639 - val_loss: 0.3211 - val_acc: 0.8790\n",
            "Epoch 9/20\n",
            "49/49 [==============================] - 1s 13ms/step - loss: 0.1004 - acc: 0.9688 - val_loss: 0.3443 - val_acc: 0.8737\n",
            "Epoch 10/20\n",
            "49/49 [==============================] - 1s 13ms/step - loss: 0.0886 - acc: 0.9734 - val_loss: 0.3663 - val_acc: 0.8698\n",
            "Epoch 11/20\n",
            "49/49 [==============================] - 1s 13ms/step - loss: 0.0774 - acc: 0.9781 - val_loss: 0.3770 - val_acc: 0.8702\n",
            "Epoch 12/20\n",
            "49/49 [==============================] - 1s 13ms/step - loss: 0.0681 - acc: 0.9808 - val_loss: 0.4000 - val_acc: 0.8696\n",
            "Epoch 13/20\n",
            "49/49 [==============================] - 1s 13ms/step - loss: 0.0581 - acc: 0.9852 - val_loss: 0.4272 - val_acc: 0.8654\n",
            "Epoch 14/20\n",
            "49/49 [==============================] - 1s 13ms/step - loss: 0.0509 - acc: 0.9873 - val_loss: 0.4438 - val_acc: 0.8640\n",
            "Epoch 15/20\n",
            "49/49 [==============================] - 1s 13ms/step - loss: 0.0433 - acc: 0.9898 - val_loss: 0.4685 - val_acc: 0.8644\n",
            "Epoch 16/20\n",
            "49/49 [==============================] - 1s 13ms/step - loss: 0.0380 - acc: 0.9913 - val_loss: 0.4929 - val_acc: 0.8613\n",
            "Epoch 17/20\n",
            "49/49 [==============================] - 1s 13ms/step - loss: 0.0319 - acc: 0.9930 - val_loss: 0.5202 - val_acc: 0.8595\n",
            "Epoch 18/20\n",
            "49/49 [==============================] - 1s 13ms/step - loss: 0.0265 - acc: 0.9947 - val_loss: 0.5583 - val_acc: 0.8582\n",
            "Epoch 19/20\n",
            "49/49 [==============================] - 1s 13ms/step - loss: 0.0224 - acc: 0.9956 - val_loss: 0.5845 - val_acc: 0.8565\n",
            "Epoch 20/20\n",
            "49/49 [==============================] - 1s 13ms/step - loss: 0.0190 - acc: 0.9965 - val_loss: 0.6208 - val_acc: 0.8549\n"
          ]
        }
      ],
      "source": [
        "model_2_hist = model_2.fit(x_train, y_train,\n",
        "                           epochs=20,\n",
        "                           batch_size=512,\n",
        "                           validation_data=(x_test, y_test))"
      ]
    },
    {
      "cell_type": "markdown",
      "metadata": {
        "id": "AasztxUFxlLp"
      },
      "source": [
        "#### 비교"
      ]
    },
    {
      "cell_type": "code",
      "execution_count": 12,
      "metadata": {
        "id": "W-6Wsh9GwULZ"
      },
      "outputs": [],
      "source": [
        "epochs = range(1, 21)\n",
        "model_1_val_loss = model_1_hist.history['val_loss']\n",
        "model_2_val_loss = model_2_hist.history['val_loss']"
      ]
    },
    {
      "cell_type": "code",
      "execution_count": 13,
      "metadata": {
        "id": "jbtSXzhBwUHl"
      },
      "outputs": [],
      "source": [
        "import matplotlib.pyplot as plt\n",
        "%matplotlib inline \n",
        "plt.style.use('seaborn-white')"
      ]
    },
    {
      "cell_type": "markdown",
      "metadata": {
        "id": "Cv89efVDyRFF"
      },
      "source": [
        "model_2 (더 작은 모델)이 '조금 더 나중에' 과대적합 발생"
      ]
    },
    {
      "cell_type": "code",
      "execution_count": 84,
      "metadata": {
        "id": "E3mNd2HLxxwk"
      },
      "outputs": [
        {
          "data": {
            "image/png": "[encoded data removed]",
            "text/plain": [
              "<Figure size 432x288 with 1 Axes>"
            ]
          },
          "metadata": {},
          "output_type": "display_data"
        }
      ],
      "source": [
        "plt.plot(epochs, model_1_val_loss, 'r+', label='Model 1')\n",
        "plt.plot(epochs, model_2_val_loss, 'bo', label='Model 2')\n",
        "plt.xlabel('Epochs')\n",
        "plt.ylabel('Validation Loss')\n",
        "plt.legend()\n",
        "plt.grid()\n",
        "\n",
        "plt.show()"
      ]
    },
    {
      "cell_type": "markdown",
      "metadata": {
        "id": "_wprAXPZyY5L"
      },
      "source": [
        "### 모델의 크기 축소 (2)\n"
      ]
    },
    {
      "cell_type": "markdown",
      "metadata": {
        "id": "hbgdN2fJyewH"
      },
      "source": [
        "#### 모델 구성"
      ]
    },
    {
      "cell_type": "code",
      "execution_count": 15,
      "metadata": {
        "id": "oxboLrD0xxsJ"
      },
      "outputs": [
        {
          "name": "stdout",
          "output_type": "stream",
          "text": [
            "Model: \"sequential_2\"\n",
            "_________________________________________________________________\n",
            " Layer (type)                Output Shape              Param #   \n",
            "=================================================================\n",
            " input3 (Dense)              (None, 1024)              10241024  \n",
            "                                                                 \n",
            " hidden3 (Dense)             (None, 1024)              1049600   \n",
            "                                                                 \n",
            " output3 (Dense)             (None, 1)                 1025      \n",
            "                                                                 \n",
            "=================================================================\n",
            "Total params: 11,291,649\n",
            "Trainable params: 11,291,649\n",
            "Non-trainable params: 0\n",
            "_________________________________________________________________\n"
          ]
        }
      ],
      "source": [
        "model_3 = Sequential([Dense(1024, activation='relu', input_shape=(10000, ), name='input3'),\n",
        "                      Dense(1024, activation='relu', name='hidden3'),\n",
        "                      Dense(1, activation='sigmoid', name='output3')])\n",
        "\n",
        "model_3.compile(optimizer='rmsprop',\n",
        "                loss='binary_crossentropy',\n",
        "                metrics=['acc'])\n",
        "\n",
        "model_3.summary()"
      ]
    },
    {
      "cell_type": "markdown",
      "metadata": {
        "id": "3cxKVbloyvpR"
      },
      "source": [
        "#### 모델 학습\n",
        "- 시간 소요"
      ]
    },
    {
      "cell_type": "code",
      "execution_count": 16,
      "metadata": {
        "id": "C43sbIsCyu7A"
      },
      "outputs": [
        {
          "name": "stdout",
          "output_type": "stream",
          "text": [
            "Epoch 1/20\n",
            "49/49 [==============================] - 8s 164ms/step - loss: 0.5510 - acc: 0.7944 - val_loss: 0.3998 - val_acc: 0.8175\n",
            "Epoch 2/20\n",
            "49/49 [==============================] - 7s 147ms/step - loss: 0.2211 - acc: 0.9122 - val_loss: 0.2985 - val_acc: 0.8808\n",
            "Epoch 3/20\n",
            "49/49 [==============================] - 7s 151ms/step - loss: 0.1205 - acc: 0.9570 - val_loss: 0.3664 - val_acc: 0.8773\n",
            "Epoch 4/20\n",
            "49/49 [==============================] - 7s 146ms/step - loss: 0.0751 - acc: 0.9818 - val_loss: 0.5117 - val_acc: 0.8666\n",
            "Epoch 5/20\n",
            "49/49 [==============================] - 7s 144ms/step - loss: 0.1099 - acc: 0.9874 - val_loss: 0.4501 - val_acc: 0.8809\n",
            "Epoch 6/20\n",
            "49/49 [==============================] - 7s 142ms/step - loss: 0.0010 - acc: 0.9999 - val_loss: 0.7434 - val_acc: 0.8777\n",
            "Epoch 7/20\n",
            "49/49 [==============================] - 7s 142ms/step - loss: 4.0885e-04 - acc: 1.0000 - val_loss: 0.8510 - val_acc: 0.8828\n",
            "Epoch 8/20\n",
            "49/49 [==============================] - 7s 142ms/step - loss: 6.7684e-06 - acc: 1.0000 - val_loss: 1.0121 - val_acc: 0.8826\n",
            "Epoch 9/20\n",
            "49/49 [==============================] - 7s 142ms/step - loss: 6.8465e-07 - acc: 1.0000 - val_loss: 1.1689 - val_acc: 0.8816\n",
            "Epoch 10/20\n",
            "49/49 [==============================] - 7s 142ms/step - loss: 1.1177e-07 - acc: 1.0000 - val_loss: 1.2934 - val_acc: 0.8823\n",
            "Epoch 11/20\n",
            "49/49 [==============================] - 7s 143ms/step - loss: 2.9940e-08 - acc: 1.0000 - val_loss: 1.3743 - val_acc: 0.8825\n",
            "Epoch 12/20\n",
            "49/49 [==============================] - 7s 143ms/step - loss: 1.4602e-08 - acc: 1.0000 - val_loss: 1.4169 - val_acc: 0.8820\n",
            "Epoch 13/20\n",
            "49/49 [==============================] - 8s 159ms/step - loss: 9.5886e-09 - acc: 1.0000 - val_loss: 1.4461 - val_acc: 0.8821\n",
            "Epoch 14/20\n",
            "49/49 [==============================] - 7s 141ms/step - loss: 7.1586e-09 - acc: 1.0000 - val_loss: 1.4646 - val_acc: 0.8821\n",
            "Epoch 15/20\n",
            "49/49 [==============================] - 7s 142ms/step - loss: 5.7305e-09 - acc: 1.0000 - val_loss: 1.4808 - val_acc: 0.8821\n",
            "Epoch 16/20\n",
            "49/49 [==============================] - 8s 162ms/step - loss: 4.7836e-09 - acc: 1.0000 - val_loss: 1.4950 - val_acc: 0.8819\n",
            "Epoch 17/20\n",
            "49/49 [==============================] - 7s 148ms/step - loss: 4.1373e-09 - acc: 1.0000 - val_loss: 1.5044 - val_acc: 0.8820\n",
            "Epoch 18/20\n",
            "49/49 [==============================] - 8s 166ms/step - loss: 3.6371e-09 - acc: 1.0000 - val_loss: 1.5147 - val_acc: 0.8821\n",
            "Epoch 19/20\n",
            "49/49 [==============================] - 7s 148ms/step - loss: 3.2464e-09 - acc: 1.0000 - val_loss: 1.5244 - val_acc: 0.8817\n",
            "Epoch 20/20\n",
            "49/49 [==============================] - 7s 152ms/step - loss: 2.9494e-09 - acc: 1.0000 - val_loss: 1.5314 - val_acc: 0.8816\n"
          ]
        }
      ],
      "source": [
        "model_3_hist = model_3.fit(x_train, y_train,\n",
        "                           epochs=20,\n",
        "                           batch_size=512,\n",
        "                           validation_data=(x_test, y_test))"
      ]
    },
    {
      "cell_type": "markdown",
      "metadata": {
        "id": "xeiG_rHIzX6F"
      },
      "source": [
        "#### 시각화"
      ]
    },
    {
      "cell_type": "code",
      "execution_count": 17,
      "metadata": {},
      "outputs": [],
      "source": [
        "model_3_val_loss = model_3_hist.history['val_loss']"
      ]
    },
    {
      "cell_type": "code",
      "execution_count": 20,
      "metadata": {
        "id": "UNFhd4hnyu3p"
      },
      "outputs": [
        {
          "data": {
            "image/png": "[encoded data removed]",
            "text/plain": [
              "<Figure size 432x288 with 1 Axes>"
            ]
          },
          "metadata": {},
          "output_type": "display_data"
        }
      ],
      "source": [
        "plt.plot(epochs, model_1_val_loss, 'r+', label='Model 1')\n",
        "plt.plot(epochs, model_2_val_loss, 'bo', label='Model 2')\n",
        "plt.plot(epochs, model_3_val_loss, 'g--', label='Model 3')\n",
        "plt.xlabel('Epochs')\n",
        "plt.ylabel('Validation Loss')\n",
        "plt.legend()\n",
        "plt.grid()\n",
        "\n",
        "plt.show()"
      ]
    },
    {
      "cell_type": "markdown",
      "metadata": {
        "id": "mMu_Mpi40Re6"
      },
      "source": [
        "* 볼륨이 큰 신경망일수록 빠르게 훈련데이터 모델링 가능(학습 손실이 낮아짐)\n",
        "* 과대 적합에는 더욱 민감해짐\n",
        "* 이는 학습-검증 데이터의 손실을 보면 알 수 있음"
      ]
    },
    {
      "cell_type": "code",
      "execution_count": 33,
      "metadata": {},
      "outputs": [
        {
          "data": {
            "text/plain": [
              "dict_keys(['loss', 'acc', 'val_loss', 'val_acc'])"
            ]
          },
          "execution_count": 33,
          "metadata": {},
          "output_type": "execute_result"
        }
      ],
      "source": [
        "model_1_hist.history.keys()"
      ]
    },
    {
      "cell_type": "code",
      "execution_count": 35,
      "metadata": {
        "id": "Ro9vewyOyuv0"
      },
      "outputs": [
        {
          "data": {
            "image/png": "[encoded data removed]",
            "text/plain": [
              "<Figure size 432x288 with 1 Axes>"
            ]
          },
          "metadata": {},
          "output_type": "display_data"
        }
      ],
      "source": [
        "model_1_train_loss = model_1_hist.history['loss']\n",
        "model_2_train_loss = model_2_hist.history['loss']\n",
        "model_3_train_loss = model_3_hist.history['loss']\n",
        "\n",
        "plt.plot(epochs, model_1_train_loss, 'r+', label='Model 1')\n",
        "plt.plot(epochs, model_2_train_loss, 'bo', label='Model 2')\n",
        "plt.plot(epochs, model_3_train_loss, 'g--', label='Model 3')\n",
        "plt.xlabel('Epochs')\n",
        "plt.ylabel('Validation Loss')\n",
        "plt.legend()\n",
        "plt.grid()\n",
        "\n",
        "plt.show()"
      ]
    },
    {
      "cell_type": "markdown",
      "metadata": {
        "id": "yN4NPzGxzWP1"
      },
      "source": [
        "### 가중치 초기화\n"
      ]
    },
    {
      "cell_type": "markdown",
      "metadata": {
        "id": "KLRQayA6KcX8"
      },
      "source": [
        "#### 초기화 전략\n",
        "\n",
        "- Glorot Initialization (Xavier)\n",
        "  - 활성화 함수  \n",
        "    - 없음\n",
        "    - tanh\n",
        "    - sigmoid\n",
        "    - softmax\n",
        "\n",
        "- He Initialization \n",
        "  - 활성화 함수  \n",
        "    - ReLU\n",
        "    - LeakyReLU\n",
        "    - ELU 등\n",
        "\n",
        "    "
      ]
    },
    {
      "cell_type": "code",
      "execution_count": 38,
      "metadata": {
        "id": "NJy2-2lXLa0i"
      },
      "outputs": [],
      "source": [
        "from tensorflow.keras.layers import Dense, LeakyReLU, Activation\n",
        "from tensorflow.keras.models import Sequential"
      ]
    },
    {
      "cell_type": "code",
      "execution_count": 41,
      "metadata": {
        "id": "A9vpl6Gj4C3D"
      },
      "outputs": [
        {
          "name": "stdout",
          "output_type": "stream",
          "text": [
            "Model: \"sequential_3\"\n",
            "_________________________________________________________________\n",
            " Layer (type)                Output Shape              Param #   \n",
            "=================================================================\n",
            " dense_3 (Dense)             (None, 10, 30)            330       \n",
            "                                                                 \n",
            " leaky_re_lu (LeakyReLU)     (None, 10, 30)            0         \n",
            "                                                                 \n",
            " dense_4 (Dense)             (None, 10, 1)             31        \n",
            "                                                                 \n",
            " activation (Activation)     (None, 10, 1)             0         \n",
            "                                                                 \n",
            "=================================================================\n",
            "Total params: 361\n",
            "Trainable params: 361\n",
            "Non-trainable params: 0\n",
            "_________________________________________________________________\n"
          ]
        }
      ],
      "source": [
        "model = Sequential([Dense(30, kernel_initializer='he_normal', input_shape=[10,10]),\n",
        "                    LeakyReLU(alpha=0.2),\n",
        "                    Dense(1, kernel_initializer='he_normal'),\n",
        "                    Activation('softmax')])\n",
        "\n",
        "model.summary()"
      ]
    },
    {
      "cell_type": "markdown",
      "metadata": {
        "id": "MJ-qfqIszX2r"
      },
      "source": [
        "### 고속 옵티마이저"
      ]
    },
    {
      "cell_type": "markdown",
      "metadata": {
        "id": "RRNxoDg2ePqe"
      },
      "source": [
        "#### 모멘텀 최적화\n",
        "\n",
        "$\n",
        "\\qquad v \\ \\leftarrow \\ \\alpha \\ v - \\gamma \\ \\frac{\\partial L}{\\partial W} \\\\\n",
        "\\qquad W \\ \\leftarrow \\ W \\ + \\ v\n",
        "$\n",
        "\n",
        "  - $\\alpha\\ $ : 관성계수 \n",
        "\n",
        "  - $v$ :  속도\n",
        "\n",
        "  - $\\gamma\\ $ : 학습률\n",
        "\n",
        "  - $\\frac{\\partial L}{\\partial W}\\ $ : 손실함수에 대한 미분"
      ]
    },
    {
      "cell_type": "code",
      "execution_count": 43,
      "metadata": {
        "id": "Sf0b9AlvzaQk"
      },
      "outputs": [],
      "source": [
        "import tensorflow as tf \n",
        "from tensorflow.keras.optimizers import SGD "
      ]
    },
    {
      "cell_type": "code",
      "execution_count": 44,
      "metadata": {
        "id": "t6yxEpN1edGO"
      },
      "outputs": [],
      "source": [
        "optimizer = SGD(learning_rate=0.01, momentum=0.9)"
      ]
    },
    {
      "cell_type": "markdown",
      "metadata": {
        "id": "BTYgA4r8ePLk"
      },
      "source": [
        "#### 네스테로프 (Nesterov)\n",
        "\n",
        "- 모멘텀의 방향으로 조금 앞선 곳에서 손실함수의 그라디언트를 구함\n",
        "\n",
        "- 시간이 지날수록 조금 더 빨리 최솟값에 도달\n",
        "\n",
        "$\n",
        "\\qquad m \\ \\leftarrow \\  \\beta m - \\eta \\bigtriangledown_\\theta J(\\theta + \\beta m) \\\\\n",
        "\\qquad \\theta \\ \\leftarrow \\ \\theta \\ + m\n",
        "$\n",
        "\n",
        "\n",
        "  - $h\\ $ : 기존 기울기를 제곱하여 더한 값\n",
        "\n",
        "  - $\\eta\\ $ : 학습률\n",
        "\n",
        "  - $\\bigtriangledown_\\theta J(\\theta) \\ $ : $\\theta$에 대한 미분(그라디언트)\n",
        "\n",
        "  <img src=\"https://t1.daumcdn.net/cfile/tistory/99D91C455C76428D11\">\n",
        "\n",
        "  <sub>출처: CS231n</sub>"
      ]
    },
    {
      "cell_type": "code",
      "execution_count": 45,
      "metadata": {
        "id": "EzNkLS48eoW_"
      },
      "outputs": [],
      "source": [
        "optimizer = SGD(learning_rate=0.01, momentum=0.9, nesterov=True)"
      ]
    },
    {
      "cell_type": "markdown",
      "metadata": {
        "id": "UcY8kkknewpB"
      },
      "source": [
        "#### AdaGrad\n",
        "\n",
        "- 보통 간단한 모델에는 효과 좋을 수는 있으나, 심층 신경망 모델에서는 사용 X\n",
        "\n",
        "$\n",
        "\\qquad h \\ \\leftarrow \\  h + \\frac{\\partial L}{\\partial W} \\odot \\frac{\\partial L}{\\partial W} \\\\\n",
        "\\qquad W \\ \\leftarrow \\ W \\ + \\gamma \\frac{1}{\\sqrt h} \\ \\frac{\\partial L}{\\partial W}\n",
        "$\n",
        "\n",
        "  - $h\\ $ : 기존 기울기를 제곱하여 더한 값\n",
        "\n",
        "  - $\\gamma\\ $ : 학습률\n",
        "\n",
        "  - $\\frac{\\partial L}{\\partial W}\\ $ : $W$에 대한 미분\n"
      ]
    },
    {
      "cell_type": "code",
      "execution_count": 46,
      "metadata": {
        "id": "PU_alkIreycK"
      },
      "outputs": [],
      "source": [
        "from tensorflow.keras.optimizers import Adagrad "
      ]
    },
    {
      "cell_type": "code",
      "execution_count": 47,
      "metadata": {
        "id": "_PB1OADzfOET"
      },
      "outputs": [],
      "source": [
        "optimizer = Adagrad(learning_rate=0.001)"
      ]
    },
    {
      "cell_type": "markdown",
      "metadata": {
        "id": "Js5uwi6lfYO_"
      },
      "source": [
        "#### RMSProp\n",
        "\n",
        "\n",
        "$\n",
        "\\qquad s \\ \\leftarrow \\ \\beta \\ s + (1 - \\beta) \\bigtriangledown_{\\theta} J(\\theta) \\otimes \\bigtriangledown_{\\theta} J(\\theta) \\\\\n",
        "\\qquad \\theta \\ \\leftarrow \\ \\theta \\ - \\eta  \\ \\bigtriangledown_{\\theta} J(\\theta) \\oslash \\sqrt{s + \\epsilon}\n",
        "$\n",
        "\n",
        "  - $s \\ $ : 그래디언트의 제곱을 감쇠율을 곱한 후 더함\n",
        "\n",
        "  - $\\eta\\ $ : 학습률\n",
        "\n",
        "  - $\\bigtriangledown_{\\theta} J(\\theta) \\ $ : 손실함수의 미분값\n",
        "\n",
        "\n",
        "  "
      ]
    },
    {
      "cell_type": "code",
      "execution_count": 48,
      "metadata": {
        "id": "WEDCQVzofc2U"
      },
      "outputs": [],
      "source": [
        "from tensorflow.keras.optimizers import RMSprop"
      ]
    },
    {
      "cell_type": "code",
      "execution_count": 49,
      "metadata": {
        "id": "44v7Nu8Gfg8H"
      },
      "outputs": [],
      "source": [
        "optimizer = RMSprop(learning_rate=0.001, rho=0.9)"
      ]
    },
    {
      "cell_type": "markdown",
      "metadata": {
        "id": "Y8UhxclQfl2h"
      },
      "source": [
        "#### Adam\n",
        "\n",
        "$\n",
        "\\qquad m \\ \\leftarrow \\  \\beta_1 \\ m - (1 - \\beta_1)\\ \\frac{\\partial L}{\\partial W}  \\\\\n",
        "\\qquad s \\ \\leftarrow \\ \\beta_2 \\ s + (1 - \\beta_2) \\frac{\\partial L}{\\partial W} \\odot \\frac{\\partial L}{\\partial W} \\\\\n",
        "\\qquad \\hat{m} \\ \\leftarrow \\frac{m}{1 - \\beta_1^t} \\\\\n",
        "\\qquad \\hat{s} \\ \\leftarrow \\frac{s}{1 - \\beta_2^t} \\\\\n",
        "\\qquad W \\ \\leftarrow \\ W \\ + \\gamma \\ \\hat{m}\\  \\oslash \\sqrt{\\hat{s} + \\epsilon}\n",
        "$\n",
        "\n",
        "  - $\\beta\\ $ : 지수 평균의 업데이트 계수\n",
        "\n",
        "  - $\\gamma\\ $ : 학습률\n",
        "\n",
        "  - $\\beta_1 \\approx 0.9\\ ,\\ \\ \\beta_2 \\approx 0.999$\n",
        "\n",
        "  - $\\frac{\\partial L}{\\partial W}\\ $ : $W$에 대한 미분"
      ]
    },
    {
      "cell_type": "code",
      "execution_count": 51,
      "metadata": {
        "id": "5uPmICAYfg5q"
      },
      "outputs": [],
      "source": [
        "from tensorflow.keras.optimizers import Adam"
      ]
    },
    {
      "cell_type": "code",
      "execution_count": 52,
      "metadata": {
        "id": "Dq8C4XTYfg2e"
      },
      "outputs": [],
      "source": [
        "optimizer = Adam(learning_rate=0.001, beta_1=0.9, beta_2=0.999)"
      ]
    },
    {
      "cell_type": "markdown",
      "metadata": {
        "id": "kJBvCWbezZYk"
      },
      "source": [
        "### 배치 정규화\n",
        "- 모델에 주입되는 샘플들을 균일하게 만드는 방법\n",
        "\n",
        "- 학습 후 새로운 데이터에 잘 일반화 할 수 있도록 도와줌\n",
        "\n",
        "- 데이터 전처리 단계에서 진행해도 되지만 정규화가 되어서 layer에 들어갔다는 보장이 없음\n",
        "\n",
        "- 주로 **Dense** 또는 **Conv2D** Layer 후, **활성화 함수**이전에 놓임\n"
      ]
    },
    {
      "cell_type": "code",
      "execution_count": 60,
      "metadata": {
        "id": "rxU6fA0A4HrM"
      },
      "outputs": [],
      "source": [
        "from tensorflow.keras.layers import BatchNormalization, Dense, Activation\n",
        "from tensorflow.keras.utils import plot_model"
      ]
    },
    {
      "cell_type": "code",
      "execution_count": 61,
      "metadata": {
        "id": "0igMU8uIzZAF"
      },
      "outputs": [
        {
          "name": "stdout",
          "output_type": "stream",
          "text": [
            "Model: \"sequential_6\"\n",
            "_________________________________________________________________\n",
            " Layer (type)                Output Shape              Param #   \n",
            "=================================================================\n",
            " dense_7 (Dense)             (None, 32)                25120     \n",
            "                                                                 \n",
            " batch_normalization_2 (Batc  (None, 32)               128       \n",
            " hNormalization)                                                 \n",
            "                                                                 \n",
            " activation_3 (Activation)   (None, 32)                0         \n",
            "                                                                 \n",
            "=================================================================\n",
            "Total params: 25,248\n",
            "Trainable params: 25,184\n",
            "Non-trainable params: 64\n",
            "_________________________________________________________________\n",
            "You must install pydot (`pip install pydot`) and install graphviz (see instructions at https://graphviz.gitlab.io/download/) for plot_model to work.\n"
          ]
        }
      ],
      "source": [
        "model = Sequential()\n",
        "\n",
        "model.add(Dense(32, input_shape=(28*28, ), kernel_initializer='he_normal'))\n",
        "model.add(BatchNormalization()),\n",
        "model.add(Activation('relu'))\n",
        "\n",
        "model.summary()\n",
        "\n",
        "plot_model(model)"
      ]
    },
    {
      "cell_type": "markdown",
      "metadata": {
        "id": "EQzTjO9pzeOF"
      },
      "source": [
        "### 규제화\n",
        "- 복잡한 네트워크 일수록 네트워크의 복잡도에 제한을 두어  \n",
        "  가중치가 작은 값을 가지도록 함\n",
        "\n",
        "- 가중치의 분포가 더 균일하게 됨\n",
        "\n",
        "- 네트워크 손실함수에 큰 가중치에 연관된 비용을 추가\n",
        "  - L1 규제 : 가중치의 절댓값에 비례하는 비용이 추가\n",
        "  - L2 규제 : 가중치의 제곱에 비례하는 비용이 추가(흔히 가중치 감쇠라고도 불림)\n",
        "  - 위 2규제가 합쳐진 경우도 존재"
      ]
    },
    {
      "cell_type": "markdown",
      "metadata": {
        "id": "IlNRw0Os6nva"
      },
      "source": [
        "데이터는 **모델의 크기** 파트에서 사용된 imdb dataset"
      ]
    },
    {
      "cell_type": "code",
      "execution_count": 62,
      "metadata": {
        "id": "8i1DeU7jzghS"
      },
      "outputs": [],
      "source": [
        "from tensorflow.keras.regularizers import l1, l2, l1_l2"
      ]
    },
    {
      "cell_type": "markdown",
      "metadata": {
        "id": "lprLPcG45OTJ"
      },
      "source": [
        "#### 모델 구성"
      ]
    },
    {
      "cell_type": "code",
      "execution_count": 63,
      "metadata": {
        "id": "oaGfymuG5K-d"
      },
      "outputs": [
        {
          "name": "stdout",
          "output_type": "stream",
          "text": [
            "Model: \"sequential_7\"\n",
            "_________________________________________________________________\n",
            " Layer (type)                Output Shape              Param #   \n",
            "=================================================================\n",
            " dense_8 (Dense)             (None, 16)                160016    \n",
            "                                                                 \n",
            " dense_9 (Dense)             (None, 16)                272       \n",
            "                                                                 \n",
            " dense_10 (Dense)            (None, 1)                 17        \n",
            "                                                                 \n",
            "=================================================================\n",
            "Total params: 160,305\n",
            "Trainable params: 160,305\n",
            "Non-trainable params: 0\n",
            "_________________________________________________________________\n",
            "You must install pydot (`pip install pydot`) and install graphviz (see instructions at https://graphviz.gitlab.io/download/) for plot_model to work.\n"
          ]
        }
      ],
      "source": [
        "l2_model = Sequential([Dense(16, kernel_regularizer=l2(0.001), activation='relu', input_shape=(10000, )),\n",
        "                       Dense(16, kernel_regularizer=l2(0.001), activation='relu'),\n",
        "                       Dense(1, activation='sigmoid')])\n",
        "\n",
        "l2_model.compile(optimizer='rmsprop',\n",
        "                 loss='binary_crossentropy',\n",
        "                 metrics=['acc'])\n",
        "\n",
        "l2_model.summary() \n",
        "plot_model(l2_model, show_shapes=True)"
      ]
    },
    {
      "cell_type": "markdown",
      "metadata": {
        "id": "sxREnpS7573M"
      },
      "source": [
        "#### 모델 학습"
      ]
    },
    {
      "cell_type": "code",
      "execution_count": 65,
      "metadata": {
        "id": "LyAwuDMG5p2v"
      },
      "outputs": [
        {
          "name": "stdout",
          "output_type": "stream",
          "text": [
            "Epoch 1/20\n",
            "49/49 [==============================] - 1s 22ms/step - loss: 0.1924 - acc: 0.9504 - val_loss: 0.4562 - val_acc: 0.8559\n",
            "Epoch 2/20\n",
            "49/49 [==============================] - 1s 14ms/step - loss: 0.1865 - acc: 0.9531 - val_loss: 0.4149 - val_acc: 0.8696\n",
            "Epoch 3/20\n",
            "49/49 [==============================] - 1s 14ms/step - loss: 0.1879 - acc: 0.9526 - val_loss: 0.4146 - val_acc: 0.8698\n",
            "Epoch 4/20\n",
            "49/49 [==============================] - 1s 14ms/step - loss: 0.1879 - acc: 0.9524 - val_loss: 0.4202 - val_acc: 0.8681\n",
            "Epoch 5/20\n",
            "49/49 [==============================] - 1s 14ms/step - loss: 0.1799 - acc: 0.9557 - val_loss: 0.4255 - val_acc: 0.8678\n",
            "Epoch 6/20\n",
            "49/49 [==============================] - 1s 14ms/step - loss: 0.1836 - acc: 0.9539 - val_loss: 0.4279 - val_acc: 0.8667\n",
            "Epoch 7/20\n",
            "49/49 [==============================] - 1s 13ms/step - loss: 0.1837 - acc: 0.9525 - val_loss: 0.4307 - val_acc: 0.8656\n",
            "Epoch 8/20\n",
            "49/49 [==============================] - 1s 13ms/step - loss: 0.1755 - acc: 0.9571 - val_loss: 0.4279 - val_acc: 0.8680\n",
            "Epoch 9/20\n",
            "49/49 [==============================] - 1s 13ms/step - loss: 0.1745 - acc: 0.9570 - val_loss: 0.4500 - val_acc: 0.8648\n",
            "Epoch 10/20\n",
            "49/49 [==============================] - 1s 14ms/step - loss: 0.1744 - acc: 0.9574 - val_loss: 0.4343 - val_acc: 0.8677\n",
            "Epoch 11/20\n",
            "49/49 [==============================] - 1s 13ms/step - loss: 0.1718 - acc: 0.9585 - val_loss: 0.4386 - val_acc: 0.8675\n",
            "Epoch 12/20\n",
            "49/49 [==============================] - 1s 13ms/step - loss: 0.1695 - acc: 0.9597 - val_loss: 0.4440 - val_acc: 0.8681\n",
            "Epoch 13/20\n",
            "49/49 [==============================] - 1s 13ms/step - loss: 0.1672 - acc: 0.9599 - val_loss: 0.4435 - val_acc: 0.8663\n",
            "Epoch 14/20\n",
            "49/49 [==============================] - 1s 12ms/step - loss: 0.1651 - acc: 0.9614 - val_loss: 0.4473 - val_acc: 0.8656\n",
            "Epoch 15/20\n",
            "49/49 [==============================] - 1s 13ms/step - loss: 0.1684 - acc: 0.9586 - val_loss: 0.4448 - val_acc: 0.8677\n",
            "Epoch 16/20\n",
            "49/49 [==============================] - 1s 13ms/step - loss: 0.1585 - acc: 0.9659 - val_loss: 0.4461 - val_acc: 0.8662\n",
            "Epoch 17/20\n",
            "49/49 [==============================] - 1s 12ms/step - loss: 0.1560 - acc: 0.9645 - val_loss: 0.4465 - val_acc: 0.8674\n",
            "Epoch 18/20\n",
            "49/49 [==============================] - 1s 13ms/step - loss: 0.1579 - acc: 0.9639 - val_loss: 0.4730 - val_acc: 0.8617\n",
            "Epoch 19/20\n",
            "49/49 [==============================] - 1s 13ms/step - loss: 0.1535 - acc: 0.9666 - val_loss: 0.4538 - val_acc: 0.8654\n",
            "Epoch 20/20\n",
            "49/49 [==============================] - 1s 12ms/step - loss: 0.1512 - acc: 0.9670 - val_loss: 0.5154 - val_acc: 0.8523\n"
          ]
        }
      ],
      "source": [
        "l2_model_hist = l2_model.fit(x_train, y_train,\n",
        "                epochs=20,\n",
        "                batch_size=512,\n",
        "                validation_data=(x_test, y_test))"
      ]
    },
    {
      "cell_type": "markdown",
      "metadata": {
        "id": "9ncu8EfhBMSp"
      },
      "source": [
        "#### 시각화\n",
        "- Model 1은 **모델의 크기 축소**파트에서의 모델"
      ]
    },
    {
      "cell_type": "code",
      "execution_count": 67,
      "metadata": {},
      "outputs": [
        {
          "data": {
            "text/plain": [
              "dict_keys(['loss', 'acc', 'val_loss', 'val_acc'])"
            ]
          },
          "execution_count": 67,
          "metadata": {},
          "output_type": "execute_result"
        }
      ],
      "source": [
        "l2_model_hist.history.keys()"
      ]
    },
    {
      "cell_type": "code",
      "execution_count": 69,
      "metadata": {
        "id": "9bT9d1Ov5-g3"
      },
      "outputs": [
        {
          "data": {
            "image/png": "[encoded data removed]",
            "text/plain": [
              "<Figure size 432x288 with 1 Axes>"
            ]
          },
          "metadata": {},
          "output_type": "display_data"
        }
      ],
      "source": [
        "l2_model_val_loss = l2_model_hist.history['val_loss']\n",
        "\n",
        "epochs = range(1, 21)\n",
        "plt.plot(epochs, model_1_val_loss, 'r+', label='Model 1')\n",
        "plt.plot(epochs, l2_model_val_loss, 'bo', label='Model L2-regularized')\n",
        "plt.xlabel('Epochs')\n",
        "plt.ylabel('Validation Loss')\n",
        "plt.legend()\n",
        "plt.grid()\n",
        "\n",
        "plt.show()"
      ]
    },
    {
      "cell_type": "markdown",
      "metadata": {
        "id": "mSAicW_U7PBQ"
      },
      "source": [
        "#### L1과 비교"
      ]
    },
    {
      "cell_type": "code",
      "execution_count": 70,
      "metadata": {
        "id": "-aoBg6k16Ucv"
      },
      "outputs": [
        {
          "name": "stdout",
          "output_type": "stream",
          "text": [
            "Model: \"sequential_8\"\n",
            "_________________________________________________________________\n",
            " Layer (type)                Output Shape              Param #   \n",
            "=================================================================\n",
            " dense_11 (Dense)            (None, 16)                160016    \n",
            "                                                                 \n",
            " dense_12 (Dense)            (None, 16)                272       \n",
            "                                                                 \n",
            " dense_13 (Dense)            (None, 1)                 17        \n",
            "                                                                 \n",
            "=================================================================\n",
            "Total params: 160,305\n",
            "Trainable params: 160,305\n",
            "Non-trainable params: 0\n",
            "_________________________________________________________________\n",
            "You must install pydot (`pip install pydot`) and install graphviz (see instructions at https://graphviz.gitlab.io/download/) for plot_model to work.\n"
          ]
        }
      ],
      "source": [
        "l1_model = Sequential([Dense(16, kernel_regularizer=l1(0.0001), activation='relu', input_shape=(10000, )),\n",
        "                       Dense(16, kernel_regularizer=l1(0.0001), activation='relu'),\n",
        "                       Dense(1, activation='sigmoid')])\n",
        "\n",
        "l1_model.compile(optimizer='rmsprop',\n",
        "                 loss='binary_crossentropy',\n",
        "                 metrics=['acc'])\n",
        "\n",
        "l1_model.summary() \n",
        "plot_model(l1_model, show_shapes=True)"
      ]
    },
    {
      "cell_type": "code",
      "execution_count": 71,
      "metadata": {
        "id": "8CXp6Sae7vX_"
      },
      "outputs": [
        {
          "name": "stdout",
          "output_type": "stream",
          "text": [
            "Epoch 1/20\n",
            "49/49 [==============================] - 2s 24ms/step - loss: 0.5607 - acc: 0.8185 - val_loss: 0.4392 - val_acc: 0.8708\n",
            "Epoch 2/20\n",
            "49/49 [==============================] - 1s 16ms/step - loss: 0.3768 - acc: 0.8918 - val_loss: 0.3724 - val_acc: 0.8878\n",
            "Epoch 3/20\n",
            "49/49 [==============================] - 1s 16ms/step - loss: 0.3329 - acc: 0.9058 - val_loss: 0.4061 - val_acc: 0.8623\n",
            "Epoch 4/20\n",
            "49/49 [==============================] - 1s 16ms/step - loss: 0.3157 - acc: 0.9086 - val_loss: 0.3708 - val_acc: 0.8813\n",
            "Epoch 5/20\n",
            "49/49 [==============================] - 1s 14ms/step - loss: 0.3030 - acc: 0.9150 - val_loss: 0.3679 - val_acc: 0.8834\n",
            "Epoch 6/20\n",
            "49/49 [==============================] - 1s 14ms/step - loss: 0.2967 - acc: 0.9174 - val_loss: 0.3881 - val_acc: 0.8730\n",
            "Epoch 7/20\n",
            "49/49 [==============================] - 1s 14ms/step - loss: 0.2888 - acc: 0.9202 - val_loss: 0.3631 - val_acc: 0.8845\n",
            "Epoch 8/20\n",
            "49/49 [==============================] - 1s 14ms/step - loss: 0.2807 - acc: 0.9241 - val_loss: 0.3707 - val_acc: 0.8831\n",
            "Epoch 9/20\n",
            "49/49 [==============================] - 1s 13ms/step - loss: 0.2734 - acc: 0.9284 - val_loss: 0.3665 - val_acc: 0.8831\n",
            "Epoch 10/20\n",
            "49/49 [==============================] - 1s 15ms/step - loss: 0.2681 - acc: 0.9296 - val_loss: 0.3775 - val_acc: 0.8798\n",
            "Epoch 11/20\n",
            "49/49 [==============================] - 1s 14ms/step - loss: 0.2636 - acc: 0.9313 - val_loss: 0.3828 - val_acc: 0.8794\n",
            "Epoch 12/20\n",
            "49/49 [==============================] - 1s 15ms/step - loss: 0.2549 - acc: 0.9343 - val_loss: 0.3755 - val_acc: 0.8822\n",
            "Epoch 13/20\n",
            "49/49 [==============================] - 1s 14ms/step - loss: 0.2527 - acc: 0.9348 - val_loss: 0.3886 - val_acc: 0.8771\n",
            "Epoch 14/20\n",
            "49/49 [==============================] - 1s 14ms/step - loss: 0.2459 - acc: 0.9394 - val_loss: 0.3965 - val_acc: 0.8751\n",
            "Epoch 15/20\n",
            "49/49 [==============================] - 1s 15ms/step - loss: 0.2468 - acc: 0.9364 - val_loss: 0.3870 - val_acc: 0.8792\n",
            "Epoch 16/20\n",
            "49/49 [==============================] - 1s 13ms/step - loss: 0.2370 - acc: 0.9421 - val_loss: 0.3927 - val_acc: 0.8772\n",
            "Epoch 17/20\n",
            "49/49 [==============================] - 1s 13ms/step - loss: 0.2337 - acc: 0.9429 - val_loss: 0.3966 - val_acc: 0.8756\n",
            "Epoch 18/20\n",
            "49/49 [==============================] - 1s 13ms/step - loss: 0.2282 - acc: 0.9448 - val_loss: 0.4108 - val_acc: 0.8742\n",
            "Epoch 19/20\n",
            "49/49 [==============================] - 1s 13ms/step - loss: 0.2246 - acc: 0.9459 - val_loss: 0.4043 - val_acc: 0.8745\n",
            "Epoch 20/20\n",
            "49/49 [==============================] - 1s 13ms/step - loss: 0.2203 - acc: 0.9486 - val_loss: 0.4146 - val_acc: 0.8732\n"
          ]
        }
      ],
      "source": [
        "l1_model_hist = l1_model.fit(x_train, y_train,\n",
        "                epochs=20,\n",
        "                batch_size=512,\n",
        "                validation_data=(x_test, y_test))"
      ]
    },
    {
      "cell_type": "code",
      "execution_count": 75,
      "metadata": {
        "id": "homdYX387xL4"
      },
      "outputs": [
        {
          "data": {
            "image/png": "[encoded data removed]",
            "text/plain": [
              "<Figure size 432x288 with 1 Axes>"
            ]
          },
          "metadata": {},
          "output_type": "display_data"
        }
      ],
      "source": [
        "l1_model_val_loss = l1_model_hist.history['val_loss']\n",
        "\n",
        "epochs = range(1, 21)\n",
        "plt.plot(epochs, model_1_val_loss, 'r+', label='Model 1')\n",
        "plt.plot(epochs, l1_model_val_loss, 'g--', label='Model L1-regularized')\n",
        "plt.xlabel('Epochs')\n",
        "plt.ylabel('Validation Loss')\n",
        "plt.legend()\n",
        "plt.grid()\n",
        "\n",
        "plt.show()"
      ]
    },
    {
      "cell_type": "markdown",
      "metadata": {
        "id": "SMrhigPO9y3k"
      },
      "source": [
        "3가지 모델 비교\n",
        "- Original\n",
        "- L1\n",
        "- L2"
      ]
    },
    {
      "cell_type": "code",
      "execution_count": 76,
      "metadata": {
        "id": "B5L4Dt0m8LYB"
      },
      "outputs": [
        {
          "data": {
            "image/png": "[encoded data removed]",
            "text/plain": [
              "<Figure size 432x288 with 1 Axes>"
            ]
          },
          "metadata": {},
          "output_type": "display_data"
        }
      ],
      "source": [
        "l1_model_val_loss = l1_model_hist.history['val_loss']\n",
        "\n",
        "epochs = range(1, 21)\n",
        "plt.plot(epochs, model_1_val_loss, 'r+', label='Model 1')\n",
        "plt.plot(epochs, l2_model_val_loss, 'bo', label='Model L2-regularized')\n",
        "plt.plot(epochs, l1_model_val_loss, 'g--', label='Model L1-regularized')\n",
        "plt.xlabel('Epochs')\n",
        "plt.ylabel('Validation Loss')\n",
        "plt.legend()\n",
        "plt.grid()\n",
        "\n",
        "plt.show()"
      ]
    },
    {
      "cell_type": "markdown",
      "metadata": {
        "id": "Dt-_9PJa8ZPz"
      },
      "source": [
        "#### L1, L2와 비교"
      ]
    },
    {
      "cell_type": "code",
      "execution_count": 77,
      "metadata": {
        "id": "HZvfp1oa8zqR"
      },
      "outputs": [
        {
          "name": "stdout",
          "output_type": "stream",
          "text": [
            "Model: \"sequential_10\"\n",
            "_________________________________________________________________\n",
            " Layer (type)                Output Shape              Param #   \n",
            "=================================================================\n",
            " dense_17 (Dense)            (None, 16)                160016    \n",
            "                                                                 \n",
            " dense_18 (Dense)            (None, 16)                272       \n",
            "                                                                 \n",
            " dense_19 (Dense)            (None, 1)                 17        \n",
            "                                                                 \n",
            "=================================================================\n",
            "Total params: 160,305\n",
            "Trainable params: 160,305\n",
            "Non-trainable params: 0\n",
            "_________________________________________________________________\n",
            "You must install pydot (`pip install pydot`) and install graphviz (see instructions at https://graphviz.gitlab.io/download/) for plot_model to work.\n"
          ]
        }
      ],
      "source": [
        "l1_l2_model = Sequential([Dense(16, kernel_regularizer=l1_l2(l1=0.0001, l2=0.0001), activation='relu', input_shape=(10000, )),\n",
        "                       Dense(16, kernel_regularizer=l1_l2(l1=0.0001, l2=0.0001), activation='relu'),\n",
        "                       Dense(1, activation='sigmoid')])\n",
        "\n",
        "l1_l2_model.compile(optimizer='rmsprop',\n",
        "                 loss='binary_crossentropy',\n",
        "                 metrics=['acc'])\n",
        "\n",
        "l1_l2_model.summary() \n",
        "plot_model(l1_l2_model, show_shapes=True)"
      ]
    },
    {
      "cell_type": "code",
      "execution_count": 78,
      "metadata": {
        "id": "pbAePZaz9Ct7"
      },
      "outputs": [
        {
          "name": "stdout",
          "output_type": "stream",
          "text": [
            "Epoch 1/20\n",
            "49/49 [==============================] - 2s 27ms/step - loss: 0.5726 - acc: 0.8156 - val_loss: 0.4383 - val_acc: 0.8748\n",
            "Epoch 2/20\n",
            "49/49 [==============================] - 1s 14ms/step - loss: 0.3817 - acc: 0.8927 - val_loss: 0.3806 - val_acc: 0.8834\n",
            "Epoch 3/20\n",
            "49/49 [==============================] - 1s 14ms/step - loss: 0.3421 - acc: 0.8990 - val_loss: 0.3657 - val_acc: 0.8862\n",
            "Epoch 4/20\n",
            "49/49 [==============================] - 1s 14ms/step - loss: 0.3210 - acc: 0.9089 - val_loss: 0.3608 - val_acc: 0.8863\n",
            "Epoch 5/20\n",
            "49/49 [==============================] - 1s 14ms/step - loss: 0.3132 - acc: 0.9116 - val_loss: 0.3654 - val_acc: 0.8834\n",
            "Epoch 6/20\n",
            "49/49 [==============================] - 1s 15ms/step - loss: 0.3053 - acc: 0.9158 - val_loss: 0.3633 - val_acc: 0.8861\n",
            "Epoch 7/20\n",
            "49/49 [==============================] - 1s 16ms/step - loss: 0.2982 - acc: 0.9182 - val_loss: 0.4171 - val_acc: 0.8604\n",
            "Epoch 8/20\n",
            "49/49 [==============================] - 1s 16ms/step - loss: 0.2952 - acc: 0.9203 - val_loss: 0.3939 - val_acc: 0.8763\n",
            "Epoch 9/20\n",
            "49/49 [==============================] - 1s 14ms/step - loss: 0.2901 - acc: 0.9213 - val_loss: 0.3798 - val_acc: 0.8816\n",
            "Epoch 10/20\n",
            "49/49 [==============================] - 1s 14ms/step - loss: 0.2835 - acc: 0.9244 - val_loss: 0.3749 - val_acc: 0.8830\n",
            "Epoch 11/20\n",
            "49/49 [==============================] - 1s 14ms/step - loss: 0.2804 - acc: 0.9261 - val_loss: 0.3797 - val_acc: 0.8822\n",
            "Epoch 12/20\n",
            "49/49 [==============================] - 1s 13ms/step - loss: 0.2749 - acc: 0.9283 - val_loss: 0.3864 - val_acc: 0.8797\n",
            "Epoch 13/20\n",
            "49/49 [==============================] - 1s 13ms/step - loss: 0.2744 - acc: 0.9284 - val_loss: 0.3942 - val_acc: 0.8759\n",
            "Epoch 14/20\n",
            "49/49 [==============================] - 1s 15ms/step - loss: 0.2701 - acc: 0.9308 - val_loss: 0.3880 - val_acc: 0.8810\n",
            "Epoch 15/20\n",
            "49/49 [==============================] - 1s 14ms/step - loss: 0.2655 - acc: 0.9309 - val_loss: 0.3887 - val_acc: 0.8783\n",
            "Epoch 16/20\n",
            "49/49 [==============================] - 1s 14ms/step - loss: 0.2616 - acc: 0.9334 - val_loss: 0.3905 - val_acc: 0.8788\n",
            "Epoch 17/20\n",
            "49/49 [==============================] - 1s 14ms/step - loss: 0.2561 - acc: 0.9364 - val_loss: 0.3917 - val_acc: 0.8790\n",
            "Epoch 18/20\n",
            "49/49 [==============================] - 1s 14ms/step - loss: 0.2528 - acc: 0.9380 - val_loss: 0.4005 - val_acc: 0.8772\n",
            "Epoch 19/20\n",
            "49/49 [==============================] - 1s 14ms/step - loss: 0.2512 - acc: 0.9365 - val_loss: 0.3983 - val_acc: 0.8778\n",
            "Epoch 20/20\n",
            "49/49 [==============================] - 1s 15ms/step - loss: 0.2441 - acc: 0.9412 - val_loss: 0.4257 - val_acc: 0.8704\n"
          ]
        }
      ],
      "source": [
        "l1_l2_model_hist = l1_l2_model.fit(x_train, y_train,\n",
        "                epochs=20,\n",
        "                batch_size=512,\n",
        "                validation_data=(x_test, y_test))"
      ]
    },
    {
      "cell_type": "markdown",
      "metadata": {
        "id": "adXSd24794wD"
      },
      "source": [
        "4가지 모델 비교\n",
        "- Original\n",
        "\n",
        "- L1\n",
        "\n",
        "- L2\n",
        "\n",
        "- L1_L2"
      ]
    },
    {
      "cell_type": "code",
      "execution_count": 79,
      "metadata": {
        "id": "MSlpzdAR9X7o"
      },
      "outputs": [
        {
          "data": {
            "image/png": "[encoded data removed]",
            "text/plain": [
              "<Figure size 432x288 with 1 Axes>"
            ]
          },
          "metadata": {},
          "output_type": "display_data"
        }
      ],
      "source": [
        "l1_l2_model_val_loss = l1_l2_model_hist.history['val_loss']\n",
        "\n",
        "epochs = range(1, 21)\n",
        "plt.plot(epochs, model_1_val_loss, 'r+', label='Model 1')\n",
        "plt.plot(epochs, l2_model_val_loss, 'bo', label='Model L2-regularized')\n",
        "plt.plot(epochs, l1_model_val_loss, 'g--', label='Model L1-regularized')\n",
        "plt.plot(epochs, l1_l2_model_val_loss, 'r--', label='Model L1_L2-regularized')\n",
        "plt.xlabel('Epochs')\n",
        "plt.ylabel('Validation Loss')\n",
        "plt.legend()\n",
        "plt.grid()\n",
        "\n",
        "plt.show()"
      ]
    },
    {
      "cell_type": "markdown",
      "metadata": {
        "id": "2HZJQ1Uc-Pwe"
      },
      "source": [
        "### 드롭아웃(Dropout)\n",
        "- 신경망을 위해 사용되는 규제 기법 중 가장 효과적이고 널리 사용되는 방법\n",
        "\n",
        "- 신경망의 레이어에 드롭아웃을 적용하면 훈련하는 동안 무작위로 층의 일부 특성(노드)를 제외\n",
        "  - 예를 들어, [1.0, 3.2, 0.6, 0.8, 1.1] 라는 벡터에 대해 드롭아웃을 적용하면 **무작위로 0으로 바뀜**  \n",
        "    $\\rightarrow$ [0, 3.2, 0.6, 0.8, 0]\n",
        "\n",
        "  - 보통 0.2 ~ 0.5 사이의 비율로 지정됨\n",
        "\n",
        "- 테스트 단계에서는 그 어떤 노드도 드롭아웃 되지 않는다.\n",
        "  - 대신 해당 레이어의 출력 노드를 드롭아웃 비율에 맞게 줄여줌"
      ]
    },
    {
      "cell_type": "code",
      "execution_count": 80,
      "metadata": {
        "id": "m8vp3zV8_8va"
      },
      "outputs": [],
      "source": [
        "from tensorflow.keras.layers import Dropout"
      ]
    },
    {
      "cell_type": "markdown",
      "metadata": {
        "id": "2Lv4SuKy_6C0"
      },
      "source": [
        "#### 모델 구성"
      ]
    },
    {
      "cell_type": "code",
      "execution_count": 81,
      "metadata": {
        "id": "qb6_EQte-Jxu"
      },
      "outputs": [
        {
          "name": "stdout",
          "output_type": "stream",
          "text": [
            "Model: \"sequential_11\"\n",
            "_________________________________________________________________\n",
            " Layer (type)                Output Shape              Param #   \n",
            "=================================================================\n",
            " dense_20 (Dense)            (None, 16)                160016    \n",
            "                                                                 \n",
            " dropout (Dropout)           (None, 16)                0         \n",
            "                                                                 \n",
            " dense_21 (Dense)            (None, 16)                272       \n",
            "                                                                 \n",
            " dropout_1 (Dropout)         (None, 16)                0         \n",
            "                                                                 \n",
            " dense_22 (Dense)            (None, 1)                 17        \n",
            "                                                                 \n",
            "=================================================================\n",
            "Total params: 160,305\n",
            "Trainable params: 160,305\n",
            "Non-trainable params: 0\n",
            "_________________________________________________________________\n",
            "You must install pydot (`pip install pydot`) and install graphviz (see instructions at https://graphviz.gitlab.io/download/) for plot_model to work.\n"
          ]
        }
      ],
      "source": [
        "dropout_model = Sequential([Dense(16, activation='relu', input_shape=(10000, )),\n",
        "                            Dropout(0.5),\n",
        "                            Dense(16, activation='relu'),\n",
        "                            Dropout(0.5),\n",
        "                            Dense(1, activation='sigmoid')])\n",
        "\n",
        "dropout_model.compile(optimizer='rmsprop',\n",
        "                      loss='binary_crossentropy',\n",
        "                      metrics=['acc'])\n",
        "\n",
        "dropout_model.summary() \n",
        "plot_model(dropout_model, show_shapes=True)"
      ]
    },
    {
      "cell_type": "markdown",
      "metadata": {
        "id": "5aJVz33uArZo"
      },
      "source": [
        "#### 모델 학습"
      ]
    },
    {
      "cell_type": "code",
      "execution_count": 82,
      "metadata": {
        "id": "3EKriwnYAhsO"
      },
      "outputs": [
        {
          "name": "stdout",
          "output_type": "stream",
          "text": [
            "Epoch 1/20\n",
            "49/49 [==============================] - 2s 25ms/step - loss: 0.6062 - acc: 0.6769 - val_loss: 0.4766 - val_acc: 0.8588\n",
            "Epoch 2/20\n",
            "49/49 [==============================] - 1s 14ms/step - loss: 0.4628 - acc: 0.8020 - val_loss: 0.3504 - val_acc: 0.8804\n",
            "Epoch 3/20\n",
            "49/49 [==============================] - 1s 14ms/step - loss: 0.3728 - acc: 0.8548 - val_loss: 0.2979 - val_acc: 0.8872\n",
            "Epoch 4/20\n",
            "49/49 [==============================] - 1s 14ms/step - loss: 0.3159 - acc: 0.8840 - val_loss: 0.2831 - val_acc: 0.8854\n",
            "Epoch 5/20\n",
            "49/49 [==============================] - 1s 14ms/step - loss: 0.2762 - acc: 0.9024 - val_loss: 0.2764 - val_acc: 0.8884\n",
            "Epoch 6/20\n",
            "49/49 [==============================] - 1s 13ms/step - loss: 0.2412 - acc: 0.9151 - val_loss: 0.2819 - val_acc: 0.8869\n",
            "Epoch 7/20\n",
            "49/49 [==============================] - 1s 14ms/step - loss: 0.2208 - acc: 0.9202 - val_loss: 0.3042 - val_acc: 0.8845\n",
            "Epoch 8/20\n",
            "49/49 [==============================] - 1s 13ms/step - loss: 0.1982 - acc: 0.9284 - val_loss: 0.3153 - val_acc: 0.8862\n",
            "Epoch 9/20\n",
            "49/49 [==============================] - 1s 14ms/step - loss: 0.1837 - acc: 0.9369 - val_loss: 0.3345 - val_acc: 0.8849\n",
            "Epoch 10/20\n",
            "49/49 [==============================] - 1s 15ms/step - loss: 0.1734 - acc: 0.9382 - val_loss: 0.3490 - val_acc: 0.8830\n",
            "Epoch 11/20\n",
            "49/49 [==============================] - 1s 13ms/step - loss: 0.1606 - acc: 0.9433 - val_loss: 0.3659 - val_acc: 0.8827\n",
            "Epoch 12/20\n",
            "49/49 [==============================] - 1s 13ms/step - loss: 0.1558 - acc: 0.9445 - val_loss: 0.3896 - val_acc: 0.8795\n",
            "Epoch 13/20\n",
            "49/49 [==============================] - 1s 13ms/step - loss: 0.1413 - acc: 0.9477 - val_loss: 0.4237 - val_acc: 0.8812\n",
            "Epoch 14/20\n",
            "49/49 [==============================] - 1s 13ms/step - loss: 0.1414 - acc: 0.9490 - val_loss: 0.4354 - val_acc: 0.8795\n",
            "Epoch 15/20\n",
            "49/49 [==============================] - 1s 14ms/step - loss: 0.1345 - acc: 0.9517 - val_loss: 0.4547 - val_acc: 0.8786\n",
            "Epoch 16/20\n",
            "49/49 [==============================] - 1s 13ms/step - loss: 0.1315 - acc: 0.9506 - val_loss: 0.4807 - val_acc: 0.8778\n",
            "Epoch 17/20\n",
            "49/49 [==============================] - 1s 13ms/step - loss: 0.1283 - acc: 0.9517 - val_loss: 0.4683 - val_acc: 0.8768\n",
            "Epoch 18/20\n",
            "49/49 [==============================] - 1s 13ms/step - loss: 0.1202 - acc: 0.9533 - val_loss: 0.5175 - val_acc: 0.8768\n",
            "Epoch 19/20\n",
            "49/49 [==============================] - 1s 14ms/step - loss: 0.1169 - acc: 0.9560 - val_loss: 0.5281 - val_acc: 0.8743\n",
            "Epoch 20/20\n",
            "49/49 [==============================] - 1s 13ms/step - loss: 0.1195 - acc: 0.9539 - val_loss: 0.5180 - val_acc: 0.8740\n"
          ]
        }
      ],
      "source": [
        "dropout_model_hist = dropout_model.fit(x_train, y_train,\n",
        "                epochs=20,\n",
        "                batch_size=512,\n",
        "                validation_data=(x_test, y_test))"
      ]
    },
    {
      "cell_type": "markdown",
      "metadata": {
        "id": "H1mtPk84GQhi"
      },
      "source": [
        "#### 시각화"
      ]
    },
    {
      "cell_type": "code",
      "execution_count": 83,
      "metadata": {
        "id": "UCYzvVV5A0it"
      },
      "outputs": [
        {
          "data": {
            "image/png": "[encoded data removed]",
            "text/plain": [
              "<Figure size 432x288 with 1 Axes>"
            ]
          },
          "metadata": {},
          "output_type": "display_data"
        }
      ],
      "source": [
        "dropout_model_val_loss = dropout_model_hist.history['val_loss']\n",
        "\n",
        "epochs = range(1, 21)\n",
        "plt.plot(epochs, model_1_val_loss, 'r+', label='Model 1')\n",
        "plt.plot(epochs, l2_model_val_loss, 'bo', label='Model L2-regularized')\n",
        "plt.plot(epochs, l1_model_val_loss, 'g--', label='Model L1-regularized')\n",
        "plt.plot(epochs, l1_l2_model_val_loss, 'r--', label='Model L1_L2-regularized')\n",
        "plt.plot(epochs, dropout_model_val_loss, 'ko', label='Model Dropout')\n",
        "plt.xlabel('Epochs')\n",
        "plt.ylabel('Validation Loss')\n",
        "plt.legend()\n",
        "plt.grid()\n",
        "\n",
        "plt.show()"
      ]
    }
  ],
  "metadata": {
    "colab": {
      "collapsed_sections": [],
      "provenance": [],
      "toc_visible": true
    },
    "kernelspec": {
      "display_name": "Python 3.9.7 ('base')",
      "language": "python",
      "name": "python3"
    },
    "language_info": {
      "codemirror_mode": {
        "name": "ipython",
        "version": 3
      },
      "file_extension": ".py",
      "mimetype": "text/x-python",
      "name": "python",
      "nbconvert_exporter": "python",
      "pygments_lexer": "ipython3",
      "version": "3.9.7"
    },
    "vscode": {
      "interpreter": {
        "hash": "263930470851f494f0ed2879c35b57985588df20f9e529b86e97dd5eb9ddc466"
      }
    }
  },
  "nbformat": 4,
  "nbformat_minor": 0
}
