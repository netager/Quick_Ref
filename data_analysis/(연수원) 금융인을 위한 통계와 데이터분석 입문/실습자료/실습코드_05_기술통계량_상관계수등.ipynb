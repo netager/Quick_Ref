{
 "cells": [
  {
   "cell_type": "markdown",
   "metadata": {},
   "source": [
    "## 아파트 실거래가 자료를 활용한 자료의 왜도, 첨도, 상관계수 분석"
   ]
  },
  {
   "cell_type": "code",
   "execution_count": 1,
   "metadata": {},
   "outputs": [
    {
     "data": {
      "text/plain": [
       "Index(['시군구', '번지', '본번', '부번', '단지명', '전용면적(㎡)', '계약년월', '계약일', '거래금액(만원)',\n",
       "       '층', '건축년도', '도로명', '시', '구', '동'],\n",
       "      dtype='object')"
      ]
     },
     "execution_count": 1,
     "metadata": {},
     "output_type": "execute_result"
    }
   ],
   "source": [
    "import pandas as pd\n",
    "apt = pd.read_excel('data/아파트_실거래가_서울.xlsx')\n",
    "apt.columns"
   ]
  },
  {
   "cell_type": "code",
   "execution_count": 2,
   "metadata": {},
   "outputs": [],
   "source": [
    "apt.rename(columns = {'전용면적(㎡)' : '면적', '거래금액(만원)' : '가격'}, inplace = True)\n",
    "apt['단가'] = apt.가격 / apt.면적"
   ]
  },
  {
   "cell_type": "markdown",
   "metadata": {},
   "source": [
    "### 왜도"
   ]
  },
  {
   "cell_type": "code",
   "execution_count": 3,
   "metadata": {
    "scrolled": true
   },
   "outputs": [
    {
     "data": {
      "text/plain": [
       "1.4466494691261553"
      ]
     },
     "execution_count": 3,
     "metadata": {},
     "output_type": "execute_result"
    }
   ],
   "source": [
    "apt.단가.skew()"
   ]
  },
  {
   "cell_type": "markdown",
   "metadata": {},
   "source": [
    "$\\Rightarrow$ 왜도 값이 양수이므로 오른쪽으로 긴 꼬리를 가진 분포임을 유추할 수 있음"
   ]
  },
  {
   "cell_type": "code",
   "execution_count": 4,
   "metadata": {
    "scrolled": true
   },
   "outputs": [
    {
     "data": {
      "text/plain": [
       "구\n",
       "중구     -1.138508\n",
       "광진구    -0.326935\n",
       "중랑구    -0.104560\n",
       "서대문구    0.084265\n",
       "양천구     0.108413\n",
       "마포구     0.126780\n",
       "도봉구     0.134094\n",
       "강남구     0.136494\n",
       "동작구     0.178899\n",
       "관악구     0.218343\n",
       "강동구     0.232884\n",
       "강서구     0.238819\n",
       "은평구     0.344090\n",
       "서초구     0.403509\n",
       "구로구     0.467667\n",
       "강북구     0.467760\n",
       "영등포구    0.483777\n",
       "용산구     0.507903\n",
       "성북구     0.513295\n",
       "송파구     0.614263\n",
       "종로구     0.650344\n",
       "동대문구    0.679297\n",
       "성동구     0.815622\n",
       "금천구     0.849881\n",
       "노원구     1.560726\n",
       "Name: 단가, dtype: float64"
      ]
     },
     "execution_count": 4,
     "metadata": {},
     "output_type": "execute_result"
    }
   ],
   "source": [
    "apt.groupby('구').단가.skew().sort_values()"
   ]
  },
  {
   "cell_type": "markdown",
   "metadata": {},
   "source": [
    "$\\Rightarrow$ 왜도의 값이 가장 작은 경우인 중구의 경우 왜도 값이 음수이므로 왼쪽으로 긴 꼬리를 가진 분포임을 유추할 수 있음  \n",
    "    \n",
    "$\\Rightarrow$ 왜도의 값이 가장 큰 경우인 노원구의 경우 왜도 값이 양수이므로 오른쪽으로 긴 꼬리를 가진 분포임을 유추할 수 있음\n",
    "\n",
    "$\\Rightarrow$ 나중에 데이터 시각화를 통해서 이 결과들을 확인해보겠음 "
   ]
  },
  {
   "cell_type": "markdown",
   "metadata": {},
   "source": [
    "### 첨도 "
   ]
  },
  {
   "cell_type": "code",
   "execution_count": 5,
   "metadata": {},
   "outputs": [
    {
     "data": {
      "text/plain": [
       "2.459797217130168"
      ]
     },
     "execution_count": 5,
     "metadata": {},
     "output_type": "execute_result"
    }
   ],
   "source": [
    "apt.단가.kurtosis()b"
   ]
  },
  {
   "cell_type": "markdown",
   "metadata": {},
   "source": [
    "$\\Rightarrow$ 첨도 값이 양수이므로 정규분포에 비해서 두꺼운 꼬리를 가진 분포임을 할 수 있음"
   ]
  },
  {
   "cell_type": "code",
   "execution_count": 10,
   "metadata": {},
   "outputs": [
    {
     "data": {
      "text/plain": [
       "4.1183923294119165"
      ]
     },
     "execution_count": 10,
     "metadata": {},
     "output_type": "execute_result"
    }
   ],
   "source": [
    "apt.단가[apt.구 =='중구'].kurtosis()"
   ]
  },
  {
   "cell_type": "markdown",
   "metadata": {},
   "source": [
    "$\\Rightarrow$ 중구의 경우 첨도 값이 양수이고 절대값이 크므로 더 두꺼운 꼬리를 가진 분포임을 할 수 있음"
   ]
  },
  {
   "cell_type": "code",
   "execution_count": 11,
   "metadata": {
    "scrolled": true
   },
   "outputs": [
    {
     "data": {
      "text/plain": [
       "0.07791654954512062"
      ]
     },
     "execution_count": 11,
     "metadata": {},
     "output_type": "execute_result"
    }
   ],
   "source": [
    "apt.단가[apt.구 =='금천구'].kurtosis()"
   ]
  },
  {
   "cell_type": "markdown",
   "metadata": {},
   "source": [
    "$\\Rightarrow$ 금천구의 경우 첨도 값이 0에 가까우므로 정규분포와 비슷한 정도의 꼬리 분포를 가지고 있음을 알 수 있음 "
   ]
  },
  {
   "cell_type": "markdown",
   "metadata": {},
   "source": [
    "### 상관계수 "
   ]
  },
  {
   "cell_type": "code",
   "execution_count": 12,
   "metadata": {},
   "outputs": [
    {
     "data": {
      "text/plain": [
       "0.7014737005275267"
      ]
     },
     "execution_count": 12,
     "metadata": {},
     "output_type": "execute_result"
    }
   ],
   "source": [
    "apt['가격'].corr(apt['면적'])"
   ]
  },
  {
   "cell_type": "code",
   "execution_count": 13,
   "metadata": {},
   "outputs": [
    {
     "data": {
      "text/html": [
       "<div>\n",
       "<style scoped>\n",
       "    .dataframe tbody tr th:only-of-type {\n",
       "        vertical-align: middle;\n",
       "    }\n",
       "\n",
       "    .dataframe tbody tr th {\n",
       "        vertical-align: top;\n",
       "    }\n",
       "\n",
       "    .dataframe thead th {\n",
       "        text-align: right;\n",
       "    }\n",
       "</style>\n",
       "<table border=\"1\" class=\"dataframe\">\n",
       "  <thead>\n",
       "    <tr style=\"text-align: right;\">\n",
       "      <th></th>\n",
       "      <th>본번</th>\n",
       "      <th>부번</th>\n",
       "      <th>면적</th>\n",
       "      <th>계약년월</th>\n",
       "      <th>계약일</th>\n",
       "      <th>가격</th>\n",
       "      <th>층</th>\n",
       "      <th>건축년도</th>\n",
       "      <th>단가</th>\n",
       "    </tr>\n",
       "  </thead>\n",
       "  <tbody>\n",
       "    <tr>\n",
       "      <th>본번</th>\n",
       "      <td>1.000000</td>\n",
       "      <td>-0.043314</td>\n",
       "      <td>0.037966</td>\n",
       "      <td>NaN</td>\n",
       "      <td>-0.001331</td>\n",
       "      <td>-0.009692</td>\n",
       "      <td>0.052481</td>\n",
       "      <td>0.125874</td>\n",
       "      <td>-0.035729</td>\n",
       "    </tr>\n",
       "    <tr>\n",
       "      <th>부번</th>\n",
       "      <td>-0.043314</td>\n",
       "      <td>1.000000</td>\n",
       "      <td>0.018763</td>\n",
       "      <td>NaN</td>\n",
       "      <td>0.004707</td>\n",
       "      <td>0.026304</td>\n",
       "      <td>0.007855</td>\n",
       "      <td>0.018034</td>\n",
       "      <td>-0.028287</td>\n",
       "    </tr>\n",
       "    <tr>\n",
       "      <th>면적</th>\n",
       "      <td>0.037966</td>\n",
       "      <td>0.018763</td>\n",
       "      <td>1.000000</td>\n",
       "      <td>NaN</td>\n",
       "      <td>-0.016001</td>\n",
       "      <td>0.701474</td>\n",
       "      <td>0.072077</td>\n",
       "      <td>-0.096709</td>\n",
       "      <td>0.109304</td>\n",
       "    </tr>\n",
       "    <tr>\n",
       "      <th>계약년월</th>\n",
       "      <td>NaN</td>\n",
       "      <td>NaN</td>\n",
       "      <td>NaN</td>\n",
       "      <td>NaN</td>\n",
       "      <td>NaN</td>\n",
       "      <td>NaN</td>\n",
       "      <td>NaN</td>\n",
       "      <td>NaN</td>\n",
       "      <td>NaN</td>\n",
       "    </tr>\n",
       "    <tr>\n",
       "      <th>계약일</th>\n",
       "      <td>-0.001331</td>\n",
       "      <td>0.004707</td>\n",
       "      <td>-0.016001</td>\n",
       "      <td>NaN</td>\n",
       "      <td>1.000000</td>\n",
       "      <td>-0.025741</td>\n",
       "      <td>0.000283</td>\n",
       "      <td>0.019883</td>\n",
       "      <td>-0.026598</td>\n",
       "    </tr>\n",
       "    <tr>\n",
       "      <th>가격</th>\n",
       "      <td>-0.009692</td>\n",
       "      <td>0.026304</td>\n",
       "      <td>0.701474</td>\n",
       "      <td>NaN</td>\n",
       "      <td>-0.025741</td>\n",
       "      <td>1.000000</td>\n",
       "      <td>0.170319</td>\n",
       "      <td>-0.054922</td>\n",
       "      <td>0.718276</td>\n",
       "    </tr>\n",
       "    <tr>\n",
       "      <th>층</th>\n",
       "      <td>0.052481</td>\n",
       "      <td>0.007855</td>\n",
       "      <td>0.072077</td>\n",
       "      <td>NaN</td>\n",
       "      <td>0.000283</td>\n",
       "      <td>0.170319</td>\n",
       "      <td>1.000000</td>\n",
       "      <td>0.166106</td>\n",
       "      <td>0.182343</td>\n",
       "    </tr>\n",
       "    <tr>\n",
       "      <th>건축년도</th>\n",
       "      <td>0.125874</td>\n",
       "      <td>0.018034</td>\n",
       "      <td>-0.096709</td>\n",
       "      <td>NaN</td>\n",
       "      <td>0.019883</td>\n",
       "      <td>-0.054922</td>\n",
       "      <td>0.166106</td>\n",
       "      <td>1.000000</td>\n",
       "      <td>0.000182</td>\n",
       "    </tr>\n",
       "    <tr>\n",
       "      <th>단가</th>\n",
       "      <td>-0.035729</td>\n",
       "      <td>-0.028287</td>\n",
       "      <td>0.109304</td>\n",
       "      <td>NaN</td>\n",
       "      <td>-0.026598</td>\n",
       "      <td>0.718276</td>\n",
       "      <td>0.182343</td>\n",
       "      <td>0.000182</td>\n",
       "      <td>1.000000</td>\n",
       "    </tr>\n",
       "  </tbody>\n",
       "</table>\n",
       "</div>"
      ],
      "text/plain": [
       "            본번        부번        면적  계약년월       계약일        가격         층  \\\n",
       "본번    1.000000 -0.043314  0.037966   NaN -0.001331 -0.009692  0.052481   \n",
       "부번   -0.043314  1.000000  0.018763   NaN  0.004707  0.026304  0.007855   \n",
       "면적    0.037966  0.018763  1.000000   NaN -0.016001  0.701474  0.072077   \n",
       "계약년월       NaN       NaN       NaN   NaN       NaN       NaN       NaN   \n",
       "계약일  -0.001331  0.004707 -0.016001   NaN  1.000000 -0.025741  0.000283   \n",
       "가격   -0.009692  0.026304  0.701474   NaN -0.025741  1.000000  0.170319   \n",
       "층     0.052481  0.007855  0.072077   NaN  0.000283  0.170319  1.000000   \n",
       "건축년도  0.125874  0.018034 -0.096709   NaN  0.019883 -0.054922  0.166106   \n",
       "단가   -0.035729 -0.028287  0.109304   NaN -0.026598  0.718276  0.182343   \n",
       "\n",
       "          건축년도        단가  \n",
       "본번    0.125874 -0.035729  \n",
       "부번    0.018034 -0.028287  \n",
       "면적   -0.096709  0.109304  \n",
       "계약년월       NaN       NaN  \n",
       "계약일   0.019883 -0.026598  \n",
       "가격   -0.054922  0.718276  \n",
       "층     0.166106  0.182343  \n",
       "건축년도  1.000000  0.000182  \n",
       "단가    0.000182  1.000000  "
      ]
     },
     "execution_count": 13,
     "metadata": {},
     "output_type": "execute_result"
    }
   ],
   "source": [
    "apt.corr()"
   ]
  },
  {
   "cell_type": "markdown",
   "metadata": {},
   "source": [
    "$\\Rightarrow$ 상관계수가 0.7 ($70\\%$)이므로 가격과 면적은 상당히 높은 양의 상관관계를 가지고 있는 것으로 보임. 두 변수의 선형관계에 대한 추가 분석은 다음 차시에서 보도록 하겠음 "
   ]
  },
  {
   "cell_type": "code",
   "execution_count": 14,
   "metadata": {},
   "outputs": [
    {
     "data": {
      "text/plain": [
       "0.0"
      ]
     },
     "execution_count": 14,
     "metadata": {},
     "output_type": "execute_result"
    }
   ],
   "source": [
    "import numpy as np\n",
    "x = pd.Series(np.arange(-20, 21))\n",
    "y = x ** 2\n",
    "x.corr(y)"
   ]
  },
  {
   "cell_type": "code",
   "execution_count": 18,
   "metadata": {},
   "outputs": [
    {
     "data": {
      "text/plain": [
       "(<AxesSubplot:>, <AxesSubplot:>)"
      ]
     },
     "execution_count": 18,
     "metadata": {},
     "output_type": "execute_result"
    },
    {
     "data": {
      "image/png": "[encoded data removed]",
      "text/plain": [
       "<Figure size 432x288 with 1 Axes>"
      ]
     },
     "metadata": {
      "needs_background": "light"
     },
     "output_type": "display_data"
    }
   ],
   "source": [
    "x.plot(), y.plot()"
   ]
  },
  {
   "cell_type": "markdown",
   "metadata": {},
   "source": [
    "$\\Rightarrow$ y값이 x로부터 계산되어 서로 연관되어 있지만 계산된 상관계수는 0 : 비선형 관계를 반영하지 못함  "
   ]
  }
 ],
 "metadata": {
  "anaconda-cloud": {},
  "celltoolbar": "Slideshow",
  "kernelspec": {
   "display_name": "Python 3 (ipykernel)",
   "language": "python",
   "name": "python3"
  },
  "language_info": {
   "codemirror_mode": {
    "name": "ipython",
    "version": 3
   },
   "file_extension": ".py",
   "mimetype": "text/x-python",
   "name": "python",
   "nbconvert_exporter": "python",
   "pygments_lexer": "ipython3",
   "version": "3.9.7"
  }
 },
 "nbformat": 4,
 "nbformat_minor": 1
}
