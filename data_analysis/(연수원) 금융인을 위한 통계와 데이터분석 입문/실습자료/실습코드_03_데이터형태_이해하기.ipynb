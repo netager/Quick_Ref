{
 "cells": [
  {
   "cell_type": "markdown",
   "metadata": {},
   "source": [
    "## 서울 아파트 실거래가 데이터 \n",
    "- 서울 아파트 실거래가 자료 (계약년월 2021년 2월) \n",
    "- [출처] 국토교통부 실거래가 공개시스템  \n",
    "- 이번 실습에서는 **데이터의 구조 및 형태**를 살펴보고 탐색적 자료분석은 4-7차시에서 다룰 예정  "
   ]
  },
  {
   "cell_type": "code",
   "execution_count": 2,
   "metadata": {},
   "outputs": [],
   "source": [
    "import pandas as pd\n",
    "apt = pd.read_excel('data/아파트_실거래가_서울.xlsx')"
   ]
  },
  {
   "cell_type": "markdown",
   "metadata": {},
   "source": [
    "- 데이터에 포함된 변수의 개수와 관측치 개수 알아보기 "
   ]
  },
  {
   "cell_type": "code",
   "execution_count": 3,
   "metadata": {},
   "outputs": [
    {
     "data": {
      "text/plain": [
       "(3827, 15)"
      ]
     },
     "execution_count": 3,
     "metadata": {},
     "output_type": "execute_result"
    }
   ],
   "source": [
    "apt.shape # data frame의 행열의 수 "
   ]
  },
  {
   "cell_type": "markdown",
   "metadata": {},
   "source": [
    "- 데이터에 포함된 변수명 살펴보기 "
   ]
  },
  {
   "cell_type": "code",
   "execution_count": 4,
   "metadata": {},
   "outputs": [
    {
     "data": {
      "text/plain": [
       "Index(['시군구', '번지', '본번', '부번', '단지명', '전용면적(㎡)', '계약년월', '계약일', '거래금액(만원)',\n",
       "       '층', '건축년도', '도로명', '시', '구', '동'],\n",
       "      dtype='object')"
      ]
     },
     "execution_count": 4,
     "metadata": {},
     "output_type": "execute_result"
    }
   ],
   "source": [
    "apt.columns"
   ]
  },
  {
   "cell_type": "markdown",
   "metadata": {},
   "source": [
    "- 데이터를 전체적으로 살펴보기 : 데이터의 시작 부분이나 마지막 부분을 확인해보기   "
   ]
  },
  {
   "cell_type": "code",
   "execution_count": 5,
   "metadata": {},
   "outputs": [
    {
     "data": {
      "text/html": [
       "<div>\n",
       "<style scoped>\n",
       "    .dataframe tbody tr th:only-of-type {\n",
       "        vertical-align: middle;\n",
       "    }\n",
       "\n",
       "    .dataframe tbody tr th {\n",
       "        vertical-align: top;\n",
       "    }\n",
       "\n",
       "    .dataframe thead th {\n",
       "        text-align: right;\n",
       "    }\n",
       "</style>\n",
       "<table border=\"1\" class=\"dataframe\">\n",
       "  <thead>\n",
       "    <tr style=\"text-align: right;\">\n",
       "      <th></th>\n",
       "      <th>시군구</th>\n",
       "      <th>번지</th>\n",
       "      <th>본번</th>\n",
       "      <th>부번</th>\n",
       "      <th>단지명</th>\n",
       "      <th>전용면적(㎡)</th>\n",
       "      <th>계약년월</th>\n",
       "      <th>계약일</th>\n",
       "      <th>거래금액(만원)</th>\n",
       "      <th>층</th>\n",
       "      <th>건축년도</th>\n",
       "      <th>도로명</th>\n",
       "      <th>시</th>\n",
       "      <th>구</th>\n",
       "      <th>동</th>\n",
       "    </tr>\n",
       "  </thead>\n",
       "  <tbody>\n",
       "    <tr>\n",
       "      <th>0</th>\n",
       "      <td>서울특별시 강남구 개포동</td>\n",
       "      <td>652</td>\n",
       "      <td>652</td>\n",
       "      <td>0</td>\n",
       "      <td>개포우성3차</td>\n",
       "      <td>104.43</td>\n",
       "      <td>202102</td>\n",
       "      <td>9</td>\n",
       "      <td>145000</td>\n",
       "      <td>6</td>\n",
       "      <td>1984</td>\n",
       "      <td>개포로 307</td>\n",
       "      <td>서울특별시</td>\n",
       "      <td>강남구</td>\n",
       "      <td>개포동</td>\n",
       "    </tr>\n",
       "    <tr>\n",
       "      <th>1</th>\n",
       "      <td>서울특별시 강남구 개포동</td>\n",
       "      <td>185</td>\n",
       "      <td>185</td>\n",
       "      <td>0</td>\n",
       "      <td>개포주공 6단지</td>\n",
       "      <td>53.06</td>\n",
       "      <td>202102</td>\n",
       "      <td>1</td>\n",
       "      <td>200000</td>\n",
       "      <td>12</td>\n",
       "      <td>1983</td>\n",
       "      <td>개포로 516</td>\n",
       "      <td>서울특별시</td>\n",
       "      <td>강남구</td>\n",
       "      <td>개포동</td>\n",
       "    </tr>\n",
       "    <tr>\n",
       "      <th>2</th>\n",
       "      <td>서울특별시 강남구 개포동</td>\n",
       "      <td>185</td>\n",
       "      <td>185</td>\n",
       "      <td>0</td>\n",
       "      <td>개포주공 6단지</td>\n",
       "      <td>73.02</td>\n",
       "      <td>202102</td>\n",
       "      <td>28</td>\n",
       "      <td>243000</td>\n",
       "      <td>7</td>\n",
       "      <td>1983</td>\n",
       "      <td>개포로 516</td>\n",
       "      <td>서울특별시</td>\n",
       "      <td>강남구</td>\n",
       "      <td>개포동</td>\n",
       "    </tr>\n",
       "    <tr>\n",
       "      <th>3</th>\n",
       "      <td>서울특별시 강남구 개포동</td>\n",
       "      <td>649</td>\n",
       "      <td>649</td>\n",
       "      <td>0</td>\n",
       "      <td>경남2차</td>\n",
       "      <td>182.20</td>\n",
       "      <td>202102</td>\n",
       "      <td>5</td>\n",
       "      <td>327000</td>\n",
       "      <td>11</td>\n",
       "      <td>1984</td>\n",
       "      <td>언주로 110</td>\n",
       "      <td>서울특별시</td>\n",
       "      <td>강남구</td>\n",
       "      <td>개포동</td>\n",
       "    </tr>\n",
       "    <tr>\n",
       "      <th>4</th>\n",
       "      <td>서울특별시 강남구 개포동</td>\n",
       "      <td>649</td>\n",
       "      <td>649</td>\n",
       "      <td>0</td>\n",
       "      <td>경남2차</td>\n",
       "      <td>186.16</td>\n",
       "      <td>202102</td>\n",
       "      <td>6</td>\n",
       "      <td>332000</td>\n",
       "      <td>14</td>\n",
       "      <td>1984</td>\n",
       "      <td>언주로 110</td>\n",
       "      <td>서울특별시</td>\n",
       "      <td>강남구</td>\n",
       "      <td>개포동</td>\n",
       "    </tr>\n",
       "  </tbody>\n",
       "</table>\n",
       "</div>"
      ],
      "text/plain": [
       "             시군구   번지   본번  부번       단지명  전용면적(㎡)    계약년월  계약일  거래금액(만원)   층  \\\n",
       "0  서울특별시 강남구 개포동  652  652   0    개포우성3차   104.43  202102    9    145000   6   \n",
       "1  서울특별시 강남구 개포동  185  185   0  개포주공 6단지    53.06  202102    1    200000  12   \n",
       "2  서울특별시 강남구 개포동  185  185   0  개포주공 6단지    73.02  202102   28    243000   7   \n",
       "3  서울특별시 강남구 개포동  649  649   0      경남2차   182.20  202102    5    327000  11   \n",
       "4  서울특별시 강남구 개포동  649  649   0      경남2차   186.16  202102    6    332000  14   \n",
       "\n",
       "   건축년도      도로명      시    구    동  \n",
       "0  1984  개포로 307  서울특별시  강남구  개포동  \n",
       "1  1983  개포로 516  서울특별시  강남구  개포동  \n",
       "2  1983  개포로 516  서울특별시  강남구  개포동  \n",
       "3  1984  언주로 110  서울특별시  강남구  개포동  \n",
       "4  1984  언주로 110  서울특별시  강남구  개포동  "
      ]
     },
     "execution_count": 5,
     "metadata": {},
     "output_type": "execute_result"
    }
   ],
   "source": [
    "apt.head()"
   ]
  },
  {
   "cell_type": "code",
   "execution_count": 6,
   "metadata": {},
   "outputs": [
    {
     "data": {
      "text/html": [
       "<div>\n",
       "<style scoped>\n",
       "    .dataframe tbody tr th:only-of-type {\n",
       "        vertical-align: middle;\n",
       "    }\n",
       "\n",
       "    .dataframe tbody tr th {\n",
       "        vertical-align: top;\n",
       "    }\n",
       "\n",
       "    .dataframe thead th {\n",
       "        text-align: right;\n",
       "    }\n",
       "</style>\n",
       "<table border=\"1\" class=\"dataframe\">\n",
       "  <thead>\n",
       "    <tr style=\"text-align: right;\">\n",
       "      <th></th>\n",
       "      <th>시군구</th>\n",
       "      <th>번지</th>\n",
       "      <th>본번</th>\n",
       "      <th>부번</th>\n",
       "      <th>단지명</th>\n",
       "      <th>전용면적(㎡)</th>\n",
       "      <th>계약년월</th>\n",
       "      <th>계약일</th>\n",
       "      <th>거래금액(만원)</th>\n",
       "      <th>층</th>\n",
       "      <th>건축년도</th>\n",
       "      <th>도로명</th>\n",
       "      <th>시</th>\n",
       "      <th>구</th>\n",
       "      <th>동</th>\n",
       "    </tr>\n",
       "  </thead>\n",
       "  <tbody>\n",
       "    <tr>\n",
       "      <th>3817</th>\n",
       "      <td>서울특별시 중랑구 중화동</td>\n",
       "      <td>450</td>\n",
       "      <td>450</td>\n",
       "      <td>0</td>\n",
       "      <td>한신1차</td>\n",
       "      <td>59.76</td>\n",
       "      <td>202102</td>\n",
       "      <td>4</td>\n",
       "      <td>63000</td>\n",
       "      <td>3</td>\n",
       "      <td>1997</td>\n",
       "      <td>동일로 752</td>\n",
       "      <td>서울특별시</td>\n",
       "      <td>중랑구</td>\n",
       "      <td>중화동</td>\n",
       "    </tr>\n",
       "    <tr>\n",
       "      <th>3818</th>\n",
       "      <td>서울특별시 중랑구 중화동</td>\n",
       "      <td>450</td>\n",
       "      <td>450</td>\n",
       "      <td>0</td>\n",
       "      <td>한신1차</td>\n",
       "      <td>84.03</td>\n",
       "      <td>202102</td>\n",
       "      <td>4</td>\n",
       "      <td>80000</td>\n",
       "      <td>3</td>\n",
       "      <td>1997</td>\n",
       "      <td>동일로 752</td>\n",
       "      <td>서울특별시</td>\n",
       "      <td>중랑구</td>\n",
       "      <td>중화동</td>\n",
       "    </tr>\n",
       "    <tr>\n",
       "      <th>3819</th>\n",
       "      <td>서울특별시 중랑구 중화동</td>\n",
       "      <td>450</td>\n",
       "      <td>450</td>\n",
       "      <td>0</td>\n",
       "      <td>한신1차</td>\n",
       "      <td>59.76</td>\n",
       "      <td>202102</td>\n",
       "      <td>6</td>\n",
       "      <td>64500</td>\n",
       "      <td>5</td>\n",
       "      <td>1997</td>\n",
       "      <td>동일로 752</td>\n",
       "      <td>서울특별시</td>\n",
       "      <td>중랑구</td>\n",
       "      <td>중화동</td>\n",
       "    </tr>\n",
       "    <tr>\n",
       "      <th>3820</th>\n",
       "      <td>서울특별시 중랑구 중화동</td>\n",
       "      <td>450</td>\n",
       "      <td>450</td>\n",
       "      <td>0</td>\n",
       "      <td>한신1차</td>\n",
       "      <td>59.76</td>\n",
       "      <td>202102</td>\n",
       "      <td>6</td>\n",
       "      <td>64000</td>\n",
       "      <td>6</td>\n",
       "      <td>1997</td>\n",
       "      <td>동일로 752</td>\n",
       "      <td>서울특별시</td>\n",
       "      <td>중랑구</td>\n",
       "      <td>중화동</td>\n",
       "    </tr>\n",
       "    <tr>\n",
       "      <th>3821</th>\n",
       "      <td>서울특별시 중랑구 중화동</td>\n",
       "      <td>450</td>\n",
       "      <td>450</td>\n",
       "      <td>0</td>\n",
       "      <td>한신1차</td>\n",
       "      <td>50.37</td>\n",
       "      <td>202102</td>\n",
       "      <td>8</td>\n",
       "      <td>60500</td>\n",
       "      <td>19</td>\n",
       "      <td>1997</td>\n",
       "      <td>동일로 752</td>\n",
       "      <td>서울특별시</td>\n",
       "      <td>중랑구</td>\n",
       "      <td>중화동</td>\n",
       "    </tr>\n",
       "    <tr>\n",
       "      <th>3822</th>\n",
       "      <td>서울특별시 중랑구 중화동</td>\n",
       "      <td>450</td>\n",
       "      <td>450</td>\n",
       "      <td>0</td>\n",
       "      <td>한신1차</td>\n",
       "      <td>50.37</td>\n",
       "      <td>202102</td>\n",
       "      <td>9</td>\n",
       "      <td>62000</td>\n",
       "      <td>19</td>\n",
       "      <td>1997</td>\n",
       "      <td>동일로 752</td>\n",
       "      <td>서울특별시</td>\n",
       "      <td>중랑구</td>\n",
       "      <td>중화동</td>\n",
       "    </tr>\n",
       "    <tr>\n",
       "      <th>3823</th>\n",
       "      <td>서울특별시 중랑구 중화동</td>\n",
       "      <td>450</td>\n",
       "      <td>450</td>\n",
       "      <td>0</td>\n",
       "      <td>한신1차</td>\n",
       "      <td>59.76</td>\n",
       "      <td>202102</td>\n",
       "      <td>9</td>\n",
       "      <td>66000</td>\n",
       "      <td>22</td>\n",
       "      <td>1997</td>\n",
       "      <td>동일로 752</td>\n",
       "      <td>서울특별시</td>\n",
       "      <td>중랑구</td>\n",
       "      <td>중화동</td>\n",
       "    </tr>\n",
       "    <tr>\n",
       "      <th>3824</th>\n",
       "      <td>서울특별시 중랑구 중화동</td>\n",
       "      <td>450</td>\n",
       "      <td>450</td>\n",
       "      <td>0</td>\n",
       "      <td>한신2</td>\n",
       "      <td>59.76</td>\n",
       "      <td>202102</td>\n",
       "      <td>1</td>\n",
       "      <td>65000</td>\n",
       "      <td>8</td>\n",
       "      <td>1998</td>\n",
       "      <td>동일로 752</td>\n",
       "      <td>서울특별시</td>\n",
       "      <td>중랑구</td>\n",
       "      <td>중화동</td>\n",
       "    </tr>\n",
       "    <tr>\n",
       "      <th>3825</th>\n",
       "      <td>서울특별시 중랑구 중화동</td>\n",
       "      <td>450</td>\n",
       "      <td>450</td>\n",
       "      <td>0</td>\n",
       "      <td>한신2</td>\n",
       "      <td>84.03</td>\n",
       "      <td>202102</td>\n",
       "      <td>2</td>\n",
       "      <td>79800</td>\n",
       "      <td>6</td>\n",
       "      <td>1998</td>\n",
       "      <td>동일로 752</td>\n",
       "      <td>서울특별시</td>\n",
       "      <td>중랑구</td>\n",
       "      <td>중화동</td>\n",
       "    </tr>\n",
       "    <tr>\n",
       "      <th>3826</th>\n",
       "      <td>서울특별시 중랑구 중화동</td>\n",
       "      <td>274-51</td>\n",
       "      <td>274</td>\n",
       "      <td>51</td>\n",
       "      <td>한영(101)</td>\n",
       "      <td>57.66</td>\n",
       "      <td>202102</td>\n",
       "      <td>27</td>\n",
       "      <td>30500</td>\n",
       "      <td>5</td>\n",
       "      <td>2003</td>\n",
       "      <td>동일로144길 74</td>\n",
       "      <td>서울특별시</td>\n",
       "      <td>중랑구</td>\n",
       "      <td>중화동</td>\n",
       "    </tr>\n",
       "  </tbody>\n",
       "</table>\n",
       "</div>"
      ],
      "text/plain": [
       "                시군구      번지   본번  부번      단지명  전용면적(㎡)    계약년월  계약일  거래금액(만원)  \\\n",
       "3817  서울특별시 중랑구 중화동     450  450   0     한신1차    59.76  202102    4     63000   \n",
       "3818  서울특별시 중랑구 중화동     450  450   0     한신1차    84.03  202102    4     80000   \n",
       "3819  서울특별시 중랑구 중화동     450  450   0     한신1차    59.76  202102    6     64500   \n",
       "3820  서울특별시 중랑구 중화동     450  450   0     한신1차    59.76  202102    6     64000   \n",
       "3821  서울특별시 중랑구 중화동     450  450   0     한신1차    50.37  202102    8     60500   \n",
       "3822  서울특별시 중랑구 중화동     450  450   0     한신1차    50.37  202102    9     62000   \n",
       "3823  서울특별시 중랑구 중화동     450  450   0     한신1차    59.76  202102    9     66000   \n",
       "3824  서울특별시 중랑구 중화동     450  450   0      한신2    59.76  202102    1     65000   \n",
       "3825  서울특별시 중랑구 중화동     450  450   0      한신2    84.03  202102    2     79800   \n",
       "3826  서울특별시 중랑구 중화동  274-51  274  51  한영(101)    57.66  202102   27     30500   \n",
       "\n",
       "       층  건축년도         도로명      시    구    동  \n",
       "3817   3  1997     동일로 752  서울특별시  중랑구  중화동  \n",
       "3818   3  1997     동일로 752  서울특별시  중랑구  중화동  \n",
       "3819   5  1997     동일로 752  서울특별시  중랑구  중화동  \n",
       "3820   6  1997     동일로 752  서울특별시  중랑구  중화동  \n",
       "3821  19  1997     동일로 752  서울특별시  중랑구  중화동  \n",
       "3822  19  1997     동일로 752  서울특별시  중랑구  중화동  \n",
       "3823  22  1997     동일로 752  서울특별시  중랑구  중화동  \n",
       "3824   8  1998     동일로 752  서울특별시  중랑구  중화동  \n",
       "3825   6  1998     동일로 752  서울특별시  중랑구  중화동  \n",
       "3826   5  2003  동일로144길 74  서울특별시  중랑구  중화동  "
      ]
     },
     "execution_count": 6,
     "metadata": {},
     "output_type": "execute_result"
    }
   ],
   "source": [
    "apt.tail(n=10)"
   ]
  },
  {
   "cell_type": "markdown",
   "metadata": {},
   "source": [
    "- 변수의 개별 속성 확인 \n",
    "    - 연산이 가능한 수치형(numeric)인지? 문자열(character)인지?\n",
    "    - 수치형 : int64 $\\rightarrow$ 정수형, float64  $\\rightarrow$ 실수형 \n",
    "    - 문자열 : object $\\rightarrow$ 문자열 타입\n",
    "    - 숫자처럼 보이더라도 속성이 문자열인 경우가 있으므로 확인 필요 "
   ]
  },
  {
   "cell_type": "code",
   "execution_count": 7,
   "metadata": {
    "scrolled": false
   },
   "outputs": [
    {
     "name": "stdout",
     "output_type": "stream",
     "text": [
      "<class 'pandas.core.frame.DataFrame'>\n",
      "RangeIndex: 3827 entries, 0 to 3826\n",
      "Data columns (total 15 columns):\n",
      " #   Column    Non-Null Count  Dtype  \n",
      "---  ------    --------------  -----  \n",
      " 0   시군구       3827 non-null   object \n",
      " 1   번지        3827 non-null   object \n",
      " 2   본번        3827 non-null   int64  \n",
      " 3   부번        3827 non-null   int64  \n",
      " 4   단지명       3827 non-null   object \n",
      " 5   전용면적(㎡)   3827 non-null   float64\n",
      " 6   계약년월      3827 non-null   int64  \n",
      " 7   계약일       3827 non-null   int64  \n",
      " 8   거래금액(만원)  3827 non-null   int64  \n",
      " 9   층         3827 non-null   int64  \n",
      " 10  건축년도      3827 non-null   int64  \n",
      " 11  도로명       3827 non-null   object \n",
      " 12  시         3827 non-null   object \n",
      " 13  구         3827 non-null   object \n",
      " 14  동         3827 non-null   object \n",
      "dtypes: float64(1), int64(7), object(7)\n",
      "memory usage: 448.6+ KB\n"
     ]
    }
   ],
   "source": [
    "apt.info() # Dtype "
   ]
  },
  {
   "cell_type": "markdown",
   "metadata": {},
   "source": [
    "- 범주형 변수에 대한 요약 : 도수분포표(frequency table) "
   ]
  },
  {
   "cell_type": "code",
   "execution_count": 8,
   "metadata": {},
   "outputs": [
    {
     "data": {
      "text/plain": [
       "노원구     380\n",
       "강서구     259\n",
       "강남구     241\n",
       "구로구     208\n",
       "서초구     202\n",
       "성북구     198\n",
       "도봉구     191\n",
       "송파구     174\n",
       "양천구     167\n",
       "강동구     160\n",
       "영등포구    152\n",
       "중랑구     148\n",
       "관악구     135\n",
       "서대문구    133\n",
       "은평구     127\n",
       "성동구     124\n",
       "마포구     124\n",
       "동작구     118\n",
       "강북구     117\n",
       "동대문구    114\n",
       "중구      100\n",
       "용산구      81\n",
       "금천구      75\n",
       "광진구      63\n",
       "종로구      36\n",
       "Name: 구, dtype: int64"
      ]
     },
     "execution_count": 8,
     "metadata": {},
     "output_type": "execute_result"
    }
   ],
   "source": [
    "apt.구.value_counts() "
   ]
  },
  {
   "cell_type": "markdown",
   "metadata": {},
   "source": [
    "- 결측치 유무 확인"
   ]
  },
  {
   "cell_type": "code",
   "execution_count": 9,
   "metadata": {
    "scrolled": true
   },
   "outputs": [
    {
     "data": {
      "text/plain": [
       "시군구         False\n",
       "번지          False\n",
       "본번          False\n",
       "부번          False\n",
       "단지명         False\n",
       "전용면적(㎡)     False\n",
       "계약년월        False\n",
       "계약일         False\n",
       "거래금액(만원)    False\n",
       "층           False\n",
       "건축년도        False\n",
       "도로명         False\n",
       "시           False\n",
       "구           False\n",
       "동           False\n",
       "dtype: bool"
      ]
     },
     "execution_count": 9,
     "metadata": {},
     "output_type": "execute_result"
    }
   ],
   "source": [
    "apt.isnull().any()"
   ]
  },
  {
   "cell_type": "markdown",
   "metadata": {},
   "source": [
    "- 결측치 개수 확인 "
   ]
  },
  {
   "cell_type": "code",
   "execution_count": 10,
   "metadata": {},
   "outputs": [
    {
     "data": {
      "text/plain": [
       "시군구         0\n",
       "번지          0\n",
       "본번          0\n",
       "부번          0\n",
       "단지명         0\n",
       "전용면적(㎡)     0\n",
       "계약년월        0\n",
       "계약일         0\n",
       "거래금액(만원)    0\n",
       "층           0\n",
       "건축년도        0\n",
       "도로명         0\n",
       "시           0\n",
       "구           0\n",
       "동           0\n",
       "dtype: int64"
      ]
     },
     "execution_count": 10,
     "metadata": {},
     "output_type": "execute_result"
    }
   ],
   "source": [
    "apt.isnull().sum()"
   ]
  }
 ],
 "metadata": {
  "anaconda-cloud": {},
  "celltoolbar": "Slideshow",
  "kernelspec": {
   "display_name": "Python 3 (ipykernel)",
   "language": "python",
   "name": "python3"
  },
  "language_info": {
   "codemirror_mode": {
    "name": "ipython",
    "version": 3
   },
   "file_extension": ".py",
   "mimetype": "text/x-python",
   "name": "python",
   "nbconvert_exporter": "python",
   "pygments_lexer": "ipython3",
   "version": "3.9.7"
  }
 },
 "nbformat": 4,
 "nbformat_minor": 1
}
