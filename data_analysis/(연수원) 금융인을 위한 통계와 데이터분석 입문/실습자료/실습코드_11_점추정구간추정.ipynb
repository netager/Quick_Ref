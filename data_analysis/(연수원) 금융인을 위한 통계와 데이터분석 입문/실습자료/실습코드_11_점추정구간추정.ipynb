{
 "cells": [
  {
   "cell_type": "markdown",
   "metadata": {},
   "source": [
    "## 파이썬을 활용한 모평균의 추정 : 점추정, 구간추정 "
   ]
  },
  {
   "cell_type": "markdown",
   "metadata": {},
   "source": [
    "### 생성된 자료를 활용하여 추정 이해 "
   ]
  },
  {
   "cell_type": "code",
   "execution_count": 1,
   "metadata": {},
   "outputs": [],
   "source": [
    "import pandas as pd\n",
    "import numpy as np\n",
    "from scipy import stats"
   ]
  },
  {
   "cell_type": "code",
   "execution_count": 2,
   "metadata": {},
   "outputs": [
    {
     "data": {
      "text/plain": [
       "array([0, 1, 2, 3, 4, 5, 6, 7, 8, 9])"
      ]
     },
     "execution_count": 2,
     "metadata": {},
     "output_type": "execute_result"
    }
   ],
   "source": [
    "sample = np.arange(0,10)\n",
    "sample"
   ]
  },
  {
   "cell_type": "code",
   "execution_count": null,
   "metadata": {},
   "outputs": [],
   "source": [
    "# 표본에서 평균과 표준오차 계산 \n",
    "sample_mean = np.mean(sample)\n",
    "sample_se = stats.sem(sample)\n",
    "print('표본평균= ', sample_mean, ', 표준오차= ', sample_se)"
   ]
  },
  {
   "cell_type": "markdown",
   "metadata": {},
   "source": [
    "- 모평균에 대한 $(1-\\alpha) 100\\%$ 신뢰구간 : \n",
    "$\\left(\\bar{X} - t_{\\alpha/2, n-1} \\frac{S}{\\sqrt{n} }, \\bar{X} + t_{\\alpha/2, n-1} \\frac{S}{\\sqrt{n} } \\right)$"
   ]
  },
  {
   "cell_type": "markdown",
   "metadata": {},
   "source": [
    "- 모평균에 대한 $99\\%$ 신뢰구간"
   ]
  },
  {
   "cell_type": "code",
   "execution_count": null,
   "metadata": {},
   "outputs": [],
   "source": [
    "confidence_level = 0.99\n",
    "df = sample.size - 1\n",
    "confidence_interval = stats.t.interval(confidence_level, df, sample_mean, sample_se)\n",
    "print(confidence_interval)"
   ]
  },
  {
   "cell_type": "markdown",
   "metadata": {},
   "source": [
    "$\\Rightarrow$ 모평균에 대한 $99\\%$ 신뢰구간은 (1.39, 7.61)"
   ]
  },
  {
   "cell_type": "markdown",
   "metadata": {},
   "source": [
    "- 모평균에 대한 $95\\%$ 신뢰구간"
   ]
  },
  {
   "cell_type": "code",
   "execution_count": null,
   "metadata": {},
   "outputs": [],
   "source": [
    "confidence_level = 0.95\n",
    "df = sample.size - 1\n",
    "confidence_interval = stats.t.interval(confidence_level, df, sample_mean, sample_se)\n",
    "print(confidence_interval)"
   ]
  },
  {
   "cell_type": "markdown",
   "metadata": {},
   "source": [
    "$\\Rightarrow$ 모평균에 대한 $95\\%$ 신뢰구간은 (2.33, 6.67)로 **신뢰수준이 낮아지면** **구간의 크기가 작아짐**을 확인할 수 있음 "
   ]
  },
  {
   "cell_type": "markdown",
   "metadata": {},
   "source": [
    "- 표본의 크기가 커지면? "
   ]
  },
  {
   "cell_type": "code",
   "execution_count": null,
   "metadata": {},
   "outputs": [],
   "source": [
    "sample = np.repeat(np.arange(0,10), 5)\n",
    "sample"
   ]
  },
  {
   "cell_type": "code",
   "execution_count": null,
   "metadata": {},
   "outputs": [],
   "source": [
    "# 표본에서 평균과 표준오차 계산 \n",
    "sample_mean = np.mean(sample)\n",
    "sample_se = stats.sem(sample)\n",
    "print('표본평균= ', sample_mean, ', 표준오차= ', sample_se)"
   ]
  },
  {
   "cell_type": "code",
   "execution_count": null,
   "metadata": {},
   "outputs": [],
   "source": [
    "confidence_level = 0.95\n",
    "df = sample.size - 1\n",
    "confidence_interval = stats.t.interval(confidence_level, df, sample_mean, sample_se)\n",
    "print(confidence_interval)"
   ]
  },
  {
   "cell_type": "markdown",
   "metadata": {},
   "source": [
    "$\\Rightarrow$ 모평균에 대한 $95\\%$ 신뢰구간은 (3.12, 5.88)로 이전 예시에서 구한 (2.33, 6.67)에 비해 구간이 좁아짐을 확인 \n",
    "\n",
    "$\\Rightarrow$ **표본의 크기가 커지면** 동일한 평균을 가지더라도 **구간이 좁아짐**을 확인할 수 있음 "
   ]
  },
  {
   "cell_type": "markdown",
   "metadata": {},
   "source": [
    "### 아파트 실거래가 데이터 활용한 평균의 추정 "
   ]
  },
  {
   "cell_type": "code",
   "execution_count": null,
   "metadata": {},
   "outputs": [],
   "source": [
    "import pandas as pd\n",
    "apt = pd.read_excel('data/아파트_실거래가_서울.xlsx')\n",
    "apt.rename(columns = {'전용면적(㎡)' : '면적', '거래금액(만원)' : '가격'}, inplace = True)\n",
    "apt['단가'] = apt.가격 / apt.면적"
   ]
  },
  {
   "cell_type": "code",
   "execution_count": null,
   "metadata": {},
   "outputs": [],
   "source": [
    "# 데이터에서 단가의 평균과 표준오차 계산 \n",
    "sample_mean = apt.단가.mean() # np.mean(apt.단가)도 동일\n",
    "sample_se = apt.단가.sem() # stats.sem(apt.단가)도 동일\n",
    "print('표본평균= ', sample_mean, ', 표준오차= ', sample_se)"
   ]
  },
  {
   "cell_type": "code",
   "execution_count": null,
   "metadata": {},
   "outputs": [],
   "source": [
    "confidence_level = 0.95\n",
    "df = len(apt) - 1\n",
    "confidence_interval = stats.t.interval(confidence_level, df, sample_mean, sample_se)\n",
    "print(confidence_interval)"
   ]
  }
 ],
 "metadata": {
  "anaconda-cloud": {},
  "celltoolbar": "Slideshow",
  "kernelspec": {
   "display_name": "Python 3 (ipykernel)",
   "language": "python",
   "name": "python3"
  },
  "language_info": {
   "codemirror_mode": {
    "name": "ipython",
    "version": 3
   },
   "file_extension": ".py",
   "mimetype": "text/x-python",
   "name": "python",
   "nbconvert_exporter": "python",
   "pygments_lexer": "ipython3",
   "version": "3.9.7"
  }
 },
 "nbformat": 4,
 "nbformat_minor": 1
}
