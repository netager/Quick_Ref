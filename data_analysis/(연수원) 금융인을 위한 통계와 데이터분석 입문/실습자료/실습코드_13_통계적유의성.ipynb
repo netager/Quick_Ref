{
 "cells": [
  {
   "cell_type": "markdown",
   "metadata": {},
   "source": [
    "# 파이썬을 활용한 모평균에 대한 가설검정"
   ]
  },
  {
   "cell_type": "markdown",
   "metadata": {},
   "source": [
    "## 두 집단의 평균 비교 : 쌍체표본 T-검정 (Paired T-test)\n",
    "\n",
    "- (예) 새로운 시스템 도입 후 20개 지역의 연간 민원 접수 건수 비교 "
   ]
  },
  {
   "cell_type": "code",
   "execution_count": null,
   "metadata": {},
   "outputs": [],
   "source": [
    "before = [130, 133, 132, 138, 140, 128, 140, 132, 126, 130, 125, 140]\n",
    "after = [120, 130, 121, 107, 132, 125, 141, 133, 118, 133, 111, 131]"
   ]
  },
  {
   "cell_type": "code",
   "execution_count": null,
   "metadata": {},
   "outputs": [],
   "source": [
    "import pandas as pd\n",
    "dat = pd.DataFrame({'before' : before, 'after' : after})"
   ]
  },
  {
   "cell_type": "code",
   "execution_count": null,
   "metadata": {},
   "outputs": [],
   "source": [
    "dat.mean()"
   ]
  },
  {
   "cell_type": "code",
   "execution_count": null,
   "metadata": {
    "scrolled": false
   },
   "outputs": [],
   "source": [
    "import matplotlib.pyplot as plt\n",
    "import seaborn as sns\n",
    "\n",
    "sns.boxplot(data=dat, showmeans=True)\n",
    "plt.show()"
   ]
  },
  {
   "cell_type": "markdown",
   "metadata": {},
   "source": [
    "- (예) 새로운 시스템 도입 후 20개 지역의 연간 민원 접수 건수에 **차이가 나는지**를 검정 \n",
    "    - 실제로는 지역에 관한 정보로 전/후 관측치가 연결되어 있고 관심은 **전/후 값의 차이**이므로 단일 표본의 평균 검정과 동일함 : paired t-test 고려 \n",
    "    - (양측검정) $H_0$ : $\\mu_{before} =\\mu_{after}$ vs. $H_1$ : $\\mu_{before} \\neq \\mu_{after}$ "
   ]
  },
  {
   "cell_type": "code",
   "execution_count": null,
   "metadata": {},
   "outputs": [],
   "source": [
    "# paired T-test 시행\n",
    "from scipy import stats\n",
    "\n",
    "result = stats.ttest_rel(dat.before, dat.after) # (default) 양측검정\n",
    "result"
   ]
  },
  {
   "cell_type": "code",
   "execution_count": null,
   "metadata": {},
   "outputs": [],
   "source": [
    "print(\"검정통계량= %.3f , p-value = %.3f\" % result)\n",
    "\n",
    "# (참고) 다른 출력 방식 \n",
    "t, p = result\n",
    "print('양측검정 p-value : %.4f' % p)"
   ]
  },
  {
   "cell_type": "markdown",
   "metadata": {},
   "source": [
    "- (양측 검정)\n",
    "    - 결과 : p-value(=0.014) < $\\alpha$ (0.05). 따라서 $H_0$ 기각\n",
    "    - 해석 : before와 after의 평균이 **통계적으로 유의(statistically significant)**하게 **다르다**고 할 수 있다. "
   ]
  },
  {
   "cell_type": "markdown",
   "metadata": {},
   "source": [
    "- (예) 새로운 시스템 도입 후 20개 지역의 연간 민원 접수 건수가 감소했는지를 검정 \n",
    "    - (단측검정) $H_0$ : $\\mu_{before} =\\mu_{after}$, $H_1$ : $\\mu_{before} > \\mu_{after}$ "
   ]
  },
  {
   "cell_type": "code",
   "execution_count": null,
   "metadata": {},
   "outputs": [],
   "source": [
    "p2 = p/2\n",
    "print('단측검정 p-value : %.4f' % p2)"
   ]
  },
  {
   "cell_type": "markdown",
   "metadata": {},
   "source": [
    "- (단측 검정) \n",
    "    - 결과 : p-value(=0.014/2) < $\\alpha$ (0.05). 따라서 $H_0$ 기각\n",
    "    - 해석 : after의 평균이 before의 평균보다 **통계적으로 유의**하게 **작다**고 할 수 있다. "
   ]
  },
  {
   "cell_type": "markdown",
   "metadata": {
    "slideshow": {
     "slide_type": "slide"
    }
   },
   "source": [
    "## 두 집단의 평균 비교 : 독립표본 T-검정 (Two independent sample T-test)\n",
    "\n",
    "- 서로 독립인 두 집단에서 관심 변수의 평균을 비교\n",
    "    - (예) 음식값을 지불하는 사람의 성별(sex)에 따라 팁(tip)의 평균 비교"
   ]
  },
  {
   "cell_type": "code",
   "execution_count": null,
   "metadata": {
    "slideshow": {
     "slide_type": "fragment"
    }
   },
   "outputs": [],
   "source": [
    "tips = sns.load_dataset('tips')\n",
    "tips.head()"
   ]
  },
  {
   "cell_type": "code",
   "execution_count": null,
   "metadata": {},
   "outputs": [],
   "source": [
    "tips.sex.value_counts()"
   ]
  },
  {
   "cell_type": "code",
   "execution_count": null,
   "metadata": {},
   "outputs": [],
   "source": [
    "tips.groupby('sex').tip.mean() "
   ]
  },
  {
   "cell_type": "code",
   "execution_count": null,
   "metadata": {
    "scrolled": true
   },
   "outputs": [],
   "source": [
    "sns.boxplot(x=\"sex\", y=\"tip\", data=tips, showmeans=True)\n",
    "plt.show()"
   ]
  },
  {
   "cell_type": "code",
   "execution_count": null,
   "metadata": {
    "scrolled": true
   },
   "outputs": [],
   "source": [
    "# sex 에 따라 데이터셋 분리 \n",
    "dat_M = tips.loc[tips.sex == 'Male', ['tip', 'sex']]\n",
    "dat_F = tips.loc[tips.sex == 'Female', ['tip', 'sex']]"
   ]
  },
  {
   "cell_type": "markdown",
   "metadata": {},
   "source": [
    "- (양측검정인 경우) $H_0$ : $\\mu_m =\\mu_f$, $H_1$ : $\\mu_m \\neq \\mu_f$  \n",
    "- (단측검정인 경우) $H_0$ : $\\mu_m =\\mu_f$, $H_1$ : $\\mu_m > \\mu_f$ \n",
    "\n",
    "- 검정절차 : \n",
    "    - [step 1] : 두 집단의 **모분산**이 동일한지에 관한 검정\n",
    "    - [step 2] : **모평균**에 대한 **T-test** 시행 : 분산이 동일한지 아닌지 여부에 따라 ttest 함수의 옵션이 달라짐"
   ]
  },
  {
   "cell_type": "code",
   "execution_count": null,
   "metadata": {
    "slideshow": {
     "slide_type": "slide"
    }
   },
   "outputs": [],
   "source": [
    "# [step 1] 두 집단의 모분산이 동일한가를 검정하는 bartlett test\n",
    "\n",
    "s, p = stats.bartlett(dat_M.tip, dat_F.tip)\n",
    "print('p-value : %.4f' % p)"
   ]
  },
  {
   "cell_type": "markdown",
   "metadata": {},
   "source": [
    "- (등분산성 검정) $H_0$ : 등분산 / $H_1$ : 등분산 아님 \n",
    "    - 결과 : p-value(=0.0106) < $\\alpha$ (0.05). 따라서 $H_0$ 기각\n",
    "    - 해석 : $H_0$ 기각되므로 분산이 다르다고 할 수 있다. "
   ]
  },
  {
   "cell_type": "code",
   "execution_count": null,
   "metadata": {
    "scrolled": true,
    "slideshow": {
     "slide_type": "slide"
    }
   },
   "outputs": [],
   "source": [
    "# [step 2] T-test \n",
    "result = stats.ttest_ind(dat_M.tip, dat_F.tip, equal_var=False)\n",
    " \n",
    "print(\"등분산을 가정하지 않고 t-test의 검정통계량과 p-value는 %.3f and %.3f.\" % result)"
   ]
  },
  {
   "cell_type": "markdown",
   "metadata": {},
   "source": [
    "- **(양측 검정)**\n",
    "    - 결과 : p-value(=0.138) > $\\alpha$ (0.05). 따라서 $H_0$ 기각할 수 없음 \n",
    "    - 해석 : $H_0$ 기각할 수 없으므로 성별에 다른 tip의 평균은 통계적으로 유의(statistically significant)한 **차이가 없다**고 할 수 있다. "
   ]
  },
  {
   "cell_type": "markdown",
   "metadata": {},
   "source": [
    "- **(단측 검정)**\n",
    "    - 결과 : p-value(=0.138/2) > $\\alpha$ (0.05). 따라서 $H_0$ 기각할 수 없음 \n",
    "    - 해석 : $H_0$ 기각되므로 남성이 지불한 tip의 평균이 여성이 지불한 tip의 평균보다 통계적으로 유의(statistically significant)하게 **크다고 할 수 없다**. "
   ]
  }
 ],
 "metadata": {
  "anaconda-cloud": {},
  "celltoolbar": "Slideshow",
  "kernelspec": {
   "display_name": "Python 3",
   "language": "python",
   "name": "python3"
  },
  "language_info": {
   "codemirror_mode": {
    "name": "ipython",
    "version": 3
   },
   "file_extension": ".py",
   "mimetype": "text/x-python",
   "name": "python",
   "nbconvert_exporter": "python",
   "pygments_lexer": "ipython3",
   "version": "3.8.3"
  }
 },
 "nbformat": 4,
 "nbformat_minor": 1
}
