{
 "cells": [
  {
   "cell_type": "markdown",
   "metadata": {},
   "source": [
    "# Boston housing data를 활용한 데이터탐색 및 주택가격 예측  "
   ]
  },
  {
   "cell_type": "markdown",
   "metadata": {},
   "source": [
    "## Boston housing data\n",
    "\n",
    "| 변수명 | 변수설명 | \n",
    "| :-: | :-: | \n",
    "|CRIM | 지역별 범죄 발생률 |\n",
    "|ZN | 25,000평방피트를 초과하는 거주 지역의 비율 |\n",
    "|INDUS | 비상업 지역 넓이 비율 |\n",
    "|CHAS | 찰스강에 대한 가변수 (강 경계위치하면 1, 아니면 0) |\n",
    "|NOX | 일산화질소 농도 |\n",
    "|RM | 방의 개수 |\n",
    "|AGE | 1940년 이전에 건축된 자가 주택의 비율 |\n",
    "|DIS | 보스턴 5개 고용센터까지의 거리 | \n",
    "|RAD | 고속도로 접근성 |\n",
    "|TAX | 10,000달러 당 재산세 비율 |\n",
    "|PTRATIO | 교사와 학생의 비율 |\n",
    "|B | 흑인의 비율 | \n",
    "|LSTAT | 하위계층의 비율 |\n",
    "|MEDV | 자가 주택 가격(중위수값), 단위 = $1000|\n",
    "\n",
    "- MEDV이 관심 변수 "
   ]
  },
  {
   "cell_type": "code",
   "execution_count": null,
   "metadata": {},
   "outputs": [],
   "source": [
    "import matplotlib\n",
    "import matplotlib.pyplot as plt \n",
    "import seaborn as sns\n",
    "\n",
    "# boston housing data 준비 \n",
    "from sklearn.datasets import load_boston\n",
    "import pandas as pd\n",
    "tmp = load_boston()\n",
    "# 독립변수들\n",
    "boston = pd.DataFrame(tmp.data, columns = tmp.feature_names)"
   ]
  },
  {
   "cell_type": "code",
   "execution_count": null,
   "metadata": {},
   "outputs": [],
   "source": [
    "# target 변수를 boston 데이터프레임에 추가\n",
    "boston['medv'] = tmp.target "
   ]
  },
  {
   "cell_type": "code",
   "execution_count": null,
   "metadata": {},
   "outputs": [],
   "source": [
    "boston.shape"
   ]
  },
  {
   "cell_type": "code",
   "execution_count": null,
   "metadata": {
    "scrolled": true
   },
   "outputs": [],
   "source": [
    "boston.head() # 13개의 독립변수"
   ]
  },
  {
   "cell_type": "code",
   "execution_count": null,
   "metadata": {
    "scrolled": true
   },
   "outputs": [],
   "source": [
    "boston.isnull().sum()"
   ]
  },
  {
   "cell_type": "markdown",
   "metadata": {},
   "source": [
    "- 기초통계량 계산 "
   ]
  },
  {
   "cell_type": "code",
   "execution_count": null,
   "metadata": {
    "scrolled": true
   },
   "outputs": [],
   "source": [
    "boston.describe()"
   ]
  },
  {
   "cell_type": "markdown",
   "metadata": {},
   "source": [
    "- CHAS는 범주형 자료"
   ]
  },
  {
   "cell_type": "code",
   "execution_count": null,
   "metadata": {},
   "outputs": [],
   "source": [
    "boston.CHAS.value_counts()"
   ]
  },
  {
   "cell_type": "code",
   "execution_count": null,
   "metadata": {
    "scrolled": false
   },
   "outputs": [],
   "source": [
    "sns.boxplot(data=boston, x='CHAS', y='medv', showmeans=True)\n",
    "plt.show()"
   ]
  },
  {
   "cell_type": "markdown",
   "metadata": {},
   "source": [
    "- 찰스강 경계에 위치한 주택의 평균은 찰스강 경계에 위치하지 않은 주택의 평균보다 통계적으로 유의하게 큰지에 대한 검정  \n",
    "- (단측검정) $H_0$ : $\\mu_0 =\\mu_1$, $H_1$ : $\\mu_0 < \\mu_1$ \n",
    "\n",
    "- T-test 검정절차 : \n",
    "    - [step 1] : 두 집단의 **모분산**이 동일한지에 관한 검정\n",
    "    - [step 2] : **모평균**에 대한 **T-test** 시행 : 분산이 동일한지 아닌지 여부에 따라 ttest 함수의 옵션이 달라짐"
   ]
  },
  {
   "cell_type": "code",
   "execution_count": null,
   "metadata": {
    "scrolled": true
   },
   "outputs": [],
   "source": [
    "# CHAS 에 따라 데이터셋 분리 \n",
    "chas0 = boston.loc[boston.CHAS == 0, 'medv']\n",
    "chas1 = boston.loc[boston.CHAS == 1, 'medv']"
   ]
  },
  {
   "cell_type": "code",
   "execution_count": null,
   "metadata": {
    "slideshow": {
     "slide_type": "slide"
    }
   },
   "outputs": [],
   "source": [
    "from scipy import stats\n",
    "\n",
    "# [step 1] 두 집단의 모분산이 동일한가를 검정하는 bartlett test\n",
    "s, p = stats.bartlett(chas0, chas1)\n",
    "print('p-value : %.4f' % p)"
   ]
  },
  {
   "cell_type": "markdown",
   "metadata": {},
   "source": [
    "- (등분산성 검정) $H_0$ : 등분산 / $H_1$ : 등분산 아님 \n",
    "    - 결과 : p-value < $\\alpha$ (0.05). 따라서 $H_0$ 기각\n",
    "    - 해석 : $H_0$ 기각되므로 분산이 다르다고 할 수 있다. "
   ]
  },
  {
   "cell_type": "code",
   "execution_count": null,
   "metadata": {
    "scrolled": true,
    "slideshow": {
     "slide_type": "slide"
    }
   },
   "outputs": [],
   "source": [
    "# [step 2] T-test \n",
    "s, p = stats.ttest_ind(chas0, chas1, equal_var=False) \n",
    "p2 = p/2\n",
    "print('p-value : %.4f' % p2)"
   ]
  },
  {
   "cell_type": "markdown",
   "metadata": {},
   "source": [
    "- **(단측 검정)**\n",
    "    - 결과 : p-value < $\\alpha$ (0.05). 따라서 $H_0$ 기각\n",
    "    - 해석 : 찰스강 경계에 위치한 주택의 평균은 찰스강 경계에 위치하지 않은 주택의 평균보다 통계적으로 유의하게 크다고 할 수 있다. "
   ]
  },
  {
   "cell_type": "markdown",
   "metadata": {},
   "source": [
    "- 주택가격 medv를 다른 변수들에 포함된 정보를 활용하여 관계식을 구하고 추후 예측에 활용해보고자 함 \n",
    "- 주택가격 medv의 분포"
   ]
  },
  {
   "cell_type": "code",
   "execution_count": null,
   "metadata": {},
   "outputs": [],
   "source": [
    "sns.boxplot(data=boston, x='medv', showmeans=True)\n",
    "plt.show()"
   ]
  },
  {
   "cell_type": "code",
   "execution_count": null,
   "metadata": {},
   "outputs": [],
   "source": [
    "import statsmodels.api as sm \n",
    "import statsmodels.formula.api as smf "
   ]
  },
  {
   "cell_type": "code",
   "execution_count": null,
   "metadata": {
    "scrolled": true
   },
   "outputs": [],
   "source": [
    "sm.qqplot(boston.medv, line='q')\n",
    "plt.show()"
   ]
  },
  {
   "cell_type": "markdown",
   "metadata": {},
   "source": [
    "- 독립변수(X)들과 종속변수(Y)의 관계 탐색"
   ]
  },
  {
   "cell_type": "code",
   "execution_count": null,
   "metadata": {},
   "outputs": [],
   "source": [
    "fig, axs = plt.subplots(nrows=2, ncols=5, figsize=(12, 6))\n",
    "\n",
    "sns.scatterplot(x='CRIM', y='medv', data=boston, ax=axs[0,0])\n",
    "sns.scatterplot(x='ZN', y='medv', data=boston, ax=axs[0,1])\n",
    "sns.scatterplot(x='INDUS', y='medv', data=boston, ax=axs[0,2])\n",
    "sns.scatterplot(x='NOX', y='medv', data=boston, ax=axs[0,3])\n",
    "sns.scatterplot(x='RM', y='medv', data=boston, ax=axs[0,4])\n",
    "sns.scatterplot(x='AGE', y='medv', data=boston, ax=axs[1,0])\n",
    "sns.scatterplot(x='TAX', y='medv', data=boston, ax=axs[1,1])\n",
    "sns.scatterplot(x='ZN', y='medv', data=boston, ax=axs[1,2])\n",
    "sns.scatterplot(x='B', y='medv', data=boston, ax=axs[1,3])\n",
    "sns.scatterplot(x='LSTAT', y='medv', data=boston, ax=axs[1,4])\n",
    "\n",
    "fig.tight_layout() \n",
    "plt.show()"
   ]
  },
  {
   "cell_type": "markdown",
   "metadata": {},
   "source": [
    "- 상관분석 : 독립변수와 종속변수, 독립변수들 간의 관계를 미리 탐색 "
   ]
  },
  {
   "cell_type": "code",
   "execution_count": null,
   "metadata": {
    "scrolled": true
   },
   "outputs": [],
   "source": [
    "boston.corr()"
   ]
  },
  {
   "cell_type": "code",
   "execution_count": null,
   "metadata": {},
   "outputs": [],
   "source": [
    "import statsmodels.api as sm \n",
    "import statsmodels.formula.api as smf "
   ]
  },
  {
   "cell_type": "markdown",
   "metadata": {},
   "source": [
    "- 자료에 포함된 모든 변수를 독립변수(X)로 포함하고 medv를 종속변수(Y)로 하는 회귀모형"
   ]
  },
  {
   "cell_type": "code",
   "execution_count": null,
   "metadata": {},
   "outputs": [],
   "source": [
    "m1 = smf.ols(formula = 'medv ~ CRIM + ZN + INDUS + CHAS + NOX + RM + AGE + DIS + RAD + TAX + PTRATIO + B + LSTAT', data=boston).fit()\n",
    "m1.summary()"
   ]
  },
  {
   "cell_type": "markdown",
   "metadata": {},
   "source": [
    "- 통계적으로 유의하지 않은 회귀계수를 가진 INDUS, AGE 제거한 모형 "
   ]
  },
  {
   "cell_type": "code",
   "execution_count": null,
   "metadata": {
    "scrolled": true
   },
   "outputs": [],
   "source": [
    "f2 = smf.ols(formula = 'medv ~ CRIM + ZN + CHAS + NOX + RM + DIS + RAD + TAX + PTRATIO + B + LSTAT', data=boston)\n",
    "m2 = f2.fit()\n",
    "m2.summary()"
   ]
  },
  {
   "cell_type": "markdown",
   "metadata": {},
   "source": [
    "$\\Rightarrow \\hat{medv} = 36.34 - 0.11 CRIM + 0.05 ZN + 2.72 CHAS - 17.38 NOX + 3.80 RM - 1.49 DIS + 0.30 RAD - 0.01 TAX - 0.95 PTRATIO + 0.01 B -0.52 LSTAT$\n",
    "- (다른 독립변수들이 고정되어 있다고 가정했을 때) 회귀계수 해석\n",
    "    - CRIM 해석 : 지역별 범죄 발생율이 1 증가할 때 주택가격은 0.11만큼 감소\n",
    "    - CHAS 해석 : 찰스강에 경계에 위치한 경우는 아닌 경우보다 2.72만큼 주택가격이 높음 \n",
    "    - RM 해석 : 방의 개수가 1 증가할 때 주택가격은 3.80만큼 증가 \n",
    "    - LSTAT 해석 : 하위계층의 비중이 1 증가할 때 주택가격은 0.52만큼 감소 "
   ]
  },
  {
   "cell_type": "markdown",
   "metadata": {},
   "source": [
    "- 잔차 $=y - \\hat{y}$"
   ]
  },
  {
   "cell_type": "code",
   "execution_count": null,
   "metadata": {
    "scrolled": true
   },
   "outputs": [],
   "source": [
    "m2.resid"
   ]
  },
  {
   "cell_type": "markdown",
   "metadata": {},
   "source": [
    "- 표준화 잔차 (standardized residuals) \n",
    "    - 정규분포 위반 여부 진단\n",
    "    - 절대값 2.5를 넘으면 이상치라 판단 "
   ]
  },
  {
   "cell_type": "code",
   "execution_count": null,
   "metadata": {},
   "outputs": [],
   "source": [
    "influence = m2.get_influence()\n",
    "standardized_residuals = influence.resid_studentized_internal"
   ]
  },
  {
   "cell_type": "code",
   "execution_count": null,
   "metadata": {},
   "outputs": [],
   "source": [
    "# 정규 qqplot \n",
    "sm.qqplot(m2.resid, line='q')\n",
    "plt.show()"
   ]
  },
  {
   "cell_type": "code",
   "execution_count": null,
   "metadata": {},
   "outputs": [],
   "source": [
    "plt.scatter(m2.fittedvalues, standardized_residuals)\n",
    "plt.xlabel('fitted y')\n",
    "plt.ylabel('Standardized Residuals')\n",
    "plt.axhline(y=0, color='black', linestyle='--', linewidth=1)\n",
    "plt.axhline(y=2.5, color='black', linestyle='--', linewidth=1)\n",
    "plt.axhline(y=-2.5, color='black', linestyle='--', linewidth=1)\n",
    "plt.show()"
   ]
  },
  {
   "cell_type": "code",
   "execution_count": null,
   "metadata": {},
   "outputs": [],
   "source": [
    "tf = abs(standardized_residuals) > 2.5\n",
    "sum(tf)"
   ]
  },
  {
   "cell_type": "code",
   "execution_count": null,
   "metadata": {},
   "outputs": [],
   "source": [
    "boston_sub = boston.loc[~tf, :]\n",
    "boston_sub.shape"
   ]
  },
  {
   "cell_type": "markdown",
   "metadata": {},
   "source": [
    "- 이상치를 제거하고 다시 회귀모형 적합 "
   ]
  },
  {
   "cell_type": "code",
   "execution_count": null,
   "metadata": {
    "scrolled": true
   },
   "outputs": [],
   "source": [
    "f3 = smf.ols(formula = 'medv ~ CRIM + ZN + CHAS + NOX + RM + DIS + RAD + TAX + PTRATIO + B + LSTAT', data=boston_sub)\n",
    "m3 = f3.fit()\n",
    "m3.summary()"
   ]
  },
  {
   "cell_type": "code",
   "execution_count": null,
   "metadata": {},
   "outputs": [],
   "source": [
    "influence = m3.get_influence()\n",
    "standardized_residuals = influence.resid_studentized_internal\n",
    "\n",
    "plt.scatter(m3.fittedvalues, standardized_residuals)\n",
    "plt.xlabel('fitted y')\n",
    "plt.ylabel('Standardized Residuals')\n",
    "plt.axhline(y=0, color='black', linestyle='--', linewidth=1)\n",
    "plt.axhline(y=2.5, color='black', linestyle='--', linewidth=1)\n",
    "plt.axhline(y=-2.5, color='black', linestyle='--', linewidth=1)\n",
    "plt.show()"
   ]
  },
  {
   "cell_type": "code",
   "execution_count": null,
   "metadata": {},
   "outputs": [],
   "source": [
    "# 정규 qqplot \n",
    "sm.qqplot(standardized_residuals, line='q')\n",
    "plt.show()"
   ]
  },
  {
   "cell_type": "markdown",
   "metadata": {},
   "source": [
    "- 분산확대인자(VIF) 계산하여 다중공선성 여부 확인 "
   ]
  },
  {
   "cell_type": "code",
   "execution_count": null,
   "metadata": {},
   "outputs": [],
   "source": [
    "from statsmodels.stats.outliers_influence import variance_inflation_factor\n",
    "\n",
    "pd.DataFrame({'variable': column, 'VIF': variance_inflation_factor(f3.exog, i)} \n",
    "             for i, column in enumerate(f3.exog_names)\n",
    "             if column != 'Intercept')  # 절편의 VIF는 구하지 않는다."
   ]
  },
  {
   "cell_type": "markdown",
   "metadata": {},
   "source": [
    "- TAX 제거한 모형 "
   ]
  },
  {
   "cell_type": "code",
   "execution_count": null,
   "metadata": {},
   "outputs": [],
   "source": [
    "m4 = smf.ols(formula = 'medv ~ CRIM + ZN + CHAS + NOX + RM + DIS + RAD + PTRATIO + B + LSTAT', data=boston_sub).fit()\n",
    "m4.summary()"
   ]
  },
  {
   "cell_type": "markdown",
   "metadata": {},
   "source": [
    "- RAD 제거한 모형 "
   ]
  },
  {
   "cell_type": "code",
   "execution_count": null,
   "metadata": {},
   "outputs": [],
   "source": [
    "m5 = smf.ols(formula = 'medv ~ CRIM + ZN + CHAS + NOX + RM + DIS + TAX + PTRATIO + B + LSTAT', data=boston_sub)\n",
    "m5.fit().summary()"
   ]
  }
 ],
 "metadata": {
  "anaconda-cloud": {},
  "celltoolbar": "Slideshow",
  "kernelspec": {
   "display_name": "Python 3 (ipykernel)",
   "language": "python",
   "name": "python3"
  },
  "language_info": {
   "codemirror_mode": {
    "name": "ipython",
    "version": 3
   },
   "file_extension": ".py",
   "mimetype": "text/x-python",
   "name": "python",
   "nbconvert_exporter": "python",
   "pygments_lexer": "ipython3",
   "version": "3.9.7"
  }
 },
 "nbformat": 4,
 "nbformat_minor": 1
}
