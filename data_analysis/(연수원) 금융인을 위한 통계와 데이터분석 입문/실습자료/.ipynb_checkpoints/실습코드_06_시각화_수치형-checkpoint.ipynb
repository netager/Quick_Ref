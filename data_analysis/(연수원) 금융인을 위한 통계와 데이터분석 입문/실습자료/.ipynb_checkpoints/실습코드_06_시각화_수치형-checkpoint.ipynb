{
 "cells": [
  {
   "cell_type": "markdown",
   "metadata": {},
   "source": [
    "## 파이썬을 활용한 수치형 자료의 시각화 \n",
    "\n",
    "- 시각화를 위한 파이썬 환경 준비 작업 \n",
    "\n",
    "- 예제 1. 아파트 실거래가 데이터 \n",
    "- 예제 2. 엔스콤 사인방 데이터 "
   ]
  },
  {
   "cell_type": "code",
   "execution_count": null,
   "metadata": {},
   "outputs": [],
   "source": [
    "import matplotlib\n",
    "import matplotlib.pyplot as plt \n",
    "import seaborn as sns"
   ]
  },
  {
   "cell_type": "code",
   "execution_count": null,
   "metadata": {
    "scrolled": true,
    "slideshow": {
     "slide_type": "fragment"
    }
   },
   "outputs": [],
   "source": [
    "# Window의 경우 그래프의 한글 환경설정 \n",
    "from matplotlib import font_manager, rc\n",
    "font_name = font_manager.FontProperties(fname=\"c:/Windows/Fonts/malgun.ttf\").get_name()\n",
    "rc('font', family=font_name)\n",
    "\n",
    "# Mac의 경우 그래프의 한글 환경설정 \n",
    "# matplotlib.rc('font', family='AppleGothic') "
   ]
  },
  {
   "cell_type": "markdown",
   "metadata": {},
   "source": [
    "### 아파트 실거래가 데이터의 시각화 "
   ]
  },
  {
   "cell_type": "code",
   "execution_count": null,
   "metadata": {},
   "outputs": [],
   "source": [
    "import pandas as pd\n",
    "apt = pd.read_excel('data/아파트_실거래가_서울.xlsx')\n",
    "apt.rename(columns = {'전용면적(㎡)' : '면적', '거래금액(만원)' : '가격'}, inplace = True)\n",
    "apt['단가'] = apt.가격 / apt.면적"
   ]
  },
  {
   "cell_type": "markdown",
   "metadata": {},
   "source": [
    "- 히스토그램"
   ]
  },
  {
   "cell_type": "code",
   "execution_count": null,
   "metadata": {
    "scrolled": false
   },
   "outputs": [],
   "source": [
    "sns.histplot(apt.단가)\n",
    "plt.show()"
   ]
  },
  {
   "cell_type": "code",
   "execution_count": null,
   "metadata": {},
   "outputs": [],
   "source": [
    "sns.histplot(apt.단가, bins = 10) # 구간의 수를 인위로 정할 수 있음 \n",
    "plt.show()"
   ]
  },
  {
   "cell_type": "markdown",
   "metadata": {},
   "source": [
    "$\\Rightarrow$ 단위면적당 가격의 분포를 보여주는 히스토그램임. **오른쪽에 긴 꼬리가 있는 분포**임을 한눈에 볼 수 있음 "
   ]
  },
  {
   "cell_type": "code",
   "execution_count": null,
   "metadata": {},
   "outputs": [],
   "source": [
    "fig, ax = plt.subplots(nrows=1, ncols=2, figsize=(10, 5))\n",
    "\n",
    "sns.histplot(apt.단가[apt.구 == '광진구'], ax = ax[0], kde=True)\n",
    "sns.histplot(apt.단가[apt.구 == '노원구'], ax = ax[1], kde=True)\n",
    "\n",
    "ax[0].set_title(\"단가(광진구)\")\n",
    "ax[1].set_title(\"단가(노원구)\")\n",
    "\n",
    "plt.show()"
   ]
  },
  {
   "cell_type": "markdown",
   "metadata": {
    "slideshow": {
     "slide_type": "slide"
    }
   },
   "source": [
    "$\\Rightarrow$ **광진구**의 경우 **왼쪽으로 꼬리가 있는 왜도가 음수인 분포**임을 알 수 있고, **노원구**의 경우는 반대로 **오른쪽으로 꼬리가 있는 왜도가 양수인 분포**임을 알 수 있음\n",
    "\n",
    "$\\Rightarrow$ 코드에서 kde=True는 커널밀도추정함수를 히스토그램에 추가하는 옵션이고 분포의 모양에 대한 대략적인 모양을 스무드한 커브로 알 수 있어서 추가하기도 함. "
   ]
  },
  {
   "cell_type": "markdown",
   "metadata": {},
   "source": [
    "- 상자그림 "
   ]
  },
  {
   "cell_type": "code",
   "execution_count": null,
   "metadata": {
    "scrolled": false
   },
   "outputs": [],
   "source": [
    "sns.boxplot(data=apt, x='단가', showmeans=True)\n",
    "plt.show()"
   ]
  },
  {
   "cell_type": "markdown",
   "metadata": {},
   "source": [
    "$\\Rightarrow$ 위에서 확인했던 것처럼 단위면적당 가격은 **이상치들이 오른쪽에 위치**하고 있는 오른쪽에 긴 꼬리가 있는 분포임을 한눈에 볼 수 있음. 히스토그램에서는 이상치인지 여부는 알 수 없지만 상자그림에서는 **이상치와 평균, 중위수 등의 기술통계량에 대한 추가적인 정보도 얻을 수 있음**  "
   ]
  },
  {
   "cell_type": "markdown",
   "metadata": {},
   "source": [
    "- 산점도 "
   ]
  },
  {
   "cell_type": "code",
   "execution_count": null,
   "metadata": {
    "scrolled": true,
    "slideshow": {
     "slide_type": "fragment"
    }
   },
   "outputs": [],
   "source": [
    "sns.scatterplot(data=apt, x='면적', y='가격')\n",
    "plt.show()"
   ]
  },
  {
   "cell_type": "markdown",
   "metadata": {},
   "source": [
    "$\\Rightarrow$ 면적이 증가할수록 가격이 증가하는 모습, 즉 **우상향하는 트렌드**를 보여줌. **양의 상관관계**를 가지는 관계이며 이는 앞에서도 확인 했었음  "
   ]
  },
  {
   "cell_type": "markdown",
   "metadata": {},
   "source": [
    "- 산점도 행렬 "
   ]
  },
  {
   "cell_type": "code",
   "execution_count": null,
   "metadata": {
    "scrolled": true
   },
   "outputs": [],
   "source": [
    "nw = apt.loc[apt.구== '노원구', ['구', '단가', '가격', '면적']]\n",
    "\n",
    "sns.pairplot(nw)\n",
    "plt.show()"
   ]
  },
  {
   "cell_type": "markdown",
   "metadata": {},
   "source": [
    "$\\Rightarrow$ 단가, 가격, 면적 변수들의 관계를 한눈에 볼 수 있음 "
   ]
  },
  {
   "cell_type": "markdown",
   "metadata": {},
   "source": [
    "### 앤스콤 사인방을 활용한 자료의 시각화"
   ]
  },
  {
   "cell_type": "code",
   "execution_count": null,
   "metadata": {},
   "outputs": [],
   "source": [
    "anscombe = sns.load_dataset(\"anscombe\")\n",
    "anscombe.shape"
   ]
  },
  {
   "cell_type": "code",
   "execution_count": null,
   "metadata": {},
   "outputs": [],
   "source": [
    "anscombe.head()"
   ]
  },
  {
   "cell_type": "code",
   "execution_count": null,
   "metadata": {},
   "outputs": [],
   "source": [
    "anscombe.dataset.value_counts()"
   ]
  },
  {
   "cell_type": "code",
   "execution_count": null,
   "metadata": {},
   "outputs": [],
   "source": [
    "anscombe.groupby('dataset').mean()"
   ]
  },
  {
   "cell_type": "code",
   "execution_count": null,
   "metadata": {},
   "outputs": [],
   "source": [
    "anscombe.groupby('dataset').std()"
   ]
  },
  {
   "cell_type": "code",
   "execution_count": null,
   "metadata": {
    "scrolled": false
   },
   "outputs": [],
   "source": [
    "anscombe.groupby('dataset').corr()"
   ]
  },
  {
   "cell_type": "code",
   "execution_count": null,
   "metadata": {},
   "outputs": [],
   "source": [
    "ans1 = anscombe[anscombe.dataset =='I']\n",
    "ans2 = anscombe[anscombe.dataset =='II']\n",
    "ans3 = anscombe[anscombe.dataset =='III']\n",
    "ans4 = anscombe[anscombe.dataset =='IV']\n",
    "\n",
    "fig, axs = plt.subplots(nrows=2, ncols=2, figsize=(6, 6))\n",
    "\n",
    "sns.scatterplot(x='x', y='y', data=ans1, ax=axs[0,0])\n",
    "sns.scatterplot(x='x', y='y', data=ans2, ax=axs[0,1])\n",
    "sns.scatterplot(x='x', y='y', data=ans3, ax=axs[1,0])\n",
    "sns.scatterplot(x='x', y='y', data=ans4, ax=axs[1,1])\n",
    "\n",
    "axs[0,0].set_title(\"dataset I\")\n",
    "axs[0,1].set_title(\"dataset II\")\n",
    "axs[1,0].set_title(\"dataset III\")\n",
    "axs[1,1].set_title(\"dataset IV\")\n",
    "\n",
    "fig.tight_layout() # 그래프들 간의 간격 띄우기 위함\n",
    "plt.show()"
   ]
  }
 ],
 "metadata": {
  "anaconda-cloud": {},
  "celltoolbar": "Slideshow",
  "kernelspec": {
   "display_name": "Python 3 (ipykernel)",
   "language": "python",
   "name": "python3"
  },
  "language_info": {
   "codemirror_mode": {
    "name": "ipython",
    "version": 3
   },
   "file_extension": ".py",
   "mimetype": "text/x-python",
   "name": "python",
   "nbconvert_exporter": "python",
   "pygments_lexer": "ipython3",
   "version": "3.9.7"
  }
 },
 "nbformat": 4,
 "nbformat_minor": 1
}
