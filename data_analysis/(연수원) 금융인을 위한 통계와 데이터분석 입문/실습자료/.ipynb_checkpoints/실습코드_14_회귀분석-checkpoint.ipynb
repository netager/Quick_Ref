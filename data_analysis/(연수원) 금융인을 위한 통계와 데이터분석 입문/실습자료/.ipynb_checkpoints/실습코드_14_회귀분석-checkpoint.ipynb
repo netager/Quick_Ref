{
 "cells": [
  {
   "cell_type": "markdown",
   "metadata": {},
   "source": [
    "# 파이썬을 활용한 단순회귀분석"
   ]
  },
  {
   "cell_type": "code",
   "execution_count": 1,
   "metadata": {},
   "outputs": [],
   "source": [
    "import pandas as pd\n",
    "import matplotlib.pyplot as plt\n",
    "import seaborn as sns"
   ]
  },
  {
   "cell_type": "code",
   "execution_count": 2,
   "metadata": {},
   "outputs": [],
   "source": [
    "import statsmodels.api as sm \n",
    "import statsmodels.formula.api as smf "
   ]
  },
  {
   "cell_type": "code",
   "execution_count": null,
   "metadata": {},
   "outputs": [],
   "source": [
    "tips = sns.load_dataset('tips')"
   ]
  },
  {
   "cell_type": "code",
   "execution_count": null,
   "metadata": {},
   "outputs": [],
   "source": [
    "sns.scatterplot(data=tips, x='total_bill', y='tip')\n",
    "plt.show()"
   ]
  },
  {
   "cell_type": "code",
   "execution_count": null,
   "metadata": {},
   "outputs": [],
   "source": [
    "sns.regplot(data=tips, x='total_bill', y='tip')\n",
    "plt.show()"
   ]
  },
  {
   "cell_type": "code",
   "execution_count": null,
   "metadata": {
    "scrolled": true
   },
   "outputs": [],
   "source": [
    "m = smf.ols(formula = 'tip ~ total_bill', data=tips)\n",
    "res = m.fit()\n",
    "res.summary()"
   ]
  },
  {
   "cell_type": "markdown",
   "metadata": {},
   "source": [
    "- $\\hat{tip} = 0.9203 + 0.0150 \\times \\text{total_bill}$\n",
    "    - total_bill이 1 증가할 때, tip은 0.0150만큼 증가 \n",
    "    - 결정계수 $R^2 = 0.457$ : 이 회귀식은 y의 변이 중 45.7%를 설명함 \n",
    "    - 회귀계수의 유의성 검정 : p-value < $\\alpha$ 이므로 $H_0$ 기각 $\\rightarrow$ 회귀계수는 통계적으로 유의함 (즉, total_bill은 tip을 설명함)"
   ]
  },
  {
   "cell_type": "markdown",
   "metadata": {},
   "source": [
    "## 이상치, 영향치의 이해 "
   ]
  },
  {
   "cell_type": "code",
   "execution_count": null,
   "metadata": {},
   "outputs": [],
   "source": [
    "import pandas as pd\n",
    "ex1 = pd.read_table('data/influence1.txt')\n",
    "ex2 = pd.read_table('data/influence2.txt')\n",
    "ex3 = pd.read_table('data/influence3.txt')\n",
    "ex4 = pd.read_table('data/influence4.txt')\n",
    "ex1.head()"
   ]
  },
  {
   "cell_type": "code",
   "execution_count": null,
   "metadata": {},
   "outputs": [],
   "source": [
    "fig, axs = plt.subplots(nrows=2, ncols=2, figsize=(6, 6))\n",
    "\n",
    "sns.regplot(x='x', y='y', data=ex1, ax=axs[0,0])\n",
    "sns.regplot(x='x', y='y', data=ex2, ax=axs[0,1])\n",
    "sns.regplot(x='x', y='y', data=ex3, ax=axs[1,0])\n",
    "sns.regplot(x='x', y='y', data=ex4, ax=axs[1,1])\n",
    "\n",
    "axs[0,0].set_title(\"dataset I\")\n",
    "axs[0,1].set_title(\"dataset II\")\n",
    "axs[1,0].set_title(\"dataset III\")\n",
    "axs[1,1].set_title(\"dataset IV\")\n",
    "\n",
    "fig.tight_layout() # 그래프들 간의 간격 띄우기 위함\n",
    "plt.show()"
   ]
  }
 ],
 "metadata": {
  "anaconda-cloud": {},
  "celltoolbar": "Slideshow",
  "kernelspec": {
   "display_name": "Python 3 (ipykernel)",
   "language": "python",
   "name": "python3"
  },
  "language_info": {
   "codemirror_mode": {
    "name": "ipython",
    "version": 3
   },
   "file_extension": ".py",
   "mimetype": "text/x-python",
   "name": "python",
   "nbconvert_exporter": "python",
   "pygments_lexer": "ipython3",
   "version": "3.9.7"
  }
 },
 "nbformat": 4,
 "nbformat_minor": 1
}
