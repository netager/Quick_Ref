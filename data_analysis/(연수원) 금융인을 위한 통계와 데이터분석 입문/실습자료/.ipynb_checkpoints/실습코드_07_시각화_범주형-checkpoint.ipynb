{
 "cells": [
  {
   "cell_type": "markdown",
   "metadata": {},
   "source": [
    "\n",
    "## 파이썬을 활용한 범주형 자료의 시각화 \n",
    "\n",
    "- 시각화를 위한 파이썬 환경 준비 작업 \n",
    "- 예제 1. 아파트 실거래가 데이터 : 범주형 변수의 시각화, 수치형 변수와 범주형 변수를 결합한 시각화 \n",
    "- 예제 2. tips 데이터 : 시각화 응용"
   ]
  },
  {
   "cell_type": "markdown",
   "metadata": {},
   "source": [
    "### 시각화를 위한 파이썬 환경 준비 작업"
   ]
  },
  {
   "cell_type": "code",
   "execution_count": 1,
   "metadata": {},
   "outputs": [],
   "source": [
    "import matplotlib\n",
    "import matplotlib.pyplot as plt \n",
    "import seaborn as sns"
   ]
  },
  {
   "cell_type": "code",
   "execution_count": 2,
   "metadata": {},
   "outputs": [],
   "source": [
    "# Window의 경우 그래프의 한글 환경설정 \n",
    "from matplotlib import font_manager, rc\n",
    "font_name = font_manager.FontProperties(fname=\"c:/Windows/Fonts/malgun.ttf\").get_name()\n",
    "rc('font', family=font_name)\n",
    "\n",
    "# Mac의 경우 그래프의 한글 환경설정 \n",
    "# matplotlib.rc('font', family='AppleGothic') "
   ]
  },
  {
   "cell_type": "markdown",
   "metadata": {},
   "source": [
    "### 아파트 실거래가 데이터의 시각화"
   ]
  },
  {
   "cell_type": "code",
   "execution_count": 3,
   "metadata": {
    "scrolled": true
   },
   "outputs": [
    {
     "data": {
      "text/plain": [
       "Index(['시군구', '번지', '본번', '부번', '단지명', '면적', '계약년월', '계약일', '가격', '층', '건축년도',\n",
       "       '도로명', '시', '구', '동', '단가'],\n",
       "      dtype='object')"
      ]
     },
     "execution_count": 3,
     "metadata": {},
     "output_type": "execute_result"
    }
   ],
   "source": [
    "import pandas as pd\n",
    "apt = pd.read_excel('data/아파트_실거래가_서울.xlsx')\n",
    "apt.rename(columns = {'전용면적(㎡)' : '면적', '거래금액(만원)' : '가격'}, inplace = True)\n",
    "apt['단가'] = apt.가격 / apt.면적\n",
    "apt.columns"
   ]
  },
  {
   "cell_type": "markdown",
   "metadata": {},
   "source": [
    "- 막대그래프(barplot) : **25개**의 구"
   ]
  },
  {
   "cell_type": "code",
   "execution_count": 4,
   "metadata": {},
   "outputs": [
    {
     "data": {
      "text/plain": [
       "종로구      36\n",
       "광진구      63\n",
       "금천구      75\n",
       "용산구      81\n",
       "중구      100\n",
       "동대문구    114\n",
       "강북구     117\n",
       "동작구     118\n",
       "마포구     124\n",
       "성동구     124\n",
       "은평구     127\n",
       "서대문구    133\n",
       "관악구     135\n",
       "중랑구     148\n",
       "영등포구    152\n",
       "강동구     160\n",
       "양천구     167\n",
       "송파구     174\n",
       "도봉구     191\n",
       "성북구     198\n",
       "서초구     202\n",
       "구로구     208\n",
       "강남구     241\n",
       "강서구     259\n",
       "노원구     380\n",
       "Name: 구, dtype: int64"
      ]
     },
     "execution_count": 4,
     "metadata": {},
     "output_type": "execute_result"
    }
   ],
   "source": [
    "apt.구.value_counts().sort_values()"
   ]
  },
  {
   "cell_type": "code",
   "execution_count": null,
   "metadata": {
    "scrolled": false
   },
   "outputs": [],
   "source": [
    "tb = apt.구.value_counts().sort_values() # tb.index : 구 이름, tb.values : 빈도수(frequency)\n",
    "sns.barplot(y=tb.index, x = tb.values)\n",
    "plt.show()"
   ]
  },
  {
   "cell_type": "markdown",
   "metadata": {},
   "source": [
    "- 파이차트(pie chart)\n",
    "     - seaborn에 현재 포함되어 있지 않으므로 matplotlib 활용 "
   ]
  },
  {
   "cell_type": "code",
   "execution_count": null,
   "metadata": {
    "scrolled": true
   },
   "outputs": [],
   "source": [
    "plt.pie(x=tb.values, labels=tb.index)\n",
    "plt.show()"
   ]
  },
  {
   "cell_type": "markdown",
   "metadata": {},
   "source": [
    "- 수치형 변수와 범주형 변수를 결합한 시각화"
   ]
  },
  {
   "cell_type": "code",
   "execution_count": null,
   "metadata": {},
   "outputs": [],
   "source": [
    "gj_nw = apt[apt.구.isin(['광진구', '노원구'])]\n",
    "sns.histplot(data=gj_nw, x='단가', hue='구')\n",
    "plt.show()"
   ]
  },
  {
   "cell_type": "markdown",
   "metadata": {},
   "source": [
    "$\\Rightarrow$ 두 지역에 관한 히스토그램을 겹쳐서 그리면 하나의 x, y축을 기준으로 그려지기 때문에 자료를 다른 각도에서 관찰할 수 있음 \n",
    "\n",
    "$\\Rightarrow$ 두 지역의 **단가의 분포 모양은 상이**하지만 **범위는 비슷**함. 자료에 포함되어 있는 **빈도수에 큰 차이**가 있음 "
   ]
  },
  {
   "cell_type": "code",
   "execution_count": null,
   "metadata": {},
   "outputs": [],
   "source": [
    "sns.boxplot(data=gj_nw, x='단가', y='구', showmeans=True)\n",
    "plt.show()"
   ]
  },
  {
   "cell_type": "code",
   "execution_count": null,
   "metadata": {},
   "outputs": [],
   "source": [
    "sns.boxplot(data=gj_nw, y='단가', x='구', showmeans=True) # x, y 를 바꿈 \n",
    "plt.show()"
   ]
  },
  {
   "cell_type": "markdown",
   "metadata": {},
   "source": [
    "$\\Rightarrow$ 두 지역의 단가의 **분포 모양은 상이**하지만 **범위는 비슷**함. 하나의 그래프에 비교하고자 하는 지역 정보를 기준으로 상자그림을 따로, 하지만 하나의 그래프 안에 그려서 분포 비교 "
   ]
  },
  {
   "cell_type": "code",
   "execution_count": null,
   "metadata": {},
   "outputs": [],
   "source": [
    "sns.scatterplot(data=gj_nw, x='면적', y='가격', hue='구')\n",
    "plt.show()"
   ]
  },
  {
   "cell_type": "code",
   "execution_count": null,
   "metadata": {},
   "outputs": [],
   "source": [
    "gn_nw = apt.loc[apt.구.isin(['강남구', '노원구']), ['구', '단가', '가격', '면적']]\n",
    "\n",
    "sns.pairplot(gn_nw, hue=\"구\")\n",
    "plt.show()"
   ]
  },
  {
   "cell_type": "markdown",
   "metadata": {},
   "source": [
    "### seaborn에 내장된 tips 데이터를 활용한 시각화의 응용 "
   ]
  },
  {
   "cell_type": "code",
   "execution_count": null,
   "metadata": {},
   "outputs": [],
   "source": [
    "tips = sns.load_dataset(\"tips\")\n",
    "tips.shape"
   ]
  },
  {
   "cell_type": "code",
   "execution_count": null,
   "metadata": {},
   "outputs": [],
   "source": [
    "tips.head() # sex : 식사비를 지불하는 사람의 성별, smoker : 식사하는 일행 중 흡연자 여부, size : 식사 인원 "
   ]
  },
  {
   "cell_type": "markdown",
   "metadata": {},
   "source": [
    "- 그룹별 tip의 분포를 상자그림으로 비교  "
   ]
  },
  {
   "cell_type": "code",
   "execution_count": null,
   "metadata": {
    "scrolled": false
   },
   "outputs": [],
   "source": [
    "sns.boxplot(x=\"day\", y=\"tip\", data=tips, showmeans=True)\n",
    "plt.show()"
   ]
  },
  {
   "cell_type": "markdown",
   "metadata": {},
   "source": [
    "- 범주형 변수의 값에 따라 요약된 수치들을 바 그래프로 표현 "
   ]
  },
  {
   "cell_type": "code",
   "execution_count": null,
   "metadata": {
    "scrolled": true
   },
   "outputs": [],
   "source": [
    "day_tip = tips.groupby('day').tip.sum()\n",
    "\n",
    "sns.barplot(x= day_tip.index, y=day_tip.values) \n",
    "\n",
    "plt.show()"
   ]
  },
  {
   "cell_type": "markdown",
   "metadata": {},
   "source": [
    "$\\Rightarrow$ **금요일**의 경우 다른 요일에 비해 tip의 합이 적다는 것을 알 수 있음. **요일간 비교**를 쉽게 할 수 있음 "
   ]
  },
  {
   "cell_type": "markdown",
   "metadata": {},
   "source": [
    "- 파이차트 "
   ]
  },
  {
   "cell_type": "code",
   "execution_count": null,
   "metadata": {
    "scrolled": true
   },
   "outputs": [],
   "source": [
    "plt.pie(labels= day_tip.index, x=day_tip.values, autopct='%1.1f%%')\n",
    "plt.show()"
   ]
  },
  {
   "cell_type": "markdown",
   "metadata": {},
   "source": [
    "$\\Rightarrow$ 요일별로 tip의 합이 차지하는 비율을 쉽게 파악할 수 있음 "
   ]
  },
  {
   "cell_type": "markdown",
   "metadata": {},
   "source": [
    "- 요일별 tip의 히스토그램 "
   ]
  },
  {
   "cell_type": "code",
   "execution_count": null,
   "metadata": {
    "scrolled": true
   },
   "outputs": [],
   "source": [
    "sns.displot(data=tips, x=\"tip\", col=\"day\", kde=True)\n",
    "plt.show()"
   ]
  },
  {
   "cell_type": "code",
   "execution_count": null,
   "metadata": {
    "scrolled": true
   },
   "outputs": [],
   "source": [
    "sns.displot(data=tips, x=\"total_bill\", col=\"day\", kde=True)\n",
    "plt.show()"
   ]
  },
  {
   "cell_type": "markdown",
   "metadata": {},
   "source": [
    "$\\Rightarrow$ 요약된 하나의 수치가 아닌 전체 관측치를 **히스토그램**으로 표현함으로써 **전체적인 분포를 파악**할 수 있음\n",
    "\n",
    "$\\Rightarrow$ 합계가 적은 **금요일**의 경우 히스토그램을 비교했을 때 **건수가 적은** 것이 주요 이유라는 것을 알 수 있음\n",
    "\n",
    "$\\Rightarrow$ 자료에 포함된 모든 요일에서 tip과 total bill 변수 모두 **오른쪽으로 긴 꼬리가 있는 분포**를 가진다는 것을 알 수 있음  "
   ]
  },
  {
   "cell_type": "markdown",
   "metadata": {},
   "source": [
    "- total bill과 tip의 산점도"
   ]
  },
  {
   "cell_type": "code",
   "execution_count": null,
   "metadata": {
    "scrolled": true
   },
   "outputs": [],
   "source": [
    "sns.lmplot(data=tips, x=\"total_bill\", y=\"tip\", col=\"day\", hue=\"sex\")\n",
    "plt.show()"
   ]
  },
  {
   "cell_type": "markdown",
   "metadata": {},
   "source": [
    "$\\Rightarrow$ 모든 경우에서 **우상향**하는 트렌드를 보여줌. 성별에 따라 기울기가 두드러지게 차이가 나는 요일은 토, 일요일이고 두 날짜에서 기울기 크기의 순서가 다르다는 재미있는 사실도 발견할 수 있음"
   ]
  }
 ],
 "metadata": {
  "anaconda-cloud": {},
  "celltoolbar": "Slideshow",
  "kernelspec": {
   "display_name": "Python 3 (ipykernel)",
   "language": "python",
   "name": "python3"
  },
  "language_info": {
   "codemirror_mode": {
    "name": "ipython",
    "version": 3
   },
   "file_extension": ".py",
   "mimetype": "text/x-python",
   "name": "python",
   "nbconvert_exporter": "python",
   "pygments_lexer": "ipython3",
   "version": "3.9.7"
  }
 },
 "nbformat": 4,
 "nbformat_minor": 1
}
