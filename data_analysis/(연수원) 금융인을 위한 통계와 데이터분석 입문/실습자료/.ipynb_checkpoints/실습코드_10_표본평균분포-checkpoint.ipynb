{
 "cells": [
  {
   "cell_type": "markdown",
   "metadata": {},
   "source": [
    "## 파이썬 numpy의 확률변수 생성 함수를 활용한 중심극한정리 이해"
   ]
  },
  {
   "cell_type": "code",
   "execution_count": null,
   "metadata": {},
   "outputs": [],
   "source": [
    "import pandas as pd\n",
    "import numpy as np\n",
    "\n",
    "import matplotlib.pyplot as plt\n",
    "import seaborn as sns\n",
    "\n",
    "np.random.seed(0) # 재생산을 위해 seed 고정 "
   ]
  },
  {
   "cell_type": "markdown",
   "metadata": {},
   "source": [
    "- **균등분포(uniform distribution)**를 가진 모집단에서 **표본평균의 분포**를 보기 위해 여러 개의 표본 추출 "
   ]
  },
  {
   "cell_type": "code",
   "execution_count": null,
   "metadata": {},
   "outputs": [],
   "source": [
    "# 하나의 표본\n",
    "uniform_sample = np.random.uniform(0, 5, 1000) \n",
    "sns.histplot(uniform_sample)\n",
    "plt.title('Uniform distribution')\n",
    "plt.show()"
   ]
  },
  {
   "cell_type": "code",
   "execution_count": null,
   "metadata": {
    "scrolled": true
   },
   "outputs": [],
   "source": [
    "# 1000개의 표본 생성 : 표본크기 = 1\n",
    "sample_size =  1\n",
    "tb = pd.DataFrame()\n",
    "for i in range(1, 1001):\n",
    "    sample = np.random.uniform(0, 5, sample_size)\n",
    "    col = f'sample {i}'\n",
    "    tb[col] = sample\n",
    "\n",
    "sample_means = tb.mean()\n",
    "sns.histplot(sample_means, kde = True)\n",
    "plt.title('Distribution of sample means'+ f'(sample size={sample_size})')\n",
    "plt.show()"
   ]
  },
  {
   "cell_type": "markdown",
   "metadata": {},
   "source": [
    "$\\Rightarrow$ 표본의 크기가 작은 경우, 표본평균의 분포가 정규분포와 거리가 있음을 알 수 있음  "
   ]
  },
  {
   "cell_type": "code",
   "execution_count": null,
   "metadata": {
    "scrolled": true
   },
   "outputs": [],
   "source": [
    "# 1000개의 표본 생성 : 표본크기 = 30\n",
    "sample_size =  30\n",
    "tb = pd.DataFrame()\n",
    "for i in range(1, 1001):\n",
    "    sample = np.random.uniform(0, 5, sample_size)\n",
    "    col = f'sample {i}'\n",
    "    tb[col] = sample\n",
    "\n",
    "sample_means = tb.mean()\n",
    "sns.histplot(sample_means, kde = True)\n",
    "plt.title('Distribution of sample means'+ f'(sample size={sample_size})')\n",
    "plt.show()"
   ]
  },
  {
   "cell_type": "markdown",
   "metadata": {},
   "source": [
    "$\\Rightarrow$ 표본의 크기가 큰 경우는 표본평균의 분포가 정규분포와 유사함을 알 수 있음 "
   ]
  },
  {
   "cell_type": "markdown",
   "metadata": {},
   "source": [
    "- **이항분포 B(5, 0.7)**를 가진 모집단에서 표본평균의 분포를 보기 위해 여러 개의 표본 생성 "
   ]
  },
  {
   "cell_type": "code",
   "execution_count": null,
   "metadata": {},
   "outputs": [],
   "source": [
    "n = 5\n",
    "p = 0.7\n",
    "\n",
    "# 하나의 표본\n",
    "sample_size =  1000\n",
    "binom_sample = np.random.binomial(n, p, sample_size)\n",
    "sns.histplot(binom_sample)\n",
    "plt.title('Binomial distribution')\n",
    "plt.show()"
   ]
  },
  {
   "cell_type": "code",
   "execution_count": null,
   "metadata": {
    "scrolled": true
   },
   "outputs": [],
   "source": [
    "# 1000개의 표본 생성 : 표본크기 = 3\n",
    "sample_size =  3\n",
    "tb = pd.DataFrame()\n",
    "for i in range(1, 1001):\n",
    "    sample = np.random.binomial(n, p, sample_size)\n",
    "    col = f'sample {i}'\n",
    "    tb[col] = sample\n",
    "\n",
    "sample_means = tb.mean()\n",
    "sns.histplot(sample_means, kde = True)\n",
    "plt.title('Distribution of sample means'+ f'(sample size={sample_size})')\n",
    "plt.show()"
   ]
  },
  {
   "cell_type": "markdown",
   "metadata": {},
   "source": [
    "$\\Rightarrow$ 표본의 크기가 작은 경우, 표본평균의 분포가 정규분포와 거리가 있음을 알 수 있음  "
   ]
  },
  {
   "cell_type": "code",
   "execution_count": null,
   "metadata": {
    "scrolled": true
   },
   "outputs": [],
   "source": [
    "# 1000개의 표본 생성 : 표본크기 = 5000\n",
    "sample_size =  5000\n",
    "tb = pd.DataFrame()\n",
    "for i in range(1, 1001):\n",
    "    sample = np.random.binomial(n, p, sample_size)\n",
    "    col = f'sample {i}'\n",
    "    tb[col] = sample\n",
    "    \n",
    "sample_means = tb.mean()\n",
    "sns.histplot(sample_means, kde = True)\n",
    "plt.title('Distribution of sample means'+ f'(sample size={sample_size})')\n",
    "plt.show()"
   ]
  },
  {
   "cell_type": "markdown",
   "metadata": {},
   "source": [
    "$\\Rightarrow$ 표본의 크기가 큰 경우는 표본평균의 분포가 정규분포와 유사함을 알 수 있음 "
   ]
  },
  {
   "cell_type": "code",
   "execution_count": null,
   "metadata": {
    "scrolled": false
   },
   "outputs": [],
   "source": [
    "# 모집단의 평균과 분산\n",
    "print('모집단의 평균 :', n*p)\n",
    "print('모집단의 분산 :', n*p*(1-p))\n",
    "\n",
    "# 표본평균의 평균과 분산\n",
    "print('표본평균의 평균 :', sample_means.mean())\n",
    "print('표본평균의 분산 :', sample_means.var(), \", 이론값 : \", n*p*(1-p)/sample_size)"
   ]
  },
  {
   "cell_type": "markdown",
   "metadata": {},
   "source": [
    "$\\Rightarrow$ **표본평균의 평균**과 **모집단의 평균**이 아주 가까움\n",
    "\n",
    "$\\Rightarrow$ **표본평균의 분산**은 **모집단의 분산**을 표본의 크기로 나눈 **이론값**과 가까움 "
   ]
  }
 ],
 "metadata": {
  "anaconda-cloud": {},
  "celltoolbar": "Slideshow",
  "kernelspec": {
   "display_name": "Python 3 (ipykernel)",
   "language": "python",
   "name": "python3"
  },
  "language_info": {
   "codemirror_mode": {
    "name": "ipython",
    "version": 3
   },
   "file_extension": ".py",
   "mimetype": "text/x-python",
   "name": "python",
   "nbconvert_exporter": "python",
   "pygments_lexer": "ipython3",
   "version": "3.9.7"
  }
 },
 "nbformat": 4,
 "nbformat_minor": 1
}
