{
 "cells": [
  {
   "cell_type": "markdown",
   "metadata": {},
   "source": [
    "## 아파트 실거래가 자료를 활용한 자료의 왜도, 첨도, 상관계수 분석"
   ]
  },
  {
   "cell_type": "code",
   "execution_count": 1,
   "metadata": {},
   "outputs": [
    {
     "data": {
      "text/plain": [
       "Index(['시군구', '번지', '본번', '부번', '단지명', '전용면적(㎡)', '계약년월', '계약일', '거래금액(만원)',\n",
       "       '층', '건축년도', '도로명', '시', '구', '동'],\n",
       "      dtype='object')"
      ]
     },
     "execution_count": 1,
     "metadata": {},
     "output_type": "execute_result"
    }
   ],
   "source": [
    "import pandas as pd\n",
    "apt = pd.read_excel('data/아파트_실거래가_서울.xlsx')\n",
    "apt.columns"
   ]
  },
  {
   "cell_type": "code",
   "execution_count": 2,
   "metadata": {},
   "outputs": [],
   "source": [
    "apt.rename(columns = {'전용면적(㎡)' : '면적', '거래금액(만원)' : '가격'}, inplace = True)\n",
    "apt['단가'] = apt.가격 / apt.면적"
   ]
  },
  {
   "cell_type": "markdown",
   "metadata": {},
   "source": [
    "### 왜도"
   ]
  },
  {
   "cell_type": "code",
   "execution_count": 3,
   "metadata": {
    "scrolled": true
   },
   "outputs": [
    {
     "data": {
      "text/plain": [
       "1.4466494691261553"
      ]
     },
     "execution_count": 3,
     "metadata": {},
     "output_type": "execute_result"
    }
   ],
   "source": [
    "apt.단가.skew()"
   ]
  },
  {
   "cell_type": "markdown",
   "metadata": {},
   "source": [
    "$\\Rightarrow$ 왜도 값이 양수이므로 오른쪽으로 긴 꼬리를 가진 분포임을 유추할 수 있음"
   ]
  },
  {
   "cell_type": "code",
   "execution_count": 4,
   "metadata": {
    "scrolled": true
   },
   "outputs": [
    {
     "data": {
      "text/plain": [
       "구\n",
       "중구     -1.138508\n",
       "광진구    -0.326935\n",
       "중랑구    -0.104560\n",
       "서대문구    0.084265\n",
       "양천구     0.108413\n",
       "마포구     0.126780\n",
       "도봉구     0.134094\n",
       "강남구     0.136494\n",
       "동작구     0.178899\n",
       "관악구     0.218343\n",
       "강동구     0.232884\n",
       "강서구     0.238819\n",
       "은평구     0.344090\n",
       "서초구     0.403509\n",
       "구로구     0.467667\n",
       "강북구     0.467760\n",
       "영등포구    0.483777\n",
       "용산구     0.507903\n",
       "성북구     0.513295\n",
       "송파구     0.614263\n",
       "종로구     0.650344\n",
       "동대문구    0.679297\n",
       "성동구     0.815622\n",
       "금천구     0.849881\n",
       "노원구     1.560726\n",
       "Name: 단가, dtype: float64"
      ]
     },
     "execution_count": 4,
     "metadata": {},
     "output_type": "execute_result"
    }
   ],
   "source": [
    "apt.groupby('구').단가.skew().sort_values()"
   ]
  },
  {
   "cell_type": "markdown",
   "metadata": {},
   "source": [
    "$\\Rightarrow$ 왜도의 값이 가장 작은 경우인 중구의 경우 왜도 값이 음수이므로 왼쪽으로 긴 꼬리를 가진 분포임을 유추할 수 있음  \n",
    "    \n",
    "$\\Rightarrow$ 왜도의 값이 가장 큰 경우인 노원구의 경우 왜도 값이 양수이므로 오른쪽으로 긴 꼬리를 가진 분포임을 유추할 수 있음\n",
    "\n",
    "$\\Rightarrow$ 나중에 데이터 시각화를 통해서 이 결과들을 확인해보겠음 "
   ]
  },
  {
   "cell_type": "markdown",
   "metadata": {},
   "source": [
    "### 첨도 "
   ]
  },
  {
   "cell_type": "code",
   "execution_count": null,
   "metadata": {},
   "outputs": [],
   "source": [
    "apt.단가.kurtosis()"
   ]
  },
  {
   "cell_type": "markdown",
   "metadata": {},
   "source": [
    "$\\Rightarrow$ 첨도 값이 양수이므로 정규분포에 비해서 두꺼운 꼬리를 가진 분포임을 할 수 있음"
   ]
  },
  {
   "cell_type": "code",
   "execution_count": null,
   "metadata": {},
   "outputs": [],
   "source": [
    "apt.단가[apt.구 =='중구'].kurtosis()"
   ]
  },
  {
   "cell_type": "markdown",
   "metadata": {},
   "source": [
    "$\\Rightarrow$ 중구의 경우 첨도 값이 양수이고 절대값이 크므로 더 두꺼운 꼬리를 가진 분포임을 할 수 있음"
   ]
  },
  {
   "cell_type": "code",
   "execution_count": null,
   "metadata": {
    "scrolled": true
   },
   "outputs": [],
   "source": [
    "apt.단가[apt.구 =='금천구'].kurtosis()"
   ]
  },
  {
   "cell_type": "markdown",
   "metadata": {},
   "source": [
    "$\\Rightarrow$ 금천구의 경우 첨도 값이 0에 가까우므로 정규분포와 비슷한 정도의 꼬리 분포를 가지고 있음을 알 수 있음 "
   ]
  },
  {
   "cell_type": "markdown",
   "metadata": {},
   "source": [
    "### 상관계수 "
   ]
  },
  {
   "cell_type": "code",
   "execution_count": null,
   "metadata": {},
   "outputs": [],
   "source": [
    "apt['가격'].corr(apt['면적'])"
   ]
  },
  {
   "cell_type": "markdown",
   "metadata": {},
   "source": [
    "$\\Rightarrow$ 상관계수가 0.7 ($70\\%$)이므로 가격과 면적은 상당히 높은 양의 상관관계를 가지고 있는 것으로 보임. 두 변수의 선형관계에 대한 추가 분석은 다음 차시에서 보도록 하겠음 "
   ]
  },
  {
   "cell_type": "code",
   "execution_count": null,
   "metadata": {},
   "outputs": [],
   "source": [
    "import numpy as np\n",
    "x = pd.Series(np.arange(-20, 21))\n",
    "y = x ** 2\n",
    "x.corr(y)"
   ]
  },
  {
   "cell_type": "markdown",
   "metadata": {},
   "source": [
    "$\\Rightarrow$ y값이 x로부터 계산되어 서로 연관되어 있지만 계산된 상관계수는 0 : 비선형 관계를 반영하지 못함  "
   ]
  }
 ],
 "metadata": {
  "anaconda-cloud": {},
  "celltoolbar": "Slideshow",
  "kernelspec": {
   "display_name": "Python 3 (ipykernel)",
   "language": "python",
   "name": "python3"
  },
  "language_info": {
   "codemirror_mode": {
    "name": "ipython",
    "version": 3
   },
   "file_extension": ".py",
   "mimetype": "text/x-python",
   "name": "python",
   "nbconvert_exporter": "python",
   "pygments_lexer": "ipython3",
   "version": "3.9.7"
  }
 },
 "nbformat": 4,
 "nbformat_minor": 1
}
