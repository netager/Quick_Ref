{
 "cells": [
  {
   "cell_type": "code",
   "execution_count": 3,
   "metadata": {},
   "outputs": [
    {
     "name": "stdout",
     "output_type": "stream",
     "text": [
      "6\n"
     ]
    }
   ],
   "source": [
    "def mul(m):\n",
    "    def wrapper(n):\n",
    "        return m*n\n",
    "    \n",
    "    return wrapper\n",
    "\n",
    "mul3 = mul(3)\n",
    "print(mul3(2))"
   ]
  },
  {
   "cell_type": "code",
   "execution_count": 6,
   "metadata": {},
   "outputs": [
    {
     "name": "stdout",
     "output_type": "stream",
     "text": [
      "6\n",
      "10\n"
     ]
    }
   ],
   "source": [
    "def mul(m):\n",
    "    def wrapper(n):\n",
    "        return m * n\n",
    "    return wrapper\n",
    "\n",
    "\n",
    "if __name__ == \"__main__\":\n",
    "    mul3 = mul(3)\n",
    "    mul5 = mul(5)\n",
    "    \n",
    "    print(mul3(2))\n",
    "    print(mul5(2))\n"
   ]
  },
  {
   "cell_type": "code",
   "execution_count": 2,
   "metadata": {},
   "outputs": [
    {
     "name": "stdout",
     "output_type": "stream",
     "text": [
      "a\n"
     ]
    }
   ],
   "source": [
    "print('a')"
   ]
  },
  {
   "cell_type": "code",
   "execution_count": 7,
   "metadata": {},
   "outputs": [
    {
     "data": {
      "text/plain": [
       "(15, 15)"
      ]
     },
     "execution_count": 7,
     "metadata": {},
     "output_type": "execute_result"
    }
   ],
   "source": [
    "def mul3(n):\n",
    "    return 3 * n\n",
    "\n",
    "def mul5(n):\n",
    "    return 5 * n\n",
    "\n",
    "mul3(5), mul5(3)\n"
   ]
  },
  {
   "cell_type": "code",
   "execution_count": 8,
   "metadata": {},
   "outputs": [
    {
     "data": {
      "text/plain": [
       "15"
      ]
     },
     "execution_count": 8,
     "metadata": {},
     "output_type": "execute_result"
    }
   ],
   "source": [
    "class Mul:\n",
    "    def __init__(self, m):\n",
    "        self.m = m\n",
    "    \n",
    "    def mul(self, n):\n",
    "        return self.m * n\n",
    "\n",
    "mul3 = Mul(3)\n",
    "mul3.mul(5)    "
   ]
  },
  {
   "cell_type": "code",
   "execution_count": 9,
   "metadata": {},
   "outputs": [
    {
     "data": {
      "text/plain": [
       "15"
      ]
     },
     "execution_count": 9,
     "metadata": {},
     "output_type": "execute_result"
    }
   ],
   "source": [
    "class Mul1:\n",
    "    def __init__(self, m):\n",
    "        self.m = m\n",
    "        \n",
    "    def __call__(self, n):\n",
    "        return self.m * n\n",
    "\n",
    "mul3 = Mul1(3)\n",
    "mul3(5)\n",
    "    "
   ]
  },
  {
   "cell_type": "code",
   "execution_count": 10,
   "metadata": {},
   "outputs": [
    {
     "data": {
      "text/plain": [
       "15"
      ]
     },
     "execution_count": 10,
     "metadata": {},
     "output_type": "execute_result"
    }
   ],
   "source": [
    "def mul(m):\n",
    "    def wrapper(n):\n",
    "        return m * n\n",
    "    return wrapper\n",
    "\n",
    "mul3 = mul(3)\n",
    "mul3(5)"
   ]
  },
  {
   "cell_type": "code",
   "execution_count": 13,
   "metadata": {},
   "outputs": [
    {
     "name": "stdout",
     "output_type": "stream",
     "text": [
      "프린트\n",
      "처리시간: 2.000547409057617\n"
     ]
    }
   ],
   "source": [
    "import time\n",
    "\n",
    "def print_func():\n",
    "    print('프린트')\n",
    "    time.sleep(2)\n",
    "\n",
    "start = time.time()    \n",
    "print_func()    \n",
    "end = time.time()\n",
    "\n",
    "print('처리시간:', end - start)"
   ]
  },
  {
   "cell_type": "code",
   "execution_count": 15,
   "metadata": {},
   "outputs": [
    {
     "name": "stdout",
     "output_type": "stream",
     "text": [
      "프린트\n",
      "처리시간:  2.0066514015197754\n"
     ]
    }
   ],
   "source": [
    "import sys\n",
    " \n",
    "def elapse(func_name):\n",
    "    def wrapper():\n",
    "        start = time.time()\n",
    "        result = func_name()\n",
    "        end = time.time()\n",
    "        print('처리시간: ', end - start)\n",
    "        return result\n",
    "    return wrapper\n",
    "\n",
    "def print_func():\n",
    "    print('프린트')\n",
    "    time.sleep(2)\n",
    "\n",
    "p_func = elapse(print_func)    \n",
    "p_func()\n",
    "\n"
   ]
  },
  {
   "cell_type": "code",
   "execution_count": 17,
   "metadata": {},
   "outputs": [
    {
     "name": "stdout",
     "output_type": "stream",
     "text": [
      "프린트\n",
      "처리시간:  2.005784273147583\n"
     ]
    }
   ],
   "source": [
    "@elapse\n",
    "def print_func():\n",
    "    print('프린트')\n",
    "    time.sleep(2)\n",
    "\n",
    "print_func()"
   ]
  },
  {
   "cell_type": "code",
   "execution_count": 18,
   "metadata": {},
   "outputs": [
    {
     "data": {
      "text/plain": [
       "(15, 15)"
      ]
     },
     "execution_count": 18,
     "metadata": {},
     "output_type": "execute_result"
    }
   ],
   "source": [
    "def mul3(n):\n",
    "    return 3 * n\n",
    "\n",
    "def mul5(n):\n",
    "    return 5 * n\n",
    "\n",
    "mul3(5), mul5(3)"
   ]
  },
  {
   "cell_type": "code",
   "execution_count": 19,
   "metadata": {},
   "outputs": [
    {
     "data": {
      "text/plain": [
       "(15, 15)"
      ]
     },
     "execution_count": 19,
     "metadata": {},
     "output_type": "execute_result"
    }
   ],
   "source": [
    "class Mul:\n",
    "    def __init__(self,  m):\n",
    "        self.m = m\n",
    "    \n",
    "    def mul(self, n):\n",
    "        return self.m * n\n",
    "\n",
    "mul3 = Mul(3)\n",
    "mul5 = Mul(5)\n",
    "\n",
    "mul3.mul(5), mul5.mul(3)\n",
    "    "
   ]
  },
  {
   "cell_type": "code",
   "execution_count": 21,
   "metadata": {},
   "outputs": [
    {
     "data": {
      "text/plain": [
       "(15, 15)"
      ]
     },
     "execution_count": 21,
     "metadata": {},
     "output_type": "execute_result"
    }
   ],
   "source": [
    "class Mul1:\n",
    "    def __init__(self, m):\n",
    "        self.m = m\n",
    "    \n",
    "    def __call__(self, n):\n",
    "        return self.m * n\n",
    "\n",
    "mul3 = Mul1(3)\n",
    "mul5 = Mul1(5)\n",
    "\n",
    "mul3(5), mul5(3)"
   ]
  },
  {
   "cell_type": "code",
   "execution_count": 22,
   "metadata": {},
   "outputs": [
    {
     "data": {
      "text/plain": [
       "(15, 15)"
      ]
     },
     "execution_count": 22,
     "metadata": {},
     "output_type": "execute_result"
    }
   ],
   "source": [
    "def Mul(m):\n",
    "    def wrapper(n):\n",
    "        return m * n\n",
    "    return wrapper\n",
    "\n",
    "mul3 = Mul(3)\n",
    "mul5 = Mul(5)\n",
    "\n",
    "mul3(5), mul5(3)"
   ]
  },
  {
   "cell_type": "code",
   "execution_count": 24,
   "metadata": {},
   "outputs": [
    {
     "name": "stdout",
     "output_type": "stream",
     "text": [
      "출력합니다.\n",
      "처리시간:  1.0144696235656738\n"
     ]
    }
   ],
   "source": [
    "import sys\n",
    "\n",
    "def my_func():\n",
    "    print('출력합니다.')\n",
    "    time.sleep(1)\n",
    "\n",
    "def elapsed(func_name):\n",
    "    def wrapper(msg):\n",
    "        start = time.time()\n",
    "        result = func_name()\n",
    "        end = time.time()\n",
    "        print(msg , end - start)\n",
    "    return wrapper\n",
    "\n",
    "my_func_time = elapsed(my_func)\n",
    "my_func_time('처리시간: ')"
   ]
  },
  {
   "cell_type": "code",
   "execution_count": 30,
   "metadata": {},
   "outputs": [
    {
     "name": "stdout",
     "output_type": "stream",
     "text": [
      "출력 를 출력합니다.\n",
      "처리 시간:  1.0083019733428955\n"
     ]
    }
   ],
   "source": [
    "import sys\n",
    "\n",
    "\n",
    "def elapsed(func_name):\n",
    "    def wrapper(*args, **kwargs):\n",
    "        start = time.time()\n",
    "        result = func_name(*args, **kwargs)\n",
    "        end = time.time()\n",
    "        print('처리 시간: ' , end - start)\n",
    "    return wrapper\n",
    "\n",
    "@elapsed\n",
    "def my_func(msg):\n",
    "    print('%s 를 출력합니다.' % msg)\n",
    "    time.sleep(1)\n",
    "\n",
    "my_func('출력')    \n"
   ]
  },
  {
   "cell_type": "code",
   "execution_count": 38,
   "metadata": {},
   "outputs": [
    {
     "name": "stdout",
     "output_type": "stream",
     "text": [
      "[print_func] aaaaa를 출력하는 함수입니다.\n",
      "[elapsed] 처리시간:  1.00762939453125\n"
     ]
    }
   ],
   "source": [
    "import time\n",
    "\n",
    "def elapsed(my_func):\n",
    "    def wrapper(*args, **kwargs):\n",
    "        start = time.time()\n",
    "        result = my_func(*args, **kwargs)\n",
    "        end = time.time()\n",
    "        print('[elapsed] 처리시간: ', end - start)\n",
    "    return wrapper\n",
    "\n",
    "def print_func(msg):\n",
    "    print(f'[print_func] {msg}를 출력하는 함수입니다.')\n",
    "    time.sleep(1)\n",
    "\n",
    "elap_func = elapsed(print_func)\n",
    "elap_func('aaaaa')        "
   ]
  },
  {
   "cell_type": "code",
   "execution_count": 39,
   "metadata": {},
   "outputs": [
    {
     "name": "stdout",
     "output_type": "stream",
     "text": [
      "[print_func] aaaaaaaa를 출력하는 함수입니다.\n",
      "[elapsed] 처리시간:  1.0089240074157715\n"
     ]
    }
   ],
   "source": [
    "import time\n",
    "\n",
    "def elapsed(my_func):\n",
    "    def wrapper(*args, **kwargs):\n",
    "        start = time.time()\n",
    "        result = my_func(*args, **kwargs)\n",
    "        end = time.time()\n",
    "        print('[elapsed] 처리시간: ', end - start)\n",
    "    return wrapper\n",
    "\n",
    "@elapsed\n",
    "def print_func(msg):\n",
    "    print(f'[print_func] {msg}를 출력하는 함수입니다.')\n",
    "    time.sleep(1)\n",
    "\n",
    "print_func('aaaaaaaa')\n"
   ]
  },
  {
   "cell_type": "code",
   "execution_count": null,
   "metadata": {},
   "outputs": [],
   "source": [
    "## 07-3 이터레이터와 제너레이터"
   ]
  },
  {
   "cell_type": "code",
   "execution_count": 42,
   "metadata": {},
   "outputs": [
    {
     "name": "stdout",
     "output_type": "stream",
     "text": [
      "a\n",
      "b\n",
      "c\n",
      "1\n",
      "2\n",
      "3\n"
     ]
    }
   ],
   "source": [
    "# iterable(이터러블)\n",
    "# 반복 가능한 객체 : 문자열, 리스트, 튜플, 딕셔너리, 집합 등\n",
    "# ------------------------------------------------------\n",
    "for i in 'abc':\n",
    "     print(i)\n",
    "\n",
    "for i in [1,2,3]:\n",
    "     print(i)     "
   ]
  },
  {
   "attachments": {},
   "cell_type": "markdown",
   "metadata": {},
   "source": [
    "## 07-3 이터레이터와 제너레이터"
   ]
  },
  {
   "attachments": {},
   "cell_type": "markdown",
   "metadata": {},
   "source": [
    "### 이터레이터란?"
   ]
  },
  {
   "cell_type": "code",
   "execution_count": 54,
   "metadata": {},
   "outputs": [
    {
     "data": {
      "text/plain": [
       "list_iterator"
      ]
     },
     "execution_count": 54,
     "metadata": {},
     "output_type": "execute_result"
    }
   ],
   "source": [
    "# 이터레이터(iterator)\n",
    "# -------------------\n",
    "# 이터레이터는 next() 함수 호출 시 게속 그다음 값을 리턴하는 객체\n",
    "# -----------------------------------------------------------\n",
    "a = [1,2,3]\n",
    "#next(a)\n",
    "\n",
    "# 위 문장 실행시 오류 발생. 즉, 반복 가능하다고 해서 이터레이터는 아니라는 말임.\n",
    "# 반복 가능하다면 iter() 함수를 이용하여 이터레이터로 만들 수 있음\n",
    "# -----------------------------------------------------------------------\n",
    "a = [1,2,3]\n",
    "ia = iter(a)\n",
    "type(ia)"
   ]
  },
  {
   "cell_type": "code",
   "execution_count": 55,
   "metadata": {},
   "outputs": [
    {
     "name": "stdout",
     "output_type": "stream",
     "text": [
      "1\n",
      "2\n",
      "3\n"
     ]
    },
    {
     "ename": "StopIteration",
     "evalue": "",
     "output_type": "error",
     "traceback": [
      "\u001b[1;31m---------------------------------------------------------------------------\u001b[0m",
      "\u001b[1;31mStopIteration\u001b[0m                             Traceback (most recent call last)",
      "\u001b[1;32m~\\AppData\\Local\\Temp/ipykernel_31964/4212795234.py\u001b[0m in \u001b[0;36m<module>\u001b[1;34m\u001b[0m\n\u001b[0;32m      2\u001b[0m \u001b[0mprint\u001b[0m\u001b[1;33m(\u001b[0m\u001b[0mnext\u001b[0m\u001b[1;33m(\u001b[0m\u001b[0mia\u001b[0m\u001b[1;33m)\u001b[0m\u001b[1;33m)\u001b[0m\u001b[1;33m\u001b[0m\u001b[1;33m\u001b[0m\u001b[0m\n\u001b[0;32m      3\u001b[0m \u001b[0mprint\u001b[0m\u001b[1;33m(\u001b[0m\u001b[0mnext\u001b[0m\u001b[1;33m(\u001b[0m\u001b[0mia\u001b[0m\u001b[1;33m)\u001b[0m\u001b[1;33m)\u001b[0m\u001b[1;33m\u001b[0m\u001b[1;33m\u001b[0m\u001b[0m\n\u001b[1;32m----> 4\u001b[1;33m \u001b[0mprint\u001b[0m\u001b[1;33m(\u001b[0m\u001b[0mnext\u001b[0m\u001b[1;33m(\u001b[0m\u001b[0mia\u001b[0m\u001b[1;33m)\u001b[0m\u001b[1;33m)\u001b[0m\u001b[1;33m\u001b[0m\u001b[1;33m\u001b[0m\u001b[0m\n\u001b[0m",
      "\u001b[1;31mStopIteration\u001b[0m: "
     ]
    }
   ],
   "source": [
    "print(next(ia))\n",
    "print(next(ia))\n",
    "print(next(ia))\n",
    "print(next(ia))     # 오류 발생 ~ StopIteration\n"
   ]
  },
  {
   "cell_type": "code",
   "execution_count": 56,
   "metadata": {},
   "outputs": [
    {
     "name": "stdout",
     "output_type": "stream",
     "text": [
      "1\n",
      "2\n",
      "3\n"
     ]
    }
   ],
   "source": [
    "a = [1,2,3]\n",
    "ia = iter(a)\n",
    "\n",
    "for i in ia:\n",
    "    print(i)"
   ]
  },
  {
   "cell_type": "code",
   "execution_count": 57,
   "metadata": {},
   "outputs": [
    {
     "name": "stdout",
     "output_type": "stream",
     "text": [
      "1\n",
      "2\n",
      "3\n"
     ]
    }
   ],
   "source": [
    "a = [1,2,3]\n",
    "ia = iter(a)\n",
    "\n",
    "for i in ia:\n",
    "    print(i)\n",
    "\n",
    "for i in ia:\n",
    "    print(i)    "
   ]
  },
  {
   "attachments": {},
   "cell_type": "markdown",
   "metadata": {},
   "source": [
    "### 이터레이터 만들기"
   ]
  },
  {
   "cell_type": "code",
   "execution_count": 59,
   "metadata": {},
   "outputs": [
    {
     "name": "stdout",
     "output_type": "stream",
     "text": [
      "1\n",
      "2\n",
      "3\n"
     ]
    }
   ],
   "source": [
    "# iter() 함수를 이용하면 리스트를 이터레이터로 만들 수 있었다. \n",
    "# 이번에는 iter() 함수 대신 클래스로 이터레이터를 만들어보자. \n",
    "# 이터레이터는 클래스에 __iter__와 __next__라는 두 개의 메서드를 구현하여 만들 수 있다.\n",
    "# -------------------------------------------------------------------------------\n",
    "class MyIterator:\n",
    "    def __init__(self, data):\n",
    "        self.data = data\n",
    "        self.position = 0\n",
    "\n",
    "    def __iter__(self):\n",
    "        return self\n",
    "    \n",
    "    def __next__(self):\n",
    "        if self.position >= len(self.data):\n",
    "            raise StopIteration\n",
    "        result = self.data[self.position]\n",
    "        self.position += 1\n",
    "        return result\n",
    "    \n",
    "if __name__ == '__main__':\n",
    "    i = MyIterator([1,2,3])\n",
    "    for item in i:\n",
    "        print(item)         "
   ]
  },
  {
   "cell_type": "code",
   "execution_count": 61,
   "metadata": {},
   "outputs": [
    {
     "name": "stdout",
     "output_type": "stream",
     "text": [
      "1\n",
      "2\n",
      "3\n",
      "4\n"
     ]
    }
   ],
   "source": [
    "ii = MyIterator([1,2,3,4])\n",
    "for i in ii:\n",
    "    print(i)"
   ]
  },
  {
   "cell_type": "code",
   "execution_count": 63,
   "metadata": {},
   "outputs": [
    {
     "name": "stdout",
     "output_type": "stream",
     "text": [
      "5\n",
      "4\n",
      "3\n",
      "2\n",
      "1\n"
     ]
    }
   ],
   "source": [
    "class ReverseIterator:\n",
    "    def __init__(self, data):\n",
    "        self.data = data\n",
    "        self.position = len(self.data) - 1\n",
    "        \n",
    "    def __iter__(self):\n",
    "        return self\n",
    "    \n",
    "    def __next__(self):\n",
    "        if self.position <0:\n",
    "            raise StopIteration\n",
    "        \n",
    "        result = self.data[self.position]\n",
    "        self.position -= 1\n",
    "        return result\n",
    "\n",
    "ri = ReverseIterator([1,2,3,4,5])\n",
    "for r in ri:\n",
    "    print(r)"
   ]
  },
  {
   "attachments": {},
   "cell_type": "markdown",
   "metadata": {},
   "source": [
    "### 제너레이터"
   ]
  },
  {
   "cell_type": "code",
   "execution_count": null,
   "metadata": {},
   "outputs": [],
   "source": [
    "# 제너레이터(generator)는 이터레이터를 생성해 주는 함수이다. \n",
    "# 제너레이터로 생성한 객체는 이터레이터와 마찬가지로 next() 함수 호출 시 그 값을 \n",
    "# 차례대로 얻을 수 있다. \n",
    "# 이때 제너레이터에서는 차례대로 결과를 반환하고자 return 대신 yield 키워드를 사용한다.\n",
    "# --------------------------------------------------------------------------------"
   ]
  },
  {
   "cell_type": "code",
   "execution_count": 65,
   "metadata": {},
   "outputs": [
    {
     "name": "stdout",
     "output_type": "stream",
     "text": [
      "a\n",
      "b\n",
      "c\n"
     ]
    },
    {
     "data": {
      "text/plain": [
       "generator"
      ]
     },
     "execution_count": 65,
     "metadata": {},
     "output_type": "execute_result"
    }
   ],
   "source": [
    "def mygen():\n",
    "    yield 'a'\n",
    "    yield 'b'\n",
    "    yield 'c' \n",
    "\n",
    "g = mygen()\n",
    "\n",
    "for i in g:\n",
    "    print(i)\n",
    "\n",
    "type(g)"
   ]
  },
  {
   "cell_type": "code",
   "execution_count": 68,
   "metadata": {},
   "outputs": [
    {
     "name": "stdout",
     "output_type": "stream",
     "text": [
      "a\n",
      "b\n",
      "c\n"
     ]
    }
   ],
   "source": [
    "def mygen():\n",
    "    yield 'a'\n",
    "    yield 'b'\n",
    "    yield 'c' \n",
    "\n",
    "g = mygen()\n",
    "print(next(g))\n",
    "print(next(g))\n",
    "print(next(g))\n",
    "    "
   ]
  },
  {
   "cell_type": "markdown",
   "metadata": {},
   "source": [
    "### 제너레이터 표현식"
   ]
  },
  {
   "cell_type": "code",
   "execution_count": 70,
   "metadata": {},
   "outputs": [
    {
     "name": "stdout",
     "output_type": "stream",
     "text": [
      "1\n",
      "4\n",
      "9\n",
      "16\n"
     ]
    }
   ],
   "source": [
    "def mygen():\n",
    "    for i in range(1,1000):\n",
    "        result = i*i\n",
    "        yield result\n",
    "\n",
    "gen = mygen()\n",
    "\n",
    "print(next(gen))\n",
    "print(next(gen))\n",
    "print(next(gen))\n",
    "print(next(gen))"
   ]
  },
  {
   "cell_type": "code",
   "execution_count": 73,
   "metadata": {},
   "outputs": [
    {
     "name": "stdout",
     "output_type": "stream",
     "text": [
      "1\n",
      "4\n",
      "9\n"
     ]
    }
   ],
   "source": [
    "# 튜플 형식으로 만들기\n",
    "# ------------------\n",
    "# 아래에서 사용한 표현식은 리스트 컴프리헨션(list comprehension) 구문과 비슷하다. \n",
    "# 다만 리스트 대신 튜플을 이용한 점이 다르다. \n",
    "# 이와 같은 표현식을 제너레이터 표현식(generator expression)이라 부른다.\n",
    "# --------------------------------------------------------------------------\n",
    "\n",
    "gen1 = (i*i for i in range(1,1000)) \n",
    "\n",
    "print(next(gen1))\n",
    "print(next(gen1))\n",
    "print(next(gen1))"
   ]
  },
  {
   "attachments": {},
   "cell_type": "markdown",
   "metadata": {},
   "source": [
    "### 제너레이터와 이터레이터"
   ]
  },
  {
   "cell_type": "code",
   "execution_count": 74,
   "metadata": {},
   "outputs": [
    {
     "name": "stdout",
     "output_type": "stream",
     "text": [
      "1\n",
      "4\n",
      "9\n"
     ]
    }
   ],
   "source": [
    "# 클래스를 이용하여 이터레이터를 작성하면 좀 더 복잡한 행동을 하게 할 수 있다. \n",
    "# 이와는 달리 제너레이터를 이용하면 간단하게 이터레이터를 만들 수 있다. \n",
    "# 따라서 이터레이터의 성격에 따라 클래스로 만들 것인지 제너레이터로 만들 것인지를 선택해야 한다.\n",
    "# ----------------------------------------------------------------------------------------\n",
    "\n",
    "# 간단한 경우라면 제너레이터 함수나 제너레이터 표현식을 사용하는 것이 가독성이나 유지보수 측면에서\n",
    "# 유리하다. 다음은 (i * i for i in range(1, 1000)) 제너레이터를 클래스로 구현한 예이다.\n",
    "# ----------------------------------------------------------------------------------------\n",
    "class MyIterator:\n",
    "    def __init__(self):\n",
    "        self.data = 1\n",
    "    \n",
    "    def __iter__(self):\n",
    "        return self\n",
    "    \n",
    "    def __next__(self):\n",
    "        result = self.data * self.data\n",
    "        self.data += 1\n",
    "        if self.data >= 1000:\n",
    "            raise StopIteration\n",
    "        return result\n",
    "\n",
    "mi = MyIterator()\n",
    "print(next(mi))    \n",
    "print(next(mi))    \n",
    "print(next(mi))    "
   ]
  },
  {
   "attachments": {},
   "cell_type": "markdown",
   "metadata": {},
   "source": [
    "### 제너레이터 활용하기"
   ]
  },
  {
   "cell_type": "code",
   "execution_count": 75,
   "metadata": {},
   "outputs": [
    {
     "name": "stdout",
     "output_type": "stream",
     "text": [
      "job start\n",
      "job start\n",
      "job start\n",
      "job start\n",
      "job start\n"
     ]
    },
    {
     "data": {
      "text/plain": [
       "'done'"
      ]
     },
     "execution_count": 75,
     "metadata": {},
     "output_type": "execute_result"
    }
   ],
   "source": [
    "# 제너레이터 활용\n",
    "# --------------\n",
    "import time\n",
    "\n",
    "def longtime_job():\n",
    "    print('job start')\n",
    "    time.sleep(1)\n",
    "    return 'done'\n",
    "\n",
    "list_job = iter([longtime_job() for i in range(5)])\n",
    "next(list_job)"
   ]
  },
  {
   "cell_type": "code",
   "execution_count": 76,
   "metadata": {},
   "outputs": [
    {
     "name": "stdout",
     "output_type": "stream",
     "text": [
      "job start\n",
      "job start\n",
      "job start\n",
      "job start\n",
      "job start\n"
     ]
    },
    {
     "data": {
      "text/plain": [
       "['done', 'done', 'done', 'done', 'done']"
      ]
     },
     "execution_count": 76,
     "metadata": {},
     "output_type": "execute_result"
    }
   ],
   "source": [
    "[longtime_job() for i in range(5)]"
   ]
  },
  {
   "cell_type": "code",
   "execution_count": 79,
   "metadata": {},
   "outputs": [
    {
     "name": "stdout",
     "output_type": "stream",
     "text": [
      "job start\n",
      "done\n",
      "job start\n",
      "done\n"
     ]
    }
   ],
   "source": [
    "# 제너레이터 표현식 활용\n",
    "# --------------------\n",
    "# 제너레이터 표현식으로 1회만 호출 됨\n",
    "# --------------------------------\n",
    "import time\n",
    "\n",
    "def longtime_job():\n",
    "    print('job start')\n",
    "    time.sleep(2)\n",
    "    return 'done'\n",
    "\n",
    "list_job = (longtime_job() for i in range(5))\n",
    "print(next(list_job))\n",
    "print(next(list_job))\n"
   ]
  },
  {
   "attachments": {},
   "cell_type": "markdown",
   "metadata": {},
   "source": [
    "## 07-4 파이썬 타입 어노테이션"
   ]
  },
  {
   "cell_type": "code",
   "execution_count": null,
   "metadata": {},
   "outputs": [],
   "source": [
    "# 파이썬 3.5 버전부터 변수와 함수에 타입을 지정할 수 있는 타입 어노테이션 기능이 추가"
   ]
  },
  {
   "attachments": {},
   "cell_type": "markdown",
   "metadata": {},
   "source": [
    "### 파이썬은 동적 프로그래밍 언어"
   ]
  },
  {
   "cell_type": "code",
   "execution_count": 82,
   "metadata": {},
   "outputs": [
    {
     "name": "stdout",
     "output_type": "stream",
     "text": [
      "<class 'int'>\n",
      "<class 'str'>\n"
     ]
    }
   ],
   "source": [
    "# 프로그램 실행 중에 변수의 타입을 동적으로 바꿀 수 있으므로 파이썬을 \n",
    "# 동적 프로그래밍 언어(dynamic programming language)라 한다.\n",
    "# ---------------------------------------------------------------\n",
    "a = 1\n",
    "print(type(a))\n",
    "\n",
    "a = \"1\"\n",
    "print(type(a))\n",
    "\n",
    "# 자바는 한 번 변수에 타입을 지정하면 지정한 타입 외에 다른 타입은 사용할 수 없으므로 \n",
    "# 정적 프로그래밍 언어(static programming language)라 한다.\n",
    "# -----------------------------------------------------------------------------\n",
    "# int a = 1;\n",
    "# a = \"1\";      # 컴파일 에러"
   ]
  },
  {
   "attachments": {},
   "cell_type": "markdown",
   "metadata": {},
   "source": [
    "### 동적 언어의 단점"
   ]
  },
  {
   "cell_type": "code",
   "execution_count": null,
   "metadata": {},
   "outputs": [],
   "source": [
    "# 파이썬과 같은 동적 언어는 타입에 자유로워 유연한 코딩이 가능하므로 쉽고 빠르게 프로그램을 만들 수 있다. \n",
    "# 그리고 타입 체크를 위한 코드가 없으므로 비교적 깔끔한 소스 코드를 생성할 수 있다. \n",
    "# 하지만, 프로젝트의 규모가 커질수록 잘못된 타입 사용으로 말미암은 버그가 생길 확률도 늘게 된다.\n",
    "\n",
    "# 안전성을 선호하는 금융권 프로젝트에서는 이러한 이유로 동적 언어보다는 정적 언어를 메인 언어로 선택하는 경향이 많다."
   ]
  },
  {
   "attachments": {},
   "cell_type": "markdown",
   "metadata": {},
   "source": [
    "### 파이썬 타입 어노테이션"
   ]
  },
  {
   "cell_type": "code",
   "execution_count": null,
   "metadata": {},
   "outputs": [],
   "source": [
    "# 파이썬은 3.5 버전부터 타입 어노테이션을 지원하기 시작한다. \n",
    "# 다만 정적 언어에서와 같은 적극적인 타입 체크가 아니라 타입 어노테이션(type annotation), \n",
    "# 즉 타입에 대한 힌트를 알려주는 정도이다. \n",
    "# 동적 언어의 장점을 잃지 않고 기존에 작성된 코드와의 호환성을 생각하면 당연한 선택일 것이다.\n",
    "# -------------------------------------------------------------------------------------\n",
    "num: int = 1\n",
    "\n",
    "def add(a: int, b: int) -> int:\n",
    "    return a+b\n",
    "\n",
    "# 함수의 매개변수에도 같은 규칙을 적용하여 매개변수의 타입을 명시할 수 있다. \n",
    "# 그리고 함수의 리턴값도 -> int처럼 사용하여 리턴값의 타입을 명시할 수 있다.\n",
    "\n",
    "# 어노테이션 타입으로 정수는 int, 문자열은 str, 리스트는 list, 튜플은 tuple, \n",
    "# 딕셔너리는 dict, 집합은 set, 불은 bool을 사용한다.\n",
    "# ----------------------------------------------------------------------"
   ]
  },
  {
   "attachments": {},
   "cell_type": "markdown",
   "metadata": {},
   "source": [
    "### mypy"
   ]
  },
  {
   "cell_type": "code",
   "execution_count": 83,
   "metadata": {},
   "outputs": [
    {
     "name": "stdout",
     "output_type": "stream",
     "text": [
      "6.4\n"
     ]
    }
   ],
   "source": [
    "# 어노테이션을 사용하더라도 다음과 같이 사용\n",
    "# ---------------------------------------\n",
    "def add(a: int, b: int) -> int:\n",
    "    return a+b\n",
    "\n",
    "result = add(3, 3.4)\n",
    "print(result)\n",
    "\n",
    "# add() 함수의 b 매개변수는 int형이지만 3.4와 같은 float형 데이터를 사용해도 이 코드는 문제없이 돌아간다. \n",
    "# 왜냐하면 파이썬 타입 어노테이션은 체크가 아닌 힌트이기 때문이다."
   ]
  },
  {
   "cell_type": "code",
   "execution_count": null,
   "metadata": {},
   "outputs": [],
   "source": [
    "# 더 적극적으로 파이썬 어노테이션을 활용하려면 mypy를 사용하는 것이 좋다. \n",
    "# mypy는 파이썬 표준 라이브러리가 아니므로 다음과 같이 설치한 후에 사용할 수 있다.\n",
    "# --------------------------------------------------------------------------\n",
    "# $ pip install mypy\n",
    "# $ mypy typing_sample.py\n",
    "\n",
    "# 파이썬 타입 어노테이션은 요새 쓰임이 점점 늘어나는 추세이다. \n",
    "# 많은 프로젝트와 라이브러리에서 파이썬 타입 어노테이션을 적용한 코드가 심심치 않게 발견된다."
   ]
  }
 ],
 "metadata": {
  "kernelspec": {
   "display_name": "base",
   "language": "python",
   "name": "python3"
  },
  "language_info": {
   "codemirror_mode": {
    "name": "ipython",
    "version": 3
   },
   "file_extension": ".py",
   "mimetype": "text/x-python",
   "name": "python",
   "nbconvert_exporter": "python",
   "pygments_lexer": "ipython3",
   "version": "3.9.7"
  },
  "orig_nbformat": 4
 },
 "nbformat": 4,
 "nbformat_minor": 2
}
