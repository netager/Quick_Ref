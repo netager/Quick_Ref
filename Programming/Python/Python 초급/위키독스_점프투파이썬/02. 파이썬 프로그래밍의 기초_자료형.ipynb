{
 "cells": [
  {
   "cell_type": "markdown",
   "metadata": {},
   "source": [
    "## 02-1 숫자형"
   ]
  },
  {
   "cell_type": "code",
   "execution_count": 1,
   "metadata": {},
   "outputs": [
    {
     "data": {
      "text/plain": [
       "10"
      ]
     },
     "execution_count": 1,
     "metadata": {},
     "output_type": "execute_result"
    }
   ],
   "source": [
    "# 정수형\n",
    "# -----\n",
    "a = 123\n",
    "a = -178\n",
    "a = 0"
   ]
  },
  {
   "cell_type": "code",
   "execution_count": null,
   "metadata": {},
   "outputs": [],
   "source": [
    "# 실수형\n",
    "# ------\n",
    "a = 1.2\n",
    "a = -3.45\n",
    "\n",
    "a = 4.24E10\n",
    "a = 4.24e-10"
   ]
  },
  {
   "cell_type": "code",
   "execution_count": null,
   "metadata": {},
   "outputs": [],
   "source": [
    "# 8진수와 16진수\n",
    "# --------------\n",
    "a = 0o177\n",
    "\n",
    "a = 0x8ff\n",
    "b = 0xABC"
   ]
  },
  {
   "cell_type": "code",
   "execution_count": null,
   "metadata": {},
   "outputs": [],
   "source": [
    "# 사칙연산\n",
    "# --------\n",
    "a = 3\n",
    "b = 4\n",
    "\n",
    "a + b\n",
    "a - b\n",
    "a * b\n",
    "a / b\n",
    "\n",
    "a ** b  # 거듭제곱\n",
    "a % b   # 나머지\n",
    "a // b  # 몫"
   ]
  },
  {
   "cell_type": "markdown",
   "metadata": {},
   "source": [
    "## 02-2 문자열 자료형"
   ]
  },
  {
   "cell_type": "code",
   "execution_count": 2,
   "metadata": {},
   "outputs": [
    {
     "data": {
      "text/plain": [
       "'abc'"
      ]
     },
     "execution_count": 2,
     "metadata": {},
     "output_type": "execute_result"
    }
   ],
   "source": [
    "# 큰 따옴표(\")로 양쪽 둘러싸기\n",
    "\n",
    "# 작은 따옴표(')로 양촉 둘러싸기\n",
    "\n",
    "# 큰 따옴표 3개를 연속(\"\"\")으로 싸서 양쪽 둘러싸기\n",
    "\n",
    "# 작은 따옴표 3개를 연속(''')으로 싸서 양쪽 둘러싸기"
   ]
  },
  {
   "cell_type": "code",
   "execution_count": 39,
   "metadata": {},
   "outputs": [
    {
     "data": {
      "text/plain": [
       "'\"Python is very easy.\" he says.'"
      ]
     },
     "execution_count": 39,
     "metadata": {},
     "output_type": "execute_result"
    }
   ],
   "source": [
    "# 문자열 안에 작은따옴표나 큰 따옴표를 포함시키고 싶을 때\n",
    "# ------------------------------------------------------\n",
    "food = \"Python's favorite food is perl\"\n",
    "food\n",
    "\n",
    "say = '\"Python is very easy.\" he says.'\n",
    "say\n",
    "\n",
    "food = 'Python\\'s favorite food is perl'\n",
    "food\n",
    "\n",
    "say = \"\\\"Python is very easy.\\\" he says.\"\n",
    "say"
   ]
  },
  {
   "cell_type": "code",
   "execution_count": 45,
   "metadata": {},
   "outputs": [
    {
     "name": "stdout",
     "output_type": "stream",
     "text": [
      "Life is too short\n",
      "You need python\n",
      "Life is too short\n",
      "You need python\n"
     ]
    }
   ],
   "source": [
    "# 여러 줄인 문자열을 변수에 대입하고 싶을 때\n",
    "# ------------------------------------------\n",
    "multiline = \"Life is too short\\nYou need python\"\n",
    "print(multiline)\n",
    "\n",
    "multiline = \"\"\"Life is too short\n",
    "You need python\"\"\"\n",
    "print(multiline)"
   ]
  },
  {
   "cell_type": "code",
   "execution_count": null,
   "metadata": {},
   "outputs": [],
   "source": [
    "# 이스케이프 코드\n",
    "# ---------------\n",
    "# \\n, \\t, \\\\, \\', \\\", \\r, \\f, \\a, \\b, \\000(널문자)\""
   ]
  },
  {
   "cell_type": "code",
   "execution_count": 48,
   "metadata": {},
   "outputs": [
    {
     "name": "stdout",
     "output_type": "stream",
     "text": [
      "==================================================\n",
      "My Program\n",
      "==================================================\n"
     ]
    }
   ],
   "source": [
    "# 문자열 연산하기\n",
    "# ---------------\n",
    "head = 'Python'\n",
    "tail = ' is fun!'\n",
    "head + tail\n",
    "\n",
    "a = 'Python'\n",
    "a * 2\n",
    "\n",
    "print('=' * 50)\n",
    "print('My Program')\n",
    "print('=' * 50)\n",
    "\n"
   ]
  },
  {
   "cell_type": "code",
   "execution_count": 54,
   "metadata": {},
   "outputs": [
    {
     "name": "stdout",
     "output_type": "stream",
     "text": [
      "17\n",
      "18\n"
     ]
    }
   ],
   "source": [
    "# 문자열 길이 구하기(len)\n",
    "# -----------------------\n",
    "aa = \"Life is too short\"\n",
    "print(len(aa))\n",
    "\n",
    "aa = \"Life is too short\\n\"\n",
    "print(len(aa))"
   ]
  },
  {
   "cell_type": "code",
   "execution_count": 57,
   "metadata": {},
   "outputs": [
    {
     "name": "stdout",
     "output_type": "stream",
     "text": [
      "e   n if fe is too short\n",
      "You need python Lif\n",
      "20230315 Rainy\n"
     ]
    },
    {
     "data": {
      "text/plain": [
       "'Python'"
      ]
     },
     "execution_count": 57,
     "metadata": {},
     "output_type": "execute_result"
    }
   ],
   "source": [
    "# 문자열 인덱싱과 슬라이싱\n",
    "# -----------------------\n",
    "aa = \"Life is too short\\nYou need python\"\n",
    "print(aa[3], aa[4], aa[-1], aa[1:3], aa[2:], aa[:3])\n",
    "\n",
    "date = bb[:8]; weather = bb[8:]\n",
    "print(date, weather)\n",
    "\n",
    "cc = \"Pithon\"\n",
    "cc[:1]+\"y\"+cc[2:]"
   ]
  },
  {
   "cell_type": "markdown",
   "metadata": {},
   "source": [
    "### 문자열 포매팅"
   ]
  },
  {
   "cell_type": "code",
   "execution_count": 37,
   "metadata": {},
   "outputs": [
    {
     "data": {
      "text/plain": [
       "'i ate 10 apples. so I was sick for three days.'"
      ]
     },
     "execution_count": 37,
     "metadata": {},
     "output_type": "execute_result"
    }
   ],
   "source": [
    "# 문자열 포매팅\n",
    "# -------------\n",
    "\"I eat %d apples.\" % 3\n",
    "\"I eat %f apples\" % 3.0\n",
    "\n",
    "\"I eat %s apples.\" % \"five\"\n",
    "\n",
    "number = 3\n",
    "\"I eat %d apples\" % number\n",
    "number = 10; day = \"three\"\n",
    "\"i ate %d apples. so I was sick for %s days.\" %(number, day)"
   ]
  },
  {
   "cell_type": "code",
   "execution_count": 40,
   "metadata": {},
   "outputs": [
    {
     "data": {
      "text/plain": [
       "'10 is 8진수 : 12 이고 16진수로는 a'"
      ]
     },
     "execution_count": 40,
     "metadata": {},
     "output_type": "execute_result"
    }
   ],
   "source": [
    "char = \"a\"\n",
    "\"First alphabet is %c %%\" %char\n",
    "\"%d is 8진수 : %o 이고 16진수로는 %x\" %(10, 10, 10)"
   ]
  },
  {
   "cell_type": "code",
   "execution_count": 43,
   "metadata": {},
   "outputs": [
    {
     "data": {
      "text/plain": [
       "'4 + 4 은 8이다.'"
      ]
     },
     "execution_count": 43,
     "metadata": {},
     "output_type": "execute_result"
    }
   ],
   "source": [
    "\"%s + %s 은 %s이다.\" %(4, 4, 4+4)"
   ]
  },
  {
   "cell_type": "code",
   "execution_count": 48,
   "metadata": {},
   "outputs": [
    {
     "data": {
      "text/plain": [
       "'4%'"
      ]
     },
     "execution_count": 48,
     "metadata": {},
     "output_type": "execute_result"
    }
   ],
   "source": [
    "\"%d%%\" % 4"
   ]
  },
  {
   "cell_type": "code",
   "execution_count": 55,
   "metadata": {},
   "outputs": [
    {
     "data": {
      "text/plain": [
       "'3.1416    '"
      ]
     },
     "execution_count": 55,
     "metadata": {},
     "output_type": "execute_result"
    }
   ],
   "source": [
    "\n",
    "\"%10s\" % \"hi\"\n",
    "\"%-10sjain\" % \"hi\"\n",
    "\"%0.4f\" % 3.141592\n",
    "\"%10.4f\" % 3.141592\n",
    "\"%-10.4f\" % 3.141592"
   ]
  },
  {
   "cell_type": "code",
   "execution_count": null,
   "metadata": {},
   "outputs": [],
   "source": [
    "# 문자열 포멧 코드\n",
    "# ----------------\n",
    "# %s, %10s, %-10s\n",
    "# %c, %d, \n",
    "# %f, %0.4f, %10.4f\n",
    "# %o, %x, %% "
   ]
  },
  {
   "cell_type": "code",
   "execution_count": 60,
   "metadata": {},
   "outputs": [
    {
     "name": "stdout",
     "output_type": "stream",
     "text": [
      "I ate 4 apples    \n",
      "I ate 4     apples\n",
      "I ate 4   apples  \n",
      "I ate 4 apples    \n",
      "I ate ==apples==\n",
      "I ate !!apples!!\n",
      "4.1416\n",
      "    3.1416\n",
      "    3.1416\n",
      "####3.1416\n"
     ]
    }
   ],
   "source": [
    "# format 함수를 사용한 포매팅\n",
    "# ---------------------------\n",
    "\"I eat {0} apples\".format(3)\n",
    "\"I eat {0} apples\".format(\"five\")\n",
    "\n",
    "number = 3\n",
    "\"I eat {0} apples.\".format(number)\n",
    "\n",
    "\"I ate {0} apples. so I was sick for {1} days.\".format(number, number)\n",
    "\n",
    "\"I ate {number} apples. so I was sick for {day} days.\".format(number=3, day=4)\n",
    "\n",
    "\"I ate {0} apples. so I was sick for {day} days.\".format(10, day=7)\n",
    "\n",
    "print(\"I ate 4 {0:<10}\".format(\"apples\"))\n",
    "print(\"I ate 4 {0:>10}\".format(\"apples\"))\n",
    "print(\"I ate 4 {0:^10}\".format(\"apples\"))\n",
    "print(\"I ate 4 {f:<10}\".format(f=\"apples\"))\n",
    "\n",
    "print(\"I ate {0:=^10}\".format(\"apples\"))\n",
    "print(\"I ate {0:!^10}\".format(\"apples\"))\n",
    "\n",
    "y = 3.141592\n",
    "print(\"{0:<1.4f}\".format(y+1))\n",
    "print(\"{0:>10.4f}\".format(y))\n",
    "print(\"{0:>10.4f}\".format(y))\n",
    "print(\"{0:#>10.4f}\".format(y))\n",
    "\n",
    "print(\"{{ and }}\".format())\n",
    "\n",
    "print(\"%-10.4f\" % 3.141592)"
   ]
  },
  {
   "cell_type": "code",
   "execution_count": 64,
   "metadata": {},
   "outputs": [
    {
     "name": "stdout",
     "output_type": "stream",
     "text": [
      "나의 이름은 홍길동 이다. 나이는 30 임\n",
      "나의 이름은 홍길동        이다. 나이는 30 임\n",
      "나의 이름은 홍길동 이다. 나이는 31 임\n",
      "나의 이름은 홍길동 이다. 나이는 30 임\n",
      "나의 이름은 홍길동                  이다. 나이는         31 임\n",
      "나의 이름은 홍길동================= 이다. 나이는 ========31 임\n",
      "나의 이름은 홍길동================= 이다. 나이는 =============31.1234 임\n"
     ]
    }
   ],
   "source": [
    "# f 문자열 포매팅\n",
    "# ---------------\n",
    "name = '홍길동'\n",
    "age = 30\n",
    "\n",
    "print(f'나의 이름은 {name} 이다. 나이는 {age} 임')\n",
    "print(f'나의 이름은 {name:<10} 이다. 나이는 {age} 임')\n",
    "print(f'나의 이름은 {name} 이다. 나이는 {age+1} 임')\n",
    "\n",
    "d = {'name':'홍길동', 'age':30}\n",
    "print(f'나의 이름은 {d[\"name\"]} 이다. 나이는 {d[\"age\"]} 임')\n",
    "print(f'나의 이름은 {d[\"name\"]:<20} 이다. 나이는 {d[\"age\"]+1:>10} 임')\n",
    "print(f'나의 이름은 {d[\"name\"]:=<20} 이다. 나이는 {d[\"age\"]+1:=>10} 임')\n",
    "\n",
    "d = {'name':'홍길동', 'age':30.1234333}\n",
    "print(f'나의 이름은 {d[\"name\"]:=<20} 이다. 나이는 {d[\"age\"]+1:=>20.4f} 임')"
   ]
  },
  {
   "cell_type": "markdown",
   "metadata": {},
   "source": [
    "### 문자열 관련 함수들"
   ]
  },
  {
   "cell_type": "code",
   "execution_count": 112,
   "metadata": {},
   "outputs": [
    {
     "name": "stdout",
     "output_type": "stream",
     "text": [
      "1\n",
      "14\n",
      "4\n",
      "-1\n",
      "14\n",
      "4\n"
     ]
    }
   ],
   "source": [
    "# count ~ 선택한 문자 갯수 반환\n",
    "# -----\n",
    "a = 'hobby대한민국'\n",
    "print(a.count('국'))\n",
    "\n",
    "\n",
    "# find ~ 위치 인덱스 반환\n",
    "# ----\n",
    "a = 'Python is the best choice'\n",
    "print(a.find('b'))\n",
    "print(a.find('o'))  # 문자 중복시 첫번째 문자의 위치 인덱스 반환\n",
    "print(a.find('z'))  # 찾는 문자 없으면 -1 반환\n",
    "\n",
    "\n",
    "# index ~ 위치 인덱스 알려주기\n",
    "# -----\n",
    "a = 'Python is the best choice'\n",
    "print(a.index('b'))\n",
    "print(a.index('o'))  # 문자 중복시 첫번째 문자의 위치 인덱스 반환\n",
    "# print(a.index('z'))  # 찾는 문자 없으면 오류 발생"
   ]
  },
  {
   "cell_type": "code",
   "execution_count": 114,
   "metadata": {},
   "outputs": [
    {
     "name": "stdout",
     "output_type": "stream",
     "text": [
      "a,b,c,d\n",
      "a,b,c,d\n",
      "HI\n",
      "hi\n"
     ]
    }
   ],
   "source": [
    "# join ~ 문자열 삽입\n",
    "# ----\n",
    "print(\",\".join('abcd'))\n",
    "print(\",\".join(['a','b','c','d']))\n",
    "\n",
    "\n",
    "# upper ~ 소문자를 대문자로 바꾸기\n",
    "# -----\n",
    "a = 'hi'\n",
    "print(a.upper())\n",
    "\n",
    "\n",
    "# lower ~ 대문자를 소문자로 바꾸기\n",
    "# -----\n",
    "a = 'HI'\n",
    "print(a.lower())"
   ]
  },
  {
   "cell_type": "code",
   "execution_count": 127,
   "metadata": {},
   "outputs": [
    {
     "name": "stdout",
     "output_type": "stream",
     "text": [
      "hi    \n",
      "hi\n",
      "     hi\n",
      "          hi\n",
      "hi\n",
      "hi\n"
     ]
    }
   ],
   "source": [
    "# lstrip ~ 왼쪽 공백 지우기\n",
    "# ------\n",
    "a = '     hi    '\n",
    "print(f'{a.lstrip():=^}')\n",
    "print('     hi'.lstrip())\n",
    "\n",
    "\n",
    "# rstrip ~ 오른쪽 공백 지우기\n",
    "# ------\n",
    "a = '     hi    '\n",
    "print(f'{a.rstrip():=^}')\n",
    "print('          hi     '.rstrip())\n",
    "\n",
    "\n",
    "# strip ~ 양쪽 공백 지우기\n",
    "# -----\n",
    "a = '     hi    '\n",
    "print(f'{a.strip():=^}')\n",
    "print('          hi     '.strip())\n"
   ]
  },
  {
   "cell_type": "code",
   "execution_count": 128,
   "metadata": {},
   "outputs": [
    {
     "data": {
      "text/plain": [
       "'Your leg is too short'"
      ]
     },
     "execution_count": 128,
     "metadata": {},
     "output_type": "execute_result"
    }
   ],
   "source": [
    "# replace ~ 문자열 바꾸기\n",
    "# -------\n",
    "a = 'Life is too short'\n",
    "a.replace('Life', 'Your leg')"
   ]
  },
  {
   "cell_type": "code",
   "execution_count": 132,
   "metadata": {},
   "outputs": [
    {
     "name": "stdout",
     "output_type": "stream",
     "text": [
      "['Life', 'is', 'too', 'short']\n",
      "['a', 'b', 'c', 'd']\n"
     ]
    }
   ],
   "source": [
    "# split ~ 문자열 나누기\n",
    "# -----\n",
    "a = 'Life is too short'\n",
    "print(a.split())\n",
    "\n",
    "b = 'a:b:c:d'\n",
    "print(b.split(':'))"
   ]
  },
  {
   "cell_type": "markdown",
   "metadata": {},
   "source": [
    "## 02-3 리스트 자료형"
   ]
  },
  {
   "cell_type": "code",
   "execution_count": 136,
   "metadata": {},
   "outputs": [
    {
     "data": {
      "text/plain": [
       "3"
      ]
     },
     "execution_count": 136,
     "metadata": {},
     "output_type": "execute_result"
    }
   ],
   "source": [
    "# 리스트 인덱싱\n",
    "# ------------\n",
    "a = [1, 2, 3]\n",
    "a, a[0], a[0] + a[1]\n",
    "a[-1]\n"
   ]
  },
  {
   "cell_type": "code",
   "execution_count": 145,
   "metadata": {},
   "outputs": [
    {
     "data": {
      "text/plain": [
       "['a', 'b']"
      ]
     },
     "execution_count": 145,
     "metadata": {},
     "output_type": "execute_result"
    }
   ],
   "source": [
    "a = [1,2,3,['a','b','c']]\n",
    "a, a[-1], a[3]\n",
    "a[3][0:2]"
   ]
  },
  {
   "cell_type": "code",
   "execution_count": 147,
   "metadata": {},
   "outputs": [
    {
     "data": {
      "text/plain": [
       "'is'"
      ]
     },
     "execution_count": 147,
     "metadata": {},
     "output_type": "execute_result"
    }
   ],
   "source": [
    "a = [1, 2, ['a', 'b', ['Life', 'is']]]\n",
    "a[2][2][-1]"
   ]
  },
  {
   "cell_type": "code",
   "execution_count": 156,
   "metadata": {},
   "outputs": [
    {
     "name": "stdout",
     "output_type": "stream",
     "text": [
      "[3, ['a', 'b', 'c']]\n",
      "3\n",
      "['a', 'b', 'c']\n",
      "['a', 'b', 'c']\n"
     ]
    }
   ],
   "source": [
    "a = [1,2,3,['a','b','c']]\n",
    "print(a[2:4])\n",
    "print(a[2:4][0])\n",
    "print(a[2:4][1])\n",
    "print(a[3])"
   ]
  },
  {
   "cell_type": "code",
   "execution_count": 160,
   "metadata": {},
   "outputs": [
    {
     "name": "stdout",
     "output_type": "stream",
     "text": [
      "[1, 2]\n",
      "[3, 4, 5]\n"
     ]
    }
   ],
   "source": [
    "a = [1,2,3,4,5]\n",
    "print(a[:2])\n",
    "print(a[2:])"
   ]
  },
  {
   "cell_type": "code",
   "execution_count": 163,
   "metadata": {},
   "outputs": [
    {
     "name": "stdout",
     "output_type": "stream",
     "text": [
      "[3, ['a', 'b', 'c'], 4]\n",
      "['a', 'b']\n"
     ]
    }
   ],
   "source": [
    "a = [1, 2, 3, ['a', 'b', 'c'], 4, 5]\n",
    "print(a[2:5])\n",
    "print(a[3][:2])"
   ]
  },
  {
   "cell_type": "code",
   "execution_count": 167,
   "metadata": {},
   "outputs": [
    {
     "name": "stdout",
     "output_type": "stream",
     "text": [
      "[1, 2, 3, 4, 5, 6]\n",
      "[1, 2, 3, 1, 2, 3, 1, 2, 3]\n"
     ]
    }
   ],
   "source": [
    "# 리스트 연산하기\n",
    "# --------------\n",
    "\n",
    "a = [1,2,3]\n",
    "b = [4,5,6]\n",
    "\n",
    "print(a + b)\n",
    "print(a * 3 )"
   ]
  },
  {
   "cell_type": "code",
   "execution_count": 168,
   "metadata": {},
   "outputs": [
    {
     "data": {
      "text/plain": [
       "3"
      ]
     },
     "execution_count": 168,
     "metadata": {},
     "output_type": "execute_result"
    }
   ],
   "source": [
    "# 리스트 길이 구하기\n",
    "# ----------------\n",
    "a = [1,2,3]\n",
    "len(a)"
   ]
  },
  {
   "cell_type": "code",
   "execution_count": 171,
   "metadata": {},
   "outputs": [
    {
     "data": {
      "text/plain": [
       "'1 hi'"
      ]
     },
     "execution_count": 171,
     "metadata": {},
     "output_type": "execute_result"
    }
   ],
   "source": [
    "# 숫자를 문자형으로 변경\n",
    "# --------------------\n",
    "a = [1,2,3]\n",
    "str(a[0]) + ' hi'"
   ]
  },
  {
   "cell_type": "code",
   "execution_count": 174,
   "metadata": {},
   "outputs": [
    {
     "data": {
      "text/plain": [
       "[1, 2]"
      ]
     },
     "execution_count": 174,
     "metadata": {},
     "output_type": "execute_result"
    }
   ],
   "source": [
    "# 시스트의 수정과 삭제\n",
    "# -------------------\n",
    "a = [1,2,3]\n",
    "a[2] = 4\n",
    "a\n",
    "\n",
    "del a[1]\n",
    "a\n",
    "\n",
    "a = [1,2,3,4,5]\n",
    "del a[2:]\n",
    "a"
   ]
  },
  {
   "cell_type": "code",
   "execution_count": 179,
   "metadata": {},
   "outputs": [
    {
     "data": {
      "text/plain": [
       "[1, 2, 3, 4, [5, 6]]"
      ]
     },
     "execution_count": 179,
     "metadata": {},
     "output_type": "execute_result"
    }
   ],
   "source": [
    "# 리스트 관련 함수\n",
    "# ---------------\n",
    "a = [1,2,3]\n",
    "a.append(4)\n",
    "a\n",
    "a.append([5,6])\n",
    "a\n"
   ]
  },
  {
   "cell_type": "code",
   "execution_count": 184,
   "metadata": {},
   "outputs": [
    {
     "data": {
      "text/plain": [
       "['a', 'b', 'c']"
      ]
     },
     "execution_count": 184,
     "metadata": {},
     "output_type": "execute_result"
    }
   ],
   "source": [
    "# 리스트 정렬(sort)\n",
    "# ----------------\n",
    "a = [1,4,3,2]\n",
    "a.sort()\n",
    "a\n",
    "\n",
    "a = ['a','c','b']\n",
    "a.sort()\n",
    "a"
   ]
  },
  {
   "cell_type": "code",
   "execution_count": 186,
   "metadata": {},
   "outputs": [
    {
     "data": {
      "text/plain": [
       "['b', 'c', 'a']"
      ]
     },
     "execution_count": 186,
     "metadata": {},
     "output_type": "execute_result"
    }
   ],
   "source": [
    "# 리스트 뒤집기(reverse)\n",
    "# ---------------------\n",
    "a = ['a','c','b']\n",
    "a.reverse()\n",
    "a"
   ]
  },
  {
   "cell_type": "code",
   "execution_count": 189,
   "metadata": {},
   "outputs": [
    {
     "name": "stdout",
     "output_type": "stream",
     "text": [
      "['a', 'c', 'b']\n",
      "['b', 'c', 'a']\n"
     ]
    }
   ],
   "source": [
    "a = ['a','c','b']\n",
    "print(a[:])\n",
    "print(a[::-1])"
   ]
  },
  {
   "cell_type": "code",
   "execution_count": 195,
   "metadata": {},
   "outputs": [
    {
     "name": "stdout",
     "output_type": "stream",
     "text": [
      "2\n"
     ]
    },
    {
     "data": {
      "text/plain": [
       "0"
      ]
     },
     "execution_count": 195,
     "metadata": {},
     "output_type": "execute_result"
    }
   ],
   "source": [
    "# 인덱스 반환(index)\n",
    "# -----------------\n",
    "a = [1,2,3,1,2,3]\n",
    "print(a.index(3))\n",
    "a.index(1)"
   ]
  },
  {
   "cell_type": "code",
   "execution_count": 198,
   "metadata": {},
   "outputs": [
    {
     "data": {
      "text/plain": [
       "[4, 1, 2, 5, 3]"
      ]
     },
     "execution_count": 198,
     "metadata": {},
     "output_type": "execute_result"
    }
   ],
   "source": [
    "# 리스트에 요소 삽입\n",
    "# ----------------\n",
    "a = [1,2,3]\n",
    "a.insert(0,4)\n",
    "a\n",
    "a.insert(3,5)\n",
    "a"
   ]
  },
  {
   "cell_type": "code",
   "execution_count": 200,
   "metadata": {},
   "outputs": [
    {
     "data": {
      "text/plain": [
       "[2, 3, 2, 3]"
      ]
     },
     "execution_count": 200,
     "metadata": {},
     "output_type": "execute_result"
    }
   ],
   "source": [
    "# 리스트 요소 제거(remove)\n",
    "# -----------------------\n",
    "a = [1,2,3,1,2,3]\n",
    "a.remove(1)\n",
    "a\n",
    "a.remove(1)\n",
    "a"
   ]
  },
  {
   "cell_type": "code",
   "execution_count": 5,
   "metadata": {},
   "outputs": [
    {
     "name": "stdout",
     "output_type": "stream",
     "text": [
      "2\n",
      "[1, 3]\n"
     ]
    },
    {
     "data": {
      "text/plain": [
       "[1]"
      ]
     },
     "execution_count": 5,
     "metadata": {},
     "output_type": "execute_result"
    }
   ],
   "source": [
    "# 리스트 요소 끄집어 내기(pop)\n",
    "# pop(index)\n",
    "# --------------------------\n",
    "a = [1,2,3]\n",
    "print(a.pop(1))\n",
    "print(a)\n",
    "a.pop()\n",
    "a"
   ]
  },
  {
   "cell_type": "code",
   "execution_count": 208,
   "metadata": {},
   "outputs": [
    {
     "data": {
      "text/plain": [
       "2"
      ]
     },
     "execution_count": 208,
     "metadata": {},
     "output_type": "execute_result"
    }
   ],
   "source": [
    "# 리스트에 포함된 요소 x의 개수 세기(count)\n",
    "# --------------------------------------\n",
    "a = [1,2,3,1]\n",
    "a.count(1)"
   ]
  },
  {
   "cell_type": "code",
   "execution_count": 210,
   "metadata": {},
   "outputs": [
    {
     "data": {
      "text/plain": [
       "[1, 2, 3, 4, 5, 'a', 'b']"
      ]
     },
     "execution_count": 210,
     "metadata": {},
     "output_type": "execute_result"
    }
   ],
   "source": [
    "# 리스트 확장(extend)\n",
    "# ------------------\n",
    "a = [1,2,3]\n",
    "a.extend([4,5])\n",
    "a\n",
    "b = ['a','b']\n",
    "a.extend(b)\n",
    "a"
   ]
  },
  {
   "cell_type": "code",
   "execution_count": 212,
   "metadata": {},
   "outputs": [
    {
     "data": {
      "text/plain": [
       "[1, 2, 3, 4, 5]"
      ]
     },
     "execution_count": 212,
     "metadata": {},
     "output_type": "execute_result"
    }
   ],
   "source": [
    "a = [1,2,3]\n",
    "a.extend([4,5])\n",
    "a"
   ]
  },
  {
   "cell_type": "code",
   "execution_count": 213,
   "metadata": {},
   "outputs": [
    {
     "data": {
      "text/plain": [
       "[1, 2, 3, 4, 5]"
      ]
     },
     "execution_count": 213,
     "metadata": {},
     "output_type": "execute_result"
    }
   ],
   "source": [
    "a = [1,2,3]\n",
    "a += [4,5]\n",
    "a"
   ]
  },
  {
   "cell_type": "code",
   "execution_count": 216,
   "metadata": {},
   "outputs": [
    {
     "data": {
      "text/plain": [
       "[1, 2, 3, 4, 5]"
      ]
     },
     "execution_count": 216,
     "metadata": {},
     "output_type": "execute_result"
    }
   ],
   "source": [
    "a = [1,2,3]\n",
    "a = a + [4,5]\n",
    "a"
   ]
  },
  {
   "cell_type": "markdown",
   "metadata": {},
   "source": [
    "## 02-4 튜플 자료형"
   ]
  },
  {
   "cell_type": "code",
   "execution_count": 218,
   "metadata": {},
   "outputs": [],
   "source": [
    "t1 = ()\n",
    "t2 = (1,)\n",
    "t3 = (1,2,3)\n",
    "t4 = 1,2,3\n",
    "t5 = ('a','b',('ab','cd'))"
   ]
  },
  {
   "cell_type": "code",
   "execution_count": 228,
   "metadata": {},
   "outputs": [
    {
     "data": {
      "text/plain": [
       "('a', 'b', ('ab', 'cd'))"
      ]
     },
     "execution_count": 228,
     "metadata": {},
     "output_type": "execute_result"
    }
   ],
   "source": [
    "t5"
   ]
  },
  {
   "cell_type": "markdown",
   "metadata": {},
   "source": [
    "## 02-5 딕셔너리 자료형"
   ]
  },
  {
   "cell_type": "code",
   "execution_count": 12,
   "metadata": {},
   "outputs": [
    {
     "name": "stdout",
     "output_type": "stream",
     "text": [
      "dict_keys(['name', 'phone', 'birth'])\n",
      "['name', 'phone', 'birth']\n",
      "name\n",
      "phone\n",
      "birth\n",
      "dict_values(['pey', '010-999-1234', '1118'])\n",
      "['pey', '010-999-1234', '1118']\n",
      "pey\n",
      "010-999-1234\n",
      "1118\n",
      "dict_items([('name', 'pey'), ('phone', '010-999-1234'), ('birth', '1118')])\n",
      "[('name', 'pey'), ('phone', '010-999-1234'), ('birth', '1118')]\n",
      "('name', 'pey')\n",
      "name\n",
      "('phone', '010-999-1234')\n",
      "phone\n",
      "('birth', '1118')\n",
      "birth\n",
      "{}\n"
     ]
    }
   ],
   "source": [
    "# Key 리스트 말들기(keys)\n",
    "# -----------------------\n",
    "a = {'name':'pey', 'phone':'010-999-1234', 'birth':'1118'}\n",
    "print(a.keys())\n",
    "print(list(a.keys()))\n",
    "for k in a.keys():\n",
    "    print(k)\n",
    "\n",
    "print(a.values())\n",
    "print(list(a.values()))\n",
    "for v in a.values():\n",
    "    print(v)\n",
    "\n",
    "print(a.items())\n",
    "print(list(a.items()))\n",
    "for i in a.items():\n",
    "    print(i)\n",
    "    print(i[0])\n",
    "\n",
    "a.clear()\n",
    "print(a)\n"
   ]
  },
  {
   "cell_type": "code",
   "execution_count": 17,
   "metadata": {},
   "outputs": [
    {
     "name": "stdout",
     "output_type": "stream",
     "text": [
      "pey\n",
      "pey\n",
      "None\n",
      "netager\n"
     ]
    }
   ],
   "source": [
    "# Key로 Value 얻기(get)\n",
    "# ---------------------\n",
    "a = {'name':'pey', 'phone':'010-999-1234', 'birth':'1118'}\n",
    "print(a['name'])\n",
    "print(a.get('name'))\n",
    "# print(a['lee'])   # 에러 발생\n",
    "print(a.get('lee')) # None 리턴 ~ None = False\n",
    "print(a.get('lee', 'netager'))  # key 값이 없는 경우 default 값 출력"
   ]
  },
  {
   "cell_type": "code",
   "execution_count": null,
   "metadata": {},
   "outputs": [],
   "source": [
    "# 해당 Key가 딕셔너리에 있는지 조하하기(in)\n",
    "# ----------------------------------------\n"
   ]
  },
  {
   "cell_type": "code",
   "execution_count": 19,
   "metadata": {},
   "outputs": [
    {
     "name": "stdout",
     "output_type": "stream",
     "text": [
      "True\n",
      "False\n"
     ]
    }
   ],
   "source": [
    "a = {'name':'pey', 'phone':'010-999-1234', 'birth':'1118'}\n",
    "print('name' in a)\n",
    "print('email' in a)"
   ]
  },
  {
   "cell_type": "markdown",
   "metadata": {},
   "source": [
    "## 02-6 집합 자료형"
   ]
  },
  {
   "cell_type": "code",
   "execution_count": 23,
   "metadata": {},
   "outputs": [
    {
     "data": {
      "text/plain": [
       "{'aa', 'bb', 'cc'}"
      ]
     },
     "execution_count": 23,
     "metadata": {},
     "output_type": "execute_result"
    }
   ],
   "source": [
    "s1 = set([1,2,3])\n",
    "s1\n",
    "s2 = set(\"Hello\")\n",
    "s2\n",
    "s3 = set(['aa','bb','cc'])\n",
    "s3"
   ]
  },
  {
   "cell_type": "code",
   "execution_count": 28,
   "metadata": {},
   "outputs": [
    {
     "data": {
      "text/plain": [
       "1"
      ]
     },
     "execution_count": 28,
     "metadata": {},
     "output_type": "execute_result"
    }
   ],
   "source": [
    "# 집합 자료형의 특징\n",
    "# -----------------\n",
    "s1 = set([1,2,3])\n",
    "l1 = list(s1)\n",
    "l1\n",
    "\n",
    "l1[0]\n",
    "\n",
    "t1 = tuple(s1)\n",
    "t1\n",
    "t1[0]"
   ]
  },
  {
   "cell_type": "code",
   "execution_count": 35,
   "metadata": {},
   "outputs": [
    {
     "name": "stdout",
     "output_type": "stream",
     "text": [
      "{4, 5, 6}\n",
      "{4, 5, 6}\n",
      "{1, 2, 3, 4, 5, 6, 7, 8, 9}\n",
      "{1, 2, 3, 4, 5, 6, 7, 8, 9}\n",
      "{1, 2, 3}\n",
      "{1, 2, 3}\n"
     ]
    }
   ],
   "source": [
    "# 교집합, 합집합, 차집합 구하기\n",
    "# ----------------------------\n",
    "s1 = set([1, 2, 3, 4, 5, 6])\n",
    "s2 = set([4, 5, 6, 7, 8, 9])\n",
    "\n",
    "# 교집합\n",
    "# -----\n",
    "print(s1 & s2)\n",
    "print(s1.intersection(s2))\n",
    "\n",
    "# 합집합\n",
    "# ------\n",
    "print(s1 | s2)\n",
    "print(s1.union(s2))\n",
    "\n",
    "# 차집합\n",
    "# ------\n",
    "print(s1 - s2)\n",
    "print(s1.difference(s2))"
   ]
  },
  {
   "cell_type": "code",
   "execution_count": 68,
   "metadata": {},
   "outputs": [
    {
     "data": {
      "text/plain": [
       "{1, 3}"
      ]
     },
     "execution_count": 68,
     "metadata": {},
     "output_type": "execute_result"
    }
   ],
   "source": [
    "# 집합 자료형 관련 함수들\n",
    "# -----------------------\n",
    "\n",
    "# 값 1개 추가하기(add)\n",
    "# --------------------\n",
    "s1 = set([1,2,3])\n",
    "s1.add(4)\n",
    "s1\n",
    "\n",
    "# 값 여러개 추가하기(update)\n",
    "# --------------------------\n",
    "s1 = set([1,2,3])\n",
    "s1.update([4,5,6])\n",
    "s1\n",
    "\n",
    "# 특정값 제거하기(remove)\n",
    "# -----------------------\n",
    "s1 = set([1,2,3])\n",
    "s1.remove(2)\n",
    "s1\n",
    "\n",
    "\n"
   ]
  },
  {
   "cell_type": "markdown",
   "metadata": {},
   "source": [
    "## 02-7 불 자료형"
   ]
  },
  {
   "cell_type": "code",
   "execution_count": 73,
   "metadata": {},
   "outputs": [
    {
     "name": "stdout",
     "output_type": "stream",
     "text": [
      "<class 'bool'>\n",
      "<class 'bool'>\n",
      "True\n",
      "True\n"
     ]
    }
   ],
   "source": [
    "a = True\n",
    "b = False\n",
    "print(type(a))\n",
    "print(type(b))\n",
    "\n",
    "print(1 == 1)\n",
    "print( 2 > 1)"
   ]
  },
  {
   "cell_type": "code",
   "execution_count": null,
   "metadata": {},
   "outputs": [],
   "source": [
    "# 자료형의 참과 거짓\n",
    "# -----------------\n",
    "\"python\"    # 참\n",
    "\"\"          # 거짓\n",
    "[1,2,3]     # 참\n",
    "[]          # 거짓\n",
    "(1,2,3)     # 참\n",
    "()          # 거짓\n",
    "{'a': 1}    # 참\n",
    "{}          # 거짓\n",
    "1           # 참\n",
    "0           # 거짓\n",
    "None        # 거짓"
   ]
  },
  {
   "cell_type": "code",
   "execution_count": 76,
   "metadata": {},
   "outputs": [
    {
     "name": "stdout",
     "output_type": "stream",
     "text": [
      "True\n",
      "False\n",
      "False\n"
     ]
    }
   ],
   "source": [
    "# 불 연산\n",
    "# -------\n",
    "print(bool('python'))\n",
    "print(bool(''))\n",
    "print(bool(0))\n"
   ]
  },
  {
   "cell_type": "markdown",
   "metadata": {},
   "source": [
    "## 02-8 자료형의 값을 저장하는 공간, 변수"
   ]
  },
  {
   "cell_type": "code",
   "execution_count": 77,
   "metadata": {},
   "outputs": [
    {
     "name": "stdout",
     "output_type": "stream",
     "text": [
      "2222954209856\n"
     ]
    }
   ],
   "source": [
    "# 변수\n",
    "# ----\n",
    "a = 1\n",
    "b = 'Python'\n",
    "c = [1,2,3]\n",
    "\n",
    "# 변수가 가리키는 메모리의 주소 확인\n",
    "# ---------------------------------\n",
    "a = [1,2,3]\n",
    "print(id(a))"
   ]
  },
  {
   "cell_type": "code",
   "execution_count": 85,
   "metadata": {},
   "outputs": [
    {
     "name": "stdout",
     "output_type": "stream",
     "text": [
      "[1, 2, 3] [1, 2, 3]\n",
      "2222954470016 2222954470016\n",
      "True\n",
      "[1, 4, 3] [1, 4, 3]\n"
     ]
    }
   ],
   "source": [
    "# 리스트 자료형 복사\n",
    "# ------------------\n",
    "a = [1,2,3]\n",
    "b = a\n",
    "\n",
    "print(a, b)\n",
    "print(id(a), id(b))\n",
    "\n",
    "print(a is b)\n",
    "\n",
    "a[1] = 4\n",
    "print(a, b)"
   ]
  },
  {
   "cell_type": "code",
   "execution_count": 87,
   "metadata": {},
   "outputs": [
    {
     "name": "stdout",
     "output_type": "stream",
     "text": [
      "[1, 2, 3] [1, 2, 3]\n",
      "2222954254528 2222954254464\n",
      "False\n",
      "[1, 4, 3] [1, 2, 3]\n",
      "------------------------------------------------------------\n",
      "[1, 2, 3] [1, 2, 3]\n",
      "2222922361920 2222954256192\n",
      "False\n",
      "[1, 4, 3] [1, 2, 3]\n"
     ]
    }
   ],
   "source": [
    "# 다른 주소를 가리키도록 복사\n",
    "# ---------------------------\n",
    "\n",
    "# [:] 이용\n",
    "# --------\n",
    "a = [1,2,3]\n",
    "b = a[:]\n",
    "\n",
    "print(a, b)\n",
    "print(id(a), id(b))\n",
    "\n",
    "print(a is b)\n",
    "\n",
    "a[1] = 4\n",
    "print(a, b)\n",
    "\n",
    "print('-'*60)\n",
    "\n",
    "# copy 모듈 이용\n",
    "# --------------\n",
    "from copy import copy\n",
    "a = [1,2,3]\n",
    "b = copy(a)\n",
    "\n",
    "print(a, b)\n",
    "print(id(a), id(b))\n",
    "\n",
    "print(a is b)\n",
    "\n",
    "a[1] = 4\n",
    "print(a, b)\n"
   ]
  },
  {
   "cell_type": "code",
   "execution_count": 99,
   "metadata": {},
   "outputs": [
    {
     "name": "stdout",
     "output_type": "stream",
     "text": [
      "python    ,       life\n",
      "python, life\n",
      "python, life\n",
      "python, python\n",
      "5, 3\n"
     ]
    }
   ],
   "source": [
    "# 변수를 만드는 방법\n",
    "# ------------------\n",
    "a, b = ('python', 'life')\n",
    "print(f'{a:<10}, {b:>10}')\n",
    "\n",
    "(a, b) = 'python', 'life'\n",
    "print(f'{a}, {b}')\n",
    "\n",
    "[a,b] = ['python', 'life']\n",
    "print(f'{a}, {b}')\n",
    "\n",
    "a = b = 'python'\n",
    "print(f'{a}, {b}')\n",
    "\n",
    "a = 3\n",
    "b = 5\n",
    "a, b = b, a\n",
    "print(f'{a}, {b}')\n"
   ]
  }
 ],
 "metadata": {
  "kernelspec": {
   "display_name": "Python 3.9.7 ('base')",
   "language": "python",
   "name": "python3"
  },
  "language_info": {
   "codemirror_mode": {
    "name": "ipython",
    "version": 3
   },
   "file_extension": ".py",
   "mimetype": "text/x-python",
   "name": "python",
   "nbconvert_exporter": "python",
   "pygments_lexer": "ipython3",
   "version": "3.9.7"
  },
  "orig_nbformat": 4,
  "vscode": {
   "interpreter": {
    "hash": "263930470851f494f0ed2879c35b57985588df20f9e529b86e97dd5eb9ddc466"
   }
  }
 },
 "nbformat": 4,
 "nbformat_minor": 2
}
