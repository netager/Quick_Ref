{
 "cells": [
  {
   "attachments": {},
   "cell_type": "markdown",
   "metadata": {},
   "source": [
    "## 06-1 "
   ]
  },
  {
   "cell_type": "code",
   "execution_count": 4,
   "metadata": {},
   "outputs": [
    {
     "name": "stdout",
     "output_type": "stream",
     "text": [
      "[2, 4, 6, 8, 10, 12, 14, 16, 18]\n"
     ]
    }
   ],
   "source": [
    "def gugu(n):\n",
    "    result = []\n",
    "    i = 1\n",
    "    while i < 10:\n",
    "        result.append(n*i)\n",
    "        i += 1\n",
    "    return result\n",
    "    \n",
    "print(gugu(2))"
   ]
  },
  {
   "attachments": {},
   "cell_type": "markdown",
   "metadata": {},
   "source": [
    "## 06-2 3과 5의 배수 합하기기"
   ]
  },
  {
   "cell_type": "code",
   "execution_count": 15,
   "metadata": {},
   "outputs": [
    {
     "name": "stdout",
     "output_type": "stream",
     "text": [
      "1st: 1000미만의 3과 5의 배수의 합 :  233168\n",
      "2st: 1000미만의 3과 5의 배수의 합 :  233168\n",
      "3st: 1000미만의 3과 5의 배수의 합 :  233168\n"
     ]
    }
   ],
   "source": [
    "# Question\n",
    "# --------\n",
    "# 10 미만의 자연수에서 3과 5의 배수를 구하면 3, 5, 6, 9이다. 이들의 총합은 23이다.\n",
    "# 1000 미만의 자연수에서 3의 배수와 5의 배수의 총합을 구하라.\n",
    "# ---------------------------------------------------------------------------\n",
    "\n",
    "# 1st\n",
    "# ---\n",
    "def double(n):\n",
    "    result = []\n",
    "    for i in range(1, 1000):\n",
    "        if i % n == 0:\n",
    "            result.append(i)\n",
    "    return result        \n",
    "\n",
    "aa = double(3)\n",
    "bb = double(5)\n",
    "aa.extend(bb)\n",
    "cc = set(aa)\n",
    "print('1st: 1000미만의 3과 5의 배수의 합 : ', sum(cc))\n",
    "\n",
    "\n",
    "# 2st\n",
    "# ---\n",
    "\n",
    "def double(a, b):\n",
    "    result = []\n",
    "    sum = 0\n",
    "    for i in range(1, 1000):\n",
    "        if i % a == 0:\n",
    "            result.append(i)\n",
    "        if i % b == 0:\n",
    "            result.append(i)\n",
    "    for j in set(result):\n",
    "        sum += j\n",
    "        \n",
    "    return sum\n",
    "\n",
    "print('2st: 1000미만의 3과 5의 배수의 합 : ', double(3, 5))\n",
    "\n",
    "\n",
    "# 3st\n",
    "# ---\n",
    "\n",
    "result = 0\n",
    "for n in range(1, 1000):\n",
    "    if n % 3 == 0 or n % 5 == 0:\n",
    "        result += n\n",
    "\n",
    "print('3st: 1000미만의 3과 5의 배수의 합 : ', result)        \n"
   ]
  },
  {
   "attachments": {},
   "cell_type": "markdown",
   "metadata": {},
   "source": [
    "## 06-3 게시판 페이징하기"
   ]
  },
  {
   "cell_type": "code",
   "execution_count": 23,
   "metadata": {},
   "outputs": [
    {
     "name": "stdout",
     "output_type": "stream",
     "text": [
      "1st: 필요한 page 수:  7\n",
      "2st: 필요한 page 수:  7\n",
      "2st: 필요한 page 수:  1\n",
      "3st: 필요한 page 수:  7\n",
      "3st: 필요한 page 수:  1\n",
      "3st: 필요한 page 수:  0\n"
     ]
    }
   ],
   "source": [
    "# Question\n",
    "# --------\n",
    "# 게시물의 총 건수와 한 페이지에 보여 줄 게시물 수를 입력으로 주었을 때 총 페이지 수를 출력\n",
    "# -----------------------------------------------------------------------------------\n",
    "# 총건수 : 33 (m)\n",
    "# 한 페이지 : 5 (n)\n",
    "# 함수 : get_total_page\n",
    "\n",
    "# 1st\n",
    "# ---\n",
    "import math\n",
    "def get_total_page(m, n):\n",
    "    return math.ceil(m / n)\n",
    "\n",
    "print('1st: 필요한 page 수: ', get_total_page(33, 5))\n",
    "\n",
    "# 2st\n",
    "# ---\n",
    "def get_total_page1(m, n):\n",
    "    if m < n:\n",
    "        page = 1\n",
    "    else:\n",
    "        page = m // n\n",
    "        remain = m % n\n",
    "        if remain > 0:\n",
    "            page = page+1\n",
    "            \n",
    "    return page\n",
    "\n",
    "print('2st: 필요한 page 수: ', get_total_page(33, 5))\n",
    "print('2st: 필요한 page 수: ', get_total_page(2, 5))\n",
    "\n",
    "\n",
    "# 3st\n",
    "# ---\n",
    "def get_total_page1(m, n):\n",
    "    if m % n == 0:\n",
    "        return m // n\n",
    "    else:\n",
    "        return m // n + 1\n",
    "\n",
    "print('3st: 필요한 page 수: ', get_total_page(33, 5))\n",
    "print('3st: 필요한 page 수: ', get_total_page(2, 5))\n",
    "print('3st: 필요한 page 수: ', get_total_page(0, 5))\n",
    "\n"
   ]
  },
  {
   "attachments": {},
   "cell_type": "markdown",
   "metadata": {},
   "source": [
    "## 06-4 간단한 메모장 만들기"
   ]
  },
  {
   "cell_type": "code",
   "execution_count": null,
   "metadata": {},
   "outputs": [],
   "source": [
    "# 간단한 메모장 만들기\n",
    "# ------------------\n",
    "# - 필요한 기능은? 메모 추가하기, 메모 조회하기\n",
    "# - 입력 받는 값은? 메모 내용, 프로그램 실행 옵션\n",
    "# - 출력하는 값은? memo.txt\n",
    "# --------------------------------------------    \n",
    "# memo.py -a \"메모내용\"\n",
    "# memo.py -i "
   ]
  },
  {
   "cell_type": "code",
   "execution_count": 32,
   "metadata": {},
   "outputs": [
    {
     "name": "stdout",
     "output_type": "stream",
     "text": [
      "Overwriting c:/temp/test/memo.py\n"
     ]
    }
   ],
   "source": [
    "%%writefile c:/temp/test/memo.py\n",
    "\n",
    "import sys\n",
    "\n",
    "args = sys.argv[1:]\n",
    "if args[0] == '-a':\n",
    "    with open('c:/temp/test/memo.txt', 'a') as f:\n",
    "        f.write(args[1]+'\\n')\n",
    "\n",
    "elif args[0] == '-i':\n",
    "    with open('c:/temp/test/memo.txt', 'r') as f:\n",
    "        print(f.read())\n",
    "else:\n",
    "    print('옵션 에러')        \n",
    "    \n"
   ]
  },
  {
   "cell_type": "code",
   "execution_count": 35,
   "metadata": {},
   "outputs": [
    {
     "name": "stdout",
     "output_type": "stream",
     "text": [
      "Overwriting c:/temp/test/memo1.py\n"
     ]
    }
   ],
   "source": [
    "%%writefile 'c:/temp/test/memo1.py'\n",
    "\n",
    "import sys\n",
    "\n",
    "option = sys.argv[1]\n",
    "\n",
    "if option == '-a':\n",
    "    memo = sys.argv[2]\n",
    "    with open('c:/temp/test/memo.txt', 'a') as f:\n",
    "        f.write(memo)\n",
    "        f.write('\\n')\n",
    "elif option == '-v':\n",
    "    with open('c:/temp/test/memo.txt', 'r') as f:\n",
    "        memo = f.read()\n",
    "        print(memo)\n",
    "else:\n",
    "    print('Usage: python memo.py [-v] [-a memo]')        "
   ]
  },
  {
   "attachments": {},
   "cell_type": "markdown",
   "metadata": {},
   "source": [
    "## 06-5 탭을 4개의 공백으로 바꾸기"
   ]
  },
  {
   "cell_type": "code",
   "execution_count": null,
   "metadata": {},
   "outputs": [],
   "source": [
    "# 탭을 4개의 공백으로 바꾸기\n",
    "# ------------------------\n",
    "# 이번에는 문서 파일을 읽어서 그 문서 파일 안에 있는 탭(tab)을 공백(space) 4개로 바꾸어 주는 스크립트를 작성해 보자.\n",
    "# - 필요한 기능은? 문서 파일 읽어 들이기, 문자열 변경하기\n",
    "# - 입력 받는 값은? 탭을 포함한 문서 파일\n",
    "# - 출력하는 값은? 탭이 공백으로 수정된 문서 파일\n",
    "# ----------------------------------------------------------------------------------------------------------\n"
   ]
  },
  {
   "cell_type": "code",
   "execution_count": 1,
   "metadata": {},
   "outputs": [
    {
     "name": "stdout",
     "output_type": "stream",
     "text": [
      "Writing c:/temp/test/tab.py\n"
     ]
    }
   ],
   "source": [
    "%%writefile c:/temp/test/tab.py \n",
    "\n",
    "# 1st\n",
    "# ---\n",
    "import sys\n",
    "\n",
    "if len(sys.argv) != 2:\n",
    "    print('Usage: python tab.py file_name')    \n",
    "else:\n",
    "    with open(sys.argv[1], 'r') as f:\n",
    "        memo = f.read()\n",
    "        print(memo)\n",
    "#        new_memo = memo.replace('\\t', '    ')\n",
    "        new_memo = memo.replace('\\t', '^^^^')\n",
    "        print(new_memo)\n",
    "    \n",
    "    with open(sys.argv[1], 'w') as f:\n",
    "        f.write(new_memo)\n",
    "\n"
   ]
  },
  {
   "cell_type": "code",
   "execution_count": 3,
   "metadata": {},
   "outputs": [
    {
     "name": "stdout",
     "output_type": "stream",
     "text": [
      "Writing c:/temp/test/tabto4.py\n"
     ]
    }
   ],
   "source": [
    "%%writefile c:/temp/test/tabto4.py\n",
    "import sys\n",
    "\n",
    "src = sys.argv[1]\n",
    "dst = sys.argv[2]\n",
    "\n",
    "with open(src, 'r') as f:\n",
    "    tab_content = f.read()\n",
    "    \n",
    "space_content = tab_content.replace('\\t', ' '*4)\n",
    "\n",
    "with open(dst, 'w') as f:\n",
    "    f.write(space_content)    "
   ]
  },
  {
   "cell_type": "code",
   "execution_count": 4,
   "metadata": {},
   "outputs": [
    {
     "name": "stdout",
     "output_type": "stream",
     "text": [
      "Writing c:/temp/test/tabto4r.py\n"
     ]
    }
   ],
   "source": [
    "%%writefile c:/temp/test/tabto4r.py\n",
    "import sys\n",
    "\n",
    "src = sys.argv[1]\n",
    "dst = sys.argv[2]\n",
    "\n",
    "with open(src, 'r') as f:\n",
    "    space_content = f.read()\n",
    "    \n",
    "tab_content = space_content.replace(' '*4, '\\t')\n",
    "\n",
    "with open(dst, 'w') as f:\n",
    "    f.write(tab_content)    "
   ]
  },
  {
   "cell_type": "markdown",
   "metadata": {},
   "source": [
    "## 06-6 하위 디렉터리 검색하기"
   ]
  },
  {
   "cell_type": "code",
   "execution_count": null,
   "metadata": {},
   "outputs": [],
   "source": [
    "# 특정 디렉터리부터 시작해서 그 하위 모든 파일 중 파이썬 파일(*.py)만 출력해 주는 프로그램\n",
    "# ---------------------------------------------------------------------------------------"
   ]
  },
  {
   "cell_type": "code",
   "execution_count": 21,
   "metadata": {},
   "outputs": [
    {
     "name": "stdout",
     "output_type": "stream",
     "text": [
      "c:/temp/test\\aa.py\n",
      "c:/temp/test\\game\\graphic\\render.py\n",
      "c:/temp/test\\game\\graphic\\__init__.py\n",
      "c:/temp/test\\game\\sound\\echo.py\n",
      "c:/temp/test\\game\\sound\\__init__.py\n",
      "c:/temp/test\\game\\__init__.py\n",
      "c:/temp/test\\mod1.py\n",
      "c:/temp/test\\mod2.py\n",
      "c:/temp/test\\modtest.py\n",
      "c:/temp/test\\random_pop.py\n",
      "c:/temp/test\\sys2.py\n",
      "c:/temp/test\\tab.py\n",
      "c:/temp/test\\tabr.py\n",
      "c:/temp/test\\tabto4.py\n",
      "c:/temp/test\\tabto4r.py\n"
     ]
    }
   ],
   "source": [
    "import os\n",
    "\n",
    "def search(dirname):\n",
    "    try:\n",
    "        filenames = os.listdir(dirname)\n",
    "        \n",
    "        for filename in filenames:\n",
    "            full_filename = os.path.join(dirname, filename)\n",
    "            if os.path.isdir(full_filename):\n",
    "                search(full_filename)\n",
    "            else:\n",
    "                ext = os.path.splitext(full_filename)[-1]\n",
    "                if ext == '.py':\n",
    "                    print(full_filename)\n",
    "    except PermissionError:\n",
    "        pass\n",
    "    \n",
    "search('c:/temp/')"
   ]
  },
  {
   "cell_type": "code",
   "execution_count": 29,
   "metadata": {},
   "outputs": [
    {
     "name": "stdout",
     "output_type": "stream",
     "text": [
      "c:/temp/test/aa.py\n",
      "c:/temp/test/mod1.py\n",
      "c:/temp/test/mod2.py\n",
      "c:/temp/test/modtest.py\n",
      "c:/temp/test/random_pop.py\n",
      "c:/temp/test/sys2.py\n",
      "c:/temp/test/tab.py\n",
      "c:/temp/test/tabr.py\n",
      "c:/temp/test/tabto4.py\n",
      "c:/temp/test/tabto4r.py\n",
      "c:/temp/test/game__init__.py\n",
      "c:/temp/test/game\\graphicrender.py\n",
      "c:/temp/test/game\\graphic__init__.py\n",
      "c:/temp/test/game\\soundecho.py\n",
      "c:/temp/test/game\\sound__init__.py\n"
     ]
    }
   ],
   "source": [
    "import os\n",
    "\n",
    "def search(dirname):\n",
    "    try:\n",
    "        for (path, dir, files) in os.walk(dirname):\n",
    "            for filename in files:\n",
    "                ext = os.path.splitext(filename)[-1]\n",
    "                # print(filename, ext)\n",
    "                # print('------------------------------------------------')\n",
    "                if ext == '.py':\n",
    "                    print('%s%s' % (path, filename))\n",
    "            \n",
    "            \n",
    "        # filenames = os.listdir(dirname)\n",
    "        \n",
    "        # for filename in filenames:\n",
    "        #     full_filename = os.path.join(dirname, filename)\n",
    "        #     if os.path.isdir(full_filename):\n",
    "        #         search(full_filename)\n",
    "        #     else:\n",
    "        #         ext = os.path.splitext(full_filename)[-1]\n",
    "        #         if ext == '.py':\n",
    "        #             print(full_filename)\n",
    "    except PermissionError:\n",
    "        pass\n",
    "    \n",
    "search('c:/temp/test/')"
   ]
  },
  {
   "cell_type": "code",
   "execution_count": null,
   "metadata": {},
   "outputs": [],
   "source": []
  }
 ],
 "metadata": {
  "kernelspec": {
   "display_name": "Python 3.9.12 ('base')",
   "language": "python",
   "name": "python3"
  },
  "language_info": {
   "codemirror_mode": {
    "name": "ipython",
    "version": 3
   },
   "file_extension": ".py",
   "mimetype": "text/x-python",
   "name": "python",
   "nbconvert_exporter": "python",
   "pygments_lexer": "ipython3",
   "version": "3.9.12"
  },
  "orig_nbformat": 4,
  "vscode": {
   "interpreter": {
    "hash": "f08154012ddadd8e950e6e9e035c7a7b32c136e7647e9b7c77e02eb723a8bedb"
   }
  }
 },
 "nbformat": 4,
 "nbformat_minor": 2
}
