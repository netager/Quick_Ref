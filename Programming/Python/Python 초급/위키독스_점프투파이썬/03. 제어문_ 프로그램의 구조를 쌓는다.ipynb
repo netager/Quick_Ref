{
 "cells": [
  {
   "cell_type": "markdown",
   "metadata": {},
   "source": [
    "## 03-1 if 문"
   ]
  },
  {
   "cell_type": "code",
   "execution_count": 1,
   "metadata": {},
   "outputs": [
    {
     "name": "stdout",
     "output_type": "stream",
     "text": [
      "택시를 타고 가라\n"
     ]
    }
   ],
   "source": [
    "money = True\n",
    "if money:\n",
    "    print(\"택시를 타고 가라\")\n",
    "else:\n",
    "    print(\"걸어가라\")"
   ]
  },
  {
   "cell_type": "code",
   "execution_count": null,
   "metadata": {},
   "outputs": [],
   "source": [
    "# 비교 연산자\n",
    "# -----------\n",
    "# <, >, ==, !=, >=, <=\n",
    "\n",
    "# and, or, not\n",
    "\n",
    "# in, not in\n",
    "\n",
    "# pass\n"
   ]
  },
  {
   "cell_type": "code",
   "execution_count": 4,
   "metadata": {},
   "outputs": [
    {
     "name": "stdout",
     "output_type": "stream",
     "text": [
      "2. 택시를 타고가라\n",
      "2. 택시를 타고가라\n"
     ]
    }
   ],
   "source": [
    "# 다양한 조건을 판단하는 elif\n",
    "# ----------------------------\n",
    "pocket = ['paper', 'handphone']\n",
    "card = True\n",
    "if 'money' in pocket:\n",
    "    print(\"1. 택시를 타고가라\")\n",
    "else:\n",
    "    if card:\n",
    "        print(\"2. 택시를 타고가라\")\n",
    "    else:\n",
    "         print(\"걸어가라\")\n",
    "\n",
    "         \n",
    "pocket = ['paper', 'handphone']\n",
    "card = True\n",
    "if 'money' in pocket:\n",
    "    print(\"1. 택시를 타고가라\")\n",
    "elif card:\n",
    "    print(\"2. 택시를 타고가라\")\n",
    "else:\n",
    "    print(\"걸어가라\")"
   ]
  },
  {
   "cell_type": "code",
   "execution_count": 5,
   "metadata": {},
   "outputs": [],
   "source": [
    "pocket = ['paper','money','cellpone']\n",
    "\n",
    "if 'money' in pocket: pass\n",
    "else:\n",
    "    print(\"카드를 커내라\")"
   ]
  },
  {
   "cell_type": "code",
   "execution_count": 8,
   "metadata": {},
   "outputs": [
    {
     "name": "stdout",
     "output_type": "stream",
     "text": [
      "success\n"
     ]
    }
   ],
   "source": [
    "# 조건부 표현식\n",
    "# -------------\n",
    "score = 89\n",
    "if score >= 60:\n",
    "    message = \"success\"\n",
    "else:\n",
    "    message = \"failure\"\n",
    "\n",
    "# 간편식\n",
    "# ------\n",
    "message = \"success\" if score >= 60 else \"failure\"\n",
    "print(message)\n",
    "    "
   ]
  },
  {
   "cell_type": "markdown",
   "metadata": {},
   "source": [
    "## 03-2 while 문"
   ]
  },
  {
   "cell_type": "code",
   "execution_count": 9,
   "metadata": {},
   "outputs": [
    {
     "name": "stdout",
     "output_type": "stream",
     "text": [
      "나무를 1번 찍었습니다.\n",
      "나무를 2번 찍었습니다.\n",
      "나무를 3번 찍었습니다.\n",
      "나무를 4번 찍었습니다.\n",
      "나무를 5번 찍었습니다.\n",
      "나무를 6번 찍었습니다.\n",
      "나무를 7번 찍었습니다.\n",
      "나무를 8번 찍었습니다.\n",
      "나무를 9번 찍었습니다.\n",
      "나무를 10번 찍었습니다.\n",
      "나무가 넘어갑니다.\n"
     ]
    }
   ],
   "source": [
    "treeHit = 0\n",
    "\n",
    "while treeHit < 10:\n",
    "    treeHit = treeHit + 1\n",
    "    print(\"나무를 %d번 찍었습니다.\" % treeHit)\n",
    "    \n",
    "    if treeHit == 10:\n",
    "        print(\"나무가 넘어갑니다.\")"
   ]
  },
  {
   "cell_type": "code",
   "execution_count": 15,
   "metadata": {},
   "outputs": [
    {
     "name": "stdout",
     "output_type": "stream",
     "text": [
      "5 개의 커피중 돈을 받았으니 1개의 커피를 줍니다.\n",
      "남은 커피의 양은 4개입니다.\n",
      "--------------------------------------------------\n",
      "4 개의 커피중 돈을 받았으니 1개의 커피를 줍니다.\n",
      "남은 커피의 양은 3개입니다.\n",
      "--------------------------------------------------\n",
      "3 개의 커피중 돈을 받았으니 1개의 커피를 줍니다.\n",
      "남은 커피의 양은 2개입니다.\n",
      "--------------------------------------------------\n",
      "2 개의 커피중 돈을 받았으니 1개의 커피를 줍니다.\n",
      "남은 커피의 양은 1개입니다.\n",
      "--------------------------------------------------\n",
      "1 개의 커피중 돈을 받았으니 1개의 커피를 줍니다.\n",
      "남은 커피의 양은 0개입니다.\n",
      "--------------------------------------------------\n",
      "커피가 다 떨어졌습니다. 판매를 중지합니다.\n"
     ]
    }
   ],
   "source": [
    "# while 문 강제로 ㅃ져 나가기\n",
    "# ---------------------------\n",
    "# break\n",
    "\n",
    "coffee = 5\n",
    "money = 300\n",
    "while money:\n",
    "    print(\"%d 개의 커피중 돈을 받았으니 1개의 커피를 줍니다.\" % coffee)\n",
    "    coffee = coffee - 1\n",
    "    print(\"남은 커피의 양은 %d개입니다.\" % coffee)\n",
    "    print(\"-\" * 50)\n",
    "    if coffee == 0:\n",
    "        print(\"커피가 다 떨어졌습니다. 판매를 중지합니다.\")\n",
    "        break"
   ]
  },
  {
   "cell_type": "code",
   "execution_count": 22,
   "metadata": {},
   "outputs": [
    {
     "name": "stdout",
     "output_type": "stream",
     "text": [
      "거스름돈 200를 주고 5 개의 커피중 1개의 커피를 줍니다.\n",
      "현재 4 개의 커피가 남아있습니다. 서두르세요.\n",
      "------------------------------------------------------------\n",
      "4 개의 커피중 돈을 받았으니 1개의 커피를 줍니다.\n",
      "현재 3 개의 커피가 남아있습니다. 서두르세요.\n",
      "------------------------------------------------------------\n",
      "돈을 다시 돌려주고 커피를 주지 않습니다.\n",
      "현재 3 개의 커피가 남아있습니다. 서두르세요.\n",
      "------------------------------------------------------------\n",
      "거스름돈 100를 주고 3 개의 커피중 1개의 커피를 줍니다.\n",
      "현재 2 개의 커피가 남아있습니다. 서두르세요.\n",
      "------------------------------------------------------------\n",
      "거스름돈 300를 주고 2 개의 커피중 1개의 커피를 줍니다.\n",
      "현재 1 개의 커피가 남아있습니다. 서두르세요.\n",
      "------------------------------------------------------------\n",
      "거스름돈 300를 주고 1 개의 커피중 1개의 커피를 줍니다.\n",
      "현재 0 개의 커피가 남아있습니다. 서두르세요.\n",
      "------------------------------------------------------------\n",
      "커피가 다 떨어졌습니다. 판매를 중지합니다.\n",
      "============================================================\n"
     ]
    }
   ],
   "source": [
    "coffee = 5\n",
    "\n",
    "while True:\n",
    "    money = int(input(\"돈을 넣어 주세요: \"))\n",
    "    if money == 300:\n",
    "        print(\"%d 개의 커피중 돈을 받았으니 1개의 커피를 줍니다.\" % coffee)\n",
    "        coffee -= 1\n",
    "    elif money > 300:\n",
    "        print(\"거스름돈 %d를 주고 %d 개의 커피중 1개의 커피를 줍니다.\" % (money - 300, coffee))\n",
    "        coffee -= 1\n",
    "    else:\n",
    "        print(\"돈을 다시 돌려주고 커피를 주지 않습니다.\")\n",
    "    \n",
    "    print(\"현재 %d 개의 커피가 남아있습니다. 서두르세요.\" % coffee)\n",
    "    print(\"-\" * 60)\n",
    "    \n",
    "    if coffee == 0:\n",
    "        print(\"커피가 다 떨어졌습니다. 판매를 중지합니다.\")\n",
    "        print(\"=\" * 60)\n",
    "        \n",
    "        break\n",
    "        "
   ]
  },
  {
   "cell_type": "code",
   "execution_count": 23,
   "metadata": {},
   "outputs": [
    {
     "name": "stdout",
     "output_type": "stream",
     "text": [
      "1\n",
      "3\n",
      "5\n",
      "7\n",
      "9\n"
     ]
    }
   ],
   "source": [
    "# while 문의 맨 처음으로 돌아가기\n",
    "# -------------------------------\n",
    "a = 0\n",
    "\n",
    "while a < 10:\n",
    "    a += 1\n",
    "    if a % 2 == 0: continue\n",
    "    print(a)"
   ]
  },
  {
   "cell_type": "markdown",
   "metadata": {},
   "source": [
    "## 03-3 for 문"
   ]
  },
  {
   "cell_type": "code",
   "execution_count": 24,
   "metadata": {},
   "outputs": [
    {
     "name": "stdout",
     "output_type": "stream",
     "text": [
      "one\n",
      "two\n",
      "three\n"
     ]
    }
   ],
   "source": [
    "# 전형적인 for 문\n",
    "# ---------------\n",
    "test_list = ['one', 'two', 'three']\n",
    "for i in test_list:\n",
    "    print(i)"
   ]
  },
  {
   "cell_type": "code",
   "execution_count": 28,
   "metadata": {},
   "outputs": [
    {
     "name": "stdout",
     "output_type": "stream",
     "text": [
      "3\n",
      "7\n",
      "11\n",
      "(1, 2)\n",
      "(3, 4)\n",
      "(5, 6)\n",
      "3\n",
      "7\n",
      "11\n"
     ]
    }
   ],
   "source": [
    "# 다양한 for 문의 사용\n",
    "# -------------------\n",
    "a = [(1,2), (3,4), (5,6)]\n",
    "for (first, last) in a:\n",
    "    print(first + last)\n",
    "\n",
    "for i in a:\n",
    "    print(i)\n",
    "\n",
    "   \n",
    "a = [(1,2), (3,4), (5,6)]\n",
    "for i in a:\n",
    "    print(i[0] + i[1])\n"
   ]
  },
  {
   "cell_type": "code",
   "execution_count": 30,
   "metadata": {},
   "outputs": [
    {
     "name": "stdout",
     "output_type": "stream",
     "text": [
      "1번 학생은 합격(90)입니다.\n",
      "2번 학생은 불합격(25)입니다.\n",
      "3번 학생은 합격(67)입니다.\n",
      "4번 학생은 불합격(45)입니다.\n",
      "5번 학생은 합격(80)입니다.\n"
     ]
    }
   ],
   "source": [
    "# for 문의 응용\n",
    "# -------------\n",
    "marks = [90, 25, 67, 45, 80]\n",
    "\n",
    "number = 0\n",
    "for mark in marks:\n",
    "    number += 1\n",
    "    if mark >= 60:\n",
    "        print(\"%d번 학생은 합격(%d)입니다.\" % (number, mark))\n",
    "    else:\n",
    "        print(\"%d번 학생은 불합격(%d)입니다.\" % (number, mark))"
   ]
  },
  {
   "cell_type": "code",
   "execution_count": 31,
   "metadata": {},
   "outputs": [
    {
     "name": "stdout",
     "output_type": "stream",
     "text": [
      "1번 학생은 합격(90)입니다. 축하합니다.\n",
      "3번 학생은 합격(67)입니다. 축하합니다.\n",
      "5번 학생은 합격(80)입니다. 축하합니다.\n"
     ]
    }
   ],
   "source": [
    "# for 문과 continue\n",
    "# -----------------\n",
    "marks = [90, 25, 67, 45, 80]\n",
    "\n",
    "number = 0\n",
    "for mark in marks:\n",
    "    number += 1\n",
    "    if mark < 60:\n",
    "        continue\n",
    "    print(\"%d번 학생은 합격(%d)입니다. 축하합니다.\" % (number, mark))\n",
    "        \n"
   ]
  },
  {
   "cell_type": "code",
   "execution_count": 35,
   "metadata": {},
   "outputs": [
    {
     "name": "stdout",
     "output_type": "stream",
     "text": [
      "range(0, 10)\n",
      "range(1, 11)\n",
      "1\n",
      "3\n",
      "6\n",
      "10\n",
      "15\n",
      "21\n",
      "28\n",
      "36\n",
      "45\n",
      "55\n",
      "0번 학생은 합격(80)입니다. 축하합니다.\n",
      "2번 학생은 합격(80)입니다. 축하합니다.\n",
      "4번 학생은 합격(80)입니다. 축하합니다.\n"
     ]
    }
   ],
   "source": [
    "# for 문과 자주 사용하는 range 함수\n",
    "# ---------------------------------\n",
    "a = range(10)\n",
    "print(a)\n",
    "\n",
    "a = range(1,11)\n",
    "print(a)\n",
    "\n",
    "add = 0\n",
    "for i in range(1,11):\n",
    "    add += i\n",
    "    print(add)\n",
    "    \n",
    "\n",
    "marks = [90, 25, 67, 45, 80]\n",
    "for number in range(len(marks)):\n",
    "    if marks[number] < 60:\n",
    "        continue\n",
    "    print(\"%d번 학생은 합격(%d)입니다. 축하합니다.\" % (number, mark))\n",
    "    \n",
    "    "
   ]
  },
  {
   "cell_type": "code",
   "execution_count": 44,
   "metadata": {},
   "outputs": [
    {
     "name": "stdout",
     "output_type": "stream",
     "text": [
      "2 * 1 = 2    3 * 1 = 3    4 * 1 = 4    5 * 1 = 5    6 * 1 = 6    7 * 1 = 7    8 * 1 = 8    9 * 1 = 9    \n",
      "2 * 2 = 4    3 * 2 = 6    4 * 2 = 8    5 * 2 = 10   6 * 2 = 12   7 * 2 = 14   8 * 2 = 16   9 * 2 = 18   \n",
      "2 * 3 = 6    3 * 3 = 9    4 * 3 = 12   5 * 3 = 15   6 * 3 = 18   7 * 3 = 21   8 * 3 = 24   9 * 3 = 27   \n",
      "2 * 4 = 8    3 * 4 = 12   4 * 4 = 16   5 * 4 = 20   6 * 4 = 24   7 * 4 = 28   8 * 4 = 32   9 * 4 = 36   \n",
      "2 * 5 = 10   3 * 5 = 15   4 * 5 = 20   5 * 5 = 25   6 * 5 = 30   7 * 5 = 35   8 * 5 = 40   9 * 5 = 45   \n",
      "2 * 6 = 12   3 * 6 = 18   4 * 6 = 24   5 * 6 = 30   6 * 6 = 36   7 * 6 = 42   8 * 6 = 48   9 * 6 = 54   \n",
      "2 * 7 = 14   3 * 7 = 21   4 * 7 = 28   5 * 7 = 35   6 * 7 = 42   7 * 7 = 49   8 * 7 = 56   9 * 7 = 63   \n",
      "2 * 8 = 16   3 * 8 = 24   4 * 8 = 32   5 * 8 = 40   6 * 8 = 48   7 * 8 = 56   8 * 8 = 64   9 * 8 = 72   \n",
      "2 * 9 = 18   3 * 9 = 27   4 * 9 = 36   5 * 9 = 45   6 * 9 = 54   7 * 9 = 63   8 * 9 = 72   9 * 9 = 81   \n"
     ]
    }
   ],
   "source": [
    "# for 와 range를 이용한 구구단\n",
    "# ---------------------------\n",
    "\n",
    "for i in range(1, 10):\n",
    "    for j in range(2, 10):\n",
    "        print(\"%d * %d = %-5d\" %(j, i, i*j), end=\"\")\n",
    "    print(\"\")    "
   ]
  },
  {
   "cell_type": "code",
   "execution_count": 52,
   "metadata": {},
   "outputs": [
    {
     "name": "stdout",
     "output_type": "stream",
     "text": [
      "[1, 2, 3, 4]\n",
      "[3, 6, 9, 12]\n",
      "[3, 6, 9, 12]\n",
      "[6, 12]\n",
      "[2, 4, 6, 8, 10, 12, 14, 16, 18, 3, 6, 9, 12, 15, 18, 21, 24, 27, 4, 8, 12, 16, 20, 24, 28, 32, 36, 5, 10, 15, 20, 25, 30, 35, 40, 45, 6, 12, 18, 24, 30, 36, 42, 48, 54, 7, 14, 21, 28, 35, 42, 49, 56, 63, 8, 16, 24, 32, 40, 48, 56, 64, 72, 9, 18, 27, 36, 45, 54, 63, 72, 81]\n"
     ]
    }
   ],
   "source": [
    "# 리스트 컴프리핸션 사용하기\n",
    "# --------------------------\n",
    "# 리스트 안에 for문을 사용하는 것\n",
    "# -------------------------------\n",
    "a = [1,2,3,4]\n",
    "print(a)\n",
    "result = []\n",
    "for num in a:\n",
    "    result.append(num*3)\n",
    "print(result)\n",
    "\n",
    "a = [1,2,3,4]\n",
    "result = [num * 3 for num in a]\n",
    "print(result)\n",
    "\n",
    "# [표현식 for 항목 in 반복가능한객체 if 조건문]\n",
    "a = [1,2,3,4]\n",
    "result = [num * 3 for num in a if num % 2 == 0]\n",
    "print(result)\n",
    "\n",
    "\n",
    "result = [x*y for x in range(2,10)\n",
    "              for y in range(1,10)]\n",
    "print(result)\n"
   ]
  },
  {
   "cell_type": "code",
   "execution_count": null,
   "metadata": {},
   "outputs": [],
   "source": []
  }
 ],
 "metadata": {
  "kernelspec": {
   "display_name": "Python 3.9.12 ('base')",
   "language": "python",
   "name": "python3"
  },
  "language_info": {
   "codemirror_mode": {
    "name": "ipython",
    "version": 3
   },
   "file_extension": ".py",
   "mimetype": "text/x-python",
   "name": "python",
   "nbconvert_exporter": "python",
   "pygments_lexer": "ipython3",
   "version": "3.9.12"
  },
  "orig_nbformat": 4,
  "vscode": {
   "interpreter": {
    "hash": "f08154012ddadd8e950e6e9e035c7a7b32c136e7647e9b7c77e02eb723a8bedb"
   }
  }
 },
 "nbformat": 4,
 "nbformat_minor": 2
}
