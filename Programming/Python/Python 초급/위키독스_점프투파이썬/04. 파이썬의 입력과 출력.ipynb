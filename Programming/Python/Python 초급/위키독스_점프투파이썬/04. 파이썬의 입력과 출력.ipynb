{
 "cells": [
  {
   "cell_type": "markdown",
   "metadata": {},
   "source": [
    "## 04-1 함수"
   ]
  },
  {
   "cell_type": "code",
   "execution_count": 1,
   "metadata": {},
   "outputs": [
    {
     "name": "stdout",
     "output_type": "stream",
     "text": [
      "7\n"
     ]
    }
   ],
   "source": [
    "# 파이썬 함수의 구조\n",
    "# ------------------\n",
    "def add(a, b):\n",
    "    return a + b\n",
    "\n",
    "a = 3\n",
    "b = 4\n",
    "c = add(a, b)\n",
    "print(c)"
   ]
  },
  {
   "cell_type": "code",
   "execution_count": null,
   "metadata": {},
   "outputs": [],
   "source": [
    "# 매개변수와 인수\n",
    "def add(a, b):      # a, b는 매개변수\n",
    "    return a + b\n",
    "\n",
    "print(add(3, 4))    # 3, 4는 인수"
   ]
  },
  {
   "cell_type": "code",
   "execution_count": null,
   "metadata": {},
   "outputs": [],
   "source": [
    "# 입력값과 리턴값에 따른 함수의 형태\n",
    "# ---------------------------------\n",
    "\n",
    "## 일반적인 함수 : 리턴값을 받을 변수 = 함수이름(입력인수1, 입력인수2, ...)\n",
    "## -------------\n",
    "def 함수이름(매개변수):\n",
    "    <수행할 문장>\n",
    "    return 리턴값\n",
    "\n",
    "## 입력값이 없는 함수 : 리턴값을 받을 변수 = 함수이름()\n",
    "## -------------------\n",
    "def say():\n",
    "    return 'Hi'\n",
    "\n",
    "## 리턴값이 없는 함수 : 함수이름(입력인수1, 입력인수2, ...)\n",
    "## ------------------\n",
    "def add(a, b):\n",
    "    print(\"~~~~~\")\n",
    "    \n",
    "## 입력값도 리턴값도 없는 함수 : 함수이름()\n",
    "## ---------------------------\n",
    "def say():\n",
    "    print('Hi')"
   ]
  },
  {
   "cell_type": "code",
   "execution_count": 1,
   "metadata": {},
   "outputs": [
    {
     "name": "stdout",
     "output_type": "stream",
     "text": [
      "4\n"
     ]
    }
   ],
   "source": [
    "# 매개변수 지정하여 호출하기\n",
    "# -------------------------\n",
    "def sub(a, b):\n",
    "    return a - b\n",
    "\n",
    "result = sub(a=7, b=3)\n",
    "print(result)"
   ]
  },
  {
   "cell_type": "code",
   "execution_count": 3,
   "metadata": {},
   "outputs": [
    {
     "name": "stdout",
     "output_type": "stream",
     "text": [
      "6\n",
      "55\n"
     ]
    }
   ],
   "source": [
    "# 입력값이 몇개가 될지 모를 때 사용하는 법\n",
    "# ---------------------------------------\n",
    "#def 함수이름(*매개변수):\n",
    "#    <수행할 문장>\n",
    "    \n",
    "def add_many(*args):\n",
    "    result = 0\n",
    "    for i in args:\n",
    "        result += i\n",
    "    return result\n",
    "\n",
    "result = add_many(1,2,3)\n",
    "print(result)\n",
    "\n",
    "result = add_many(1,2,3,4,5,6,7,8,9,10)\n",
    "print(result)\n"
   ]
  },
  {
   "cell_type": "code",
   "execution_count": 4,
   "metadata": {},
   "outputs": [
    {
     "name": "stdout",
     "output_type": "stream",
     "text": [
      "15\n",
      "120\n"
     ]
    }
   ],
   "source": [
    "def add_mul(choice, *args):\n",
    "    if choice == 'add':\n",
    "        result = 0\n",
    "        \n",
    "        for i in args:\n",
    "            result += i\n",
    "    elif choice == 'mul':\n",
    "        result = 1\n",
    "        for i in args:\n",
    "            result *= i\n",
    "    return result\n",
    "\n",
    "result = add_mul('add', 1,2,3,4,5) \n",
    "print(result)\n",
    "\n",
    "result = add_mul('mul',1,2,3,4,5)\n",
    "print(result) "
   ]
  },
  {
   "cell_type": "code",
   "execution_count": 6,
   "metadata": {},
   "outputs": [
    {
     "name": "stdout",
     "output_type": "stream",
     "text": [
      "{'a': 1}\n",
      "{'name': 'foo', 'age': 3}\n"
     ]
    }
   ],
   "source": [
    "# 키워드 매개변수 kwargs\n",
    "# ----------------------\n",
    "# **kwages처럼 매개변수 이름 앞에 **을 붙이면 매개변수 kwages는 딕셔너리가 \n",
    "# 되고 모든 key=value 형태의 입력값이 그 딕셔너리에 저장됨\n",
    "# ------------------------------------------------------------------------\n",
    "def print_kwargs(**kwargs):\n",
    "    print(kwargs)\n",
    "\n",
    "print_kwargs(a=1)\n",
    "\n",
    "print_kwargs(name='foo', age=3)\n"
   ]
  },
  {
   "cell_type": "code",
   "execution_count": 8,
   "metadata": {},
   "outputs": [
    {
     "name": "stdout",
     "output_type": "stream",
     "text": [
      "(7, 12)\n",
      "7 12\n"
     ]
    }
   ],
   "source": [
    "# 함수의 리턴값은 언제나 하나 임\n",
    "# -----------------------------\n",
    "def add_and_mul(a,b):\n",
    "    return a+b, a*b         # 하나의 튜플로 반환\n",
    "\n",
    "result = add_and_mul(3,4)\n",
    "print(result)\n",
    "\n",
    "result1, result2 = add_and_mul(3,4)\n",
    "print(result1, result2)"
   ]
  },
  {
   "cell_type": "code",
   "execution_count": 13,
   "metadata": {},
   "outputs": [
    {
     "name": "stdout",
     "output_type": "stream",
     "text": [
      "나의 별명은 야호 입니다\n"
     ]
    }
   ],
   "source": [
    "# return 의 특이한 쓰임\n",
    "# ---------------------\n",
    "# 특별한 상황일 때 함수를 빠져나가고 싶다면 return을 단독으로 사용\n",
    "# ---------------------------------------------------------------\n",
    "def say_nick(nick):\n",
    "    if nick == '바보':\n",
    "        return \n",
    "    print('나의 별명은 %s 입니다' % nick)\n",
    "\n",
    "say_nick('야호')\n",
    "say_nick('바보')"
   ]
  },
  {
   "cell_type": "code",
   "execution_count": 16,
   "metadata": {},
   "outputs": [
    {
     "ename": "SyntaxError",
     "evalue": "non-default argument follows default argument (329560627.py, line 18)",
     "output_type": "error",
     "traceback": [
      "\u001b[1;36m  Input \u001b[1;32mIn [16]\u001b[1;36m\u001b[0m\n\u001b[1;33m    def say_myself(name, man=True, age):\u001b[0m\n\u001b[1;37m                                      ^\u001b[0m\n\u001b[1;31mSyntaxError\u001b[0m\u001b[1;31m:\u001b[0m non-default argument follows default argument\n"
     ]
    }
   ],
   "source": [
    "# 매개변수에 초기값 미리 설정하기\n",
    "# ------------------------------\n",
    "def say_myself(name, age, man=True):\n",
    "    print('나의 이름은 %s 입니다.' % name)\n",
    "    print('나이는 %d살 입니다.' % age)\n",
    "    if man:\n",
    "        print('남자입니다.')\n",
    "    else:\n",
    "        print('여자입니다.')\n",
    "        \n",
    "say_myself('프리맨', 34)\n",
    "say_myself('프리맨', 34, True)\n",
    "say_myself('프리먼', 33, False)\n",
    "\n",
    "\n",
    "# 주의사항\n",
    "# --------\n",
    "# def say_myself(name, man=True, age): \n",
    "#     print(name)\n"
   ]
  },
  {
   "cell_type": "code",
   "execution_count": 17,
   "metadata": {},
   "outputs": [
    {
     "name": "stdout",
     "output_type": "stream",
     "text": [
      "1\n"
     ]
    }
   ],
   "source": [
    "# 함수 안에서 선언한 변수의 효력 범위\n",
    "# ----------------------------------\n",
    "# 함수 안에서 사용하는 매개변수는 함수 밖의 변수 이름과는 전혀 상관이 없다\n",
    "# -----------------------------------------------------------------------\n",
    "a = 1\n",
    "def vartest(a):\n",
    "    a += 1\n",
    "\n",
    "vartest(a)\n",
    "print(a)\n",
    "\n",
    "a = 1\n"
   ]
  },
  {
   "cell_type": "code",
   "execution_count": 21,
   "metadata": {},
   "outputs": [
    {
     "name": "stdout",
     "output_type": "stream",
     "text": [
      "inner func b : 4\n"
     ]
    }
   ],
   "source": [
    "def vartest(b):\n",
    "    b += 1\n",
    "    print('inner func b : %d' % b)\n",
    "\n",
    "vartest(3)\n",
    "#print(b)        # b가 선언이 안되어 에러 발생"
   ]
  },
  {
   "cell_type": "code",
   "execution_count": 24,
   "metadata": {},
   "outputs": [
    {
     "name": "stdout",
     "output_type": "stream",
     "text": [
      "2\n",
      "2\n"
     ]
    }
   ],
   "source": [
    "# 함수 안에서 함수 밖의 변수를 변경하는 방법\n",
    "# -----------------------------------------\n",
    "\n",
    "# return 사용하기\n",
    "# ---------------\n",
    "a = 1\n",
    "def vartest(a):\n",
    "    a += 1\n",
    "    return a\n",
    "\n",
    "a = vartest(a)\n",
    "print(a)\n",
    "\n",
    "# global 명령어 사용하기 ~ 권장하지 않음\n",
    "# ----------------------\n",
    "a = 1\n",
    "def vartest():\n",
    "    global a\n",
    "    a += 1\n",
    "    \n",
    "vartest()\n",
    "print(a)"
   ]
  },
  {
   "cell_type": "code",
   "execution_count": 27,
   "metadata": {},
   "outputs": [
    {
     "name": "stdout",
     "output_type": "stream",
     "text": [
      "7\n",
      "7\n"
     ]
    }
   ],
   "source": [
    "# lambda\n",
    "# ------\n",
    "# lambda는 함수를 생성하는 예약어로 def와 동일한 역할\n",
    "# 함수명 = lambda 매개변수1, 매개변수2, ...: 매개변수를 이용한 표현식\n",
    "# ------------------------------------------------------------------\n",
    "add = lambda a, b: a+b\n",
    "\n",
    "result = add(3,4)\n",
    "print(result)\n",
    "\n",
    "# lambda로 만든 함수는 return 명령어가 없어도 표현식의 결괏값을 리턴함.\n",
    "\n",
    "def add(a, b):\n",
    "    return a + b\n",
    "\n",
    "result = add(3,4)\n",
    "print(result)"
   ]
  },
  {
   "cell_type": "markdown",
   "metadata": {},
   "source": [
    "## 04-2 사용자 입력과 출력"
   ]
  },
  {
   "cell_type": "code",
   "execution_count": 31,
   "metadata": {},
   "outputs": [
    {
     "name": "stdout",
     "output_type": "stream",
     "text": [
      "abc\n",
      "123\n"
     ]
    },
    {
     "data": {
      "text/plain": [
       "str"
      ]
     },
     "execution_count": 31,
     "metadata": {},
     "output_type": "execute_result"
    }
   ],
   "source": [
    "# 사용자 입력\n",
    "# -----------\n",
    "a = input()\n",
    "print(a)\n",
    "\n",
    "number = input('숫자를 입력하세요 : ')\n",
    "print(number)\n",
    "\n",
    "# input은 입력되는 모든 것을 문자열로 취급하기 때문에 number는 숫자가 아닌 문자열임\n",
    "type(number)"
   ]
  },
  {
   "cell_type": "code",
   "execution_count": 37,
   "metadata": {},
   "outputs": [
    {
     "name": "stdout",
     "output_type": "stream",
     "text": [
      "123\n",
      "Python\n",
      "[1, 2, 3]\n",
      "lifeistoo short\n",
      "lifeistoo short\n",
      "life is too short\n",
      "0 1 2 3 4 5 6 7 8 9 "
     ]
    }
   ],
   "source": [
    "# print 자세히 알기\n",
    "# -----------------\n",
    "a = 123\n",
    "print(a)\n",
    "\n",
    "a = 'Python'\n",
    "print(a)\n",
    "\n",
    "a = [1,2,3]\n",
    "print(a)\n",
    "\n",
    "# 큰 따옴표(\")로 둘러싸인 문자열은 + 연산과 동일\n",
    "# ---------------------------------------------\n",
    "print(\"life\" \"is\" \"too short\")\n",
    "print(\"life\"+\"is\"+\"too short\")\n",
    "\n",
    "# 문자열 띄어쓰기는 콤마로 한다\n",
    "# ----------------------------\n",
    "print('life', 'is', 'too short')\n",
    "\n",
    "# 한 줄에 결괏값 출력하기\n",
    "# ----------------------\n",
    "for i in range(10):\n",
    "    print(i, end=' ')"
   ]
  },
  {
   "cell_type": "markdown",
   "metadata": {},
   "source": [
    "## 04-3 파일 읽고 쓰기"
   ]
  },
  {
   "cell_type": "code",
   "execution_count": 47,
   "metadata": {},
   "outputs": [],
   "source": [
    "# 파일 생성하기\n",
    "# -------------\n",
    "# 파일 객체 = open(파일 이름, 파일 열기 모드)\n",
    "# 파일 열기 모드 : r(읽기 모드), w(쓰기 모드), a(추가 모드)\n",
    "# 파일을 쓰기모드로 열면 이미 존재하는 경우 내용이 사라지고, 존재하지 않으면 신규 생성\n",
    "# -----------------------------------------------------------------------------------\n",
    "f = open(\"c:\\\\temp\\\\test\\\\테스트1.txt\", 'w')\n",
    "f.close()\n",
    "\n",
    "f = open(\"c:\\\\temp\\\\test\\\\테스트1.txt\", 'w')\n",
    "f.close()\n",
    "\n",
    "\n",
    "f = open(r\"c:\\temp\\test\\테스트1.txt\", 'w')\n",
    "f.close()\n",
    "\n",
    "\n",
    "f = open('c:/temp/test/테스트2.txt', 'w')\n",
    "f.close()"
   ]
  },
  {
   "cell_type": "code",
   "execution_count": 48,
   "metadata": {},
   "outputs": [],
   "source": [
    "# 파일을 쓰기 모드로 열어 내용 쓰기\n",
    "# --------------------------------\n",
    "f = open('c:/temp/test/새파일.txt', 'w')\n",
    "for i in range(1,11):\n",
    "    data = '%d번째 줄입니다.\\n' % i\n",
    "    f.write(data)\n",
    "f.close()"
   ]
  },
  {
   "cell_type": "code",
   "execution_count": 79,
   "metadata": {},
   "outputs": [
    {
     "name": "stdout",
     "output_type": "stream",
     "text": [
      "##############################1번째 줄입니다.\n",
      "1번째 줄입니다.$$$$$$$$$$$$$$$$$$$$$\n",
      "2번째 줄입니다.$$$$$$$$$$$$$$$$$$$$$\n",
      "3번째 줄입니다.$$$$$$$$$$$$$$$$$$$$$\n",
      "4번째 줄입니다.$$$$$$$$$$$$$$$$$$$$$\n",
      "5번째 줄입니다.$$$$$$$$$$$$$$$$$$$$$\n",
      "6번째 줄입니다.$$$$$$$$$$$$$$$$$$$$$\n",
      "7번째 줄입니다.$$$$$$$$$$$$$$$$$$$$$\n",
      "8번째 줄입니다.$$$$$$$$$$$$$$$$$$$$$\n",
      "9번째 줄입니다.$$$$$$$$$$$$$$$$$$$$$\n",
      "10번째 줄입니다.$$$$$$$$$$$$$$$$$$$$\n"
     ]
    }
   ],
   "source": [
    "# 파일을 읽는 여러가지 방법\n",
    "# -------------------------\n",
    "\n",
    "## readline 함수 이용하기\n",
    "## ----------------------\n",
    "f = open('c:/temp/test/새파일.txt', 'r')\n",
    "line = f.readline()\n",
    "print(f'{line:#>40}', end=\"\")\n",
    "f.close()\n",
    "\n",
    "\n",
    "f = open('c:/temp/test/새파일.txt', 'r')\n",
    "while True:\n",
    "    line = f.readline().strip()\n",
    "    if not line: break\n",
    "    print(f'{line:$<30}')\n",
    "f.close()"
   ]
  },
  {
   "cell_type": "code",
   "execution_count": 81,
   "metadata": {},
   "outputs": [
    {
     "name": "stdout",
     "output_type": "stream",
     "text": [
      "1번째 줄입니다.\n",
      "2번째 줄입니다.\n",
      "3번째 줄입니다.\n",
      "4번째 줄입니다.\n",
      "5번째 줄입니다.\n",
      "6번째 줄입니다.\n",
      "7번째 줄입니다.\n",
      "8번째 줄입니다.\n",
      "9번째 줄입니다.\n",
      "10번째 줄입니다.\n"
     ]
    }
   ],
   "source": [
    "# readlines 함수 사용하기\n",
    "# -----------------------\n",
    "# readlines 함수는 파일의 모든 줄을 읽어서 각각의 줄을 요소로 갖는 리스트를 리턴\n",
    "# -----------------------------------------------------------------------------\n",
    "f = open('c:/temp/test/새파일.txt', 'r')\n",
    "lines = f.readlines()\n",
    "\n",
    "for line in lines:\n",
    "    line = line.strip()\n",
    "    print(line)\n",
    "f.close()"
   ]
  },
  {
   "cell_type": "code",
   "execution_count": 83,
   "metadata": {},
   "outputs": [
    {
     "name": "stdout",
     "output_type": "stream",
     "text": [
      "1번째 줄입니다.\n",
      "2번째 줄입니다.\n",
      "3번째 줄입니다.\n",
      "4번째 줄입니다.\n",
      "5번째 줄입니다.\n",
      "6번째 줄입니다.\n",
      "7번째 줄입니다.\n",
      "8번째 줄입니다.\n",
      "9번째 줄입니다.\n",
      "10번째 줄입니다.\n",
      "\n"
     ]
    }
   ],
   "source": [
    "# read 함수 사용하기\n",
    "# ------------------\n",
    "# 내용 전체를 문자열로 리턴한다. 따라서 data는 파일의 전체 내용 임\n",
    "# ---------------------------------------------------------------\n",
    "f = open('c:/temp/test/새파일.txt', 'r')\n",
    "data = f.read()\n",
    "print(data)\n",
    "f.close()"
   ]
  },
  {
   "cell_type": "code",
   "execution_count": 86,
   "metadata": {},
   "outputs": [
    {
     "name": "stdout",
     "output_type": "stream",
     "text": [
      "1번째 줄입니다.\n",
      "2번째 줄입니다.\n",
      "3번째 줄입니다.\n",
      "4번째 줄입니다.\n",
      "5번째 줄입니다.\n",
      "6번째 줄입니다.\n",
      "7번째 줄입니다.\n",
      "8번째 줄입니다.\n",
      "9번째 줄입니다.\n",
      "10번째 줄입니다.\n"
     ]
    }
   ],
   "source": [
    "# 파일객체를 for문과 함께 사용하기\n",
    "# -------------------------------\n",
    "# 파일 객체(f)는 기본적으로 for문과 함께 사용하여 파일을 줄 단위로 읽을 수 있음\n",
    "# ----------------------------------------------------------------------------\n",
    "f = open('c:/temp/test/새파일.txt', 'r')\n",
    "for line in f:\n",
    "    print(line.strip())\n",
    "f.close()"
   ]
  },
  {
   "cell_type": "code",
   "execution_count": 87,
   "metadata": {},
   "outputs": [],
   "source": [
    "# 파일에 새로운 내용 추가하기\n",
    "# --------------------------\n",
    "f = open('c:/temp/test/새파일.txt', 'a')\n",
    "for i in range(11, 20):\n",
    "    data = '%d번째 줄입니다.\\n' % i \n",
    "    f.write(data)\n",
    "f.close()"
   ]
  },
  {
   "cell_type": "code",
   "execution_count": 91,
   "metadata": {},
   "outputs": [],
   "source": [
    "# with문과 함께 사용하기\n",
    "# ----------------------\n",
    "# with 블록(with 문에 속해있는 문장)을 벗어나는 순간 열린 파일 객체 f가 자동으로 close\n",
    "# ------------------------------------------------------------------------------------\n",
    "f = open('c:/temp/test/foo.txt', 'w')\n",
    "f.write('Life is too short, you need python')\n",
    "f.close()\n",
    "\n",
    "with open('c:/temp/test/foo.txt', 'w') as f:\n",
    "    f.write('Life is too short, you need python!!!!')"
   ]
  },
  {
   "cell_type": "markdown",
   "metadata": {},
   "source": [
    "## 04-4 프로그램의 입력과 출력"
   ]
  },
  {
   "cell_type": "code",
   "execution_count": 92,
   "metadata": {},
   "outputs": [
    {
     "name": "stdout",
     "output_type": "stream",
     "text": [
      "--ip=127.0.0.1\n",
      "--stdin=9019\n",
      "--control=9017\n",
      "--hb=9016\n",
      "--Session.signature_scheme=\"hmac-sha256\"\n",
      "--Session.key=b\"3ba448c3-58db-40f0-827f-30cf4ecb71ac\"\n",
      "--shell=9018\n",
      "--transport=\"tcp\"\n",
      "--iopub=9020\n",
      "--f=c:\\Users\\User\\AppData\\Roaming\\jupyter\\runtime\\kernel-v2-8440AwvV1L3ELMLP.json\n"
     ]
    }
   ],
   "source": [
    "# OS 상에서 인수를 전달하여 프로그램 실행\n",
    "# ---------------------------------------\n",
    "# 명령어 [인수1 인수2 ...]\n",
    "# sys1.py aaa bbb ccc ~ argv[0]:sys1.py, argv[1]:aaa, argv[2]:bbb, argv[3]:ccc \n",
    "# ----------------------------------------------------------------------------\n",
    "import sys\n",
    "\n",
    "args = sys.argv[1:]\n",
    "for i in args:\n",
    "    print(i)"
   ]
  },
  {
   "cell_type": "code",
   "execution_count": 96,
   "metadata": {},
   "outputs": [
    {
     "name": "stdout",
     "output_type": "stream",
     "text": [
      "Overwriting c:/temp/test/sys2.py\n"
     ]
    }
   ],
   "source": [
    "%%writefile c:/temp/test/sys2.py\n",
    "import sys\n",
    "\n",
    "args = sys.argv[1:]\n",
    "for i in args:\n",
    "    print(i.upper(), end=' ')"
   ]
  },
  {
   "cell_type": "code",
   "execution_count": null,
   "metadata": {},
   "outputs": [],
   "source": []
  }
 ],
 "metadata": {
  "kernelspec": {
   "display_name": "Python 3.9.12 ('base')",
   "language": "python",
   "name": "python3"
  },
  "language_info": {
   "codemirror_mode": {
    "name": "ipython",
    "version": 3
   },
   "file_extension": ".py",
   "mimetype": "text/x-python",
   "name": "python",
   "nbconvert_exporter": "python",
   "pygments_lexer": "ipython3",
   "version": "3.9.12"
  },
  "orig_nbformat": 4,
  "vscode": {
   "interpreter": {
    "hash": "f08154012ddadd8e950e6e9e035c7a7b32c136e7647e9b7c77e02eb723a8bedb"
   }
  }
 },
 "nbformat": 4,
 "nbformat_minor": 2
}
