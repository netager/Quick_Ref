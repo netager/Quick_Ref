{
 "cells": [
  {
   "cell_type": "markdown",
   "metadata": {},
   "source": [
    "## 07-1 파이썬과 유니코드"
   ]
  },
  {
   "cell_type": "markdown",
   "metadata": {},
   "source": [
    "### 인코딩"
   ]
  },
  {
   "cell_type": "code",
   "execution_count": null,
   "metadata": {},
   "outputs": [],
   "source": [
    "# 파이썬에서 사용하는 문자열은 모두 유니코드 문자열이다. (파이썬 3 버전부터 모든 문자열을 \n",
    "# 유니코드로 처리하도록 변경되었다.)\n",
    "\n",
    "# 유니코드 문자열은 인코딩(encoding) 없이 그대로 파일에 적거나 다른 시스템으로 전송할 수 없다. \n",
    "# 왜냐하면 유니코드 문자열은 단순히 문자셋의 규칙이기 때문이다. 파일에 적거나 다른 시스템으로 \n",
    "# 전송하려면 바이트로 변환해야 한다. 이렇게 유니코드 문자열을 바이트로 바꾸는 것을 인코딩이라 \n",
    "# 한다. 따라서 파일을 읽거나 네트워크를 통해 바이트 문자열을 수신할 때에는 해당 바이트가 어떤 \n",
    "# 방식의 인코딩을 사용했는지를 미리 알아야만 디코딩할 수 있다.\n",
    "# -------------------------------------------------------------------------------------------"
   ]
  },
  {
   "cell_type": "code",
   "execution_count": 5,
   "metadata": {},
   "outputs": [
    {
     "name": "stdout",
     "output_type": "stream",
     "text": [
      "b'Life is too short'\n"
     ]
    },
    {
     "data": {
      "text/plain": [
       "bytes"
      ]
     },
     "execution_count": 5,
     "metadata": {},
     "output_type": "execute_result"
    }
   ],
   "source": [
    "# 유니코드를 바이트 문자열로 변경\n",
    "# ------------------------------\n",
    "a = 'Life is too short'\n",
    "b = a.encode('utf-8')\n",
    "\n",
    "print(b)\n",
    "type(b)"
   ]
  },
  {
   "cell_type": "code",
   "execution_count": null,
   "metadata": {},
   "outputs": [],
   "source": [
    "# 유니코드 문자열을 바이트 문자열로 만들 때에는 이 예처럼 utf-8과 같은 인코딩 방식을 인수로 \n",
    "# 넘겨 주어야 한다. 인수를 생략하면 기본값인 utf-8로 동작한다. 문자열을 변환하고 나서 type\n",
    "# 명령어를 호출해 보면 b 객체는 bytes 클래스의 객체임을 알 수 있다.\n",
    "# -----------------------------------------------------------------------------------------"
   ]
  },
  {
   "cell_type": "code",
   "execution_count": 6,
   "metadata": {},
   "outputs": [
    {
     "ename": "UnicodeEncodeError",
     "evalue": "'ascii' codec can't encode characters in position 0-1: ordinal not in range(128)",
     "output_type": "error",
     "traceback": [
      "\u001b[1;31m---------------------------------------------------------------------------\u001b[0m",
      "\u001b[1;31mUnicodeEncodeError\u001b[0m                        Traceback (most recent call last)",
      "\u001b[1;32mc:\\Users\\User\\Quick_Ref\\Programming\\Python\\Python_Basic\\위키독스_점프투파이썬\\07. 파이썬 고급주제.ipynb 셀 6\u001b[0m in \u001b[0;36m<cell line: 2>\u001b[1;34m()\u001b[0m\n\u001b[0;32m      <a href='vscode-notebook-cell:/c%3A/Users/User/Quick_Ref/Programming/Python/Python_Basic/%EC%9C%84%ED%82%A4%EB%8F%85%EC%8A%A4_%EC%A0%90%ED%94%84%ED%88%AC%ED%8C%8C%EC%9D%B4%EC%8D%AC/07.%20%ED%8C%8C%EC%9D%B4%EC%8D%AC%20%EA%B3%A0%EA%B8%89%EC%A3%BC%EC%A0%9C.ipynb#W5sZmlsZQ%3D%3D?line=0'>1</a>\u001b[0m a \u001b[39m=\u001b[39m \u001b[39m'\u001b[39m\u001b[39m한글\u001b[39m\u001b[39m'\u001b[39m\n\u001b[1;32m----> <a href='vscode-notebook-cell:/c%3A/Users/User/Quick_Ref/Programming/Python/Python_Basic/%EC%9C%84%ED%82%A4%EB%8F%85%EC%8A%A4_%EC%A0%90%ED%94%84%ED%88%AC%ED%8C%8C%EC%9D%B4%EC%8D%AC/07.%20%ED%8C%8C%EC%9D%B4%EC%8D%AC%20%EA%B3%A0%EA%B8%89%EC%A3%BC%EC%A0%9C.ipynb#W5sZmlsZQ%3D%3D?line=1'>2</a>\u001b[0m a\u001b[39m.\u001b[39;49mencode(\u001b[39m'\u001b[39;49m\u001b[39mascii\u001b[39;49m\u001b[39m'\u001b[39;49m)\n",
      "\u001b[1;31mUnicodeEncodeError\u001b[0m: 'ascii' codec can't encode characters in position 0-1: ordinal not in range(128)"
     ]
    }
   ],
   "source": [
    "a = '한글'\n",
    "a.encode('ascii')\n",
    "\n",
    "# 위 예에서는 한글이라는 유니코드 문자열을 아스키(ascii) 방식으로 인코딩하려고 시도한다. \n",
    "# 하지만, 아스키 방식으로는 한글을 표현할 수 없으므로 오류가 발생"
   ]
  },
  {
   "cell_type": "code",
   "execution_count": 9,
   "metadata": {},
   "outputs": [
    {
     "name": "stdout",
     "output_type": "stream",
     "text": [
      "b'\\xc7\\xd1\\xb1\\xdb'\n",
      "b'\\xed\\x95\\x9c\\xea\\xb8\\x80'\n"
     ]
    }
   ],
   "source": [
    "# \"한글\"이라는 유니코드 문자열을 바이트로 변경하는 인코딩 방식에는 여러 개가 있다. \n",
    "# 보통은 utf-8을 사용하지만, 기존 시스템이 euc-kr과 같은 옛날 방식의 인코딩을 사용\n",
    "# 한다면 다음과 같이 euc-kr로 인코딩할 수도 있다.\n",
    "# -------------------------------------------------------------------------------\n",
    "a = '한글'\n",
    "print(a.encode('euc-kr'))\n",
    "print(a.encode('utf-8'))\n"
   ]
  },
  {
   "cell_type": "markdown",
   "metadata": {},
   "source": [
    "### 디코딩"
   ]
  },
  {
   "cell_type": "code",
   "execution_count": 11,
   "metadata": {},
   "outputs": [
    {
     "ename": "UnicodeDecodeError",
     "evalue": "'utf-8' codec can't decode byte 0xc7 in position 0: invalid continuation byte",
     "output_type": "error",
     "traceback": [
      "\u001b[1;31m---------------------------------------------------------------------------\u001b[0m",
      "\u001b[1;31mUnicodeDecodeError\u001b[0m                        Traceback (most recent call last)",
      "\u001b[1;32mc:\\Users\\User\\Quick_Ref\\Programming\\Python\\Python_Basic\\위키독스_점프투파이썬\\07. 파이썬 고급주제.ipynb 셀 9\u001b[0m in \u001b[0;36m<cell line: 7>\u001b[1;34m()\u001b[0m\n\u001b[0;32m      <a href='vscode-notebook-cell:/c%3A/Users/User/Quick_Ref/Programming/Python/Python_Basic/%EC%9C%84%ED%82%A4%EB%8F%85%EC%8A%A4_%EC%A0%90%ED%94%84%ED%88%AC%ED%8C%8C%EC%9D%B4%EC%8D%AC/07.%20%ED%8C%8C%EC%9D%B4%EC%8D%AC%20%EA%B3%A0%EA%B8%89%EC%A3%BC%EC%A0%9C.ipynb#X14sZmlsZQ%3D%3D?line=3'>4</a>\u001b[0m b \u001b[39m=\u001b[39m a\u001b[39m.\u001b[39mencode(\u001b[39m'\u001b[39m\u001b[39meuc-kr\u001b[39m\u001b[39m'\u001b[39m)\n\u001b[0;32m      <a href='vscode-notebook-cell:/c%3A/Users/User/Quick_Ref/Programming/Python/Python_Basic/%EC%9C%84%ED%82%A4%EB%8F%85%EC%8A%A4_%EC%A0%90%ED%94%84%ED%88%AC%ED%8C%8C%EC%9D%B4%EC%8D%AC/07.%20%ED%8C%8C%EC%9D%B4%EC%8D%AC%20%EA%B3%A0%EA%B8%89%EC%A3%BC%EC%A0%9C.ipynb#X14sZmlsZQ%3D%3D?line=4'>5</a>\u001b[0m b\u001b[39m.\u001b[39mdecode(\u001b[39m'\u001b[39m\u001b[39meuc-kr\u001b[39m\u001b[39m'\u001b[39m)\n\u001b[1;32m----> <a href='vscode-notebook-cell:/c%3A/Users/User/Quick_Ref/Programming/Python/Python_Basic/%EC%9C%84%ED%82%A4%EB%8F%85%EC%8A%A4_%EC%A0%90%ED%94%84%ED%88%AC%ED%8C%8C%EC%9D%B4%EC%8D%AC/07.%20%ED%8C%8C%EC%9D%B4%EC%8D%AC%20%EA%B3%A0%EA%B8%89%EC%A3%BC%EC%A0%9C.ipynb#X14sZmlsZQ%3D%3D?line=6'>7</a>\u001b[0m b\u001b[39m.\u001b[39;49mdecode(\u001b[39m'\u001b[39;49m\u001b[39mutf-8\u001b[39;49m\u001b[39m'\u001b[39;49m)\n",
      "\u001b[1;31mUnicodeDecodeError\u001b[0m: 'utf-8' codec can't decode byte 0xc7 in position 0: invalid continuation byte"
     ]
    }
   ],
   "source": [
    "# 인코딩한 바이트 문자열을 유니코드 문자열로 변환하는 디코딩(decoding)\n",
    "# -------------------------------------------------------------------\n",
    "a = '한글'\n",
    "b = a.encode('euc-kr')\n",
    "b.decode('euc-kr')\n",
    "\n",
    "# b.decode('utf-8')     # 에러 발생"
   ]
  },
  {
   "cell_type": "markdown",
   "metadata": {},
   "source": [
    "### 입출력과 인코딩"
   ]
  },
  {
   "cell_type": "code",
   "execution_count": null,
   "metadata": {},
   "outputs": [],
   "source": [
    "# 파일을 읽거나 네트워크를 통해 데이터를 주고받을 때 추천하는 방법은 다음과 같다.\n",
    "# ------------------------------------------------------------------------------\n",
    "# 1. 입력으로 받은 바이트 문자열은 가능한 한 가장 빨리 유니코드 문자열로 디코딩할 것\n",
    "# 2. 유니코드 문자열만 함수나 클래스 등에서 사용할 것\n",
    "# 3. 입력에 대한 결과를 전송하는 마지막 부분에서만 유니코드 문자열을 바이트 문자열로 인코딩해서 반환할 것\n",
    "# ------------------------------------------------------------------------------------------------------\n",
    "# --- file(utf-8, euc-kr)  -> read 변수(유니코드) -> 파일 write(utf-8, euc-kr) \n",
    "#\n",
    "# 1. euc-kr로 작성된 파일 읽기\n",
    "# ----------------------------\n",
    "with open('euc_kr.txt', encodeing='euc-kr') as f:\n",
    "    data = f.read()     # 유니코드 문자열\n",
    "\n",
    "# 2. unicode 문자열로 프로그램 수행하기\n",
    "# -------------------------------------\n",
    "data = data + '\\n' + '추가 문자열'\n",
    "\n",
    "# 3. euc-kr로 수정된 문자열 저장하기\n",
    "# ---------------------------------\n",
    "with open('euc-kr.txt', encoding='euc-kr', mode='w') as f:\n",
    "    f.write(data)"
   ]
  },
  {
   "cell_type": "markdown",
   "metadata": {},
   "source": [
    "### 소스코드의 인코딩"
   ]
  },
  {
   "cell_type": "code",
   "execution_count": null,
   "metadata": {},
   "outputs": [],
   "source": [
    "# 파이썬 셸이 아닌 편집기로 코딩할 때는 소스 코드의 인코딩이 매우 중요하다. \n",
    "# 소스 코드의 인코딩이란 소스 코드 파일이 현재 어떤 방식으로 인코딩되었지를 뜻한다.\n",
    "\n",
    "# 소스 코드도 파일이므로 인코딩 타입이 반드시 필요하다. 파이썬은 소스 코드의 인코딩을 \n",
    "# 명시하고자 소스 코드 가장 위에 다음과 같은 문장을 넣어야 한다.\n",
    "# # -*- coding: utf-8 -*-\n",
    "# # -*- coding: euc-kr -*-"
   ]
  },
  {
   "cell_type": "markdown",
   "metadata": {},
   "source": [
    "## 07-2 클로저와 데코레이터"
   ]
  },
  {
   "cell_type": "markdown",
   "metadata": {},
   "source": [
    "### 클로저"
   ]
  },
  {
   "cell_type": "code",
   "execution_count": null,
   "metadata": {},
   "outputs": [],
   "source": [
    "# 클로저\n",
    "# ------\n",
    "# 클로저는 간단히 말해 함수 안에 내부 함수(inner function)를 구현하고 그 내부 함수를 리턴하는 함수를 말한다. \n",
    "# 이때 외부 함수는 자신이 가진 변숫값 등을 내부 함수에 전달할수 있다. 알쏭달쏭한 설명이지만 예제를 보면 쉽게 이해할 수 있다."
   ]
  },
  {
   "cell_type": "code",
   "execution_count": 15,
   "metadata": {},
   "outputs": [
    {
     "name": "stdout",
     "output_type": "stream",
     "text": [
      "30\n",
      "50\n",
      "30\n",
      "50\n",
      "30\n",
      "50\n"
     ]
    }
   ],
   "source": [
    "def mul3(n):\n",
    "    return n*3\n",
    "\n",
    "def mul5(n):\n",
    "    return n*5\n",
    "\n",
    "# 이렇게 필요할 때마다 mul6(), mul7(), mul8(), …과 같은 함수를 만드는 것은 굉장히 비효율적이다. \n",
    "# 이 문제를 효율적으로 해결하려면 다음과 같이 클래스를 사용할수 있다.\n",
    "\n",
    "class Mul:\n",
    "    def __init__(self, m):\n",
    "        self.m = m\n",
    "    \n",
    "    def mul(self, n):\n",
    "        return self.m * n\n",
    "\n",
    "if __name__ == '__main__':\n",
    "    mul3 = Mul(3)\n",
    "    mul5 = Mul(5)    \n",
    "    \n",
    "    print(mul3.mul(10))\n",
    "    print(mul5.mul(10))\n",
    "\n",
    "# 클래스를 이용하면 이 코드처럼 특정 값을 미리 설정하고 그다음부터 mul() 메서드를 사용하면 \n",
    "# 원하는 형태로 호출할 수 있다. 그리고 다시 다음과 같이 __call__ 메서드를 이용하여 이를 개선할 수 있다.\n",
    "\n",
    "class Mul1:\n",
    "    def __init__(self, m):\n",
    "        self.m = m\n",
    "    \n",
    "    def __call__(self, n):\n",
    "        return self.m * n\n",
    "\n",
    "if __name__ == '__main__':\n",
    "    mul3 = Mul1(3)\n",
    "    mul5 = Mul1(5)    \n",
    "    \n",
    "    print(mul3(10))\n",
    "    print(mul5(10))\n",
    "\n",
    "# mul() 함수 이름을 __call__로 바꾸었다. \n",
    "# __call__ 함수는 Mul 클래스로 만든 객체에 인수를 전달하여 바로 호출할 수 있도록 하는 메서드이다. \n",
    "# __call__ 메서드를 이용하면 이 예제처럼 mul3 객체를 mul3(10)처럼 호출할 수 있다. \n",
    "# 이렇게 클래스로 만드는 방법이 일반적이긴 하지만, 더 간편한 방법이 있다. 다음 함수를 보자.\n",
    "\n",
    "def mul(m):\n",
    "    def wrapper(n):\n",
    "        return m*n\n",
    "    return wrapper\n",
    "\n",
    "if __name__ == '__main__':\n",
    "    mul3 = mul(3)\n",
    "    mul5 = mul(5)\n",
    "    \n",
    "    print(mul3(10))\n",
    "    print(mul5(10))\n",
    "    \n",
    "# 외부 함수(mul()) 안에 내부 함수(wrapper())를 구현했다. \n",
    "# 그리고 외부 함수는 내부 함수 wrapper()를 리턴한다. \n",
    "# 함수가 함수를 리턴하는 것이 생소할 수 있겠지만 파이썬에서는 이것이 가능하다.\n",
    "\n",
    "# 재밌는 사실은 mul() 함수에서 wrapper() 함수를 리턴할 때 mul() 함수 호출 시 인수로 \n",
    "# 받은 m값을 wrapper() 함수에 저장하여 리턴한다는 점이다. 이것은 마치 클래스가 특정한 \n",
    "# 값을 설정하여 객체를 만드는 과정과 매우 비슷하다. \n",
    "# 이러한 mul()과 같은 함수를 파이썬에서는 클로저(Closure)라 한다.    "
   ]
  },
  {
   "cell_type": "code",
   "execution_count": null,
   "metadata": {},
   "outputs": [],
   "source": []
  }
 ],
 "metadata": {
  "kernelspec": {
   "display_name": "Python 3.9.12 ('base')",
   "language": "python",
   "name": "python3"
  },
  "language_info": {
   "codemirror_mode": {
    "name": "ipython",
    "version": 3
   },
   "file_extension": ".py",
   "mimetype": "text/x-python",
   "name": "python",
   "nbconvert_exporter": "python",
   "pygments_lexer": "ipython3",
   "version": "3.9.12"
  },
  "orig_nbformat": 4,
  "vscode": {
   "interpreter": {
    "hash": "f08154012ddadd8e950e6e9e035c7a7b32c136e7647e9b7c77e02eb723a8bedb"
   }
  }
 },
 "nbformat": 4,
 "nbformat_minor": 2
}
