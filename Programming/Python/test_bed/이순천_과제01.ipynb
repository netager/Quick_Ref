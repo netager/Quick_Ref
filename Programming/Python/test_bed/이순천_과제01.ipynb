{
  "cells": [
    {
      "cell_type": "markdown",
      "metadata": {
        "colab_type": "text",
        "id": "view-in-github"
      },
      "source": [
        "<a href=\"https://colab.research.google.com/gist/FinanceData/72018fe8333c59cc823d8ca8224970c3/notebook.ipynb\" target=\"_parent\"><img src=\"https://colab.research.google.com/assets/colab-badge.svg\" alt=\"Open In Colab\"/></a>"
      ]
    },
    {
      "cell_type": "markdown",
      "metadata": {
        "id": "xXmLQ8ABP01F"
      },
      "source": [
        "# Lab - 데이터 프로젝트 과정 요약\n",
        "\n",
        "<img width=\"300\" src=\"http://i.imgur.com/tHmNhjm.png\" >\n",
        "\n",
        "***2017-2022 FinanceData.KR http://financedata.kr***\n",
        "<!-- TEASER_END -->"
      ]
    },
    {
      "cell_type": "markdown",
      "metadata": {
        "id": "T_IqwPTyP01G"
      },
      "source": [
        "## 데이터 프로젝트 과정 요약\n",
        "0. 라이브러리 임포트 \n",
        "    - HTML 형식의 데이터를 수집하기 위해 requests 라이브러리 import \n",
        "1. 데이터 수집\n",
        "   - 해당 URL의 데이터를 수집하기 위해 requests 라이브러리를 이용하여 수집\n",
        "2. 데이터 전처리\n",
        "    - 수집된 데이터를 공백을 기준으로 분리하여 LIST 자료구조에 저장한다.\n",
        "3. 데이터 분석\n",
        "   - Counter 모듈을 이용하여 수집된 단어의 갯수를 구한다\n",
        "4. 결과 리포트, 응용\n",
        "   - 단어중 가자 많이 나오는 단어를 20개를 출력한다.\n",
        "   - w[0] : 단어, w[1] : 반복되는 단어의 수"
      ]
    },
    {
      "cell_type": "code",
      "execution_count": 5,
      "metadata": {
        "colab": {
          "base_uri": "https://localhost:8080/"
        },
        "id": "MBWs0WXlP01G",
        "outputId": "9401fe86-d0b9-42e8-df06-d2fe0674636f"
      },
      "outputs": [
        {
          "name": "stdout",
          "output_type": "stream",
          "text": [
            "count of \"the\" = 309\n",
            "count of \"of\" = 208\n",
            "count of \"to\" = 174\n",
            "count of \"a\" = 165\n",
            "count of \"or\" = 131\n",
            "count of \"you\" = 102\n",
            "count of \"that\" = 89\n",
            "count of \"and\" = 86\n",
            "count of \"this\" = 72\n",
            "count of \"for\" = 70\n",
            "count of \"in\" = 70\n",
            "count of \"is\" = 67\n",
            "count of \"work\" = 60\n",
            "count of \"not\" = 46\n",
            "count of \"under\" = 44\n",
            "count of \"any\" = 41\n",
            "count of \"with\" = 41\n",
            "count of \"License\" = 40\n",
            "count of \"covered\" = 40\n",
            "count of \"by\" = 39\n"
          ]
        }
      ],
      "source": [
        "# 라이브러리 임포트\n",
        "import requests\n",
        "from collections import Counter\n",
        "\n",
        "# 1. 데이터 수집\n",
        "r = requests.get('https://www.gnu.org/licenses/gpl.txt')\n",
        "\n",
        "# 2. 데이터 전처리와 저장\n",
        "words_list = r.text.split()\n",
        "\n",
        "# 3. 데이터 분석\n",
        "count = Counter(words_list)\n",
        "\n",
        "# 4. 결과 리포트, 의사결정 적용\n",
        "for w in count.most_common(20):\n",
        "    print('count of \"{}\" = {}'.format(w[0], w[1]))"
      ]
    },
    {
      "cell_type": "markdown",
      "metadata": {
        "id": "XhbEE4dqP01H"
      },
      "source": [
        "# 예제의 주요 구성\n",
        "1. 주석 (comment)\n",
        "    - 코드셀에서 코드의 내용을 설명하거나 코맨트가 필요한 경우 #을 이용할 수 있으며 #는 \n",
        "      파이썬 인터프리터에서 실행되지 않는다\n",
        "2. import 모듈: import, from ~ import\n",
        "    - 다른 파이썬 코드를 내 파이썬 프로그램에서 사용하고자 할때 사용하는 명령어\n",
        "3. requests\n",
        "    - 특정 URL로부터 페이지를 가져오고 싶을때 사용하는 모듈임\n",
        "5. str.lower(), str.split()\n",
        "    - 파이썬 문자열 함수로 lower()는 모든 영문자를 소문자로 변경해준다.\n",
        "    - str.split()는 문자열을 공백 기준으로 분리하여 LIST 에 저장해 준다.\n",
        "6. for..in\n",
        "    - 순회가능한 변수 저장되어 있는 값을 하나씩 출력하여 준다 \n",
        "7. Counter, Counter.most_common()\n",
        "    - 문장을 분석할 때 유용한 모듈로 반복되는 문자의 갯수중 많은 순으로 자료를 출력할 수 있다.  \n",
        "8. print(), str.format()\n",
        "    - 콘솔 출력시 사용하는 함수로 일정한 형식으로 사용하는 경우 format()을 이용하여 표현할 수 있다."
      ]
    },
    {
      "cell_type": "markdown",
      "metadata": {
        "id": "ISeFhyhBP01H"
      },
      "source": [
        "# 주석\n",
        "* 코드셀에서 코드의 내용을 설명하거나 코맨트가 필요한 경우 #을 이용할 수 있으며 #는 파이썬 인터프리터에서 실행되지 않는다"
      ]
    },
    {
      "cell_type": "code",
      "execution_count": null,
      "metadata": {
        "id": "DNB4WO0VP01I"
      },
      "outputs": [],
      "source": [
        "# comment"
      ]
    },
    {
      "cell_type": "markdown",
      "metadata": {
        "id": "iIjhsPWvP01I"
      },
      "source": [
        "# 모듈 가져오기\n",
        "* 다른 파이썬 코드를 내 파이썬 프로그램에서 사용하고자 할때 사용하는 명령어"
      ]
    },
    {
      "cell_type": "code",
      "execution_count": 7,
      "metadata": {
        "id": "lq-y9JadP01I"
      },
      "outputs": [],
      "source": [
        "import requests\n",
        "from collections import Counter"
      ]
    },
    {
      "cell_type": "markdown",
      "metadata": {
        "id": "Xet70PahP01J"
      },
      "source": [
        "# requests 모듈\n",
        "requests 특정 URL로 부터 페이지를 가져온다. get() 혹은 post()를 주로 사용한다.\n",
        "import 혹은 from ~ import 를 사용한다."
      ]
    },
    {
      "cell_type": "code",
      "execution_count": 8,
      "metadata": {
        "colab": {
          "base_uri": "https://localhost:8080/"
        },
        "id": "37tT80-dP01J",
        "outputId": "d4253d8f-296b-4068-dba8-81ab8380d34b"
      },
      "outputs": [
        {
          "name": "stdout",
          "output_type": "stream",
          "text": [
            "                    GNU GENERAL PUBLIC LICENSE\n",
            "                       Version 3, 29 June 2007\n",
            "\n",
            " Copyright (C) 2007 Free Software Foundation, Inc. <https://fsf.org/>\n",
            " Everyone is permitted to copy and distribute verbatim copies\n",
            " of this license document, but changing it is not allowed.\n",
            "\n",
            "                            Preamble\n",
            "\n",
            "  The GNU General Public License is a free, copyleft license for\n",
            "software a\n"
          ]
        }
      ],
      "source": [
        "r = requests.get('https://www.gnu.org/licenses/gpl.txt')\n",
        "print (r.text[:400])"
      ]
    },
    {
      "cell_type": "markdown",
      "metadata": {
        "id": "SgapD9fCP01K"
      },
      "source": [
        "# str.lower(), str.split()\n",
        "* lower() 함수: 문자열을 소문자로 전환\n",
        "* split() 함수: 문자열을 잘라서 리스트로 반환"
      ]
    },
    {
      "cell_type": "code",
      "execution_count": 9,
      "metadata": {
        "colab": {
          "base_uri": "https://localhost:8080/"
        },
        "id": "jZblYiL6P01K",
        "outputId": "357c2d33-2c9a-46b5-f177-94ce777c6af9"
      },
      "outputs": [
        {
          "name": "stdout",
          "output_type": "stream",
          "text": [
            "5644\n"
          ]
        }
      ],
      "source": [
        "words = r.text.lower().split()\n",
        "print(len(words))"
      ]
    },
    {
      "cell_type": "code",
      "execution_count": null,
      "metadata": {
        "colab": {
          "base_uri": "https://localhost:8080/"
        },
        "id": "9HMdI6MlP01K",
        "outputId": "eea7250d-2ccb-42d8-9411-c35a5308987e"
      },
      "outputs": [
        {
          "data": {
            "text/plain": [
              "['gnu',\n",
              " 'general',\n",
              " 'public',\n",
              " 'license',\n",
              " 'version',\n",
              " '3,',\n",
              " '29',\n",
              " 'june',\n",
              " '2007',\n",
              " 'copyright']"
            ]
          },
          "execution_count": 6,
          "metadata": {
            "tags": []
          },
          "output_type": "execute_result"
        }
      ],
      "source": [
        "words[:10]"
      ]
    },
    {
      "cell_type": "markdown",
      "metadata": {
        "id": "1Pb-_zkUP01L"
      },
      "source": [
        "# 개수 세기, TOP-N 구하기\n",
        "collections.Counter 를 사용하면 간편하게 개수를 셀 수 있습니다.\n",
        "\n",
        "* Counter() 딕셔너리에 저장된 값을 카운드 \n",
        "* Counter.most_common(10) 최상위 10개\n",
        " - 반복되는 단어의 갯수중 가장 많은 단어를 순서데로 10개 출력\n",
        "\n",
        "https://docs.python.org/3/library/collections.html#counter-objects"
      ]
    },
    {
      "cell_type": "code",
      "execution_count": 11,
      "metadata": {
        "colab": {
          "base_uri": "https://localhost:8080/"
        },
        "id": "sTGyy8z0P01L",
        "outputId": "1dd7f131-772d-4e71-ecde-7573b12a947d"
      },
      "outputs": [
        {
          "data": {
            "text/plain": [
              "[('the', 344),\n",
              " ('of', 219),\n",
              " ('to', 188),\n",
              " ('a', 178),\n",
              " ('or', 142),\n",
              " ('you', 123),\n",
              " ('and', 91),\n",
              " ('that', 89),\n",
              " ('this', 83),\n",
              " ('for', 83)]"
            ]
          },
          "execution_count": 11,
          "metadata": {},
          "output_type": "execute_result"
        }
      ],
      "source": [
        "# 반복되는 단어의 수를 구하고 가장 많이 반복되는 단어를 순서데로 출력한다.\n",
        "count = Counter(words)\n",
        "common = count.most_common(10)\n",
        "common"
      ]
    },
    {
      "cell_type": "code",
      "execution_count": null,
      "metadata": {
        "colab": {
          "base_uri": "https://localhost:8080/"
        },
        "id": "10HOg-lCP01L",
        "outputId": "5091db8a-e73b-4aa0-98a3-faf478fee3e6"
      },
      "outputs": [
        {
          "name": "stdout",
          "output_type": "stream",
          "text": [
            "count of \"the\" = 309\n",
            "count of \"of\" = 208\n",
            "count of \"to\" = 174\n",
            "count of \"a\" = 165\n",
            "count of \"or\" = 131\n",
            "count of \"you\" = 102\n",
            "count of \"that\" = 89\n",
            "count of \"and\" = 86\n",
            "count of \"this\" = 72\n",
            "count of \"for\" = 70\n",
            "count of \"in\" = 70\n",
            "count of \"is\" = 67\n",
            "count of \"work\" = 60\n",
            "count of \"not\" = 46\n",
            "count of \"under\" = 44\n",
            "count of \"any\" = 41\n",
            "count of \"with\" = 41\n",
            "count of \"License\" = 40\n",
            "count of \"covered\" = 40\n",
            "count of \"by\" = 39\n"
          ]
        }
      ],
      "source": [
        "import requests\n",
        "from collections import Counter\n",
        "\n",
        "# 1. 데이터 수집\n",
        "# 해당 페이지에서 get방식을 이용하여 데이터를 수집\n",
        "r = requests.get('https://www.gnu.org/licenses/gpl.txt') \n",
        "\n",
        "# 2. 데이터 전처리\n",
        "# 수집된 데이터의 문자열을 잘라서 리스트에 저장\n",
        "words_list = r.text.split()\n",
        "\n",
        "# 3. 데이터 분석\n",
        "count = Counter(words_list)\n",
        "\n",
        "# 4. 결과 리포트, 응용\n",
        "for w in count.most_common(20):\n",
        "    print('count of \"{}\" = {}'.format(w[0], w[1]))"
      ]
    },
    {
      "cell_type": "markdown",
      "metadata": {
        "id": "mQqCggBoP01M"
      },
      "source": [
        "***2017-2022 FinanceData.KR http://financedata.kr***\n"
      ]
    }
  ],
  "metadata": {
    "celltoolbar": "Slideshow",
    "colab": {
      "collapsed_sections": [],
      "include_colab_link": true,
      "name": "Lab - Simple Data Process Phases",
      "provenance": []
    },
    "interpreter": {
      "hash": "f08154012ddadd8e950e6e9e035c7a7b32c136e7647e9b7c77e02eb723a8bedb"
    },
    "kernelspec": {
      "display_name": "Python 3.8.8 ('base')",
      "language": "python",
      "name": "python3"
    },
    "language_info": {
      "codemirror_mode": {
        "name": "ipython",
        "version": 3
      },
      "file_extension": ".py",
      "mimetype": "text/x-python",
      "name": "python",
      "nbconvert_exporter": "python",
      "pygments_lexer": "ipython3",
      "version": "3.8.8"
    }
  },
  "nbformat": 4,
  "nbformat_minor": 0
}
