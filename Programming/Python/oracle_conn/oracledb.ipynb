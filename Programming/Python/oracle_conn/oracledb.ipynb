{
 "cells": [
  {
   "cell_type": "code",
   "execution_count": 36,
   "metadata": {},
   "outputs": [
    {
     "name": "stdout",
     "output_type": "stream",
     "text": [
      "Overwriting cust_notice.py\n"
     ]
    }
   ],
   "source": [
    "%%writefile cust_notice.py\n",
    "import oracledb\n",
    "import pandas as pd\n",
    "import datetime\n",
    "import os\n",
    "\n",
    "# File Location\n",
    "# -------------\n",
    "BASE_DIR=\"c:/temp/test\"\n",
    "\n",
    "\n",
    "# sql cursor array size\n",
    "# ---------------------\n",
    "array_size = 250000\n",
    "\n",
    "\n",
    "# Assign saved file count\n",
    "# -----------------------\n",
    "NUM_ROWS = 250000\n",
    "\n",
    "\n",
    "# sql query\n",
    "# ---------\n",
    "SQL_STRING = \"select * from cust_notices\"\n",
    "\n",
    "\n",
    "# Information of Oracle Connection\n",
    "# ---------------------------------\n",
    "connection = oracledb.connect(user=\"netager\", password=\"tnscjs12\", host='localhost', port=1521)\n",
    "cur = connection.cursor()\n",
    "cur.arraysize = array_size\n",
    "cur.execute(SQL_STRING)\n",
    "\n",
    "start_time = datetime.datetime.today()\n",
    "\n",
    "cnt = 0\n",
    "while True:\n",
    "    rows = cur.fetchmany(size=NUM_ROWS)\n",
    "\n",
    "    if not rows:    \n",
    "        break\n",
    "\n",
    "    result = []\n",
    "    j = 0\n",
    "    for row in rows:\n",
    "\n",
    "        # formatting file name and file saved location\n",
    "        # ---------------------------------------------\n",
    "        file_name = f'고객정보이용_관련_전북은행_{str(cnt+1).zfill(4)}.xlsx'\n",
    "        xlsx_dir = os.path.join(BASE_DIR, file_name)\n",
    "        \n",
    "        result.append(row)\n",
    "        j += 1\n",
    "    \n",
    "    # Change Column Name\n",
    "    # ------------------\n",
    "    df = pd.DataFrame(result, columns=['고객관리부점코드','부점명','고객식별자','검사대상기간 전체접촉건수','접촉연번','접촉일자','접촉채널','마케팅 캠페인 기획부점','캠페인명','메시지 내용','접촉시점 마케팅 동의의 전산상 등록여부(Y/N)','마케팅 동의 전산등록일자','동의서 형태\\(전산/서면\\)', '전산상 접촉 가능한 동의 채널'])\n",
    "    df.to_excel(xlsx_dir, sheet_name='Sheet1', header=True, index=False)\n",
    "\n",
    "    result.clear()\n",
    "    del df\n",
    "    \n",
    "    end_time = datetime.datetime.today()    \n",
    "    print(f'[{cnt*NUM_ROWS+j:12,}] Start Time: {start_time}, Cur Time: {end_time}, Proc Time:{end_time - start_time}')\n",
    "    cnt += 1\n",
    "\n",
    "cur.close()\n",
    "connection.close()        "
   ]
  },
  {
   "cell_type": "code",
   "execution_count": null,
   "metadata": {},
   "outputs": [],
   "source": []
  },
  {
   "cell_type": "code",
   "execution_count": 8,
   "metadata": {},
   "outputs": [
    {
     "name": "stdout",
     "output_type": "stream",
     "text": [
      "Overwriting t.py\n"
     ]
    }
   ],
   "source": [
    "%%writefile t.py\n",
    "\n",
    "import cx_Oracle\n",
    "import datetime\n",
    "import pandas as pd\n",
    "import os\n",
    "\n",
    "# BASE_DIR=\"c:/temp/test\"\n",
    "# file_name = f'test{i}.xlsx'\n",
    "# xlsx_dir = os.path.join(BASE_DIR, file_name)\n",
    "\n",
    "conn = cx_Oracle.connect(\"netager\", \"tnscjs12\", \"192.168.0.64:1521\", encoding=\"UTF-8\")\n",
    "cur = conn.cursor()\n",
    "query = \"select * from test where rownum < 1000\"\n",
    "\n",
    "cur.execute(query)\n",
    "num_rows = 10\n",
    "cnt = 1\n",
    "while True:\n",
    "    print(f'Start Count : {cnt}')\n",
    "    rows = cur.fetchmany(num_rows)\n",
    "    if not rows:\n",
    "        break\n",
    "    for row in rows:\n",
    "        pass\n",
    "        #print(row)"
   ]
  },
  {
   "cell_type": "code",
   "execution_count": null,
   "metadata": {},
   "outputs": [],
   "source": []
  }
 ],
 "metadata": {
  "kernelspec": {
   "display_name": "base",
   "language": "python",
   "name": "python3"
  },
  "language_info": {
   "codemirror_mode": {
    "name": "ipython",
    "version": 3
   },
   "file_extension": ".py",
   "mimetype": "text/x-python",
   "name": "python",
   "nbconvert_exporter": "python",
   "pygments_lexer": "ipython3",
   "version": "3.9.7"
  },
  "orig_nbformat": 4
 },
 "nbformat": 4,
 "nbformat_minor": 2
}
