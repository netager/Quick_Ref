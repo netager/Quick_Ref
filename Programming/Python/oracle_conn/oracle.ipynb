{
 "cells": [
  {
   "cell_type": "code",
   "execution_count": 1,
   "metadata": {},
   "outputs": [],
   "source": [
    "import cx_Oracle"
   ]
  },
  {
   "cell_type": "code",
   "execution_count": 2,
   "metadata": {},
   "outputs": [],
   "source": [
    "#####################################################################################################\n",
    "# DB 접속\n",
    "#####################################################################################################\n",
    "con = cx_Oracle.connect(\"netager\", \"tnscjs12\", \"192.168.0.64:1521\", encoding=\"UTF-8\")\n",
    "cursor = con.cursor()\n"
   ]
  },
  {
   "cell_type": "code",
   "execution_count": 5,
   "metadata": {},
   "outputs": [
    {
     "name": "stdout",
     "output_type": "stream",
     "text": [
      "=====> dfdfd\n"
     ]
    }
   ],
   "source": [
    "cursor.execute(\"select aa from TEST\")\n",
    "out_data = cursor.fetchone()\n",
    "print(\"=====>\", out_data[0])\n"
   ]
  },
  {
   "cell_type": "code",
   "execution_count": 11,
   "metadata": {},
   "outputs": [],
   "source": [
    "con.close()"
   ]
  },
  {
   "cell_type": "code",
   "execution_count": 10,
   "metadata": {},
   "outputs": [],
   "source": [
    "import openpyxl\n",
    "\n",
    "\n",
    "wb = openpyxl.Workbook()\n",
    "\n",
    "# sheet1은 활성화되 있는 시트를 선택\n",
    "sheet1 = wb.active\n",
    "# sheet1의 시트이름 변경\n",
    "sheet1.title = \"1st sheet\"\n",
    "\n",
    "# 새로운 시트 만들고 sheet2에 저장\n",
    "sheet2 = wb.create_sheet(\"2nd sheet\")\n",
    "\n",
    "# sheet1과 sheet2에 동시에 데이터 쓰기\n",
    "for i in range(1, 10):\n",
    "    sheet1.cell(row=i, column=1).value = i\n",
    "    sheet2.cell(row=1, column=i).value = i\n",
    "\n",
    "wb.save('test.xlsx')"
   ]
  },
  {
   "cell_type": "code",
   "execution_count": 8,
   "metadata": {},
   "outputs": [],
   "source": [
    "import openpyxl\n",
    "\n",
    "wb = openpyxl.Workbook()\n",
    "sheet = wb.active\n",
    "wb.save('test.xlsx')"
   ]
  },
  {
   "cell_type": "code",
   "execution_count": null,
   "metadata": {},
   "outputs": [],
   "source": [
    "in_data = \"Hello World~ 안녕 오라클-파이썬\"\n",
    "cursor.execute(\"insert into TEST_TBL (aa) values (:1)\", [in_data])\n",
    "con.commit()\n"
   ]
  },
  {
   "cell_type": "code",
   "execution_count": null,
   "metadata": {},
   "outputs": [],
   "source": [
    "#####################################################################################################\n",
    "# DB 접속\n",
    "#####################################################################################################\n",
    "con = cx_Oracle.connect(\"scott\", \"tiger\", \"192.168.1.171:1521/ORA19\", encoding=\"UTF-8\")\n",
    "cursor = con.cursor()\n",
    " \n",
    " \n",
    "#####################################################################################################\n",
    "# Insert (Write to DB)\n",
    "#####################################################################################################\n",
    "in_data = \"Hello World~ 안녕 오라클-파이썬\"\n",
    "cursor.execute(\"insert into TEST_TBL (aa) values (:1)\", [in_data])\n",
    "con.commit()\n",
    " \n",
    " \n",
    "#####################################################################################################\n",
    "# Select (Read from DB)\n",
    "#####################################################################################################\n",
    "cursor.execute(\"select aa from TEST_TBL\")\n",
    "out_data = cursor.fetchone()\n",
    "print(\"=====>\", out_data[0])\n",
    " \n",
    "con.close()"
   ]
  },
  {
   "cell_type": "code",
   "execution_count": 13,
   "metadata": {},
   "outputs": [
    {
     "name": "stdout",
     "output_type": "stream",
     "text": [
      "file_name: test1.xlsx xlsx_dir: c:/temp/test\\test1.xlsx\n",
      "file_name: test2.xlsx xlsx_dir: c:/temp/test\\test2.xlsx\n",
      "file_name: test3.xlsx xlsx_dir: c:/temp/test\\test3.xlsx\n",
      "file_name: test4.xlsx xlsx_dir: c:/temp/test\\test4.xlsx\n",
      "file_name: test5.xlsx xlsx_dir: c:/temp/test\\test5.xlsx\n",
      "file_name: test6.xlsx xlsx_dir: c:/temp/test\\test6.xlsx\n",
      "file_name: test7.xlsx xlsx_dir: c:/temp/test\\test7.xlsx\n",
      "file_name: test8.xlsx xlsx_dir: c:/temp/test\\test8.xlsx\n",
      "file_name: test9.xlsx xlsx_dir: c:/temp/test\\test9.xlsx\n",
      "file_name: test10.xlsx xlsx_dir: c:/temp/test\\test10.xlsx\n"
     ]
    }
   ],
   "source": [
    "import os\n",
    "\n",
    "for i in range(1, 11):\n",
    "    BASE_DIR=\"c:/temp/test\"\n",
    "    file_name = f'test{i}.xlsx'\n",
    "    xlsx_dir = os.path.join(BASE_DIR, file_name)\n",
    "    print(f'file_name: {file_name} xlsx_dir: {xlsx_dir}')"
   ]
  }
 ],
 "metadata": {
  "kernelspec": {
   "display_name": "base",
   "language": "python",
   "name": "python3"
  },
  "language_info": {
   "codemirror_mode": {
    "name": "ipython",
    "version": 3
   },
   "file_extension": ".py",
   "mimetype": "text/x-python",
   "name": "python",
   "nbconvert_exporter": "python",
   "pygments_lexer": "ipython3",
   "version": "3.9.7"
  },
  "orig_nbformat": 4
 },
 "nbformat": 4,
 "nbformat_minor": 2
}
