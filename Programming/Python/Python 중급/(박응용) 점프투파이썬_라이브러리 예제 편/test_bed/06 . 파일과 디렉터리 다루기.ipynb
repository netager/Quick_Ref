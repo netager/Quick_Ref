{
 "cells": [
  {
   "cell_type": "code",
   "execution_count": null,
   "metadata": {},
   "outputs": [],
   "source": [
    "# 06장 파일과 디렉터리 다루기\n",
    "# -------------------------\n",
    "# 프로그래밍 시 파일과 디렉터리 처리는 기본 중의 기본이다. 이번 장에서는 파일과 디렉터리를 다루는 모듈을 알아본다."
   ]
  },
  {
   "attachments": {},
   "cell_type": "markdown",
   "metadata": {},
   "source": [
    "## 035 파일 경로를 객체로 다루려면? ― pathlib"
   ]
  },
  {
   "cell_type": "code",
   "execution_count": null,
   "metadata": {},
   "outputs": [],
   "source": [
    "# 035 파일 경로를 객체로 다루려면? ― pathlib\n",
    "# ----------------------------------------\n",
    "# pathlib은 파일 시스템 경로를 문자열이 아닌 객체로 만들어 여러 가지 일을 할 수 있도록 하는 모듈이다.\n",
    "\n",
    "# pathlib 모듈은 파이썬 3.4 버전부터 사용할 수 있다.\n",
    "\n",
    "# 문제\n",
    "# ----\n",
    "# 다음은 현재 디렉터리의 모든 텍스트 파일(.txt)을 archive라는 디렉터리로 이동하는 일반적인 파이썬 코드이다\n",
    "# (단, archive 디렉터리는 현재 디렉터리 하위에 이미 있다고 가정한다).\n",
    "\n",
    "# import glob\n",
    "# import os\n",
    "# import shutil\n",
    "\n",
    "# for file_path in glob.glob('%s/*.txt' % os.getcwd()):\n",
    "#     parent = os.path.dirname(file_path)\n",
    "#     filename = os.path.basename(file_path)\n",
    "#     new_path = os.path.join(parent, 'archive', filename)\n",
    "#     shutil.move(file_path, new_path)\n",
    "\n",
    "# 이 코드를 glob, os, shutil 대신 pathlib만을 사용하도록 수정하려면 어떻게 해야 할까?\n"
   ]
  },
  {
   "cell_type": "code",
   "execution_count": 8,
   "metadata": {},
   "outputs": [],
   "source": [
    "import glob\n",
    "import os\n",
    "import shutil\n",
    "\n",
    "for file_path in glob.glob('%s/*.txt' % os.getcwd()):\n",
    "    print(file_path)\n",
    "    print('-'*70)\n",
    "    \n",
    "    parent = os.path.dirname(file_path)\n",
    "    print(parent)\n",
    "    print('-'*70)\n",
    "    \n",
    "    file_name = os.path.basename(file_path)\n",
    "    print(file_name)\n",
    "    print('-'*70)\n",
    "    \n",
    "    new_path = os.path.join(parent, 'archive', file_name)\n",
    "    print(new_path)\n",
    "    print('='*70)\n",
    "\n",
    "    shutil.move(file_path, new_path)"
   ]
  },
  {
   "cell_type": "code",
   "execution_count": null,
   "metadata": {},
   "outputs": [],
   "source": [
    "# 풀이\n",
    "# ----\n",
    "# 다음처럼 pathlib만을 사용하여 glob, os.path, shutil에서 사용했던 모든 기능을 구현할 수 있다.\n",
    "\n",
    "# [파일명: pathlib_sample.py]\n",
    "\n",
    "# import pathlib\n",
    "\n",
    "\n",
    "# for p in pathlib.Path.cwd().glob('*.txt'):\n",
    "#     new_p = p.parent.joinpath('archive', p.name)\n",
    "#     p.replace(new_p)\n",
    "# pathlib.Path.cwd()는 현재 디렉터리 객체(Path)를 반환한다. 그리고 Path 객체의 glob() 함수로 해당 디렉터리에 있는 모든 txt 파일을 객체(Path 이터레이터)로 얻을 수 있다. Path 객체의 parent()는 os.path.dirname()처럼 해당 파일의 현재 디렉터리를 반환한다. 마찬가지로 Path 객체의 joinpath()는 os.path.join()처럼 파일 경로와 파일명을 합쳐 새로운 경로를 만든다. 그리고 파일을 옮기고자 shutil.move() 대신 Path 객체의 replace() 함수를 사용했다.\n",
    "\n",
    "# 하위 디렉터리까지 검색하려면 glob() 대신 rglob()을 사용하면 된다.\n",
    "\n",
    "# pathlib를 사용하지 않은 코드와 사용한 코드를 비교하면 다음 표와 같다.\n",
    "\n",
    "# 전통적인 방식\tpathlib 방식(p는 pathlib로 생성한 Path 객체)\n",
    "# os.getcwd\tp.cwd\n",
    "# glob.glob\tp.glob\n",
    "# os.path.dirname\tp.parent\n",
    "# os.path.basename\tp.name\n",
    "# os.path.join\tp.joinpath\n",
    "# shutil.move\tp.replace\n",
    "# 알아두면 좋아요\n",
    "# 현재 디렉터리의 모든 파일을 조사하여 확장자별 개수 구하기\n",
    "# >>> import collections, pathlib\n",
    "# >>> collections.Counter([p.suffix for p in pathlib.Path.cwd().iterdir()])\n",
    "# Counter({'.md': 2, '.txt': 4, '.pdf': 2, '.py': 1})\n",
    "# iterdir()는 해당 디렉터리의 모든 파일을 이터레이터로 반환한다. Path 객체의 suffix는 .을 포함한 파일 확장자를 뜻한다.\n",
    "\n",
    "# 참고 : 010 사용한 단어 개수를 구하려면? - collections.Counter\n",
    "\n",
    "# 참고\n",
    "# glob - 파일 검색: https://wikidocs.net/110619\n",
    "# pathlib - 객체 지향 파일 시스템 경로: https://docs.python.org/ko/3/library/pathlib.html\n",
    "# 하위 디렉터리 검색하기: https://wikidocs.net/39"
   ]
  },
  {
   "cell_type": "code",
   "execution_count": 10,
   "metadata": {},
   "outputs": [],
   "source": [
    "import pathlib\n",
    "\n",
    "for p in pathlib.Path.cwd().glob('*.txt'):\n",
    "    print(p)"
   ]
  }
 ],
 "metadata": {
  "kernelspec": {
   "display_name": "base",
   "language": "python",
   "name": "python3"
  },
  "language_info": {
   "codemirror_mode": {
    "name": "ipython",
    "version": 3
   },
   "file_extension": ".py",
   "mimetype": "text/x-python",
   "name": "python",
   "nbconvert_exporter": "python",
   "pygments_lexer": "ipython3",
   "version": "3.9.7"
  },
  "orig_nbformat": 4
 },
 "nbformat": 4,
 "nbformat_minor": 2
}
