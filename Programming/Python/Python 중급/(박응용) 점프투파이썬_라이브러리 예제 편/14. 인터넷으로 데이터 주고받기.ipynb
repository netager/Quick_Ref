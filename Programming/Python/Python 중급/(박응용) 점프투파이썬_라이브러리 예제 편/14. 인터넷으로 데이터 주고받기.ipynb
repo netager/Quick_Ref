{
 "cells": [
  {
   "cell_type": "code",
   "execution_count": null,
   "metadata": {},
   "outputs": [],
   "source": [
    "# 14장 인터넷으로 데이터 주고받기\n",
    "# 인터넷으로 주고받는 데이터 형식은 다양하다. \n",
    "# 예를 들어 여러분이 주고받는 이메일은 인터넷에서 Base64라는 데이터 형식으로 전송된다. \n",
    "# 이번 장에서는 JSON, Base64 등의 인터넷 데이터를 다루는 모듈을 알아본다."
   ]
  },
  {
   "attachments": {},
   "cell_type": "markdown",
   "metadata": {},
   "source": [
    "## 077 JSON 데이터를 다루려면? ― json"
   ]
  },
  {
   "cell_type": "code",
   "execution_count": null,
   "metadata": {},
   "outputs": [],
   "source": [
    "# 077 JSON 데이터를 다루려면? ― json\n",
    "# json은 JSON 데이터를 쉽게 처리하고자 사용하는 모듈이다.\n",
    "\n",
    "# 문제\n",
    "# 다음은 개인정보를 JSON 형태의 데이터로 만든 myinfo.json 파일이다.\n",
    "\n",
    "# [파일명: myinfo.json]\n",
    "\n",
    "# {\n",
    "#     \"name\": \"홍길동\",\n",
    "#     \"birth\": \"0525\",\n",
    "#     \"age\": 30\n",
    "# }\n",
    "\n",
    "# 인터넷으로 얻은 이 파일을 읽어 파이썬에서 처리할 수 있도록 딕셔너리 자료형으로 만들려면 어떻게 해야 할까?"
   ]
  },
  {
   "cell_type": "code",
   "execution_count": 1,
   "metadata": {},
   "outputs": [
    {
     "name": "stdout",
     "output_type": "stream",
     "text": [
      "Writing myinfo.json\n"
     ]
    }
   ],
   "source": [
    "%%writefile myinfo.json\n",
    "{\n",
    "    \"name\": \"홍길동\",\n",
    "    \"birth\": \"0525\",\n",
    "    \"age\": 30\n",
    "}"
   ]
  },
  {
   "cell_type": "code",
   "execution_count": null,
   "metadata": {},
   "outputs": [],
   "source": [
    "# 풀이\n",
    "# JSON 파일을 읽어 딕셔너리로 변환하려면 다음처럼 json 모듈을 사용하면 된다.\n",
    "\n",
    "# >>> import json\n",
    "# >>> with open('myinfo.json') as f:\n",
    "# ...     data = json.load(f)\n",
    "# ... \n",
    "# >>> type(data)\n",
    "# <class 'dict'>\n",
    "# >>> data\n",
    "# {'name': '홍길동', 'birth': '0525', 'age': 30}\n",
    "\n",
    "# JSON 파일을 읽을 때는 이 예처럼 json.load(파일 객체)를 사용한다. \n",
    "# 이렇게 load() 함수는 읽은 데이터를 딕셔너리 자료형으로 반환한다. \n",
    "# 반대로 딕셔너리 자료형을 JSON 파일로 생성할 때는 다음처럼 json.dump(딕셔너리, 파일 객체)를 사용한다.\n",
    "\n",
    "# >>> import json\n",
    "# >>> data = {'name': '홍길동', 'birth': '0525', 'age': 30}\n",
    "# >>> with open('myinfo.json', 'w') as f:\n",
    "# ...     json.dump(data, f)\n",
    "# ...\n",
    "# >>>\n",
    "# 알아두면 좋아요\n",
    "# dumps(), loads()\n"
   ]
  },
  {
   "cell_type": "code",
   "execution_count": 6,
   "metadata": {},
   "outputs": [
    {
     "name": "stdout",
     "output_type": "stream",
     "text": [
      "<class 'dict'> {'name': '홍길동', 'birth': '0525', 'age': 30}\n"
     ]
    }
   ],
   "source": [
    "import json\n",
    "\n",
    "with open('myinfo.json') as f:\n",
    "    data = json.load(f)\n",
    "print(type(data), data)\n",
    "\n",
    "\n",
    "data = {'name': '홍길동', 'birth': '0525', 'age': 30}\n",
    "with open('myinfo.json', 'w') as f:\n",
    "    json.dump(data, f)\n"
   ]
  },
  {
   "cell_type": "code",
   "execution_count": null,
   "metadata": {},
   "outputs": [],
   "source": [
    "# 이번에는 파이썬 자료형을 JSON 문자열로 만드는 방법에 대해서 알아보자.\n",
    "\n",
    "# >>> import json\n",
    "# >>> d = {\"name\":\"홍길동\", \"birth\":\"0525\", \"age\": 30}\n",
    "# >>> json_data = json.dumps(d)\n",
    "# >>> json_data\n",
    "# '{\"name\": \"\\\\ud64d\\\\uae38\\\\ub3d9\", \"birth\": \"0525\", \"age\": 30}'\n",
    "\n",
    "# 딕셔너리 자료형을 JSON 문자열로 만들려면 json.dumps() 함수를 사용하면 된다. \n",
    "# 그런데 딕셔너리를 JSON 데이터로 변경하면 '홍길동'과 같은 한글 문자열이 코드 형태로 표시된다. \n",
    "# 왜냐하면 dump(), dumps() 함수는 기본적으로 데이터를 아스키 형태로 저장하기 때문이다. \n",
    "# 유니코드 문자열을 아스키 형태로 저장하다 보니 한글 문자열이 마치 깨진 것처럼 보인다.\n",
    "\n",
    "# 그러나 JSON 문자열을 딕셔너리로 다시 역변환하여 사용하는 데에는 전혀 문제가 없다. \n",
    "# JSON 문자열을 딕셔너리로 변환할 때는 다음처럼 json.loads() 함수를 사용한다.\n",
    "\n",
    "# >>> json.loads(json_data)\n",
    "# {'name': '홍길동', 'birth': '0525', 'age': 30}\n",
    "\n",
    "# 한글 문자열이 아스키 형태의 문자열로 변경되는 것을 방지하는 방법도 있다.\n",
    "\n",
    "# >>> d = {\"name\":\"홍길동\", \"birth\":\"0525\", \"age\": 30}\n",
    "# >>> json_data = json.dumps(d, ensure_ascii=False)\n",
    "# >>> json_data\n",
    "# '{\"name\": \"홍길동\", \"birth\": \"0525\", \"age\": 30}'\n",
    "# >>> json.loads(json_data)\n",
    "# {'name': '홍길동', 'birth': '0525', 'age': 30}\n",
    "# 이처럼 ensure_ascii=False 옵션을 사용하면 된다. 이 옵션은 데이터를 저장할 때 아스키 형태로 변환하지 않겠다는 뜻이다.\n"
   ]
  },
  {
   "cell_type": "code",
   "execution_count": 11,
   "metadata": {},
   "outputs": [
    {
     "name": "stdout",
     "output_type": "stream",
     "text": [
      "{\"name\": \"\\ud64d\\uae38\\ub3d9\", \"birth\": \"0525\", \"age\": 30}\n",
      "{\"name\": \"홍길동\", \"birth\": \"0525\", \"age\": 30}\n",
      "{'name': '홍길동', 'birth': '0525', 'age': 30}\n"
     ]
    }
   ],
   "source": [
    "import json\n",
    "\n",
    "d = {\"name\":\"홍길동\", \"birth\":\"0525\", \"age\": 30}\n",
    "json_data = json.dumps(d)\n",
    "print(json_data)\n",
    "\n",
    "json_data = json.dumps(d, ensure_ascii=False)\n",
    "print(json_data)\n",
    "\n",
    "data = json.loads(json_data)\n",
    "print(data)"
   ]
  },
  {
   "cell_type": "code",
   "execution_count": null,
   "metadata": {},
   "outputs": [],
   "source": [
    "\n",
    "# 출력되는 JSON 문자열을 보기 좋게 정렬하려면 다음처럼 indent 옵션을 추가하면 된다.\n",
    "\n",
    "# >>> d = {\"name\":\"홍길동\", \"birth\":\"0525\", \"age\": 30}\n",
    "# >>> print(json.dumps(d, indent=2, ensure_ascii=False))\n",
    "# {\n",
    "#   \"name\": \"홍길동\",\n",
    "#   \"birth\": \"0525\",\n",
    "#   \"age\": 30\n",
    "# }\n",
    "\n",
    "# 그리고 딕셔너리 외에 리스트나 튜플처럼 다른 자료형도 JSON 문자열로 바꿀 수 있다.\n",
    "\n",
    "# >>> json.dumps([1,2,3])\n",
    "# '[1, 2, 3]'\n",
    "# >>> json.dumps((4,5,6))\n",
    "# '[4, 5, 6]'\n",
    "\n",
    "# 참고\n",
    "# json - JSON 인코더와 디코더: https://docs.python.org/ko/3/library/json.html"
   ]
  },
  {
   "cell_type": "code",
   "execution_count": 13,
   "metadata": {},
   "outputs": [
    {
     "name": "stdout",
     "output_type": "stream",
     "text": [
      "{\n",
      "    \"name\": \"\\ud64d\\uae38\\ub3d9\",\n",
      "    \"birth\": \"0525\",\n",
      "    \"age\": 30\n",
      "}\n",
      "{\n",
      "    \"name\": \"홍길동\",\n",
      "    \"birth\": \"0525\",\n",
      "    \"age\": 30\n",
      "}\n",
      "{'name': '홍길동', 'birth': '0525', 'age': 30}\n"
     ]
    }
   ],
   "source": [
    "import json\n",
    "\n",
    "d = {\"name\":\"홍길동\", \"birth\":\"0525\", \"age\": 30}\n",
    "json_data = json.dumps(d,indent=4)\n",
    "print(json_data)\n",
    "\n",
    "json_data = json.dumps(d, ensure_ascii=False, indent=4)\n",
    "print(json_data)\n",
    "\n",
    "data = json.loads(json_data)\n",
    "print(data)"
   ]
  },
  {
   "attachments": {},
   "cell_type": "markdown",
   "metadata": {},
   "source": [
    "## 078 바이너리 데이터를 문자열로 바꾸려면? ― base64"
   ]
  },
  {
   "cell_type": "code",
   "execution_count": null,
   "metadata": {},
   "outputs": [],
   "source": [
    "# 078 바이너리 데이터를 문자열로 바꾸려면? ― base64\n",
    "\n",
    "# base64는 바이너리 데이터를 문자열로 인코딩할 때 사용하는 모듈이다. 이때 인코딩한 문자열은 64개의 아스키 문자로 구성된다(64진법 사용).\n",
    "\n",
    "# Base64는 이메일에 바이너리 데이터를 첨부하고자 고안한 인코딩 방법이다.\n",
    "\n",
    "# 문제\n",
    "# A 씨는 test.jpg라는 이미지 파일을 텍스트로 첨부하여 B 씨에게 전송하려 한다. \n",
    "# 그러려면 이미지 파일을 Base64 형식으로 인코딩한 문자열로 바꾸는 img_to_string() 함수가 필요하다. \n",
    "# 이와 함께 데이터를 수신한 B 씨는 Base64로 인코딩한 문자열을 원래 이미지로 바꾸는 string_to_img() 함수가 필요하다.\n",
    "\n",
    "# A 씨와 B 씨가 이미지를 문자열 형식으로 주고받는 데 필요한 다음과 같은 형식의 img_to_string() 함수와 string_to_img() 함수를 만들려면 어떻게 해야 할까?\n",
    "\n",
    "# def img_to_string(filename):\n",
    "#     ''' 파일명(filename)을 입력으로 받아 base64로 인코딩한 문자열을 리턴한다 '''\n",
    "#     pass\n",
    "\n",
    "# def string_to_img(s, filename):\n",
    "#     ''' base64로 인코딩된 문자열(s)과 파일명(filename)을 입력으로 받아 문자열을 파일로 저장한다. '''\n",
    "#     pass"
   ]
  },
  {
   "cell_type": "code",
   "execution_count": 26,
   "metadata": {},
   "outputs": [
    {
     "name": "stdout",
     "output_type": "stream",
     "text": [
      "b'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'\n",
      "Sleeping .... 10 sec\n"
     ]
    }
   ],
   "source": [
    "import base64\n",
    "import time\n",
    "\n",
    "def img_to_string(filename):\n",
    "    with open(filename, 'rb') as f:\n",
    "        return base64.b64encode(f.read())\n",
    "\n",
    "def string_to_file(string):\n",
    "    with open('./test_bed/base64.txt', 'w') as f:\n",
    "        f.write(string.decode('utf-8'))\n",
    "    \n",
    "def string_to_image(s, filename):\n",
    "    with open(filename, 'wb') as f:\n",
    "        f.write(base64.b64decode(s))\n",
    "        \n",
    "\n",
    "def main(filename):\n",
    "    string = img_to_string(filename)\n",
    "    time.sleep(10)\n",
    "    print(string)\n",
    "    print('Sleeping .... 10 sec')\n",
    "    \n",
    "    string_to_file(string)\n",
    "    \n",
    "    string_to_image(string, filename)\n",
    "    \n",
    "if __name__ == '__main__':\n",
    "    filename = './test_bed/test.jpg'\n",
    "    main(filename)\n",
    "\n",
    "            "
   ]
  },
  {
   "cell_type": "code",
   "execution_count": null,
   "metadata": {},
   "outputs": [],
   "source": [
    "# 풀이\n",
    "# 다음은 base64 모듈을 사용한 문제 풀이이다.\n",
    "\n",
    "# [파일명: base64_sample.py]\n",
    "\n",
    "# import base64\n",
    "\n",
    "\n",
    "# def img_to_string(filename):\n",
    "#     ''' 파일명(filename)을 입력으로 받아 base64로 인코딩한 문자열을 리턴한다 '''\n",
    "#     with open(filename, 'rb') as f:\n",
    "#         return base64.b64encode(f.read())\n",
    "\n",
    "\n",
    "# def string_to_img(s, filename):\n",
    "#     ''' base64로 인코딩된 문자열(s)과 파일명(filename)을 입력으로 받아 문자열을 파일로 저장한다. '''\n",
    "#     with open(filename, 'wb') as f:\n",
    "#         f.write(base64.b64decode(s))\n",
    "\n",
    "\n",
    "# img_string = img_to_string('test.jpg')  # test.jpg 파일을 base64 문자열로 반환\n",
    "# string_to_img(img_string, 'result.jpg')  # base64 문자열을 result.jpg 파일로 저장\n",
    "\n",
    "# base64.b64encode()는 이미지와 같은 바이너리 데이터를 Base64 형태의 문자열로 바꾸는 함수이다. \n",
    "# 반대로 base64.b64decode()는 Base64로 인코딩한 문자열을 바이너리 데이터로 바꾸는 함수이다.\n",
    "\n",
    "# 알아두면 좋아요\n",
    "# 바이트 문자열을 Base64로 인코딩하기\n",
    "# 다음은 바이트 문자열을 Base64로 인코딩하고 디코딩하는 예제이다.\n",
    "\n",
    "# >>> import base64\n",
    "# >>> e = base64.b64encode(b'Life is too short')\n",
    "# >>> e\n",
    "# b'TGlmZSBpcyB0b28gc2hvcnQ='\n",
    "# >>> base64.b64decode(e)\n",
    "# b'Life is too short'\n",
    "# 참고\n",
    "# base64 - Base16, Base32, Base64, Base85 데이터 인코딩: https://docs.python.org/ko/3/library/base64.html"
   ]
  },
  {
   "cell_type": "code",
   "execution_count": 28,
   "metadata": {},
   "outputs": [
    {
     "name": "stdout",
     "output_type": "stream",
     "text": [
      "b'TGlmZSBpcyB0b28gc2hvcnQ='\n"
     ]
    },
    {
     "data": {
      "text/plain": [
       "b'Life is too short'"
      ]
     },
     "execution_count": 28,
     "metadata": {},
     "output_type": "execute_result"
    }
   ],
   "source": [
    "import base64\n",
    "\n",
    "e = base64.b64encode(b'Life is too short')\n",
    "print(e)\n",
    "base64.b64decode(e)\n"
   ]
  },
  {
   "attachments": {},
   "cell_type": "markdown",
   "metadata": {},
   "source": [
    "## 079 문자열을 16진수로 변환하려면? ― binascii\n"
   ]
  },
  {
   "cell_type": "code",
   "execution_count": null,
   "metadata": {},
   "outputs": [],
   "source": [
    "# 079 문자열을 16진수로 변환하려면? ― binascii\n",
    "\n",
    "# binascii는 문자열을 16진수로, 변환한 16진수를 다시 문자열로 변환하는 모듈이다.\n",
    "\n",
    "# 문제\n",
    "# 다음은 어떤 문자열을 16진수로 표현한 것이다.\n",
    "\n",
    "# 507974686f6e204c696272617279\n",
    "# 이 문자열의 원래 값을 구하려면 어떻게 해야 할까?\n"
   ]
  },
  {
   "cell_type": "code",
   "execution_count": 33,
   "metadata": {},
   "outputs": [
    {
     "data": {
      "text/plain": [
       "'Python Library'"
      ]
     },
     "execution_count": 33,
     "metadata": {},
     "output_type": "execute_result"
    }
   ],
   "source": [
    "import binascii\n",
    "\n",
    "hex_data = b'507974686f6e204c696272617279'\n",
    "\n",
    "bin_data = binascii.unhexlify(hex_data).decode('utf-8')\n",
    "bin_data\n",
    "\n"
   ]
  },
  {
   "cell_type": "code",
   "execution_count": null,
   "metadata": {},
   "outputs": [],
   "source": [
    "\n",
    "# 풀이\n",
    "# 다음은 binascii 모듈을 사용한 문제 풀이이다.\n",
    "\n",
    "# >>> import binascii\n",
    "# >>> binascii.unhexlify(b'507974686f6e204c696272617279')\n",
    "# b'Python Library'\n",
    "\n",
    "# binascii.unhexlify() 함수를 사용하면 16진수 문자열로 변환한 원래의 문자열 값을 쉽게 얻을 수 있다. \n",
    "# 단, 이 함수의 입력 인수는 바이트 문자열이어야 한다는 점에 주의하자. 또는 다음과 같이 bytes 자료형을 사용해도 된다.\n",
    "\n",
    "# >>> bytes.fromhex('507974686f6e204c696272617279')\n",
    "# b'Python Library'\n",
    "\n",
    "# binascii.unhexlify()와 bytes.fromhex() 함수의 입력 인수는 자료형이 다르다.\n",
    "\n",
    "# 알아두면 좋아요\n",
    "# binascii.hexlify()\n",
    "# 'Python Library'라는 문자열을 16진수로 만들 때는 binascii.hexlify() 함수를 사용한다.\n",
    "\n",
    "# >>> binascii.hexlify(b'Python Library')\n",
    "# b'507974686f6e204c696272617279'\n",
    "\n",
    "# 또는 다음처럼 바이트 문자열 객체의 hex() 함수를 사용해도 된다.\n",
    "\n",
    "# >>> b'Python Library'.hex()\n",
    "\n",
    "# '507974686f6e204c696272617279'\n",
    "\n",
    "# 한글이 포함된 문자열을 16진수로 변환할 때는 다음과 같이 유니코드 문자열을 바이트 문자열로 변환하는 UTF-8 인코딩이 필요하다.\n",
    "\n",
    "# >>> binascii.hexlify('파이썬 라이브러리'.encode('utf-8'))\n",
    "\n",
    "# b'ed8c8cec9db4ec8dac20eb9dbcec9db4ebb88ceb9faceba6ac'\n",
    "\n",
    "# >>> binascii.unhexlify(b'ed8c8cec9db4ec8dac20eb9dbcec9db4ebb88ceb9faceba6ac').decode('utf-8')\n",
    "\n",
    "# '파이썬 라이브러리'\n",
    "# 참고: 부록 01 파이썬과 유니코드\n",
    "\n",
    "# 참고\n",
    "# binascii - 바이너리와 ASCII 간의 변환: https://docs.python.org/ko/3/library/binascii.html"
   ]
  },
  {
   "attachments": {},
   "cell_type": "markdown",
   "metadata": {},
   "source": [
    "## 080 아스키 외의 문자만 인코딩하려면? ― quopri"
   ]
  },
  {
   "cell_type": "code",
   "execution_count": null,
   "metadata": {},
   "outputs": [],
   "source": [
    "# 080 아스키 외의 문자만 인코딩하려면? ― quopri\n",
    "\n",
    "# quopri는 quoted-printable 인코딩/디코딩을 할 때 사용하는 모듈이다.\n",
    "\n",
    "# 알아두면 좋아요\n",
    "# quoted-printable이란?\n",
    "# quoted-printable 인코딩 방식은 인코딩한 메시지를 디코딩하지 않더라도 ASCII 문자는 그대로 볼 수 있도록 하는 방식이다. \n",
    "# 즉, 영문과 숫자 등의 ASCII 7bit 문자는 그대로 두고 한글 등 8bit 문자만 인코딩한다.\n",
    "\n",
    "# 문제\n",
    "# 다음은 quoted-printable 방식으로 인코딩한 문자열이다. 이 문자열을 디코딩하여 원래의 문자열을 알려면 어떻게 해야 할까?\n",
    "\n",
    "# Python Library =EA=B3=B5=EB=B6=80\n",
    "\n",
    "\n",
    "# 풀이\n",
    "# quoted-printable 방식으로 인코딩한 문자열은 quopri 모듈을 사용하여 디코딩하면 된다.\n",
    "\n",
    "# >>> import quopri\n",
    "# >>> quopri.decodestring('Python Library =EA=B3=B5=EB=B6=80').decode('utf-8')\n",
    "# 'Python Library 공부'\n",
    "# quopri.decodestring() 함수는 바이트 문자열을 반환하므로 UTF-8로 디코딩했다.\n",
    "\n",
    "# 참고: 부록 - 01 파이썬과 유니코드\n",
    "\n",
    "# 'Python Library 공부'라는 문자열을 quopri 모듈을 이용하여 quoted-printable 방식으로 인코딩하는 방법은 다음과 같다.\n",
    "\n",
    "# >>> quopri.encodestring('Python Library 공부'.encode('utf-8'))\n",
    "# b'Python Library =EA=B3=B5=EB=B6=80'\n",
    "# 참고\n",
    "# quopri - MIME quoted-printable 데이터 인코딩과 디코딩: https://docs.python.org/ko/3/library/quopri.html"
   ]
  },
  {
   "cell_type": "code",
   "execution_count": 35,
   "metadata": {},
   "outputs": [
    {
     "data": {
      "text/plain": [
       "'Python Library 공부'"
      ]
     },
     "execution_count": 35,
     "metadata": {},
     "output_type": "execute_result"
    }
   ],
   "source": [
    "import quopri\n",
    "aa = quopri.encodestring('Python Library 공부'.encode('utf-8'))\n",
    "\n",
    "quopri.decodestring(aa).decode('utf-8')\n"
   ]
  },
  {
   "attachments": {},
   "cell_type": "markdown",
   "metadata": {},
   "source": [
    "## 081 바이너리 파일을 텍스트 파일로 바꾸려면? ― uu"
   ]
  },
  {
   "cell_type": "code",
   "execution_count": null,
   "metadata": {},
   "outputs": [],
   "source": [
    "# 081 바이너리 파일을 텍스트 파일로 바꾸려면? ― uu\n",
    "\n",
    "# uuencode 인코딩은 바이너리를 텍스트로 변환하기 위한 인코딩 방법으로, 1980년 메리 앤 호튼(Mary Ann Horton)이 만들었다. \n",
    "# uuencode에서 uu는 Unix-to-Unix를 뜻한다. 즉, 유닉스 시스템 간에 바이너리 데이터를 안전하게 전송하고자 만든 인코딩 방법이다. \n",
    "# 하지만, 지금은 대부분 uuencode의 단점을 보완한 Base64와 같은 MIME 방식의 인코딩을 사용한다.\n",
    "\n",
    "# 참고: 078 바이너리 데이터를 문자열로 바꾸려면? - base64\n",
    "\n",
    "# uu는 이러한 uuencode 인코딩을 위한 파이썬 모듈이다.\n",
    "\n",
    "# 문제\n",
    "# test.jpg라는 이미지 파일을 uuencode 방식으로 인코딩하여 result.txt 파일로 변환하여 송신하고, 이를 수신한 쪽에서는 result.txt 파일을 test1.jpg 파일로 다시 변환하려 한다. 어떻게 하면 될까?\n",
    "\n",
    "# 풀이\n",
    "# uuencode 방식의 인코딩을 사용하려면 uu 모듈을 사용한다.\n",
    "\n",
    "# [파일명: uu_sample.py]\n",
    "\n",
    "# import uu\n",
    "\n",
    "# # 이미지를 텍스트로 변환\n",
    "# uu.encode('test.jpg', 'result.txt')\n",
    "\n",
    "# # 텍스트를 다시 이미지로 변환\n",
    "# uu.decode('result.txt', 'test1.jpg')\n",
    "# result.txt 파일을 열어보면 다음과 비슷한 내용을 볼 수 있다.\n",
    "\n",
    "# begin 666 test.jpg\n",
    "# M_]C_X  02D9)1@ ! 0$!+ $L  #_X0\".17AI9@  34T *@    @  @$2  , \n",
    "# M   !  $  (=I  0    !    )@      !) #  (    4    7) $  (    4\n",
    "# M    <)*1  (    #,#   )*2  (    #,#         R,#$Y.C V.C$Q(#$R\n",
    "# M.C(Y.C0R #(P,3DZ,#8Z,3$@,3(Z,CDZ-#(   #_X0&<:'1T<#HO+VYS+F%D\n",
    "# ... 생략 ...\n",
    "# ME0HAMHUW(-NX,0.IPW3'6N@H **** \"BBB@ HHHH **** \"BBB@ HHHH __9\n",
    "\n",
    "# end\n",
    "# uuencode 방식으로 인코딩한 텍스트 파일은 이처럼 begin ~ end로 구성된다.\n",
    "\n",
    "# 참고\n",
    "# uu - uuencode 파일 인코딩과 디코딩: https://docs.python.org/ko/3/library/uu.html\n",
    "# https://en.wikipedia.org/wiki/Uuencoding"
   ]
  }
 ],
 "metadata": {
  "kernelspec": {
   "display_name": "base",
   "language": "python",
   "name": "python3"
  },
  "language_info": {
   "codemirror_mode": {
    "name": "ipython",
    "version": 3
   },
   "file_extension": ".py",
   "mimetype": "text/x-python",
   "name": "python",
   "nbconvert_exporter": "python",
   "pygments_lexer": "ipython3",
   "version": "3.9.7"
  },
  "orig_nbformat": 4
 },
 "nbformat": 4,
 "nbformat_minor": 2
}
