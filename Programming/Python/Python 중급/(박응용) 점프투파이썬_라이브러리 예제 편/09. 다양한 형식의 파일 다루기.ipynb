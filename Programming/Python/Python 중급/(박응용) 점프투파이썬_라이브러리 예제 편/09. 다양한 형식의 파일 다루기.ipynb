{
 "cells": [
  {
   "cell_type": "code",
   "execution_count": null,
   "metadata": {},
   "outputs": [],
   "source": [
    "# 09장 다양한 형식의 파일 다루기\n",
    "# 이번 장에서는 csv, ini 형식의 파일을 쉽게 처리하는 파이썬 모듈을 알아본다."
   ]
  },
  {
   "cell_type": "markdown",
   "metadata": {},
   "source": [
    "## 054 CSV 파일을 읽고 쓰려면? ― csv"
   ]
  },
  {
   "cell_type": "code",
   "execution_count": null,
   "metadata": {},
   "outputs": [],
   "source": [
    "# 054 CSV 파일을 읽고 쓰려면? ― csv\n",
    "# ---------------------------------\n",
    "# csv는 CSV 파일을 읽고 쓸 때 사용하는 모듈이다.\n",
    "\n",
    "# 문제\n",
    "# 다음처럼 엑셀로 작성한 score.csv 파일이 있다. \n",
    "# 두 번째 열(B열)은 총 2번의 시험 점수를 쉼표로 구분하여 입력한 것이다. 즉, 80,55는 80점, 50점을 뜻한다.\n",
    "\n",
    "# 이 파일을 읽어 시험 점수 2번의 평균 점수를 4번째 열(D열)에 기록하고 이를 score_result.csv 파일로 저장하는 프로그램은 어떻게 작성하면 될까? 즉, score_result.csv 파일을 엑셀로 읽으면 다음처럼 4번째 열이 추가로 보여야 한다."
   ]
  },
  {
   "cell_type": "code",
   "execution_count": 73,
   "metadata": {},
   "outputs": [],
   "source": [
    "datas = \"\"\"\n",
    "1,\"80,55\",홍길동\n",
    "2,\"90,77\",김철수\n",
    "3,\"88,66\",박희수\n",
    "\"\"\"\n",
    "result =[]\n",
    "for data in datas.split('\\n'):\n",
    "    if data:\n",
    "        result.append(data)\n",
    "\n",
    "with open('./score.csv', 'wt') as f:\n",
    "    for data in datas.split('\\n'):\n",
    "        if data:\n",
    "            f.write(f'{data}\\n')\n",
    "    \n",
    "# for data in datas.strip().split('\\n'):\n",
    "#     print(data)\n",
    "# for data in datas.split('\\n'):\n",
    "#     if data:\n",
    "\n"
   ]
  },
  {
   "cell_type": "code",
   "execution_count": 48,
   "metadata": {},
   "outputs": [
    {
     "ename": "FileNotFoundError",
     "evalue": "[Errno 2] No such file or directory: './score.csv'",
     "output_type": "error",
     "traceback": [
      "\u001b[1;31m---------------------------------------------------------------------------\u001b[0m",
      "\u001b[1;31mFileNotFoundError\u001b[0m                         Traceback (most recent call last)",
      "\u001b[1;32mc:\\Users\\User\\Quick_Ref\\Programming\\Python\\Python 중급\\(박응용) 점프투파이썬_라이브러리 예제 편\\09. 다양한 형식의 파일 다루기.ipynb 셀 4\u001b[0m in \u001b[0;36m<cell line: 4>\u001b[1;34m()\u001b[0m\n\u001b[0;32m      <a href='vscode-notebook-cell:/c%3A/Users/User/Quick_Ref/Programming/Python/Python%20%EC%A4%91%EA%B8%89/%28%EB%B0%95%EC%9D%91%EC%9A%A9%29%20%EC%A0%90%ED%94%84%ED%88%AC%ED%8C%8C%EC%9D%B4%EC%8D%AC_%EB%9D%BC%EC%9D%B4%EB%B8%8C%EB%9F%AC%EB%A6%AC%20%EC%98%88%EC%A0%9C%20%ED%8E%B8/09.%20%EB%8B%A4%EC%96%91%ED%95%9C%20%ED%98%95%EC%8B%9D%EC%9D%98%20%ED%8C%8C%EC%9D%BC%20%EB%8B%A4%EB%A3%A8%EA%B8%B0.ipynb#W4sZmlsZQ%3D%3D?line=0'>1</a>\u001b[0m \u001b[39mimport\u001b[39;00m \u001b[39mcsv\u001b[39;00m\n\u001b[0;32m      <a href='vscode-notebook-cell:/c%3A/Users/User/Quick_Ref/Programming/Python/Python%20%EC%A4%91%EA%B8%89/%28%EB%B0%95%EC%9D%91%EC%9A%A9%29%20%EC%A0%90%ED%94%84%ED%88%AC%ED%8C%8C%EC%9D%B4%EC%8D%AC_%EB%9D%BC%EC%9D%B4%EB%B8%8C%EB%9F%AC%EB%A6%AC%20%EC%98%88%EC%A0%9C%20%ED%8E%B8/09.%20%EB%8B%A4%EC%96%91%ED%95%9C%20%ED%98%95%EC%8B%9D%EC%9D%98%20%ED%8C%8C%EC%9D%BC%20%EB%8B%A4%EB%A3%A8%EA%B8%B0.ipynb#W4sZmlsZQ%3D%3D?line=2'>3</a>\u001b[0m result \u001b[39m=\u001b[39m []\n\u001b[1;32m----> <a href='vscode-notebook-cell:/c%3A/Users/User/Quick_Ref/Programming/Python/Python%20%EC%A4%91%EA%B8%89/%28%EB%B0%95%EC%9D%91%EC%9A%A9%29%20%EC%A0%90%ED%94%84%ED%88%AC%ED%8C%8C%EC%9D%B4%EC%8D%AC_%EB%9D%BC%EC%9D%B4%EB%B8%8C%EB%9F%AC%EB%A6%AC%20%EC%98%88%EC%A0%9C%20%ED%8E%B8/09.%20%EB%8B%A4%EC%96%91%ED%95%9C%20%ED%98%95%EC%8B%9D%EC%9D%98%20%ED%8C%8C%EC%9D%BC%20%EB%8B%A4%EB%A3%A8%EA%B8%B0.ipynb#W4sZmlsZQ%3D%3D?line=3'>4</a>\u001b[0m \u001b[39mwith\u001b[39;00m \u001b[39mopen\u001b[39;49m(\u001b[39m'\u001b[39;49m\u001b[39m./score.csv\u001b[39;49m\u001b[39m'\u001b[39;49m, \u001b[39m'\u001b[39;49m\u001b[39mrt\u001b[39;49m\u001b[39m'\u001b[39;49m, encoding\u001b[39m=\u001b[39;49m\u001b[39m'\u001b[39;49m\u001b[39meuc-kr\u001b[39;49m\u001b[39m'\u001b[39;49m) \u001b[39mas\u001b[39;00m f:\n\u001b[0;32m      <a href='vscode-notebook-cell:/c%3A/Users/User/Quick_Ref/Programming/Python/Python%20%EC%A4%91%EA%B8%89/%28%EB%B0%95%EC%9D%91%EC%9A%A9%29%20%EC%A0%90%ED%94%84%ED%88%AC%ED%8C%8C%EC%9D%B4%EC%8D%AC_%EB%9D%BC%EC%9D%B4%EB%B8%8C%EB%9F%AC%EB%A6%AC%20%EC%98%88%EC%A0%9C%20%ED%8E%B8/09.%20%EB%8B%A4%EC%96%91%ED%95%9C%20%ED%98%95%EC%8B%9D%EC%9D%98%20%ED%8C%8C%EC%9D%BC%20%EB%8B%A4%EB%A3%A8%EA%B8%B0.ipynb#W4sZmlsZQ%3D%3D?line=4'>5</a>\u001b[0m     lines \u001b[39m=\u001b[39m csv\u001b[39m.\u001b[39mreader(f)\n\u001b[0;32m      <a href='vscode-notebook-cell:/c%3A/Users/User/Quick_Ref/Programming/Python/Python%20%EC%A4%91%EA%B8%89/%28%EB%B0%95%EC%9D%91%EC%9A%A9%29%20%EC%A0%90%ED%94%84%ED%88%AC%ED%8C%8C%EC%9D%B4%EC%8D%AC_%EB%9D%BC%EC%9D%B4%EB%B8%8C%EB%9F%AC%EB%A6%AC%20%EC%98%88%EC%A0%9C%20%ED%8E%B8/09.%20%EB%8B%A4%EC%96%91%ED%95%9C%20%ED%98%95%EC%8B%9D%EC%9D%98%20%ED%8C%8C%EC%9D%BC%20%EB%8B%A4%EB%A3%A8%EA%B8%B0.ipynb#W4sZmlsZQ%3D%3D?line=5'>6</a>\u001b[0m     \u001b[39mfor\u001b[39;00m line \u001b[39min\u001b[39;00m lines:\n",
      "\u001b[1;31mFileNotFoundError\u001b[0m: [Errno 2] No such file or directory: './score.csv'"
     ]
    }
   ],
   "source": [
    "import csv\n",
    "\n",
    "result = []\n",
    "with open('./score.csv', 'rt') as f:\n",
    "    lines = csv.reader(f)\n",
    "    for line in lines:\n",
    "        average = sum(map(int, line[1].split(','))) // 2\n",
    "        line.append(average)\n",
    "        result.append(line)\n",
    "print(result)      \n",
    "\n",
    "with open('score_result.csv', 'wt', newline='') as f:\n",
    "    writer = csv.writer(f)\n",
    "    writer.writerows(result)\n"
   ]
  },
  {
   "cell_type": "code",
   "execution_count": null,
   "metadata": {},
   "outputs": [],
   "source": [
    "# 풀이\n",
    "# 이 score.csv 파일에서는 80,55처럼 데이터 안에 쉼표가 포함되므로 구분자인 쉼표를 기준으로 나누어 데이터를 추출하는 방법은 사용할 수 없다.\n",
    "\n",
    "# 알아두면 좋아요\n",
    "\n",
    "# CSV 파일과 콤마(,)의 위험성\n",
    "# 엑셀로 작성한 score.csv 파일의 내용을 type 명령어로 확인해 보면 다음과 같다.\n",
    "\n",
    "# c:\\projects\\pylib>type score.csv\n",
    "# 1,\"80,55\",홍길동\n",
    "# 2,\"90,77\",김철수\n",
    "# 3,\"88,66\",박희수\n",
    "\n",
    "# score.csv 파일의 칼럼은 쉼표(,)로 구분되고 또 80,55와 같은 점수 칼럼에도 쉼표가 있다. 따라서 CSV 파일을 일반 파일처럼 읽어 쉼표를 기준으로 나누는 방법(split(','))은 위험하다.\n",
    "\n",
    "# 따라서 CSV 파일을 처리할 때는 다음처럼 csv 모듈을 사용하는 것이 가장 좋다.\n",
    "\n",
    "# [파일명: csv_sample.py]\n",
    "\n",
    "# import csv\n",
    "\n",
    "# result = []\n",
    "# with open('score.csv', 'r', encoding='euc-kr') as f:\n",
    "#     reader = csv.reader(f)\n",
    "#     for line in reader:\n",
    "#         average = sum(map(int, line[1].split(','))) / 2\n",
    "#         line.append(average)\n",
    "#         result.append(line)\n",
    "\n",
    "# with open('score_result.csv', 'w', newline='') as f:\n",
    "#     writer = csv.writer(f)\n",
    "#     writer.writerows(result)\n",
    "\n",
    "# 만약 score.csv 파일을 UTF-8 형태로 저장했다면 encoding='euc-kr' 대신 encoding='utf-8'을 사용해야 한다. \n",
    "# 마이크로소프트 엑셀은 CVS 파일을 기본적으로 euc-kr로 인코딩하여 저장한다.\n",
    "\n",
    "# CSV 파일을 읽을 때는 csv.reader()를 사용한다. 점수는 두 번째 칼럼이므로 line[1]에 해당한다. 이와 함께 점수는 쉼표로 나눈 문자열이므로 average = sum(map(int, line[1].split(',')))/2처럼 쉼표로 나누고 정수로 바꾼 후에 평균값을 계산했다. reader()로 읽은 line은 리스트 자료형이므로 append()로 평균값(average)을 4번째 항목에 추가했다.\n",
    "\n",
    "# 마찬가지로 CSV 파일을 작성하려면 csv.writer()를 사용한다. 이것으로 만든 writer 객체에 writerows() 함수를 사용하면 전체 데이터를 파일에 저장할 수 있다. 여기서 사용한 newline=''은 윈도우 시스템에서 csv.writer()로 데이터를 쓸 때 각 줄의 마지막에 줄 바꿈 문자가 추가되는 문제를 방지하기 위해서이다. 이 프로그램을 실행하면 네 번째 칼럼에 평균을 추가한 score_result.csv 파일이 정상적으로 생성되었음을 확인할 수 있을 것이다.\n",
    "\n",
    "# 참고\n",
    "# csv - CSV 파일 읽기와 쓰기: https://docs.python.org/ko/3/library/csv.html\n",
    "# 동영상 - https://youtube.com/shorts/0FPVSLieUVA?feature=share"
   ]
  },
  {
   "cell_type": "code",
   "execution_count": 75,
   "metadata": {},
   "outputs": [
    {
     "name": "stdout",
     "output_type": "stream",
     "text": [
      "[['1', '80,55', '홍길동', 67.5], ['2', '90,77', '김철수', 83.5], ['3', '88,66', '박희수', 77.0]]\n"
     ]
    }
   ],
   "source": [
    "# import csv\n",
    "\n",
    "# result = []\n",
    "# with open('score.csv', 'r', encoding='euc-kr') as f:\n",
    "#     reader = csv.reader(f)\n",
    "#     for line in reader:\n",
    "#         average = sum(map(int, line[1].split(','))) / 2\n",
    "#         line.append(average)\n",
    "#         result.append(line)\n",
    "\n",
    "# with open('score_result.csv', 'w', newline='') as f:\n",
    "#     writer = csv.writer(f)\n",
    "#     writer.writerows(result)\n",
    "\n",
    "import csv\n",
    "\n",
    "result = []\n",
    "with open('./score.csv', 'rt') as f:\n",
    "    lines = csv.reader(f)\n",
    "    for line in lines:\n",
    "        average = sum(map(int, line[1].split(',')))/2\n",
    "        line.append(average)\n",
    "        result.append(line)\n",
    "    print(result)\n",
    "\n",
    "with open('./score_result.csv', 'wt', newline='') as f:\n",
    "    csv_writer = csv.writer(f)\n",
    "    csv_writer.writerows(result)\n"
   ]
  },
  {
   "cell_type": "markdown",
   "metadata": {},
   "source": [
    "## 055 설정 파일(.ini)에서 정보를 읽으려면? ― configparser"
   ]
  },
  {
   "cell_type": "code",
   "execution_count": null,
   "metadata": {},
   "outputs": [],
   "source": [
    "# 055 설정 파일에서 정보를 읽으려면? ― configparser\n",
    "\n",
    "# ini 파일은 프로그램 정보를 저장하는 텍스트 문서로, [섹션]과 그 섹션에 해당하는 키 = 값으로 구성된다. \n",
    "# configparser는 이러한 형식의 ini 파일을 처리할 때 사용하는 모듈이다.\n",
    "\n",
    "# 문제\n",
    "# 다음과 같이 FTP 서버 관련 설정을 저장한 ftp.ini 파일에서 FTP2 섹션의 포트(PORT) 정보를 알고자 한다. 어떻게 프로그램을 만들어야 할까?\n",
    "\n",
    "# [파일명: ftp.ini]\n",
    "\n",
    "# [FTP1]\n",
    "# SERVER_IP = 111.23.56.78\n",
    "# PORT = 21\n",
    "# USERNAME = foo\n",
    "# PASSWORD = bar\n",
    "\n",
    "# [FTP2]\n",
    "# SERVER_IP = 111.23.56.79\n",
    "# PORT = 22221\n",
    "# USERNAME = admin\n",
    "# PASSWORD = hello"
   ]
  },
  {
   "cell_type": "code",
   "execution_count": null,
   "metadata": {},
   "outputs": [],
   "source": [
    "\n",
    "# 풀이\n",
    "\n",
    "# 설정 정보를 담은 ini 파일을 분석하려면 configparser 모듈을 사용하면 된다.\n",
    "\n",
    "# >>> import configparser\n",
    "# 먼저 다음처럼 configparser.ConfigParser 클래스의 객체 config를 생성한다.\n",
    "\n",
    "# >>> config = configparser.ConfigParser()\n",
    "# 그런 다음, config 객체의 read() 함수로 ftp.ini 파일을 읽는다.\n",
    "\n",
    "# >>> config.read('ftp.ini')\n",
    "# ['ftp.ini']\n",
    "# 그러면 config[섹션][키] 형식으로 해당 섹션의 키값을 얻을 수 있다.\n",
    "\n",
    "# >>> config['FTP2']['PORT']\n",
    "# '22221'\n",
    "# 지금까지의 내용을 종합한 문제 풀이는 다음과 같다.\n",
    "\n",
    "# [파일명: configparser_sample.py]\n",
    "\n",
    "# import configparser\n",
    "\n",
    "# config = configparser.ConfigParser()\n",
    "# config.read('ftp.ini')\n",
    "# ftp2_port = config['FTP2']['PORT']\n",
    "\n",
    "# print(ftp2_port)  # 22221 출력\n",
    "\n",
    "# 참고\n",
    "# INI 파일(위키백과)\n",
    "# configparser - 구성 파일 구문 분석기: https://docs.python.org/ko/3/library/configparser.html\n",
    "# 동영상 - https://youtube.com/shorts/bhhMl14ozlY?feature=share\n"
   ]
  },
  {
   "cell_type": "code",
   "execution_count": 79,
   "metadata": {},
   "outputs": [
    {
     "data": {
      "text/plain": [
       "'22221'"
      ]
     },
     "execution_count": 79,
     "metadata": {},
     "output_type": "execute_result"
    }
   ],
   "source": [
    "import configparser\n",
    "\n",
    "config = configparser.ConfigParser()\n",
    "config.read('./ftp.ini')\n",
    "config['FTP2']['PORT']\n",
    "\n"
   ]
  }
 ],
 "metadata": {
  "kernelspec": {
   "display_name": "Python 3.9.12 ('base')",
   "language": "python",
   "name": "python3"
  },
  "language_info": {
   "codemirror_mode": {
    "name": "ipython",
    "version": 3
   },
   "file_extension": ".py",
   "mimetype": "text/x-python",
   "name": "python",
   "nbconvert_exporter": "python",
   "pygments_lexer": "ipython3",
   "version": "3.9.12"
  },
  "orig_nbformat": 4,
  "vscode": {
   "interpreter": {
    "hash": "f08154012ddadd8e950e6e9e035c7a7b32c136e7647e9b7c77e02eb723a8bedb"
   }
  }
 },
 "nbformat": 4,
 "nbformat_minor": 2
}
