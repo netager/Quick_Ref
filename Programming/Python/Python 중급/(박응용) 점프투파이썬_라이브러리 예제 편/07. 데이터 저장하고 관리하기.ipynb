{
 "cells": [
  {
   "cell_type": "code",
   "execution_count": null,
   "metadata": {},
   "outputs": [],
   "source": [
    "# 07장 데이터 저장하고 관리하기\n",
    "# ---------------------------\n",
    "# 프로그램은 데이터를 입력 받아 처리한 후 그 결과를 다시 데이터에 저장한다. \n",
    "# 이번 장에서는 이러한 데이터를 처리하고 관리하는 데 사용하는 모듈을 알아본다."
   ]
  },
  {
   "attachments": {},
   "cell_type": "markdown",
   "metadata": {},
   "source": [
    "## 044 객체를 파일로 저장하고 불러오려면? ― pickle"
   ]
  },
  {
   "cell_type": "code",
   "execution_count": null,
   "metadata": {},
   "outputs": [],
   "source": [
    "# 044 객체를 파일로 저장하고 불러오려면? ― pickle\n",
    "# ---------------------------------------------\n",
    "# pickle은 파이썬에서 사용하는 딕셔너리, 리스트, 클래스 등의 자료형을 변환 없이 그대로 파일로 저장하고 이를 불러올 때 사용하는 모듈이다.\n",
    "\n",
    "# 문제\n",
    "# ----\n",
    "# 블로그 프로그램을 개발하고자 한다. 그 첫 단계로, 다음처럼 no(번호), subject(제목), content(내용)에 해당하는 3개의 인수를 받아 \n",
    "# 파일로 저장하는 함수 add_data()를 만들려면 어떻게 해야 할까? \n",
    "# 단, 한번 저장한 데이터는 영구적으로 사용할 수 있어야 하고 중복 번호는 저장할 수 없다.\n",
    "\n",
    "# add_data(no, subject, content)  # no:번호, subject:제목, content:내용\n",
    "# 이와 함께 다음처럼 번호로 데이터를 조회하는 함수 get_data()는 어떻게 작성할까?\n",
    "\n",
    "# data = get_data(no)\n",
    "# print(data['no'])  # 번호 출력\n",
    "# print(data['subject'])  # 제목 출력\n",
    "# print(data['content'])  # 내용 출력\n"
   ]
  },
  {
   "cell_type": "code",
   "execution_count": 8,
   "metadata": {},
   "outputs": [
    {
     "name": "stdout",
     "output_type": "stream",
     "text": [
      "Bd:  1\n",
      "add_data:  1\n",
      "ddddd:  1\n",
      "ddddd:  1\n",
      "ddddd:  1\n",
      "ddddd:  1\n",
      "ddddd:  1\n",
      "ddddd:  1\n",
      "ddddd:  1\n",
      "ddddd:  1\n",
      "ddddd:  1\n",
      "1 안녕 피클 피클은 매우 간단합니다.\n",
      "1 안녕 피클 피클은 매우 간단합니다.\n",
      "1 안녕 피클 피클은 매우 간단합니다.\n",
      "1 안녕 피클 피클은 매우 간단합니다.\n",
      "1 안녕 피클 피클은 매우 간단합니다.\n",
      "1 안녕 피클 피클은 매우 간단합니다.\n",
      "1 안녕 피클 피클은 매우 간단합니다.\n",
      "1 안녕 피클 피클은 매우 간단합니다.\n",
      "1 안녕 피클 피클은 매우 간단합니다.\n",
      "1 안녕 피클 피클은 매우 간단합니다.\n"
     ]
    }
   ],
   "source": [
    "# 나중에 완성시켜줘 netager 야~\n",
    "class Bdata:\n",
    "    def __init__(self, no, subject, content):\n",
    "        self.no = no\n",
    "        self.subject = subject\n",
    "        self.content = content\n",
    "\n",
    "    def __str__(self):\n",
    "        return str(self.no)\n",
    "            \n",
    "    def add_data(self, no, subject, content):\n",
    "        self.no = no\n",
    "        self.subject = subject\n",
    "        self.content = content\n",
    "\n",
    "    def get_data(self):\n",
    "        return self.no, self.subject, self.content \n",
    "\n",
    "\n",
    "import pickle\n",
    "\n",
    "class SaveLoad:\n",
    "    # def __init__(self, Bdata):\n",
    "    #     self.Bdata = Bdata\n",
    "    \n",
    "    def get_all_data(self):\n",
    "        try:\n",
    "            with open('./save.p', 'rb') as f:\n",
    "                return pickle.load(f)\n",
    "        except FileNotFoundError as e:\n",
    "            return []\n",
    "        \n",
    "        \n",
    "    def add_data(self, Bdata):\n",
    "        data = self.get_all_data()\n",
    "        print('add_data: ', Bdata)\n",
    "        for d in data:\n",
    "            print('ddddd: ', d)\n",
    "        assert Bdata not in data\n",
    "        if Bdata not in data:\n",
    "            data.append(Bdata)\n",
    "        else:\n",
    "            print('동일해')\n",
    "        with open('./save.p', 'wb') as f:\n",
    "            pickle.dump(data, f)\n",
    "    \n",
    "    def get_data(self, no):\n",
    "        data = self.get_all_data()\n",
    "        for d in data:\n",
    "            d.no = no\n",
    "            return d\n",
    "        \n",
    "Bd = Bdata(1, '안녕 피클', '피클은 매우 간단합니다.')\n",
    "print('Bd: ', Bd)\n",
    "sl = SaveLoad()\n",
    "sl.add_data(Bd)\n",
    "aa = sl.get_all_data()\n",
    "for a in aa:\n",
    "    print(a.no, a.subject, a.content)\n"
   ]
  },
  {
   "cell_type": "code",
   "execution_count": null,
   "metadata": {},
   "outputs": [],
   "source": [
    "        \n",
    "def get_data(no):\n",
    "    data = get_all_data()\n",
    "    return data[no]"
   ]
  },
  {
   "cell_type": "code",
   "execution_count": null,
   "metadata": {},
   "outputs": [],
   "source": [
    "# 풀이\n",
    "# ----\n",
    "# 단순한 텍스트를 저장하는 것이 아니라 이렇게 규칙이 있는 데이터를 파일로 저장할 때는 데이터 형식을 유지할 수 있어야 한다. \n",
    "# 파이썬에서 형식을 유지하면서 데이터를 저장하는 가장 쉬운 방법은 pickle 모듈을 사용하는 것이다.\n",
    "\n",
    "# >>> import pickle\n",
    "# 먼저 pickle을 이용하여 파일로 저장할 데이터를 생성하자.\n",
    "\n",
    "# >>> data = {}\n",
    "# >>> data[1] = {'no': 1, 'subject': '안녕 피클', 'content': '피클은 매우 간단합니다.'}\n",
    "# 피클 파일로 저장할 data 딕셔너리를 생성했다. data는 키(key)에는 번호, 값(value)에는 또다시 번호, 제목, 내용 항목을 갖춘 딕셔너리를 대입한 딕셔너리이다.\n",
    "\n",
    "# 생성한 딕셔너리를 피클 파일 data.p로 저장하는 방법은 다음과 같다.\n",
    "\n",
    "# >>> with open('data.p', 'wb') as f:\n",
    "# ...     pickle.dump(data, f)\n",
    "# ...\n",
    "# >>>\n",
    "# pickle.dump(data, f)는 data.p라는 파일에 data를 저장한다. \n",
    "# 이때 저장하는 데이터는 바이너리이므로 'wb' 형태의 쓰기 모드를 지정해야 한다. \n",
    "# 저장한 피클 파일을 type 명령으로 읽어 보면 다음과 비슷하게 표시될 것이다.\n",
    "\n",
    "# c:\\projects\\pylib>type data.p\n",
    "# ?덈뀞 ?쇳겢뵆content뵆!?쇳겢? 留ㅼ슦 媛꾨떒???봴s.\n",
    "# \n",
    "# 피클 데이터는 바이너리 데이터이므로 눈으로 읽어서는 그 내용을 알 수 없다. 그러므로 저장한 피클 파일(data.p)은 다음과 같이 불러서 사용한다.\n",
    "\n",
    "# >>> import pickle\n",
    "# >>> with open(\"data.p\", 'rb') as f:\n",
    "# ...     data = pickle.load(f)\n",
    "# ...\n",
    "# >>> data\n",
    "# {1: {'no': 1, 'subject': '안녕 피클', 'content': '피클은 매우 간단합니다.'}}\n",
    "\n",
    "# pickle.load(f)는 data.p 파일의 데이터를 읽어서 원래 자료형으로 반환한다. 이때 파일에 저장한 피클 데이터는 바이너리이므로 'rb' 형태의 읽기 모드를 지정해야 한다. 앞의 예에서 보듯이 저장할 때의 딕셔너리 데이터를 그대로 읽어서 사용할 수 있음을 알 수 있다.\n"
   ]
  },
  {
   "cell_type": "code",
   "execution_count": 3,
   "metadata": {},
   "outputs": [],
   "source": [
    "import pickle\n",
    "\n",
    "data = {}\n",
    "data[1] = {'no': 1, 'subject': '안녕 피클1', 'content': '1피클은 매우 간단합니다.'}\n",
    "data[2] = {'no': 2, 'subject': '안녕 피클2', 'content': '2피클은 매우 간단합니다.'}\n",
    "data[3] = {'no': 3, 'subject': '안녕 피클3', 'content': '3피클은 매우 간단합니다.'}\n",
    "\n",
    "with open('data.p', 'wb') as f:\n",
    "    pickle.dump(data, f)"
   ]
  },
  {
   "cell_type": "code",
   "execution_count": 10,
   "metadata": {},
   "outputs": [
    {
     "name": "stdout",
     "output_type": "stream",
     "text": [
      "{1: {'no': 1, 'subject': '안녕 피클1', 'content': '1피클은 매우 간단합니다.'}, 2: {'no': 2, 'subject': '안녕 피클2', 'content': '2피클은 매우 간단합니다.'}, 3: {'no': 3, 'subject': '안녕 피클3', 'content': '3피클은 매우 간단합니다.'}}\n"
     ]
    },
    {
     "data": {
      "text/plain": [
       "False"
      ]
     },
     "execution_count": 10,
     "metadata": {},
     "output_type": "execute_result"
    }
   ],
   "source": [
    "import pickle\n",
    "\n",
    "with open('./data.p', 'rb') as f:\n",
    "    data = pickle.load(f)\n",
    "\n",
    "print(data)\n",
    "4 in data"
   ]
  },
  {
   "cell_type": "code",
   "execution_count": null,
   "metadata": {},
   "outputs": [],
   "source": [
    "\n",
    "# 다음은 지금까지의 내용을 종합한 풀이이다.\n",
    "\n",
    "# [파일명: pickle_sample.py]\n",
    "\n",
    "# import pickle\n",
    "\n",
    "\n",
    "# def get_all_data():\n",
    "#     try:\n",
    "#         with open(\"data.p\", 'rb') as f: \n",
    "#             return pickle.load(f)\n",
    "#     except FileNotFoundError:\n",
    "#         return {}\n",
    "\n",
    "\n",
    "# def add_data(no, subject, content):\n",
    "#     data = get_all_data()\n",
    "#     assert no not in data\n",
    "#     data[no] = {'no': no, 'subject': subject, 'content': content}\n",
    "#     with open('data.p', 'wb') as f:\n",
    "#         pickle.dump(data, f)\n",
    "\n",
    "\n",
    "# def get_data(no):\n",
    "#     data = get_all_data()\n",
    "#     return data[no]\n",
    "\n",
    "\n",
    "# # 데이터저장\n",
    "# add_data(1, '안녕 피클', '피클은 매우 간단합니다.')\n",
    "\n",
    "# # 데이터조회\n",
    "# data = get_data(1)\n",
    "# print(data['no'])\n",
    "# print(data['subject'])\n",
    "# print(data['content'])\n",
    "# 이 코드의 실행 결과는 다음과 같다.\n",
    "\n",
    "# c:\\projects\\pylib>python pickle_sample.py\n",
    "# 1\n",
    "# 안녕 피클\n",
    "# 피클은 매우 간단합니다.\n",
    "\n",
    "# 데이터를 저장하기 전에 이미 저장된 데이터를 먼저 읽어야 하므로 add_data() 함수에는 get_all_data() 함수가 필요하다. \n",
    "# get_all_data() 함수는 pickle로 저장한 파일을 읽는 역할을 한다. 아직 파일이 없다면 빈 딕셔너리를 반환한다.\n",
    "\n",
    "# add_data() 함수는 번호(no)가 기존 데이터에 있는지를 assert로 체크하여 중복을 방지한다. \n",
    "# 저장한 내용과 같은 번호로 add_data() 함수를 호출한다면 assert에 의해 AssertionError 오류가 발생한다. \n",
    "# 중복이 아니라면 get_all_data()로 얻은 딕셔너리에 1건을 추가한 뒤 이를 data.p 파일로 저장한다.\n",
    "\n",
    "# assert no not in data 문장을 제거하면 해당 번호의 데이터가 새로운 데이터로 업데이트된다.\n",
    "\n",
    "# get_data() 함수는 전체 데이터를 읽은 후 해당 번호에 해당하는 딕셔너리 1건만 반환하는 함수이다.\n",
    "\n",
    "# 참고\n",
    "# pickle - 파이썬 객체 직렬화: https://docs.python.org/ko/3/library/pickle.html"
   ]
  },
  {
   "cell_type": "code",
   "execution_count": 13,
   "metadata": {},
   "outputs": [
    {
     "data": {
      "text/plain": [
       "{'no': 1, 'subject': 'test', 'content': 'test content'}"
      ]
     },
     "execution_count": 13,
     "metadata": {},
     "output_type": "execute_result"
    }
   ],
   "source": [
    "# def get_all_data():\n",
    "#     try:\n",
    "#         with open(\"data.p\", 'rb') as f: \n",
    "#             return pickle.load(f)\n",
    "#     except FileNotFoundError:\n",
    "#         return {}\n",
    "\n",
    "\n",
    "# def add_data(no, subject, content):\n",
    "#     data = get_all_data()\n",
    "#     assert no not in data\n",
    "#     data[no] = {'no': no, 'subject': subject, 'content': content}\n",
    "#     with open('data.p', 'wb') as f:\n",
    "#         pickle.dump(data, f)\n",
    "\n",
    "\n",
    "# def get_data(no):\n",
    "#     data = get_all_data()\n",
    "#     return data[no]\n",
    "\n",
    "\n",
    "import pickle\n",
    "\n",
    "def get_all_data():\n",
    "    try:\n",
    "        with open('data.p', 'rb') as f:\n",
    "            return pickle.load(f)\n",
    "    except FileNotFoundError as e:\n",
    "        return {}\n",
    "\n",
    "def add_data(no, subject, content):\n",
    "    data = get_all_data()\n",
    "    assert no not in data\n",
    "    data[no] = {'no':no, 'subject':subject, 'content':content}\n",
    "    with open('./data.p', 'wb') as f:\n",
    "        pickle.dump(data, f)\n",
    "        \n",
    "def get_data(no):\n",
    "    data = get_all_data()\n",
    "    return data[no]\n",
    "    \n",
    "get_all_data()\n",
    "add_data(3, 'test', 'test content')\n",
    "get_data(1)\n"
   ]
  },
  {
   "attachments": {},
   "cell_type": "markdown",
   "metadata": {},
   "source": [
    "## 045 객체 변경에 따른 오류를 방지하려면? ― copyreg"
   ]
  },
  {
   "cell_type": "code",
   "execution_count": null,
   "metadata": {},
   "outputs": [],
   "source": [
    "# 045 객체 변경에 따른 오류를 방지하려면? ― copyreg\n",
    "# -----------------------------------------------\n",
    "# copyreg는 pickle로 저장한 객체를 불러올 때 객체를 생성하는 함수를 실행하게 해주는 모듈이다.\n",
    "\n",
    "# 참고: 044 객체를 파일로 저장하고 불러오려면? - pickle\n",
    "\n",
    "# 문제\n",
    "# 다음은 pickle을 이용하여 Student 객체를 파일에 저장하는 예제이다.\n",
    "\n",
    "# import pickle\n",
    "\n",
    "\n",
    "# class Student:\n",
    "#     def __init__(self, name, age):\n",
    "#         self.name = name\n",
    "#         self.age = age\n",
    "\n",
    "\n",
    "# a = Student('임철희', 27)\n",
    "\n",
    "# with open('student.p', 'wb') as f:\n",
    "#     pickle.dump(a, f)\n",
    "# 이렇게 저장한 데이터는 다음처럼 pickle.load()로 불러와 사용할 수 있다.\n",
    "\n",
    "# with open('student.p', 'rb') as f:\n",
    "#     student = pickle.load(f)\n",
    "\n",
    "# print(student.name)  # '임철희' 출력\n"
   ]
  },
  {
   "cell_type": "code",
   "execution_count": 9,
   "metadata": {},
   "outputs": [
    {
     "name": "stdout",
     "output_type": "stream",
     "text": [
      "임철희\n"
     ]
    }
   ],
   "source": [
    "import pickle\n",
    "\n",
    "class Student:\n",
    "    def __init__(self, name, age):\n",
    "        self.name = name\n",
    "        self.age = age\n",
    "        \n",
    "a = Student('임철희', 27) \n",
    "\n",
    "with open('student.p', 'wb') as f:\n",
    "    pickle.dump(a, f)\n",
    "    \n",
    "with open('student.p', 'rb') as f:\n",
    "    student = pickle.load(f)\n",
    "\n",
    "print(student.name)"
   ]
  },
  {
   "cell_type": "code",
   "execution_count": null,
   "metadata": {},
   "outputs": [],
   "source": [
    "# 하지만, 이렇게 저장한 Student 객체의 클래스를 다음처럼 변경한다고 가정해 보자.\n",
    "\n",
    "# class Student:\n",
    "#     def __init__(self, name, age):\n",
    "#         self.name = name\n",
    "#         self.age = age\n",
    "#         self.dummy = 'dummy'\n",
    "# __init__ 메서드에 dummy 속성을 추가했다. 이렇게 Student 클래스가 달라지면 속성을 추가한 이후에 저장한 Student 객체는 \n",
    "# 상관이 없지만 속성을 추가하기 전에 저장한 데이터에는 dummy 속성이 없어 문제가 발생한다. \n",
    "# 즉, dummy 속성 없이 저장한 이전의 데이터에서 dummy 속성을 다음과 같이 읽으려고 하면 오류가 발생한다\n",
    "\n",
    "# with open('student.p', 'rb') as f:\n",
    "#     student = pickle.load(f)  # dummy 속성이 생성되기 전에 저장된 pickle데이터를 읽으면\n",
    "\n",
    "# print(student.dummy)  # dummy 속성을 찾을 수 없다는 오류가 발생한다.\n",
    "\n",
    "# 다음은 발생한 오류 내용이다.\n",
    "\n",
    "# AttributeError: 'Student' object has no attribute 'dummy'\n",
    "\n",
    "# 이처럼 pickle을 사용할 때는 이런 오류에 조심해야 한다. 하지만, copyreg 모듈을 사용하면 이런 오류를 방지할 수 있다. \n",
    "# 그러면 오류가 발생하지 않도록 copyreg 모듈을 사용하여 앞의 코드를 수정하려면 어떻게 해야 할까?"
   ]
  },
  {
   "cell_type": "code",
   "execution_count": 6,
   "metadata": {},
   "outputs": [
    {
     "ename": "AttributeError",
     "evalue": "'Student' object has no attribute 'dummy'",
     "output_type": "error",
     "traceback": [
      "\u001b[1;31m---------------------------------------------------------------------------\u001b[0m",
      "\u001b[1;31mAttributeError\u001b[0m                            Traceback (most recent call last)",
      "Cell \u001b[1;32mIn[6], line 13\u001b[0m\n\u001b[0;32m     10\u001b[0m     student \u001b[39m=\u001b[39m pickle\u001b[39m.\u001b[39mload(f)        \n\u001b[0;32m     12\u001b[0m student\u001b[39m.\u001b[39mname, student\u001b[39m.\u001b[39mage\n\u001b[1;32m---> 13\u001b[0m student\u001b[39m.\u001b[39;49mdummy\n",
      "\u001b[1;31mAttributeError\u001b[0m: 'Student' object has no attribute 'dummy'"
     ]
    }
   ],
   "source": [
    "import pickle\n",
    "\n",
    "class Student:\n",
    "    def __init__(self, name, age):\n",
    "        self.name = name\n",
    "        self.age = age\n",
    "        self.dummy = 'dummy'\n",
    "\n",
    "with open('./student.p', 'rb') as f:\n",
    "    student = pickle.load(f)        \n",
    "    \n",
    "student.name, student.age\n",
    "student.dummy"
   ]
  },
  {
   "cell_type": "code",
   "execution_count": null,
   "metadata": {},
   "outputs": [],
   "source": [
    "# 풀이\n",
    "# copyreg 모듈을 사용하면 피클 데이터를 저장(dump)하고 불러올 때(load) 특정 함수를 호출하게 하여 이러한 오류를 방지할 수 있다.\n",
    "\n",
    "# 먼저 copyreg 모듈을 사용하여 다음과 같이 코드를 수정하자.\n",
    "\n",
    "# [파일명: copyreg_sample.py]\n",
    "\n",
    "# import pickle\n",
    "# import copyreg\n",
    "\n",
    "\n",
    "# class Student:\n",
    "#     def __init__(self, name, age):\n",
    "#         self.name = name\n",
    "#         self.age = age\n",
    "\n",
    "\n",
    "# def pickle_student(student):\n",
    "#     kwargs = student.__dict__\n",
    "#     return unpickle_student, (kwargs, )\n",
    "\n",
    "\n",
    "# def unpickle_student(kwargs):\n",
    "#     return Student(**kwargs)\n",
    "\n",
    "\n",
    "# copyreg.pickle(Student, pickle_student)\n",
    "\n",
    "# a = Student('임철희', 27)\n",
    "# with open('student.p', 'wb') as f:\n",
    "#     pickle.dump(a, f)\n",
    "\n",
    "# Student 클래스에는 아직 dummy 속성을 추가하지 않았다. \n",
    "\n",
    "# copyreg.pickle(Student, pickle_student)를 호출하여 Student 클래스와 pickle_student() 함수를 매핑한다. \n",
    "# 이렇게 하면 이제 Student 클래스로 만든 객체 a를 pickle.dump()로 저장하는 순간 pickle_student() 함수가 호출된다. \n",
    "# 이때 pickle_student() 함수의 매개변수 student에는 객체 a가 전달된다. \n",
    "# 그리고 pickle_student() 함수는 pickle.load() 함수 호출 시에 실행할 함수명과 a 객체의 속성을 unpickle_student, (kwargs, )처럼 반환한다. \n",
    "# 이 부분이 매우 오묘한데, 이것은 copyreg의 규칙이므로 호출되는 메커니즘을 잘 이해해야 한다.\n",
    "\n",
    "# 메커니즘을 순서대로 살펴보자.\n",
    "\n",
    "# 먼저 pickle.dump(a, f)처럼 Student의 객체 a가 저장되면 copyreg.pickle(Student, pickle_student)에 의해 등록된 pickle_student() 함수가 실행된다.\n",
    "# pickle_student() 함수는 a 객체의 속성 kwargs를 만들고 unpickle_student() 함수와 속성 kwargs를 반환한다. (이 정보는 피클 파일에 함께 저장된다.)\n",
    "# 그러면 student = pickle.load(f)처럼 피클 데이터를 불러올 때 2단계에서 만든 속성 kwargs를 인수로 unpickle_student() 함수를 실행하여 \n",
    "# Student 객체를 생성하고 반환한다.\n",
    "# 따라서 피클 데이터 저장 시점에 copyreg를 통한 매핑 과정을 진행했다면 이제 Student 클래스에 dummy 속성이 나중에 추가되더라도 \n",
    "# 이전에 저장했던 객체에서 dummy 속성이 누락되지 않는다. \n",
    "# 왜냐하면 저장된 피클 데이터로 객체를 생성하려 할 때 unpickle_student() 함수가 호출되어 Student 객체가 저장된 속성으로 다시 만들어지기 때문이다.\n"
   ]
  },
  {
   "cell_type": "code",
   "execution_count": null,
   "metadata": {},
   "outputs": [],
   "source": [
    "import pickle\n",
    "import copyreg\n",
    "\n",
    "class Student:\n",
    "    def __init__(self, name, age):\n",
    "        self.name = name\n",
    "        self.age = age\n",
    "\n",
    "\n",
    "def pickle_student(student):\n",
    "    kwargs = student.__dict__\n",
    "    print('kwages: ', kwargs)\n",
    "    return unpickle_student, (kwargs, )\n",
    "\n",
    "\n",
    "def unpickle_student(kwargs):\n",
    "    return Student(**kwargs)\n",
    "\n",
    "\n",
    "copyreg.pickle(Student, pickle_student)\n",
    "\n",
    "a = Student('임철희', 27)\n",
    "with open('student.p', 'wb') as f:\n",
    "    pickle.dump(a, f)"
   ]
  },
  {
   "cell_type": "code",
   "execution_count": null,
   "metadata": {},
   "outputs": [],
   "source": [
    "# 다시 만들어질 때는 __init__ 생성자가 호출되어 dummy 속성이 생긴다.\n",
    "\n",
    "# 그러므로 이후부터는 다음과 같이 객체에 새로운 속성을 추가해도 오류가 발생하지 않는다.\n",
    "\n",
    "# [파일명: copyreg_sample.py]\n",
    "\n",
    "# import pickle\n",
    "# import copyreg\n",
    "\n",
    "\n",
    "# class Student:\n",
    "#     def __init__(self, name, age):\n",
    "#         self.name = name\n",
    "#         self.age = age\n",
    "#         self.dummy = 'dummy'  # dummy 속성을 새로 추가!\n",
    "\n",
    "\n",
    "# def pickle_student(student):\n",
    "#     kwargs = student.__dict__\n",
    "#     return unpickle_student, (kwargs, )\n",
    "\n",
    "\n",
    "# def unpickle_student(kwargs):\n",
    "#     return Student(**kwargs)\n",
    "\n",
    "\n",
    "# copyreg.pickle(Student, pickle_student)\n",
    "\n",
    "# with open('student.p', 'rb') as f:\n",
    "#     student = pickle.load(f)  # unpickle_student() 함수를 호출한다.\n",
    "\n",
    "# print(student.dummy)  # 오류가 발생하지 않고 'dummy' 가 출력된다.\n",
    "\n",
    "\n",
    "# 알아두면 좋아요\n",
    "# copyreg 주의사항\n",
    "\n",
    "# copyreg 모듈은 객체를 생성하는 시점에 미리 사용해야 한다. \n",
    "# 만약 copyreg에 의한 등록 과정 없이 객체를 저장했다면 이후에 copyreg로 함수를 등록하더라도 객체를 불러올 때 등록한 함수가 실행되지 않는다.\n",
    "\n",
    "# 참고\n",
    "# copyreg - pickle 지원 함수 등록: https://docs.python.org/ko/3/library/copyreg.html"
   ]
  },
  {
   "cell_type": "code",
   "execution_count": 9,
   "metadata": {},
   "outputs": [],
   "source": [
    "import pickle\n",
    "import copyreg\n",
    "\n",
    "class Student:\n",
    "    def __init__(self, name, age):\n",
    "        self.name = name\n",
    "        self.age = age\n",
    "        self.dummy = 'dummy'\n",
    "\n",
    "def pickle_student(student):\n",
    "    kwages = student.__dict__\n",
    "    return unpickle_student, (kwargs, )\n",
    "\n",
    "def unpickle_student(kwargs):\n",
    "    return Student(**kwargs)\n",
    "\n",
    "copyreg.pickle(Student, pickle_student)\n",
    "\n",
    "with open('./student.p', 'rb') as f:\n",
    "    student = pickle.load(f)            # unpickle_student() 함수 호출"
   ]
  },
  {
   "attachments": {},
   "cell_type": "markdown",
   "metadata": {},
   "source": [
    "## 046 딕셔너리를 파일로 저장하려면? ― shelve"
   ]
  },
  {
   "cell_type": "code",
   "execution_count": null,
   "metadata": {},
   "outputs": [],
   "source": [
    "# 046 딕셔너리를 파일로 저장하려면? ― shelve\n",
    "# ----------------------------------------\n",
    "# shelve는 딕셔너리를 파일로 저장할 때 사용하는 모듈로, 키(key)에 해당하는 값(value)을 저장할 수 있다. \n",
    "# 이때 파이썬의 모든 객체를 값으로 저장할 수 있다.\n",
    "\n",
    "# 문제\n",
    "# ----\n",
    "# 프로그램에서 사용하는 딕셔너리 데이터는 프로그램 종료와 함께 사라진다. \n",
    "# 영구적으로 저장할 수 있도록 딕셔너리 데이터를 파일에 저장하고 다시 이를 불러오는 다음과 같은 형식의 save(), get() 함수를 작성하려면 어떻게 해야 할까?\n",
    "\n",
    "# def save(key, value):\n",
    "#     \"\"\" key에 대응되는 value를 저장한다. \"\"\"\n",
    "#     pass\n",
    "\n",
    "# def get(key):\n",
    "#    \"\"\" key에 저장된 value를 리턴한다. \"\"\"\n",
    "#    pass"
   ]
  },
  {
   "cell_type": "code",
   "execution_count": null,
   "metadata": {},
   "outputs": [],
   "source": [
    "# 풀이\n",
    "# ----\n",
    "# 다음은 shelve 모듈을 이용한 문제 풀이이다.\n",
    "\n",
    "# [파일명: shelve_sample.py]\n",
    "\n",
    "# import shelve\n",
    "\n",
    "\n",
    "# def save(key, value):\n",
    "#     with shelve.open('shelve.dat') as d:\n",
    "#         d[key] = value\n",
    "\n",
    "\n",
    "# def get(key):\n",
    "#     with shelve.open('shelve.dat') as d:\n",
    "#         return d[key]\n",
    "\n",
    "\n",
    "# save('number', [1, 2, 3, 4, 5])\n",
    "# print(get('number'))  # [1, 2, 3, ,4, 5] 출력\n",
    "\n",
    "\n",
    "# shelve 모듈을 사용하여 key, value를 딕셔너리 형태로 파일에 저장하고 불러오는 함수를 작성했다. 이렇게 저장한 데이터는 프로그램을 종료하더라도 파일로 저장했으므로 다시 불러올 수 있다.\n",
    "\n",
    "# 알아두면 좋아요\n",
    "# pickle과 shelve의 차이\n",
    "# shelve는 pickle을 이용하여 작성된 모듈로, pickle의 하위 개념이라 할 수 있다. pickle은 파이썬의 모든 객체를 처리할 수 있지만, shelve는 딕셔너리만 처리하는 모듈이다. 즉, shelve는 키(key)와 값(value)으로 이루어진 딕셔너리 데이터만을 처리한다.\n",
    "\n",
    "# 참고\n",
    "# shelve - 파이썬 객체 지속성: https://docs.python.org/ko/3/library/shelve.html"
   ]
  },
  {
   "cell_type": "code",
   "execution_count": 13,
   "metadata": {},
   "outputs": [
    {
     "ename": "error",
     "evalue": "db type could not be determined",
     "output_type": "error",
     "traceback": [
      "\u001b[1;31m---------------------------------------------------------------------------\u001b[0m",
      "\u001b[1;31merror\u001b[0m                                     Traceback (most recent call last)",
      "Cell \u001b[1;32mIn[13], line 14\u001b[0m\n\u001b[0;32m     10\u001b[0m     \u001b[39mwith\u001b[39;00m shelve\u001b[39m.\u001b[39mopen(\u001b[39m'\u001b[39m\u001b[39mshelve.dat\u001b[39m\u001b[39m'\u001b[39m) \u001b[39mas\u001b[39;00m d:\n\u001b[0;32m     11\u001b[0m         \u001b[39mreturn\u001b[39;00m d[key]\n\u001b[1;32m---> 14\u001b[0m save(\u001b[39m'\u001b[39;49m\u001b[39mnumber\u001b[39;49m\u001b[39m'\u001b[39;49m, [\u001b[39m1\u001b[39;49m, \u001b[39m2\u001b[39;49m, \u001b[39m3\u001b[39;49m, \u001b[39m4\u001b[39;49m, \u001b[39m5\u001b[39;49m])\n\u001b[0;32m     15\u001b[0m \u001b[39mprint\u001b[39m(get(\u001b[39m'\u001b[39m\u001b[39mnumber\u001b[39m\u001b[39m'\u001b[39m))\n",
      "Cell \u001b[1;32mIn[13], line 5\u001b[0m, in \u001b[0;36msave\u001b[1;34m(key, value)\u001b[0m\n\u001b[0;32m      4\u001b[0m \u001b[39mdef\u001b[39;00m \u001b[39msave\u001b[39m(key, value):\n\u001b[1;32m----> 5\u001b[0m     \u001b[39mwith\u001b[39;00m shelve\u001b[39m.\u001b[39;49mopen(\u001b[39m'\u001b[39;49m\u001b[39mshelve.dat\u001b[39;49m\u001b[39m'\u001b[39;49m) \u001b[39mas\u001b[39;00m d:\n\u001b[0;32m      6\u001b[0m         d[key] \u001b[39m=\u001b[39m value\n",
      "File \u001b[1;32mc:\\Users\\USER\\anaconda3\\lib\\shelve.py:243\u001b[0m, in \u001b[0;36mopen\u001b[1;34m(filename, flag, protocol, writeback)\u001b[0m\n\u001b[0;32m    230\u001b[0m \u001b[39mdef\u001b[39;00m \u001b[39mopen\u001b[39m(filename, flag\u001b[39m=\u001b[39m\u001b[39m'\u001b[39m\u001b[39mc\u001b[39m\u001b[39m'\u001b[39m, protocol\u001b[39m=\u001b[39m\u001b[39mNone\u001b[39;00m, writeback\u001b[39m=\u001b[39m\u001b[39mFalse\u001b[39;00m):\n\u001b[0;32m    231\u001b[0m     \u001b[39m\"\"\"Open a persistent dictionary for reading and writing.\u001b[39;00m\n\u001b[0;32m    232\u001b[0m \n\u001b[0;32m    233\u001b[0m \u001b[39m    The filename parameter is the base filename for the underlying\u001b[39;00m\n\u001b[1;32m   (...)\u001b[0m\n\u001b[0;32m    240\u001b[0m \u001b[39m    See the module's __doc__ string for an overview of the interface.\u001b[39;00m\n\u001b[0;32m    241\u001b[0m \u001b[39m    \"\"\"\u001b[39;00m\n\u001b[1;32m--> 243\u001b[0m     \u001b[39mreturn\u001b[39;00m DbfilenameShelf(filename, flag, protocol, writeback)\n",
      "File \u001b[1;32mc:\\Users\\USER\\anaconda3\\lib\\shelve.py:227\u001b[0m, in \u001b[0;36mDbfilenameShelf.__init__\u001b[1;34m(self, filename, flag, protocol, writeback)\u001b[0m\n\u001b[0;32m    225\u001b[0m \u001b[39mdef\u001b[39;00m \u001b[39m__init__\u001b[39m(\u001b[39mself\u001b[39m, filename, flag\u001b[39m=\u001b[39m\u001b[39m'\u001b[39m\u001b[39mc\u001b[39m\u001b[39m'\u001b[39m, protocol\u001b[39m=\u001b[39m\u001b[39mNone\u001b[39;00m, writeback\u001b[39m=\u001b[39m\u001b[39mFalse\u001b[39;00m):\n\u001b[0;32m    226\u001b[0m     \u001b[39mimport\u001b[39;00m \u001b[39mdbm\u001b[39;00m\n\u001b[1;32m--> 227\u001b[0m     Shelf\u001b[39m.\u001b[39m\u001b[39m__init__\u001b[39m(\u001b[39mself\u001b[39m, dbm\u001b[39m.\u001b[39;49mopen(filename, flag), protocol, writeback)\n",
      "File \u001b[1;32mc:\\Users\\USER\\anaconda3\\lib\\dbm\\__init__.py:89\u001b[0m, in \u001b[0;36mopen\u001b[1;34m(file, flag, mode)\u001b[0m\n\u001b[0;32m     85\u001b[0m         \u001b[39mraise\u001b[39;00m error[\u001b[39m0\u001b[39m](\u001b[39m\"\u001b[39m\u001b[39mdb file doesn\u001b[39m\u001b[39m'\u001b[39m\u001b[39mt exist; \u001b[39m\u001b[39m\"\u001b[39m\n\u001b[0;32m     86\u001b[0m                        \u001b[39m\"\u001b[39m\u001b[39muse \u001b[39m\u001b[39m'\u001b[39m\u001b[39mc\u001b[39m\u001b[39m'\u001b[39m\u001b[39m or \u001b[39m\u001b[39m'\u001b[39m\u001b[39mn\u001b[39m\u001b[39m'\u001b[39m\u001b[39m flag to create a new db\u001b[39m\u001b[39m\"\u001b[39m)\n\u001b[0;32m     87\u001b[0m \u001b[39melif\u001b[39;00m result \u001b[39m==\u001b[39m \u001b[39m\"\u001b[39m\u001b[39m\"\u001b[39m:\n\u001b[0;32m     88\u001b[0m     \u001b[39m# db type cannot be determined\u001b[39;00m\n\u001b[1;32m---> 89\u001b[0m     \u001b[39mraise\u001b[39;00m error[\u001b[39m0\u001b[39m](\u001b[39m\"\u001b[39m\u001b[39mdb type could not be determined\u001b[39m\u001b[39m\"\u001b[39m)\n\u001b[0;32m     90\u001b[0m \u001b[39melif\u001b[39;00m result \u001b[39mnot\u001b[39;00m \u001b[39min\u001b[39;00m _modules:\n\u001b[0;32m     91\u001b[0m     \u001b[39mraise\u001b[39;00m error[\u001b[39m0\u001b[39m](\u001b[39m\"\u001b[39m\u001b[39mdb type is \u001b[39m\u001b[39m{0}\u001b[39;00m\u001b[39m, but the module is not \u001b[39m\u001b[39m\"\u001b[39m\n\u001b[0;32m     92\u001b[0m                    \u001b[39m\"\u001b[39m\u001b[39mavailable\u001b[39m\u001b[39m\"\u001b[39m\u001b[39m.\u001b[39mformat(result))\n",
      "\u001b[1;31merror\u001b[0m: db type could not be determined"
     ]
    }
   ],
   "source": [
    "import shelve\n",
    "\n",
    "\n",
    "def save(key, value):\n",
    "    with shelve.open('shelve.dat') as d:\n",
    "        d[key] = value\n",
    "\n",
    "\n",
    "def get(key):\n",
    "    with shelve.open('shelve.dat') as d:\n",
    "        return d[key]\n",
    "\n",
    "\n",
    "save('number', [1, 2, 3, 4, 5])\n",
    "print(get('number'))  # [1, 2, 3, ,4, 5] 출력\n"
   ]
  },
  {
   "cell_type": "code",
   "execution_count": 12,
   "metadata": {},
   "outputs": [
    {
     "ename": "error",
     "evalue": "db type could not be determined",
     "output_type": "error",
     "traceback": [
      "\u001b[1;31m---------------------------------------------------------------------------\u001b[0m",
      "\u001b[1;31merror\u001b[0m                                     Traceback (most recent call last)",
      "Cell \u001b[1;32mIn[12], line 17\u001b[0m\n\u001b[0;32m     14\u001b[0m     \u001b[39mwith\u001b[39;00m shelve\u001b[39m.\u001b[39mopen(\u001b[39m'\u001b[39m\u001b[39mshelve.dat\u001b[39m\u001b[39m'\u001b[39m) \u001b[39mas\u001b[39;00m f:\n\u001b[0;32m     15\u001b[0m         \u001b[39mreturn\u001b[39;00m f[key]\n\u001b[1;32m---> 17\u001b[0m save(\u001b[39m'\u001b[39;49m\u001b[39mnumber\u001b[39;49m\u001b[39m'\u001b[39;49m, [\u001b[39m1\u001b[39;49m,\u001b[39m2\u001b[39;49m,\u001b[39m3\u001b[39;49m,\u001b[39m4\u001b[39;49m,\u001b[39m5\u001b[39;49m])\n",
      "Cell \u001b[1;32mIn[12], line 10\u001b[0m, in \u001b[0;36msave\u001b[1;34m(key, value)\u001b[0m\n\u001b[0;32m      9\u001b[0m \u001b[39mdef\u001b[39;00m \u001b[39msave\u001b[39m(key, value):\n\u001b[1;32m---> 10\u001b[0m     \u001b[39mwith\u001b[39;00m shelve\u001b[39m.\u001b[39;49mopen(\u001b[39m'\u001b[39;49m\u001b[39mshelve.dat\u001b[39;49m\u001b[39m'\u001b[39;49m) \u001b[39mas\u001b[39;00m f:\n\u001b[0;32m     11\u001b[0m         f[key] \u001b[39m=\u001b[39m value\n",
      "File \u001b[1;32mc:\\Users\\USER\\anaconda3\\lib\\shelve.py:243\u001b[0m, in \u001b[0;36mopen\u001b[1;34m(filename, flag, protocol, writeback)\u001b[0m\n\u001b[0;32m    230\u001b[0m \u001b[39mdef\u001b[39;00m \u001b[39mopen\u001b[39m(filename, flag\u001b[39m=\u001b[39m\u001b[39m'\u001b[39m\u001b[39mc\u001b[39m\u001b[39m'\u001b[39m, protocol\u001b[39m=\u001b[39m\u001b[39mNone\u001b[39;00m, writeback\u001b[39m=\u001b[39m\u001b[39mFalse\u001b[39;00m):\n\u001b[0;32m    231\u001b[0m     \u001b[39m\"\"\"Open a persistent dictionary for reading and writing.\u001b[39;00m\n\u001b[0;32m    232\u001b[0m \n\u001b[0;32m    233\u001b[0m \u001b[39m    The filename parameter is the base filename for the underlying\u001b[39;00m\n\u001b[1;32m   (...)\u001b[0m\n\u001b[0;32m    240\u001b[0m \u001b[39m    See the module's __doc__ string for an overview of the interface.\u001b[39;00m\n\u001b[0;32m    241\u001b[0m \u001b[39m    \"\"\"\u001b[39;00m\n\u001b[1;32m--> 243\u001b[0m     \u001b[39mreturn\u001b[39;00m DbfilenameShelf(filename, flag, protocol, writeback)\n",
      "File \u001b[1;32mc:\\Users\\USER\\anaconda3\\lib\\shelve.py:227\u001b[0m, in \u001b[0;36mDbfilenameShelf.__init__\u001b[1;34m(self, filename, flag, protocol, writeback)\u001b[0m\n\u001b[0;32m    225\u001b[0m \u001b[39mdef\u001b[39;00m \u001b[39m__init__\u001b[39m(\u001b[39mself\u001b[39m, filename, flag\u001b[39m=\u001b[39m\u001b[39m'\u001b[39m\u001b[39mc\u001b[39m\u001b[39m'\u001b[39m, protocol\u001b[39m=\u001b[39m\u001b[39mNone\u001b[39;00m, writeback\u001b[39m=\u001b[39m\u001b[39mFalse\u001b[39;00m):\n\u001b[0;32m    226\u001b[0m     \u001b[39mimport\u001b[39;00m \u001b[39mdbm\u001b[39;00m\n\u001b[1;32m--> 227\u001b[0m     Shelf\u001b[39m.\u001b[39m\u001b[39m__init__\u001b[39m(\u001b[39mself\u001b[39m, dbm\u001b[39m.\u001b[39;49mopen(filename, flag), protocol, writeback)\n",
      "File \u001b[1;32mc:\\Users\\USER\\anaconda3\\lib\\dbm\\__init__.py:89\u001b[0m, in \u001b[0;36mopen\u001b[1;34m(file, flag, mode)\u001b[0m\n\u001b[0;32m     85\u001b[0m         \u001b[39mraise\u001b[39;00m error[\u001b[39m0\u001b[39m](\u001b[39m\"\u001b[39m\u001b[39mdb file doesn\u001b[39m\u001b[39m'\u001b[39m\u001b[39mt exist; \u001b[39m\u001b[39m\"\u001b[39m\n\u001b[0;32m     86\u001b[0m                        \u001b[39m\"\u001b[39m\u001b[39muse \u001b[39m\u001b[39m'\u001b[39m\u001b[39mc\u001b[39m\u001b[39m'\u001b[39m\u001b[39m or \u001b[39m\u001b[39m'\u001b[39m\u001b[39mn\u001b[39m\u001b[39m'\u001b[39m\u001b[39m flag to create a new db\u001b[39m\u001b[39m\"\u001b[39m)\n\u001b[0;32m     87\u001b[0m \u001b[39melif\u001b[39;00m result \u001b[39m==\u001b[39m \u001b[39m\"\u001b[39m\u001b[39m\"\u001b[39m:\n\u001b[0;32m     88\u001b[0m     \u001b[39m# db type cannot be determined\u001b[39;00m\n\u001b[1;32m---> 89\u001b[0m     \u001b[39mraise\u001b[39;00m error[\u001b[39m0\u001b[39m](\u001b[39m\"\u001b[39m\u001b[39mdb type could not be determined\u001b[39m\u001b[39m\"\u001b[39m)\n\u001b[0;32m     90\u001b[0m \u001b[39melif\u001b[39;00m result \u001b[39mnot\u001b[39;00m \u001b[39min\u001b[39;00m _modules:\n\u001b[0;32m     91\u001b[0m     \u001b[39mraise\u001b[39;00m error[\u001b[39m0\u001b[39m](\u001b[39m\"\u001b[39m\u001b[39mdb type is \u001b[39m\u001b[39m{0}\u001b[39;00m\u001b[39m, but the module is not \u001b[39m\u001b[39m\"\u001b[39m\n\u001b[0;32m     92\u001b[0m                    \u001b[39m\"\u001b[39m\u001b[39mavailable\u001b[39m\u001b[39m\"\u001b[39m\u001b[39m.\u001b[39mformat(result))\n",
      "\u001b[1;31merror\u001b[0m: db type could not be determined"
     ]
    }
   ],
   "source": [
    "# 풀이\n",
    "# ----\n",
    "# 다음은 shelve 모듈을 이용한 문제 풀이이다.\n",
    "\n",
    "# [파일명: shelve_sample.py]\n",
    "\n",
    "import shelve\n",
    "\n",
    "def save(key, value):\n",
    "    with shelve.open('shelve.dat') as f:\n",
    "        f[key] = value\n",
    "        \n",
    "def get(key):\n",
    "    with shelve.open('shelve.dat') as f:\n",
    "        return f[key]\n",
    "\n",
    "save('number', [1,2,3,4,5])\n",
    "\n",
    "            "
   ]
  },
  {
   "attachments": {},
   "cell_type": "markdown",
   "metadata": {},
   "source": [
    "## 047 블로그 데이터를 저장하려면? ― sqlite3"
   ]
  },
  {
   "cell_type": "code",
   "execution_count": null,
   "metadata": {},
   "outputs": [],
   "source": [
    "# 047 블로그 데이터를 저장하려면? ― sqlite3\n",
    "# sqlite3은 SQLite 데이터베이스를 사용하는 데 필요한 인터페이스 모듈이다.\n",
    "\n",
    "# 문제\n",
    "# 풀이\n",
    "# SQLite\n",
    "# 데이터베이스 접속하기\n",
    "# 테이블 생성하기\n",
    "# 데이터 입력하기\n",
    "# 데이터 조회하기\n",
    "# 데이터 수정과 삭제\n",
    "# 데이터 저장과 취소\n",
    "# 데이터베이스 접속 종료\n",
    "# SQLite 도구\n",
    "# 블로그 데이터 모델\n",
    "# 참고\n",
    "\n",
    "# 문제\n",
    "# ----\n",
    "# 지금까지 배운 내용을 바탕으로 나만의 블로그 사이트를 만들고자 한다. \n",
    "# 이를 위해서는 쓰기, 읽기 등 여러 가지 기능이 필요한데, \n",
    "# 그러려면 먼저 블로그 데이터를 저장해야 한다. 저장할 블로그의 데이터 형식은 다음 표와 같다.\n",
    "\n",
    "# 항목  \t    데이터타입\t     설명\n",
    "# ----------    ---------       --------\n",
    "# id\t        숫자\t        고유 번호\n",
    "# subject\t    문자열\t        제목\n",
    "# content\t    문자열\t        내용\n",
    "# date\t        문자열\t        작성 일자\n",
    "\n",
    "# 이 블로그 데이터 형식을 참고로 데이터를 저장, 조회, 수정, 삭제하는 함수를 작성하려면 어떻게 해야 할까?\n",
    "\n",
    "# 풀이\n",
    "# ----\n",
    "# 이 문제는 간단히 pickle로 해결할 수도 있다. pickle을 이용한 데이터 저장이 편리하기는 하지만, 몇 가지 단점이 있다. \n",
    "# 대표적으로는 객체의 구조가 달라지면 저장한 객체를 불러올 수 없다는 점을 들 수 있다. \n",
    "# 한번 결정한 데이터 구조를 바꿀 수 없다는 것은 이후 블로그 업그레이드를 생각한다면 치명적인 단점이라고 할 수 있다.\n",
    "\n",
    "# 이 단점은 copyreg 모듈을 사용하면 어느 정도는 해결할 수 있다(참고: 045 객체 변경에 따른 오류를 방지하려면? - copyreg).\n",
    "\n",
    "# 이와 함께 데이터를 따로따로 저장하는 것이 아니라 한꺼번에 저장하므로 효율성이 떨어진다. \n",
    "# 만약 1,000건 이상의 블로그 데이터를 저장한다면 1건 추가할 때마다 1,000건의 기존 데이터도 항상 함께 저장해야 한다.\n",
    "\n",
    "# 이러한 단점을 해결하려면 결국 데이터베이스를 사용해야 한다."
   ]
  },
  {
   "cell_type": "code",
   "execution_count": null,
   "metadata": {},
   "outputs": [],
   "source": [
    "# SQLite\n",
    "# ------\n",
    "\n",
    "# 여기서는 데이터베이스를 이용하여 이 문제를 해결해 보자. \n",
    "# 여기서는 파이썬에서 사용할 수 있는 데이터베이스 중 가장 간단한 SQLite를 사용할 것이다.\n",
    "\n",
    "# SQLite는 '에스큐엘라이트' 또는 '시퀄라이트'라 읽는다.\n",
    "\n",
    "# SQLite는 주로 개발용이나 소규모 프로젝트에서 사용하는 파일 기반의 가벼운 데이터베이스이다. \n",
    "# 개발 시에는 SQLite를 사용하여 빠르게 개발하고 실제 운영 시스템에서는 좀 더 규모 있는 데이터베이스를 사용하는 것이 일반적인 개발 패턴이다.\n",
    "\n",
    "# 파이썬은 데이터베이스를 다루는 데 필요한 표준 API를 제공하므로 이렇게 개발 시와 운영 시에 다른 데이터베이스를 사용할 수 있다.\n",
    "\n",
    "# 자, 이제 SQLite를 사용해 보자. \n",
    "# 한 가지 기쁜 사실은 파이썬 설치 시 SQLite도 함께 설치된다는 점이다. \n",
    "# 즉, SQLite를 사용하고자 추가로 진행할 과정은 없다."
   ]
  },
  {
   "cell_type": "code",
   "execution_count": null,
   "metadata": {},
   "outputs": [],
   "source": [
    "# 데이터베이스 접속하기\n",
    "# -------------------\n",
    "# 먼저 다음과 같은 명령을 실행해 보자.\n",
    "\n",
    "# >>> import sqlite3\n",
    "# >>> conn = sqlite3.connect('blog.db')\n",
    "\n",
    "# sqlite3 모듈의 connect() 메서드를 이용하면 데이터베이스를 핸들링할 수 있는 conn 객체(connection object)를 얻을 수 있다. \n",
    "# 이때 인수로 지정한 'blog.db'는 데이터를 저장할 데이터베이스 파일 이름이다."
   ]
  },
  {
   "cell_type": "code",
   "execution_count": 14,
   "metadata": {},
   "outputs": [],
   "source": [
    "import sqlite3\n",
    "\n",
    "conn = sqlite3.connect('blog.db')"
   ]
  },
  {
   "cell_type": "code",
   "execution_count": null,
   "metadata": {},
   "outputs": [],
   "source": [
    "# 테이블 생성하기\n",
    "# --------------\n",
    "# 이번에는 데이터베이스 데이터를 저장하는 공간인 테이블을 생성해 보자.\n",
    "\n",
    "# 이곳에서는 데이터베이스의 기초 내용인 테이블, 쿼리 등에 대해서 따로 설명하지는 않는다. \n",
    "# 데이터베이스 관련 기초 지식이 없다면 다음 내용이 조금 어려울 수도 있다.\n",
    "\n",
    "# >>> c = conn.cursor()  # 커서 생성\n",
    "# >>> c.execute('''CREATE TABLE blog (id integer PRIMARY KEY, subject text, content text, date text)''')\n",
    "\n",
    "# 테이블을 생성하려면 CREATE TABLE 테이블명 (...) 과 같은 질의문(쿼리문)을 실행해야 한다. \n",
    "# 이런 쿼리문을 실행하려면 먼저 커서 객체(cursor object)가 필요하다. 커서 객체는 conn 객체를 통해 생성할 수 있다.\n",
    "\n",
    "# 쿼리문은 커서 객체의 execute() 함수를 호출하여 실행한다. 이 쿼리문을 실행하면 다음과 같은 구조의 blog 테이블을 생성한다.\n",
    "\n",
    "# 칼럼      이름\t     칼럼 타입\t     설명\n",
    "# id\t    integer\t    고유 번호       (PRIMARY KEY)\n",
    "# subject\ttext\t    제목\n",
    "# content\ttext\t    내용\n",
    "# date\t    text\t    작성일자\n",
    "\n",
    "# 칼럼 타입은 데이터베이스별로 다르다. 예를 들어, 오라클의 문자열은 text가 아닌 varchar 형식의 칼럼 타입을 사용한다. \n",
    "# 그리고 sqlite에서는 칼럼의 길이를 따로 지정하지 않지만, 대부분 데이터베이스에서는 칼럼의 길이도 함께 지정해야 한다.\n",
    "\n",
    "# blog 테이블에는 표처럼 모두 4개의 칼럼이 생성되었다. \n",
    "# 칼럼 타입은 저장되는 데이터의 성격을 의미한다. \n",
    "# text에는 문자열, integer에는 숫자형 자료가 저장된다. \n",
    "# 특별하게 id 칼럼에는 PRIMARY KEY라고 지정했는데, 이 칼럼은 키 역할을 하므로 같은 값은 입력할 수 없다는 뜻이다. \n",
    "# 예를 들어 id에 1이라는 값을 이미 저장했다면 id가 1인 데이터를 중복으로 저장할 수 없다. \n",
    "# 같은 값을 입력하려고 시도한다면 sqlite에서는 다음과 같은 오류가 발생한다.\n",
    "\n",
    "# PRIMARY KEY는 ‘프라이머리 키’라 읽는다.\n",
    "\n",
    "# sqlite3.IntegrityError: UNIQUE constraint failed: blog.id"
   ]
  },
  {
   "cell_type": "code",
   "execution_count": 15,
   "metadata": {},
   "outputs": [
    {
     "data": {
      "text/plain": [
       "<sqlite3.Cursor at 0x2eea7708030>"
      ]
     },
     "execution_count": 15,
     "metadata": {},
     "output_type": "execute_result"
    }
   ],
   "source": [
    "c = conn.cursor()  # 커서 생성\n",
    "c.execute('''CREATE TABLE blog (id integer PRIMARY KEY, subject text, content text, date text)''')"
   ]
  },
  {
   "cell_type": "code",
   "execution_count": null,
   "metadata": {},
   "outputs": [],
   "source": [
    "# 데이터 입력하기\n",
    "# --------------\n",
    "# 이제 테이블을 만들었으니 데이터를 입력해 보자.\n",
    "\n",
    "# >>> c.execute(\"INSERT INTO blog VALUES (1, '첫 번째 블로그', '첫 번째 블로그입니다.', '20190827')\")\n",
    "\n",
    "# 데이터 입력 역시 커서 객체의 execute() 함수를 사용한다. \n",
    "# 데이터 입력 시에는 앞에서 INSERT INTO 테이블명 VALUES (...) 쿼리문을 이용한다. 이렇게 입력하면 테이블에는 다음과 같이 데이터 1건이 저장된다.\n",
    "\n",
    "# id\tsubject\tcontent\tdate\n",
    "# 1\t첫 번째 블로그\t첫 번째 블로그입니다.\t20190827\n",
    "\n",
    "\n",
    "# 다음과 같이 한 건을 더 입력해 보자.\n",
    "\n",
    "# >>> c.execute(\"INSERT INTO blog VALUES (2, '두 번째 블로그', '두 번째 블로그입니다.', '20190827')\")\n",
    "# 이처럼 한 건을 더 입력하면 테이블에는 다음과 같이 모두 2건의 데이터가 저장된다.\n",
    "\n",
    "# id\tsubject\tcontent\tdate\n",
    "# 1\t첫 번째 블로그\t첫 번째 블로그입니다.\t20190827\n",
    "# 2\t두 번째 블로그\t두 번째 블로그입니다.\t20190827\n",
    "# 이렇게 한 건 한 건 데이터가 등록될 때마다 테이블에는 새로운 행(row)이 추가된다. 데이터를 입력할 때는 다음과 같이 변수를 이용하여 값을 전달할 수도 있다.\n",
    "\n",
    "# >>> _id = 3\n",
    "# >>> subject = \"세 번째 블로그\"\n",
    "# >>> content = \"세 번째 블로그입니다.\"\n",
    "# >>> date = \"20190827\"\n",
    "# >>> c.execute(\"INSERT INTO blog VALUES (%d, '%s', '%s', %s)\" % (_id, subject, content, date))\n",
    "\n",
    "# 하지만, 이처럼 쿼리문을 구성하는 것은 보안상 매우 취약하다. \n",
    "# 사용자로부터 입력받은 값이 쿼리문에 그대로 들어가기 때문에 악의적인 입력으로 말미암아 데이터베이스에 위험한 쿼리가 실행될 수 있기 때문이다.\n",
    "\n",
    "# 이런 위험한 쿼리를 'SQL Injection 공격'이라 부른다.\n",
    "\n",
    "# 따라서 다음과 같은 물음표 스타일의 쿼리문을 작성해야 한다.\n",
    "\n",
    "# >>> _id = 4\n",
    "# >>> subject = \"네 번째 블로그\"\n",
    "# >>> content = \"네 번째 블로그입니다.\"\n",
    "# >>> date = \"20190827\"\n",
    "# >>> c.execute(\"INSERT INTO blog VALUES (?, ?, ?, ?)\",  (_id, subject, content, date))\n",
    "\n",
    "# 입력할 부분을 '%s' 대신 물음표(?)로 바꾸고 % 연산자로 데이터를 입력하는 대신 튜플 형태의 데이터를 매개변수로 넘겨야 한다. \n",
    "\n",
    "# 또는 다음과 같이 딕셔너리를 이용한 이름 기반 스타일의 쿼리를 사용해도 된다.\n",
    "\n",
    "# >>> c.execute(\"INSERT INTO blog VALUES (:id, :subject, :content, :date)\", \n",
    "#              {\"id\": 5, \"subject\": \"다섯 번째 블로그\", \"content\": \"다섯 번째 블로그입니다.\", \"date\": \"20190827\"})"
   ]
  },
  {
   "cell_type": "code",
   "execution_count": 16,
   "metadata": {},
   "outputs": [
    {
     "data": {
      "text/plain": [
       "<sqlite3.Cursor at 0x2eea7708030>"
      ]
     },
     "execution_count": 16,
     "metadata": {},
     "output_type": "execute_result"
    }
   ],
   "source": [
    "c.execute(\"INSERT INTO blog VALUES (1, '첫 번째 블로그', '첫 번째 블로그입니다.', '20190827')\")\n",
    "c.execute(\"INSERT INTO blog VALUES (2, '두 번째 블로그', '두 번째 블로그입니다.', '20190827')\")\n",
    "\n",
    "_id = 3\n",
    "subject = \"세 번째 블로그\"\n",
    "content = \"세 번째 블로그입니다.\"\n",
    "date = \"20190827\"\n",
    "c.execute(\"INSERT INTO blog VALUES (%d, '%s', '%s', %s)\" % (_id, subject, content, date))\n",
    "\n",
    "_id = 4\n",
    "subject = \"네 번째 블로그\"\n",
    "content = \"네 번째 블로그입니다.\"\n",
    "date = \"20190827\"\n",
    "c.execute(\"INSERT INTO blog VALUES (?, ?, ?, ?)\",  (_id, subject, content, date))\n",
    "c.execute(\"INSERT INTO blog VALUES (:id, :subject, :content, :date)\", \n",
    "           {\"id\": 5, \"subject\": \"다섯 번째 블로그\", \"content\": \"다섯 번째 블로그입니다.\", \"date\": \"20190827\"})"
   ]
  },
  {
   "cell_type": "code",
   "execution_count": null,
   "metadata": {},
   "outputs": [],
   "source": [
    "# 데이터 조회하기\n",
    "# --------------\n",
    "# 입력이 끝났다면 이제 데이터가 정상적으로 잘 입력되었는지 확인해 보자.\n",
    "\n",
    "# >>> c.execute('SELECT * FROM blog')\n",
    "# >>> all = c.fetchall()\n",
    "# >>> print(all)\n",
    "# 데이터 조회는 SELECT ... FROM 테이블명 ... 형식의 쿼리문을 이용한다. 커서 객체의 fetchall() 메서드를 호출하면 조회 결과를 모두 리스트로 반환한다. 그러면 지금까지 입력했던 데이터가 다음처럼 출력될 것이다.\n",
    "\n",
    "# [(1, '첫 번째 블로그', '첫 번째 블로그입니다.', '20190827'), (2, '두 번째 블로그', '두 번째 블로그입니다.', '20190827'), (3, '세 번째 블로그', '세 번째 블로그입니다.', '20190827'), (4, '네 번째 블로그', '네 번째 블로그입니다.', '20190827'), (5, '다섯 번째 블로그', '다섯 번째 블로그입니다.', '20190827')]\n",
    "# fetchall()은 한 번 수행하면 끝이다. 다시 수행한다면 같은 결과가 반환되는 것이 아니라 빈 리스트를 출력한다. fetchall() 대신 fetchone()을 사용하면 모든 데이터를 가져오는 것이 아니라 한 개의 행만 가져온다.\n",
    "\n",
    "# >>> c.execute('SELECT * FROM blog')\n",
    "# >>> one = c.fetchone()\n",
    "# >>> print(one)\n",
    "# 그러면 한 개의 행을 다음처럼 튜플 형태로 출력한다.\n",
    "\n",
    "# (1, '첫 번째 블로그', '첫 번째 블로그입니다.', '20190827')\n",
    "# fetchone()을 다시 수행하면 그다음 행을 차례대로 반환한다."
   ]
  },
  {
   "cell_type": "code",
   "execution_count": 18,
   "metadata": {},
   "outputs": [
    {
     "name": "stdout",
     "output_type": "stream",
     "text": [
      "[(1, '첫 번째 블로그', '첫 번째 블로그입니다.', '20190827'),\n",
      " (2, '두 번째 블로그', '두 번째 블로그입니다.', '20190827'),\n",
      " (3, '세 번째 블로그', '세 번째 블로그입니다.', '20190827'),\n",
      " (4, '네 번째 블로그', '네 번째 블로그입니다.', '20190827'),\n",
      " (5, '다섯 번째 블로그', '다섯 번째 블로그입니다.', '20190827')]\n"
     ]
    }
   ],
   "source": [
    "import pprint\n",
    "\n",
    "c.execute('SELECT * FROM blog')\n",
    "all = c.fetchall()\n",
    "pprint.pprint(all)"
   ]
  },
  {
   "cell_type": "code",
   "execution_count": null,
   "metadata": {},
   "outputs": [],
   "source": [
    "# 데이터 수정과 삭제\n",
    "# -----------------\n",
    "# 이번에는 저장한 블로그 데이터를 수정해 보자. \n",
    "# 입력한 데이터 중 첫 번째 블로그의 제목을 최초의 블로그로 수정해 보자. \n",
    "# 데이터를 수정하려면 다음처럼 UPDATE 테이블명 SET ... 쿼리문을 사용해야 한다.\n",
    "\n",
    "# >>> c.execute(\"UPDATE blog SET subject='최초의 블로그' WHERE id=1\")\n",
    "\n",
    "# '첫 번째 블로그'에 해당하는 블로그 데이터의 PK(primary key)인 id값은 1이므로 WHERE 구문에 id=1을 지정하여 해당 데이터를 수정한다. \n",
    "# 수정이 끝났다면 이를 조회하여 데이터가 변경되었는지 확인해 보자.\n",
    "\n",
    "# >>> c.execute('SELECT * FROM blog WHERE id=1')\n",
    "# >>> one = c.fetchone()\n",
    "# >>> print(one)\n",
    "# (1, '최초의 블로그', '첫 번째 블로그입니다.', '20190827')\n",
    "\n",
    "# 이번에는 마지막으로 입력한 5번째 블로그 데이터를 삭제하도록 하자. \n",
    "# 데이터를 삭제하려면 다음과 같이 DELETE FROM 테이블명 ... 쿼리문을 사용해야 한다.\n",
    "\n",
    "# >>> c.execute('DELETE FROM blog WHERE id=5')\n",
    "\n",
    "# 수정할 때와 마찬가지로 삭제하려는 데이터의 id값을 이용하여 데이터를 삭제한다. \n",
    "# 이때 WHERE 문을 생략하면 테이블 내의 모든 데이터를 삭제하므로 주의해야 한다.\n",
    "\n",
    "# 실수로 지웠다고 하더라도 너무 걱정할 필요는 없다. \n",
    "# 데이터를 추가, 수정, 삭제하더라도 이전 상태로 되돌릴 수 있는 기능이 있다. 이어지는 설명에서 확인하도록 하자."
   ]
  },
  {
   "cell_type": "code",
   "execution_count": 20,
   "metadata": {},
   "outputs": [
    {
     "name": "stdout",
     "output_type": "stream",
     "text": [
      "(1, '최초의 블로그', '첫 번째 블로그입니다.', '20190827')\n"
     ]
    },
    {
     "data": {
      "text/plain": [
       "<sqlite3.Cursor at 0x2eea7708030>"
      ]
     },
     "execution_count": 20,
     "metadata": {},
     "output_type": "execute_result"
    }
   ],
   "source": [
    "c.execute(\"UPDATE blog SET subject='최초의 블로그' WHERE id=1\")\n",
    "c.execute('SELECT * FROM blog WHERE id=1')\n",
    "one = c.fetchone()\n",
    "print(one)\n",
    "\n",
    "c.execute('DELETE FROM blog WHERE id=5')"
   ]
  },
  {
   "cell_type": "code",
   "execution_count": null,
   "metadata": {},
   "outputs": [],
   "source": [
    "# 데이터 저장과 취소\n",
    "# -----------------\n",
    "# 지금까지 INSERT 쿼리문으로 데이터를 입력했는데, 커밋(commit)을 하지 않고 파이썬 프로그램을 종료하면 입력했던 데이터는 모두 사라지게 된다. \n",
    "# 그러므로 데이터를 완전하게 저장하려면 다음과 같이 컨넥션 객체(connection object)의 commit() 메서드를 호출해야 한다. \n",
    "# 이 메서드는 데이터 저장을 위한 마지막 결정 서명과 같은 역할을 한다.\n",
    "\n",
    "# >>> conn.commit()\n",
    "# 만약 데이터를 입력했음에도 데이터가 사라졌다면 프로그램에서 commit() 메서드를 올바르게 호출했는지 확인해야 한다.\n",
    "\n",
    "# 이번에는 데이터 입력을 취소하는 방법을 알아보자. 취소하려면 다음처럼 컨넥션 객체의 rollback() 메서드를 호출하여 이전 상태로 되돌려야 한다.\n",
    "\n",
    "# >>> conn.rollback()\n",
    "# rollback() 메서드를 호출하면 커밋되기 전의 데이터 변경 사항이 모두 취소된다. 그러나 이미 커밋된 데이터는 rollback()을 호출하더라도 취소할 수 없다.\n",
    "\n",
    "# INSERT 외에 DELETE, UPDATE 등으로 변경한 데이터에 대해서도 commit(), rollback()이 마찬가지로 적용된다."
   ]
  },
  {
   "cell_type": "code",
   "execution_count": 21,
   "metadata": {},
   "outputs": [],
   "source": [
    "conn.commit()\n",
    "conn.commit()"
   ]
  },
  {
   "cell_type": "code",
   "execution_count": null,
   "metadata": {},
   "outputs": [],
   "source": [
    "# 데이터베이스 접속 종료\n",
    "# ---------------------\n",
    "# 데이터베이스 접속을 끝내려면 다음 명령을 실행한다.\n",
    "\n",
    "# >>> conn.close()\n",
    "# 단, close()는 자동으로 commit()을 수행하지 않기 때문에 커밋 없이 close()를 호출하면 변경된 내용이 모두 사라진다는 점에 주의해야 한다."
   ]
  },
  {
   "cell_type": "code",
   "execution_count": 22,
   "metadata": {},
   "outputs": [],
   "source": [
    "conn.close()"
   ]
  },
  {
   "cell_type": "code",
   "execution_count": null,
   "metadata": {},
   "outputs": [],
   "source": [
    "# SQLite 도구\n",
    "# -----------\n",
    "# 지금까지 파이썬을 사용하여 SQLite 데이터베이스 파일을 직접 생성하고 테이블을 만들어 쿼리를 실행했다. \n",
    "# 이번에는 SQLite 데이터를 더 쉽게 관리할 수 있는 도구인 DB Browser for SQLite를 알아보자. \n",
    "# 이 도구를 사용하면 GUI 환경에서 더 편리하게 테이블 생성, 수정, 삭제, 쿼리 실행 등을 수행할 수 있다.\n",
    "\n",
    "# 먼저 다음 URL에서 ‘DB Broswer for SQLite’를 내려받아 설치하자.\n",
    "\n",
    "# https://sqlitebrowser.org/dl/\n",
    "\n",
    "# << 화면 생략 >>\n",
    "\n",
    "# 설치가 끝난 다음 실행하면 다음과 같은 GUI 도구를 볼 수 있다.\n",
    "\n",
    "# [데이터베이스 열기]에서 저장한 blog.db 파일을 선택하면 파이썬으로 작성한 테이블과 입력한 데이터를 볼 수 있다. \n",
    "# 테이블을 수정하거나 데이터를 수정할 때는 파이썬을 사용해도 되지만 이 도구를 사용하는 것이 훨씬 편리하다.\n",
    "\n",
    "# 이제 이 도구를 이용하여 blog 테이블을 수정해 보도록 하자. 앞서 만든 테이블 구조에는 한 가지 불편한 점이 있다. \n",
    "# 그것은 새로운 데이터를 추가할 때 저장된 고유 번호(id)의 중복 방지를 위해 max값을 구한 후 이에 1을 더하여 고유번호를 생성해야만 한다는 점이다. \n",
    "# 이런 번거로움을 줄이려면 SQLite의 자동 증가(auto increment) 기능을 사용하면 된다. 다음처럼 자동 증가 기능을 사용해 보자.\n",
    "\n",
    "\n",
    "# 그림처럼 먼저 blog 테이블을 선택하고 [편집 → 테이블 수정하기]를 클릭한다. 그리고 다음 그림과 같이 수정하고 <확인> 버튼을 누르자.\n",
    "\n",
    "# 테이블 생성 쿼리문을 보면 알겠지만, id 칼럼에 AUTOINCREMENT가 적용되었음을 알 수 있다. \n",
    "# 이렇게 자동 증가를 적용하면 다음처럼 INSERT 문에 id값을 전달하지 않더라도 id가 자동 증가하도록 데이터를 입력할 수 있다.\n",
    "\n",
    "# INSERT INTO blog (subject, content, date) VALUES ('자동 증가', 'id값이 자동 증가되어 입력됩니다.', '20190831')\n",
    "# 명시적으로 쿼리문에 추가하지 않아도 id는 자동으로 증가하면서 저장된다.\n",
    "\n",
    "# 이 문장은 이전 INSERT 구문과 차이가 있는데, VALUES 앞에 삽입 대상이 되는 칼럼 이름(subject, content, date)을 모두 명시했다는 점이다. \n",
    "# 만약 칼럼 이름을 명시적으로 표기하지 않으면 칼럼 순서대로 VALUES 다음 값이 차례대로 입력된다. \n",
    "# 앞에서는 칼럼 이름을 생략했지만, 이제는 자동 증가 기능 추가로 id에 해당하는 값을 입력하지 않기 때문에 이처럼 대상 칼럼 이름을 모두 명시적으로 표기해야 한다.\n",
    "\n",
    "# INSERT 문 대상이 되는 칼럼 이름은 항상 명시적으로 표기하는 것이 좋다."
   ]
  },
  {
   "cell_type": "code",
   "execution_count": null,
   "metadata": {},
   "outputs": [],
   "source": [
    "# 블로그 데이터 모델\n",
    "# -----------------\n",
    "# 이제 문제에서 제시한 블로그 데이터를 저장, 조회, 수정, 삭제하는 함수를 만들어 보자. 먼저 블로그 목록을 조회하는 함수부터 작성해 보자.\n",
    "\n",
    "# import sqlite3\n",
    "\n",
    "# def get_blog_list():\n",
    "#     conn = sqlite3.connect('blog.db')\n",
    "#     c = conn.cursor()\n",
    "#     c.execute(\"SELECT * FROM blog\")\n",
    "#     result = c.fetchall()\n",
    "#     conn.close()\n",
    "#     return result\n",
    "# 그리고 get_blog_list() 함수를 실행하면 다음과 같은 결과를 보게 된다.\n",
    "\n",
    "# [(1, '최초의 블로그', '첫 번째 블로그입니다.', '20190827'), (2, '두 번째 블로그', '두 번째 블로그입니다.', '20190827'), (3, '세 번째 블로그', '세 번째 블로그입니다.', '20190827'), (4, '네 번째 블로그', '네 번째 블로그입니다.', '20190827'), (5, '자동 증가', 'id값이 자동 증가되어 입력됩니다.', '20190831')]\n"
   ]
  },
  {
   "cell_type": "code",
   "execution_count": 28,
   "metadata": {},
   "outputs": [
    {
     "data": {
      "text/plain": [
       "[(22, '자동 증가', 'id값이 자동 증가되어 입력됩니다.', '20190831'),\n",
       " (23, '자동 증가', 'id값이 자동 증가되어 입력됩니다.', '20190831'),\n",
       " (24, '자동 증가', 'id값이 자동 증가되어 입력됩니다.', '20190831'),\n",
       " (25, '자동 증가', 'id값이 자동 증가되어 입력됩니다.', '20190831')]"
      ]
     },
     "execution_count": 28,
     "metadata": {},
     "output_type": "execute_result"
    }
   ],
   "source": [
    "import sqlite3\n",
    "\n",
    "# def get_blog_list():\n",
    "#     conn = sqlite3.connect('blog.db')\n",
    "#     c = conn.cursor()\n",
    "#     c.execute(\"SELECT * FROM blog\")\n",
    "#     result = c.fetchall()\n",
    "#     conn.close()\n",
    "#     return result\n",
    "\n",
    "def get_blog_list():\n",
    "    with sqlite3.connect('blog.db') as conn:\n",
    "        c = conn.cursor()\n",
    "        c.execute(\"SELECT * from blog\")\n",
    "        result = c.fetchall()\n",
    "        return result\n",
    "    \n",
    "get_blog_list()        \n",
    "        \n",
    "    \n",
    "    "
   ]
  },
  {
   "cell_type": "code",
   "execution_count": 31,
   "metadata": {},
   "outputs": [],
   "source": [
    "# 조회 결과, 리스트 안에 튜플을 포함한 형태의 데이터를 반환했다. 튜플 대신 딕셔너리를 사용할 수 있도록 다음과 같이 get_blog_list() 함수를 변경하자.\n",
    "\n",
    "# def get_blog_list():\n",
    "#     conn = sqlite3.connect('blog.db')\n",
    "#     conn.row_factory = sqlite3.Row\n",
    "#     c = conn.cursor()\n",
    "#     c.execute(\"SELECT * FROM blog\")\n",
    "#     result = c.fetchall()\n",
    "#     conn.close()\n",
    "#     return result\n",
    "\n",
    "# conn.row_factory = sqlite3.Row를 사용하면 튜플 대신 딕셔너리로 응답을 얻을 수 있다. 다음과 같이 확인해 보자.\n",
    "\n",
    "# for blog in get_blog_list():\n",
    "#     print(blog)\n",
    "#     print(blog[\"subject\"])\n",
    "\n",
    "# 실제 응답된 객체는 sqlite3.Row 객체지만 딕셔너리처럼 사용할 수 있다. "
   ]
  },
  {
   "cell_type": "code",
   "execution_count": 33,
   "metadata": {},
   "outputs": [
    {
     "name": "stdout",
     "output_type": "stream",
     "text": [
      "<sqlite3.Row object at 0x000002EEA77111F0>\n",
      "자동 증가\n",
      "<sqlite3.Row object at 0x000002EEA7711330>\n",
      "자동 증가\n",
      "<sqlite3.Row object at 0x000002EEA77110D0>\n",
      "자동 증가\n",
      "<sqlite3.Row object at 0x000002EEA77112F0>\n",
      "자동 증가\n"
     ]
    }
   ],
   "source": [
    "def get_blog_list():\n",
    "    with sqlite3.connect('./blog.db') as conn:\n",
    "        conn.row_factory = sqlite3.Row      # dict로 반환\n",
    "        c = conn.cursor()\n",
    "        c.execute(\"SELECT * FROM blog\")\n",
    "        return c.fetchall()\n",
    "\n",
    "for blog in get_blog_list():\n",
    "    print(blog)\n",
    "    print(blog['subject'])\n",
    "    "
   ]
  },
  {
   "cell_type": "code",
   "execution_count": null,
   "metadata": {},
   "outputs": [],
   "source": [
    "# 이번에는 블로그를 생성하는 add_blog() 함수를 작성하자.\n",
    "# \n",
    "# def add_blog(subject, content):\n",
    "#     conn = sqlite3.connect('blog.db')\n",
    "#     conn.row_factory = sqlite3.Row\n",
    "#     c = conn.cursor()\n",
    "#     today = time.strftime('%Y%m%d')\n",
    "#     c.execute(\"INSERT INTO blog (subject, content, date) VALUES (?, ?, ?)\", \n",
    "#         (subject, content, today))\n",
    "#     conn.commit()\n",
    "#     conn.close()\n"
   ]
  },
  {
   "cell_type": "code",
   "execution_count": null,
   "metadata": {},
   "outputs": [],
   "source": [
    "import time\n",
    "\n",
    "# def add_blog(subject, content):\n",
    "#     conn = sqlite3.connect('blog.db')\n",
    "#     conn.row_factory = sqlite3.Row\n",
    "#     c = conn.cursor()\n",
    "#     today = time.strftime('%Y%m%d')\n",
    "#     c.execute(\"INSERT INTO blog (subject, content, date) VALUES (?, ?, ?)\" (subject, content, today))\n",
    "#     conn.commit()\n",
    "#     conn.close()\n",
    "\n",
    "def add_blog(subject, content):\n",
    "    with sqlite3.connect('blog.db') as conn:\n",
    "        conn.row_factory = sqlite3.Row\n",
    "        c = conn.cursor()\n",
    "        today = time.strftime('%Y%m%d')\n",
    "        c.execute(\"INSERT INTO blog (subject, content, date) VALUES (?, ?, ?)\" (subject, content, today))\n",
    "        conn.commit()\n",
    "\n",
    "# 이처럼 데이터 변경이 발생할 때는 변경 사항을 저장하고자 conn.commit()을 수행해야 한다."
   ]
  },
  {
   "cell_type": "code",
   "execution_count": null,
   "metadata": {},
   "outputs": [],
   "source": [
    "# 블로그를 읽는 read_blog() 함수는 다음과 같다.\n",
    "\n",
    "# def read_blog(_id):\n",
    "#     conn = sqlite3.connect('blog.db')\n",
    "#     conn.row_factory = sqlite3.Row\n",
    "#     c = conn.cursor()\n",
    "#     c.execute(\"SELECT * FROM blog WHERE id=?\", (_id,))\n",
    "#     result = c.fetchone()\n",
    "#     conn.close()\n",
    "#     retrun result"
   ]
  },
  {
   "cell_type": "code",
   "execution_count": null,
   "metadata": {},
   "outputs": [],
   "source": [
    "def read_blog(_id):\n",
    "    with sqlite3.connect('blog.db') as conn:\n",
    "        conn.row_factory = sqlite3.Row\n",
    "        c = conn.cursor()\n",
    "        c.execute(\"SELECT * FROM blog WHERE id = ?\" (_id,))\n",
    "        return c.fetchone()"
   ]
  },
  {
   "cell_type": "code",
   "execution_count": null,
   "metadata": {},
   "outputs": [],
   "source": [
    "# 이번에는 블로그를 수정하는 modify_blog() 함수를 작성하자.\n",
    "\n",
    "# def modify_blog(_id, subject, content):\n",
    "#     conn = sqlite3.connect('blog.db')\n",
    "#     conn.row_factory = sqlite3.Row\n",
    "#     c = conn.cursor()\n",
    "#     c.execute(\"UPDATE blog SET subject=?, content=? WHERE id=?\", \n",
    "#         (subject, content, _id))\n",
    "#     conn.commit()\n",
    "#     conn.close()"
   ]
  },
  {
   "cell_type": "code",
   "execution_count": null,
   "metadata": {},
   "outputs": [],
   "source": [
    "def modify_blog(_id, subject, content):\n",
    "    with sqlite3.connect('blog.db') as conn:\n",
    "        conn.row_factory = sqlite3.Row\n",
    "        c = conn.cursor()\n",
    "        c.execute(\"UPDATE blog SET subject = ?, content = ? WHERE id = ?\" (subject, content, _id))\n",
    "        conn.commit()"
   ]
  },
  {
   "cell_type": "code",
   "execution_count": null,
   "metadata": {},
   "outputs": [],
   "source": [
    "# 삭제 기능 역시 필요하므로 remove_blog() 함수를 다음과 같이 작성한다.\n",
    "\n",
    "# def remove_blog(_id):\n",
    "#     conn = sqlite3.connect('blog.db')\n",
    "#     conn.row_factory = sqlite3.Row\n",
    "#     c = conn.cursor()\n",
    "#     c.execute(\"DELETE FROM blog WHERE id=?\", (_id,))\n",
    "#     conn.commit()\n",
    "#     conn.close()"
   ]
  },
  {
   "cell_type": "code",
   "execution_count": null,
   "metadata": {},
   "outputs": [],
   "source": [
    "def remove_blog(_id):\n",
    "    with sqlite3.connect('blog.db') as conn:\n",
    "        conn.row_factory = sqlite3.Row\n",
    "        c = conn.cursor()\n",
    "        c.execute(\"DELETE FROM blog WHERE id = ?\" (_id))\n",
    "        conn.commit()"
   ]
  },
  {
   "cell_type": "code",
   "execution_count": null,
   "metadata": {},
   "outputs": [],
   "source": [
    "# 지금까지 작성한 함수를 보면 데이터베이스에 연결하고(connect) 이를 닫는(close) 부분을 반복 수행한다는 것을 알 수 있다. \n",
    "# 이런 부분은 모든 함수에서 사용하므로 공통으로 이용할 수 있도록 변경하는 것이 좋다. \n",
    "# 실제 수행하는 문장은 중간쯤에 있고 함수 시작과 끝에 공통 부분이 있으므로 이런 상황에서는 데코레이터를 사용하면 된다.\n",
    "\n",
    "# 참고: 부록 - 02 클로저와 데코레이터\n",
    "\n",
    "# 그러면 다음과 같은 데코레이터 함수를 작성하자.\n",
    "\n",
    "# def with_cursor(original_func):\n",
    "#     def wrapper(*args, **kwargs):\n",
    "#         conn = sqlite3.connect('blog.db')\n",
    "#         conn.row_factory = sqlite3.Row\n",
    "#         c = conn.cursor()\n",
    "#         rv = original_func(c, *args, **kwargs)\n",
    "#         conn.commit()\n",
    "#         conn.close()            \n",
    "#         return rv\n",
    "#     return wrapper\n",
    "\n",
    "# with_cursor() 데코레이터는 데이터베이스에 연결하고 커서 객체를 원본 함수에 전달하여 수행한 후 데이터베이스 리소스를 닫는 역할을 한다. \n"
   ]
  },
  {
   "cell_type": "code",
   "execution_count": null,
   "metadata": {},
   "outputs": [],
   "source": [
    "def with_cursor(original_func):\n",
    "    def wrapper(*args, **kwargs):\n",
    "        with sqlite3.connect('blog.db') as conn:\n",
    "            conn.row_factory = sqlite3.Row\n",
    "            c = conn.cursor()\n",
    "            rv = original_func(c, *args, **kwargs)\n",
    "            conn.commit()\n",
    "            return rv\n",
    "        return wrapper"
   ]
  },
  {
   "cell_type": "code",
   "execution_count": null,
   "metadata": {},
   "outputs": [],
   "source": [
    " \n",
    "# with_cursor() 데코레이터를 사용하여 만든 최종 파일은 다음과 같다.\n",
    "\n",
    "# [파일명:blog_sqlite_model.py]\n",
    "\n",
    "# import sqlite3\n",
    "# import time\n",
    "\n",
    "\n",
    "# def with_cursor(original_func):\n",
    "#     def wrapper(*args, **kwargs):\n",
    "#         conn = sqlite3.connect('blog.db')\n",
    "#         conn.row_factory = sqlite3.Row\n",
    "#         c = conn.cursor()\n",
    "#         rv = original_func(c, *args, **kwargs)\n",
    "#         conn.commit()\n",
    "#         conn.close()            \n",
    "#         return rv\n",
    "#     return wrapper\n",
    "\n",
    "\n",
    "# @with_cursor\n",
    "# def get_blog_list(c):\n",
    "#     c.execute(\"SELECT * FROM blog\")\n",
    "#     return c.fetchall()\n",
    "\n",
    "\n",
    "# @with_cursor\n",
    "# def add_blog(c, subject, content):\n",
    "#     c.execute(\"INSERT INTO blog (subject, content, date) VALUES (?, ?, ?)\", \n",
    "#         (subject, content, time.strftime('%Y%m%d')))\n",
    "\n",
    "\n",
    "# @with_cursor\n",
    "# def read_blog(c, _id):\n",
    "#     c.execute(\"SELECT * FROM blog WHERE id=?\", (_id,))\n",
    "#     return c.fetchone()\n",
    "\n",
    "\n",
    "# @with_cursor\n",
    "# def modify_blog(c, _id, subject, content):\n",
    "#     c.execute(\"UPDATE blog SET subject=?, content=? WHERE id=?\", \n",
    "#         (subject, content, _id))\n",
    "\n",
    "\n",
    "# @with_cursor\n",
    "# def remove_blog(c, _id):\n",
    "#     c.execute(\"DEL1ETE FROM blog WHERE id=?\", (_id,))\n",
    "\n",
    "\n",
    "# 참고\n",
    "# sqlite3 - SQLite 데이터베이스용 DB-API 2.0 인터페이스: https://docs.python.org/ko/3/library/sqlite3.html"
   ]
  },
  {
   "cell_type": "code",
   "execution_count": 16,
   "metadata": {},
   "outputs": [
    {
     "name": "stdout",
     "output_type": "stream",
     "text": [
      "{'id': 33, 'subject': '감사합니다', 'content': '여러분의 노고에 정말 감사드려요', 'date': '20230407'}\n",
      "{'id': 34, 'subject': '감사합니다', 'content': '여러분의 노고에 정말 감사드려요', 'date': '20230407'}\n",
      "{'id': 35, 'subject': '감사합니다', 'content': '여러분의 노고에 정말 감사드려요', 'date': '20230407'}\n",
      "{'id': 36, 'subject': '감사합니다', 'content': '여러분의 노고에 정말 감사드려요', 'date': '20230407'}\n",
      "{'id': 37, 'subject': '감사합니다', 'content': '여러분의 노고에 정말 감사드려요', 'date': '20230407'}\n",
      "{'id': 38, 'subject': '감사합니다', 'content': '여러분의 노고에 정말 감사드려요', 'date': '20230407'}\n",
      "----------------------------------------------------------------------\n",
      "{'id': 33, 'subject': '감사합니다', 'content': '여러분의 노고에 정말 감사드려요', 'date': '20230407'}\n",
      "{'id': 34, 'subject': '감사합니다', 'content': '여러분의 노고에 정말 감사드려요', 'date': '20230407'}\n",
      "{'id': 35, 'subject': '감사합니다', 'content': '여러분의 노고에 정말 감사드려요', 'date': '20230407'}\n",
      "{'id': 36, 'subject': '감사합니다', 'content': '여러분의 노고에 정말 감사드려요', 'date': '20230407'}\n",
      "{'id': 37, 'subject': '감사합니다', 'content': '여러분의 노고에 정말 감사드려요', 'date': '20230407'}\n",
      "{'id': 38, 'subject': '감사합니다', 'content': '여러분의 노고에 정말 감사드려요', 'date': '20230407'}\n",
      "{'id': 39, 'subject': '감사합니다', 'content': '여러분의 노고에 정말 감사드려요', 'date': '20230407'}\n"
     ]
    }
   ],
   "source": [
    "import sqlite3\n",
    "import time\n",
    "\n",
    "def with_cursor(original_func):\n",
    "    def wrapper(*args, **kwargs):\n",
    "        with sqlite3.connect('blog.db') as conn:\n",
    "            conn.row_factory = sqlite3.Row\n",
    "            c = conn.cursor()\n",
    "            rv = original_func(c, *args, **kwargs)\n",
    "            conn.commit()\n",
    "        return rv\n",
    "    return wrapper\n",
    "\n",
    "@with_cursor\n",
    "def get_blog_list(c):\n",
    "    c.execute(\"SELECT * FROM blog\")\n",
    "    return c.fetchall()\n",
    "\n",
    "@with_cursor\n",
    "def add_blog(c, subject, content):\n",
    "    today = time.strftime('%Y%m%d')\n",
    "    c.execute(\"INSERT INTO blog (subject, content, date) VALUES (?, ?, ?)\", (subject, content, today))\n",
    "\n",
    "@with_cursor\n",
    "def read_blog(c, _id):\n",
    "    c.execute(\"SELECT * FROM blog WHERE id = ?\", (_id,))\n",
    "    return c.fetchone()\n",
    "\n",
    "@with_cursor        \n",
    "def modify_blog(c, _id, subject, content):\n",
    "    c.execute(\"UPDATE blog SET subject = ?, content = ? WHERE id = ?\", (subject, content, _id))\n",
    "\n",
    "@with_cursor            \n",
    "def remove_blog(c, _id):\n",
    "    c.execute(\"DELETE FROM blog WHERE id = ?\", (_id,))\n",
    "    # c.execute(\"DELETE FROM blog WHERE id=?\", (_id,))\n",
    "    \n",
    "\n",
    "\n",
    "for blog in get_blog_list():\n",
    "    print(dict(blog))\n",
    "print('-'*70)\n",
    "\n",
    "add_blog('감사합니다','여러분의 노고에 정말 감사드려요')    \n",
    "\n",
    "for blog in get_blog_list():\n",
    "    print(dict(blog))\n",
    "\n",
    "# for blog in get_blog_list():\n",
    "#     remove_blog(blog['id'])    "
   ]
  },
  {
   "cell_type": "code",
   "execution_count": 13,
   "metadata": {},
   "outputs": [],
   "source": [
    "add_blog('감사합니다','여러분의 노고에 정말 감사드려요')    "
   ]
  },
  {
   "cell_type": "code",
   "execution_count": 14,
   "metadata": {},
   "outputs": [
    {
     "name": "stdout",
     "output_type": "stream",
     "text": [
      "{'id': 33, 'subject': '감사합니다', 'content': '여러분의 노고에 정말 감사드려요', 'date': '20230407'}\n",
      "{'id': 34, 'subject': '감사합니다', 'content': '여러분의 노고에 정말 감사드려요', 'date': '20230407'}\n",
      "{'id': 35, 'subject': '감사합니다', 'content': '여러분의 노고에 정말 감사드려요', 'date': '20230407'}\n",
      "{'id': 36, 'subject': '감사합니다', 'content': '여러분의 노고에 정말 감사드려요', 'date': '20230407'}\n",
      "{'id': 37, 'subject': '감사합니다', 'content': '여러분의 노고에 정말 감사드려요', 'date': '20230407'}\n"
     ]
    }
   ],
   "source": [
    "\n",
    "for blog in get_blog_list():\n",
    "    print(dict(blog))"
   ]
  }
 ],
 "metadata": {
  "kernelspec": {
   "display_name": "Python 3.9.12 ('base')",
   "language": "python",
   "name": "python3"
  },
  "language_info": {
   "codemirror_mode": {
    "name": "ipython",
    "version": 3
   },
   "file_extension": ".py",
   "mimetype": "text/x-python",
   "name": "python",
   "nbconvert_exporter": "python",
   "pygments_lexer": "ipython3",
   "version": "3.9.12"
  },
  "orig_nbformat": 4,
  "vscode": {
   "interpreter": {
    "hash": "f08154012ddadd8e950e6e9e035c7a7b32c136e7647e9b7c77e02eb723a8bedb"
   }
  }
 },
 "nbformat": 4,
 "nbformat_minor": 2
}
