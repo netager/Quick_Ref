{
 "cells": [
  {
   "cell_type": "code",
   "execution_count": null,
   "metadata": {},
   "outputs": [],
   "source": [
    "# 06장 파일과 디렉터리 다루기\n",
    "# -------------------------\n",
    "# 프로그래밍 시 파일과 디렉터리 처리는 기본 중의 기본이다. 이번 장에서는 파일과 디렉터리를 다루는 모듈을 알아본다."
   ]
  },
  {
   "attachments": {},
   "cell_type": "markdown",
   "metadata": {},
   "source": [
    "## 035 파일 경로를 객체로 다루려면? ― pathlib"
   ]
  },
  {
   "cell_type": "code",
   "execution_count": null,
   "metadata": {},
   "outputs": [],
   "source": [
    "# 035 파일 경로를 객체로 다루려면? ― pathlib\n",
    "# ----------------------------------------\n",
    "# pathlib은 파일 시스템 경로를 문자열이 아닌 객체로 만들어 여러 가지 일을 할 수 있도록 하는 모듈이다.\n",
    "\n",
    "# pathlib 모듈은 파이썬 3.4 버전부터 사용할 수 있다.\n",
    "\n",
    "# 문제\n",
    "# ----\n",
    "# 다음은 현재 디렉터리의 모든 텍스트 파일(.txt)을 archive라는 디렉터리로 이동하는 일반적인 파이썬 코드이다\n",
    "# (단, archive 디렉터리는 현재 디렉터리 하위에 이미 있다고 가정한다).\n",
    "\n",
    "# import glob\n",
    "# import os\n",
    "# import shutil\n",
    "\n",
    "# for file_path in glob.glob('%s/*.txt' % os.getcwd()):\n",
    "#     parent = os.path.dirname(file_path)\n",
    "#     filename = os.path.basename(file_path)\n",
    "#     new_path = os.path.join(parent, 'archive', filename)\n",
    "#     shutil.move(file_path, new_path)\n",
    "\n",
    "# 이 코드를 glob, os, shutil 대신 pathlib만을 사용하도록 수정하려면 어떻게 해야 할까?\n"
   ]
  },
  {
   "cell_type": "code",
   "execution_count": 8,
   "metadata": {},
   "outputs": [],
   "source": [
    "import glob\n",
    "import os\n",
    "import shutil\n",
    "\n",
    "for file_path in glob.glob('%s/*.txt' % os.getcwd()):\n",
    "    print(file_path)\n",
    "    print('-'*70)\n",
    "    \n",
    "    parent = os.path.dirname(file_path)\n",
    "    print(parent)\n",
    "    print('-'*70)\n",
    "    \n",
    "    file_name = os.path.basename(file_path)\n",
    "    print(file_name)\n",
    "    print('-'*70)\n",
    "    \n",
    "    new_path = os.path.join(parent, 'archive', file_name)\n",
    "    print(new_path)\n",
    "    print('='*70)\n",
    "\n",
    "    shutil.move(file_path, new_path)"
   ]
  },
  {
   "cell_type": "code",
   "execution_count": null,
   "metadata": {},
   "outputs": [],
   "source": [
    "# 풀이\n",
    "# ----\n",
    "# 다음처럼 pathlib만을 사용하여 glob, os.path, shutil에서 사용했던 모든 기능을 구현할 수 있다.\n",
    "\n",
    "# [파일명: pathlib_sample.py]\n",
    "\n",
    "# import pathlib\n",
    "\n",
    "\n",
    "# for p in pathlib.Path.cwd().glob('*.txt'):\n",
    "#     new_p = p.parent.joinpath('archive', p.name)\n",
    "#     p.replace(new_p)\n",
    "\n",
    "# pathlib.Path.cwd()는 현재 디렉터리 객체(Path)를 반환한다. \n",
    "# 그리고 Path 객체의 glob() 함수로 해당 디렉터리에 있는 모든 txt 파일을 객체(Path 이터레이터)로 얻을 수 있다. \n",
    "# Path 객체의 parent()는 os.path.dirname()처럼 해당 파일의 현재 디렉터리를 반환한다. \n",
    "# 마찬가지로 Path 객체의 joinpath()는 os.path.join()처럼 파일 경로와 파일명을 합쳐 새로운 경로를 만든다. \n",
    "# 그리고 파일을 옮기고자 shutil.move() 대신 Path 객체의 replace() 함수를 사용했다.\n",
    "\n",
    "# 하위 디렉터리까지 검색하려면 glob() 대신 rglob()을 사용하면 된다.\n",
    "\n",
    "# pathlib를 사용하지 않은 코드와 사용한 코드를 비교하면 다음 표와 같다.\n",
    "\n",
    "# 전통적인 방식\tpathlib 방식(p는 pathlib로 생성한 Path 객체)\n",
    "# os.getcwd\tp.cwd\n",
    "# glob.glob\tp.glob\n",
    "# os.path.dirname\tp.parent\n",
    "# os.path.basename\tp.name\n",
    "# os.path.join\tp.joinpath\n",
    "# shutil.move\tp.replace\n",
    "\n",
    "\n",
    "# 알아두면 좋아요\n",
    "# 현재 디렉터리의 모든 파일을 조사하여 확장자별 개수 구하기\n",
    "# -----------------------------------------------------\n",
    "# >>> import collections, pathlib\n",
    "# >>> collections.Counter([p.suffix for p in pathlib.Path.cwd().iterdir()])\n",
    "# Counter({'.md': 2, '.txt': 4, '.pdf': 2, '.py': 1})\n",
    "\n",
    "# iterdir()는 해당 디렉터리의 모든 파일을 이터레이터로 반환한다. Path 객체의 suffix는 .을 포함한 파일 확장자를 뜻한다.\n",
    "\n",
    "# 참고 : 010 사용한 단어 개수를 구하려면? - collections.Counter\n",
    "\n",
    "# 참고\n",
    "# glob - 파일 검색: https://wikidocs.net/110619\n",
    "# pathlib - 객체 지향 파일 시스템 경로: https://docs.python.org/ko/3/library/pathlib.html\n",
    "# 하위 디렉터리 검색하기: https://wikidocs.net/39"
   ]
  },
  {
   "cell_type": "code",
   "execution_count": 24,
   "metadata": {},
   "outputs": [],
   "source": [
    "import pathlib\n",
    "\n",
    "for p in pathlib.Path.cwd().glob('*.txt'):\n",
    "        new_p = p.parent.joinpath('archive', p.name)\n",
    "        p.replace(new_p)"
   ]
  },
  {
   "cell_type": "code",
   "execution_count": 42,
   "metadata": {},
   "outputs": [
    {
     "name": "stdout",
     "output_type": "stream",
     "text": [
      "Counter({'.ipynb': 7, '.txt': 4, '': 3})\n"
     ]
    },
    {
     "data": {
      "text/plain": [
       "[('.ipynb', 7), ('.txt', 4), ('', 3)]"
      ]
     },
     "execution_count": 42,
     "metadata": {},
     "output_type": "execute_result"
    }
   ],
   "source": [
    "import pathlib, collections\n",
    "\n",
    "print(collections.Counter([ p.suffix for p in pathlib.Path.cwd().iterdir() ]))\n",
    "collections.Counter([ p.suffix for p in pathlib.Path.cwd().iterdir() ]).most_common()"
   ]
  },
  {
   "attachments": {},
   "cell_type": "markdown",
   "metadata": {},
   "source": [
    "## 036 디렉터리의 구성을 알려면? ― os.path"
   ]
  },
  {
   "cell_type": "code",
   "execution_count": null,
   "metadata": {},
   "outputs": [],
   "source": [
    "# 036 디렉터리의 구성을 알려면? ― os.path\n",
    "# -------------------------------------\n",
    "# os.path는 경로명과 파일명에 대한 유용한 함수를 제공하는 모듈이다.\n",
    "\n",
    "# 문제\n",
    "# ----\n",
    "# 특정 폴더(디렉터리)에 어떤 파이썬 파일이 있는지 알고자 한다. \n",
    "# 이럴 때 매개변수에 지정한 디렉터리의 파이썬 파일을 모두 출력하는 search(dirname) 함수는 어떻게 작성해야 할까? \n",
    "# 단, 하위 디렉터리의 파이썬 파일도 모두 출력해야 한다.\n"
   ]
  },
  {
   "cell_type": "code",
   "execution_count": null,
   "metadata": {},
   "outputs": [],
   "source": [
    "# 풀이\n",
    "# ----\n",
    "# 디렉터리 경로를 입력으로 받아 파이썬 파일을 출력하는 search() 함수는 다음과 같다.\n",
    "\n",
    "# [파일명: os_path_sample.py]\n",
    "\n",
    "# import os\n",
    "\n",
    "# def search(dirname):\n",
    "#     filenames = os.listdir(dirname)\n",
    "#     for filename rin filenames:\n",
    "#         filepath = os.path.join(dirname, filename)\n",
    "#         if os.path.isdir(filepath):\n",
    "#             search(filepath)\n",
    "#         elif os.path.isfile(filepath):\n",
    "#             name, ext = os.path.splitext(filepath)\n",
    "#             if ext == '.py': \n",
    "#                 print(filepath)\n",
    "\n",
    "# search(\"c:/projects/pylib\")  # c:/projects/pylib 디렉터리와 하위 디렉터리의 모든 .py 파일 출력\n",
    "# 입력으로 받은 디렉터리의 모든 파일을 os.listdir()로 얻고 확장자가 .py이면 파일명을 출력한다. \n",
    "# os.listdir()로 얻은 경로가 파일이 아닌 디렉터리라면 다시 그 경로를 입력으로 하여 search() 함수를 재귀호출한다.\n",
    "\n",
    "# 여기서 사용한 os 모듈과 os.path 모듈을 정리한 표는 다음과 같다.\n",
    "\n",
    "# 사용 모듈\t설명\n",
    "# -------------\n",
    "# os.listdir(path)\tpath 하위의 파일(디렉터리 포함)을 리스트로 반환한다.\n",
    "# os.path.join(path, *paths)\tpath와 paths에 해당하는 모든 경로를 더하여 전체 경로를 반환한다. \n",
    "#                               이때 경로 구분자는 실행하는 운영체제에 따라 달라진다. (경로 구분자의 예: 유닉스는 /, 윈도우는 \\\\)\n",
    "# os.path.isdir(path)\tpath의 디렉터리 여부를 반환한다.\n",
    "# os.path.isfile(path)\tpath의 파일 여부를 반환한다.\n",
    "# os.path.splitext(path)\tpath를 파일명과 확장자로 구분한다. (이때 확장자에는 마침표(.)를 포함한다.)\n",
    "\n",
    "\n",
    "# 알아두면 좋아요\n",
    "# pathlib를 사용하고 싶다면?\n",
    "# -------------------------\n",
    "# pathlib를 사용하여 만든 search() 함수는 다음과 같다.\n",
    "\n",
    "# import pathlib\n",
    "\n",
    "# def search(dirname):\n",
    "#     for p in pathlib.Path(dirname).rglob('*.py'):\n",
    "#         print(p)\n",
    "# pathlib와 관련한 내용은 앞 절을 참고하자.\n",
    "\n",
    "# 참고\n",
    "# os.path - 일반적인 경로명 조작: https://docs.python.org/ko/3/library/os.path.html"
   ]
  },
  {
   "cell_type": "code",
   "execution_count": 49,
   "metadata": {},
   "outputs": [
    {
     "name": "stdout",
     "output_type": "stream",
     "text": [
      "00. 들어가기 전에.ipynb\n",
      "01. 텍스트 다루기.ipynb\n",
      "02. 바이너리 데이터 다루기.ipynb\n",
      "03. 다양한 데이터 다루기.ipynb\n",
      "04. 수학과 숫자 다루기.ipynb\n",
      "05. 함수형 프로그래밍 다루기.ipynb\n",
      "06 . 파일과 디렉터리 다루기.ipynb\n",
      "test_bed\\03. 다양한 데이터 다루기.ipynb\n",
      "test_bed\\04. 수학과 숫자 다루기.ipynb\n",
      "test_bed\\05. 함수형 프로그래밍 다루기.ipynb\n",
      "test_bed\\06 . 파일과 디렉터리 다루기.ipynb\n"
     ]
    }
   ],
   "source": [
    "import pathlib\n",
    "\n",
    "def search(dirname):\n",
    "    for p in pathlib.Path(dirname).rglob('*.ipynb'):\n",
    "        print(p)\n",
    "        \n",
    "search('.')        "
   ]
  },
  {
   "cell_type": "code",
   "execution_count": 46,
   "metadata": {},
   "outputs": [
    {
     "name": "stdout",
     "output_type": "stream",
     "text": [
      ".\\00. 들어가기 전에.ipynb\n",
      ".\\01. 텍스트 다루기.ipynb\n",
      ".\\02. 바이너리 데이터 다루기.ipynb\n",
      ".\\03. 다양한 데이터 다루기.ipynb\n",
      ".\\04. 수학과 숫자 다루기.ipynb\n",
      ".\\05. 함수형 프로그래밍 다루기.ipynb\n",
      ".\\06 . 파일과 디렉터리 다루기.ipynb\n",
      ".\\test_bed\\03. 다양한 데이터 다루기.ipynb\n",
      ".\\test_bed\\04. 수학과 숫자 다루기.ipynb\n",
      ".\\test_bed\\05. 함수형 프로그래밍 다루기.ipynb\n",
      ".\\test_bed\\06 . 파일과 디렉터리 다루기.ipynb\n"
     ]
    }
   ],
   "source": [
    "# import os\n",
    "\n",
    "# def search(dirname):\n",
    "#     filenames = os.listdir(dirname)\n",
    "#     for filename rin filenames:\n",
    "#         filepath = os.path.join(dirname, filename)\n",
    "#         if os.path.isdir(filepath):\n",
    "#             search(filepath)\n",
    "#         elif os.path.isfile(filepath):\n",
    "#             name, ext = os.path.splitext(filepath)\n",
    "#             if ext == '.py': \n",
    "#                 print(filepath)\n",
    "\n",
    "import os\n",
    "\n",
    "def search(dirname):\n",
    "    filenames = os.listdir(dirname)\n",
    "    for filename in filenames:\n",
    "        filepath = os.path.join(dirname, filename)\n",
    "        if os.path.isdir(filepath):\n",
    "            search(filepath)\n",
    "        elif os.path.isfile(filepath):\n",
    "            name, ext = os.path.splitext(filepath)\n",
    "            if ext == '.ipynb':\n",
    "                print(filepath)\n",
    "\n",
    "search('.')            "
   ]
  },
  {
   "attachments": {},
   "cell_type": "markdown",
   "metadata": {},
   "source": [
    "## 037 여러 개의 파일을 한꺼번에 읽으려면? ― fileinput"
   ]
  },
  {
   "cell_type": "code",
   "execution_count": null,
   "metadata": {},
   "outputs": [],
   "source": [
    "# 037 여러 개의 파일을 한꺼번에 읽으려면? ― fileinput\n",
    "# -------------------------------------------------\n",
    "# fileinput은 여러 개의 파일을 한꺼번에 처리할 때 사용하는 모듈이다.\n",
    "\n",
    "# 문제\n",
    "# ----\n",
    "# 현재 디렉터리에 텍스트 파일(.txt)이 너무 많아 하나씩 열어 내용을 확인하려니 너무 번거롭다. \n",
    "# 이럴 때 모든 텍스트 파일을 읽어 그 내용을 한 줄씩 출력하려면 어떻게 코드를 작성해야 할까?\n"
   ]
  },
  {
   "cell_type": "code",
   "execution_count": null,
   "metadata": {},
   "outputs": [],
   "source": [
    "# 풀이\n",
    "# ----\n",
    "# 여러 개의 파일을 한꺼번에 처리할 때는 다음처럼 fileinput 모듈을 사용하는 것이 가장 편리하다.\n",
    "\n",
    "# [파일명: fileinput_sample.py]\n",
    "\n",
    "# import fileinput\n",
    "# import glob\n",
    "\n",
    "# with fileinput.input(glob.glob(\"*.txt\")) as f:\n",
    "#     for line in f:\n",
    "#         print(line)\n",
    "# 파일 단위가 아니라 모든 txt 파일 전체를 하나의 파일처럼 처리하고자 fileinput.input(glob.glob(\"*.txt\"))와 같이 사용했다.\n",
    "\n",
    "# 참고\n",
    "# fileinput - 여러 입력 스트림에서 줄을 이터레이트 하기: https://docs.python.org/ko/3/library/fileinput.html\n",
    "# 파일 읽고 쓰기: https://wikidocs.net/26"
   ]
  },
  {
   "cell_type": "code",
   "execution_count": 67,
   "metadata": {},
   "outputs": [
    {
     "name": "stdout",
     "output_type": "stream",
     "text": [
      "1\n",
      "2\n",
      "3\n",
      "4\n",
      "1\n",
      "2\n",
      "3\n",
      "4\n"
     ]
    }
   ],
   "source": [
    "import fileinput\n",
    "import glob\n",
    "\n",
    "def multi_file_read(*args):\n",
    "    \n",
    "    if args: dirname = args[0]\n",
    "    else: dirname = os.getcwd()\n",
    "\n",
    "    with fileinput.input(glob.glob(f'{dirname}/*.txt')) as f:\n",
    "        for line in f:\n",
    "            print(line)\n",
    "\n",
    "multi_file_read('./archive')\n",
    "multi_file_read()"
   ]
  },
  {
   "attachments": {},
   "cell_type": "markdown",
   "metadata": {},
   "source": [
    "## 038 디렉터리와 파일을 비교하려면? ― filecmp"
   ]
  },
  {
   "cell_type": "code",
   "execution_count": null,
   "metadata": {},
   "outputs": [],
   "source": [
    "# 038 디렉터리와 파일을 비교하려면? ― filecmp\n",
    "# -----------------------------------------\n",
    "# filecmp는 파일 두 개 또는 디렉터리 두 곳을 비교할 때 사용하는 모듈이다.\n",
    "\n",
    "# 문제\n",
    "# ----\n",
    "# 두 디렉터리의 차이를 다음과 같은 조건으로 확인하는 프로그램은 어떻게 작성해야 할까?\n",
    "\n",
    "# a 디렉터리에만 있고 b 디렉터리에는 없는 파일은 다음과 같이 출력한다.\n",
    "# a: 파일명\n",
    "\n",
    "# b 디렉터리에만 있고 a 디렉터리에는 없는 파일은 다음과 같이 출력한다.\n",
    "# b: 파일명\n",
    "\n",
    "# a 디렉터리와 b 디렉터리에 모두 있으나 파일의 내용이 서로 다를 때는 다음과 같이 출력한다.\n",
    "# x: 파일명"
   ]
  },
  {
   "cell_type": "code",
   "execution_count": null,
   "metadata": {},
   "outputs": [],
   "source": [
    "# 풀이\n",
    "# ----\n",
    "# filecmp.dircmp()를 사용하면 문제에서 요구하는 프로그램을 쉽게 만들 수 있다.\n",
    "\n",
    "# [파일명: filecmp_sample.py]\n",
    "\n",
    "# import filecmp\n",
    "\n",
    "# fd = filecmp.dircmp('a', 'b')\n",
    "\n",
    "# for a in fd.left_only:\n",
    "#     print(\"a: %s\" % a)\n",
    "\n",
    "# for b in fd.right_only:\n",
    "#     print(\"b: %s\" % b)\n",
    "\n",
    "# for x in fd.diff_files:\n",
    "#     print(\"x: %s\" % x)\n",
    "# 먼저 fd = filecmp.dircmp('a', 'b')처럼 a, b 디렉터리를 비교하고자 fd 객체를 생성한다. 그리고 a 디렉터리에만 있는 파일은 fd.left_only, b 디렉터리에만 있는 파일은 fd.right_only, 두 곳 모두에 있지만 내용이 다른 파일은 fd.diff_files로 구할 수 있다.\n",
    "\n",
    "# 참고\n",
    "# filecmp- 파일과 디렉터리 비교: https://docs.python.org/ko/3/library/filecmp.html"
   ]
  },
  {
   "cell_type": "code",
   "execution_count": 68,
   "metadata": {},
   "outputs": [
    {
     "data": {
      "text/plain": [
       "<filecmp.dircmp at 0x26511941910>"
      ]
     },
     "execution_count": 68,
     "metadata": {},
     "output_type": "execute_result"
    }
   ],
   "source": [
    "import filecmp\n",
    "\n",
    "fd = filecmp.dircmp('a', 'b')\n",
    "\n",
    "for a in fd.left_only:\n",
    "    print('a: %s' %a)"
   ]
  },
  {
   "cell_type": "code",
   "execution_count": null,
   "metadata": {},
   "outputs": [],
   "source": []
  }
 ],
 "metadata": {
  "kernelspec": {
   "display_name": "base",
   "language": "python",
   "name": "python3"
  },
  "language_info": {
   "codemirror_mode": {
    "name": "ipython",
    "version": 3
   },
   "file_extension": ".py",
   "mimetype": "text/x-python",
   "name": "python",
   "nbconvert_exporter": "python",
   "pygments_lexer": "ipython3",
   "version": "3.9.7"
  },
  "orig_nbformat": 4
 },
 "nbformat": 4,
 "nbformat_minor": 2
}
