{
 "cells": [
  {
   "cell_type": "code",
   "execution_count": null,
   "metadata": {},
   "outputs": [],
   "source": [
    "# 04장 수학과 숫자 다루기\n",
    "# ----------------------\n",
    "# 파이썬은 수치 연산을 위한 모듈을 많이 제공하여 데이터 과학이나 인공지능에 관련된 프로그램을 만들 때 많이 사용한다. \n",
    "# 이번 장에서는 최대공약수, 최소공배수, 소수점 연산, 유리수, 난수 생성, 평균값과 중앙값 등의 수학과 관련된 모듈을 알아본다."
   ]
  },
  {
   "attachments": {},
   "cell_type": "markdown",
   "metadata": {},
   "source": [
    "## 017 과자를 똑같이 나누어 담으려면? ― math.gcd"
   ]
  },
  {
   "cell_type": "code",
   "execution_count": null,
   "metadata": {},
   "outputs": [],
   "source": [
    "# 017 과자를 똑같이 나누어 담으려면? ― math.gcd\n",
    "# -------------------------------------------\n",
    "# math.gcd() 함수를 이용하면 최대공약수(gcd, greatest common divisor)를 쉽게 구할 수 있다.\n",
    "\n",
    "# math.gcd() 함수는 파이썬 3.5 버전부터 사용할 수 있다.\n",
    "\n",
    "# 알아두면 좋아요\n",
    "\n",
    "# 최대공약수란?\n",
    "# ------------\n",
    "# 공약수(common divisor)란 두 수 이상의 여러 수의 공통된 약수를 의미한다. 예를 들어 30과 15는 공통으로 1, 3, 5, 15라는 약수를 가지고 있는데, \n",
    "# 이를 공약수라 하며 이 중 가장 큰 공약수를 최대공약수라 한다. 즉, 30과 15의 최대공약수는 15이다.\n",
    "\n",
    "# 문제\n",
    "# ----\n",
    "# 어린이집에서 사탕 60개, 초콜릿 100개, 젤리 80개를 준비했다. \n",
    "# 아이들이 서로 싸우지 않도록 똑같이 나누어 봉지에 담는다고 하면 최대 몇 봉지까지 만들 수 있을까?\n",
    "\n",
    "\n",
    "\n",
    "# 단, 사탕, 초콜릿, 젤리는 남기지 않고 모두 담도록 한다.\n"
   ]
  },
  {
   "cell_type": "code",
   "execution_count": 1,
   "metadata": {},
   "outputs": [
    {
     "data": {
      "text/plain": [
       "20"
      ]
     },
     "execution_count": 1,
     "metadata": {},
     "output_type": "execute_result"
    }
   ],
   "source": [
    "import math\n",
    "\n",
    "math.gcd(60, 100, 80)\n",
    "3, 5, 4"
   ]
  },
  {
   "cell_type": "code",
   "execution_count": null,
   "metadata": {},
   "outputs": [],
   "source": [
    "# 풀이\n",
    "# ----\n",
    "# 이 문제는 60, 100, 80의 최대공약수를 구하면 바로 해결된다. 즉, 똑같이 나눌 수 있는 봉지 개수가 최대가 되는 수를 구하면 된다.\n",
    "\n",
    "# >>> import math\n",
    "# >>> math.gcd(60, 100, 80)\n",
    "# 20\n",
    "# 파이썬 3.9 버전부터는 math.gcd의 인수로 여러개가 가능하지만 3.9 미만 버전에서는 2개까지만 허용된다.\n",
    "\n",
    "# math.gcd() 함수로 최대공약수를 구했더니 20이었다. 따라서 최대 20봉지를 만들 수 있다. \n",
    "# 각 봉지에 들어가는 사탕, 초콜릿, 젤리의 개수는 다음과 같이 전체 개수를 최대공약수 20으로 나누면 구할 수 있다.\n",
    "\n",
    "# >>> 60/20, 100/20, 80/20\n",
    "# (3.0, 5.0, 4.0)\n",
    "\n",
    "# 따라서 한 봉지당 사탕 3개씩, 초콜릿 5개씩, 젤리 4개씩 담으면 된다.\n",
    "\n",
    "# 참고\n",
    "# ----\n",
    "# math - 수학 함수: https://docs.python.org/ko/3/library/math.html\n",
    "# 동영상 - https://youtube.com/shorts/JEA1U9w1_YE?feature=share"
   ]
  },
  {
   "attachments": {},
   "cell_type": "markdown",
   "metadata": {},
   "source": [
    "## 018 버스가 동시에 도착할 시각을 알려면? ― math.lcm"
   ]
  },
  {
   "cell_type": "code",
   "execution_count": null,
   "metadata": {},
   "outputs": [],
   "source": [
    "# 018 버스가 동시에 도착할 시각을 알려면? ― math.lcm\n",
    "# ------------------------------------------------\n",
    "# math.lcm()은 최소공배수(lcm, least common multiple)를 구하는 함수이다.\n",
    "\n",
    "# math.lcm() 함수는 파이썬 3.9 버전부터 사용할 수 있다.\n",
    "\n",
    "# 알아두면 좋아요\n",
    "\n",
    "# 최소공배수란?\n",
    "# ------------\n",
    "# 최소공배수란 두 수의 공통 배수 중 가장 작은 수를 말한다. 예를 들어 3과 5의 최소공배수는 15가 된다.\n",
    "\n",
    "# 문제\n",
    "# ----\n",
    "# 어느 버스 정류장에 시내버스는 15분마다 도착하고 마을버스는 25분마다 도착한다고 한다. \n",
    "# 오후 1시에 두 버스가 동시에 도착했다고 할 때 두 버스가 동시에 도착할 다음 시각을 알려면 어떻게 해야 할까?"
   ]
  },
  {
   "cell_type": "code",
   "execution_count": 13,
   "metadata": {},
   "outputs": [
    {
     "data": {
      "text/plain": [
       "75"
      ]
     },
     "execution_count": 13,
     "metadata": {},
     "output_type": "execute_result"
    }
   ],
   "source": [
    "import math\n",
    "from datetime import time\n",
    "\n",
    "math.lcm(15, 25)"
   ]
  },
  {
   "cell_type": "code",
   "execution_count": null,
   "metadata": {},
   "outputs": [],
   "source": [
    "# 풀이\n",
    "# ----\n",
    "# 이 문제는 15와 25의 공통 배수 중 가장 작은 수, 즉 최소공배수를 구하면 바로 해결된다.\n",
    "\n",
    "# >>> import math\n",
    "# >>> math.lcm(15, 25)\n",
    "# 75\n",
    "# math.lcm() 함수를 사용하여 최소공배수 75를 구했다. 따라서 두 버스가 동시에 도착할 다음 시각은 75분 후인 오후 2시 15분이다.\n",
    "\n",
    "# 참고\n",
    "# ----\n",
    "# math - 수학 함수: https://docs.python.org/ko/3/library/math.html\n",
    "# 동영상 - https://youtube.com/shorts/ZW0QtKhdozw?feature=share"
   ]
  },
  {
   "attachments": {},
   "cell_type": "markdown",
   "metadata": {},
   "source": [
    "## 019 소수점을 정확하게 계산하려면? ― decimal.Decimal"
   ]
  },
  {
   "cell_type": "code",
   "execution_count": null,
   "metadata": {},
   "outputs": [],
   "source": [
    "# 019 소수점을 정확하게 계산하려면? ― decimal.Decimal\n",
    "# -------------------------------------------------\n",
    "# decimal.Decimal은 숫자를 10진수로 처리하여 정확한 소수점 자릿수를 표현할 때 사용하는 모듈이다.\n",
    "\n",
    "# 문제\n",
    "# ----\n",
    "# 다음은 파이썬에서 볼 수 있는 이상한 연산 결과의 예이다.\n",
    "\n",
    "# >>> 0.1 * 3 == 0.3\n",
    "# False\n",
    "# >>> 1.2 - 0.1 == 1.1\n",
    "# False\n",
    "# >>> 0.1 * 0.1 == 0.01\n",
    "# False\n",
    "\n",
    "# 이렇게 되는 이유는 이진수 기반의 파이썬 float 연산은 때에 따라 미세한 오차가 발생할 수 있기 때문이다.\n",
    "\n",
    "# >>> 0.1 * 3\n",
    "# 0.30000000000000004\n",
    "# >>> 1.2 - 0.1\n",
    "# 1.0999999999999999\n",
    "# >>> 0.1 * 0.1\n",
    "# 0.010000000000000002\n",
    "# >>>\n",
    "# 이런 연산 오류 없이 정확하게 계산하려면 어떻게 해야 할까?"
   ]
  },
  {
   "cell_type": "code",
   "execution_count": 25,
   "metadata": {},
   "outputs": [
    {
     "data": {
      "text/plain": [
       "True"
      ]
     },
     "execution_count": 25,
     "metadata": {},
     "output_type": "execute_result"
    }
   ],
   "source": [
    "0.1 * 3 == 0.3\n",
    "1.2 - 0.1 == 1.1\n",
    "0.1 * 0.1 == 0.01\n",
    "\n",
    "round(0.1 * 3, 5) == 0.3\n",
    "round(1.2 - 0.1, 3) == 1.1\n",
    "round(0.1 * 0.1, 5) == 0.01\n"
   ]
  },
  {
   "cell_type": "code",
   "execution_count": null,
   "metadata": {},
   "outputs": [],
   "source": [
    "# 풀이\n",
    "# ----\n",
    "# 같은지를 비교하는 == 연산자 대신 두 값이 가까운지를 확인하는 math.isclose() 함수를 사용하는 방법이 있다.\n",
    "\n",
    "# >>> import math\n",
    "# >>> math.isclose(0.1*3, 0.3)\n",
    "# True\n",
    "# >>> math.isclose(1.2-0.1, 1.1)\n",
    "# True\n",
    "# >>> math.isclose(0.1*0.1, 0.01)\n",
    "# True\n",
    "\n",
    "# 하지만, 두 값이 서로 가까우면 True를 반환하는 math.isclose()는 완전한 해결이 될 수 없다. \n",
    "# 그러므로 십진수 연산을 사용하는 decimal.Decimal을 사용하여 문제를 해결해야 한다. \n",
    "# 이때 인수는 '0.1'처럼 문자열이어야 한다.\n",
    "\n",
    "# >>> from decimal import Decimal\n",
    "# >>> Decimal('0.1') * 3\n",
    "# Decimal('0.3')\n",
    "# >>> Decimal('1.2') - Decimal('0.1')\n",
    "# Decimal('1.1')\n",
    "# >>> Decimal('0.1') * Decimal('0.1')\n",
    "# Decimal('0.01')\n",
    "# 그리고 Decimal 자료형은 다시 float 자료형으로 형변환할 수 있다.\n",
    "\n",
    "# >>> float(Decimal('1.2') - Decimal('0.1')) == 1.1\n",
    "# True\n",
    "\n",
    "\n",
    "# 알아두면 좋아요\n",
    "\n",
    "# Decimal 사용 시 주의해야 할 점\n",
    "# -----------------------------\n",
    "# 다음처럼 Decimal의 입력으로 문자열 '1.1' 대신 실수형 1.1을 입력하면 앞서 본 float 연산에서 발생한 문제가 그대로 나타난다.\n",
    "\n",
    "# >>> Decimal(1.1)\n",
    "# Decimal('1.100000000000000088817841970012523233890533447265625')\n",
    "# 그리고 Decimal 객체는 다음처럼 정수 연산은 가능하지만, 실수 연산은 불가능하다.\n",
    "\n",
    "# >>> Decimal('1.1') * 3\n",
    "# Decimal('3.3')\n",
    "# >>> Decimal('1.1') * 3.0\n",
    "# Traceback (most recent call last):\n",
    "#   File \"<stdin>\", line 1, in <module>\n",
    "# TypeError: unsupported operand type(s) for *: 'decimal.Decimal' and 'float'\n",
    "\n",
    "\n",
    "# 알아두면 좋아요\n",
    "\n",
    "# Decimal은 언제 사용하는 것이 좋을까?\n",
    "# ---------------------------------\n",
    "# Decimal은 정확성을 향상하고자 고정 소수점을 사용하여 메모리를 많이 차지하므로 모든 float 연산을 \n",
    "# Decimal로 바꾸는 것은 바람직한 방법이 아니다. \n",
    "# Decimal은 보통 한 치의 오차도 허용하지 않는 금융권 또는 재무/회계 관련 프로그램을 작성할 때 사용하는 것이 좋다.\n",
    "\n",
    "# 참고\n",
    "# ----\n",
    "# 부동 소수점 산술: 문제점 및 한계: https://docs.python.org/ko/3/tutorial/floatingpoint.html\n",
    "# decimal - 십진 고정 소수점 및 부동 소수점 산술: https://docs.python.org/ko/3/library/decimal.html\n",
    "# 숫자형 더 알아보기: https://wikidocs.net/12\n",
    "# 동영상 - https://youtube.com/shorts/Qp4kpVPJEzI?feature=share"
   ]
  },
  {
   "cell_type": "code",
   "execution_count": 31,
   "metadata": {},
   "outputs": [
    {
     "data": {
      "text/plain": [
       "True"
      ]
     },
     "execution_count": 31,
     "metadata": {},
     "output_type": "execute_result"
    }
   ],
   "source": [
    " import math\n",
    " \n",
    "math.isclose(0.1*3, 0.3)\n",
    "math.isclose(1.2-0.1, 1.1)\n",
    "math.isclose(0.1*0.1, 0.01)\n",
    "\n",
    "from decimal import Decimal\n",
    "Decimal('0.1') * 3\n",
    "Decimal('1.2') - Decimal('0.1')\n",
    "Decimal('0.1') * Decimal('0.1')\n",
    "\n",
    "float(Decimal('1.2') - Decimal('0.1')) == 1.1"
   ]
  },
  {
   "attachments": {},
   "cell_type": "markdown",
   "metadata": {},
   "source": [
    "## 020 분수를 정확하게 계산하려면? ― fractions"
   ]
  },
  {
   "cell_type": "code",
   "execution_count": null,
   "metadata": {},
   "outputs": [],
   "source": [
    "# 020 분수를 정확하게 계산하려면? ― fractions\n",
    "# -----------------------------------------\n",
    "\n",
    "# fractions는 유리수를 계산할 때 사용하는 모듈이다.\n",
    "\n",
    "# 유리수(rational number)란 두 정수의 비율 또는 분수 형식으로 나타낼 수 있는 수를 말한다.\n",
    "\n",
    "# 문제\n",
    "# ---\n",
    "# 유리수  1/5과 2/5를 더하면 3/5이다. 하지만, 파이썬을 이용한 유리수 연산 결과는 다음과 같다.\n",
    "\n",
    "# >>> 1/5 + 2/5\n",
    "# 0.6000000000000001\n",
    "\n",
    "# 1/5 + 2/5 = 3/5 과 같은 결과가 나오도록 유리수 연산을 하려면 어떻게 해야 할까?"
   ]
  },
  {
   "cell_type": "code",
   "execution_count": 32,
   "metadata": {},
   "outputs": [
    {
     "data": {
      "text/plain": [
       "0.6000000000000001"
      ]
     },
     "execution_count": 32,
     "metadata": {},
     "output_type": "execute_result"
    }
   ],
   "source": [
    "1/5 + 2/5"
   ]
  },
  {
   "cell_type": "code",
   "execution_count": null,
   "metadata": {},
   "outputs": [],
   "source": [
    "# 풀이\n",
    "# ----\n",
    "# 파이썬에서 유리수 연산을 정확하게 하려면 fractions.Fraction을 사용해야 한다.\n",
    "\n",
    "# >>> from fractions import Fraction\n",
    "# 유리수는 다음처럼 Fraction(분자, 분모) 형태로 만들 수 있다.\n",
    "\n",
    "# >>> a = Fraction(1, 5)\n",
    "# >>> a\n",
    "# Fraction(1, 5)\n",
    "# 또는 다음과 같이 Fraction('분자/분모')처럼 문자열로 만들 수도 있다.\n",
    "\n",
    "# >>> a = Fraction('1/5')\n",
    "# >>> a\n",
    "# Fraction(1, 5)\n",
    "# 분자의 값은 numerator로 알 수 있다.\n",
    "\n",
    "# >>> a.numerator\n",
    "# 1\n",
    "# 분모의 값은 denominator로 알 수 있다.\n",
    "\n",
    "# >>> a.denominator\n",
    "# 5\n",
    "# 그리고 \n",
    "# 은 다음처럼 계산할 수 있다.\n",
    "\n",
    "# >>> result = Fraction(1, 5)+Fraction(2, 5)\n",
    "# >>> result\n",
    "# Fraction(3, 5)\n",
    "# 물론 다음처럼 결괏값을 실수로 바꿀 수도 있다.\n",
    "\n",
    "# >>> float(result)\n",
    "# 0.6\n",
    "\n",
    "# 참고\n",
    "# fractions - 유리수: https://docs.python.org/ko/3/library/fractions.html\n",
    "# 동영상 - https://youtube.com/shorts/caw2QyAwdzU?feature=share"
   ]
  },
  {
   "cell_type": "code",
   "execution_count": 38,
   "metadata": {},
   "outputs": [
    {
     "data": {
      "text/plain": [
       "0.6"
      ]
     },
     "execution_count": 38,
     "metadata": {},
     "output_type": "execute_result"
    }
   ],
   "source": [
    "from fractions import Fraction\n",
    "\n",
    "a = Fraction(1, 5)\n",
    "b = Fraction(2, 5)\n",
    "a + b, float(a + b)\n",
    "\n",
    "c = Fraction('1/5')\n",
    "d = Fraction('2/5')\n",
    "c + d, float(c+d)\n",
    "\n",
    "result = Fraction(1, 5) + Fraction(2, 5)\n",
    "float(result)"
   ]
  },
  {
   "attachments": {},
   "cell_type": "markdown",
   "metadata": {},
   "source": [
    "## 021 로또 번호를 뽑으려면? ― random"
   ]
  },
  {
   "cell_type": "code",
   "execution_count": null,
   "metadata": {},
   "outputs": [],
   "source": [
    "# 021 로또 번호를 뽑으려면? ― random\n",
    "# ---------------------------------\n",
    "# random은 난수를 생성할 때 사용하는 모듈이다.\n",
    "\n",
    "# 문제\n",
    "# ----\n",
    "# 1부터 45 사이의 서로 다른 숫자 6개로 이루어진 로또 번호를 추첨하는 프로그램을 만들려면 어떻게 해야 할까?\n",
    "\n",
    "# 로또는 1부터 45까지의 숫자 중 6개가 맞으면 1등에 당첨되는 복권이다. 단, 숫자는 중복될 수 없다."
   ]
  },
  {
   "cell_type": "code",
   "execution_count": 45,
   "metadata": {},
   "outputs": [
    {
     "name": "stdout",
     "output_type": "stream",
     "text": [
      "80 1\n"
     ]
    }
   ],
   "source": [
    "import random\n",
    "\n",
    "no = 1\n",
    "while True:\n",
    "    num = random.randint(1, 45)\n",
    "    if num == 1 or num == 45:\n",
    "        print(no, num)\n",
    "        break\n",
    "    no += 1"
   ]
  },
  {
   "cell_type": "code",
   "execution_count": 49,
   "metadata": {},
   "outputs": [
    {
     "data": {
      "text/plain": [
       "[38, 26, 40, 8, 21, 15]"
      ]
     },
     "execution_count": 49,
     "metadata": {},
     "output_type": "execute_result"
    }
   ],
   "source": [
    "import random\n",
    "\n",
    "lot_machine = [ i for i in range(1, 46) ]\n",
    "lot_machine\n",
    "random.choice(lot_machine)\n",
    "\n",
    "random.sample(range(1, 46), 6)\n",
    "random.sample()"
   ]
  },
  {
   "cell_type": "code",
   "execution_count": null,
   "metadata": {},
   "outputs": [],
   "source": [
    "# 풀이\n",
    "# ----\n",
    "# 무작위 숫자를 생성하려면 random 모듈을 사용하면 된다.\n",
    "\n",
    "# [파일명: random_sample.py]\n",
    "\n",
    "# import random\n",
    "\n",
    "# result = []\n",
    "# while len(result) < 6:\n",
    "#     num = random.randint(1, 45)  # 1~45 사이의 숫자중 임의의 숫자 생성\n",
    "#     if num not in result:  # 중복 숫자 뽑기 방지\n",
    "#         result.append(num)\n",
    "\n",
    "# print(result)  # 무작위 생성된 6개의 숫자 출력\n",
    "\n",
    "# random.randint(1, 45)는 1~45 사이의 숫자 한 개를 무작위로 생성하는 함수이다.\n",
    "\n",
    "# 알아두면 좋아요\n",
    "\n",
    "# sample과 choice\n",
    "# ---------------\n",
    "# 리스트 요소를 무작위로 섞고 싶다면 다음처럼 random.sample() 함수를 사용한다.\n",
    "\n",
    "# >>> a = [1,2,3,4,5]\n",
    "# >>> random.sample(a, len(a))\n",
    "# [5, 3, 2, 4, 1] \n",
    "\n",
    "# random.sample() 함수에서 2번째 인수인 len(a)는 무작위로 추출할 원소의 갯수를 의미한다. \n",
    "# 만약 random.sample(a, 3)과 같이 사용한다면 a 리스트에서 무작위로 3개를 추출하여 리턴할 것이다.\n",
    "\n",
    "# 리스트 요소에서 무작위로 하나를 선택하려면 random.choice()를 사용한다.\n",
    "\n",
    "# >>> a = [1,2,3,4,5]\n",
    "\n",
    "# >>> random.choice(a)\n",
    "# 2\n",
    "\n",
    "# 참고\n",
    "# random - 의사 난수 생성: https://docs.python.org/ko/3/library/random.html\n",
    "# 동영상1 - https://youtube.com/shorts/IVx3sDUn9mQ?feature=share\n",
    "# 동영상2 - https://youtube.com/shorts/aN7EWz2D--w?feature=share"
   ]
  },
  {
   "cell_type": "code",
   "execution_count": 56,
   "metadata": {},
   "outputs": [
    {
     "name": "stdout",
     "output_type": "stream",
     "text": [
      "[40, 33, 43, 22, 25, 34]\n"
     ]
    }
   ],
   "source": [
    "import random\n",
    "\n",
    "result = []\n",
    "cnt = 0\n",
    "while cnt <= 6:\n",
    "    num = random.randint(1, 46)\n",
    "    if num not in result:\n",
    "        result.append(num)\n",
    "    cnt += 1\n",
    "    \n",
    "print(result)\n",
    "     \n",
    "    "
   ]
  },
  {
   "attachments": {},
   "cell_type": "markdown",
   "metadata": {},
   "source": [
    "## 022 시험 결과의 평균값과 중앙값을 알려면? ― statistics"
   ]
  },
  {
   "cell_type": "code",
   "execution_count": null,
   "metadata": {},
   "outputs": [],
   "source": [
    "# 022 시험 결과의 평균값과 중앙값을 알려면? ― statistics\n",
    "# ----------------------------------------------------\n",
    "# statistics는 평균값과 중앙값을 구할 때 사용하는 모듈이다.\n",
    "\n",
    "# 알아두면 좋아요\n",
    "\n",
    "# 중앙값\n",
    "# ------\n",
    "# 중앙값이란 주어진 값을 크기순서대로 정렬했을 때 가장 가운데 위치하는 값을 말한다. \n",
    "# 예를 들어 1, 2, 100 세 개의 값이 있을 때, 2가 가장 가운데에 있으므로 2가 중앙값이다. \n",
    "# 값이 짝수 개일 때에는 중앙값이 두 개일 수 있다. 이때는 두 값의 평균을 중앙값으로 한다. \n",
    "# 예를 들어 1, 10, 90, 200 네 수의 중앙값은 10과 90의 평균인 50이다.\n",
    "\n",
    "# 문제\n",
    "# ----\n",
    "# 다음은 A반 학생 10명의 중간고사 수학 점수 데이터이다.\n",
    "\n",
    "# marks = [78, 93, 99, 95, 51, 71, 52, 43, 81, 78]\n",
    "\n",
    "# 다른 반과 비교하고자 이 데이터를 이용하여 A반 수학 점수의 평균값과 중앙값을 구하려면 어떻게 해야 할까?"
   ]
  },
  {
   "cell_type": "code",
   "execution_count": 86,
   "metadata": {},
   "outputs": [
    {
     "name": "stdout",
     "output_type": "stream",
     "text": [
      "74.1\n",
      "----------------------------------------------------------------------\n",
      "78.0\n"
     ]
    }
   ],
   "source": [
    "marks = [78, 93, 99, 95, 51, 71, 52, 43, 81, 78]\n",
    "\n",
    "marks.sort()\n",
    "\n",
    "total_mark = 0\n",
    "for mark in marks:\n",
    "    total_mark += mark \n",
    "avg_mark = total_mark / len(marks)\n",
    "\n",
    "print(avg_mark)\n",
    "print('-'*70)\n",
    "\n",
    "\n",
    "pos = (len(marks) // 2) - 1\n",
    "if len(marks) % 2 == 0:\n",
    "    result = sum(marks[pos:pos+2]) / 2\n",
    "else:\n",
    "    result = marks[pos+1]\n",
    "print(result)\n",
    "\n"
   ]
  },
  {
   "cell_type": "code",
   "execution_count": null,
   "metadata": {},
   "outputs": [],
   "source": [
    "# 풀이\n",
    "# ----\n",
    "\n",
    "# 평균값은 statistics.mean() 함수를 사용하면 간단하게 구할 수 있다.\n",
    "\n",
    "# >>> import statistics\n",
    "# >>> marks = [78, 93, 99, 95, 51, 71, 52, 43, 81, 78]\n",
    "# >>> statistics.mean(marks)\n",
    "# 74.1\n",
    "# 그리고 중앙값은 statistics.median() 함수를 사용하여 구하면 된다.\n",
    "\n",
    "# >>> statistics.median(marks)\n",
    "# 78.0\n",
    "# 참고\n",
    "# statistics - 수학 통계 함수: https://docs.python.org/ko/3/library/statistics.html\n",
    "# 동영상 - https://youtube.com/shorts/UycetuymiDo?feature=share"
   ]
  },
  {
   "cell_type": "code",
   "execution_count": 87,
   "metadata": {},
   "outputs": [
    {
     "name": "stdout",
     "output_type": "stream",
     "text": [
      "74.1\n",
      "78.0\n"
     ]
    }
   ],
   "source": [
    "import statistics\n",
    "\n",
    "marks = [78, 93, 99, 95, 51, 71, 52, 43, 81, 78]\n",
    "\n",
    "print(statistics.mean(marks))\n",
    "print(statistics.median(marks))"
   ]
  }
 ],
 "metadata": {
  "kernelspec": {
   "display_name": "Python 3.9.12 ('base')",
   "language": "python",
   "name": "python3"
  },
  "language_info": {
   "codemirror_mode": {
    "name": "ipython",
    "version": 3
   },
   "file_extension": ".py",
   "mimetype": "text/x-python",
   "name": "python",
   "nbconvert_exporter": "python",
   "pygments_lexer": "ipython3",
   "version": "3.9.12"
  },
  "orig_nbformat": 4,
  "vscode": {
   "interpreter": {
    "hash": "f08154012ddadd8e950e6e9e035c7a7b32c136e7647e9b7c77e02eb723a8bedb"
   }
  }
 },
 "nbformat": 4,
 "nbformat_minor": 2
}
