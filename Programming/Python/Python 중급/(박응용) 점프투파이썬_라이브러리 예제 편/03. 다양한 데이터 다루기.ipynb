{
 "cells": [
  {
   "cell_type": "code",
   "execution_count": null,
   "metadata": {},
   "outputs": [],
   "source": [
    "# 03장 다양한 데이터 다루기\n",
    "# ------------------------\n",
    "# 이번 장에서는 두 날짜의 차이나 특정 날짜의 요일을 쉽게 구할 수 있는 datetime 모듈, 윤년을 확인할 수 있는 calendar 모듈, 튜플과 딕셔너리를 좀 더 특별하게 만들어 주는 collections 모듈을 알아본다. 그리고 데이터를 보기 좋게 출력하는 pprint 등과 같은 데이터와 관련된 모듈도 함께 알아보자."
   ]
  }
 ],
 "metadata": {
  "kernelspec": {
   "display_name": "Python 3.9.12 ('base')",
   "language": "python",
   "name": "python3"
  },
  "language_info": {
   "name": "python",
   "version": "3.9.12"
  },
  "orig_nbformat": 4,
  "vscode": {
   "interpreter": {
    "hash": "f08154012ddadd8e950e6e9e035c7a7b32c136e7647e9b7c77e02eb723a8bedb"
   }
  }
 },
 "nbformat": 4,
 "nbformat_minor": 2
}
