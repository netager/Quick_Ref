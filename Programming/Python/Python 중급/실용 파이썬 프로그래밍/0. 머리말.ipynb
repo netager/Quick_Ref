{
 "cells": [
  {
   "cell_type": "code",
   "execution_count": null,
   "metadata": {},
   "outputs": [],
   "source": [
    "# 데이비드 M. 비즐리(David Beazley)의 《Practical Python Programming》을 번역한 책입니다."
   ]
  }
 ],
 "metadata": {
  "language_info": {
   "name": "python"
  },
  "orig_nbformat": 4
 },
 "nbformat": 4,
 "nbformat_minor": 2
}
