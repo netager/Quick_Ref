{
 "cells": [
  {
   "cell_type": "markdown",
   "metadata": {},
   "source": [
    "# 4.1 클래스"
   ]
  },
  {
   "cell_type": "markdown",
   "metadata": {},
   "source": [
    "## 객체 지향(Object Oriented, OO) 프로그래밍"
   ]
  },
  {
   "cell_type": "markdown",
   "metadata": {},
   "source": [
    "### class 문"
   ]
  },
  {
   "cell_type": "code",
   "execution_count": null,
   "metadata": {},
   "outputs": [],
   "source": [
    "# class 문\n",
    "# --------\n",
    "# class 문을 사용해 새로운 객체를 정의한다.\n",
    "\n",
    "class Player:\n",
    "    def __init__(self, x, y):\n",
    "        self.x = x\n",
    "        self.y = y\n",
    "        self.health = 100\n",
    "\n",
    "    def move(self, dx, dy):\n",
    "        self.x += dx\n",
    "        self.y += dy\n",
    "\n",
    "    def damage(self, pts):\n",
    "        self.health -= pts"
   ]
  },
  {
   "cell_type": "markdown",
   "metadata": {},
   "source": [
    "## 객체"
   ]
  },
  {
   "cell_type": "code",
   "execution_count": null,
   "metadata": {},
   "outputs": [],
   "source": [
    "# 클래스를 함수로서 호출하여 생성한다.\n",
    "\n",
    "a = Player(2, 3)\n",
    "b = Player(10, 20)\n",
    "\n",
    "# a와 b는 객체이며, Player Class의 인스턴스다.\n",
    "\n",
    "# 강조: class 문은 정의(definition)일 뿐이다(그 자체로는 아무 일도 하지 않는다). 함수 정의와 마찬가지다.\n",
    "\n",
    "\n",
    "\n",
    "# 인스턴스 데이터\n",
    "# ---------------\n",
    "# 인스턴스에는 자체 로컬 데이터가 있다."
   ]
  },
  {
   "cell_type": "markdown",
   "metadata": {},
   "source": [
    "## 인스턴스 메서드"
   ]
  },
  {
   "cell_type": "code",
   "execution_count": null,
   "metadata": {},
   "outputs": [],
   "source": [
    "# 인스턴스 메서드\n",
    "# --------------\n",
    "\n",
    "# 인스턴스 메서드는 객체의 인스턴스에 적용되는 함수다.\n",
    "\n",
    "class Player:\n",
    "    ...\n",
    "    # `move`는 메서드다\n",
    "    def move(self, dx, dy):\n",
    "        self.x += dx\n",
    "        self.y += dy\n",
    "\n",
    "# 객체 그 자체가 항상 첫 번째 인자로 전달된다.\n",
    "\n",
    "a.move(1, 2)\n",
    "\n",
    "# `a`를 `self`와 매치\n",
    "# `1`을 `dx`와 매치\n",
    "# `2`를 `dy`와 매치\n",
    "\n",
    "# def move(self, dx, dy):\n",
    "\n",
    "# 관례적으로 인스턴스를 self라고 한다. 그러나 실제로 어떤 이름을 쓰는지는 중요하지 않다. \n",
    "# 객체는 항상 첫 번째 인자로 전달된다. 이 인자를 self라고 부르는 것은 파이썬 프로그래밍 스타일일 뿐이다."
   ]
  },
  {
   "cell_type": "markdown",
   "metadata": {},
   "source": [
    "## 클래스 스코핑"
   ]
  },
  {
   "cell_type": "code",
   "execution_count": null,
   "metadata": {},
   "outputs": [],
   "source": [
    "# 클래스 스코핑\n",
    "# -------------\n",
    "# 클래스는 이름의 스코프를 정의하지 않는다.\n",
    "\n",
    "# class Player:\n",
    "#     ...\n",
    "#     def move(self, dx, dy):\n",
    "#         self.x += dx\n",
    "#         self.y += dy\n",
    "\n",
    "#     def left(self, amt):\n",
    "#         move(-amt, 0)       # NO. 글로벌 `move` 함수를 호출\n",
    "#         self.move(-amt, 0)  # YES. 위에 정의한 `move` 메서드를 호출.\n",
    "\n",
    "# 인스턴스에 대한 연산을 하고 싶으면, 항상 명시적으로 참조한다(예: self)."
   ]
  },
  {
   "cell_type": "markdown",
   "metadata": {},
   "source": [
    "## 연습 문제"
   ]
  },
  {
   "cell_type": "code",
   "execution_count": null,
   "metadata": {},
   "outputs": [],
   "source": [
    "# 지금부터 나오는 연습 문제는 이전 섹션에서 작성한 코드를 변경한다. \n",
    "# 연습 문제 3.18의 코드가 올바로 작동하는 것을 가지고 시작해야 한다. \n",
    "# 그렇지 못할 경우, Solutions/3_18 디렉터리의 해답 코드를 가지고 실습하라. 복사해서 써도 된다."
   ]
  },
  {
   "cell_type": "markdown",
   "metadata": {},
   "source": [
    "## 연습 문제 4.1: 데이터 구조로서의 객체"
   ]
  },
  {
   "cell_type": "code",
   "execution_count": null,
   "metadata": {},
   "outputs": [],
   "source": [
    "# 섹션 2와 3에서, 튜플과 딕셔너리로서 표현되는 데이터를 가지고 작업했다. \n",
    "# 예를 들어, 보유 주식을 다음과 같이 튜플로 표현했다.\n",
    "\n",
    "# s = ('GOOG',100,490.10)\n",
    "# 또는 다음과 같이 딕셔너리를 사용했다.\n",
    "\n",
    "# s = { 'name'   : 'GOOG',\n",
    "#       'shares' : 100,\n",
    "#       'price'  : 490.10\n",
    "# }\n",
    "\n",
    "# 그러한 데이터를 조작하는 함수를 작성할 수도 있다. 예:\n",
    "\n",
    "# def cost(s):\n",
    "#     return s['shares'] * s['price']\n",
    "\n",
    "# 그렇지만 프로그램이 커져감에 따라 조직화를 더 잘 하고 싶어질 것이다. \n",
    "# 따라서 클래스를 정의함으로써 데이터를 표현하는 접근을 취할 수 있다. \n",
    "# stock.py라는 파일을 만들어 보유 주식 한 종목을 표현하는 Stock 클래스를 정의하자. \n",
    "# Stock 인스턴스에는 name, shares, price 어트리뷰트가 있다. 예:"
   ]
  },
  {
   "cell_type": "code",
   "execution_count": null,
   "metadata": {},
   "outputs": [],
   "source": [
    "%%writefile ../../test_bed/stock.py\n",
    "class Stock:\n",
    "    def __init__(self, name, shares, price):\n",
    "        self.name = name\n",
    "        self.shares = shares\n",
    "        self.price = price    \n",
    "        "
   ]
  },
  {
   "cell_type": "code",
   "execution_count": null,
   "metadata": {},
   "outputs": [],
   "source": [
    "import stock\n",
    "\n",
    "a = stock.Stock('GOOG', 100, 490.10)\n",
    "a.name, a.shares, a.price\n",
    "\n",
    "b = stock.Stock('APPL', 50, 122.34)\n",
    "b.name, b.shares, b.price\n",
    "\n",
    "c = stock.Stock('IBM', 75, 91.75)\n",
    "c.name, c.shares, c.price\n",
    "\n",
    "b.shares * b.price\n",
    "c.shares * c.price\n",
    "\n",
    "stocks = [a, b, c]\n",
    "stocks\n",
    "\n",
    "for s in stocks:\n",
    "    print(f'{s.name:>10s} {s.shares:>10d} {s.price:>10.2f}')\n"
   ]
  },
  {
   "cell_type": "code",
   "execution_count": null,
   "metadata": {},
   "outputs": [],
   "source": [
    "# 여기서 강조하고 싶은 것은 Stock 클래스가 객체의 인스턴스를 생성하는 팩토리처럼 작동한다는 점이다. \n",
    "# 기본적으로, 그것을 함수로서 호출해 새로운 객체를 생성할 수 있다. \n",
    "# 또한, 각 객체는 고유하다는 점이 중요하다. 객체가 갖는 데이터는 다른 객체가 생성될 때 갖게 되는 데이터와 별개다.\n",
    "\n",
    "# 클래스에 의해 정의된 객체는, 구문은 좀 다르지만 딕셔너리와도 비슷하다. \n",
    "# 예를 들어, s['name']과 s['price'] 대신, s.name과 s.price라고 작성한다."
   ]
  },
  {
   "cell_type": "markdown",
   "metadata": {},
   "source": [
    "### 연습 문제 4.2: 메서드를 추가하기"
   ]
  },
  {
   "cell_type": "code",
   "execution_count": null,
   "metadata": {},
   "outputs": [],
   "source": [
    "# 클래스에서는 객체에 함수를 붙일 수 있는데, 이를 메서드라 한다. 메서드는 객체 내에 저장된 데이터를 조작하는 함수다. \n",
    "# Stock 객체에 cost()와 sell() 메서드를 추가하자. 다음과 같이 작동한다.\n",
    "\n",
    "# >>> import stock\n",
    "# >>> s = stock.Stock('GOOG', 100, 490.10)\n",
    "# >>> s.cost()\n",
    "# 49010.0\n",
    "# >>> s.shares\n",
    "# 100\n",
    "# >>> s.sell(25)\n",
    "# >>> s.shares\n",
    "# 75\n",
    "# >>> s.cost()\n",
    "# 36757.5\n",
    "# >>>"
   ]
  },
  {
   "cell_type": "code",
   "execution_count": null,
   "metadata": {},
   "outputs": [],
   "source": [
    "%%writefile ../../test_bed/stock.py\n",
    "class Stock:\n",
    "    def __init__(self, name, shares, price):\n",
    "        self.name = name\n",
    "        self.shares = shares\n",
    "        self.price = price\n",
    "    \n",
    "        \n",
    "    def cost(self):\n",
    "        return self.shares * self.price  \n",
    "    \n",
    "    \n",
    "    def sell(self, shares):\n",
    "        self.shares -= shares\n",
    "        return self.shares  "
   ]
  },
  {
   "cell_type": "code",
   "execution_count": null,
   "metadata": {},
   "outputs": [],
   "source": [
    "import stock\n",
    "\n",
    "s = stock.Stock('GOOG', 100, 490.10)\n",
    "s.name, s.shares, s.price\n",
    "s.cost()\n",
    "s.shares\n",
    "s.sell(25)\n",
    "s.cost()"
   ]
  },
  {
   "cell_type": "markdown",
   "metadata": {},
   "source": [
    "### 연습 문제 4.3: 인스턴스의 리스트를 생성하기"
   ]
  },
  {
   "cell_type": "code",
   "execution_count": null,
   "metadata": {},
   "outputs": [],
   "source": [
    "# 딕셔너리의 리스트로부터 Stock 인스턴스의 리스트를 만들어 보자. 그런 다음 총 비용을 계산한다.\n",
    "\n",
    "# >>> import fileparse\n",
    "# >>> with open('Data/portfolio.csv') as lines:\n",
    "# ...     portdicts = fileparse.parse_csv(lines, select=['name','shares','price'], types=[str,int,float])\n",
    "# ...\n",
    "# >>> portfolio = [ stock.Stock(d['name'], d['shares'], d['price']) for d in portdicts]\n",
    "# >>> portfolio\n",
    "# [<stock.Stock object at 0x10c9e2128>, <stock.Stock object at 0x10c9e2048>, <stock.Stock object at 0x10c9e2080>,\n",
    "#  <stock.Stock object at 0x10c9e25f8>, <stock.Stock object at 0x10c9e2630>, <stock.Stock object at 0x10ca6f748>,\n",
    "#  <stock.Stock object at 0x10ca6f7b8>]\n",
    "# >>> sum([s.cost() for s in portfolio])\n",
    "# 44671.15\n",
    "# >>>"
   ]
  },
  {
   "cell_type": "code",
   "execution_count": null,
   "metadata": {},
   "outputs": [],
   "source": [
    "import fileparse\n",
    "import stock\n",
    "\n",
    "with open('../../data/portfolio.csv') as lines:\n",
    "    portdicts = fileparse.parse_csv(lines, select=['name', 'shares', 'price'], types=[str, int, float])\n",
    "\n",
    "portfolio = [ stock.Stock(d['name'], d['shares'], d['price']) for d in portdicts ] \n",
    "portfolio\n",
    "\n",
    "sum([ s.cost() for s in portfolio ])"
   ]
  },
  {
   "cell_type": "markdown",
   "metadata": {},
   "source": [
    "### 연습 문제 4.4: 클래스를 사용하기"
   ]
  },
  {
   "cell_type": "code",
   "execution_count": null,
   "metadata": {},
   "outputs": [],
   "source": [
    "\n",
    "# 포트폴리오를 읽어 연습 문제 4.3에 보인 것과 같은 Stock 인스턴스의 리스트를 만들도록report.py 프로그램의 read_portfolio() 함수를 수정하라. \n",
    "# 완료하면, 딕셔너리 대신 Stock 인스턴스를 사용하게 report.py와 pcost.py의 코드를 모두 수정한다.\n",
    "\n",
    "# 힌트: 코드를 너무 많이 수정하면 안 된다. 딕셔너리 액세스 s['shares']를 s.shares로 바꾸는 것과 같이 소소한 변경을 한다.\n",
    "\n",
    "# 이전과 같은 방법으로 함수를 실행할 수 있어야 한다.\n",
    "\n",
    "# >>> import pcost\n",
    "# >>> pcost.portfolio_cost('Data/portfolio.csv')\n",
    "# 44671.15\n",
    "# >>> import report\n",
    "# >>> report.portfolio_report('Data/portfolio.csv', 'Data/prices.csv')\n",
    "#       Name     Shares      Price     Change\n",
    "# ---------- ---------- ---------- ----------\n",
    "#         AA        100       9.22     -22.98\n",
    "#        IBM         50     106.28      15.18\n",
    "#        CAT        150      35.46     -47.98\n",
    "#       MSFT        200      20.89     -30.34\n",
    "#         GE         95      13.48     -26.89\n",
    "#       MSFT         50      20.89     -44.21\n",
    "#        IBM        100     106.28      35.84\n",
    "# >>>"
   ]
  },
  {
   "cell_type": "code",
   "execution_count": null,
   "metadata": {},
   "outputs": [],
   "source": [
    "%%writefile ../../test_bed/report.py\n",
    "# report.py\n",
    "'''\n",
    "Reporting Program Tools\n",
    "'''\n",
    "import fileparse\n",
    "from babel.numbers import format_currency\n",
    "\n",
    "\n",
    "def read_portfolio(filename):\n",
    "    '''\n",
    "    Read a stock portfolio file into a list of dictionaries with keys\n",
    "    name, shares, and price.\n",
    "    '''\n",
    "    with open(filename) as lines:\n",
    "        return fileparse.parse_csv(lines, select=['name','shares','price'], types=[str, int, float])    \n",
    "\n",
    "\n",
    "def read_prices(filename):\n",
    "    '''\n",
    "    Read a CSV file of price data into a dict mapping names to prices\n",
    "    '''\n",
    "    with open(filename) as lines:\n",
    "        return dict(fileparse.parse_csv(lines, types=[str, float], has_headers=False))\n",
    "\n",
    "\n",
    "def make_report_data(portfolio, prices):\n",
    "    '''\n",
    "    make a list of (name, shares, price, change) touples given a portfolio list and prices dictionary.\n",
    "    '''\n",
    "    rows = []\n",
    "    for stock in portfolio:\n",
    "        current_price = prices[stock['name']]\n",
    "        change = current_price - stock['price']\n",
    "        summary = (stock['name'], stock['shares'], current_price, change)\n",
    "        rows.append(summary)\n",
    "    return rows    \n",
    "\n",
    "\n",
    "def print_report(reportdata):\n",
    "    '''\n",
    "    Print a nicely formated table from a list of (name, shares, price, chang) tuple\n",
    "    '''\n",
    "    headers = ('Name', 'Shares', 'Price', 'Change')\n",
    "    print('%10s %10s %10s %10s' %headers)\n",
    "    print(('-'*10+' ')* len(headers))\n",
    "    for row in reportdata:\n",
    "        print('%10s %10d %10.2f %10.2f' % row)\n",
    "\n",
    "\n",
    "def portfolio_report(portfoliofile, pricefile):\n",
    "    '''\n",
    "    Make a stock report given portfolio and price data files\n",
    "    '''\n",
    "    # Read data files\n",
    "    portfolio = read_portfolio(portfoliofile)\n",
    "    prices = read_prices(pricefile)\n",
    "    \n",
    "    # Create the report data\n",
    "    report = make_report_data(portfolio, prices)\n",
    "    \n",
    "    # Print it out\n",
    "    print_report(report)\n",
    "\n",
    "\n",
    "def main(args):\n",
    "    if len(args) != 3:\n",
    "        raise SystemExit('Usage: %s portfile pricefile' % args[0])\n",
    "    \n",
    "    portfolio_report(args[1], args[2])\n",
    "\n",
    "\n",
    "if __name__ == '__main__':\n",
    "    import sys\n",
    "    main(sys.argv)"
   ]
  },
  {
   "cell_type": "code",
   "execution_count": 3,
   "metadata": {},
   "outputs": [
    {
     "data": {
      "text/plain": [
       "[{'name': 'AA', 'shares': 100, 'price': 32.2},\n",
       " {'name': 'IBM', 'shares': 50, 'price': 91.1},\n",
       " {'name': 'CAT', 'shares': 150, 'price': 83.44},\n",
       " {'name': 'MSFT', 'shares': 200, 'price': 51.23},\n",
       " {'name': 'GE', 'shares': 95, 'price': 40.37},\n",
       " {'name': 'MSFT', 'shares': 50, 'price': 65.1},\n",
       " {'name': 'IBM', 'shares': 100, 'price': 70.44}]"
      ]
     },
     "execution_count": 3,
     "metadata": {},
     "output_type": "execute_result"
    }
   ],
   "source": [
    "import fileparse\n",
    "\n",
    "with open('../../data/portfolio.csv') as lines:\n",
    "    portdicts = fileparse.parse_csv(lines, select=['name', 'shares', 'price'], types=[str, int, float])\n",
    "portdicts    "
   ]
  },
  {
   "cell_type": "code",
   "execution_count": 31,
   "metadata": {},
   "outputs": [
    {
     "name": "stdout",
     "output_type": "stream",
     "text": [
      "Writing ../../test_bed/stock.py\n"
     ]
    }
   ],
   "source": [
    "%%writefile ../../test_bed/stock.py\n",
    "class Stock:\n",
    "    def __init__(self, name, shares, price):\n",
    "        self.name = name\n",
    "        self.shares = shares\n",
    "        self.price = price\n",
    "        \n",
    "    def cost(self):\n",
    "        return self.shares * self.price\n",
    "        \n",
    "    def sell(self, shares):\n",
    "        self.shares -= shares            \n"
   ]
  },
  {
   "cell_type": "code",
   "execution_count": 34,
   "metadata": {},
   "outputs": [
    {
     "name": "stdout",
     "output_type": "stream",
     "text": [
      "GOOG 100 490.1\n",
      "AAPL 50 122.34\n",
      "IBM 75 91.75\n"
     ]
    },
    {
     "data": {
      "text/plain": [
       "[<__main__.Stock at 0x1a88a2529a0>,\n",
       " <__main__.Stock at 0x1a88a252730>,\n",
       " <__main__.Stock at 0x1a88a231850>,\n",
       " <__main__.Stock at 0x1a88a341310>,\n",
       " <__main__.Stock at 0x1a88a341f40>,\n",
       " <__main__.Stock at 0x1a88a3411c0>,\n",
       " <__main__.Stock at 0x1a88a341bb0>]"
      ]
     },
     "execution_count": 34,
     "metadata": {},
     "output_type": "execute_result"
    }
   ],
   "source": [
    "a = Stock('GOOG', 100, 490.10)\n",
    "b = Stock('AAPL', 50, 122.34)\n",
    "b.name, b.shares, b.price        \n",
    "\n",
    "c = Stock('IBM', 75, 91.75)\n",
    "c.name, b.shares, b.price        \n",
    "c.shares * c.price\n",
    "\n",
    "stocks = [a, b, c]\n",
    "stocks\n",
    "for s in stocks:\n",
    "    print(f'{s.name} {s.shares} {s.price}')\n",
    "    \n",
    "a.cost()    \n",
    "a.sell(25)\n",
    "a.shares\n",
    "\n",
    "import fileparse\n",
    "with open('../../data/portfolio.csv') as lines:\n",
    "    portdicts = fileparse.parse_csv(lines, select=['name','shares','price'], types=[str, int, float])\n",
    "    portfolio = [ Stock(d['name'], d['shares'], d['price']) for d in portdicts ]\n",
    "portfolio    \n",
    "\n",
    "# sum([ s.shares * s.price for s in portfolio ])\n"
   ]
  },
  {
   "cell_type": "code",
   "execution_count": 35,
   "metadata": {},
   "outputs": [
    {
     "name": "stdout",
     "output_type": "stream",
     "text": [
      "Writing ../../test_bed/prices.py\n"
     ]
    }
   ],
   "source": [
    "%%writefile ../../test_bed/prices.py\n",
    "class Prices:\n",
    "    def __init__(self, name, price):\n",
    "        self.name = name\n",
    "        self.price = price"
   ]
  },
  {
   "cell_type": "code",
   "execution_count": 4,
   "metadata": {},
   "outputs": [
    {
     "name": "stdout",
     "output_type": "stream",
     "text": [
      "Overwriting ../../test_bed/report.py\n"
     ]
    }
   ],
   "source": [
    "%%writefile ../../test_bed/report.py\n",
    "# report.py\n",
    "\n",
    "import fileparse\n",
    "import stock\n",
    "import prices\n",
    "\n",
    "def read_portfolio(filename):\n",
    "    '''\n",
    "    Read a stock portfolio file into a list of dictionaries with keys\n",
    "    name, shares, and price.\n",
    "    '''\n",
    "    with open(filename) as lines:\n",
    "        # return fileparse.parse_csv(lines, select=['name','shares','price'], types=[str,int,float])\n",
    "\n",
    "        # Convert Dictionary to Object     \n",
    "        portdicts = fileparse.parse_csv(lines, select=['name','shares','price'], types=[str,int,float])\n",
    "        print('[report.py]<read_portfolio()> Return to Object')\n",
    "        return [ stock.Stock(d['name'], d['shares'], d['price']) for d in portdicts ]\n",
    "\n",
    "def read_prices(filename):\n",
    "    '''\n",
    "    Read a CSV file of price data into a dict mapping names to prices.\n",
    "    '''\n",
    "    with open(filename) as lines:\n",
    "        return dict(fileparse.parse_csv(lines, types=[str,float], has_headers=False))\n",
    "\n",
    "        # Convert Dictionary to Object     \n",
    "        # portdicts = fileparse.parse_csv(lines, types=[str,float], has_headers=False)\n",
    "        # return [ prices.Prices(d.name, d.price) for d in portdicts ]\n",
    "\n",
    "\n",
    "def make_report_data(portfolio,prices):\n",
    "    '''\n",
    "    Make a list of (name, shares, price, change) tuples given a portfolio list\n",
    "    and prices dictionary.\n",
    "    '''\n",
    "    rows = []\n",
    "    for stock in portfolio:\n",
    "        current_price = prices[stock.name]\n",
    "        change = current_price - stock.price\n",
    "        summary = (stock.name, stock.shares, current_price, change)\n",
    "        rows.append(summary)\n",
    "    return rows\n",
    "\n",
    "def print_report(reportdata):\n",
    "    '''\n",
    "    Print a nicely formated table from a list of (name, shares, price, change) tuples.\n",
    "    '''\n",
    "    headers = ('Name','Shares','Price','Change')\n",
    "    print('%10s %10s %10s %10s' % headers)\n",
    "    print(('-'*10 + ' ')*len(headers))\n",
    "    for row in reportdata:\n",
    "        print('%10s %10d %10.2f %10.2f' % row)\n",
    "\n",
    "def portfolio_report(portfoliofile, pricefile):        \n",
    "    '''\n",
    "    Make a stock report given portfolio and price data files.\n",
    "    '''\n",
    "    # Read data files \n",
    "    portfolio = read_portfolio(portfoliofile)\n",
    "    prices = read_prices(pricefile)\n",
    "\n",
    "    # Create the report data\n",
    "    report = make_report_data(portfolio, prices)\n",
    "\n",
    "    # Print it out\n",
    "    print_report(report)\n",
    "\n",
    "def main(args):\n",
    "    if len(args) != 3:\n",
    "        raise SystemExit('Usage: %s portfile pricefile' % args[0])\n",
    "    portfolio_report(args[1], args[2])\n",
    "\n",
    "if __name__ == '__main__':\n",
    "    import sys\n",
    "    main(sys.argv)"
   ]
  },
  {
   "cell_type": "code",
   "execution_count": 39,
   "metadata": {},
   "outputs": [
    {
     "name": "stdout",
     "output_type": "stream",
     "text": [
      "Overwriting ../../test_bed/pcost.py\n"
     ]
    }
   ],
   "source": [
    "%%writefile ../../test_bed/pcost.py\n",
    "# pcost.py\n",
    "\n",
    "import report\n",
    "\n",
    "def portfolio_cost(filename):\n",
    "    '''\n",
    "    Computes the total cost (shares*price) of a portfolio file\n",
    "    '''\n",
    "    portfolio = report.read_portfolio(filename)\n",
    "    return sum([s.shares * s.price for s in portfolio])\n",
    "\n",
    "def main(args):\n",
    "    if len(args) != 2:\n",
    "        raise SystemExit('Usage: %s portfoliofile' % args[0])\n",
    "    filename = args[1]\n",
    "    print('Total cost:', portfolio_cost(filename))\n",
    "\n",
    "if __name__ == '__main__':\n",
    "    import sys\n",
    "    main(sys.argv)"
   ]
  },
  {
   "cell_type": "code",
   "execution_count": 1,
   "metadata": {},
   "outputs": [],
   "source": [
    "import sys\n",
    "sys.path.append('../../test_bed')"
   ]
  },
  {
   "cell_type": "code",
   "execution_count": 2,
   "metadata": {},
   "outputs": [
    {
     "name": "stdout",
     "output_type": "stream",
     "text": [
      "[report.py]<read_portfolio()> Return to Object\n"
     ]
    },
    {
     "data": {
      "text/plain": [
       "44671.15"
      ]
     },
     "execution_count": 2,
     "metadata": {},
     "output_type": "execute_result"
    }
   ],
   "source": [
    "import pcost\n",
    "\n",
    "pcost.portfolio_cost('../../data/portfolio.csv')"
   ]
  },
  {
   "cell_type": "code",
   "execution_count": 3,
   "metadata": {},
   "outputs": [
    {
     "name": "stdout",
     "output_type": "stream",
     "text": [
      "[report.py]<read_portfolio()> Return to Object\n",
      "      Name     Shares      Price     Change\n",
      "---------- ---------- ---------- ---------- \n",
      "        AA        100       9.22     -22.98\n",
      "       IBM         50     106.28      15.18\n",
      "       CAT        150      35.46     -47.98\n",
      "      MSFT        200      20.89     -30.34\n",
      "        GE         95      13.48     -26.89\n",
      "      MSFT         50      20.89     -44.21\n",
      "       IBM        100     106.28      35.84\n"
     ]
    }
   ],
   "source": [
    "import report\n",
    "report.portfolio_report('../../data/portfolio.csv', '../../data/prices.csv')"
   ]
  },
  {
   "attachments": {},
   "cell_type": "markdown",
   "metadata": {},
   "source": [
    "# 4.2 상속"
   ]
  },
  {
   "cell_type": "code",
   "execution_count": null,
   "metadata": {},
   "outputs": [],
   "source": [
    "# 도입\n",
    "# ----\n",
    "# 상속은 기존 객체를 특수화하는 데 사용된다.\n",
    "\n",
    "# class Parent:\n",
    "#     ...\n",
    "\n",
    "# class Child(Parent):\n",
    "#     ...\n",
    "# 위의 Child 클래스와 같은 것을 파생 클래스(derived class) 또는 하위 클래스(subclass)라 한다. \n",
    "# 위의 Parent 클래스는 기본 클래스(base class) 또는 상위 클래스(superclass)라 한다. \n",
    "# class Child(Parent):에서 클래스명 뒤의 ()에 Parent를 지정했다.\n",
    "\n",
    "\n",
    "\n",
    "# 확장(Extending)\n",
    "# ---------------\n",
    "# 상속을 통해 기존 클래스를 취하여 다음과 같은 일을 할 수 있다.\n",
    "\n",
    "# 새로운 메서드를 추가\n",
    "# 기존 메서드 일부를 재정의(redefine)\n",
    "# 인스턴스에 새로운 어트리뷰트를 추가\n",
    "# 그리하여 기존 코드를 확장하게 된다.\n",
    "\n",
    "# 예시\n",
    "# 이 클래스에서 시작한다고 하자.\n",
    "\n",
    "# class Stock:\n",
    "#     def __init__(self, name, shares, price):\n",
    "#         self.name = name\n",
    "#         self.shares = shares\n",
    "#         self.price = price\n",
    "\n",
    "#     def cost(self):\n",
    "#         return self.shares * self.price\n",
    "\n",
    "#     def sell(self, nshares):\n",
    "#         self.shares -= nshares\n",
    "\n",
    "# 상속을 통해 이것의 어느 부분이든 변경할 수 있다.\n",
    "\n",
    "\n",
    "\n",
    "# 새 메서드를 추가\n",
    "# ---------------\n",
    "# class MyStock(Stock):\n",
    "#     def panic(self):\n",
    "#         self.sell(self.shares)\n",
    "\n",
    "# 용례:\n",
    "# >>> s = MyStock('GOOG', 100, 490.1)\n",
    "# >>> s.sell(25)\n",
    "# >>> s.shares\n",
    "# 75\n",
    "# >>> s.panic()\n",
    "# >>> s.shares\n",
    "# 0\n",
    "# >>>\n",
    "\n",
    "\n",
    "\n",
    "# 기존 메서드를 재정의\n",
    "# -------------------\n",
    "# class MyStock(Stock):\n",
    "#     def cost(self):\n",
    "#         return 1.25 * self.shares * self.price\n",
    "\n",
    "# 용례:\n",
    "# >>> s = MyStock('GOOG', 100, 490.1)\n",
    "# >>> s.cost()\n",
    "# 61262.5\n",
    "# >>>\n",
    "\n",
    "# 새 메서드는 기존 것을 대체한다. 다른 메서드는 영향을 받지 않는다. 굉장하다."
   ]
  },
  {
   "cell_type": "code",
   "execution_count": 6,
   "metadata": {},
   "outputs": [],
   "source": [
    "import sys\n",
    "sys.path.append('../../test_bed')"
   ]
  },
  {
   "cell_type": "code",
   "execution_count": 10,
   "metadata": {},
   "outputs": [],
   "source": [
    "# %load ../../test_bed/stock.py\n",
    "class Stock:\n",
    "    def __init__(self, name, shares, price):\n",
    "        self.name = name\n",
    "        self.shares = shares\n",
    "        self.price = price\n",
    "        \n",
    "    def cost(self):\n",
    "        return self.shares * self.price\n",
    "        \n",
    "    def sell(self, shares):\n",
    "        self.shares -= shares            \n"
   ]
  },
  {
   "cell_type": "code",
   "execution_count": 18,
   "metadata": {},
   "outputs": [
    {
     "data": {
      "text/plain": [
       "61262.5"
      ]
     },
     "execution_count": 18,
     "metadata": {},
     "output_type": "execute_result"
    }
   ],
   "source": [
    "#import stock\n",
    "\n",
    "class MyStock(Stock):\n",
    "    def panic(self):\n",
    "        self.sell(self.shares)\n",
    "    \n",
    "    def cost(self):\n",
    "        return 1.25 * self.shares * self.price\n",
    "\n",
    "s = MyStock('GOOG', 100, 490.1)\n",
    "s.name, s.shares, s.price\n",
    "\n",
    "s.cost()\n",
    "\n",
    "    "
   ]
  },
  {
   "attachments": {},
   "cell_type": "markdown",
   "metadata": {},
   "source": [
    "## 오버라이딩(Overriding)"
   ]
  },
  {
   "cell_type": "code",
   "execution_count": null,
   "metadata": {},
   "outputs": [],
   "source": [
    "# 때로는 클래스가 기존 메서드를 확장하되, 원래 구현을 재정의에 포함하고 싶을 수 있다. 이를 위해 super()를 사용한다.\n",
    "\n",
    "# class Stock:\n",
    "#     ...\n",
    "#     def cost(self):\n",
    "#         return self.shares * self.price\n",
    "#     ...\n",
    "\n",
    "# class MyStock(Stock):\n",
    "#     def cost(self):\n",
    "#         # `super`에 대한 호출을 확인\n",
    "#         actual_cost = super().cost()\n",
    "#         return 1.25 * actual_cost\n",
    "\n",
    "# 이전 버전을 호출하기 위해 super()를 사용한다.\n",
    "\n",
    "# 주의: 파이썬 2는 이것보다 구문이 복잡하다.\n",
    "\n",
    "# actual_cost = super(MyStock, self).cost()"
   ]
  },
  {
   "cell_type": "code",
   "execution_count": 19,
   "metadata": {},
   "outputs": [
    {
     "data": {
      "text/plain": [
       "61262.5"
      ]
     },
     "execution_count": 19,
     "metadata": {},
     "output_type": "execute_result"
    }
   ],
   "source": [
    "class MyStock(Stock):\n",
    "    def panic(self):\n",
    "        self.sell(self.shares)\n",
    "    \n",
    "    def cost(self):\n",
    "        #'super'에 대한 호출을 확인\n",
    "        actual_cost = super().cost()\n",
    "        return 1.25 * actual_cost\n",
    "\n",
    "s = MyStock('GOOG', 100, 490.1)\n",
    "s.cost()\n",
    "\n",
    "    "
   ]
  },
  {
   "attachments": {},
   "cell_type": "markdown",
   "metadata": {},
   "source": [
    "## __init__와 상속"
   ]
  },
  {
   "cell_type": "code",
   "execution_count": null,
   "metadata": {},
   "outputs": [],
   "source": [
    "# __init__와 상속\n",
    "# ---------------\n",
    "# __init__를 재정의하려면 부모를 초기화해야 한다.\n",
    "\n",
    "# class Stock:\n",
    "#     def __init__(self, name, shares, price):\n",
    "#         self.name = name\n",
    "#         self.shares = shares\n",
    "#         self.price = price\n",
    "\n",
    "# class MyStock(Stock):\n",
    "#     def __init__(self, name, shares, price, factor):\n",
    "#         # `super`와 `__init__`에 대한 호출을 확인\n",
    "#         super().__init__(name, shares, price)\n",
    "#         self.factor = factor\n",
    "\n",
    "#     def cost(self):\n",
    "#         return self.factor * super().cost()\n",
    "\n",
    "# super에 __init__() 메서드를 호출해야 한다. 이것이 앞에서 본 것과 같이 이전 버전을 호출하는 방법이다"
   ]
  },
  {
   "cell_type": "code",
   "execution_count": 20,
   "metadata": {},
   "outputs": [
    {
     "data": {
      "text/plain": [
       "61262.5"
      ]
     },
     "execution_count": 20,
     "metadata": {},
     "output_type": "execute_result"
    }
   ],
   "source": [
    "class MyStock(Stock):\n",
    "    def __init__(self, name, shares, price, factor):\n",
    "        #super와 __init__ 에 대한 호출을 확인\n",
    "        super().__init__(name, shares, price)\n",
    "        self.factor = factor\n",
    "        \n",
    "    def panic(self):\n",
    "        self.sell(self.shares)\n",
    "    \n",
    "    def cost(self):\n",
    "        #'super'에 대한 호출을 확인\n",
    "        actual_cost = super().cost()\n",
    "        return self.factor * actual_cost\n",
    "\n",
    "s = MyStock('GOOG', 100, 490.1, 1.25)\n",
    "s.cost()\n",
    "\n",
    "    "
   ]
  },
  {
   "attachments": {},
   "cell_type": "markdown",
   "metadata": {},
   "source": [
    "## 상속을 사용하기"
   ]
  },
  {
   "cell_type": "code",
   "execution_count": null,
   "metadata": {},
   "outputs": [],
   "source": [
    "# 상속을 사용하기\n",
    "# --------------\n",
    "# 상속은 관련 객체를 조직화하는 데 사용되곤 한다.\n",
    "\n",
    "# class Shape:\n",
    "#     ...\n",
    "\n",
    "# class Circle(Shape):\n",
    "#     ...\n",
    "\n",
    "# class Rectangle(Shape):\n",
    "#     ...\n",
    "\n",
    "# 논리적 계층 구조나 분류법을 생각해 보라. \n",
    "# 그렇지만 좀 더 일반적이고도 실용적인 용도는 재사용 가능 혹은 확장 가능한 코드를 만드는 것이다. \n",
    "# 예를 들어, 프레임워크에 정의된 기본 클래스를 당신이 커스터마이즈할 수 있다.\n",
    "\n",
    "# class CustomHandler(TCPHandler):\n",
    "#     def handle_request(self):\n",
    "#         ...\n",
    "#         # 커스텀 처리\n",
    "\n",
    "# 기본 클래스는 일반 목적 코드를 포함한다. 당신의 클래스는 기본 클래스를 상속해 특수한 부분을 커스터마이즈한다.\n"
   ]
  },
  {
   "attachments": {},
   "cell_type": "markdown",
   "metadata": {},
   "source": [
    "## \"is a\" 관계"
   ]
  },
  {
   "cell_type": "code",
   "execution_count": null,
   "metadata": {},
   "outputs": [],
   "source": [
    "# \"is a\" 관계\n",
    "# -----------\n",
    "# 상속은 타입 간의 관계를 설정한다.\n",
    "\n",
    "# class Shape:\n",
    "#     ...\n",
    "\n",
    "# class Circle(Shape):\n",
    "#     ...\n",
    "# 객체 인스턴스를 확인하라.\n",
    "\n",
    "# >>> c = Circle(4.0)\n",
    "# >>> isinstance(c, Shape)\n",
    "# True\n",
    "\n",
    "# 중요: 부모 클래스의 인스턴스를 다루는 코드는 자식 클래스의 인스턴스에 대해서도 작동하는 것이 이상적이다."
   ]
  },
  {
   "cell_type": "code",
   "execution_count": 21,
   "metadata": {},
   "outputs": [
    {
     "data": {
      "text/plain": [
       "True"
      ]
     },
     "execution_count": 21,
     "metadata": {},
     "output_type": "execute_result"
    }
   ],
   "source": [
    "s = MyStock('GOOG', 100, 490.1, 1.25)\n",
    "isinstance(s, Stock)\n"
   ]
  },
  {
   "attachments": {},
   "cell_type": "markdown",
   "metadata": {},
   "source": [
    "## object 기본 클래스"
   ]
  },
  {
   "cell_type": "code",
   "execution_count": null,
   "metadata": {},
   "outputs": [],
   "source": [
    "# object 기본 클래스\n",
    "# -----------------\n",
    "# 만약 클래스에 부모가 없으면 object를 기본으로 삼을 수 있다.\n",
    "\n",
    "# class Shape(object):\n",
    "#     ...\n",
    "# 파이썬에서 object는 모든 객체의 부모다.\n",
    "\n",
    "# *참고: 기술적으로 이것이 필요하지는 않지만, 파이썬 2에서 필요했기 때문에 남겨둔 경우가 많다. \n",
    "#       object를 생략하더라도 암시적으로 상속한다."
   ]
  },
  {
   "attachments": {},
   "cell_type": "markdown",
   "metadata": {},
   "source": [
    "## 다중 상속"
   ]
  },
  {
   "cell_type": "code",
   "execution_count": null,
   "metadata": {},
   "outputs": [],
   "source": [
    "# 다중 상속\n",
    "# --------\n",
    "# 여러 클래스로부터 상속하도록 클래스에 정의할 수 있다.\n",
    "\n",
    "# class Mother:\n",
    "#     ...\n",
    "\n",
    "# class Father:\n",
    "#     ...\n",
    "\n",
    "# class Child(Mother, Father):\n",
    "#     ...\n",
    "# Child 클래스는 Mother와 Father의 특징을 모두 상속받는다. \n",
    "# 다중 상속은 세부적으로 들어가면 골치가 아파진다. \n",
    "# 정확히 이해하기 전에는 사용하지 마라. 다음 섹션에서 추가 정보를 제공하겠지만, 이 코스에서 다중 상속을 사용할 일은 없다."
   ]
  },
  {
   "attachments": {},
   "cell_type": "markdown",
   "metadata": {},
   "source": [
    "## 연습 문제"
   ]
  },
  {
   "cell_type": "code",
   "execution_count": null,
   "metadata": {},
   "outputs": [],
   "source": [
    "# 상속의 주 용도는 다양한 방법으로 확장 또는 커스터마이즈된 코드를 작성하는 것에 있다 (특히 라이브러리나 프레임워크에서). \n",
    "# 설명을 위해 report.py 프로그램의 print_report() 함수를 생각해 보자. 그것은 다음과 같이 보일 것이다.\n",
    "\n",
    "# def print_report(reportdata):\n",
    "#     '''\n",
    "#     (name, shares, price, change) 튜플의 리스트로부터 보기 좋게 포매팅한 테이블을 프린팅.\n",
    "#     '''\n",
    "#     headers = ('Name','Shares','Price','Change')\n",
    "#     print('%10s %10s %10s %10s' % headers)\n",
    "#     print(('-'*10 + ' ')*len(headers))\n",
    "#     for row in reportdata:\n",
    "#         print('%10s %10d %10.2f %10.2f' % row)\n",
    "# report 프로그램을 실행하면 다음과 같이 출력한다.\n",
    "\n",
    "# >>> import report\n",
    "# >>> report.portfolio_report('Data/portfolio.csv', 'Data/prices.csv')\n",
    "#       Name     Shares      Price     Change\n",
    "# ---------- ---------- ---------- ----------\n",
    "#         AA        100       9.22     -22.98\n",
    "#        IBM         50     106.28      15.18\n",
    "#        CAT        150      35.46     -47.98\n",
    "#       MSFT        200      20.89     -30.34\n",
    "#         GE         95      13.48     -26.89\n",
    "#       MSFT         50      20.89     -44.21\n",
    "#        IBM        100     106.28      35.84"
   ]
  },
  {
   "attachments": {},
   "cell_type": "markdown",
   "metadata": {},
   "source": [
    "## 연습 문제 4.5: 확장성 문제"
   ]
  },
  {
   "cell_type": "code",
   "execution_count": null,
   "metadata": {},
   "outputs": [],
   "source": [
    "# print_report() 함수가 일반 텍스트, HTML, CSV, XML 같이 다양한 출력 포맷을 지원하게 수정하고 싶다고 하자. \n",
    "# 그렇게 하려고 모든 일을 처리하는 아주 큰 함수를 작성하려고 시도할 수 있다. \n",
    "# 하지만 그렇게 했다가는 유지보수를 하기 힘들만큼 지저분해질 수 있다. 이때가 상속을 사용하기에 아주 좋은 기회다.\n",
    "\n",
    "# 시작하려면 테이블을 생성하는 단계에 집중하자. \n",
    "# 테이블의 첫 행에는 헤더가 있다. 그 후, 테이블 데이터 행들이 나타난다. \n",
    "# 다음 단계를 따라 자체 클래스에 집어넣자. \n",
    "# 다음과 같은 클래스를 정의하는 tableformat.py 파일을 작성한다.\n",
    "\n",
    "# # tableformat.py\n",
    "\n",
    "# class TableFormatter:\n",
    "#     def headings(self, headers):\n",
    "#         '''\n",
    "#         테이블 헤딩을 반환.\n",
    "#         '''\n",
    "#     raise NotImplementedError()\n",
    "\n",
    "#     def row(self, rowdata):\n",
    "#         '''\n",
    "#         테이블 데이터의 단일 행을 반환.\n",
    "#         '''\n",
    "#     raise NotImplementedError()\n",
    "\n",
    "# 이 클래스는 아무 일도 하지 않지만, 곧 정의할 추가 클래스의 설계 사양과 역할을 한다. \n",
    "# 이러한 클래스를 \"추상 기본 클래스(abstract base class)\"라고 부른다.\n",
    "\n",
    "# 입력으로 받은 TableFormatter 객체의 메서드를 호출해 출력을 생성하도록 print_report() 함수를 수정하자. 예를 들면 다음과 같다.\n",
    "\n",
    "# # report.py\n",
    "# ...\n",
    "\n",
    "# def print_report(reportdata, formatter):\n",
    "#     '''\n",
    "#     (name, shares, price, change) 튜플의 리스트로부터 보기 좋게 포매팅한 테이블을 프린팅.\n",
    "#     '''\n",
    "#     formatter.headings(['Name','Shares','Price','Change'])\n",
    "#     for name, shares, price, change in reportdata:\n",
    "#         rowdata = [ name, str(shares), f'{price:0.2f}', f'{change:0.2f}' ]\n",
    "#         formatter.row(rowdata)\n",
    "\n",
    "# print_report()에 인자를 추가했으므로, portfolio_report() 함수도 수정해야 한다. TableFormatter를 생성하게 변경한다.\n",
    "\n",
    "# # report.py\n",
    "\n",
    "# import tableformat\n",
    "\n",
    "# ...\n",
    "# def portfolio_report(portfoliofile, pricefile):\n",
    "#     '''\n",
    "#     주어진 포트폴리오와 가격 데이터 파일을 가지고 주식 보고서를 작성.\n",
    "#     '''\n",
    "#     # 데이터 파일 읽기\n",
    "#     portfolio = read_portfolio(portfoliofile)\n",
    "#     prices = read_prices(pricefile)\n",
    "\n",
    "#     # 보고서 데이터 생성\n",
    "#     report = make_report_data(portfolio, prices)\n",
    "\n",
    "#     # 프린트\n",
    "#     formatter = tableformat.TableFormatter()\n",
    "#     print_report(report, formatter)\n",
    "# 새 코드를 실행하자.\n",
    "\n",
    "# >>> ================================ RESTART ================================\n",
    "# >>> import report\n",
    "# >>> report.portfolio_report('Data/portfolio.csv', 'Data/prices.csv')\n",
    "# ... 충돌 ...\n",
    "# 곧바로 NotImplementedError 예외를 내며 충돌한다. 썩 즐겁지는 않지만, 이것은 예상했던 바다. 다음 부분으로 이어 가자."
   ]
  },
  {
   "cell_type": "code",
   "execution_count": 3,
   "metadata": {},
   "outputs": [
    {
     "name": "stdout",
     "output_type": "stream",
     "text": [
      "Overwriting ../../test_bed/tableformat.py\n"
     ]
    }
   ],
   "source": [
    "%%writefile ../../test_bed/tableformat.py\n",
    "# tableformat.py\n",
    "\n",
    "class TableFormatter:\n",
    "    def headings(self, headers):\n",
    "        '''\n",
    "        테이블 헤딩을 반환.\n",
    "        '''\n",
    "        raise NotImplementedError()\n",
    "\n",
    "    def row(self, rowdata):\n",
    "        '''\n",
    "        테이블 데이터의 단일 행을 반환.\n",
    "        '''\n",
    "        raise NotImplementedError()\n",
    "\n",
    "class TextTableFormatter(TableFormatter):\n",
    "    def headings(self, headers):\n",
    "        for h in headers:\n",
    "            print(f'{h:>10s}', end=' ')\n",
    "        print()\n",
    "        print(('-'*10 + ' ') * len(headers))\n",
    "            \n",
    "    def row(self, rowdata):\n",
    "        for d in rowdata:\n",
    "            print(f'{d:>10s}', end=' ')\n",
    "        print()\n"
   ]
  },
  {
   "cell_type": "code",
   "execution_count": 16,
   "metadata": {},
   "outputs": [
    {
     "name": "stdout",
     "output_type": "stream",
     "text": [
      "Overwriting ../../test_bed/report.py\n"
     ]
    }
   ],
   "source": [
    "%%writefile ../../test_bed/report.py\n",
    "# report.py\n",
    "\n",
    "import fileparse\n",
    "import stock\n",
    "import prices\n",
    "import tableformat\n",
    "\n",
    "def read_portfolio(filename):\n",
    "    '''\n",
    "    Read a stock portfolio file into a list of dictionaries with keys\n",
    "    name, shares, and price.\n",
    "    '''\n",
    "    with open(filename) as lines:\n",
    "        # return fileparse.parse_csv(lines, select=['name','shares','price'], types=[str,int,float])\n",
    "\n",
    "        # Convert Dictionary to Object     \n",
    "        portdicts = fileparse.parse_csv(lines, select=['name','shares','price'], types=[str,int,float])\n",
    "        print('[report.py]<read_portfolio()> Return to Object')\n",
    "        return [ stock.Stock(d['name'], d['shares'], d['price']) for d in portdicts ]\n",
    "\n",
    "def read_prices(filename):\n",
    "    '''\n",
    "    Read a CSV file of price data into a dict mapping names to prices.\n",
    "    '''\n",
    "    with open(filename) as lines:\n",
    "        return dict(fileparse.parse_csv(lines, types=[str,float], has_headers=False))\n",
    "\n",
    "        # Convert Dictionary to Object     \n",
    "        # portdicts = fileparse.parse_csv(lines, types=[str,float], has_headers=False)\n",
    "        # return [ prices.Prices(d.name, d.price) for d in portdicts ]\n",
    "\n",
    "\n",
    "def make_report_data(portfolio,prices):\n",
    "    '''\n",
    "    Make a list of (name, shares, price, change) tuples given a portfolio list\n",
    "    and prices dictionary.\n",
    "    '''\n",
    "    rows = []\n",
    "    for stock in portfolio:\n",
    "        current_price = prices[stock.name]\n",
    "        change = current_price - stock.price\n",
    "        summary = (stock.name, stock.shares, current_price, change)\n",
    "        rows.append(summary)\n",
    "    return rows\n",
    "\n",
    "def print_report(reportdata, formatter):\n",
    "    '''\n",
    "    Print a nicely formated table from a list of (name, shares, price, change) tuples.\n",
    "    '''\n",
    "    formatter.headings(['Name', 'Shares', 'Price', 'Change'])\n",
    "        \n",
    "    for name, shares, price, change in reportdata:\n",
    "        rowdata = [ name, str(shares), f'{price:0.2f}', f'{change:0.2f}' ]\n",
    "        formatter.row(rowdata)\n",
    "\n",
    "def portfolio_report(portfoliofile, pricefile):        \n",
    "    '''\n",
    "    Make a stock report given portfolio and price data files.\n",
    "    '''\n",
    "    # Read data files \n",
    "    portfolio = read_portfolio(portfoliofile)\n",
    "    prices = read_prices(pricefile)\n",
    "\n",
    "    # Create the report data (보고서 데이터 생성)\n",
    "    report = make_report_data(portfolio, prices)\n",
    "\n",
    "    # Print it out\n",
    "    formatter = tableformat.TextTableFormatter()\n",
    "    print_report(report, formatter)\n",
    "\n",
    "def main(args):\n",
    "    if len(args) != 3:\n",
    "        raise SystemExit('Usage: %s portfile pricefile' % args[0])\n",
    "    portfolio_report(args[1], args[2])\n",
    "\n",
    "if __name__ == '__main__':\n",
    "    import sys\n",
    "    main(sys.argv)\n"
   ]
  },
  {
   "cell_type": "code",
   "execution_count": 1,
   "metadata": {},
   "outputs": [],
   "source": [
    "import sys\n",
    "sys.path.append('../../test_bed')"
   ]
  },
  {
   "cell_type": "code",
   "execution_count": 2,
   "metadata": {},
   "outputs": [
    {
     "name": "stdout",
     "output_type": "stream",
     "text": [
      "[report.py]<read_portfolio()> Return to Object\n",
      "      Name     Shares      Price     Change \n",
      "---------- ---------- ---------- ---------- \n",
      "        AA        100       9.22     -22.98 \n",
      "       IBM         50     106.28      15.18 \n",
      "       CAT        150      35.46     -47.98 \n",
      "      MSFT        200      20.89     -30.34 \n",
      "        GE         95      13.48     -26.89 \n",
      "      MSFT         50      20.89     -44.21 \n",
      "       IBM        100     106.28      35.84 \n"
     ]
    }
   ],
   "source": [
    "import report\n",
    "report.portfolio_report('../../data/portfolio.csv', '../../data/prices.csv')\n"
   ]
  },
  {
   "attachments": {},
   "cell_type": "markdown",
   "metadata": {},
   "source": [
    "## 연습 문제 4.6: 상속을 통해 다른 출력을 생성하기"
   ]
  },
  {
   "cell_type": "code",
   "execution_count": null,
   "metadata": {},
   "outputs": [],
   "source": [
    "# (a) 부분에서 정의한 TableFormatter 클래스는 상속을 통해 확장할 의도를 가지고 정의했다. \n",
    "# 사실, 그것이 아이디어의 전부다. 다음과 같이 TextTableFormatter 클래스를 정의한다.\n",
    "\n",
    "# # tableformat.py\n",
    "# ...\n",
    "# class TextTableFormatter(TableFormatter):\n",
    "#     '''\n",
    "#     테이블을 일반 텍스트 포맷으로 출력\n",
    "#     '''\n",
    "#     def headings(self, headers):\n",
    "#         for h in headers:\n",
    "#             print(f'{h:>10s}', end=' ')\n",
    "#         print()\n",
    "#         print(('-'*10 + ' ')*len(headers))\n",
    "\n",
    "#     def row(self, rowdata):\n",
    "#         for d in rowdata:\n",
    "#             print(f'{d:>10s}', end=' ')\n",
    "#         print()\n",
    "# portfolio_report() 함수를 다음과 같이 수정하고 사용해 보자.\n",
    "\n",
    "# # report.py\n",
    "# ...\n",
    "# def portfolio_report(portfoliofile, pricefile):\n",
    "#     '''\n",
    "#     주어진 포트폴리오와 가격 데이터 파일을 가지고 주식 보고서를 작성.\n",
    "#     '''\n",
    "#     # 데이터 파일 읽기\n",
    "#     portfolio = read_portfolio(portfoliofile)\n",
    "#     prices = read_prices(pricefile)\n",
    "\n",
    "#     # 보고서 데이터 생성\n",
    "#     report = make_report_data(portfolio, prices)\n",
    "\n",
    "#     # 프린트\n",
    "#     formatter = tableformat.TextTableFormatter()\n",
    "#     print_report(report, formatter)\n",
    "# 이전과 같은 출력을 생성해야 한다.\n",
    "\n",
    "# >>> ================================ RESTART ================================\n",
    "# >>> import report\n",
    "# >>> report.portfolio_report('Data/portfolio.csv', 'Data/prices.csv')\n",
    "#       Name     Shares      Price     Change\n",
    "# ---------- ---------- ---------- ----------\n",
    "#         AA        100       9.22     -22.98\n",
    "#        IBM         50     106.28      15.18\n",
    "#        CAT        150      35.46     -47.98\n",
    "#       MSFT        200      20.89     -30.34\n",
    "#         GE         95      13.48     -26.89\n",
    "#       MSFT         50      20.89     -44.21\n",
    "#        IBM        100     106.28      35.84\n",
    "# >>>\n"
   ]
  },
  {
   "cell_type": "code",
   "execution_count": 6,
   "metadata": {},
   "outputs": [],
   "source": [
    "%%writefile ../../test_bed/tableformat.py\n",
    "# tableformat.py\n",
    "\n",
    "class TableFormatter:\n",
    "    def headings(self, headers):\n",
    "        '''\n",
    "        테이블 헤딩을 반환.\n",
    "        '''\n",
    "        raise NotImplementedError()\n",
    "\n",
    "    def row(self, rowdata):\n",
    "        '''\n",
    "        테이블 데이터의 단일 행을 반환.\n",
    "        '''\n",
    "        raise NotImplementedError()\n",
    "\n",
    "class TextTableFormatter(TableFormatter):\n",
    "    def headings(self, headers):\n",
    "        for h in headers:\n",
    "            print(f'{h:>10s}', end=' ')\n",
    "        print()\n",
    "        print(('-'*10 + ' ') * len(headers))\n",
    "            \n",
    "    def row(self, rowdata):\n",
    "        for d in rowdata:\n",
    "            print(f'{d:>10s}', end=' ')\n",
    "        print()"
   ]
  },
  {
   "cell_type": "code",
   "execution_count": 7,
   "metadata": {},
   "outputs": [],
   "source": [
    "%%writefile ../../test_bed/report.py\n",
    "# report.py\n",
    "\n",
    "import fileparse\n",
    "import stock\n",
    "import prices\n",
    "import tableformat\n",
    "\n",
    "def read_portfolio(filename):\n",
    "    '''\n",
    "    Read a stock portfolio file into a list of dictionaries with keys\n",
    "    name, shares, and price.\n",
    "    '''\n",
    "    with open(filename) as lines:\n",
    "        # return fileparse.parse_csv(lines, select=['name','shares','price'], types=[str,int,float])\n",
    "\n",
    "        # Convert Dictionary to Object     \n",
    "        portdicts = fileparse.parse_csv(lines, select=['name','shares','price'], types=[str,int,float])\n",
    "        print('[report.py]<read_portfolio()> Return to Object')\n",
    "        return [ stock.Stock(d['name'], d['shares'], d['price']) for d in portdicts ]\n",
    "\n",
    "def read_prices(filename):\n",
    "    '''\n",
    "    Read a CSV file of price data into a dict mapping names to prices.\n",
    "    '''\n",
    "    with open(filename) as lines:\n",
    "        return dict(fileparse.parse_csv(lines, types=[str,float], has_headers=False))\n",
    "\n",
    "        # Convert Dictionary to Object     \n",
    "        # portdicts = fileparse.parse_csv(lines, types=[str,float], has_headers=False)\n",
    "        # return [ prices.Prices(d.name, d.price) for d in portdicts ]\n",
    "\n",
    "\n",
    "def make_report_data(portfolio,prices):\n",
    "    '''\n",
    "    Make a list of (name, shares, price, change) tuples given a portfolio list\n",
    "    and prices dictionary.\n",
    "    '''\n",
    "    rows = []\n",
    "    for stock in portfolio:\n",
    "        current_price = prices[stock.name]\n",
    "        change = current_price - stock.price\n",
    "        summary = (stock.name, stock.shares, current_price, change)\n",
    "        rows.append(summary)\n",
    "    return rows\n",
    "\n",
    "def print_report(reportdata, formatter):\n",
    "    '''\n",
    "    Print a nicely formated table from a list of (name, shares, price, change) tuples.\n",
    "    '''\n",
    "    formatter.headings(['Name', 'Shares', 'Price', 'Change'])\n",
    "        \n",
    "    for name, shares, price, change in reportdata:\n",
    "        rowdata = [ name, str(shares), f'{price:0.2f}', f'{change:0.2f}' ]\n",
    "        formatter.row(rowdata)\n",
    "\n",
    "def portfolio_report(portfoliofile, pricefile):        \n",
    "    '''\n",
    "    Make a stock report given portfolio and price data files.\n",
    "    '''\n",
    "    # Read data files \n",
    "    portfolio = read_portfolio(portfoliofile)\n",
    "    prices = read_prices(pricefile)\n",
    "\n",
    "    # Create the report data (보고서 데이터 생성)\n",
    "    report = make_report_data(portfolio, prices)\n",
    "\n",
    "    # Print it out\n",
    "    formatter = tableformat.TextTableFormatter()\n",
    "    print_report(report, formatter)\n",
    "\n",
    "def main(args):\n",
    "    if len(args) != 3:\n",
    "        raise SystemExit('Usage: %s portfile pricefile' % args[0])\n",
    "    portfolio_report(args[1], args[2])\n",
    "\n",
    "if __name__ == '__main__':\n",
    "    import sys\n",
    "    main(sys.argv)\n"
   ]
  },
  {
   "cell_type": "code",
   "execution_count": 11,
   "metadata": {},
   "outputs": [
    {
     "name": "stdout",
     "output_type": "stream",
     "text": [
      "[report.py]<read_portfolio()> Return to Object\n",
      "      Name     Shares      Price     Change \n",
      "---------- ---------- ---------- ---------- \n",
      "        AA        100       9.22     -22.98 \n",
      "       IBM         50     106.28      15.18 \n",
      "       CAT        150      35.46     -47.98 \n",
      "      MSFT        200      20.89     -30.34 \n",
      "        GE         95      13.48     -26.89 \n",
      "      MSFT         50      20.89     -44.21 \n",
      "       IBM        100     106.28      35.84 \n"
     ]
    }
   ],
   "source": [
    "import report\n",
    "report.portfolio_report('../../data/portfolio.csv', '../../data/prices.csv')\n"
   ]
  },
  {
   "cell_type": "code",
   "execution_count": null,
   "metadata": {},
   "outputs": [],
   "source": [
    "# 하지만, 출력을 다른 것으로 바꾸자. 출력을 CSV 포맷으로 출력하는 새로운 클래스 CSVTableFormatter를 정의한다.\n",
    "\n",
    "# # tableformat.py\n",
    "# ...\n",
    "# class CSVTableFormatter(TableFormatter):\n",
    "#     '''\n",
    "#     포트폴리오 데이터를 CSV 포맷으로 출력.\n",
    "#     '''\n",
    "#     def headings(self, headers):\n",
    "#         print(','.join(headers))\n",
    "\n",
    "#     def row(self, rowdata):\n",
    "#         print(','.join(rowdata))\n",
    "# 메인 프로그램을 다음과 같이 수정한다.\n",
    "\n",
    "\n",
    "# def portfolio_report(portfoliofile, pricefile):\n",
    "#     '''\n",
    "#     주어진 포트폴리오와 가격 데이터 파일을 가지고 주식 보고서를 작성.\n",
    "#     '''\n",
    "#     # 데이터 파일 읽기\n",
    "#     portfolio = read_portfolio(portfoliofile)\n",
    "#     prices = read_prices(pricefile)\n",
    "\n",
    "#     # 보고서 데이터 생성\n",
    "#     report = make_report_data(portfolio, prices)\n",
    "\n",
    "#     # 프린트\n",
    "#     formatter = tableformat.CSVTableFormatter()\n",
    "#     print_report(report, formatter)"
   ]
  },
  {
   "cell_type": "code",
   "execution_count": 4,
   "metadata": {},
   "outputs": [
    {
     "name": "stdout",
     "output_type": "stream",
     "text": [
      "Overwriting ../../test_bed/tableformat.py\n"
     ]
    }
   ],
   "source": [
    "%%writefile ../../test_bed/tableformat.py\n",
    "# tableformat.py\n",
    "\n",
    "class TableFormatter:\n",
    "    def headings(self, headers):\n",
    "        '''\n",
    "        테이블 헤딩을 반환.\n",
    "        '''\n",
    "        raise NotImplementedError()\n",
    "\n",
    "    def row(self, rowdata):\n",
    "        '''\n",
    "        테이블 데이터의 단일 행을 반환.\n",
    "        '''\n",
    "        raise NotImplementedError()\n",
    "\n",
    "class TextTableFormatter(TableFormatter):\n",
    "    def headings(self, headers):\n",
    "        for h in headers:\n",
    "            print(f'{h:>10s}', end=' ')\n",
    "        print()\n",
    "        print(('-'*10 + ' ')*len(headers))\n",
    "\n",
    "    def row(self, rowdata):\n",
    "        for d in rowdata:\n",
    "            print(f'{d:>10s}', end=' ')\n",
    "        print()\n",
    "\n",
    "class CSVTableFormatter(TableFormatter):\n",
    "    def headings(self, headers):\n",
    "        print(','.join(headers))\n",
    "            \n",
    "    def row(self, rowdata):\n",
    "        print(','.join(rowdata))\n"
   ]
  },
  {
   "cell_type": "code",
   "execution_count": 5,
   "metadata": {},
   "outputs": [
    {
     "name": "stdout",
     "output_type": "stream",
     "text": [
      "Overwriting ../../test_bed/report.py\n"
     ]
    }
   ],
   "source": [
    "%%writefile ../../test_bed/report.py\n",
    "# report.py\n",
    "\n",
    "import fileparse\n",
    "import stock\n",
    "import prices\n",
    "import tableformat\n",
    "\n",
    "def read_portfolio(filename):\n",
    "    '''\n",
    "    Read a stock portfolio file into a list of dictionaries with keys\n",
    "    name, shares, and price.\n",
    "    '''\n",
    "    with open(filename) as lines:\n",
    "        # return fileparse.parse_csv(lines, select=['name','shares','price'], types=[str,int,float])\n",
    "\n",
    "        # Convert Dictionary to Object     \n",
    "        portdicts = fileparse.parse_csv(lines, select=['name','shares','price'], types=[str,int,float])\n",
    "        print('[report.py]<read_portfolio()> Return to Object')\n",
    "        return [ stock.Stock(d['name'], d['shares'], d['price']) for d in portdicts ]\n",
    "\n",
    "def read_prices(filename):\n",
    "    '''\n",
    "    Read a CSV file of price data into a dict mapping names to prices.\n",
    "    '''\n",
    "    with open(filename) as lines:\n",
    "        return dict(fileparse.parse_csv(lines, types=[str,float], has_headers=False))\n",
    "\n",
    "        # Convert Dictionary to Object     \n",
    "        # portdicts = fileparse.parse_csv(lines, types=[str,float], has_headers=False)\n",
    "        # return [ prices.Prices(d.name, d.price) for d in portdicts ]\n",
    "\n",
    "\n",
    "def make_report_data(portfolio,prices):\n",
    "    '''\n",
    "    Make a list of (name, shares, price, change) tuples given a portfolio list\n",
    "    and prices dictionary.\n",
    "    '''\n",
    "    rows = []\n",
    "    for stock in portfolio:\n",
    "        current_price = prices[stock.name]\n",
    "        change = current_price - stock.price\n",
    "        summary = (stock.name, stock.shares, current_price, change)\n",
    "        rows.append(summary)\n",
    "    return rows\n",
    "\n",
    "def print_report(reportdata, formatter):\n",
    "    '''\n",
    "    Print a nicely formated table from a list of (name, shares, price, change) tuples.\n",
    "    '''\n",
    "    formatter.headings(['Name', 'Shares', 'Price', 'Change'])\n",
    "        \n",
    "    for name, shares, price, change in reportdata:\n",
    "        rowdata = [ name, str(shares), f'{price:0.2f}', f'{change:0.2f}' ]\n",
    "        formatter.row(rowdata)\n",
    "\n",
    "def portfolio_report(portfoliofile, pricefile):        \n",
    "    '''\n",
    "    Make a stock report given portfolio and price data files.\n",
    "    '''\n",
    "    # Read data files \n",
    "    portfolio = read_portfolio(portfoliofile)\n",
    "    prices = read_prices(pricefile)\n",
    "\n",
    "    # Create the report data (보고서 데이터 생성)\n",
    "    report = make_report_data(portfolio, prices)\n",
    "\n",
    "    # Print it out\n",
    "    #formatter = tableformat.TextTableFormatter()\n",
    "    formatter = tableformat.CSVTableFormatter()\n",
    "    print_report(report, formatter)\n",
    "\n",
    "def main(args):\n",
    "    if len(args) != 3:\n",
    "        raise SystemExit('Usage: %s portfile pricefile' % args[0])\n",
    "    portfolio_report(args[1], args[2])\n",
    "\n",
    "if __name__ == '__main__':\n",
    "    import sys\n",
    "    main(sys.argv)\n"
   ]
  },
  {
   "cell_type": "code",
   "execution_count": null,
   "metadata": {},
   "outputs": [],
   "source": [
    "\n",
    "# 이제 다음과 같은 CSV 출력을 볼 수 있을 것이다.\n",
    "\n",
    "# >>> ================================ RESTART ================================\n",
    "# >>> import report\n",
    "# >>> report.portfolio_report('Data/portfolio.csv', 'Data/prices.csv')\n",
    "# Name,Shares,Price,Change\n",
    "# AA,100,9.22,-22.98\n",
    "# IBM,50,106.28,15.18\n",
    "# CAT,150,35.46,-47.98\n",
    "# MSFT,200,20.89,-30.34\n",
    "# GE,95,13.48,-26.89\n",
    "# MSFT,50,20.89,-44.21\n",
    "# IBM,100,106.28,35.84"
   ]
  },
  {
   "cell_type": "code",
   "execution_count": 1,
   "metadata": {},
   "outputs": [],
   "source": [
    "import sys\n",
    "sys.path.append('../../test_bed')"
   ]
  },
  {
   "cell_type": "code",
   "execution_count": 2,
   "metadata": {},
   "outputs": [
    {
     "name": "stdout",
     "output_type": "stream",
     "text": [
      "[report.py]<read_portfolio()> Return to Object\n",
      "Name,Shares,Price,Change\n",
      "AA,100,9.22,-22.98\n",
      "IBM,50,106.28,15.18\n",
      "CAT,150,35.46,-47.98\n",
      "MSFT,200,20.89,-30.34\n",
      "GE,95,13.48,-26.89\n",
      "MSFT,50,20.89,-44.21\n",
      "IBM,100,106.28,35.84\n"
     ]
    }
   ],
   "source": [
    "import report\n",
    "report.portfolio_report('../../data/portfolio.csv', '../../data/prices.csv')\n"
   ]
  },
  {
   "cell_type": "code",
   "execution_count": null,
   "metadata": {},
   "outputs": [],
   "source": [
    "\n",
    "# 마찬가지로, 다음과 같은 출력을 생성하는 HTMLTableFormatter 클래스를 정의한다.\n",
    "\n",
    "# <tr><th>Name</th><th>Shares</th><th>Price</th><th>Change</th></tr>\n",
    "# <tr><td>AA</td><td>100</td><td>9.22</td><td>-22.98</td></tr>\n",
    "# <tr><td>IBM</td><td>50</td><td>106.28</td><td>15.18</td></tr>\n",
    "# <tr><td>CAT</td><td>150</td><td>35.46</td><td>-47.98</td></tr>\n",
    "# <tr><td>MSFT</td><td>200</td><td>20.89</td><td>-30.34</td></tr>\n",
    "# <tr><td>GE</td><td>95</td><td>13.48</td><td>-26.89</td></tr>\n",
    "# <tr><td>MSFT</td><td>50</td><td>20.89</td><td>-44.21</td></tr>\n",
    "# <tr><td>IBM</td><td>100</td><td>106.28</td><td>35.84</td></tr>\n",
    "\n",
    "# CSVTableFormatter 객체 대신 HTMLTableFormatter 객체를 생성하게 메인 프로그램을 수정해 코드를 테스트하자."
   ]
  },
  {
   "cell_type": "code",
   "execution_count": 3,
   "metadata": {},
   "outputs": [
    {
     "name": "stdout",
     "output_type": "stream",
     "text": [
      "Overwriting ../../test_bed/tableformat.py\n"
     ]
    }
   ],
   "source": [
    "%%writefile ../../test_bed/tableformat.py\n",
    "# tableformat.py\n",
    "\n",
    "class TableFormatter:\n",
    "    def headings(self, headers):\n",
    "        '''\n",
    "        테이블 헤딩을 반환.\n",
    "        '''\n",
    "        raise NotImplementedError()\n",
    "\n",
    "    def row(self, rowdata):\n",
    "        '''\n",
    "        테이블 데이터의 단일 행을 반환.\n",
    "        '''\n",
    "        raise NotImplementedError()\n",
    "\n",
    "class TextTableFormatter(TableFormatter):\n",
    "    def headings(self, headers):\n",
    "        for h in headers:\n",
    "            print(f'{h:>10s}', end=' ')\n",
    "        print()\n",
    "        print(('-'*10 + ' ')*len(headers))\n",
    "\n",
    "    def row(self, rowdata):\n",
    "        for d in rowdata:\n",
    "            print(f'{d:>10s}', end=' ')\n",
    "        print()\n",
    "\n",
    "class CSVTableFormatter(TableFormatter):\n",
    "    def headings(self, headers):\n",
    "        print(','.join(headers))\n",
    "            \n",
    "    def row(self, rowdata):\n",
    "        print(','.join(rowdata))\n",
    "        \n",
    "class HTMLTableFormatter(TableFormatter):\n",
    "    def headings(self, headers):\n",
    "        print('<tr>', end='')\n",
    "        for h in headers:\n",
    "            print(f'<th>{h}</th>', end='')\n",
    "        print('</tr>')            \n",
    "                    \n",
    "    def row(self, rowdata):\n",
    "        print('<tr>', end='')\n",
    "        for r in rowdata:\n",
    "            print(f'<th>{r}</th>', end='')\n",
    "        print('</tr>')            "
   ]
  },
  {
   "cell_type": "code",
   "execution_count": 7,
   "metadata": {},
   "outputs": [
    {
     "name": "stdout",
     "output_type": "stream",
     "text": [
      "Overwriting ../../test_bed/report.py\n"
     ]
    }
   ],
   "source": [
    "%%writefile ../../test_bed/report.py\n",
    "# report.py\n",
    "\n",
    "import fileparse\n",
    "import stock\n",
    "import prices\n",
    "import tableformat\n",
    "\n",
    "def read_portfolio(filename):\n",
    "    '''\n",
    "    Read a stock portfolio file into a list of dictionaries with keys\n",
    "    name, shares, and price.\n",
    "    '''\n",
    "    with open(filename) as lines:\n",
    "        # return fileparse.parse_csv(lines, select=['name','shares','price'], types=[str,int,float])\n",
    "\n",
    "        # Convert Dictionary to Object     \n",
    "        portdicts = fileparse.parse_csv(lines, select=['name','shares','price'], types=[str,int,float])\n",
    "        print('[report.py]<read_portfolio()> Return to Object')\n",
    "        return [ stock.Stock(d['name'], d['shares'], d['price']) for d in portdicts ]\n",
    "\n",
    "def read_prices(filename):\n",
    "    '''\n",
    "    Read a CSV file of price data into a dict mapping names to prices.\n",
    "    '''\n",
    "    with open(filename) as lines:\n",
    "        return dict(fileparse.parse_csv(lines, types=[str,float], has_headers=False))\n",
    "\n",
    "        # Convert Dictionary to Object     \n",
    "        # portdicts = fileparse.parse_csv(lines, types=[str,float], has_headers=False)\n",
    "        # return [ prices.Prices(d.name, d.price) for d in portdicts ]\n",
    "\n",
    "\n",
    "def make_report_data(portfolio,prices):\n",
    "    '''\n",
    "    Make a list of (name, shares, price, change) tuples given a portfolio list\n",
    "    and prices dictionary.\n",
    "    '''\n",
    "    rows = []\n",
    "    for stock in portfolio:\n",
    "        current_price = prices[stock.name]\n",
    "        change = current_price - stock.price\n",
    "        summary = (stock.name, stock.shares, current_price, change)\n",
    "        rows.append(summary)\n",
    "    return rows\n",
    "\n",
    "def print_report(reportdata, formatter):\n",
    "    '''\n",
    "    Print a nicely formated table from a list of (name, shares, price, change) tuples.\n",
    "    '''\n",
    "    formatter.headings(['Name', 'Shares', 'Price', 'Change'])\n",
    "        \n",
    "    for name, shares, price, change in reportdata:\n",
    "        rowdata = [ name, str(shares), f'{price:0.2f}', f'{change:0.2f}' ]\n",
    "        formatter.row(rowdata)\n",
    "\n",
    "def portfolio_report(portfoliofile, pricefile):        \n",
    "    '''\n",
    "    Make a stock report given portfolio and price data files.\n",
    "    '''\n",
    "    # Read data files \n",
    "    portfolio = read_portfolio(portfoliofile)\n",
    "    prices = read_prices(pricefile)\n",
    "\n",
    "    # Create the report data (보고서 데이터 생성)\n",
    "    report = make_report_data(portfolio, prices)\n",
    "\n",
    "    # Print it out\n",
    "    #formatter = tableformat.TextTableFormatter()\n",
    "    #formatter = tableformat.CSVTableFormatter()\n",
    "    formatter = tableformat.HTMLTableFormatter()\n",
    "    print_report(report, formatter)\n",
    "\n",
    "def main(args):\n",
    "    if len(args) != 3:\n",
    "        raise SystemExit('Usage: %s portfile pricefile' % args[0])\n",
    "    portfolio_report(args[1], args[2])\n",
    "\n",
    "if __name__ == '__main__':\n",
    "    import sys\n",
    "    main(sys.argv)\n"
   ]
  },
  {
   "cell_type": "code",
   "execution_count": 1,
   "metadata": {},
   "outputs": [],
   "source": [
    "import sys\n",
    "sys.path.append('../../test_bed')"
   ]
  },
  {
   "cell_type": "code",
   "execution_count": 2,
   "metadata": {},
   "outputs": [
    {
     "name": "stdout",
     "output_type": "stream",
     "text": [
      "[report.py]<read_portfolio()> Return to Object\n",
      "<tr><th>Name</th><th>Shares</th><th>Price</th><th>Change</th></tr>\n",
      "<tr><th>AA</th><th>100</th><th>9.22</th><th>-22.98</th></tr>\n",
      "<tr><th>IBM</th><th>50</th><th>106.28</th><th>15.18</th></tr>\n",
      "<tr><th>CAT</th><th>150</th><th>35.46</th><th>-47.98</th></tr>\n",
      "<tr><th>MSFT</th><th>200</th><th>20.89</th><th>-30.34</th></tr>\n",
      "<tr><th>GE</th><th>95</th><th>13.48</th><th>-26.89</th></tr>\n",
      "<tr><th>MSFT</th><th>50</th><th>20.89</th><th>-44.21</th></tr>\n",
      "<tr><th>IBM</th><th>100</th><th>106.28</th><th>35.84</th></tr>\n"
     ]
    }
   ],
   "source": [
    "import report\n",
    "report.portfolio_report('../../data/portfolio.csv', '../../data/prices.csv')\n"
   ]
  },
  {
   "attachments": {},
   "cell_type": "markdown",
   "metadata": {},
   "source": [
    "## 연습 문제 4.7: 다형성"
   ]
  },
  {
   "cell_type": "code",
   "execution_count": null,
   "metadata": {},
   "outputs": [],
   "source": [
    "# 객체 지향 프로그래밍의 주된 특징은 기존 코드를 변경할 필요 없이 객체를 프로그램에 끼워넣을 수 있다는 것이다. \n",
    "# 예를 들어, TableFormatter 객체를 사용할 것으로 예상되는 프로그램을 작성했다고 하면, \n",
    "# 어떤 종류의 TableFormatter를 주는지에 관계없이 작동할 것이다. 이러한 행위를 '다형성(polymorphism)'이라 한다.\n",
    "\n",
    "# 한 가지 잠재적인 문제는 사용자가 원하는 포매터를 선택하게 하는 방법을 알아내는 것이다. \n",
    "# TextTableFormatter 같은 클래스명을 직접 사용하게 하는 것은 종종 성가시다. \n",
    "# 따라서 단순한 접근을 고려할 수 있다. 다음과 같이 코드에 if 문을 포함할 수 있을 것이다.\n",
    "\n",
    "# def portfolio_report(portfoliofile, pricefile, fmt='txt'):\n",
    "#     '''\n",
    "#     주어진 포트폴리오와 가격 데이터 파일을 가지고 주식 보고서를 작성.\n",
    "#     '''\n",
    "#     # 데이터 파일 읽기\n",
    "#     portfolio = read_portfolio(portfoliofile)\n",
    "#     prices = read_prices(pricefile)\n",
    "\n",
    "#     # 보고서 데이터 생성\n",
    "#     report = make_report_data(portfolio, prices)\n",
    "\n",
    "#     # 프린트\n",
    "#     if fmt == 'txt':\n",
    "#         formatter = tableformat.TextTableFormatter()\n",
    "#     elif fmt == 'csv':\n",
    "#         formatter = tableformat.CSVTableFormatter()\n",
    "#     elif fmt == 'html':\n",
    "#         formatter = tableformat.HTMLTableFormatter()\n",
    "#     else:\n",
    "#         raise RuntimeError(f'Unknown format {fmt}')\n",
    "#     print_report(report, formatter)\n",
    "\n",
    "# 이 코드에서, 사용자는 'txt'나 'csv' 같이 단순화된 이름을 지정함으로써 포맷을 선택한다. \n",
    "# 하지만, portfolio_report() 함수에 커다란 if 문을 넣는 것이 최선인가? \n",
    "# 그 코드를 다른 범용 함수로 옮기는 것이 나을 것이다.\n",
    "\n",
    "# 'txt', 'csv', 'html' 같은 출력 이름에 따라 사용자가 포매터를 생성하는 create_formatter(name) 함수를 tableformat.py 파일에 추가한다. \n",
    "\n",
    "# portfolio_report()를 다음과 같이 수정하자.\n",
    "\n",
    "# def portfolio_report(portfoliofile, pricefile, fmt='txt'):\n",
    "#     '''\n",
    "#     주어진 포트폴리오와 가격 데이터 파일을 가지고 주식 보고서를 작성.\n",
    "#     '''\n",
    "#     # 데이터 파일 읽기\n",
    "#     portfolio = read_portfolio(portfoliofile)\n",
    "#     prices = read_prices(pricefile)\n",
    "\n",
    "#     # 보고서 데이터 생성\n",
    "#     report = make_report_data(portfolio, prices)\n",
    "\n",
    "#     # 프린트\n",
    "#     formatter = tableformat.create_formatter(fmt)\n",
    "#     print_report(report, formatter)\n",
    "# 여러 포맷으로 함수를 호출해 함수가 제대로 작동하는지 확인해 보자."
   ]
  },
  {
   "cell_type": "code",
   "execution_count": 8,
   "metadata": {},
   "outputs": [
    {
     "name": "stdout",
     "output_type": "stream",
     "text": [
      "Overwriting ../../test_bed/report.py\n"
     ]
    }
   ],
   "source": [
    "%%writefile ../../test_bed/report.py\n",
    "# report.py\n",
    "\n",
    "import fileparse\n",
    "import stock\n",
    "import prices\n",
    "import tableformat\n",
    "\n",
    "def read_portfolio(filename):\n",
    "    '''\n",
    "    Read a stock portfolio file into a list of dictionaries with keys\n",
    "    name, shares, and price.\n",
    "    '''\n",
    "    with open(filename) as lines:\n",
    "        # return fileparse.parse_csv(lines, select=['name','shares','price'], types=[str,int,float])\n",
    "\n",
    "        # Convert Dictionary to Object     \n",
    "        portdicts = fileparse.parse_csv(lines, select=['name','shares','price'], types=[str,int,float])\n",
    "        print('[report.py]<read_portfolio()> Return to Object')\n",
    "        return [ stock.Stock(d['name'], d['shares'], d['price']) for d in portdicts ]\n",
    "\n",
    "def read_prices(filename):\n",
    "    '''\n",
    "    Read a CSV file of price data into a dict mapping names to prices.\n",
    "    '''\n",
    "    with open(filename) as lines:\n",
    "        return dict(fileparse.parse_csv(lines, types=[str,float], has_headers=False))\n",
    "\n",
    "        # Convert Dictionary to Object     \n",
    "        # portdicts = fileparse.parse_csv(lines, types=[str,float], has_headers=False)\n",
    "        # return [ prices.Prices(d.name, d.price) for d in portdicts ]\n",
    "\n",
    "\n",
    "def make_report_data(portfolio,prices):\n",
    "    '''\n",
    "    Make a list of (name, shares, price, change) tuples given a portfolio list\n",
    "    and prices dictionary.\n",
    "    '''\n",
    "    rows = []\n",
    "    for stock in portfolio:\n",
    "        current_price = prices[stock.name]\n",
    "        change = current_price - stock.price\n",
    "        summary = (stock.name, stock.shares, current_price, change)\n",
    "        rows.append(summary)\n",
    "    return rows\n",
    "\n",
    "def print_report(reportdata, formatter):\n",
    "    '''\n",
    "    Print a nicely formated table from a list of (name, shares, price, change) tuples.\n",
    "    '''\n",
    "    formatter.headings(['Name', 'Shares', 'Price', 'Change'])\n",
    "        \n",
    "    for name, shares, price, change in reportdata:\n",
    "        rowdata = [ name, str(shares), f'{price:0.2f}', f'{change:0.2f}' ]\n",
    "        formatter.row(rowdata)\n",
    "\n",
    "def portfolio_report(portfoliofile, pricefile, fmt='txt'):        \n",
    "    '''\n",
    "    Make a stock report given portfolio and price data files.\n",
    "    '''\n",
    "    # Read data files \n",
    "    portfolio = read_portfolio(portfoliofile)\n",
    "    prices = read_prices(pricefile)\n",
    "\n",
    "    # Create the report data (보고서 데이터 생성)\n",
    "    report = make_report_data(portfolio, prices)\n",
    "\n",
    "    # Print it out\n",
    "    #formatter = tableformat.TextTableFormatter()\n",
    "    #formatter = tableformat.CSVTableFormatter()\n",
    "\n",
    "    formatter = tableformat.create_formatter(fmt)\n",
    "    print_report(report, formatter)\n",
    "    \n",
    "\n",
    "def main(args):\n",
    "    if len(args) != 3:\n",
    "        raise SystemExit('Usage: %s portfile pricefile' % args[0])\n",
    "    portfolio_report(args[1], args[2])\n",
    "\n",
    "if __name__ == '__main__':\n",
    "    import sys\n",
    "    main(sys.argv, sys)\n"
   ]
  },
  {
   "cell_type": "code",
   "execution_count": 8,
   "metadata": {},
   "outputs": [
    {
     "name": "stdout",
     "output_type": "stream",
     "text": [
      "Overwriting ../../test_bed/tableformat.py\n"
     ]
    }
   ],
   "source": [
    "%%writefile ../../test_bed/tableformat.py\n",
    "# tableformat.py\n",
    "\n",
    "class TableFormatter:\n",
    "    def headings(self, headers):\n",
    "        '''\n",
    "        테이블 헤딩을 반환.\n",
    "        '''\n",
    "        raise NotImplementedError()\n",
    "\n",
    "    def row(self, rowdata):\n",
    "        '''\n",
    "        테이블 데이터의 단일 행을 반환.\n",
    "        '''\n",
    "        raise NotImplementedError()\n",
    "    \n",
    "\n",
    "class TextTableFormatter(TableFormatter):\n",
    "    def headings(self, headers):\n",
    "        for h in headers:\n",
    "            print(f'{h:>10s}', end=' ')\n",
    "        print()\n",
    "        print(('-'*10 + ' ')*len(headers))\n",
    "\n",
    "    def row(self, rowdata):\n",
    "        for d in rowdata:\n",
    "            print(f'{d:>10s}', end=' ')\n",
    "        print()\n",
    "        \n",
    "\n",
    "class CSVTableFormatter(TableFormatter):\n",
    "    def headings(self, headers):\n",
    "        print(','.join(headers))\n",
    "            \n",
    "    def row(self, rowdata):\n",
    "        print(','.join(rowdata))\n",
    "        \n",
    "        \n",
    "class HTMLTableFormatter(TableFormatter):\n",
    "    def headings(self, headers):\n",
    "        print('<tr>', end='')\n",
    "        for h in headers:\n",
    "            print(f'<th>{h}</th>', end='')\n",
    "        print('</tr>')            \n",
    "                    \n",
    "    def row(self, rowdata):\n",
    "        print('<tr>', end='')\n",
    "        for r in rowdata:\n",
    "            print(f'<th>{r}</th>', end='')\n",
    "        print('</tr>')            \n",
    "\n",
    "\n",
    "def create_formatter(fmt):\n",
    "    if fmt == 'txt':\n",
    "        formatter = TextTableFormatter()\n",
    "    elif fmt == 'csv':\n",
    "        formatter = CSVTableFormatter()\n",
    "    elif fmt == 'html':\n",
    "        formatter = HTMLTableFormatter()\n",
    "    else:\n",
    "        raise RuntimeError(f'Unknown format {fmt}')\n",
    "    \n",
    "    return formatter"
   ]
  },
  {
   "cell_type": "code",
   "execution_count": 1,
   "metadata": {},
   "outputs": [],
   "source": [
    "import sys\n",
    "sys.path.append('../../test_bed')"
   ]
  },
  {
   "cell_type": "code",
   "execution_count": 3,
   "metadata": {},
   "outputs": [
    {
     "name": "stdout",
     "output_type": "stream",
     "text": [
      "[report.py]<read_portfolio()> Return to Object\n",
      "<tr><th>Name</th><th>Shares</th><th>Price</th><th>Change</th></tr>\n",
      "<tr><th>AA</th><th>100</th><th>9.22</th><th>-22.98</th></tr>\n",
      "<tr><th>IBM</th><th>50</th><th>106.28</th><th>15.18</th></tr>\n",
      "<tr><th>CAT</th><th>150</th><th>35.46</th><th>-47.98</th></tr>\n",
      "<tr><th>MSFT</th><th>200</th><th>20.89</th><th>-30.34</th></tr>\n",
      "<tr><th>GE</th><th>95</th><th>13.48</th><th>-26.89</th></tr>\n",
      "<tr><th>MSFT</th><th>50</th><th>20.89</th><th>-44.21</th></tr>\n",
      "<tr><th>IBM</th><th>100</th><th>106.28</th><th>35.84</th></tr>\n"
     ]
    }
   ],
   "source": [
    "import report\n",
    "\n",
    "report.portfolio_report('../../data/portfolio.csv', '../../data/prices.csv', fmt='html')"
   ]
  },
  {
   "attachments": {},
   "cell_type": "markdown",
   "metadata": {},
   "source": [
    "## 연습 문제 4.8: 모두 합치기"
   ]
  },
  {
   "cell_type": "code",
   "execution_count": null,
   "metadata": {},
   "outputs": [],
   "source": [
    "# portfolio_report() 함수가 출력 포맷을 지정하는 선택적 인자를 받게 report.py 프로그램을 수정하라. 예:\n",
    "\n",
    "# >>> report.portfolio_report('Data/portfolio.csv', 'Data/prices.csv', 'txt')\n",
    "#       Name     Shares      Price     Change\n",
    "# ---------- ---------- ---------- ----------\n",
    "#         AA        100       9.22     -22.98\n",
    "#        IBM         50     106.28      15.18\n",
    "#        CAT        150      35.46     -47.98\n",
    "#       MSFT        200      20.89     -30.34\n",
    "#         GE         95      13.48     -26.89\n",
    "#       MSFT         50      20.89     -44.21\n",
    "#        IBM        100     106.28      35.84\n",
    "# >>>\n",
    "# 명령행에서 포맷을 지정하게 메인 프로그램을 수정한다.\n",
    "\n",
    "# bash $ python3 report.py Data/portfolio.csv Data/prices.csv csv\n",
    "# Name,Shares,Price,Change\n",
    "# AA,100,9.22,-22.98\n",
    "# IBM,50,106.28,15.18\n",
    "# CAT,150,35.46,-47.98\n",
    "# MSFT,200,20.89,-30.34\n",
    "# GE,95,13.48,-26.89\n",
    "# MSFT,50,20.89,-44.21\n",
    "# IBM,100,106.28,35.84\n",
    "# bash $"
   ]
  },
  {
   "cell_type": "code",
   "execution_count": 5,
   "metadata": {},
   "outputs": [
    {
     "name": "stdout",
     "output_type": "stream",
     "text": [
      "Overwriting ../../test_bed/report.py\n"
     ]
    }
   ],
   "source": [
    "%%writefile ../../test_bed/report.py\n",
    "# report.py\n",
    "\n",
    "import fileparse\n",
    "import stock\n",
    "import prices\n",
    "import tableformat\n",
    "\n",
    "def read_portfolio(filename):\n",
    "    '''\n",
    "    Read a stock portfolio file into a list of dictionaries with keys\n",
    "    name, shares, and price.\n",
    "    '''\n",
    "    with open(filename) as lines:\n",
    "        # return fileparse.parse_csv(lines, select=['name','shares','price'], types=[str,int,float])\n",
    "\n",
    "        # Convert Dictionary to Object     \n",
    "        portdicts = fileparse.parse_csv(lines, select=['name','shares','price'], types=[str,int,float])\n",
    "        print('[report.py]<read_portfolio()> Return to Object')\n",
    "        return [ stock.Stock(d['name'], d['shares'], d['price']) for d in portdicts ]\n",
    "\n",
    "def read_prices(filename):\n",
    "    '''\n",
    "    Read a CSV file of price data into a dict mapping names to prices.\n",
    "    '''\n",
    "    with open(filename) as lines:\n",
    "        return dict(fileparse.parse_csv(lines, types=[str,float], has_headers=False))\n",
    "\n",
    "        # Convert Dictionary to Object     \n",
    "        # portdicts = fileparse.parse_csv(lines, types=[str,float], has_headers=False)\n",
    "        # return [ prices.Prices(d.name, d.price) for d in portdicts ]\n",
    "\n",
    "\n",
    "def make_report_data(portfolio,prices):\n",
    "    '''\n",
    "    Make a list of (name, shares, price, change) tuples given a portfolio list\n",
    "    and prices dictionary.\n",
    "    '''\n",
    "    rows = []\n",
    "    for stock in portfolio:\n",
    "        current_price = prices[stock.name]\n",
    "        change = current_price - stock.price\n",
    "        summary = (stock.name, stock.shares, current_price, change)\n",
    "        rows.append(summary)\n",
    "    return rows\n",
    "\n",
    "def print_report(reportdata, formatter):\n",
    "    '''\n",
    "    Print a nicely formated table from a list of (name, shares, price, change) tuples.\n",
    "    '''\n",
    "    formatter.headings(['Name', 'Shares', 'Price', 'Change'])\n",
    "        \n",
    "    for name, shares, price, change in reportdata:\n",
    "        rowdata = [ name, str(shares), f'{price:0.2f}', f'{change:0.2f}' ]\n",
    "        formatter.row(rowdata)\n",
    "\n",
    "def portfolio_report(portfoliofile, pricefile, fmt):        \n",
    "    '''\n",
    "    Make a stock report given portfolio and price data files.\n",
    "    '''\n",
    "    # Read data files \n",
    "    portfolio = read_portfolio(portfoliofile)\n",
    "    prices = read_prices(pricefile)\n",
    "\n",
    "    # Create the report data (보고서 데이터 생성)\n",
    "    report = make_report_data(portfolio, prices)\n",
    "\n",
    "    # Print it out\n",
    "    formatter = tableformat.create_formatter(fmt)\n",
    "    print_report(report, formatter)\n",
    "    \n",
    "\n",
    "def main(args):\n",
    "    if len(args) != 4:\n",
    "        raise SystemExit('Usage: %s portfile pricefile' % args[0])\n",
    "    portfolio_report(args[1], args[2], args[3])\n",
    "\n",
    "if __name__ == '__main__':\n",
    "    import sys\n",
    "    main(sys.argv)\n"
   ]
  },
  {
   "attachments": {},
   "cell_type": "markdown",
   "metadata": {},
   "source": [
    "## 논의"
   ]
  },
  {
   "cell_type": "code",
   "execution_count": null,
   "metadata": {},
   "outputs": [],
   "source": [
    "# 논의\n",
    "# ----\n",
    "# 라이브러리와 프레임워크에서 확장성 있는 코드를 작성하는 것은 상속의 주된 용도다. \n",
    "# 예를 들어, 프레임워크는 기본 클래스를 제공하고 당신은 그것을 상속해 객체를 정의한다. \n",
    "# 그런 다음 기능을 구현하는 다양한 메서드를 채운다.\n",
    "\n",
    "# 또 한 가지 심오한 개념은 '추상화를 직접 작성'하는 것이다. \n",
    "# 우리는 이 연습 문제에서 테이블을 포매팅하는 클래스를 직접 정의했다. \n",
    "# 코드를 들여다보고 '포매팅 라이브러리라든지 다른 사람이 이미 만들어놓은 것을 사용해야겠다'고 생각할지 모르겠다. \n",
    "# 하지만 직접 만든 클래스와 라이브러리를 둘 다 사용해야 한다. 스스로 클래스를 만들면 커플링이 줄어들고 더 유연해진다. \n",
    "# 당신의 애플리케이션이 당신의 클래스의 프로그래밍 인터페이스를 사용하는 한, 내부 구현을 원하는 대로 변경할 수 있다. \n",
    "# 완전한 맞춤 코드를 작성할 수 있다. 다른 사람이 만든 서드 파티 패키지를 사용할 수 있다. \n",
    "# 사용하던 서드 파티 패키지보다 더 좋은 것을 찾게 되면 다른 것으로 바꿀 수 있다. \n",
    "# 패키지를 교체하는 것이 별 문제가 되지 않을 것이다. \n",
    "# 인터페이스를 유지하는 한 애플리케이션 코드가 전혀 깨지지 않을 것이기 때문이다. \n",
    "# 그것은 강력한 아이디어이며, 이와 같은 상속을 고려해야 하는 이유다.\n",
    "\n",
    "# 객체 지향 프로그램 설계는 매우 어려울 수 있다. \n",
    "# 더 알고 싶으면 디자인 패턴을 다루는 책을 살펴보기 바란다\n",
    "# (이 연습 문제에서 일어난 일을 이해하면 객체를 실용적으로 다루는 데 상당한 도움이 된다)."
   ]
  },
  {
   "attachments": {},
   "cell_type": "markdown",
   "metadata": {},
   "source": [
    "# 4.3 특수한 메서드"
   ]
  },
  {
   "attachments": {},
   "cell_type": "markdown",
   "metadata": {},
   "source": [
    "## 문자열 변환을 위한 특수 메서드(__str__, __repr__)"
   ]
  },
  {
   "cell_type": "code",
   "execution_count": null,
   "metadata": {},
   "outputs": [],
   "source": [
    "# 특수한 메서드를 사용함으로써, 파이썬의 행위를 여러 면에서 커스터마이즈할 수 있다. \n",
    "# 이러한 특수 메서드를 \"마법(magic)\" 메서드라고도 부른다. 이 섹션에서 그 개념을 알아보자. \n",
    "# 동적 어트리뷰트 액세스와 바운드 메서드도 논의한다.\n",
    "\n",
    "# 도입\n",
    "# ----\n",
    "# 클래스에 특수 메서드를 정의할 수 있다. 파이썬 인터프리터는 이러한 메서드들을 특별하게 다룬다. 항상 앞에 __가 붙는다. (예: __init__)\n",
    "\n",
    "# class Stock(object):\n",
    "#     def __init__(self):\n",
    "#         ...\n",
    "#     def __repr__(self):\n",
    "#         ...\n",
    "# 특수 메서드는 많이 있지만, 그중 몇 가지만 예를 들어 보자."
   ]
  },
  {
   "attachments": {},
   "cell_type": "markdown",
   "metadata": {},
   "source": [
    "## 문자열 변환을 위한 특수 메서드"
   ]
  },
  {
   "cell_type": "code",
   "execution_count": null,
   "metadata": {},
   "outputs": [],
   "source": [
    "# 문자열 변환을 위한 특수 메서드\n",
    "# ----------------------------\n",
    "# 객체에는 두 가지 문자열 표현이 있다.\n",
    "\n",
    "# >>> from datetime import date\n",
    "# >>> d = date(2012, 12, 21)\n",
    "# >>> print(d)\n",
    "# 2012-12-21\n",
    "\n",
    "# >>> d\n",
    "# datetime.date(2012, 12, 21)\n",
    "# >>>\n",
    "\n",
    "\n",
    "# str() 함수를 사용해 멋지게 프린트할 수 있는 출력을 생성한다.\n",
    "\n",
    "# >>> str(d)\n",
    "# '2012-12-21'\n",
    "# >>>\n",
    "\n",
    "# repr() 함수는 개발자를 위한 상세한 표현에 사용된다.\n",
    "\n",
    "# >>> repr(d)\n",
    "# 'datetime.date(2012, 12, 21)'\n",
    "# >>>\n",
    "\n",
    "# 이러한 str()과 repr() 함수는 특수한 메서드를 사용해, 클래스로부터 문자열을 생성한다.\n",
    "\n",
    "# class Date(object):\n",
    "#     def __init__(self, year, month, day):\n",
    "#         self.year = year\n",
    "#         self.month = month\n",
    "#         self.day = day\n",
    "\n",
    "#     # Used with `str()`\n",
    "#     def __str__(self):\n",
    "#         return f'{self.year}-{self.month}-{self.day}'\n",
    "\n",
    "#     # `repr()`과 함께 사용\n",
    "#     def __repr__(self):\n",
    "#         return f'Date({self.year},{self.month},{self.day})'\n",
    "\n",
    "# 참고: __repr__()이 반환하는 문자열을 eval()에 전달하면 객체를 다시 만들 수 있도록 하는 것이 관례다. \n",
    "# 그렇게 하는 것이 불가능하다면, 그 대신 읽기 쉬운 표현을 사용한다.\n"
   ]
  },
  {
   "cell_type": "code",
   "execution_count": 10,
   "metadata": {},
   "outputs": [
    {
     "name": "stdout",
     "output_type": "stream",
     "text": [
      "2023-3-27\n"
     ]
    }
   ],
   "source": [
    "class Date:\n",
    "    def __init__(self, year, month, day):\n",
    "        self.year = year\n",
    "        self.month = month\n",
    "        self.day = day\n",
    "    \n",
    "    def __str__(self):\n",
    "        return f'{self.year}-{self.month}-{self.day}'\n",
    "    \n",
    "    def __repr__(self):\n",
    "        return f'Date({self.year},{self.month},{self.day})' \n",
    "    \n",
    "aa = Date(2023, 3, 27)\n",
    "print(aa)\n",
    "       "
   ]
  },
  {
   "attachments": {},
   "cell_type": "markdown",
   "metadata": {},
   "source": [
    "## 수학을 위한 특수 메서드"
   ]
  },
  {
   "cell_type": "code",
   "execution_count": null,
   "metadata": {},
   "outputs": [],
   "source": [
    "# 수학을 위한 특수 메서드\n",
    "# ---------------------\n",
    "# 다음과 같은 메서드가 수학 연산에 사용된다.\n",
    "\n",
    "# a + b       a.__add__(b)\n",
    "# a - b       a.__sub__(b)\n",
    "# a * b       a.__mul__(b)\n",
    "# a / b       a.__truediv__(b)\n",
    "# a // b      a.__floordiv__(b)\n",
    "# a % b       a.__mod__(b)\n",
    "# a << b      a.__lshift__(b)\n",
    "# a >> b      a.__rshift__(b)\n",
    "# a & b       a.__and__(b)\n",
    "# a | b       a.__or__(b)\n",
    "# a ^ b       a.__xor__(b)\n",
    "# a ** b      a.__pow__(b)\n",
    "# -a          a.__neg__()\n",
    "# ~a          a.__invert__()\n",
    "# abs(a)      a.__abs__()"
   ]
  },
  {
   "attachments": {},
   "cell_type": "markdown",
   "metadata": {},
   "source": [
    "## 항목 접근을 위한 특수 메서드"
   ]
  },
  {
   "cell_type": "code",
   "execution_count": null,
   "metadata": {},
   "outputs": [],
   "source": [
    "# 항목 접근을 위한 특수 메서드\n",
    "# --------------------------\n",
    "# 컨테이너를 구현하는 데 다음과 같은 메서드를 사용한다.\n",
    "\n",
    "# len(x)      x.__len__()\n",
    "# x[a]        x.__getitem__(a)\n",
    "# x[a] = v    x.__setitem__(a,v)\n",
    "# del x[a]    x.__delitem__(a)\n",
    "\n",
    "# 이것들을 다음과 같이 클래스에서 사용할 수 있다.\n",
    "\n",
    "# class Sequence:\n",
    "#     def __len__(self):\n",
    "#         ...\n",
    "#     def __getitem__(self,a):\n",
    "#         ...\n",
    "#     def __setitem__(self,a,v):\n",
    "#         ...\n",
    "#     def __delitem__(self,a):\n",
    "#         ...\n"
   ]
  },
  {
   "attachments": {},
   "cell_type": "markdown",
   "metadata": {},
   "source": [
    "## 메서드 호출(. 연산자, () 연산자)"
   ]
  },
  {
   "cell_type": "code",
   "execution_count": null,
   "metadata": {},
   "outputs": [],
   "source": [
    "# 메서드 호출\n",
    "# ----------\n",
    "# 메서드 호출은 두 단계 과정으로 이뤄진다.\n",
    "\n",
    "# 메서드가 있는지 확인(lookup): . 연산자\n",
    "# 메서드 호출: () 연산자\n",
    "\n",
    "# >>> s = Stock('GOOG',100,490.10)\n",
    "# >>> c = s.cost  # 메서드 확인\n",
    "# >>> c\n",
    "# <bound method Stock.cost of <Stock object at 0x590d0>>\n",
    "\n",
    "# >>> c()         # 메서드 호출\n",
    "# 49010.0\n",
    "# >>>"
   ]
  },
  {
   "cell_type": "code",
   "execution_count": 13,
   "metadata": {},
   "outputs": [
    {
     "name": "stdout",
     "output_type": "stream",
     "text": [
      "2023\n"
     ]
    }
   ],
   "source": [
    "class Date:\n",
    "    def __init__(self, year, month, day):\n",
    "        self.year = year\n",
    "        self.month = month\n",
    "        self.day = day\n",
    "    \n",
    "    def __str__(self):\n",
    "        return f'{self.year}-{self.month}-{self.day}'\n",
    "    \n",
    "    def __repr__(self):\n",
    "        return f'Date({self.year},{self.month},{self.day})' \n",
    "    \n",
    "    def print_date(self):\n",
    "        print(self.year)\n",
    "    \n",
    "d = Date(2023, 3, 27)\n",
    "e = d.print_date\n",
    "e\n",
    "e()\n",
    "       "
   ]
  },
  {
   "attachments": {},
   "cell_type": "markdown",
   "metadata": {},
   "source": [
    "## 바운드 메서드"
   ]
  },
  {
   "cell_type": "code",
   "execution_count": null,
   "metadata": {},
   "outputs": [],
   "source": [
    "# 바운드 메서드\n",
    "# ------------\n",
    "# 함수 호출 연산자 ()에 의해 호출되지 않은 메서드를 바운드 메서드(bound method)라 한다. \n",
    "# 바운드 메서드는 그것이 어느 인스턴스에서 왔는지를 반환한다.\n",
    "\n",
    "# >>> s = Stock('GOOG', 100, 490.10)\n",
    "# >>> s\n",
    "# <Stock object at 0x590d0>\n",
    "# >>> c = s.cost\n",
    "# >>> c\n",
    "# <bound method Stock.cost of <Stock object at 0x590d0>>\n",
    "# >>> c()\n",
    "# 49010.0\n",
    "# >>>\n",
    "# 바운드 메서드는 부주의하고 명백하지 않은 오류의 원인이 되곤 한다. 예:\n",
    "\n",
    "# >>> s = Stock('GOOG', 100, 490.10)\n",
    "# >>> print('Cost : %0.2f' % s.cost)\n",
    "# Traceback (most recent call last):\n",
    "#   File \"<stdin>\", line 1, in <module>\n",
    "# TypeError: float argument required\n",
    "# >>>\n",
    "# 또는 디버깅하기 힘든 잘못된 행동을 한다.\n",
    "\n",
    "# f = open(filename, 'w')\n",
    "# ...\n",
    "# f.close     # 아차, 아무 일도 하지 않았다. `f`는 여전히 열려 있다.\n",
    "# 두 경우 모두 괄호를 붙이는 것을 잊었기 때문에 오류가 발생했다. 예: s.cost() 또는 f.close().\n"
   ]
  },
  {
   "cell_type": "code",
   "execution_count": 26,
   "metadata": {},
   "outputs": [],
   "source": [
    "# %load ../../test_bed/stock.py\n",
    "class Stock:\n",
    "    def __init__(self, name, shares, price):\n",
    "        self.name = name\n",
    "        self.shares = shares\n",
    "        self.price = price\n",
    "        \n",
    "    def cost(self):\n",
    "        return self.shares * self.price\n",
    "        \n",
    "    def sell(self, shares):\n",
    "        self.shares -= shares            \n",
    "\n",
    "s = Stock('GOOG', 100, 490.10)\n",
    "isinstance(s, Stock) \n",
    "s     \n",
    "c = s.cost  \n",
    "c()\n",
    "\n",
    "s = Stock('GOOG', 100, 490.10)\n",
    "#print('Cost : %0.2f' % s.cost)\n",
    "\n",
    "f = open('../../data/portfolio.csv', 'r')\n",
    "#f.close"
   ]
  },
  {
   "cell_type": "code",
   "execution_count": null,
   "metadata": {},
   "outputs": [],
   "source": [
    "# 어트리뷰트 액세스\n",
    "# -----------------\n",
    "# 어트리뷰트에 액세스, 조작, 관리하는 또 다른 방법이 있다.\n",
    "\n",
    "# getattr(obj, 'name')          # obj.name과 같음\n",
    "# setattr(obj, 'name', value)   # obj.name = value와 같음\n",
    "# delattr(obj, 'name')          # del obj.name과 같음\n",
    "# hasattr(obj, 'name')          # 어트리뷰트가 존재하는지 테스트\n",
    "# 예:\n",
    "\n",
    "# if hasattr(obj, 'x'):\n",
    "#     x = getattr(obj, 'x'):\n",
    "# else:\n",
    "#     x = None\n",
    "# 참고: getattr()에도 유용한 기본값 arg가 있다.\n",
    "\n",
    "# x = getattr(obj, 'x', None)"
   ]
  },
  {
   "cell_type": "markdown",
   "metadata": {},
   "source": [
    "## 연습 문제"
   ]
  },
  {
   "cell_type": "markdown",
   "metadata": {},
   "source": [
    "### 연습 문제 4.9: 객체를 프린팅하기 위한 더 나은 출력"
   ]
  },
  {
   "cell_type": "code",
   "execution_count": null,
   "metadata": {},
   "outputs": [],
   "source": [
    "# stock.py에 정의한 Stock 객체를 수정해 __repr__() 메서드가 더 유용한 출력을 생성하게 해 보자. 예:\n",
    "\n",
    "# >>> goog = Stock('GOOG', 100, 490.1)\n",
    "# >>> goog\n",
    "# Stock('GOOG', 100, 490.1)\n",
    "# >>>\n",
    "# 이러한 변경을 한 후에 주식 포트폴리오를 읽고 결과 리스트를 볼 때 무슨 일이 일어나는지 확인하라. 예:\n",
    "\n",
    "# >>> import report\n",
    "# >>> portfolio = report.read_portfolio('Data/portfolio.csv')\n",
    "# >>> portfolio\n",
    "# ... see what the output is ...\n",
    "# >>>"
   ]
  },
  {
   "cell_type": "code",
   "execution_count": 3,
   "metadata": {},
   "outputs": [
    {
     "name": "stdout",
     "output_type": "stream",
     "text": [
      "Overwriting ../../test_bed/stock.py\n"
     ]
    }
   ],
   "source": [
    "%%writefile ../../test_bed/stock.py\n",
    "class Stock:\n",
    "    def __init__(self, name, shares, price):\n",
    "        self.name = name\n",
    "        self.shares = shares\n",
    "        self.price = price\n",
    "\n",
    "\n",
    "    def __repr__(self):\n",
    "        return f'Stock({self.name} {self.shares} {self.price})'         \n",
    "\n",
    "\n",
    "    def cost(self):\n",
    "        return self.shares * self.price  \n",
    "    \n",
    "    \n",
    "    def sell(self, shares):\n",
    "        self.shares -= shares\n",
    "        return self.shares  "
   ]
  },
  {
   "cell_type": "code",
   "execution_count": 1,
   "metadata": {},
   "outputs": [],
   "source": [
    "import sys\n",
    "sys.path.append('../../test_bed')"
   ]
  },
  {
   "cell_type": "code",
   "execution_count": 3,
   "metadata": {},
   "outputs": [
    {
     "data": {
      "text/plain": [
       "<stock.Stock at 0x1b92cea4f10>"
      ]
     },
     "execution_count": 3,
     "metadata": {},
     "output_type": "execute_result"
    }
   ],
   "source": [
    "import stock\n",
    "\n",
    "goog = stock.Stock('GOOG', 100, 490.1)\n",
    "goog"
   ]
  },
  {
   "cell_type": "code",
   "execution_count": 2,
   "metadata": {},
   "outputs": [
    {
     "data": {
      "text/plain": [
       "[Stock(AA 100 32.2),\n",
       " Stock(IBM 50 91.1),\n",
       " Stock(CAT 150 83.44),\n",
       " Stock(MSFT 200 51.23),\n",
       " Stock(GE 95 40.37),\n",
       " Stock(MSFT 50 65.1),\n",
       " Stock(IBM 100 70.44)]"
      ]
     },
     "execution_count": 2,
     "metadata": {},
     "output_type": "execute_result"
    }
   ],
   "source": [
    "import report\n",
    "\n",
    "portfolio = report.read_portfolio('../../data/portfolio.csv')\n",
    "portfolio\n"
   ]
  },
  {
   "cell_type": "code",
   "execution_count": null,
   "metadata": {},
   "outputs": [],
   "source": [
    " goog = Stock('GOOG', 100, 490.1)"
   ]
  },
  {
   "cell_type": "code",
   "execution_count": 4,
   "metadata": {},
   "outputs": [
    {
     "name": "stdout",
     "output_type": "stream",
     "text": [
      "Overwriting ../../test_bed/fileparse.py\n"
     ]
    }
   ],
   "source": [
    "%%writefile ../../test_bed/fileparse.py\n",
    "\n",
    "#fileparse.py\n",
    "\n",
    "import csv\n",
    "\n",
    "def parse_csv(lines, select=None, types=None, has_headers=True, delimiter=',', silence_errors=False):\n",
    "    '''\n",
    "    Parse a CSV file into a list of records with type conveersion.\n",
    "    ''' \n",
    "    if select and not has_headers:\n",
    "        raise RuntimeError('select requires column headers')\n",
    "    \n",
    "    rows = csv.reader(lines, delimiter=delimiter)\n",
    "    \n",
    "    # Read the file headers (if any)\n",
    "    headers = next(rows) if has_headers else []\n",
    "    \n",
    "    \n",
    "    # If specific columns have been selected, make indices for filtering and set output columns\n",
    "    if select:\n",
    "        indices = [headers.index(colname) for colname in select]\n",
    "        headers = select\n",
    "    \n",
    "    records = []\n",
    "\n",
    "    for rowno, row in enumerate(rows, 1):\n",
    "        if not row:\n",
    "            continue\n",
    "           \n",
    "        # If specific column indices are selected, pick them out\n",
    "        if select:\n",
    "            row = [ row[index] for index in indices ]\n",
    "    \n",
    "        # Apply type conversion to the row\n",
    "        if types:\n",
    "            try:\n",
    "                row = [ func(val) for func, val in zip(types, row) ]\n",
    "            except ValueError as e:\n",
    "                if not silence_errors:\n",
    "                    print(f\"Row {rowno}: Couldn't convert {row}\")\n",
    "                    print(f\"Row {rowno}: Reason {e}\")\n",
    "                continue\n",
    "\n",
    "    \n",
    "        # Make a dictionary or a tuple\n",
    "        if headers:    \n",
    "            record = dict(zip(headers, row))\n",
    "        else:\n",
    "            record = tuple(row)\n",
    "\n",
    "        records.append(record)\n",
    "            \n",
    "    return records"
   ]
  },
  {
   "cell_type": "code",
   "execution_count": 3,
   "metadata": {},
   "outputs": [
    {
     "name": "stdout",
     "output_type": "stream",
     "text": [
      "Overwriting ../../test_bed/report.py\n"
     ]
    }
   ],
   "source": [
    "%%writefile ../../test_bed/report.py\n",
    "# report.py\n",
    "\n",
    "import fileparse\n",
    "import stock\n",
    "import prices\n",
    "import tableformat\n",
    "\n",
    "def read_portfolio(filename):\n",
    "    '''\n",
    "    Read a stock portfolio file into a list of dictionaries with keys\n",
    "    name, shares, and price.\n",
    "    '''\n",
    "    with open(filename) as lines:\n",
    "        # Convert Dictionary to Object     \n",
    "        portdicts = fileparse.parse_csv(lines, select=['name','shares','price'], types=[str,int,float])\n",
    "    \n",
    "        return [ stock.Stock(d['name'], d['shares'], d['price']) for d in portdicts ]\n",
    "\n",
    "def read_prices(filename):\n",
    "    '''\n",
    "    Read a CSV file of price data into a dict mapping names to prices.\n",
    "    '''\n",
    "    with open(filename) as lines:\n",
    "        return dict(fileparse.parse_csv(lines, types=[str,float], has_headers=False))\n",
    "\n",
    "        # Convert Dictionary to Object     \n",
    "        # portdicts = fileparse.parse_csv(lines, types=[str,float], has_headers=False)\n",
    "        # return [ prices.Prices(d.name, d.price) for d in portdicts ]\n",
    "\n",
    "\n",
    "def make_report_data(portfolio,prices):\n",
    "    '''\n",
    "    Make a list of (name, shares, price, change) tuples given a portfolio list\n",
    "    and prices dictionary.\n",
    "    '''\n",
    "    rows = []\n",
    "    for stock in portfolio:\n",
    "        current_price = prices[stock.name]\n",
    "        change = current_price - stock.price\n",
    "        summary = (stock.name, stock.shares, current_price, change)\n",
    "        rows.append(summary)\n",
    "    return rows\n",
    "\n",
    "def print_report(reportdata, formatter):\n",
    "    '''\n",
    "    Print a nicely formated table from a list of (name, shares, price, change) tuples.\n",
    "    '''\n",
    "    formatter.headings(['Name', 'Shares', 'Price', 'Change'])\n",
    "        \n",
    "    for name, shares, price, change in reportdata:\n",
    "        rowdata = [ name, str(shares), f'{price:0.2f}', f'{change:0.2f}' ]\n",
    "        formatter.row(rowdata)\n",
    "\n",
    "def portfolio_report(portfoliofile, pricefile, fmt):        \n",
    "    '''\n",
    "    Make a stock report given portfolio and price data files.\n",
    "    '''\n",
    "    # Read data files \n",
    "    portfolio = read_portfolio(portfoliofile)\n",
    "    prices = read_prices(pricefile)\n",
    "\n",
    "    # Create the report data (보고서 데이터 생성)\n",
    "    report = make_report_data(portfolio, prices)\n",
    "\n",
    "    # Print it out\n",
    "    formatter = tableformat.create_formatter(fmt)\n",
    "    print_report(report, formatter)\n",
    "    \n",
    "\n",
    "def main(args):\n",
    "    if len(args) != 4:\n",
    "        raise SystemExit('Usage: %s portfile pricefile' % args[0])\n",
    "    portfolio_report(args[1], args[2], args[3])\n",
    "\n",
    "if __name__ == '__main__':\n",
    "    import sys\n",
    "    main(sys.argv)\n"
   ]
  },
  {
   "cell_type": "markdown",
   "metadata": {},
   "source": [
    "### 연습 문제 4.10: getattr()을 사용하는 예"
   ]
  },
  {
   "cell_type": "code",
   "execution_count": null,
   "metadata": {},
   "outputs": [],
   "source": [
    "# getattr()은 어트리뷰트를 읽는 대체 메커니즘이다. \n",
    "# 이것을 사용해 극도로 유연한 코드를 작성할 수 있다. 다음 예제부터 시도하자.\n",
    "\n",
    "# >>> import stock\n",
    "# >>> s = stock.Stock('GOOG', 100, 490.1)\n",
    "# >>> columns = ['name', 'shares']\n",
    "# >>> for colname in columns:\n",
    "#         print(colname, '=', getattr(s, colname))\n",
    "\n",
    "# name = GOOG\n",
    "# shares = 100\n",
    "# >>>\n",
    "\n",
    "# 출력 데이터가 columns 변수에 나열된 어트리뷰트 이름에 의해 완전히 결정되는 것을 주의깊게 관찰하라."
   ]
  },
  {
   "cell_type": "code",
   "execution_count": 7,
   "metadata": {},
   "outputs": [
    {
     "name": "stdout",
     "output_type": "stream",
     "text": [
      "name = IBM\n",
      "shares = 100\n"
     ]
    },
    {
     "data": {
      "text/plain": [
       "13.23"
      ]
     },
     "execution_count": 7,
     "metadata": {},
     "output_type": "execute_result"
    }
   ],
   "source": [
    "import stock\n",
    "\n",
    "s = stock.Stock('IBM', 100, 13.23)\n",
    "colnames = ['name', 'shares']\n",
    "for colname in colnames:\n",
    "    print(colname, '=', getattr(s, colname))\n",
    "\n",
    "price = getattr(s, 'price')\n",
    "price"
   ]
  },
  {
   "cell_type": "code",
   "execution_count": null,
   "metadata": {},
   "outputs": [],
   "source": [
    "# 이 아이디어를 tableformat.py 파일의 일반화된 함수 print_table()에 적용한다. \n",
    "# 이 함수는 임의의 객체의 리스트의 사용자 정의 어트리뷰트를 보여주는 테이블을 프린트한다. \n",
    "# 이전의 print_report() 함수와 마찬가지로, print_table()은 출력 포맷을 지정하는 TableFormatter 인스턴스를 받는다. \n",
    "# 다음과 같이 실행한다.\n",
    "\n",
    "# >>> import report\n",
    "# >>> portfolio = report.read_portfolio('Data/portfolio.csv')\n",
    "# >>> from tableformat import create_formatter, print_table\n",
    "# >>> formatter = create_formatter('txt')\n",
    "# >>> print_table(portfolio, ['name','shares'], formatter)\n",
    "#       name     shares\n",
    "# ---------- ----------\n",
    "#         AA        100\n",
    "#        IBM         50\n",
    "#        CAT        150\n",
    "#       MSFT        200\n",
    "#         GE         95\n",
    "#       MSFT         50\n",
    "#        IBM        100\n",
    "\n",
    "# >>> print_table(portfolio, ['name','shares','price'], formatter)\n",
    "#       name     shares      price\n",
    "# ---------- ---------- ----------\n",
    "#         AA        100       32.2\n",
    "#        IBM         50       91.1\n",
    "#        CAT        150      83.44\n",
    "#       MSFT        200      51.23\n",
    "#         GE         95      40.37\n",
    "#       MSFT         50       65.1\n",
    "#        IBM        100      70.44\n",
    "# >>>"
   ]
  },
  {
   "cell_type": "code",
   "execution_count": 10,
   "metadata": {},
   "outputs": [
    {
     "name": "stdout",
     "output_type": "stream",
     "text": [
      "Overwriting ../../test_bed/tableformat.py\n"
     ]
    }
   ],
   "source": [
    "%%writefile ../../test_bed/tableformat.py\n",
    "# tableformat.py\n",
    "\n",
    "class TableFormatter:\n",
    "    def headings(self, headers):\n",
    "        '''\n",
    "        테이블 헤딩을 반환.\n",
    "        '''\n",
    "        raise NotImplementedError()\n",
    "\n",
    "    def row(self, rowdata):\n",
    "        '''\n",
    "        테이블 데이터의 단일 행을 반환.\n",
    "        '''\n",
    "        raise NotImplementedError()\n",
    "    \n",
    "\n",
    "class TextTableFormatter(TableFormatter):\n",
    "    def headings(self, headers):\n",
    "        for h in headers:\n",
    "            print(f'{h:>10s}', end=' ')\n",
    "        print()\n",
    "        print(('-'*10 + ' ')*len(headers))\n",
    "\n",
    "    def row(self, rowdata):\n",
    "        for d in rowdata:\n",
    "            print(f'{d:>10s}', end=' ')\n",
    "        print()\n",
    "        \n",
    "\n",
    "class CSVTableFormatter(TableFormatter):\n",
    "    def headings(self, headers):\n",
    "        print(','.join(headers))\n",
    "            \n",
    "    def row(self, rowdata):\n",
    "        print(','.join(rowdata))\n",
    "        \n",
    "        \n",
    "class HTMLTableFormatter(TableFormatter):\n",
    "    def headings(self, headers):\n",
    "        print('<tr>', end='')\n",
    "        for h in headers:\n",
    "            print(f'<th>{h}</th>', end='')\n",
    "        print('</tr>')            \n",
    "                    \n",
    "    def row(self, rowdata):\n",
    "        print('<tr>', end='')\n",
    "        for r in rowdata:\n",
    "            print(f'<th>{r}</th>', end='')\n",
    "        print('</tr>')            \n",
    "\n",
    "\n",
    "def create_formatter(fmt):\n",
    "    if fmt == 'txt':\n",
    "        formatter = TextTableFormatter()\n",
    "    elif fmt == 'csv':\n",
    "        formatter = CSVTableFormatter()\n",
    "    elif fmt == 'html':\n",
    "        formatter = HTMLTableFormatter()\n",
    "    else:\n",
    "        raise RuntimeError(f'Unknown format {fmt}')\n",
    "    return formatter\n",
    "\n",
    "\n",
    "def print_table(objects, columns, formatter):\n",
    "    '''\n",
    "    Make a nicely formatted table from a list of objects and attribute names.\n",
    "    '''\n",
    "    formatter.headings(columns)\n",
    "    for obj in objects:\n",
    "        rowdata = [ str(getattr(obj, name)) for name in columns ]\n",
    "        formatter.row(rowdata)"
   ]
  },
  {
   "cell_type": "code",
   "execution_count": 1,
   "metadata": {},
   "outputs": [],
   "source": [
    "import sys\n",
    "sys.path.append('../../test_bed')"
   ]
  },
  {
   "cell_type": "code",
   "execution_count": 2,
   "metadata": {},
   "outputs": [
    {
     "name": "stdout",
     "output_type": "stream",
     "text": [
      "      name     shares \n",
      "---------- ---------- \n",
      "        AA        100 \n",
      "       IBM         50 \n",
      "       CAT        150 \n",
      "      MSFT        200 \n",
      "        GE         95 \n",
      "      MSFT         50 \n",
      "       IBM        100 \n",
      "\n",
      "      name     shares      price \n",
      "---------- ---------- ---------- \n",
      "        AA        100       32.2 \n",
      "       IBM         50       91.1 \n",
      "       CAT        150      83.44 \n",
      "      MSFT        200      51.23 \n",
      "        GE         95      40.37 \n",
      "      MSFT         50       65.1 \n",
      "       IBM        100      70.44 \n"
     ]
    }
   ],
   "source": [
    "import report\n",
    "from tableformat import create_formatter, print_table\n",
    "\n",
    "portfolio = report.read_portfolio('../../data/portfolio.csv')\n",
    "formatter = create_formatter('txt')\n",
    "print_table(portfolio, ['name','shares'], formatter)\n",
    "print()\n",
    "\n",
    "print_table(portfolio, ['name','shares','price'], formatter)"
   ]
  },
  {
   "cell_type": "markdown",
   "metadata": {},
   "source": [
    "### 4.4 예외 정의하기"
   ]
  },
  {
   "cell_type": "code",
   "execution_count": null,
   "metadata": {},
   "outputs": [],
   "source": [
    "# 사용자 정의 예외는 클래스에 의해 정의된다.\n",
    "\n",
    "# class NetworkError(Exception):\n",
    "#     pass\n",
    "# 예외는 항상 Exception으로부터 상속한다.\n",
    "\n",
    "# 보통 그것들은 빈 클래스다. 몸체에 pass를 사용한다.\n",
    "\n",
    "# 예외 계층을 직접 만들 수 있다.\n",
    "\n",
    "# class AuthenticationError(NetworkError):\n",
    "#      pass\n",
    "\n",
    "# class ProtocolError(NetworkError):\n",
    "#     pass"
   ]
  },
  {
   "cell_type": "markdown",
   "metadata": {},
   "source": [
    "## 연습 문제"
   ]
  },
  {
   "cell_type": "markdown",
   "metadata": {},
   "source": [
    "## 연습 문제 4.11: 커스텀 예외 정의하기"
   ]
  },
  {
   "cell_type": "code",
   "execution_count": null,
   "metadata": {},
   "outputs": [],
   "source": [
    "# 라이브러리에 자체적인 예외를 정의하는 것이 좋다.\n",
    "\n",
    "# 공통적인 프로그래밍 오류로 인해 발생하는 파이썬 예외와 라이브러리 내부적으로 발생해 특정한 사용상의 문제를 가리키는 예외를 구분하기 쉬워진다.\n",
    "\n",
    "# 지난 연습 문제의 create_formatter() 함수를 수정해, 사용자가 잘못된 포맷 이름을 제공했을 때 커스텀 FormatError 예외를 일으키게 해 보자.\n",
    "\n",
    "# 예:\n",
    "\n",
    "# >>> from tableformat import create_formatter\n",
    "# >>> formatter = create_formatter('xls')\n",
    "# Traceback (most recent call last):\n",
    "#   File \"<stdin>\", line 1, in <module>\n",
    "#   File \"tableformat.py\", line 71, in create_formatter\n",
    "#     raise FormatError('Unknown table format %s' % name)\n",
    "# FormatError: Unknown table format xls\n",
    "# >>>"
   ]
  },
  {
   "cell_type": "code",
   "execution_count": 7,
   "metadata": {},
   "outputs": [
    {
     "name": "stdout",
     "output_type": "stream",
     "text": [
      "Overwriting ../../test_bed/tableformat.py\n"
     ]
    }
   ],
   "source": [
    "%%writefile ../../test_bed/tableformat.py\n",
    "# tableformat.py\n",
    "\n",
    "class TableFormatter:\n",
    "    def headings(self, headers):\n",
    "        '''\n",
    "        테이블 헤딩을 반환.\n",
    "        '''\n",
    "        raise NotImplementedError()\n",
    "\n",
    "    def row(self, rowdata):\n",
    "        '''\n",
    "        테이블 데이터의 단일 행을 반환.\n",
    "        '''\n",
    "        raise NotImplementedError()\n",
    "    \n",
    "\n",
    "class TextTableFormatter(TableFormatter):\n",
    "    def headings(self, headers):\n",
    "        for h in headers:\n",
    "            print(f'{h:>10s}', end=' ')\n",
    "        print()\n",
    "        print(('-'*10 + ' ')*len(headers))\n",
    "\n",
    "    def row(self, rowdata):\n",
    "        for d in rowdata:\n",
    "            print(f'{d:>10s}', end=' ')\n",
    "        print()\n",
    "        \n",
    "\n",
    "class CSVTableFormatter(TableFormatter):\n",
    "    def headings(self, headers):\n",
    "        print(','.join(headers))\n",
    "            \n",
    "    def row(self, rowdata):\n",
    "        print(','.join(rowdata))\n",
    "        \n",
    "        \n",
    "class HTMLTableFormatter(TableFormatter):\n",
    "    def headings(self, headers):\n",
    "        print('<tr>', end='')\n",
    "        for h in headers:\n",
    "            print(f'<th>{h}</th>', end='')\n",
    "        print('</tr>')            \n",
    "                    \n",
    "    def row(self, rowdata):\n",
    "        print('<tr>', end='')\n",
    "        for r in rowdata:\n",
    "            print(f'<th>{r}</th>', end='')\n",
    "        print('</tr>') \n",
    "\n",
    "\n",
    "class FormatError(Exception):\n",
    "    pass           \n",
    "\n",
    "\n",
    "def create_formatter(fmt):\n",
    "    if fmt == 'txt':\n",
    "        formatter = TextTableFormatter()\n",
    "    elif fmt == 'csv':\n",
    "        formatter = CSVTableFormatter()\n",
    "    elif fmt == 'html':\n",
    "        formatter = HTMLTableFormatter()\n",
    "    else:\n",
    "        raise FormatError(f'Unknown table format {fmt}')\n",
    "    return formatter\n",
    "\n",
    "\n",
    "def print_table(objects, columns, formatter):\n",
    "    '''\n",
    "    Make a nicely formatted table from a list of objects and attribute names.\n",
    "    '''\n",
    "    formatter.headings(columns)\n",
    "    for obj in objects:\n",
    "        rowdata = [ str(getattr(obj, name)) for name in columns ]\n",
    "        formatter.row(rowdata)\n"
   ]
  },
  {
   "cell_type": "code",
   "execution_count": 2,
   "metadata": {},
   "outputs": [],
   "source": [
    "import sys\n",
    "sys.path.append('../../test_bed')"
   ]
  },
  {
   "cell_type": "code",
   "execution_count": 3,
   "metadata": {},
   "outputs": [
    {
     "ename": "FormatError",
     "evalue": "Unknown table format xls",
     "output_type": "error",
     "traceback": [
      "\u001b[1;31m---------------------------------------------------------------------------\u001b[0m",
      "\u001b[1;31mFormatError\u001b[0m                               Traceback (most recent call last)",
      "\u001b[1;32mc:\\Users\\User\\Quick_Ref\\Programming\\Python\\Python 중급\\실용 파이썬 프로그래밍\\4. 클래스와 객체.ipynb 셀 133\u001b[0m in \u001b[0;36m<cell line: 2>\u001b[1;34m()\u001b[0m\n\u001b[0;32m      <a href='vscode-notebook-cell:/c%3A/Users/User/Quick_Ref/Programming/Python/Python%20%EC%A4%91%EA%B8%89/%EC%8B%A4%EC%9A%A9%20%ED%8C%8C%EC%9D%B4%EC%8D%AC%20%ED%94%84%EB%A1%9C%EA%B7%B8%EB%9E%98%EB%B0%8D/4.%20%ED%81%B4%EB%9E%98%EC%8A%A4%EC%99%80%20%EA%B0%9D%EC%B2%B4.ipynb#Y322sZmlsZQ%3D%3D?line=0'>1</a>\u001b[0m \u001b[39mfrom\u001b[39;00m \u001b[39mtableformat\u001b[39;00m \u001b[39mimport\u001b[39;00m create_formatter\n\u001b[1;32m----> <a href='vscode-notebook-cell:/c%3A/Users/User/Quick_Ref/Programming/Python/Python%20%EC%A4%91%EA%B8%89/%EC%8B%A4%EC%9A%A9%20%ED%8C%8C%EC%9D%B4%EC%8D%AC%20%ED%94%84%EB%A1%9C%EA%B7%B8%EB%9E%98%EB%B0%8D/4.%20%ED%81%B4%EB%9E%98%EC%8A%A4%EC%99%80%20%EA%B0%9D%EC%B2%B4.ipynb#Y322sZmlsZQ%3D%3D?line=1'>2</a>\u001b[0m formatter \u001b[39m=\u001b[39m create_formatter(\u001b[39m'\u001b[39;49m\u001b[39mxls\u001b[39;49m\u001b[39m'\u001b[39;49m)\n",
      "File \u001b[1;32mc:\\Users\\User\\Quick_Ref\\Programming\\Python\\Python 중급\\실용 파이썬 프로그래밍\\../../test_bed\\tableformat.py:64\u001b[0m, in \u001b[0;36mcreate_formatter\u001b[1;34m(fmt)\u001b[0m\n\u001b[0;32m     62\u001b[0m     formatter \u001b[39m=\u001b[39m HTMLTableFormatter()\n\u001b[0;32m     63\u001b[0m \u001b[39melse\u001b[39;00m:\n\u001b[1;32m---> 64\u001b[0m     \u001b[39mraise\u001b[39;00m FormatError(\u001b[39mf\u001b[39m\u001b[39m'\u001b[39m\u001b[39mUnknown table format \u001b[39m\u001b[39m{\u001b[39;00mfmt\u001b[39m}\u001b[39;00m\u001b[39m'\u001b[39m)\n\u001b[0;32m     65\u001b[0m \u001b[39mreturn\u001b[39;00m formatter\n",
      "\u001b[1;31mFormatError\u001b[0m: Unknown table format xls"
     ]
    }
   ],
   "source": [
    "from tableformat import create_formatter\n",
    "formatter = create_formatter('xls')"
   ]
  }
 ],
 "metadata": {
  "kernelspec": {
   "display_name": "Python 3.9.12 ('base')",
   "language": "python",
   "name": "python3"
  },
  "language_info": {
   "codemirror_mode": {
    "name": "ipython",
    "version": 3
   },
   "file_extension": ".py",
   "mimetype": "text/x-python",
   "name": "python",
   "nbconvert_exporter": "python",
   "pygments_lexer": "ipython3",
   "version": "3.9.12"
  },
  "orig_nbformat": 4,
  "vscode": {
   "interpreter": {
    "hash": "f08154012ddadd8e950e6e9e035c7a7b32c136e7647e9b7c77e02eb723a8bedb"
   }
  }
 },
 "nbformat": 4,
 "nbformat_minor": 2
}
