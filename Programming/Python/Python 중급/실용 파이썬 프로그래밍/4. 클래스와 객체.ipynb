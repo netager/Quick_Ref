{
 "cells": [
  {
   "cell_type": "markdown",
   "metadata": {},
   "source": [
    "# 4.1 클래스"
   ]
  },
  {
   "cell_type": "markdown",
   "metadata": {},
   "source": [
    "## 객체 지향(Object Oriented, OO) 프로그래밍"
   ]
  },
  {
   "cell_type": "markdown",
   "metadata": {},
   "source": [
    "### class 문"
   ]
  },
  {
   "cell_type": "code",
   "execution_count": 1,
   "metadata": {},
   "outputs": [],
   "source": [
    "# class 문\n",
    "# --------\n",
    "# class 문을 사용해 새로운 객체를 정의한다.\n",
    "\n",
    "class Player:\n",
    "    def __init__(self, x, y):\n",
    "        self.x = x\n",
    "        self.y = y\n",
    "        self.health = 100\n",
    "\n",
    "    def move(self, dx, dy):\n",
    "        self.x += dx\n",
    "        self.y += dy\n",
    "\n",
    "    def damage(self, pts):\n",
    "        self.health -= pts"
   ]
  },
  {
   "cell_type": "markdown",
   "metadata": {},
   "source": [
    "## 객체"
   ]
  },
  {
   "cell_type": "code",
   "execution_count": 2,
   "metadata": {},
   "outputs": [],
   "source": [
    "# 클래스를 함수로서 호출하여 생성한다.\n",
    "\n",
    "a = Player(2, 3)\n",
    "b = Player(10, 20)\n",
    "\n",
    "# a와 b는 객체이며, Player Class의 인스턴스다.\n",
    "\n",
    "# 강조: class 문은 정의(definition)일 뿐이다(그 자체로는 아무 일도 하지 않는다). 함수 정의와 마찬가지다.\n",
    "\n",
    "\n",
    "\n",
    "# 인스턴스 데이터\n",
    "# ---------------\n",
    "# 인스턴스에는 자체 로컬 데이터가 있다."
   ]
  },
  {
   "cell_type": "markdown",
   "metadata": {},
   "source": [
    "## 인스턴스 메서드"
   ]
  },
  {
   "cell_type": "code",
   "execution_count": null,
   "metadata": {},
   "outputs": [],
   "source": [
    "# 인스턴스 메서드\n",
    "# --------------\n",
    "\n",
    "# 인스턴스 메서드는 객체의 인스턴스에 적용되는 함수다.\n",
    "\n",
    "class Player:\n",
    "    ...\n",
    "    # `move`는 메서드다\n",
    "    def move(self, dx, dy):\n",
    "        self.x += dx\n",
    "        self.y += dy\n",
    "\n",
    "# 객체 그 자체가 항상 첫 번째 인자로 전달된다.\n",
    "\n",
    "a.move(1, 2)\n",
    "\n",
    "# `a`를 `self`와 매치\n",
    "# `1`을 `dx`와 매치\n",
    "# `2`를 `dy`와 매치\n",
    "\n",
    "# def move(self, dx, dy):\n",
    "\n",
    "# 관례적으로 인스턴스를 self라고 한다. 그러나 실제로 어떤 이름을 쓰는지는 중요하지 않다. \n",
    "# 객체는 항상 첫 번째 인자로 전달된다. 이 인자를 self라고 부르는 것은 파이썬 프로그래밍 스타일일 뿐이다."
   ]
  },
  {
   "cell_type": "markdown",
   "metadata": {},
   "source": [
    "## 클래스 스코핑"
   ]
  },
  {
   "cell_type": "code",
   "execution_count": null,
   "metadata": {},
   "outputs": [],
   "source": [
    "# 클래스 스코핑\n",
    "# -------------\n",
    "# 클래스는 이름의 스코프를 정의하지 않는다.\n",
    "\n",
    "# class Player:\n",
    "#     ...\n",
    "#     def move(self, dx, dy):\n",
    "#         self.x += dx\n",
    "#         self.y += dy\n",
    "\n",
    "#     def left(self, amt):\n",
    "#         move(-amt, 0)       # NO. 글로벌 `move` 함수를 호출\n",
    "#         self.move(-amt, 0)  # YES. 위에 정의한 `move` 메서드를 호출.\n",
    "\n",
    "# 인스턴스에 대한 연산을 하고 싶으면, 항상 명시적으로 참조한다(예: self)."
   ]
  },
  {
   "cell_type": "markdown",
   "metadata": {},
   "source": [
    "## 연습 문제"
   ]
  },
  {
   "cell_type": "code",
   "execution_count": null,
   "metadata": {},
   "outputs": [],
   "source": [
    "# 지금부터 나오는 연습 문제는 이전 섹션에서 작성한 코드를 변경한다. \n",
    "# 연습 문제 3.18의 코드가 올바로 작동하는 것을 가지고 시작해야 한다. \n",
    "# 그렇지 못할 경우, Solutions/3_18 디렉터리의 해답 코드를 가지고 실습하라. 복사해서 써도 된다."
   ]
  },
  {
   "cell_type": "markdown",
   "metadata": {},
   "source": [
    "## 연습 문제 4.1: 데이터 구조로서의 객체"
   ]
  },
  {
   "cell_type": "code",
   "execution_count": null,
   "metadata": {},
   "outputs": [],
   "source": [
    "# 섹션 2와 3에서, 튜플과 딕셔너리로서 표현되는 데이터를 가지고 작업했다. \n",
    "# 예를 들어, 보유 주식을 다음과 같이 튜플로 표현했다.\n",
    "\n",
    "# s = ('GOOG',100,490.10)\n",
    "# 또는 다음과 같이 딕셔너리를 사용했다.\n",
    "\n",
    "# s = { 'name'   : 'GOOG',\n",
    "#       'shares' : 100,\n",
    "#       'price'  : 490.10\n",
    "# }\n",
    "\n",
    "# 그러한 데이터를 조작하는 함수를 작성할 수도 있다. 예:\n",
    "\n",
    "# def cost(s):\n",
    "#     return s['shares'] * s['price']\n",
    "\n",
    "# 그렇지만 프로그램이 커져감에 따라 조직화를 더 잘 하고 싶어질 것이다. \n",
    "# 따라서 클래스를 정의함으로써 데이터를 표현하는 접근을 취할 수 있다. \n",
    "# stock.py라는 파일을 만들어 보유 주식 한 종목을 표현하는 Stock 클래스를 정의하자. \n",
    "# Stock 인스턴스에는 name, shares, price 어트리뷰트가 있다. 예:"
   ]
  },
  {
   "cell_type": "code",
   "execution_count": 3,
   "metadata": {},
   "outputs": [
    {
     "name": "stdout",
     "output_type": "stream",
     "text": [
      "Writing ../../test_bed/stock.py\n"
     ]
    }
   ],
   "source": [
    "%%writefile ../../test_bed/stock.py\n",
    "class Stock:\n",
    "    def __init__(self, name, shares, price):\n",
    "        self.name = name\n",
    "        self.shares = shares\n",
    "        self.price = price    \n",
    "        "
   ]
  },
  {
   "cell_type": "code",
   "execution_count": 1,
   "metadata": {},
   "outputs": [],
   "source": [
    "import sys\n",
    "sys.path.append('../../test_bed')"
   ]
  },
  {
   "cell_type": "code",
   "execution_count": 3,
   "metadata": {},
   "outputs": [
    {
     "name": "stdout",
     "output_type": "stream",
     "text": [
      "      GOOG        100     490.10\n",
      "      APPL         50     122.34\n",
      "       IBM         75      91.75\n"
     ]
    }
   ],
   "source": [
    "import stock\n",
    "\n",
    "a = stock.Stock('GOOG', 100, 490.10)\n",
    "a.name, a.shares, a.price\n",
    "\n",
    "b = stock.Stock('APPL', 50, 122.34)\n",
    "b.name, b.shares, b.price\n",
    "\n",
    "c = stock.Stock('IBM', 75, 91.75)\n",
    "c.name, c.shares, c.price\n",
    "\n",
    "b.shares * b.price\n",
    "c.shares * c.price\n",
    "\n",
    "stocks = [a, b, c]\n",
    "stocks\n",
    "\n",
    "for s in stocks:\n",
    "    print(f'{s.name:>10s} {s.shares:>10d} {s.price:>10.2f}')\n"
   ]
  },
  {
   "cell_type": "code",
   "execution_count": null,
   "metadata": {},
   "outputs": [],
   "source": [
    "# 여기서 강조하고 싶은 것은 Stock 클래스가 객체의 인스턴스를 생성하는 팩토리처럼 작동한다는 점이다. \n",
    "# 기본적으로, 그것을 함수로서 호출해 새로운 객체를 생성할 수 있다. \n",
    "# 또한, 각 객체는 고유하다는 점이 중요하다. 객체가 갖는 데이터는 다른 객체가 생성될 때 갖게 되는 데이터와 별개다.\n",
    "\n",
    "# 클래스에 의해 정의된 객체는, 구문은 좀 다르지만 딕셔너리와도 비슷하다. \n",
    "# 예를 들어, s['name']과 s['price'] 대신, s.name과 s.price라고 작성한다."
   ]
  },
  {
   "cell_type": "markdown",
   "metadata": {},
   "source": [
    "### 연습 문제 4.2: 메서드를 추가하기"
   ]
  },
  {
   "cell_type": "code",
   "execution_count": null,
   "metadata": {},
   "outputs": [],
   "source": [
    "# 클래스에서는 객체에 함수를 붙일 수 있는데, 이를 메서드라 한다. 메서드는 객체 내에 저장된 데이터를 조작하는 함수다. \n",
    "# Stock 객체에 cost()와 sell() 메서드를 추가하자. 다음과 같이 작동한다.\n",
    "\n",
    "# >>> import stock\n",
    "# >>> s = stock.Stock('GOOG', 100, 490.10)\n",
    "# >>> s.cost()\n",
    "# 49010.0\n",
    "# >>> s.shares\n",
    "# 100\n",
    "# >>> s.sell(25)\n",
    "# >>> s.shares\n",
    "# 75\n",
    "# >>> s.cost()\n",
    "# 36757.5\n",
    "# >>>"
   ]
  },
  {
   "cell_type": "code",
   "execution_count": 1,
   "metadata": {},
   "outputs": [],
   "source": [
    "import sys\n",
    "sys.path.append('../../test_bed')"
   ]
  },
  {
   "cell_type": "code",
   "execution_count": 2,
   "metadata": {},
   "outputs": [
    {
     "name": "stdout",
     "output_type": "stream",
     "text": [
      "Overwriting ../../test_bed/stock.py\n"
     ]
    }
   ],
   "source": [
    "%%writefile ../../test_bed/stock.py\n",
    "class Stock:\n",
    "    def __init__(self, name, shares, price):\n",
    "        self.name = name\n",
    "        self.shares = shares\n",
    "        self.price = price\n",
    "    \n",
    "        \n",
    "    def cost(self):\n",
    "        return self.shares * self.price  \n",
    "    \n",
    "    \n",
    "    def sell(self, shares):\n",
    "        self.shares -= shares\n",
    "        return self.shares  "
   ]
  },
  {
   "cell_type": "code",
   "execution_count": 6,
   "metadata": {},
   "outputs": [
    {
     "data": {
      "text/plain": [
       "36757.5"
      ]
     },
     "execution_count": 6,
     "metadata": {},
     "output_type": "execute_result"
    }
   ],
   "source": [
    "import stock\n",
    "\n",
    "s = stock.Stock('GOOG', 100, 490.10)\n",
    "s.name, s.shares, s.price\n",
    "s.cost()\n",
    "s.shares\n",
    "s.sell(25)\n",
    "s.cost()"
   ]
  },
  {
   "cell_type": "markdown",
   "metadata": {},
   "source": [
    "### 연습 문제 4.3: 인스턴스의 리스트를 생성하기"
   ]
  },
  {
   "cell_type": "code",
   "execution_count": null,
   "metadata": {},
   "outputs": [],
   "source": [
    "# 딕셔너리의 리스트로부터 Stock 인스턴스의 리스트를 만들어 보자. 그런 다음 총 비용을 계산한다.\n",
    "\n",
    "# >>> import fileparse\n",
    "# >>> with open('Data/portfolio.csv') as lines:\n",
    "# ...     portdicts = fileparse.parse_csv(lines, select=['name','shares','price'], types=[str,int,float])\n",
    "# ...\n",
    "# >>> portfolio = [ stock.Stock(d['name'], d['shares'], d['price']) for d in portdicts]\n",
    "# >>> portfolio\n",
    "# [<stock.Stock object at 0x10c9e2128>, <stock.Stock object at 0x10c9e2048>, <stock.Stock object at 0x10c9e2080>,\n",
    "#  <stock.Stock object at 0x10c9e25f8>, <stock.Stock object at 0x10c9e2630>, <stock.Stock object at 0x10ca6f748>,\n",
    "#  <stock.Stock object at 0x10ca6f7b8>]\n",
    "# >>> sum([s.cost() for s in portfolio])\n",
    "# 44671.15\n",
    "# >>>"
   ]
  },
  {
   "cell_type": "code",
   "execution_count": 5,
   "metadata": {},
   "outputs": [
    {
     "data": {
      "text/plain": [
       "44671.15"
      ]
     },
     "execution_count": 5,
     "metadata": {},
     "output_type": "execute_result"
    }
   ],
   "source": [
    "import fileparse\n",
    "import stock\n",
    "\n",
    "with open('../../data/portfolio.csv') as lines:\n",
    "    portdicts = fileparse.parse_csv(lines, select=['name', 'shares', 'price'], types=[str, int, float])\n",
    "\n",
    "portfolio = [ stock.Stock(d['name'], d['shares'], d['price']) for d in portdicts ] \n",
    "portfolio\n",
    "\n",
    "sum([ s.cost() for s in portfolio ])"
   ]
  },
  {
   "cell_type": "markdown",
   "metadata": {},
   "source": [
    "### 연습 문제 4.4: 클래스를 사용하기"
   ]
  },
  {
   "cell_type": "code",
   "execution_count": null,
   "metadata": {},
   "outputs": [],
   "source": [
    "\n",
    "# 포트폴리오를 읽어 연습 문제 4.3에 보인 것과 같은 Stock 인스턴스의 리스트를 만들도록report.py 프로그램의 read_portfolio() 함수를 수정하라. \n",
    "# 완료하면, 딕셔너리 대신 Stock 인스턴스를 사용하게 report.py와 pcost.py의 코드를 모두 수정한다.\n",
    "\n",
    "# 힌트: 코드를 너무 많이 수정하면 안 된다. 딕셔너리 액세스 s['shares']를 s.shares로 바꾸는 것과 같이 소소한 변경을 한다.\n",
    "\n",
    "# 이전과 같은 방법으로 함수를 실행할 수 있어야 한다.\n",
    "\n",
    "# >>> import pcost\n",
    "# >>> pcost.portfolio_cost('Data/portfolio.csv')\n",
    "# 44671.15\n",
    "# >>> import report\n",
    "# >>> report.portfolio_report('Data/portfolio.csv', 'Data/prices.csv')\n",
    "#       Name     Shares      Price     Change\n",
    "# ---------- ---------- ---------- ----------\n",
    "#         AA        100       9.22     -22.98\n",
    "#        IBM         50     106.28      15.18\n",
    "#        CAT        150      35.46     -47.98\n",
    "#       MSFT        200      20.89     -30.34\n",
    "#         GE         95      13.48     -26.89\n",
    "#       MSFT         50      20.89     -44.21\n",
    "#        IBM        100     106.28      35.84\n",
    "# >>>"
   ]
  },
  {
   "cell_type": "code",
   "execution_count": null,
   "metadata": {},
   "outputs": [],
   "source": [
    "%%writefile ../../test_bed/report.py\n",
    "# report.py\n",
    "'''\n",
    "Reporting Program Tools\n",
    "'''\n",
    "import fileparse\n",
    "from babel.numbers import format_currency\n",
    "\n",
    "\n",
    "def read_portfolio(filename):\n",
    "    '''\n",
    "    Read a stock portfolio file into a list of dictionaries with keys\n",
    "    name, shares, and price.\n",
    "    '''\n",
    "    with open(filename) as lines:\n",
    "        return fileparse.parse_csv(lines, select=['name','shares','price'], types=[str, int, float])    \n",
    "\n",
    "\n",
    "def read_prices(filename):\n",
    "    '''\n",
    "    Read a CSV file of price data into a dict mapping names to prices\n",
    "    '''\n",
    "    with open(filename) as lines:\n",
    "        return dict(fileparse.parse_csv(lines, types=[str, float], has_headers=False))\n",
    "\n",
    "\n",
    "def make_report_data(portfolio, prices):\n",
    "    '''\n",
    "    make a list of (name, shares, price, change) touples given a portfolio list and prices dictionary.\n",
    "    '''\n",
    "    rows = []\n",
    "    for stock in portfolio:\n",
    "        current_price = prices[stock['name']]\n",
    "        change = current_price - stock['price']\n",
    "        summary = (stock['name'], stock['shares'], current_price, change)\n",
    "        rows.append(summary)\n",
    "    return rows    \n",
    "\n",
    "\n",
    "def print_report(reportdata):\n",
    "    '''\n",
    "    Print a nicely formated table from a list of (name, shares, price, chang) tuple\n",
    "    '''\n",
    "    headers = ('Name', 'Shares', 'Price', 'Change')\n",
    "    print('%10s %10s %10s %10s' %headers)\n",
    "    print(('-'*10+' ')* len(headers))\n",
    "    for row in reportdata:\n",
    "        print('%10s %10d %10.2f %10.2f' % row)\n",
    "\n",
    "\n",
    "def portfolio_report(portfoliofile, pricefile):\n",
    "    '''\n",
    "    Make a stock report given portfolio and price data files\n",
    "    '''\n",
    "    # Read data files\n",
    "    portfolio = read_portfolio(portfoliofile)\n",
    "    prices = read_prices(pricefile)\n",
    "    \n",
    "    # Create the report data\n",
    "    report = make_report_data(portfolio, prices)\n",
    "    \n",
    "    # Print it out\n",
    "    print_report(report)\n",
    "\n",
    "\n",
    "def main(args):\n",
    "    if len(args) != 3:\n",
    "        raise SystemExit('Usage: %s portfile pricefile' % args[0])\n",
    "    \n",
    "    portfolio_report(args[1], args[2])\n",
    "\n",
    "\n",
    "if __name__ == '__main__':\n",
    "    import sys\n",
    "    main(sys.argv)"
   ]
  }
 ],
 "metadata": {
  "kernelspec": {
   "display_name": "Python 3.9.12 ('base')",
   "language": "python",
   "name": "python3"
  },
  "language_info": {
   "codemirror_mode": {
    "name": "ipython",
    "version": 3
   },
   "file_extension": ".py",
   "mimetype": "text/x-python",
   "name": "python",
   "nbconvert_exporter": "python",
   "pygments_lexer": "ipython3",
   "version": "3.9.12"
  },
  "orig_nbformat": 4,
  "vscode": {
   "interpreter": {
    "hash": "f08154012ddadd8e950e6e9e035c7a7b32c136e7647e9b7c77e02eb723a8bedb"
   }
  }
 },
 "nbformat": 4,
 "nbformat_minor": 2
}
