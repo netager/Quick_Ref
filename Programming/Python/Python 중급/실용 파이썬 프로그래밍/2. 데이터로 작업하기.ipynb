{
 "cells": [
  {
   "cell_type": "markdown",
   "metadata": {},
   "source": [
    "# 2.1 자료형과 자료 구조"
   ]
  },
  {
   "attachments": {},
   "cell_type": "markdown",
   "metadata": {},
   "source": [
    "## 기본 자료형"
   ]
  },
  {
   "cell_type": "code",
   "execution_count": null,
   "metadata": {},
   "outputs": [],
   "source": [
    "# 파이썬에는 몇 가지 기본 자료형이 있다.\n",
    "# -----------------------------------\n",
    "# 정수\n",
    "# 부동소수점수\n",
    "# 문자열(텍스트)"
   ]
  },
  {
   "attachments": {},
   "cell_type": "markdown",
   "metadata": {},
   "source": [
    "## None 타입"
   ]
  },
  {
   "cell_type": "code",
   "execution_count": 2,
   "metadata": {},
   "outputs": [
    {
     "name": "stdout",
     "output_type": "stream",
     "text": [
      "False\n"
     ]
    }
   ],
   "source": [
    "email_address = None\n",
    "\n",
    "# None은 주로 선택적인 값이나 누락값(missing value)을 표시하는 데 사용된다. 조건문에서는 False로 평가한다.\n",
    "\n",
    "if email_address:\n",
    "    send_email(email_address, msg)\n",
    "else:\n",
    "    print('False')    "
   ]
  },
  {
   "attachments": {},
   "cell_type": "markdown",
   "metadata": {},
   "source": [
    "## 자료형"
   ]
  },
  {
   "cell_type": "code",
   "execution_count": null,
   "metadata": {},
   "outputs": [],
   "source": [
    "# 실제 프로그램에서는 더 복잡한 자료형을 사용한다. 주식 보유에 대한 정보의 예를 살펴 보자.\n",
    "\n",
    "# 구글(GOOG) 주식을 490.10 달러에 100주 보유\n",
    "# 이 \"객체\"는 세 부분으로 구성된다.\n",
    "\n",
    "# 종목명 또는 심벌(문자열 \"GOOG\")\n",
    "# 주식 수(정수 100)\n",
    "# 가격(부동소수점수 490.10)"
   ]
  },
  {
   "attachments": {},
   "cell_type": "markdown",
   "metadata": {},
   "source": [
    "## 튜플(Tuple)"
   ]
  },
  {
   "cell_type": "code",
   "execution_count": null,
   "metadata": {},
   "outputs": [],
   "source": [
    "# 튜플은 함께 묶인 값의 컬렉션이다.\n",
    "\n",
    "s = ('GOOG', 100, 490.1)\n",
    "\n",
    "# 다음과 같이 ()를 생략하기도 한다.\n",
    "\n",
    "s = 'GOOG', 100, 490.1\n",
    "\n",
    "# 특수한 사례(0-튜플, 1-튜플).\n",
    "\n",
    "t = ()            # 빈 튜플\n",
    "w = ('GOOG', )    # 항목이 한 개 있는 튜플\n",
    "\n",
    "# 튜플은 주로 단순한 레코드 또는 자료 구조를 표현하는 데 사용한다. \n",
    "# 일반적으로 여러 부분으로 된 단일 객체다. 좋은 비유: 튜플은 데이터베이스 테이블의 단일 행과 비슷하다.\n",
    "\n",
    "# 튜플의 항목은 순서가 있다(배열과 비슷함).\n",
    "\n",
    "s = ('GOOG', 100, 490.1)\n",
    "name = s[0]                 # 'GOOG'\n",
    "shares = s[1]               # 100\n",
    "price = s[2]                # 490.1\n",
    "\n",
    "# 그러나, 내용을 수정할 수 없다.\n",
    "\n",
    "s[1] = 75\n",
    "\n",
    "# TypeError: object does not support item assignment\n",
    "\n",
    "# 현재 튜플을 가지고 새로운 튜플을 만들 수는 있다.\n",
    "\n",
    "s = (s[0], 75, s[2])"
   ]
  },
  {
   "attachments": {},
   "cell_type": "markdown",
   "metadata": {},
   "source": [
    "## 튜플로 묶기(packing)"
   ]
  },
  {
   "cell_type": "code",
   "execution_count": null,
   "metadata": {},
   "outputs": [],
   "source": [
    "# 튜플은 서로 관련된 항목들을 단일 엔티티(entity)로 묶는 역할을 한다.\n",
    "\n",
    "s = ('GOOG', 100, 490.1)\n",
    "\n",
    "# 튜플을 단일 객체로서 프로그램의 다른 부분으로 쉽게 전달할 수 있다."
   ]
  },
  {
   "attachments": {},
   "cell_type": "markdown",
   "metadata": {},
   "source": [
    "## 튜플을 풀기(unpacking)"
   ]
  },
  {
   "cell_type": "code",
   "execution_count": 3,
   "metadata": {},
   "outputs": [
    {
     "name": "stdout",
     "output_type": "stream",
     "text": [
      "Cost 49010.0\n"
     ]
    }
   ],
   "source": [
    "# 튜플을 전달받은 후에는 풀어서 각각의 변수를 사용할 수 있다.\n",
    "\n",
    "s = ('GOOG', 100, 490.1)\n",
    "name, shares, price = s\n",
    "\n",
    "print('Cost', shares * price)\n",
    "\n",
    "\n",
    "# 왼쪽의 변수 개수가 튜플 구조와 일치해야 한다.\n",
    "name, shares = s     # 오류"
   ]
  },
  {
   "attachments": {},
   "cell_type": "markdown",
   "metadata": {},
   "source": [
    "## 튜플 vs. 리스트"
   ]
  },
  {
   "cell_type": "code",
   "execution_count": null,
   "metadata": {},
   "outputs": [],
   "source": [
    "# 튜플은 읽기 전용 리스트처럼 보인다. \n",
    "# 그러나, 튜플의 주된 용도는 여러 부분으로 구성된 단일 항목으로서 사용하는 것이다. \n",
    "# 리스트는 고유한 항목들의 컬렉션으로 사용되며, 이때 모든 항목이 같은 타입인 경우가 많다.\n",
    "\n",
    "record = ('GOOG', 100, 490.1)       # 포트폴리오의 한 레코드를 나타내는 튜플\n",
    "\n",
    "symbols = [ 'GOOG', 'AAPL', 'IBM' ]  # 세 가지 주식 심벌을 나타내는 리스트"
   ]
  },
  {
   "attachments": {},
   "cell_type": "markdown",
   "metadata": {},
   "source": [
    "## 딕셔너리(Dictionary)"
   ]
  },
  {
   "cell_type": "code",
   "execution_count": 8,
   "metadata": {},
   "outputs": [
    {
     "name": "stdout",
     "output_type": "stream",
     "text": [
      "GOOG 100\n",
      "490.1\n",
      "{'name': 'GOOG', 'shares': 75}\n"
     ]
    }
   ],
   "source": [
    "# 딕셔너리는 키(key)를 값(value)에 대응(mapping)시킨다. \n",
    "# 해시 테이블(hash table) 또는 연관 배열(associative array)이라고도 부른다. \n",
    "# 키는 값에 접근하는 인덱스 역할을 한다.\n",
    "\n",
    "s = {\n",
    "    'name': 'GOOG',\n",
    "    'shares': 100,\n",
    "    'price': 490.1\n",
    "}\n",
    "\n",
    "# 공통적인 연산\n",
    "# 딕셔너리에서 값을 얻으려면 키 이름을 사용한다.\n",
    "\n",
    "print(s['name'], s['shares'])\n",
    "print(s['price'])\n",
    "\n",
    "# 값을 추가하거나 수정할 때 키 이름을 사용한다.\n",
    "\n",
    "s['shares'] = 75\n",
    "s['price'] = 500.0\n",
    "\n",
    "# 값을 삭제하려면 del 문을 사용한다.\n",
    "\n",
    "del s['price']\n",
    "print(s)\n",
    "\n",
    "# 딕셔너리를 사용하는 이유\n",
    "# 딕셔너리는 서로 다른 값이 많이 있고 그 값들을 수정 또는 조작해야 할 때 유용하다. 딕셔너리를 사용하면 코드의 가독성이 높아진다.\n",
    "\n",
    "# s['name'] Vs. s[0]"
   ]
  },
  {
   "attachments": {},
   "cell_type": "markdown",
   "metadata": {},
   "source": [
    "## 연습 문제"
   ]
  },
  {
   "cell_type": "code",
   "execution_count": 9,
   "metadata": {},
   "outputs": [
    {
     "ename": "TypeError",
     "evalue": "can't multiply sequence by non-int of type 'str'",
     "output_type": "error",
     "traceback": [
      "\u001b[1;31m---------------------------------------------------------------------------\u001b[0m",
      "\u001b[1;31mTypeError\u001b[0m                                 Traceback (most recent call last)",
      "\u001b[1;32m~\\AppData\\Local\\Temp/ipykernel_36236/3531658203.py\u001b[0m in \u001b[0;36m<module>\u001b[1;34m\u001b[0m\n\u001b[0;32m     15\u001b[0m \u001b[1;33m\u001b[0m\u001b[0m\n\u001b[0;32m     16\u001b[0m \u001b[0mrow\u001b[0m \u001b[1;33m=\u001b[0m \u001b[1;33m[\u001b[0m\u001b[1;34m'AA'\u001b[0m\u001b[1;33m,\u001b[0m \u001b[1;34m'100'\u001b[0m\u001b[1;33m,\u001b[0m \u001b[1;34m'32.20'\u001b[0m\u001b[1;33m]\u001b[0m\u001b[1;33m\u001b[0m\u001b[1;33m\u001b[0m\u001b[0m\n\u001b[1;32m---> 17\u001b[1;33m \u001b[0mcost\u001b[0m \u001b[1;33m=\u001b[0m \u001b[0mrow\u001b[0m\u001b[1;33m[\u001b[0m\u001b[1;36m1\u001b[0m\u001b[1;33m]\u001b[0m \u001b[1;33m*\u001b[0m \u001b[0mrow\u001b[0m\u001b[1;33m[\u001b[0m\u001b[1;36m2\u001b[0m\u001b[1;33m]\u001b[0m\u001b[1;33m\u001b[0m\u001b[1;33m\u001b[0m\u001b[0m\n\u001b[0m\u001b[0;32m     18\u001b[0m \u001b[1;33m\u001b[0m\u001b[0m\n\u001b[0;32m     19\u001b[0m \u001b[1;31m# Traceback (most recent call last):\u001b[0m\u001b[1;33m\u001b[0m\u001b[1;33m\u001b[0m\u001b[0m\n",
      "\u001b[1;31mTypeError\u001b[0m: can't multiply sequence by non-int of type 'str'"
     ]
    }
   ],
   "source": [
    "# 지난 몇 개의 연습 문제에서, 데이터파일 Data/portfolio.csv를 읽는 프로그램을 작성했다. \n",
    "# csv 모듈을 사용하면 파일을 행 단위로 쉽게 읽을 수 있다.\n",
    "\n",
    "import csv\n",
    "f = open('../../data/portfolio.csv')\n",
    "rows = csv.reader(f)\n",
    "next(rows)\n",
    "\n",
    "row = next(rows)\n",
    "row\n",
    "\n",
    "# 파일을 읽는 것은 쉽지만, 데이터를 읽은 다음에는 그것을 가지고 더 많은 일을 하고 싶을 때가 있다. \n",
    "# 예를 들어, 읽은 데이터를 저장하고 계산을 수행하고 싶을 것이다. \n",
    "# 하지만, 원시 \"행(row)\" 데이터만으로는 작업하기에 충분하지 않다. 예를 들어, 간단한 수학 계산도 할 수 없다.\n",
    "\n",
    "row = ['AA', '100', '32.20']\n",
    "cost = row[1] * row[2]\n",
    "\n",
    "# Traceback (most recent call last):\n",
    "#     File \"<stdin>\", line 1, in <module>\n",
    "# TypeError: can't multiply sequence by non-int of type 'str'\n",
    "\n",
    "# 원시 데이터를 좀 더 유용한 객체로 바꿔야 나중에 작업에 사용할 수 있다. 튜플이나 딕셔너리를 사용하면 된다."
   ]
  },
  {
   "attachments": {},
   "cell_type": "markdown",
   "metadata": {},
   "source": [
    "### 2.1: 튜플"
   ]
  },
  {
   "cell_type": "code",
   "execution_count": 12,
   "metadata": {},
   "outputs": [
    {
     "name": "stdout",
     "output_type": "stream",
     "text": [
      "3220.00\n"
     ]
    },
    {
     "data": {
      "text/plain": [
       "('AA', 150, 32.2)"
      ]
     },
     "execution_count": 12,
     "metadata": {},
     "output_type": "execute_result"
    }
   ],
   "source": [
    "# 상호작용적인 프롬프트에서, 다음과 같이 위의 행을 나타내는 튜플을 생성하되, 숫자 컬럼은 적절한 숫자로 변환한다.\n",
    "\n",
    "t = (row[0], int(row[1]), float(row[2]))\n",
    "t\n",
    "\n",
    "# 이것을 사용해, 주식수와 가격을 곱한 총비용을 계산할 수 있다.\n",
    "\n",
    "cost = t[1] * t[2]\n",
    "cost\n",
    "\n",
    "# 파이썬에서 수학 계산이 틀린가? 답이 왜 3220.0000000000005라고 나올까?\n",
    "\n",
    "# 이것은 컴퓨터의 부동소수점 하드웨어로 계산한 결과다. \n",
    "# 십진수(decimal)를 십진법(Base-10)이 아니라 이진법(Base-2)으로 표현하기 때문에 이런 결과가 나왔다. \n",
    "# 간단한 계산이라 할지라도, 십진수와 관련된 계산에는 작은 오류가 발생한다. \n",
    "# 처음 본다면 놀라울 수 있겠지만, 이것은 정상적인 작동이다.\n",
    "\n",
    "# 부동소수점 십진수를 사용하는 모든 프로그래밍 언어에서 발생하는 일이지만, 프린팅 과정에서 종종 숨겨진다. 예:\n",
    "\n",
    "print(f'{cost:0.2f}')\n",
    "3220.00\n",
    "\n",
    "# 튜플은 읽기 전용이다. 확인해 보고 싶으면 주식 수를 75로 바꿔보라.\n",
    "\n",
    "# t[1] = 75\n",
    "# Traceback (most recent call last):\n",
    "#     File \"<stdin>\", line 1, in <module>\n",
    "# TypeError: 'tuple' object does not support item assignment\n",
    "\n",
    "# 튜플의 내용을 바꿀 수는 없지만, 항상 완전히 새로운 튜플을 생성해 기존 것을 대신할 수 있다.\n",
    "\n",
    "t = (t[0], 75, t[2])\n",
    "t\n",
    "\n",
    "# 기존 변수명을 재할당할 때마다 기존 값은 버려진다. \n",
    "# 위의 할당문이 튜플을 수정하는 것처럼 보일 수 있지만, 실제로는 새로운 튜플을 생성하고 기존 것을 버렸다.\n",
    "\n",
    "# 튜플은 패킹을 하고 변수로 언패킹하는 데 종종 사용된다. 다음과 같이 해 보자.\n",
    "\n",
    "name, shares, price = t\n",
    "name\n",
    "shares\n",
    "price\n",
    "\n",
    "# 위 변수들을 튜플로 패킹하자.\n",
    "\n",
    "t = (name, 2*shares, price)\n",
    "t"
   ]
  },
  {
   "attachments": {},
   "cell_type": "markdown",
   "metadata": {},
   "source": [
    "###  2.2: 자료 구조로서의 딕셔너리"
   ]
  },
  {
   "cell_type": "code",
   "execution_count": 23,
   "metadata": {},
   "outputs": [
    {
     "name": "stdout",
     "output_type": "stream",
     "text": [
      "{'name': 'AA', 'shares': 100, 'price': 32.2}\n",
      "3220.0000000000005\n",
      "{'name': 'AA', 'shares': 75, 'price': 32.2}\n",
      "{'name': 'AA', 'shares': 75, 'price': 32.2, 'date': (6, 11, 2007), 'account': 12345}\n"
     ]
    }
   ],
   "source": [
    "\n",
    "# 튜플 대신 딕셔너리를 생성할 수 있다.\n",
    "\n",
    "d = {\n",
    "    'name' : row[0],\n",
    "    'shares' : int(row[1]),\n",
    "    'price'  : float(row[2])\n",
    "   }\n",
    "\n",
    "print(d)\n",
    "\n",
    "# 총비용을 계산하자.\n",
    "\n",
    "cost = d['shares'] * d['price']\n",
    "print(cost)\n",
    "\n",
    "# 위의 튜플에 대해서 했던 것과 같은 계산을 했다. 주식 수를 75로 변경한다.\n",
    "\n",
    "d['shares'] = 75\n",
    "print(d)\n",
    "\n",
    "# 튜플과 달리, 딕셔너리는 자유롭게 수정할 수 있다. 어트리뷰트를 추가하자.\n",
    "\n",
    "d['date'] = (6, 11, 2007)\n",
    "d['account'] = 12345\n",
    "print(d)"
   ]
  },
  {
   "attachments": {},
   "cell_type": "markdown",
   "metadata": {},
   "source": [
    "### 2.3: 추가적인 딕셔너리 연산"
   ]
  },
  {
   "cell_type": "code",
   "execution_count": 24,
   "metadata": {},
   "outputs": [
    {
     "name": "stdout",
     "output_type": "stream",
     "text": [
      "['name', 'shares', 'price', 'date', 'account']\n",
      "k = name\n",
      "k = shares\n",
      "k = price\n",
      "k = date\n",
      "k = account\n",
      "name = AA\n",
      "shares = 75\n",
      "price = 32.2\n",
      "date = (6, 11, 2007)\n",
      "account = 12345\n",
      "dict_keys(['name', 'shares', 'price', 'date', 'account'])\n",
      "dict_keys(['name', 'shares', 'price', 'date'])\n",
      "dict_items([('name', 'AA'), ('shares', 75), ('price', 32.2), ('date', (6, 11, 2007))])\n",
      "name = AA\n",
      "shares = 75\n",
      "price = 32.2\n",
      "date = (6, 11, 2007)\n",
      "dict_items([('name', 'AA'), ('shares', 75), ('price', 32.2), ('date', (6, 11, 2007))])\n",
      "{'name': 'AA', 'shares': 75, 'price': 32.2, 'date': (6, 11, 2007)}\n"
     ]
    }
   ],
   "source": [
    "# 딕셔너리를 리스트로 변환하면 전체 키를 얻는다.\n",
    "\n",
    "print(list(d))\n",
    "\n",
    "# 마찬가지로, 딕셔너리에 대해 for 문을 사용해 이터레이션을 해도 키를 얻는다,\n",
    "\n",
    "for k in d:\n",
    "    print('k =', k)\n",
    "\n",
    "\n",
    "# 다음 코드는 키와 값을 동시에 조회한다.\n",
    "\n",
    "for k in d:\n",
    "    print(k, '=', d[k])\n",
    "\n",
    "# keys() 메서드를 사용해도 전체 키를 얻을 수 있다.\n",
    "\n",
    "keys = d.keys()\n",
    "print(keys)\n",
    "\n",
    "# keys()는 특수한 dict_keys 객체를 반환한다는 점에서 독특하다.\n",
    "\n",
    "# 이것은 원래 딕셔너리에 대한 오버레이로, 딕셔너리가 변경되더라도 항상 현재 키를 얻게 해준다. 다음과 같이 해 보자.\n",
    "\n",
    "del d['account']\n",
    "print(keys)\n",
    "\n",
    "# d.keys()를 다시 호출하지 않았음에도 'account'가 keys에서 사라진 것에 유의하라.\n",
    "\n",
    "# 키와 값을 함께 다루는 더욱 우아한 방법은 items() 메서드를 사용하는 것이다. 이 메서드를 사용해 (키, 값) 튜플을 얻을 수 있다.\n",
    "\n",
    "items = d.items()\n",
    "print(items)\n",
    "for k, v in d.items():\n",
    "    print(k, '=', v)\n",
    "\n",
    "# items 같은 튜플이 있으면 dict() 함수를 사용해 딕셔너리를 생성할 수 있다. 한번 해 보자.\n",
    "\n",
    "print(items)\n",
    "\n",
    "d = dict(items)\n",
    "print(d)"
   ]
  },
  {
   "cell_type": "markdown",
   "metadata": {},
   "source": [
    "# 2.2 컨테이너"
   ]
  },
  {
   "cell_type": "markdown",
   "metadata": {},
   "source": [
    "## 개요"
   ]
  },
  {
   "cell_type": "code",
   "execution_count": null,
   "metadata": {},
   "outputs": [],
   "source": [
    "# 프로그램에서 많은 수의 객체를 다뤄야할 때가 있다.\n",
    "\n",
    "# - 주식 포트폴리오\n",
    "# - 주식 가격 테이블\n",
    "# - 세 가지 선택사항이 있다.\n",
    "\n",
    "# 리스트(list): 순서가 유지되는(ordered) 데이터.\n",
    "# 딕셔너리(dict): 순서가 없는(unordered) 데이터.\n",
    "# 세트(set): 고유한 항목의 집합이며 순서가 없음."
   ]
  },
  {
   "cell_type": "code",
   "execution_count": 2,
   "metadata": {},
   "outputs": [
    {
     "data": {
      "text/plain": [
       "('IBM', 50, 91.3)"
      ]
     },
     "execution_count": 2,
     "metadata": {},
     "output_type": "execute_result"
    }
   ],
   "source": [
    "# 컨테이너로서의 리스트\n",
    "# ---------------------\n",
    "# 데이터의 순서가 중요할 때는 리스트를 사용하라. 리스트는 어떤 유형의 객체든 담을 수 있음을 명심하라. 예: 튜플의 리스트.\n",
    "\n",
    "portfolio = [\n",
    "    ('GOOG', 100, 490.1),\n",
    "    ('IBM', 50, 91.3),\n",
    "    ('CAT', 150, 83.44)\n",
    "]\n",
    "\n",
    "portfolio[0]\n",
    "portfolio[1]"
   ]
  },
  {
   "cell_type": "markdown",
   "metadata": {},
   "source": [
    "## 리스트 생성(construction)"
   ]
  },
  {
   "cell_type": "code",
   "execution_count": 29,
   "metadata": {},
   "outputs": [
    {
     "name": "stdout",
     "output_type": "stream",
     "text": [
      "['AA', '100', '32.20']\n",
      "['IBM', '50', '91.10']\n",
      "['CAT', '150', '83.44']\n",
      "['MSFT', '200', '51.23']\n",
      "['GE', '95', '40.37']\n",
      "['MSFT', '50', '65.10']\n",
      "['IBM', '100', '70.44']\n"
     ]
    },
    {
     "data": {
      "text/plain": [
       "[('AA', 100, 32.2),\n",
       " ('IBM', 50, 91.1),\n",
       " ('CAT', 150, 83.44),\n",
       " ('MSFT', 200, 51.23),\n",
       " ('GE', 95, 40.37),\n",
       " ('MSFT', 50, 65.1),\n",
       " ('IBM', 100, 70.44)]"
      ]
     },
     "execution_count": 29,
     "metadata": {},
     "output_type": "execute_result"
    }
   ],
   "source": [
    "records = []  # 빈 리스트로 초기화\n",
    "\n",
    "# .append()를 사용해 항목을 추가\n",
    "records.append(('GOOG', 100, 490.10))\n",
    "records.append(('IBM', 50, 91.3))\n",
    "\n",
    "records\n",
    "\n",
    "# 다음은 파일에서 레코드를 읽어 리스트에 채우는 예이다.\n",
    "records = []\n",
    "\n",
    "with open('../../data/portfolio.csv', 'r') as f:\n",
    "    next(f)\n",
    "    for line in f:\n",
    "        row = line.strip().replace('\"', '').split(',')\n",
    "        print(row)\n",
    "        records.append((row[0], int(row[1]), float(row[2])))\n",
    "records\n",
    "        "
   ]
  },
  {
   "cell_type": "markdown",
   "metadata": {},
   "source": [
    "## 컨테이너로서의 딕셔너리"
   ]
  },
  {
   "cell_type": "code",
   "execution_count": 31,
   "metadata": {},
   "outputs": [
    {
     "data": {
      "text/plain": [
       "(93.37, 513.25)"
      ]
     },
     "execution_count": 31,
     "metadata": {},
     "output_type": "execute_result"
    }
   ],
   "source": [
    "# 딕셔너리는 빠른 임의 조회(키 이름을 사용)에 유용하다. 예: 주식 가격의 딕셔너리.\n",
    "prices = {\n",
    "    'GOOG': 513.25,\n",
    "    'CAT': 87.22,\n",
    "    'IBM': 93.37,\n",
    "    'MSFT': 44.12\n",
    "}\n",
    "prices['IBM'], prices['GOOG']"
   ]
  },
  {
   "cell_type": "markdown",
   "metadata": {},
   "source": [
    "## 딕셔너리 생성"
   ]
  },
  {
   "cell_type": "code",
   "execution_count": 38,
   "metadata": {},
   "outputs": [
    {
     "data": {
      "text/plain": [
       "dict_items([('AXP', 24.85), ('BA', 44.85), ('BAC', 11.27), ('C', 3.72), ('CAT', 35.46), ('CVX', 66.67), ('DD', 28.47), ('DIS', 24.22), ('GE', 13.48), ('GM', 0.75), ('HD', 23.16), ('HPQ', 34.35), ('IBM', 106.28), ('INTC', 15.72), ('JNJ', 55.16), ('JPM', 36.9), ('KFT', 26.11), ('KO', 49.16), ('MCD', 58.99), ('MMM', 57.1), ('MRK', 27.58), ('MSFT', 20.89), ('PFE', 15.19), ('PG', 51.94), ('T', 24.79), ('UTX', 52.61), ('VZ', 29.26), ('WMT', 49.74), ('XOM', 69.35)])"
      ]
     },
     "execution_count": 38,
     "metadata": {},
     "output_type": "execute_result"
    }
   ],
   "source": [
    "prices = {}\n",
    "\n",
    "with open('../../data/prices.csv') as f:\n",
    "    next(f)\n",
    "    for line in f:\n",
    "        row = line.strip().replace('\"', '').split(',')\n",
    "        prices[row[0]] = float(row[1])\n",
    "        \n",
    "prices['CVX']\n",
    "prices.keys()\n",
    "prices.values()\n",
    "prices.items()\n"
   ]
  },
  {
   "cell_type": "markdown",
   "metadata": {},
   "source": [
    "## 딕셔너리 조회"
   ]
  },
  {
   "cell_type": "code",
   "execution_count": 47,
   "metadata": {},
   "outputs": [
    {
     "data": {
      "text/plain": [
       "0.0"
      ]
     },
     "execution_count": 47,
     "metadata": {},
     "output_type": "execute_result"
    }
   ],
   "source": [
    "prices.get('IBM', 0.0)\n",
    "prices.get('SCOX', 0.0)    "
   ]
  },
  {
   "cell_type": "markdown",
   "metadata": {},
   "source": [
    "## 복합 키(composite keys)"
   ]
  },
  {
   "cell_type": "code",
   "execution_count": 52,
   "metadata": {},
   "outputs": [
    {
     "data": {
      "text/plain": [
       "\"Programmer's day\""
      ]
     },
     "execution_count": 52,
     "metadata": {},
     "output_type": "execute_result"
    }
   ],
   "source": [
    "# 파이썬에서는 어떤 타입의 값이든 딕셔너리의 키로 사용할 수 있다. 딕셔너리 키는 반드시 변경불가능한 타입이어야 한다\n",
    "holidays = {\n",
    "    (1, 1): 'New Years',\n",
    "    (3, 14): 'Pi day',\n",
    "    (9, 13): \"Programmer's day\"\n",
    "}\n",
    "holidays\n",
    "\n",
    "holidays[3, 14]\n",
    "holidays[9,13]\n",
    "\n",
    "# 리스트, 세트, 다른 딕셔너리는 변경 가능(mutable)하므로 딕셔너리의 키로 사용할 수 없다."
   ]
  },
  {
   "cell_type": "markdown",
   "metadata": {},
   "source": [
    "## 세트(set)"
   ]
  },
  {
   "cell_type": "code",
   "execution_count": 64,
   "metadata": {},
   "outputs": [
    {
     "data": {
      "text/plain": [
       "{'AAPL', 'CAT', 'GOOG', 'IBM'}"
      ]
     },
     "execution_count": 64,
     "metadata": {},
     "output_type": "execute_result"
    }
   ],
   "source": [
    "# 세트는 고유 항목의 모음이며 순서를 유지하지 않는다\n",
    "tech_stocks = {'IBM', 'AAPL', 'MSFT'}\n",
    "tech_stocks = set(['IBM', 'AAPL', 'MSFT'])\n",
    "type(tech_stocks)\n",
    "tech_stocks\n",
    "\n",
    "\n",
    "# 세트는 멤버십 테스트에 유용함.\n",
    "'IBM' in tech_stocks\n",
    "'FB' in tech_stocks\n",
    "\n",
    "\n",
    "# 세트는 중복 제거에도 유용하다.\n",
    "names = ['IBM', 'AAPL', 'GOOG', 'IBM', 'GOOG', 'YHOO']\n",
    "unique = set(names)\n",
    "unique\n",
    "\n",
    "unique.add('CAT')\n",
    "unique\n",
    "\n",
    "unique.remove('YHOO')\n",
    "unique"
   ]
  },
  {
   "cell_type": "markdown",
   "metadata": {},
   "source": [
    "## 연습 문제"
   ]
  },
  {
   "cell_type": "markdown",
   "metadata": {},
   "source": [
    "### 연습 문제 2.4: 튜플의 리스트"
   ]
  },
  {
   "cell_type": "code",
   "execution_count": null,
   "metadata": {},
   "outputs": [],
   "source": [
    "# ../../data/portfolio.csv 파일에는 포트폴리오에 편입된 주식 목록이 있다. \n",
    "# 연습 문제 1.30에서, 우리는 이 파일을 읽고 간단한 계산을 수행하는 portfolio_cost(filename) 함수를 작성했다.\n",
    "import csv\n",
    "\n",
    "def portfolio_cost(filename):\n",
    "    '''포트폴리오 파일의 총 비용(주식수*가격)을 계산'''\n",
    "    total_cost = 0.0\n",
    "    with open(filename, 'r') as f:\n",
    "        rows = csv.reader(f)\n",
    "        headers = next(rows)\n",
    "        for row in rows:\n",
    "            nshares = int(row[1])\n",
    "            price = float(row[2])\n",
    "            total_cost += nshares * price\n",
    "    return total_cost\n",
    "\n"
   ]
  },
  {
   "cell_type": "code",
   "execution_count": 76,
   "metadata": {},
   "outputs": [
    {
     "data": {
      "text/plain": [
       "'44,671.15'"
      ]
     },
     "execution_count": 76,
     "metadata": {},
     "output_type": "execute_result"
    }
   ],
   "source": [
    "# 위 코드를 참고해, 새로운 report.py 파일을 생성하라. \n",
    "# 그 파일에서, 주어진 포트폴리오 파일을 열고 내용을 읽어 튜플의 리스트를 생성하는 \n",
    "# read_portfolio(filename) 함수를 정의한다. 이를 위해, 위의 코드를 약간 수정해야 한다.\n",
    "\n",
    "import csv \n",
    "\n",
    "def read_portfolio(filename):\n",
    "    portfolio = []\n",
    "    with open(filename, 'r') as f:\n",
    "        rows = csv.reader(f)\n",
    "        headers = next(rows)\n",
    "        for row in rows:\n",
    "            holding = (row[0], int(row[1]), float(row[2]))\n",
    "            portfolio.append(holding)\n",
    "    return portfolio\n",
    "                                   \n",
    "portfolio = read_portfolio('../../data/portfolio.csv')\n",
    "portfolio[0]\n",
    "portfolio[0][0]\n",
    "\n",
    "total = 0.0\n",
    "for i in portfolio:\n",
    "    total += i[1] * i[2]\n",
    "f'{total:,.2f}'    \n",
    "\n",
    "portfolio\n",
    "total = 0.0\n",
    "for name, nshares, price in portfolio:\n",
    "    total += nshares * price\n",
    "f'{total:,.2f}'\n",
    "\n"
   ]
  },
  {
   "cell_type": "markdown",
   "metadata": {},
   "source": [
    "### 연습 문제 2.5: 딕셔너리의 리스트"
   ]
  },
  {
   "cell_type": "code",
   "execution_count": 89,
   "metadata": {},
   "outputs": [
    {
     "name": "stdout",
     "output_type": "stream",
     "text": [
      "[{'name': 'AA', 'shares': 100, 'price': 32.2}, {'name': 'IBM', 'shares': 50, 'price': 91.1}, {'name': 'CAT', 'shares': 150, 'price': 83.44}, {'name': 'MSFT', 'shares': 200, 'price': 51.23}, {'name': 'GE', 'shares': 95, 'price': 40.37}, {'name': 'MSFT', 'shares': 50, 'price': 65.1}, {'name': 'IBM', 'shares': 100, 'price': 70.44}]\n",
      "------------------------------------------------------------\n",
      "[{'name': 'AA', 'price': 32.2, 'shares': 100},\n",
      " {'name': 'IBM', 'price': 91.1, 'shares': 50},\n",
      " {'name': 'CAT', 'price': 83.44, 'shares': 150},\n",
      " {'name': 'MSFT', 'price': 51.23, 'shares': 200},\n",
      " {'name': 'GE', 'price': 40.37, 'shares': 95},\n",
      " {'name': 'MSFT', 'price': 65.1, 'shares': 50},\n",
      " {'name': 'IBM', 'price': 70.44, 'shares': 100}]\n",
      "------------------------------------------------------------\n"
     ]
    }
   ],
   "source": [
    "# 연습 문제 2.4에서 작성한 함수를 수정해, 포트폴리오에 있는 주식을 \n",
    "# 튜플 대신 딕셔너리로 나타내게 해 보자. \n",
    "# 이 딕셔너리에서 입력 파일의 컬럼들을 나타내기 위해, \n",
    "# 각각 \"name\", \"shares\", \"price\"라는 필드명을 사용한다.\n",
    "\n",
    "# 이 함수를 연습 문제 2.4에서 했던 것과 같은 방식으로 실험해 보라.\n",
    "\n",
    "import csv \n",
    "\n",
    "def read_portfolio(filename):\n",
    "    portfolio = []\n",
    "    with open(filename, 'r') as f:\n",
    "        rows = csv.reader(f)\n",
    "        headers = next(rows)\n",
    "        for row in rows:\n",
    "            holding = {'name':row[0], 'shares':int(row[1]), 'price': float(row[2])}\n",
    "            portfolio.append(holding)\n",
    "    return portfolio\n",
    "                                   \n",
    "portfolio = read_portfolio('../../data/portfolio.csv')\n",
    "portfolio\n",
    "\n",
    "portfolio[0]['name']\n",
    "portfolio[0]['shares']\n",
    "portfolio[0]['price']\n",
    "\n",
    "total = 0.0\n",
    "for i in portfolio:\n",
    "    total += i['shares'] * i['price']\n",
    "f'Total {total:,.2f}'\n",
    "\n",
    "print(portfolio)\n",
    "print('-'*60)\n",
    "\n",
    "\n",
    "from pprint import pprint\n",
    "pprint(portfolio)\n",
    "print('-'*60)"
   ]
  },
  {
   "attachments": {},
   "cell_type": "markdown",
   "metadata": {},
   "source": [
    "### 연습 문제 2.6: 컨테이너로서의 딕셔너리"
   ]
  },
  {
   "cell_type": "code",
   "execution_count": 4,
   "metadata": {},
   "outputs": [
    {
     "data": {
      "text/plain": [
       "True"
      ]
     },
     "execution_count": 4,
     "metadata": {},
     "output_type": "execute_result"
    }
   ],
   "source": [
    "# 딕셔너리는 항목을 정수 이외의 인덱스를 사용해 조회하고자 할 때 유용하다. \n",
    "# 파이썬 셸에서 딕셔너리를 가지고 놀아보자.\n",
    "\n",
    "prices = {}\n",
    "prices['IBM'] = 92.45\n",
    "prices['MSFT'] = 45.12\n",
    "prices['IBM']\n",
    "'AAPL' in prices\n",
    "'IBM' in prices"
   ]
  },
  {
   "cell_type": "code",
   "execution_count": 79,
   "metadata": {},
   "outputs": [
    {
     "data": {
      "text/plain": [
       "20.89"
      ]
     },
     "execution_count": 79,
     "metadata": {},
     "output_type": "execute_result"
    }
   ],
   "source": [
    "import csv\n",
    "\n",
    "def read_prices(filename):\n",
    "    prices = {}\n",
    "    with open(filename, 'r') as f:\n",
    "        rows = csv.reader(f)\n",
    "        for row in rows:\n",
    "            prices[row[0]] = float(row[1])\n",
    "    return prices         \n",
    "\n",
    "filename = '../../data/prices.csv'\n",
    "prices = read_prices(filename)\n",
    "prices['IBM']\n",
    "prices['MSFT']\n"
   ]
  },
  {
   "attachments": {},
   "cell_type": "markdown",
   "metadata": {},
   "source": [
    "### 연습 문제 2.7: 은퇴해도 되는지 알아보기"
   ]
  },
  {
   "cell_type": "code",
   "execution_count": 105,
   "metadata": {},
   "outputs": [
    {
     "name": "stdout",
     "output_type": "stream",
     "text": [
      "주식명: AA     주식수:   100 매입가격: 32.20 현재가격:   9.22 손익:  -2,298.00\n",
      "주식명: IBM    주식수:    50 매입가격: 91.10 현재가격: 106.28 손익:     759.00\n",
      "주식명: CAT    주식수:   150 매입가격: 83.44 현재가격:  35.46 손익:  -7,197.00\n",
      "주식명: MSFT   주식수:   200 매입가격: 51.23 현재가격:  20.89 손익:  -6,068.00\n",
      "주식명: GE     주식수:    95 매입가격: 40.37 현재가격:  13.48 손익:  -2,554.55\n",
      "주식명: MSFT   주식수:    50 매입가격: 65.10 현재가격:  20.89 손익:  -2,210.50\n",
      "주식명: IBM    주식수:   100 매입가격: 70.44 현재가격: 106.28 손익:   3,584.00\n",
      "--------------------------------------------------------------------------------\n",
      "주식 총 손익: -15,985.05\n"
     ]
    }
   ],
   "source": [
    "total_income = 0.0\n",
    "for stock in portfolio:\n",
    "    income = (prices[stock['name']] - stock['price']) * stock['shares']\n",
    "    print(f\"주식명: {stock['name']:<6} 주식수: {stock['shares']:>5} 매입가격: {stock['price']:>.2f} 현재가격: {prices[stock['name']]:>6.2f} 손익: {income:>10,.2f}\")\n",
    "    total_income += income\n",
    "\n",
    "print('-' * 80)\n",
    "print(f'주식 총 손익: {total_income:,.2f}')    \n",
    "    "
   ]
  },
  {
   "attachments": {},
   "cell_type": "markdown",
   "metadata": {},
   "source": [
    "# 2.3 포매팅"
   ]
  },
  {
   "attachments": {},
   "cell_type": "markdown",
   "metadata": {},
   "source": [
    "## 문자열 포매팅"
   ]
  },
  {
   "cell_type": "code",
   "execution_count": 106,
   "metadata": {},
   "outputs": [
    {
     "name": "stdout",
     "output_type": "stream",
     "text": [
      "       IBM        100      91.10\n"
     ]
    }
   ],
   "source": [
    "# 파이썬 3.6 이상에서는 문자열 포매팅에 f 문자열(f-string)을 사용할 수 있다.\n",
    "\n",
    "name = 'IBM'\n",
    "shares = 100\n",
    "price = 91.1\n",
    "f'{name:>10s} {shares:>10d} {price:>10.2f}'\n",
    "\n",
    "# {표현식:포맷} 부분이 대체된다.\n",
    "\n",
    "# 이것을 다음과 같이 print 문과 함께 사용한다.\n",
    "\n",
    "print(f'{name:>10s} {shares:>10d} {price:>10.2f}')"
   ]
  },
  {
   "attachments": {},
   "cell_type": "markdown",
   "metadata": {},
   "source": [
    "## 포맷 코드"
   ]
  },
  {
   "cell_type": "code",
   "execution_count": null,
   "metadata": {},
   "outputs": [],
   "source": [
    "\n",
    "# 포맷 코드({} 내의 : 이후)는 C의 printf()와 비슷하다. 일반적인 코드는 다음과 같다.\n",
    "\n",
    "# d       십진 정수\n",
    "# b       이진 정수\n",
    "# x       16진 정수\n",
    "# f       부동소수점수 [-]m.dddddd\n",
    "# e       부동소수점수 [-]m.dddddde+-xx\n",
    "# g       E 표기를 선택적으로 사용하는 부동소수점\n",
    "# s       문자열\n",
    "# c       문자(정수로부터)\n",
    "# ---------------------------------------------\n",
    "\n",
    "# 필드 폭과 정밀도를 조정하는 공통 수정자. 이것은 부분적인 목록이다.\n",
    "\n",
    "# :>10d   정수를 10자리 필드에 오른쪽 정렬\n",
    "# :<10d   정수를 10자리 필드에 왼쪽 정렬\n",
    "# :^10d   정수를 10자리 필드에 가운데 정렬\n",
    "# :0.2f   부동소수점수를 두 자리 정밀도로 나타냄\n",
    "# -------------------------------------------"
   ]
  },
  {
   "attachments": {},
   "cell_type": "markdown",
   "metadata": {},
   "source": [
    "## 딕셔너리 포매팅"
   ]
  },
  {
   "cell_type": "code",
   "execution_count": 107,
   "metadata": {},
   "outputs": [
    {
     "data": {
      "text/plain": [
       "'       IBM        100      91.10'"
      ]
     },
     "execution_count": 107,
     "metadata": {},
     "output_type": "execute_result"
    }
   ],
   "source": [
    "\n",
    "# format_map() 메서드를 사용해 값들의 딕셔너리에 문자열 포매팅을 적용할 수 있다.\n",
    "# ------------------------------------------------------------------------\n",
    "\n",
    "s = {\n",
    "    'name': 'IBM',\n",
    "    'shares': 100,\n",
    "    'price': 91.1\n",
    "}\n",
    "'{name:>10s} {shares:10d} {price:10.2f}'.format_map(s)\n",
    "\n",
    "# 그것은 f 문자열과 같은 코드를 사용하되, 제공된 딕셔너리로부터 값을 취한다."
   ]
  },
  {
   "attachments": {},
   "cell_type": "markdown",
   "metadata": {},
   "source": [
    "## C 스타일 포매팅"
   ]
  },
  {
   "cell_type": "code",
   "execution_count": 110,
   "metadata": {},
   "outputs": [
    {
     "data": {
      "text/plain": [
       "b'Dave has 37 messages'"
      ]
     },
     "execution_count": 110,
     "metadata": {},
     "output_type": "execute_result"
    }
   ],
   "source": [
    "# 포매팅 연산자 %를 사용할 수도 있다.\n",
    "\n",
    "'The value is %d' % 3\n",
    "\n",
    "'%5d %-5d %10d' % (3,4,5)\n",
    "\n",
    "'%0.2f' % (3.1415926,)\n",
    "\n",
    "# 이때 오른쪽에는 단일 항목 또는 튜플이 있어야 한다. 포맷 코드는 C의 printf()와 유사하다.\n",
    "\n",
    "# 참고: 이것은 바이트 문자열에 대해서만 사용 가능한 포매팅이다.\n",
    "\n",
    "b'%s has %d messages' % (b'Dave', 37)"
   ]
  },
  {
   "attachments": {},
   "cell_type": "markdown",
   "metadata": {},
   "source": [
    "## 연습 문제"
   ]
  },
  {
   "attachments": {},
   "cell_type": "markdown",
   "metadata": {},
   "source": [
    "### 연습 문제 2.8: 숫자를 포맷하는 법"
   ]
  },
  {
   "cell_type": "code",
   "execution_count": 115,
   "metadata": {},
   "outputs": [
    {
     "name": "stdout",
     "output_type": "stream",
     "text": [
      "42863.1\n",
      "42863.1000\n",
      "        42863.10\n",
      "42863.10        \n",
      "*******42,863.10\n"
     ]
    }
   ],
   "source": [
    "# 숫자를 프린팅할 때의 공통적인 문제는 십진수의 자릿수를 지정하는 것이다. \n",
    "# 이것을 해결하는 한 가지 방법은 f 문자열을 사용하는 것이다. 다음 예를 시도해 보자.\n",
    "value = 42863.1\n",
    "\n",
    "print(value)\n",
    "print(f'{value:0.4f}')\n",
    "print(f'{value:>16.2f}')\n",
    "print(f'{value:<16.2f}')\n",
    "print(f'{value:*>16,.2f}')\n",
    "\n"
   ]
  },
  {
   "cell_type": "code",
   "execution_count": 116,
   "metadata": {},
   "outputs": [
    {
     "name": "stdout",
     "output_type": "stream",
     "text": [
      "42863.1000\n",
      "        42863.10\n"
     ]
    },
    {
     "data": {
      "text/plain": [
       "'42863.1000'"
      ]
     },
     "execution_count": 116,
     "metadata": {},
     "output_type": "execute_result"
    }
   ],
   "source": [
    "# f 문자열에서 사용하는 포매팅 코드에 대한 완전한 문서는 여기서 찾을 수 있다. \n",
    "\n",
    "# 문자열의 % 연산자를 사용해 포매팅을 수행할 수도 있다.\n",
    "print('%0.4f' % value)\n",
    "print('%16.2f' % value)\n",
    "\n",
    "\n",
    "# %과 함께 사용되는 여러 가지 코드에 대한 문서를 여기서 찾을 수 있다.\n",
    "\n",
    "# 문자열 포매팅을 print와 함께 사용하는 것이 일반적이기는 하지만, 반드시 그렇게 해야 하는 것은 아니다. \n",
    "# 포매팅한 문자열을 저장할 수도 있다. 다음과 같이 변수에 할당하면 된다.\n",
    "\n",
    "f = '%0.4f' % value\n",
    "f"
   ]
  },
  {
   "attachments": {},
   "cell_type": "markdown",
   "metadata": {},
   "source": [
    "### 연습 문제 2.9: 데이터 수집하기"
   ]
  },
  {
   "cell_type": "code",
   "execution_count": 138,
   "metadata": {},
   "outputs": [
    {
     "name": "stdout",
     "output_type": "stream",
     "text": [
      "('AA', 100, 9.22, -22.980000000000004)\n",
      "('IBM', 50, 106.28, 15.180000000000007)\n",
      "('CAT', 150, 35.46, -47.98)\n",
      "('MSFT', 200, 20.89, -30.339999999999996)\n",
      "('GE', 95, 13.48, -26.889999999999997)\n",
      "('MSFT', 50, 20.89, -44.209999999999994)\n",
      "('IBM', 100, 106.28, 35.84)\n"
     ]
    }
   ],
   "source": [
    "# 연습 문제 2.7에서 주식 포트폴리오의 손익을 계산하는 report.py라는 프로그램을 작성했다. \n",
    "# 이 연습 문제에서는 그 프로그램을 수정해 다음과 같은 테이블을 생성한다.\n",
    "\n",
    "#       Name     Shares      Price     Change\n",
    "# ---------- ---------- ---------- ----------\n",
    "#         AA        100       9.22     -22.98\n",
    "#        IBM         50     106.28      15.18\n",
    "#        CAT        150      35.46     -47.98\n",
    "#       MSFT        200      20.89     -30.34\n",
    "#         GE         95      13.48     -26.89\n",
    "#       MSFT         50      20.89     -44.21\n",
    "#        IBM        100     106.28      35.84\n",
    "\n",
    "# 이 보고서에서 \"Price\"는 주식의 현재 가격이며 \"Change\"는 처음 매수한 가격과의 차이를 나타낸다.\n",
    "# 위와 같은 보고서를 생성하려면, 우선 테이블에 있는 데이터를 모두 수집해야 한다. \n",
    "# 종목 리스트와 가격 딕셔너리를 입력으로 취해서 위의 테이블과 같은 행을 포함하는 튜플의 리스트를 \n",
    "# 반환하는 make_report() 함수를 작성하자.\n",
    "# 이 함수를 report.py 파일에 추가한다. 상호작용하면 다음과 같이 작동해야 한다.\n",
    "# ---------------------------------------------------------------------------------------\n",
    "import csv \n",
    "\n",
    "def read_portfolio(filename):\n",
    "    portfolio = []\n",
    "    with open(filename, 'r') as f:\n",
    "        rows = csv.reader(f)\n",
    "        headers = next(rows)\n",
    "        for row in rows:\n",
    "            holding = {'name':row[0], 'shares':int(row[1]), 'price': float(row[2])}\n",
    "            portfolio.append(holding)\n",
    "    return portfolio\n",
    "\n",
    "\n",
    "def read_prices(filename):\n",
    "    prices = {}\n",
    "    with open(filename, 'r') as f:\n",
    "        rows = csv.reader(f)\n",
    "        for row in rows:\n",
    "            prices[row[0]] = float(row[1])\n",
    "    return prices         \n",
    "\n",
    "\n",
    "def make_report(portfolio, prices):\n",
    "    report = []\n",
    "    \n",
    "    for port in portfolio:\n",
    "        name = port['name']\n",
    "        shares = port['shares']\n",
    "        price = prices[port['name']]\n",
    "        change = prices[port['name']] - port['price']\n",
    "        \n",
    "        report.append((name, shares, price, change))\n",
    "    return report    \n",
    "\n",
    "        \n",
    "portfolio = read_portfolio('../../data/portfolio.csv')\n",
    "prices = read_prices('../../data/prices.csv')\n",
    "\n",
    "report = make_report(portfolio, prices)        \n",
    "for r in report:\n",
    "    print(r)"
   ]
  },
  {
   "attachments": {},
   "cell_type": "markdown",
   "metadata": {},
   "source": [
    "### 연습 문제 2.10: 포매팅된 테이블을 프린팅하기"
   ]
  },
  {
   "cell_type": "code",
   "execution_count": 147,
   "metadata": {},
   "outputs": [
    {
     "name": "stdout",
     "output_type": "stream",
     "text": [
      "        AA        100       9.22     -22.98\n",
      "       IBM         50     106.28      15.18\n",
      "       CAT        150      35.46     -47.98\n",
      "      MSFT        200      20.89     -30.34\n",
      "        GE         95      13.48     -26.89\n",
      "      MSFT         50      20.89     -44.21\n",
      "       IBM        100     106.28      35.84\n",
      "--------------------------------------------------------------------------------\n",
      "        AA        100       9.22     -22.98\n",
      "       IBM         50     106.28      15.18\n",
      "       CAT        150      35.46     -47.98\n",
      "      MSFT        200      20.89     -30.34\n",
      "        GE         95      13.48     -26.89\n",
      "      MSFT         50      20.89     -44.21\n",
      "       IBM        100     106.28      35.84\n"
     ]
    }
   ],
   "source": [
    "# 연습 문제 2.9의 for 루프에서 print 문을 수정해 튜플을 포매팅한다.\n",
    "\n",
    "\n",
    "for r in report:\n",
    "    print('%10s %10d %10.2f %10.2f' % r)\n",
    "print('-'*80)    \n",
    "\n",
    "# 값을 확장해 f 문자열을 사용할 수도 있다. 예:\n",
    "\n",
    "for name, shares, price, change in report:\n",
    "    print(f'{name:>10s} {shares:>10d} {price:>10.2f} {change:>10.2f}')\n",
    "\n",
    "# 위 문장을 report.py 프로그램에 추가하자. make_report() 함수의 출력을 사용해 보기 좋게 포매팅된 테이블을 프린트하게 프로그램을 작성하라."
   ]
  },
  {
   "attachments": {},
   "cell_type": "markdown",
   "metadata": {},
   "source": [
    "### 연습 문제 2.11: 헤더 추가하기"
   ]
  },
  {
   "cell_type": "code",
   "execution_count": 148,
   "metadata": {},
   "outputs": [
    {
     "name": "stdout",
     "output_type": "stream",
     "text": [
      "      Name     Shares      Price     Change\n",
      "---------- ---------- ---------- ----------\n",
      "        AA        100       9.22     -22.98\n",
      "       IBM         50     106.28      15.18\n",
      "       CAT        150      35.46     -47.98\n",
      "      MSFT        200      20.89     -30.34\n",
      "        GE         95      13.48     -26.89\n",
      "      MSFT         50      20.89     -44.21\n",
      "       IBM        100     106.28      35.84\n"
     ]
    }
   ],
   "source": [
    "headers = ('Name', 'Shares', 'Price', 'Change')\n",
    "\n",
    "print(f\"{'Name':>10s} {'Shares':>10s} {'Price':>10s} {'Change':>10s}\")\n",
    "print(f\"{'-'*10:>10s} {'-'*10:>10s} {'-'*10:>10s} {'-'*10:>10s}\")\n",
    "\n",
    "for name, shares, price, change in report:\n",
    "    print(f'{name:>10s} {shares:>10d} {price:>10.2f} {change:>10.2f}')"
   ]
  },
  {
   "cell_type": "code",
   "execution_count": 158,
   "metadata": {},
   "outputs": [
    {
     "name": "stdout",
     "output_type": "stream",
     "text": [
      "      Name     Shares      Price     Change \n",
      "---------- ---------- ---------- ---------- \n",
      "        AA        100       9.22     -22.98\n",
      "       IBM         50     106.28      15.18\n",
      "       CAT        150      35.46     -47.98\n",
      "      MSFT        200      20.89     -30.34\n",
      "        GE         95      13.48     -26.89\n",
      "      MSFT         50      20.89     -44.21\n",
      "       IBM        100     106.28      35.84\n"
     ]
    }
   ],
   "source": [
    "def make_header():\n",
    "    headers = ('Name', 'Shares', 'Price', 'Change')\n",
    "\n",
    "    for header in headers:\n",
    "        print(f\"{header:>10s} \", end='')\n",
    "    print()\n",
    "    for header in headers:\n",
    "        print(f\"{'-'*10:>10s} \", end='')\n",
    "    print() \n",
    "\n",
    "\n",
    "make_header()\n",
    "for name, shares, price, change in report:\n",
    "    print(f'{name:>10s} {shares:>10d} {price:>10.2f} {change:>10.2f}')\n",
    "    "
   ]
  },
  {
   "attachments": {},
   "cell_type": "markdown",
   "metadata": {},
   "source": [
    "### 연습 문제 2.12: 포매팅 도전"
   ]
  },
  {
   "cell_type": "code",
   "execution_count": 168,
   "metadata": {},
   "outputs": [
    {
     "name": "stdout",
     "output_type": "stream",
     "text": [
      "      Name     Shares      Price     Change \n",
      "---------- ---------- ---------- ---------- \n",
      "        AA        100      $9.22     -22.98\n",
      "       IBM         50    $106.28      15.18\n",
      "       CAT        150     $35.46     -47.98\n",
      "      MSFT        200     $20.89     -30.34\n",
      "        GE         95     $13.48     -26.89\n",
      "      MSFT         50     $20.89     -44.21\n",
      "       IBM        100    $106.28      35.84\n"
     ]
    }
   ],
   "source": [
    "# 가격에 통화 기호($)를 포함해 다음과 같이 출력하게 수정해 보라.\n",
    "import csv\n",
    "from babel.numbers import format_currency\n",
    "\n",
    "def make_header():\n",
    "    headers = ('Name', 'Shares', 'Price', 'Change')\n",
    "\n",
    "    for header in headers:\n",
    "        print(f\"{header:>10s} \", end='')\n",
    "    print()\n",
    "    for header in headers:\n",
    "        print(f\"{'-'*10:>10s} \", end='')\n",
    "    print() \n",
    "\n",
    "\n",
    "\n",
    "def read_portfolio(filename):\n",
    "    portfolio = []\n",
    "    with open(filename, 'r') as f:\n",
    "        rows = csv.reader(f)\n",
    "        headers = next(rows)\n",
    "        for row in rows:\n",
    "            holding = {'name':row[0], 'shares':int(row[1]), 'price': float(row[2])}\n",
    "            portfolio.append(holding)\n",
    "    return portfolio\n",
    "\n",
    "\n",
    "def read_prices(filename):\n",
    "    prices = {}\n",
    "    with open(filename, 'r') as f:\n",
    "        rows = csv.reader(f)\n",
    "        for row in rows:\n",
    "            prices[row[0]] = float(row[1])\n",
    "    return prices         \n",
    "\n",
    "\n",
    "def make_report(portfolio, prices):\n",
    "    report = []\n",
    "    \n",
    "    for port in portfolio:\n",
    "        name = port['name']\n",
    "        shares = port['shares']\n",
    "        price = prices[port['name']]\n",
    "        change = prices[port['name']] - port['price']\n",
    "        \n",
    "        report.append((name, shares, price, change))\n",
    "    return report    \n",
    "\n",
    "        \n",
    "portfolio = read_portfolio('../../data/portfolio.csv')\n",
    "prices = read_prices('../../data/prices.csv')\n",
    "\n",
    "report = make_report(portfolio, prices)        \n",
    "\n",
    "\n",
    "make_header()\n",
    "for name, shares, price, change in report:\n",
    "    print(f\"{name:>10s} {shares:>10d} {format_currency(price,'USD', locale='en_US'):>10s} {change:>10.2f}\")"
   ]
  },
  {
   "cell_type": "code",
   "execution_count": 166,
   "metadata": {},
   "outputs": [
    {
     "name": "stdout",
     "output_type": "stream",
     "text": [
      "$1,000.00\n",
      "     $9.22\n",
      "   $106.28\n",
      "    $35.46\n",
      "    $20.89\n",
      "    $13.48\n",
      "    $20.89\n",
      "   $106.28\n"
     ]
    }
   ],
   "source": [
    "from babel.numbers import format_currency\n",
    "\n",
    "USD = format_currency(1000, 'USD', locale='en_US')\n",
    "print(USD)\n",
    "\n",
    "for name, shares, price, change in report:\n",
    "    print(f\"{format_currency(price,'USD', locale='en_US'):>10s}\")"
   ]
  },
  {
   "attachments": {},
   "cell_type": "markdown",
   "metadata": {},
   "source": [
    "# 2.4 시퀀스"
   ]
  },
  {
   "attachments": {},
   "cell_type": "markdown",
   "metadata": {},
   "source": [
    "## 시퀀스 자료형"
   ]
  },
  {
   "cell_type": "code",
   "execution_count": null,
   "metadata": {},
   "outputs": [],
   "source": [
    "# 파이썬에는 세 가지 시퀀스(sequence) 자료형이 있다.\n",
    "# -----------------------------------------------\n",
    "# - 문자열: 'Hello'. 문자열(string)은 문자(character)들의 시퀀스다.\n",
    "# - 리스트: [1, 4, 5].\n",
    "# - 튜플: ('GOOG', 100, 490.1).\n",
    "\n",
    "# 모든 시퀀스는 순서가 유지되고, 정수로 인덱싱하며, 길이가 있다.\n",
    "\n",
    "a = 'Hello'               # 문자열\n",
    "b = [1, 4, 5]             # 리스트\n",
    "c = ('GOOG', 100, 490.1)  # 튜플\n",
    "\n",
    "# 인덱싱된 순서\n",
    "a[0]                      # 'H'\n",
    "b[-1]                     # 5\n",
    "c[1]                      # 100\n",
    "\n",
    "# 시퀀스의 길이\n",
    "len(a)                    # 5\n",
    "len(b)                    # 3\n",
    "len(c)                    # 3\n",
    "\n",
    "# 시퀀스를 복제할 수 있다(s * n).\n",
    "a = 'Hello'\n",
    "a * 3\n",
    "\n",
    "b = [1, 2, 3]\n",
    "b * 2\n",
    "\n",
    "# 같은 타입의 시퀀스끼리 이어붙일 수 있다(s + t).\n",
    "\n",
    "a = (1, 2, 3)\n",
    "b = (4, 5)\n",
    "a + b\n",
    "\n",
    "c = [1, 5]\n",
    "a + c       # 오류 발생"
   ]
  },
  {
   "attachments": {},
   "cell_type": "markdown",
   "metadata": {},
   "source": [
    "## 슬라이싱(Slicing)"
   ]
  },
  {
   "cell_type": "code",
   "execution_count": null,
   "metadata": {},
   "outputs": [],
   "source": [
    "# 시퀀스의 일부(subsequence)를 취하는 것을 슬라이싱이라 한다. \n",
    "# s[start:end] 구문을 사용한다. start와 end는 얻고자 하는 서브시퀀스의 인덱스다.\n",
    "a = [0,1,2,3,4,5,6,7,8]\n",
    "\n",
    "a[2:5]    # [2,3,4]\n",
    "a[-5:]    # [4,5,6,7,8]\n",
    "a[:3]     # [0,1,2]\n",
    "\n",
    "# start와 end 인덱스는 반드시 정수여야 한다.\n",
    "# 슬라이스는 end 값을 포함하지 않는다. 수학에서 한쪽만 열린 구간(interval)과 비슷하다.\n",
    "# 인덱스를 생략하면 리스트의 시작이나 끝을 기본값으로 사용한다.\n",
    "# 슬라이스 재할당(re-assignment)\n",
    "# 리스트에서 슬라이스를 다시 할당하거나 삭제할 수 있다.\n",
    "\n",
    "# 재할당\n",
    "a = [0,1,2,3,4,5,6,7,8]\n",
    "a[2:4] = [10,11,12]       # [0,1,10,11,12,4,5,6,7,8]\n",
    "\n",
    "# 참고: 재할당된 슬라이스는 길이가 똑같을 필요가 없다.\n",
    "\n",
    "# 삭제\n",
    "a = [0,1,2,3,4,5,6,7,8]\n",
    "del a[2:4]                # [0,1,4,5,6,7,8]"
   ]
  },
  {
   "attachments": {},
   "cell_type": "markdown",
   "metadata": {},
   "source": [
    "## 시퀀스 축소(Reduction)"
   ]
  },
  {
   "cell_type": "code",
   "execution_count": null,
   "metadata": {},
   "outputs": [],
   "source": [
    "# 시퀀스를 단일 값으로 줄이는 몇 가지 함수가 있다.\n",
    "\n",
    "s = [1, 2, 3, 4]\n",
    "sum(s)\n",
    "min(s)\n",
    "max(s)\n",
    "\n",
    "t = ['Hello', 'World']\n",
    "max(t)\n",
    "'World'"
   ]
  },
  {
   "attachments": {},
   "cell_type": "markdown",
   "metadata": {},
   "source": [
    "## 시퀀스에 대한 이터레이션"
   ]
  },
  {
   "cell_type": "code",
   "execution_count": null,
   "metadata": {},
   "outputs": [],
   "source": [
    "# for 루프는 시퀀스의 원소에 대해 이터레이션을 수행한다.\n",
    "s = [1, 4, 9, 16]\n",
    "for i in s:\n",
    "    print(i)\n",
    "\n",
    "# 각 이터레이션에서 새 항목을 얻어 작업한다. 이러한 새 값이 이터레이션 변수에 할당된다. 이 예에서 이터레이션 변수는 x다.\n",
    "\n",
    "# for x in s:         # `x`는 이터레이션 변수\n",
    "#     ...문장\n",
    "\n",
    "# 각 이터레이션에서, 이터레이션 변수에 있는 이전 값을 덮어쓴다. 루프가 끝난 후 변수는 최종 값을 갖는다."
   ]
  },
  {
   "attachments": {},
   "cell_type": "markdown",
   "metadata": {},
   "source": [
    "## break 문"
   ]
  },
  {
   "cell_type": "code",
   "execution_count": null,
   "metadata": {},
   "outputs": [],
   "source": [
    "# break 문을 사용해 루프에서 일찍 빠져나갈 수 있다.\n",
    "\n",
    "# for name in namelist:\n",
    "#     if name == 'Jake':\n",
    "#         break\n",
    "#     ...\n",
    "#     ...\n",
    "# 문장\n",
    "\n",
    "# 문장의 실행을 break하면 루프에서 빠져나가서 다음 문장을 수행한다. \n",
    "# break 문은 가장 안쪽 루프에만 적용된다. 만약 이 루프가 다른 루프 안에 있다면, 바깥쪽 루프는 빠져나지 않는다."
   ]
  },
  {
   "attachments": {},
   "cell_type": "markdown",
   "metadata": {},
   "source": [
    "## continue 문"
   ]
  },
  {
   "cell_type": "code",
   "execution_count": null,
   "metadata": {},
   "outputs": [],
   "source": [
    "# 한 원소를 건너뛰고 다음으로 가려면 continue 문을 사용한다.\n",
    "\n",
    "# for line in lines:\n",
    "#     if line == '\\n':    # 공백 행을 건너뜀\n",
    "#         continue\n",
    "#     # 나머지 문장들\n",
    "#     ...\n",
    "\n",
    "# 현재 항목에 관심이 없거나 처리 과정에서 무시해야 할 때 유용하다."
   ]
  },
  {
   "attachments": {},
   "cell_type": "markdown",
   "metadata": {},
   "source": [
    "## 정수에 대해 루핑"
   ]
  },
  {
   "cell_type": "code",
   "execution_count": null,
   "metadata": {},
   "outputs": [],
   "source": [
    "# 카운트를 하고 싶으면 range()를 써라.\n",
    "\n",
    "# for i in range(100):\n",
    "#     # i = 0,1,...,99\n",
    "\n",
    "# 구문은 range([start,] end [,step])이다.\n",
    "\n",
    "# for i in range(100):\n",
    "#     # i = 0,1,...,99\n",
    "# for j in range(10,20):\n",
    "#     # j = 10,11,..., 19\n",
    "# for k in range(10,50,2):\n",
    "#     # k = 10,12,...,48\n",
    "#     # step이 1이 아니라 2일 때 어떤 식으로 카운트하는지 눈여겨 보라.\n",
    "\n",
    "# end 값은 포함하지 않는다. 이는 슬라이스의 작동과 같다.\n",
    "# start는 선택적이고, 기본값이 0이다.\n",
    "# step도 선택적이며, 기본값이 1이다.\n",
    "# range()는 필요에 따라 값을 계산한다. 실제로 많은 숫자를 저장하지는 않는다."
   ]
  },
  {
   "attachments": {},
   "cell_type": "markdown",
   "metadata": {},
   "source": [
    "## enumerate() 함수"
   ]
  },
  {
   "cell_type": "code",
   "execution_count": null,
   "metadata": {},
   "outputs": [],
   "source": [
    "# enumerate 함수는 이터레이션에 카운터 값을 추가한다.\n",
    "\n",
    "# names = ['Elwood', 'Jake', 'Curtis']\n",
    "# for i, name in enumerate(names):\n",
    "#     # i = 0, name = 'Elwood'를 가지고 루프\n",
    "#     # i = 1, name = 'Jake'\n",
    "#     # i = 2, name = 'Curtis'\n",
    "\n",
    "# 일반적 형태는 enumerate(시퀀스 [, start = 0])이다. start는 선택적이다. \n",
    "# enumerate()를 사용하는 좋은 예는 파일을 읽으면서 행 번호를 추적하는 것이다.\n",
    "\n",
    "# with open(filename) as f:\n",
    "#     for lineno, line in enumerate(f, start=1):\n",
    "#         ...\n",
    "# enumerate는 다음 코드를 축약하는 셈이다.\n",
    "\n",
    "# i = 0\n",
    "# for x in s:\n",
    "#     문장\n",
    "#     i += 1\n",
    "# enumerate를 사용하면 타이핑을 적게 할 수 있고 속도도 약간 더 빠르다."
   ]
  },
  {
   "attachments": {},
   "cell_type": "markdown",
   "metadata": {},
   "source": [
    "## for와 튜플"
   ]
  },
  {
   "cell_type": "code",
   "execution_count": null,
   "metadata": {},
   "outputs": [],
   "source": [
    "# 여러 개의 이터레이션 변수(iteration variable)를 사용해 루핑을 할 수 있다.\n",
    "\n",
    "points = [\n",
    "  (1, 4),(10, 40),(23, 14),(5, 6),(7, 8)\n",
    "]\n",
    "\n",
    "# for x, y in points:\n",
    "#     # x = 1, y = 4를 가지고 루핑\n",
    "#     #            x = 10, y = 40\n",
    "#     #            x = 23, y = 14\n",
    "#     #            ...\n",
    "\n",
    "# 여러 개의 변수를 사용할 때, 각 튜플은 이터레이션 변수의 세트로 언팩(unpacked)된다. \n",
    "# 변수의 개수는 각 튜플의 항목 수와 일치해야 한다."
   ]
  },
  {
   "attachments": {},
   "cell_type": "markdown",
   "metadata": {},
   "source": [
    "## zip() 함수"
   ]
  },
  {
   "cell_type": "code",
   "execution_count": 170,
   "metadata": {},
   "outputs": [],
   "source": [
    "# zip 함수는 여러 시퀀스를 결합해 이터레이터(iterator)를 만든다.\n",
    "\n",
    "columns = ['name', 'shares', 'price']\n",
    "values = ['GOOG', 100, 490.1 ]\n",
    "pairs = zip(columns, values)\n",
    "# ('name','GOOG'), ('shares',100), ('price',490.1)\n",
    "\n",
    "# 결과를 얻으려면 반드시 이터레이션을 해야 한다. 앞서 본 것처럼 여러 개의 변수를 사용해 튜플을 언팩할 수 있다.\n",
    "\n",
    "# for column, value in pairs:\n",
    "#     ...\n",
    "# zip의 일반적인 용도는 딕셔너리를 생성하기 위한 키/값 쌍을 생성하는 것이다.\n",
    "\n",
    "d = dict(zip(columns, values))"
   ]
  },
  {
   "attachments": {},
   "cell_type": "markdown",
   "metadata": {},
   "source": [
    "## 연습문제"
   ]
  },
  {
   "attachments": {},
   "cell_type": "markdown",
   "metadata": {},
   "source": [
    "### 연습 문제 2.13: 카운팅"
   ]
  },
  {
   "cell_type": "code",
   "execution_count": 172,
   "metadata": {},
   "outputs": [
    {
     "name": "stdout",
     "output_type": "stream",
     "text": [
      "0 1 2 3 4 5 6 7 8 9 \n",
      "10 9 8 7 6 5 4 3 2 1 \n",
      "0 2 4 6 8 "
     ]
    }
   ],
   "source": [
    "# 기본적인 카운팅을 해 보자.\n",
    "\n",
    "for n in range(10):            # 0 ... 9를 카운트\n",
    "    print(n, end=' ')\n",
    "print()\n",
    "\n",
    "for n in range(10,0,-1):       # 10 ... 1을 카운트\n",
    "    print(n, end=' ')\n",
    "print()\n",
    "\n",
    "for n in range(0,10,2):        # 0, 2, ... 8을 카운트\n",
    "    print(n, end=' ')"
   ]
  },
  {
   "attachments": {},
   "cell_type": "markdown",
   "metadata": {},
   "source": [
    "### 연습 문제 2.14: 더 많은 시퀀스 연산"
   ]
  },
  {
   "cell_type": "code",
   "execution_count": 178,
   "metadata": {},
   "outputs": [
    {
     "name": "stdout",
     "output_type": "stream",
     "text": [
      "4 9 1 25 16 100 49 --------------------------------------------------------------------------------\n",
      "1 4\n",
      "2 9\n",
      "3 1\n",
      "4 25\n",
      "5 16\n",
      "6 100\n",
      "7 49\n",
      "--------------------------------------------------------------------------------\n",
      "4\n",
      "9\n",
      "1\n",
      "25\n",
      "16\n",
      "100\n",
      "49\n",
      "--------------------------------------------------------------------------------\n",
      "1 4\n",
      "2 9\n",
      "3 1\n",
      "4 25\n",
      "5 16\n",
      "6 100\n",
      "7 49\n"
     ]
    }
   ],
   "source": [
    "# 시퀀스 축소 연산을 상호작용적으로 실험해 보자.\n",
    "\n",
    "data = [4, 9, 1, 25, 16, 100, 49]\n",
    "min(data)\n",
    "max(data)\n",
    "sum(data)\n",
    "\n",
    "# 데이터에 대해 루핑을 해 보자.\n",
    "\n",
    "for x in data:\n",
    "    print(x, end=' ')\n",
    "print('-'* 80)\n",
    "for n, x in enumerate(data, start=1):\n",
    "    print(n, x)\n",
    "\n",
    "# 파이썬 초보자들은 for 문, len(), range()를 사용해 C 프로그램처럼 보이는 끔직한 코드를 작성하곤 한다.\n",
    "\n",
    "print('-'* 80)\n",
    "for n in range(len(data)): # C 프로그램 Style\n",
    "    print(data[n])\n",
    "\n",
    "# 이러지 마라! 가독성도 떨어지는데다 메모리를 비효율적으로 사용하며 실행 속도도 느려진다. \n",
    "# 평범한 for 루프를 써서 데이터를 이터레이트하라. 인덱스를 써야 할 합당한 이유가 있을 때는 enumerate()를 사용하라.\n",
    "\n",
    "print('-'* 80)\n",
    "datas = [4, 9, 1, 25, 16, 100, 49]\n",
    "\n",
    "for num, data in enumerate(datas, start=1):          # Python Style\n",
    "    print(num, data)\n",
    "\n"
   ]
  },
  {
   "attachments": {},
   "cell_type": "markdown",
   "metadata": {},
   "source": [
    "### 연습 문제 2.15: 실용적인 enumerate() 예제"
   ]
  },
  {
   "cell_type": "code",
   "execution_count": 182,
   "metadata": {},
   "outputs": [
    {
     "name": "stdout",
     "output_type": "stream",
     "text": [
      "Row 4: Bad row: ['MSFT', '', '51.23'] e: invalid literal for int() with base 10: ''\n",
      "Row 7: Bad row: ['IBM', '', '70.44'] e: invalid literal for int() with base 10: ''\n"
     ]
    }
   ],
   "source": [
    "# 주식 포트폴리오 데이터가 있는 ../../data/missing.csv의 일부 행에는 데이터가 누락되어 있다. \n",
    "# enumerate()를 사용해 pcost.py 프로그램이 잘못된 입력을 만나면 행 번호와 경고 메시지를 프린트하게 해 보라.\n",
    "def portfolio_cost(filename):\n",
    "    '''포트폴리오 파일의 총 비용(주식수*가격)을 계산'''\n",
    "    total_cost = 0.0\n",
    "    with open(filename, 'r') as f:\n",
    "        rows = csv.reader(f)\n",
    "        headers = next(rows)\n",
    "        for rowno, row in enumerate(rows, start=1):\n",
    "            try:\n",
    "                nshares = int(row[1])\n",
    "                price = float(row[2])\n",
    "                total_cost += nshares * price\n",
    "            except ValueError as e:\n",
    "                print(f'Row {rowno}: Bad row: {row} e: {e}')\n",
    "    return total_cost\n",
    "\n",
    "\n",
    "cost = portfolio_cost('../../data/missing.csv')"
   ]
  },
  {
   "attachments": {},
   "cell_type": "markdown",
   "metadata": {},
   "source": [
    "### 연습 문제 2.16: zip() 함수 사용하기"
   ]
  },
  {
   "cell_type": "code",
   "execution_count": 194,
   "metadata": {},
   "outputs": [
    {
     "data": {
      "text/plain": [
       "['name', 'shares', 'price']"
      ]
     },
     "execution_count": 194,
     "metadata": {},
     "output_type": "execute_result"
    }
   ],
   "source": [
    "# ../../data/portfolio.csv 파일의 첫 행에는 컬럼 헤더가 있다. 이전 코드에서는 그 부분을 버렸다.\n",
    "import csv\n",
    "\n",
    "f = open('../../data/portfolio.csv')\n",
    "rows = csv.reader(f)\n",
    "headers = next(rows)\n",
    "f.close()\n",
    "\n",
    "headers\n",
    "\n",
    "\n",
    "# 헤더를 잘 활용할 수 있다면 좋지 않을까? zip() 함수를 이용해 보자. 먼저, 파일 헤더를 데이터 행과 짝을 짓는다.\n",
    "\n",
    "# row = next(rows)\n",
    "# row\n",
    "\n",
    "# list(zip(headers, row))\n",
    "\n",
    "# zip()이 어떻게 컬럼 헤더와 컬럼 값의 짝을 만드는지 눈여겨 보라. \n",
    "# 그 결과를 리스트로 바꾸기 위해 list()를 사용했으므로 확인할 수 있다. \n",
    "# zip()으로 이터레이터를 생성하여 for 루프에서 소비하는 것이 보통이다.\n",
    "\n",
    "# 이러한 짝 짓기는 딕셔너리를 만들어내는 중간 단계다. 이번에는 이렇게 해 보자.\n",
    "\n",
    "# record = dict(zip(headers, row))\n",
    "# record\n",
    "# {'price': '32.20', 'name': 'AA', 'shares': '100'}\n",
    "\n",
    "# 이러한 변환 방식은 데이터 파일을 많이 처리할 때 매우 유용한 트릭이다. \n",
    "# 예를 들어, pcost.py 프로그램이 다양한 입력을 처리하게 하되, \n",
    "# 종목명, 주식 수, 가격이 나타나는 실제 컬럼 번호를 참고하고 싶다고 하자.\n",
    "\n",
    "# pcost.py의 portfolio_cost() 함수를 다음과 같이 수정한다.\n",
    "# pcost.py\n",
    "\n",
    "# def portfolio_cost(filename):\n",
    "#     '''포트폴리오 파일의 총 비용(주식수*가격)을 계산'''\n",
    "#     total_cost = 0.0\n",
    "#     with open(filename, 'r') as f:\n",
    "#         rows = csv.reader(f)\n",
    "# #        headers = next(rows)\n",
    "#         for rowno, row in enumerate(rows, start=1):\n",
    "#             record = dict(zip(headers, row))\n",
    "#             try:\n",
    "#                 nshares = int(record['shares'])\n",
    "#                 price = float(record['price'])\n",
    "#                 total_cost += nshares * price\n",
    "#             except ValueError as e:\n",
    "                \n",
    "#                 print(f'Row {rowno}: Bad row: {row} e: {e}')\n",
    "#     return total_cost\n",
    "\n"
   ]
  },
  {
   "cell_type": "code",
   "execution_count": 223,
   "metadata": {},
   "outputs": [
    {
     "data": {
      "text/plain": [
       "44671.15"
      ]
     },
     "execution_count": 223,
     "metadata": {},
     "output_type": "execute_result"
    }
   ],
   "source": [
    "def portfolio_cost(filename):\n",
    "    '''포트폴리오 파일의 총 비용(주식수*가격)을 계산'''\n",
    "    total_cost = 0.0\n",
    "    records = []\n",
    "    \n",
    "    with open(filename, 'r') as f:\n",
    "        rows = csv.reader(f)\n",
    "        headers = next(rows)\n",
    "        for rowno, row in enumerate(rows, start=1):\n",
    "            record = dict(zip(headers, row))\n",
    "            try:\n",
    "                nshares = int(record['shares'])\n",
    "                price = float(record['price'])\n",
    "                total_cost += nshares * price\n",
    "            except ValueError as e:\n",
    "                print(f'Row {rowno}: Bad row: {row} e: {e}')\n",
    "                \n",
    "    return total_cost\n",
    "\n",
    "cost = portfolio_cost('../../data/portfolio.csv')\n",
    "cost"
   ]
  },
  {
   "cell_type": "code",
   "execution_count": 226,
   "metadata": {},
   "outputs": [
    {
     "data": {
      "text/plain": [
       "44671.15"
      ]
     },
     "execution_count": 226,
     "metadata": {},
     "output_type": "execute_result"
    }
   ],
   "source": [
    "# 이제 완전히 다른 데이터 파일을 함수에 적용해 보자. Data/portfoliodate.csv는 다음과 같다.\n",
    "\n",
    "# name,date,time,shares,price\n",
    "# \"AA\",\"6/11/2007\",\"9:50am\",100,32.20\n",
    "# \"IBM\",\"5/13/2007\",\"4:20pm\",50,91.10\n",
    "# \"CAT\",\"9/23/2006\",\"1:30pm\",150,83.44\n",
    "# \"MSFT\",\"5/17/2007\",\"10:30am\",200,51.23\n",
    "# \"GE\",\"2/1/2006\",\"10:45am\",95,40.37\n",
    "# \"MSFT\",\"10/31/2006\",\"12:05pm\",50,65.10\n",
    "# \"IBM\",\"7/9/2006\",\"3:15pm\",100,70.44\n",
    "\n",
    "portfolio_cost('../../data/portfoliodate.csv')\n",
    "\n",
    "# 데이터 파일이 앞에서 사용한 것과 완전히 달라지더라도 프로그램이 여전히 작동할 것이다. 멋지지 않은가!\n",
    "# 코드를 많이 바꾸지 않았지만 그 효과는 상당하다. \n",
    "# 새로운 버전의 portfolio_cost() 함수에서는 고정된 파일 형식을 하드코딩하는 대신, 어느 CSV 파일이 \n",
    "# 들어오더라도 원하는 값을 골라낼 수 있게 됐다. 필요한 컬럼이 파일에 있기만 하면 코드는 잘 작동한다."
   ]
  },
  {
   "cell_type": "code",
   "execution_count": 228,
   "metadata": {},
   "outputs": [
    {
     "name": "stdout",
     "output_type": "stream",
     "text": [
      "        AA        100      $9.22     -22.98\n",
      "       IBM         50    $106.28      15.18\n",
      "       CAT        150     $35.46     -47.98\n",
      "      MSFT        200     $20.89     -30.34\n",
      "        GE         95     $13.48     -26.89\n",
      "      MSFT         50     $20.89     -44.21\n",
      "       IBM        100    $106.28      35.84\n"
     ]
    }
   ],
   "source": [
    "# 섹션 2.3에서 작성한 report.py 프로그램에, 컬럼 헤더를 선택하는 기술을 적용해보자.\n",
    "\n",
    "# ../../data/portfoliodate.csv 파일에 대해 report.py 프로그램을 실행해, 이전과 같은 답을 만들어내는지 확인해 보라.\n",
    "# ----------------------------------------------------------------------------------------------------------\n",
    "import csv\n",
    "from babel.numbers import format_currency\n",
    "\n",
    "def make_header():\n",
    "    headers = ('Name', 'Shares', 'Price', 'Change')\n",
    "\n",
    "    for header in headers:\n",
    "        print(f\"{header:>10s} \", end='')\n",
    "    print()\n",
    "    for header in headers:\n",
    "        print(f\"{'-'*10:>10s} \", end='')\n",
    "    print() \n",
    "\n",
    "\n",
    "\n",
    "def read_portfolio(filename):\n",
    "    portfolio = []\n",
    "    with open(filename, 'r') as f:\n",
    "        rows = csv.reader(f)\n",
    "        headers = next(rows)\n",
    "        for row in rows:\n",
    "            holding = dict(zip(headers, row))\n",
    "            #holding = {'name':row[0], 'shares':int(row[1]), 'price': float(row[2])}\n",
    "            portfolio.append(holding)\n",
    "    return portfolio\n",
    "\n",
    "\n",
    "def read_prices(filename):\n",
    "    prices = {}\n",
    "    with open(filename, 'r') as f:\n",
    "        rows = csv.reader(f)\n",
    "        for row in rows:\n",
    "            prices[row[0]] = float(row[1])\n",
    "    return prices         \n",
    "\n",
    "\n",
    "def make_report(portfolio, prices):\n",
    "    report = []\n",
    "    \n",
    "    for port in portfolio:\n",
    "        name = port['name']\n",
    "        shares = int(port['shares'])\n",
    "        price = float(prices[name])\n",
    "        # change = float(prices[port['name']]) - float(port['price'])\n",
    "        change = float(prices[name]) - float(port['price'])\n",
    "        \n",
    "        report.append((name, shares, price, change))\n",
    "    return report    \n",
    "\n",
    "        \n",
    "# portfolio = read_portfolio('../../data/portfolio.csv')\n",
    "portfolio = read_portfolio('../../data/portfoliodate.csv')\n",
    "\n",
    "prices = read_prices('../../data/prices.csv')\n",
    "\n",
    "report = make_report(portfolio, prices)        \n",
    "\n",
    "\n",
    "# make_header()\n",
    "for name, shares, price, change in report:\n",
    "    print(f\"{name:>10s} {shares:>10d} {format_currency(price,'USD', locale='en_US'):>10s} {change:>10.2f}\")"
   ]
  },
  {
   "attachments": {},
   "cell_type": "markdown",
   "metadata": {},
   "source": [
    "### 연습 문제 2.17: 딕셔너리 뒤집기"
   ]
  },
  {
   "cell_type": "code",
   "execution_count": 230,
   "metadata": {},
   "outputs": [
    {
     "data": {
      "text/plain": [
       "[(1, 'x'), (2, 'y'), (3, 'z')]"
      ]
     },
     "execution_count": 230,
     "metadata": {},
     "output_type": "execute_result"
    }
   ],
   "source": [
    "# 딕셔너리는 키를 값에 매팽한다. 다음은 주식 가격 딕셔너리의 예다.\n",
    "\n",
    "prices = {\n",
    "    'GOOG' : 490.1,\n",
    "    'AA' : 23.45,\n",
    "    'IBM' : 91.1,\n",
    "    'MSFT' : 34.23\n",
    "}\n",
    "\n",
    "# items() 메서드를 사용하면 (키, 값) 쌍을 얻는다.\n",
    "\n",
    "prices.items()\n",
    "\n",
    "# 그런데, 만약 (값, 키)의 쌍이 필요하다면 어떻게 해야 할까? 힌트: zip()을 사용한다.\n",
    "\n",
    "pricelist = list(zip(prices.values(),prices.keys()))\n",
    "pricelist\n",
    "\n",
    "\n",
    "# 이렇게 해야 할 이유가 있을까? 딕셔너리 데이터에 대해 특정한 데이터 처리를 할 수 있다는 점을 한 가지 이유로 들 수 있다.\n",
    "\n",
    "min(pricelist)\n",
    "max(pricelist)\n",
    "sorted(pricelist)\n",
    "\n",
    "\n",
    "# 또한 이것은 튜플의 중요 기능을 보여준다. 튜플을 비교하면, 첫 번째 항목부터 원소 하나하나를 비교하게 된다. \n",
    "# 이는 문자열의 문자 하나하나를 비교하는 것과 비슷하다.\n",
    "\n",
    "# zip()은 이와 같이 서로 다른 자리의 데이터를 가지고 짝을 지어야 하는 상황에 종종 사용된다. \n",
    "# 예를 들어, 명명된 값의 딕셔너리를 만들기 위해, 컬럼명과 컬럼값의 쌍을 만들 수 있다.\n",
    "\n",
    "# 참고로, zip()으로 1:1 쌍만 만들 수 있는 것이 아니다. 여러 개의 입력 리스트를 가지고도 그런 일을 할 수 있다.\n",
    "\n",
    "a = [1, 2, 3, 4]\n",
    "b = ['w', 'x', 'y', 'z']\n",
    "c = [0.2, 0.4, 0.6, 0.8]\n",
    "list(zip(a, b, c))\n",
    "# [(1, 'w', 0.2), (2, 'x', 0.4), (3, 'y', 0.6), (4, 'z', 0.8))]\n",
    "\n",
    "# 또한, zip()은 가장 짧은 입력 시퀀스의 마지막 원소에서 멈춘다.\n",
    "\n",
    "a = [1, 2, 3, 4, 5, 6]\n",
    "b = ['x', 'y', 'z']\n",
    "list(zip(a,b))\n",
    "# [(1, 'x'), (2, 'y'), (3, 'z')]"
   ]
  },
  {
   "attachments": {},
   "cell_type": "markdown",
   "metadata": {},
   "source": [
    "# 2.5 collections 모듈"
   ]
  },
  {
   "cell_type": "code",
   "execution_count": null,
   "metadata": {},
   "outputs": [],
   "source": [
    "# collections 모듈에는 데이터 처리를 위한 유용한 객체가 많이 있다. 그중 몇 가지를 간략히 소개한다."
   ]
  },
  {
   "attachments": {},
   "cell_type": "markdown",
   "metadata": {},
   "source": [
    "## 예: 카운트하기"
   ]
  },
  {
   "cell_type": "code",
   "execution_count": null,
   "metadata": {},
   "outputs": [],
   "source": [
    "# 보유한 주식이 다음과 같을 때, 종목별로 합산해 나타내고 싶다고 하자.\n",
    "\n",
    "portfolio = [\n",
    "    ('GOOG', 100, 490.1),\n",
    "    ('IBM', 50, 91.1),\n",
    "    ('CAT', 150, 83.44),\n",
    "    ('IBM', 100, 45.23),\n",
    "    ('GOOG', 75, 572.45),\n",
    "    ('AA', 50, 23.15)\n",
    "]\n",
    "# 위 리스트에 IBM과 GOOG가 두 개씩 있다. 종목별로 합산해 보자."
   ]
  },
  {
   "attachments": {},
   "cell_type": "markdown",
   "metadata": {},
   "source": [
    "### Counter"
   ]
  },
  {
   "cell_type": "code",
   "execution_count": 252,
   "metadata": {},
   "outputs": [
    {
     "data": {
      "text/plain": [
       "150"
      ]
     },
     "execution_count": 252,
     "metadata": {},
     "output_type": "execute_result"
    }
   ],
   "source": [
    "# 해법: Counter를 사용한다.\n",
    "\n",
    "from collections import Counter\n",
    "total_shares = Counter()\n",
    "for name, shares, price in portfolio:\n",
    "    total_shares[name] += shares\n",
    "\n",
    "total_shares['IBM']     # 150"
   ]
  },
  {
   "attachments": {},
   "cell_type": "markdown",
   "metadata": {},
   "source": [
    "### 예: 일대다(One-Many) 매핑"
   ]
  },
  {
   "cell_type": "code",
   "execution_count": null,
   "metadata": {},
   "outputs": [],
   "source": [
    "# 문제: 하나의 키를 여러 개의 값에 매핑하려고 한다.\n",
    "\n",
    "portfolio = [\n",
    "    ('GOOG', 100, 490.1),\n",
    "    ('IBM', 50, 91.1),\n",
    "    ('CAT', 150, 83.44),\n",
    "    ('IBM', 100, 45.23),\n",
    "    ('GOOG', 75, 572.45),\n",
    "    ('AA', 50, 23.15)\n",
    "]\n",
    "\n",
    "# 앞의 예와 같이, IBM을 키로 삼으면 두 개의 튜플이 있다.\n",
    "\n",
    "# 해법: defaultdict를 사용한다.\n",
    "\n",
    "from collections import defaultdict\n",
    "holdings = defaultdict(list)\n",
    "for name, shares, price in portfolio:\n",
    "    holdings[name].append((shares, price))\n",
    "holdings['IBM'] # [ (50, 91.1), (100, 45.23) ]\n",
    "defaultdict을 사용하면 키에 액세스할 때마다 기본값을 얻는다."
   ]
  },
  {
   "cell_type": "code",
   "execution_count": 250,
   "metadata": {},
   "outputs": [
    {
     "name": "stdout",
     "output_type": "stream",
     "text": [
      "[['GOOG', 100, 490.1]]\n",
      "[['GOOG', 100, 490.1], ['IBM', 100, 182.2]]\n",
      "[['GOOG', 100, 490.1], ['IBM', 100, 182.2], ['CAT', 300, 166.88], ['CAT', 300, 166.88]]\n",
      "[['GOOG', 100, 490.1], ['IBM', 200, 227.42999999999998], ['CAT', 300, 166.88], ['CAT', 300, 166.88], ['IBM', 200, 90.46], ['IBM', 200, 90.46], ['IBM', 200, 90.46]]\n",
      "[['GOOG', 175, 1062.5500000000002], ['IBM', 200, 227.42999999999998], ['CAT', 300, 166.88], ['CAT', 300, 166.88], ['IBM', 200, 90.46], ['IBM', 200, 90.46], ['IBM', 200, 90.46], ['GOOG', 150, 1144.9], ['GOOG', 150, 1144.9], ['GOOG', 150, 1144.9], ['GOOG', 150, 1144.9], ['GOOG', 150, 1144.9], ['GOOG', 150, 1144.9]]\n",
      "[['GOOG', 175, 1062.5500000000002], ['IBM', 200, 227.42999999999998], ['CAT', 300, 166.88], ['CAT', 300, 166.88], ['IBM', 200, 90.46], ['IBM', 200, 90.46], ['IBM', 200, 90.46], ['GOOG', 150, 1144.9], ['GOOG', 150, 1144.9], ['GOOG', 150, 1144.9], ['GOOG', 150, 1144.9], ['GOOG', 150, 1144.9], ['GOOG', 150, 1144.9], ['AA', 100, 46.3], ['AA', 100, 46.3], ['AA', 100, 46.3], ['AA', 100, 46.3], ['AA', 100, 46.3], ['AA', 100, 46.3], ['AA', 100, 46.3], ['AA', 100, 46.3], ['AA', 100, 46.3], ['AA', 100, 46.3], ['AA', 100, 46.3], ['AA', 100, 46.3], ['AA', 100, 46.3]]\n"
     ]
    }
   ],
   "source": [
    "portfolio = [\n",
    "    ('GOOG', 100, 490.1),\n",
    "    ('IBM', 50, 91.1),\n",
    "    ('CAT', 150, 83.44),\n",
    "    ('IBM', 100, 45.23),\n",
    "    ('GOOG', 75, 572.45),\n",
    "    ('AA', 50, 23.15)\n",
    "]\n",
    "\n",
    "temps = []\n",
    "for name, shares, price in portfolio:\n",
    "    if not temps:\n",
    "        temps.append([name, shares, price])    \n",
    "    else:    \n",
    "        for temp in temps:   \n",
    "            if temp[0] == name:\n",
    "                # print(name, temp[0])\n",
    "                temp[1] += shares\n",
    "                temp[2] += price\n",
    "            else:\n",
    "                temps.append([name, shares, price])\n",
    "    print(temps)                \n"
   ]
  },
  {
   "cell_type": "code",
   "execution_count": null,
   "metadata": {},
   "outputs": [],
   "source": []
  }
 ],
 "metadata": {
  "kernelspec": {
   "display_name": "Python 3.9.12 ('base')",
   "language": "python",
   "name": "python3"
  },
  "language_info": {
   "codemirror_mode": {
    "name": "ipython",
    "version": 3
   },
   "file_extension": ".py",
   "mimetype": "text/x-python",
   "name": "python",
   "nbconvert_exporter": "python",
   "pygments_lexer": "ipython3",
   "version": "3.9.7"
  },
  "orig_nbformat": 4,
  "vscode": {
   "interpreter": {
    "hash": "f08154012ddadd8e950e6e9e035c7a7b32c136e7647e9b7c77e02eb723a8bedb"
   }
  }
 },
 "nbformat": 4,
 "nbformat_minor": 2
}
