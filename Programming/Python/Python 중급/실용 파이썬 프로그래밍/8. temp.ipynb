{
 "cells": [
  {
   "attachments": {},
   "cell_type": "markdown",
   "metadata": {},
   "source": [
    "# 8.2 로깅"
   ]
  },
  {
   "attachments": {},
   "cell_type": "markdown",
   "metadata": {},
   "source": [
    "## logging 모듈"
   ]
  },
  {
   "cell_type": "code",
   "execution_count": null,
   "metadata": {},
   "outputs": [],
   "source": [
    "# logging 모듈\n",
    "# ------------\n",
    "# logging 모듈은 진단 정보를 기록하기 위한 표준 라이브러리 모듈이다. \n",
    "# 정교한 기능이 많은, 매우 큰 모듈이기도 하다. 유용한 몇 가지 예를 살펴보자."
   ]
  },
  {
   "cell_type": "code",
   "execution_count": null,
   "metadata": {},
   "outputs": [],
   "source": [
    "# 예외 되돌아보기\n",
    "# --------------\n",
    "# 연습 문제에서 다음과 같은 parse() 함수를 작성했다.\n",
    "\n",
    "# # fileparse.py\n",
    "# def parse(f, types=None, names=None, delimiter=None):\n",
    "#     records = []\n",
    "#     for line in f:\n",
    "#         line = line.strip()\n",
    "#         if not line: continue\n",
    "#         try:\n",
    "#             records.append(split(line,types,names,delimiter))\n",
    "#         except ValueError as e:\n",
    "#             print(\"Couldn't parse :\", line)\n",
    "#             print(\"Reason :\", e)\n",
    "#     return records\n",
    "# try-except 문에 집중하자. except 블록에서 무슨 일을 해야 할까?\n",
    "\n",
    "# 경고 메시지를 출력해야 하나?\n",
    "\n",
    "# try:\n",
    "#     records.append(split(line,types,names,delimiter))\n",
    "# except ValueError as e:\n",
    "#     print(\"Couldn't parse :\", line)\n",
    "#     print(\"Reason :\", e)\n",
    "# 아니면 조용히 무시해야 하나?\n",
    "\n",
    "# try:\n",
    "#     records.append(split(line,types,names,delimiter))\n",
    "# except ValueError as e:\n",
    "#     pass\n",
    "\n",
    "# 두 가지 행위를 모두 원할 수 있으므로(사용자가 선택) 어느 해결책도 만족스럽지 않을 것이다."
   ]
  },
  {
   "cell_type": "code",
   "execution_count": null,
   "metadata": {},
   "outputs": [],
   "source": [
    "# fileparse1.py\n",
    "\n",
    "def parse(f, types=None, names=None, delimiter=None):\n",
    "    records = []\n",
    "    for line in f:\n",
    "        line = line.strip()\n",
    "        if not line: continue\n",
    "        try:\n",
    "            records.append(split(line, types, names, delimiter))\n",
    "        except ValueError as e:\n",
    "            print(\"couldn't parse :\", line)\n",
    "            print(\"Reason :\" e)\n",
    "        # except ValueError as e:\n",
    "        #     pass\n",
    "    return records\n",
    "            "
   ]
  },
  {
   "attachments": {},
   "cell_type": "markdown",
   "metadata": {},
   "source": [
    "## logging 모듈 사용하기"
   ]
  },
  {
   "cell_type": "code",
   "execution_count": null,
   "metadata": {},
   "outputs": [],
   "source": [
    "# logging 모듈 사용하기\n",
    "# --------------------\n",
    "# logging 모듈을 사용해 해결할 수 있다.\n",
    "\n",
    "# # fileparse.py\n",
    "# import logging\n",
    "# log = logging.getLogger(__name__)\n",
    "\n",
    "# def parse(f,types=None,names=None,delimiter=None):\n",
    "#     ...\n",
    "#     try:\n",
    "#         records.append(split(line,types,names,delimiter))\n",
    "#     except ValueError as e:\n",
    "#         log.warning(\"Couldn't parse : %s\", line)\n",
    "#         log.debug(\"Reason : %s\", e)\n",
    "\n",
    "# 경고 메시지 또는 특수한 Logger 객체를 발행하도록 코드를 수정한다. logging.getLogger(__name__)으로 생성한 것이다."
   ]
  },
  {
   "cell_type": "code",
   "execution_count": null,
   "metadata": {},
   "outputs": [],
   "source": [
    "# fileparse1.py\n",
    "\n",
    "import logging\n",
    "log = logging.getLogger(__name__)\n",
    "\n",
    "def parse(f, types=None, names=None, delimiter=None):\n",
    "    records = []\n",
    "    for line in f:\n",
    "        line = line.strip()\n",
    "        if not line: continue\n",
    "        try:\n",
    "            records.append(split(line, types, names, delimiter))\n",
    "        except ValueError as e:\n",
    "            log.warning(\"Couldn't parse : %s\", line)\n",
    "            log.debug(\"Reason : %s\", e)\n",
    "    return records"
   ]
  },
  {
   "attachments": {},
   "cell_type": "markdown",
   "metadata": {},
   "source": [
    "## 로깅 기초"
   ]
  },
  {
   "cell_type": "code",
   "execution_count": null,
   "metadata": {},
   "outputs": [],
   "source": [
    "# 로깅 기초\n",
    "# --------\n",
    "# 로거 객체를 생성한다.\n",
    "\n",
    "# log = logging.getLogger(name)   # name은 문자열이다\n",
    "\n",
    "# 로그 메시지를 발행한다.\n",
    "\n",
    "# log.critical(message [, args])\n",
    "# log.error(message [, args])\n",
    "# log.warning(message [, args])\n",
    "# log.info(message [, args])\n",
    "# log.debug(message [, args])\n",
    "\n",
    "# 각 메시지는 심각도(severity) 수준이 각기 다르다.\n",
    "\n",
    "# 이것들은 모두 포매팅된 로그 메시지를 생성한다. 메시지를 생성하기 위해 args를 % 연산자와 함께 사용한다.\n",
    "\n",
    "# logmsg = message % args # 로그에 기록됨"
   ]
  },
  {
   "attachments": {},
   "cell_type": "markdown",
   "metadata": {},
   "source": [
    "## 로깅 설정"
   ]
  },
  {
   "cell_type": "code",
   "execution_count": null,
   "metadata": {},
   "outputs": [],
   "source": [
    "# 로깅 설정\n",
    "# --------\n",
    "# 로깅 작동을 각각 설정할 수 있다.\n",
    "\n",
    "# # main.py\n",
    "\n",
    "# ...\n",
    "\n",
    "# if __name__ == '__main__':\n",
    "#     import logging\n",
    "#     logging.basicConfig(\n",
    "#         filename  = 'app.log',      # Log output file\n",
    "#         level     = logging.INFO,   # Output level\n",
    "#     )\n",
    "# 일반적으로, 프로그램이 시작할 때 한 번만 설정한다. 설정은 logging을 호출하는 코드와 분리된다."
   ]
  },
  {
   "attachments": {},
   "cell_type": "markdown",
   "metadata": {},
   "source": [
    "## 부연 설명"
   ]
  },
  {
   "cell_type": "code",
   "execution_count": null,
   "metadata": {},
   "outputs": [],
   "source": [
    "# 부연 설명\n",
    "# --------\n",
    "# 로깅은 설정할 수 있는 폭이 넓다. 출력 파일, 수준, 메시지 포맷 등 모든 것을 설정할 수 있다. \n",
    "# 그렇지만, logging을 사용하는 코드는 그런 것에 신경쓰지 않아도 된다."
   ]
  },
  {
   "attachments": {},
   "cell_type": "markdown",
   "metadata": {},
   "source": [
    "## 연습 문제"
   ]
  },
  {
   "attachments": {},
   "cell_type": "markdown",
   "metadata": {},
   "source": [
    "### 연습 문제 8.2: 모듈에 logging 추가하기"
   ]
  },
  {
   "cell_type": "code",
   "execution_count": null,
   "metadata": {},
   "outputs": [],
   "source": [
    "# 연습 문제 8.2: 모듈에 logging 추가하기\n",
    "# ------------------------------------\n",
    "# fileparse.py에는 잘못된 입력에 의해 발생하는 예외와 관련해 몇 가지 오류 처리가 있다. 다음과 같다.\n",
    "\n",
    "# # fileparse.py\n",
    "# import csv\n",
    "\n",
    "# def parse_csv(lines, select=None, types=None, has_headers=True, delimiter=',', silence_errors=False):\n",
    "#     '''\n",
    "#     CSV 파일을 파싱 및 형변환하여 레코드의 리스트를 생성.\n",
    "#     '''\n",
    "#     if select and not has_headers:\n",
    "#         raise RuntimeError('select requires column headers')\n",
    "\n",
    "#     rows = csv.reader(lines, delimiter=delimiter)\n",
    "\n",
    "#     # 파일 헤더가 있으면 읽음\n",
    "#     headers = next(rows) if has_headers else []\n",
    "\n",
    "#     # 특정 컬럼을 선택한 경우, 필터링을 위한 인덱스를 만들고 출력 컬럼을 설정\n",
    "#     if select:\n",
    "#         indices = [ headers.index(colname) for colname in select ]\n",
    "#         headers = select\n",
    "\n",
    "#     records = []\n",
    "#     for rowno, row in enumerate(rows, 1):\n",
    "#         if not row:     # 데이터가 없는 행을 건너뜀\n",
    "#             continue\n",
    "\n",
    "#         # 특정 컬럼 인덱스가 선택되었으면 그것을 고름\n",
    "#         if select:\n",
    "#             row = [ row[index] for index in indices]\n",
    "\n",
    "#         # 행에 형변환을 적용\n",
    "#         if types:\n",
    "#             try:\n",
    "#                 row = [func(val) for func, val in zip(types, row)]\n",
    "#             except ValueError as e:\n",
    "#                 if not silence_errors:\n",
    "#                     print(f\"Row {rowno}: Couldn't convert {row}\")\n",
    "#                     print(f\"Row {rowno}: Reason {e}\")\n",
    "#                 continue\n",
    "\n",
    "#         # 튜플의 딕셔너리를 만듦\n",
    "#         if headers:\n",
    "#             record = dict(zip(headers, row))\n",
    "#         else:\n",
    "#             record = tuple(row)\n",
    "#         records.append(record)\n",
    "\n",
    "#     return records\n",
    "# 진단 메시지를 발행하는 print 문에 유의하라. 이 print를 logging 오퍼레이션으로 교체하는 것은 간단한 편이다. 코드를 다음과 같이 바꾸자.\n",
    "\n",
    "# # fileparse.py\n",
    "# import csv\n",
    "# import logging\n",
    "# log = logging.getLogger(__name__)\n",
    "\n",
    "# def parse_csv(lines, select=None, types=None, has_headers=True, delimiter=',', silence_errors=False):\n",
    "#     '''\n",
    "#     CSV 파일을 파싱 및 형변환하여 레코드의 리스트를 생성.\n",
    "#     '''\n",
    "#     if select and not has_headers:\n",
    "#         raise RuntimeError('select requires column headers')\n",
    "\n",
    "#     rows = csv.reader(lines, delimiter=delimiter)\n",
    "\n",
    "#     # 파일 헤더가 있으면 읽음\n",
    "#     headers = next(rows) if has_headers else []\n",
    "\n",
    "#     # 특정 컬럼을 선택한 경우, 필터링을 위한 인덱스를 만들고 출력 컬럼을 설정\n",
    "#     if select:\n",
    "#         indices = [ headers.index(colname) for colname in select ]\n",
    "#         headers = select\n",
    "\n",
    "#     records = []\n",
    "#     for rowno, row in enumerate(rows, 1):\n",
    "#         if not row:     # 데이터가 없는 행을 건너뜀\n",
    "#             continue\n",
    "\n",
    "#         # 특정 컬럼 인덱스가 선택되었으면 그것을 고름\n",
    "#         if select:\n",
    "#             row = [ row[index] for index in indices]\n",
    "\n",
    "#         # 행에 형변환을 적용\n",
    "#         if types:\n",
    "#             try:\n",
    "#                 row = [func(val) for func, val in zip(types, row)]\n",
    "#             except ValueError as e:\n",
    "#                 if not silence_errors:\n",
    "#                     log.warning(\"Row %d: Couldn't convert %s\", rowno, row)\n",
    "#                     log.debug(\"Row %d: Reason %s\", rowno, e)\n",
    "#                 continue\n",
    "\n",
    "#         # 튜플의 딕셔너리를 만듦\n",
    "#         if headers:\n",
    "#             record = dict(zip(headers, row))\n",
    "#         else:\n",
    "#             record = tuple(row)\n",
    "#         records.append(record)\n",
    "\n",
    "#     return records\n",
    "# 이렇게 변경했으므로, 잘못된 데이터를 입력해보자.\n",
    "\n",
    "# >>> import report\n",
    "# >>> a = report.read_portfolio('Data/missing.csv')\n",
    "# Row 4: Bad row: ['MSFT', '', '51.23']\n",
    "# Row 7: Bad row: ['IBM', '', '70.44']\n",
    "# >>>\n",
    "# 기본값으로는 경고(WARNING) 수준 이상의 로깅 메시지만 출력된다. 출력은 단순한 print 문처럼 보인다. \n",
    "# 그렇지만 logging 모듈을 설정하는 경우 로깅 수준, 모듈 등의 추가적인 정보가 제공된다. \n",
    "# 다음과 같이 타이핑하여 확인해보자.\n",
    "\n",
    "# >>> import logging\n",
    "# >>> logging.basicConfig()\n",
    "# >>> a = report.read_portfolio('Data/missing.csv')\n",
    "# WARNING:fileparse:Row 4: Bad row: ['MSFT', '', '51.23']\n",
    "# WARNING:fileparse:Row 7: Bad row: ['IBM', '', '70.44']\n",
    "# >>>\n",
    "# log.debug()의 출력은 나타나지 않는다. 디버그(DEBUG) 메시지도 나타나도록 수준을 변경해보자.\n",
    "\n",
    "# >>> logging.getLogger('fileparse').level = logging.DEBUG\n",
    "# >>> a = report.read_portfolio('Data/missing.csv')\n",
    "# WARNING:fileparse:Row 4: Bad row: ['MSFT', '', '51.23']\n",
    "# DEBUG:fileparse:Row 4: Reason: invalid literal for int() with base 10: ''\n",
    "# WARNING:fileparse:Row 7: Bad row: ['IBM', '', '70.44']\n",
    "# DEBUG:fileparse:Row 7: Reason: invalid literal for int() with base 10: ''\n",
    "# >>>\n",
    "# 심각(CRITICAL) 메시지만 나타나게 해 보자.\n",
    "\n",
    "# >>> logging.getLogger('fileparse').level=logging.CRITICAL\n",
    "# >>> a = report.read_portfolio('Data/missing.csv')\n",
    "# >>>"
   ]
  },
  {
   "cell_type": "code",
   "execution_count": 1,
   "metadata": {},
   "outputs": [],
   "source": [
    "import sys\n",
    "sys.path.append('../../test_bed')"
   ]
  },
  {
   "cell_type": "code",
   "execution_count": 3,
   "metadata": {},
   "outputs": [
    {
     "name": "stderr",
     "output_type": "stream",
     "text": [
      "WARNING:fileparse:Row 4: Couldn't convert ['MSFT', '', '51.23']\n",
      "DEBUG:fileparse:Row 4: Reason invalid literal for int() with base 10: ''\n",
      "WARNING:fileparse:Row 7: Couldn't convert ['IBM', '', '70.44']\n",
      "DEBUG:fileparse:Row 7: Reason invalid literal for int() with base 10: ''\n"
     ]
    }
   ],
   "source": [
    "import report\n",
    "import logging \n",
    "logging.basicConfig()\n",
    "logging.getLogger('fileparse').level = logging.DEBUG\n",
    "#logging.getLogger('fileparse').level = logging.CRITICAL\n",
    "\n",
    "a = report.read_portfolio('../../data/missing.csv')"
   ]
  },
  {
   "attachments": {},
   "cell_type": "markdown",
   "metadata": {},
   "source": [
    "### 연습 문제 8.3: 프로그램에 로깅을 추가하기"
   ]
  },
  {
   "cell_type": "code",
   "execution_count": null,
   "metadata": {},
   "outputs": [],
   "source": [
    "# 연습 문제 8.3: 프로그램에 로깅을 추가하기\n",
    "# --------------------------------------\n",
    "# 애플리케이션에 로깅을 추가하려면 메인 모듈에서 로깅 모듈을 초기화하는 메커니즘이 필요하다. \n",
    "# 다음과 같은 셋업 코드를 포함하는 방식으로 할 수 있다.\n",
    "\n",
    "# # 이 파일은 logging 모듈의 기본 구성을 설정한다.\n",
    "# # 이 설정을 변경함으로써 로깅 출력을 원하는 대로 조정할 수 있다.\n",
    "# import logging\n",
    "# logging.basicConfig(\n",
    "#     filename = 'app.log',            # 로그 파일의 이름(생략하면 stderr을 사용)\n",
    "#     filemode = 'w',                  # 파일 모드('a': 추가)\n",
    "#     # 로깅 수준(DEBUG, INFO, WARNING, ERROR, CRITICAL)\n",
    "#     # DEBUG 설정    - 출력 : DEBUG, INFO, WARNING, ERROR, CRITICAL\n",
    "#     # WARNING 설정  - 출력 : WARNING, ERROR, CRITICAL\n",
    "#     # CRITICAL 설정 - 출력 : CRITICAL\n",
    "#     level    = logging.WARNING,\n",
    "# )\n",
    "# 당신의 프로그램의 시작 단계에 이것을 두어야 한다. 예를 들어, report.py 프로그램의 어디에 두어야 할까?"
   ]
  },
  {
   "cell_type": "code",
   "execution_count": 1,
   "metadata": {},
   "outputs": [],
   "source": [
    "import sys\n",
    "sys.path.append('../../test_bed')"
   ]
  },
  {
   "cell_type": "code",
   "execution_count": 2,
   "metadata": {},
   "outputs": [],
   "source": [
    "import report\n",
    "#import logging \n",
    "#logging.basicConfig()\n",
    "#logging.getLogger('fileparse').level = logging.DEBUG\n",
    "#logging.getLogger('fileparse').level = logging.CRITICAL\n",
    "\n",
    "a = report.read_portfolio('../../data/missing.csv')"
   ]
  },
  {
   "cell_type": "code",
   "execution_count": null,
   "metadata": {},
   "outputs": [],
   "source": [
    "# 8.3 디버깅"
   ]
  },
  {
   "cell_type": "code",
   "execution_count": null,
   "metadata": {},
   "outputs": [],
   "source": [
    "# 프로그램이 충돌했다...\n",
    "# ---------------------\n",
    "\n",
    "# bash % python3 blah.py\n",
    "# Traceback (most recent call last):\n",
    "#   File \"blah.py\", line 13, in ?\n",
    "#     foo()\n",
    "#   File \"blah.py\", line 10, in foo\n",
    "#     bar()\n",
    "#   File \"blah.py\", line 7, in bar\n",
    "#     spam()\n",
    "#   File \"blah.py\", 4, in spam\n",
    "#     line x.append(3)\n",
    "# AttributeError: 'int' object has no attribute 'append'\n",
    "\n",
    "# 어떡하지?!"
   ]
  },
  {
   "attachments": {},
   "cell_type": "markdown",
   "metadata": {},
   "source": [
    "## 트레이스백 읽기"
   ]
  },
  {
   "cell_type": "code",
   "execution_count": null,
   "metadata": {},
   "outputs": [],
   "source": [
    "# 트레이스백 읽기\n",
    "# --------------\n",
    "# 마지막 행이 문제를 일으킨 주범이다.\n",
    "\n",
    "# bash % python3 blah.py\n",
    "# Traceback (most recent call last):\n",
    "#   File \"blah.py\", line 13, in ?\n",
    "#     foo()\n",
    "#   File \"blah.py\", line 10, in foo\n",
    "#     bar()\n",
    "#   File \"blah.py\", line 7, in bar\n",
    "#     spam()\n",
    "#   File \"blah.py\", 4, in spam\n",
    "#     line x.append(3)\n",
    "# # 충돌 원인\n",
    "# AttributeError: 'int' object has no attribute 'append'\n",
    "\n",
    "# 그렇지만 읽고 이해하기가 쉽지만은 않다.\n",
    "\n",
    "# 전문가의 조언: 트레이스백 전체를 구글에 붙여넣어 검색하라."
   ]
  },
  {
   "attachments": {},
   "cell_type": "markdown",
   "metadata": {},
   "source": [
    "## REPL 사용하기"
   ]
  },
  {
   "cell_type": "code",
   "execution_count": null,
   "metadata": {},
   "outputs": [],
   "source": [
    "# REPL 사용하기\n",
    "# ------------\n",
    "# -i 옵션을 사용해 스크립트를 사용할 때 파이썬이 살아있도록 한다.\n",
    "\n",
    "# bash % python3 -i blah.py\n",
    "# Traceback (most recent call last):\n",
    "#   File \"blah.py\", line 13, in ?\n",
    "#     foo()\n",
    "#   File \"blah.py\", line 10, in foo\n",
    "#     bar()\n",
    "#   File \"blah.py\", line 7, in bar\n",
    "#     spam()\n",
    "#   File \"blah.py\", 4, in spam\n",
    "#     line x.append(3)\n",
    "# AttributeError: 'int' object has no attribute 'append'\n",
    "# >>>\n",
    "\n",
    "# 이것은 인터프리터 상태를 유지한다. 충돌 이후에 여기저기 찔러볼 수 있다. 변숫값과 기타 상태를 확인한다."
   ]
  },
  {
   "attachments": {},
   "cell_type": "markdown",
   "metadata": {},
   "source": [
    "## 프린트를 사용한 디버깅"
   ]
  },
  {
   "cell_type": "code",
   "execution_count": null,
   "metadata": {},
   "outputs": [],
   "source": [
    "# 프린트를 사용한 디버깅\n",
    "# --------------------\n",
    "# print() 디버깅은 꽤 일반적이다.\n",
    "\n",
    "# 조언: repr()을 사용하라.\n",
    "\n",
    "# def spam(x):\n",
    "#     print('DEBUG:', repr(x))\n",
    "#     ...\n",
    "# repr()은 값의 정확한 표현(representation)을 나타낸다. 출력을 예쁘게 프린트하는 것과는 다르다.\n",
    "\n",
    "# >>> from decimal import Decimal\n",
    "# >>> x = Decimal('3.4')\n",
    "# # `repr` 없이\n",
    "# >>> print(x)\n",
    "# 3.4\n",
    "# # `repr` 사용\n",
    "# >>> print(repr(x))\n",
    "# Decimal('3.4')\n",
    "# >>>"
   ]
  },
  {
   "cell_type": "code",
   "execution_count": 4,
   "metadata": {},
   "outputs": [
    {
     "name": "stdout",
     "output_type": "stream",
     "text": [
      "3.4\n",
      "Decimal('3.4')\n"
     ]
    }
   ],
   "source": [
    "from decimal import Decimal\n",
    "x = Decimal('3.4')\n",
    "print(x)\n",
    "print(repr(x))"
   ]
  },
  {
   "attachments": {},
   "cell_type": "markdown",
   "metadata": {},
   "source": [
    "## 파이썬 디버거"
   ]
  },
  {
   "cell_type": "code",
   "execution_count": null,
   "metadata": {},
   "outputs": [],
   "source": [
    "# 파이썬 디버거\n",
    "# ------------\n",
    "# 이 프로그램에서 디버거를 수작업으로 실행할 수 있다.\n",
    "\n",
    "# def some_function():\n",
    "#     ...\n",
    "#     breakpoint()      # 디버거 진입(파이썬 3.7 이상)\n",
    "#     ...\n",
    "# 이것은 breakpoint() 호출에서 디버거를 시작한다.\n",
    "\n",
    "# 이전 버전에서는 방법이 약간 다르다. 다른 디버깅 안내서에서 다음과 같이 설명하는 것을 볼 수 있을 것이다.\n",
    "\n",
    "# import pdb\n",
    "# ...\n",
    "# pdb.set_trace()       # `breakpoint()` 대신 이것을 사용하라\n",
    "# ..."
   ]
  },
  {
   "attachments": {},
   "cell_type": "markdown",
   "metadata": {},
   "source": [
    "## 디버거에서 실행하기"
   ]
  },
  {
   "cell_type": "code",
   "execution_count": null,
   "metadata": {},
   "outputs": [],
   "source": [
    "# 디버거에서 실행하기\n",
    "# ------------------\n",
    "# 전체 프로그램을 디버거에서 실행할 수도 있다.\n",
    "\n",
    "# bash % python3 -m pdb someprogram.py\n",
    "# 이렇게 하면 첫 번째 문장 이전에 디버거에 자동으로 진입한다. 중단점(breakpoint)을 설정하고 구성을 바꿔볼 수 있다.\n",
    "\n",
    "# 일반적인 디버거 명령:\n",
    "\n",
    "# (Pdb) help            # 도움말\n",
    "# (Pdb) w(here)         # 스택 트레이스(stack trace)를 프린트\n",
    "# (Pdb) d(own)          # 한 스택 수준 아래로 이동\n",
    "# (Pdb) u(p)            # 한 스택 수준 위로 이동\n",
    "# (Pdb) b(reak) loc     # 중단점 설정\n",
    "# (Pdb) s(tep)          # 한 인스트럭션(instruction)을 실행\n",
    "# (Pdb) c(ontinue)      # 계속 실행\n",
    "# (Pdb) l(ist)          # 소스 코드 보기\n",
    "# (Pdb) a(rgs)          # 현재 함수의 인자를 프린트\n",
    "# (Pdb) !statement      # 문장(statement)을 실행\n",
    "\n",
    "# 중단점 위치는 다음 중 하나다.\n",
    "\n",
    "# (Pdb) b 45            # 현재 파일의 45행\n",
    "# (Pdb) b file.py:34    # file.py의 34행\n",
    "# (Pdb) b foo           # 현재 파일의 foo() 함수\n",
    "# (Pdb) b module.foo    # module의 foo()"
   ]
  }
 ],
 "metadata": {
  "kernelspec": {
   "display_name": "base",
   "language": "python",
   "name": "python3"
  },
  "language_info": {
   "codemirror_mode": {
    "name": "ipython",
    "version": 3
   },
   "file_extension": ".py",
   "mimetype": "text/x-python",
   "name": "python",
   "nbconvert_exporter": "python",
   "pygments_lexer": "ipython3",
   "version": "3.9.7"
  },
  "orig_nbformat": 4,
  "vscode": {
   "interpreter": {
    "hash": "263930470851f494f0ed2879c35b57985588df20f9e529b86e97dd5eb9ddc466"
   }
  }
 },
 "nbformat": 4,
 "nbformat_minor": 2
}
