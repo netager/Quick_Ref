{
 "cells": [
  {
   "cell_type": "code",
   "execution_count": null,
   "metadata": {},
   "outputs": [],
   "source": [
    "# 지금까지 파이썬 기초를 배웠으며 짧은 스크립트를 작성했다. \n",
    "# 하지만 더 큰 프로그램을 작성하려면 조직화할 필요가 있다. \n",
    "# 이 섹션은 함수를 작성하고 오류를 처리하는 방법을 자세히 다루며 모듈을 소개한다. \n",
    "# 끝에 가서는 여러 파일에 걸쳐 함수로 분할된 프로그램을 작성할 수 있다. \n",
    "# 스크립트를 작성하는 데 유용한 코드 템플릿도 제공한다."
   ]
  },
  {
   "cell_type": "markdown",
   "metadata": {},
   "source": [
    "# 3.1 스크립팅"
   ]
  },
  {
   "attachments": {},
   "cell_type": "markdown",
   "metadata": {},
   "source": [
    "## 스크립트(Script)란?"
   ]
  },
  {
   "cell_type": "code",
   "execution_count": null,
   "metadata": {},
   "outputs": [],
   "source": [
    "# 스크립트는 여러 문장을 실행한 다음 멈추는 프로그램이다.\n",
    "\n",
    "# # program.py\n",
    "\n",
    "# 문장1\n",
    "# 문장2\n",
    "# 문장3\n",
    "# ...\n",
    "\n",
    "# 위의 프로그램은 스크립트에 가깝다고 할 수 있다."
   ]
  },
  {
   "cell_type": "markdown",
   "metadata": {},
   "source": [
    "## 문제점"
   ]
  },
  {
   "cell_type": "code",
   "execution_count": null,
   "metadata": {},
   "outputs": [],
   "source": [
    "# 문제점\n",
    "# -----\n",
    "# 유용한 스크립트를 작성해 사용하다 보면 기능이 점차 늘어난다. \n",
    "# 관련된 다른 문제에도 적용하고 싶을 수 있다. 시간이 흐름에 따라, 스크립트는 점점 더 중요한 \n",
    "# 애플리케이션이 되어 버릴 수도 있다. \n",
    "# 이제 주의를 기울이지 않으면 큰 문제가 일어날 수 있다. 그러므로 체계를 세워야 한다."
   ]
  },
  {
   "cell_type": "markdown",
   "metadata": {},
   "source": [
    "## 정의하기"
   ]
  },
  {
   "cell_type": "code",
   "execution_count": null,
   "metadata": {},
   "outputs": [],
   "source": [
    "# 나중에 재사용하려면 이름을 붙여둬야 한다.\n",
    "\n",
    "# def square(x):\n",
    "#     return x*x\n",
    "\n",
    "# a = 42\n",
    "# b = a + 2     # `a`가 정의돼 있어야 함\n",
    "\n",
    "# z = square(b) # `square`와 `b`가 정의돼 있어야 함\n",
    "\n",
    "# 순서가 중요하다. 변수와 함수의 정의를 항상 위쪽에 둬야 한다."
   ]
  },
  {
   "cell_type": "markdown",
   "metadata": {},
   "source": [
    "## 함수 정의하기"
   ]
  },
  {
   "cell_type": "code",
   "execution_count": null,
   "metadata": {},
   "outputs": [],
   "source": [
    "# 단일 작업에 관련된 코드를 한 곳에 모아두는 것이 현명하다. 함수 사용하기.\n",
    "\n",
    "# def read_prices(filename):\n",
    "#     prices = {}\n",
    "#     with open(filename) as f:\n",
    "#         f_csv = csv.reader(f)\n",
    "#         for row in f_csv:\n",
    "#             prices[row[0]] = float(row[1])\n",
    "#     return prices\n",
    "\n",
    "# 함수는 반복적인 연산을 단순화하기도 한다.\n",
    "\n",
    "# oldprices = read_prices('oldprices.csv')\n",
    "# newprices = read_prices('newprices.csv')"
   ]
  },
  {
   "cell_type": "markdown",
   "metadata": {},
   "source": [
    "## 함수란 무엇인가?"
   ]
  },
  {
   "cell_type": "code",
   "execution_count": null,
   "metadata": {},
   "outputs": [],
   "source": [
    "# 함수는 문장의 시퀀스에 이름을 붙인 것이다.\n",
    "\n",
    "# def funcname(args):\n",
    "#   문장\n",
    "#   문장\n",
    "#   ...\n",
    "#   return 결과\n",
    "\n",
    "# 함수 내에 모든 파이썬 문장을 사용할 수 있다.\n",
    "\n",
    "# def foo():\n",
    "#     import math\n",
    "#     print(math.sqrt(2))\n",
    "#     help(math)\n",
    "\n",
    "# 파이썬에는 특수한 문장이 없다(그러므로 기억하기 쉽다)."
   ]
  },
  {
   "cell_type": "markdown",
   "metadata": {},
   "source": [
    "## 함수 정의"
   ]
  },
  {
   "cell_type": "code",
   "execution_count": null,
   "metadata": {},
   "outputs": [],
   "source": [
    "# 함수는 어떠한 순서로든 정의할 수 있다.\n",
    "\n",
    "# def foo(x):\n",
    "#     bar(x)\n",
    "\n",
    "# def bar(x):\n",
    "#     문장\n",
    "\n",
    "# # 또는\n",
    "# def bar(x):\n",
    "#     문장\n",
    "\n",
    "# def foo(x):\n",
    "#     bar(x)\n",
    "\n",
    "# 함수는 반드시 프로그램 실행 중 사용(호출)하기 전에 정의되어 있어야 한다.\n",
    "\n",
    "# foo(3)        # foo가 정의돼 있어야 한다\n",
    "\n",
    "# 함수는 상향식(bottom-up)으로 작성하는 것이 일반적이다."
   ]
  },
  {
   "cell_type": "markdown",
   "metadata": {},
   "source": [
    "## 상향식"
   ]
  },
  {
   "cell_type": "code",
   "execution_count": null,
   "metadata": {},
   "outputs": [],
   "source": [
    "# 함수는 빌딩 블록과 같이 다뤄진다. 작고 단순한 블록부터 먼저 만든다.\n",
    "\n",
    "# myprogram.py\n",
    "# def foo(x):\n",
    "#     ...\n",
    "\n",
    "# def bar(x):\n",
    "#     ...\n",
    "#     foo(x)          # 위에 정의됨\n",
    "#     ...\n",
    "\n",
    "# def spam(x):\n",
    "#     ...\n",
    "#     bar(x)          # 아래에 정의됨\n",
    "#     ...\n",
    "\n",
    "# spam(42)            # 함수를 사용하는 코드가 끝에 나타남\n",
    "\n",
    "# 나중에 나오는 함수는 앞에 나온 함수를 바탕으로 한다. \n",
    "# 다시 말하지만, 이것은 스타일일 뿐이다. \n",
    "# 위 프로그램에서 중요한 것은 spam(42) 호출을 마지막에 해야 한다는 것 뿐이다."
   ]
  },
  {
   "cell_type": "markdown",
   "metadata": {},
   "source": [
    "## 함수 설계"
   ]
  },
  {
   "cell_type": "code",
   "execution_count": null,
   "metadata": {},
   "outputs": [],
   "source": [
    "# 함수는 블랙 박스(black box)로 간주하는 것이 이상적이다. \n",
    "# 전달된 입력만 가지고 연산을 하며 글로벌 변수의 사용이나 신비한 부작용을 배제해야 한다. \n",
    "# 모듈화(Modularity)와 예측가능성(Predictability)을 목표로 하라.\n",
    "\n",
    "\n",
    "# 문서 문자열(Doc Strings)\n",
    "# -----------------------\n",
    "# 문서를 doc-string 형태로 코드에 포함하는 것이 좋다. \n",
    "# doc-strings은 함수 이름 바로 뒤에 직접 쓴 문자열이다. help(), IDE 및 기타 도구에서 인식한다.\n",
    "\n",
    "# def read_prices(filename):\n",
    "#     '''\n",
    "#     CSV 파일에서 이름과 가격 데이터를 읽음\n",
    "#     '''\n",
    "#     prices = {}\n",
    "#     with open(filename) as f:\n",
    "#         f_csv = csv.reader(f)\n",
    "#         for row in f_csv:\n",
    "#             prices[row[0]] = float(row[1])\n",
    "#     return prices\n",
    "\n",
    "# 문서 문자열을 작성할 때는 함수가 무슨 일을 하는지를 짧은 문장으로 작성하는 것이 좋다. \n",
    "# 추가 정보가 필요할 때는 짧은 사용 예제와 함게 인자에 대한 자세한 설명을 넣어라."
   ]
  },
  {
   "cell_type": "markdown",
   "metadata": {},
   "source": [
    "## 타입 어노테이션(Type Annotations)"
   ]
  },
  {
   "cell_type": "code",
   "execution_count": null,
   "metadata": {},
   "outputs": [],
   "source": [
    "# 함수 정의에 선택적인 타입 힌트(type hint)를 추가할 수 있다.\n",
    "\n",
    "# def read_prices(filename: str) -> dict:\n",
    "#     '''\n",
    "#     CSV 파일에서 이름과 가격 데이터를 읽음\n",
    "#     '''\n",
    "#     prices = {}\n",
    "#     with open(filename) as f:\n",
    "#         f_csv = csv.reader(f)\n",
    "#         for row in f_csv:\n",
    "#             prices[row[0]] = float(row[1])\n",
    "#     return prices\n",
    "\n",
    "# 힌트는 실제로 연산을 하지는 않는다. 순전히 정보성이다. 하지만, IDE, 코드 검사기, 기타 도구에서 사용된다."
   ]
  },
  {
   "attachments": {},
   "cell_type": "markdown",
   "metadata": {},
   "source": [
    "## 연습 문제"
   ]
  },
  {
   "cell_type": "code",
   "execution_count": 8,
   "metadata": {},
   "outputs": [
    {
     "name": "stdout",
     "output_type": "stream",
     "text": [
      "[{'name': 'AA', 'shares': 100, 'price': 32.2}, {'name': 'IBM', 'shares': 50, 'price': 91.1}, {'name': 'CAT', 'shares': 150, 'price': 83.44}, {'name': 'MSFT', 'shares': 200, 'price': 51.23}, {'name': 'GE', 'shares': 95, 'price': 40.37}, {'name': 'MSFT', 'shares': 50, 'price': 65.1}, {'name': 'IBM', 'shares': 100, 'price': 70.44}]\n",
      "      Name     Shares      Price     Change\n",
      "---------- ---------- ---------- ---------- \n",
      "        AA        100      32.20       None\n",
      "       IBM         50      91.10       None\n",
      "       CAT        150      83.44       None\n",
      "      MSFT        200      51.23       None\n",
      "        GE         95      40.37       None\n",
      "      MSFT         50      65.10       None\n",
      "       IBM        100      70.44       None\n"
     ]
    }
   ],
   "source": [
    "# 섹션 2에서 주식 포트폴리오의 성과를 나타내는 보고서를 프린트하는 report.py 프로그램을 작성했다. \n",
    "# 이 프로그램에는 몇 가지 함수가 있다. 예:\n",
    "\n",
    "# report.py\n",
    "import csv\n",
    "\n",
    "def read_portfolio(filename: str) -> list:\n",
    "    '''\n",
    "    주식 포트폴리오 파일을 읽어 딕셔너리의 리스트를 생성.\n",
    "    name, shares, price를 키로 사용.\n",
    "    '''\n",
    "    portfolio = []\n",
    "    with open(filename) as f:\n",
    "        rows = csv.reader(f)\n",
    "        headers = next(rows)\n",
    "\n",
    "        for row in rows:\n",
    "            record = dict(zip(headers, row))\n",
    "            stock = {\n",
    "                'name' : record['name'],\n",
    "                'shares' : int(record['shares']),\n",
    "                'price' : float(record['price'])\n",
    "            }\n",
    "            portfolio.append(stock)\n",
    "    return portfolio\n",
    "\n",
    "portfolio = read_portfolio('../../data/portfolio.csv') \n",
    "print(portfolio)\n",
    "\n",
    "# 하지만, 스크립트로 된 일련의 계산을 수행하는 프로그램 부분도 있다. 이 코드는 프로그램의 끝 부분 근처에 있다. 예:\n",
    "\n",
    "\n",
    "# 보고서를 출력\n",
    "\n",
    "headers = ('Name', 'Shares', 'Price', 'Change')\n",
    "print('%10s %10s %10s %10s'  % headers)\n",
    "print(('-' * 10 + ' ') * len(headers))\n",
    "for row in portfolio:\n",
    "    print(f\"{row['name']:>10s} {row['shares']:>10d} {row['price']:>10.2f} {'None':>10s}\")\n",
    "    #print('%10s %10d %10.2f %10.2f' % row)\n",
    "\n",
    "# 이 연습 문제에서, 이 프로그램의 함수 사용 부분을 좀 더 강력하게 조직화한다."
   ]
  },
  {
   "attachments": {},
   "cell_type": "markdown",
   "metadata": {},
   "source": [
    "### 연습 문제 3.1: 프로그램을 함수의 컬렉션으로 구조화"
   ]
  },
  {
   "cell_type": "code",
   "execution_count": 97,
   "metadata": {},
   "outputs": [
    {
     "name": "stdout",
     "output_type": "stream",
     "text": [
      "      Name     Shares  Buy_Price  Cur_Price     Change\n",
      "---------- ---------- ---------- ---------- ---------- \n",
      "        AA        100     $32.20      $9.22    -22.98\n",
      "       IBM         50     $91.10    $106.28     15.18\n",
      "       CAT        150     $83.44     $35.46    -47.98\n",
      "      MSFT        200     $51.23     $20.89    -30.34\n",
      "        GE         95     $40.37     $13.48    -26.89\n",
      "      MSFT         50     $65.10     $20.89    -44.21\n",
      "       IBM        100     $70.44    $106.28     35.84\n",
      "---------- ---------- ---------- ---------- ---------- \n",
      "Total Income: -$15,985.05  (-₩20,780,565)\n"
     ]
    }
   ],
   "source": [
    "# 계산과 출력을 포함한 모든 주요 연산을 함수의 컬렉션에 의해 수행하도록 report.py 프로그램을 수정하자. \n",
    "# 특히,\n",
    "# - 보고서를 출력하는 print_report(report) 함수를 작성한다.\n",
    "# - 프로그램의 마지막 부분을 수정해 일련의 함수만 남기고 계산 코드를 없애자.\n",
    "\n",
    "import csv\n",
    "from babel.numbers import format_currency\n",
    "\n",
    "def read_portfolio(filename: str) -> list:\n",
    "    portfolio = []\n",
    "    types = [str, int, float]\n",
    "    with open(filename, 'r') as f:\n",
    "        rows = csv.reader(f)\n",
    "        headers = next(rows)\n",
    "        for row in rows:\n",
    "            record = {name: func(val) for name, func, val in zip(headers, types, row)}\n",
    "            portfolio.append(record)\n",
    "    return portfolio            \n",
    "        \n",
    "\n",
    "def read_prices(filename: str) -> dict:\n",
    "    prices = {}\n",
    "    types = [str, float]\n",
    "    with open(filename, 'r') as f:\n",
    "        rows = csv.reader(f)\n",
    "        for row in rows:\n",
    "            prices[row[0]] = float(row[1])\n",
    "    return prices        \n",
    "        \n",
    "\n",
    "def make_report(portfolio, prices) -> list:\n",
    "    report = []\n",
    "    for stock in portfolio:\n",
    "        record = {}\n",
    "        \n",
    "        record['name'] = stock['name']\n",
    "        record['shares'] = stock['shares']\n",
    "        record['buy_price'] = stock['price']\n",
    "        record['cur_price'] = prices[stock['name']]\n",
    "        record['change'] = record['cur_price'] - record['buy_price']\n",
    "        \n",
    "        report.append(record)\n",
    "    return report\n",
    "        \n",
    "\n",
    "def print_report(report: list) -> None:\n",
    "    headers = ('Name', 'Shares', 'Buy_Price', 'Cur_Price', 'Change')\n",
    "    print('%10s %10s %10s %10s %10s'  % headers)\n",
    "    \n",
    "    print(('-' * 10 + ' ') * len(headers))\n",
    "    for row in report:\n",
    "        print(f\"{row['name']:>10s} {row['shares']:>10d} {format_currency(row['buy_price'], 'USD', locale='en_US'):>10s} {format_currency(row['cur_price'], 'USD', locale='en_US'):>10s}{row['change']:>10.2f}\")\n",
    "    print(('-' * 10 + ' ') * len(headers))\n",
    "\n",
    "if __name__ == '__main__':\n",
    "    portfolio = read_portfolio('../../data/portfolio.csv')\n",
    "    prices = read_prices('../../data/prices.csv')     \n",
    "    report = make_report(portfolio, prices)\n",
    "    \n",
    "    print_report(report)\n",
    "    \n",
    "    total_income = 0\n",
    "    for r in report:\n",
    "        total_income += r['shares']*r['change']\n",
    "    print(f\"Total Income: {format_currency(total_income, 'USD', locale='en_US')}  ({format_currency(total_income * 1300, 'KRW', locale='ko_KR')})\")        \n"
   ]
  },
  {
   "attachments": {},
   "cell_type": "markdown",
   "metadata": {},
   "source": [
    "### 연습 문제 3.2: 프로그램 실행을 위한 최상위 함수를 작성"
   ]
  },
  {
   "cell_type": "code",
   "execution_count": 107,
   "metadata": {},
   "outputs": [
    {
     "name": "stdout",
     "output_type": "stream",
     "text": [
      "         ../../data/portfolio.csv          \n",
      "      Name     Shares  Buy_Price  Cur_Price     Change\n",
      "---------- ---------- ---------- ---------- ---------- \n",
      "        AA        100     $32.20      $9.22    -22.98\n",
      "       IBM         50     $91.10    $106.28     15.18\n",
      "       CAT        150     $83.44     $35.46    -47.98\n",
      "      MSFT        200     $51.23     $20.89    -30.34\n",
      "        GE         95     $40.37     $13.48    -26.89\n",
      "      MSFT         50     $65.10     $20.89    -44.21\n",
      "       IBM        100     $70.44    $106.28     35.84\n",
      "---------- ---------- ---------- ---------- ---------- \n",
      "Total Income: -$15,985.05  (-₩20,780,565)\n",
      "\n",
      "         ../../data/portfolio2.csv         \n",
      "      Name     Shares  Buy_Price  Cur_Price     Change\n",
      "---------- ---------- ---------- ---------- ---------- \n",
      "        AA         50     $27.10      $9.22    -17.88\n",
      "       HPQ        250     $43.15     $34.35     -8.80\n",
      "      MSFT         25     $50.15     $20.89    -29.26\n",
      "        GE        125     $52.10     $13.48    -38.62\n",
      "---------- ---------- ---------- ---------- ---------- \n",
      "Total Income: -$8,653.00  (-₩11,248,900)\n",
      "\n"
     ]
    }
   ],
   "source": [
    "# 프로그램의 마지막 부분을 가지고 단일 함수 portfolio_report(portfolio_filename, prices_filename)로 패키징하라. \n",
    "# 그 함수에서 다음과 같이 호출해, 이전과 똑같은 보고서를 생성하자.\n",
    "import csv\n",
    "from babel.numbers import format_currency\n",
    "\n",
    "def read_portfolio(filename: str) -> list:\n",
    "    portfolio = []\n",
    "    types = [str, int, float]\n",
    "    with open(filename, 'r') as f:\n",
    "        rows = csv.reader(f)\n",
    "        headers = next(rows)\n",
    "        for row in rows:\n",
    "            record = {name: func(val) for name, func, val in zip(headers, types, row)}\n",
    "            portfolio.append(record)\n",
    "    return portfolio            \n",
    "        \n",
    "\n",
    "def read_prices(filename: str) -> dict:\n",
    "    prices = {}\n",
    "    types = [str, float]\n",
    "    with open(filename, 'r') as f:\n",
    "        rows = csv.reader(f)\n",
    "        for row in rows:\n",
    "            prices[row[0]] = float(row[1])\n",
    "    return prices        \n",
    "        \n",
    "\n",
    "def make_report(portfolio, prices) -> list:\n",
    "    report = []\n",
    "    for stock in portfolio:\n",
    "        record = {}\n",
    "        \n",
    "        record['name'] = stock['name']\n",
    "        record['shares'] = stock['shares']\n",
    "        record['buy_price'] = stock['price']\n",
    "        record['cur_price'] = prices[stock['name']]\n",
    "        record['change'] = record['cur_price'] - record['buy_price']\n",
    "        \n",
    "        report.append(record)\n",
    "    return report\n",
    "        \n",
    "\n",
    "def print_report(report: list) -> None:\n",
    "    headers = ('Name', 'Shares', 'Buy_Price', 'Cur_Price', 'Change')\n",
    "    print('%10s %10s %10s %10s %10s'  % headers)\n",
    "    \n",
    "    print(('-' * 10 + ' ') * len(headers))\n",
    "    for row in report:\n",
    "        print(f\"{row['name']:>10s} {row['shares']:>10d} {format_currency(row['buy_price'], 'USD', locale='en_US'):>10s} {format_currency(row['cur_price'], 'USD', locale='en_US'):>10s}{row['change']:>10.2f}\")\n",
    "    print(('-' * 10 + ' ') * len(headers))\n",
    "\n",
    "\n",
    "def portfolio_report(portfolio_filename, prices_filename):\n",
    "    portfolio = read_portfolio(portfolio_filename)\n",
    "    prices = read_prices(prices_filename)     \n",
    "    report = make_report(portfolio, prices)\n",
    "    \n",
    "    print_report(report)\n",
    "    \n",
    "    total_income = 0\n",
    "    for r in report:\n",
    "        total_income += r['shares']*r['change']\n",
    "    print(f\"Total Income: {format_currency(total_income, 'USD', locale='en_US')}  ({format_currency(total_income * 1300, 'KRW', locale='ko_KR')})\")        \n",
    "\n",
    "if __name__ == '__main__':\n",
    "    # portfolio_report('../../data/portfolio.csv', '../../data/prices.csv')\n",
    "    # print()\n",
    "    # portfolio_report('../../data/portfolio2.csv', '../../data/prices.csv')\n",
    "\n",
    "    files = ['../../data/portfolio.csv', '../../data/portfolio2.csv']\n",
    "    for name in files:\n",
    "        print(f'{name:^43s}')\n",
    "        portfolio_report(name, '../../data/prices.csv')\n",
    "        print()\n",
    "\n",
    "\n",
    "# portfolio_report('Data/portfolio.csv', 'Data/prices.csv')\n",
    "\n",
    "# 이 최종 버전에는 일련의 함수 정의와 함께, 맨 마지막에 portfolio_report() 함수 호출만 유일하게 남긴다(이 함수가 이 프로그램과 관련된 모든 단계를 실행).\n",
    "\n",
    "# 프로그램을 단일 함수로 바꾸면 입력이 바뀌더라도 쉽게 실행할 수 있다. 예를 들어, 상호작용 모드에서 프로그램을 실행한 후 다음과 같은 문장을 실행해 보라.\n",
    "\n",
    "# >>> portfolio_report('Data/portfolio2.csv', 'Data/prices.csv')\n",
    "# ... 출력을 보라 ...\n",
    "# >>> files = ['Data/portfolio.csv', 'Data/portfolio2.csv']\n",
    "# >>> for name in files:\n",
    "#         print(f'{name:-^43s}')\n",
    "#         portfolio_report(name, 'prices.csv')\n",
    "#         print()\n",
    "\n",
    "# ... 출력을 보라 ...\n",
    "# >>>"
   ]
  },
  {
   "cell_type": "markdown",
   "metadata": {},
   "source": [
    "# 3.2 함수의 작동"
   ]
  },
  {
   "cell_type": "markdown",
   "metadata": {},
   "source": [
    "## 함수 호출하기"
   ]
  },
  {
   "cell_type": "code",
   "execution_count": null,
   "metadata": {},
   "outputs": [],
   "source": [
    "# 함수 호출하기\n",
    "# -------------\n",
    "\n",
    "# 이 함수를 생각해 보자.\n",
    "\n",
    "# def read_prices(filename, debug):\n",
    "#     ...\n",
    "\n",
    "# 위치 인자를 사용해 함수를 호출할 수 있다.\n",
    "# prices = read_prices('prices.csv', True)\n",
    "\n",
    "# 키워드 인자를 가지고 함수를 호출할 수도 있다.\n",
    "# prices = read_prices(filename='prices.csv', debug=True)\n",
    "\n",
    "\n",
    "\n",
    "# 기본 인자\n",
    "# ---------\n",
    "\n",
    "# 인자를 선택 사항으로 하고 싶을 때가 있다. 그런 경우에는 함수 정의에 기본값을 정해두라.\n",
    "# def read_prices(filename, debug=False):\n",
    "#     ...\n",
    "\n",
    "# 기본값이 할당되면 인자는 함수 호출시 선택사항이 된다.\n",
    "# d = read_prices('prices.csv')\n",
    "# e = read_prices('prices.dat', True)\n",
    "\n",
    "# 참고: 기본값이 있는 인자는 반드시 인자 리스트의 끝에 두어야 한다(선택적이지 않은 인자가 모두 앞쪽에 와야 한다).\n",
    "\n",
    "\n",
    "\n",
    "# 선택적 인자를 키워드 인자로 하면 좋다.\n",
    "# -------------------------------------\n",
    "\n",
    "# 두 가지 호출 방식을 비교, 대조해보자.\n",
    "\n",
    "# parse_data(data, False, True) # ?????\n",
    "\n",
    "# parse_data(data, ignore_errors=True)\n",
    "# parse_data(data, debug=True)\n",
    "# parse_data(data, debug=True, ignore_errors=True)\n",
    "\n",
    "# 키워드 인자를 사용하는 것이 대체로 가독성이 높다. 플래그 역할을 하는 인자라든지, 선택적 기능과 관련된 경우 특히 그렇다.\n",
    "\n",
    "\n",
    "\n",
    "# 설계 모범 사례\n",
    "# --------------\n",
    "# 함수 인자에는 항상 짧고 의미 있는 이름을 붙인다.\n",
    "\n",
    "# 함수를 키워드 호출 스타일로 사용하고 싶을 수도 있다.\n",
    "# d = read_prices('prices.csv', debug=True)\n",
    "\n",
    "# 파이썬 개발 도구는 도움말 기능과 문서에서 이름을 표시한다."
   ]
  },
  {
   "cell_type": "markdown",
   "metadata": {},
   "source": [
    "## 값을 반환"
   ]
  },
  {
   "cell_type": "code",
   "execution_count": null,
   "metadata": {},
   "outputs": [],
   "source": [
    "# 값을 반환\n",
    "# ---------\n",
    "# return 문을 값을 반환한다.\n",
    "\n",
    "# def square(x):\n",
    "#     return x * x\n",
    "\n",
    "# 반환값이 주어지지 않거나 return 문이 없으면 None을 반환한다.\n",
    "\n",
    "# def bar(x):\n",
    "#     문장\n",
    "#     return\n",
    "\n",
    "# a = bar(4)      # a = None\n",
    "\n",
    "# # 또는\n",
    "# def foo(x):\n",
    "#     statements  # `return`이 없음\n",
    "\n",
    "# b = foo(4)      # b = None\n",
    "\n",
    "\n",
    "# 여러 개의 반환값\n",
    "# ----------------\n",
    "# 함수는 단 하나의 값만 반환할 수 있다. 하지만, 튜플에 여러 값을 담아 반환할 수 있다.\n",
    "\n",
    "# def divide(a,b):\n",
    "#     q = a // b      # 몫\n",
    "#     r = a % b       # 나머지\n",
    "#     return q, r     # 튜플을 반환\n",
    "\n",
    "# 용례:\n",
    "# x, y = divide(37,5) # x = 7, y = 2\n",
    "# x = divide(37, 5)   # x = (7, 2)"
   ]
  },
  {
   "cell_type": "markdown",
   "metadata": {},
   "source": [
    "## 변수 스코프"
   ]
  },
  {
   "cell_type": "code",
   "execution_count": null,
   "metadata": {},
   "outputs": [],
   "source": [
    "# 변수 스코프\n",
    "# -----------\n",
    "# 프로그램은 변수에 값을 할당한다.\n",
    "\n",
    "# x = value # 글로벌 변수\n",
    "\n",
    "# def foo():\n",
    "#     y = value # 로컬 변수\n",
    "\n",
    "# 변수 할당은 함수 정의의 안팎에서 일어난다. 바깥에서 정의된 변수는 '글로벌'이다. 함수 내의 변수는 '로컬'이다.\n",
    "\n",
    "\n",
    "# 로컬 변수\n",
    "# ---------\n",
    "# 함수 내에 할당된 변수는 프라이빗이다.\n",
    "\n",
    "# def read_portfolio(filename):\n",
    "#     portfolio = []\n",
    "#     for line in open(filename):\n",
    "#         fields = line.split(',')\n",
    "#         s = (fields[0], int(fields[1]), float(fields[2]))\n",
    "#         portfolio.append(s)\n",
    "#     return portfolio\n",
    "\n",
    "# 이 예에서, filename, portfolio, line, fields, s는 로컬 변수다. \n",
    "# 이 변수들은 함수 호출 이후에 보존되지 않으므로 이것들에 액세스할 수 없다.\n",
    "\n",
    "# >>> stocks = read_portfolio('portfolio.csv')\n",
    "# >>> fields\n",
    "# Traceback (most recent call last):\n",
    "# File \"<stdin>\", line 1, in ?\n",
    "# NameError: name 'fields' is not defined\n",
    "# >>>\n",
    "\n",
    "# 로컬은 다른 곳의 변수와 충돌할 일이 없다.\n",
    "\n",
    "\n",
    "# 글로벌 변수\n",
    "# -----------\n",
    "# 함수는 같은 파일에 정의된 글로벌들의 값에 자유롭게 액세스할 수 있다.\n",
    "\n",
    "# name = 'Dave'\n",
    "# def greeting():\n",
    "#     print('Hello', name)  # 글로벌 변수 `name`을 사용\n",
    "\n",
    "# 단, 함수는 글로벌을 수정할 수 없다.\n",
    "\n",
    "# name = 'Dave'\n",
    "# def spam():\n",
    "#   name = 'Guido'\n",
    "# spam()\n",
    "# print(name) # 'Dave'를 프린트\n",
    "\n",
    "# 기억해줘: 함수 내의 모든 할당은 로컬이다.\n",
    "\n",
    "\n",
    "\n",
    "# 글로벌을 수정하기\n",
    "# -----------------\n",
    "# 글로벌 변수를 수정해야만 한다면 다음과 같은 방법으로 선언한다.\n",
    "\n",
    "# name = 'Dave'\n",
    "\n",
    "# def spam():\n",
    "#     global name\n",
    "#     name = 'Guido' # 위 글로벌 name을 변경\n",
    "\n",
    "# 글로벌을 사용하기 전에 선언이 먼저 나타나야 하며, 관련된 변수는 반드시 함수와 같은 파일에 있어야 한다. \n",
    "# 글로벌을 사용하는 법을 알아보기는 했지만, 별로 좋은 것은 아니다. \n",
    "# global을 아예 사용하지 않는 것이 상책이다. \n",
    "# 함수가 외부의 상태를 변경할 필요가 있다면, 차라리 클래스를 사용해라(나중에 다룬다).\n"
   ]
  },
  {
   "cell_type": "markdown",
   "metadata": {},
   "source": [
    "## 인자 전달"
   ]
  },
  {
   "cell_type": "code",
   "execution_count": null,
   "metadata": {},
   "outputs": [],
   "source": [
    "# 함수를 호출할 때, 인자 변수는 전달된 값을 참조하는 이름이다. \n",
    "# 이 변수들은 사본이 아니다(섹션 2.7을 참조). \n",
    "# 변경가능한 자료형(예: list, dict)을 전달하면 제자리에서 수정될 수 있다.\n",
    "\n",
    "# def foo(items):\n",
    "#     items.append(42)    # 입력 객체를 수정\n",
    "\n",
    "# a = [1, 2, 3]\n",
    "# foo(a)\n",
    "# print(a)                # [1, 2, 3, 42]\n",
    "\n",
    "# 핵심: 함수는 입력 인자의 사본을 받지 않는다.\n",
    "\n",
    "\n",
    "\n",
    "# 재할당 vs 수정\n",
    "# --------------\n",
    "# 변수를 수정하는 것과 변수명을 재할당하는 것의 미묘한 차이를 이해해야 한다.\n",
    "\n",
    "# def foo(items):\n",
    "#     items.append(42)    # 입력 객체를 수정\n",
    "\n",
    "# a = [1, 2, 3]\n",
    "# foo(a)\n",
    "# print(a)                # [1, 2, 3, 42]\n",
    "\n",
    "# # VS\n",
    "# def bar(items):\n",
    "#     items = [4,5,6]    # 다른 객체를 가리키도록 로컬 `items` 변수를 변경\n",
    "\n",
    "# b = [1, 2, 3]\n",
    "# bar(b)\n",
    "# print(b)                # [1, 2, 3]\n",
    "\n",
    "# 기억해줘: 변수 할당은 메모리를 절대 덮어쓰지 않는다. 이름은 새 값에 바운드된다."
   ]
  },
  {
   "cell_type": "markdown",
   "metadata": {},
   "source": [
    "## 연습 문제"
   ]
  },
  {
   "cell_type": "code",
   "execution_count": null,
   "metadata": {},
   "outputs": [],
   "source": [
    "# 이 연습 문제들은 이 코스에서 가장 강력하고 어려운 부분을 구현한다. \n",
    "# 지금까지의 연습 문제를 통해 익힌 여러 개념을 한 곳에 모은다. \n",
    "# 최종적인 해답은 25줄 가량의 코드에 불과하지만, 시간을 들여 각 부분을 이해하도록 노력하라.\n",
    "\n",
    "# report.py 프로그램에서 중요한 부분은 CSV 파일을 읽는 것이다. \n",
    "# 예를 들어 read_portfolio() 함수는 포트폴리오 데이터의 행을 포함한 파일을 읽으며, \n",
    "# read_prices() 함수는 가격 데이터의 행을 포함한 파일을 읽는다. \n",
    "# 두 함수 모두 저수준의 \"fiddly\" 비트가 있고 기능이 서로 비슷한다. \n",
    "# 예를 들어, 파일을 열고 csv 모듈을 사용해 감싸서 값을 새로운 타입으로 변환한다.\n",
    "\n",
    "# 파일 파싱을 실제로 많이 한다면 이런 것들을 깔끔하게 정리해 좀 더 일반적으로 \n",
    "# 사용할 수 있게 하는 것이 좋다. 이것이 우리 목표다.\n",
    "\n",
    "# Work/fileparse.py 파일을 열어 이 연습을 시작하자. 이 파일을 가지고 작업한다."
   ]
  },
  {
   "cell_type": "markdown",
   "metadata": {},
   "source": [
    "### 연습 문제 3.3: CSV 파일 읽기"
   ]
  },
  {
   "cell_type": "code",
   "execution_count": 3,
   "metadata": {},
   "outputs": [
    {
     "data": {
      "text/plain": [
       "[{'name': 'AA', 'shares': '100', 'price': '32.20'},\n",
       " {'name': 'IBM', 'shares': '50', 'price': '91.10'},\n",
       " {'name': 'CAT', 'shares': '150', 'price': '83.44'},\n",
       " {'name': 'MSFT', 'shares': '200', 'price': '51.23'},\n",
       " {'name': 'GE', 'shares': '95', 'price': '40.37'},\n",
       " {'name': 'MSFT', 'shares': '50', 'price': '65.10'},\n",
       " {'name': 'IBM', 'shares': '100', 'price': '70.44'}]"
      ]
     },
     "execution_count": 3,
     "metadata": {},
     "output_type": "execute_result"
    }
   ],
   "source": [
    "# 먼저 CSV 파일을 읽어 딕셔너리의 리스트에 넣는 문제부터 해결하자. fileparse.py 파일에 다음과 같은 함수를 정의한다.\n",
    "\n",
    "# fileparse.py\n",
    "import csv\n",
    "\n",
    "def parse_csv(filename):\n",
    "    '''\n",
    "    CSV 파일을 파싱해 레코드의 목록을 생성\n",
    "    ''' \n",
    "    with open(filename, 'r') as f:\n",
    "        rows = csv.reader(f)\n",
    "        \n",
    "        # 헤더(머리말)를 읽음\n",
    "        headers = next(rows)\n",
    "        records = []\n",
    "        for row in rows:\n",
    "            if not row:         # 데이터가 없는 행은 건너뜀\n",
    "                continue\n",
    "            record = dict(zip(headers, row))\n",
    "            records.append(record)\n",
    "    return records\n",
    "\n",
    "portfolio = parse_csv('../../data/portfolio.csv')\n",
    "portfolio\n",
    "# 이 함수는 CSV 파일을 읽어 딕셔너리의 리스트를 생성하되, 파일을 열고 csv 모듈을 가지고 감싸고, 공백 행을 건너뛰는 등의 세부사항을 숨긴다.\n",
    "\n",
    "# 한번 사용해 보자.\n",
    "# 힌트: python3 -i fileparse.py.\n",
    "\n",
    "# >>> portfolio = parse_csv('Data/portfolio.csv')\n",
    "# >>> portfolio\n",
    "# [{'price': '32.20', 'name': 'AA', 'shares': '100'}, {'price': '91.10', 'name': 'IBM', 'shares': '50'}, {'price': '83.44', 'name': 'CAT', 'shares': '150'}, {'price': '51.23', 'name': 'MSFT', 'shares': '200'}, {'price': '40.37', 'name': 'GE', 'shares': '95'}, {'price': '65.10', 'name': 'MSFT', 'shares': '50'}, {'price': '70.44', 'name': 'IBM', 'shares': '100'}]\n",
    "\n",
    "# 이 함수는 좋긴 하지만, 모든 것을 문자열로 표현하기 때문에 계산에 사용할 수 없다는 아쉬움이 있다. \n",
    "# 이 점을 곧 수정하겠지만, 일단은 계속 만들어 나가자."
   ]
  },
  {
   "cell_type": "markdown",
   "metadata": {},
   "source": [
    "### 연습 문제 3.4: 컬럼 선택기 구축하기"
   ]
  },
  {
   "cell_type": "code",
   "execution_count": 27,
   "metadata": {},
   "outputs": [
    {
     "data": {
      "text/plain": [
       "[{'name': 'AA', 'price': '32.20'},\n",
       " {'name': 'IBM', 'price': '91.10'},\n",
       " {'name': 'CAT', 'price': '83.44'},\n",
       " {'name': 'MSFT', 'price': '51.23'},\n",
       " {'name': 'GE', 'price': '40.37'},\n",
       " {'name': 'MSFT', 'price': '65.10'},\n",
       " {'name': 'IBM', 'price': '70.44'}]"
      ]
     },
     "execution_count": 27,
     "metadata": {},
     "output_type": "execute_result"
    }
   ],
   "source": [
    "# CSV 파일의 모든 데이터가 아니라 일부에만 관심이 있는 때가 많을 것이다. \n",
    "# 다음과 같이, 가져올 컬럼을 사용자가 선택할 수 있게 parse_csv() 함수를 수정해 보자.\n",
    "\n",
    "# 일부 데이터만 읽기\n",
    "# fileparse.py\n",
    "import csv\n",
    "\n",
    "def parse_csv(filename, select=None):\n",
    "    '''\n",
    "    CSV 파일을 파싱해 레코드의 목록을 생성\n",
    "    ''' \n",
    "    with open(filename, 'r') as f:\n",
    "        rows = csv.reader(f)\n",
    "        \n",
    "        # 헤더(머리말)를 읽음\n",
    "        headers = next(rows)\n",
    "        \n",
    "        # 컬럼 선택기가 주어지면, 지정한 컬럼의 인덱스를 찾는다.\n",
    "        # 또한 결과 딕셔너리에 사용할 헤더의 집합을 좁힌다\n",
    "        if select:\n",
    "            indices = [headers.index(colname) for colname in select]\n",
    "            headers = select\n",
    "        else:\n",
    "            indices = []\n",
    "\n",
    "        records = []\n",
    "\n",
    "        for row in rows:\n",
    "            if not row:         # 데이터가 없는 행은 건너뜀\n",
    "                continue\n",
    "\n",
    "            # 특정 컬럼이 선택되었으면 필터링\n",
    "            if indices:\n",
    "                row = [ row[index] for index in indices ]\n",
    "            \n",
    "            # 딕셔너리를 만듦    \n",
    "            record = dict(zip(headers, row))\n",
    "            records.append(record)\n",
    "    return records\n",
    "\n",
    "# 일부 데이터만 읽기\n",
    "shares_held = parse_csv('../../data/portfolio.csv', ['name','price'])\n",
    "shares_held\n",
    "\n",
    "# 이 부분에 몇 가지 트릭이 있다. 컬럼 선택을 행 인덱스에 매핑하는 부분이 가장 중요할 것이다. \n",
    "# 예를 들어, 입력 파일에 다음과 같은 헤더가 있다고 하자.\n",
    "\n",
    "# >>> headers = ['name', 'date', 'time', 'shares', 'price']\n",
    "# >>>\n",
    "# 선택한 컬럼은 다음과 같다고 하자.\n",
    "\n",
    "# >>> select = ['name', 'shares']\n",
    "# >>>\n",
    "# 적절한 선택을 위해, 선택한 컬럼명을 파일의 컬럼 인덱스에 매핑해야 한다. 이 단계에서 그 일을 한다.\n",
    "\n",
    "# >>> indices = [headers.index(colname) for colname in select ]\n",
    "# >>> indices\n",
    "# [0, 3]\n",
    "\n",
    "\n",
    "# 달리 말해, \"name\"은 컬럼 0이고 \"shares\"는 컬럼 3이다. 파일에서 데이터 행을 읽을 때, \n",
    "# 인덱스를 사용해 원하는 컬럼만 얻을 수 있다.\n",
    "\n",
    "# >>> row = ['AA', '6/11/2007', '9:50am', '100', '32.20' ]\n",
    "# >>> row = [ row[index] for index in indices ]\n",
    "# >>> row\n",
    "# ['AA', '100']\n",
    "# >>>"
   ]
  },
  {
   "cell_type": "markdown",
   "metadata": {},
   "source": [
    "### 연습 문제 3.5: 형변환 수행하기"
   ]
  },
  {
   "cell_type": "code",
   "execution_count": 37,
   "metadata": {},
   "outputs": [
    {
     "data": {
      "text/plain": [
       "[{'name': 'AA', 'price': 32.2},\n",
       " {'name': 'IBM', 'price': 91.1},\n",
       " {'name': 'CAT', 'price': 83.44},\n",
       " {'name': 'MSFT', 'price': 51.23},\n",
       " {'name': 'GE', 'price': 40.37},\n",
       " {'name': 'MSFT', 'price': 65.1},\n",
       " {'name': 'IBM', 'price': 70.44}]"
      ]
     },
     "execution_count": 37,
     "metadata": {},
     "output_type": "execute_result"
    }
   ],
   "source": [
    "# 반환된 데이터에 형변환을 적용할지 선택할 수 있게 parse_csv() 함수를 수정해보자. 예:\n",
    "# fileparse.py\n",
    "import csv\n",
    "\n",
    "def parse_csv(filename, select=None, types=[str, int, float]):\n",
    "    '''\n",
    "    CSV 파일을 파싱해 레코드의 목록을 생성\n",
    "    ''' \n",
    "    with open(filename, 'r') as f:\n",
    "        rows = csv.reader(f)\n",
    "        \n",
    "        # 헤더(머리말)를 읽음\n",
    "        headers = next(rows)\n",
    "        \n",
    "        # 컬럼 선택기가 주어지면, 지정한 컬럼의 인덱스를 찾는다.\n",
    "        # 또한 결과 딕셔너리에 사용할 헤더의 집합을 좁힌다\n",
    "        if select:\n",
    "            indices = [headers.index(colname) for colname in select]\n",
    "            headers = select\n",
    "        else:\n",
    "            indices = []\n",
    "\n",
    "        records = []\n",
    "\n",
    "        for row in rows:\n",
    "            if not row:         # 데이터가 없는 행은 건너뜀\n",
    "                continue\n",
    "\n",
    "            # 특정 컬럼이 선택되었으면 필터링 과 자료형 변환\n",
    "            if indices:\n",
    "                row = [ row[index] for index in indices ]\n",
    "     \n",
    "            if types:\n",
    "                row = [func(val) for func, val in zip(types, row) ]\n",
    "\n",
    "            # 딕셔너리를 만듦    \n",
    "            record = dict(zip(headers, row))\n",
    "            records.append(record)\n",
    "    return records\n",
    "\n",
    "# 일부 데이터만 읽기\n",
    "shares_held = parse_csv('../../data/portfolio.csv', ['name','price'], [str, float])\n",
    "# shares_held = parse_csv('../../data/portfolio.csv')\n",
    "\n",
    "shares_held\n",
    "\n",
    "# 이것을 연습 문제 2.24에서 이미 탐구했다. 다음 코드를 당신의 코드에 포함시키자.\n",
    "\n",
    "# ...\n",
    "# if types:\n",
    "#     row = [func(val) for func, val in zip(types, row) ]\n",
    "# ..."
   ]
  },
  {
   "cell_type": "code",
   "execution_count": 45,
   "metadata": {},
   "outputs": [
    {
     "name": "stdout",
     "output_type": "stream",
     "text": [
      "[{'name': 'AA', 'price': 32.2}, {'name': 'IBM', 'price': 91.1}, {'name': 'CAT', 'price': 83.44}, {'name': 'MSFT', 'price': 51.23}, {'name': 'GE', 'price': 40.37}, {'name': 'MSFT', 'price': 65.1}, {'name': 'IBM', 'price': 70.44}]\n",
      "[('AA', 9.22), ('AXP', 24.85), ('BA', 44.85), ('BAC', 11.27), ('C', 3.72), ('CAT', 35.46), ('CVX', 66.67), ('DD', 28.47), ('DIS', 24.22), ('GE', 13.48), ('GM', 0.75), ('HD', 23.16), ('HPQ', 34.35), ('IBM', 106.28), ('INTC', 15.72), ('JNJ', 55.16), ('JPM', 36.9), ('KFT', 26.11), ('KO', 49.16), ('MCD', 58.99), ('MMM', 57.1), ('MRK', 27.58), ('MSFT', 20.89), ('PFE', 15.19), ('PG', 51.94), ('T', 24.79), ('UTX', 52.61), ('VZ', 29.26), ('WMT', 49.74), ('XOM', 69.35)]\n"
     ]
    }
   ],
   "source": [
    "# CSV 파일에 헤더 정보가 없는 경우도 있다 예를 들어, prices.csv는 다음과 같이 되어 있다.\n",
    "\n",
    "# \"AA\",9.22\n",
    "# \"AXP\",24.85\n",
    "# \"BA\",44.85\n",
    "# \"BAC\",11.27\n",
    "# ...\n",
    "\n",
    "# 튜플의 리스트를 생성함으로써 이런 파일을 다룰 수 있게 parse_csv() 함수를 수정해보자.\n",
    "# fileparse.py\n",
    "import csv\n",
    "\n",
    "def parse_csv(filename, select=None, types=[str, int, float], has_headers=False):\n",
    "    '''\n",
    "    CSV 파일을 파싱해 레코드의 목록을 생성\n",
    "    ''' \n",
    "    with open(filename, 'r') as f:\n",
    "        rows = csv.reader(f)\n",
    "        \n",
    "        # 헤더(머리말)를 읽음\n",
    "        if has_headers:\n",
    "            headers = next(rows)\n",
    "        else:\n",
    "            headers = []\n",
    "        \n",
    "        # 컬럼 선택기가 주어지면, 지정한 컬럼의 인덱스를 찾는다.\n",
    "        # 또한 결과 딕셔너리에 사용할 헤더의 집합을 좁힌다\n",
    "        if select:\n",
    "            indices = [headers.index(colname) for colname in select]\n",
    "            headers = select\n",
    "        else:\n",
    "            indices = []\n",
    "\n",
    "        records = []\n",
    "\n",
    "        for row in rows:\n",
    "            if not row:         # 데이터가 없는 행은 건너뜀\n",
    "                continue\n",
    "\n",
    "            # 특정 컬럼이 선택되었으면 필터링 과 자료형 변환\n",
    "            if indices:\n",
    "                row = [ row[index] for index in indices ]\n",
    "     \n",
    "            if types:\n",
    "                row = [func(val) for func, val in zip(types, row) ]\n",
    "\n",
    "            # 딕셔너리를 만듦\n",
    "            if has_headers:    \n",
    "                record = dict(zip(headers, row))\n",
    "            else:\n",
    "                record = tuple(row)\n",
    "            records.append(record)\n",
    "    return records\n",
    "\n",
    "# 일부 데이터만 읽기\n",
    "shares_held = parse_csv('../../data/portfolio.csv', ['name','price'], [str, float], has_headers=True)\n",
    "#shares_held = parse_csv('../../data/portfolio.csv', has_headers=True)\n",
    "prices = parse_csv('../../data/prices.csv', types=[str,float], has_headers=False)\n",
    "\n",
    "\n",
    "print(shares_held)\n",
    "print(prices)\n",
    "\n",
    "# >>> prices = parse_csv('Data/prices.csv', types=[str,float], has_headers=False)\n",
    "# >>> prices\n",
    "# [('AA', 9.22), ('AXP', 24.85), ('BA', 44.85), ('BAC', 11.27), ('C', 3.72), ('CAT', 35.46), ('CVX', 66.67), ('DD', 28.47), ('DIS', 24.22), ('GE', 13.48), ('GM', 0.75), ('HD', 23.16), ('HPQ', 34.35), ('IBM', 106.28), ('INTC', 15.72), ('JNJ', 55.16), ('JPM', 36.9), ('KFT', 26.11), ('KO', 49.16), ('MCD', 58.99), ('MMM', 57.1), ('MRK', 27.58), ('MSFT', 20.89), ('PFE', 15.19), ('PG', 51.94), ('T', 24.79), ('UTX', 52.61), ('VZ', 29.26), ('WMT', 49.74), ('XOM', 69.35)]\n",
    "# >>>\n",
    "# 이렇게 변경하려면 데이터의 첫행이 헤더 파일로 인식되지 않게 코드를 수정해야 한다. 또한, 컬럼명을 키로 삼아 딕셔너리를 생성하지 않게 수정해야 한다."
   ]
  },
  {
   "cell_type": "markdown",
   "metadata": {},
   "source": [
    "### 연습 문제 3.7: 다른 컬럼 구분자(delimitier)를 사용하기"
   ]
  },
  {
   "cell_type": "code",
   "execution_count": 150,
   "metadata": {},
   "outputs": [
    {
     "name": "stdout",
     "output_type": "stream",
     "text": [
      "Overwriting ../../test_bed/fileparse.py\n"
     ]
    }
   ],
   "source": [
    "# %%writefile ../../test_bed/fileparse.py\n",
    "# 콤마를 구분자로 사용하는 것이 일반적이지만, 탭이나 공백을 컬럼 구분자로 사용하는 경우도 있다. 그 예로, Data/portfolio.dat은 다음과 같다.\n",
    "\n",
    "# name shares price\n",
    "# \"AA\" 100 32.20\n",
    "# \"IBM\" 50 91.10\n",
    "# \"CAT\" 150 83.44\n",
    "# \"MSFT\" 200 51.23\n",
    "# \"GE\" 95 40.37\n",
    "# \"MSFT\" 50 65.10\n",
    "# \"IBM\" 100 70.44\n",
    "# csv.reader() 함수는 구분자를 변경하는 기능이 있다.\n",
    "\n",
    "# rows = csv.reader(f, delimiter=' ')\n",
    "# 구분자를 변경할 수 있게 parse_csv() 함수를 수정해보자.\n",
    "\n",
    "# fileparse.py\n",
    "import csv\n",
    "\n",
    "def parse_csv(filename, select=None, types=[str, int, float], has_headers=False, delimiter=','):\n",
    "    '''\n",
    "    CSV 파일을 파싱해 레코드의 목록을 생성\n",
    "    ''' \n",
    "    with open(filename, 'r') as f:\n",
    "        dell = ','\n",
    "        rows = csv.reader(f, delimiter=delimiter)\n",
    "        # rows = csv.reader(f, delimiter=' ')\n",
    "        \n",
    "        \n",
    "        # 헤더(머리말)를 읽음\n",
    "        if has_headers:\n",
    "            headers = next(rows)\n",
    "        else:\n",
    "            headers = []\n",
    "        \n",
    "        # 컬럼 선택기가 주어지면, 지정한 컬럼의 인덱스를 찾는다.\n",
    "        # 또한 결과 딕셔너리에 사용할 헤더의 집합을 좁힌다\n",
    "        if select:\n",
    "            indices = [headers.index(colname) for colname in select]\n",
    "            headers = select\n",
    "        else:\n",
    "            indices = []\n",
    "\n",
    "        records = []\n",
    "\n",
    "        for row in rows:\n",
    "            if not row:         # 데이터가 없는 행은 건너뜀\n",
    "                continue\n",
    "\n",
    "            # 특정 컬럼이 선택되었으면 필터링 과 자료형 변환\n",
    "            if indices:\n",
    "                row = [ row[index] for index in indices ]\n",
    "     \n",
    "            if types:\n",
    "                row = [func(val) for func, val in zip(types, row) ]\n",
    "\n",
    "            # 딕셔너리를 만듦\n",
    "            if has_headers:    \n",
    "                record = dict(zip(headers, row))\n",
    "            else:\n",
    "                record = tuple(row)\n",
    "            records.append(record)\n",
    "    return records\n",
    "\n",
    "# 일부 데이터만 읽기\n",
    "# shares_held = parse_csv('../../data/portfolio.csv', ['name','price'], [str, float], has_headers=True)\n",
    "#shares_held = parse_csv('../../data/portfolio.csv', has_headers=True)\n",
    "# prices = parse_csv('../../data/prices.csv', types=[str,float], has_headers=False)\n",
    "portfolio = parse_csv('../../data/portfolio.dat', types=[str, int, float], has_headers=True, delimiter=' ')\n",
    "\n",
    "\n",
    "# print(shares_held)\n",
    "# print(prices)\n",
    "print(portfolio)\n",
    "\n",
    "# >>> portfolio = parse_csv('Data/portfolio.dat', types=[str, int, float], delimiter=' ')\n",
    "# >>> portfolio\n",
    "# [{'price': '32.20', 'name': 'AA', 'shares': '100'}, {'price': '91.10', 'name': 'IBM', 'shares': '50'}, {'price': '83.44', 'name': 'CAT', 'shares': '150'}, {'price': '51.23', 'name': 'MSFT', 'shares': '200'}, {'price': '40.37', 'name': 'GE', 'shares': '95'}, {'price': '65.10', 'name': 'MSFT', 'shares': '50'}, {'price': '70.44', 'name': 'IBM', 'shares': '100'}]\n",
    "# >>>\n",
    "# 부연 설명"
   ]
  },
  {
   "cell_type": "markdown",
   "metadata": {},
   "source": [
    "# 3.3 오류 검사"
   ]
  },
  {
   "cell_type": "markdown",
   "metadata": {},
   "source": [
    "## 프로그램은 어떻게 실패하는가"
   ]
  },
  {
   "cell_type": "code",
   "execution_count": null,
   "metadata": {},
   "outputs": [],
   "source": [
    "# 파이썬은 인자 타입이나 값에 대한 검사나 검증을 수행하지 않는다. \n",
    "# 어떤 데이터든 함수에 기술한 것과 호환되기만 하면 함수가 작동한다.\n",
    "\n",
    "# def add(x, y):\n",
    "#     return x + y\n",
    "\n",
    "# add(3, 4)               # 7\n",
    "# add('Hello', 'World')   # 'HelloWorld'\n",
    "# add('3', '4')           # '34'\n",
    "\n",
    "# 함수에 오류가 있으면 실행시간에 예외로서 나타난다.\n",
    "# def add(x, y):\n",
    "#     return x + y\n",
    "\n",
    "# >>> add(3, '4')\n",
    "# Traceback (most recent call last):\n",
    "# ...\n",
    "# TypeError: unsupported operand type(s) for +:\n",
    "# 'int' and 'str'\n",
    "# >>>\n",
    "\n",
    "# 코드를 검증하기 위해 테스팅을 매우 중요시한다(나중에 다룬다)."
   ]
  },
  {
   "cell_type": "markdown",
   "metadata": {},
   "source": [
    "## 예외(Exception)"
   ]
  },
  {
   "cell_type": "code",
   "execution_count": null,
   "metadata": {},
   "outputs": [],
   "source": [
    "# 예외는 오류에 대한 신호로 사용된다. 예외를 일으키고 싶으면 raise 문을 사용하라.\n",
    "\n",
    "# if name not in authorized:\n",
    "#     raise RuntimeError(f'{name} not authorized')\n",
    "# 예외를 붙잡으려면 try-except를 사용한다.\n",
    "\n",
    "# try:\n",
    "#     authenticate(username)\n",
    "# except RuntimeError as e:\n",
    "#     print(e)\n",
    "\n",
    "\n",
    "# 예외 처리\n",
    "# --------\n",
    "# 예외는 처음 일치하는 except까지 전파된다.\n",
    "\n",
    "# def grok():\n",
    "#     ...\n",
    "#     raise RuntimeError('Whoa!')   # 여기서 예외가 발생\n",
    "\n",
    "# def spam():\n",
    "#     grok()                        # 호출하면 예외가 발생\n",
    "\n",
    "# def bar():\n",
    "#     try:\n",
    "#        spam()\n",
    "#     except RuntimeError as e:     # 예외를 여기서 잡음\n",
    "#         ...\n",
    "\n",
    "# def foo():\n",
    "#     try:\n",
    "#          bar()\n",
    "#     except RuntimeError as e:     # 예외는 여기 도달하지 않음\n",
    "#         ...\n",
    "\n",
    "# foo()\n",
    "\n",
    "\n",
    "\n",
    "# 예외를 처리하려면 except 블록에 문장을 넣는다. 예외를 처리하는 데 사용하고 싶은 문장을 무엇이든 넣을 수 있다.\n",
    "\n",
    "# def grok(): ...\n",
    "#     raise RuntimeError('Whoa!')\n",
    "\n",
    "# def bar():\n",
    "#     try:\n",
    "#       grok()\n",
    "#     except RuntimeError as e:   # 예외를 여기서 잡음\n",
    "#         statements              # 이 문장을 사용\n",
    "#         문장\n",
    "#         ...\n",
    "\n",
    "# bar()\n",
    "\n",
    "\n",
    "\n",
    "# 처리한 다음, try-except 이후 첫 번째 문장으로 실행을 재개한다.\n",
    "\n",
    "# def grok(): ...\n",
    "#     raise RuntimeError('Whoa!')\n",
    "\n",
    "# def bar():\n",
    "#     try:\n",
    "#       grok()\n",
    "#     except RuntimeError as e:   # 예외를 여기서 잡음\n",
    "#         문장\n",
    "#         문장\n",
    "#         ...\n",
    "#     문장                                # 예외를 여기서 재개\n",
    "#     문장                                # 여기서 계속\n",
    "#     ...\n",
    "\n",
    "# bar()\n"
   ]
  },
  {
   "cell_type": "markdown",
   "metadata": {},
   "source": [
    "## 빌트인 예외"
   ]
  },
  {
   "cell_type": "code",
   "execution_count": null,
   "metadata": {},
   "outputs": [],
   "source": [
    "# 빌트인 예외\n",
    "# -----------\n",
    "# 스무 가지가 넘는 빌트인 예외가 있다. 예외 이름은 무엇이 잘못됐는지 지시한다(예: 잘못된 값을 제공하면 ValueError가 일어난다). 이 목록에 있는 것 외에도 더 있다. 더 알고 싶으면 문서를 참조하라.\n",
    "\n",
    "# ArithmeticError\n",
    "# AssertionError\n",
    "# EnvironmentError\n",
    "# EOFError\n",
    "# ImportError\n",
    "# IndexError\n",
    "# KeyboardInterrupt\n",
    "# KeyError\n",
    "# MemoryError\n",
    "# NameError\n",
    "# ReferenceError\n",
    "# RuntimeError\n",
    "# SyntaxError\n",
    "# SystemError\n",
    "# TypeError\n",
    "# ValueError"
   ]
  },
  {
   "cell_type": "markdown",
   "metadata": {},
   "source": [
    "## 예외 값"
   ]
  },
  {
   "cell_type": "code",
   "execution_count": null,
   "metadata": {},
   "outputs": [],
   "source": [
    "# 예외 값\n",
    "# -------\n",
    "# 예외에는 관련 값이 있다. 무엇이 잘못됐는지 구체적으로 알려주는 정보가 포함된다.\n",
    "\n",
    "# raise RuntimeError('Invalid user name')\n",
    "# 이 값은 예외 인스턴스의 일부이며 except에 제공된 변수에 배치된다.\n",
    "\n",
    "# try:\n",
    "#     ...\n",
    "# except RuntimeError as e:   # 발생한 예외를 `e`로 가리킨다\n",
    "#     ...\n",
    "# e는 예외 타입의 인스턴스다. 하지만, 이것을 프린트하면 문자열처럼 보인다.\n",
    "\n",
    "# except RuntimeError as e:\n",
    "#     print('Failed : Reason', e)"
   ]
  },
  {
   "cell_type": "markdown",
   "metadata": {},
   "source": [
    "## 여러 오류를 잡기"
   ]
  },
  {
   "cell_type": "code",
   "execution_count": null,
   "metadata": {},
   "outputs": [],
   "source": [
    "# 여러 오류를 잡기\n",
    "# except 블록을 여러 개 사용해서 서로 다른 종류의 예외를 붙잡을 수 있다.\n",
    "\n",
    "# try:\n",
    "#   ...\n",
    "# except LookupError as e:\n",
    "#   ...\n",
    "# except RuntimeError as e:\n",
    "#   ...\n",
    "# except IOError as e:\n",
    "#   ...\n",
    "# except KeyboardInterrupt as e:\n",
    "#   ...\n",
    "# 또는, 처리하는 명령문이 동일하다면 그룹화할 수 있다.\n",
    "\n",
    "# try:\n",
    "#   ...\n",
    "# except (IOError,LookupError,RuntimeError) as e:\n",
    "#   ...\n"
   ]
  },
  {
   "cell_type": "markdown",
   "metadata": {},
   "source": [
    "## 모든 오류를 붙잡기"
   ]
  },
  {
   "cell_type": "code",
   "execution_count": null,
   "metadata": {},
   "outputs": [],
   "source": [
    "# 모든 오류를 붙잡기\n",
    "# ------------------\n",
    "# 예외를 붙잡으려면 다음과 같이 Exception을 사용한다.\n",
    "\n",
    "# try:\n",
    "#     ...\n",
    "# except Exception:       # 위험! 아래를 참조\n",
    "#     print('An error occurred')\n",
    "# 일반적으로, 코드를 이런 식으로 작성하는 것은 좋은 생각이 아니다. 실패 이유를 알 수 없기 때문이다.\n"
   ]
  },
  {
   "cell_type": "markdown",
   "metadata": {},
   "source": [
    "## 오류를 붙잡는 잘못된 방식"
   ]
  },
  {
   "cell_type": "code",
   "execution_count": null,
   "metadata": {},
   "outputs": [],
   "source": [
    "# 오류를 붙잡는 잘못된 방식\n",
    "# ------------------------\n",
    "# 예외를 바람직하지 않은 방식으로 사용하는 예를 살펴보자.\n",
    "\n",
    "# try:\n",
    "#     go_do_something()\n",
    "# except Exception:\n",
    "#     print('Computer says no')\n",
    "\n",
    "# 이렇게 하면 발생할 수 있는 모든 오류를 붙잡아 버리므로, 전혀 예상치 못한 이유로 문제가 생기는 경우(예: 파이썬 모듈을 설치하지 않았을 때 등) 디버깅이 불가능하다.\n",
    "\n",
    "# 더 나은 방법\n",
    "# ------------\n",
    "# 모든 오류를 다 붙잡고 싶으면 다음과 같이 접근하는 것이 좋다.\n",
    "\n",
    "# try:\n",
    "#     go_do_something()\n",
    "# except Exception as e:\n",
    "#     print('Computer says no. Reason :', e)\n",
    "\n",
    "# 이렇게 하면 실패한 이유를 구체적으로 보고한다. \n",
    "# 발생할 수 있는 모든 오류를 붙잡도록 코드를 작성할 때는 이와 같이 오류를 보고하는 메커니즘을 갖춰두는 것이 좋다.\n",
    "\n",
    "# 더 좋은 방법은 오류의 범위를 좁히는 것이다. 실제로 처리할 수 있는 오류만 잡아라. \n",
    "# 처리할 수 없는 오류는 다른 코드에서 처리하게 내버려두라."
   ]
  },
  {
   "cell_type": "markdown",
   "metadata": {},
   "source": [
    "## 예외를 다시 일으키기"
   ]
  },
  {
   "cell_type": "code",
   "execution_count": null,
   "metadata": {},
   "outputs": [],
   "source": [
    "# 예외를 다시 일으키기\n",
    "# -------------------\n",
    "# 붙잡은 오류를 전파하려면 raise를 사용한다.\n",
    "\n",
    "# try:\n",
    "#     go_do_something()\n",
    "# except Exception as e:\n",
    "#     print('Computer says no. Reason :', e)\n",
    "#     raise\n",
    "# 이렇게 하면 행동을 취하고(예: 로깅) 호출자에게 오류를 전달할 수 있다."
   ]
  },
  {
   "cell_type": "markdown",
   "metadata": {},
   "source": [
    "## 예외 모범 사례"
   ]
  },
  {
   "cell_type": "code",
   "execution_count": null,
   "metadata": {},
   "outputs": [],
   "source": [
    "# 예외 모범 사례\n",
    "# --------------\n",
    "# 예외를 붙잡지 않는다. 일찍 큰 소리를 내며 실패한다. \n",
    "# 중요한 문제라면 다른 사람이 신경 써 줄 것이다. \n",
    "# 그렇게 해 줄 다른 사람이 없을 때만 예외를 붙잡아라. 회복해서 진행이 가능한 오류만 붙잡으라는 뜻이다.\n",
    "\n",
    "\n",
    "# finally 문\n",
    "# ----------\n",
    "# 예외가 발생했는지의 여부와 관계 없이 실행해야 할 코드를 지정한다.\n",
    "\n",
    "# lock = Lock()\n",
    "# ...\n",
    "# lock.acquire()\n",
    "# try:\n",
    "#     ...\n",
    "# finally:\n",
    "#     lock.release()  # 이것은 항상 실행된다! 예외 발생 여부와 관계 없이.\n",
    "# 리소스를 안전하게 관리하기 위해 사용한다(잠금, 파일 등).\n",
    "\n",
    "\n",
    "# with 문\n",
    "# -------\n",
    "# 요즘은 코드에서 try-finally를 with 문으로 대신하곤 한다.\n",
    "\n",
    "# lock = Lock()\n",
    "# with lock:\n",
    "#     # 잠금을 획득\n",
    "#     ...\n",
    "# # 잠금 해제\n",
    "# 좀 더 친숙한 예를 보자.\n",
    "\n",
    "# with open(filename) as f:\n",
    "#     # 파일을 사용\n",
    "#     ...\n",
    "# # 파일을 닫음\n",
    "\n",
    "# with는 리소스 사용 콘텍스트(context)을 정의한다. 예외가 콘텍스트에서 벗어나면 리소스는 해제된다. \n",
    "# with 문은 해당 구문을 지원하도록 특별히 프로그래밍된 객체에 대해서만 작동한다."
   ]
  },
  {
   "cell_type": "markdown",
   "metadata": {},
   "source": [
    "## 연습 문제"
   ]
  },
  {
   "cell_type": "markdown",
   "metadata": {},
   "source": [
    "### 연습 문제 3.8: 예외 일으키기"
   ]
  },
  {
   "cell_type": "code",
   "execution_count": 69,
   "metadata": {},
   "outputs": [
    {
     "name": "stdout",
     "output_type": "stream",
     "text": [
      "select: False\n",
      "has_headers: False\n",
      "None\n",
      "select: True\n",
      "has_headers: False\n",
      "None\n",
      "select: False\n",
      "has_headers: True\n",
      "None\n",
      "select: True\n",
      "has_headers: True\n",
      "None\n"
     ]
    }
   ],
   "source": [
    "def parse_csv(filename, select=None, types=[str, int, float], has_headers=False, delimiter=','):\n",
    "    '''\n",
    "    CSV 파일을 파싱해 레코드의 목록을 생성\n",
    "    ''' \n",
    "    #if bool(select) == bool(has_header)\n",
    "    print('select:', bool(select))\n",
    "    print('has_headers:', bool(has_headers))\n",
    "    if select:\n",
    "        if not has_headers:\n",
    "            raise RuntimeError\n",
    "\n",
    "portfolio = parse_csv('../../data/portfolio.csv')\n",
    "print(portfolio)\n",
    "portfolio = parse_csv('../../data/portfolio.csv', select=['name','shares'])\n",
    "print(portfolio)\n",
    "portfolio = parse_csv('../../data/portfolio.csv', has_headers=True)\n",
    "print(portfolio)\n",
    "portfolio = parse_csv('../../data/portfolio.csv', select=['name','shares'], has_headers=True)\n",
    "print(portfolio)"
   ]
  },
  {
   "cell_type": "code",
   "execution_count": 80,
   "metadata": {},
   "outputs": [
    {
     "name": "stdout",
     "output_type": "stream",
     "text": [
      "[{'name': 'AA', 'shares': 100, 'price': 32.2}, {'name': 'IBM', 'shares': 50, 'price': 91.1}, {'name': 'CAT', 'shares': 150, 'price': 83.44}, {'name': 'MSFT', 'shares': 200, 'price': 51.23}, {'name': 'GE', 'shares': 95, 'price': 40.37}, {'name': 'MSFT', 'shares': 50, 'price': 65.1}, {'name': 'IBM', 'shares': 100, 'price': 70.44}]\n",
      "--------------------------------------------------------------------------------\n",
      "invalid literal for int() with base 10: 'shares'\n"
     ]
    }
   ],
   "source": [
    "# 지난 섹션에서 작성한 parse_csv() 함수는 사용자 정의 컬럼을 선택할 수 있게 해주지만, \n",
    "# 입력 데이터 파일에 컬럼 헤더가 있어야만 올바로 작동한다.\n",
    "\n",
    "# select와 has_headers=False 인자가 함께 전달되는 경우 예외를 일으키게 코드를 수정해 보라. 예:\n",
    "\n",
    "# >>> parse_csv('Data/prices.csv', select=['name','price'], has_headers=False)\n",
    "# Traceback (most recent call last):\n",
    "#   File \"<stdin>\", line 1, in <module>\n",
    "#   File \"fileparse.py\", line 9, in parse_csv\n",
    "#     raise RuntimeError(\"select argument requires column headers\")\n",
    "# RuntimeError: select argument requires column headers\n",
    "# >>>\n",
    "\n",
    "# fileparse.py\n",
    "import csv\n",
    "\n",
    "def parse_csv(filename, select=None, types=[str, int, float], has_headers=False, delimiter=','):\n",
    "    '''\n",
    "    CSV 파일을 파싱해 레코드의 목록을 생성\n",
    "    ''' \n",
    "    if select:\n",
    "        if not has_headers:\n",
    "            raise RuntimeError('맞추어라 대가리를')\n",
    "\n",
    "        \n",
    "    with open(filename, 'r') as f:\n",
    "        dell = ','\n",
    "        rows = csv.reader(f, delimiter=delimiter)\n",
    "        # rows = csv.reader(f, delimiter=' ')\n",
    "        \n",
    "        \n",
    "        # 헤더(머리말)를 읽음\n",
    "        if has_headers:\n",
    "            headers = next(rows)\n",
    "        else:\n",
    "            headers = []\n",
    "        \n",
    "        # 컬럼 선택기가 주어지면, 지정한 컬럼의 인덱스를 찾는다.\n",
    "        # 또한 결과 딕셔너리에 사용할 헤더의 집합을 좁힌다\n",
    "        if select:\n",
    "            indices = [headers.index(colname) for colname in select]\n",
    "            headers = select\n",
    "        else:\n",
    "            indices = []\n",
    "\n",
    "        records = []\n",
    "\n",
    "        for row in rows:\n",
    "            if not row:         # 데이터가 없는 행은 건너뜀\n",
    "                continue\n",
    "\n",
    "            # 특정 컬럼이 선택되었으면 필터링 과 자료형 변환\n",
    "            if indices:\n",
    "                row = [ row[index] for index in indices ]\n",
    "        \n",
    "            if types:\n",
    "                row = [func(val) for func, val in zip(types, row) ]\n",
    "\n",
    "            # 딕셔너리를 만듦\n",
    "            if has_headers:    \n",
    "                record = dict(zip(headers, row))\n",
    "            else:\n",
    "                record = tuple(row)\n",
    "            records.append(record)\n",
    "    return records\n",
    "\n",
    "# 일부 데이터만 읽기\n",
    "portfolio = parse_csv('../../data/portfolio.dat', types=[str, int, float], has_headers=True, delimiter=' ')\n",
    "print(portfolio)\n",
    "print('-'*80)\n",
    "\n",
    "try:\n",
    "    portfolio = parse_csv('../../data/portfolio.dat', types=[str, int, float], has_headers=False, delimiter=' ')\n",
    "except RuntimeError as e:\n",
    "    print(e)\n",
    "\n",
    "except ValueError as e:\n",
    "    print(e)\n",
    "    # print(portfolio)\n",
    "    \n",
    "\n",
    "\n",
    "\n",
    "# 이 검사 외에, 함수에서 또 다른 종류의 입력값 검사를 수행해야 하는 것은 아닌지 궁금할 것이다. 예를 들어, 파일명이 문자열인지, 타입이 리스트인지, 아니면 다른 것인지 확인해야 할까?\n",
    "\n",
    "# 일반적인 규칙으로, 그러한 테스트를 건너뛰고, 잘못된 입력이 들어오면 프로그램이 실패하게 내버려두는 것이 최선일 때가 많다. 트레이스백 메시지가 문제를 지목하여 디버깅을 도와줄 것이다.\n",
    "\n",
    "# 위에서 확인을 추가한 이유는 프로그램이 무의미하게 실행되는 것을 피하기 위해서다(예: 컬럼 헤더를 필요로 하는 기능을 사용함에도 불구하고, 그와 동시에 아무 헤더도 없다고 지정하는 것).\n",
    "\n",
    "# 이는 호출하는 코드에 프로그래밍 오류가 있음을 가리킨다. \"발생해서는 안 되는\" 케이스를 검사하는 것은 좋은 생각이다."
   ]
  },
  {
   "cell_type": "markdown",
   "metadata": {},
   "source": [
    "### 연습 문제 3.9: 예외를 붙잡기"
   ]
  },
  {
   "cell_type": "code",
   "execution_count": 100,
   "metadata": {},
   "outputs": [
    {
     "name": "stdout",
     "output_type": "stream",
     "text": [
      "Row 0: Couldn't convert [['name', 'shares', 'price']]\n",
      "Row 0: Reason invalid literal for int() with base 10: 'shares'\n",
      "Row 4: Couldn't convert [['MSFT', '', '51.23']]\n",
      "Row 4: Reason invalid literal for int() with base 10: ''\n",
      "Row 7: Couldn't convert [['IBM', '', '70.44']]\n",
      "Row 7: Reason invalid literal for int() with base 10: ''\n",
      "[('name', 'shares', 'price'), ('AA', 100, 32.2), ('IBM', 50, 91.1), ('CAT', 150, 83.44), ('MSFT', '', '51.23'), ('GE', 95, 40.37), ('MSFT', 50, 65.1), ('IBM', '', '70.44')]\n"
     ]
    }
   ],
   "source": [
    "# 앞에서 작성한 parse_csv() 함수는 파일의 전체 내용을 처리하는 데 사용된다. \n",
    "# 하지만, 실제 세계에서는 입력 파일이 손상되거나, 값이 누락되거나, 오류 데이터가 섞여 있을 수 있다. \n",
    "# 다음과 같이 실험해보자.\n",
    "\n",
    "# >>> portfolio = parse_csv('Data/missing.csv', types=[str, int, float])\n",
    "# Traceback (most recent call last):\n",
    "#   File \"<stdin>\", line 1, in <module>\n",
    "#   File \"fileparse.py\", line 36, in parse_csv\n",
    "#     row = [func(val) for func, val in zip(types, row)]\n",
    "# ValueError: invalid literal for int() with base 10: ''\n",
    "# >>>\n",
    "# 레코드 생성 도중 발생한 모든 ValueError 예외를 붙잡아, 변환이 불가능한 행에 대해 경고 메시지를 프린트하도록 parse_csv() 함수를 수정하라.\n",
    "# fileparse.py\n",
    "import csv\n",
    "\n",
    "def parse_csv(filename, select=None, types=[str, int, float], has_headers=False, delimiter=','):\n",
    "    '''\n",
    "    CSV 파일을 파싱해 레코드의 목록을 생성\n",
    "    ''' \n",
    "    if select:\n",
    "        if not has_headers:\n",
    "            raise RuntimeError('맞추어라 대가리를')\n",
    "\n",
    "    with open(filename, 'r') as f:\n",
    "        dell = ','\n",
    "        rows = csv.reader(f, delimiter=delimiter)\n",
    "        # rows = csv.reader(f, delimiter=' ')\n",
    "        \n",
    "        \n",
    "        # 헤더(머리말)를 읽음\n",
    "        if has_headers:\n",
    "            headers = next(rows)\n",
    "        else:\n",
    "            headers = []\n",
    "        \n",
    "        # 컬럼 선택기가 주어지면, 지정한 컬럼의 인덱스를 찾는다.\n",
    "        # 또한 결과 딕셔너리에 사용할 헤더의 집합을 좁힌다\n",
    "        if select:\n",
    "            indices = [headers.index(colname) for colname in select]\n",
    "            headers = select\n",
    "        else:\n",
    "            indices = []\n",
    "\n",
    "        records = []\n",
    "\n",
    "        for i, row in enumerate(rows):\n",
    "            if not row:         # 데이터가 없는 행은 건너뜀\n",
    "                continue\n",
    "\n",
    "            try:\n",
    "                # 특정 컬럼이 선택되었으면 필터링 과 자료형 변환\n",
    "                if indices:\n",
    "                    row = [ row[index] for index in indices ]\n",
    "            \n",
    "                if types:\n",
    "                    row = [func(val) for func, val in zip(types, row) ]\n",
    "                    \n",
    "            except ValueError as e:\n",
    "                print(f\"Row {i}: Couldn't convert [{row}]\")\n",
    "                print(f\"Row {i}: Reason {e}\")\n",
    "\n",
    "            # 딕셔너리를 만듦\n",
    "            if has_headers:    \n",
    "                record = dict(zip(headers, row))\n",
    "            else:\n",
    "                record = tuple(row)\n",
    "            records.append(record)\n",
    "    return records\n",
    "\n",
    "portfolio = parse_csv('../../data/missing.csv', types=[str, int, float])\n",
    "print(portfolio)\n",
    "\n",
    "\n",
    "# 메시지에 행 번호와 실패 이유를 나타내는 정보를 포함한다. 함수를 테스트하기 위해, 위의 Data/missing.csv 파일을 읽는다. 예:\n",
    "\n",
    "# >>> portfolio = parse_csv('Data/missing.csv', types=[str, int, float])\n",
    "# Row 4: Couldn't convert ['MSFT', '', '51.23']\n",
    "# Row 4: Reason invalid literal for int() with base 10: ''\n",
    "# Row 7: Couldn't convert ['IBM', '', '70.44']\n",
    "# Row 7: Reason invalid literal for int() with base 10: ''\n",
    "# >>>\n",
    "# >>> portfolio\n",
    "# [{'price': 32.2, 'name': 'AA', 'shares': 100}, {'price': 91.1, 'name': 'IBM', 'shares': 50}, {'price': 83.44, 'name': 'CAT', 'shares': 150}, {'price': 40.37, 'name': 'GE', 'shares': 95}, {'price': 65.1, 'name': 'MSFT', 'shares': 50}]\n",
    "# >>>"
   ]
  },
  {
   "cell_type": "markdown",
   "metadata": {},
   "source": [
    "### 연습 문제 3.10: 오류 억제"
   ]
  },
  {
   "cell_type": "code",
   "execution_count": 1,
   "metadata": {},
   "outputs": [
    {
     "name": "stdout",
     "output_type": "stream",
     "text": [
      "Overwriting ../../test_bed/fileparse.py\n"
     ]
    }
   ],
   "source": [
    "%%writefile ../../test_bed/fileparse.py\n",
    "# 사용자가 명시적으로 원하는 경우 오류 메시지를 발생시키지 않게 parse_csv() 함수를 수정하라. 예:\n",
    "\n",
    "# >>> portfolio = parse_csv('Data/missing.csv', types=[str,int,float], silence_errors=True)\n",
    "# >>> portfolio\n",
    "# [{'price': 32.2, 'name': 'AA', 'shares': 100}, {'price': 91.1, 'name': 'IBM', 'shares': 50}, {'price': 83.44, 'name': 'CAT', 'shares': 150}, {'price': 40.37, 'name': 'GE', 'shares': 95}, {'price': 65.1, 'name': 'MSFT', 'shares': 50}]\n",
    "\n",
    "# fileparse.py\n",
    "import csv\n",
    "\n",
    "def parse_csv(filename, select=None, types=[str, int, float], has_headers=False, delimiter=',', silence_error=True):\n",
    "    '''\n",
    "    CSV 파일을 파싱해 레코드의 목록을 생성\n",
    "    ''' \n",
    "    if select:\n",
    "        if not has_headers:\n",
    "            raise RuntimeError('맞추어라 대가리를')\n",
    "\n",
    "    with open(filename, 'r') as f:\n",
    "        dell = ','\n",
    "        rows = csv.reader(f, delimiter=delimiter)\n",
    "        # rows = csv.reader(f, delimiter=' ')\n",
    "        \n",
    "        \n",
    "        # 헤더(머리말)를 읽음\n",
    "        if has_headers:\n",
    "            headers = next(rows)\n",
    "        else:\n",
    "            headers = []\n",
    "        \n",
    "        # 컬럼 선택기가 주어지면, 지정한 컬럼의 인덱스를 찾는다.\n",
    "        # 또한 결과 딕셔너리에 사용할 헤더의 집합을 좁힌다\n",
    "        if select:\n",
    "            indices = [headers.index(colname) for colname in select]\n",
    "            headers = select\n",
    "        else:\n",
    "            indices = []\n",
    "\n",
    "        records = []\n",
    "\n",
    "        for i, row in enumerate(rows):\n",
    "            if not row:         # 데이터가 없는 행은 건너뜀\n",
    "                continue\n",
    "\n",
    "            try:\n",
    "                # 특정 컬럼이 선택되었으면 필터링 과 자료형 변환\n",
    "                if indices:\n",
    "                    row = [ row[index] for index in indices ]\n",
    "            \n",
    "                if types:\n",
    "                    row = [func(val) for func, val in zip(types, row) ]\n",
    "                    \n",
    "            except ValueError as e:\n",
    "                if not silence_error:\n",
    "                    print(f\"Row {i}: Couldn't convert [{row}]\")\n",
    "                    print(f\"Row {i}: Reason {e}\")\n",
    "\n",
    "            # 딕셔너리를 만듦\n",
    "            if has_headers:    \n",
    "                record = dict(zip(headers, row))\n",
    "            else:\n",
    "                record = tuple(row)\n",
    "            records.append(record)\n",
    "    return records\n",
    "\n",
    "portfolio = parse_csv('../data/missing.csv', types=[str, int, float], silence_error=True)\n",
    "print(portfolio)\n",
    "\n",
    "\n",
    "\n",
    "# >>>\n",
    "# 대부분의 프로그램에서 오류 처리는 가장 어려운 부분이다. 일반적인 규칙은 오류를 조용히 무시해 버리지 말라는 것이다. 그렇게 하는 것보다는, 문제를 보고하되 사용자가 원할 때에 한해 오류 메시지를 숨기는 것이 낫다."
   ]
  },
  {
   "cell_type": "markdown",
   "metadata": {},
   "source": [
    "# 3.4 모듈"
   ]
  },
  {
   "cell_type": "markdown",
   "metadata": {},
   "source": [
    "## 모듈과 임포트"
   ]
  },
  {
   "cell_type": "code",
   "execution_count": null,
   "metadata": {},
   "outputs": [],
   "source": [
    "# 모듈과 임포트\n",
    "# -------------\n",
    "# 모든 파이썬 소스 파일은 모듈이다.\n",
    "\n",
    "# # foo.py\n",
    "# def grok(a):\n",
    "#     ...\n",
    "# def spam(b):\n",
    "#     ...\n",
    "# import 문은 모듈을 적재(load)하고 실행(execute)한다.\n",
    "\n",
    "# # program.py\n",
    "# import foo\n",
    "\n",
    "# a = foo.grok(2)\n",
    "# b = foo.spam('Hello')\n",
    "# ..."
   ]
  },
  {
   "cell_type": "markdown",
   "metadata": {},
   "source": [
    "## 네임스페이스"
   ]
  },
  {
   "cell_type": "code",
   "execution_count": null,
   "metadata": {},
   "outputs": [],
   "source": [
    "# 네임스페이스\n",
    "# ------------\n",
    "# 모듈은 이름이 있는 변수들의 컬렉션이며, 네임스페이스(namespace)라고 부르기도 한다. \n",
    "# 이름은 모두 글로벌 변수이며 함수는 소스 파일에 정의된다. \n",
    "# 임포트한 뒤, 모듈명은 프리픽스(prefix)로 사용된다. 네임스페이스라고 부르는 것은 그 때문이다.\n",
    "\n",
    "# import foo\n",
    "\n",
    "# a = foo.grok(2)\n",
    "# b = foo.spam('Hello')\n",
    "# ...\n",
    "\n",
    "# 모듈명은 파일명과 직접 연관된다(foo -> foo.py)."
   ]
  },
  {
   "cell_type": "markdown",
   "metadata": {},
   "source": [
    "## 글로벌 정의"
   ]
  },
  {
   "cell_type": "code",
   "execution_count": null,
   "metadata": {},
   "outputs": [],
   "source": [
    "# 글로벌 정의\n",
    "# -----------\n",
    "# 글로벌(global) 스코프에 정의된 모든 것은 모듈 네임스페이스에 존재한다. 같은 변수 x를 정의하는 두 모듈을 생각해 보자.\n",
    "\n",
    "# # foo.py\n",
    "# x = 42\n",
    "# def grok(a):\n",
    "#     ...\n",
    "\n",
    "# # bar.py\n",
    "# x = 37\n",
    "# def spam(a):\n",
    "#     ...\n",
    "\n",
    "# 두 경우 x 정의는 서로 다른 변수를 참조한다. 하나는 foo.x이고, 다른 하나는 bar.x다. 서로 다른 모듈이 같은 이름을 사용할 수 있으며, 이때 이름은 서로 충돌하지 않는다.\n",
    "\n",
    "# 모듈은 독립적이다(isolated)."
   ]
  },
  {
   "cell_type": "markdown",
   "metadata": {},
   "source": [
    "## 환경으로서의 모듈"
   ]
  },
  {
   "cell_type": "code",
   "execution_count": null,
   "metadata": {},
   "outputs": [],
   "source": [
    "# 환경으로서의 모듈\n",
    "# -----------------\n",
    "# 모듈은 내부에 정의된 모든 코드를 감싸는 환경을 형성한다.\n",
    "\n",
    "# # foo.py\n",
    "# x = 42\n",
    "\n",
    "# def grok(a):\n",
    "#     print(x)\n",
    "\n",
    "# 글로벌 변수들은 항상 감싸는 모듈(같은 파일)에 바인딩된다. 각 소스 파일은 개별적인 소우주다."
   ]
  },
  {
   "cell_type": "markdown",
   "metadata": {},
   "source": [
    "## 모듈 실행"
   ]
  },
  {
   "cell_type": "code",
   "execution_count": null,
   "metadata": {},
   "outputs": [],
   "source": [
    "# 모듈 실행\n",
    "# ---------\n",
    "# 모듈이 임포트될 때, 파일의 끝에 도달할 때까지 모듈의 모든 문장이 차례대로 실행된다. \n",
    "# 모듈 네임스페이스의 내용은 모두 글로벌 이름이며 실행 과정의 끝에 정의된다. \n",
    "# 글로벌 스코프에서 작업(프린팅, 파일 생성 등)을 수행하는 스크립팅 문장이 있다면, \n",
    "# 임포트할 때 수행되는 것을 볼 수 있을 것이다.\n",
    "\n",
    "# import 모듈 as 문\n",
    "# ------------\n",
    "# 모듈을 임포트하면서 그 이름을 바꿔 사용할 수 있다.\n",
    "\n",
    "# import math as m\n",
    "# def rectangular(r, theta):\n",
    "#     x = r * m.cos(theta)\n",
    "#     y = r * m.sin(theta)\n",
    "#     return x, y\n",
    "\n",
    "# 그냥 임포트할 때와 똑같이 작동한다. 한 파일 내에서 모듈 이름을 바꿔 부를 뿐이다.\n",
    "\n",
    "\n",
    "# from 모듈 import\n",
    "# ----------------\n",
    "# 다음과 같이 모듈에서 심볼을 선택해 로컬에서 사용할 수 있다.\n",
    "\n",
    "# from math import sin, cos\n",
    "\n",
    "# def rectangular(r, theta):\n",
    "#     x = r * cos(theta)\n",
    "#     y = r * sin(theta)\n",
    "#     return x, y\n",
    "\n",
    "# 이렇게 하면 모듈 프리픽스 없이도 모듈의 일부를 사용할 수 있다. 자주 사용하는 이름을 가져올 때 유용한 방식이다.\n",
    "\n",
    "\n",
    "# 임포트에 대한 설명\n",
    "# -----------------\n",
    "# 임포트를 어떤 방식으로 사용하든, 모듈이 작동하는 방식은 달라지지 않는다.\n",
    "\n",
    "# import math\n",
    "# # vs\n",
    "# import math as m\n",
    "# # vs\n",
    "# from math import cos, sin\n",
    "# ...\n",
    "# 특히, import는 항상 파일 전체를 실행시키며 모듈은 환경과 여전히 분리된다.\n",
    "\n",
    "# import 모듈 as 문은 로컬의 이름만 바꾼다. from math import cos, sin 문은 여전히 math 모듈 전체를 적재한다. 이것을 수행하면 모듈에 있는 cos와 sin이 로컬 스페이스에 복사될 뿐이다."
   ]
  },
  {
   "cell_type": "markdown",
   "metadata": {},
   "source": [
    "## 모듈 적재"
   ]
  },
  {
   "cell_type": "code",
   "execution_count": null,
   "metadata": {},
   "outputs": [],
   "source": [
    "# 모듈 적재\n",
    "# ---------\n",
    "# 각 모듈은 단 한 번만 적재 및 실행된다. 참고: 임포트를 여러 번 하더라도 이전에 적재한 모듈의 레퍼런스를 반환한다.\n",
    "\n",
    "# sys.modules은 적재된 모듈 전체의 딕셔너리다.\n",
    "\n",
    "import sys\n",
    "sys.modules.keys()\n",
    "# ['copy_reg', '__main__', 'site', '__builtin__', 'encodings', 'encodings.encodings', 'posixpath', ...]\n",
    "\n",
    "# 주의: 만약 모듈의 소스 코드를 변경한 후에 import 문을 수행하면 혼동이 생긴다. \n",
    "# 모듈을 임포트하면 sys.modules에 캐시되므로, 임포트를 여러 번 수행하면 이전에 적재된 모듈이 반환되며, \n",
    "# 모듈을 수정하더라도 반영되지 않는다. 수정한 모듈을 적재하는 가장 안전한 방법은 파이썬을 종료하고 다시 시작하는 것이다."
   ]
  },
  {
   "cell_type": "code",
   "execution_count": 107,
   "metadata": {},
   "outputs": [
    {
     "data": {
      "text/plain": [
       "['c:\\\\Users\\\\User\\\\Quick_Ref\\\\Programming\\\\Python\\\\Python 중급\\\\실용 파이썬 프로그래밍',\n",
       " 'c:\\\\Users\\\\User\\\\anaconda3\\\\python39.zip',\n",
       " 'c:\\\\Users\\\\User\\\\anaconda3\\\\DLLs',\n",
       " 'c:\\\\Users\\\\User\\\\anaconda3\\\\lib',\n",
       " 'c:\\\\Users\\\\User\\\\anaconda3',\n",
       " '',\n",
       " 'C:\\\\Users\\\\User\\\\AppData\\\\Roaming\\\\Python\\\\Python39\\\\site-packages',\n",
       " 'c:\\\\Users\\\\User\\\\anaconda3\\\\lib\\\\site-packages',\n",
       " 'c:\\\\Users\\\\User\\\\anaconda3\\\\lib\\\\site-packages\\\\win32',\n",
       " 'c:\\\\Users\\\\User\\\\anaconda3\\\\lib\\\\site-packages\\\\win32\\\\lib',\n",
       " 'c:\\\\Users\\\\User\\\\anaconda3\\\\lib\\\\site-packages\\\\Pythonwin',\n",
       " 'c:/temp/test']"
      ]
     },
     "execution_count": 107,
     "metadata": {},
     "output_type": "execute_result"
    }
   ],
   "source": [
    "import sys\n",
    "sys.path\n",
    "\n",
    "sys.path.append('c:/temp/test')\n",
    "sys.path"
   ]
  },
  {
   "cell_type": "code",
   "execution_count": 115,
   "metadata": {},
   "outputs": [
    {
     "name": "stdout",
     "output_type": "stream",
     "text": [
      "Overwriting c:/temp/test/aa.py\n"
     ]
    }
   ],
   "source": [
    "%%writefile c:/temp/test/aa.py\n",
    "def aa(a, b):\n",
    "    print('a * b= ', a*b)"
   ]
  },
  {
   "cell_type": "code",
   "execution_count": 119,
   "metadata": {},
   "outputs": [
    {
     "name": "stdout",
     "output_type": "stream",
     "text": [
      "Overwriting c:/temp/test/aa.py\n"
     ]
    }
   ],
   "source": [
    "%%writefile c:/temp/test/aa.py\n",
    "def aa(a, b, c):\n",
    "    print('a * b * c= ', a*b*c)"
   ]
  },
  {
   "cell_type": "code",
   "execution_count": 118,
   "metadata": {},
   "outputs": [
    {
     "name": "stdout",
     "output_type": "stream",
     "text": [
      "Writing c:/temp/test/bb.py\n"
     ]
    }
   ],
   "source": [
    "%%writefile c:/temp/test/bb.py\n",
    "import aa\n",
    "aa.aa(3, 4)\n"
   ]
  },
  {
   "cell_type": "markdown",
   "metadata": {},
   "source": [
    "## 모듈 위치"
   ]
  },
  {
   "cell_type": "code",
   "execution_count": 137,
   "metadata": {},
   "outputs": [
    {
     "data": {
      "text/plain": [
       "['c:\\\\Users\\\\User\\\\Quick_Ref\\\\Programming\\\\Python\\\\Python 중급\\\\실용 파이썬 프로그래밍',\n",
       " 'c:\\\\Users\\\\User\\\\anaconda3\\\\python39.zip',\n",
       " 'c:\\\\Users\\\\User\\\\anaconda3\\\\DLLs',\n",
       " 'c:\\\\Users\\\\User\\\\anaconda3\\\\lib',\n",
       " 'c:\\\\Users\\\\User\\\\anaconda3',\n",
       " '',\n",
       " 'C:\\\\Users\\\\User\\\\AppData\\\\Roaming\\\\Python\\\\Python39\\\\site-packages',\n",
       " 'c:\\\\Users\\\\User\\\\anaconda3\\\\lib\\\\site-packages',\n",
       " 'c:\\\\Users\\\\User\\\\anaconda3\\\\lib\\\\site-packages\\\\win32',\n",
       " 'c:\\\\Users\\\\User\\\\anaconda3\\\\lib\\\\site-packages\\\\win32\\\\lib',\n",
       " 'c:\\\\Users\\\\User\\\\anaconda3\\\\lib\\\\site-packages\\\\Pythonwin',\n",
       " 'c:/temp/test',\n",
       " 'c:/temp/test',\n",
       " '../../test_bed',\n",
       " '../../test_bed',\n",
       " '../../test_bed',\n",
       " '../../test_bed']"
      ]
     },
     "execution_count": 137,
     "metadata": {},
     "output_type": "execute_result"
    }
   ],
   "source": [
    "# 파이썬은 모듈을 찾을 때 경로 리스트(sys.path)를 참고한다.\n",
    "\n",
    "import sys\n",
    "sys.path\n",
    "# [\n",
    "#   '',\n",
    "#   '/usr/local/lib/python36/python36.zip',\n",
    "#   '/usr/local/lib/python36',\n",
    "#   ...\n",
    "# ]\n",
    "\n",
    "# 현재 작업 디렉터리가 가장 먼저 온다."
   ]
  },
  {
   "cell_type": "markdown",
   "metadata": {},
   "source": [
    "## 모듈 검색 경로"
   ]
  },
  {
   "cell_type": "code",
   "execution_count": 123,
   "metadata": {},
   "outputs": [],
   "source": [
    "# 모듈 검색 경로\n",
    "# --------------\n",
    "# 언급한 바와 같이, sys.path에는 검색 경로가 있다. 필요한 경우 수작업으로 변경할 수 있다.\n",
    "\n",
    "# 환경 변수를 통해 경로를 추가할 수도 있다.\n",
    "\n",
    "# % env PYTHONPATH=/project/foo/pyfiles python3\n",
    "\n",
    "# Python 3.6.0 (default, Feb 3 2017, 05:53:21)\n",
    "# [GCC 4.2.1 Compatible Apple LLVM 8.0.0 (clang-800.0.38)]\n",
    "# >>> import sys\n",
    "# >>> sys.path\n",
    "# ['','/project/foo/pyfiles', ...]\n",
    "\n",
    "# 일반적으로, 모듈 검색 경로를 수작업으로 조정할 필요는 없다. 하지만, 일반적이지 않은 위치에 있다든지 현재 작업 디렉터리에서 액세스할 준비가 되지 않은 파이썬 코드를 임포트할 일이 생기곤 한다."
   ]
  },
  {
   "cell_type": "markdown",
   "metadata": {},
   "source": [
    "## 연습 문제"
   ]
  },
  {
   "cell_type": "code",
   "execution_count": null,
   "metadata": {},
   "outputs": [],
   "source": [
    "# 이 연습 문제는 모듈과 관련 있기 때문에, 파이썬을 적절한 환경에서 실행하는 것이 매우 중요하다. \n",
    "# 프로그래머들이 겪는 모듈과 관련된 문제는 대부분 현재 작업 디렉터리 또는 파이썬 경로 설정과 관련된다. \n",
    "# 이 코스에서는 작성하는 모든 코드가 Work/ 디렉터리에 있는 것으로 가정한다. \n",
    "# 최선의 결과를 얻으려면, 인터프리터도 그 디렉터리에서 실행하라. \n",
    "# 그렇게 하지 않으려면 sys.path에 practical-python/Work를 추가해야 한다."
   ]
  },
  {
   "cell_type": "markdown",
   "metadata": {},
   "source": [
    "\n",
    "### 연습 문제 3.11: 모듈 임포트"
   ]
  },
  {
   "cell_type": "code",
   "execution_count": 1,
   "metadata": {},
   "outputs": [],
   "source": [
    "import sys\n",
    "sys.path.append('../../test_bed')"
   ]
  },
  {
   "cell_type": "code",
   "execution_count": 12,
   "metadata": {},
   "outputs": [
    {
     "data": {
      "text/plain": [
       "[{'name': 'AA', 'shares': 100, 'price': 32.2},\n",
       " {'name': 'IBM', 'shares': 50, 'price': 91.1},\n",
       " {'name': 'CAT', 'shares': 150, 'price': 83.44},\n",
       " {'name': 'MSFT', 'shares': 200, 'price': 51.23},\n",
       " {'name': 'GE', 'shares': 95, 'price': 40.37},\n",
       " {'name': 'MSFT', 'shares': 50, 'price': 65.1},\n",
       " {'name': 'IBM', 'shares': 100, 'price': 70.44}]"
      ]
     },
     "execution_count": 12,
     "metadata": {},
     "output_type": "execute_result"
    }
   ],
   "source": [
    "# 섹션 3에서 우리는 CSV 데이터 파일의 내용을 파싱하는 범용 함수 parse_csv()를 작성했다.\n",
    "\n",
    "# 이제 그 함수를 다른 프로그램에서 사용하는 법을 알아보자. 먼저, 새로운 셸 창을 시작한다. 파일이 있는 폴더로 이동한다. 그 파일들을 임포트할 것이다.\n",
    "\n",
    "# 파이썬 상호작용 모드를 시작한다.\n",
    "\n",
    "# bash % python3\n",
    "# Python 3.6.1 (v3.6.1:69c0db5050, Mar 21 2017, 01:21:04)\n",
    "# [GCC 4.2.1 (Apple Inc. build 5666) (dot 3)] on darwin\n",
    "# Type \"help\", \"copyright\", \"credits\" or \"license\" for more information.\n",
    "# >>>\n",
    "# 이전에 작성한 프로그램을 임포트해보자. 이전과 똑같이 출력이 표시된다. 모듈을 임포트하면 코드가 실행된다.\n",
    "\n",
    "import bounce\n",
    "# ... 출력을 보라 ...\n",
    "\n",
    "import mortage\n",
    "# ... 출력을 보라 ...\n",
    "\n",
    "import report\n",
    "# ... 출력을 보라 ...\n",
    "\n",
    "# 위와 같이 작동하지 않는다면 파이썬을 잘못된 디렉터리에서 실행하고 있을 가능성이 높다. 이제 fileparse 모듈을 임포트하고 도움말을 표시해 보자.\n",
    "\n",
    "import fileparse\n",
    "\n",
    "#help(fileparse)\n",
    "# ... 출력을 보라 ...\n",
    "\n",
    "#dir(fileparse)\n",
    "# ... 출력을 보라 ...\n",
    "# >>>\n",
    "# 이 모듈을 사용해 데이터를 읽는다.\n",
    "\n",
    "portfolio = fileparse.parse_csv('../../data/portfolio.csv',select=['name','shares','price'], has_headers=True, types=[str,int,float])\n",
    "portfolio\n",
    "# ... 출력을 보라 ...\n",
    "\n",
    "pricelist = fileparse.parse_csv('../../data/prices.csv',types=[str,float], has_headers=False)\n",
    "pricelist\n",
    "# ... 출력을 보라 ...\n",
    "\n",
    "prices = dict(pricelist)\n",
    "prices\n",
    "# ... 출력을 보라 ...\n",
    "\n",
    "prices['IBM']\n",
    "# 106.11\n",
    "# >>>\n",
    "# 모듈 이름을 포함하지 않도록 함수를 임포트해 보자.\n",
    "\n",
    "from fileparse import parse_csv\n",
    "portfolio = parse_csv('../../data/portfolio.csv', select=['name','shares','price'], has_headers=True, types=[str,int,float])\n",
    "portfolio\n",
    "# ... 출력을 보라 ...\n",
    "# >>>"
   ]
  },
  {
   "cell_type": "markdown",
   "metadata": {},
   "source": [
    "### 연습 문제 3.12: 라이브러리 모듈 사용하기"
   ]
  },
  {
   "cell_type": "code",
   "execution_count": 12,
   "metadata": {},
   "outputs": [
    {
     "name": "stdout",
     "output_type": "stream",
     "text": [
      "      Name     Shares      Price     Change\n",
      "---------- ---------- ---------- ---------- \n",
      "        AA        100       9.22     -22.98\n",
      "       IBM         50     106.28      15.18\n",
      "       CAT        150      35.46     -47.98\n",
      "      MSFT        200      20.89     -30.34\n",
      "        GE         95      13.48     -26.89\n",
      "      MSFT         50      20.89     -44.21\n",
      "       IBM        100     106.28      35.84\n"
     ]
    }
   ],
   "source": [
    "# 섹션 2에서 다음과 같은 주식 보고서를 생성하는 report.py 프로그램을 작성했다.\n",
    "\n",
    "#       Name     Shares      Price     Change\n",
    "# ---------- ---------- ---------- ----------\n",
    "#         AA        100       9.22     -22.98\n",
    "#        IBM         50     106.28      15.18\n",
    "#        CAT        150      35.46     -47.98\n",
    "#       MSFT        200      20.89     -30.34\n",
    "#         GE         95      13.48     -26.89\n",
    "#       MSFT         50      20.89     -44.21\n",
    "#        IBM        100     106.28      35.84\n",
    "# 모든 입력 파일의 처리에 fileparse 모듈에 있는 함수를 사용하도록 프로그램을 수정하라. 이 작업 위해 fileparse를 모듈로서 임포트하고 read_portfolio() 와 read_prices() 함수에서 parse_csv() 함수를 사용하게 수정한다.\n",
    "\n",
    "# 가격에 통화 기호($)를 포함해 다음과 같이 출력하게 수정해 보라.\n",
    "import csv\n",
    "import fileparse\n",
    "from babel.numbers import format_currency\n",
    "\n",
    "def make_header():\n",
    "    headers = ('Name', 'Shares', 'Price', 'Change')\n",
    "\n",
    "    for header in headers:\n",
    "        print(f\"{header:>10s} \", end='')\n",
    "    print()\n",
    "    for header in headers:\n",
    "        print(f\"{'-'*10:>10s} \", end='')\n",
    "    print() \n",
    "\n",
    "\n",
    "def read_portfolio(filename):\n",
    "    '''\n",
    "    Read a stock portfolio file into a list of dictionaries with keys\n",
    "    name, shares, and price.\n",
    "    '''\n",
    "    return fileparse.parse_csv(filename, select=['name','shares','price'], types=[str, int, float], has_headers=True)    \n",
    "\n",
    "\n",
    "def read_prices(filename):\n",
    "    '''\n",
    "    Read a CSV file of price data into a dict mapping names to prices\n",
    "    '''\n",
    "    return dict(fileparse.parse_csv(filename, types=[str, float], has_headers=False))\n",
    "\n",
    "\n",
    "def make_report_data(portfolio, prices):\n",
    "    '''\n",
    "    make a list of (name, shares, price, change) touples given a portfolio list and prices dictionary.\n",
    "    '''\n",
    "    report = []\n",
    "    for stock in portfolio:\n",
    "        current_price = prices[stock['name']]\n",
    "        change = current_price - stock['price']\n",
    "        summary = (stock['name'], stock['shares'], current_price, change)\n",
    "        \n",
    "        report.append(summary)\n",
    "    return report    \n",
    "\n",
    "def print_report(reportdata):\n",
    "    '''\n",
    "    Print a nicely formated table from a list of (name, shares, price, chang) tuple\n",
    "    '''\n",
    "    headers = ('Name', 'Shares', 'Price', 'Change')\n",
    "    print('%10s %10s %10s %10s' %headers)\n",
    "    print(('-'*10+' ')* len(headers))\n",
    "    for row in reportdata:\n",
    "        print('%10s %10d %10.2f %10.2f' % row)\n",
    "\n",
    "def portfolio_report(portfoliofile, pricefile):\n",
    "    '''\n",
    "    Make a stock report given portfolio and price data files\n",
    "    '''\n",
    "    # Read data files\n",
    "    portfolio = read_portfolio(portfoliofile)\n",
    "    prices = read_prices(pricefile)\n",
    "    \n",
    "    # Create the report data\n",
    "    report = make_report_data(portfolio, prices)\n",
    "    \n",
    "    # Print it out\n",
    "    print_report(report)\n",
    "\n",
    "portfolio_report('../../data/portfolio.csv', '../../data/prices.csv')\n",
    "    \n",
    "# prices = fileparse.parse_csv('../../data/prices.csv', types=[str, float])\n",
    "# print('AA: ', prices)\n",
    "# print('-'*80)\n",
    "\n",
    "# # prices = read_prices('../../data/prices.csv')\n",
    "# # print(prices)\n",
    "# # print('-'*80)\n",
    "# report = make_report(portfolio, prices)        \n",
    "# print(report)\n",
    "\n",
    "# make_header()\n",
    "# for name, shares, price, change in report:\n",
    "#     print(f\"{name:>10s} {shares:>10d} {format_currency(price,'USD', locale='en_US'):>10s} {change:>10.2f}\")\n",
    "\n",
    "# 이 연습 문제의 처음에 예로 든 상호작용적인 예제를 참고하라. 수정 후에도 이전과 똑같이 출력되어야 한다."
   ]
  },
  {
   "cell_type": "markdown",
   "metadata": {},
   "source": [
    "### 연습 문제 3.14: 라이브러리 임포트를 더 많이 사용하기"
   ]
  },
  {
   "cell_type": "code",
   "execution_count": 13,
   "metadata": {},
   "outputs": [
    {
     "data": {
      "text/plain": [
       "44671.15"
      ]
     },
     "execution_count": 13,
     "metadata": {},
     "output_type": "execute_result"
    }
   ],
   "source": [
    "import pcost\n",
    "\n",
    "pcost.portfolio_cost('../../data/portfolio.csv')\n",
    "# 44671.15\n",
    "\n",
    "# report.read_portfolio() 함수를 사용하게 pcost.py 파일을 수정하라."
   ]
  },
  {
   "cell_type": "markdown",
   "metadata": {},
   "source": [
    "# 3.5 메인 모듈"
   ]
  },
  {
   "cell_type": "markdown",
   "metadata": {},
   "source": [
    "## 메인 함수"
   ]
  },
  {
   "cell_type": "code",
   "execution_count": null,
   "metadata": {},
   "outputs": [],
   "source": [
    "# 메인 함수\n",
    "# ---------\n",
    "# 여러 프로그래밍 언어에는 메인(main) 함수 또는 메서드 개념이 있다.\n",
    "\n",
    "# // c / c++\n",
    "# int main(int argc, char *argv[]) {\n",
    "#     ...\n",
    "# }\n",
    "# // 자바\n",
    "# class myprog {\n",
    "#     public static void main(String args[]) {\n",
    "#         ...\n",
    "#     }\n",
    "# }\n",
    "# 이것은 애플리케이션을 시작할 때 처음 실행하는 함수다.\n",
    "\n",
    "# 파이썬 메인 모듈\n",
    "# ----------------\n",
    "# 파이썬에는 메인 함수나 메서드가 없다. 그 대신 메인 모듈이 있다. 처음 실행하는 소스 파일이 메인 모듈이다.\n",
    "\n",
    "# bash % python3 prog.py\n",
    "# ...\n",
    "# 인터프리터에 무엇을 전달하든, 그것이 메인 모듈이 된다. 이름이 무엇이든 상관없다.\n",
    "\n",
    "# __main__ 확인\n",
    "# -------------\n",
    "# 모듈이 메인 스크립트로 작동하는지 알아보는 관례적인 방법이다.\n",
    "\n",
    "# # prog.py\n",
    "# ...\n",
    "# if __name__ == '__main__':\n",
    "#     # 메인 프로그램으로서 실행 ...\n",
    "#     문장\n",
    "#     ...\n",
    "# 위 if 문에 속한 문장이 메인 프로그램이 된다.\n"
   ]
  },
  {
   "cell_type": "markdown",
   "metadata": {},
   "source": [
    "## 메인 프로그램 vs. 라이브러리 임포트"
   ]
  },
  {
   "cell_type": "code",
   "execution_count": null,
   "metadata": {},
   "outputs": [],
   "source": [
    "# 메인 프로그램 vs. 라이브러리 임포트\n",
    "# ----------------------------------\n",
    "# 모든 파이썬 파일은 메인으로 실행하거나 라이브러리로서 임포트된다.\n",
    "\n",
    "# bash % python3 prog.py # 메인으로서 실행\n",
    "# import prog   # 라이브러리 임포트되어 실행\n",
    "# 두 경우 모두 __name__은 모듈의 이름이다. 그러나 메인으로서 실행할 때만 __main__이 된다.\n",
    "\n",
    "# 라이브러리 임포트로서 실행할 때는 메인 프로그램으로서 실행하는 문장을 실행하고 싶지 않을 수 있다. \n",
    "# 그러므로 어떤 쓰임새인지를 if로 검사하는 것이다.\n",
    "\n",
    "# if __name__ == '__main__':\n",
    "#     # 임포트될 때는 실행하지 않는다 ...\n"
   ]
  },
  {
   "cell_type": "markdown",
   "metadata": {},
   "source": [
    "## 프로그램 템플릿"
   ]
  },
  {
   "cell_type": "code",
   "execution_count": null,
   "metadata": {},
   "outputs": [],
   "source": [
    "# 프로그램 템플릿\n",
    "# ---------------\n",
    "# 다음은 파이썬 프로그램을 작성하는 공통적인 프로그램 템플릿이다.\n",
    "\n",
    "# # prog.py\n",
    "# # Import 문(라이브러리)\n",
    "# import modules\n",
    "\n",
    "# # 함수\n",
    "# def spam():\n",
    "#     ...\n",
    "\n",
    "# def blah():\n",
    "#     ...\n",
    "\n",
    "# # 메인 함수\n",
    "# def main():\n",
    "#     ...\n",
    "\n",
    "# if __name__ == '__main__':\n",
    "#     main()"
   ]
  },
  {
   "cell_type": "markdown",
   "metadata": {},
   "source": [
    "## 명령행 도구"
   ]
  },
  {
   "cell_type": "code",
   "execution_count": null,
   "metadata": {},
   "outputs": [],
   "source": [
    "# 명령행 도구\n",
    "# -----------\n",
    "# 파이썬은 종종 명령행 도구로 사용된다.\n",
    "\n",
    "# bash % python3 report.py portfolio.csv prices.csv\n",
    "# 그 말은 스크립트를 셸 또는 터미널에서 실행한다는 뜻이다. 주용도는 자동화, 백그라운드 작업 등이다.\n",
    "\n",
    "\n",
    "\n",
    "# 명령행 인자\n",
    "# -----------\n",
    "# 명령행은 텍스트 열의 리스트다.\n",
    "\n",
    "# bash % python3 report.py portfolio.csv prices.csv\n",
    "# 이러한 텍스트 열의 리스트를 sys.argv에서 찾을 수 있다.\n",
    "\n",
    "# # 위 bash 명령에서\n",
    "# sys.argv # ['report.py, 'portfolio.csv', 'prices.csv']\n",
    "# 인자를 처리하는 간단한 예를 살펴보자.\n",
    "\n",
    "# import sys\n",
    "\n",
    "# if len(sys.argv) != 3:\n",
    "#     raise SystemExit(f'Usage: {sys.argv[0]} ' 'portfile pricefile')\n",
    "# portfile = sys.argv[1]\n",
    "# pricefile = sys.argv[2]\n",
    "# ..."
   ]
  },
  {
   "cell_type": "markdown",
   "metadata": {},
   "source": [
    "## 표준 입출력"
   ]
  },
  {
   "cell_type": "code",
   "execution_count": null,
   "metadata": {},
   "outputs": [],
   "source": [
    "# 표준 입출력\n",
    "# -----------\n",
    "# 표준 입출력(stdio)은 일반 파일과 똑같이 작동하는 파일이다.\n",
    "\n",
    "# sys.stdout\n",
    "# sys.stderr\n",
    "# sys.stdin\n",
    "\n",
    "# print는 기본적으로 sys.stdout로 지정(direct)된다. 입력은 sys.stdin으로부터 읽는다. \n",
    "# 트레이스백(Traceback)과 오류(error)는 sys.stderr로 지정된다.\n",
    "\n",
    "# stdio는 터미널, 파일, 파이프 등에 연결될 수 있다.\n",
    "\n",
    "# bash % python3 prog.py > results.txt\n",
    "# # 또는\n",
    "# bash % cmd1 | python3 prog.py | cmd2"
   ]
  },
  {
   "cell_type": "markdown",
   "metadata": {},
   "source": [
    "## 환경 변수(Environment Variable)"
   ]
  },
  {
   "cell_type": "code",
   "execution_count": null,
   "metadata": {},
   "outputs": [],
   "source": [
    "# 환경 변수(Environment Variable)\n",
    "# -------------------------------\n",
    "# 환경 변수는 셸에서 설정된다.\n",
    "\n",
    "# bash % setenv NAME dave\n",
    "# bash % setenv RSH ssh\n",
    "# bash % python3 prog.py\n",
    "# os.environ은 이러한 값을 담는 딕셔너리다.\n",
    "\n",
    "# import os\n",
    "\n",
    "# name = os.environ['NAME'] # 'dave'\n",
    "# 변경은 프로그램이 나중에 실행시키는 서브프로세스에 반영된다.\n"
   ]
  },
  {
   "cell_type": "markdown",
   "metadata": {},
   "source": [
    "## 프로그램 종료(Program Exit)"
   ]
  },
  {
   "cell_type": "markdown",
   "metadata": {},
   "source": [
    "## 프로그램 종료(Program Exit)"
   ]
  },
  {
   "cell_type": "code",
   "execution_count": null,
   "metadata": {},
   "outputs": [],
   "source": [
    "\n",
    "# ---------------------------\n",
    "# 프로그램 종료는 예외를 통해 처리된다.\n",
    "\n",
    "# raise SystemExit\n",
    "# raise SystemExit(exitcode)\n",
    "# raise SystemExit('Informative message')\n",
    "\n",
    "# 대안.\n",
    "\n",
    "# import sys\n",
    "# sys.exit(exitcode)\n",
    "# 0이 아닌 종료 코드(exit code)는 오류를 나타낸다.\n"
   ]
  },
  {
   "cell_type": "markdown",
   "metadata": {},
   "source": [
    "## #! 행"
   ]
  },
  {
   "cell_type": "code",
   "execution_count": null,
   "metadata": {},
   "outputs": [],
   "source": [
    "# #! 행\n",
    "# 유닉스에서 #! 행은 스크립트를 파이썬으로서 실행할 수 있다. 다음과 같이 스크립트 파일 첫행에 추가한다.\n",
    "\n",
    "# #!/usr/bin/env python3\n",
    "# # prog.py\n",
    "# ...\n",
    "# 실행 권한이 필요하다.\n",
    "\n",
    "# bash % chmod +x prog.py\n",
    "# # Then you can execute\n",
    "# bash % prog.py\n",
    "# ... 출력 ...\n",
    "# 참고: 윈도우의 Python Launcher도 언어 버전을 확인하기 위해 #! 행을 찾는다.\n",
    "\n"
   ]
  },
  {
   "cell_type": "markdown",
   "metadata": {},
   "source": [
    "## 스크립트 템플릿"
   ]
  },
  {
   "cell_type": "code",
   "execution_count": null,
   "metadata": {},
   "outputs": [],
   "source": [
    "# 스크립트 템플릿\n",
    "# ---------------\n",
    "# 끝으로, 명령행 스크립트로서 실행되는 파이썬 프로그램을 위한 공통적인 코드 터미널이 있다.\n",
    "\n",
    "# #!/usr/bin/env python3\n",
    "# # prog.py\n",
    "\n",
    "# # Import statements (libraries)\n",
    "# import modules\n",
    "\n",
    "# # Functions\n",
    "# def spam():\n",
    "#     ...\n",
    "\n",
    "# def blah():\n",
    "#     ...\n",
    "\n",
    "# # 메인 함수\n",
    "# def main(argv):\n",
    "#     # 명령행 인자, 환경 변수 등을 파싱.\n",
    "#     ...\n",
    "\n",
    "# if __name__ == '__main__':\n",
    "#     import sys\n",
    "#     main(sys.argv)"
   ]
  },
  {
   "cell_type": "markdown",
   "metadata": {},
   "source": [
    "## 연습 문제"
   ]
  },
  {
   "cell_type": "markdown",
   "metadata": {},
   "source": [
    "### 연습 문제 3.15: main() 함수"
   ]
  },
  {
   "cell_type": "code",
   "execution_count": null,
   "metadata": {},
   "outputs": [],
   "source": [
    "# report.py 파일에 명령행 옵션의 리스트를 받아 이전과 같은 출력을 생성하는 main() 함수를 추가하자. 그것을 다음과 같이 상호작용적으로 실행할 수 있어야 한다.\n",
    "\n",
    "# >>> import report\n",
    "# >>> report.main(['report.py', 'Data/portfolio.csv', 'Data/prices.csv'])\n",
    "#       Name     Shares      Price     Change\n",
    "# ---------- ---------- ---------- ----------\n",
    "#         AA        100       9.22     -22.98\n",
    "#        IBM         50     106.28      15.18\n",
    "#        CAT        150      35.46     -47.98\n",
    "#       MSFT        200      20.89     -30.34\n",
    "#         GE         95      13.48     -26.89\n",
    "#       MSFT         50      20.89     -44.21\n",
    "#        IBM        100     106.28      35.84\n",
    "       \n",
    "\n",
    "# 비슷한 main() 함수를 갖도록 pcost.py 파일을 수정하자.\n",
    "\n",
    "# >>> import pcost\n",
    "# >>> pcost.main(['pcost.py', 'Data/portfolio.csv'])\n",
    "# Total cost: 44671.15\n",
    "# >>>"
   ]
  },
  {
   "cell_type": "code",
   "execution_count": 4,
   "metadata": {},
   "outputs": [
    {
     "name": "stdout",
     "output_type": "stream",
     "text": [
      "Overwriting ../../test_bed/report.py\n"
     ]
    }
   ],
   "source": [
    "%%writefile ../../test_bed/report.py\n",
    "'''\n",
    "Reporting Program Tools\n",
    "'''\n",
    "import csv\n",
    "import fileparse\n",
    "from babel.numbers import format_currency\n",
    "\n",
    "def make_header():\n",
    "    headers = ('Name', 'Shares', 'Price', 'Change')\n",
    "\n",
    "    for header in headers:\n",
    "        print(f\"{header:>10s} \", end='')\n",
    "    print()\n",
    "    for header in headers:\n",
    "        print(f\"{'-'*10:>10s} \", end='')\n",
    "    print() \n",
    "\n",
    "\n",
    "def read_portfolio(filename):\n",
    "    '''\n",
    "    Read a stock portfolio file into a list of dictionaries with keys\n",
    "    name, shares, and price.\n",
    "    '''\n",
    "    return fileparse.parse_csv(filename, select=['name','shares','price'], types=[str, int, float], has_headers=True)    \n",
    "\n",
    "\n",
    "def read_prices(filename):\n",
    "    '''\n",
    "    Read a CSV file of price data into a dict mapping names to prices\n",
    "    '''\n",
    "    return dict(fileparse.parse_csv(filename, types=[str, float], has_headers=False))\n",
    "\n",
    "\n",
    "def make_report_data(portfolio, prices):\n",
    "    '''\n",
    "    make a list of (name, shares, price, change) touples given a portfolio list and prices dictionary.\n",
    "    '''\n",
    "    report = []\n",
    "    for stock in portfolio:\n",
    "        current_price = prices[stock['name']]\n",
    "        change = current_price - stock['price']\n",
    "        summary = (stock['name'], stock['shares'], current_price, change)\n",
    "        \n",
    "        report.append(summary)\n",
    "    return report    \n",
    "\n",
    "def print_report(reportdata):\n",
    "    '''\n",
    "    Print a nicely formated table from a list of (name, shares, price, chang) tuple\n",
    "    '''\n",
    "    headers = ('Name', 'Shares', 'Price', 'Change')\n",
    "    print('%10s %10s %10s %10s' %headers)\n",
    "    print(('-'*10+' ')* len(headers))\n",
    "    for row in reportdata:\n",
    "        print('%10s %10d %10.2f %10.2f' % row)\n",
    "\n",
    "\n",
    "def portfolio_report(portfoliofile, pricefile):\n",
    "    '''\n",
    "    Make a stock report given portfolio and price data files\n",
    "    '''\n",
    "    # Read data files\n",
    "    portfolio = read_portfolio(portfoliofile)\n",
    "    prices = read_prices(pricefile)\n",
    "    \n",
    "    # Create the report data\n",
    "    report = make_report_data(portfolio, prices)\n",
    "    \n",
    "    # Print it out\n",
    "    print_report(report)\n",
    "\n",
    "\n",
    "def main(args):\n",
    "    if len(args) != 3:\n",
    "        raise SystemExit('Usage: %s portfile pricefile' % args[0])\n",
    "    \n",
    "    portfolio_report(args[1], args[2])\n",
    "\n",
    "\n",
    "if __name__ == '__main__':\n",
    "    import sys\n",
    "    main(sys.argv)"
   ]
  },
  {
   "cell_type": "code",
   "execution_count": 1,
   "metadata": {},
   "outputs": [],
   "source": [
    "import sys\n",
    "sys.path.append('../../test_bed/')"
   ]
  },
  {
   "cell_type": "code",
   "execution_count": 2,
   "metadata": {},
   "outputs": [
    {
     "name": "stdout",
     "output_type": "stream",
     "text": [
      "      Name     Shares      Price     Change\n",
      "---------- ---------- ---------- ---------- \n",
      "        AA        100       9.22     -22.98\n",
      "       IBM         50     106.28      15.18\n",
      "       CAT        150      35.46     -47.98\n",
      "      MSFT        200      20.89     -30.34\n",
      "        GE         95      13.48     -26.89\n",
      "      MSFT         50      20.89     -44.21\n",
      "       IBM        100     106.28      35.84\n"
     ]
    }
   ],
   "source": [
    "import report\n",
    "\n",
    "report.main(['report.py', '../../data/portfolio.csv', '../../data/prices.csv'])"
   ]
  },
  {
   "cell_type": "code",
   "execution_count": 3,
   "metadata": {},
   "outputs": [
    {
     "name": "stdout",
     "output_type": "stream",
     "text": [
      "Overwriting ../../test_bed/pcost.py\n"
     ]
    }
   ],
   "source": [
    "%%writefile ../../test_bed/pcost.py\n",
    "import report\n",
    "\n",
    "def portfolio_cost(filename):\n",
    "    '''포트폴리오 파일의 총 비용(주식수*가격)을 계산'''\n",
    "    \n",
    "    total_cost = 0.0\n",
    "    \n",
    "    portfolio = report.read_portfolio(filename)\n",
    "    for stock in portfolio:\n",
    "        nshares = stock['shares']\n",
    "        price = stock['price']\n",
    "        total_cost += nshares * price\n",
    "        \n",
    "    return total_cost\n",
    "\n",
    "\n",
    "def main(args):\n",
    "    if len(args) != 2:\n",
    "        raise SystemExit('Usage: %s portfile' % args[0])\n",
    "    \n",
    "    print('Total cost: ', portfolio_cost(args[1])) \n",
    "\n",
    "\n",
    "if __name__ == '__main__':\n",
    "    import sys\n",
    "    main(sys.argv)"
   ]
  },
  {
   "cell_type": "code",
   "execution_count": 1,
   "metadata": {},
   "outputs": [],
   "source": [
    "import sys\n",
    "sys.path.append('../../test_bed')"
   ]
  },
  {
   "cell_type": "code",
   "execution_count": 3,
   "metadata": {},
   "outputs": [
    {
     "name": "stdout",
     "output_type": "stream",
     "text": [
      "Total cost:  44671.15\n"
     ]
    }
   ],
   "source": [
    "import pcost\n",
    "\n",
    "pcost.main(['pcost.py','../../data/portfolio.csv'])"
   ]
  },
  {
   "cell_type": "markdown",
   "metadata": {},
   "source": [
    "### 연습 문제 3.16: 스크립트 만들기"
   ]
  },
  {
   "cell_type": "code",
   "execution_count": null,
   "metadata": {},
   "outputs": [],
   "source": [
    "report.py와 pcost.py 프로그램을 수정해 명령행에서 스크립트로서 실행할 수 있게 해 보자.\n",
    "\n",
    "bash $ python3 report.py Data/portfolio.csv Data/prices.csv\n",
    "      Name     Shares      Price     Change\n",
    "---------- ---------- ---------- ----------\n",
    "        AA        100       9.22     -22.98\n",
    "       IBM         50     106.28      15.18\n",
    "       CAT        150      35.46     -47.98\n",
    "      MSFT        200      20.89     -30.34\n",
    "        GE         95      13.48     -26.89\n",
    "      MSFT         50      20.89     -44.21\n",
    "       IBM        100     106.28      35.84\n",
    "\n",
    "bash $ python3 pcost.py Data/portfolio.csv\n",
    "Total cost: 44671.15"
   ]
  },
  {
   "cell_type": "markdown",
   "metadata": {},
   "source": [
    "# 3.6 설계에 관한 논의"
   ]
  },
  {
   "cell_type": "markdown",
   "metadata": {},
   "source": [
    "## 파일명 vs 이터러블"
   ]
  },
  {
   "cell_type": "code",
   "execution_count": null,
   "metadata": {},
   "outputs": [],
   "source": [
    "# 파일명 vs 이터러블\n",
    "# -----------------\n",
    "# 같은 출력을 반환하는 다음 두 프로그램을 비교해 보자.\n",
    "\n",
    "# # 파일명을 제공\n",
    "# ---------------\n",
    "# def read_data(filename):\n",
    "#     records = []\n",
    "#     with open(filename) as f:\n",
    "#         for line in f:\n",
    "#             ...\n",
    "#             records.append(r)\n",
    "#     return records\n",
    "\n",
    "# d = read_data('file.csv')\n",
    "\n",
    "\n",
    "# # 행을 제공\n",
    "# -----------\n",
    "# def read_data(lines):\n",
    "#     records = []\n",
    "#     for line in lines:\n",
    "#         ...\n",
    "#         records.append(r)\n",
    "#     return records\n",
    "\n",
    "# with open('file.csv') as f:\n",
    "#     d = read_data(f)\n",
    "\n",
    "# 어느 함수를 선호하는가? 이유는?\n",
    "# 이 함수 중 어느 것이 더 유연한가?\n"
   ]
  },
  {
   "cell_type": "markdown",
   "metadata": {},
   "source": [
    "## 심오한 아이디어: \"덕 타이핑\""
   ]
  },
  {
   "cell_type": "code",
   "execution_count": null,
   "metadata": {},
   "outputs": [],
   "source": [
    "# 심오한 아이디어: \"덕 타이핑\"\n",
    "# ---------------------------\n",
    "# 컴퓨터 프로그래밍에서 덕 타이핑(Duck Typing)이란, \n",
    "# 어떤 객체를 특정 목적으로 사용할 수 있는지 판단하는 것과 관련된 개념이다. \n",
    "# 덕 테스트(duck test)의 예를 들어 설명한다.\n",
    "\n",
    "# 만약 어떤 것이 오리처럼 생겼고, 오리처럼 헤엄치고, 오리처럼 꽥꽥거린다면, 그것은 아마도 오리일 것이다.\n",
    "\n",
    "# 위 read_data()의 두 번째 버전에서, 함수는 이터러블 객체를 예상한다. 파일의 행에 국한되지 않는다.\n",
    "\n",
    "# def read_data(lines):\n",
    "#     records = []\n",
    "#     for line in lines:\n",
    "#         ...\n",
    "#         records.append(r)\n",
    "#     return records\n",
    "\n",
    "# 이는 우리가 다른 lines를 가지고 사용할 수 있음을 의미한다.\n",
    "# --------------------------------------------------------\n",
    "\n",
    "# # CSV 파일\n",
    "# lines = open('data.csv')\n",
    "# data = read_data(lines)\n",
    "\n",
    "# # ZIP 압축된 파일\n",
    "# lines = gzip.open('data.csv.gz','rt')\n",
    "# data = read_data(lines)\n",
    "\n",
    "# # 표준 입력\n",
    "# lines = sys.stdin\n",
    "# data = read_data(lines)\n",
    "\n",
    "# # 문자열의 리스트\n",
    "# lines = ['ACME,50,91.1','IBM,75,123.45', ... ]\n",
    "# data = read_data(lines)\n",
    "# 이 설계는 상당히 유연하다.\n",
    "\n",
    "# 질문: 이러한 유연성을 환영해야 할까, 아니면 꺼려야 할까?\n",
    "\n",
    "# 라이브러리 설계 모범 사례\n",
    "# ------------------------\n",
    "# 유연한 코드 라이브러리는 더 나은 서비스를 제공할 수 있다. \n",
    "# 옵션을 제한하지 말자. \n",
    "# 유연성이 높을수록 더 강력해진다."
   ]
  },
  {
   "cell_type": "markdown",
   "metadata": {},
   "source": [
    "## 연습 문제"
   ]
  },
  {
   "cell_type": "markdown",
   "metadata": {},
   "source": [
    "### 연습 문제 3.17: 파일명에서 파일 비슷한 객체로"
   ]
  },
  {
   "cell_type": "code",
   "execution_count": null,
   "metadata": {},
   "outputs": [],
   "source": [
    "# 앞에서 parse_csv() 함수가 있는 fileparse.py 파일을 작성했다. 이 함수는 다음과 같이 작동한다.\n",
    "\n",
    "# >>> import fileparse\n",
    "# >>> portfolio = fileparse.parse_csv('Data/portfolio.csv', types=[str,int,float])\n",
    "\n",
    "# 이 함수는 파일명이 전달될 것으로 예상한다. \n",
    "# 이 코드의 유연성을 좀 더 높이면 좋을 것이다. \n",
    "# 파일과 유사하거나 이터러블한 객체를 다룰 수 있게 함수를 수정해 보라. 예:\n",
    "\n",
    "# >>> import fileparse\n",
    "# >>> import gzip\n",
    "\n",
    "# >>> with gzip.open('Data/portfolio.csv.gz', 'rt') as file:\n",
    "# ...      port = fileparse.parse_csv(file, types=[str,int,float])\n",
    "# ...\n",
    "\n",
    "# >>> lines = ['name,shares,price', 'AA,100,34.23', 'IBM,50,91.1', 'HPE,75,45.1']\n",
    "# >>> port = fileparse.parse_csv(lines, types=[str,int,float])\n",
    "\n",
    "# 새로운 코드에 예전처럼 파일명을 전달하면 무슨 일이 일어나는가?\n",
    "\n",
    "# >>> port = fileparse.parse_csv('Data/portfolio.csv', types=[str,int,float])\n",
    "# >>> port\n",
    "# ... 출력을 살펴보라(미쳤다) ...\n",
    "\n",
    "# 그렇다. 조심해야 한다. 이런 일이 생기지 않게 안전 장치를 둘 수는 없을까?"
   ]
  },
  {
   "cell_type": "code",
   "execution_count": 10,
   "metadata": {},
   "outputs": [],
   "source": [
    "import sys\n",
    "sys.path.append('../../test_bed')"
   ]
  },
  {
   "cell_type": "code",
   "execution_count": 2,
   "metadata": {},
   "outputs": [
    {
     "data": {
      "text/plain": [
       "[{'name': 'AA', 'shares': 100, 'price': 32.2},\n",
       " {'name': 'IBM', 'shares': 50, 'price': 91.1},\n",
       " {'name': 'CAT', 'shares': 150, 'price': 83.44},\n",
       " {'name': 'MSFT', 'shares': 200, 'price': 51.23},\n",
       " {'name': 'GE', 'shares': 95, 'price': 40.37},\n",
       " {'name': 'MSFT', 'shares': 50, 'price': 65.1},\n",
       " {'name': 'IBM', 'shares': 100, 'price': 70.44}]"
      ]
     },
     "execution_count": 2,
     "metadata": {},
     "output_type": "execute_result"
    }
   ],
   "source": [
    "import fileparse\n",
    "portfolio = fileparse.parse_csv('../../data/portfolio.csv', types=[str,int,float])\n",
    "portfolio"
   ]
  },
  {
   "cell_type": "code",
   "execution_count": 16,
   "metadata": {},
   "outputs": [
    {
     "name": "stdout",
     "output_type": "stream",
     "text": [
      "Overwriting ../../test_bed/fileparse.py\n"
     ]
    }
   ],
   "source": [
    "%%writefile ../../test_bed/fileparse.py\n",
    "#fileparse.py\n",
    "\n",
    "import csv\n",
    "\n",
    "def parse_csv(lines, select=None, types=None, has_headers=True, delimiter=',', silence_errors=False):\n",
    "    '''\n",
    "    Parse a CSV file into a list of records with type conveersion.\n",
    "    ''' \n",
    "    if select and not has_headers:\n",
    "        raise RuntimeError('select requires column headers')\n",
    "    \n",
    "    rows = csv.reader(lines, delimiter=delimiter)\n",
    "    \n",
    "    # Read the file headers (if any)\n",
    "    headers = next(rows) if has_headers else []\n",
    "    \n",
    "    \n",
    "    # If specific columns have been selected, make indices for filtering and set output columns\n",
    "    if select:\n",
    "        indices = [headers.index(colname) for colname in select]\n",
    "        headers = select\n",
    "    \n",
    "    records = []\n",
    "\n",
    "    for rowno, row in enumerate(rows, 1):\n",
    "        if not row:\n",
    "            continue\n",
    "           \n",
    "        # If specific column indices are selected, pick them out\n",
    "        if select:\n",
    "            row = [ row[index] for index in indices ]\n",
    "    \n",
    "        # Apply type conversion to the row\n",
    "        if types:\n",
    "            try:\n",
    "                row = [ func(val) for func, val in zip(types, row) ]\n",
    "            except ValueError as e:\n",
    "                if not silence_errors:\n",
    "                    print(f\"Row {rowno}: Couldn't convert {row}\")\n",
    "                    print(f\"Row {rowno}: Reason {e}\")\n",
    "                continue\n",
    "    \n",
    "        # Make a dictionary or a tuple\n",
    "        if headers:    \n",
    "            record = dict(zip(headers, row))\n",
    "        else:\n",
    "            record = tuple(row)\n",
    "        records.append(record)\n",
    "            \n",
    "    return records"
   ]
  },
  {
   "cell_type": "markdown",
   "metadata": {},
   "source": [
    "### 연습 문제 3.18: 기존 함수를 수정하기"
   ]
  },
  {
   "cell_type": "code",
   "execution_count": null,
   "metadata": {},
   "outputs": [],
   "source": [
    "# parse_csv()의 수정된 버전과 작동할 수 있게, report.py 파일의 read_portfolio()와 read_prices() 함수를 수정해 보라. \n",
    "# 코드를 조금만 고쳐야 한다. \n",
    "# 수정한 후에는 report.py와 pcost.py 프로그램이 이전과 같은 방식으로 작동해야 한다"
   ]
  },
  {
   "cell_type": "code",
   "execution_count": 17,
   "metadata": {},
   "outputs": [
    {
     "name": "stdout",
     "output_type": "stream",
     "text": [
      "Overwriting ../../test_bed/report.py\n"
     ]
    }
   ],
   "source": [
    "%%writefile ../../test_bed/report.py\n",
    "# report.py\n",
    "'''\n",
    "Reporting Program Tools\n",
    "'''\n",
    "import fileparse\n",
    "from babel.numbers import format_currency\n",
    "\n",
    "\n",
    "def read_portfolio(filename):\n",
    "    '''\n",
    "    Read a stock portfolio file into a list of dictionaries with keys\n",
    "    name, shares, and price.\n",
    "    '''\n",
    "    with open(filename) as lines:\n",
    "        return fileparse.parse_csv(lines, select=['name','shares','price'], types=[str, int, float])    \n",
    "\n",
    "\n",
    "def read_prices(filename):\n",
    "    '''\n",
    "    Read a CSV file of price data into a dict mapping names to prices\n",
    "    '''\n",
    "    with open(filename) as lines:\n",
    "        return dict(fileparse.parse_csv(lines, types=[str, float], has_headers=False))\n",
    "\n",
    "\n",
    "def make_report_data(portfolio, prices):\n",
    "    '''\n",
    "    make a list of (name, shares, price, change) touples given a portfolio list and prices dictionary.\n",
    "    '''\n",
    "    rows = []\n",
    "    for stock in portfolio:\n",
    "        current_price = prices[stock['name']]\n",
    "        change = current_price - stock['price']\n",
    "        summary = (stock['name'], stock['shares'], current_price, change)\n",
    "        rows.append(summary)\n",
    "    return rows    \n",
    "\n",
    "\n",
    "def print_report(reportdata):\n",
    "    '''\n",
    "    Print a nicely formated table from a list of (name, shares, price, chang) tuple\n",
    "    '''\n",
    "    headers = ('Name', 'Shares', 'Price', 'Change')\n",
    "    print('%10s %10s %10s %10s' %headers)\n",
    "    print(('-'*10+' ')* len(headers))\n",
    "    for row in reportdata:\n",
    "        print('%10s %10d %10.2f %10.2f' % row)\n",
    "\n",
    "\n",
    "def portfolio_report(portfoliofile, pricefile):\n",
    "    '''\n",
    "    Make a stock report given portfolio and price data files\n",
    "    '''\n",
    "    # Read data files\n",
    "    portfolio = read_portfolio(portfoliofile)\n",
    "    prices = read_prices(pricefile)\n",
    "    \n",
    "    # Create the report data\n",
    "    report = make_report_data(portfolio, prices)\n",
    "    \n",
    "    # Print it out\n",
    "    print_report(report)\n",
    "\n",
    "\n",
    "def main(args):\n",
    "    if len(args) != 3:\n",
    "        raise SystemExit('Usage: %s portfile pricefile' % args[0])\n",
    "    \n",
    "    portfolio_report(args[1], args[2])\n",
    "\n",
    "\n",
    "if __name__ == '__main__':\n",
    "    import sys\n",
    "    main(sys.argv)"
   ]
  },
  {
   "cell_type": "code",
   "execution_count": 18,
   "metadata": {},
   "outputs": [
    {
     "name": "stdout",
     "output_type": "stream",
     "text": [
      "Overwriting ../../test_bed/pcost.py\n"
     ]
    }
   ],
   "source": [
    "%%writefile ../../test_bed/pcost.py\n",
    "import report\n",
    "\n",
    "def portfolio_cost(filename):\n",
    "    '''\n",
    "    Computes the total cost (shares*price) of a portfolio file\n",
    "    '''\n",
    "    portfolio = report.read_portfolio(filename)\n",
    "    return sum(s['shares'] * s['price'] for s in portfolio)\n",
    "    \n",
    "\n",
    "def main(args):\n",
    "    if len(args) != 2:\n",
    "        raise SystemExit('Usage: %s portfile' % args[0])\n",
    "    \n",
    "    filename = args[1]\n",
    "    print('Total cost: ', portfolio_cost(filename)) \n",
    "\n",
    "\n",
    "if __name__ == '__main__':\n",
    "    import sys\n",
    "    main(sys.argv)\n"
   ]
  },
  {
   "cell_type": "code",
   "execution_count": 1,
   "metadata": {},
   "outputs": [],
   "source": [
    "import sys\n",
    "sys.path.append('../../test_bed')"
   ]
  },
  {
   "cell_type": "code",
   "execution_count": 2,
   "metadata": {},
   "outputs": [
    {
     "name": "stdout",
     "output_type": "stream",
     "text": [
      "[filename] <_io.TextIOWrapper name='../../data/portfolio.csv.gz' encoding='cp949'>\n"
     ]
    },
    {
     "ename": "TypeError",
     "evalue": "expected str, bytes or os.PathLike object, not TextIOWrapper",
     "output_type": "error",
     "traceback": [
      "\u001b[1;31m---------------------------------------------------------------------------\u001b[0m",
      "\u001b[1;31mTypeError\u001b[0m                                 Traceback (most recent call last)",
      "\u001b[1;32mc:\\Users\\User\\Quick_Ref\\Programming\\Python\\Python 중급\\실용 파이썬 프로그래밍\\3. 프로그램 조직화.ipynb 셀 147\u001b[0m in \u001b[0;36m<cell line: 12>\u001b[1;34m()\u001b[0m\n\u001b[0;32m     <a href='vscode-notebook-cell:/c%3A/Users/User/Quick_Ref/Programming/Python/Python%20%EC%A4%91%EA%B8%89/%EC%8B%A4%EC%9A%A9%20%ED%8C%8C%EC%9D%B4%EC%8D%AC%20%ED%94%84%EB%A1%9C%EA%B7%B8%EB%9E%98%EB%B0%8D/3.%20%ED%94%84%EB%A1%9C%EA%B7%B8%EB%9E%A8%20%EC%A1%B0%EC%A7%81%ED%99%94.ipynb#Y325sZmlsZQ%3D%3D?line=9'>10</a>\u001b[0m \u001b[39mimport\u001b[39;00m \u001b[39mgzip\u001b[39;00m\n\u001b[0;32m     <a href='vscode-notebook-cell:/c%3A/Users/User/Quick_Ref/Programming/Python/Python%20%EC%A4%91%EA%B8%89/%EC%8B%A4%EC%9A%A9%20%ED%8C%8C%EC%9D%B4%EC%8D%AC%20%ED%94%84%EB%A1%9C%EA%B7%B8%EB%9E%98%EB%B0%8D/3.%20%ED%94%84%EB%A1%9C%EA%B7%B8%EB%9E%A8%20%EC%A1%B0%EC%A7%81%ED%99%94.ipynb#Y325sZmlsZQ%3D%3D?line=11'>12</a>\u001b[0m \u001b[39mwith\u001b[39;00m gzip\u001b[39m.\u001b[39mopen(\u001b[39m'\u001b[39m\u001b[39m../../data/portfolio.csv.gz\u001b[39m\u001b[39m'\u001b[39m, \u001b[39m'\u001b[39m\u001b[39mrt\u001b[39m\u001b[39m'\u001b[39m) \u001b[39mas\u001b[39;00m file:\n\u001b[1;32m---> <a href='vscode-notebook-cell:/c%3A/Users/User/Quick_Ref/Programming/Python/Python%20%EC%A4%91%EA%B8%89/%EC%8B%A4%EC%9A%A9%20%ED%8C%8C%EC%9D%B4%EC%8D%AC%20%ED%94%84%EB%A1%9C%EA%B7%B8%EB%9E%98%EB%B0%8D/3.%20%ED%94%84%EB%A1%9C%EA%B7%B8%EB%9E%A8%20%EC%A1%B0%EC%A7%81%ED%99%94.ipynb#Y325sZmlsZQ%3D%3D?line=12'>13</a>\u001b[0m     port \u001b[39m=\u001b[39m fileparse\u001b[39m.\u001b[39;49mparse_csv(file, types\u001b[39m=\u001b[39;49m[\u001b[39mstr\u001b[39;49m,\u001b[39mint\u001b[39;49m,\u001b[39mfloat\u001b[39;49m])\n",
      "File \u001b[1;32mc:\\Users\\User\\Quick_Ref\\Programming\\Python\\Python 중급\\실용 파이썬 프로그래밍\\../../test_bed\\fileparse.py:11\u001b[0m, in \u001b[0;36mparse_csv\u001b[1;34m(filename, select, types, has_headers, delimiter)\u001b[0m\n\u001b[0;32m      6\u001b[0m \u001b[39m'''\u001b[39;00m\n\u001b[0;32m      7\u001b[0m \u001b[39mCSV 파일을 파싱해 레코드의 목록을 생성\u001b[39;00m\n\u001b[0;32m      8\u001b[0m \u001b[39m'''\u001b[39;00m \n\u001b[0;32m      9\u001b[0m \u001b[39mprint\u001b[39m(\u001b[39m'\u001b[39m\u001b[39m[filename]\u001b[39m\u001b[39m'\u001b[39m, filename)   \u001b[39m# debug\u001b[39;00m\n\u001b[1;32m---> 11\u001b[0m \u001b[39mwith\u001b[39;00m \u001b[39mopen\u001b[39;49m(filename, \u001b[39m'\u001b[39;49m\u001b[39mr\u001b[39;49m\u001b[39m'\u001b[39;49m) \u001b[39mas\u001b[39;00m f:\n\u001b[0;32m     12\u001b[0m     rows \u001b[39m=\u001b[39m csv\u001b[39m.\u001b[39mreader(f, delimiter\u001b[39m=\u001b[39mdelimiter)\n\u001b[0;32m     14\u001b[0m     \u001b[39m# 헤더(머리말)를 읽음\u001b[39;00m\n",
      "\u001b[1;31mTypeError\u001b[0m: expected str, bytes or os.PathLike object, not TextIOWrapper"
     ]
    }
   ],
   "source": [
    "# import fileparse\n",
    "# portfolio = fileparse.parse_csv('../../data/portfolio.csv', types=[str,int,float])\n",
    "# portfolio\n",
    "\n",
    "# 이 함수는 파일명이 전달될 것으로 예상한다. \n",
    "# 이 코드의 유연성을 좀 더 높이면 좋을 것이다. \n",
    "# 파일과 유사하거나 이터러블한 객체를 다룰 수 있게 함수를 수정해 보라. 예:\n",
    "\n",
    "import fileparse\n",
    "import gzip\n",
    "\n",
    "with gzip.open('../../data/portfolio.csv.gz', 'rt') as file:\n",
    "    port = fileparse.parse_csv(file, types=[str,int,float])\n",
    "\n",
    "\n",
    "#lines = ['name,shares,price', 'AA,100,34.23', 'IBM,50,91.1', 'HPE,75,45.1']\n",
    "#port = fileparse.parse_csv(lines, types=[str,int,float])"
   ]
  }
 ],
 "metadata": {
  "kernelspec": {
   "display_name": "Python 3.9.12 ('base')",
   "language": "python",
   "name": "python3"
  },
  "language_info": {
   "codemirror_mode": {
    "name": "ipython",
    "version": 3
   },
   "file_extension": ".py",
   "mimetype": "text/x-python",
   "name": "python",
   "nbconvert_exporter": "python",
   "pygments_lexer": "ipython3",
   "version": "3.9.12"
  },
  "orig_nbformat": 4,
  "vscode": {
   "interpreter": {
    "hash": "f08154012ddadd8e950e6e9e035c7a7b32c136e7647e9b7c77e02eb723a8bedb"
   }
  }
 },
 "nbformat": 4,
 "nbformat_minor": 2
}
