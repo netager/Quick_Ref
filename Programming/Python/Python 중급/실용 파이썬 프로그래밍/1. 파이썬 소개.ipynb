{
 "cells": [
  {
   "attachments": {},
   "cell_type": "markdown",
   "metadata": {},
   "source": [
    "# 1.1 파이썬"
   ]
  },
  {
   "attachments": {},
   "cell_type": "markdown",
   "metadata": {},
   "source": [
    "## 연습문제"
   ]
  },
  {
   "cell_type": "code",
   "execution_count": 5,
   "metadata": {},
   "outputs": [
    {
     "data": {
      "text/plain": [
       "28566.600000000002"
      ]
     },
     "execution_count": 5,
     "metadata": {},
     "output_type": "execute_result"
    }
   ],
   "source": [
    "# 행운아 래리는 구글 주식을 주당 235.14 달러에 75주 샀다. 오늘 구글 주가는 711.25 달러다. \n",
    "# 파이썬의 상호작용 모드를 계산기처럼 사용해, 래리가 주식을 모두 팔면 얼마를 벌 수 있는지 계산해보자.\n",
    "# --------------------------------------------------------------------------------------------\n",
    "buy_stock_price = 235.14\n",
    "buy_stock_cnt = 75\n",
    "cur_stock_price = 711.25\n",
    "\n",
    "benefit = (cur_stock_price - buy_stock_price) * buy_stock_cnt\n",
    "\n",
    "benefit * 0.8"
   ]
  },
  {
   "cell_type": "code",
   "execution_count": null,
   "metadata": {},
   "outputs": [],
   "source": [
    "help(abs)\n",
    "help(round)\n",
    "help('for')"
   ]
  },
  {
   "attachments": {},
   "cell_type": "markdown",
   "metadata": {},
   "source": [
    "# 1.2 첫 번째 프로그램"
   ]
  },
  {
   "attachments": {},
   "cell_type": "markdown",
   "metadata": {},
   "source": [
    "## 파이썬 실행하기\n",
    "## 상호작용 모드\n",
    "## 프로그램 작성하기\n",
    "## 프로그램 실행하기"
   ]
  },
  {
   "attachments": {},
   "cell_type": "markdown",
   "metadata": {},
   "source": [
    "## 예제 프로그램"
   ]
  },
  {
   "cell_type": "code",
   "execution_count": 15,
   "metadata": {},
   "outputs": [
    {
     "name": "stdout",
     "output_type": "stream",
     "text": [
      "Days:   1, Num Bills:          1, Bills Height:    0.00011\n",
      "Days:   2, Num Bills:          2, Bills Height:    0.00022\n",
      "Days:   3, Num Bills:          4, Bills Height:    0.00044\n",
      "Days:   4, Num Bills:          8, Bills Height:    0.00088\n",
      "Days:   5, Num Bills:         16, Bills Height:    0.00176\n",
      "Days:   6, Num Bills:         32, Bills Height:    0.00352\n",
      "Days:   7, Num Bills:         64, Bills Height:    0.00704\n",
      "Days:   8, Num Bills:        128, Bills Height:    0.01408\n",
      "Days:   9, Num Bills:        256, Bills Height:    0.02816\n",
      "Days:  10, Num Bills:        512, Bills Height:    0.05632\n",
      "Days:  11, Num Bills:       1024, Bills Height:    0.11264\n",
      "Days:  12, Num Bills:       2048, Bills Height:    0.22528\n",
      "Days:  13, Num Bills:       4096, Bills Height:    0.45056\n",
      "Days:  14, Num Bills:       8192, Bills Height:    0.90112\n",
      "Days:  15, Num Bills:      16384, Bills Height:    1.80224\n",
      "Days:  16, Num Bills:      32768, Bills Height:    3.60448\n",
      "Days:  17, Num Bills:      65536, Bills Height:    7.20896\n",
      "Days:  18, Num Bills:     131072, Bills Height:   14.41792\n",
      "Days:  19, Num Bills:     262144, Bills Height:   28.83584\n",
      "Days:  20, Num Bills:     524288, Bills Height:   57.67168\n",
      "Days:  21, Num Bills:    1048576, Bills Height:  115.34336\n",
      "Days:  22, Num Bills:    2097152, Bills Height:  230.68672\n",
      "Number of days:  23\n",
      "Number of bills: 4194304, WON : 5452595200\n",
      "Final height:  461.37344\n"
     ]
    }
   ],
   "source": [
    "# 어느 날 아침, 당신은 시카고의 시어스 타워(Sears tower) 근처를 거닐다가 보도에 1 달러 지폐를 한 장 올려뒀다. \n",
    "# 그 후 매일 외출할 때마다 그 위에 지폐를 얹어 탑을 쌓으며, 높이는 매일 두 배로 불어난다. \n",
    "# 돈으로 쌓은 탑의 높이가 시어스 타워의 높이와 같아지려면 시간이 얼마나 걸릴까?\n",
    "# ------------------------------------------------------------------------------------------------------\n",
    "bill_thickness = 0.11 * 0.001  # mm 를 m 로 변환\n",
    "sears_height = 442             # 442m\n",
    "num_bills = 1\n",
    "day = 1\n",
    "\n",
    "while num_bills * bill_thickness < sears_height:\n",
    "    print(f'Days: {day:3}, Num Bills: {num_bills:10}, Bills Height: {num_bills * bill_thickness:10}')\n",
    "    day += 1\n",
    "    num_bills = num_bills * 2\n",
    "\n",
    "print('Number of days: ', day)    \n",
    "print(f'Number of bills: {num_bills}, WON : {num_bills * 1300}')    \n",
    "print('Final height: ', num_bills * bill_thickness)    \n"
   ]
  },
  {
   "attachments": {},
   "cell_type": "markdown",
   "metadata": {},
   "source": [
    "## 문장(Statement)\n",
    "## 부연 설명\n",
    "## 변수(Variable)\n"
   ]
  },
  {
   "attachments": {},
   "cell_type": "markdown",
   "metadata": {},
   "source": [
    "## 타입(Type)"
   ]
  },
  {
   "cell_type": "code",
   "execution_count": null,
   "metadata": {},
   "outputs": [],
   "source": [
    "# 변숫값의 타입을 선언할 필요가 없다. 변수와 관련된 타입은 변수명이 아니라 오른쪽에 무엇이 오느냐에 따라 결정된다.\n",
    "# 파이썬은 동적으로 타입이 결정(dynamically typed)된다. \n",
    "# 프로그램이 실행됨에 따라 변수 \"타입\"이 무엇인지에 대한 인식이 달라질 수 있다. \n",
    "# 타입은 현재 할당된 값이 무엇인지에 달렸다."
   ]
  },
  {
   "attachments": {},
   "cell_type": "markdown",
   "metadata": {},
   "source": [
    "## 대소문자 구분\n",
    "## 루핑(Looping)\n",
    "## 들여쓰기(Indentation)"
   ]
  },
  {
   "attachments": {},
   "cell_type": "markdown",
   "metadata": {},
   "source": [
    "## 들여쓰기 모범 사례(best practice)"
   ]
  },
  {
   "cell_type": "code",
   "execution_count": null,
   "metadata": {},
   "outputs": [],
   "source": [
    "# 탭(tab) 대신 공백(space)을 사용한다.\n",
    "# 수준 당 4개의 공백을 사용한다.\n",
    "# 파이썬 구문을 인식하는 편집기를 사용한다."
   ]
  },
  {
   "attachments": {},
   "cell_type": "markdown",
   "metadata": {},
   "source": [
    "## 조건(Conditional)\n",
    "## 프린팅(Printing)\n",
    "## 사용자 입력\n",
    "## pass 문"
   ]
  },
  {
   "attachments": {},
   "cell_type": "markdown",
   "metadata": {},
   "source": [
    "## 연습문제\n",
    "### 1.5: 얌체공"
   ]
  },
  {
   "cell_type": "code",
   "execution_count": 27,
   "metadata": {},
   "outputs": [
    {
     "name": "stdout",
     "output_type": "stream",
     "text": [
      "Rebounce Count:   1, Rebounce Height:    60.0000\n",
      "Rebounce Count:   2, Rebounce Height:    36.0000\n",
      "Rebounce Count:   3, Rebounce Height:    21.6000\n",
      "Rebounce Count:   4, Rebounce Height:    12.9600\n",
      "Rebounce Count:   5, Rebounce Height:     7.7760\n",
      "Rebounce Count:   6, Rebounce Height:     4.6656\n",
      "Rebounce Count:   7, Rebounce Height:     2.7994\n",
      "Rebounce Count:   8, Rebounce Height:     1.6796\n",
      "Rebounce Count:   9, Rebounce Height:     1.0078\n",
      "Rebounce Count:  10, Rebounce Height:     0.6047\n"
     ]
    }
   ],
   "source": [
    "# 고무 공을 100미터 높이에서 떨어뜨린다. 이 공은 땅에 닿을 때마다 원래 높이의 3/5만큼 튀어오른다. \n",
    "# 공이 열 번 튈 동안, 그때마다 높이를 나타내는 테이블을 프린팅하는 프로그램 bounce.py를 작성하라.\n",
    "# ----------------------------------------------------------------------------------------\n",
    "rebounce_heiht = 100\n",
    "\n",
    "for cnt in range(1, 11):\n",
    "    rebounce_heiht *= 3 / 5\n",
    "    print(f'Rebounce Count: {cnt:3}, Rebounce Height: {rebounce_heiht:>10.4f}')\n",
    "    \n",
    "    "
   ]
  },
  {
   "attachments": {},
   "cell_type": "markdown",
   "metadata": {},
   "source": [
    "## 1.6: 디버깅"
   ]
  },
  {
   "cell_type": "code",
   "execution_count": 29,
   "metadata": {},
   "outputs": [
    {
     "name": "stdout",
     "output_type": "stream",
     "text": [
      "1 1 0.00011\n",
      "2 2 0.00022\n",
      "3 4 0.00044\n",
      "4 8 0.00088\n",
      "5 16 0.00176\n",
      "6 32 0.00352\n",
      "7 64 0.00704\n",
      "8 128 0.01408\n",
      "9 256 0.02816\n",
      "10 512 0.05632\n",
      "11 1024 0.11264\n",
      "12 2048 0.22528\n",
      "13 4096 0.45056\n",
      "14 8192 0.90112\n",
      "15 16384 1.80224\n",
      "16 32768 3.60448\n",
      "17 65536 7.20896\n",
      "18 131072 14.41792\n",
      "19 262144 28.83584\n",
      "20 524288 57.67168\n",
      "21 1048576 115.34336\n",
      "22 2097152 230.68672\n",
      "Number of days 23\n",
      "Number of bills 4194304\n",
      "Final height 461.37344\n"
     ]
    }
   ],
   "source": [
    "bill_thickness = 0.11 * 0.001    # 미터(0.11 mm)\n",
    "sears_height   = 442             # 높이(미터)\n",
    "num_bills      = 1\n",
    "day            = 1\n",
    "\n",
    "while num_bills * bill_thickness < sears_height:\n",
    "    print(day, num_bills, num_bills * bill_thickness)\n",
    "    day = day + 1\n",
    "    num_bills = num_bills * 2\n",
    "\n",
    "print('Number of days', day)\n",
    "print('Number of bills', num_bills)\n",
    "print('Final height', num_bills * bill_thickness)"
   ]
  },
  {
   "attachments": {},
   "cell_type": "markdown",
   "metadata": {},
   "source": [
    "# 1.3 숫자\n",
    "## 불린(bool)\n",
    "## 정수(int)\n",
    "## 부동 소수점(float)\n",
    "## 비교\n",
    "## 숫자 변환하기"
   ]
  },
  {
   "attachments": {},
   "cell_type": "markdown",
   "metadata": {},
   "source": [
    "## 연습문제"
   ]
  },
  {
   "attachments": {},
   "cell_type": "markdown",
   "metadata": {},
   "source": [
    "### 1.7: 데이브의 주택 담보 대출"
   ]
  },
  {
   "cell_type": "code",
   "execution_count": 86,
   "metadata": {},
   "outputs": [
    {
     "name": "stdout",
     "output_type": "stream",
     "text": [
      "Total payment months: 360 months, Total paid:  966279.60\n"
     ]
    }
   ],
   "source": [
    "# 데이브는 500,000 달러의 30년 고정 이율 주택 담보 대출(mortgage)을 받기로 결정했다. \n",
    "# 이율은 5%이고 매달 납부할 금액은 2684.11 달러다.\n",
    "\n",
    "# 다음은 대출 기간 동안 지불할 총액을 계산하는 프로그램이다.\n",
    "\n",
    "principal = 500000.0\n",
    "rate = 0.05\n",
    "payment = 2684.11\n",
    "total_paid = 0.0\n",
    "payment_months = 0\n",
    "\n",
    "while principal > 0:\n",
    "    principal = principal * (1+rate/12) - payment\n",
    "    total_paid = total_paid + payment\n",
    "    payment_months += 1\n",
    "\n",
    "print(f'Total payment months: {payment_months} months, Total paid: {total_paid:>10.2f}')\n",
    "    "
   ]
  },
  {
   "attachments": {},
   "cell_type": "markdown",
   "metadata": {},
   "source": [
    "### 1.8: 추가 납입"
   ]
  },
  {
   "cell_type": "code",
   "execution_count": 88,
   "metadata": {},
   "outputs": [
    {
     "name": "stdout",
     "output_type": "stream",
     "text": [
      "331  26,915.23 900,440.41\n",
      "332  24,343.26 903,124.52\n",
      "333  21,760.58 905,808.63\n",
      "334  19,167.14 908,492.74\n",
      "335  16,562.90 911,176.85\n",
      "336  13,947.80 913,860.96\n",
      "337  11,321.80 916,545.07\n",
      "338   8,684.87 919,229.18\n",
      "339   6,036.95 921,913.29\n",
      "340   3,377.99 924,597.40\n",
      "341     707.95 927,281.51\n",
      "342  -1,973.21 929,965.62\n",
      "Total payment months: 342 months, Total paid: 929,965.62\n"
     ]
    }
   ],
   "source": [
    "# 데이브가 처음 12개월 동안 매달 1000 달러를 추가로 납입한다면 어떻게 될까?\n",
    "# 이 추가 납입금 계산을 포함하도록 프로그램을 수정해 총 납입금액과 소요 월수를 프린트해보자.\n",
    "# 프로그램을 실행했을 때 총 납입금이 929,965.62, 소요 월수는 342로 나와야 한다.\n",
    "\n",
    "principal = 500000.0\n",
    "rate = 0.05\n",
    "payment = 2684.11\n",
    "total_paid = 0.0\n",
    "payment_months = 0\n",
    "\n",
    "while principal > 0:\n",
    "    payment_months += 1\n",
    "    \n",
    "    if payment_months < 13:\n",
    "        payment = 3684.11\n",
    "    else:\n",
    "        payment = 2684.11\n",
    "        \n",
    "    principal = principal * (1+rate/12) - payment\n",
    "    total_paid = total_paid + payment\n",
    "    \n",
    "    if payment_months > 330:\n",
    "        print(f'{payment_months:3} {principal:10,.2f} {total_paid:10,.2f}')\n",
    "\n",
    "print(f'Total payment months: {payment_months:,} months, Total paid: {total_paid:>10,.2f}')    \n"
   ]
  },
  {
   "attachments": {},
   "cell_type": "markdown",
   "metadata": {},
   "source": [
    "### 1.9: 추가 납입금 계산기"
   ]
  },
  {
   "cell_type": "code",
   "execution_count": 90,
   "metadata": {},
   "outputs": [
    {
     "name": "stdout",
     "output_type": "stream",
     "text": [
      "331  26,915.23 900,440.41   2,684.11\n",
      "332  24,343.26 903,124.52   2,684.11\n",
      "333  21,760.58 905,808.63   2,684.11\n",
      "334  19,167.14 908,492.74   2,684.11\n",
      "335  16,562.90 911,176.85   2,684.11\n",
      "336  13,947.80 913,860.96   2,684.11\n",
      "337  11,321.80 916,545.07   2,684.11\n",
      "338   8,684.87 919,229.18   2,684.11\n",
      "339   6,036.95 921,913.29   2,684.11\n",
      "340   3,377.99 924,597.40   2,684.11\n",
      "341     707.95 927,281.51   2,684.11\n",
      "342       0.00 927,992.41     710.90\n",
      "Total payment months: 342 months, Total paid: 927,992.41\n"
     ]
    }
   ],
   "source": [
    "# 추가 납입금을 일반적으로 다룰 수 있게 프로그램을 수정하자. 사용자가 다음 변수를 설정할 수 있게 한다.\n",
    "\n",
    "# 프로그램이 아래의 변숫값을 읽고 총 납입액을 계산하게 해 보자.\n",
    "# 데이브가 대출 시작 5년 후부터 4년간 매달 1000 달러를 추가로 지불할 경우 총 납입액은 얼마인가?\n",
    "\n",
    "principal = 500000.0\n",
    "rate = 0.05\n",
    "payment = 2684.11\n",
    "total_paid = 0.0\n",
    "payment_months = 0\n",
    "\n",
    "\n",
    "while principal > 0:\n",
    "    payment_months += 1\n",
    "    \n",
    "    if payment_months < 13:\n",
    "        payment = 3684.11\n",
    "    else:\n",
    "        payment = 2684.11\n",
    "\n",
    "    if payment > principal:\n",
    "        payment = principal * (1+rate/12)\n",
    "        principal = 0\n",
    "    else:\n",
    "        principal = principal * (1+rate/12) - payment        \n",
    "        \n",
    "    total_paid = total_paid + payment\n",
    "    \n",
    "    if payment_months > 330:\n",
    "        print(f'{payment_months:3} {principal:10,.2f} {total_paid:10,.2f} {payment:10,.2f}')\n",
    "\n",
    "print(f'Total payment months: {payment_months:,} months, Total paid: {total_paid:>10,.2f}') \n",
    "\n"
   ]
  },
  {
   "attachments": {},
   "cell_type": "markdown",
   "metadata": {},
   "source": [
    "### 1.10: 테이블 만들기"
   ]
  },
  {
   "cell_type": "code",
   "execution_count": 77,
   "metadata": {},
   "outputs": [
    {
     "name": "stdout",
     "output_type": "stream",
     "text": [
      "56 150,310.16 462195.74\n",
      "57 152,994.27 461437.45\n",
      "58 155,678.38 460676.0\n",
      "59 158,362.49 459911.37\n",
      "60 161,046.60 459143.56\n",
      "61 164,730.71 457372.55\n",
      "62 168,414.82 455594.16\n",
      "231 791,029.41 18770.95\n",
      "232 794,713.52 15165.05\n",
      "233 798,397.63 11544.13\n",
      "234 802,081.74 7908.12\n",
      "235 805,765.85 4256.96\n",
      "236 809,449.96 590.59\n",
      "237 813,134.07 -3091.06\n",
      "Total paid: 813,134.07\n",
      " Months: 237\n"
     ]
    }
   ],
   "source": [
    "# 월수, 현재까지의 납부액, 남은 원금을 나타내는 테이블을 프린트하게 프로그램을 수정해 보라. 다음과 같이 출력한다.\n",
    "# 1 2684.11 499399.22\n",
    "# 2 5368.22 498795.94\n",
    "# 3 8052.33 498190.15\n",
    "# 4 10736.44 497581.83\n",
    "# 5 13420.55 496970.98\n",
    "# ...\n",
    "# 308 874705.88 3478.83\n",
    "# 309 877389.99 809.21\n",
    "# 310 880074.1 -1871.53\n",
    "# Total paid 880074.1\n",
    "# Months 310\n",
    "# --------------------------------------------\n",
    "extra_payment_start = 61\n",
    "extra_payment_end_month = 108\n",
    "extra_payment = 1000\n",
    "\n",
    "principal = 500000.0\n",
    "rate = 0.05\n",
    "payment = 2684.11\n",
    "add_payment = payment + extra_payment\n",
    "total_paid = 0.0\n",
    "payment_months = 0\n",
    "\n",
    "while principal > 0:\n",
    "    payment_months += 1\n",
    "    \n",
    "    if extra_payment_start <= payment_months <= extra_payment_end_month:\n",
    "        payment = add_payment\n",
    "    else:\n",
    "        payment = payment\n",
    "        \n",
    "    principal = round(principal * (1+rate/12) - payment, 2)\n",
    "    total_paid = total_paid + payment\n",
    "    \n",
    "    if 55 < payment_months < 63:\n",
    "        print(f'{payment_months:,} {total_paid:>10,.2f} {principal}')    \n",
    "\n",
    "    if payment_months > 230:\n",
    "        print(f'{payment_months:,} {total_paid:>10,.2f} {principal}')            \n",
    "    \n",
    "\n",
    "#print(f'Total payment months: {payment_months:,} months, Total paid: {total_paid:>10.2f}')    \n",
    "print(f'Total paid: {total_paid:>10,.2f}\\n Months: {payment_months}')    "
   ]
  },
  {
   "attachments": {},
   "cell_type": "markdown",
   "metadata": {},
   "source": [
    "### 1.11: 보너스"
   ]
  },
  {
   "cell_type": "code",
   "execution_count": 85,
   "metadata": {},
   "outputs": [
    {
     "name": "stdout",
     "output_type": "stream",
     "text": [
      "56 150,310.16 462195.74 2684.11\n",
      "57 152,994.27 461437.45 2684.11\n",
      "58 155,678.38 460676.0 2684.11\n",
      "59 158,362.49 459911.37 2684.11\n",
      "60 161,046.60 459143.56 2684.11\n",
      "61 164,730.71 459143.56 3684.11\n",
      "62 168,414.82 459143.56 3684.11\n",
      "281 975,234.91 11544.13 3684.11\n",
      "282 978,919.02 7908.12 3684.11\n",
      "283 982,603.13 4256.96 3684.11\n",
      "284 983,193.72 590.59 590.59\n",
      "285 983,196.18 2.46 2.46\n",
      "286 983,196.19 0.01 0.01\n",
      "287 983,196.19 0.0 0.0\n",
      "Total paid: 983,196.19\n",
      "Months: 287\n"
     ]
    }
   ],
   "source": [
    "# 마지막 달에 초과 납부하는 금액이 생기지 않게 프로그램을 수정해 보라.\n",
    "# ---------------------------------------------------------------\n",
    "extra_payment_start = 61\n",
    "extra_payment_end_month = 108\n",
    "extra_payment = 1000\n",
    "\n",
    "principal = 500000.0\n",
    "rate = 0.05\n",
    "payment = 2684.11\n",
    "add_payment = payment + extra_payment\n",
    "total_paid = 0.0\n",
    "payment_months = 0\n",
    "\n",
    "while principal > 0:\n",
    "    payment_months += 1\n",
    "    \n",
    "    if extra_payment_start <= payment_months <= extra_payment_end_month:\n",
    "            payment = add_payment\n",
    "    else:\n",
    "\n",
    "\n",
    "\n",
    "\n",
    "        principal = round(principal * (1+rate/12) - payment, 2)\n",
    "        \n",
    "        # if principal < payment:\n",
    "        #     payment = principal\n",
    "        \n",
    "    total_paid = total_paid + payment\n",
    "    \n",
    "    if 55 < payment_months < 63:\n",
    "        print(f'{payment_months:,} {total_paid:>10,.2f} {principal} {payment}')    \n",
    "\n",
    "    if payment_months > 280:\n",
    "        print(f'{payment_months:,} {total_paid:>10,.2f} {principal} {payment}')            \n",
    "        \n",
    "\n",
    "#    print(f'{payment_months:>3} {payment:>10,.2f} {total_paid:>10,.2f} {principal:>10,.2f}')    \n",
    "    \n",
    "\n",
    "#print(f'Total payment months: {payment_months:,} months, Total paid: {total_paid:>10.2f}')    \n",
    "print(f'Total paid: {total_paid:>10,.2f}\\nMonths: {payment_months}')    "
   ]
  },
  {
   "cell_type": "code",
   "execution_count": 65,
   "metadata": {},
   "outputs": [
    {
     "data": {
      "text/plain": [
       "499399.2233333333"
      ]
     },
     "execution_count": 65,
     "metadata": {},
     "output_type": "execute_result"
    }
   ],
   "source": [
    "principal = 500000.0\n",
    "payment = 2684.11\n",
    "\n",
    "principal - payment\n",
    "principal * (1+rate/12) - payment"
   ]
  },
  {
   "attachments": {},
   "cell_type": "markdown",
   "metadata": {},
   "source": [
    "# 1.4 문자열"
   ]
  },
  {
   "attachments": {},
   "cell_type": "markdown",
   "metadata": {},
   "source": [
    "## 리터럴 텍스트(Literal Text) 표현\n",
    "## 문자열 이스케이프 코드(escape code)\n",
    "## 문자열 표현\n",
    "## 문자열 인덱싱(String Indexing)\n",
    "## 문자열 연산\n"
   ]
  },
  {
   "attachments": {},
   "cell_type": "markdown",
   "metadata": {},
   "source": [
    "## 문자열 메서드"
   ]
  },
  {
   "cell_type": "code",
   "execution_count": null,
   "metadata": {},
   "outputs": [],
   "source": [
    "# 문자열 메서드\n",
    "# ------------\n",
    "# s.endswith(suffix)     # 문자열이 suffix로 끝나는지 확인\n",
    "# s.find(t)              # s에서 t가 처음 나타나는 곳\n",
    "# s.index(t)             # s에서 t가 처음 나타나는 곳\n",
    "# s.isalpha()            # 문자가 영문자인지 여부\n",
    "# s.isdigit()            # 문자가 숫자인지 여부\n",
    "# s.islower()            # 문자가 소문자인지 여부\n",
    "# s.isupper()            # 문자가 대문자인지 여부\n",
    "# s.join(slist)          # s를 구분자(delimiter)로 삼아 문자열의 리스트를 붙이기(join)\n",
    "# s.lower()              # 소문자로 변환\n",
    "# s.replace(old,new)     # 텍스트 교체\n",
    "# s.rfind(t)             # 문자열의 끝에서부터 t를 검색\n",
    "# s.rindex(t)            # 문자열의 끝에서부터 t를 검색\n",
    "# s.split([구분자])       # 문자열을 분할해 부분 문자열의 리스트를 만듦\n",
    "# s.startswith(prefix)   # 문자열이 prefix로 시작하는지 확인\n",
    "# s.strip()              # 앞뒤의 공백을 제거\n",
    "# s.upper()              # 대문자로 변환"
   ]
  },
  {
   "attachments": {},
   "cell_type": "markdown",
   "metadata": {},
   "source": [
    "## 문자열의 변경 가능성(Mutability)"
   ]
  },
  {
   "cell_type": "code",
   "execution_count": null,
   "metadata": {},
   "outputs": [],
   "source": [
    "# 문자열은 변경 불가능(immutable), 즉 읽기 전용이다. 한 번 생성하면 값이 바뀌지 않는다."
   ]
  },
  {
   "attachments": {},
   "cell_type": "markdown",
   "metadata": {},
   "source": [
    "## 문자열 변환"
   ]
  },
  {
   "cell_type": "code",
   "execution_count": 91,
   "metadata": {},
   "outputs": [
    {
     "data": {
      "text/plain": [
       "'42'"
      ]
     },
     "execution_count": 91,
     "metadata": {},
     "output_type": "execute_result"
    }
   ],
   "source": [
    "# 다른 타입의 값을 문자열로 변환하려면 str()을 사용한다. 그 결과로 print() 문이 생성하는 것과 같은 텍스트가 반환된다.\n",
    "x = 42\n",
    "str(x)"
   ]
  },
  {
   "attachments": {},
   "cell_type": "markdown",
   "metadata": {},
   "source": [
    "## 바이트 열(Byte String)"
   ]
  },
  {
   "cell_type": "code",
   "execution_count": 111,
   "metadata": {},
   "outputs": [
    {
     "name": "stdout",
     "output_type": "stream",
     "text": [
      "13\n",
      "b'Hello'\n",
      "b'Cruel World\\r\\n'\n",
      "<class 'bytes'>\n",
      "<class 'str'>\n",
      "72\n",
      "H\n",
      "Hello World\n",
      " <class 'str'>\n",
      "b'Hello World\\r\\n' <class 'bytes'>\n",
      "Hello World\n",
      " <class 'str'>\n",
      "b'Hello World\\r\\n' <class 'bytes'>\n",
      "b'\\xec\\x95\\x88\\xeb\\x85\\x95\\r\\n'\n",
      "b'\\xbe\\xc8\\xb3\\xe7\\r\\n'\n",
      "안녕\n",
      "\n",
      "안녕\n",
      "\n"
     ]
    }
   ],
   "source": [
    "# 바이트 열(Byte String)\n",
    "# ----------------------\n",
    "# 8비트 바이트가 끈(string)처럼 이어진 것으로 일반적으로 저수준 입출력(I/O)에 사용되며, 다음과 같이 쓴다.\n",
    "# ------------------------------------------------------------------------------------------------\n",
    "\n",
    "data = b'Hello World\\r\\n'\n",
    "data1 = 'Hello World\\r\\n'\n",
    "\n",
    "# 첫 번째 따옴표 바로 앞에 소문자 b를 붙이면, 텍스트 열(text string)이 아닌 바이트 열로 지정된다.\n",
    "# 일반적인 문자열 연산은 대부분 작동한다.\n",
    "\n",
    "print(len(data))\n",
    "print(data[0:5])\n",
    "print(data.replace(b'Hello', b'Cruel'))\n",
    "# print(data.replace('Hello', 'Cruel'))\n",
    "\n",
    "print(type(data))\n",
    "print(type(data1))\n",
    "\n",
    "\n",
    "# 인덱싱은 좀 다르게 작동하는데, 바이트 값을 정수로 반환하기 때문이다.\n",
    "# ---------------------------------------------------------------\n",
    "print(data[0])   # 72 ('H'의 ASCII 코드)\n",
    "print(data1[0])\n",
    "\n",
    "\n",
    "# 텍스트 열과의 변환\n",
    "text = data.decode('utf-8') # 바이트 열 -> 텍스트 열\n",
    "data = text.encode('utf-8') # 텍스트 열 -> 바이트 열\n",
    "print(text, type(text))\n",
    "print(data, type(data))\n",
    "\n",
    "text1 = data.decode('euc-kr') # 바이트 열 -> 텍스트 열\n",
    "data1 = text.encode('euc-kr') # 텍스트 열 -> 바이트 열\n",
    "\n",
    "print(text1, type(text1))\n",
    "print(data1, type(data1))\n",
    "\n",
    "# 한글 encode, decode\n",
    "# -------------------\n",
    "data2 = '안녕\\r\\n'\n",
    "\n",
    "utf_data2 = data2.encode('utf-8')\n",
    "euc_data2 = data2.encode('euc-kr')\n",
    "print(utf_data2)\n",
    "print(euc_data2)\n",
    "\n",
    "t1_data2 = utf_data2.decode('utf-8')\n",
    "t2_data2 = euc_data2.decode('euc-kr')\n",
    "print(t1_data2)\n",
    "print(t2_data2)"
   ]
  },
  {
   "attachments": {},
   "cell_type": "markdown",
   "metadata": {},
   "source": [
    "## 원시 문자열(Raw String)"
   ]
  },
  {
   "cell_type": "code",
   "execution_count": 112,
   "metadata": {},
   "outputs": [
    {
     "data": {
      "text/plain": [
       "'c:\\\\newdata\\\\test'"
      ]
     },
     "execution_count": 112,
     "metadata": {},
     "output_type": "execute_result"
    }
   ],
   "source": [
    "# 원시 문자열(Raw String)\n",
    "# ----------------------\n",
    "# 원시 문자열은 백슬래시를 해석하지 않는 문자열 리터럴이다. 소문자 \"r\"을 앞에 붙여 원시 문자열임을 나타낸다.\n",
    "# --------------------------------------------------------------------------------------------------\n",
    "rs = r'c:\\newdata\\test' # 원시(백슬래시를 해석하지 않음)\n",
    "rs\n",
    "\n",
    "# 문자열은 입력한 그대로의 리터럴 텍스트다. 백슬래시가 특별히 중요할 때 이것을 사용하면 편리하다. 예: 파일명, 정규 표현식(regular expression) 등"
   ]
  },
  {
   "attachments": {},
   "cell_type": "markdown",
   "metadata": {},
   "source": [
    "## f 문자열(f-String)"
   ]
  },
  {
   "cell_type": "code",
   "execution_count": 117,
   "metadata": {},
   "outputs": [
    {
     "name": "stdout",
     "output_type": "stream",
     "text": [
      "       IBM        100      91.10\n",
      "Cost = $9,110.00\n"
     ]
    }
   ],
   "source": [
    "# f 문자열(f-String)\n",
    "# ------------------\n",
    "# 포매팅된 표현식 대체가 있는 문자열이다.\n",
    "# ------------------------------------\n",
    "name = 'IBM'\n",
    "shares = 100\n",
    "price = 91.1\n",
    "a = f'{name:>10s} {shares:10d} {price:10.2f}'\n",
    "print(a)\n",
    "\n",
    "b = f'Cost = ${shares*price:0,.2f}'\n",
    "print(b)\n"
   ]
  },
  {
   "attachments": {},
   "cell_type": "markdown",
   "metadata": {},
   "source": [
    "## 연습문제"
   ]
  },
  {
   "attachments": {},
   "cell_type": "markdown",
   "metadata": {},
   "source": [
    "### 1.13: 개별 문자와 부분 문자열을 추출하기"
   ]
  },
  {
   "cell_type": "code",
   "execution_count": 119,
   "metadata": {},
   "outputs": [
    {
     "data": {
      "text/plain": [
       "'O'"
      ]
     },
     "execution_count": 119,
     "metadata": {},
     "output_type": "execute_result"
    }
   ],
   "source": [
    "symbols = 'AAPL,IBM,MSFT,YHOO,SCO'\n",
    "symbols[0]\n",
    "symbols[-1]"
   ]
  },
  {
   "attachments": {},
   "cell_type": "markdown",
   "metadata": {},
   "source": [
    "### 1.14: 문자열 이어붙이기"
   ]
  },
  {
   "cell_type": "code",
   "execution_count": 123,
   "metadata": {},
   "outputs": [
    {
     "data": {
      "text/plain": [
       "'HPQ,AAPL,IBM,MSFT,YHOO,SCO'"
      ]
     },
     "execution_count": 123,
     "metadata": {},
     "output_type": "execute_result"
    }
   ],
   "source": [
    "# 문자열 데이터가 읽기 전용이기는 하지만, 새로 생성한 문자열에 변수를 재할당할 수 있다.\n",
    "# 다음과 같이 symbols의 끝에 새로운 심벌 \"GOOG\"를 이어붙여 보라.\n",
    "symbols = symbols + 'GOOG'\n",
    "symbols\n",
    "\n",
    "symbols = 'AAPL,IBM,MSFT,YHOO,SCO'\n",
    "symbols = symbols + ',GOOG'\n",
    "symbols\n",
    "\n",
    "symbols = 'AAPL,IBM,MSFT,YHOO,SCO'\n",
    "symbols = 'HPQ,' + symbols\n",
    "symbols\n"
   ]
  },
  {
   "attachments": {},
   "cell_type": "markdown",
   "metadata": {},
   "source": [
    "### 1.15: 멤버십 테스팅(부분 문자열 테스팅)"
   ]
  },
  {
   "cell_type": "code",
   "execution_count": 124,
   "metadata": {},
   "outputs": [
    {
     "name": "stdout",
     "output_type": "stream",
     "text": [
      "True\n",
      "True\n",
      "False\n"
     ]
    }
   ],
   "source": [
    "# in 연산자를 사용해 부분 문자열을 확인해 보자.\n",
    "\n",
    "print('IBM' in symbols)\n",
    "print('AA' in symbols)\n",
    "print('CAT' in symbols)"
   ]
  },
  {
   "attachments": {},
   "cell_type": "markdown",
   "metadata": {},
   "source": [
    "### 1.16: 문자열 메서드"
   ]
  },
  {
   "cell_type": "code",
   "execution_count": 129,
   "metadata": {},
   "outputs": [
    {
     "name": "stdout",
     "output_type": "stream",
     "text": [
      "hpq,aapl,ibm,msft,yhoo,sco\n",
      "HPQ,AAPL,IBM,MSFT,YHOO,SCO\n",
      "13\n",
      "MSFT\n",
      "HPQ,AAPL,IBM,MSFT,YHOO,DOA\n",
      "IBM\n"
     ]
    }
   ],
   "source": [
    "print(symbols.lower())\n",
    "print(symbols)\n",
    "\n",
    "lowersyms = symbols.lower()\n",
    "lowersyms\n",
    "\n",
    "print(symbols.find('MSFT'))\n",
    "\n",
    "print(symbols[13:17])\n",
    "\n",
    "symbols = symbols.replace('SCO','DOA')\n",
    "print(symbols)\n",
    "name = '   IBM   \\n'\n",
    "name = name.strip()    # 둘러싸는 공백을 제거\n",
    "print(name)\n"
   ]
  },
  {
   "attachments": {},
   "cell_type": "markdown",
   "metadata": {},
   "source": [
    "### 1.17: f 문자열(f-strings)"
   ]
  },
  {
   "cell_type": "code",
   "execution_count": 130,
   "metadata": {},
   "outputs": [
    {
     "data": {
      "text/plain": [
       "'100 shares of IBM at $91.10'"
      ]
     },
     "execution_count": 130,
     "metadata": {},
     "output_type": "execute_result"
    }
   ],
   "source": [
    "name = 'IBM'\n",
    "shares = 100\n",
    "price = 91.1\n",
    "f'{shares} shares of {name} at ${price:0.2f}'"
   ]
  },
  {
   "attachments": {},
   "cell_type": "markdown",
   "metadata": {},
   "source": [
    "### 1.18: 정규 표현식(Regular Expressions)"
   ]
  },
  {
   "cell_type": "code",
   "execution_count": 141,
   "metadata": {},
   "outputs": [
    {
     "name": "stdout",
     "output_type": "stream",
     "text": [
      "['2/27/2018', '3/28/2018']\n",
      "Today is 2018-2-27. Tomorrow 2018-3-28.\n"
     ]
    }
   ],
   "source": [
    "# 기본 문자열 연산은 고급 패턴 매칭을 지원하지 않지만, 파이썬의 re 모듈을 가지고 정규 표현식을 사용할 수 있다. \n",
    "# 정규 표현식은 그 자체로 큰 주제이지만 여기서는 간단한 예를 들겠다.\n",
    "\n",
    "import re\n",
    "\n",
    "text = 'Today is 2/27/2018. Tomorrow 3/28/2018.'\n",
    "p = re.compile(r'\\d+[/]\\d+[/]\\d+')\n",
    "#p = re.compile('/d+[/]')\n",
    "print(p.findall(text))\n",
    "\n",
    "# 날짜가 있는 곳을 모두 찾아 text로 교체\n",
    "# -----------------------------------\n",
    "print(re.sub(r'(\\d+)[/](\\d+)[/](\\d+)', r'\\3-\\1-\\2', text))\n"
   ]
  },
  {
   "cell_type": "code",
   "execution_count": 142,
   "metadata": {},
   "outputs": [
    {
     "data": {
      "text/plain": [
       "['__add__',\n",
       " '__class__',\n",
       " '__contains__',\n",
       " '__delattr__',\n",
       " '__dir__',\n",
       " '__doc__',\n",
       " '__eq__',\n",
       " '__format__',\n",
       " '__ge__',\n",
       " '__getattribute__',\n",
       " '__getitem__',\n",
       " '__getnewargs__',\n",
       " '__gt__',\n",
       " '__hash__',\n",
       " '__init__',\n",
       " '__init_subclass__',\n",
       " '__iter__',\n",
       " '__le__',\n",
       " '__len__',\n",
       " '__lt__',\n",
       " '__mod__',\n",
       " '__mul__',\n",
       " '__ne__',\n",
       " '__new__',\n",
       " '__reduce__',\n",
       " '__reduce_ex__',\n",
       " '__repr__',\n",
       " '__rmod__',\n",
       " '__rmul__',\n",
       " '__setattr__',\n",
       " '__sizeof__',\n",
       " '__str__',\n",
       " '__subclasshook__',\n",
       " 'capitalize',\n",
       " 'casefold',\n",
       " 'center',\n",
       " 'count',\n",
       " 'encode',\n",
       " 'endswith',\n",
       " 'expandtabs',\n",
       " 'find',\n",
       " 'format',\n",
       " 'format_map',\n",
       " 'index',\n",
       " 'isalnum',\n",
       " 'isalpha',\n",
       " 'isascii',\n",
       " 'isdecimal',\n",
       " 'isdigit',\n",
       " 'isidentifier',\n",
       " 'islower',\n",
       " 'isnumeric',\n",
       " 'isprintable',\n",
       " 'isspace',\n",
       " 'istitle',\n",
       " 'isupper',\n",
       " 'join',\n",
       " 'ljust',\n",
       " 'lower',\n",
       " 'lstrip',\n",
       " 'maketrans',\n",
       " 'partition',\n",
       " 'removeprefix',\n",
       " 'removesuffix',\n",
       " 'replace',\n",
       " 'rfind',\n",
       " 'rindex',\n",
       " 'rjust',\n",
       " 'rpartition',\n",
       " 'rsplit',\n",
       " 'rstrip',\n",
       " 'split',\n",
       " 'splitlines',\n",
       " 'startswith',\n",
       " 'strip',\n",
       " 'swapcase',\n",
       " 'title',\n",
       " 'translate',\n",
       " 'upper',\n",
       " 'zfill']"
      ]
     },
     "execution_count": 142,
     "metadata": {},
     "output_type": "execute_result"
    }
   ],
   "source": [
    "s = 'Hello'\n",
    "dir(s)"
   ]
  },
  {
   "cell_type": "code",
   "execution_count": 143,
   "metadata": {},
   "outputs": [
    {
     "name": "stdout",
     "output_type": "stream",
     "text": [
      "Help on built-in function upper:\n",
      "\n",
      "upper() method of builtins.str instance\n",
      "    Return a copy of the string converted to uppercase.\n",
      "\n"
     ]
    }
   ],
   "source": [
    "help(s.upper)"
   ]
  },
  {
   "attachments": {},
   "cell_type": "markdown",
   "metadata": {},
   "source": [
    "# 1.5 리스트"
   ]
  },
  {
   "attachments": {},
   "cell_type": "markdown",
   "metadata": {},
   "source": [
    "## 리스트 생성\n"
   ]
  },
  {
   "cell_type": "code",
   "execution_count": 147,
   "metadata": {},
   "outputs": [
    {
     "data": {
      "text/plain": [
       "['GOOG', '100', '490.10']"
      ]
     },
     "execution_count": 147,
     "metadata": {},
     "output_type": "execute_result"
    }
   ],
   "source": [
    "names = [ 'Elwood', 'Jake', 'Curtis' ]\n",
    "nums = [ 39, 38, 42, 65, 111]\n",
    "\n",
    "\n",
    "# 다른 방법으로 리스트를 정의할 수도 있다. 예를 들어, split() 메서드를 가지고 문자열을 분할해 리스트를 만들 수 있다.\n",
    "line = 'GOOG,100,490.10'\n",
    "row = line.split(',')\n",
    "row"
   ]
  },
  {
   "attachments": {},
   "cell_type": "markdown",
   "metadata": {},
   "source": [
    "## 리스트 연산"
   ]
  },
  {
   "cell_type": "code",
   "execution_count": 149,
   "metadata": {},
   "outputs": [
    {
     "data": {
      "text/plain": [
       "[1, 2, 3, 'a', 'b']"
      ]
     },
     "execution_count": 149,
     "metadata": {},
     "output_type": "execute_result"
    }
   ],
   "source": [
    "names = [ 'Elwood', 'Jake', 'Curtis' ]\n",
    "\n",
    "names.append('Murphy')    # 마지막에 추가\n",
    "names.insert(2, 'Aretha') # 중간에 삽입\n",
    "names\n",
    "\n",
    "# 리스트를 이어붙이려면 +를 사용한다.\n",
    "s = [1, 2, 3]\n",
    "t = ['a', 'b']\n",
    "s + t           # [1, 2, 3, 'a', 'b']\n",
    "\n",
    "\n",
    "# 리스트의 인덱스에는 정수를 사용한다. 인덱스는 0부터 시작한다.\n",
    "names = [ 'Elwood', 'Jake', 'Curtis' ]\n",
    "\n",
    "names[0]  # 'Elwood'\n",
    "names[1]  # 'Jake'\n",
    "names[2]  # 'Curtis'\n",
    "\n",
    "\n",
    "# 음수 인덱스는 뒤에서부터 센다.\n",
    "names[-1] # 'Curtis'\n",
    "\n",
    "\n",
    "# 리스트의 항목을 변경할 수 있다.\n",
    "names[1] = 'Joliet Jake'\n",
    "names                     # [ 'Elwood', 'Joliet Jake', 'Curtis' ]\n",
    "\n",
    "\n",
    "# 리스트의 길이.\n",
    "names = ['Elwood','Jake','Curtis']\n",
    "len(names)  # 3\n",
    "\n",
    "\n",
    "# 멤버십 테스트(in, not in).\n",
    "'Elwood' in names       # True\n",
    "'Britney' not in names  # True\n",
    "\n",
    "\n",
    "# 복제(s * n).\n",
    "s = [1, 2, 3]\n",
    "s * 3   # [1, 2, 3, 1, 2, 3, 1, 2, 3]"
   ]
  },
  {
   "attachments": {},
   "cell_type": "markdown",
   "metadata": {},
   "source": [
    "## 리스트 이터레이션(Iteration)과 검색"
   ]
  },
  {
   "cell_type": "code",
   "execution_count": null,
   "metadata": {},
   "outputs": [],
   "source": [
    "# for를 사용해 리스트 내용을 훑는다.\n",
    "for name in names:\n",
    "    # name을 사용\n",
    "    # 예: print(name)\n",
    "    ...\n",
    "\n",
    "\n",
    "# 무엇의 위치를 재빨리 찾으려면 index()를 사용한다.\n",
    "names = ['Elwood','Jake','Curtis']\n",
    "names.index('Curtis')   # 2\n",
    "\n",
    "# 원소(element)가 한 번 이상 나타나면, index()는 해당 원소가 처음 나타난 인덱스를 반환한다.\n",
    "# 원소를 찾지 못하면 ValueError 예외를 일으킨다."
   ]
  },
  {
   "attachments": {},
   "cell_type": "markdown",
   "metadata": {},
   "source": [
    "## 리스트 제거"
   ]
  },
  {
   "cell_type": "code",
   "execution_count": null,
   "metadata": {},
   "outputs": [],
   "source": [
    "# 특정 값 또는 인덱스를 갖는 항목을 제거할 수 있다.\n",
    "names = ['Elwood','Jake','Curtis']\n",
    "\n",
    "\n",
    "# 값을 사용\n",
    "names.remove('Curtis')\n",
    "\n",
    "\n",
    "# 인덱스를 사용\n",
    "del names[1]\n",
    "\n",
    "# 항목을 제거하더라도 빈 자리가 생기지는 않는다. \n",
    "# 다음 항목이 따라붙는다. 원소가 한 번 이상 나타나는 경우, remove()는 첫 번째 나타난 것만 제거한다."
   ]
  },
  {
   "attachments": {},
   "cell_type": "markdown",
   "metadata": {},
   "source": [
    "## 리스트 정렬"
   ]
  },
  {
   "cell_type": "code",
   "execution_count": 152,
   "metadata": {},
   "outputs": [
    {
     "name": "stdout",
     "output_type": "stream",
     "text": [
      "[1, 3, 7, 10]\n"
     ]
    }
   ],
   "source": [
    "# 리스트를 \"제자리에서(in-place)\" 정렬할 수 있다.\n",
    "s = [10, 1, 7, 3]\n",
    "s.sort()                    # [1, 3, 7, 10]\n",
    "print(s)\n",
    "\n",
    "# 역순\n",
    "s = [10, 1, 7, 3]\n",
    "s.sort(reverse=True)        # [10, 7, 3, 1]\n",
    "\n",
    "\n",
    "# 순서가 유지되는 자료형에 동일하게 적용된다\n",
    "s = ['foo', 'bar', 'spam']\n",
    "s.sort()                    # ['bar', 'foo', 'spam']\n",
    "\n",
    "\n",
    "# 새 리스트를 만들고 싶으면 sorted()를 사용한다.\n",
    "t = sorted(s)               # s는 바뀌지 않으며, t는 정렬된 값을 가짐"
   ]
  },
  {
   "attachments": {},
   "cell_type": "markdown",
   "metadata": {},
   "source": [
    "## 리스트와 수학"
   ]
  },
  {
   "cell_type": "code",
   "execution_count": null,
   "metadata": {},
   "outputs": [],
   "source": [
    "nums = [1, 2, 3, 4, 5]\n",
    "nums * 2                     # [1, 2, 3, 4, 5, 1, 2, 3, 4, 5]\n",
    "\n",
    "nums + [10, 11, 12, 13, 14]  # [1, 2, 3, 4, 5, 10, 11, 12, 13, 14]\n",
    "\n",
    "# 특히 리스트는 매트랩(MATLAB), 옥타브(Octave), R 등의 벡터나 행렬을 나타내지 않는다. \n",
    "# 그런 용도로 사용할 수 있는 패키지가 따로 있다.(예: numpy)"
   ]
  },
  {
   "attachments": {},
   "cell_type": "markdown",
   "metadata": {},
   "source": [
    "## 연습문제"
   ]
  },
  {
   "attachments": {},
   "cell_type": "markdown",
   "metadata": {},
   "source": [
    "### 1.19: 리스트 원소를 추출해 재할당"
   ]
  },
  {
   "cell_type": "code",
   "execution_count": 154,
   "metadata": {},
   "outputs": [
    {
     "name": "stdout",
     "output_type": "stream",
     "text": [
      "['HPQ', 'AAPL', 'AIG', 'MSFT', 'YHOO', 'DOA', 'GOOG']\n",
      "['GOOG']\n"
     ]
    },
    {
     "data": {
      "text/plain": [
       "['HPQ', 'GOOG']"
      ]
     },
     "execution_count": 154,
     "metadata": {},
     "output_type": "execute_result"
    }
   ],
   "source": [
    "symbols = 'HPQ,AAPL,IBM,MSFT,YHOO,DOA,GOOG'\n",
    "symlist = symbols.split(',')\n",
    "\n",
    "symlist[0]\n",
    "symlist[1]\n",
    "symlist[-1]\n",
    "symlist[-2]\n",
    "\n",
    "\n",
    "# 값을 재할당해보자.\n",
    "symlist[2] = 'AIG'\n",
    "symlist\n",
    "\n",
    "\n",
    "# 슬라이스를 해 보자.\n",
    "symlist[0:3]\n",
    "symlist[-2:]\n",
    "\n",
    "\n",
    "# 빈 리스트를 생성하고 항목을 추가해보자.\n",
    "mysyms = []\n",
    "mysyms.append('GOOG')\n",
    "mysyms\n",
    "\n",
    "\n",
    "# 리스트의 일부를 다른 리스트에 재할당할 수 있다. 예:\n",
    "\n",
    "print(symlist)\n",
    "print(mysyms)\n",
    "symlist[1:] = mysyms\n",
    "symlist\n",
    "\n",
    "# 이렇게 하면 왼쪽의 리스트(symlist)는 오른쪽 리스트(mysyms)에 맞춰 크기가 변한다. \n",
    "# 위의 예에서, symlist의 마지막 두 개 항목이 mysyms의 한 개 항목으로 교체된다."
   ]
  },
  {
   "attachments": {},
   "cell_type": "markdown",
   "metadata": {},
   "source": [
    "### 1.20: 리스트 항목을 루핑"
   ]
  },
  {
   "cell_type": "code",
   "execution_count": 155,
   "metadata": {},
   "outputs": [
    {
     "name": "stdout",
     "output_type": "stream",
     "text": [
      "s = HPQ\n",
      "s = AAPL\n",
      "s = IBM\n",
      "s = MSFT\n",
      "s = YHOO\n",
      "s = DOA\n",
      "s = GOOG\n"
     ]
    }
   ],
   "source": [
    "# for 루프는 리스트 같은 시퀀스의 데이터를 루핑한다. 다음 루프를 타이핑하고 무슨 일이 일어나는지 지켜보라.\n",
    "symbols = 'HPQ,AAPL,IBM,MSFT,YHOO,DOA,GOOG'\n",
    "symlist = symbols.split(',')\n",
    "\n",
    "for s in symlist:\n",
    "    print('s =', s)\n",
    "# 출력을 살펴보라"
   ]
  },
  {
   "attachments": {},
   "cell_type": "markdown",
   "metadata": {},
   "source": [
    "### 1.21: 멤버십 테스트"
   ]
  },
  {
   "cell_type": "code",
   "execution_count": 158,
   "metadata": {},
   "outputs": [
    {
     "name": "stdout",
     "output_type": "stream",
     "text": [
      "['HPQ', 'AAPL', 'IBM', 'MSFT', 'YHOO', 'DOA', 'GOOG']\n"
     ]
    },
    {
     "data": {
      "text/plain": [
       "(False, False, True)"
      ]
     },
     "execution_count": 158,
     "metadata": {},
     "output_type": "execute_result"
    }
   ],
   "source": [
    "# in이나 not in 연산자를 사용해, 심벌 리스트에 'AIG','AA', 'CAT'가 있는지 확인하라.\n",
    "print(symlist)\n",
    "'AIG' in symlist, 'AA' in symlist, 'CAT' not in symlist"
   ]
  },
  {
   "attachments": {},
   "cell_type": "markdown",
   "metadata": {},
   "source": [
    "### 1.22: 항목을 추가, 삽입, 삭제"
   ]
  },
  {
   "cell_type": "code",
   "execution_count": 162,
   "metadata": {},
   "outputs": [
    {
     "name": "stdout",
     "output_type": "stream",
     "text": [
      "['HPQ', 'AAPL', 'IBM', 'MSFT', 'YHOO', 'DOA', 'GOOG', 'RHT']\n",
      "['HPQ', 'AAPL', 'AA', 'IBM', 'MSFT', 'YHOO', 'DOA', 'GOOG', 'RHT']\n",
      "['HPQ', 'AAPL', 'AA', 'IBM', 'YHOO', 'DOA', 'GOOG', 'RHT']\n",
      "['HPQ', 'AAPL', 'AA', 'IBM', 'YHOO', 'DOA', 'GOOG', 'RHT', 'YHOO']\n",
      "4\n",
      "2\n",
      "['HPQ', 'AAPL', 'AA', 'IBM', 'DOA', 'GOOG', 'RHT', 'YHOO']\n"
     ]
    }
   ],
   "source": [
    "symbols = 'HPQ,AAPL,IBM,MSFT,YHOO,DOA,GOOG'\n",
    "symlist = symbols.split(',')\n",
    "\n",
    "# append() 메서드를 사용해 심벌 'RHT'를 symlist의 끝에 추가하라.\n",
    "symlist.append('RHT')\n",
    "print(symlist)\n",
    "\n",
    "\n",
    "# insert() 메서드를 사용해 심벌 'AA'를 리스트의 두 번째 항목으로 삽입하라.\n",
    "symlist.insert(2, 'AA')\n",
    "print(symlist)\n",
    "\n",
    "\n",
    "# remove() 메서드를 사용해 'MSFT'를 리스트에서 삭제하라.\n",
    "symlist.remove('MSFT')\n",
    "print(symlist)\n",
    "\n",
    "\n",
    "# 리스트 끝에 'YHOO'를 한 개 더 추가하라.\n",
    "symlist.append('YHOO')\n",
    "print(symlist)\n",
    "\n",
    "# 참고: 리스트에는 중복된 값이 들어가도 전혀 문제가 없다.\n",
    "\n",
    "\n",
    "\n",
    "# 리스트에서 'YHOO'의 위치를 빨리 찾으려면 index() 메서드를 사용한다.\n",
    "print(symlist.index('YHOO'))\n",
    "\n",
    "\n",
    "# 리스트에 'YHOO'가 몇 번 나오는지 센다.\n",
    "print(symlist.count('YHOO'))\n",
    "\n",
    "\n",
    "#첫 번째 나타나는 'YHOO'를 삭제한다.\n",
    "symlist.remove('YHOO')\n",
    "print(symlist)"
   ]
  },
  {
   "attachments": {},
   "cell_type": "markdown",
   "metadata": {},
   "source": [
    "### 1.23: 정렬(Sorting)"
   ]
  },
  {
   "cell_type": "code",
   "execution_count": 163,
   "metadata": {},
   "outputs": [
    {
     "name": "stdout",
     "output_type": "stream",
     "text": [
      "['AAPL', 'DOA', 'GOOG', 'HPQ', 'IBM', 'MSFT', 'YHOO']\n",
      "['YHOO', 'MSFT', 'IBM', 'HPQ', 'GOOG', 'DOA', 'AAPL']\n"
     ]
    }
   ],
   "source": [
    "# 리스트를 정렬하고 싶은가? sort() 메서드를 사용하라. 한번 사용해 보자.\n",
    "\n",
    "symbols = 'HPQ,AAPL,IBM,MSFT,YHOO,DOA,GOOG'\n",
    "symlist = symbols.split(',')\n",
    "\n",
    "symlist.sort()\n",
    "print(symlist)\n",
    "\n",
    "\n",
    "# 역순으로 정렬하고 싶다면? 다음과 같이 해 보라.\n",
    "symlist.sort(reverse=True)\n",
    "print(symlist)\n",
    "\n",
    "# 참고: 리스트를 정렬하면 내용이 '제자리에서(in-place)' 수정된다. \n",
    "# 그 말은 리스트의 항목은 이리저리 옮겨지지만 새로운 리스트를 생성하지는 않는다는 뜻이다."
   ]
  },
  {
   "attachments": {},
   "cell_type": "markdown",
   "metadata": {},
   "source": [
    "### 1.24: 모두 합치기"
   ]
  },
  {
   "cell_type": "code",
   "execution_count": null,
   "metadata": {},
   "outputs": [],
   "source": [
    "# 문자열의 리스트를 가지고 항목들을 합쳐서(join) 한 개의 문자열을 만들고 싶은가? \n",
    "# 다음과 같이 문자열의 join() 메서드를 사용하라(참고: 처음 보면 좀 웃기다).\n",
    "\n",
    "symbols = 'HPQ,AAPL,IBM,MSFT,YHOO,DOA,GOOG'\n",
    "symlist = symbols.split(',')\n",
    "\n",
    "a = ','.join(symlist)\n",
    "print(a) \n",
    "\n",
    "b = ':'.join(symlist)\n",
    "print(b) \n",
    "\n",
    "c = ''.join(symlist)\n",
    "print(c) "
   ]
  },
  {
   "attachments": {},
   "cell_type": "markdown",
   "metadata": {},
   "source": [
    "### 1.25: 온갖 것들의 리스트"
   ]
  },
  {
   "cell_type": "code",
   "execution_count": 164,
   "metadata": {},
   "outputs": [
    {
     "name": "stdout",
     "output_type": "stream",
     "text": [
      "['spam', ['HPQ', 'AAPL', 'IBM', 'MSFT', 'YHOO', 'DOA', 'GOOG'], [101, 102, 103]]\n",
      "spam\n",
      "s\n",
      "['HPQ', 'AAPL', 'IBM', 'MSFT', 'YHOO', 'DOA', 'GOOG']\n",
      "AAPL\n",
      "P\n",
      "[101, 102, 103]\n",
      "102\n"
     ]
    }
   ],
   "source": [
    "# 리스트는 어떤 종류의 객체든 담을 수 있고, 다른 리스트를 담을 수도 있다(예: 중첩된 리스트). 다음과 같이 시도해보라.\n",
    "symbols = 'HPQ,AAPL,IBM,MSFT,YHOO,DOA,GOOG'\n",
    "symlist = symbols.split(',')\n",
    "\n",
    "nums = [101, 102, 103]\n",
    "items = ['spam', symlist, nums]\n",
    "print(items)\n",
    "\n",
    "# 출력을 잘 들여다 보라. items는 세 개의 원소를 가진 리스트다. 첫 번째 원소는 문자열이지만, 나머지 두 개의 원소는 리스트다.\n",
    "\n",
    "\n",
    "# 여러 가지 인덱싱 연산자를 사용해 중첩된 리스트의 항목에 액세스할 수 있다.\n",
    "print(items[0])\n",
    "\n",
    "print(items[0][0])\n",
    "\n",
    "print(items[1])\n",
    "\n",
    "print(items[1][1])\n",
    "\n",
    "print(items[1][1][2])\n",
    "\n",
    "print(items[2])\n",
    "\n",
    "print(items[2][1])\n",
    "\n",
    "# 매우 복잡한 리스트 구조를 만드는 것이 기술적으로는 가능하지만, 단순하게 만드는 것이 좋다. \n",
    "# 리스트의 항목은 모두 같은 종류의 값으로 구성하는 것이 일반적이다. \n",
    "# 예를 들어, 숫자만으로 리스트를 구성하거나, 텍스트 문자열만으로 리스트를 구성한다. \n",
    "# 같은 리스트에 여러 종류의 데이터를 섞다보면 머리가 터질 수 있으니 될 수 있으면 피하자.\n",
    "\n"
   ]
  },
  {
   "attachments": {},
   "cell_type": "markdown",
   "metadata": {},
   "source": [
    "# 1.6 파일 관리"
   ]
  },
  {
   "attachments": {},
   "cell_type": "markdown",
   "metadata": {},
   "source": [
    "## 파일 입력과 출력"
   ]
  },
  {
   "cell_type": "code",
   "execution_count": null,
   "metadata": {},
   "outputs": [],
   "source": [
    "# 파일을 연다.\n",
    "f = open('foo.txt', 'rt')     # 읽기를 위해 열기(텍스트)\n",
    "g = open('bar.txt', 'wt')     # 쓰기를 위해 열기(텍스트)\n",
    "\n",
    "\n",
    "# 모든 데이터를 읽는다.\n",
    "data = f.read()\n",
    "\n",
    "# 'maxbytes' 바이트까지만 읽음\n",
    "data = f.read([maxbytes])\n",
    "\n",
    "\n",
    "# 텍스트를 기록한다.\n",
    "g.write('some text')\n",
    "\n",
    "\n",
    "# 마쳤으면 파일을 닫는다.\n",
    "f.close()\n",
    "g.close()\n",
    "\n",
    "\n",
    "# 파일을 열었으면 제대로 닫아야 하는데, 이 단계를 잊어버리기 쉽다. 따라서, 다음과 같이 with 문을 사용하면 좋다.\n",
    "# with open(filename, 'rt') as file:\n",
    "    # `file` 파일을 사용\n",
    "    ...\n",
    "    # 명시적으로 닫지 않아도 된다\n",
    "# ...문장\n",
    "\n",
    "# 이렇게 하면 들여쓴 코드 블록에서 벗어날 때 파일이 자동으로 닫힌다.\n",
    "\n"
   ]
  },
  {
   "attachments": {},
   "cell_type": "markdown",
   "metadata": {},
   "source": [
    "## 파일 데이터를 읽는 일반적인 방법"
   ]
  },
  {
   "cell_type": "code",
   "execution_count": null,
   "metadata": {},
   "outputs": [],
   "source": [
    "# 파일 전체를 한번에 읽어 문자열로 처리한다.\n",
    "with open('foo.txt', 'rt') as file:\n",
    "    data = file.read()\n",
    "    # `data`는 `foo.txt`의 텍스트 전체로 된 문자열이다\n",
    "\n",
    "\n",
    "# 파일을 한 행씩 읽어 내려가기.\n",
    "with open(filename, 'rt') as file:\n",
    "    for line in file:\n",
    "        # 행을 처리"
   ]
  },
  {
   "attachments": {},
   "cell_type": "markdown",
   "metadata": {},
   "source": [
    "## 파일에 쓰는 일반적인 방법"
   ]
  },
  {
   "cell_type": "code",
   "execution_count": null,
   "metadata": {},
   "outputs": [],
   "source": [
    "# 문자열 데이터를 기록한다.\n",
    "with open('outfile', 'wt') as out:\n",
    "    out.write('Hello World\\n')\n",
    "    ...\n",
    "\n",
    "\n",
    "# print 함수의 출력을 재지정(redirect)한다.\n",
    "with open('outfile', 'wt') as out:\n",
    "    print('Hello World', file=out)\n",
    "    ..."
   ]
  },
  {
   "attachments": {},
   "cell_type": "markdown",
   "metadata": {},
   "source": [
    "## 연습문제"
   ]
  },
  {
   "attachments": {},
   "cell_type": "markdown",
   "metadata": {},
   "source": [
    "### 1.26: 파일 기초"
   ]
  },
  {
   "cell_type": "code",
   "execution_count": 194,
   "metadata": {},
   "outputs": [
    {
     "name": "stdout",
     "output_type": "stream",
     "text": [
      "name,shares,price\n",
      "\"AA\",100,32.20\n",
      "\"IBM\",50,91.10\n",
      "\"CAT\",150,83.44\n",
      "\"MSFT\",200,51.23\n",
      "\"GE\",95,40.37\n",
      "\"MSFT\",50,65.10\n",
      "\"IBM\",100,70.44\n",
      "--------------------------------------------------\n",
      "name,shares,price\n",
      "\"AA\",100,32.20\n",
      "\"IBM\",50,91.10\n",
      "\"CAT\",150,83.44\n",
      "\"MSFT\",200,51.23\n",
      "\"GE\",95,40.37\n",
      "\"MSFT\",50,65.10\n",
      "\"IBM\",100,70.44\n",
      "--------------------------------------------------\n",
      "\"AA\",100,32.20\n",
      "\"IBM\",50,91.10\n",
      "\"CAT\",150,83.44\n",
      "\"MSFT\",200,51.23\n",
      "\"GE\",95,40.37\n",
      "\"MSFT\",50,65.10\n",
      "\"IBM\",100,70.44['\"IBM\"', '100', '70.44']\n",
      "['\"IBM\"', '100', '70.44']\n",
      "['\"IBM\"', '100', '70.44']\n",
      "['\"IBM\"', '100', '70.44']\n",
      "['\"IBM\"', '100', '70.44']\n",
      "['\"IBM\"', '100', '70.44']\n",
      "['\"IBM\"', '100', '70.44']\n",
      "[['\"AA\"', '100', '32.20'], ['\"IBM\"', '50', '91.10'], ['\"CAT\"', '150', '83.44'], ['\"MSFT\"', '200', '51.23'], ['\"GE\"', '95', '40.37'], ['\"MSFT\"', '50', '65.10'], ['\"IBM\"', '100', '70.44']]\n",
      "\"AA\"\n",
      "\"AA\"\n"
     ]
    }
   ],
   "source": [
    "# 먼저, 전체 파일을 한 번에 읽어 큰 문자열을 만들어 보자.\n",
    "with open('../../data/portfolio.csv', 'rt') as f:\n",
    "    data = f.read()\n",
    "\n",
    "data            # 원시 문자열 출력\n",
    "print(data)     # 포매팅된 문자열\n",
    "print('-'*50)\n",
    "\n",
    "# 파일을 행단위로 읽기\n",
    "# -------------------\n",
    "with open('../../data/portfolio.csv', 'rt') as f:\n",
    "    for line in f:\n",
    "        print(line, end='')\n",
    "print()\n",
    "print('-'*50)\n",
    "        \n",
    "\n",
    "# 특정한 상황에서, 텍스트의 단일 행을 읽거나 건너뛸 수 있다\n",
    "# (예: 첫 행의 컬럼 헤더를 건너뛰고 싶을 것이다).\n",
    "f = open('../../data/portfolio.csv', 'rt')\n",
    "headers = next(f)\n",
    "\n",
    "for line in f:\n",
    "    print(line, end='')\n",
    "\n",
    "f.close()    \n",
    "\n",
    "\n",
    "# 파일의 행을 읽었으면 문자열을 분할하는 것과 같은 처리를 할 수 있다. 예:\n",
    "file_lists = []\n",
    "\n",
    "f = open('../../data/portfolio.csv', 'rt')\n",
    "headers = next(f).split(',')\n",
    "\n",
    "for line in f:\n",
    "    file_list = line.strip().split(',')\n",
    "    # row = line..split(',')\n",
    "    print(row)\n",
    "    file_lists.append(file_list)\n",
    "\n",
    "print(file_lists)\n",
    "\n",
    "f.close()\n",
    "\n",
    "print(file_lists[0:3][0][0])\n",
    "print(file_lists[0][0])\n"
   ]
  },
  {
   "attachments": {},
   "cell_type": "markdown",
   "metadata": {},
   "source": [
    "### 1.27: 데이터 파일 읽기"
   ]
  },
  {
   "cell_type": "code",
   "execution_count": 200,
   "metadata": {},
   "outputs": [
    {
     "name": "stdout",
     "output_type": "stream",
     "text": [
      "Total cost 44,671.15\n"
     ]
    }
   ],
   "source": [
    "# 파일을 읽는 방법을 알았으니 간단한 계산을 수행하는 프로그램을 작성하자.\n",
    "# portfolio.csv의 각 컬럼은 보유 종목의 이름, 주식 수, 매수가격에 해당한다. \n",
    "# 이 파일을 열어 전체 행을 읽은 뒤, 포트폴리오의 전체 주식을 매수하는 데 드는 비용을 계산하는 pcost.py 프로그램을 작성한다.\n",
    "\n",
    "# 힌트: 문자열을 정수로 변환하려면 int(s)를 사용한다. 문자열을 부동소수점으로 변환하려면 float(s)를 사용한다.\n",
    "# 다음과 같이 출력하는 프로그램을 작성하라.\n",
    "# Total cost 44671.15\n",
    "total_buy_price = 0\n",
    "f = open('../../data/portfolio.csv', 'r')\n",
    "headers = next(f)\n",
    "for line in f:\n",
    "    stock_count = int(line.strip().split(',')[-2])\n",
    "    stock_buy_price = float(line.strip().split(',')[-1])\n",
    "\n",
    "    total_buy_price += stock_count*stock_buy_price \n",
    "\n",
    "print(f'Total cost {total_buy_price:,.2f}')    "
   ]
  },
  {
   "attachments": {},
   "cell_type": "markdown",
   "metadata": {},
   "source": [
    "### 1.28: 다른 종류의 \"파일\""
   ]
  },
  {
   "cell_type": "code",
   "execution_count": 204,
   "metadata": {},
   "outputs": [
    {
     "name": "stdout",
     "output_type": "stream",
     "text": [
      "name,shares,price\n",
      "\"AA\",100,32.20\n",
      "\"IBM\",50,91.10\n",
      "\"CAT\",150,83.44\n",
      "\"MSFT\",200,51.23\n",
      "\"GE\",95,40.37\n",
      "\"MSFT\",50,65.10\n",
      "\"IBM\",100,70.44\n"
     ]
    }
   ],
   "source": [
    "# 일반 텍스트 파일이 아닌, gzip 압축된 데이터 파일을 읽고 싶으면 어떻게 해야 할까? \n",
    "# 빌트인 open() 함수는 여기서 도움이 되지 않지만, 파이썬에는 gzip 압축된 파일을 읽을 수 있는 gzip 라이브러리 모듈이 있다.\n",
    "import gzip\n",
    "\n",
    "with gzip.open('../../data/portfolio.csv.gz', 'rt') as f:\n",
    "    for line in f:\n",
    "        print(line, end='')\n",
    "\n",
    "\n",
    "# 참고: 파일 모드를 'rt'로 지정하는 것이 중요하다. 이것을 잊으면 일반 텍스트 열이 아닌 바이트 열을 얻게 된다."
   ]
  },
  {
   "attachments": {},
   "cell_type": "markdown",
   "metadata": {},
   "source": [
    "# 1.7 함수"
   ]
  },
  {
   "attachments": {},
   "cell_type": "markdown",
   "metadata": {},
   "source": [
    "## 커스텀 함수"
   ]
  },
  {
   "cell_type": "code",
   "execution_count": 206,
   "metadata": {},
   "outputs": [
    {
     "name": "stdout",
     "output_type": "stream",
     "text": [
      "5050\n"
     ]
    }
   ],
   "source": [
    "# 재사용하고자 하는 코드를 위해 함수를 사용하라. 함수 정의는 다음과 같다.\n",
    "\n",
    "def sumcount(n):\n",
    "    '''\n",
    "    정수 1부터 n까지의 합을 반환\n",
    "    '''\n",
    "    total = 0\n",
    "    while n > 0:\n",
    "        total += n\n",
    "        n -= 1\n",
    "    return total\n",
    "\n",
    "\n",
    "# 다음과 같이 함수를 호출한다.\n",
    "a = sumcount(100)\n",
    "print(a)\n",
    "\n",
    "# 함수는 작업을 수행하고 결과를 반환하는 문장으로 이뤄진다. 함수가 값을 반환하려면 return 키워드를 사용해 명시해야 한다."
   ]
  },
  {
   "attachments": {},
   "cell_type": "markdown",
   "metadata": {},
   "source": [
    "## 라이브러리 함수"
   ]
  },
  {
   "cell_type": "code",
   "execution_count": 207,
   "metadata": {},
   "outputs": [
    {
     "name": "stdout",
     "output_type": "stream",
     "text": [
      "3.1622776601683795\n"
     ]
    }
   ],
   "source": [
    "# 파이썬에는 큰 규모의 표준 라이브러리(standard library)가 있다. import를 사용해 라이브러리 모듈에 액세스한다. 예:\n",
    "\n",
    "import math\n",
    "\n",
    "x = math.sqrt(10)\n",
    "print(x)\n",
    "\n",
    "import urllib.request\n",
    "u = urllib.request.urlopen('http://www.python.org/')\n",
    "data = u.read()\n",
    "#print(data)\n",
    "\n",
    "# 라이브러리와 모듈에 대한 자세한 내용은 나중에 다룬다."
   ]
  },
  {
   "attachments": {},
   "cell_type": "markdown",
   "metadata": {},
   "source": [
    "## 오류와 예외"
   ]
  },
  {
   "cell_type": "code",
   "execution_count": 208,
   "metadata": {},
   "outputs": [
    {
     "ename": "ValueError",
     "evalue": "invalid literal for int() with base 10: 'N/A'",
     "output_type": "error",
     "traceback": [
      "\u001b[1;31m---------------------------------------------------------------------------\u001b[0m",
      "\u001b[1;31mValueError\u001b[0m                                Traceback (most recent call last)",
      "\u001b[1;32m~\\AppData\\Local\\Temp/ipykernel_20676/176149868.py\u001b[0m in \u001b[0;36m<module>\u001b[1;34m\u001b[0m\n\u001b[0;32m      2\u001b[0m \u001b[1;31m# 예외가 발생하면 함수의 실행이 중단되며 이를 처리하지 않으면 프로그램 전체가 중단될 수 있다.\u001b[0m\u001b[1;33m\u001b[0m\u001b[1;33m\u001b[0m\u001b[0m\n\u001b[0;32m      3\u001b[0m \u001b[1;33m\u001b[0m\u001b[0m\n\u001b[1;32m----> 4\u001b[1;33m \u001b[0mint\u001b[0m\u001b[1;33m(\u001b[0m\u001b[1;34m'N/A'\u001b[0m\u001b[1;33m)\u001b[0m\u001b[1;33m\u001b[0m\u001b[1;33m\u001b[0m\u001b[0m\n\u001b[0m\u001b[0;32m      5\u001b[0m \u001b[1;33m\u001b[0m\u001b[0m\n\u001b[0;32m      6\u001b[0m \u001b[1;31m# 실패를 일으킨 다른 함수 호출을 보여주는 트레이스백과 함께, 무슨 일이 일어났으며 어디서 오류가\u001b[0m\u001b[1;33m\u001b[0m\u001b[1;33m\u001b[0m\u001b[0m\n",
      "\u001b[1;31mValueError\u001b[0m: invalid literal for int() with base 10: 'N/A'"
     ]
    }
   ],
   "source": [
    "\n",
    "# 함수는 오류를 예외로서 보고한다. \n",
    "# 예외가 발생하면 함수의 실행이 중단되며 이를 처리하지 않으면 프로그램 전체가 중단될 수 있다.\n",
    "\n",
    "int('N/A')\n",
    "\n",
    "# 실패를 일으킨 다른 함수 호출을 보여주는 트레이스백과 함께, 무슨 일이 일어났으며 어디서 오류가 \n",
    "# 발생했는지 설명하는 메시지가 나타난다. 이 정보는 디버깅에 도움이 된다."
   ]
  },
  {
   "attachments": {},
   "cell_type": "markdown",
   "metadata": {},
   "source": [
    "## 예외를 붙잡아 처리하기"
   ]
  },
  {
   "cell_type": "code",
   "execution_count": null,
   "metadata": {},
   "outputs": [],
   "source": [
    "# try - except 문을 사용한다.\n",
    "\n",
    "for line in f:\n",
    "    fields = line.split()\n",
    "    try:\n",
    "        shares = int(fields[1])\n",
    "    except ValueError:\n",
    "        print(\"Couldn't parse\", line)\n",
    "    ...\n",
    "# ValueError라는 이름이 당신이 붙잡으려는 오류의 종류와 일치해야 한다.\n",
    "\n",
    "# 어떤 종류의 오류가 발생할 수 있는지, 연산을 수행하기 전에 미리 정확하게 알기 어려울 때도 있다. \n",
    "# 프로그램이 예상치 못하게 충돌한 이후에 예외 처리가 추가되곤 한다\n",
    "# (예: \"아차, 그 오류를 붙잡는 걸 깜빡했네. 처리하는 코드를 넣어야겠어!\")."
   ]
  },
  {
   "attachments": {},
   "cell_type": "markdown",
   "metadata": {},
   "source": [
    "## 예외를 일으키기"
   ]
  },
  {
   "cell_type": "code",
   "execution_count": null,
   "metadata": {},
   "outputs": [],
   "source": [
    "# 예외를 일으키려면 raise 문을 사용한다.\n",
    "\n",
    "raise RuntimeError('What a kerfuffle')\n",
    "\n",
    "# 이렇게 하면 예외 트레이스백과 함께 프로그램이 중단된다. try-except 블록으로 붙잡지 않았다면 말이다.\n",
    "\n",
    "% python3 foo.py\n",
    "Traceback (most recent call last):\n",
    "  File \"foo.py\", line 21, in <module>\n",
    "    raise RuntimeError(\"What a kerfuffle\")\n",
    "RuntimeError: What a kerfuffle"
   ]
  },
  {
   "attachments": {},
   "cell_type": "markdown",
   "metadata": {},
   "source": [
    "## 연습 문제"
   ]
  },
  {
   "attachments": {},
   "cell_type": "markdown",
   "metadata": {},
   "source": [
    "### 1.29: 함수를 정의하기"
   ]
  },
  {
   "cell_type": "code",
   "execution_count": 209,
   "metadata": {},
   "outputs": [
    {
     "name": "stdout",
     "output_type": "stream",
     "text": [
      "Hello Guido\n",
      "Hello Paula\n",
      "Help on function greeting in module __main__:\n",
      "\n",
      "greeting(name)\n",
      "    Issues a greeting\n",
      "\n"
     ]
    }
   ],
   "source": [
    "# 다음과 같은 단순한 함수를 정의해보자.\n",
    "\n",
    "def greeting(name):\n",
    "    'Issues a greeting'\n",
    "    print('Hello', name)\n",
    "\n",
    "greeting('Guido')\n",
    "\n",
    "greeting('Paula')\n",
    "\n",
    "help(greeting)\n",
    "\n",
    "# 함수의 첫 문장이 문자열이면 그것을 문서로 사용한다. help(greeting) 명령을 타이핑해 문서가 표시되는지 확인해 보라."
   ]
  },
  {
   "attachments": {},
   "cell_type": "markdown",
   "metadata": {},
   "source": [
    "### 1.30: 스크립트를 함수로 탈바꿈"
   ]
  },
  {
   "cell_type": "code",
   "execution_count": 2,
   "metadata": {},
   "outputs": [
    {
     "name": "stdout",
     "output_type": "stream",
     "text": [
      "Total cost 44,671.15\n"
     ]
    }
   ],
   "source": [
    "\n",
    "# 연습 문제 1.27의 pcost.py 프로그램 코드를 가져다가 portfolio_cost(filename) 함수를 만들어 보라. \n",
    "# 이 함수는 파일명을 입력으로 받아 포트폴리오 데이터를 읽고, 포트폴리오의 총 비용을 부동소수점으로 반환한다.\n",
    "\n",
    "def portfolio_cost(filename):\n",
    "    total_cost = 0.0\n",
    "    with open(filename, 'r') as f:\n",
    "        headers = next(f)\n",
    "        for line in f:\n",
    "            nshares = int(line.strip().split(',')[1])\n",
    "            price = float(line.strip().split(',')[2])\n",
    "            total_cost += nshares * price\n",
    "            \n",
    "    return total_cost    \n",
    "\n",
    "result = portfolio_cost(\"../../data/portfolio.csv\")\n",
    "\n",
    "print(f'Total cost {result:,.2f}')"
   ]
  },
  {
   "cell_type": "code",
   "execution_count": null,
   "metadata": {},
   "outputs": [],
   "source": [
    "# 책에서 제시하는 해답\n",
    "import csv\n",
    "\n",
    "def portfolio_cost(filename):\n",
    "    '''포트폴리오 파일의 총 비용(주식수*가격)을 계산'''\n",
    "    total_cost = 0.0\n",
    "    with open(filename, 'r') as f:\n",
    "        rows = csv.reader(f)\n",
    "        headers = next(rows)\n",
    "        for row in rows:\n",
    "            nshares = int(row[1])\n",
    "            price = float(row[2])\n",
    "            total_cost += nshares * price\n",
    "    return total_cost"
   ]
  },
  {
   "cell_type": "code",
   "execution_count": 215,
   "metadata": {},
   "outputs": [
    {
     "name": "stdout",
     "output_type": "stream",
     "text": [
      "Overwriting c:/temp/test/pcost.py\n"
     ]
    }
   ],
   "source": [
    "%%writefile c:/temp/test/pcost.py \n",
    "\n",
    "filename = r'C:\\Users\\USER\\Quick_Ref\\Programming\\Python\\data\\portfolio.csv'\n",
    "\n",
    "def portfolio_cost(filename):\n",
    "    total_buy_price = 0\n",
    "    f = open(filename, 'r')\n",
    "    headers = next(f)\n",
    "    for line in f:\n",
    "        stock_count = int(line.strip().split(',')[-2])\n",
    "        stock_buy_price = float(line.strip().split(',')[-1])\n",
    "\n",
    "        total_buy_price += stock_count*stock_buy_price \n",
    "    return total_buy_price    \n",
    "\n",
    "# result = portfolio_cost(\"../../data/portfolio.csv\")\n",
    "result = portfolio_cost(filename)\n",
    "\n",
    "print(f'Total cost {result}')"
   ]
  },
  {
   "attachments": {},
   "cell_type": "markdown",
   "metadata": {},
   "source": [
    "### 1.31: 오류 처리"
   ]
  },
  {
   "cell_type": "code",
   "execution_count": 220,
   "metadata": {},
   "outputs": [
    {
     "name": "stdout",
     "output_type": "stream",
     "text": [
      "[Errno 2] No such file or directory: '../../data/missing.csv'\n",
      "Total cost None\n"
     ]
    }
   ],
   "source": [
    "# 필드가 누락된 파일을 가지고 함수를 실행하면 무슨 일이 일어나는가?\n",
    "\n",
    "# 이 시점에 결정해야 한다. 입력 파일에서 잘못된 행을 제거하거나, 잘못된 행을 처리하도록 코드를 수정하는 것이다.\n",
    "# 오류를 잡아서 경고 메시지를 프린트하고, 파일의 끝까지 계속 처리하게 pcost.py 프로그램을 수정해 보자.\n",
    "\n",
    "def portfolio_cost(filename):\n",
    "    total_buy_price = 0\n",
    "    try:\n",
    "        f = open(filename, 'r')\n",
    "\n",
    "        headers = next(f)\n",
    "        for line in f:\n",
    "            stock_count = int(line.strip().split(',')[-2])\n",
    "            stock_buy_price = float(line.strip().split(',')[-1])\n",
    "\n",
    "            total_buy_price += stock_count*stock_buy_price \n",
    "        return total_buy_price    \n",
    "        f.close()\n",
    "    except FileNotFoundError as e:\n",
    "        print(e)\n",
    "\n",
    "result = portfolio_cost(\"../../data/missing.csv\")\n",
    "\n",
    "print(f'Total cost {result}')"
   ]
  },
  {
   "attachments": {},
   "cell_type": "markdown",
   "metadata": {},
   "source": [
    "### 1.32: 라이브러리 함수 사용하기"
   ]
  },
  {
   "cell_type": "code",
   "execution_count": 225,
   "metadata": {},
   "outputs": [
    {
     "name": "stdout",
     "output_type": "stream",
     "text": [
      "['AA', '100', '32.20']\n",
      "['IBM', '50', '91.10']\n",
      "['CAT', '150', '83.44']\n",
      "['MSFT', '200', '51.23']\n",
      "['GE', '95', '40.37']\n",
      "['MSFT', '50', '65.10']\n",
      "['IBM', '100', '70.44']\n"
     ]
    }
   ],
   "source": [
    "# 파이썬에는 유용한 함수의 방대한 표준 라이브러리가 있다. \n",
    "# 여기서는 csv 모듈을 사용하면 좋다. CSV 데이터 파일을 다룰 일이 있을 때 사용해라. 다음과 같이 사용한다.\n",
    "\n",
    "import csv\n",
    "f = open('../../data/portfolio.csv')\n",
    "rows = csv.reader(f)\n",
    "headers = next(rows)\n",
    "headers\n",
    "for row in rows:\n",
    "    print(row)\n",
    "f.close()\n",
    "\n",
    "# csv 모듈은 따옴표라든지, 콤마를 사용한 분할 등 저수준의 여러 가지 세부사항을 처리해준다. \n",
    "# 위 출력의 첫 번째 컬럼에서 큰 따옴표가 제거된 것을 볼 수 있다.\n",
    "\n",
    "# csv 모듈을 사용해 파싱을 하도록 pcost.py 프로그램을 수정한 다음, 이전의 예제를 실행해보라."
   ]
  },
  {
   "attachments": {},
   "cell_type": "markdown",
   "metadata": {},
   "source": [
    "### 1.33: 명령행에서 읽기"
   ]
  },
  {
   "cell_type": "code",
   "execution_count": null,
   "metadata": {},
   "outputs": [],
   "source": [
    "# pcost.py 프로그램은 입력 파일명을 하드코딩했다.\n",
    "# pcost.py\n",
    "\n",
    "def portfolio_cost(filename):\n",
    "    ...\n",
    "    # 여기에 코드를 작성\n",
    "    ...\n",
    "\n",
    "cost = portfolio_cost('Data/portfolio.csv')\n",
    "print('Total cost:', cost)\n",
    "\n",
    "# 배우고 테스트할 때는 괜찮지만 실제 프로그램에서는 그렇게 하면 안 된다.\n",
    "# 스크립트의 인자로 파일명을 전달하라. 다음과 같이 프로그램을 바꿔라.\n",
    "\n",
    "# pcost.py\n",
    "import sys\n",
    "\n",
    "def portfolio_cost(filename):\n",
    "    total_buy_price = 0\n",
    "    f = open(filename, 'r')\n",
    "    headers = next(f)\n",
    "    for line in f:\n",
    "        stock_count = int(line.strip().split(',')[-2])\n",
    "        stock_buy_price = float(line.strip().split(',')[-1])\n",
    "\n",
    "        total_buy_price += stock_count*stock_buy_price \n",
    "    return total_buy_price    \n",
    "\n",
    "if __name__ == '__main__':\n",
    "    if len(sys.argv == 2):\n",
    "        filename = sys.argv[1]\n",
    "    else:\n",
    "        filename = '../../data/portfolio.csv'\n",
    "    \n",
    "    result = portfolio_cost(filename)\n",
    "    print(f'Total cost {result}')\n",
    "\n",
    "# 명령행에서 전달받은 인자가 있는 경우 sys.argv 리스트에 들어 있다.\n",
    "# 따라서, 이 프로그램은 다음과 같이 터미널에서 실행해야 한다.\n",
    "\n",
    "# 예(유닉스 bash에서 실행):\n",
    "\n",
    "# bash % python3 pcost.py Data/portfolio.csv\n",
    "# Total cost: 44671.15\n",
    "# bash %"
   ]
  },
  {
   "cell_type": "code",
   "execution_count": 229,
   "metadata": {},
   "outputs": [
    {
     "name": "stdout",
     "output_type": "stream",
     "text": [
      "Overwriting c:/temp/test/pcost.py\n"
     ]
    }
   ],
   "source": [
    "%%writefile c:/temp/test/pcost.py\n",
    "import sys\n",
    "\n",
    "def portfolio_cost(filename):\n",
    "    total_buy_price = 0\n",
    "    f = open(filename, 'r')\n",
    "    headers = next(f)\n",
    "    for line in f:\n",
    "        stock_count = int(line.strip().split(',')[-2])\n",
    "        stock_buy_price = float(line.strip().split(',')[-1])\n",
    "\n",
    "        total_buy_price += stock_count*stock_buy_price \n",
    "    return total_buy_price    \n",
    "\n",
    "if __name__ == '__main__':\n",
    "    if len(sys.argv) == 2:\n",
    "        filename = sys.argv[1]\n",
    "    else:\n",
    "        filename = '../../data/portfolio.csv'\n",
    "    \n",
    "    result = portfolio_cost(filename)\n",
    "    print(f'Total cost {result}')"
   ]
  },
  {
   "cell_type": "code",
   "execution_count": null,
   "metadata": {},
   "outputs": [],
   "source": []
  }
 ],
 "metadata": {
  "kernelspec": {
   "display_name": "Python 3.9.12 ('base')",
   "language": "python",
   "name": "python3"
  },
  "language_info": {
   "codemirror_mode": {
    "name": "ipython",
    "version": 3
   },
   "file_extension": ".py",
   "mimetype": "text/x-python",
   "name": "python",
   "nbconvert_exporter": "python",
   "pygments_lexer": "ipython3",
   "version": "3.9.12"
  },
  "orig_nbformat": 4,
  "vscode": {
   "interpreter": {
    "hash": "f08154012ddadd8e950e6e9e035c7a7b32c136e7647e9b7c77e02eb723a8bedb"
   }
  }
 },
 "nbformat": 4,
 "nbformat_minor": 2
}
