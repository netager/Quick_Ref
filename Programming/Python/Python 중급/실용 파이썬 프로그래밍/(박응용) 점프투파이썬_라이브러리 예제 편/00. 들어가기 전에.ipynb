{
 "cells": [
  {
   "cell_type": "code",
   "execution_count": null,
   "metadata": {},
   "outputs": [],
   "source": [
    "# 저자 소개\n",
    "# --------\n",
    "\n",
    "# 박응용 (pahkey@gmail.com)\n",
    "# 위키독스(https://wikidocs.net)라는 온라인 서비스를 제작하여 프로그래밍 및 IT관련 지식을 공유하는 데 힘쓰고 있으며 \n",
    "# 프로그래밍 문제풀이를 통해 코딩실력과 알고리즘을 수련하는 코딩도장(http://codingdojang.com) 서비스를 운영하고 있다.\n",
    "\n",
    "# 저서\n",
    "# ----\n",
    "# 점프 투 파이썬\n",
    "# 점프 투 파이썬 - 라이브러리 예제 편\n",
    "# 점프 투 장고\n",
    "# 점프 투 플라스크\n",
    "# 점프 투 자바\n",
    "# 점프 투 스프링부트\n",
    "# 점프 투 FastAPI\n",
    "\n",
    "# 유투브\n",
    "# ------\n",
    "# 응용코딩 - https://www.youtube.com/channel/UC6YQqXMz2SyagOIjg86ceOg\n",
    "\n",
    "\n",
    "# 챕터별 소스\n",
    "# ----------\n",
    "# 챕터별 소스는 다음 URL에서 확인할 수 있다.\n",
    "\n",
    "# https://github.com/pahkey/pylib\n",
    "\n",
    "# 위 URL의 ch01(1장) ~ ch18(18장) 폴더로 이동하면 해당 챕터의 소스를 읽을 수 있다."
   ]
  }
 ],
 "metadata": {
  "language_info": {
   "name": "python"
  },
  "orig_nbformat": 4
 },
 "nbformat": 4,
 "nbformat_minor": 2
}
