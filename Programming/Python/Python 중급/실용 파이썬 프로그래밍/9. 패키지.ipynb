{
 "cells": [
  {
   "attachments": {},
   "cell_type": "markdown",
   "metadata": {},
   "source": [
    "# 9.1 패키지"
   ]
  },
  {
   "cell_type": "code",
   "execution_count": null,
   "metadata": {},
   "outputs": [],
   "source": [
    "# 9.1 패키지\n",
    "# ---------\n",
    "# 이 과정의 마지막 섹션은 코드를 패키지 구조로 조직화하는 방법에 대한 몇 가지 세부 사항을 알아본다. \n",
    "# 서드 파티 패키지를 설치하는 방법과 여러분이 작성한 코드를 다른 사람들을 위해 제공하는 방법도 논의한다.\n",
    "\n",
    "# 패키징은 계속 진화하며, 파이썬 개발에 있어 너무 복잡한 주제다. 특정 도구에 초점을 맞추기보다는, \n",
    "# 코드를 제공하거나 의존성을 관리함에 있어 어떤 도구를 사용하더라도 적용할 수 있는 일반적인 코드 조직화 원칙에 집중한다.\n",
    "\n",
    "# 9.1 패키지\n",
    "# 9.2 서드 파티 모듈\n",
    "# 9.3 코드를 다른 사람에게 주기"
   ]
  },
  {
   "attachments": {},
   "cell_type": "markdown",
   "metadata": {},
   "source": [
    "## 모듈(Module)"
   ]
  },
  {
   "cell_type": "code",
   "execution_count": null,
   "metadata": {},
   "outputs": [],
   "source": [
    "# 모듈(Module)\n",
    "# ------------\n",
    "# 모든 파이썬 소스 파일은 모듈이다.\n",
    "\n",
    "# # foo.py\n",
    "# def grok(a):\n",
    "#     ...\n",
    "# def spam(b):\n",
    "#     ...\n",
    "# import 문은 모듈을 적재하고 실행한다.\n",
    "\n",
    "# # program.py\n",
    "# import foo\n",
    "\n",
    "# a = foo.grok(2)\n",
    "# b = foo.spam('Hello')\n",
    "# ..."
   ]
  },
  {
   "attachments": {},
   "cell_type": "markdown",
   "metadata": {},
   "source": [
    "## 패키지 vs 모듈"
   ]
  },
  {
   "cell_type": "code",
   "execution_count": null,
   "metadata": {},
   "outputs": [],
   "source": [
    "# 패키지 vs 모듈\n",
    "# -------------\n",
    "# 더 큰 코드 모음에서는 모듈을 패키지로 조직화하는 것이 일반적이다.\n",
    "\n",
    "# # 이것을\n",
    "# pcost.py\n",
    "# report.py\n",
    "# fileparse.py\n",
    "\n",
    "# # 이렇게\n",
    "# porty/\n",
    "#     __init__.py\n",
    "#     pcost.py\n",
    "#     report.py\n",
    "#     fileparse.py\n",
    "# 적당한 이름을 골라 최상위 디렉터리를 만들어라. 위의 예에서는 porty로 정했다(이름을 잘 고르는 것이 가장 중요한 첫걸음이다).\n",
    "\n",
    "# __init__.py 파일을 디렉터리에 추가한다. 디렉터리가 비어 있을 것이다.\n",
    "\n",
    "# 소스 파일을 디렉터리에 넣어라."
   ]
  },
  {
   "attachments": {},
   "cell_type": "markdown",
   "metadata": {},
   "source": [
    "## 패키지 사용하기"
   ]
  },
  {
   "cell_type": "code",
   "execution_count": null,
   "metadata": {},
   "outputs": [],
   "source": [
    "# 패키지 사용하기\n",
    "# --------------\n",
    "# 패키지는 임포트를 위한 네임스페이스 역할을 한다.\n",
    "\n",
    "# 즉, 여러 수준의 임포트가 존재한다.\n",
    "\n",
    "# import porty.report\n",
    "# port = porty.report.read_portfolio('port.csv')\n",
    "# import 문에는 여러 변형이 있다.\n",
    "\n",
    "# from porty import report\n",
    "# port = report.read_portfolio('portfolio.csv')\n",
    "\n",
    "# from porty.report import read_portfolio\n",
    "# port = read_portfolio('portfolio.csv')"
   ]
  },
  {
   "attachments": {},
   "cell_type": "markdown",
   "metadata": {},
   "source": [
    "## 두 가지 문제점"
   ]
  },
  {
   "cell_type": "code",
   "execution_count": null,
   "metadata": {},
   "outputs": [],
   "source": [
    "# 두 가지 문제점\n",
    "# -------------\n",
    "# 이러한 접근은 두 가지 문제가 있다.\n",
    "\n",
    "# 같은 패키지에서 여러 파일을 임포트하면 문제가 생긴다.\n",
    "# 패키지에 있는 메인 스크립트가 깨진다.\n",
    "# 따라서 모든 것이 깨진다. 그렇지만 그 외에는 작동한다."
   ]
  },
  {
   "attachments": {},
   "cell_type": "markdown",
   "metadata": {},
   "source": [
    "## 문제: 임포트"
   ]
  },
  {
   "cell_type": "code",
   "execution_count": null,
   "metadata": {},
   "outputs": [],
   "source": [
    "# 문제: 임포트\n",
    "# -----------\n",
    "# 같은 패키지에서 파일들을 임포트하려면 임포트에 패키지 이름을 포함해야 한다. 구조를 기억하자.\n",
    "\n",
    "# porty/\n",
    "#     __init__.py\n",
    "#     pcost.py\n",
    "#     report.py\n",
    "#     fileparse.py\n",
    "# 수정한 임포트 예.\n",
    "\n",
    "# # report.py\n",
    "# from porty import fileparse\n",
    "\n",
    "# def read_portfolio(filename):\n",
    "#     return fileparse.parse_csv(...)\n",
    "# 모든 임포트는 상대가 아닌 절대 임포트다.\n",
    "\n",
    "# # report.py\n",
    "# import fileparse    # 깨진다. fileparse을 찾지 못한다.\n",
    "\n",
    "# ...\n",
    "\n",
    "\n",
    "# 상대 임포트\n",
    "# ----------\n",
    "# 패키지 이름을 직접 사용하는 대신, 현재 패키지를 .로 가리킬 수 있다.\n",
    "\n",
    "# # report.py\n",
    "# from . import fileparse\n",
    "\n",
    "# def read_portfolio(filename):\n",
    "#     return fileparse.parse_csv(...)\n",
    "# 구문:\n",
    "\n",
    "# from . import modname\n",
    "\n",
    "# 이렇게 하면 패키지 이름을 바꾸기 쉽다."
   ]
  },
  {
   "attachments": {},
   "cell_type": "markdown",
   "metadata": {},
   "source": [
    "## 문제점: 메인 스크립트"
   ]
  },
  {
   "cell_type": "code",
   "execution_count": null,
   "metadata": {},
   "outputs": [],
   "source": [
    "# 문제점: 메인 스크립트\n",
    "# --------------------\n",
    "# 패키지 서브모듈을 메인 스크립트로서 실행하면 깨진다.\n",
    "\n",
    "# bash $ python porty/pcost.py # 깨짐\n",
    "# ...\n",
    "# 이유: 파이썬을 단일 파일에서 실행하는데, 파이썬은 나머지 패키지 구조를 올바로 볼 수 없기 때문이다(sys.path가 잘못됨).\n",
    "\n",
    "# 모든 임포트가 깨진다. 이것을 해결하려면 프로그램을 실행할 때 -m 옵션을 사용한다.\n",
    "\n",
    "# bash $ python -m porty.pcost # 작동함\n",
    "# ..."
   ]
  },
  {
   "attachments": {},
   "cell_type": "markdown",
   "metadata": {},
   "source": [
    "## __init__.py 파일"
   ]
  },
  {
   "cell_type": "code",
   "execution_count": null,
   "metadata": {},
   "outputs": [],
   "source": [
    "# __init__.py 파일\n",
    "# ----------------\n",
    "# 이 파일의 주목적은 여러 모듈을 한데 모으는 것이다.\n",
    "\n",
    "# 예: 함수들을 결속시키기\n",
    "# # porty/__init__.py\n",
    "# from .pcost import portfolio_cost\n",
    "# from .report import portfolio_report\n",
    "\n",
    "\n",
    "# 이렇게 하면 임포트할 때 이름이 최상위 수준에 나타난다.\n",
    "# from porty import portfolio_cost\n",
    "# portfolio_cost('portfolio.csv')\n",
    "\n",
    "\n",
    "# 다중 수준 임포트를 사용하는 대신.\n",
    "# from porty import pcost\n",
    "# pcost.portfolio_cost('portfolio.csv')"
   ]
  },
  {
   "attachments": {},
   "cell_type": "markdown",
   "metadata": {},
   "source": [
    "## 스크립트를 위한 솔루션"
   ]
  },
  {
   "cell_type": "code",
   "execution_count": null,
   "metadata": {},
   "outputs": [],
   "source": [
    "# 스크립트를 위한 솔루션\n",
    "# --------------------\n",
    "# 이제 패키지에서 스크립트를 실행하려면 -m package.module을 사용해야 한다.\n",
    "\n",
    "# bash % python3 -m porty.pcost portfolio.csv\n",
    "\n",
    "\n",
    "# 또 다른 방법도 있다. 새로운 최상위 수준 스크립트를 작성하는 것이다.\n",
    "# #!/usr/bin/env python3\n",
    "# # pcost.py\n",
    "# import porty.pcost\n",
    "# import sys\n",
    "# porty.pcost.main(sys.argv)\n",
    "\n",
    "\n",
    "# 이 스크립트는 패키지 바깥에 있다. 예를 들어, 디렉터리 구조를 보자.\n",
    "# pcost.py       # 최상위 수준 스크립트\n",
    "# porty/         # 패키지 디렉터리\n",
    "#     __init__.py\n",
    "#     pcost.py\n",
    "#     ...\n"
   ]
  },
  {
   "cell_type": "code",
   "execution_count": null,
   "metadata": {},
   "outputs": [],
   "source": [
    "# 애플리케이션 구조\n",
    "# ----------------\n",
    "# 코드와 파일의 구조화는 애플리케이션 유지보수성의 핵심이다.\n",
    "\n",
    "# 파이썬에서 모든 문제에 맞는 단 한 가지 방식이 있지는 않다. 그렇지만 다음과 같은 구조는 여러 가지 문제에 적합하다.\n",
    "\n",
    "# porty-app/\n",
    "#   README.txt\n",
    "#   script.py         # SCRIPT\n",
    "#   porty/\n",
    "#     # 라이브러리 코드\n",
    "#     __init__.py\n",
    "#     pcost.py\n",
    "#     report.py\n",
    "#     fileparse.py\n",
    "\n",
    "# 최상위 수준의 porty-app은 문서, 최상위 수준 스크립트, 예제 등 모든 것을 담는다.\n",
    "\n",
    "# 재차 말하지만, 최상위 수준 스크립트는 코드 패키지 외부에 두어야 한다. 한 단계 높이자.\n",
    "\n",
    "# #!/usr/bin/env python3\n",
    "# # porty-app/script.py\n",
    "# import sys\n",
    "# import porty\n",
    "\n",
    "# porty.report.main(sys.argv)"
   ]
  },
  {
   "attachments": {},
   "cell_type": "markdown",
   "metadata": {},
   "source": [
    "## 연습 문제"
   ]
  },
  {
   "cell_type": "code",
   "execution_count": null,
   "metadata": {},
   "outputs": [],
   "source": [
    "# 연습 문제\n",
    "# ---------\n",
    "# 이제 디렉터리에는 프로그램 여러 개가 있다.\n",
    "\n",
    "# pcost.py          # 포트폴리오 비용 계산\n",
    "# report.py         # 보고서 작성\n",
    "# ticker.py         # 실시간 주식 시세 생성\n",
    "\n",
    "# 그 외의 기능을 지원하는 모듈도 여러 개 있다.\n",
    "\n",
    "# stock.py          # Stock 클래스\n",
    "# portfolio.py      # Portfolio 클래스\n",
    "# fileparse.py      # CSV 파싱\n",
    "# tableformat.py    # 표 작성\n",
    "# follow.py         # 로그 파일 추적\n",
    "# typedproperty.py  # 타입 있는 클래스 프로퍼티\n",
    "\n",
    "# 연습 문제에서는 코드를 정리해 공통 패키지에 넣는다."
   ]
  },
  {
   "attachments": {},
   "cell_type": "markdown",
   "metadata": {},
   "source": [
    "### 연습 문제 9.1: 단순한 패키지 만들기"
   ]
  },
  {
   "cell_type": "code",
   "execution_count": null,
   "metadata": {},
   "outputs": [],
   "source": [
    "# 연습 문제 9.1: 단순한 패키지 만들기\n",
    "# ---------------------------------\n",
    "# porty/라는 디렉터리를 만들고 위의 파이썬 파일들을 모두 집어넣어라. 그 디렉터리에 빈 __init__.py 파일도 만들어라. 디렉터리에 다음과 같이 파일이 있어야 한다.\n",
    "\n",
    "# porty/\n",
    "#     __init__.py\n",
    "#     fileparse.py\n",
    "#     follow.py\n",
    "#     pcost.py\n",
    "#     portfolio.py\n",
    "#     report.py\n",
    "#     stock.py\n",
    "#     tableformat.py\n",
    "#     ticker.py\n",
    "#     typedproperty.py\n",
    "# 디렉터리에 있는 __pycache__는 삭제한다. 앞서 프리컴파일한 파이썬 모듈이 들어 있다. 지우고 새로 시작하자.\n",
    "\n",
    "# 패키지 모듈을 임포트해보자.\n",
    "\n",
    "# >>> import porty.report\n",
    "# >>> import porty.pcost\n",
    "# >>> import porty.ticker\n",
    "\n",
    "# 임포트에 실패한다면 해당 파일의 모듈 임포트에 패키지 상대 임포트를 포함하게 수정한다. \n",
    "# 예를 들어, import fileparse는 다음과 같이 바꾼다.\n",
    "\n",
    "# # report.py\n",
    "# from . import fileparse\n",
    "# ...\n",
    "\n",
    "# from fileparse import parse_csv 같은 문장이 보이면, 다음과 같이 변경한다.\n",
    "\n",
    "# # report.py\n",
    "# from .fileparse import parse_csv\n",
    "# ..."
   ]
  },
  {
   "cell_type": "code",
   "execution_count": 1,
   "metadata": {},
   "outputs": [],
   "source": [
    "import sys\n",
    "sys.path.append('../../')"
   ]
  },
  {
   "cell_type": "code",
   "execution_count": 3,
   "metadata": {},
   "outputs": [
    {
     "name": "stdout",
     "output_type": "stream",
     "text": [
      "      Name      Price     Change \n",
      "---------- ---------- ---------- \n",
      "       IBM     102.78      -0.29 \n",
      "       CAT      78.01      -0.51 \n"
     ]
    },
    {
     "ename": "KeyboardInterrupt",
     "evalue": "",
     "output_type": "error",
     "traceback": [
      "\u001b[1;31m---------------------------------------------------------------------------\u001b[0m",
      "\u001b[1;31mKeyboardInterrupt\u001b[0m                         Traceback (most recent call last)",
      "\u001b[1;32m~\\AppData\\Local\\Temp/ipykernel_41476/3191101578.py\u001b[0m in \u001b[0;36m<module>\u001b[1;34m\u001b[0m\n\u001b[0;32m      1\u001b[0m \u001b[1;32mimport\u001b[0m \u001b[0mporty\u001b[0m\u001b[1;33m.\u001b[0m\u001b[0mreport\u001b[0m\u001b[1;33m\u001b[0m\u001b[1;33m\u001b[0m\u001b[0m\n\u001b[0;32m      2\u001b[0m \u001b[1;32mimport\u001b[0m \u001b[0mporty\u001b[0m\u001b[1;33m.\u001b[0m\u001b[0mpcost\u001b[0m\u001b[1;33m\u001b[0m\u001b[1;33m\u001b[0m\u001b[0m\n\u001b[1;32m----> 3\u001b[1;33m \u001b[1;32mimport\u001b[0m \u001b[0mporty\u001b[0m\u001b[1;33m.\u001b[0m\u001b[0mticker\u001b[0m\u001b[1;33m\u001b[0m\u001b[1;33m\u001b[0m\u001b[0m\n\u001b[0m",
      "\u001b[1;32mc:\\Users\\USER\\Quick_Ref\\Programming\\Python\\Python 중급\\실용 파이썬 프로그래밍\\../..\\porty\\ticker.py\u001b[0m in \u001b[0;36m<module>\u001b[1;34m\u001b[0m\n\u001b[0;32m     57\u001b[0m \u001b[1;33m\u001b[0m\u001b[0m\n\u001b[0;32m     58\u001b[0m \u001b[1;33m\u001b[0m\u001b[0m\n\u001b[1;32m---> 59\u001b[1;33m \u001b[0mrows\u001b[0m \u001b[1;33m=\u001b[0m \u001b[0mticker\u001b[0m\u001b[1;33m(\u001b[0m\u001b[1;34m'../../data/portfolio.csv'\u001b[0m\u001b[1;33m,\u001b[0m \u001b[1;34m'../../data/stocklog.csv'\u001b[0m\u001b[1;33m,\u001b[0m \u001b[1;34m'txt'\u001b[0m\u001b[1;33m)\u001b[0m\u001b[1;33m\u001b[0m\u001b[1;33m\u001b[0m\u001b[0m\n\u001b[0m\u001b[0;32m     60\u001b[0m \u001b[1;33m\u001b[0m\u001b[0m\n\u001b[0;32m     61\u001b[0m \u001b[1;33m\u001b[0m\u001b[0m\n",
      "\u001b[1;32mc:\\Users\\USER\\Quick_Ref\\Programming\\Python\\Python 중급\\실용 파이썬 프로그래밍\\../..\\porty\\ticker.py\u001b[0m in \u001b[0;36mticker\u001b[1;34m(portfile, logfile, fmt)\u001b[0m\n\u001b[0;32m     46\u001b[0m     \u001b[0mformatter\u001b[0m \u001b[1;33m=\u001b[0m \u001b[0mtableformat\u001b[0m\u001b[1;33m.\u001b[0m\u001b[0mcreate_formatter\u001b[0m\u001b[1;33m(\u001b[0m\u001b[0mfmt\u001b[0m\u001b[1;33m)\u001b[0m\u001b[1;33m\u001b[0m\u001b[1;33m\u001b[0m\u001b[0m\n\u001b[0;32m     47\u001b[0m     \u001b[0mformatter\u001b[0m\u001b[1;33m.\u001b[0m\u001b[0mheadings\u001b[0m\u001b[1;33m(\u001b[0m\u001b[1;33m[\u001b[0m\u001b[1;34m'Name'\u001b[0m\u001b[1;33m,\u001b[0m\u001b[1;34m'Price'\u001b[0m\u001b[1;33m,\u001b[0m\u001b[1;34m'Change'\u001b[0m\u001b[1;33m]\u001b[0m\u001b[1;33m)\u001b[0m\u001b[1;33m\u001b[0m\u001b[1;33m\u001b[0m\u001b[0m\n\u001b[1;32m---> 48\u001b[1;33m     \u001b[1;32mfor\u001b[0m \u001b[0mrow\u001b[0m \u001b[1;32min\u001b[0m \u001b[0mrows\u001b[0m\u001b[1;33m:\u001b[0m\u001b[1;33m\u001b[0m\u001b[1;33m\u001b[0m\u001b[0m\n\u001b[0m\u001b[0;32m     49\u001b[0m         \u001b[0mformatter\u001b[0m\u001b[1;33m.\u001b[0m\u001b[0mrow\u001b[0m\u001b[1;33m(\u001b[0m\u001b[1;33m[\u001b[0m \u001b[0mrow\u001b[0m\u001b[1;33m[\u001b[0m\u001b[1;34m'name'\u001b[0m\u001b[1;33m]\u001b[0m\u001b[1;33m,\u001b[0m \u001b[1;34mf\"{row['price']:0.2f}\"\u001b[0m\u001b[1;33m,\u001b[0m \u001b[1;34mf\"{row['change']:0.2f}\"\u001b[0m\u001b[1;33m]\u001b[0m \u001b[1;33m)\u001b[0m\u001b[1;33m\u001b[0m\u001b[1;33m\u001b[0m\u001b[0m\n\u001b[0;32m     50\u001b[0m \u001b[1;33m\u001b[0m\u001b[0m\n",
      "\u001b[1;32mc:\\Users\\USER\\Quick_Ref\\Programming\\Python\\Python 중급\\실용 파이썬 프로그래밍\\../..\\porty\\ticker.py\u001b[0m in \u001b[0;36m<genexpr>\u001b[1;34m(.0)\u001b[0m\n\u001b[0;32m     43\u001b[0m     \u001b[0mlines\u001b[0m \u001b[1;33m=\u001b[0m \u001b[0mfollow\u001b[0m\u001b[1;33m(\u001b[0m\u001b[0mlogfile\u001b[0m\u001b[1;33m)\u001b[0m\u001b[1;33m\u001b[0m\u001b[1;33m\u001b[0m\u001b[0m\n\u001b[0;32m     44\u001b[0m     \u001b[0mrows\u001b[0m \u001b[1;33m=\u001b[0m \u001b[0mparse_stock_data\u001b[0m\u001b[1;33m(\u001b[0m\u001b[0mlines\u001b[0m\u001b[1;33m)\u001b[0m             \u001b[1;31m# 생산자/처리자\u001b[0m\u001b[1;33m\u001b[0m\u001b[1;33m\u001b[0m\u001b[0m\n\u001b[1;32m---> 45\u001b[1;33m     \u001b[0mrows\u001b[0m \u001b[1;33m=\u001b[0m \u001b[1;33m(\u001b[0m\u001b[0mrow\u001b[0m \u001b[1;32mfor\u001b[0m \u001b[0mrow\u001b[0m \u001b[1;32min\u001b[0m \u001b[0mrows\u001b[0m \u001b[1;32mif\u001b[0m \u001b[0mrow\u001b[0m\u001b[1;33m[\u001b[0m\u001b[1;34m'name'\u001b[0m\u001b[1;33m]\u001b[0m \u001b[1;32min\u001b[0m \u001b[0mportfolio\u001b[0m\u001b[1;33m)\u001b[0m\u001b[1;33m\u001b[0m\u001b[1;33m\u001b[0m\u001b[0m\n\u001b[0m\u001b[0;32m     46\u001b[0m     \u001b[0mformatter\u001b[0m \u001b[1;33m=\u001b[0m \u001b[0mtableformat\u001b[0m\u001b[1;33m.\u001b[0m\u001b[0mcreate_formatter\u001b[0m\u001b[1;33m(\u001b[0m\u001b[0mfmt\u001b[0m\u001b[1;33m)\u001b[0m\u001b[1;33m\u001b[0m\u001b[1;33m\u001b[0m\u001b[0m\n\u001b[0;32m     47\u001b[0m     \u001b[0mformatter\u001b[0m\u001b[1;33m.\u001b[0m\u001b[0mheadings\u001b[0m\u001b[1;33m(\u001b[0m\u001b[1;33m[\u001b[0m\u001b[1;34m'Name'\u001b[0m\u001b[1;33m,\u001b[0m\u001b[1;34m'Price'\u001b[0m\u001b[1;33m,\u001b[0m\u001b[1;34m'Change'\u001b[0m\u001b[1;33m]\u001b[0m\u001b[1;33m)\u001b[0m\u001b[1;33m\u001b[0m\u001b[1;33m\u001b[0m\u001b[0m\n",
      "\u001b[1;32mc:\\Users\\USER\\Quick_Ref\\Programming\\Python\\Python 중급\\실용 파이썬 프로그래밍\\../..\\porty\\ticker.py\u001b[0m in \u001b[0;36mmake_dict\u001b[1;34m(rows, headers)\u001b[0m\n\u001b[0;32m     17\u001b[0m \u001b[1;33m\u001b[0m\u001b[0m\n\u001b[0;32m     18\u001b[0m \u001b[1;32mdef\u001b[0m \u001b[0mmake_dict\u001b[0m\u001b[1;33m(\u001b[0m\u001b[0mrows\u001b[0m\u001b[1;33m,\u001b[0m \u001b[0mheaders\u001b[0m\u001b[1;33m)\u001b[0m\u001b[1;33m:\u001b[0m\u001b[1;33m\u001b[0m\u001b[1;33m\u001b[0m\u001b[0m\n\u001b[1;32m---> 19\u001b[1;33m     \u001b[1;32mfor\u001b[0m \u001b[0mrow\u001b[0m \u001b[1;32min\u001b[0m \u001b[0mrows\u001b[0m\u001b[1;33m:\u001b[0m\u001b[1;33m\u001b[0m\u001b[1;33m\u001b[0m\u001b[0m\n\u001b[0m\u001b[0;32m     20\u001b[0m         \u001b[1;32myield\u001b[0m \u001b[0mdict\u001b[0m\u001b[1;33m(\u001b[0m\u001b[0mzip\u001b[0m\u001b[1;33m(\u001b[0m\u001b[0mheaders\u001b[0m\u001b[1;33m,\u001b[0m \u001b[0mrow\u001b[0m\u001b[1;33m)\u001b[0m\u001b[1;33m)\u001b[0m\u001b[1;33m\u001b[0m\u001b[1;33m\u001b[0m\u001b[0m\n\u001b[0;32m     21\u001b[0m \u001b[1;33m\u001b[0m\u001b[0m\n",
      "\u001b[1;32mc:\\Users\\USER\\Quick_Ref\\Programming\\Python\\Python 중급\\실용 파이썬 프로그래밍\\../..\\porty\\ticker.py\u001b[0m in \u001b[0;36mconvert_types\u001b[1;34m(rows, types)\u001b[0m\n\u001b[0;32m     12\u001b[0m \u001b[1;33m\u001b[0m\u001b[0m\n\u001b[0;32m     13\u001b[0m \u001b[1;32mdef\u001b[0m \u001b[0mconvert_types\u001b[0m\u001b[1;33m(\u001b[0m\u001b[0mrows\u001b[0m\u001b[1;33m,\u001b[0m \u001b[0mtypes\u001b[0m\u001b[1;33m)\u001b[0m\u001b[1;33m:\u001b[0m\u001b[1;33m\u001b[0m\u001b[1;33m\u001b[0m\u001b[0m\n\u001b[1;32m---> 14\u001b[1;33m     \u001b[1;32mfor\u001b[0m \u001b[0mrow\u001b[0m \u001b[1;32min\u001b[0m \u001b[0mrows\u001b[0m\u001b[1;33m:\u001b[0m\u001b[1;33m\u001b[0m\u001b[1;33m\u001b[0m\u001b[0m\n\u001b[0m\u001b[0;32m     15\u001b[0m         \u001b[1;32myield\u001b[0m \u001b[1;33m[\u001b[0m \u001b[0mfunc\u001b[0m\u001b[1;33m(\u001b[0m\u001b[0mval\u001b[0m\u001b[1;33m)\u001b[0m \u001b[1;32mfor\u001b[0m \u001b[0mfunc\u001b[0m\u001b[1;33m,\u001b[0m \u001b[0mval\u001b[0m \u001b[1;32min\u001b[0m \u001b[0mzip\u001b[0m\u001b[1;33m(\u001b[0m\u001b[0mtypes\u001b[0m\u001b[1;33m,\u001b[0m \u001b[0mrow\u001b[0m\u001b[1;33m)\u001b[0m \u001b[1;33m]\u001b[0m\u001b[1;33m\u001b[0m\u001b[1;33m\u001b[0m\u001b[0m\n\u001b[0;32m     16\u001b[0m \u001b[1;33m\u001b[0m\u001b[0m\n",
      "\u001b[1;32mc:\\Users\\USER\\Quick_Ref\\Programming\\Python\\Python 중급\\실용 파이썬 프로그래밍\\../..\\porty\\ticker.py\u001b[0m in \u001b[0;36mselect_columns\u001b[1;34m(rows, indices)\u001b[0m\n\u001b[0;32m      7\u001b[0m \u001b[1;33m\u001b[0m\u001b[0m\n\u001b[0;32m      8\u001b[0m \u001b[1;32mdef\u001b[0m \u001b[0mselect_columns\u001b[0m\u001b[1;33m(\u001b[0m\u001b[0mrows\u001b[0m\u001b[1;33m,\u001b[0m \u001b[0mindices\u001b[0m\u001b[1;33m)\u001b[0m\u001b[1;33m:\u001b[0m\u001b[1;33m\u001b[0m\u001b[1;33m\u001b[0m\u001b[0m\n\u001b[1;32m----> 9\u001b[1;33m     \u001b[1;32mfor\u001b[0m \u001b[0mrow\u001b[0m \u001b[1;32min\u001b[0m \u001b[0mrows\u001b[0m\u001b[1;33m:\u001b[0m\u001b[1;33m\u001b[0m\u001b[1;33m\u001b[0m\u001b[0m\n\u001b[0m\u001b[0;32m     10\u001b[0m         \u001b[1;32myield\u001b[0m \u001b[1;33m[\u001b[0m \u001b[0mrow\u001b[0m\u001b[1;33m[\u001b[0m\u001b[0mindex\u001b[0m\u001b[1;33m]\u001b[0m \u001b[1;32mfor\u001b[0m \u001b[0mindex\u001b[0m \u001b[1;32min\u001b[0m \u001b[0mindices\u001b[0m \u001b[1;33m]\u001b[0m\u001b[1;33m\u001b[0m\u001b[1;33m\u001b[0m\u001b[0m\n\u001b[0;32m     11\u001b[0m \u001b[1;33m\u001b[0m\u001b[0m\n",
      "\u001b[1;32mc:\\Users\\USER\\Quick_Ref\\Programming\\Python\\Python 중급\\실용 파이썬 프로그래밍\\../..\\porty\\follow.py\u001b[0m in \u001b[0;36mfollow\u001b[1;34m(filename)\u001b[0m\n\u001b[0;32m     10\u001b[0m             \u001b[0mline\u001b[0m \u001b[1;33m=\u001b[0m \u001b[0mf\u001b[0m\u001b[1;33m.\u001b[0m\u001b[0mreadline\u001b[0m\u001b[1;33m(\u001b[0m\u001b[1;33m)\u001b[0m\u001b[1;33m\u001b[0m\u001b[1;33m\u001b[0m\u001b[0m\n\u001b[0;32m     11\u001b[0m             \u001b[1;32mif\u001b[0m \u001b[0mline\u001b[0m \u001b[1;33m==\u001b[0m \u001b[1;34m''\u001b[0m\u001b[1;33m:\u001b[0m\u001b[1;33m\u001b[0m\u001b[1;33m\u001b[0m\u001b[0m\n\u001b[1;32m---> 12\u001b[1;33m                 \u001b[0mtime\u001b[0m\u001b[1;33m.\u001b[0m\u001b[0msleep\u001b[0m\u001b[1;33m(\u001b[0m\u001b[1;36m0.1\u001b[0m\u001b[1;33m)\u001b[0m     \u001b[1;31m# 짧게 쉬었다가 재시도\u001b[0m\u001b[1;33m\u001b[0m\u001b[1;33m\u001b[0m\u001b[0m\n\u001b[0m\u001b[0;32m     13\u001b[0m                 \u001b[1;32mcontinue\u001b[0m\u001b[1;33m\u001b[0m\u001b[1;33m\u001b[0m\u001b[0m\n\u001b[0;32m     14\u001b[0m             \u001b[1;32myield\u001b[0m \u001b[0mline\u001b[0m\u001b[1;33m\u001b[0m\u001b[1;33m\u001b[0m\u001b[0m\n",
      "\u001b[1;31mKeyboardInterrupt\u001b[0m: "
     ]
    }
   ],
   "source": [
    "import porty.report\n",
    "import porty.pcost\n",
    "import porty.ticker"
   ]
  },
  {
   "attachments": {},
   "cell_type": "markdown",
   "metadata": {},
   "source": [
    "### 연습 문제 9.2: 애플리케이션 디렉터리 만들기"
   ]
  },
  {
   "cell_type": "code",
   "execution_count": null,
   "metadata": {},
   "outputs": [],
   "source": [
    "# 연습 문제 9.2: 애플리케이션 디렉터리 만들기\n",
    "# ----------------------------------------\n",
    "# 코드를 모두 '패키지'에 넣기만 한다고 애플리케이션이 되는 것은 아니다. \n",
    "# 지원 파일, 문서, 스크립트, 그 외의 것들이 필요하다. \n",
    "# 이러한 파일들은 위에서 만든 porty/ 디렉터리의 바깥에 있어야 한다.\n",
    "\n",
    "# porty-app이라는 디렉터리를 새로 만들자. 연습 문제 9.1에서 생성한 porty 디렉터리를 그 디렉터리로 옮긴다. \n",
    "# Data/portfolio.csv와 Data/prices.csv 테스트 파일을 이 디렉터리로 복사한다. 당신에 대한 정보를 담은 README.txt 파일도 추가로 작성한다. \n",
    "# 이제 코드가 다음과 같이 되어 있을 것이다.\n",
    "\n",
    "# porty-app/\n",
    "#     portfolio.csv\n",
    "#     prices.csv\n",
    "#     README.txt\n",
    "#     porty/\n",
    "#         __init__.py\n",
    "#         fileparse.py\n",
    "#         follow.py\n",
    "#         pcost.py\n",
    "#         portfolio.py\n",
    "#         report.py\n",
    "#         stock.py\n",
    "#         tableformat.py\n",
    "#         ticker.py\n",
    "#         typedproperty.py\n",
    "\n",
    "# 코드를 실행하려면 최상위 porty-app/ 디렉터리에서 작업해야 한다. 터미널에서 다음과 같이 실행한다.\n",
    "\n",
    "# shell % cd porty-app\n",
    "# shell % python3\n",
    "# >>> import porty.report\n",
    "# >>>\n",
    "\n",
    "# 앞에서 만든 스크립트들을 메인 프로그램으로서 실행해보자.\n",
    "\n",
    "# shell % cd porty-app\n",
    "# shell % python3 -m porty.report portfolio.csv prices.csv txt\n",
    "#       Name     Shares      Price     Change\n",
    "# ---------- ---------- ---------- ----------\n",
    "#         AA        100       9.22     -22.98\n",
    "#        IBM         50     106.28      15.18\n",
    "#        CAT        150      35.46     -47.98\n",
    "#       MSFT        200      20.89     -30.34\n",
    "#         GE         95      13.48     -26.89\n",
    "#       MSFT         50      20.89     -44.21\n",
    "#        IBM        100     106.28      35.84\n",
    "\n",
    "# shell %\n"
   ]
  },
  {
   "attachments": {},
   "cell_type": "markdown",
   "metadata": {},
   "source": [
    "### 연습 문제 9.3: 최상위 스크립트"
   ]
  },
  {
   "cell_type": "code",
   "execution_count": null,
   "metadata": {},
   "outputs": [],
   "source": [
    "# 연습 문제 9.3: 최상위 스크립트\n",
    "# ----------------------------\n",
    "# python -m 명령을 사용하는 것은 좀 이상할 때가 있다. \n",
    "# 패키지의 특성을 다루는 최상위 수준 스크립트를 작성하는 것이 좋다. \n",
    "# 위의 보고서를 생성하는 print-report.py 스크립트를 작성한다.\n",
    "\n",
    "# #!/usr/bin/env python3\n",
    "# # print-report.py\n",
    "# import sys\n",
    "# from porty.report import main\n",
    "# main(sys.argv)\n",
    "# 이 스크립트를 최상위 수준의 porty-app/ 디렉터리에 넣는다. 해당 위치에서 실행해야 한다.\n",
    "\n",
    "# shell % cd porty-app\n",
    "# shell % python3 print-report.py portfolio.csv prices.csv txt\n",
    "#       Name     Shares      Price     Change\n",
    "# ---------- ---------- ---------- ----------\n",
    "#         AA        100       9.22     -22.98\n",
    "#        IBM         50     106.28      15.18\n",
    "#        CAT        150      35.46     -47.98\n",
    "#       MSFT        200      20.89     -30.34\n",
    "#         GE         95      13.48     -26.89\n",
    "#       MSFT         50      20.89     -44.21\n",
    "#        IBM        100     106.28      35.84\n",
    "\n",
    "# shell %\n",
    "# 최종 코드는 다음과 같은 구조가 된다.\n",
    "\n",
    "# porty-app/\n",
    "#     portfolio.csv\n",
    "#     prices.csv\n",
    "#     print-report.py\n",
    "#     README.txt\n",
    "#     porty/\n",
    "#         __init__.py\n",
    "#         fileparse.py\n",
    "#         follow.py\n",
    "#         pcost.py\n",
    "#         portfolio.py\n",
    "#         report.py\n",
    "#         stock.py\n",
    "#         tableformat.py\n",
    "#         ticker.py\n",
    "#         typedproperty.py"
   ]
  },
  {
   "attachments": {},
   "cell_type": "markdown",
   "metadata": {},
   "source": [
    "# 9.2 서드 파티 모듈"
   ]
  },
  {
   "cell_type": "code",
   "execution_count": null,
   "metadata": {},
   "outputs": [],
   "source": [
    "# 9.2 서드 파티 모듈\n",
    "# -----------------\n",
    "# 파이썬에는 빌트인 모듈의 방대한 라이브러리가 있다(전자제품에 배터리를 끼워 파는 것에 비유해 batteries included라고 표현한다).\n",
    "\n",
    "# 게다가 서드 파티 모듈도 아주 많다. 파이썬 패키지 인덱스(PyPi: Python Package Index)를 둘러보라. 아니면 특정 주제를 구글에서 검색해도 된다.\n",
    "\n",
    "# 서드 파티 의존성을 어떻게 다룰 것인지가 파이썬에서 끊임없이 진화하는 주제다. 이 섹션에서는 기본 원리를 소개하는 선에서 다룬다."
   ]
  },
  {
   "attachments": {},
   "cell_type": "markdown",
   "metadata": {},
   "source": [
    "## 모듈 검색 경로"
   ]
  },
  {
   "cell_type": "code",
   "execution_count": null,
   "metadata": {},
   "outputs": [],
   "source": [
    "# 모듈 검색 경로\n",
    "# -------------\n",
    "# sys.path는 모든 디렉터리의 목록을 포함하는 디렉터리로, import 문에서 이것을 확인하다. 한번 살펴보자.\n",
    "\n",
    "# >>> import sys\n",
    "# >>> sys.path\n",
    "# ... 결과를 살펴보라 ...\n",
    "# >>>\n",
    "# 만약 어떤 것을 임포트하려고 했는데 그것을 이 디렉터리 중 어디에서도 찾을 수 없으면 ImportError 예외가 발생한다.\n"
   ]
  },
  {
   "cell_type": "code",
   "execution_count": 4,
   "metadata": {},
   "outputs": [
    {
     "data": {
      "text/plain": [
       "['c:\\\\Users\\\\USER\\\\Quick_Ref\\\\Programming\\\\Python\\\\Python 중급\\\\실용 파이썬 프로그래밍',\n",
       " 'c:\\\\Users\\\\USER\\\\anaconda3\\\\python39.zip',\n",
       " 'c:\\\\Users\\\\USER\\\\anaconda3\\\\DLLs',\n",
       " 'c:\\\\Users\\\\USER\\\\anaconda3\\\\lib',\n",
       " 'c:\\\\Users\\\\USER\\\\anaconda3',\n",
       " '',\n",
       " 'c:\\\\Users\\\\USER\\\\anaconda3\\\\lib\\\\site-packages',\n",
       " 'c:\\\\Users\\\\USER\\\\anaconda3\\\\lib\\\\site-packages\\\\locket-0.2.1-py3.9.egg',\n",
       " 'c:\\\\Users\\\\USER\\\\anaconda3\\\\lib\\\\site-packages\\\\win32',\n",
       " 'c:\\\\Users\\\\USER\\\\anaconda3\\\\lib\\\\site-packages\\\\win32\\\\lib',\n",
       " 'c:\\\\Users\\\\USER\\\\anaconda3\\\\lib\\\\site-packages\\\\Pythonwin',\n",
       " 'c:\\\\Users\\\\USER\\\\anaconda3\\\\lib\\\\site-packages\\\\IPython\\\\extensions',\n",
       " 'C:\\\\Users\\\\USER\\\\.ipython',\n",
       " '../../']"
      ]
     },
     "execution_count": 4,
     "metadata": {},
     "output_type": "execute_result"
    }
   ],
   "source": [
    "import sys\n",
    "sys.path"
   ]
  },
  {
   "attachments": {},
   "cell_type": "markdown",
   "metadata": {},
   "source": [
    "## 표준 라이브러리 모듈"
   ]
  },
  {
   "cell_type": "code",
   "execution_count": null,
   "metadata": {},
   "outputs": [],
   "source": [
    "# 표준 라이브러리 모듈\n",
    "# -------------------\n",
    "# 파이썬의 표준 라이브러리에 속한 모듈은 보통 /usr/local/lib/python3.6과 같은 곳에 있다. 간단한 테스트를 통해 확인해 볼 수 있다.\n",
    "\n",
    "# >>> import re\n",
    "# >>> re\n",
    "# <module 're' from '/usr/local/lib/python3.6/re.py'>\n",
    "# >>>\n",
    "# REPL에서 모듈을 찾아보기만 해도 디버깅에 도움이 되는 정보를 얻을 수 있다. 이것은 파일의 위치를 보여준다."
   ]
  },
  {
   "cell_type": "code",
   "execution_count": 5,
   "metadata": {},
   "outputs": [
    {
     "data": {
      "text/plain": [
       "<module 're' from 'c:\\\\Users\\\\USER\\\\anaconda3\\\\lib\\\\re.py'>"
      ]
     },
     "execution_count": 5,
     "metadata": {},
     "output_type": "execute_result"
    }
   ],
   "source": [
    "import re\n",
    "re"
   ]
  },
  {
   "attachments": {},
   "cell_type": "markdown",
   "metadata": {},
   "source": [
    "## 서드 파티 모듈"
   ]
  },
  {
   "cell_type": "code",
   "execution_count": null,
   "metadata": {},
   "outputs": [],
   "source": [
    "# 서드 파티 모듈\n",
    "# -------------\n",
    "# 서드 파티 모듈은 일반적으로 전용 site-packages 디렉터리에 있다. 앞에서 한 것과 같은 방법으로 찾아볼 수 있다.\n",
    "\n",
    "# >>> import numpy\n",
    "# >>> numpy\n",
    "# <module 'numpy' from '/usr/local/lib/python3.6/site-packages/numpy/__init__.py'>\n",
    "# >>>\n",
    "# import와 관련해 예상대로 작동하지 않는 이유를 찾으려고 할 때, 모듈을 들여다보는 것은 좋은 디버깅 방법이다."
   ]
  },
  {
   "cell_type": "code",
   "execution_count": 7,
   "metadata": {},
   "outputs": [
    {
     "data": {
      "text/plain": [
       "<module 'numpy' from 'c:\\\\Users\\\\USER\\\\anaconda3\\\\lib\\\\site-packages\\\\numpy\\\\__init__.py'>"
      ]
     },
     "execution_count": 7,
     "metadata": {},
     "output_type": "execute_result"
    }
   ],
   "source": [
    "import numpy\n",
    "numpy"
   ]
  },
  {
   "cell_type": "code",
   "execution_count": 8,
   "metadata": {},
   "outputs": [
    {
     "data": {
      "text/plain": [
       "<module 'pip' from 'c:\\\\Users\\\\USER\\\\anaconda3\\\\lib\\\\site-packages\\\\pip\\\\__init__.py'>"
      ]
     },
     "execution_count": 8,
     "metadata": {},
     "output_type": "execute_result"
    }
   ],
   "source": [
    "import pip\n",
    "pip"
   ]
  },
  {
   "attachments": {},
   "cell_type": "markdown",
   "metadata": {},
   "source": [
    "## 모듈 설치하기"
   ]
  },
  {
   "cell_type": "code",
   "execution_count": null,
   "metadata": {},
   "outputs": [],
   "source": [
    "# 모듈 설치하기\n",
    "# ------------\n",
    "# 서드 파티 모듈을 설치하는 가장 일반적인 방법은 pip를 사용하는 것이다. 예:\n",
    "\n",
    "# bash % python3 -m pip install packagename\n",
    "# 이 명령은 패키지를 다운로드해 site-packages 디렉터리에 설치한다.\n",
    "\n",
    "# 문제점\n",
    "# ------\n",
    "# 당신이 직접 제어하지 않는 파이썬을 사용 중일 수 있다.\n",
    "# 회사 승인 설치\n",
    "# OS에 포함된 파이썬 버전을 사용하고 있는 경우.\n",
    "# 당신은 컴퓨터에 글로벌 패키지를 설치할 권한이 없을 수 있다.\n",
    "# 다른 의존성이 있을 수 있다."
   ]
  },
  {
   "attachments": {},
   "cell_type": "markdown",
   "metadata": {},
   "source": [
    "## 가상 환경(Virtual Environment)"
   ]
  },
  {
   "cell_type": "code",
   "execution_count": null,
   "metadata": {},
   "outputs": [],
   "source": [
    "# 가상 환경(Virtual Environment)\n",
    "# ------------------------------\n",
    "# 패키지 설치 이슈의 일반적인 해법은 자신을 위한 \"가상 환경\"을 생성하는 것이다. \n",
    "# 여기에 '왕도'는 없으며, 여러 가지 도구와 기법이 경쟁한다. 하지만, 표준 파이썬 설치를 사용한다면 다음의 방법을 시도할 수 있다.\n",
    "\n",
    "# bash % python -m venv mypython\n",
    "# bash %\n",
    "# 잠시 기다리면 mypython이라는 디렉터리가 새로 만들어진다. 이것을 당신만의 작은 파이썬 설치본이라고 생각할 수 있다. \n",
    "# 그 디렉터리 안에서 bin/ 디렉터리(유닉스) 또는 Scripts/ 디렉터리(윈도우)를 찾을 수 있다. \n",
    "# 거기 있는 activate 스크립트를 실행하면, 해당 파이썬 버전이 '활성화(activate)'되어, 셸의 디폴트 python 명령이 된다. 예:\n",
    "\n",
    "# bash % source mypython/bin/activate\n",
    "# (mypython) bash %\n",
    "# 이곳에 파이썬 패키지를 설치할 수 있다. 예:\n",
    "\n",
    "# (mypython) bash % python -m pip install pandas\n",
    "# ...\n",
    "# 여러 패키지를 실험하고 사용해보고 싶을 때 가상 환경을 사용하면 좋다. \n",
    "# 한편, 개발하는 애플리케이션에 특정 패키지 의존성이 필요한 경우는 약간 다른 문제가 있다.\n",
    "\n"
   ]
  },
  {
   "attachments": {},
   "cell_type": "markdown",
   "metadata": {},
   "source": [
    "## 애플리케이션에서 서드 파티 의존성을 다루기"
   ]
  },
  {
   "cell_type": "code",
   "execution_count": null,
   "metadata": {},
   "outputs": [],
   "source": [
    "# 애플리케이션에서 서드 파티 의존성을 다루기\n",
    "# ---------------------------------------\n",
    "# 만약 당신이 작성한 애플리케이션이 특정 서드 파티에 의존성이 있으면, \n",
    "# 당신의 코드와 의존성을 포함하는 환경을 생성하고 보존하는 데 어려움이 있다. \n",
    "# 안타깝게도, 파이썬에서 이 영역은 매우 혼란스럽고 빈번한 변화가 있다. 지금도 계속 진화하고 있다.\n",
    "\n",
    "# 정보를 제공하더라도 금세 구식이 되어버리므로, 파이썬 패키징 사용자 안내서(Python Packaging User Guide)를 참조하기를 권한다."
   ]
  },
  {
   "attachments": {},
   "cell_type": "markdown",
   "metadata": {},
   "source": [
    "# 9.3 배포"
   ]
  },
  {
   "cell_type": "code",
   "execution_count": null,
   "metadata": {},
   "outputs": [],
   "source": [
    "# 9.3 배포\n",
    "# --------\n",
    "# 여러분이 작성한 코드를 동료라든지 다른 누군가에게 주고 싶을 수도 있다. \n",
    "# 그렇게 하는 가장 기본적인 방법을 알아보자. 자세한 정보는 파이썬 패키징 사용자 안내서(Python Packaging User Guide)를 참조하라."
   ]
  },
  {
   "attachments": {},
   "cell_type": "markdown",
   "metadata": {},
   "source": [
    "## setup.py 파일 생성"
   ]
  },
  {
   "cell_type": "code",
   "execution_count": null,
   "metadata": {},
   "outputs": [],
   "source": [
    "# setup.py 파일 생성\n",
    "# -----------------\n",
    "# 프로젝트 디렉터리 최상위에 setup.py 파일을 추가한다.\n",
    "\n",
    "# # setup.py\n",
    "# import setuptools\n",
    "\n",
    "# setuptools.setup(\n",
    "#     name=\"porty\",\n",
    "#     version=\"0.0.1\",\n",
    "#     author=\"Your Name\",\n",
    "#     author_email=\"you@example.com\",\n",
    "#     description=\"Practical Python Code\",\n",
    "#     packages=setuptools.find_packages(),\n",
    "# )"
   ]
  },
  {
   "attachments": {},
   "cell_type": "markdown",
   "metadata": {},
   "source": [
    "## MANIFEST.in 생성"
   ]
  },
  {
   "cell_type": "code",
   "execution_count": null,
   "metadata": {},
   "outputs": [],
   "source": [
    "# MANIFEST.in 생성\n",
    "# ----------------\n",
    "# 프로젝트와 연관된 추가 파일이 있다면 MANIFEST.in 파일에 지정한다. 예:\n",
    "\n",
    "# # MANIFEST.in\n",
    "# include *.csv\n",
    "\n",
    "# MANIFEST.in 파일을 setup.py와 같은 디렉터리에 둔다."
   ]
  },
  {
   "attachments": {},
   "cell_type": "markdown",
   "metadata": {},
   "source": [
    "## 소스 배포판 생성"
   ]
  },
  {
   "cell_type": "code",
   "execution_count": null,
   "metadata": {},
   "outputs": [],
   "source": [
    "# 소스 배포판 생성\n",
    "# ---------------\n",
    "# 코드 배포판을 생성하려면 setup.py 파일을 사용한다. 예:\n",
    "\n",
    "# bash % python setup.py sdist\n",
    "# 이것은 dist/ 디렉터리에 .tar.gz 또는 .zip 파일을 생성한다. 그 파일을 다른 사람에게 줄 수 있다."
   ]
  },
  {
   "attachments": {},
   "cell_type": "markdown",
   "metadata": {},
   "source": [
    "# 당신의 코드를 설치"
   ]
  },
  {
   "cell_type": "code",
   "execution_count": null,
   "metadata": {},
   "outputs": [],
   "source": [
    "# 당신의 코드를 설치\n",
    "# -----------------\n",
    "# 당신이 작성한 파이썬 코드를 다른 사람들이 pip를 사용해 설치하게 할 수 있다. 이전 단계에서 생성한 파일을 제공하면 된다. 예:\n",
    "\n",
    "# bash % python -m pip install porty-0.0.1.tar.gz"
   ]
  },
  {
   "attachments": {},
   "cell_type": "markdown",
   "metadata": {},
   "source": [
    "## 부연 설명"
   ]
  },
  {
   "cell_type": "code",
   "execution_count": null,
   "metadata": {},
   "outputs": [],
   "source": [
    "# 부연 설명\n",
    "# --------\n",
    "# 위에서 설명한 단계는 다른 사람에게 줄 수 있는 파이썬 코드의 패키지를 생성하는 최소한의 기초만 다뤘다. \n",
    "# 현실에서는 서드 파티 의존성, 외부 코드(예: C/C++) 포함 여부 등으로 인해 훨씬 복잡하다. \n",
    "# 그런 일들을 다루는 것은 이 코스의 범위를 벗어난다. 우리는 아주 작은 첫걸음만 딛었다."
   ]
  },
  {
   "attachments": {},
   "cell_type": "markdown",
   "metadata": {},
   "source": [
    "## 연습 문제"
   ]
  },
  {
   "attachments": {},
   "cell_type": "markdown",
   "metadata": {},
   "source": [
    "### 연습 문제 9.5: 패키지 만들기"
   ]
  },
  {
   "cell_type": "code",
   "execution_count": null,
   "metadata": {},
   "outputs": [],
   "source": [
    "# 연습 문제 9.5: 패키지 만들기\n",
    "# --------------------------\n",
    "# 연습 문제 9.3에서 만든 porty-app/ 코드를 가지고 이 섹션에서 설명한 단계를 실습해보라. \n",
    "# setup.py 파일과 MANIFEST.in 파일을 최상위 디렉터리에 추가하라. \n",
    "# python setup.py sdist를 실행해 소스 배포 파일을 생성하라.\n",
    "\n",
    "# 끝으로, 당신이 만든 패키지를 파이썬 가상 환경에 설치해보라."
   ]
  }
 ],
 "metadata": {
  "kernelspec": {
   "display_name": "base",
   "language": "python",
   "name": "python3"
  },
  "language_info": {
   "codemirror_mode": {
    "name": "ipython",
    "version": 3
   },
   "file_extension": ".py",
   "mimetype": "text/x-python",
   "name": "python",
   "nbconvert_exporter": "python",
   "pygments_lexer": "ipython3",
   "version": "3.9.7"
  },
  "orig_nbformat": 4,
  "vscode": {
   "interpreter": {
    "hash": "263930470851f494f0ed2879c35b57985588df20f9e529b86e97dd5eb9ddc466"
   }
  }
 },
 "nbformat": 4,
 "nbformat_minor": 2
}
