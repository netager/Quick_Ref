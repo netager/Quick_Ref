{
 "cells": [
  {
   "cell_type": "code",
   "execution_count": null,
   "metadata": {},
   "outputs": [],
   "source": [
    "# 6. 제너레이터\n",
    "# ------------\n",
    "# 이터레이션(for 루프)은 파이썬의 가장 일반적인 프로그래밍 패턴이다. \n",
    "# 프로그램에서 리스트를 다루고, 파일을 읽고, 데이터베이스에 질의하는 등의 여러 가지 일에 이터레이션이 자주 사용된다. \n",
    "# 파이썬의 가장 큰 장점 중 하나가 바로 \"제너레이터 함수\"라는 형태로 이터레이션을 커스터마이즈하고 \n",
    "# 새롭게 정의할 수 있는 능력이다. \n",
    "# 이 섹션은 이 주제를 다룬다. 끝으로, 실시간 스트리밍 데이터를 흥미로운 방식으로 처리하는 프로그램을 작성한다.\n",
    "\n",
    "# 6.1 이터레이션 프로토콜\n",
    "# 6.2 제너레이터를 사용해 이터레이션을 커스터마이즈하기\n",
    "# 6.3 생산자/소비자 문제와 흐름\n",
    "# 6.4 제너레이터 표현식"
   ]
  },
  {
   "attachments": {},
   "cell_type": "markdown",
   "metadata": {},
   "source": [
    "# 6.1 이터레이션 프로토콜"
   ]
  },
  {
   "cell_type": "code",
   "execution_count": null,
   "metadata": {},
   "outputs": [],
   "source": [
    "# 6.1 이터레이션 프로토콜\n",
    "#-- --------------------\n",
    "# 이 섹션은 이터레이션이 어떻게 작동하는지 살펴본다.\n",
    "\n",
    "\n",
    "\n",
    "# 너도나도 이터레이션\n",
    "# ------------------\n",
    "# 온갖 객체들이 이터레이션을 지원한다.\n",
    "\n",
    "# a = 'hello'\n",
    "# for c in a: # a의 문자를 루핑\n",
    "#     ...\n",
    "\n",
    "# b = { 'name': 'Dave', 'password':'foo'}\n",
    "# for k in b: # 딕셔너리 키를 루핑\n",
    "#     ...\n",
    "\n",
    "# c = [1,2,3,4]\n",
    "# for i in c: # 리스트/튜플의 항목을 루핑\n",
    "#     ...\n",
    "\n",
    "# f = open('foo.txt')\n",
    "# for x in f: # 파일의 행을 루핑\n",
    "#     ..."
   ]
  },
  {
   "attachments": {},
   "cell_type": "markdown",
   "metadata": {},
   "source": [
    "## 이터레이션: 프로토콜"
   ]
  },
  {
   "cell_type": "code",
   "execution_count": null,
   "metadata": {},
   "outputs": [],
   "source": [
    "# 이터레이션: 프로토콜\n",
    "# ------------------\n",
    "# for 문을 생각해보자.\n",
    "\n",
    "# for x in obj:\n",
    "#     # 문장\n",
    "# 내부적으로 어떻게 작동하는가?\n",
    "\n",
    "# _iter = obj.__iter__()        # 이터레이터 객체를 얻음\n",
    "# while True:\n",
    "#     try:\n",
    "#         x = _iter.__next__()  # 다음 항목을 얻음\n",
    "#     except StopIteration:     # 남은 항목이 없음\n",
    "#         break\n",
    "#     # 문장 ...\n",
    "\n",
    "# for 문에서 작동하는 모든 객체는 이러한 저수준 이터레이션 프로토콜을 구현한 것이다.\n",
    "\n",
    "# 예제: 리스트에 대해 수작업으로 이터레이션.\n",
    "\n",
    "# >>> x = [1,2,3]\n",
    "# >>> it = x.__iter__()\n",
    "# >>> it\n",
    "# <listiterator object at 0x590b0>\n",
    "# >>> it.__next__()\n",
    "# 1\n",
    "# >>> it.__next__()\n",
    "# 2\n",
    "# >>> it.__next__()\n",
    "# 3\n",
    "# >>> it.__next__()\n",
    "# Traceback (most recent call last):\n",
    "# File \"<stdin>\", line 1, in ? StopIteration\n",
    "# >>>"
   ]
  },
  {
   "cell_type": "code",
   "execution_count": 4,
   "metadata": {},
   "outputs": [
    {
     "ename": "StopIteration",
     "evalue": "",
     "output_type": "error",
     "traceback": [
      "\u001b[1;31m---------------------------------------------------------------------------\u001b[0m",
      "\u001b[1;31mStopIteration\u001b[0m                             Traceback (most recent call last)",
      "\u001b[1;32m~\\AppData\\Local\\Temp/ipykernel_41616/836630423.py\u001b[0m in \u001b[0;36m<module>\u001b[1;34m\u001b[0m\n\u001b[0;32m      5\u001b[0m \u001b[0mit\u001b[0m\u001b[1;33m.\u001b[0m\u001b[0m__next__\u001b[0m\u001b[1;33m(\u001b[0m\u001b[1;33m)\u001b[0m\u001b[1;33m\u001b[0m\u001b[1;33m\u001b[0m\u001b[0m\n\u001b[0;32m      6\u001b[0m \u001b[0mit\u001b[0m\u001b[1;33m.\u001b[0m\u001b[0m__next__\u001b[0m\u001b[1;33m(\u001b[0m\u001b[1;33m)\u001b[0m\u001b[1;33m\u001b[0m\u001b[1;33m\u001b[0m\u001b[0m\n\u001b[1;32m----> 7\u001b[1;33m \u001b[0mit\u001b[0m\u001b[1;33m.\u001b[0m\u001b[0m__next__\u001b[0m\u001b[1;33m(\u001b[0m\u001b[1;33m)\u001b[0m\u001b[1;33m\u001b[0m\u001b[1;33m\u001b[0m\u001b[0m\n\u001b[0m",
      "\u001b[1;31mStopIteration\u001b[0m: "
     ]
    }
   ],
   "source": [
    "x = [1, 2, 3]\n",
    "it = x.__iter__()\n",
    "it\n",
    "it.__next__()\n",
    "it.__next__()\n",
    "it.__next__()\n",
    "it.__next__()"
   ]
  },
  {
   "attachments": {},
   "cell_type": "markdown",
   "metadata": {},
   "source": [
    "## 이터레이션 지원하기"
   ]
  },
  {
   "cell_type": "code",
   "execution_count": null,
   "metadata": {},
   "outputs": [],
   "source": [
    "# 이터레이션 지원하기\n",
    "# 이터레이션의 유용성을 이해한다면 스스로 작성한 객체도 이터레이션을 지원하게 하고 싶을 것이다. \n",
    "# 예를 들어, 다음과 같이 커스텀 컨테이너를 만들 수 있다.\n",
    "\n",
    "# class Portfolio:\n",
    "#     def __init__(self):\n",
    "#         self.holdings = []\n",
    "\n",
    "#     def __iter__(self):\n",
    "#         return self.holdings.__iter__()\n",
    "#     ...\n",
    "\n",
    "# port = Portfolio()\n",
    "# for s in port:\n",
    "#     ..."
   ]
  },
  {
   "attachments": {},
   "cell_type": "markdown",
   "metadata": {},
   "source": [
    "## 연습 문제"
   ]
  },
  {
   "cell_type": "code",
   "execution_count": null,
   "metadata": {},
   "outputs": [],
   "source": [
    "# 연습 문제 6.1: 이터레이션 뜯어보기\n",
    "# --------------------------------\n",
    "# 다음 리스트를 생성한다.\n",
    "\n",
    "# a = [1,9,4,25,16]\n",
    "# 이 리스트에 대해 수작업으로 이터레이션을 수행하라. __iter__()를 호출해 이터레이터를 얻은 다음, __next__() 메서드를 호출해 다음 번 원소를 얻는다.\n",
    "\n",
    "# >>> i = a.__iter__()\n",
    "# >>> i\n",
    "# <listiterator object at 0x64c10>\n",
    "# >>> i.__next__()\n",
    "# 1\n",
    "# >>> i.__next__()\n",
    "# 9\n",
    "# >>> i.__next__()\n",
    "# 4\n",
    "# >>> i.__next__()\n",
    "# 25\n",
    "# >>> i.__next__()\n",
    "# 16\n",
    "# >>> i.__next__()\n",
    "# Traceback (most recent call last):\n",
    "#   File \"<stdin>\", line 1, in <module>\n",
    "# StopIteration\n",
    "# >>>\n",
    "\n",
    "# 빌트인 함수 next()를 사용하면 이터레이터의 __next__() 메서드를 간편하게 호출할 수 있다. 파일을 가지고도 같은 일을 해 보자.\n",
    "\n",
    "# >>> f = open('Data/portfolio.csv')\n",
    "# >>> f.__iter__()    # 참고: 이것은 파일 자체를 반환함\n",
    "# <_io.TextIOWrapper name='Data/portfolio.csv' mode='r' encoding='UTF-8'>\n",
    "# >>> next(f)\n",
    "# 'name,shares,price\\n'\n",
    "# >>> next(f)\n",
    "# '\"AA\",100,32.20\\n'\n",
    "# >>> next(f)\n",
    "# '\"IBM\",50,91.10\\n'\n",
    "# >>>\n",
    "# 파일의 끝에 도달할 때까지 next(f)를 계속 호출하라. 무슨 일이 일어나는지 관찰하라."
   ]
  },
  {
   "cell_type": "code",
   "execution_count": 18,
   "metadata": {},
   "outputs": [
    {
     "data": {
      "text/plain": [
       "<list_iterator at 0x28b64d8cbb0>"
      ]
     },
     "execution_count": 18,
     "metadata": {},
     "output_type": "execute_result"
    }
   ],
   "source": [
    "a = [1,9,4,25,16]\n",
    "a.__iter__()\n"
   ]
  },
  {
   "cell_type": "code",
   "execution_count": 17,
   "metadata": {},
   "outputs": [
    {
     "data": {
      "text/plain": [
       "'\"IBM\",50,91.10\\n'"
      ]
     },
     "execution_count": 17,
     "metadata": {},
     "output_type": "execute_result"
    }
   ],
   "source": [
    "f = open('../../data/portfolio.csv')\n",
    "f.__iter__()\n",
    "next(f)\n",
    "next(f)\n",
    "next(f)\n"
   ]
  }
 ],
 "metadata": {
  "kernelspec": {
   "display_name": "base",
   "language": "python",
   "name": "python3"
  },
  "language_info": {
   "codemirror_mode": {
    "name": "ipython",
    "version": 3
   },
   "file_extension": ".py",
   "mimetype": "text/x-python",
   "name": "python",
   "nbconvert_exporter": "python",
   "pygments_lexer": "ipython3",
   "version": "3.9.7"
  },
  "orig_nbformat": 4
 },
 "nbformat": 4,
 "nbformat_minor": 2
}
