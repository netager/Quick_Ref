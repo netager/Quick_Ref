{
 "cells": [
  {
   "cell_type": "code",
   "execution_count": null,
   "metadata": {},
   "outputs": [],
   "source": [
    "# 6. 제너레이터\n",
    "# ------------\n",
    "# 이터레이션(for 루프)은 파이썬의 가장 일반적인 프로그래밍 패턴이다. \n",
    "# 프로그램에서 리스트를 다루고, 파일을 읽고, 데이터베이스에 질의하는 등의 여러 가지 일에 이터레이션이 자주 사용된다. \n",
    "# 파이썬의 가장 큰 장점 중 하나가 바로 \"제너레이터 함수\"라는 형태로 이터레이션을 커스터마이즈하고 \n",
    "# 새롭게 정의할 수 있는 능력이다. \n",
    "# 이 섹션은 이 주제를 다룬다. 끝으로, 실시간 스트리밍 데이터를 흥미로운 방식으로 처리하는 프로그램을 작성한다.\n",
    "\n",
    "# 6.1 이터레이션 프로토콜\n",
    "# 6.2 제너레이터를 사용해 이터레이션을 커스터마이즈하기\n",
    "# 6.3 생산자/소비자 문제와 흐름\n",
    "# 6.4 제너레이터 표현식"
   ]
  },
  {
   "attachments": {},
   "cell_type": "markdown",
   "metadata": {},
   "source": [
    "# 6.1 이터레이션 프로토콜"
   ]
  },
  {
   "cell_type": "code",
   "execution_count": null,
   "metadata": {},
   "outputs": [],
   "source": [
    "# 6.1 이터레이션 프로토콜\n",
    "#-- --------------------\n",
    "# 이 섹션은 이터레이션이 어떻게 작동하는지 살펴본다.\n",
    "\n",
    "\n",
    "\n",
    "# 너도나도 이터레이션\n",
    "# ------------------\n",
    "# 온갖 객체들이 이터레이션을 지원한다.\n",
    "\n",
    "# a = 'hello'\n",
    "# for c in a: # a의 문자를 루핑\n",
    "#     ...\n",
    "\n",
    "# b = { 'name': 'Dave', 'password':'foo'}\n",
    "# for k in b: # 딕셔너리 키를 루핑\n",
    "#     ...\n",
    "\n",
    "# c = [1,2,3,4]\n",
    "# for i in c: # 리스트/튜플의 항목을 루핑\n",
    "#     ...\n",
    "\n",
    "# f = open('foo.txt')\n",
    "# for x in f: # 파일의 행을 루핑\n",
    "#     ..."
   ]
  },
  {
   "attachments": {},
   "cell_type": "markdown",
   "metadata": {},
   "source": [
    "## 이터레이션: 프로토콜"
   ]
  },
  {
   "cell_type": "code",
   "execution_count": null,
   "metadata": {},
   "outputs": [],
   "source": [
    "# 이터레이션: 프로토콜\n",
    "# ------------------\n",
    "# for 문을 생각해보자.\n",
    "\n",
    "# for x in obj:\n",
    "#     # 문장\n",
    "# 내부적으로 어떻게 작동하는가?\n",
    "\n",
    "# _iter = obj.__iter__()        # 이터레이터 객체를 얻음\n",
    "# while True:\n",
    "#     try:\n",
    "#         x = _iter.__next__()  # 다음 항목을 얻음\n",
    "#     except StopIteration:     # 남은 항목이 없음\n",
    "#         break\n",
    "#     # 문장 ...\n",
    "\n",
    "# for 문에서 작동하는 모든 객체는 이러한 저수준 이터레이션 프로토콜을 구현한 것이다.\n",
    "\n",
    "# 예제: 리스트에 대해 수작업으로 이터레이션.\n",
    "\n",
    "# >>> x = [1,2,3]\n",
    "# >>> it = x.__iter__()\n",
    "# >>> it\n",
    "# <listiterator object at 0x590b0>\n",
    "# >>> it.__next__()\n",
    "# 1\n",
    "# >>> it.__next__()\n",
    "# 2\n",
    "# >>> it.__next__()\n",
    "# 3\n",
    "# >>> it.__next__()\n",
    "# Traceback (most recent call last):\n",
    "# File \"<stdin>\", line 1, in ? StopIteration\n",
    "# >>>"
   ]
  },
  {
   "cell_type": "code",
   "execution_count": 4,
   "metadata": {},
   "outputs": [
    {
     "ename": "StopIteration",
     "evalue": "",
     "output_type": "error",
     "traceback": [
      "\u001b[1;31m---------------------------------------------------------------------------\u001b[0m",
      "\u001b[1;31mStopIteration\u001b[0m                             Traceback (most recent call last)",
      "\u001b[1;32m~\\AppData\\Local\\Temp/ipykernel_41616/836630423.py\u001b[0m in \u001b[0;36m<module>\u001b[1;34m\u001b[0m\n\u001b[0;32m      5\u001b[0m \u001b[0mit\u001b[0m\u001b[1;33m.\u001b[0m\u001b[0m__next__\u001b[0m\u001b[1;33m(\u001b[0m\u001b[1;33m)\u001b[0m\u001b[1;33m\u001b[0m\u001b[1;33m\u001b[0m\u001b[0m\n\u001b[0;32m      6\u001b[0m \u001b[0mit\u001b[0m\u001b[1;33m.\u001b[0m\u001b[0m__next__\u001b[0m\u001b[1;33m(\u001b[0m\u001b[1;33m)\u001b[0m\u001b[1;33m\u001b[0m\u001b[1;33m\u001b[0m\u001b[0m\n\u001b[1;32m----> 7\u001b[1;33m \u001b[0mit\u001b[0m\u001b[1;33m.\u001b[0m\u001b[0m__next__\u001b[0m\u001b[1;33m(\u001b[0m\u001b[1;33m)\u001b[0m\u001b[1;33m\u001b[0m\u001b[1;33m\u001b[0m\u001b[0m\n\u001b[0m",
      "\u001b[1;31mStopIteration\u001b[0m: "
     ]
    }
   ],
   "source": [
    "x = [1, 2, 3]\n",
    "it = x.__iter__()\n",
    "it\n",
    "it.__next__()\n",
    "it.__next__()\n",
    "it.__next__()\n",
    "it.__next__()"
   ]
  },
  {
   "attachments": {},
   "cell_type": "markdown",
   "metadata": {},
   "source": [
    "## 이터레이션 지원하기"
   ]
  },
  {
   "cell_type": "code",
   "execution_count": null,
   "metadata": {},
   "outputs": [],
   "source": [
    "# 이터레이션 지원하기\n",
    "# 이터레이션의 유용성을 이해한다면 스스로 작성한 객체도 이터레이션을 지원하게 하고 싶을 것이다. \n",
    "# 예를 들어, 다음과 같이 커스텀 컨테이너를 만들 수 있다.\n",
    "\n",
    "# class Portfolio:\n",
    "#     def __init__(self):\n",
    "#         self.holdings = []\n",
    "\n",
    "#     def __iter__(self):\n",
    "#         return self.holdings.__iter__()\n",
    "#     ...\n",
    "\n",
    "# port = Portfolio()\n",
    "# for s in port:\n",
    "#     ..."
   ]
  },
  {
   "attachments": {},
   "cell_type": "markdown",
   "metadata": {},
   "source": [
    "## 연습 문제"
   ]
  },
  {
   "cell_type": "markdown",
   "metadata": {},
   "source": [
    "## 연습 문제 6.1: 이터레이션 뜯어보기"
   ]
  },
  {
   "cell_type": "code",
   "execution_count": null,
   "metadata": {},
   "outputs": [],
   "source": [
    "# 연습 문제 6.1: 이터레이션 뜯어보기\n",
    "# --------------------------------\n",
    "# 다음 리스트를 생성한다.\n",
    "\n",
    "# a = [1,9,4,25,16]\n",
    "# 이 리스트에 대해 수작업으로 이터레이션을 수행하라. __iter__()를 호출해 이터레이터를 얻은 다음, __next__() 메서드를 호출해 다음 번 원소를 얻는다.\n",
    "\n",
    "# >>> i = a.__iter__()\n",
    "# >>> i\n",
    "# <listiterator object at 0x64c10>\n",
    "# >>> i.__next__()\n",
    "# 1\n",
    "# >>> i.__next__()\n",
    "# 9\n",
    "# >>> i.__next__()\n",
    "# 4\n",
    "# >>> i.__next__()\n",
    "# 25\n",
    "# >>> i.__next__()\n",
    "# 16\n",
    "# >>> i.__next__()\n",
    "# Traceback (most recent call last):\n",
    "#   File \"<stdin>\", line 1, in <module>\n",
    "# StopIteration\n",
    "# >>>\n",
    "\n",
    "# 빌트인 함수 next()를 사용하면 이터레이터의 __next__() 메서드를 간편하게 호출할 수 있다. 파일을 가지고도 같은 일을 해 보자.\n",
    "\n",
    "# >>> f = open('Data/portfolio.csv')\n",
    "# >>> f.__iter__()    # 참고: 이것은 파일 자체를 반환함\n",
    "# <_io.TextIOWrapper name='Data/portfolio.csv' mode='r' encoding='UTF-8'>\n",
    "# >>> next(f)\n",
    "# 'name,shares,price\\n'\n",
    "# >>> next(f)\n",
    "# '\"AA\",100,32.20\\n'\n",
    "# >>> next(f)\n",
    "# '\"IBM\",50,91.10\\n'\n",
    "# >>>\n",
    "# 파일의 끝에 도달할 때까지 next(f)를 계속 호출하라. 무슨 일이 일어나는지 관찰하라."
   ]
  },
  {
   "cell_type": "code",
   "execution_count": 18,
   "metadata": {},
   "outputs": [
    {
     "data": {
      "text/plain": [
       "<list_iterator at 0x28b64d8cbb0>"
      ]
     },
     "execution_count": 18,
     "metadata": {},
     "output_type": "execute_result"
    }
   ],
   "source": [
    "a = [1,9,4,25,16]\n",
    "a.__iter__()\n"
   ]
  },
  {
   "cell_type": "code",
   "execution_count": 17,
   "metadata": {},
   "outputs": [
    {
     "data": {
      "text/plain": [
       "'\"IBM\",50,91.10\\n'"
      ]
     },
     "execution_count": 17,
     "metadata": {},
     "output_type": "execute_result"
    }
   ],
   "source": [
    "f = open('../../data/portfolio.csv')\n",
    "f.__iter__()\n",
    "next(f)\n",
    "next(f)\n",
    "next(f)\n"
   ]
  },
  {
   "cell_type": "markdown",
   "metadata": {},
   "source": [
    "## 연습 문제 6.2: 이터레이션을 지원하기"
   ]
  },
  {
   "cell_type": "code",
   "execution_count": null,
   "metadata": {},
   "outputs": [],
   "source": [
    "# 연습 문제 6.2: 이터레이션을 지원하기\n",
    "# -----------------------------------\n",
    "# 당신이 직접 만든 객체가 이터레이션을 지원하게 하고 싶을 때가 있다. \n",
    "# 기존 리스트나 다른 이터러블을 감싸는 객체를 만들었을 때가 특히 그렇다.\n",
    "# 새 파일 portfolio.py에 다음 클래스를 정의하자.\n",
    "\n",
    "# # portfolio.py\n",
    "\n",
    "# class Portfolio:\n",
    "\n",
    "#     def __init__(self, holdings):\n",
    "#         self._holdings = holdings\n",
    "\n",
    "#     @property\n",
    "#     def total_cost(self):\n",
    "#         return sum([s.cost for s in self._holdings])\n",
    "\n",
    "#     def tabulate_shares(self):\n",
    "#         from collections import Counter\n",
    "#         total_shares = Counter()\n",
    "#         for s in self._holdings:\n",
    "#             total_shares[s.name] += s.shares\n",
    "#         return total_shares\n",
    "\n",
    "# 이 클래스는 리스트 주위에 계층을 덧씌우되, total_cost 프로퍼티와 같은 추가 메서드를 갖는다."
   ]
  },
  {
   "cell_type": "code",
   "execution_count": 2,
   "metadata": {},
   "outputs": [
    {
     "name": "stdout",
     "output_type": "stream",
     "text": [
      "Writing ../../test_bed/portfolio.py\n"
     ]
    }
   ],
   "source": [
    "%%writefile ../../test_bed/portfolio.py\n",
    "# portfolio.py\n",
    "from collections import Counter\n",
    "\n",
    "class Portfolio:\n",
    "    def __init__(self, holdings):\n",
    "        self._holdings = holdings\n",
    "    \n",
    "    \n",
    "    @property\n",
    "    def total_cost(self):\n",
    "        return sum([ s.cost for s in self._holdings])\n",
    "    \n",
    "    def tabulate_shares(self):\n",
    "        total_shares = Counter()\n",
    "        for s in self._holdings:\n",
    "            total_shares[s.name] += s.shares\n",
    "        return total_shares"
   ]
  },
  {
   "cell_type": "code",
   "execution_count": null,
   "metadata": {},
   "outputs": [],
   "source": [
    "# report.py의 read_portfolio() 함수를 수정해 다음과 같은 Portfolio 인스턴스를 생성하게 하자.\n",
    "\n",
    "# # report.py\n",
    "# ...\n",
    "\n",
    "# import fileparse\n",
    "# from stock import Stock\n",
    "# from portfolio import Portfolio\n",
    "\n",
    "# def read_portfolio(filename):\n",
    "#     '''\n",
    "#     주식 포트폴리오 파일을 읽어 딕셔너리의 리스트를 생성.\n",
    "#     name, shares, price를 키로 사용.\n",
    "#     '''\n",
    "#     with open(filename) as file:\n",
    "#         portdicts = fileparse.parse_csv(file,\n",
    "#                                         select=['name','shares','price'],\n",
    "#                                         types=[str,int,float])\n",
    "\n",
    "#     portfolio = [ Stock(d['name'], d['shares'], d['price']) for d in portdicts ]\n",
    "#     return Portfolio(portfolio)\n",
    "# ...\n",
    "# report.py 프로그램을 실행해 보라. Portfolio 인스턴스가 이터러블하지 않다는 사실로 인해 요란하게 실패하는 모습을 보게 된다.\n",
    "\n",
    "# >>> import report\n",
    "# >>> report.portfolio_report('Data/portfolio.csv', 'Data/prices.csv')\n",
    "# ... 충돌한다 ..."
   ]
  },
  {
   "cell_type": "code",
   "execution_count": 4,
   "metadata": {},
   "outputs": [
    {
     "name": "stdout",
     "output_type": "stream",
     "text": [
      "Overwriting ../../test_bed/report.py\n"
     ]
    }
   ],
   "source": [
    "%%writefile ../../test_bed/report.py\n",
    "# report.py\n",
    "\n",
    "import fileparse\n",
    "import stock\n",
    "import prices\n",
    "import tableformat\n",
    "from portfolio import Portfolio\n",
    "\n",
    "\n",
    "def read_portfolio(filename):\n",
    "    '''\n",
    "    Read a stock portfolio file into a list of dictionaries with keys\n",
    "    name, shares, and price.\n",
    "    '''\n",
    "    with open(filename) as lines:\n",
    "        # Convert Dictionary to Object     \n",
    "        portdicts = fileparse.parse_csv(lines, select=['name','shares','price'], types=[str,int,float])\n",
    "    \n",
    "    portfolio = [ stock.Stock(d['name'], d['shares'], d['price']) for d in portdicts ]\n",
    "    return Portfolio(portfolio)   \n",
    "\n",
    "def read_prices(filename):\n",
    "    '''\n",
    "    Read a CSV file of price data into a dict mapping names to prices.\n",
    "    '''\n",
    "    with open(filename) as lines:\n",
    "        return dict(fileparse.parse_csv(lines, types=[str,float], has_headers=False))\n",
    "\n",
    "        # Convert Dictionary to Object     \n",
    "        # portdicts = fileparse.parse_csv(lines, types=[str,float], has_headers=False)\n",
    "        # return [ prices.Prices(d.name, d.price) for d in portdicts ]\n",
    "\n",
    "\n",
    "def make_report_data(portfolio,prices):\n",
    "    '''\n",
    "    Make a list of (name, shares, price, change) tuples given a portfolio list\n",
    "    and prices dictionary.\n",
    "    '''\n",
    "    rows = []\n",
    "    for stock in portfolio:\n",
    "        current_price = prices[stock.name]\n",
    "        change = current_price - stock.price\n",
    "        summary = (stock.name, stock.shares, current_price, change)\n",
    "        rows.append(summary)\n",
    "    return rows\n",
    "\n",
    "def print_report(reportdata, formatter):\n",
    "    '''\n",
    "    Print a nicely formated table from a list of (name, shares, price, change) tuples.\n",
    "    '''\n",
    "    formatter.headings(['Name', 'Shares', 'Price', 'Change'])\n",
    "        \n",
    "    for name, shares, price, change in reportdata:\n",
    "        rowdata = [ name, str(shares), f'{price:0.2f}', f'{change:0.2f}' ]\n",
    "        formatter.row(rowdata)\n",
    "\n",
    "def portfolio_report(portfoliofile, pricefile, fmt):        \n",
    "    '''\n",
    "    Make a stock report given portfolio and price data files.\n",
    "    '''\n",
    "    # Read data files \n",
    "    portfolio = read_portfolio(portfoliofile)\n",
    "    prices = read_prices(pricefile)\n",
    "\n",
    "    # Create the report data (보고서 데이터 생성)\n",
    "    report = make_report_data(portfolio, prices)\n",
    "\n",
    "    # Print it out\n",
    "    formatter = tableformat.create_formatter(fmt)\n",
    "    print_report(report, formatter)\n",
    "    \n",
    "\n",
    "def main(args):\n",
    "    if len(args) != 4:\n",
    "        raise SystemExit('Usage: %s portfile pricefile' % args[0])\n",
    "    portfolio_report(args[1], args[2], args[3])\n",
    "\n",
    "if __name__ == '__main__':\n",
    "    import sys\n",
    "    main(sys.argv)\n"
   ]
  },
  {
   "cell_type": "code",
   "execution_count": 1,
   "metadata": {},
   "outputs": [],
   "source": [
    "import sys\n",
    "sys.path.append('../../test_bed')"
   ]
  },
  {
   "cell_type": "code",
   "execution_count": 3,
   "metadata": {},
   "outputs": [
    {
     "ename": "TypeError",
     "evalue": "'Portfolio' object is not iterable",
     "output_type": "error",
     "traceback": [
      "\u001b[1;31m---------------------------------------------------------------------------\u001b[0m",
      "\u001b[1;31mTypeError\u001b[0m                                 Traceback (most recent call last)",
      "\u001b[1;32mc:\\Users\\User\\Quick_Ref\\Programming\\Python\\Python 중급\\실용 파이썬 프로그래밍\\6. 제너레이터.ipynb 셀 19\u001b[0m in \u001b[0;36m<cell line: 2>\u001b[1;34m()\u001b[0m\n\u001b[0;32m      <a href='vscode-notebook-cell:/c%3A/Users/User/Quick_Ref/Programming/Python/Python%20%EC%A4%91%EA%B8%89/%EC%8B%A4%EC%9A%A9%20%ED%8C%8C%EC%9D%B4%EC%8D%AC%20%ED%94%84%EB%A1%9C%EA%B7%B8%EB%9E%98%EB%B0%8D/6.%20%EC%A0%9C%EB%84%88%EB%A0%88%EC%9D%B4%ED%84%B0.ipynb#X25sZmlsZQ%3D%3D?line=0'>1</a>\u001b[0m \u001b[39mimport\u001b[39;00m \u001b[39mreport\u001b[39;00m\n\u001b[1;32m----> <a href='vscode-notebook-cell:/c%3A/Users/User/Quick_Ref/Programming/Python/Python%20%EC%A4%91%EA%B8%89/%EC%8B%A4%EC%9A%A9%20%ED%8C%8C%EC%9D%B4%EC%8D%AC%20%ED%94%84%EB%A1%9C%EA%B7%B8%EB%9E%98%EB%B0%8D/6.%20%EC%A0%9C%EB%84%88%EB%A0%88%EC%9D%B4%ED%84%B0.ipynb#X25sZmlsZQ%3D%3D?line=1'>2</a>\u001b[0m report\u001b[39m.\u001b[39;49mportfolio_report(\u001b[39m'\u001b[39;49m\u001b[39m../../data/portfolio.csv\u001b[39;49m\u001b[39m'\u001b[39;49m, \u001b[39m'\u001b[39;49m\u001b[39m../../data/prices.csv\u001b[39;49m\u001b[39m'\u001b[39;49m, \u001b[39m'\u001b[39;49m\u001b[39mtxt\u001b[39;49m\u001b[39m'\u001b[39;49m)\n",
      "File \u001b[1;32mc:\\Users\\User\\Quick_Ref\\Programming\\Python\\Python 중급\\실용 파이썬 프로그래밍\\../../test_bed\\report.py:66\u001b[0m, in \u001b[0;36mportfolio_report\u001b[1;34m(portfoliofile, pricefile, fmt)\u001b[0m\n\u001b[0;32m     63\u001b[0m prices \u001b[39m=\u001b[39m read_prices(pricefile)\n\u001b[0;32m     65\u001b[0m \u001b[39m# Create the report data (보고서 데이터 생성)\u001b[39;00m\n\u001b[1;32m---> 66\u001b[0m report \u001b[39m=\u001b[39m make_report_data(portfolio, prices)\n\u001b[0;32m     68\u001b[0m \u001b[39m# Print it out\u001b[39;00m\n\u001b[0;32m     69\u001b[0m formatter \u001b[39m=\u001b[39m tableformat\u001b[39m.\u001b[39mcreate_formatter(fmt)\n",
      "File \u001b[1;32mc:\\Users\\User\\Quick_Ref\\Programming\\Python\\Python 중급\\실용 파이썬 프로그래밍\\../../test_bed\\report.py:40\u001b[0m, in \u001b[0;36mmake_report_data\u001b[1;34m(portfolio, prices)\u001b[0m\n\u001b[0;32m     35\u001b[0m \u001b[39m'''\u001b[39;00m\n\u001b[0;32m     36\u001b[0m \u001b[39mMake a list of (name, shares, price, change) tuples given a portfolio list\u001b[39;00m\n\u001b[0;32m     37\u001b[0m \u001b[39mand prices dictionary.\u001b[39;00m\n\u001b[0;32m     38\u001b[0m \u001b[39m'''\u001b[39;00m\n\u001b[0;32m     39\u001b[0m rows \u001b[39m=\u001b[39m []\n\u001b[1;32m---> 40\u001b[0m \u001b[39mfor\u001b[39;00m stock \u001b[39min\u001b[39;00m portfolio:\n\u001b[0;32m     41\u001b[0m     current_price \u001b[39m=\u001b[39m prices[stock\u001b[39m.\u001b[39mname]\n\u001b[0;32m     42\u001b[0m     change \u001b[39m=\u001b[39m current_price \u001b[39m-\u001b[39m stock\u001b[39m.\u001b[39mprice\n",
      "\u001b[1;31mTypeError\u001b[0m: 'Portfolio' object is not iterable"
     ]
    }
   ],
   "source": [
    "import report\n",
    "report.portfolio_report('../../data/portfolio.csv', '../../data/prices.csv', 'txt')"
   ]
  },
  {
   "cell_type": "code",
   "execution_count": null,
   "metadata": {},
   "outputs": [],
   "source": [
    "# Portfolio 클래스가 이터레이션을 지원하게 수정해서 문제를 해결해 보자.\n",
    "\n",
    "# class Portfolio:\n",
    "\n",
    "#     def __init__(self, holdings):\n",
    "#         self._holdings = holdings\n",
    "\n",
    "#     def __iter__(self):\n",
    "#         return self._holdings.__iter__()\n",
    "\n",
    "#     @property\n",
    "#     def total_cost(self):\n",
    "#         return sum([s.shares*s.price for s in self._holdings])\n",
    "\n",
    "#     def tabulate_shares(self):\n",
    "#         from collections import Counter\n",
    "#         total_shares = Counter()\n",
    "#         for s in self._holdings:\n",
    "#             total_shares[s.name] += s.shares\n",
    "#         return total_shares\n",
    "\n",
    "# 이렇게 수정하고 나면 report.py 프로그램이 다시 잘 작동할 것이다. \n"
   ]
  },
  {
   "cell_type": "code",
   "execution_count": 5,
   "metadata": {},
   "outputs": [
    {
     "name": "stdout",
     "output_type": "stream",
     "text": [
      "Overwriting ../../test_bed/portfolio.py\n"
     ]
    }
   ],
   "source": [
    "%%writefile ../../test_bed/portfolio.py\n",
    "# portfolio.py\n",
    "from collections import Counter\n",
    "\n",
    "class Portfolio:\n",
    "    def __init__(self, holdings):\n",
    "        self._holdings = holdings\n",
    "    \n",
    "    def __iter__(self):\n",
    "        return self._holdings.__iter__()\n",
    "    \n",
    "    @property\n",
    "    def total_cost(self):\n",
    "        return sum([ s.cost for s in self._holdings])\n",
    "    \n",
    "    def tabulate_shares(self):\n",
    "        total_shares = Counter()\n",
    "        for s in self._holdings:\n",
    "            total_shares[s.name] += s.shares\n",
    "        return total_shares\n"
   ]
  },
  {
   "cell_type": "code",
   "execution_count": 2,
   "metadata": {},
   "outputs": [
    {
     "name": "stdout",
     "output_type": "stream",
     "text": [
      "      Name     Shares      Price     Change \n",
      "---------- ---------- ---------- ---------- \n",
      "        AA        100       9.22     -22.98 \n",
      "       IBM         50     106.28      15.18 \n",
      "       CAT        150      35.46     -47.98 \n",
      "      MSFT        200      20.89     -30.34 \n",
      "        GE         95      13.48     -26.89 \n",
      "      MSFT         50      20.89     -44.21 \n",
      "       IBM        100     106.28      35.84 \n"
     ]
    }
   ],
   "source": [
    "import report\n",
    "report.portfolio_report('../../data/portfolio.csv', '../../data/prices.csv', 'txt')"
   ]
  },
  {
   "cell_type": "code",
   "execution_count": null,
   "metadata": {},
   "outputs": [],
   "source": [
    "\n",
    "# pcost.py 프로그램이 새로운 Portfolio 객체를 사용하게 수정하자. 이렇게 말이다.\n",
    "\n",
    "# # pcost.py\n",
    "\n",
    "# import report\n",
    "\n",
    "# def portfolio_cost(filename):\n",
    "#     '''\n",
    "#     포트폴리오 파일의 총 비용(주식 수 * 가격)을 계산\n",
    "#     '''\n",
    "#     portfolio = report.read_portfolio(filename)\n",
    "#     return portfolio.total_cost\n",
    "# ...\n",
    "# 잘 작동하는지 시험해 보자.\n",
    "\n",
    "# >>> import pcost\n",
    "# >>> pcost.portfolio_cost('Data/portfolio.csv')\n",
    "# 44671.15\n",
    "# >>>"
   ]
  },
  {
   "cell_type": "code",
   "execution_count": 5,
   "metadata": {},
   "outputs": [
    {
     "ename": "SystemExit",
     "evalue": "Usage: c:\\Users\\User\\anaconda3\\lib\\site-packages\\ipykernel_launcher.py portfile",
     "output_type": "error",
     "traceback": [
      "An exception has occurred, use %tb to see the full traceback.\n",
      "\u001b[1;31mSystemExit\u001b[0m\u001b[1;31m:\u001b[0m Usage: c:\\Users\\User\\anaconda3\\lib\\site-packages\\ipykernel_launcher.py portfile\n"
     ]
    }
   ],
   "source": [
    "%%writefile ../../test_bed/pcost.py\n",
    "\n",
    "# pcost.py\n",
    "import report\n",
    "\n",
    "def portfolio_cost(filename):\n",
    "    '''\n",
    "    Computes the total cost (shares*price) of a portfolio file\n",
    "    '''\n",
    "    portfolio = report.read_portfolio(filename)\n",
    "    return portfolio.total_cost\n",
    "\n",
    "\n",
    "def main(args):\n",
    "    if len(args) != 2:\n",
    "        raise SystemExit('Usage: %s portfile' % args[0])\n",
    "    \n",
    "    filename = args[1]\n",
    "    print('Total cost: ', portfolio_cost(filename)) \n",
    "\n",
    "if __name__ == '__main__':\n",
    "    import sys\n",
    "    main(sys.argv)\n"
   ]
  },
  {
   "cell_type": "code",
   "execution_count": 6,
   "metadata": {},
   "outputs": [
    {
     "data": {
      "text/plain": [
       "44671.15"
      ]
     },
     "execution_count": 6,
     "metadata": {},
     "output_type": "execute_result"
    }
   ],
   "source": [
    "import pcost\n",
    "\n",
    "pcost.portfolio_cost('../../data/portfolio.csv')"
   ]
  },
  {
   "cell_type": "markdown",
   "metadata": {},
   "source": [
    "## 연습 문제 6.3: 더 적절한 컨테이너 만들기"
   ]
  },
  {
   "cell_type": "code",
   "execution_count": null,
   "metadata": {},
   "outputs": [],
   "source": [
    "# 연습 문제 6.3: 더 적절한 컨테이너 만들기\n",
    "# ----------------------------------------\n",
    "# 컨테이너 클래스를 만들다 보면 이터레이션 외에도 넣고 싶은 기능이 더 있을 것이다. \n",
    "# Portfolio 클래스를 다음과 같이 수정해 특수 메서드를 추가해 보자.\n",
    "\n",
    "# class Portfolio:\n",
    "#     def __init__(self, holdings):\n",
    "#         self._holdings = holdings\n",
    "\n",
    "#     def __iter__(self):\n",
    "#         return self._holdings.__iter__()\n",
    "\n",
    "#     def __len__(self):\n",
    "#         return len(self._holdings)\n",
    "\n",
    "#     def __getitem__(self, index):\n",
    "#         return self._holdings[index]\n",
    "\n",
    "#     def __contains__(self, name):\n",
    "#         return any([s.name == name for s in self._holdings])\n",
    "\n",
    "#     @property\n",
    "#     def total_cost(self):\n",
    "#         return sum([s.shares*s.price for s in self._holdings])\n",
    "\n",
    "#     def tabulate_shares(self):\n",
    "#         from collections import Counter\n",
    "#         total_shares = Counter()\n",
    "#         for s in self._holdings:\n",
    "#             total_shares[s.name] += s.shares\n",
    "#         return total_shares\n",
    "# 새 클래스를 가지고 실험을 해 보자.\n",
    "\n",
    "# >>> import report\n",
    "# >>> portfolio = report.read_portfolio('Data/portfolio.csv')\n",
    "# >>> len(portfolio)\n",
    "# 7\n",
    "# >>> portfolio[0]\n",
    "# Stock('AA', 100, 32.2)\n",
    "# >>> portfolio[1]\n",
    "# Stock('IBM', 50, 91.1)\n",
    "# >>> portfolio[0:3]\n",
    "# [Stock('AA', 100, 32.2), Stock('IBM', 50, 91.1), Stock('CAT', 150, 83.44)]\n",
    "# >>> 'IBM' in portfolio\n",
    "# True\n",
    "# >>> 'AAPL' in portfolio\n",
    "# False\n",
    "# >>>\n",
    "# 이와 관련해 중요한 점을 관찰할 수 있다. \n",
    "# 코드가 파이썬에서 공통적으로 사용되는 어휘를 말한다면 '파이썬다운(Pythonic)' 것으로 간주된다. \n",
    "# 컨테이너 객체를 파이썬답게 만들려면 이터레이션, 인덱싱, containment, 기타 연산자를 지원하는 것이 중요하다."
   ]
  },
  {
   "cell_type": "code",
   "execution_count": 10,
   "metadata": {},
   "outputs": [
    {
     "name": "stdout",
     "output_type": "stream",
     "text": [
      "Overwriting ../../test_bed/portfolio.py\n"
     ]
    }
   ],
   "source": [
    "%%writefile ../../test_bed/portfolio.py\n",
    "# portfolio.py\n",
    "from collections import Counter\n",
    "\n",
    "class Portfolio:\n",
    "    def __init__(self, holdings):\n",
    "        self._holdings = holdings\n",
    "    \n",
    "    def __iter__(self):\n",
    "        return self._holdings.__iter__()\n",
    "    \n",
    "    def __len__(self):\n",
    "        return len(self._holdings)\n",
    "    \n",
    "    def __getitem__(self, index):\n",
    "        return self._holdings[index]\n",
    "    \n",
    "    def __contains__(self, name):\n",
    "        return any([ s.name == name for s in self._holdings ])\n",
    "    \n",
    "    @property\n",
    "    def total_cost(self):\n",
    "        return sum([ s.cost for s in self._holdings])\n",
    "    \n",
    "    def tabulate_shares(self):\n",
    "        total_shares = Counter()\n",
    "        for s in self._holdings:\n",
    "            total_shares[s.name] += s.shares\n",
    "        return total_shares\n"
   ]
  },
  {
   "cell_type": "code",
   "execution_count": 1,
   "metadata": {},
   "outputs": [],
   "source": [
    "import sys\n",
    "sys.path.append('../../test_bed')"
   ]
  },
  {
   "cell_type": "code",
   "execution_count": 7,
   "metadata": {},
   "outputs": [
    {
     "data": {
      "text/plain": [
       "False"
      ]
     },
     "execution_count": 7,
     "metadata": {},
     "output_type": "execute_result"
    }
   ],
   "source": [
    "import report\n",
    "\n",
    "portfolio = report.read_portfolio('../../data/portfolio.csv')\n",
    "len(portfolio)\n",
    "\n",
    "portfolio[0]\n",
    "portfolio[1]\n",
    "portfolio[0:3]\n",
    "'IBM' in portfolio\n",
    "'AAPL' in portfolio"
   ]
  }
 ],
 "metadata": {
  "kernelspec": {
   "display_name": "Python 3.9.12 ('base')",
   "language": "python",
   "name": "python3"
  },
  "language_info": {
   "codemirror_mode": {
    "name": "ipython",
    "version": 3
   },
   "file_extension": ".py",
   "mimetype": "text/x-python",
   "name": "python",
   "nbconvert_exporter": "python",
   "pygments_lexer": "ipython3",
   "version": "3.9.12"
  },
  "orig_nbformat": 4,
  "vscode": {
   "interpreter": {
    "hash": "f08154012ddadd8e950e6e9e035c7a7b32c136e7647e9b7c77e02eb723a8bedb"
   }
  }
 },
 "nbformat": 4,
 "nbformat_minor": 2
}
