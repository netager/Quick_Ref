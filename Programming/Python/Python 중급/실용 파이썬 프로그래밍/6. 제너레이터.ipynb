{
 "cells": [
  {
   "cell_type": "code",
   "execution_count": null,
   "metadata": {},
   "outputs": [],
   "source": [
    "# 6. 제너레이터\n",
    "# ------------\n",
    "# 이터레이션(for 루프)은 파이썬의 가장 일반적인 프로그래밍 패턴이다. \n",
    "# 프로그램에서 리스트를 다루고, 파일을 읽고, 데이터베이스에 질의하는 등의 여러 가지 일에 이터레이션이 자주 사용된다. \n",
    "# 파이썬의 가장 큰 장점 중 하나가 바로 \"제너레이터 함수\"라는 형태로 이터레이션을 커스터마이즈하고 \n",
    "# 새롭게 정의할 수 있는 능력이다. \n",
    "# 이 섹션은 이 주제를 다룬다. 끝으로, 실시간 스트리밍 데이터를 흥미로운 방식으로 처리하는 프로그램을 작성한다.\n",
    "\n",
    "# 6.1 이터레이션 프로토콜\n",
    "# 6.2 제너레이터를 사용해 이터레이션을 커스터마이즈하기\n",
    "# 6.3 생산자/소비자 문제와 흐름\n",
    "# 6.4 제너레이터 표현식"
   ]
  },
  {
   "attachments": {},
   "cell_type": "markdown",
   "metadata": {},
   "source": [
    "# 6.1 이터레이션 프로토콜"
   ]
  },
  {
   "cell_type": "code",
   "execution_count": null,
   "metadata": {},
   "outputs": [],
   "source": [
    "# 6.1 이터레이션 프로토콜\n",
    "#-- --------------------\n",
    "# 이 섹션은 이터레이션이 어떻게 작동하는지 살펴본다.\n",
    "\n",
    "\n",
    "\n",
    "# 너도나도 이터레이션\n",
    "# ------------------\n",
    "# 온갖 객체들이 이터레이션을 지원한다.\n",
    "\n",
    "# a = 'hello'\n",
    "# for c in a: # a의 문자를 루핑\n",
    "#     ...\n",
    "\n",
    "# b = { 'name': 'Dave', 'password':'foo'}\n",
    "# for k in b: # 딕셔너리 키를 루핑\n",
    "#     ...\n",
    "\n",
    "# c = [1,2,3,4]\n",
    "# for i in c: # 리스트/튜플의 항목을 루핑\n",
    "#     ...\n",
    "\n",
    "# f = open('foo.txt')\n",
    "# for x in f: # 파일의 행을 루핑\n",
    "#     ..."
   ]
  },
  {
   "attachments": {},
   "cell_type": "markdown",
   "metadata": {},
   "source": [
    "## 이터레이션: 프로토콜"
   ]
  },
  {
   "cell_type": "code",
   "execution_count": null,
   "metadata": {},
   "outputs": [],
   "source": [
    "# 이터레이션: 프로토콜\n",
    "# ------------------\n",
    "# for 문을 생각해보자.\n",
    "\n",
    "# for x in obj:\n",
    "#     # 문장\n",
    "# 내부적으로 어떻게 작동하는가?\n",
    "\n",
    "# _iter = obj.__iter__()        # 이터레이터 객체를 얻음\n",
    "# while True:\n",
    "#     try:\n",
    "#         x = _iter.__next__()  # 다음 항목을 얻음\n",
    "#     except StopIteration:     # 남은 항목이 없음\n",
    "#         break\n",
    "#     # 문장 ...\n",
    "\n",
    "# for 문에서 작동하는 모든 객체는 이러한 저수준 이터레이션 프로토콜을 구현한 것이다.\n",
    "\n",
    "# 예제: 리스트에 대해 수작업으로 이터레이션.\n",
    "\n",
    "# >>> x = [1,2,3]\n",
    "# >>> it = x.__iter__()\n",
    "# >>> it\n",
    "# <listiterator object at 0x590b0>\n",
    "# >>> it.__next__()\n",
    "# 1\n",
    "# >>> it.__next__()\n",
    "# 2\n",
    "# >>> it.__next__()\n",
    "# 3\n",
    "# >>> it.__next__()\n",
    "# Traceback (most recent call last):\n",
    "# File \"<stdin>\", line 1, in ? StopIteration\n",
    "# >>>"
   ]
  },
  {
   "cell_type": "code",
   "execution_count": 4,
   "metadata": {},
   "outputs": [
    {
     "ename": "StopIteration",
     "evalue": "",
     "output_type": "error",
     "traceback": [
      "\u001b[1;31m---------------------------------------------------------------------------\u001b[0m",
      "\u001b[1;31mStopIteration\u001b[0m                             Traceback (most recent call last)",
      "\u001b[1;32m~\\AppData\\Local\\Temp/ipykernel_41616/836630423.py\u001b[0m in \u001b[0;36m<module>\u001b[1;34m\u001b[0m\n\u001b[0;32m      5\u001b[0m \u001b[0mit\u001b[0m\u001b[1;33m.\u001b[0m\u001b[0m__next__\u001b[0m\u001b[1;33m(\u001b[0m\u001b[1;33m)\u001b[0m\u001b[1;33m\u001b[0m\u001b[1;33m\u001b[0m\u001b[0m\n\u001b[0;32m      6\u001b[0m \u001b[0mit\u001b[0m\u001b[1;33m.\u001b[0m\u001b[0m__next__\u001b[0m\u001b[1;33m(\u001b[0m\u001b[1;33m)\u001b[0m\u001b[1;33m\u001b[0m\u001b[1;33m\u001b[0m\u001b[0m\n\u001b[1;32m----> 7\u001b[1;33m \u001b[0mit\u001b[0m\u001b[1;33m.\u001b[0m\u001b[0m__next__\u001b[0m\u001b[1;33m(\u001b[0m\u001b[1;33m)\u001b[0m\u001b[1;33m\u001b[0m\u001b[1;33m\u001b[0m\u001b[0m\n\u001b[0m",
      "\u001b[1;31mStopIteration\u001b[0m: "
     ]
    }
   ],
   "source": [
    "x = [1, 2, 3]\n",
    "it = x.__iter__()\n",
    "it\n",
    "it.__next__()\n",
    "it.__next__()\n",
    "it.__next__()\n",
    "it.__next__()"
   ]
  },
  {
   "attachments": {},
   "cell_type": "markdown",
   "metadata": {},
   "source": [
    "## 이터레이션 지원하기"
   ]
  },
  {
   "cell_type": "code",
   "execution_count": null,
   "metadata": {},
   "outputs": [],
   "source": [
    "# 이터레이션 지원하기\n",
    "# 이터레이션의 유용성을 이해한다면 스스로 작성한 객체도 이터레이션을 지원하게 하고 싶을 것이다. \n",
    "# 예를 들어, 다음과 같이 커스텀 컨테이너를 만들 수 있다.\n",
    "\n",
    "# class Portfolio:\n",
    "#     def __init__(self):\n",
    "#         self.holdings = []\n",
    "\n",
    "#     def __iter__(self):\n",
    "#         return self.holdings.__iter__()\n",
    "#     ...\n",
    "\n",
    "# port = Portfolio()\n",
    "# for s in port:\n",
    "#     ..."
   ]
  },
  {
   "attachments": {},
   "cell_type": "markdown",
   "metadata": {},
   "source": [
    "## 연습 문제"
   ]
  },
  {
   "cell_type": "markdown",
   "metadata": {},
   "source": [
    "## 연습 문제 6.1: 이터레이션 뜯어보기"
   ]
  },
  {
   "cell_type": "code",
   "execution_count": null,
   "metadata": {},
   "outputs": [],
   "source": [
    "# 연습 문제 6.1: 이터레이션 뜯어보기\n",
    "# --------------------------------\n",
    "# 다음 리스트를 생성한다.\n",
    "\n",
    "# a = [1,9,4,25,16]\n",
    "# 이 리스트에 대해 수작업으로 이터레이션을 수행하라. __iter__()를 호출해 이터레이터를 얻은 다음, __next__() 메서드를 호출해 다음 번 원소를 얻는다.\n",
    "\n",
    "# >>> i = a.__iter__()\n",
    "# >>> i\n",
    "# <listiterator object at 0x64c10>\n",
    "# >>> i.__next__()\n",
    "# 1\n",
    "# >>> i.__next__()\n",
    "# 9\n",
    "# >>> i.__next__()\n",
    "# 4\n",
    "# >>> i.__next__()\n",
    "# 25\n",
    "# >>> i.__next__()\n",
    "# 16\n",
    "# >>> i.__next__()\n",
    "# Traceback (most recent call last):\n",
    "#   File \"<stdin>\", line 1, in <module>\n",
    "# StopIteration\n",
    "# >>>\n",
    "\n",
    "# 빌트인 함수 next()를 사용하면 이터레이터의 __next__() 메서드를 간편하게 호출할 수 있다. 파일을 가지고도 같은 일을 해 보자.\n",
    "\n",
    "# >>> f = open('Data/portfolio.csv')\n",
    "# >>> f.__iter__()    # 참고: 이것은 파일 자체를 반환함\n",
    "# <_io.TextIOWrapper name='Data/portfolio.csv' mode='r' encoding='UTF-8'>\n",
    "# >>> next(f)\n",
    "# 'name,shares,price\\n'\n",
    "# >>> next(f)\n",
    "# '\"AA\",100,32.20\\n'\n",
    "# >>> next(f)\n",
    "# '\"IBM\",50,91.10\\n'\n",
    "# >>>\n",
    "# 파일의 끝에 도달할 때까지 next(f)를 계속 호출하라. 무슨 일이 일어나는지 관찰하라."
   ]
  },
  {
   "cell_type": "code",
   "execution_count": 18,
   "metadata": {},
   "outputs": [
    {
     "data": {
      "text/plain": [
       "<list_iterator at 0x28b64d8cbb0>"
      ]
     },
     "execution_count": 18,
     "metadata": {},
     "output_type": "execute_result"
    }
   ],
   "source": [
    "a = [1,9,4,25,16]\n",
    "a.__iter__()\n"
   ]
  },
  {
   "cell_type": "code",
   "execution_count": 17,
   "metadata": {},
   "outputs": [
    {
     "data": {
      "text/plain": [
       "'\"IBM\",50,91.10\\n'"
      ]
     },
     "execution_count": 17,
     "metadata": {},
     "output_type": "execute_result"
    }
   ],
   "source": [
    "f = open('../../data/portfolio.csv')\n",
    "f.__iter__()\n",
    "next(f)\n",
    "next(f)\n",
    "next(f)\n"
   ]
  },
  {
   "cell_type": "markdown",
   "metadata": {},
   "source": [
    "## 연습 문제 6.2: 이터레이션을 지원하기"
   ]
  },
  {
   "cell_type": "code",
   "execution_count": null,
   "metadata": {},
   "outputs": [],
   "source": [
    "# 연습 문제 6.2: 이터레이션을 지원하기\n",
    "# -----------------------------------\n",
    "# 당신이 직접 만든 객체가 이터레이션을 지원하게 하고 싶을 때가 있다. \n",
    "# 기존 리스트나 다른 이터러블을 감싸는 객체를 만들었을 때가 특히 그렇다.\n",
    "# 새 파일 portfolio.py에 다음 클래스를 정의하자.\n",
    "\n",
    "# # portfolio.py\n",
    "\n",
    "# class Portfolio:\n",
    "\n",
    "#     def __init__(self, holdings):\n",
    "#         self._holdings = holdings\n",
    "\n",
    "#     @property\n",
    "#     def total_cost(self):\n",
    "#         return sum([s.cost for s in self._holdings])\n",
    "\n",
    "#     def tabulate_shares(self):\n",
    "#         from collections import Counter\n",
    "#         total_shares = Counter()\n",
    "#         for s in self._holdings:\n",
    "#             total_shares[s.name] += s.shares\n",
    "#         return total_shares\n",
    "\n",
    "# 이 클래스는 리스트 주위에 계층을 덧씌우되, total_cost 프로퍼티와 같은 추가 메서드를 갖는다."
   ]
  },
  {
   "cell_type": "code",
   "execution_count": 2,
   "metadata": {},
   "outputs": [
    {
     "name": "stdout",
     "output_type": "stream",
     "text": [
      "Writing ../../test_bed/portfolio.py\n"
     ]
    }
   ],
   "source": [
    "%%writefile ../../test_bed/portfolio.py\n",
    "# portfolio.py\n",
    "from collections import Counter\n",
    "\n",
    "class Portfolio:\n",
    "    def __init__(self, holdings):\n",
    "        self._holdings = holdings\n",
    "    \n",
    "    \n",
    "    @property\n",
    "    def total_cost(self):\n",
    "        return sum([ s.cost for s in self._holdings])\n",
    "    \n",
    "    def tabulate_shares(self):\n",
    "        total_shares = Counter()\n",
    "        for s in self._holdings:\n",
    "            total_shares[s.name] += s.shares\n",
    "        return total_shares"
   ]
  },
  {
   "cell_type": "code",
   "execution_count": null,
   "metadata": {},
   "outputs": [],
   "source": [
    "# report.py의 read_portfolio() 함수를 수정해 다음과 같은 Portfolio 인스턴스를 생성하게 하자.\n",
    "\n",
    "# # report.py\n",
    "# ...\n",
    "\n",
    "# import fileparse\n",
    "# from stock import Stock\n",
    "# from portfolio import Portfolio\n",
    "\n",
    "# def read_portfolio(filename):\n",
    "#     '''\n",
    "#     주식 포트폴리오 파일을 읽어 딕셔너리의 리스트를 생성.\n",
    "#     name, shares, price를 키로 사용.\n",
    "#     '''\n",
    "#     with open(filename) as file:\n",
    "#         portdicts = fileparse.parse_csv(file,\n",
    "#                                         select=['name','shares','price'],\n",
    "#                                         types=[str,int,float])\n",
    "\n",
    "#     portfolio = [ Stock(d['name'], d['shares'], d['price']) for d in portdicts ]\n",
    "#     return Portfolio(portfolio)\n",
    "# ...\n",
    "# report.py 프로그램을 실행해 보라. Portfolio 인스턴스가 이터러블하지 않다는 사실로 인해 요란하게 실패하는 모습을 보게 된다.\n",
    "\n",
    "# >>> import report\n",
    "# >>> report.portfolio_report('Data/portfolio.csv', 'Data/prices.csv')\n",
    "# ... 충돌한다 ..."
   ]
  },
  {
   "cell_type": "code",
   "execution_count": 4,
   "metadata": {},
   "outputs": [
    {
     "name": "stdout",
     "output_type": "stream",
     "text": [
      "Overwriting ../../test_bed/report.py\n"
     ]
    }
   ],
   "source": [
    "%%writefile ../../test_bed/report.py\n",
    "# report.py\n",
    "\n",
    "import fileparse\n",
    "import stock\n",
    "import prices\n",
    "import tableformat\n",
    "from portfolio import Portfolio\n",
    "\n",
    "\n",
    "def read_portfolio(filename):\n",
    "    '''\n",
    "    Read a stock portfolio file into a list of dictionaries with keys\n",
    "    name, shares, and price.\n",
    "    '''\n",
    "    with open(filename) as lines:\n",
    "        # Convert Dictionary to Object     \n",
    "        portdicts = fileparse.parse_csv(lines, select=['name','shares','price'], types=[str,int,float])\n",
    "    \n",
    "    portfolio = [ stock.Stock(d['name'], d['shares'], d['price']) for d in portdicts ]\n",
    "    return Portfolio(portfolio)   \n",
    "\n",
    "def read_prices(filename):\n",
    "    '''\n",
    "    Read a CSV file of price data into a dict mapping names to prices.\n",
    "    '''\n",
    "    with open(filename) as lines:\n",
    "        return dict(fileparse.parse_csv(lines, types=[str,float], has_headers=False))\n",
    "\n",
    "        # Convert Dictionary to Object     \n",
    "        # portdicts = fileparse.parse_csv(lines, types=[str,float], has_headers=False)\n",
    "        # return [ prices.Prices(d.name, d.price) for d in portdicts ]\n",
    "\n",
    "\n",
    "def make_report_data(portfolio,prices):\n",
    "    '''\n",
    "    Make a list of (name, shares, price, change) tuples given a portfolio list\n",
    "    and prices dictionary.\n",
    "    '''\n",
    "    rows = []\n",
    "    for stock in portfolio:\n",
    "        current_price = prices[stock.name]\n",
    "        change = current_price - stock.price\n",
    "        summary = (stock.name, stock.shares, current_price, change)\n",
    "        rows.append(summary)\n",
    "    return rows\n",
    "\n",
    "def print_report(reportdata, formatter):\n",
    "    '''\n",
    "    Print a nicely formated table from a list of (name, shares, price, change) tuples.\n",
    "    '''\n",
    "    formatter.headings(['Name', 'Shares', 'Price', 'Change'])\n",
    "        \n",
    "    for name, shares, price, change in reportdata:\n",
    "        rowdata = [ name, str(shares), f'{price:0.2f}', f'{change:0.2f}' ]\n",
    "        formatter.row(rowdata)\n",
    "\n",
    "def portfolio_report(portfoliofile, pricefile, fmt):        \n",
    "    '''\n",
    "    Make a stock report given portfolio and price data files.\n",
    "    '''\n",
    "    # Read data files \n",
    "    portfolio = read_portfolio(portfoliofile)\n",
    "    prices = read_prices(pricefile)\n",
    "\n",
    "    # Create the report data (보고서 데이터 생성)\n",
    "    report = make_report_data(portfolio, prices)\n",
    "\n",
    "    # Print it out\n",
    "    formatter = tableformat.create_formatter(fmt)\n",
    "    print_report(report, formatter)\n",
    "    \n",
    "\n",
    "def main(args):\n",
    "    if len(args) != 4:\n",
    "        raise SystemExit('Usage: %s portfile pricefile' % args[0])\n",
    "    portfolio_report(args[1], args[2], args[3])\n",
    "\n",
    "if __name__ == '__main__':\n",
    "    import sys\n",
    "    main(sys.argv)\n"
   ]
  },
  {
   "cell_type": "code",
   "execution_count": 1,
   "metadata": {},
   "outputs": [],
   "source": [
    "import sys\n",
    "sys.path.append('../../test_bed')"
   ]
  },
  {
   "cell_type": "code",
   "execution_count": 3,
   "metadata": {},
   "outputs": [
    {
     "ename": "TypeError",
     "evalue": "'Portfolio' object is not iterable",
     "output_type": "error",
     "traceback": [
      "\u001b[1;31m---------------------------------------------------------------------------\u001b[0m",
      "\u001b[1;31mTypeError\u001b[0m                                 Traceback (most recent call last)",
      "\u001b[1;32mc:\\Users\\User\\Quick_Ref\\Programming\\Python\\Python 중급\\실용 파이썬 프로그래밍\\6. 제너레이터.ipynb 셀 19\u001b[0m in \u001b[0;36m<cell line: 2>\u001b[1;34m()\u001b[0m\n\u001b[0;32m      <a href='vscode-notebook-cell:/c%3A/Users/User/Quick_Ref/Programming/Python/Python%20%EC%A4%91%EA%B8%89/%EC%8B%A4%EC%9A%A9%20%ED%8C%8C%EC%9D%B4%EC%8D%AC%20%ED%94%84%EB%A1%9C%EA%B7%B8%EB%9E%98%EB%B0%8D/6.%20%EC%A0%9C%EB%84%88%EB%A0%88%EC%9D%B4%ED%84%B0.ipynb#X25sZmlsZQ%3D%3D?line=0'>1</a>\u001b[0m \u001b[39mimport\u001b[39;00m \u001b[39mreport\u001b[39;00m\n\u001b[1;32m----> <a href='vscode-notebook-cell:/c%3A/Users/User/Quick_Ref/Programming/Python/Python%20%EC%A4%91%EA%B8%89/%EC%8B%A4%EC%9A%A9%20%ED%8C%8C%EC%9D%B4%EC%8D%AC%20%ED%94%84%EB%A1%9C%EA%B7%B8%EB%9E%98%EB%B0%8D/6.%20%EC%A0%9C%EB%84%88%EB%A0%88%EC%9D%B4%ED%84%B0.ipynb#X25sZmlsZQ%3D%3D?line=1'>2</a>\u001b[0m report\u001b[39m.\u001b[39;49mportfolio_report(\u001b[39m'\u001b[39;49m\u001b[39m../../data/portfolio.csv\u001b[39;49m\u001b[39m'\u001b[39;49m, \u001b[39m'\u001b[39;49m\u001b[39m../../data/prices.csv\u001b[39;49m\u001b[39m'\u001b[39;49m, \u001b[39m'\u001b[39;49m\u001b[39mtxt\u001b[39;49m\u001b[39m'\u001b[39;49m)\n",
      "File \u001b[1;32mc:\\Users\\User\\Quick_Ref\\Programming\\Python\\Python 중급\\실용 파이썬 프로그래밍\\../../test_bed\\report.py:66\u001b[0m, in \u001b[0;36mportfolio_report\u001b[1;34m(portfoliofile, pricefile, fmt)\u001b[0m\n\u001b[0;32m     63\u001b[0m prices \u001b[39m=\u001b[39m read_prices(pricefile)\n\u001b[0;32m     65\u001b[0m \u001b[39m# Create the report data (보고서 데이터 생성)\u001b[39;00m\n\u001b[1;32m---> 66\u001b[0m report \u001b[39m=\u001b[39m make_report_data(portfolio, prices)\n\u001b[0;32m     68\u001b[0m \u001b[39m# Print it out\u001b[39;00m\n\u001b[0;32m     69\u001b[0m formatter \u001b[39m=\u001b[39m tableformat\u001b[39m.\u001b[39mcreate_formatter(fmt)\n",
      "File \u001b[1;32mc:\\Users\\User\\Quick_Ref\\Programming\\Python\\Python 중급\\실용 파이썬 프로그래밍\\../../test_bed\\report.py:40\u001b[0m, in \u001b[0;36mmake_report_data\u001b[1;34m(portfolio, prices)\u001b[0m\n\u001b[0;32m     35\u001b[0m \u001b[39m'''\u001b[39;00m\n\u001b[0;32m     36\u001b[0m \u001b[39mMake a list of (name, shares, price, change) tuples given a portfolio list\u001b[39;00m\n\u001b[0;32m     37\u001b[0m \u001b[39mand prices dictionary.\u001b[39;00m\n\u001b[0;32m     38\u001b[0m \u001b[39m'''\u001b[39;00m\n\u001b[0;32m     39\u001b[0m rows \u001b[39m=\u001b[39m []\n\u001b[1;32m---> 40\u001b[0m \u001b[39mfor\u001b[39;00m stock \u001b[39min\u001b[39;00m portfolio:\n\u001b[0;32m     41\u001b[0m     current_price \u001b[39m=\u001b[39m prices[stock\u001b[39m.\u001b[39mname]\n\u001b[0;32m     42\u001b[0m     change \u001b[39m=\u001b[39m current_price \u001b[39m-\u001b[39m stock\u001b[39m.\u001b[39mprice\n",
      "\u001b[1;31mTypeError\u001b[0m: 'Portfolio' object is not iterable"
     ]
    }
   ],
   "source": [
    "import report\n",
    "report.portfolio_report('../../data/portfolio.csv', '../../data/prices.csv', 'txt')"
   ]
  },
  {
   "cell_type": "code",
   "execution_count": null,
   "metadata": {},
   "outputs": [],
   "source": [
    "# Portfolio 클래스가 이터레이션을 지원하게 수정해서 문제를 해결해 보자.\n",
    "\n",
    "# class Portfolio:\n",
    "\n",
    "#     def __init__(self, holdings):\n",
    "#         self._holdings = holdings\n",
    "\n",
    "#     def __iter__(self):\n",
    "#         return self._holdings.__iter__()\n",
    "\n",
    "#     @property\n",
    "#     def total_cost(self):\n",
    "#         return sum([s.shares*s.price for s in self._holdings])\n",
    "\n",
    "#     def tabulate_shares(self):\n",
    "#         from collections import Counter\n",
    "#         total_shares = Counter()\n",
    "#         for s in self._holdings:\n",
    "#             total_shares[s.name] += s.shares\n",
    "#         return total_shares\n",
    "\n",
    "# 이렇게 수정하고 나면 report.py 프로그램이 다시 잘 작동할 것이다. \n"
   ]
  },
  {
   "cell_type": "code",
   "execution_count": 5,
   "metadata": {},
   "outputs": [
    {
     "name": "stdout",
     "output_type": "stream",
     "text": [
      "Overwriting ../../test_bed/portfolio.py\n"
     ]
    }
   ],
   "source": [
    "%%writefile ../../test_bed/portfolio.py\n",
    "# portfolio.py\n",
    "from collections import Counter\n",
    "\n",
    "class Portfolio:\n",
    "    def __init__(self, holdings):\n",
    "        self._holdings = holdings\n",
    "    \n",
    "    def __iter__(self):\n",
    "        return self._holdings.__iter__()\n",
    "    \n",
    "    @property\n",
    "    def total_cost(self):\n",
    "        return sum([ s.cost for s in self._holdings])\n",
    "    \n",
    "    def tabulate_shares(self):\n",
    "        total_shares = Counter()\n",
    "        for s in self._holdings:\n",
    "            total_shares[s.name] += s.shares\n",
    "        return total_shares\n"
   ]
  },
  {
   "cell_type": "code",
   "execution_count": 2,
   "metadata": {},
   "outputs": [
    {
     "name": "stdout",
     "output_type": "stream",
     "text": [
      "      Name     Shares      Price     Change \n",
      "---------- ---------- ---------- ---------- \n",
      "        AA        100       9.22     -22.98 \n",
      "       IBM         50     106.28      15.18 \n",
      "       CAT        150      35.46     -47.98 \n",
      "      MSFT        200      20.89     -30.34 \n",
      "        GE         95      13.48     -26.89 \n",
      "      MSFT         50      20.89     -44.21 \n",
      "       IBM        100     106.28      35.84 \n"
     ]
    }
   ],
   "source": [
    "import report\n",
    "report.portfolio_report('../../data/portfolio.csv', '../../data/prices.csv', 'txt')"
   ]
  },
  {
   "cell_type": "code",
   "execution_count": null,
   "metadata": {},
   "outputs": [],
   "source": [
    "\n",
    "# pcost.py 프로그램이 새로운 Portfolio 객체를 사용하게 수정하자. 이렇게 말이다.\n",
    "\n",
    "# # pcost.py\n",
    "\n",
    "# import report\n",
    "\n",
    "# def portfolio_cost(filename):\n",
    "#     '''\n",
    "#     포트폴리오 파일의 총 비용(주식 수 * 가격)을 계산\n",
    "#     '''\n",
    "#     portfolio = report.read_portfolio(filename)\n",
    "#     return portfolio.total_cost\n",
    "# ...\n",
    "# 잘 작동하는지 시험해 보자.\n",
    "\n",
    "# >>> import pcost\n",
    "# >>> pcost.portfolio_cost('Data/portfolio.csv')\n",
    "# 44671.15\n",
    "# >>>"
   ]
  },
  {
   "cell_type": "code",
   "execution_count": 5,
   "metadata": {},
   "outputs": [
    {
     "ename": "SystemExit",
     "evalue": "Usage: c:\\Users\\User\\anaconda3\\lib\\site-packages\\ipykernel_launcher.py portfile",
     "output_type": "error",
     "traceback": [
      "An exception has occurred, use %tb to see the full traceback.\n",
      "\u001b[1;31mSystemExit\u001b[0m\u001b[1;31m:\u001b[0m Usage: c:\\Users\\User\\anaconda3\\lib\\site-packages\\ipykernel_launcher.py portfile\n"
     ]
    }
   ],
   "source": [
    "%%writefile ../../test_bed/pcost.py\n",
    "\n",
    "# pcost.py\n",
    "import report\n",
    "\n",
    "def portfolio_cost(filename):\n",
    "    '''\n",
    "    Computes the total cost (shares*price) of a portfolio file\n",
    "    '''\n",
    "    portfolio = report.read_portfolio(filename)\n",
    "    return portfolio.total_cost\n",
    "\n",
    "\n",
    "def main(args):\n",
    "    if len(args) != 2:\n",
    "        raise SystemExit('Usage: %s portfile' % args[0])\n",
    "    \n",
    "    filename = args[1]\n",
    "    print('Total cost: ', portfolio_cost(filename)) \n",
    "\n",
    "if __name__ == '__main__':\n",
    "    import sys\n",
    "    main(sys.argv)\n"
   ]
  },
  {
   "cell_type": "code",
   "execution_count": 6,
   "metadata": {},
   "outputs": [
    {
     "data": {
      "text/plain": [
       "44671.15"
      ]
     },
     "execution_count": 6,
     "metadata": {},
     "output_type": "execute_result"
    }
   ],
   "source": [
    "import pcost\n",
    "\n",
    "pcost.portfolio_cost('../../data/portfolio.csv')"
   ]
  },
  {
   "cell_type": "markdown",
   "metadata": {},
   "source": [
    "## 연습 문제 6.3: 더 적절한 컨테이너 만들기"
   ]
  },
  {
   "cell_type": "code",
   "execution_count": null,
   "metadata": {},
   "outputs": [],
   "source": [
    "# 연습 문제 6.3: 더 적절한 컨테이너 만들기\n",
    "# ----------------------------------------\n",
    "# 컨테이너 클래스를 만들다 보면 이터레이션 외에도 넣고 싶은 기능이 더 있을 것이다. \n",
    "# Portfolio 클래스를 다음과 같이 수정해 특수 메서드를 추가해 보자.\n",
    "\n",
    "# class Portfolio:\n",
    "#     def __init__(self, holdings):\n",
    "#         self._holdings = holdings\n",
    "\n",
    "#     def __iter__(self):\n",
    "#         return self._holdings.__iter__()\n",
    "\n",
    "#     def __len__(self):\n",
    "#         return len(self._holdings)\n",
    "\n",
    "#     def __getitem__(self, index):\n",
    "#         return self._holdings[index]\n",
    "\n",
    "#     def __contains__(self, name):\n",
    "#         return any([s.name == name for s in self._holdings])\n",
    "\n",
    "#     @property\n",
    "#     def total_cost(self):\n",
    "#         return sum([s.shares*s.price for s in self._holdings])\n",
    "\n",
    "#     def tabulate_shares(self):\n",
    "#         from collections import Counter\n",
    "#         total_shares = Counter()\n",
    "#         for s in self._holdings:\n",
    "#             total_shares[s.name] += s.shares\n",
    "#         return total_shares\n",
    "# 새 클래스를 가지고 실험을 해 보자.\n",
    "\n",
    "# >>> import report\n",
    "# >>> portfolio = report.read_portfolio('Data/portfolio.csv')\n",
    "# >>> len(portfolio)\n",
    "# 7\n",
    "# >>> portfolio[0]\n",
    "# Stock('AA', 100, 32.2)\n",
    "# >>> portfolio[1]\n",
    "# Stock('IBM', 50, 91.1)\n",
    "# >>> portfolio[0:3]\n",
    "# [Stock('AA', 100, 32.2), Stock('IBM', 50, 91.1), Stock('CAT', 150, 83.44)]\n",
    "# >>> 'IBM' in portfolio\n",
    "# True\n",
    "# >>> 'AAPL' in portfolio\n",
    "# False\n",
    "# >>>\n",
    "# 이와 관련해 중요한 점을 관찰할 수 있다. \n",
    "# 코드가 파이썬에서 공통적으로 사용되는 어휘를 말한다면 '파이썬다운(Pythonic)' 것으로 간주된다. \n",
    "# 컨테이너 객체를 파이썬답게 만들려면 이터레이션, 인덱싱, containment, 기타 연산자를 지원하는 것이 중요하다."
   ]
  },
  {
   "cell_type": "code",
   "execution_count": 10,
   "metadata": {},
   "outputs": [
    {
     "name": "stdout",
     "output_type": "stream",
     "text": [
      "Overwriting ../../test_bed/portfolio.py\n"
     ]
    }
   ],
   "source": [
    "%%writefile ../../test_bed/portfolio.py\n",
    "# portfolio.py\n",
    "from collections import Counter\n",
    "\n",
    "class Portfolio:\n",
    "    def __init__(self, holdings):\n",
    "        self._holdings = holdings\n",
    "    \n",
    "    def __iter__(self):\n",
    "        return self._holdings.__iter__()\n",
    "    \n",
    "    def __len__(self):\n",
    "        return len(self._holdings)\n",
    "    \n",
    "    def __getitem__(self, index):\n",
    "        return self._holdings[index]\n",
    "    \n",
    "    def __contains__(self, name):\n",
    "        return any([ s.name == name for s in self._holdings ])\n",
    "    \n",
    "    @property\n",
    "    def total_cost(self):\n",
    "        return sum([ s.cost for s in self._holdings])\n",
    "    \n",
    "    def tabulate_shares(self):\n",
    "        total_shares = Counter()\n",
    "        for s in self._holdings:\n",
    "            total_shares[s.name] += s.shares\n",
    "        return total_shares\n"
   ]
  },
  {
   "cell_type": "code",
   "execution_count": 2,
   "metadata": {},
   "outputs": [],
   "source": [
    "import sys\n",
    "sys.path.append('../../test_bed')"
   ]
  },
  {
   "cell_type": "code",
   "execution_count": 3,
   "metadata": {},
   "outputs": [
    {
     "data": {
      "text/plain": [
       "False"
      ]
     },
     "execution_count": 3,
     "metadata": {},
     "output_type": "execute_result"
    }
   ],
   "source": [
    "import report\n",
    "\n",
    "portfolio = report.read_portfolio('../../data/portfolio.csv')\n",
    "len(portfolio)\n",
    "\n",
    "portfolio[0]\n",
    "portfolio[1]\n",
    "portfolio[0:3]\n",
    "'IBM' in portfolio\n",
    "'AAPL' in portfolio"
   ]
  },
  {
   "attachments": {},
   "cell_type": "markdown",
   "metadata": {},
   "source": [
    "# 6.2 이터레이션을 커스터마이징"
   ]
  },
  {
   "cell_type": "code",
   "execution_count": null,
   "metadata": {},
   "outputs": [],
   "source": [
    "# 6.2 이터레이션을 커스터마이징\n",
    "# ---------------------------\n",
    "# 이 섹션은 제너레이터 함수를 사용해 이터레이션을 커스터마이즈하는 법을 살펴본다."
   ]
  },
  {
   "cell_type": "code",
   "execution_count": null,
   "metadata": {},
   "outputs": [],
   "source": [
    "# 문제\n",
    "# 커스텀 이터레이션 패턴을 만들고 싶다고 하자.\n",
    "\n",
    "# 예(카운트다운):\n",
    "\n",
    "# >>> for x in countdown(10):\n",
    "# ...   print(x, end=' ')\n",
    "# ...\n",
    "# 10 9 8 7 6 5 4 3 2 1\n",
    "# >>>\n",
    "# 이것을 쉽게 할 수 있는 방법이 있다."
   ]
  },
  {
   "cell_type": "code",
   "execution_count": 23,
   "metadata": {},
   "outputs": [
    {
     "name": "stdout",
     "output_type": "stream",
     "text": [
      "10 9 8 7 6 5 4 3 2 1 "
     ]
    }
   ],
   "source": [
    "def countdown(n):\n",
    "    return range(n, 0, -1)\n",
    "for x in countdown(10):\n",
    "    print(x, end=' ')"
   ]
  },
  {
   "attachments": {},
   "cell_type": "markdown",
   "metadata": {},
   "source": [
    "## 제너레이터"
   ]
  },
  {
   "cell_type": "code",
   "execution_count": null,
   "metadata": {},
   "outputs": [],
   "source": [
    "# 제너레이터\n",
    "# ---------\n",
    "# 제너레이터는 이터레이션을 정의하는 함수다.\n",
    "\n",
    "# def countdown(n):\n",
    "#     while n > 0:\n",
    "#         yield n\n",
    "#         n -= 1\n",
    "# 예:\n",
    "\n",
    "# >>> for x in countdown(10):\n",
    "# ...   print(x, end=' ')\n",
    "# ...\n",
    "# 10 9 8 7 6 5 4 3 2 1\n",
    "# >>>\n",
    "# yield 문을 사용하는 함수는 제너레이터다.\n",
    "\n",
    "# 제너레이터는 일반적인 함수와 다르게 작동한다. 제너레이터 함수를 호출하면 제너레이터 객체가 생성된다. 함수가 즉시 실행되는 것은 아니다.\n",
    "\n",
    "# def countdown(n):\n",
    "#     # print 문을 추가했다\n",
    "#     print('Counting down from', n)\n",
    "#     while n > 0:\n",
    "#         yield n\n",
    "#         n -= 1\n",
    "# >>> x = countdown(10)\n",
    "# # print 문이 없다!\n",
    "# >>> x\n",
    "# # x는 generator 객체다\n",
    "# <generator object at 0x58490>\n",
    "# >>>\n",
    "# 이 함수는 __next__() 호출에 의해서만 실행된다.\n",
    "\n",
    "# >>> x = countdown(10)\n",
    "# >>> x\n",
    "# <generator object at 0x58490>\n",
    "# >>> x.__next__()\n",
    "# Counting down from 10\n",
    "# 10\n",
    "# >>>\n",
    "# yield는 값을 생산하고, 함수 실행을 일시 정지한다. 다음번 __next__() 호출 시 함수가 재개된다.\n",
    "\n",
    "# >>> x.__next__()\n",
    "# 9\n",
    "# >>> x.__next__()\n",
    "# 8\n",
    "# 제너레이터가 마지막으로 반환할 때, 이터레이션은 오류를 일으킨다.\n",
    "\n",
    "# >>> x.__next__()\n",
    "# 1\n",
    "# >>> x.__next__()\n",
    "# Traceback (most recent call last):\n",
    "# File \"<stdin>\", line 1, in ? StopIteration\n",
    "# >>>\n",
    "\n",
    "# 관찰: 제너레이터 함수는 리스트, 튜플, 딕셔너리, 파일 등에 사용하는 for 문과 똑같은 저수준 프로토콜을 구현한다."
   ]
  },
  {
   "cell_type": "code",
   "execution_count": 30,
   "metadata": {},
   "outputs": [
    {
     "name": "stdout",
     "output_type": "stream",
     "text": [
      "Counting down from 10\n",
      "10 9 8 7 6 5 4 3 2 1 "
     ]
    }
   ],
   "source": [
    "def countdown(n):\n",
    "    print('Counting down from', n)\n",
    "    while n > 0:\n",
    "        yield n\n",
    "        n -= 1\n",
    "\n",
    "x = countdown(10)\n",
    "print(x.__next__(), end=' ')\n",
    "print(x.__next__(), end=' ')\n",
    "print(x.__next__(), end=' ')\n",
    "\n",
    "for i in x:\n",
    "    print(i, end=' ')        "
   ]
  },
  {
   "attachments": {},
   "cell_type": "markdown",
   "metadata": {},
   "source": [
    "## 연습 문제"
   ]
  },
  {
   "attachments": {},
   "cell_type": "markdown",
   "metadata": {},
   "source": [
    "### 연습 문제 6.4: 단순한 제너레이터"
   ]
  },
  {
   "cell_type": "code",
   "execution_count": null,
   "metadata": {},
   "outputs": [],
   "source": [
    "# 연습 문제 6.4: 단순한 제너레이터\n",
    "# ------------------------------\n",
    "# 이터레이션을 커스터마이즈하고 싶을 때에는 제너레이터 함수를 떠올려라. 작성하기 쉽다\n",
    "#   ---원하는 이터레이션 로직을 함수로 구현하고, yield 문으로 값을 내보내면 된다.\n",
    "\n",
    "# 예를 들어, 다음 제너레이터는 파일에서 특정 부분 문자열이 일치하는 행을 검색한다.\n",
    "\n",
    "# >>> def filematch(filename, substr):\n",
    "#         with open(filename, 'r') as f:\n",
    "#             for line in f:\n",
    "#                 if substr in line:\n",
    "#                     yield line\n",
    "\n",
    "# >>> for line in open('Data/portfolio.csv'):\n",
    "#         print(line, end='')\n",
    "\n",
    "# name,shares,price\n",
    "# \"AA\",100,32.20\n",
    "# \"IBM\",50,91.10\n",
    "# \"CAT\",150,83.44\n",
    "# \"MSFT\",200,51.23\n",
    "# \"GE\",95,40.37\n",
    "# \"MSFT\",50,65.10\n",
    "# \"IBM\",100,70.44\n",
    "# >>> for line in filematch('Data/portfolio.csv', 'IBM'):\n",
    "#         print(line, end='')\n",
    "\n",
    "# \"IBM\",50,91.10\n",
    "# \"IBM\",100,70.44\n",
    "# >>>\n",
    "# 함수에서 커스터마이즈한 부분을 숨기고 for 루프에 먹이는 데 사용할 수 있다는 점에서 꽤 흥미롭다. 좀 더 특이한 사례를 살펴보자."
   ]
  },
  {
   "cell_type": "code",
   "execution_count": 39,
   "metadata": {},
   "outputs": [
    {
     "name": "stdout",
     "output_type": "stream",
     "text": [
      "name,shares,price\n",
      "\"AA\",100,32.20\n",
      "\"IBM\",50,91.10\n",
      "\"CAT\",150,83.44\n",
      "\"MSFT\",200,51.23\n",
      "\"GE\",95,40.37\n",
      "\"MSFT\",50,65.10\n",
      "\"IBM\",100,70.44\n",
      "------------------------------- \n",
      "\"IBM\",50,91.10\n",
      "\"IBM\",100,70.44"
     ]
    }
   ],
   "source": [
    "def filematch(filename, substr):\n",
    "    with open(filename, 'r') as f:\n",
    "        for line in f:\n",
    "            if substr in line:\n",
    "                yield line\n",
    "\n",
    "for line in open('../../data/portfolio.csv'):\n",
    "    print(line, end='')        \n",
    "print()\n",
    "print('------------------------------- ')\n",
    "\n",
    "for line in filematch('../../data/portfolio.csv', 'IBM'):\n",
    "    print(line, end='')            "
   ]
  },
  {
   "attachments": {},
   "cell_type": "markdown",
   "metadata": {},
   "source": [
    "## 연습 문제 6.5: 스트리밍 데이터 소스를 모니터링"
   ]
  },
  {
   "cell_type": "code",
   "execution_count": null,
   "metadata": {},
   "outputs": [],
   "source": [
    "# 연습 문제 6.5: 스트리밍 데이터 소스를 모니터링\n",
    "# -------------------------------------------\n",
    "# 제너레이터는 로그 파일이라든지 주식 시장 피드와 같은 실시간 데이터 소스를 모니터링하는 흥미로운 방법이다. \n",
    "# 이 개념을 탐색해보자. 시작하려면 다음 지침을 주의깊게 따르기 바란다.\n",
    "\n",
    "# Data/stocksim.py는 주식 시장 데이터를 시뮬레이션하는 프로그램이다. \n",
    "# 이 프로그램은 출력으로서, Data/stocklog.csv 파일에 실시간 데이터를 지속적으로 기록한다. \n",
    "# 별도의 명령 창에서 Data/ 디렉터리로 가서 이 프로그램을 실행한다.\n",
    "\n",
    "# bash % python3 stocksim.py\n",
    "# 윈도우에서는 탐색기에서 stocksim.py를 더블클릭하면 실행된다. 이제 이 프로그램은 잊어버리자(실행되게 내버려둔다). \n",
    "# 다른 창에서, 시뮬레이터에 의해 Data/stocklog.csv 파일이 기록되는 것을 살펴보자. \n",
    "# 몇 초마다 새로운 텍스트 행이 파일에 추가되는 것을 볼 수 있을 것이다. \n",
    "# 다시 말하지만, 이 프로그램은 몇 시간이고 실행되게 내버려 둔다(걱정할 필요는 없다).\n",
    "\n",
    "# 프로그램이 실행되면, 파일을 열고 파일의 끝에 새로운 출력이 있는지 감시(watch)하는 작은 프로그램을 작성하자. \n",
    "# follow.py 파일에 다음과 같이 코드를 작성한다.\n",
    "\n",
    "# # follow.py\n",
    "# import os\n",
    "# import time\n",
    "\n",
    "# f = open('Data/stocklog.csv')\n",
    "# f.seek(0, os.SEEK_END)   # 파일 포인터를 파일의 끝으로부터 0 바이트로 이동\n",
    "\n",
    "# while True:\n",
    "#     line = f.readline()\n",
    "#     if line == '':\n",
    "#         time.sleep(0.1)   # 짧게 쉬었다가 재시도\n",
    "#         continue\n",
    "#     fields = line.split(',')\n",
    "#     name = fields[0].strip('\"')\n",
    "#     price = float(fields[1])\n",
    "#     change = float(fields[4])\n",
    "#     if change < 0:\n",
    "#         print(f'{name:>10s} {price:>10.2f} {change:>10.2f}')\n",
    "# 프로그램을 실행하면 실시간 주식 티커를 볼 수 있다. 이 코드는 유닉스의 tail -f 명령처럼 로그 파일을 감시한다.\n",
    "\n",
    "# 참고: 파일에서 행을 읽는 일반적인 방법이 아니라는 점에서, \n",
    "# 이 예의 readline() 메서드의 사용은 그리 일반적이지 않다(보통은 for 루프를 사용한다). \n",
    "# 그렇지만 이 경우 파일의 끝에 새로운 데이터가 추가되는지 반복적으로 확인한다(readline()은 새 데이터 또는 빈 문자열을 반환한다)."
   ]
  },
  {
   "cell_type": "code",
   "execution_count": 43,
   "metadata": {},
   "outputs": [
    {
     "name": "stdout",
     "output_type": "stream",
     "text": [
      "Writing ../../test_bed/follow.py\n"
     ]
    }
   ],
   "source": [
    "%%writefile ../../test_bed/follow.py\n",
    "# follow.py\n",
    "import os\n",
    "import time\n",
    "\n",
    "with open('../../data/stocklog.csv', 'r') as f:\n",
    "    f.seek(0, os.SEEK_END)      # 파일 포인터를 파일의 끝으로부터 0 바이트로 이동\n",
    "\n",
    "    while True:\n",
    "        line = f.readline()\n",
    "        if line == '':\n",
    "            time.sleep(0.1)     # 짧게 쉬었다가 재시도\n",
    "            continue\n",
    "        \n",
    "        fields = line.split(',')\n",
    "        name = fields[0].strip('\"')\n",
    "        price = float(fields[1])\n",
    "        change = float(fields[4])\n",
    "        if change < 0:\n",
    "            print(f'{name:>10s} {price:>10.2f} {change:>10.2f}')\n",
    "                "
   ]
  },
  {
   "cell_type": "code",
   "execution_count": 44,
   "metadata": {},
   "outputs": [
    {
     "name": "stdout",
     "output_type": "stream",
     "text": [
      "Overwriting ../../data/stocksim.py\n"
     ]
    }
   ],
   "source": [
    "%%writefile ../../data/stocksim.py\n",
    "#!/usr/bin/env python\n",
    "# stocksim.py\n",
    "#\n",
    "# Stock market simulator.  This simulator creates stock market\n",
    "# data and provides it in several different ways:\n",
    "#\n",
    "#    1. Makes periodic updates to a log file stocklog.dat\n",
    "#    2. Provides stock data through an embedded HTTP server.\n",
    "#\n",
    "# The purpose of this module is to provide data to the user\n",
    "# in different ways in order to write interesting Python examples\n",
    "\n",
    "import math\n",
    "import time\n",
    "\n",
    "history_file = \"dowstocks.csv\"\n",
    "\n",
    "# Convert a time string such as \"4:00pm\" to minutes past midnight\n",
    "def minutes(tm):\n",
    "    am_pm = tm[-2:]\n",
    "    fields = tm[:-2].split(\":\")\n",
    "    hour = int(fields[0])\n",
    "    minute = int(fields[1])\n",
    "    if hour == 12:\n",
    "       hour = 0\n",
    "    if am_pm == 'pm':\n",
    "       hour += 12\n",
    "    return hour*60 + minute\n",
    "\n",
    "# Convert time in minutes to a format string\n",
    "def minutes_to_str(m):\n",
    "    frac,m = math.modf(m)\n",
    "    hours = m//60\n",
    "    minutes = m % 60\n",
    "    seconds = frac * 60\n",
    "    return \"%02d:%02d.%02.f\" % (hours,minutes,seconds)\n",
    "\n",
    "# Read the stock history file as a list of lists\n",
    "def read_history(filename):\n",
    "    result = []\n",
    "    f = open(filename)\n",
    "    next(f)\n",
    "    for line in f:\n",
    "        str_fields = line.strip().split(\",\")\n",
    "        fields = [eval(x) for x in str_fields]\n",
    "        fields[3] = minutes(fields[3])\n",
    "        result.append(fields)\n",
    "    return result\n",
    "\n",
    "# Format CSV record\n",
    "def csv_record(fields):\n",
    "    s = '\"%s\",%0.2f,\"%s\",\"%s\",%0.2f,%0.2f,%0.2f,%0.2f,%d' % tuple(fields)\n",
    "    return s\n",
    "\n",
    "class StockTrack(object):\n",
    "    def __init__(self,name):\n",
    "        self.name    = name\n",
    "        self.history = []\n",
    "        self.price   = 0\n",
    "        self.time    = 0\n",
    "        self.index   = 0\n",
    "        self.open    = 0\n",
    "        self.low     = 0\n",
    "        self.high    = 0\n",
    "        self.volume  = 0\n",
    "        self.initial = 0\n",
    "        self.change  = 0\n",
    "        self.date    = \"\"\n",
    "    def add_data(self,record):\n",
    "        self.history.append(record)\n",
    "    def reset(self,time):\n",
    "        self.time = time\n",
    "        # Sort the history by time\n",
    "        self.history.sort(key=lambda t:t[3])\n",
    "        # Find the first entry who's time is behind the given time\n",
    "        self.index = 0\n",
    "        while self.index < len(self.history):\n",
    "            if self.history[self.index][3] > time:\n",
    "                break\n",
    "            self.index += 1\n",
    "        self.open = self.history[0][5]\n",
    "        self.initial = self.history[0][1] - self.history[0][4]\n",
    "        self.date = self.history[0][2]\n",
    "        self.update()\n",
    "        self.low = self.price\n",
    "        self.high = self.price\n",
    "\n",
    "    # Calculate interpolated value of a given field based on\n",
    "    # current time\n",
    "    def interpolate(self,field):\n",
    "        first = self.history[self.index][field]\n",
    "        next  = self.history[self.index+1][field]\n",
    "        first_t = self.history[self.index][3]\n",
    "        next_t = self.history[self.index+1][3]\n",
    "        try:\n",
    "            slope = (next - first)/(next_t-first_t)\n",
    "            return first + slope*(self.time - first_t)\n",
    "        except ZeroDivisionError:\n",
    "            return first\n",
    "\n",
    "    # Update all computed values\n",
    "    def update(self):\n",
    "        self.price = round(self.interpolate(1),2)\n",
    "        self.volume = int(self.interpolate(-1))\n",
    "        if self.price < self.low:\n",
    "            self.low = self.price\n",
    "        if self.price >= self.high:\n",
    "            self.high = self.price\n",
    "        self.change = self.price - self.initial\n",
    "        \n",
    "    # Increment the time by a delta\n",
    "    def incr(self,dt):\n",
    "        self.time += dt\n",
    "        if self.index < (len(self.history) - 2):\n",
    "            while self.index < (len(self.history) - 2) and self.time >= self.history[self.index+1][3]:\n",
    "                self.index += 1\n",
    "        self.update()\n",
    "\n",
    "    def make_record(self):\n",
    "        return [self.name,round(self.price,2),self.date,minutes_to_str(self.time),round(self.change,2),self.open,round(self.high,2),\n",
    "                round(self.low,2),self.volume]\n",
    "\n",
    "class MarketSimulator(object):\n",
    "    def __init__(self):\n",
    "        self.stocks = { }\n",
    "        self.prices = { }\n",
    "        self.time = 0\n",
    "        self.observers = []\n",
    "    def register(self,observer):\n",
    "        self.observers.append(observer)\n",
    "\n",
    "    def publish(self,record):\n",
    "        for obj in self.observers:\n",
    "            obj.update(record)\n",
    "    def add_history(self,filename):\n",
    "        hist = read_history(filename)\n",
    "        for record in hist:\n",
    "            if record[0] not in self.stocks:\n",
    "                self.stocks[record[0]] = StockTrack(record[0])\n",
    "            self.stocks[record[0]].add_data(record) \n",
    "\n",
    "    def reset(self,time):\n",
    "        self.time = time\n",
    "        for s in self.stocks.values():\n",
    "            s.reset(time)\n",
    "\n",
    "    # Run forever.  Dt is in seconds\n",
    "    def run(self,dt):\n",
    "        for s in self.stocks:\n",
    "            self.prices[s] = self.stocks[s].price\n",
    "            self.publish(self.stocks[s].make_record())\n",
    "        while self.time < 1000:\n",
    "            for s in self.stocks:\n",
    "                self.stocks[s].incr(dt/60.0)    # Increment is in minutes\n",
    "                if self.stocks[s].price != self.prices[s]:\n",
    "                    self.prices[s] = self.stocks[s].price\n",
    "                    self.publish(self.stocks[s].make_record())\n",
    "            time.sleep(dt)\n",
    "            self.time += (dt/60.0)\n",
    "\n",
    "\n",
    "class BasicPrinter(object):\n",
    "    def update(self,record):\n",
    "        print(csv_record(record))\n",
    "\n",
    "class LogPrinter(object):\n",
    "    def __init__(self,filename):\n",
    "        self.f = open(filename,\"w\")\n",
    "    def update(self,record):\n",
    "        self.f.write(csv_record(record)+\"\\n\")\n",
    "        self.f.flush()\n",
    "\n",
    "m = MarketSimulator()\n",
    "m.add_history(history_file)\n",
    "m.reset(minutes(\"9:30am\"))\n",
    "\n",
    "m.register(BasicPrinter())\n",
    "m.register(LogPrinter(\"stocklog.csv\"))\n",
    "\n",
    "m.run(1)"
   ]
  },
  {
   "attachments": {},
   "cell_type": "markdown",
   "metadata": {},
   "source": [
    "### 연습 문제 6.6: 제너레이터를 사용해 데이터를 생산"
   ]
  },
  {
   "cell_type": "code",
   "execution_count": null,
   "metadata": {},
   "outputs": [],
   "source": [
    "# 연습 문제 6.6: 제너레이터를 사용해 데이터를 생산\n",
    "# ---------------------------------------------\n",
    "# 연습 문제 6.5의 코드를 보면, 코드의 첫 부분은 데이터의 행들을 생산하고, \n",
    "# while 루프의 끝 문장은 데이터를 소비한다. \n",
    "# 제너레이터 함수의 주요 기능은 모든 데이터 생산 코드를 재사용 가능한 함수로 이전하는 것이다.\n",
    "\n",
    "# 제너레이터 함수 follow(filename)이 파일 읽기를 수행하도록 연습 문제 6.5의 코드를 수정하자. 다음 코드가 작동하게 하라.\n",
    "\n",
    "# >>> for line in follow('Data/stocklog.csv'):\n",
    "#           print(line, end='')\n",
    "\n",
    "# ... 출력 행이 여기 만들어져야 한다 ...\n",
    "# 주식 티커 코드를 다음과 같이 수정하자.\n",
    "\n",
    "# if __name__ == '__main__':\n",
    "#     for line in follow('Data/stocklog.csv'):\n",
    "#         fields = line.split(',')\n",
    "#         name = fields[0].strip('\"')\n",
    "#         price = float(fields[1])\n",
    "#         change = float(fields[4])\n",
    "#         if change < 0:\n",
    "#             print(f'{name:>10s} {price:>10.2f} {change:>10.2f}')"
   ]
  },
  {
   "cell_type": "code",
   "execution_count": 54,
   "metadata": {},
   "outputs": [
    {
     "name": "stdout",
     "output_type": "stream",
     "text": [
      "Overwriting ../../test_bed/follow.py\n"
     ]
    }
   ],
   "source": [
    "%%writefile ../../test_bed/follow.py\n",
    "# follow.py\n",
    "import os\n",
    "import time\n",
    "\n",
    "def follow(filename):\n",
    "    with open(filename, 'r') as f:\n",
    "        f.seek(0, os.SEEK_END)      # 파일 포인터를 파일의 끝으로부터 0 바이트로 이동\n",
    "\n",
    "        while True:\n",
    "            line = f.readline()\n",
    "            if line == '':\n",
    "                time.sleep(0.1)     # 짧게 쉬었다가 재시도\n",
    "                continue\n",
    "            yield line\n",
    "            \n",
    "if __name__ == '__main__':\n",
    "    for line in follow('../../data/stocklog.csv'):\n",
    "        fields = line.split(',')\n",
    "        name = fields[0].strip('\"')\n",
    "        price = float(fields[1])\n",
    "        change = float(fields[4])\n",
    "        if change < 0:\n",
    "            print(f'{name:>10s} {price:>10.2f} {change:>10.2f}')\n",
    "\n"
   ]
  },
  {
   "attachments": {},
   "cell_type": "markdown",
   "metadata": {},
   "source": [
    "### 연습 문제 6.7: 포트폴리오 감시하기"
   ]
  },
  {
   "cell_type": "code",
   "execution_count": null,
   "metadata": {},
   "outputs": [],
   "source": [
    "# 연습 문제 6.7: 포트폴리오 감시하기\n",
    "# --------------------------------\n",
    "# 주식 데이터의 스트림을 감시해, 포트폴리오에 있는 주식의 정보만 티커를 프린트하도록 follow.py 프로그램을 수정하자. 예:\n",
    "\n",
    "# if __name__ == '__main__':\n",
    "#     import report\n",
    "\n",
    "#     portfolio = report.read_portfolio('Data/portfolio.csv')\n",
    "\n",
    "#     for line in follow('Data/stocklog.csv'):\n",
    "#         fields = line.split(',')\n",
    "#         name = fields[0].strip('\"')\n",
    "#         price = float(fields[1])\n",
    "#         change = float(fields[4])\n",
    "#         if name in portfolio:\n",
    "#             print(f'{name:>10s} {price:>10.2f} {change:>10.2f}')\n",
    "\n",
    "# 참고: 이 작업을 위해, Portfolio 클래스는 반드시 in 연산자를 지원해야 한다. \n",
    "# 연습 문제 6.3을 참고해서 __contains__() 연산자를 구현하자.\n",
    "\n",
    "\n",
    "\n",
    "# 논의\n",
    "# ----\n",
    "# 매우 강력한 것을 만들었다. 흥미로운 이터레이션 패턴(파일의 마지막 행을 읽기)을 그것의 작은 함수에 옮겼다. \n",
    "# 이제 follow() 함수는 완전히 일반적인 유틸리티가 되었으며, 다른 프로그램에서도 사용할 수 있게 됐다. \n",
    "# 예를 들어, 서버 로그, 디버깅 로그, 기타 그와 비슷한 데이터 소스를 감시할 수 있다. 훌륭하다."
   ]
  },
  {
   "cell_type": "code",
   "execution_count": 58,
   "metadata": {},
   "outputs": [
    {
     "name": "stdout",
     "output_type": "stream",
     "text": [
      "       CAT      78.30      -0.22\n",
      "        AA      39.49      -0.17\n",
      "        GE      37.24      -0.08\n",
      "       CAT      78.31      -0.21\n",
      "       IBM     102.89      -0.18\n",
      "      MSFT      30.03      -0.02\n",
      "       CAT      78.32      -0.20\n",
      "        AA      39.50      -0.16\n",
      "       CAT      78.33      -0.19\n",
      "        GE      37.25      -0.07\n",
      "        AA      39.51      -0.15\n",
      "       CAT      78.34      -0.18\n",
      "       IBM     102.90      -0.17\n",
      "       CAT      78.35      -0.17\n",
      "      MSFT      30.04      -0.01\n",
      "        AA      39.52      -0.14\n"
     ]
    },
    {
     "ename": "KeyboardInterrupt",
     "evalue": "",
     "output_type": "error",
     "traceback": [
      "\u001b[1;31m---------------------------------------------------------------------------\u001b[0m",
      "\u001b[1;31mKeyboardInterrupt\u001b[0m                         Traceback (most recent call last)",
      "\u001b[1;32m~\\AppData\\Local\\Temp/ipykernel_26788/4278607356.py\u001b[0m in \u001b[0;36m<module>\u001b[1;34m\u001b[0m\n\u001b[0;32m     20\u001b[0m     \u001b[0mportfolio\u001b[0m \u001b[1;33m=\u001b[0m \u001b[0mreport\u001b[0m\u001b[1;33m.\u001b[0m\u001b[0mread_portfolio\u001b[0m\u001b[1;33m(\u001b[0m\u001b[1;34m'../../data/portfolio.csv'\u001b[0m\u001b[1;33m)\u001b[0m\u001b[1;33m\u001b[0m\u001b[1;33m\u001b[0m\u001b[0m\n\u001b[0;32m     21\u001b[0m \u001b[1;33m\u001b[0m\u001b[0m\n\u001b[1;32m---> 22\u001b[1;33m     \u001b[1;32mfor\u001b[0m \u001b[0mline\u001b[0m \u001b[1;32min\u001b[0m \u001b[0mfollow\u001b[0m\u001b[1;33m(\u001b[0m\u001b[1;34m'../../data/stocklog.csv'\u001b[0m\u001b[1;33m)\u001b[0m\u001b[1;33m:\u001b[0m\u001b[1;33m\u001b[0m\u001b[1;33m\u001b[0m\u001b[0m\n\u001b[0m\u001b[0;32m     23\u001b[0m         \u001b[0mfields\u001b[0m \u001b[1;33m=\u001b[0m \u001b[0mline\u001b[0m\u001b[1;33m.\u001b[0m\u001b[0msplit\u001b[0m\u001b[1;33m(\u001b[0m\u001b[1;34m','\u001b[0m\u001b[1;33m)\u001b[0m\u001b[1;33m\u001b[0m\u001b[1;33m\u001b[0m\u001b[0m\n\u001b[0;32m     24\u001b[0m         \u001b[0mname\u001b[0m \u001b[1;33m=\u001b[0m \u001b[0mfields\u001b[0m\u001b[1;33m[\u001b[0m\u001b[1;36m0\u001b[0m\u001b[1;33m]\u001b[0m\u001b[1;33m.\u001b[0m\u001b[0mstrip\u001b[0m\u001b[1;33m(\u001b[0m\u001b[1;34m'\"'\u001b[0m\u001b[1;33m)\u001b[0m\u001b[1;33m\u001b[0m\u001b[1;33m\u001b[0m\u001b[0m\n",
      "\u001b[1;32m~\\AppData\\Local\\Temp/ipykernel_26788/4278607356.py\u001b[0m in \u001b[0;36mfollow\u001b[1;34m(filename)\u001b[0m\n\u001b[0;32m     11\u001b[0m             \u001b[0mline\u001b[0m \u001b[1;33m=\u001b[0m \u001b[0mf\u001b[0m\u001b[1;33m.\u001b[0m\u001b[0mreadline\u001b[0m\u001b[1;33m(\u001b[0m\u001b[1;33m)\u001b[0m\u001b[1;33m\u001b[0m\u001b[1;33m\u001b[0m\u001b[0m\n\u001b[0;32m     12\u001b[0m             \u001b[1;32mif\u001b[0m \u001b[0mline\u001b[0m \u001b[1;33m==\u001b[0m \u001b[1;34m''\u001b[0m\u001b[1;33m:\u001b[0m\u001b[1;33m\u001b[0m\u001b[1;33m\u001b[0m\u001b[0m\n\u001b[1;32m---> 13\u001b[1;33m                 \u001b[0mtime\u001b[0m\u001b[1;33m.\u001b[0m\u001b[0msleep\u001b[0m\u001b[1;33m(\u001b[0m\u001b[1;36m0.1\u001b[0m\u001b[1;33m)\u001b[0m     \u001b[1;31m# 짧게 쉬었다가 재시도\u001b[0m\u001b[1;33m\u001b[0m\u001b[1;33m\u001b[0m\u001b[0m\n\u001b[0m\u001b[0;32m     14\u001b[0m                 \u001b[1;32mcontinue\u001b[0m\u001b[1;33m\u001b[0m\u001b[1;33m\u001b[0m\u001b[0m\n\u001b[0;32m     15\u001b[0m             \u001b[1;32myield\u001b[0m \u001b[0mline\u001b[0m\u001b[1;33m\u001b[0m\u001b[1;33m\u001b[0m\u001b[0m\n",
      "\u001b[1;31mKeyboardInterrupt\u001b[0m: "
     ]
    }
   ],
   "source": [
    "# %load ../../test_bed/follow.py\n",
    "# follow.py\n",
    "import os\n",
    "import time\n",
    "\n",
    "def follow(filename):\n",
    "    with open(filename, 'r') as f:\n",
    "        f.seek(0, os.SEEK_END)      # 파일 포인터를 파일의 끝으로부터 0 바이트로 이동\n",
    "\n",
    "        while True:\n",
    "            line = f.readline()\n",
    "            if line == '':\n",
    "                time.sleep(0.1)     # 짧게 쉬었다가 재시도\n",
    "                continue\n",
    "            yield line\n",
    "            \n",
    "if __name__ == '__main__':\n",
    "    import report\n",
    "    \n",
    "    portfolio = report.read_portfolio('../../data/portfolio.csv')\n",
    "    \n",
    "    for line in follow('../../data/stocklog.csv'):\n",
    "        fields = line.split(',')\n",
    "        name = fields[0].strip('\"')\n",
    "        price = float(fields[1])\n",
    "        change = float(fields[4])\n",
    "        if name in portfolio:\n",
    "            print(f'{name:>10s} {price:>10.2f} {change:>10.2f}')\n"
   ]
  },
  {
   "cell_type": "code",
   "execution_count": 57,
   "metadata": {},
   "outputs": [],
   "source": [
    "# %load ../../test_bed/portfolio.py\n",
    "# portfolio.py\n",
    "from collections import Counter\n",
    "\n",
    "class Portfolio:\n",
    "    def __init__(self, holdings):\n",
    "        self._holdings = holdings\n",
    "    \n",
    "    def __iter__(self):\n",
    "        return self._holdings.__iter__()\n",
    "    \n",
    "    def __len__(self):\n",
    "        return len(self._holdings)\n",
    "    \n",
    "    def __getitem__(self, index):\n",
    "        return self._holdings[index]\n",
    "    \n",
    "    def __contains__(self, name):\n",
    "        return any([ s.name == name for s in self._holdings ])\n",
    "    \n",
    "    @property\n",
    "    def total_cost(self):\n",
    "        return sum([ s.cost for s in self._holdings])\n",
    "    \n",
    "    def tabulate_shares(self):\n",
    "        total_shares = Counter()\n",
    "        for s in self._holdings:\n",
    "            total_shares[s.name] += s.shares\n",
    "        return total_shares\n"
   ]
  },
  {
   "attachments": {},
   "cell_type": "markdown",
   "metadata": {},
   "source": [
    "# 6.3 생산자, 소비자, 파이프라인"
   ]
  },
  {
   "cell_type": "code",
   "execution_count": null,
   "metadata": {},
   "outputs": [],
   "source": [
    "# 6.3 생산자, 소비자, 파이프라인\n",
    "# 제너레이터는 생산자/소비자 문제와 데이터 흐름 파이프라인 같은 다양한 문제를 푸는 데 유용한 도구다. 이 섹션은 그에 대해 논의한다.\n"
   ]
  },
  {
   "attachments": {},
   "cell_type": "markdown",
   "metadata": {},
   "source": [
    "## 생산자-소비자 문제"
   ]
  },
  {
   "cell_type": "code",
   "execution_count": null,
   "metadata": {},
   "outputs": [],
   "source": [
    "\n",
    "# 생산자-소비자 문제\n",
    "# -----------------\n",
    "# 제너레이터는 생산자-소비자(producer-consumer) 문제와 밀접한 연관이 있다.\n",
    "\n",
    "# # 생산자\n",
    "# -------\n",
    "# def follow(f):\n",
    "#     ...\n",
    "#     while True:\n",
    "#         ...\n",
    "#         yield line        # 아래 `line`에 값을 생산\n",
    "#         ...\n",
    "\n",
    "# # 소비자\n",
    "# -------\n",
    "# for line in follow(f):    # 위에서 `yield`한 값을 소비\n",
    "#     ...\n",
    "# yield가 생산한 값을 for 문에서 소비한다."
   ]
  },
  {
   "attachments": {},
   "cell_type": "markdown",
   "metadata": {},
   "source": [
    "## 제너레이터 파이프라인"
   ]
  },
  {
   "cell_type": "code",
   "execution_count": null,
   "metadata": {},
   "outputs": [],
   "source": [
    "# 제너레이터 파이프라인\n",
    "# -------------------\n",
    "# 제너레이터의 이러한 측면을 사용해 처리 파이프라인(Unix 파이프 같은 것)을 설정할 수 있다.\n",
    "\n",
    "# 생산자 → 처리 → 처리 → 소비자\n",
    "\n",
    "# 처리 파이프는 초기 데이터 생산자, 중간 처리 단계, 최종 소비자로 이뤄진다.\n",
    "\n",
    "# 생산자 → 처리 → 처리 → 소비자\n",
    "# ---------------------------\n",
    "# def producer():\n",
    "#     ...\n",
    "#     yield item\n",
    "#     ...\n",
    "# 생산자는 일반적으로 제너레이터다. 다른 시퀀스의 리스트가 될 수도 있다. yield는 파이프라인에 데이터를 공급한다.\n",
    "\n",
    "\n",
    "# 생산자 → 처리 → 처리 → 소비자\n",
    "# def consumer(s):\n",
    "#     for item in s:\n",
    "#         ...\n",
    "# 소비자는 for 루프다. 항목을 얻어 무언가를 한다.\n",
    "\n",
    "# 생산자 → 처리 → 처리 → 소비자\n",
    "\n",
    "# def processing(s):\n",
    "#     for item in s:\n",
    "#         ...\n",
    "#         yield newitem\n",
    "#         ...\n",
    "# 중간 처리 단계에서는 항목의 소비와 생산이 동시에 이뤄진다. \n",
    "# 그것들은 데이터 스트림을 수정할 수도 있다. 그것들은 필터링(항목을 버림)을 할 수도 있다.\n",
    "\n",
    "# 생산자 → 처리 → 처리 → 소비자\n",
    "# def producer():\n",
    "#     ...\n",
    "#     yield item          # yield한 item을 `processing`이 받음\n",
    "#     ...\n",
    "\n",
    "# def processing(s):\n",
    "#     for item in s:      # `producer`로부터 온 것\n",
    "#         ...\n",
    "#         yield newitem   # newitem을 yield\n",
    "#         ...\n",
    "\n",
    "# def consumer(s):\n",
    "#     for item in s:      # `processing`으로부터 온 것\n",
    "#         ...\n",
    "\n",
    "# 파이프라인을 설정하는 코드\n",
    "# ------------------------\n",
    "# a = producer()\n",
    "# b = processing(a)\n",
    "# c = consumer(b)\n",
    "# 데이터가 서로 다른 함수들을 통해 점진적으로 흐른다는 것을 알 수 있다."
   ]
  },
  {
   "attachments": {},
   "cell_type": "markdown",
   "metadata": {},
   "source": [
    "## 연습 문제"
   ]
  },
  {
   "cell_type": "code",
   "execution_count": null,
   "metadata": {},
   "outputs": [],
   "source": [
    "# 연습 문제\n",
    "# --------\n",
    "# 이 연습 문제를 위해 stocksim.py 프로그램을 백그라운드에서 계속 실행해야 한다. 이전 연습 문제에서 작성한 follow() 함수를 사용한다."
   ]
  },
  {
   "attachments": {},
   "cell_type": "markdown",
   "metadata": {},
   "source": [
    "### 연습 문제 6.8: 단순한 파이프라인 구성"
   ]
  },
  {
   "cell_type": "code",
   "execution_count": null,
   "metadata": {},
   "outputs": [],
   "source": [
    "# 연습 문제 6.8: 단순한 파이프라인 구성\n",
    "# -----------------------------------\n",
    "# 파이프라인 개념의 실제 구현을 살펴보자. 다음 함수를 작성하라.\n",
    "\n",
    "# >>> def filematch(lines, substr):\n",
    "#         for line in lines:\n",
    "#             if substr in line:\n",
    "#                 yield line\n",
    "\n",
    "# >>>\n",
    "# 이 함수는 지난 연습 문제의 첫 번째 제너레이터 예제와 거의 같지만, 파일을 열지 않고 인자로 \n",
    "# 받은 행들의 시퀀스에 대해서만 연산을 한다. 다음을 시도해 보자.\n",
    "\n",
    "# >>> lines = follow('Data/stocklog.csv')\n",
    "# >>> ibm = filematch(lines, 'IBM')\n",
    "# >>> for line in ibm:\n",
    "#         print(line)\n",
    "\n",
    "# ... 출력을 기다린다 ...\n",
    "# 출력이 나타나는 데 시간이 걸릴 수도 있지만, 결국 IBM의 데이터를 포함하는 행이 나타난다."
   ]
  },
  {
   "cell_type": "code",
   "execution_count": 60,
   "metadata": {},
   "outputs": [
    {
     "name": "stdout",
     "output_type": "stream",
     "text": [
      "\"IBM\",102.78,\"6/11/2007\",\"09:30.17\",-0.29,102.87,102.78,102.77,78308\n",
      "\n",
      "\"IBM\",102.79,\"6/11/2007\",\"09:30.51\",-0.28,102.87,102.79,102.77,87125\n",
      "\n"
     ]
    },
    {
     "ename": "KeyboardInterrupt",
     "evalue": "",
     "output_type": "error",
     "traceback": [
      "\u001b[1;31m---------------------------------------------------------------------------\u001b[0m",
      "\u001b[1;31mKeyboardInterrupt\u001b[0m                         Traceback (most recent call last)",
      "\u001b[1;32m~\\AppData\\Local\\Temp/ipykernel_26788/3781201981.py\u001b[0m in \u001b[0;36m<module>\u001b[1;34m\u001b[0m\n\u001b[0;32m      6\u001b[0m \u001b[0mlines\u001b[0m \u001b[1;33m=\u001b[0m \u001b[0mfollow\u001b[0m\u001b[1;33m(\u001b[0m\u001b[1;34m'../../data/stocklog.csv'\u001b[0m\u001b[1;33m)\u001b[0m\u001b[1;33m\u001b[0m\u001b[1;33m\u001b[0m\u001b[0m\n\u001b[0;32m      7\u001b[0m \u001b[1;33m\u001b[0m\u001b[0m\n\u001b[1;32m----> 8\u001b[1;33m \u001b[0mfilematch\u001b[0m\u001b[1;33m(\u001b[0m\u001b[0mlines\u001b[0m\u001b[1;33m,\u001b[0m \u001b[1;34m'IBM'\u001b[0m\u001b[1;33m)\u001b[0m\u001b[1;33m\u001b[0m\u001b[1;33m\u001b[0m\u001b[0m\n\u001b[0m\u001b[0;32m      9\u001b[0m \u001b[1;33m\u001b[0m\u001b[0m\n",
      "\u001b[1;32m~\\AppData\\Local\\Temp/ipykernel_26788/3781201981.py\u001b[0m in \u001b[0;36mfilematch\u001b[1;34m(lines, substr)\u001b[0m\n\u001b[0;32m      1\u001b[0m \u001b[1;32mdef\u001b[0m \u001b[0mfilematch\u001b[0m\u001b[1;33m(\u001b[0m\u001b[0mlines\u001b[0m\u001b[1;33m,\u001b[0m \u001b[0msubstr\u001b[0m\u001b[1;33m)\u001b[0m\u001b[1;33m:\u001b[0m\u001b[1;33m\u001b[0m\u001b[1;33m\u001b[0m\u001b[0m\n\u001b[1;32m----> 2\u001b[1;33m     \u001b[1;32mfor\u001b[0m \u001b[0mline\u001b[0m \u001b[1;32min\u001b[0m \u001b[0mlines\u001b[0m\u001b[1;33m:\u001b[0m\u001b[1;33m\u001b[0m\u001b[1;33m\u001b[0m\u001b[0m\n\u001b[0m\u001b[0;32m      3\u001b[0m         \u001b[1;32mif\u001b[0m \u001b[0msubstr\u001b[0m \u001b[1;32min\u001b[0m \u001b[0mline\u001b[0m\u001b[1;33m:\u001b[0m\u001b[1;33m\u001b[0m\u001b[1;33m\u001b[0m\u001b[0m\n\u001b[0;32m      4\u001b[0m             \u001b[0mprint\u001b[0m\u001b[1;33m(\u001b[0m\u001b[0mline\u001b[0m\u001b[1;33m)\u001b[0m\u001b[1;33m\u001b[0m\u001b[1;33m\u001b[0m\u001b[0m\n\u001b[0;32m      5\u001b[0m \u001b[1;33m\u001b[0m\u001b[0m\n",
      "\u001b[1;32m~\\AppData\\Local\\Temp/ipykernel_26788/4278607356.py\u001b[0m in \u001b[0;36mfollow\u001b[1;34m(filename)\u001b[0m\n\u001b[0;32m     11\u001b[0m             \u001b[0mline\u001b[0m \u001b[1;33m=\u001b[0m \u001b[0mf\u001b[0m\u001b[1;33m.\u001b[0m\u001b[0mreadline\u001b[0m\u001b[1;33m(\u001b[0m\u001b[1;33m)\u001b[0m\u001b[1;33m\u001b[0m\u001b[1;33m\u001b[0m\u001b[0m\n\u001b[0;32m     12\u001b[0m             \u001b[1;32mif\u001b[0m \u001b[0mline\u001b[0m \u001b[1;33m==\u001b[0m \u001b[1;34m''\u001b[0m\u001b[1;33m:\u001b[0m\u001b[1;33m\u001b[0m\u001b[1;33m\u001b[0m\u001b[0m\n\u001b[1;32m---> 13\u001b[1;33m                 \u001b[0mtime\u001b[0m\u001b[1;33m.\u001b[0m\u001b[0msleep\u001b[0m\u001b[1;33m(\u001b[0m\u001b[1;36m0.1\u001b[0m\u001b[1;33m)\u001b[0m     \u001b[1;31m# 짧게 쉬었다가 재시도\u001b[0m\u001b[1;33m\u001b[0m\u001b[1;33m\u001b[0m\u001b[0m\n\u001b[0m\u001b[0;32m     14\u001b[0m                 \u001b[1;32mcontinue\u001b[0m\u001b[1;33m\u001b[0m\u001b[1;33m\u001b[0m\u001b[0m\n\u001b[0;32m     15\u001b[0m             \u001b[1;32myield\u001b[0m \u001b[0mline\u001b[0m\u001b[1;33m\u001b[0m\u001b[1;33m\u001b[0m\u001b[0m\n",
      "\u001b[1;31mKeyboardInterrupt\u001b[0m: "
     ]
    }
   ],
   "source": [
    "def filematch(lines, substr):\n",
    "    for line in lines:\n",
    "        if substr in line:\n",
    "            print(line)\n",
    "            \n",
    "lines = follow('../../data/stocklog.csv')\n",
    "\n",
    "filematch(lines, 'IBM')\n",
    "            "
   ]
  },
  {
   "attachments": {},
   "cell_type": "markdown",
   "metadata": {},
   "source": [
    "### 연습 문제 6.9: 좀 더 복잡한 파이프라인 구성"
   ]
  },
  {
   "cell_type": "code",
   "execution_count": null,
   "metadata": {},
   "outputs": [],
   "source": [
    "# 연습 문제 6.9: 좀 더 복잡한 파이프라인 구성\n",
    "# ----------------------------------------\n",
    "# 파이프라인의 아이디어를 발전시켜서 더 많은 작업을 수행해 보자.\n",
    "\n",
    "# >>> from follow import follow\n",
    "# >>> import csv\n",
    "# >>> lines = follow('Data/stocklog.csv')\n",
    "# >>> rows = csv.reader(lines)\n",
    "# >>> for row in rows:\n",
    "#         print(row)\n",
    "\n",
    "# ['BA', '98.35', '6/11/2007', '09:41.07', '0.16', '98.25', '98.35', '98.31', '158148']\n",
    "# ['AA', '39.63', '6/11/2007', '09:41.07', '-0.03', '39.67', '39.63', '39.31', '270224']\n",
    "# ['XOM', '82.45', '6/11/2007', '09:41.07', '-0.23', '82.68', '82.64', '82.41', '748062']\n",
    "# ['PG', '62.95', '6/11/2007', '09:41.08', '-0.12', '62.80', '62.97', '62.61', '454327']\n",
    "# ...\n",
    "# 흥미롭다. follow() 함수의 출력이 csv.reader() 함수로 전달되어 행이 분할된 것을 볼 수 있다."
   ]
  },
  {
   "cell_type": "code",
   "execution_count": 63,
   "metadata": {},
   "outputs": [
    {
     "name": "stdout",
     "output_type": "stream",
     "text": [
      "['IBM', '102.87', '6/11/2007', '09:35.17', '-0.20', '102.87', '102.87', '102.77', '156108']\n",
      "['MO', '70.11', '6/11/2007', '09:35.18', '-0.19', '70.25', '70.30', '70.11', '458529']\n",
      "['MRK', '50.15', '6/11/2007', '09:35.18', '0.01', '50.30', '50.15', '49.66', '1430059']\n",
      "['CAT', '78.26', '6/11/2007', '09:35.19', '-0.26', '78.32', '78.26', '77.99', '219008']\n",
      "['HPQ', '45.79', '6/11/2007', '09:35.19', '0.09', '45.80', '45.79', '45.59', '282460']\n",
      "['XOM', '82.51', '6/11/2007', '09:35.21', '-0.17', '82.68', '82.64', '82.51', '444751']\n"
     ]
    },
    {
     "ename": "KeyboardInterrupt",
     "evalue": "",
     "output_type": "error",
     "traceback": [
      "\u001b[1;31m---------------------------------------------------------------------------\u001b[0m",
      "\u001b[1;31mKeyboardInterrupt\u001b[0m                         Traceback (most recent call last)",
      "\u001b[1;32m~\\AppData\\Local\\Temp/ipykernel_26788/2276073904.py\u001b[0m in \u001b[0;36m<module>\u001b[1;34m\u001b[0m\n\u001b[0;32m      4\u001b[0m \u001b[0mlines\u001b[0m \u001b[1;33m=\u001b[0m \u001b[0mfollow\u001b[0m\u001b[1;33m(\u001b[0m\u001b[1;34m'../../data/stocklog.csv'\u001b[0m\u001b[1;33m)\u001b[0m\u001b[1;33m\u001b[0m\u001b[1;33m\u001b[0m\u001b[0m\n\u001b[0;32m      5\u001b[0m \u001b[0mrows\u001b[0m \u001b[1;33m=\u001b[0m \u001b[0mcsv\u001b[0m\u001b[1;33m.\u001b[0m\u001b[0mreader\u001b[0m\u001b[1;33m(\u001b[0m\u001b[0mlines\u001b[0m\u001b[1;33m)\u001b[0m\u001b[1;33m\u001b[0m\u001b[1;33m\u001b[0m\u001b[0m\n\u001b[1;32m----> 6\u001b[1;33m \u001b[1;32mfor\u001b[0m \u001b[0mrow\u001b[0m \u001b[1;32min\u001b[0m \u001b[0mrows\u001b[0m\u001b[1;33m:\u001b[0m\u001b[1;33m\u001b[0m\u001b[1;33m\u001b[0m\u001b[0m\n\u001b[0m\u001b[0;32m      7\u001b[0m     \u001b[0mprint\u001b[0m\u001b[1;33m(\u001b[0m\u001b[0mrow\u001b[0m\u001b[1;33m)\u001b[0m\u001b[1;33m\u001b[0m\u001b[1;33m\u001b[0m\u001b[0m\n",
      "\u001b[1;32mc:\\Users\\USER\\Quick_Ref\\Programming\\Python\\Python 중급\\실용 파이썬 프로그래밍\\../../test_bed\\follow.py\u001b[0m in \u001b[0;36mfollow\u001b[1;34m(filename)\u001b[0m\n\u001b[0;32m     10\u001b[0m             \u001b[0mline\u001b[0m \u001b[1;33m=\u001b[0m \u001b[0mf\u001b[0m\u001b[1;33m.\u001b[0m\u001b[0mreadline\u001b[0m\u001b[1;33m(\u001b[0m\u001b[1;33m)\u001b[0m\u001b[1;33m\u001b[0m\u001b[1;33m\u001b[0m\u001b[0m\n\u001b[0;32m     11\u001b[0m             \u001b[1;32mif\u001b[0m \u001b[0mline\u001b[0m \u001b[1;33m==\u001b[0m \u001b[1;34m''\u001b[0m\u001b[1;33m:\u001b[0m\u001b[1;33m\u001b[0m\u001b[1;33m\u001b[0m\u001b[0m\n\u001b[1;32m---> 12\u001b[1;33m                 \u001b[0mtime\u001b[0m\u001b[1;33m.\u001b[0m\u001b[0msleep\u001b[0m\u001b[1;33m(\u001b[0m\u001b[1;36m0.1\u001b[0m\u001b[1;33m)\u001b[0m     \u001b[1;31m# 짧게 쉬었다가 재시도\u001b[0m\u001b[1;33m\u001b[0m\u001b[1;33m\u001b[0m\u001b[0m\n\u001b[0m\u001b[0;32m     13\u001b[0m                 \u001b[1;32mcontinue\u001b[0m\u001b[1;33m\u001b[0m\u001b[1;33m\u001b[0m\u001b[0m\n\u001b[0;32m     14\u001b[0m             \u001b[1;32myield\u001b[0m \u001b[0mline\u001b[0m\u001b[1;33m\u001b[0m\u001b[1;33m\u001b[0m\u001b[0m\n",
      "\u001b[1;31mKeyboardInterrupt\u001b[0m: "
     ]
    }
   ],
   "source": [
    "from follow import follow\n",
    "import csv\n",
    "\n",
    "lines = follow('../../data/stocklog.csv')\n",
    "rows = csv.reader(lines)\n",
    "for row in rows:\n",
    "    print(row)"
   ]
  },
  {
   "attachments": {},
   "cell_type": "markdown",
   "metadata": {},
   "source": [
    "### 연습 문제 6.10: 더 큰 파이프라인 컴포넌트"
   ]
  },
  {
   "cell_type": "code",
   "execution_count": null,
   "metadata": {},
   "outputs": [],
   "source": [
    "# 연습 문제 6.10: 더 큰 파이프라인 컴포넌트\n",
    "# ---------------------------------------\n",
    "# 파이프라인을 더 키워보자. 별도의 파일 ticker.py에 CSV 파일을 읽는 함수를 생성한다.\n",
    "\n",
    "# # ticker.py\n",
    "\n",
    "# from follow import follow\n",
    "# import csv\n",
    "\n",
    "# def parse_stock_data(lines):\n",
    "#     rows = csv.reader(lines)\n",
    "#     return rows\n",
    "\n",
    "# if __name__ == '__main__':\n",
    "#     lines = follow('Data/stocklog.csv')\n",
    "#     rows = parse_stock_data(lines)\n",
    "#     for row in rows:\n",
    "#         print(row)"
   ]
  },
  {
   "cell_type": "code",
   "execution_count": 76,
   "metadata": {},
   "outputs": [
    {
     "name": "stdout",
     "output_type": "stream",
     "text": [
      "['AXP', '62.70', '6/11/2007', '10:15.07', '-0.34', '62.79', '62.99', '62.38', '1207879']\n",
      "['BA', '98.31', '6/11/2007', '10:15.14', '0.12', '98.25', '98.73', '98.31', '368799']\n",
      "['MMM', '85.68', '6/11/2007', '10:15.14', '-0.26', '85.94', '85.78', '85.45', '437105']\n",
      "['XOM', '82.82', '6/11/2007', '10:15.15', '0.14', '82.68', '83.02', '82.41', '1921944']\n"
     ]
    },
    {
     "ename": "KeyboardInterrupt",
     "evalue": "",
     "output_type": "error",
     "traceback": [
      "\u001b[1;31m---------------------------------------------------------------------------\u001b[0m",
      "\u001b[1;31mKeyboardInterrupt\u001b[0m                         Traceback (most recent call last)",
      "\u001b[1;32m~\\AppData\\Local\\Temp/ipykernel_26788/701149703.py\u001b[0m in \u001b[0;36m<module>\u001b[1;34m\u001b[0m\n\u001b[0;32m     12\u001b[0m     \u001b[0mlines\u001b[0m \u001b[1;33m=\u001b[0m \u001b[0mfollow\u001b[0m\u001b[1;33m(\u001b[0m\u001b[1;34m'../../data/stocklog.csv'\u001b[0m\u001b[1;33m)\u001b[0m           \u001b[1;31m# 생산자\u001b[0m\u001b[1;33m\u001b[0m\u001b[1;33m\u001b[0m\u001b[0m\n\u001b[0;32m     13\u001b[0m     \u001b[0mrows\u001b[0m \u001b[1;33m=\u001b[0m \u001b[0mparse_stock_data\u001b[0m\u001b[1;33m(\u001b[0m\u001b[0mlines\u001b[0m\u001b[1;33m)\u001b[0m                      \u001b[1;31m# 처리자\u001b[0m\u001b[1;33m\u001b[0m\u001b[1;33m\u001b[0m\u001b[0m\n\u001b[1;32m---> 14\u001b[1;33m     \u001b[1;32mfor\u001b[0m \u001b[0mrow\u001b[0m \u001b[1;32min\u001b[0m \u001b[0mrows\u001b[0m\u001b[1;33m:\u001b[0m                                    \u001b[1;31m# 소비자\u001b[0m\u001b[1;33m\u001b[0m\u001b[1;33m\u001b[0m\u001b[0m\n\u001b[0m\u001b[0;32m     15\u001b[0m         \u001b[0mprint\u001b[0m\u001b[1;33m(\u001b[0m\u001b[0mrow\u001b[0m\u001b[1;33m)\u001b[0m\u001b[1;33m\u001b[0m\u001b[1;33m\u001b[0m\u001b[0m\n",
      "\u001b[1;32mc:\\Users\\USER\\Quick_Ref\\Programming\\Python\\Python 중급\\실용 파이썬 프로그래밍\\../../test_bed\\follow.py\u001b[0m in \u001b[0;36mfollow\u001b[1;34m(filename)\u001b[0m\n\u001b[0;32m     10\u001b[0m             \u001b[0mline\u001b[0m \u001b[1;33m=\u001b[0m \u001b[0mf\u001b[0m\u001b[1;33m.\u001b[0m\u001b[0mreadline\u001b[0m\u001b[1;33m(\u001b[0m\u001b[1;33m)\u001b[0m\u001b[1;33m\u001b[0m\u001b[1;33m\u001b[0m\u001b[0m\n\u001b[0;32m     11\u001b[0m             \u001b[1;32mif\u001b[0m \u001b[0mline\u001b[0m \u001b[1;33m==\u001b[0m \u001b[1;34m''\u001b[0m\u001b[1;33m:\u001b[0m\u001b[1;33m\u001b[0m\u001b[1;33m\u001b[0m\u001b[0m\n\u001b[1;32m---> 12\u001b[1;33m                 \u001b[0mtime\u001b[0m\u001b[1;33m.\u001b[0m\u001b[0msleep\u001b[0m\u001b[1;33m(\u001b[0m\u001b[1;36m0.1\u001b[0m\u001b[1;33m)\u001b[0m     \u001b[1;31m# 짧게 쉬었다가 재시도\u001b[0m\u001b[1;33m\u001b[0m\u001b[1;33m\u001b[0m\u001b[0m\n\u001b[0m\u001b[0;32m     13\u001b[0m                 \u001b[1;32mcontinue\u001b[0m\u001b[1;33m\u001b[0m\u001b[1;33m\u001b[0m\u001b[0m\n\u001b[0;32m     14\u001b[0m             \u001b[1;32myield\u001b[0m \u001b[0mline\u001b[0m\u001b[1;33m\u001b[0m\u001b[1;33m\u001b[0m\u001b[0m\n",
      "\u001b[1;31mKeyboardInterrupt\u001b[0m: "
     ]
    }
   ],
   "source": [
    "#%%writefile ../../test_bed/ticker.py\n",
    "# ticker.py\n",
    "\n",
    "from follow import follow\n",
    "import csv\n",
    "\n",
    "def parse_stock_data(lines):\n",
    "    rows = csv.reader(lines)\n",
    "    return rows\n",
    "\n",
    "if __name__ == '__main__':\n",
    "    lines = follow('../../data/stocklog.csv')           # 생산자\n",
    "    rows = parse_stock_data(lines)                      # 처리자\n",
    "    for row in rows:                                    # 소비자\n",
    "        print(row)"
   ]
  },
  {
   "cell_type": "code",
   "execution_count": null,
   "metadata": {},
   "outputs": [],
   "source": [
    "# 특정 컬럼을 선택하는 함수를 새로 작성한다.\n",
    "\n",
    "# # ticker.py\n",
    "# ...\n",
    "# def select_columns(rows, indices):\n",
    "#     for row in rows:\n",
    "#         yield [row[index] for index in indices]\n",
    "# ...\n",
    "# def parse_stock_data(lines):\n",
    "#     rows = csv.reader(lines)\n",
    "#     rows = select_columns(rows, [0, 1, 4])\n",
    "#     return rows\n",
    "# 프로그램을 다시 실행하자. 선택한 컬럼만 출력된다.\n",
    "\n",
    "# ['BA', '98.35', '0.16']\n",
    "# ['AA', '39.63', '-0.03']\n",
    "# ['XOM', '82.45','-0.23']\n",
    "# ['PG', '62.95', '-0.12']\n",
    "# ...\n"
   ]
  },
  {
   "cell_type": "code",
   "execution_count": 3,
   "metadata": {},
   "outputs": [
    {
     "name": "stdout",
     "output_type": "stream",
     "text": [
      "Overwriting ../../test_bed/ticker.py\n"
     ]
    }
   ],
   "source": [
    "%%writefile ../../test_bed/ticker.py\n",
    "# ticker.py\n",
    "\n",
    "from follow import follow\n",
    "import csv\n",
    "\n",
    "def select_columns(rows, indices):\n",
    "    for row in rows:\n",
    "        yield [ row[index] for index in indices ]\n",
    "    \n",
    "def parse_stock_data(lines):\n",
    "    rows = csv.reader(lines)\n",
    "    rows = select_columns(rows, [0, 1, 4])\n",
    "    return rows\n",
    "\n",
    "if __name__ == '__main__':\n",
    "    lines = follow('../../data/stocklog.csv')           # 생산자\n",
    "    rows = parse_stock_data(lines)                      # 처리자\n",
    "    for row in rows:                                    # 소비자\n",
    "        print(row)\n"
   ]
  },
  {
   "cell_type": "code",
   "execution_count": null,
   "metadata": {},
   "outputs": [],
   "source": [
    "# 자료형을 변환해 딕셔너리를 만드는 제너레이터 함수를 작성하자. 예:\n",
    "\n",
    "# # ticker.py\n",
    "# ...\n",
    "\n",
    "# def convert_types(rows, types):\n",
    "#     for row in rows:\n",
    "#         yield [func(val) for func, val in zip(types, row)]\n",
    "\n",
    "# def make_dicts(rows, headers):\n",
    "#     for row in rows:\n",
    "#         yield dict(zip(headers, row))\n",
    "# ...\n",
    "# def parse_stock_data(lines):\n",
    "#     rows = csv.reader(lines)\n",
    "#     rows = select_columns(rows, [0, 1, 4])\n",
    "#     rows = convert_types(rows, [str, float, float])\n",
    "#     rows = make_dicts(rows, ['name', 'price', 'change'])\n",
    "#     return rows\n",
    "# ...\n",
    "# 프로그램을 다시 실행하자. 다음과 같이 딕셔너리를 스트리밍하게 됐다.\n",
    "\n",
    "# { 'name':'BA', 'price':98.35, 'change':0.16 }\n",
    "# { 'name':'AA', 'price':39.63, 'change':-0.03 }\n",
    "# { 'name':'XOM', 'price':82.45, 'change': -0.23 }\n",
    "# { 'name':'PG', 'price':62.95, 'change':-0.12 }\n",
    "# ..."
   ]
  },
  {
   "cell_type": "code",
   "execution_count": 1,
   "metadata": {},
   "outputs": [],
   "source": [
    "import sys\n",
    "sys.path.append('../../test_bed')"
   ]
  },
  {
   "cell_type": "code",
   "execution_count": null,
   "metadata": {},
   "outputs": [],
   "source": [
    "from follow import follow \n",
    "import csv\n",
    "from ticker import parse_stock_data\n",
    "\n",
    "if __name__ == '__main__':\n",
    "    lines = follow('../../data/stocklog.csv')       # 생산자\n",
    "    rows = parse_stock_data(lines)\n",
    "    for row in rows:\n",
    "        print(row)        "
   ]
  },
  {
   "cell_type": "code",
   "execution_count": 12,
   "metadata": {},
   "outputs": [
    {
     "name": "stdout",
     "output_type": "stream",
     "text": [
      "Overwriting ../../test_bed/ticker.py\n"
     ]
    }
   ],
   "source": [
    "%%writefile ../../test_bed/ticker.py\n",
    "# ticker.py\n",
    "\n",
    "from follow import follow\n",
    "import csv\n",
    "\n",
    "def select_columns(rows, indices):\n",
    "    for row in rows:\n",
    "        yield [ row[index] for index in indices ]\n",
    "\n",
    "\n",
    "def convert_types(rows, types):\n",
    "    for row in rows:\n",
    "        yield [ func(val) for func, val in zip(types, row) ]\n",
    "    \n",
    "\n",
    "def make_dict(rows, headers):\n",
    "    for row in rows:\n",
    "        yield dict(zip(headers, row))\n",
    "    \n",
    "    \n",
    "def parse_stock_data(lines):\n",
    "    rows = csv.reader(lines)\n",
    "    rows = select_columns(rows, [0, 1, 4])\n",
    "    rows = convert_types(rows, [str, float, float])\n",
    "    rows = make_dict(rows, ['name','price', 'change'])\n",
    "    return rows\n",
    "\n",
    "\n",
    "if __name__ == '__main__':\n",
    "    lines = follow('../../data/stocklog.csv')           # 생산자\n",
    "    rows = parse_stock_data(lines)                      # 처리자\n",
    "    for row in rows:                                    # 소비자\n",
    "        print(row)\n"
   ]
  },
  {
   "attachments": {},
   "cell_type": "markdown",
   "metadata": {},
   "source": [
    "### 연습 문제 6.11: 데이터를 필터링하기"
   ]
  },
  {
   "cell_type": "code",
   "execution_count": null,
   "metadata": {},
   "outputs": [],
   "source": [
    "# 연습 문제 6.11: 데이터를 필터링하기\n",
    "# ---------------------------------\n",
    "# 데이터를 필터링하는 함수를 작성하자. 예:\n",
    "\n",
    "# # ticker.py\n",
    "# ...\n",
    "\n",
    "# def filter_symbols(rows, names):\n",
    "#     for row in rows:\n",
    "#         if row['name'] in names:\n",
    "#             yield row\n",
    "# 이것을 사용해 포트폴리오에 있는 주식만 나오게 해보자.\n",
    "\n",
    "# import report\n",
    "# portfolio = report.read_portfolio('Data/portfolio.csv')\n",
    "# rows = parse_stock_data(follow('Data/stocklog.csv'))\n",
    "# rows = filter_symbols(rows, portfolio)\n",
    "# for row in rows:\n",
    "#     print(row)"
   ]
  },
  {
   "cell_type": "code",
   "execution_count": 24,
   "metadata": {},
   "outputs": [
    {
     "name": "stdout",
     "output_type": "stream",
     "text": [
      "Overwriting ../../test_bed/ticker.py\n"
     ]
    }
   ],
   "source": [
    "%%writefile ../../test_bed/ticker.py\n",
    "# ticker.py\n",
    "\n",
    "import csv\n",
    "import report\n",
    "import tableformat\n",
    "from follow import follow\n",
    "import time\n",
    "\n",
    "\n",
    "def select_columns(rows, indices):\n",
    "    for row in rows:\n",
    "        yield [ row[index] for index in indices ]\n",
    "\n",
    "\n",
    "def convert_types(rows, types):\n",
    "    for row in rows:\n",
    "        yield [ func(val) for func, val in zip(types, row) ]\n",
    "    \n",
    "\n",
    "def make_dict(rows, headers):\n",
    "    for row in rows:\n",
    "        yield dict(zip(headers, row))\n",
    "        \n",
    "        \n",
    "def parse_stock_data(lines):\n",
    "    rows = csv.reader(lines)\n",
    "    rows = select_columns(rows, [0, 1, 4])\n",
    "    rows = convert_types(rows, [str, float, float])\n",
    "    rows = make_dict(rows, ['name','price', 'change'])\n",
    "    return rows\n",
    "\n",
    "\n",
    "def filter_symbols(rows, names):\n",
    "    for row in rows:\n",
    "        if row['name'] in names:\n",
    "            yield row\n",
    "\n",
    "        # if any([ name.name == row['name'] for name in names ]):\n",
    "        #     yield row\n",
    "\n",
    "\n",
    "if __name__ == '__main__':\n",
    "    portfolio = report.read_portfolio('../../data/portfolio.csv')\n",
    "    rows = parse_stock_data(follow('../../data/stocklog.csv'))             # 생산자/처리자\n",
    "    rows = filter_symbols(rows, portfolio)\n",
    "    for row in rows:                                                        # 소비자\n",
    "        print(row)\n"
   ]
  },
  {
   "attachments": {},
   "cell_type": "markdown",
   "metadata": {},
   "source": [
    "### 연습 문제 6.12: 모두 합치기"
   ]
  },
  {
   "cell_type": "code",
   "execution_count": null,
   "metadata": {},
   "outputs": [],
   "source": [
    "# 연습 문제 6.12: 모두 합치기\n",
    "# --------------------------\n",
    "# 주어진 포트폴리오, 로그 파일, 표 형식대로 실시간 주식 티커를 생성하는 ticker(portfile, logfile, fmt) \n",
    "# 함수를 ticker.py 프로그램에 작성한다. 예:\n",
    "\n",
    "# >>> from ticker import ticker\n",
    "# >>> ticker('Data/portfolio.csv', 'Data/stocklog.csv', 'txt')\n",
    "#       Name      Price     Change\n",
    "# ---------- ---------- ----------\n",
    "#         GE      37.14      -0.18\n",
    "#       MSFT      29.96      -0.09\n",
    "#        CAT      78.03      -0.49\n",
    "#         AA      39.34      -0.32\n",
    "# ...\n",
    "\n",
    "# >>> ticker('Data/portfolio.csv', 'Data/stocklog.csv', 'csv')\n",
    "# Name,Price,Change\n",
    "# IBM,102.79,-0.28\n",
    "# CAT,78.04,-0.48\n",
    "# AA,39.35,-0.31\n",
    "# CAT,78.05,-0.47\n",
    "# ...\n",
    "\n",
    "\n",
    "# 논의\n",
    "# ----\n",
    "# 배운 것: 다양한 제너레이터 함수를 생성할 수 있으며 그것들을 함께 엮어서 데이터 흐름 파이프라인 처리를 수행할 수 있다. \n",
    "# 또한, 파이프라인의 단계들을 패키징하는 함수를 작성해 단일 함수로 호출할 수 있다(예: parse_stock_data() 함수)."
   ]
  },
  {
   "cell_type": "code",
   "execution_count": 3,
   "metadata": {},
   "outputs": [
    {
     "name": "stdout",
     "output_type": "stream",
     "text": [
      "Overwriting ../../test_bed/ticker.py\n"
     ]
    }
   ],
   "source": [
    "%%writefile ../../test_bed/ticker.py\n",
    "# ticker.py\n",
    "\n",
    "from follow import follow\n",
    "import csv\n",
    "import report\n",
    "import tableformat\n",
    "\n",
    "def select_columns(rows, indices):\n",
    "    for row in rows:\n",
    "        yield [ row[index] for index in indices ]\n",
    "\n",
    "\n",
    "def convert_types(rows, types):\n",
    "    for row in rows:\n",
    "        yield [ func(val) for func, val in zip(types, row) ]\n",
    "    \n",
    "\n",
    "def make_dict(rows, headers):\n",
    "    for row in rows:\n",
    "        yield dict(zip(headers, row))\n",
    "        \n",
    "\n",
    "def parse_stock_data(lines):\n",
    "    rows = csv.reader(lines)\n",
    "    rows = select_columns(rows, [0, 1, 4])\n",
    "    rows = convert_types(rows, [str, float, float])\n",
    "    rows = make_dict(rows, ['name','price', 'change'])\n",
    "    return rows\n",
    "\n",
    "\n",
    "def filter_symbols(rows, names):\n",
    "    for row in rows:\n",
    "        if row['name'] in names:\n",
    "            yield row\n",
    "\n",
    "        # if any([ name.name == row['name'] for name in names ]):\n",
    "        #     yield row\n",
    "\n",
    "\n",
    "def ticker(portfile, logfile, fmt):\n",
    "    portfolio = report.read_portfolio(portfile)\n",
    "    rows = parse_stock_data(follow(logfile))             # 생산자/처리자\n",
    "    rows = filter_symbols(rows, portfolio)\n",
    "    formatter = tableformat.create_formatter(fmt)\n",
    "    formatter.headings(['Name','Price','Change'])\n",
    "    for row in rows:\n",
    "        formatter.row([ row['name'], f\"{row['price']:>10.2f} {row['change']:>10.2f}\" ])\n",
    "    \n",
    "\n",
    "def main(args):\n",
    "    if len(args) != 4:\n",
    "        raise SystemExit('Usage: %s portfile pricefile' % args[0])\n",
    "    \n",
    "    ticker(args[1], args[2], args[3])\n",
    "\n",
    "\n",
    "rows = ticker('../../data/portfolio.csv', '../../data/stocklog.csv', 'txt')    \n",
    "\n",
    "\n",
    "if __name__ == '__main__':\n",
    "    import sys\n",
    "    main(sys.argv)            "
   ]
  },
  {
   "cell_type": "code",
   "execution_count": 1,
   "metadata": {},
   "outputs": [],
   "source": [
    "import sys\n",
    "sys.path.append('../../test_bed')"
   ]
  },
  {
   "cell_type": "code",
   "execution_count": null,
   "metadata": {},
   "outputs": [],
   "source": [
    "from ticker import ticker\n",
    "rows = ticker('../../data/portfolio.csv', '../../data/stocklog.csv', 'txt')"
   ]
  },
  {
   "cell_type": "code",
   "execution_count": 2,
   "metadata": {},
   "outputs": [
    {
     "name": "stdout",
     "output_type": "stream",
     "text": [
      "      Name      Price     Change \n",
      "---------- ---------- ---------- \n"
     ]
    },
    {
     "ename": "KeyboardInterrupt",
     "evalue": "",
     "output_type": "error",
     "traceback": [
      "\u001b[1;31m---------------------------------------------------------------------------\u001b[0m",
      "\u001b[1;31mKeyboardInterrupt\u001b[0m                         Traceback (most recent call last)",
      "\u001b[1;32m~\\AppData\\Local\\Temp/ipykernel_40848/405563610.py\u001b[0m in \u001b[0;36m<module>\u001b[1;34m\u001b[0m\n\u001b[1;32m----> 1\u001b[1;33m \u001b[1;32mfrom\u001b[0m \u001b[0mticker\u001b[0m \u001b[1;32mimport\u001b[0m \u001b[0mticker\u001b[0m\u001b[1;33m\u001b[0m\u001b[1;33m\u001b[0m\u001b[0m\n\u001b[0m\u001b[0;32m      2\u001b[0m \u001b[0mrows\u001b[0m \u001b[1;33m=\u001b[0m \u001b[0mticker\u001b[0m\u001b[1;33m(\u001b[0m\u001b[1;34m'../../data/portfolio.csv'\u001b[0m\u001b[1;33m,\u001b[0m \u001b[1;34m'../../data/stocklog.csv'\u001b[0m\u001b[1;33m,\u001b[0m \u001b[1;34m'csv'\u001b[0m\u001b[1;33m)\u001b[0m\u001b[1;33m\u001b[0m\u001b[1;33m\u001b[0m\u001b[0m\n",
      "\u001b[1;32mc:\\Users\\USER\\Quick_Ref\\Programming\\Python\\Python 중급\\실용 파이썬 프로그래밍\\../../test_bed\\ticker.py\u001b[0m in \u001b[0;36m<module>\u001b[1;34m\u001b[0m\n\u001b[0;32m     55\u001b[0m \u001b[1;33m\u001b[0m\u001b[0m\n\u001b[0;32m     56\u001b[0m \u001b[1;33m\u001b[0m\u001b[0m\n\u001b[1;32m---> 57\u001b[1;33m \u001b[0mrows\u001b[0m \u001b[1;33m=\u001b[0m \u001b[0mticker\u001b[0m\u001b[1;33m(\u001b[0m\u001b[1;34m'../../data/portfolio.csv'\u001b[0m\u001b[1;33m,\u001b[0m \u001b[1;34m'../../data/stocklog.csv'\u001b[0m\u001b[1;33m,\u001b[0m \u001b[1;34m'txt'\u001b[0m\u001b[1;33m)\u001b[0m\u001b[1;33m\u001b[0m\u001b[1;33m\u001b[0m\u001b[0m\n\u001b[0m\u001b[0;32m     58\u001b[0m \u001b[1;33m\u001b[0m\u001b[0m\n\u001b[0;32m     59\u001b[0m \u001b[1;33m\u001b[0m\u001b[0m\n",
      "\u001b[1;32mc:\\Users\\USER\\Quick_Ref\\Programming\\Python\\Python 중급\\실용 파이썬 프로그래밍\\../../test_bed\\ticker.py\u001b[0m in \u001b[0;36mticker\u001b[1;34m(portfile, logfile, fmt)\u001b[0m\n\u001b[0;32m     44\u001b[0m     \u001b[0mformatter\u001b[0m \u001b[1;33m=\u001b[0m \u001b[0mtableformat\u001b[0m\u001b[1;33m.\u001b[0m\u001b[0mcreate_formatter\u001b[0m\u001b[1;33m(\u001b[0m\u001b[0mfmt\u001b[0m\u001b[1;33m)\u001b[0m\u001b[1;33m\u001b[0m\u001b[1;33m\u001b[0m\u001b[0m\n\u001b[0;32m     45\u001b[0m     \u001b[0mformatter\u001b[0m\u001b[1;33m.\u001b[0m\u001b[0mheadings\u001b[0m\u001b[1;33m(\u001b[0m\u001b[1;33m[\u001b[0m\u001b[1;34m'Name'\u001b[0m\u001b[1;33m,\u001b[0m\u001b[1;34m'Price'\u001b[0m\u001b[1;33m,\u001b[0m\u001b[1;34m'Change'\u001b[0m\u001b[1;33m]\u001b[0m\u001b[1;33m)\u001b[0m\u001b[1;33m\u001b[0m\u001b[1;33m\u001b[0m\u001b[0m\n\u001b[1;32m---> 46\u001b[1;33m     \u001b[1;32mfor\u001b[0m \u001b[0mrow\u001b[0m \u001b[1;32min\u001b[0m \u001b[0mrows\u001b[0m\u001b[1;33m:\u001b[0m\u001b[1;33m\u001b[0m\u001b[1;33m\u001b[0m\u001b[0m\n\u001b[0m\u001b[0;32m     47\u001b[0m         \u001b[0mformatter\u001b[0m\u001b[1;33m.\u001b[0m\u001b[0mrow\u001b[0m\u001b[1;33m(\u001b[0m\u001b[1;33m[\u001b[0m \u001b[0mrow\u001b[0m\u001b[1;33m[\u001b[0m\u001b[1;34m'name'\u001b[0m\u001b[1;33m]\u001b[0m\u001b[1;33m,\u001b[0m \u001b[1;34mf\"{row['price']:0.2f}\"\u001b[0m\u001b[1;33m,\u001b[0m \u001b[1;34mf\"{row['change']:0.2f}\"\u001b[0m\u001b[1;33m]\u001b[0m \u001b[1;33m)\u001b[0m\u001b[1;33m\u001b[0m\u001b[1;33m\u001b[0m\u001b[0m\n\u001b[0;32m     48\u001b[0m \u001b[1;33m\u001b[0m\u001b[0m\n",
      "\u001b[1;32mc:\\Users\\USER\\Quick_Ref\\Programming\\Python\\Python 중급\\실용 파이썬 프로그래밍\\../../test_bed\\ticker.py\u001b[0m in \u001b[0;36mfilter_symbols\u001b[1;34m(rows, names)\u001b[0m\n\u001b[0;32m     30\u001b[0m \u001b[1;33m\u001b[0m\u001b[0m\n\u001b[0;32m     31\u001b[0m \u001b[1;32mdef\u001b[0m \u001b[0mfilter_symbols\u001b[0m\u001b[1;33m(\u001b[0m\u001b[0mrows\u001b[0m\u001b[1;33m,\u001b[0m \u001b[0mnames\u001b[0m\u001b[1;33m)\u001b[0m\u001b[1;33m:\u001b[0m\u001b[1;33m\u001b[0m\u001b[1;33m\u001b[0m\u001b[0m\n\u001b[1;32m---> 32\u001b[1;33m     \u001b[1;32mfor\u001b[0m \u001b[0mrow\u001b[0m \u001b[1;32min\u001b[0m \u001b[0mrows\u001b[0m\u001b[1;33m:\u001b[0m\u001b[1;33m\u001b[0m\u001b[1;33m\u001b[0m\u001b[0m\n\u001b[0m\u001b[0;32m     33\u001b[0m         \u001b[1;32mif\u001b[0m \u001b[0mrow\u001b[0m\u001b[1;33m[\u001b[0m\u001b[1;34m'name'\u001b[0m\u001b[1;33m]\u001b[0m \u001b[1;32min\u001b[0m \u001b[0mnames\u001b[0m\u001b[1;33m:\u001b[0m\u001b[1;33m\u001b[0m\u001b[1;33m\u001b[0m\u001b[0m\n\u001b[0;32m     34\u001b[0m             \u001b[1;32myield\u001b[0m \u001b[0mrow\u001b[0m\u001b[1;33m\u001b[0m\u001b[1;33m\u001b[0m\u001b[0m\n",
      "\u001b[1;32mc:\\Users\\USER\\Quick_Ref\\Programming\\Python\\Python 중급\\실용 파이썬 프로그래밍\\../../test_bed\\ticker.py\u001b[0m in \u001b[0;36mmake_dict\u001b[1;34m(rows, headers)\u001b[0m\n\u001b[0;32m     17\u001b[0m \u001b[1;33m\u001b[0m\u001b[0m\n\u001b[0;32m     18\u001b[0m \u001b[1;32mdef\u001b[0m \u001b[0mmake_dict\u001b[0m\u001b[1;33m(\u001b[0m\u001b[0mrows\u001b[0m\u001b[1;33m,\u001b[0m \u001b[0mheaders\u001b[0m\u001b[1;33m)\u001b[0m\u001b[1;33m:\u001b[0m\u001b[1;33m\u001b[0m\u001b[1;33m\u001b[0m\u001b[0m\n\u001b[1;32m---> 19\u001b[1;33m     \u001b[1;32mfor\u001b[0m \u001b[0mrow\u001b[0m \u001b[1;32min\u001b[0m \u001b[0mrows\u001b[0m\u001b[1;33m:\u001b[0m\u001b[1;33m\u001b[0m\u001b[1;33m\u001b[0m\u001b[0m\n\u001b[0m\u001b[0;32m     20\u001b[0m         \u001b[1;32myield\u001b[0m \u001b[0mdict\u001b[0m\u001b[1;33m(\u001b[0m\u001b[0mzip\u001b[0m\u001b[1;33m(\u001b[0m\u001b[0mheaders\u001b[0m\u001b[1;33m,\u001b[0m \u001b[0mrow\u001b[0m\u001b[1;33m)\u001b[0m\u001b[1;33m)\u001b[0m\u001b[1;33m\u001b[0m\u001b[1;33m\u001b[0m\u001b[0m\n\u001b[0;32m     21\u001b[0m \u001b[1;33m\u001b[0m\u001b[0m\n",
      "\u001b[1;32mc:\\Users\\USER\\Quick_Ref\\Programming\\Python\\Python 중급\\실용 파이썬 프로그래밍\\../../test_bed\\ticker.py\u001b[0m in \u001b[0;36mconvert_types\u001b[1;34m(rows, types)\u001b[0m\n\u001b[0;32m     12\u001b[0m \u001b[1;33m\u001b[0m\u001b[0m\n\u001b[0;32m     13\u001b[0m \u001b[1;32mdef\u001b[0m \u001b[0mconvert_types\u001b[0m\u001b[1;33m(\u001b[0m\u001b[0mrows\u001b[0m\u001b[1;33m,\u001b[0m \u001b[0mtypes\u001b[0m\u001b[1;33m)\u001b[0m\u001b[1;33m:\u001b[0m\u001b[1;33m\u001b[0m\u001b[1;33m\u001b[0m\u001b[0m\n\u001b[1;32m---> 14\u001b[1;33m     \u001b[1;32mfor\u001b[0m \u001b[0mrow\u001b[0m \u001b[1;32min\u001b[0m \u001b[0mrows\u001b[0m\u001b[1;33m:\u001b[0m\u001b[1;33m\u001b[0m\u001b[1;33m\u001b[0m\u001b[0m\n\u001b[0m\u001b[0;32m     15\u001b[0m         \u001b[1;32myield\u001b[0m \u001b[1;33m[\u001b[0m \u001b[0mfunc\u001b[0m\u001b[1;33m(\u001b[0m\u001b[0mval\u001b[0m\u001b[1;33m)\u001b[0m \u001b[1;32mfor\u001b[0m \u001b[0mfunc\u001b[0m\u001b[1;33m,\u001b[0m \u001b[0mval\u001b[0m \u001b[1;32min\u001b[0m \u001b[0mzip\u001b[0m\u001b[1;33m(\u001b[0m\u001b[0mtypes\u001b[0m\u001b[1;33m,\u001b[0m \u001b[0mrow\u001b[0m\u001b[1;33m)\u001b[0m \u001b[1;33m]\u001b[0m\u001b[1;33m\u001b[0m\u001b[1;33m\u001b[0m\u001b[0m\n\u001b[0;32m     16\u001b[0m \u001b[1;33m\u001b[0m\u001b[0m\n",
      "\u001b[1;32mc:\\Users\\USER\\Quick_Ref\\Programming\\Python\\Python 중급\\실용 파이썬 프로그래밍\\../../test_bed\\ticker.py\u001b[0m in \u001b[0;36mselect_columns\u001b[1;34m(rows, indices)\u001b[0m\n\u001b[0;32m      7\u001b[0m \u001b[1;33m\u001b[0m\u001b[0m\n\u001b[0;32m      8\u001b[0m \u001b[1;32mdef\u001b[0m \u001b[0mselect_columns\u001b[0m\u001b[1;33m(\u001b[0m\u001b[0mrows\u001b[0m\u001b[1;33m,\u001b[0m \u001b[0mindices\u001b[0m\u001b[1;33m)\u001b[0m\u001b[1;33m:\u001b[0m\u001b[1;33m\u001b[0m\u001b[1;33m\u001b[0m\u001b[0m\n\u001b[1;32m----> 9\u001b[1;33m     \u001b[1;32mfor\u001b[0m \u001b[0mrow\u001b[0m \u001b[1;32min\u001b[0m \u001b[0mrows\u001b[0m\u001b[1;33m:\u001b[0m\u001b[1;33m\u001b[0m\u001b[1;33m\u001b[0m\u001b[0m\n\u001b[0m\u001b[0;32m     10\u001b[0m         \u001b[1;32myield\u001b[0m \u001b[1;33m[\u001b[0m \u001b[0mrow\u001b[0m\u001b[1;33m[\u001b[0m\u001b[0mindex\u001b[0m\u001b[1;33m]\u001b[0m \u001b[1;32mfor\u001b[0m \u001b[0mindex\u001b[0m \u001b[1;32min\u001b[0m \u001b[0mindices\u001b[0m \u001b[1;33m]\u001b[0m\u001b[1;33m\u001b[0m\u001b[1;33m\u001b[0m\u001b[0m\n\u001b[0;32m     11\u001b[0m \u001b[1;33m\u001b[0m\u001b[0m\n",
      "\u001b[1;32mc:\\Users\\USER\\Quick_Ref\\Programming\\Python\\Python 중급\\실용 파이썬 프로그래밍\\../../test_bed\\follow.py\u001b[0m in \u001b[0;36mfollow\u001b[1;34m(filename)\u001b[0m\n\u001b[0;32m     10\u001b[0m             \u001b[0mline\u001b[0m \u001b[1;33m=\u001b[0m \u001b[0mf\u001b[0m\u001b[1;33m.\u001b[0m\u001b[0mreadline\u001b[0m\u001b[1;33m(\u001b[0m\u001b[1;33m)\u001b[0m\u001b[1;33m\u001b[0m\u001b[1;33m\u001b[0m\u001b[0m\n\u001b[0;32m     11\u001b[0m             \u001b[1;32mif\u001b[0m \u001b[0mline\u001b[0m \u001b[1;33m==\u001b[0m \u001b[1;34m''\u001b[0m\u001b[1;33m:\u001b[0m\u001b[1;33m\u001b[0m\u001b[1;33m\u001b[0m\u001b[0m\n\u001b[1;32m---> 12\u001b[1;33m                 \u001b[0mtime\u001b[0m\u001b[1;33m.\u001b[0m\u001b[0msleep\u001b[0m\u001b[1;33m(\u001b[0m\u001b[1;36m0.1\u001b[0m\u001b[1;33m)\u001b[0m     \u001b[1;31m# 짧게 쉬었다가 재시도\u001b[0m\u001b[1;33m\u001b[0m\u001b[1;33m\u001b[0m\u001b[0m\n\u001b[0m\u001b[0;32m     13\u001b[0m                 \u001b[1;32mcontinue\u001b[0m\u001b[1;33m\u001b[0m\u001b[1;33m\u001b[0m\u001b[0m\n\u001b[0;32m     14\u001b[0m             \u001b[1;32myield\u001b[0m \u001b[0mline\u001b[0m\u001b[1;33m\u001b[0m\u001b[1;33m\u001b[0m\u001b[0m\n",
      "\u001b[1;31mKeyboardInterrupt\u001b[0m: "
     ]
    }
   ],
   "source": [
    "from ticker import ticker\n",
    "rows = ticker('../../data/portfolio.csv', '../../data/stocklog.csv', 'csv')"
   ]
  },
  {
   "cell_type": "code",
   "execution_count": 3,
   "metadata": {},
   "outputs": [
    {
     "name": "stdout",
     "output_type": "stream",
     "text": [
      "Overwriting ../../test_bed/ticker.py\n"
     ]
    }
   ],
   "source": [
    "%%writefile ../../test_bed/ticker.py\n",
    "# ticker.py\n",
    "\n",
    "from follow import follow\n",
    "import csv\n",
    "import report\n",
    "import tableformat\n",
    "\n",
    "def select_columns(rows, indices):\n",
    "    for row in rows:\n",
    "        yield [ row[index] for index in indices ]\n",
    "\n",
    "\n",
    "def convert_types(rows, types):\n",
    "    for row in rows:\n",
    "        yield [ func(val) for func, val in zip(types, row) ]\n",
    "    \n",
    "\n",
    "def make_dict(rows, headers):\n",
    "    for row in rows:\n",
    "        yield dict(zip(headers, row))\n",
    "        \n",
    "\n",
    "def parse_stock_data(lines):\n",
    "    rows = csv.reader(lines)\n",
    "    rows = select_columns(rows, [0, 1, 4])\n",
    "    rows = convert_types(rows, [str, float, float])\n",
    "    rows = make_dict(rows, ['name','price', 'change'])\n",
    "    return rows\n",
    "\n",
    "\n",
    "def filter_symbols(rows, names):\n",
    "    for row in rows:\n",
    "        if row['name'] in names:\n",
    "            yield row\n",
    "\n",
    "        # if any([ name.name == row['name'] for name in names ]):\n",
    "        #     yield row\n",
    "\n",
    "\n",
    "def ticker(portfile, logfile, fmt):\n",
    "    portfolio = report.read_portfolio(portfile)\n",
    "    rows = parse_stock_data(follow(logfile))             # 생산자/처리자\n",
    "    rows = filter_symbols(rows, portfolio)\n",
    "    formatter = tableformat.create_formatter(fmt)\n",
    "    formatter.headings(['Name','Price','Change'])\n",
    "    for row in rows:\n",
    "        formatter.row([ row['name'], f\"{row['price']:0.2f}\", f\"{row['change']:0.2f}\"] )\n",
    "    \n",
    "\n",
    "def main(args):\n",
    "    if len(args) != 4:\n",
    "        raise SystemExit('Usage: %s portfile pricefile' % args[0])\n",
    "    \n",
    "    ticker(args[1], args[2], args[3])\n",
    "\n",
    "\n",
    "rows = ticker('../../data/portfolio.csv', '../../data/stocklog.csv', 'txt')    \n",
    "\n",
    "\n",
    "if __name__ == '__main__':\n",
    "    import sys\n",
    "    main(sys.argv)            \n"
   ]
  }
 ],
 "metadata": {
  "kernelspec": {
   "display_name": "Python 3.9.12 ('base')",
   "language": "python",
   "name": "python3"
  },
  "language_info": {
   "codemirror_mode": {
    "name": "ipython",
    "version": 3
   },
   "file_extension": ".py",
   "mimetype": "text/x-python",
   "name": "python",
   "nbconvert_exporter": "python",
   "pygments_lexer": "ipython3",
   "version": "3.9.7"
  },
  "orig_nbformat": 4,
  "vscode": {
   "interpreter": {
    "hash": "f08154012ddadd8e950e6e9e035c7a7b32c136e7647e9b7c77e02eb723a8bedb"
   }
  }
 },
 "nbformat": 4,
 "nbformat_minor": 2
}
