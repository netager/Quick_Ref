{
 "cells": [
  {
   "cell_type": "code",
   "execution_count": 1,
   "metadata": {},
   "outputs": [],
   "source": [
    "import sys\n",
    "sys.path.append('../../test_bed')"
   ]
  },
  {
   "cell_type": "code",
   "execution_count": 2,
   "metadata": {},
   "outputs": [
    {
     "data": {
      "text/plain": [
       "['c:\\\\Users\\\\USER\\\\Quick_Ref\\\\Programming\\\\Python\\\\Python 중급\\\\실용 파이썬 프로그래밍',\n",
       " 'c:\\\\Users\\\\USER\\\\anaconda3\\\\python39.zip',\n",
       " 'c:\\\\Users\\\\USER\\\\anaconda3\\\\DLLs',\n",
       " 'c:\\\\Users\\\\USER\\\\anaconda3\\\\lib',\n",
       " 'c:\\\\Users\\\\USER\\\\anaconda3',\n",
       " '',\n",
       " 'c:\\\\Users\\\\USER\\\\anaconda3\\\\lib\\\\site-packages',\n",
       " 'c:\\\\Users\\\\USER\\\\anaconda3\\\\lib\\\\site-packages\\\\locket-0.2.1-py3.9.egg',\n",
       " 'c:\\\\Users\\\\USER\\\\anaconda3\\\\lib\\\\site-packages\\\\win32',\n",
       " 'c:\\\\Users\\\\USER\\\\anaconda3\\\\lib\\\\site-packages\\\\win32\\\\lib',\n",
       " 'c:\\\\Users\\\\USER\\\\anaconda3\\\\lib\\\\site-packages\\\\Pythonwin',\n",
       " 'c:\\\\Users\\\\USER\\\\anaconda3\\\\lib\\\\site-packages\\\\IPython\\\\extensions',\n",
       " 'C:\\\\Users\\\\USER\\\\.ipython',\n",
       " '../../test_bed']"
      ]
     },
     "execution_count": 2,
     "metadata": {},
     "output_type": "execute_result"
    }
   ],
   "source": [
    "sys.path"
   ]
  },
  {
   "cell_type": "code",
   "execution_count": 3,
   "metadata": {},
   "outputs": [
    {
     "data": {
      "text/plain": [
       "[{'name': 'AA', 'shares': 100, 'price': 32.2},\n",
       " {'name': 'IBM', 'shares': 50, 'price': 91.1},\n",
       " {'name': 'CAT', 'shares': 150, 'price': 83.44},\n",
       " {'name': 'MSFT', 'shares': 200, 'price': 51.23},\n",
       " {'name': 'GE', 'shares': 95, 'price': 40.37},\n",
       " {'name': 'MSFT', 'shares': 50, 'price': 65.1},\n",
       " {'name': 'IBM', 'shares': 100, 'price': 70.44}]"
      ]
     },
     "execution_count": 3,
     "metadata": {},
     "output_type": "execute_result"
    }
   ],
   "source": [
    "import fileparse\n",
    "\n",
    "with open('../../data/portfolio.csv') as lines:\n",
    "    portdicts = fileparse.parse_csv(lines, select=['name', 'shares', 'price'], types=[str, int, float])\n",
    "portdicts    "
   ]
  },
  {
   "cell_type": "code",
   "execution_count": 31,
   "metadata": {},
   "outputs": [
    {
     "name": "stdout",
     "output_type": "stream",
     "text": [
      "Writing ../../test_bed/stock.py\n"
     ]
    }
   ],
   "source": [
    "%%writefile ../../test_bed/stock.py\n",
    "class Stock:\n",
    "    def __init__(self, name, shares, price):\n",
    "        self.name = name\n",
    "        self.shares = shares\n",
    "        self.price = price\n",
    "        \n",
    "    def cost(self):\n",
    "        return self.shares * self.price\n",
    "        \n",
    "    def sell(self, shares):\n",
    "        self.shares -= shares            \n"
   ]
  },
  {
   "cell_type": "code",
   "execution_count": 34,
   "metadata": {},
   "outputs": [
    {
     "name": "stdout",
     "output_type": "stream",
     "text": [
      "GOOG 100 490.1\n",
      "AAPL 50 122.34\n",
      "IBM 75 91.75\n"
     ]
    },
    {
     "data": {
      "text/plain": [
       "[<__main__.Stock at 0x1a88a2529a0>,\n",
       " <__main__.Stock at 0x1a88a252730>,\n",
       " <__main__.Stock at 0x1a88a231850>,\n",
       " <__main__.Stock at 0x1a88a341310>,\n",
       " <__main__.Stock at 0x1a88a341f40>,\n",
       " <__main__.Stock at 0x1a88a3411c0>,\n",
       " <__main__.Stock at 0x1a88a341bb0>]"
      ]
     },
     "execution_count": 34,
     "metadata": {},
     "output_type": "execute_result"
    }
   ],
   "source": [
    "a = Stock('GOOG', 100, 490.10)\n",
    "b = Stock('AAPL', 50, 122.34)\n",
    "b.name, b.shares, b.price        \n",
    "\n",
    "c = Stock('IBM', 75, 91.75)\n",
    "c.name, b.shares, b.price        \n",
    "c.shares * c.price\n",
    "\n",
    "stocks = [a, b, c]\n",
    "stocks\n",
    "for s in stocks:\n",
    "    print(f'{s.name} {s.shares} {s.price}')\n",
    "    \n",
    "a.cost()    \n",
    "a.sell(25)\n",
    "a.shares\n",
    "\n",
    "import fileparse\n",
    "with open('../../data/portfolio.csv') as lines:\n",
    "    portdicts = fileparse.parse_csv(lines, select=['name','shares','price'], types=[str, int, float])\n",
    "    portfolio = [ Stock(d['name'], d['shares'], d['price']) for d in portdicts ]\n",
    "portfolio    \n",
    "\n",
    "# sum([ s.shares * s.price for s in portfolio ])\n"
   ]
  },
  {
   "cell_type": "code",
   "execution_count": 35,
   "metadata": {},
   "outputs": [
    {
     "name": "stdout",
     "output_type": "stream",
     "text": [
      "Writing ../../test_bed/prices.py\n"
     ]
    }
   ],
   "source": [
    "%%writefile ../../test_bed/prices.py\n",
    "class Prices:\n",
    "    def __init__(self, name, price):\n",
    "        self.name = name\n",
    "        self.price = price"
   ]
  },
  {
   "cell_type": "code",
   "execution_count": 4,
   "metadata": {},
   "outputs": [
    {
     "name": "stdout",
     "output_type": "stream",
     "text": [
      "Overwriting ../../test_bed/report.py\n"
     ]
    }
   ],
   "source": [
    "%%writefile ../../test_bed/report.py\n",
    "# report.py\n",
    "\n",
    "import fileparse\n",
    "import stock\n",
    "import prices\n",
    "\n",
    "def read_portfolio(filename):\n",
    "    '''\n",
    "    Read a stock portfolio file into a list of dictionaries with keys\n",
    "    name, shares, and price.\n",
    "    '''\n",
    "    with open(filename) as lines:\n",
    "        # return fileparse.parse_csv(lines, select=['name','shares','price'], types=[str,int,float])\n",
    "\n",
    "        # Convert Dictionary to Object     \n",
    "        portdicts = fileparse.parse_csv(lines, select=['name','shares','price'], types=[str,int,float])\n",
    "        print('[report.py]<read_portfolio()> Return to Object')\n",
    "        return [ stock.Stock(d['name'], d['shares'], d['price']) for d in portdicts ]\n",
    "\n",
    "def read_prices(filename):\n",
    "    '''\n",
    "    Read a CSV file of price data into a dict mapping names to prices.\n",
    "    '''\n",
    "    with open(filename) as lines:\n",
    "        return dict(fileparse.parse_csv(lines, types=[str,float], has_headers=False))\n",
    "\n",
    "        # Convert Dictionary to Object     \n",
    "        # portdicts = fileparse.parse_csv(lines, types=[str,float], has_headers=False)\n",
    "        # return [ prices.Prices(d.name, d.price) for d in portdicts ]\n",
    "\n",
    "\n",
    "def make_report_data(portfolio,prices):\n",
    "    '''\n",
    "    Make a list of (name, shares, price, change) tuples given a portfolio list\n",
    "    and prices dictionary.\n",
    "    '''\n",
    "    rows = []\n",
    "    for stock in portfolio:\n",
    "        current_price = prices[stock.name]\n",
    "        change = current_price - stock.price\n",
    "        summary = (stock.name, stock.shares, current_price, change)\n",
    "        rows.append(summary)\n",
    "    return rows\n",
    "\n",
    "def print_report(reportdata):\n",
    "    '''\n",
    "    Print a nicely formated table from a list of (name, shares, price, change) tuples.\n",
    "    '''\n",
    "    headers = ('Name','Shares','Price','Change')\n",
    "    print('%10s %10s %10s %10s' % headers)\n",
    "    print(('-'*10 + ' ')*len(headers))\n",
    "    for row in reportdata:\n",
    "        print('%10s %10d %10.2f %10.2f' % row)\n",
    "\n",
    "def portfolio_report(portfoliofile, pricefile):        \n",
    "    '''\n",
    "    Make a stock report given portfolio and price data files.\n",
    "    '''\n",
    "    # Read data files \n",
    "    portfolio = read_portfolio(portfoliofile)\n",
    "    prices = read_prices(pricefile)\n",
    "\n",
    "    # Create the report data\n",
    "    report = make_report_data(portfolio, prices)\n",
    "\n",
    "    # Print it out\n",
    "    print_report(report)\n",
    "\n",
    "def main(args):\n",
    "    if len(args) != 3:\n",
    "        raise SystemExit('Usage: %s portfile pricefile' % args[0])\n",
    "    portfolio_report(args[1], args[2])\n",
    "\n",
    "if __name__ == '__main__':\n",
    "    import sys\n",
    "    main(sys.argv)"
   ]
  },
  {
   "cell_type": "code",
   "execution_count": 39,
   "metadata": {},
   "outputs": [
    {
     "name": "stdout",
     "output_type": "stream",
     "text": [
      "Overwriting ../../test_bed/pcost.py\n"
     ]
    }
   ],
   "source": [
    "%%writefile ../../test_bed/pcost.py\n",
    "# pcost.py\n",
    "\n",
    "import report\n",
    "\n",
    "def portfolio_cost(filename):\n",
    "    '''\n",
    "    Computes the total cost (shares*price) of a portfolio file\n",
    "    '''\n",
    "    portfolio = report.read_portfolio(filename)\n",
    "    return sum([s.shares * s.price for s in portfolio])\n",
    "\n",
    "def main(args):\n",
    "    if len(args) != 2:\n",
    "        raise SystemExit('Usage: %s portfoliofile' % args[0])\n",
    "    filename = args[1]\n",
    "    print('Total cost:', portfolio_cost(filename))\n",
    "\n",
    "if __name__ == '__main__':\n",
    "    import sys\n",
    "    main(sys.argv)"
   ]
  },
  {
   "cell_type": "code",
   "execution_count": 1,
   "metadata": {},
   "outputs": [],
   "source": [
    "import sys\n",
    "sys.path.append('../../test_bed')"
   ]
  },
  {
   "cell_type": "code",
   "execution_count": 2,
   "metadata": {},
   "outputs": [
    {
     "name": "stdout",
     "output_type": "stream",
     "text": [
      "[report.py]<read_portfolio()> Return to Object\n"
     ]
    },
    {
     "data": {
      "text/plain": [
       "44671.15"
      ]
     },
     "execution_count": 2,
     "metadata": {},
     "output_type": "execute_result"
    }
   ],
   "source": [
    "import pcost\n",
    "\n",
    "pcost.portfolio_cost('../../data/portfolio.csv')"
   ]
  },
  {
   "cell_type": "code",
   "execution_count": 3,
   "metadata": {},
   "outputs": [
    {
     "name": "stdout",
     "output_type": "stream",
     "text": [
      "[report.py]<read_portfolio()> Return to Object\n",
      "      Name     Shares      Price     Change\n",
      "---------- ---------- ---------- ---------- \n",
      "        AA        100       9.22     -22.98\n",
      "       IBM         50     106.28      15.18\n",
      "       CAT        150      35.46     -47.98\n",
      "      MSFT        200      20.89     -30.34\n",
      "        GE         95      13.48     -26.89\n",
      "      MSFT         50      20.89     -44.21\n",
      "       IBM        100     106.28      35.84\n"
     ]
    }
   ],
   "source": [
    "import report\n",
    "report.portfolio_report('../../data/portfolio.csv', '../../data/prices.csv')"
   ]
  },
  {
   "attachments": {},
   "cell_type": "markdown",
   "metadata": {},
   "source": [
    "# 4.2 상속"
   ]
  },
  {
   "cell_type": "code",
   "execution_count": null,
   "metadata": {},
   "outputs": [],
   "source": [
    "# 도입\n",
    "# ----\n",
    "# 상속은 기존 객체를 특수화하는 데 사용된다.\n",
    "\n",
    "# class Parent:\n",
    "#     ...\n",
    "\n",
    "# class Child(Parent):\n",
    "#     ...\n",
    "# 위의 Child 클래스와 같은 것을 파생 클래스(derived class) 또는 하위 클래스(subclass)라 한다. \n",
    "# 위의 Parent 클래스는 기본 클래스(base class) 또는 상위 클래스(superclass)라 한다. \n",
    "# class Child(Parent):에서 클래스명 뒤의 ()에 Parent를 지정했다.\n",
    "\n",
    "\n",
    "\n",
    "# 확장(Extending)\n",
    "# ---------------\n",
    "# 상속을 통해 기존 클래스를 취하여 다음과 같은 일을 할 수 있다.\n",
    "\n",
    "# 새로운 메서드를 추가\n",
    "# 기존 메서드 일부를 재정의(redefine)\n",
    "# 인스턴스에 새로운 어트리뷰트를 추가\n",
    "# 그리하여 기존 코드를 확장하게 된다.\n",
    "\n",
    "# 예시\n",
    "# 이 클래스에서 시작한다고 하자.\n",
    "\n",
    "# class Stock:\n",
    "#     def __init__(self, name, shares, price):\n",
    "#         self.name = name\n",
    "#         self.shares = shares\n",
    "#         self.price = price\n",
    "\n",
    "#     def cost(self):\n",
    "#         return self.shares * self.price\n",
    "\n",
    "#     def sell(self, nshares):\n",
    "#         self.shares -= nshares\n",
    "\n",
    "# 상속을 통해 이것의 어느 부분이든 변경할 수 있다.\n",
    "\n",
    "\n",
    "\n",
    "# 새 메서드를 추가\n",
    "# ---------------\n",
    "# class MyStock(Stock):\n",
    "#     def panic(self):\n",
    "#         self.sell(self.shares)\n",
    "\n",
    "# 용례:\n",
    "# >>> s = MyStock('GOOG', 100, 490.1)\n",
    "# >>> s.sell(25)\n",
    "# >>> s.shares\n",
    "# 75\n",
    "# >>> s.panic()\n",
    "# >>> s.shares\n",
    "# 0\n",
    "# >>>\n",
    "\n",
    "\n",
    "\n",
    "# 기존 메서드를 재정의\n",
    "# -------------------\n",
    "# class MyStock(Stock):\n",
    "#     def cost(self):\n",
    "#         return 1.25 * self.shares * self.price\n",
    "\n",
    "# 용례:\n",
    "# >>> s = MyStock('GOOG', 100, 490.1)\n",
    "# >>> s.cost()\n",
    "# 61262.5\n",
    "# >>>\n",
    "\n",
    "# 새 메서드는 기존 것을 대체한다. 다른 메서드는 영향을 받지 않는다. 굉장하다."
   ]
  },
  {
   "cell_type": "code",
   "execution_count": 6,
   "metadata": {},
   "outputs": [],
   "source": [
    "import sys\n",
    "sys.path.append('../../test_bed')"
   ]
  },
  {
   "cell_type": "code",
   "execution_count": 10,
   "metadata": {},
   "outputs": [],
   "source": [
    "# %load ../../test_bed/stock.py\n",
    "class Stock:\n",
    "    def __init__(self, name, shares, price):\n",
    "        self.name = name\n",
    "        self.shares = shares\n",
    "        self.price = price\n",
    "        \n",
    "    def cost(self):\n",
    "        return self.shares * self.price\n",
    "        \n",
    "    def sell(self, shares):\n",
    "        self.shares -= shares            \n"
   ]
  },
  {
   "cell_type": "code",
   "execution_count": 18,
   "metadata": {},
   "outputs": [
    {
     "data": {
      "text/plain": [
       "61262.5"
      ]
     },
     "execution_count": 18,
     "metadata": {},
     "output_type": "execute_result"
    }
   ],
   "source": [
    "#import stock\n",
    "\n",
    "class MyStock(Stock):\n",
    "    def panic(self):\n",
    "        self.sell(self.shares)\n",
    "    \n",
    "    def cost(self):\n",
    "        return 1.25 * self.shares * self.price\n",
    "\n",
    "s = MyStock('GOOG', 100, 490.1)\n",
    "s.name, s.shares, s.price\n",
    "\n",
    "s.cost()\n",
    "\n",
    "    "
   ]
  },
  {
   "attachments": {},
   "cell_type": "markdown",
   "metadata": {},
   "source": [
    "## 오버라이딩(Overriding)"
   ]
  },
  {
   "cell_type": "code",
   "execution_count": null,
   "metadata": {},
   "outputs": [],
   "source": [
    "# 때로는 클래스가 기존 메서드를 확장하되, 원래 구현을 재정의에 포함하고 싶을 수 있다. 이를 위해 super()를 사용한다.\n",
    "\n",
    "# class Stock:\n",
    "#     ...\n",
    "#     def cost(self):\n",
    "#         return self.shares * self.price\n",
    "#     ...\n",
    "\n",
    "# class MyStock(Stock):\n",
    "#     def cost(self):\n",
    "#         # `super`에 대한 호출을 확인\n",
    "#         actual_cost = super().cost()\n",
    "#         return 1.25 * actual_cost\n",
    "\n",
    "# 이전 버전을 호출하기 위해 super()를 사용한다.\n",
    "\n",
    "# 주의: 파이썬 2는 이것보다 구문이 복잡하다.\n",
    "\n",
    "# actual_cost = super(MyStock, self).cost()"
   ]
  },
  {
   "cell_type": "code",
   "execution_count": 19,
   "metadata": {},
   "outputs": [
    {
     "data": {
      "text/plain": [
       "61262.5"
      ]
     },
     "execution_count": 19,
     "metadata": {},
     "output_type": "execute_result"
    }
   ],
   "source": [
    "class MyStock(Stock):\n",
    "    def panic(self):\n",
    "        self.sell(self.shares)\n",
    "    \n",
    "    def cost(self):\n",
    "        #'super'에 대한 호출을 확인\n",
    "        actual_cost = super().cost()\n",
    "        return 1.25 * actual_cost\n",
    "\n",
    "s = MyStock('GOOG', 100, 490.1)\n",
    "s.cost()\n",
    "\n",
    "    "
   ]
  },
  {
   "attachments": {},
   "cell_type": "markdown",
   "metadata": {},
   "source": [
    "## __init__와 상속"
   ]
  },
  {
   "cell_type": "code",
   "execution_count": null,
   "metadata": {},
   "outputs": [],
   "source": [
    "# __init__와 상속\n",
    "# ---------------\n",
    "# __init__를 재정의하려면 부모를 초기화해야 한다.\n",
    "\n",
    "# class Stock:\n",
    "#     def __init__(self, name, shares, price):\n",
    "#         self.name = name\n",
    "#         self.shares = shares\n",
    "#         self.price = price\n",
    "\n",
    "# class MyStock(Stock):\n",
    "#     def __init__(self, name, shares, price, factor):\n",
    "#         # `super`와 `__init__`에 대한 호출을 확인\n",
    "#         super().__init__(name, shares, price)\n",
    "#         self.factor = factor\n",
    "\n",
    "#     def cost(self):\n",
    "#         return self.factor * super().cost()\n",
    "\n",
    "# super에 __init__() 메서드를 호출해야 한다. 이것이 앞에서 본 것과 같이 이전 버전을 호출하는 방법이다"
   ]
  },
  {
   "cell_type": "code",
   "execution_count": 20,
   "metadata": {},
   "outputs": [
    {
     "data": {
      "text/plain": [
       "61262.5"
      ]
     },
     "execution_count": 20,
     "metadata": {},
     "output_type": "execute_result"
    }
   ],
   "source": [
    "class MyStock(Stock):\n",
    "    def __init__(self, name, shares, price, factor):\n",
    "        #super와 __init__ 에 대한 호출을 확인\n",
    "        super().__init__(name, shares, price)\n",
    "        self.factor = factor\n",
    "        \n",
    "    def panic(self):\n",
    "        self.sell(self.shares)\n",
    "    \n",
    "    def cost(self):\n",
    "        #'super'에 대한 호출을 확인\n",
    "        actual_cost = super().cost()\n",
    "        return self.factor * actual_cost\n",
    "\n",
    "s = MyStock('GOOG', 100, 490.1, 1.25)\n",
    "s.cost()\n",
    "\n",
    "    "
   ]
  },
  {
   "attachments": {},
   "cell_type": "markdown",
   "metadata": {},
   "source": [
    "## 상속을 사용하기"
   ]
  },
  {
   "cell_type": "code",
   "execution_count": null,
   "metadata": {},
   "outputs": [],
   "source": [
    "# 상속을 사용하기\n",
    "# --------------\n",
    "# 상속은 관련 객체를 조직화하는 데 사용되곤 한다.\n",
    "\n",
    "# class Shape:\n",
    "#     ...\n",
    "\n",
    "# class Circle(Shape):\n",
    "#     ...\n",
    "\n",
    "# class Rectangle(Shape):\n",
    "#     ...\n",
    "\n",
    "# 논리적 계층 구조나 분류법을 생각해 보라. \n",
    "# 그렇지만 좀 더 일반적이고도 실용적인 용도는 재사용 가능 혹은 확장 가능한 코드를 만드는 것이다. \n",
    "# 예를 들어, 프레임워크에 정의된 기본 클래스를 당신이 커스터마이즈할 수 있다.\n",
    "\n",
    "# class CustomHandler(TCPHandler):\n",
    "#     def handle_request(self):\n",
    "#         ...\n",
    "#         # 커스텀 처리\n",
    "\n",
    "# 기본 클래스는 일반 목적 코드를 포함한다. 당신의 클래스는 기본 클래스를 상속해 특수한 부분을 커스터마이즈한다.\n"
   ]
  },
  {
   "attachments": {},
   "cell_type": "markdown",
   "metadata": {},
   "source": [
    "## \"is a\" 관계"
   ]
  },
  {
   "cell_type": "code",
   "execution_count": null,
   "metadata": {},
   "outputs": [],
   "source": [
    "# \"is a\" 관계\n",
    "# -----------\n",
    "# 상속은 타입 간의 관계를 설정한다.\n",
    "\n",
    "# class Shape:\n",
    "#     ...\n",
    "\n",
    "# class Circle(Shape):\n",
    "#     ...\n",
    "# 객체 인스턴스를 확인하라.\n",
    "\n",
    "# >>> c = Circle(4.0)\n",
    "# >>> isinstance(c, Shape)\n",
    "# True\n",
    "\n",
    "# 중요: 부모 클래스의 인스턴스를 다루는 코드는 자식 클래스의 인스턴스에 대해서도 작동하는 것이 이상적이다."
   ]
  },
  {
   "cell_type": "code",
   "execution_count": 21,
   "metadata": {},
   "outputs": [
    {
     "data": {
      "text/plain": [
       "True"
      ]
     },
     "execution_count": 21,
     "metadata": {},
     "output_type": "execute_result"
    }
   ],
   "source": [
    "s = MyStock('GOOG', 100, 490.1, 1.25)\n",
    "isinstance(s, Stock)\n"
   ]
  },
  {
   "attachments": {},
   "cell_type": "markdown",
   "metadata": {},
   "source": [
    "## object 기본 클래스"
   ]
  },
  {
   "cell_type": "code",
   "execution_count": null,
   "metadata": {},
   "outputs": [],
   "source": [
    "# object 기본 클래스\n",
    "# -----------------\n",
    "# 만약 클래스에 부모가 없으면 object를 기본으로 삼을 수 있다.\n",
    "\n",
    "# class Shape(object):\n",
    "#     ...\n",
    "# 파이썬에서 object는 모든 객체의 부모다.\n",
    "\n",
    "# *참고: 기술적으로 이것이 필요하지는 않지만, 파이썬 2에서 필요했기 때문에 남겨둔 경우가 많다. \n",
    "#       object를 생략하더라도 암시적으로 상속한다."
   ]
  },
  {
   "attachments": {},
   "cell_type": "markdown",
   "metadata": {},
   "source": [
    "## 다중 상속"
   ]
  },
  {
   "cell_type": "code",
   "execution_count": null,
   "metadata": {},
   "outputs": [],
   "source": [
    "# 다중 상속\n",
    "# --------\n",
    "# 여러 클래스로부터 상속하도록 클래스에 정의할 수 있다.\n",
    "\n",
    "# class Mother:\n",
    "#     ...\n",
    "\n",
    "# class Father:\n",
    "#     ...\n",
    "\n",
    "# class Child(Mother, Father):\n",
    "#     ...\n",
    "# Child 클래스는 Mother와 Father의 특징을 모두 상속받는다. \n",
    "# 다중 상속은 세부적으로 들어가면 골치가 아파진다. \n",
    "# 정확히 이해하기 전에는 사용하지 마라. 다음 섹션에서 추가 정보를 제공하겠지만, 이 코스에서 다중 상속을 사용할 일은 없다."
   ]
  },
  {
   "attachments": {},
   "cell_type": "markdown",
   "metadata": {},
   "source": [
    "## 연습 문제"
   ]
  },
  {
   "cell_type": "code",
   "execution_count": null,
   "metadata": {},
   "outputs": [],
   "source": [
    "# 상속의 주 용도는 다양한 방법으로 확장 또는 커스터마이즈된 코드를 작성하는 것에 있다 (특히 라이브러리나 프레임워크에서). \n",
    "# 설명을 위해 report.py 프로그램의 print_report() 함수를 생각해 보자. 그것은 다음과 같이 보일 것이다.\n",
    "\n",
    "# def print_report(reportdata):\n",
    "#     '''\n",
    "#     (name, shares, price, change) 튜플의 리스트로부터 보기 좋게 포매팅한 테이블을 프린팅.\n",
    "#     '''\n",
    "#     headers = ('Name','Shares','Price','Change')\n",
    "#     print('%10s %10s %10s %10s' % headers)\n",
    "#     print(('-'*10 + ' ')*len(headers))\n",
    "#     for row in reportdata:\n",
    "#         print('%10s %10d %10.2f %10.2f' % row)\n",
    "# report 프로그램을 실행하면 다음과 같이 출력한다.\n",
    "\n",
    "# >>> import report\n",
    "# >>> report.portfolio_report('Data/portfolio.csv', 'Data/prices.csv')\n",
    "#       Name     Shares      Price     Change\n",
    "# ---------- ---------- ---------- ----------\n",
    "#         AA        100       9.22     -22.98\n",
    "#        IBM         50     106.28      15.18\n",
    "#        CAT        150      35.46     -47.98\n",
    "#       MSFT        200      20.89     -30.34\n",
    "#         GE         95      13.48     -26.89\n",
    "#       MSFT         50      20.89     -44.21\n",
    "#        IBM        100     106.28      35.84"
   ]
  },
  {
   "attachments": {},
   "cell_type": "markdown",
   "metadata": {},
   "source": [
    "## 연습 문제 4.5: 확장성 문제"
   ]
  },
  {
   "cell_type": "code",
   "execution_count": null,
   "metadata": {},
   "outputs": [],
   "source": [
    "# print_report() 함수가 일반 텍스트, HTML, CSV, XML 같이 다양한 출력 포맷을 지원하게 수정하고 싶다고 하자. \n",
    "# 그렇게 하려고 모든 일을 처리하는 아주 큰 함수를 작성하려고 시도할 수 있다. \n",
    "# 하지만 그렇게 했다가는 유지보수를 하기 힘들만큼 지저분해질 수 있다. 이때가 상속을 사용하기에 아주 좋은 기회다.\n",
    "\n",
    "# 시작하려면 테이블을 생성하는 단계에 집중하자. \n",
    "# 테이블의 첫 행에는 헤더가 있다. 그 후, 테이블 데이터 행들이 나타난다. \n",
    "# 다음 단계를 따라 자체 클래스에 집어넣자. \n",
    "# 다음과 같은 클래스를 정의하는 tableformat.py 파일을 작성한다.\n",
    "\n",
    "# # tableformat.py\n",
    "\n",
    "# class TableFormatter:\n",
    "#     def headings(self, headers):\n",
    "#         '''\n",
    "#         테이블 헤딩을 반환.\n",
    "#         '''\n",
    "#     raise NotImplementedError()\n",
    "\n",
    "#     def row(self, rowdata):\n",
    "#         '''\n",
    "#         테이블 데이터의 단일 행을 반환.\n",
    "#         '''\n",
    "#     raise NotImplementedError()\n",
    "\n",
    "# 이 클래스는 아무 일도 하지 않지만, 곧 정의할 추가 클래스의 설계 사양과 역할을 한다. \n",
    "# 이러한 클래스를 \"추상 기본 클래스(abstract base class)\"라고 부른다.\n",
    "\n",
    "# 입력으로 받은 TableFormatter 객체의 메서드를 호출해 출력을 생성하도록 print_report() 함수를 수정하자. 예를 들면 다음과 같다.\n",
    "\n",
    "# # report.py\n",
    "# ...\n",
    "\n",
    "# def print_report(reportdata, formatter):\n",
    "#     '''\n",
    "#     (name, shares, price, change) 튜플의 리스트로부터 보기 좋게 포매팅한 테이블을 프린팅.\n",
    "#     '''\n",
    "#     formatter.headings(['Name','Shares','Price','Change'])\n",
    "#     for name, shares, price, change in reportdata:\n",
    "#         rowdata = [ name, str(shares), f'{price:0.2f}', f'{change:0.2f}' ]\n",
    "#         formatter.row(rowdata)\n",
    "\n",
    "# print_report()에 인자를 추가했으므로, portfolio_report() 함수도 수정해야 한다. TableFormatter를 생성하게 변경한다.\n",
    "\n",
    "# # report.py\n",
    "\n",
    "# import tableformat\n",
    "\n",
    "# ...\n",
    "# def portfolio_report(portfoliofile, pricefile):\n",
    "#     '''\n",
    "#     주어진 포트폴리오와 가격 데이터 파일을 가지고 주식 보고서를 작성.\n",
    "#     '''\n",
    "#     # 데이터 파일 읽기\n",
    "#     portfolio = read_portfolio(portfoliofile)\n",
    "#     prices = read_prices(pricefile)\n",
    "\n",
    "#     # 보고서 데이터 생성\n",
    "#     report = make_report_data(portfolio, prices)\n",
    "\n",
    "#     # 프린트\n",
    "#     formatter = tableformat.TableFormatter()\n",
    "#     print_report(report, formatter)\n",
    "# 새 코드를 실행하자.\n",
    "\n",
    "# >>> ================================ RESTART ================================\n",
    "# >>> import report\n",
    "# >>> report.portfolio_report('Data/portfolio.csv', 'Data/prices.csv')\n",
    "# ... 충돌 ...\n",
    "# 곧바로 NotImplementedError 예외를 내며 충돌한다. 썩 즐겁지는 않지만, 이것은 예상했던 바다. 다음 부분으로 이어 가자."
   ]
  },
  {
   "cell_type": "code",
   "execution_count": 3,
   "metadata": {},
   "outputs": [
    {
     "name": "stdout",
     "output_type": "stream",
     "text": [
      "Overwriting ../../test_bed/tableformat.py\n"
     ]
    }
   ],
   "source": [
    "%%writefile ../../test_bed/tableformat.py\n",
    "# tableformat.py\n",
    "\n",
    "class TableFormatter:\n",
    "    def headings(self, headers):\n",
    "        '''\n",
    "        테이블 헤딩을 반환.\n",
    "        '''\n",
    "        raise NotImplementedError()\n",
    "\n",
    "    def row(self, rowdata):\n",
    "        '''\n",
    "        테이블 데이터의 단일 행을 반환.\n",
    "        '''\n",
    "        raise NotImplementedError()\n",
    "\n",
    "class TextTableFormatter(TableFormatter):\n",
    "    def headings(self, headers):\n",
    "        for h in headers:\n",
    "            print(f'{h:>10s}', end=' ')\n",
    "        print()\n",
    "        print(('-'*10 + ' ') * len(headers))\n",
    "            \n",
    "    def row(self, rowdata):\n",
    "        for d in rowdata:\n",
    "            print(f'{d:>10s}', end=' ')\n",
    "        print()\n"
   ]
  },
  {
   "cell_type": "code",
   "execution_count": 16,
   "metadata": {},
   "outputs": [
    {
     "name": "stdout",
     "output_type": "stream",
     "text": [
      "Overwriting ../../test_bed/report.py\n"
     ]
    }
   ],
   "source": [
    "%%writefile ../../test_bed/report.py\n",
    "# report.py\n",
    "\n",
    "import fileparse\n",
    "import stock\n",
    "import prices\n",
    "import tableformat\n",
    "\n",
    "def read_portfolio(filename):\n",
    "    '''\n",
    "    Read a stock portfolio file into a list of dictionaries with keys\n",
    "    name, shares, and price.\n",
    "    '''\n",
    "    with open(filename) as lines:\n",
    "        # return fileparse.parse_csv(lines, select=['name','shares','price'], types=[str,int,float])\n",
    "\n",
    "        # Convert Dictionary to Object     \n",
    "        portdicts = fileparse.parse_csv(lines, select=['name','shares','price'], types=[str,int,float])\n",
    "        print('[report.py]<read_portfolio()> Return to Object')\n",
    "        return [ stock.Stock(d['name'], d['shares'], d['price']) for d in portdicts ]\n",
    "\n",
    "def read_prices(filename):\n",
    "    '''\n",
    "    Read a CSV file of price data into a dict mapping names to prices.\n",
    "    '''\n",
    "    with open(filename) as lines:\n",
    "        return dict(fileparse.parse_csv(lines, types=[str,float], has_headers=False))\n",
    "\n",
    "        # Convert Dictionary to Object     \n",
    "        # portdicts = fileparse.parse_csv(lines, types=[str,float], has_headers=False)\n",
    "        # return [ prices.Prices(d.name, d.price) for d in portdicts ]\n",
    "\n",
    "\n",
    "def make_report_data(portfolio,prices):\n",
    "    '''\n",
    "    Make a list of (name, shares, price, change) tuples given a portfolio list\n",
    "    and prices dictionary.\n",
    "    '''\n",
    "    rows = []\n",
    "    for stock in portfolio:\n",
    "        current_price = prices[stock.name]\n",
    "        change = current_price - stock.price\n",
    "        summary = (stock.name, stock.shares, current_price, change)\n",
    "        rows.append(summary)\n",
    "    return rows\n",
    "\n",
    "def print_report(reportdata, formatter):\n",
    "    '''\n",
    "    Print a nicely formated table from a list of (name, shares, price, change) tuples.\n",
    "    '''\n",
    "    formatter.headings(['Name', 'Shares', 'Price', 'Change'])\n",
    "        \n",
    "    for name, shares, price, change in reportdata:\n",
    "        rowdata = [ name, str(shares), f'{price:0.2f}', f'{change:0.2f}' ]\n",
    "        formatter.row(rowdata)\n",
    "\n",
    "def portfolio_report(portfoliofile, pricefile):        \n",
    "    '''\n",
    "    Make a stock report given portfolio and price data files.\n",
    "    '''\n",
    "    # Read data files \n",
    "    portfolio = read_portfolio(portfoliofile)\n",
    "    prices = read_prices(pricefile)\n",
    "\n",
    "    # Create the report data (보고서 데이터 생성)\n",
    "    report = make_report_data(portfolio, prices)\n",
    "\n",
    "    # Print it out\n",
    "    formatter = tableformat.TextTableFormatter()\n",
    "    print_report(report, formatter)\n",
    "\n",
    "def main(args):\n",
    "    if len(args) != 3:\n",
    "        raise SystemExit('Usage: %s portfile pricefile' % args[0])\n",
    "    portfolio_report(args[1], args[2])\n",
    "\n",
    "if __name__ == '__main__':\n",
    "    import sys\n",
    "    main(sys.argv)\n"
   ]
  },
  {
   "cell_type": "code",
   "execution_count": 1,
   "metadata": {},
   "outputs": [],
   "source": [
    "import sys\n",
    "sys.path.append('../../test_bed')"
   ]
  },
  {
   "cell_type": "code",
   "execution_count": 2,
   "metadata": {},
   "outputs": [
    {
     "name": "stdout",
     "output_type": "stream",
     "text": [
      "[report.py]<read_portfolio()> Return to Object\n",
      "      Name     Shares      Price     Change \n",
      "---------- ---------- ---------- ---------- \n",
      "        AA        100       9.22     -22.98 \n",
      "       IBM         50     106.28      15.18 \n",
      "       CAT        150      35.46     -47.98 \n",
      "      MSFT        200      20.89     -30.34 \n",
      "        GE         95      13.48     -26.89 \n",
      "      MSFT         50      20.89     -44.21 \n",
      "       IBM        100     106.28      35.84 \n"
     ]
    }
   ],
   "source": [
    "import report\n",
    "report.portfolio_report('../../data/portfolio.csv', '../../data/prices.csv')\n"
   ]
  },
  {
   "attachments": {},
   "cell_type": "markdown",
   "metadata": {},
   "source": [
    "## 연습 문제 4.6: 상속을 통해 다른 출력을 생성하기"
   ]
  },
  {
   "cell_type": "code",
   "execution_count": null,
   "metadata": {},
   "outputs": [],
   "source": [
    "# (a) 부분에서 정의한 TableFormatter 클래스는 상속을 통해 확장할 의도를 가지고 정의했다. \n",
    "# 사실, 그것이 아이디어의 전부다. 다음과 같이 TextTableFormatter 클래스를 정의한다.\n",
    "\n",
    "# # tableformat.py\n",
    "# ...\n",
    "# class TextTableFormatter(TableFormatter):\n",
    "#     '''\n",
    "#     테이블을 일반 텍스트 포맷으로 출력\n",
    "#     '''\n",
    "#     def headings(self, headers):\n",
    "#         for h in headers:\n",
    "#             print(f'{h:>10s}', end=' ')\n",
    "#         print()\n",
    "#         print(('-'*10 + ' ')*len(headers))\n",
    "\n",
    "#     def row(self, rowdata):\n",
    "#         for d in rowdata:\n",
    "#             print(f'{d:>10s}', end=' ')\n",
    "#         print()\n",
    "# portfolio_report() 함수를 다음과 같이 수정하고 사용해 보자.\n",
    "\n",
    "# # report.py\n",
    "# ...\n",
    "# def portfolio_report(portfoliofile, pricefile):\n",
    "#     '''\n",
    "#     주어진 포트폴리오와 가격 데이터 파일을 가지고 주식 보고서를 작성.\n",
    "#     '''\n",
    "#     # 데이터 파일 읽기\n",
    "#     portfolio = read_portfolio(portfoliofile)\n",
    "#     prices = read_prices(pricefile)\n",
    "\n",
    "#     # 보고서 데이터 생성\n",
    "#     report = make_report_data(portfolio, prices)\n",
    "\n",
    "#     # 프린트\n",
    "#     formatter = tableformat.TextTableFormatter()\n",
    "#     print_report(report, formatter)\n",
    "# 이전과 같은 출력을 생성해야 한다.\n",
    "\n",
    "# >>> ================================ RESTART ================================\n",
    "# >>> import report\n",
    "# >>> report.portfolio_report('Data/portfolio.csv', 'Data/prices.csv')\n",
    "#       Name     Shares      Price     Change\n",
    "# ---------- ---------- ---------- ----------\n",
    "#         AA        100       9.22     -22.98\n",
    "#        IBM         50     106.28      15.18\n",
    "#        CAT        150      35.46     -47.98\n",
    "#       MSFT        200      20.89     -30.34\n",
    "#         GE         95      13.48     -26.89\n",
    "#       MSFT         50      20.89     -44.21\n",
    "#        IBM        100     106.28      35.84\n",
    "# >>>\n"
   ]
  },
  {
   "cell_type": "code",
   "execution_count": 6,
   "metadata": {},
   "outputs": [],
   "source": [
    "%%writefile ../../test_bed/tableformat.py\n",
    "# tableformat.py\n",
    "\n",
    "class TableFormatter:\n",
    "    def headings(self, headers):\n",
    "        '''\n",
    "        테이블 헤딩을 반환.\n",
    "        '''\n",
    "        raise NotImplementedError()\n",
    "\n",
    "    def row(self, rowdata):\n",
    "        '''\n",
    "        테이블 데이터의 단일 행을 반환.\n",
    "        '''\n",
    "        raise NotImplementedError()\n",
    "\n",
    "class TextTableFormatter(TableFormatter):\n",
    "    def headings(self, headers):\n",
    "        for h in headers:\n",
    "            print(f'{h:>10s}', end=' ')\n",
    "        print()\n",
    "        print(('-'*10 + ' ') * len(headers))\n",
    "            \n",
    "    def row(self, rowdata):\n",
    "        for d in rowdata:\n",
    "            print(f'{d:>10s}', end=' ')\n",
    "        print()"
   ]
  },
  {
   "cell_type": "code",
   "execution_count": 7,
   "metadata": {},
   "outputs": [],
   "source": [
    "%%writefile ../../test_bed/report.py\n",
    "# report.py\n",
    "\n",
    "import fileparse\n",
    "import stock\n",
    "import prices\n",
    "import tableformat\n",
    "\n",
    "def read_portfolio(filename):\n",
    "    '''\n",
    "    Read a stock portfolio file into a list of dictionaries with keys\n",
    "    name, shares, and price.\n",
    "    '''\n",
    "    with open(filename) as lines:\n",
    "        # return fileparse.parse_csv(lines, select=['name','shares','price'], types=[str,int,float])\n",
    "\n",
    "        # Convert Dictionary to Object     \n",
    "        portdicts = fileparse.parse_csv(lines, select=['name','shares','price'], types=[str,int,float])\n",
    "        print('[report.py]<read_portfolio()> Return to Object')\n",
    "        return [ stock.Stock(d['name'], d['shares'], d['price']) for d in portdicts ]\n",
    "\n",
    "def read_prices(filename):\n",
    "    '''\n",
    "    Read a CSV file of price data into a dict mapping names to prices.\n",
    "    '''\n",
    "    with open(filename) as lines:\n",
    "        return dict(fileparse.parse_csv(lines, types=[str,float], has_headers=False))\n",
    "\n",
    "        # Convert Dictionary to Object     \n",
    "        # portdicts = fileparse.parse_csv(lines, types=[str,float], has_headers=False)\n",
    "        # return [ prices.Prices(d.name, d.price) for d in portdicts ]\n",
    "\n",
    "\n",
    "def make_report_data(portfolio,prices):\n",
    "    '''\n",
    "    Make a list of (name, shares, price, change) tuples given a portfolio list\n",
    "    and prices dictionary.\n",
    "    '''\n",
    "    rows = []\n",
    "    for stock in portfolio:\n",
    "        current_price = prices[stock.name]\n",
    "        change = current_price - stock.price\n",
    "        summary = (stock.name, stock.shares, current_price, change)\n",
    "        rows.append(summary)\n",
    "    return rows\n",
    "\n",
    "def print_report(reportdata, formatter):\n",
    "    '''\n",
    "    Print a nicely formated table from a list of (name, shares, price, change) tuples.\n",
    "    '''\n",
    "    formatter.headings(['Name', 'Shares', 'Price', 'Change'])\n",
    "        \n",
    "    for name, shares, price, change in reportdata:\n",
    "        rowdata = [ name, str(shares), f'{price:0.2f}', f'{change:0.2f}' ]\n",
    "        formatter.row(rowdata)\n",
    "\n",
    "def portfolio_report(portfoliofile, pricefile):        \n",
    "    '''\n",
    "    Make a stock report given portfolio and price data files.\n",
    "    '''\n",
    "    # Read data files \n",
    "    portfolio = read_portfolio(portfoliofile)\n",
    "    prices = read_prices(pricefile)\n",
    "\n",
    "    # Create the report data (보고서 데이터 생성)\n",
    "    report = make_report_data(portfolio, prices)\n",
    "\n",
    "    # Print it out\n",
    "    formatter = tableformat.TextTableFormatter()\n",
    "    print_report(report, formatter)\n",
    "\n",
    "def main(args):\n",
    "    if len(args) != 3:\n",
    "        raise SystemExit('Usage: %s portfile pricefile' % args[0])\n",
    "    portfolio_report(args[1], args[2])\n",
    "\n",
    "if __name__ == '__main__':\n",
    "    import sys\n",
    "    main(sys.argv)\n"
   ]
  },
  {
   "cell_type": "code",
   "execution_count": 11,
   "metadata": {},
   "outputs": [
    {
     "name": "stdout",
     "output_type": "stream",
     "text": [
      "[report.py]<read_portfolio()> Return to Object\n",
      "      Name     Shares      Price     Change \n",
      "---------- ---------- ---------- ---------- \n",
      "        AA        100       9.22     -22.98 \n",
      "       IBM         50     106.28      15.18 \n",
      "       CAT        150      35.46     -47.98 \n",
      "      MSFT        200      20.89     -30.34 \n",
      "        GE         95      13.48     -26.89 \n",
      "      MSFT         50      20.89     -44.21 \n",
      "       IBM        100     106.28      35.84 \n"
     ]
    }
   ],
   "source": [
    "import report\n",
    "report.portfolio_report('../../data/portfolio.csv', '../../data/prices.csv')\n"
   ]
  },
  {
   "cell_type": "code",
   "execution_count": null,
   "metadata": {},
   "outputs": [],
   "source": [
    "# 하지만, 출력을 다른 것으로 바꾸자. 출력을 CSV 포맷으로 출력하는 새로운 클래스 CSVTableFormatter를 정의한다.\n",
    "\n",
    "# # tableformat.py\n",
    "# ...\n",
    "# class CSVTableFormatter(TableFormatter):\n",
    "#     '''\n",
    "#     포트폴리오 데이터를 CSV 포맷으로 출력.\n",
    "#     '''\n",
    "#     def headings(self, headers):\n",
    "#         print(','.join(headers))\n",
    "\n",
    "#     def row(self, rowdata):\n",
    "#         print(','.join(rowdata))\n",
    "# 메인 프로그램을 다음과 같이 수정한다.\n",
    "\n",
    "\n",
    "# def portfolio_report(portfoliofile, pricefile):\n",
    "#     '''\n",
    "#     주어진 포트폴리오와 가격 데이터 파일을 가지고 주식 보고서를 작성.\n",
    "#     '''\n",
    "#     # 데이터 파일 읽기\n",
    "#     portfolio = read_portfolio(portfoliofile)\n",
    "#     prices = read_prices(pricefile)\n",
    "\n",
    "#     # 보고서 데이터 생성\n",
    "#     report = make_report_data(portfolio, prices)\n",
    "\n",
    "#     # 프린트\n",
    "#     formatter = tableformat.CSVTableFormatter()\n",
    "#     print_report(report, formatter)"
   ]
  },
  {
   "cell_type": "code",
   "execution_count": 4,
   "metadata": {},
   "outputs": [
    {
     "name": "stdout",
     "output_type": "stream",
     "text": [
      "Overwriting ../../test_bed/tableformat.py\n"
     ]
    }
   ],
   "source": [
    "%%writefile ../../test_bed/tableformat.py\n",
    "# tableformat.py\n",
    "\n",
    "class TableFormatter:\n",
    "    def headings(self, headers):\n",
    "        '''\n",
    "        테이블 헤딩을 반환.\n",
    "        '''\n",
    "        raise NotImplementedError()\n",
    "\n",
    "    def row(self, rowdata):\n",
    "        '''\n",
    "        테이블 데이터의 단일 행을 반환.\n",
    "        '''\n",
    "        raise NotImplementedError()\n",
    "\n",
    "class TextTableFormatter(TableFormatter):\n",
    "    def headings(self, headers):\n",
    "        for h in headers:\n",
    "            print(f'{h:>10s}', end=' ')\n",
    "        print()\n",
    "        print(('-'*10 + ' ')*len(headers))\n",
    "\n",
    "    def row(self, rowdata):\n",
    "        for d in rowdata:\n",
    "            print(f'{d:>10s}', end=' ')\n",
    "        print()\n",
    "\n",
    "class CSVTableFormatter(TableFormatter):\n",
    "    def headings(self, headers):\n",
    "        print(','.join(headers))\n",
    "            \n",
    "    def row(self, rowdata):\n",
    "        print(','.join(rowdata))\n"
   ]
  },
  {
   "cell_type": "code",
   "execution_count": 5,
   "metadata": {},
   "outputs": [
    {
     "name": "stdout",
     "output_type": "stream",
     "text": [
      "Overwriting ../../test_bed/report.py\n"
     ]
    }
   ],
   "source": [
    "%%writefile ../../test_bed/report.py\n",
    "# report.py\n",
    "\n",
    "import fileparse\n",
    "import stock\n",
    "import prices\n",
    "import tableformat\n",
    "\n",
    "def read_portfolio(filename):\n",
    "    '''\n",
    "    Read a stock portfolio file into a list of dictionaries with keys\n",
    "    name, shares, and price.\n",
    "    '''\n",
    "    with open(filename) as lines:\n",
    "        # return fileparse.parse_csv(lines, select=['name','shares','price'], types=[str,int,float])\n",
    "\n",
    "        # Convert Dictionary to Object     \n",
    "        portdicts = fileparse.parse_csv(lines, select=['name','shares','price'], types=[str,int,float])\n",
    "        print('[report.py]<read_portfolio()> Return to Object')\n",
    "        return [ stock.Stock(d['name'], d['shares'], d['price']) for d in portdicts ]\n",
    "\n",
    "def read_prices(filename):\n",
    "    '''\n",
    "    Read a CSV file of price data into a dict mapping names to prices.\n",
    "    '''\n",
    "    with open(filename) as lines:\n",
    "        return dict(fileparse.parse_csv(lines, types=[str,float], has_headers=False))\n",
    "\n",
    "        # Convert Dictionary to Object     \n",
    "        # portdicts = fileparse.parse_csv(lines, types=[str,float], has_headers=False)\n",
    "        # return [ prices.Prices(d.name, d.price) for d in portdicts ]\n",
    "\n",
    "\n",
    "def make_report_data(portfolio,prices):\n",
    "    '''\n",
    "    Make a list of (name, shares, price, change) tuples given a portfolio list\n",
    "    and prices dictionary.\n",
    "    '''\n",
    "    rows = []\n",
    "    for stock in portfolio:\n",
    "        current_price = prices[stock.name]\n",
    "        change = current_price - stock.price\n",
    "        summary = (stock.name, stock.shares, current_price, change)\n",
    "        rows.append(summary)\n",
    "    return rows\n",
    "\n",
    "def print_report(reportdata, formatter):\n",
    "    '''\n",
    "    Print a nicely formated table from a list of (name, shares, price, change) tuples.\n",
    "    '''\n",
    "    formatter.headings(['Name', 'Shares', 'Price', 'Change'])\n",
    "        \n",
    "    for name, shares, price, change in reportdata:\n",
    "        rowdata = [ name, str(shares), f'{price:0.2f}', f'{change:0.2f}' ]\n",
    "        formatter.row(rowdata)\n",
    "\n",
    "def portfolio_report(portfoliofile, pricefile):        \n",
    "    '''\n",
    "    Make a stock report given portfolio and price data files.\n",
    "    '''\n",
    "    # Read data files \n",
    "    portfolio = read_portfolio(portfoliofile)\n",
    "    prices = read_prices(pricefile)\n",
    "\n",
    "    # Create the report data (보고서 데이터 생성)\n",
    "    report = make_report_data(portfolio, prices)\n",
    "\n",
    "    # Print it out\n",
    "    #formatter = tableformat.TextTableFormatter()\n",
    "    formatter = tableformat.CSVTableFormatter()\n",
    "    print_report(report, formatter)\n",
    "\n",
    "def main(args):\n",
    "    if len(args) != 3:\n",
    "        raise SystemExit('Usage: %s portfile pricefile' % args[0])\n",
    "    portfolio_report(args[1], args[2])\n",
    "\n",
    "if __name__ == '__main__':\n",
    "    import sys\n",
    "    main(sys.argv)\n"
   ]
  },
  {
   "cell_type": "code",
   "execution_count": null,
   "metadata": {},
   "outputs": [],
   "source": [
    "\n",
    "# 이제 다음과 같은 CSV 출력을 볼 수 있을 것이다.\n",
    "\n",
    "# >>> ================================ RESTART ================================\n",
    "# >>> import report\n",
    "# >>> report.portfolio_report('Data/portfolio.csv', 'Data/prices.csv')\n",
    "# Name,Shares,Price,Change\n",
    "# AA,100,9.22,-22.98\n",
    "# IBM,50,106.28,15.18\n",
    "# CAT,150,35.46,-47.98\n",
    "# MSFT,200,20.89,-30.34\n",
    "# GE,95,13.48,-26.89\n",
    "# MSFT,50,20.89,-44.21\n",
    "# IBM,100,106.28,35.84"
   ]
  },
  {
   "cell_type": "code",
   "execution_count": 1,
   "metadata": {},
   "outputs": [],
   "source": [
    "import sys\n",
    "sys.path.append('../../test_bed')"
   ]
  },
  {
   "cell_type": "code",
   "execution_count": 2,
   "metadata": {},
   "outputs": [
    {
     "name": "stdout",
     "output_type": "stream",
     "text": [
      "[report.py]<read_portfolio()> Return to Object\n",
      "Name,Shares,Price,Change\n",
      "AA,100,9.22,-22.98\n",
      "IBM,50,106.28,15.18\n",
      "CAT,150,35.46,-47.98\n",
      "MSFT,200,20.89,-30.34\n",
      "GE,95,13.48,-26.89\n",
      "MSFT,50,20.89,-44.21\n",
      "IBM,100,106.28,35.84\n"
     ]
    }
   ],
   "source": [
    "import report\n",
    "report.portfolio_report('../../data/portfolio.csv', '../../data/prices.csv')\n"
   ]
  },
  {
   "cell_type": "code",
   "execution_count": null,
   "metadata": {},
   "outputs": [],
   "source": [
    "\n",
    "# 마찬가지로, 다음과 같은 출력을 생성하는 HTMLTableFormatter 클래스를 정의한다.\n",
    "\n",
    "# <tr><th>Name</th><th>Shares</th><th>Price</th><th>Change</th></tr>\n",
    "# <tr><td>AA</td><td>100</td><td>9.22</td><td>-22.98</td></tr>\n",
    "# <tr><td>IBM</td><td>50</td><td>106.28</td><td>15.18</td></tr>\n",
    "# <tr><td>CAT</td><td>150</td><td>35.46</td><td>-47.98</td></tr>\n",
    "# <tr><td>MSFT</td><td>200</td><td>20.89</td><td>-30.34</td></tr>\n",
    "# <tr><td>GE</td><td>95</td><td>13.48</td><td>-26.89</td></tr>\n",
    "# <tr><td>MSFT</td><td>50</td><td>20.89</td><td>-44.21</td></tr>\n",
    "# <tr><td>IBM</td><td>100</td><td>106.28</td><td>35.84</td></tr>\n",
    "\n",
    "# CSVTableFormatter 객체 대신 HTMLTableFormatter 객체를 생성하게 메인 프로그램을 수정해 코드를 테스트하자."
   ]
  },
  {
   "cell_type": "code",
   "execution_count": 3,
   "metadata": {},
   "outputs": [
    {
     "name": "stdout",
     "output_type": "stream",
     "text": [
      "Overwriting ../../test_bed/tableformat.py\n"
     ]
    }
   ],
   "source": [
    "%%writefile ../../test_bed/tableformat.py\n",
    "# tableformat.py\n",
    "\n",
    "class TableFormatter:\n",
    "    def headings(self, headers):\n",
    "        '''\n",
    "        테이블 헤딩을 반환.\n",
    "        '''\n",
    "        raise NotImplementedError()\n",
    "\n",
    "    def row(self, rowdata):\n",
    "        '''\n",
    "        테이블 데이터의 단일 행을 반환.\n",
    "        '''\n",
    "        raise NotImplementedError()\n",
    "\n",
    "class TextTableFormatter(TableFormatter):\n",
    "    def headings(self, headers):\n",
    "        for h in headers:\n",
    "            print(f'{h:>10s}', end=' ')\n",
    "        print()\n",
    "        print(('-'*10 + ' ')*len(headers))\n",
    "\n",
    "    def row(self, rowdata):\n",
    "        for d in rowdata:\n",
    "            print(f'{d:>10s}', end=' ')\n",
    "        print()\n",
    "\n",
    "class CSVTableFormatter(TableFormatter):\n",
    "    def headings(self, headers):\n",
    "        print(','.join(headers))\n",
    "            \n",
    "    def row(self, rowdata):\n",
    "        print(','.join(rowdata))\n",
    "        \n",
    "class HTMLTableFormatter(TableFormatter):\n",
    "    def headings(self, headers):\n",
    "        print('<tr>', end='')\n",
    "        for h in headers:\n",
    "            print(f'<th>{h}</th>', end='')\n",
    "        print('</tr>')            \n",
    "                    \n",
    "    def row(self, rowdata):\n",
    "        print('<tr>', end='')\n",
    "        for r in rowdata:\n",
    "            print(f'<th>{r}</th>', end='')\n",
    "        print('</tr>')            "
   ]
  },
  {
   "cell_type": "code",
   "execution_count": 7,
   "metadata": {},
   "outputs": [
    {
     "name": "stdout",
     "output_type": "stream",
     "text": [
      "Overwriting ../../test_bed/report.py\n"
     ]
    }
   ],
   "source": [
    "%%writefile ../../test_bed/report.py\n",
    "# report.py\n",
    "\n",
    "import fileparse\n",
    "import stock\n",
    "import prices\n",
    "import tableformat\n",
    "\n",
    "def read_portfolio(filename):\n",
    "    '''\n",
    "    Read a stock portfolio file into a list of dictionaries with keys\n",
    "    name, shares, and price.\n",
    "    '''\n",
    "    with open(filename) as lines:\n",
    "        # return fileparse.parse_csv(lines, select=['name','shares','price'], types=[str,int,float])\n",
    "\n",
    "        # Convert Dictionary to Object     \n",
    "        portdicts = fileparse.parse_csv(lines, select=['name','shares','price'], types=[str,int,float])\n",
    "        print('[report.py]<read_portfolio()> Return to Object')\n",
    "        return [ stock.Stock(d['name'], d['shares'], d['price']) for d in portdicts ]\n",
    "\n",
    "def read_prices(filename):\n",
    "    '''\n",
    "    Read a CSV file of price data into a dict mapping names to prices.\n",
    "    '''\n",
    "    with open(filename) as lines:\n",
    "        return dict(fileparse.parse_csv(lines, types=[str,float], has_headers=False))\n",
    "\n",
    "        # Convert Dictionary to Object     \n",
    "        # portdicts = fileparse.parse_csv(lines, types=[str,float], has_headers=False)\n",
    "        # return [ prices.Prices(d.name, d.price) for d in portdicts ]\n",
    "\n",
    "\n",
    "def make_report_data(portfolio,prices):\n",
    "    '''\n",
    "    Make a list of (name, shares, price, change) tuples given a portfolio list\n",
    "    and prices dictionary.\n",
    "    '''\n",
    "    rows = []\n",
    "    for stock in portfolio:\n",
    "        current_price = prices[stock.name]\n",
    "        change = current_price - stock.price\n",
    "        summary = (stock.name, stock.shares, current_price, change)\n",
    "        rows.append(summary)\n",
    "    return rows\n",
    "\n",
    "def print_report(reportdata, formatter):\n",
    "    '''\n",
    "    Print a nicely formated table from a list of (name, shares, price, change) tuples.\n",
    "    '''\n",
    "    formatter.headings(['Name', 'Shares', 'Price', 'Change'])\n",
    "        \n",
    "    for name, shares, price, change in reportdata:\n",
    "        rowdata = [ name, str(shares), f'{price:0.2f}', f'{change:0.2f}' ]\n",
    "        formatter.row(rowdata)\n",
    "\n",
    "def portfolio_report(portfoliofile, pricefile):        \n",
    "    '''\n",
    "    Make a stock report given portfolio and price data files.\n",
    "    '''\n",
    "    # Read data files \n",
    "    portfolio = read_portfolio(portfoliofile)\n",
    "    prices = read_prices(pricefile)\n",
    "\n",
    "    # Create the report data (보고서 데이터 생성)\n",
    "    report = make_report_data(portfolio, prices)\n",
    "\n",
    "    # Print it out\n",
    "    #formatter = tableformat.TextTableFormatter()\n",
    "    #formatter = tableformat.CSVTableFormatter()\n",
    "    formatter = tableformat.HTMLTableFormatter()\n",
    "    print_report(report, formatter)\n",
    "\n",
    "def main(args):\n",
    "    if len(args) != 3:\n",
    "        raise SystemExit('Usage: %s portfile pricefile' % args[0])\n",
    "    portfolio_report(args[1], args[2])\n",
    "\n",
    "if __name__ == '__main__':\n",
    "    import sys\n",
    "    main(sys.argv)\n"
   ]
  },
  {
   "cell_type": "code",
   "execution_count": 1,
   "metadata": {},
   "outputs": [],
   "source": [
    "import sys\n",
    "sys.path.append('../../test_bed')"
   ]
  },
  {
   "cell_type": "code",
   "execution_count": 2,
   "metadata": {},
   "outputs": [
    {
     "name": "stdout",
     "output_type": "stream",
     "text": [
      "[report.py]<read_portfolio()> Return to Object\n",
      "<tr><th>Name</th><th>Shares</th><th>Price</th><th>Change</th></tr>\n",
      "<tr><th>AA</th><th>100</th><th>9.22</th><th>-22.98</th></tr>\n",
      "<tr><th>IBM</th><th>50</th><th>106.28</th><th>15.18</th></tr>\n",
      "<tr><th>CAT</th><th>150</th><th>35.46</th><th>-47.98</th></tr>\n",
      "<tr><th>MSFT</th><th>200</th><th>20.89</th><th>-30.34</th></tr>\n",
      "<tr><th>GE</th><th>95</th><th>13.48</th><th>-26.89</th></tr>\n",
      "<tr><th>MSFT</th><th>50</th><th>20.89</th><th>-44.21</th></tr>\n",
      "<tr><th>IBM</th><th>100</th><th>106.28</th><th>35.84</th></tr>\n"
     ]
    }
   ],
   "source": [
    "import report\n",
    "report.portfolio_report('../../data/portfolio.csv', '../../data/prices.csv')\n"
   ]
  },
  {
   "attachments": {},
   "cell_type": "markdown",
   "metadata": {},
   "source": [
    "## 연습 문제 4.7: 다형성"
   ]
  },
  {
   "cell_type": "code",
   "execution_count": null,
   "metadata": {},
   "outputs": [],
   "source": [
    "# 객체 지향 프로그래밍의 주된 특징은 기존 코드를 변경할 필요 없이 객체를 프로그램에 끼워넣을 수 있다는 것이다. \n",
    "# 예를 들어, TableFormatter 객체를 사용할 것으로 예상되는 프로그램을 작성했다고 하면, \n",
    "# 어떤 종류의 TableFormatter를 주는지에 관계없이 작동할 것이다. 이러한 행위를 '다형성(polymorphism)'이라 한다.\n",
    "\n",
    "# 한 가지 잠재적인 문제는 사용자가 원하는 포매터를 선택하게 하는 방법을 알아내는 것이다. \n",
    "# TextTableFormatter 같은 클래스명을 직접 사용하게 하는 것은 종종 성가시다. \n",
    "# 따라서 단순한 접근을 고려할 수 있다. 다음과 같이 코드에 if 문을 포함할 수 있을 것이다.\n",
    "\n",
    "# def portfolio_report(portfoliofile, pricefile, fmt='txt'):\n",
    "#     '''\n",
    "#     주어진 포트폴리오와 가격 데이터 파일을 가지고 주식 보고서를 작성.\n",
    "#     '''\n",
    "#     # 데이터 파일 읽기\n",
    "#     portfolio = read_portfolio(portfoliofile)\n",
    "#     prices = read_prices(pricefile)\n",
    "\n",
    "#     # 보고서 데이터 생성\n",
    "#     report = make_report_data(portfolio, prices)\n",
    "\n",
    "#     # 프린트\n",
    "#     if fmt == 'txt':\n",
    "#         formatter = tableformat.TextTableFormatter()\n",
    "#     elif fmt == 'csv':\n",
    "#         formatter = tableformat.CSVTableFormatter()\n",
    "#     elif fmt == 'html':\n",
    "#         formatter = tableformat.HTMLTableFormatter()\n",
    "#     else:\n",
    "#         raise RuntimeError(f'Unknown format {fmt}')\n",
    "#     print_report(report, formatter)\n",
    "\n",
    "# 이 코드에서, 사용자는 'txt'나 'csv' 같이 단순화된 이름을 지정함으로써 포맷을 선택한다. \n",
    "# 하지만, portfolio_report() 함수에 커다란 if 문을 넣는 것이 최선인가? \n",
    "# 그 코드를 다른 범용 함수로 옮기는 것이 나을 것이다.\n",
    "\n",
    "# 'txt', 'csv', 'html' 같은 출력 이름에 따라 사용자가 포매터를 생성하는 create_formatter(name) 함수를 tableformat.py 파일에 추가한다. \n",
    "\n",
    "# portfolio_report()를 다음과 같이 수정하자.\n",
    "\n",
    "# def portfolio_report(portfoliofile, pricefile, fmt='txt'):\n",
    "#     '''\n",
    "#     주어진 포트폴리오와 가격 데이터 파일을 가지고 주식 보고서를 작성.\n",
    "#     '''\n",
    "#     # 데이터 파일 읽기\n",
    "#     portfolio = read_portfolio(portfoliofile)\n",
    "#     prices = read_prices(pricefile)\n",
    "\n",
    "#     # 보고서 데이터 생성\n",
    "#     report = make_report_data(portfolio, prices)\n",
    "\n",
    "#     # 프린트\n",
    "#     formatter = tableformat.create_formatter(fmt)\n",
    "#     print_report(report, formatter)\n",
    "# 여러 포맷으로 함수를 호출해 함수가 제대로 작동하는지 확인해 보자."
   ]
  },
  {
   "cell_type": "code",
   "execution_count": 8,
   "metadata": {},
   "outputs": [
    {
     "name": "stdout",
     "output_type": "stream",
     "text": [
      "Overwriting ../../test_bed/report.py\n"
     ]
    }
   ],
   "source": [
    "%%writefile ../../test_bed/report.py\n",
    "# report.py\n",
    "\n",
    "import fileparse\n",
    "import stock\n",
    "import prices\n",
    "import tableformat\n",
    "\n",
    "def read_portfolio(filename):\n",
    "    '''\n",
    "    Read a stock portfolio file into a list of dictionaries with keys\n",
    "    name, shares, and price.\n",
    "    '''\n",
    "    with open(filename) as lines:\n",
    "        # return fileparse.parse_csv(lines, select=['name','shares','price'], types=[str,int,float])\n",
    "\n",
    "        # Convert Dictionary to Object     \n",
    "        portdicts = fileparse.parse_csv(lines, select=['name','shares','price'], types=[str,int,float])\n",
    "        print('[report.py]<read_portfolio()> Return to Object')\n",
    "        return [ stock.Stock(d['name'], d['shares'], d['price']) for d in portdicts ]\n",
    "\n",
    "def read_prices(filename):\n",
    "    '''\n",
    "    Read a CSV file of price data into a dict mapping names to prices.\n",
    "    '''\n",
    "    with open(filename) as lines:\n",
    "        return dict(fileparse.parse_csv(lines, types=[str,float], has_headers=False))\n",
    "\n",
    "        # Convert Dictionary to Object     \n",
    "        # portdicts = fileparse.parse_csv(lines, types=[str,float], has_headers=False)\n",
    "        # return [ prices.Prices(d.name, d.price) for d in portdicts ]\n",
    "\n",
    "\n",
    "def make_report_data(portfolio,prices):\n",
    "    '''\n",
    "    Make a list of (name, shares, price, change) tuples given a portfolio list\n",
    "    and prices dictionary.\n",
    "    '''\n",
    "    rows = []\n",
    "    for stock in portfolio:\n",
    "        current_price = prices[stock.name]\n",
    "        change = current_price - stock.price\n",
    "        summary = (stock.name, stock.shares, current_price, change)\n",
    "        rows.append(summary)\n",
    "    return rows\n",
    "\n",
    "def print_report(reportdata, formatter):\n",
    "    '''\n",
    "    Print a nicely formated table from a list of (name, shares, price, change) tuples.\n",
    "    '''\n",
    "    formatter.headings(['Name', 'Shares', 'Price', 'Change'])\n",
    "        \n",
    "    for name, shares, price, change in reportdata:\n",
    "        rowdata = [ name, str(shares), f'{price:0.2f}', f'{change:0.2f}' ]\n",
    "        formatter.row(rowdata)\n",
    "\n",
    "def portfolio_report(portfoliofile, pricefile, fmt='txt'):        \n",
    "    '''\n",
    "    Make a stock report given portfolio and price data files.\n",
    "    '''\n",
    "    # Read data files \n",
    "    portfolio = read_portfolio(portfoliofile)\n",
    "    prices = read_prices(pricefile)\n",
    "\n",
    "    # Create the report data (보고서 데이터 생성)\n",
    "    report = make_report_data(portfolio, prices)\n",
    "\n",
    "    # Print it out\n",
    "    #formatter = tableformat.TextTableFormatter()\n",
    "    #formatter = tableformat.CSVTableFormatter()\n",
    "\n",
    "    formatter = tableformat.create_formatter(fmt)\n",
    "    print_report(report, formatter)\n",
    "    \n",
    "\n",
    "def main(args):\n",
    "    if len(args) != 3:\n",
    "        raise SystemExit('Usage: %s portfile pricefile' % args[0])\n",
    "    portfolio_report(args[1], args[2])\n",
    "\n",
    "if __name__ == '__main__':\n",
    "    import sys\n",
    "    main(sys.argv, sys)\n"
   ]
  },
  {
   "cell_type": "code",
   "execution_count": 8,
   "metadata": {},
   "outputs": [
    {
     "name": "stdout",
     "output_type": "stream",
     "text": [
      "Overwriting ../../test_bed/tableformat.py\n"
     ]
    }
   ],
   "source": [
    "%%writefile ../../test_bed/tableformat.py\n",
    "# tableformat.py\n",
    "\n",
    "class TableFormatter:\n",
    "    def headings(self, headers):\n",
    "        '''\n",
    "        테이블 헤딩을 반환.\n",
    "        '''\n",
    "        raise NotImplementedError()\n",
    "\n",
    "    def row(self, rowdata):\n",
    "        '''\n",
    "        테이블 데이터의 단일 행을 반환.\n",
    "        '''\n",
    "        raise NotImplementedError()\n",
    "    \n",
    "\n",
    "class TextTableFormatter(TableFormatter):\n",
    "    def headings(self, headers):\n",
    "        for h in headers:\n",
    "            print(f'{h:>10s}', end=' ')\n",
    "        print()\n",
    "        print(('-'*10 + ' ')*len(headers))\n",
    "\n",
    "    def row(self, rowdata):\n",
    "        for d in rowdata:\n",
    "            print(f'{d:>10s}', end=' ')\n",
    "        print()\n",
    "        \n",
    "\n",
    "class CSVTableFormatter(TableFormatter):\n",
    "    def headings(self, headers):\n",
    "        print(','.join(headers))\n",
    "            \n",
    "    def row(self, rowdata):\n",
    "        print(','.join(rowdata))\n",
    "        \n",
    "        \n",
    "class HTMLTableFormatter(TableFormatter):\n",
    "    def headings(self, headers):\n",
    "        print('<tr>', end='')\n",
    "        for h in headers:\n",
    "            print(f'<th>{h}</th>', end='')\n",
    "        print('</tr>')            \n",
    "                    \n",
    "    def row(self, rowdata):\n",
    "        print('<tr>', end='')\n",
    "        for r in rowdata:\n",
    "            print(f'<th>{r}</th>', end='')\n",
    "        print('</tr>')            \n",
    "\n",
    "\n",
    "def create_formatter(fmt):\n",
    "    if fmt == 'txt':\n",
    "        formatter = TextTableFormatter()\n",
    "    elif fmt == 'csv':\n",
    "        formatter = CSVTableFormatter()\n",
    "    elif fmt == 'html':\n",
    "        formatter = HTMLTableFormatter()\n",
    "    else:\n",
    "        raise RuntimeError(f'Unknown format {fmt}')\n",
    "    \n",
    "    return formatter"
   ]
  },
  {
   "cell_type": "code",
   "execution_count": 1,
   "metadata": {},
   "outputs": [],
   "source": [
    "import sys\n",
    "sys.path.append('../../test_bed')"
   ]
  },
  {
   "cell_type": "code",
   "execution_count": 3,
   "metadata": {},
   "outputs": [
    {
     "name": "stdout",
     "output_type": "stream",
     "text": [
      "[report.py]<read_portfolio()> Return to Object\n",
      "<tr><th>Name</th><th>Shares</th><th>Price</th><th>Change</th></tr>\n",
      "<tr><th>AA</th><th>100</th><th>9.22</th><th>-22.98</th></tr>\n",
      "<tr><th>IBM</th><th>50</th><th>106.28</th><th>15.18</th></tr>\n",
      "<tr><th>CAT</th><th>150</th><th>35.46</th><th>-47.98</th></tr>\n",
      "<tr><th>MSFT</th><th>200</th><th>20.89</th><th>-30.34</th></tr>\n",
      "<tr><th>GE</th><th>95</th><th>13.48</th><th>-26.89</th></tr>\n",
      "<tr><th>MSFT</th><th>50</th><th>20.89</th><th>-44.21</th></tr>\n",
      "<tr><th>IBM</th><th>100</th><th>106.28</th><th>35.84</th></tr>\n"
     ]
    }
   ],
   "source": [
    "import report\n",
    "\n",
    "report.portfolio_report('../../data/portfolio.csv', '../../data/prices.csv', fmt='html')"
   ]
  },
  {
   "attachments": {},
   "cell_type": "markdown",
   "metadata": {},
   "source": [
    "## 연습 문제 4.8: 모두 합치기"
   ]
  },
  {
   "cell_type": "code",
   "execution_count": null,
   "metadata": {},
   "outputs": [],
   "source": [
    "# portfolio_report() 함수가 출력 포맷을 지정하는 선택적 인자를 받게 report.py 프로그램을 수정하라. 예:\n",
    "\n",
    "# >>> report.portfolio_report('Data/portfolio.csv', 'Data/prices.csv', 'txt')\n",
    "#       Name     Shares      Price     Change\n",
    "# ---------- ---------- ---------- ----------\n",
    "#         AA        100       9.22     -22.98\n",
    "#        IBM         50     106.28      15.18\n",
    "#        CAT        150      35.46     -47.98\n",
    "#       MSFT        200      20.89     -30.34\n",
    "#         GE         95      13.48     -26.89\n",
    "#       MSFT         50      20.89     -44.21\n",
    "#        IBM        100     106.28      35.84\n",
    "# >>>\n",
    "# 명령행에서 포맷을 지정하게 메인 프로그램을 수정한다.\n",
    "\n",
    "# bash $ python3 report.py Data/portfolio.csv Data/prices.csv csv\n",
    "# Name,Shares,Price,Change\n",
    "# AA,100,9.22,-22.98\n",
    "# IBM,50,106.28,15.18\n",
    "# CAT,150,35.46,-47.98\n",
    "# MSFT,200,20.89,-30.34\n",
    "# GE,95,13.48,-26.89\n",
    "# MSFT,50,20.89,-44.21\n",
    "# IBM,100,106.28,35.84\n",
    "# bash $"
   ]
  },
  {
   "cell_type": "code",
   "execution_count": 7,
   "metadata": {},
   "outputs": [
    {
     "name": "stdout",
     "output_type": "stream",
     "text": [
      "Overwriting ../../test_bed/report.py\n"
     ]
    }
   ],
   "source": [
    "%%writefile ../../test_bed/report.py\n",
    "# report.py\n",
    "\n",
    "import fileparse\n",
    "import stock\n",
    "import prices\n",
    "import tableformat\n",
    "\n",
    "def read_portfolio(filename):\n",
    "    '''\n",
    "    Read a stock portfolio file into a list of dictionaries with keys\n",
    "    name, shares, and price.\n",
    "    '''\n",
    "    with open(filename) as lines:\n",
    "        # return fileparse.parse_csv(lines, select=['name','shares','price'], types=[str,int,float])\n",
    "\n",
    "        # Convert Dictionary to Object     \n",
    "        portdicts = fileparse.parse_csv(lines, select=['name','shares','price'], types=[str,int,float])\n",
    "        print('[report.py]<read_portfolio()> Return to Object')\n",
    "        return [ stock.Stock(d['name'], d['shares'], d['price']) for d in portdicts ]\n",
    "\n",
    "def read_prices(filename):\n",
    "    '''\n",
    "    Read a CSV file of price data into a dict mapping names to prices.\n",
    "    '''\n",
    "    with open(filename) as lines:\n",
    "        return dict(fileparse.parse_csv(lines, types=[str,float], has_headers=False))\n",
    "\n",
    "        # Convert Dictionary to Object     \n",
    "        # portdicts = fileparse.parse_csv(lines, types=[str,float], has_headers=False)\n",
    "        # return [ prices.Prices(d.name, d.price) for d in portdicts ]\n",
    "\n",
    "\n",
    "def make_report_data(portfolio,prices):\n",
    "    '''\n",
    "    Make a list of (name, shares, price, change) tuples given a portfolio list\n",
    "    and prices dictionary.\n",
    "    '''\n",
    "    rows = []\n",
    "    for stock in portfolio:\n",
    "        current_price = prices[stock.name]\n",
    "        change = current_price - stock.price\n",
    "        summary = (stock.name, stock.shares, current_price, change)\n",
    "        rows.append(summary)\n",
    "    return rows\n",
    "\n",
    "def print_report(reportdata, formatter):\n",
    "    '''\n",
    "    Print a nicely formated table from a list of (name, shares, price, change) tuples.\n",
    "    '''\n",
    "    formatter.headings(['Name', 'Shares', 'Price', 'Change'])\n",
    "        \n",
    "    for name, shares, price, change in reportdata:\n",
    "        rowdata = [ name, str(shares), f'{price:0.2f}', f'{change:0.2f}' ]\n",
    "        formatter.row(rowdata)\n",
    "\n",
    "def portfolio_report(portfoliofile, pricefile, fmt):        \n",
    "    '''\n",
    "    Make a stock report given portfolio and price data files.\n",
    "    '''\n",
    "    # Read data files \n",
    "    portfolio = read_portfolio(portfoliofile)\n",
    "    prices = read_prices(pricefile)\n",
    "\n",
    "    # Create the report data (보고서 데이터 생성)\n",
    "    report = make_report_data(portfolio, prices)\n",
    "\n",
    "    # Print it out\n",
    "    formatter = tableformat.create_formatter(fmt)\n",
    "    print_report(report, formatter)\n",
    "    \n",
    "\n",
    "def main(args):\n",
    "    if len(args) != 4:\n",
    "        raise SystemExit('Usage: %s portfile pricefile' % args[0])\n",
    "    portfolio_report(args[1], args[2], args[3])\n",
    "\n",
    "if __name__ == '__main__':\n",
    "    import sys\n",
    "    main(sys.argv)\n"
   ]
  },
  {
   "attachments": {},
   "cell_type": "markdown",
   "metadata": {},
   "source": [
    "## 논의"
   ]
  },
  {
   "cell_type": "code",
   "execution_count": null,
   "metadata": {},
   "outputs": [],
   "source": [
    "# 논의\n",
    "# ----\n",
    "# 라이브러리와 프레임워크에서 확장성 있는 코드를 작성하는 것은 상속의 주된 용도다. \n",
    "# 예를 들어, 프레임워크는 기본 클래스를 제공하고 당신은 그것을 상속해 객체를 정의한다. \n",
    "# 그런 다음 기능을 구현하는 다양한 메서드를 채운다.\n",
    "\n",
    "# 또 한 가지 심오한 개념은 '추상화를 직접 작성'하는 것이다. \n",
    "# 우리는 이 연습 문제에서 테이블을 포매팅하는 클래스를 직접 정의했다. \n",
    "# 코드를 들여다보고 '포매팅 라이브러리라든지 다른 사람이 이미 만들어놓은 것을 사용해야겠다'고 생각할지 모르겠다. \n",
    "# 하지만 직접 만든 클래스와 라이브러리를 둘 다 사용해야 한다. 스스로 클래스를 만들면 커플링이 줄어들고 더 유연해진다. \n",
    "# 당신의 애플리케이션이 당신의 클래스의 프로그래밍 인터페이스를 사용하는 한, 내부 구현을 원하는 대로 변경할 수 있다. \n",
    "# 완전한 맞춤 코드를 작성할 수 있다. 다른 사람이 만든 서드 파티 패키지를 사용할 수 있다. \n",
    "# 사용하던 서드 파티 패키지보다 더 좋은 것을 찾게 되면 다른 것으로 바꿀 수 있다. \n",
    "# 패키지를 교체하는 것이 별 문제가 되지 않을 것이다. \n",
    "# 인터페이스를 유지하는 한 애플리케이션 코드가 전혀 깨지지 않을 것이기 때문이다. \n",
    "# 그것은 강력한 아이디어이며, 이와 같은 상속을 고려해야 하는 이유다.\n",
    "\n",
    "# 객체 지향 프로그램 설계는 매우 어려울 수 있다. \n",
    "# 더 알고 싶으면 디자인 패턴을 다루는 책을 살펴보기 바란다\n",
    "# (이 연습 문제에서 일어난 일을 이해하면 객체를 실용적으로 다루는 데 상당한 도움이 된다)."
   ]
  },
  {
   "attachments": {},
   "cell_type": "markdown",
   "metadata": {},
   "source": [
    "# 4.3 특수한 메서드"
   ]
  },
  {
   "attachments": {},
   "cell_type": "markdown",
   "metadata": {},
   "source": [
    "## 문자열 변환을 위한 특수 메서드(__str__, __repr__)"
   ]
  },
  {
   "cell_type": "code",
   "execution_count": null,
   "metadata": {},
   "outputs": [],
   "source": [
    "# 특수한 메서드를 사용함으로써, 파이썬의 행위를 여러 면에서 커스터마이즈할 수 있다. \n",
    "# 이러한 특수 메서드를 \"마법(magic)\" 메서드라고도 부른다. 이 섹션에서 그 개념을 알아보자. \n",
    "# 동적 어트리뷰트 액세스와 바운드 메서드도 논의한다.\n",
    "\n",
    "# 도입\n",
    "# ----\n",
    "# 클래스에 특수 메서드를 정의할 수 있다. 파이썬 인터프리터는 이러한 메서드들을 특별하게 다룬다. 항상 앞에 __가 붙는다. (예: __init__)\n",
    "\n",
    "# class Stock(object):\n",
    "#     def __init__(self):\n",
    "#         ...\n",
    "#     def __repr__(self):\n",
    "#         ...\n",
    "# 특수 메서드는 많이 있지만, 그중 몇 가지만 예를 들어 보자."
   ]
  },
  {
   "attachments": {},
   "cell_type": "markdown",
   "metadata": {},
   "source": [
    "## 문자열 변환을 위한 특수 메서드"
   ]
  },
  {
   "cell_type": "code",
   "execution_count": null,
   "metadata": {},
   "outputs": [],
   "source": [
    "# 문자열 변환을 위한 특수 메서드\n",
    "# ----------------------------\n",
    "# 객체에는 두 가지 문자열 표현이 있다.\n",
    "\n",
    "# >>> from datetime import date\n",
    "# >>> d = date(2012, 12, 21)\n",
    "# >>> print(d)\n",
    "# 2012-12-21\n",
    "\n",
    "# >>> d\n",
    "# datetime.date(2012, 12, 21)\n",
    "# >>>\n",
    "\n",
    "\n",
    "# str() 함수를 사용해 멋지게 프린트할 수 있는 출력을 생성한다.\n",
    "\n",
    "# >>> str(d)\n",
    "# '2012-12-21'\n",
    "# >>>\n",
    "\n",
    "# repr() 함수는 개발자를 위한 상세한 표현에 사용된다.\n",
    "\n",
    "# >>> repr(d)\n",
    "# 'datetime.date(2012, 12, 21)'\n",
    "# >>>\n",
    "\n",
    "# 이러한 str()과 repr() 함수는 특수한 메서드를 사용해, 클래스로부터 문자열을 생성한다.\n",
    "\n",
    "# class Date(object):\n",
    "#     def __init__(self, year, month, day):\n",
    "#         self.year = year\n",
    "#         self.month = month\n",
    "#         self.day = day\n",
    "\n",
    "#     # Used with `str()`\n",
    "#     def __str__(self):\n",
    "#         return f'{self.year}-{self.month}-{self.day}'\n",
    "\n",
    "#     # `repr()`과 함께 사용\n",
    "#     def __repr__(self):\n",
    "#         return f'Date({self.year},{self.month},{self.day})'\n",
    "\n",
    "# 참고: __repr__()이 반환하는 문자열을 eval()에 전달하면 객체를 다시 만들 수 있도록 하는 것이 관례다. \n",
    "# 그렇게 하는 것이 불가능하다면, 그 대신 읽기 쉬운 표현을 사용한다.\n"
   ]
  },
  {
   "cell_type": "code",
   "execution_count": 10,
   "metadata": {},
   "outputs": [
    {
     "name": "stdout",
     "output_type": "stream",
     "text": [
      "2023-3-27\n"
     ]
    }
   ],
   "source": [
    "class Date:\n",
    "    def __init__(self, year, month, day):\n",
    "        self.year = year\n",
    "        self.month = month\n",
    "        self.day = day\n",
    "    \n",
    "    def __str__(self):\n",
    "        return f'{self.year}-{self.month}-{self.day}'\n",
    "    \n",
    "    def __repr__(self):\n",
    "        return f'Date({self.year},{self.month},{self.day})' \n",
    "    \n",
    "aa = Date(2023, 3, 27)\n",
    "print(aa)\n",
    "       "
   ]
  },
  {
   "attachments": {},
   "cell_type": "markdown",
   "metadata": {},
   "source": [
    "## 수학을 위한 특수 메서드"
   ]
  },
  {
   "cell_type": "code",
   "execution_count": null,
   "metadata": {},
   "outputs": [],
   "source": [
    "# 수학을 위한 특수 메서드\n",
    "# ---------------------\n",
    "# 다음과 같은 메서드가 수학 연산에 사용된다.\n",
    "\n",
    "# a + b       a.__add__(b)\n",
    "# a - b       a.__sub__(b)\n",
    "# a * b       a.__mul__(b)\n",
    "# a / b       a.__truediv__(b)\n",
    "# a // b      a.__floordiv__(b)\n",
    "# a % b       a.__mod__(b)\n",
    "# a << b      a.__lshift__(b)\n",
    "# a >> b      a.__rshift__(b)\n",
    "# a & b       a.__and__(b)\n",
    "# a | b       a.__or__(b)\n",
    "# a ^ b       a.__xor__(b)\n",
    "# a ** b      a.__pow__(b)\n",
    "# -a          a.__neg__()\n",
    "# ~a          a.__invert__()\n",
    "# abs(a)      a.__abs__()"
   ]
  },
  {
   "attachments": {},
   "cell_type": "markdown",
   "metadata": {},
   "source": [
    "## 항목 접근을 위한 특수 메서드"
   ]
  },
  {
   "cell_type": "code",
   "execution_count": null,
   "metadata": {},
   "outputs": [],
   "source": [
    "# 항목 접근을 위한 특수 메서드\n",
    "# --------------------------\n",
    "# 컨테이너를 구현하는 데 다음과 같은 메서드를 사용한다.\n",
    "\n",
    "# len(x)      x.__len__()\n",
    "# x[a]        x.__getitem__(a)\n",
    "# x[a] = v    x.__setitem__(a,v)\n",
    "# del x[a]    x.__delitem__(a)\n",
    "\n",
    "# 이것들을 다음과 같이 클래스에서 사용할 수 있다.\n",
    "\n",
    "# class Sequence:\n",
    "#     def __len__(self):\n",
    "#         ...\n",
    "#     def __getitem__(self,a):\n",
    "#         ...\n",
    "#     def __setitem__(self,a,v):\n",
    "#         ...\n",
    "#     def __delitem__(self,a):\n",
    "#         ...\n"
   ]
  },
  {
   "attachments": {},
   "cell_type": "markdown",
   "metadata": {},
   "source": [
    "## 메서드 호출(. 연산자, () 연산자)"
   ]
  },
  {
   "cell_type": "code",
   "execution_count": null,
   "metadata": {},
   "outputs": [],
   "source": [
    "# 메서드 호출\n",
    "# ----------\n",
    "# 메서드 호출은 두 단계 과정으로 이뤄진다.\n",
    "\n",
    "# 메서드가 있는지 확인(lookup): . 연산자\n",
    "# 메서드 호출: () 연산자\n",
    "\n",
    "# >>> s = Stock('GOOG',100,490.10)\n",
    "# >>> c = s.cost  # 메서드 확인\n",
    "# >>> c\n",
    "# <bound method Stock.cost of <Stock object at 0x590d0>>\n",
    "\n",
    "# >>> c()         # 메서드 호출\n",
    "# 49010.0\n",
    "# >>>"
   ]
  },
  {
   "cell_type": "code",
   "execution_count": 13,
   "metadata": {},
   "outputs": [
    {
     "name": "stdout",
     "output_type": "stream",
     "text": [
      "2023\n"
     ]
    }
   ],
   "source": [
    "class Date:\n",
    "    def __init__(self, year, month, day):\n",
    "        self.year = year\n",
    "        self.month = month\n",
    "        self.day = day\n",
    "    \n",
    "    def __str__(self):\n",
    "        return f'{self.year}-{self.month}-{self.day}'\n",
    "    \n",
    "    def __repr__(self):\n",
    "        return f'Date({self.year},{self.month},{self.day})' \n",
    "    \n",
    "    def print_date(self):\n",
    "        print(self.year)\n",
    "    \n",
    "d = Date(2023, 3, 27)\n",
    "e = d.print_date\n",
    "e\n",
    "e()\n",
    "       "
   ]
  },
  {
   "attachments": {},
   "cell_type": "markdown",
   "metadata": {},
   "source": [
    "## 바운드 메서드"
   ]
  },
  {
   "cell_type": "code",
   "execution_count": null,
   "metadata": {},
   "outputs": [],
   "source": [
    "# 바운드 메서드\n",
    "# ------------\n",
    "# 함수 호출 연산자 ()에 의해 호출되지 않은 메서드를 바운드 메서드(bound method)라 한다. \n",
    "# 바운드 메서드는 그것이 어느 인스턴스에서 왔는지를 반환한다.\n",
    "\n",
    "# >>> s = Stock('GOOG', 100, 490.10)\n",
    "# >>> s\n",
    "# <Stock object at 0x590d0>\n",
    "# >>> c = s.cost\n",
    "# >>> c\n",
    "# <bound method Stock.cost of <Stock object at 0x590d0>>\n",
    "# >>> c()\n",
    "# 49010.0\n",
    "# >>>\n",
    "# 바운드 메서드는 부주의하고 명백하지 않은 오류의 원인이 되곤 한다. 예:\n",
    "\n",
    "# >>> s = Stock('GOOG', 100, 490.10)\n",
    "# >>> print('Cost : %0.2f' % s.cost)\n",
    "# Traceback (most recent call last):\n",
    "#   File \"<stdin>\", line 1, in <module>\n",
    "# TypeError: float argument required\n",
    "# >>>\n",
    "# 또는 디버깅하기 힘든 잘못된 행동을 한다.\n",
    "\n",
    "# f = open(filename, 'w')\n",
    "# ...\n",
    "# f.close     # 아차, 아무 일도 하지 않았다. `f`는 여전히 열려 있다.\n",
    "# 두 경우 모두 괄호를 붙이는 것을 잊었기 때문에 오류가 발생했다. 예: s.cost() 또는 f.close().\n"
   ]
  },
  {
   "cell_type": "code",
   "execution_count": 26,
   "metadata": {},
   "outputs": [],
   "source": [
    "# %load ../../test_bed/stock.py\n",
    "class Stock:\n",
    "    def __init__(self, name, shares, price):\n",
    "        self.name = name\n",
    "        self.shares = shares\n",
    "        self.price = price\n",
    "        \n",
    "    def cost(self):\n",
    "        return self.shares * self.price\n",
    "        \n",
    "    def sell(self, shares):\n",
    "        self.shares -= shares            \n",
    "\n",
    "s = Stock('GOOG', 100, 490.10)\n",
    "isinstance(s, Stock) \n",
    "s     \n",
    "c = s.cost  \n",
    "c()\n",
    "\n",
    "s = Stock('GOOG', 100, 490.10)\n",
    "#print('Cost : %0.2f' % s.cost)\n",
    "\n",
    "f = open('../../data/portfolio.csv', 'r')\n",
    "#f.close"
   ]
  },
  {
   "cell_type": "code",
   "execution_count": null,
   "metadata": {},
   "outputs": [],
   "source": [
    "\n",
    "# 어트리뷰트 액세스\n",
    "# 어트리뷰트에 액세스, 조작, 관리하는 또 다른 방법이 있다.\n",
    "\n",
    "# getattr(obj, 'name')          # obj.name과 같음\n",
    "# setattr(obj, 'name', value)   # obj.name = value와 같음\n",
    "# delattr(obj, 'name')          # del obj.name과 같음\n",
    "# hasattr(obj, 'name')          # 어트리뷰트가 존재하는지 테스트\n",
    "# 예:\n",
    "\n",
    "# if hasattr(obj, 'x'):\n",
    "#     x = getattr(obj, 'x'):\n",
    "# else:\n",
    "#     x = None\n",
    "# 참고: getattr()에도 유용한 기본값 arg가 있다.\n",
    "\n",
    "# x = getattr(obj, 'x', None)\n",
    "# 연습 문제"
   ]
  }
 ],
 "metadata": {
  "kernelspec": {
   "display_name": "base",
   "language": "python",
   "name": "python3"
  },
  "language_info": {
   "codemirror_mode": {
    "name": "ipython",
    "version": 3
   },
   "file_extension": ".py",
   "mimetype": "text/x-python",
   "name": "python",
   "nbconvert_exporter": "python",
   "pygments_lexer": "ipython3",
   "version": "3.9.7"
  },
  "orig_nbformat": 4
 },
 "nbformat": 4,
 "nbformat_minor": 2
}
