{
 "cells": [
  {
   "attachments": {},
   "cell_type": "markdown",
   "metadata": {},
   "source": [
    "# 7. 고급 주제"
   ]
  },
  {
   "cell_type": "code",
   "execution_count": null,
   "metadata": {},
   "outputs": [],
   "source": [
    "# 이 섹션에서는 고급 주제 가운데 일상적인 코딩에서 접할 수 있는 것을 살펴본다. \n",
    "# 이러한 주제는 대부분 이전의 섹션에서 다룰 수도 있었지만, 설명이 너무 복잡해지는 것을 피하기 위해 미뤄둔 것이다.\n",
    "\n",
    "# 이 섹션은 이러한 개념의 극히 기본적인 소개로서 다룬다는 점을 강조해야겠다. 자세한 내용은 자료를 찾아보라.\n",
    "\n",
    "# 7.1 가변 인자 함수\n",
    "# 7.2 익명 함수와 람다\n",
    "# 7.3 함수를 반환하기(클로저)\n",
    "# 7.4 함수 데코레이터\n",
    "# 7.5 정적 및 클래스 메서드"
   ]
  },
  {
   "attachments": {},
   "cell_type": "markdown",
   "metadata": {},
   "source": [
    "## 7.1 가변 인자"
   ]
  },
  {
   "cell_type": "code",
   "execution_count": null,
   "metadata": {},
   "outputs": [],
   "source": [
    "# 7.1 가변 인자\n",
    "# ------------\n",
    "# 이 섹션은 *args와 **kwargs 같은 함수 인자를 다룬다.\n",
    "\n",
    "# 위치 가변 인자(*args)\n",
    "# --------------------\n",
    "# 임의의 개수의 인자를 받는 함수를 가리켜 가변 인자를 사용한다고 표현한다. 예:\n",
    "\n",
    "# def f(x, *args):\n",
    "#     ...\n",
    "# 함수 호출.\n",
    "\n",
    "# f(1,2,3,4,5)\n",
    "# 추가적인 인자를 튜플로 전달한다.\n",
    "\n",
    "# def f(x, *args):\n",
    "#     # x -> 1\n",
    "#     # args -> (2,3,4,5)\n",
    "\n",
    "\n",
    "# 키워드 가변 인자(**kwargs)\n",
    "# -------------------------\n",
    "# 함수는 임의의 개수의 키워드 인자도 받을 수 있다. 예:\n",
    "\n",
    "# def f(x, y, **kwargs):\n",
    "#     ...\n",
    "# 함수 호출.\n",
    "\n",
    "# f(2, 3, flag=True, mode='fast', header='debug')\n",
    "# 추가적인 키워드를 딕셔너리로 전달한다.\n",
    "\n",
    "# def f(x, y, **kwargs):\n",
    "#     # x -> 2\n",
    "#     # y -> 3\n",
    "#     # kwargs -> { 'flag': True, 'mode': 'fast', 'header': 'debug' }\n",
    "# 두 가지를 혼합\n",
    "# 함수는 임의의 개수의 가변 인자와 키워드 없는(non-keyword) 인자들을 받을 수 있다.\n",
    "\n",
    "# def f(*args, **kwargs):\n",
    "#     ...\n",
    "# 함수 호출.\n",
    "\n",
    "# f(2, 3, flag=True, mode='fast', header='debug')\n",
    "# 인자들은 위치 및 키워드 요소로 분할된다.\n",
    "\n",
    "# def f(*args, **kwargs):\n",
    "#     # args = (2, 3)\n",
    "#     # kwargs -> { 'flag': True, 'mode': 'fast', 'header': 'debug' }\n",
    "#     ...\n",
    "\n",
    "# 이 함수는 위치 또는 키워드 인자들의 어떠한 조합이라도 받을 수 있다. \n",
    "# 래퍼(wrapper)를 작성하거나 인자를 다른 함수에 전달하고자 할 때 사용하곤 한다.\n",
    "\n",
    "# 튜플과 딕셔너리를 전달하기\n",
    "# ------------------------\n",
    "# 튜플을 가변 인자로 확장할 수 있다.\n",
    "# numbers = (2,3,4)\n",
    "# f(1, *numbers)      # f(1,2,3,4)와 같음\n",
    "\n",
    "# 마찬가지로 딕셔너리를 키워드 인자로 확장할 수 있다.\n",
    "\n",
    "# options = {\n",
    "#     'color' : 'red',\n",
    "#     'delimiter' : ',',\n",
    "#     'width' : 400\n",
    "# }\n",
    "# f(data, **options)\n",
    "# # f(data, color='red', delimiter=',', width=400)와 같음"
   ]
  },
  {
   "attachments": {},
   "cell_type": "markdown",
   "metadata": {},
   "source": [
    "## 연습 문제"
   ]
  },
  {
   "cell_type": "code",
   "execution_count": null,
   "metadata": {},
   "outputs": [],
   "source": [
    "# 연습 문제 7.1: 가변 인자의 간단한 예\n",
    "# ----------------------------------\n",
    "# 다음 함수를 정의해 보자.\n",
    "\n",
    "# >>> def avg(x,*more):\n",
    "#         return float(x+sum(more))/(1+len(more))\n",
    "\n",
    "# >>> avg(10,11)\n",
    "# 10.5\n",
    "# >>> avg(3,4,5)\n",
    "# 4.0\n",
    "# >>> avg(1,2,3,4,5,6)\n",
    "# 3.5\n",
    "# >>>\n",
    "# *more 매개변수(parameter)가 추가적인 인자를 어떻게 수집하는지 살펴보라."
   ]
  },
  {
   "cell_type": "code",
   "execution_count": 2,
   "metadata": {},
   "outputs": [
    {
     "data": {
      "text/plain": [
       "3.5"
      ]
     },
     "execution_count": 2,
     "metadata": {},
     "output_type": "execute_result"
    }
   ],
   "source": [
    "def avg(x, *more):\n",
    "    return float(x+sum(more))/(1+len(more))\n",
    "\n",
    "avg(10, 11)\n",
    "avg(1,2,3,4,5,6)"
   ]
  },
  {
   "attachments": {},
   "cell_type": "markdown",
   "metadata": {},
   "source": [
    "### 연습 문제 7.2: 튜플과 딕셔너리를 인자로 전달"
   ]
  },
  {
   "cell_type": "code",
   "execution_count": null,
   "metadata": {},
   "outputs": [],
   "source": [
    "# 연습 문제 7.2: 튜플과 딕셔너리를 인자로 전달\n",
    "# -----------------------------------------\n",
    "# 데이터 파일을 읽어 다음과 같은 튜플을 얻었다고 하자.\n",
    "\n",
    "# >>> data = ('GOOG', 100, 490.1)\n",
    "# >>>\n",
    "# 이 데이터로부터 Stock 객체를 생성하고자 한다. 그런데 data를 직접 전달하면 작동하지 않는다.\n",
    "\n",
    "# >>> from stock import Stock\n",
    "# >>> s = Stock(data)\n",
    "# Traceback (most recent call last):\n",
    "#   File \"<stdin>\", line 1, in <module>\n",
    "# TypeError: __init__() takes exactly 4 arguments (2 given)\n",
    "# >>>\n",
    "\n",
    "# 그 대신 *data를 사용하면 간단히 해결할 수 있다. 다음과 같이 해 보라.\n",
    "\n",
    "# >>> s = Stock(*data)\n",
    "# >>> s\n",
    "# Stock('GOOG', 100, 490.1)\n",
    "# >>>\n",
    "# 딕셔너리를 사용할 때는 **을 붙인다. 예:\n",
    "\n",
    "# >>> data = { 'name': 'GOOG', 'shares': 100, 'price': 490.1 }\n",
    "# >>> s = Stock(**data)\n",
    "# Stock('GOOG', 100, 490.1)\n",
    "# >>>"
   ]
  },
  {
   "cell_type": "code",
   "execution_count": 5,
   "metadata": {},
   "outputs": [],
   "source": [
    "import sys\n",
    "sys.path.append('../../test_bed')"
   ]
  },
  {
   "cell_type": "code",
   "execution_count": 8,
   "metadata": {},
   "outputs": [
    {
     "data": {
      "text/plain": [
       "Stock(GOOG 100 490.1)"
      ]
     },
     "execution_count": 8,
     "metadata": {},
     "output_type": "execute_result"
    }
   ],
   "source": [
    "data = ('GOOG',100,490.1)\n",
    "\n",
    "from stock import Stock\n",
    "# s = Stock(data)         # 튜플을 인자로 넘길 경우 에러\n",
    "s = Stock(*data)\n",
    "s\n",
    "\n",
    "\n",
    "data = { 'name': 'GOOG', 'shares': 100, 'price': 490.1 }\n",
    "s = Stock(**data)\n",
    "s\n"
   ]
  },
  {
   "attachments": {},
   "cell_type": "markdown",
   "metadata": {},
   "source": [
    "### 연습 문제 7.3: 인스턴스의 리스트를 생성"
   ]
  },
  {
   "cell_type": "code",
   "execution_count": null,
   "metadata": {},
   "outputs": [],
   "source": [
    "# 연습 문제 7.3: 인스턴스의 리스트를 생성\n",
    "# ------------------------------------\n",
    "# report.py 프로그램에서 다음과 같은 코드를 사용해 인스턴스의 리스트를 생성했다.\n",
    "\n",
    "# def read_portfolio(filename):\n",
    "#     '''\n",
    "#     주식 포트폴리오 파일을 읽어 딕셔너리의 리스트를 생성.\n",
    "#     name, shares, price를 키로 사용.\n",
    "#     '''\n",
    "#     with open(filename) as lines:\n",
    "#         portdicts = fileparse.parse_csv(lines,\n",
    "#                                select=['name','shares','price'],\n",
    "#                                types=[str,int,float])\n",
    "\n",
    "#     portfolio = [ Stock(d['name'], d['shares'], d['price'])\n",
    "#                   for d in portdicts ]\n",
    "#     return Portfolio(portfolio)\n",
    "\n",
    "# Stock(**d)를 사용해 코드를 단순화할 수 있다. 그렇게 바꿔보라."
   ]
  },
  {
   "cell_type": "code",
   "execution_count": 13,
   "metadata": {},
   "outputs": [
    {
     "name": "stdout",
     "output_type": "stream",
     "text": [
      "Overwriting ../../test_bed/report.py\n"
     ]
    }
   ],
   "source": [
    "%%writefile ../../test_bed/report.py\n",
    "# report.py\n",
    "\n",
    "import fileparse\n",
    "import stock\n",
    "import prices\n",
    "import tableformat\n",
    "from portfolio import Portfolio\n",
    "\n",
    "\n",
    "def read_portfolio(filename):\n",
    "    '''\n",
    "    Read a stock portfolio file into a list of dictionaries with keys\n",
    "    name, shares, and price.\n",
    "    '''\n",
    "    with open(filename) as lines:\n",
    "        # Convert Dictionary to Object     \n",
    "        portdicts = fileparse.parse_csv(lines, select=['name','shares','price'], types=[str,int,float])\n",
    "    \n",
    "    portfolio = [ stock.Stock(**d) for d in portdicts ]\n",
    "    return Portfolio(portfolio)   \n",
    "\n",
    "def read_prices(filename):\n",
    "    '''\n",
    "    Read a CSV file of price data into a dict mapping names to prices.\n",
    "    '''\n",
    "    with open(filename) as lines:\n",
    "        return dict(fileparse.parse_csv(lines, types=[str,float], has_headers=False))\n",
    "\n",
    "        # Convert Dictionary to Object     \n",
    "        # portdicts = fileparse.parse_csv(lines, types=[str,float], has_headers=False)\n",
    "        # return [ prices.Prices(d.name, d.price) for d in portdicts ]\n",
    "\n",
    "\n",
    "def make_report_data(portfolio,prices):\n",
    "    '''\n",
    "    Make a list of (name, shares, price, change) tuples given a portfolio list\n",
    "    and prices dictionary.\n",
    "    '''\n",
    "    rows = []\n",
    "    for stock in portfolio:\n",
    "        current_price = prices[stock.name]\n",
    "        change = current_price - stock.price\n",
    "        summary = (stock.name, stock.shares, current_price, change)\n",
    "        rows.append(summary)\n",
    "    return rows\n",
    "\n",
    "def print_report(reportdata, formatter):\n",
    "    '''\n",
    "    Print a nicely formated table from a list of (name, shares, price, change) tuples.\n",
    "    '''\n",
    "    formatter.headings(['Name', 'Shares', 'Price', 'Change'])\n",
    "        \n",
    "    for name, shares, price, change in reportdata:\n",
    "        rowdata = [ name, f'{price:0.2f}', f'{change:0.2f}' ]\n",
    "        formatter.row(rowdata)\n",
    "\n",
    "def portfolio_report(portfoliofile, pricefile, fmt):        \n",
    "    '''\n",
    "    Make a stock report given portfolio and price data files.\n",
    "    '''\n",
    "    # Read data files \n",
    "    portfolio = read_portfolio(portfoliofile)\n",
    "    prices = read_prices(pricefile)\n",
    "\n",
    "    # Create the report data (보고서 데이터 생성)\n",
    "    report = make_report_data(portfolio, prices)\n",
    "\n",
    "    # Print it out\n",
    "    formatter = tableformat.create_formatter(fmt)\n",
    "    print_report(report, formatter)\n",
    "    \n",
    "\n",
    "def main(args):\n",
    "    if len(args) != 4:\n",
    "        raise SystemExit('Usage: %s portfile pricefile' % args[0])\n",
    "    portfolio_report(args[1], args[2], args[3])\n",
    "\n",
    "if __name__ == '__main__':\n",
    "    import sys\n",
    "    main(sys.argv)\n"
   ]
  },
  {
   "attachments": {},
   "cell_type": "markdown",
   "metadata": {},
   "source": [
    "### 연습 문제 7.4: 인자 통과"
   ]
  },
  {
   "cell_type": "code",
   "execution_count": null,
   "metadata": {},
   "outputs": [],
   "source": [
    "# 연습 문제 7.4: 인자 통과\n",
    "# -----------------------\n",
    "# fileparse.parse_csv() 함수에는 파일 구분자를 바꾸거나 오류를 보고하는 옵션이 있다. \n",
    "# 위의 read_portfolio() 함수에 그런 기능이 있으면 좋을 것이다. 다음과 같이 바꿔보자.\n",
    "\n",
    "# def read_portfolio(filename, **opts):\n",
    "#     '''\n",
    "#     주식 포트폴리오 파일을 읽어 딕셔너리의 리스트를 생성.\n",
    "#     name, shares, price를 키로 사용.\n",
    "#     '''\n",
    "#     with open(filename) as lines:\n",
    "#         portdicts = fileparse.parse_csv(lines,\n",
    "#                                         select=['name','shares','price'],\n",
    "#                                         types=[str,int,float],\n",
    "#                                         **opts)\n",
    "\n",
    "#     portfolio = [ Stock(**d) for d in portdicts ]\n",
    "#     return Portfolio(portfolio)\n",
    "# 변경을 했으면, 오류가 있는 파일을 읽어보자.\n",
    "\n",
    "# >>> import report\n",
    "# >>> port = report.read_portfolio('Data/missing.csv')\n",
    "# Row 4: Couldn't convert ['MSFT', '', '51.23']\n",
    "# Row 4: Reason invalid literal for int() with base 10: ''\n",
    "# Row 7: Couldn't convert ['IBM', '', '70.44']\n",
    "# Row 7: Reason invalid literal for int() with base 10: ''\n",
    "# >>>\n",
    "# 오류 메시지가 나오지 않게 해 보자.\n",
    "\n",
    "# >>> import report\n",
    "# >>> port = report.read_portfolio('Data/missing.csv', silence_errors=True)\n",
    "# >>>"
   ]
  },
  {
   "cell_type": "code",
   "execution_count": 1,
   "metadata": {},
   "outputs": [],
   "source": [
    "import sys\n",
    "sys.path.append('../../test_bed/')"
   ]
  },
  {
   "cell_type": "code",
   "execution_count": 6,
   "metadata": {},
   "outputs": [
    {
     "name": "stdout",
     "output_type": "stream",
     "text": [
      "Overwriting ../../test_bed/report.py\n"
     ]
    }
   ],
   "source": [
    "%%writefile ../../test_bed/report.py\n",
    "# report.py\n",
    "\n",
    "import fileparse\n",
    "import stock\n",
    "import prices\n",
    "import tableformat\n",
    "from portfolio import Portfolio\n",
    "\n",
    "\n",
    "def read_portfolio(filename, **opts):\n",
    "    '''\n",
    "    Read a stock portfolio file into a list of dictionaries with keys\n",
    "    name, shares, and price.\n",
    "    '''\n",
    "    with open(filename) as lines:\n",
    "        # Convert Dictionary to Object     \n",
    "        portdicts = fileparse.parse_csv(lines, \n",
    "                                        select=['name','shares','price'], \n",
    "                                        types=[str,int,float],\n",
    "                                        **opts)\n",
    "    \n",
    "    portfolio = [ stock.Stock(**d) for d in portdicts ]\n",
    "    return Portfolio(portfolio)   \n",
    "\n",
    "def read_prices(filename):\n",
    "    '''\n",
    "    Read a CSV file of price data into a dict mapping names to prices.\n",
    "    '''\n",
    "    with open(filename) as lines:\n",
    "        return dict(fileparse.parse_csv(lines, types=[str,float], has_headers=False))\n",
    "\n",
    "        # Convert Dictionary to Object     \n",
    "        # portdicts = fileparse.parse_csv(lines, types=[str,float], has_headers=False)\n",
    "        # return [ prices.Prices(d.name, d.price) for d in portdicts ]\n",
    "\n",
    "\n",
    "def make_report_data(portfolio,prices):\n",
    "    '''\n",
    "    Make a list of (name, shares, price, change) tuples given a portfolio list\n",
    "    and prices dictionary.\n",
    "    '''\n",
    "    rows = []\n",
    "    for stock in portfolio:\n",
    "        current_price = prices[stock.name]\n",
    "        change = current_price - stock.price\n",
    "        summary = (stock.name, stock.shares, current_price, change)\n",
    "        rows.append(summary)\n",
    "    return rows\n",
    "\n",
    "def print_report(reportdata, formatter):\n",
    "    '''\n",
    "    Print a nicely formated table from a list of (name, shares, price, change) tuples.\n",
    "    '''\n",
    "    formatter.headings(['Name', 'Shares', 'Price', 'Change'])\n",
    "        \n",
    "    for name, shares, price, change in reportdata:\n",
    "        rowdata = [ name, f'{price:0.2f}', f'{change:0.2f}' ]\n",
    "        formatter.row(rowdata)\n",
    "\n",
    "def portfolio_report(portfoliofile, pricefile, fmt):        \n",
    "    '''\n",
    "    Make a stock report given portfolio and price data files.\n",
    "    '''\n",
    "    # Read data files \n",
    "    portfolio = read_portfolio(portfoliofile)\n",
    "    prices = read_prices(pricefile)\n",
    "\n",
    "    # Create the report data (보고서 데이터 생성)\n",
    "    report = make_report_data(portfolio, prices)\n",
    "\n",
    "    # Print it out\n",
    "    formatter = tableformat.create_formatter(fmt)\n",
    "    print_report(report, formatter)\n",
    "    \n",
    "\n",
    "def main(args):\n",
    "    if len(args) != 4:\n",
    "        raise SystemExit('Usage: %s portfile pricefile' % args[0])\n",
    "    portfolio_report(args[1], args[2], args[3])\n",
    "\n",
    "if __name__ == '__main__':\n",
    "    import sys\n",
    "    main(sys.argv)\n"
   ]
  },
  {
   "cell_type": "code",
   "execution_count": 11,
   "metadata": {},
   "outputs": [
    {
     "name": "stdout",
     "output_type": "stream",
     "text": [
      "Row 4: Couldn't convert ['MSFT', '', '51.23']\n",
      "Row 4: Reason invalid literal for int() with base 10: ''\n",
      "Row 7: Couldn't convert ['IBM', '', '70.44']\n",
      "Row 7: Reason invalid literal for int() with base 10: ''\n",
      "------------------------------------------------------------\n"
     ]
    }
   ],
   "source": [
    "import report\n",
    "port = report.read_portfolio('../../data/missing.csv')\n",
    "print('-'*60)\n",
    "\n",
    "# 오류 메시지가 나오지 않게 해 보자.\n",
    "\n",
    "port = report.read_portfolio('../../data/missing.csv', silence_errors=True)\n",
    "# port = report.read_portfolio('../../data/missing.csv')\n",
    "# >>>"
   ]
  },
  {
   "attachments": {},
   "cell_type": "markdown",
   "metadata": {},
   "source": [
    "# 7.2 익명 함수와 람다"
   ]
  },
  {
   "cell_type": "code",
   "execution_count": null,
   "metadata": {},
   "outputs": [],
   "source": [
    "# 7.2 익명 함수와 람다\n",
    "# -------------------\n",
    "# 리스트 정렬 되돌아보기\n",
    "# 리스트를 제자리에서(in-place) 정렬할 수 있다. sort 메서드를 사용한다.\n",
    "\n",
    "# s = [10,1,7,3]\n",
    "# s.sort() # s = [1,3,7,10]\n",
    "\n",
    "# 역순으로 정렬할 수 있다.\n",
    "\n",
    "# s = [10,1,7,3]\n",
    "# s.sort(reverse=True) # s = [10,7,3,1]\n",
    "\n",
    "# 간단해 보인다. 그런데, 딕셔너리를 정렬하려면 어떻게 해야 할까?\n",
    "\n",
    "# [{'name': 'AA', 'price': 32.2, 'shares': 100},\n",
    "# {'name': 'IBM', 'price': 91.1, 'shares': 50},\n",
    "# {'name': 'CAT', 'price': 83.44, 'shares': 150},\n",
    "# {'name': 'MSFT', 'price': 51.23, 'shares': 200},\n",
    "# {'name': 'GE', 'price': 40.37, 'shares': 95},\n",
    "# {'name': 'MSFT', 'price': 65.1, 'shares': 50},\n",
    "# {'name': 'IBM', 'price': 70.44, 'shares': 100}]\n",
    "# 어떤 기준으로?\n",
    "\n",
    "# 키(key) 함수를 사용해 정렬 기준을 안내할 수 있다. 키 함수는 딕셔너리를 받아서 정렬 기준값을 반환한다.\n",
    "\n",
    "# def stock_name(s):\n",
    "#     return s['name']\n",
    "\n",
    "# portfolio.sort(key=stock_name)\n",
    "\n",
    "# 결과는 다음과 같다.\n",
    "\n",
    "# # 딕셔너리가 `name` 키를 기준으로 정렬됨\n",
    "# [\n",
    "#   {'name': 'AA', 'price': 32.2, 'shares': 100},\n",
    "#   {'name': 'CAT', 'price': 83.44, 'shares': 150},\n",
    "#   {'name': 'GE', 'price': 40.37, 'shares': 95},\n",
    "#   {'name': 'IBM', 'price': 91.1, 'shares': 50},\n",
    "#   {'name': 'IBM', 'price': 70.44, 'shares': 100},\n",
    "#   {'name': 'MSFT', 'price': 51.23, 'shares': 200},\n",
    "#   {'name': 'MSFT', 'price': 65.1, 'shares': 50}\n",
    "# ]"
   ]
  },
  {
   "cell_type": "code",
   "execution_count": 16,
   "metadata": {},
   "outputs": [
    {
     "name": "stdout",
     "output_type": "stream",
     "text": [
      "[1, 3, 7, 10]\n"
     ]
    },
    {
     "data": {
      "text/plain": [
       "[10, 7, 3, 1]"
      ]
     },
     "execution_count": 16,
     "metadata": {},
     "output_type": "execute_result"
    }
   ],
   "source": [
    "s = [10,1,7,3]\n",
    "s.sort()\n",
    "print(s)\n",
    "\n",
    "s.sort(reverse=True)\n",
    "s"
   ]
  },
  {
   "cell_type": "code",
   "execution_count": 24,
   "metadata": {},
   "outputs": [
    {
     "data": {
      "text/plain": [
       "[{'name': 'AA', 'price': 32.2, 'shares': 100},\n",
       " {'name': 'CAT', 'price': 83.44, 'shares': 150},\n",
       " {'name': 'GE', 'price': 40.37, 'shares': 95},\n",
       " {'name': 'IBM', 'price': 91.1, 'shares': 50},\n",
       " {'name': 'IBM', 'price': 70.44, 'shares': 100},\n",
       " {'name': 'MSFT', 'price': 51.23, 'shares': 200},\n",
       " {'name': 'MSFT', 'price': 65.1, 'shares': 50}]"
      ]
     },
     "execution_count": 24,
     "metadata": {},
     "output_type": "execute_result"
    }
   ],
   "source": [
    "portfolio = [{'name': 'AA', 'price': 32.2, 'shares': 100},\n",
    "{'name': 'IBM', 'price': 91.1, 'shares': 50},\n",
    "{'name': 'CAT', 'price': 83.44, 'shares': 150},\n",
    "{'name': 'MSFT', 'price': 51.23, 'shares': 200},\n",
    "{'name': 'GE', 'price': 40.37, 'shares': 95},\n",
    "{'name': 'MSFT', 'price': 65.1, 'shares': 50},\n",
    "{'name': 'IBM', 'price': 70.44, 'shares': 100}]\n",
    "\n",
    "def stock_name(s):\n",
    "    return(s['name'])\n",
    "\n",
    "portfolio.sort(key=stock_name)\n",
    "portfolio\n"
   ]
  },
  {
   "attachments": {},
   "cell_type": "markdown",
   "metadata": {},
   "source": [
    "## 콜백 함수(Callback Function)"
   ]
  },
  {
   "cell_type": "code",
   "execution_count": null,
   "metadata": {},
   "outputs": [],
   "source": [
    "# 콜백 함수(Callback Function)\n",
    "# ---------------------------\n",
    "# 앞의 예에서 키 함수는 콜백 함수의 일종이다. \n",
    "# sort() 메서드는 당신이 제공한 함수를 콜백한다. \n",
    "# 콜백 함수는 짧은 한 줄 짜리 함수로 작성해 단 하나의 오퍼레이션만을 위해 사용하는 경우가 많다. \n",
    "# 프로그래머는 종종 이러한 추가적인 처리를 위한 지름길을 요구한다."
   ]
  },
  {
   "attachments": {},
   "cell_type": "markdown",
   "metadata": {},
   "source": [
    "## 람다(Lambda): 익명 함수"
   ]
  },
  {
   "cell_type": "code",
   "execution_count": null,
   "metadata": {},
   "outputs": [],
   "source": [
    "# 람다(Lambda): 익명 함수\n",
    "# ----------------------\n",
    "# 함수를 작성하는 대신 람다를 사용하자. 앞의 정렬 예제를 가지고 해 본다.\n",
    "\n",
    "# portfolio.sort(key=lambda s: s['name'])\n",
    "# 람다는 단일 표현식을 평가하는 이름 없는 함수를 생성한다. 위 코드는 함수로 만들었을 때보다 훨씬 짧다.\n",
    "\n",
    "# def stock_name(s):\n",
    "#     return s['name']\n",
    "\n",
    "# portfolio.sort(key=stock_name)\n",
    "\n",
    "\n",
    "# # 람다와 비교\n",
    "# ------------\n",
    "# portfolio.sort(key=lambda s: s['name'])\n",
    "\n",
    "\n",
    "# 람다 사용하기\n",
    "# ------------\n",
    "# - 람다는 매우 제한적이다.\n",
    "# - 단일 표현식만 허용한다.\n",
    "# - if, while 같은 문장은 허용하지 않는다.\n",
    "# - sort()의 예와 같이 함수와 함께 사용하는 것이 일반적인 용도다."
   ]
  },
  {
   "cell_type": "code",
   "execution_count": 26,
   "metadata": {},
   "outputs": [
    {
     "data": {
      "text/plain": [
       "[{'name': 'AA', 'price': 32.2, 'shares': 100},\n",
       " {'name': 'CAT', 'price': 83.44, 'shares': 150},\n",
       " {'name': 'GE', 'price': 40.37, 'shares': 95},\n",
       " {'name': 'IBM', 'price': 91.1, 'shares': 50},\n",
       " {'name': 'IBM', 'price': 70.44, 'shares': 100},\n",
       " {'name': 'MSFT', 'price': 51.23, 'shares': 200},\n",
       " {'name': 'MSFT', 'price': 65.1, 'shares': 50}]"
      ]
     },
     "execution_count": 26,
     "metadata": {},
     "output_type": "execute_result"
    }
   ],
   "source": [
    "portfolio = [{'name': 'AA', 'price': 32.2, 'shares': 100},\n",
    "             {'name': 'IBM', 'price': 91.1, 'shares': 50},\n",
    "             {'name': 'CAT', 'price': 83.44, 'shares': 150},\n",
    "             {'name': 'MSFT', 'price': 51.23, 'shares': 200},\n",
    "             {'name': 'GE', 'price': 40.37, 'shares': 95},\n",
    "             {'name': 'MSFT', 'price': 65.1, 'shares': 50},\n",
    "             {'name': 'IBM', 'price': 70.44, 'shares': 100}]\n",
    "\n",
    "portfolio.sort(key=lambda s: s['name'])\n",
    "portfolio"
   ]
  },
  {
   "attachments": {},
   "cell_type": "markdown",
   "metadata": {},
   "source": [
    "## 연습 문제"
   ]
  },
  {
   "cell_type": "code",
   "execution_count": null,
   "metadata": {},
   "outputs": [],
   "source": [
    "# 주식 포트폴리오 데이터를 읽어 리스트로 변환하자.\n",
    "\n",
    "# >>> import report\n",
    "# >>> portfolio = list(report.read_portfolio('Data/portfolio.csv'))\n",
    "# >>> for s in portfolio:\n",
    "#         print(s)\n",
    "\n",
    "# Stock('AA', 100, 32.2)\n",
    "# Stock('IBM', 50, 91.1)\n",
    "# Stock('CAT', 150, 83.44)\n",
    "# Stock('MSFT', 200, 51.23)\n",
    "# Stock('GE', 95, 40.37)\n",
    "# Stock('MSFT', 50, 65.1)\n",
    "# Stock('IBM', 100, 70.44)"
   ]
  },
  {
   "cell_type": "code",
   "execution_count": 42,
   "metadata": {},
   "outputs": [
    {
     "data": {
      "text/plain": [
       "[Stock(AA 100 32.2),\n",
       " Stock(IBM 50 91.1),\n",
       " Stock(CAT 150 83.44),\n",
       " Stock(MSFT 200 51.23),\n",
       " Stock(GE 95 40.37),\n",
       " Stock(MSFT 50 65.1),\n",
       " Stock(IBM 100 70.44)]"
      ]
     },
     "execution_count": 42,
     "metadata": {},
     "output_type": "execute_result"
    }
   ],
   "source": [
    "import report\n",
    "portfolio = list(report.read_portfolio('../../data/portfolio.csv'))\n",
    "portfolio"
   ]
  },
  {
   "attachments": {},
   "cell_type": "markdown",
   "metadata": {},
   "source": [
    "### 연습 문제 7.5: 필드 정렬하기"
   ]
  },
  {
   "cell_type": "code",
   "execution_count": null,
   "metadata": {},
   "outputs": [],
   "source": [
    "# 연습 문제 7.5: 필드 정렬하기\n",
    "# ---------------------------\n",
    "# 포트폴리오 데이터를 종목명을 기준으로 알파벳순으로 정렬해 보자.\n",
    "\n",
    "# >>> def stock_name(s):\n",
    "#        return s.name\n",
    "\n",
    "# >>> portfolio.sort(key=stock_name)\n",
    "# >>> for s in portfolio:\n",
    "#            print(s)\n",
    "\n",
    "# ... 결과를 확인하라 ...\n",
    "# >>>\n",
    "# 위의 stock_name() 함수는 portfolio 리스트의 단일 항목에서 종목명을 추출한다. sort()는 이 함수의 결과를 비교해 정렬한다."
   ]
  },
  {
   "cell_type": "code",
   "execution_count": 43,
   "metadata": {},
   "outputs": [
    {
     "name": "stdout",
     "output_type": "stream",
     "text": [
      "[Stock(AA 100 32.2), Stock(IBM 50 91.1), Stock(CAT 150 83.44), Stock(MSFT 200 51.23), Stock(GE 95 40.37), Stock(MSFT 50 65.1), Stock(IBM 100 70.44)]\n"
     ]
    },
    {
     "data": {
      "text/plain": [
       "[Stock(AA 100 32.2),\n",
       " Stock(CAT 150 83.44),\n",
       " Stock(GE 95 40.37),\n",
       " Stock(IBM 50 91.1),\n",
       " Stock(IBM 100 70.44),\n",
       " Stock(MSFT 200 51.23),\n",
       " Stock(MSFT 50 65.1)]"
      ]
     },
     "execution_count": 43,
     "metadata": {},
     "output_type": "execute_result"
    }
   ],
   "source": [
    "print(portfolio)\n",
    "def stock_name(s):\n",
    "    return s.name\n",
    "\n",
    "portfolio.sort(key=stock_name)\n",
    "portfolio\n"
   ]
  },
  {
   "attachments": {},
   "cell_type": "markdown",
   "metadata": {},
   "source": [
    "### 연습 문제 7.6: 람다를 가지고 필드 정렬하기"
   ]
  },
  {
   "cell_type": "code",
   "execution_count": null,
   "metadata": {},
   "outputs": [],
   "source": [
    "# 연습 문제 7.6: 람다를 가지고 필드 정렬하기\n",
    "# ---------------------------------------\n",
    "# lambda 표현식을 사용해 주식 수를 기준으로 포트폴리오를 정렬해보자.\n",
    "\n",
    "# >>> portfolio.sort(key=lambda s: s.shares)\n",
    "# >>> for s in portfolio:\n",
    "#         print(s)\n",
    "\n",
    "# ... 결과를 확인하라 ...\n",
    "# >>>\n",
    "# 주식 가격을 기준으로 포트폴리오를 정렬해보자.\n",
    "\n",
    "# >>> portfolio.sort(key=lambda s: s.price)\n",
    "# >>> for s in portfolio:\n",
    "#         print(s)\n",
    "\n",
    "# ... 결과를 확인하라 ...\n",
    "# >>>\n",
    "\n",
    "# 참고: lambda는 별도의 함수를 따로 정의할 필요 없이 sort()를 호출할 때 특수한 처리 함수를 정의할 수 있어 유용하다."
   ]
  },
  {
   "cell_type": "code",
   "execution_count": 57,
   "metadata": {},
   "outputs": [
    {
     "name": "stdout",
     "output_type": "stream",
     "text": [
      "[Stock(AA 100 32.2),\n",
      " Stock(IBM 50 91.1),\n",
      " Stock(CAT 150 83.44),\n",
      " Stock(MSFT 200 51.23),\n",
      " Stock(GE 95 40.37),\n",
      " Stock(MSFT 50 65.1),\n",
      " Stock(IBM 100 70.44)]\n",
      "------------------------------------------------------------\n",
      "Stock(IBM 50 91.1)\n",
      "Stock(MSFT 50 65.1)\n",
      "Stock(GE 95 40.37)\n",
      "Stock(AA 100 32.2)\n",
      "Stock(IBM 100 70.44)\n",
      "Stock(CAT 150 83.44)\n",
      "Stock(MSFT 200 51.23)\n",
      "------------------------------------------------------------\n",
      "[Stock(AA 100 32.2),\n",
      " Stock(GE 95 40.37),\n",
      " Stock(MSFT 200 51.23),\n",
      " Stock(MSFT 50 65.1),\n",
      " Stock(IBM 100 70.44),\n",
      " Stock(CAT 150 83.44),\n",
      " Stock(IBM 50 91.1)]\n"
     ]
    }
   ],
   "source": [
    "import pprint\n",
    "import report\n",
    "\n",
    "portfolio = list(report.read_portfolio('../../data/portfolio.csv'))\n",
    "pprint.pprint(portfolio)\n",
    "print('-'*60)\n",
    "\n",
    "portfolio.sort(key=lambda s: s.shares)\n",
    "for s in portfolio:\n",
    "    print(s)\n",
    "    \n",
    "#pprint.pprint(portfolio)\n",
    "print('-'*60)\n",
    "\n",
    "portfolio.sort(key=lambda s: s.price)\n",
    "pprint.pprint(portfolio)\n",
    "\n"
   ]
  },
  {
   "attachments": {},
   "cell_type": "markdown",
   "metadata": {},
   "source": [
    "# 7.3 함수를 반환하기"
   ]
  },
  {
   "attachments": {},
   "cell_type": "markdown",
   "metadata": {},
   "source": [
    "## 도입"
   ]
  },
  {
   "cell_type": "code",
   "execution_count": null,
   "metadata": {},
   "outputs": [],
   "source": [
    "# 도입\n",
    "# ----\n",
    "# 다음 함수를 생각해보자.\n",
    "\n",
    "# def add(x, y):\n",
    "#     def do_add():\n",
    "#         print('Adding', x, y)\n",
    "#         return x + y\n",
    "#     return do_add\n",
    "# add() 함수는 또 다른 함수인 do_add를 반환한다.\n",
    "\n",
    "# >>> a = add(3,4)\n",
    "# >>> a\n",
    "# <function do_add at 0x6a670>\n",
    "# >>> a()\n",
    "# Adding 3 4\n",
    "# 7"
   ]
  },
  {
   "cell_type": "code",
   "execution_count": 62,
   "metadata": {},
   "outputs": [
    {
     "name": "stdout",
     "output_type": "stream",
     "text": [
      "Adding:  3 4\n"
     ]
    },
    {
     "data": {
      "text/plain": [
       "7"
      ]
     },
     "execution_count": 62,
     "metadata": {},
     "output_type": "execute_result"
    }
   ],
   "source": [
    "def add(x, y):\n",
    "    def do_add():\n",
    "        print('Adding: ', x, y)\n",
    "        return x + y\n",
    "    return do_add\n",
    "\n",
    "a = add(3, 4)\n",
    "a()"
   ]
  },
  {
   "attachments": {},
   "cell_type": "markdown",
   "metadata": {},
   "source": [
    "## 로컬 변수"
   ]
  },
  {
   "cell_type": "code",
   "execution_count": null,
   "metadata": {},
   "outputs": [],
   "source": [
    "# 로컬 변수\n",
    "# --------\n",
    "# 외부 함수가 정의한 변수를 내부 함수가 어떻게 참조하는지 관찰하자.\n",
    "\n",
    "# def add(x, y):\n",
    "#     def do_add():\n",
    "#         # `x`와 `y`는 `add(x, y)`에 정의\n",
    "#         print('Adding', x, y)\n",
    "#         return x + y\n",
    "#     return do_add\n",
    "# 좀 더 관찰해보면 이 변수들이 add()가 완료된 후에도 살아 있는 것을 볼 수 있다.\n",
    "\n",
    "# >>> a = add(3,4)\n",
    "# >>> a\n",
    "# <function do_add at 0x6a670>\n",
    "# >>> a()\n",
    "# Adding 3 4      # 이 변수들은 어디서 왔을까?\n",
    "# 7"
   ]
  },
  {
   "attachments": {},
   "cell_type": "markdown",
   "metadata": {},
   "source": [
    "## 클로저"
   ]
  },
  {
   "cell_type": "code",
   "execution_count": null,
   "metadata": {},
   "outputs": [],
   "source": [
    "# 클로저\n",
    "# ------\n",
    "# 내부 함수를 결과로 반환할 때, 그 내부 함수를 클로저(closure)라고 부른다.\n",
    "\n",
    "# def add(x, y):\n",
    "#     # `do_add`는 클로저다\n",
    "#     def do_add():\n",
    "#         print('Adding', x, y)\n",
    "#         return x + y\n",
    "#     return do_add\n",
    "\n",
    "# 필수 기능: 클로저는 나중에 함수가 올바로 작동하는 데 필요한 모든 변수의 값을 유지한다. \n",
    "# 클로저를 함수와 그 함수가 의존하는 변숫값을 저장하는 환경이 합쳐진 것으로 생각할 수 있다.\n",
    "\n",
    "\n",
    "# 클로저 사용하기\n",
    "# --------------\n",
    "# 클로저는 파이썬의 중요 기능이다. 그런데 그 용법은 미묘한 데가 있다. 공통적인 응용은 다음과 같다.\n",
    "# - 콜백 함수에 사용.\n",
    "# - 지연된 평가.\n",
    "# - 데코레이터 함수(뒤에서 설명한다).\n",
    "\n",
    "\n",
    "# 지연된 평가(Delayed Evaluation)\n",
    "# ------------------------------\n",
    "# 다음과 같은 함수를 생각해보자.\n",
    "\n",
    "# def after(seconds, func):\n",
    "#     time.sleep(seconds)\n",
    "#     func()\n",
    "# 용례:\n",
    "\n",
    "# def greeting():\n",
    "#     print('Hello Guido')\n",
    "\n",
    "# after(30, greeting)\n",
    "\n",
    "# after는 제공된 함수를 실행한다... 나중에.\n",
    "\n",
    "# 클로저는 추가적인 정보를 보유한다.\n",
    "\n",
    "# def add(x, y):\n",
    "#     def do_add():\n",
    "#         print(f'Adding {x} + {y} -> {x+y}')\n",
    "#     return do_add\n",
    "\n",
    "# def after(seconds, func):\n",
    "#     time.sleep(seconds)\n",
    "#     func()\n",
    "\n",
    "# after(30, add(2, 3))\n",
    "# # `do_add`는 레퍼런스 x -> 2와 y -> 3를 가짐\n",
    "\n",
    "\n",
    "# 코드 반복\n",
    "# ---------\n",
    "# 과도한 코드 반복을 피하는 기법으로서 클로저를 사용할 수도 있다. 코드를 작성하는 함수를 작성할 수 있다."
   ]
  },
  {
   "cell_type": "code",
   "execution_count": 65,
   "metadata": {},
   "outputs": [
    {
     "name": "stdout",
     "output_type": "stream",
     "text": [
      "Adding 2 + 3 -> 5\n"
     ]
    }
   ],
   "source": [
    "import time\n",
    "\n",
    "def add(x, y):\n",
    "    def do_add():\n",
    "        print(f'Adding {x} + {y} -> {x + y}')\n",
    "    return do_add\n",
    "\n",
    "def after(second, func):\n",
    "    time.sleep(second)\n",
    "    func()\n",
    "    \n",
    "after(1, add(2,3))\n",
    "    "
   ]
  },
  {
   "attachments": {},
   "cell_type": "markdown",
   "metadata": {},
   "source": [
    "## 연습 문제"
   ]
  },
  {
   "attachments": {},
   "cell_type": "markdown",
   "metadata": {},
   "source": [
    "### 연습 문제 7.7: 반복을 피하기 위해 클로저 사용하기"
   ]
  },
  {
   "cell_type": "code",
   "execution_count": null,
   "metadata": {},
   "outputs": [],
   "source": [
    "# 연습 문제 7.7: 반복을 피하기 위해 클로저 사용하기\n",
    "# ----------------------------------------------\n",
    "# 클로저는 반복적인 코드를 생성하는 기능이 뛰어나다. 연습 문제 5.7에서 타입을 검사하는 프로퍼티를 정의한 코드를 작성했다.\n",
    "\n",
    "# class Stock:\n",
    "#     def __init__(self, name, shares, price):\n",
    "#         self.name = name\n",
    "#         self.shares = shares\n",
    "#         self.price = price\n",
    "#     ...\n",
    "#     @property\n",
    "#     def shares(self):\n",
    "#         return self._shares\n",
    "\n",
    "#     @shares.setter\n",
    "#     def shares(self, value):\n",
    "#         if not isinstance(value, int):\n",
    "#             raise TypeError('Expected int')\n",
    "#         self._shares = value\n",
    "#     ...\n",
    "# 코드를 일일이 타이핑하는 대신, 클로저를 사용해 자동으로 생성할 수 있다.\n",
    "\n",
    "# typedproperty.py 파일을 만들어 다음 코드를 넣자.\n",
    "\n",
    "# # typedproperty.py\n",
    "\n",
    "# def typedproperty(name, expected_type):\n",
    "#     private_name = '_' + name\n",
    "#     @property\n",
    "#     def prop(self):\n",
    "#         return getattr(self, private_name)\n",
    "\n",
    "#     @prop.setter\n",
    "#     def prop(self, value):\n",
    "#         if not isinstance(value, expected_type):\n",
    "#             raise TypeError(f'Expected {expected_type}')\n",
    "#         setattr(self, private_name, value)\n",
    "\n",
    "#     return prop\n",
    "# 이제 다음과 같은 클래스를 정의해보자.\n",
    "\n",
    "# from typedproperty import typedproperty\n",
    "\n",
    "# class Stock:\n",
    "#     name = typedproperty('name', str)\n",
    "#     shares = typedproperty('shares', int)\n",
    "#     price = typedproperty('price', float)\n",
    "\n",
    "#     def __init__(self, name, shares, price):\n",
    "#         self.name = name\n",
    "#         self.shares = shares\n",
    "#         self.price = price\n",
    "# 인스턴스를 생성해 타입 검사가 잘 되는지 확인해 보자.\n",
    "\n",
    "# >>> s = Stock('IBM', 50, 91.1)\n",
    "# >>> s.name\n",
    "# 'IBM'\n",
    "# >>> s.shares = '100'\n",
    "# ... TypeError가 발생한다 ...\n",
    "# >>>"
   ]
  },
  {
   "cell_type": "code",
   "execution_count": 5,
   "metadata": {},
   "outputs": [
    {
     "name": "stdout",
     "output_type": "stream",
     "text": [
      "Overwriting ../../test_bed/typedproperty.py\n"
     ]
    }
   ],
   "source": [
    "%%writefile ../../test_bed/typedproperty.py\n",
    "# typedproperty.py\n",
    "\n",
    "def typedproperty(name, expected_type):\n",
    "    private_name = '_' + name\n",
    "    \n",
    "    @property\n",
    "    def prop(self):\n",
    "        return getattr(self, private_name)\n",
    "    \n",
    "    @prop.setter\n",
    "    def prop(self, value):\n",
    "        if not isinstance(value, expected_type):\n",
    "            raise TypeError(f'Expected {expected_type}')\n",
    "        setattr(self, private_name, value)\n",
    "    return prop"
   ]
  },
  {
   "cell_type": "code",
   "execution_count": 6,
   "metadata": {},
   "outputs": [
    {
     "name": "stdout",
     "output_type": "stream",
     "text": [
      "Overwriting ../../test_bed/stock.py\n"
     ]
    }
   ],
   "source": [
    "%%writefile ../../test_bed/stock.py\n",
    "# stock.py\n",
    "\n",
    "from typedproperty import typedproperty\n",
    "\n",
    "class Stock:\n",
    "    __slots__ = ('_name', '_shares', '_price')\n",
    "    \n",
    "    name = typedproperty('name', str)\n",
    "    shares = typedproperty('shares', int)\n",
    "    price = typedproperty('price', float)\n",
    "                     \n",
    "    def __init__(self, name, shares, price):\n",
    "        self.name = name\n",
    "        self.shares = shares\n",
    "        self.price = price\n",
    "\n",
    "\n",
    "    def __repr__(self):\n",
    "        return f'Stock({self.name} {self.shares} {self.price})'         \n",
    "\n",
    "\n",
    "    @property\n",
    "    def cost(self):\n",
    "        return self.shares * self.price  \n",
    "    \n",
    "    \n",
    "    def sell(self, shares):\n",
    "        self.shares -= shares\n",
    "        return self.shares  "
   ]
  },
  {
   "cell_type": "code",
   "execution_count": 1,
   "metadata": {},
   "outputs": [],
   "source": [
    "import sys\n",
    "sys.path.append('../../test_bed')"
   ]
  },
  {
   "cell_type": "code",
   "execution_count": 7,
   "metadata": {},
   "outputs": [
    {
     "ename": "TypeError",
     "evalue": "Expected <class 'int'>",
     "output_type": "error",
     "traceback": [
      "\u001b[1;31m---------------------------------------------------------------------------\u001b[0m",
      "\u001b[1;31mTypeError\u001b[0m                                 Traceback (most recent call last)",
      "\u001b[1;32m~\\AppData\\Local\\Temp/ipykernel_44528/779214658.py\u001b[0m in \u001b[0;36m<module>\u001b[1;34m\u001b[0m\n\u001b[0;32m      5\u001b[0m \u001b[0ms\u001b[0m\u001b[1;33m.\u001b[0m\u001b[0mname\u001b[0m \u001b[1;33m=\u001b[0m \u001b[1;34m'TEST'\u001b[0m\u001b[1;33m\u001b[0m\u001b[1;33m\u001b[0m\u001b[0m\n\u001b[0;32m      6\u001b[0m \u001b[0ms\u001b[0m\u001b[1;33m.\u001b[0m\u001b[0mprice\u001b[0m \u001b[1;33m=\u001b[0m \u001b[1;36m12.2\u001b[0m\u001b[1;33m\u001b[0m\u001b[1;33m\u001b[0m\u001b[0m\n\u001b[1;32m----> 7\u001b[1;33m \u001b[0ms\u001b[0m\u001b[1;33m.\u001b[0m\u001b[0mshares\u001b[0m \u001b[1;33m=\u001b[0m \u001b[1;36m12.2\u001b[0m\u001b[1;33m\u001b[0m\u001b[1;33m\u001b[0m\u001b[0m\n\u001b[0m",
      "\u001b[1;32mc:\\Users\\USER\\Quick_Ref\\Programming\\Python\\Python 중급\\실용 파이썬 프로그래밍\\../../test_bed\\typedproperty.py\u001b[0m in \u001b[0;36mprop\u001b[1;34m(self, value)\u001b[0m\n\u001b[0;32m     11\u001b[0m     \u001b[1;32mdef\u001b[0m \u001b[0mprop\u001b[0m\u001b[1;33m(\u001b[0m\u001b[0mself\u001b[0m\u001b[1;33m,\u001b[0m \u001b[0mvalue\u001b[0m\u001b[1;33m)\u001b[0m\u001b[1;33m:\u001b[0m\u001b[1;33m\u001b[0m\u001b[1;33m\u001b[0m\u001b[0m\n\u001b[0;32m     12\u001b[0m         \u001b[1;32mif\u001b[0m \u001b[1;32mnot\u001b[0m \u001b[0misinstance\u001b[0m\u001b[1;33m(\u001b[0m\u001b[0mvalue\u001b[0m\u001b[1;33m,\u001b[0m \u001b[0mexpected_type\u001b[0m\u001b[1;33m)\u001b[0m\u001b[1;33m:\u001b[0m\u001b[1;33m\u001b[0m\u001b[1;33m\u001b[0m\u001b[0m\n\u001b[1;32m---> 13\u001b[1;33m             \u001b[1;32mraise\u001b[0m \u001b[0mTypeError\u001b[0m\u001b[1;33m(\u001b[0m\u001b[1;34mf'Expected {expected_type}'\u001b[0m\u001b[1;33m)\u001b[0m\u001b[1;33m\u001b[0m\u001b[1;33m\u001b[0m\u001b[0m\n\u001b[0m\u001b[0;32m     14\u001b[0m         \u001b[0msetattr\u001b[0m\u001b[1;33m(\u001b[0m\u001b[0mself\u001b[0m\u001b[1;33m,\u001b[0m \u001b[0mprivate_name\u001b[0m\u001b[1;33m,\u001b[0m \u001b[0mvalue\u001b[0m\u001b[1;33m)\u001b[0m\u001b[1;33m\u001b[0m\u001b[1;33m\u001b[0m\u001b[0m\n\u001b[0;32m     15\u001b[0m     \u001b[1;32mreturn\u001b[0m \u001b[0mprop\u001b[0m\u001b[1;33m\u001b[0m\u001b[1;33m\u001b[0m\u001b[0m\n",
      "\u001b[1;31mTypeError\u001b[0m: Expected <class 'int'>"
     ]
    }
   ],
   "source": [
    "from stock import Stock\n",
    "\n",
    "s = Stock('IBM', 50, 91.1)\n",
    "s.name, s.shares, s.price\n",
    "s.name = 'TEST'\n",
    "s.price = 12.2\n",
    "s.shares = 12.2"
   ]
  },
  {
   "attachments": {},
   "cell_type": "markdown",
   "metadata": {},
   "source": [
    "### 연습 문제 7.8: 함수 호출을 단순화히기"
   ]
  },
  {
   "cell_type": "code",
   "execution_count": null,
   "metadata": {},
   "outputs": [],
   "source": [
    "# 연습 문제 7.8: 함수 호출을 단순화히기\n",
    "# -----------------------------------\n",
    "# 위의 예에서 typedproperty('shares', int)와 같이 타이핑하여 호출하기가 귀찮았을 것이다. \n",
    "# 반복적으로 하려면 더 불편하다. typedproperty.py 파일에 다음과 같은 정의를 추가하자.\n",
    "\n",
    "# String = lambda name: typedproperty(name, str)\n",
    "# Integer = lambda name: typedproperty(name, int)\n",
    "# Float = lambda name: typedproperty(name, float)\n",
    "\n",
    "\n",
    "# 이제 이 함수들을 사용하도록 Stock 클래스를 재작성한다.\n",
    "\n",
    "# class Stock:\n",
    "#     name = String('name')\n",
    "#     shares = Integer('shares')\n",
    "#     price = Float('price')\n",
    "\n",
    "#     def __init__(self, name, shares, price):\n",
    "#         self.name = name\n",
    "#         self.shares = shares\n",
    "#         self.price = price\n",
    "# 아, 좀 더 낫다. 이와 같이 클로저와 lambda를 사용해 코드를 단순화하고 거슬리는 반복을 제거할 수 있다. 이렇게 하는 쪽이 좋을 때가 많다."
   ]
  },
  {
   "cell_type": "code",
   "execution_count": 2,
   "metadata": {},
   "outputs": [
    {
     "name": "stdout",
     "output_type": "stream",
     "text": [
      "Overwriting ../../test_bed/stock.py\n"
     ]
    }
   ],
   "source": [
    "%%writefile ../../test_bed/stock.py\n",
    "# stock.py\n",
    "\n",
    "import typedproperty\n",
    "\n",
    "class Stock:\n",
    "    __slots__ = ('_name', '_shares', '_price')\n",
    "    \n",
    "    name = typedproperty.String('name')\n",
    "    shares = typedproperty.Integer('shares')\n",
    "    price = typedproperty.Float('price')\n",
    "                     \n",
    "    def __init__(self, name, shares, price):\n",
    "        self.name = name\n",
    "        self.shares = shares\n",
    "        self.price = price\n",
    "\n",
    "\n",
    "    def __repr__(self):\n",
    "        return f'Stock({self.name} {self.shares} {self.price})'         \n",
    "\n",
    "\n",
    "    @property\n",
    "    def cost(self):\n",
    "        return self.shares * self.price  \n",
    "    \n",
    "    \n",
    "    def sell(self, shares):\n",
    "        self.shares -= shares\n",
    "        return self.shares  \n"
   ]
  },
  {
   "cell_type": "code",
   "execution_count": 1,
   "metadata": {},
   "outputs": [
    {
     "name": "stdout",
     "output_type": "stream",
     "text": [
      "Overwriting ../../test_bed/typedproperty.py\n"
     ]
    }
   ],
   "source": [
    "%%writefile ../../test_bed/typedproperty.py\n",
    "# typedproperty.py\n",
    "\n",
    "String = lambda name: typedproperty(name, str)\n",
    "Integer = lambda name: typedproperty(name, int)\n",
    "Float = lambda name: typedproperty(name, float)\n",
    "\n",
    "def typedproperty(name, expected_type):\n",
    "    private_name = '_' + name\n",
    "    \n",
    "    @property\n",
    "    def prop(self):\n",
    "        return getattr(self, private_name)\n",
    "    \n",
    "    @prop.setter\n",
    "    def prop(self, value):\n",
    "        if not isinstance(value, expected_type):\n",
    "            raise TypeError(f'Expected {expected_type}')\n",
    "        setattr(self, private_name, value)\n",
    "    return prop\n"
   ]
  },
  {
   "cell_type": "code",
   "execution_count": 8,
   "metadata": {},
   "outputs": [
    {
     "ename": "TypeError",
     "evalue": "Expected <class 'int'>",
     "output_type": "error",
     "traceback": [
      "\u001b[1;31m---------------------------------------------------------------------------\u001b[0m",
      "\u001b[1;31mTypeError\u001b[0m                                 Traceback (most recent call last)",
      "\u001b[1;32m~\\AppData\\Local\\Temp/ipykernel_38244/3399652316.py\u001b[0m in \u001b[0;36m<module>\u001b[1;34m\u001b[0m\n\u001b[0;32m      6\u001b[0m \u001b[0ms\u001b[0m\u001b[1;33m.\u001b[0m\u001b[0mname\u001b[0m \u001b[1;33m=\u001b[0m \u001b[1;34m'TEST'\u001b[0m\u001b[1;33m\u001b[0m\u001b[1;33m\u001b[0m\u001b[0m\n\u001b[0;32m      7\u001b[0m \u001b[0ms\u001b[0m\u001b[1;33m.\u001b[0m\u001b[0mprice\u001b[0m \u001b[1;33m=\u001b[0m \u001b[1;36m12.2\u001b[0m\u001b[1;33m\u001b[0m\u001b[1;33m\u001b[0m\u001b[0m\n\u001b[1;32m----> 8\u001b[1;33m \u001b[0ms\u001b[0m\u001b[1;33m.\u001b[0m\u001b[0mshares\u001b[0m \u001b[1;33m=\u001b[0m \u001b[1;36m12.2\u001b[0m\u001b[1;33m\u001b[0m\u001b[1;33m\u001b[0m\u001b[0m\n\u001b[0m",
      "\u001b[1;32mc:\\Users\\USER\\Quick_Ref\\Programming\\Python\\Python 중급\\실용 파이썬 프로그래밍\\../../test_bed\\typedproperty.py\u001b[0m in \u001b[0;36mprop\u001b[1;34m(self, value)\u001b[0m\n\u001b[0;32m     15\u001b[0m     \u001b[1;32mdef\u001b[0m \u001b[0mprop\u001b[0m\u001b[1;33m(\u001b[0m\u001b[0mself\u001b[0m\u001b[1;33m,\u001b[0m \u001b[0mvalue\u001b[0m\u001b[1;33m)\u001b[0m\u001b[1;33m:\u001b[0m\u001b[1;33m\u001b[0m\u001b[1;33m\u001b[0m\u001b[0m\n\u001b[0;32m     16\u001b[0m         \u001b[1;32mif\u001b[0m \u001b[1;32mnot\u001b[0m \u001b[0misinstance\u001b[0m\u001b[1;33m(\u001b[0m\u001b[0mvalue\u001b[0m\u001b[1;33m,\u001b[0m \u001b[0mexpected_type\u001b[0m\u001b[1;33m)\u001b[0m\u001b[1;33m:\u001b[0m\u001b[1;33m\u001b[0m\u001b[1;33m\u001b[0m\u001b[0m\n\u001b[1;32m---> 17\u001b[1;33m             \u001b[1;32mraise\u001b[0m \u001b[0mTypeError\u001b[0m\u001b[1;33m(\u001b[0m\u001b[1;34mf'Expected {expected_type}'\u001b[0m\u001b[1;33m)\u001b[0m\u001b[1;33m\u001b[0m\u001b[1;33m\u001b[0m\u001b[0m\n\u001b[0m\u001b[0;32m     18\u001b[0m         \u001b[0msetattr\u001b[0m\u001b[1;33m(\u001b[0m\u001b[0mself\u001b[0m\u001b[1;33m,\u001b[0m \u001b[0mprivate_name\u001b[0m\u001b[1;33m,\u001b[0m \u001b[0mvalue\u001b[0m\u001b[1;33m)\u001b[0m\u001b[1;33m\u001b[0m\u001b[1;33m\u001b[0m\u001b[0m\n\u001b[0;32m     19\u001b[0m     \u001b[1;32mreturn\u001b[0m \u001b[0mprop\u001b[0m\u001b[1;33m\u001b[0m\u001b[1;33m\u001b[0m\u001b[0m\n",
      "\u001b[1;31mTypeError\u001b[0m: Expected <class 'int'>"
     ]
    }
   ],
   "source": [
    "from stock import Stock\n",
    "\n",
    "s = Stock('IBM', 50, 91.1)\n",
    "\n",
    "s.name, s.shares, s.price\n",
    "s.name = 'TEST'\n",
    "s.price = 12.2\n",
    "s.shares = 12.2\n"
   ]
  },
  {
   "attachments": {},
   "cell_type": "markdown",
   "metadata": {},
   "source": [
    "### 연습 문제 7.9: 실전에 응용"
   ]
  },
  {
   "cell_type": "code",
   "execution_count": null,
   "metadata": {},
   "outputs": [],
   "source": [
    "# 연습 문제 7.9: 실전에 응용\n",
    "# -------------------------\n",
    "# stock.py의 Stock 클래스를 재작성해, 타입 있는 프로퍼티를 사용하게 하라."
   ]
  },
  {
   "cell_type": "code",
   "execution_count": 10,
   "metadata": {},
   "outputs": [
    {
     "name": "stdout",
     "output_type": "stream",
     "text": [
      "Overwriting ../../test_bed/stock.py\n"
     ]
    }
   ],
   "source": [
    "%%writefile ../../test_bed/stock.py\n",
    "# stock.py\n",
    "\n",
    "import typedproperty\n",
    "\n",
    "class Stock:\n",
    "    __slots__ = ('_name', '_shares', '_price')\n",
    "    \n",
    "    name = typedproperty.String('name')\n",
    "    shares = typedproperty.Integer('shares')\n",
    "    price = typedproperty.Float('price')\n",
    "                     \n",
    "    def __init__(self, name, shares, price):\n",
    "        self.name = name\n",
    "        self.shares = shares\n",
    "        self.price = price\n",
    "\n",
    "\n",
    "    def __repr__(self):\n",
    "        return f'Stock({self.name} {self.shares} {self.price})'         \n",
    "\n",
    "\n",
    "    @property\n",
    "    def cost(self):\n",
    "        return self.shares * self.price  \n",
    "    \n",
    "    \n",
    "    def sell(self, shares):\n",
    "        self.shares -= shares\n",
    "        return self.shares  \n"
   ]
  },
  {
   "attachments": {},
   "cell_type": "markdown",
   "metadata": {},
   "source": [
    "# 7.4 함수 데코레이터"
   ]
  },
  {
   "cell_type": "code",
   "execution_count": null,
   "metadata": {},
   "outputs": [],
   "source": [
    "# 7.4 함수 데코레이터\n",
    "# ------------------\n",
    "# 이 섹션은 데코레이터의 개념을 소개한다. 이것은 고급 주제이므로 이 코스에서는 겉핥기로 다룬다.\n",
    "\n",
    "\n",
    "# 로깅 예제\n",
    "# --------\n",
    "# 다음 함수를 생각해보자.\n",
    "\n",
    "# def add(x, y):\n",
    "#     return x + y\n",
    "# 이 함수에 로깅을 추가해보자.\n",
    "\n",
    "# def add(x, y):\n",
    "#     print('Calling add')\n",
    "#     return x + y\n",
    "\n",
    "# 이제 두 번째 함수에도 로깅을 추가한다.\n",
    "\n",
    "# def sub(x, y):\n",
    "#     print('Calling sub')\n",
    "#     return x - y\n",
    "\n",
    "\n",
    "# 관찰\n",
    "# ----\n",
    "# 관찰: 코드가 반복된다.\n",
    "\n",
    "# 같은 코드를 복사해서 프로그램을 작성하는 것은 성가신 일이다. 작성하기도 번거롭고 유지보수도 힘들다. \n",
    "# 특히 작동을 변경하고 싶을 때 문제가 된다(예: 로깅 작동을 바꾸기).\n"
   ]
  },
  {
   "cell_type": "code",
   "execution_count": null,
   "metadata": {},
   "outputs": [],
   "source": [
    "# 로깅을 만드는 코드\n",
    "# -----------------\n",
    "# 함수에 로깅을 추가해주는 함수를 만들 수 있을 것이다. 래퍼(wrapper) 말이다.\n",
    "\n",
    "# def logged(func):\n",
    "#     def wrapper(*args, **kwargs):\n",
    "#         print('Calling', func.__name__)\n",
    "#         return func(*args, **kwargs)\n",
    "#     return wrapper\n",
    "# 이제 사용해보자.\n",
    "\n",
    "# def add(x, y):\n",
    "#     return x + y\n",
    "\n",
    "# logged_add = logged(add)\n",
    "# logged가 반환한 함수를 호출할 때 무슨 일이 일어나는가?\n",
    "\n",
    "# logged_add(3, 4)      # 로깅 메시지가 나타난다\n",
    "# 이 예는 래퍼 함수(wrapper function)를 생성하는 과정을 보여준다.\n",
    "\n",
    "# 래퍼는 다른 함수를 감싸는 함수다. 약간의 처리를 추가하지만, 그 외에는 원래 함수와 똑같이 작동한다.\n",
    "\n",
    "# >>> logged_add(3, 4)\n",
    "# Calling add   # 부가적인 출력이 래퍼에 의해 추가됨\n",
    "# 7\n",
    "# >>>\n",
    "# 참고: logged() 함수는 래퍼를 생성해, 그것을 결과로 반환한다."
   ]
  },
  {
   "cell_type": "code",
   "execution_count": 15,
   "metadata": {},
   "outputs": [
    {
     "name": "stdout",
     "output_type": "stream",
     "text": [
      "Calling:  add\n"
     ]
    },
    {
     "data": {
      "text/plain": [
       "7"
      ]
     },
     "execution_count": 15,
     "metadata": {},
     "output_type": "execute_result"
    }
   ],
   "source": [
    "def logged(func):\n",
    "    def wrapper(*args, **kwargs):\n",
    "        print('Calling: ', func.__name__)\n",
    "        return func(*args, **kwargs)\n",
    "    return wrapper\n",
    "\n",
    "def add(x, y):\n",
    "    return x + y\n",
    "\n",
    "logged_add = logged(add)\n",
    "logged_add(3,4)"
   ]
  },
  {
   "cell_type": "code",
   "execution_count": null,
   "metadata": {},
   "outputs": [],
   "source": [
    "# 데코레이터\n",
    "# ---------\n",
    "# 파이썬에서는 함수 주변에 래퍼를 두는 일이 매우 흔하다. 그래서 아예 전용 구문이 있다.\n",
    "\n",
    "# def add(x, y):\n",
    "#     return x + y\n",
    "# add = logged(add)\n",
    "\n",
    "# # 특수한 구문\n",
    "# @logged\n",
    "# def add(x, y):\n",
    "#     return x + y\n",
    "\n",
    "# 이러한 특수 구문은 앞에서 했던 것과 똑같은 일을 한다. 데코레이터는 새로운 구문이다. 이를 가리켜 함수를 데코레이트한다고(decorate)한다.\n",
    "\n",
    "# 부연 설명\n",
    "# ---------\n",
    "# 여기서는 간단히 시연했지만, 데코레이터와 관련해 미묘한 세부사항이 많다. \n",
    "# 클래스에서 데코레이터를 사용하는 경우를 예로 들 수 있다. \n",
    "# 또는 함수에 데코레이터를 여러 개 붙이는 경우를 생각해 볼 수 있다. \n",
    "# 그렇기는 해도, 앞의 예는 데코레이터를 어떻게 사용하는지 잘 나타낸다. \n",
    "# 광범위한 함수 정의에 반복적으로 나타나는 코드에 대응하는 것이 일반적인 용도다. \n",
    "# 데코레이터를 이용하면 그러한 코드를 한 곳에 모아둘 수 있다."
   ]
  },
  {
   "cell_type": "code",
   "execution_count": 19,
   "metadata": {},
   "outputs": [
    {
     "name": "stdout",
     "output_type": "stream",
     "text": [
      "Calling:  add\n"
     ]
    },
    {
     "data": {
      "text/plain": [
       "7"
      ]
     },
     "execution_count": 19,
     "metadata": {},
     "output_type": "execute_result"
    }
   ],
   "source": [
    "def add(x, y):\n",
    "    return x + y\n",
    "add = logged(add)\n",
    "add(3,4)"
   ]
  },
  {
   "cell_type": "code",
   "execution_count": 20,
   "metadata": {},
   "outputs": [],
   "source": [
    "@logged\n",
    "def add(x, y):\n",
    "    return x + y"
   ]
  },
  {
   "attachments": {},
   "cell_type": "markdown",
   "metadata": {},
   "source": [
    "## 연습 문제"
   ]
  },
  {
   "attachments": {},
   "cell_type": "markdown",
   "metadata": {},
   "source": [
    "### 연습 문제 7.10: 타이밍을 위해 데코레이터 사용하기"
   ]
  },
  {
   "cell_type": "code",
   "execution_count": null,
   "metadata": {},
   "outputs": [],
   "source": [
    "# 연습 문제 7.10: 타이밍을 위해 데코레이터 사용하기\n",
    "# ----------------------------------------------\n",
    "# 어떤 함수를 정의하면, 그 이름과 모듈이 __name__과 __module__ 어트리뷰트에 저장된다. 예:\n",
    "\n",
    "# >>> def add(x,y):\n",
    "#      return x+y\n",
    "\n",
    "# >>> add.__name__\n",
    "# 'add'\n",
    "# >>> add.__module__\n",
    "# '__main__'\n",
    "# >>>\n",
    "\n",
    "# timethis.py 파일에서, 함수를 수행하는 데 얼마나 걸리는지 프린트하는 추가적인 논리 계층으로 감싸는 \n",
    "# 데코레이터 함수 timethis(func)를 작성하자. 이를 위해 다음과 같은 타이밍 호출로 함수를 감싼다.\n",
    "\n",
    "# start = time.time()\n",
    "# r = func(*args,**kwargs)\n",
    "# end = time.time()\n",
    "# print('%s.%s: %f' % (func.__module__, func.__name__, end-start))\n",
    "# 데코레이터가 다음과 같이 작동하게 하라.\n",
    "\n",
    "# >>> from timethis import timethis\n",
    "# >>> @timethis\n",
    "# def countdown(n):\n",
    "#         while n > 0:\n",
    "#              n -= 1\n",
    "\n",
    "# >>> countdown(10000000)\n",
    "# __main__.countdown : 0.076562\n",
    "# >>>\n",
    "# 논의: 이 @timethis 데코레이터는 어느 함수 정의의 앞에든지 올 수 있다. 따라서, 데코레이터를 성능 튜닝을 위한 진단 도구로 사용할 수 있다."
   ]
  },
  {
   "cell_type": "code",
   "execution_count": 4,
   "metadata": {},
   "outputs": [
    {
     "name": "stdout",
     "output_type": "stream",
     "text": [
      "Overwriting ../../test_bed/timethis.py\n"
     ]
    }
   ],
   "source": [
    "%%writefile ../../test_bed/timethis.py\n",
    "# timethis.py\n",
    "\n",
    "import time\n",
    "\n",
    "def timethis(func):\n",
    "    def wrapper(*args, **kwargs):\n",
    "        start = time.time()\n",
    "        r = func(*args, **kwargs)\n",
    "        end = time.time()\n",
    "        print('%s.%s: %f' %(func.__module__, func.__name__, end - start))\n",
    "    return wrapper"
   ]
  },
  {
   "cell_type": "code",
   "execution_count": 3,
   "metadata": {},
   "outputs": [
    {
     "name": "stdout",
     "output_type": "stream",
     "text": [
      "__main__.countdown: 0.003988\n"
     ]
    }
   ],
   "source": [
    "from timethis import timethis\n",
    "\n",
    "@timethis\n",
    "def countdown(n):\n",
    "    while n > 0:\n",
    "        n -= 1\n",
    "        \n",
    "countdown(100000)        "
   ]
  },
  {
   "cell_type": "code",
   "execution_count": 1,
   "metadata": {},
   "outputs": [],
   "source": [
    "import sys\n",
    "sys.path.append('../../test_bed')"
   ]
  },
  {
   "attachments": {},
   "cell_type": "markdown",
   "metadata": {},
   "source": [
    "# 7.5 데코레이트된 메서드"
   ]
  },
  {
   "cell_type": "code",
   "execution_count": null,
   "metadata": {},
   "outputs": [],
   "source": [
    "# 7.5 데코레이트된 메서드\n",
    "# ---------------------\n",
    "# 이 섹션은 메서드 정의와 함께 사용할 수 있는 빌트인 데코레이터 몇 가지를 논의한다."
   ]
  },
  {
   "cell_type": "code",
   "execution_count": null,
   "metadata": {},
   "outputs": [],
   "source": [
    "# 미리 정의된 데코레이터\n",
    "# --------------------\n",
    "# 클래스 정의에 특수한 메서드 유형을 지정하는 데 사용할 수 있는 데코레이터가 미리 정의돼있다\n",
    "\n",
    "# class Foo:\n",
    "#     def bar(self,a):\n",
    "#         ...\n",
    "\n",
    "#     @staticmethod\n",
    "#     def spam(a):\n",
    "#         ...\n",
    "\n",
    "#     @classmethod\n",
    "#     def grok(cls,a):\n",
    "#         ...\n",
    "\n",
    "#     @property\n",
    "#     def name(self):\n",
    "#         ...\n",
    "# 하나씩 살펴보자.\n"
   ]
  },
  {
   "cell_type": "code",
   "execution_count": null,
   "metadata": {},
   "outputs": [],
   "source": [
    "# 정적 메서드\n",
    "# ----------\n",
    "# @staticmethod는 정적(static) 클래스 메서드(C++/Java에서 유래)를 정의하는 데 사용한다. \n",
    "# 정적 메서드는 클래스에 속한 함수이지만 인스턴스에 대해 연산을 하지 않는다.\n",
    "\n",
    "# class Foo(object):\n",
    "#     @staticmethod\n",
    "#     def bar(x):\n",
    "#         print('x =', x)\n",
    "\n",
    "# >>> Foo.bar(2)\n",
    "# x=2\n",
    "# >>>\n",
    "\n",
    "# 클래스를 위한 내부 지원 코드를 구현하는 데 정적 메서드를 종종 사용한다. \n",
    "# 생성한 인스턴스를 관리하는 코드를 예로 들 수 있다(메모리 관리, 시스템 자원, 지속성, 잠금 등). \n",
    "# 특정 설계 패턴에서도 사용한다(여기서는 다루지 않는다).\n",
    "\n",
    "\n",
    "# 클래스 메서드\n",
    "# ------------\n",
    "# @classmethod는 클래스 메서드를 정의하는 데 사용한다. 클래스 메서드는 인스턴스 대신 class 객체를 첫 번째 매개변수로 받는다.\n",
    "\n",
    "# class Foo:\n",
    "#     def bar(self):\n",
    "#         print(self)\n",
    "\n",
    "#     @classmethod\n",
    "#     def spam(cls):\n",
    "#         print(cls)\n",
    "\n",
    "# >>> f = Foo()\n",
    "# >>> f.bar()\n",
    "# <__main__.Foo object at 0x971690>   # 인스턴스 `f`\n",
    "# >>> Foo.spam()\n",
    "# <class '__main__.Foo'>              # `Foo` 클래스\n",
    "# >>>\n",
    "\n",
    "# 생성자(constructor)의 대안으로 클래스 메서드를 종종 사용한다.\n",
    "\n",
    "# class Date:\n",
    "#     def __init__(self,year,month,day):\n",
    "#         self.year = year\n",
    "#         self.month = month\n",
    "#         self.day = day\n",
    "\n",
    "#     @classmethod\n",
    "#     def today(cls):\n",
    "#         # 클래스가 어떻게 인자로 전달되는지 보라\n",
    "#         tm = time.localtime()\n",
    "#         # 새 인스턴스를 생성하는 데 사용됨\n",
    "#         return cls(tm.tm_year, tm.tm_mon, tm.tm_mday)\n",
    "\n",
    "# d = Date.today()\n",
    "# 클래스 메서드는 상속과 같이 까다로운 문제를 해결한다.\n",
    "\n",
    "# class Date:\n",
    "#     ...\n",
    "#     @classmethod\n",
    "#     def today(cls):\n",
    "#         # 올바른 클래스를 얻음(예: `NewDate`)\n",
    "#         tm = time.localtime()\n",
    "#         return cls(tm.tm_year, tm.tm_mon, tm.tm_mday)\n",
    "\n",
    "# class NewDate(Date):\n",
    "#     ...\n",
    "\n",
    "# d = NewDate.today()"
   ]
  }
 ],
 "metadata": {
  "kernelspec": {
   "display_name": "base",
   "language": "python",
   "name": "python3"
  },
  "language_info": {
   "codemirror_mode": {
    "name": "ipython",
    "version": 3
   },
   "file_extension": ".py",
   "mimetype": "text/x-python",
   "name": "python",
   "nbconvert_exporter": "python",
   "pygments_lexer": "ipython3",
   "version": "3.9.7"
  },
  "orig_nbformat": 4
 },
 "nbformat": 4,
 "nbformat_minor": 2
}
