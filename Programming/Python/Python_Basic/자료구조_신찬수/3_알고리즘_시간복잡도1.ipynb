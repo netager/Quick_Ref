{
 "cells": [
  {
   "cell_type": "markdown",
   "metadata": {},
   "source": [
    "자료구조와 알고리즘 성능 1 : 가상 컴퓨터 + 가상언어 + 가상코드\n",
    "\n",
    "자료구조 + 알고리즘 -> 코드(C, java, Python)"
   ]
  },
  {
   "cell_type": "markdown",
   "metadata": {},
   "source": [
    "- 가상 컴퓨터(Virtual Machine) + 가상언어(Pseudo language) + 가상코드(Pseudo Code)\n",
    "- 가상 컴퓨터: Turing Machine -> von Neumann 제시: RAM(Random Access Machine)\n",
    "  - RAM = CPU + Memory + 기본연산(단위시간에 수행되는 연산들의 모임)\n",
    "  - 기본연산 : 1 단위 시간\n",
    "    - 배정, 대입, 복사 연산 : A = B\n",
    "    - 산술연산 : +, -, *, /\n",
    "    - 비교연산 : >, >=, <, <=, ==, != \n",
    "    - 논리연산 : AND, OR, NOT\n",
    "    - 비트연산 : bit-AND, bit-OR, bit-NOT\n",
    "- 가상언어(Pseudo/Virtual Lanauage)\n",
    "  - 배정, 산술, 비교, 논리, bit-논리 : 기본연산 표현\n",
    "  - 비교 : if, if else, if elseif ... else\n",
    "  - 반복 : for, while\n",
    "  - 함수 : 정의, 호출, return\n",
    "- 가상 코드(Pseudo Code)\n",
    "  - algorithm ArrayMax(A, n):\n",
    "    - input : n 개의 정수를 갖는 배열 A\n",
    "    - output : A의 수 중에서 최대값 리턴\n",
    "    - currentMax = A[0]\n",
    "    - for i = 1 to n-1 do\n",
    "      - if currentMax < A[i]:\n",
    "        - currentMax = A[i]\n",
    "    - return currentMax"
   ]
  },
  {
   "cell_type": "code",
   "execution_count": 1,
   "metadata": {},
   "outputs": [
    {
     "name": "stdout",
     "output_type": "stream",
     "text": [
      "12\n"
     ]
    }
   ],
   "source": [
    "# 기본연산 : 7회\n",
    "# 무한히 많은 입력\n",
    "# 무한히 많은 n\n",
    "\n",
    "def ArrayMax(A, n): # n : input size\n",
    "    currentMax = A[0]\n",
    "    for i in range(1, n):\n",
    "        if currentMax < A[i]:\n",
    "            currentMax = A[i]\n",
    "    return currentMax\n",
    "A = [3, -1, 9, 2, 12] \n",
    "n = len(A)\n",
    "print(ArrayMax(A, n))"
   ]
  },
  {
   "cell_type": "code",
   "execution_count": 4,
   "metadata": {},
   "outputs": [
    {
     "name": "stdout",
     "output_type": "stream",
     "text": [
      "73\n"
     ]
    }
   ],
   "source": [
    "def ArrayMax(A):\n",
    "    currentMax = A[0]\n",
    "    for i in range(1, len(A)):\n",
    "        if currentMax < A[i]:\n",
    "            currentMax = A[i]\n",
    "    return currentMax\n",
    "A = [3, -1, 9, 2, 12,3,5,4,56,56,43,73,34,7,8,8,3,34,3,2,3,2,5,4,54] \n",
    "print(ArrayMax(A))"
   ]
  },
  {
   "cell_type": "markdown",
   "metadata": {},
   "source": [
    "자료구조, 알고리즘의 시간복잡도(time complexity)\n",
    "1) 모든 입력에 대해 기본연산 횟수를 더한 후 평균 - 현실적으로 불가능\n",
    "2) 가장 안 좋은 입력(Worstcase input)에 대한 기본연산 횟수를 측정 : Worstcase time complexity => 어떤 입력에 대해서도 Worstcase Time Complexity 보다 수행시간이 크지 않다!\n",
    "- 알고리즘 수행시간 = 최악의 입력에 대한 기본연산 횟수\n",
    "- T(n) = 2n - 1"
   ]
  },
  {
   "cell_type": "markdown",
   "metadata": {},
   "source": [
    "Big-O 표기법 : 알고리즘의 수행시간 = 최악의 경우의 입력에 대한 기본 연산 횟수\n",
    "  - 1) 최고차항만 남긴다\n",
    "  - 2) 최고차항 계수(상수)는 생략\n",
    "  - 3) Big-O(최고차항)\n",
    "수행시간 T(n) = 함수값을 결정하는 최고차항만으로 간단하게 표기 : Big-O표기법\n",
    "T(n) = 2n-1 ----> T(n)=O(n)\n",
    "T(n) = 4n+1 ----> T(n)=O(n)\n",
    "T(n) = n^2 - n + 1 -----> T(n) = O(n^2)\n",
    "\n",
    "집합으로 이해하기"
   ]
  },
  {
   "cell_type": "markdown",
   "metadata": {},
   "source": [
    "배열(array) vs. 리스트(lisst)\n",
    "- 가장 기본적인 순차적인(sequential) 자료구조 [ 매우기본, 중요]\n",
    "- C 언어\n",
    "  - int A[4] = {2, 4, 0, 5 }"
   ]
  },
  {
   "cell_type": "code",
   "execution_count": null,
   "metadata": {},
   "outputs": [],
   "source": [
    "a = [1,2,3]\n",
    "a."
   ]
  },
  {
   "cell_type": "code",
   "execution_count": null,
   "metadata": {},
   "outputs": [],
   "source": [
    "import sys\n",
    "\n",
    "a=[]\n",
    "print(sys.getsizeof(a))\n",
    "a.append(10)\n",
    "a.append(20)\n",
    "print(sys.getsizeof(a))\n",
    "a * 10\n",
    "\n"
   ]
  },
  {
   "cell_type": "code",
   "execution_count": 12,
   "metadata": {},
   "outputs": [
    {
     "data": {
      "text/plain": [
       "array([1, 2, 3])"
      ]
     },
     "execution_count": 12,
     "metadata": {},
     "output_type": "execute_result"
    }
   ],
   "source": [
    "import numpy as np\n",
    "\n",
    "b = np.array([1,2,3])\n",
    "b"
   ]
  },
  {
   "cell_type": "code",
   "execution_count": 13,
   "metadata": {},
   "outputs": [
    {
     "data": {
      "text/plain": [
       "array([3, 6, 9])"
      ]
     },
     "execution_count": 13,
     "metadata": {},
     "output_type": "execute_result"
    }
   ],
   "source": [
    "b*3"
   ]
  },
  {
   "cell_type": "code",
   "execution_count": null,
   "metadata": {},
   "outputs": [],
   "source": []
  }
 ],
 "metadata": {
  "interpreter": {
   "hash": "8fac594bfae6525c0c41b4041d2d72effa188cc8ead05f81b1fab2bb098927fb"
  },
  "kernelspec": {
   "display_name": "Python 3.8.8 ('base')",
   "language": "python",
   "name": "python3"
  },
  "language_info": {
   "codemirror_mode": {
    "name": "ipython",
    "version": 3
   },
   "file_extension": ".py",
   "mimetype": "text/x-python",
   "name": "python",
   "nbconvert_exporter": "python",
   "pygments_lexer": "ipython3",
   "version": "3.8.8"
  },
  "orig_nbformat": 4
 },
 "nbformat": 4,
 "nbformat_minor": 2
}
