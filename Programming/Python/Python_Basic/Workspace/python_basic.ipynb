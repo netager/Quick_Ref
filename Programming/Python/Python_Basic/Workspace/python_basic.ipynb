{
 "cells": [
  {
   "cell_type": "markdown",
   "metadata": {},
   "source": [
    "### 멤버변수"
   ]
  },
  {
   "cell_type": "code",
   "execution_count": 1,
   "metadata": {},
   "outputs": [
    {
     "name": "stdout",
     "output_type": "stream",
     "text": [
      "마린 유닛이 생성 되었습니다.\n",
      "체력 40, 공격력 5\n",
      "마린 유닛이 생성 되었습니다.\n",
      "체력 40, 공격력 5\n",
      "탱크 유닛이 생성 되었습니다.\n",
      "체력 150, 공격력 35\n",
      "레이스 유닛이 생성 되었습니다.\n",
      "체력 80, 공격력 5\n",
      "유닛 이름 : 레이스, 공격력 : 5\n"
     ]
    }
   ],
   "source": [
    "class Unit:\n",
    "    def __init__(self, name, hp, damage):\n",
    "        self.name = name\n",
    "        self.hp = hp\n",
    "        self.damage = damage\n",
    "        print(\"{0} 유닛이 생성 되었습니다.\".format(self.name))\n",
    "        print(\"체력 {0}, 공격력 {1}\".format(self.hp, self.damage))\n",
    "\n",
    "marine1 = Unit(\"마린\", 40, 5)\n",
    "marine2 = Unit(\"마린\", 40, 5)\n",
    "tank = Unit(\"탱크\", 150, 35)\n",
    "\n",
    "# 레이스 : 공중 유닛, 비행기, 클로킹(상대방에게 보이지 않음)\n",
    "wraith1 = Unit(\"레이스\", 80, 5)\n",
    "print(\"유닛 이름 : {0}, 공격력 : {1}\".format(wraith1.name, wraith1.damage))\n",
    "\n",
    "# 마인드 컨트롤 : 상대방 유닛을 내 것으로 만드는 것\n",
    "wraith2 = Unit(\"레이스\", 80,5)\n",
    "wraith2.clocking = True\n",
    "\n",
    "if wraith2.clocking == True:\n",
    "    print(\"{0}는 현재 클로킹 상태입니다.\".format(wraith2.name))"
   ]
  },
  {
   "cell_type": "markdown",
   "metadata": {},
   "source": [
    "### 메소드"
   ]
  },
  {
   "cell_type": "code",
   "execution_count": 3,
   "metadata": {},
   "outputs": [
    {
     "name": "stdout",
     "output_type": "stream",
     "text": [
      "파이어뱃 유닛이 생성 되었습니다.\n",
      "체력 50, 공격력 16\n",
      "파이어뱃 : 5시 방향으로 적군을 공격 합니다. [공격력 16]\n",
      "파이어뱃 : 25 데이지를 입었습니다.\n",
      "파이어뱃 : 현재 체력은 25 입니다.\n",
      "파이어뱃 : 25 데이지를 입었습니다.\n",
      "파이어뱃 : 현재 체력은 0 입니다.\n",
      "파이어뱃 : 파괴되었습니다.\n"
     ]
    }
   ],
   "source": [
    "class AttackUnit:\n",
    "    def __init__(self, name, hp, damage):\n",
    "        self.name = name\n",
    "        self.hp = hp\n",
    "        self.damage = damage\n",
    "        print(\"{0} 유닛이 생성 되었습니다.\".format(self.name))\n",
    "        print(\"체력 {0}, 공격력 {1}\".format(self.hp, self.damage))\n",
    "\n",
    "    def attack(self, location):\n",
    "        print(\"{0} : {1} 방향으로 적군을 공격 합니다. [공격력 {2}]\".format(self.name, location, self.damage))\n",
    "    \n",
    "    def damaged(self, damage):\n",
    "        print(\"{0} : {1} 데이지를 입었습니다.\".format(self.name, damage))\n",
    "        self.hp -= damage\n",
    "        print(\"{0} : 현재 체력은 {1} 입니다.\".format(self.name, self.hp))\n",
    "\n",
    "        if self.hp <= 0:\n",
    "            print(\"{0} : 파괴되었습니다.\".format(self.name))\n",
    "    \n",
    "\n",
    "    # 파이어벳:공격, 유닛, 화염방사기\n",
    "firebat1 = AttackUnit(\"파이어뱃\", 50, 16)\n",
    "firebat1.attack(\"5시\")\n",
    "\n",
    "# 공격 2번 받는다고 가정\n",
    "firebat1.damaged(25)\n",
    "firebat1.damaged(25)\n"
   ]
  },
  {
   "cell_type": "markdown",
   "metadata": {},
   "source": [
    "### 상속"
   ]
  },
  {
   "cell_type": "code",
   "execution_count": 5,
   "metadata": {},
   "outputs": [
    {
     "name": "stdout",
     "output_type": "stream",
     "text": [
      "파이어뱃 유닛이 생성 되었습니다.\n",
      "체력 50, 공격력 16\n",
      "파이어뱃 : 5시 방향으로 적군을 공격 합니다. [공격력 16]\n",
      "파이어뱃 : 25 데이지를 입었습니다.\n",
      "파이어뱃 : 현재 체력은 25 입니다.\n",
      "파이어뱃 : 25 데이지를 입었습니다.\n",
      "파이어뱃 : 현재 체력은 0 입니다.\n",
      "파이어뱃 : 파괴되었습니다.\n"
     ]
    }
   ],
   "source": [
    "class Unit:\n",
    "    def __init__(self, name, hp):\n",
    "        self.name = name\n",
    "        self.hp = hp\n",
    "\n",
    "class AttackUnit(Unit):\n",
    "    def __init__(self, name, hp, damage):\n",
    "        Unit.__init__(self, name, hp)\n",
    "        self.damage = damage\n",
    "        print(\"{0} 유닛이 생성 되었습니다.\".format(self.name))\n",
    "        print(\"체력 {0}, 공격력 {1}\".format(self.hp, self.damage))\n",
    "\n",
    "    def attack(self, location):\n",
    "        print(\"{0} : {1} 방향으로 적군을 공격 합니다. [공격력 {2}]\".format(self.name, location, self.damage))\n",
    "    \n",
    "    def damaged(self, damage):\n",
    "        print(\"{0} : {1} 데이지를 입었습니다.\".format(self.name, damage))\n",
    "        self.hp -= damage\n",
    "        print(\"{0} : 현재 체력은 {1} 입니다.\".format(self.name, self.hp))\n",
    "\n",
    "        if self.hp <= 0:\n",
    "            print(\"{0} : 파괴되었습니다.\".format(self.name))\n",
    "    \n",
    "\n",
    "    # 파이어벳:공격, 유닛, 화염방사기\n",
    "firebat1 = AttackUnit(\"파이어뱃\", 50, 16)\n",
    "firebat1.attack(\"5시\")\n",
    "\n",
    "# 공격 2번 받는다고 가정\n",
    "firebat1.damaged(25)\n",
    "firebat1.damaged(25)\n"
   ]
  },
  {
   "cell_type": "markdown",
   "metadata": {},
   "source": [
    "### 다중 상속"
   ]
  },
  {
   "cell_type": "code",
   "execution_count": null,
   "metadata": {},
   "outputs": [],
   "source": [
    "# 일반 유닛\n",
    "class Unit:\n",
    "    def __init__(self, name, hp):\n",
    "        self.name = name\n",
    "        self.hp = hp\n",
    "\n",
    "# 공격 유닛\n",
    "class AttackUnit(Unit):\n",
    "    def __init__(self, name, hp, damage):\n",
    "        Unit.__init__(self, name, hp)\n",
    "        self.damage = damage\n",
    "        print(\"{0} 유닛이 생성 되었습니다.\".format(self.name))\n",
    "        print(\"체력 {0}, 공격력 {1}\".format(self.hp, self.damage))\n",
    "\n",
    "    def attack(self, location):\n",
    "        print(\"{0} : {1} 방향으로 적군을 공격 합니다. [공격력 {2}]\".format(self.name, location, self.damage))\n",
    "    \n",
    "    def damaged(self, damage):\n",
    "        print(\"{0} : {1} 데이지를 입었습니다.\".format(self.name, damage))\n",
    "        self.hp -= damage\n",
    "        print(\"{0} : 현재 체력은 {1} 입니다.\".format(self.name, self.hp))\n",
    "\n",
    "        if self.hp <= 0:\n",
    "            print(\"{0} : 파괴되었습니다.\".format(self.name))\n",
    "    \n",
    "\n",
    "# 드랍쉽 : 공중 유닛, 수송기, 마린/파이어뱃/탱크등을 수송, 공격 x\n",
    "# 날 수 있는 기능을 가진 클래스\n",
    "class Flyable:\n",
    "    def __init__(self, flying_speed):\n",
    "        self.flying_speed = flying_speed\n",
    "\n",
    "    def fly(self, name, location):\n",
    "        print(\"{0} : {1} 방향으로 날아갑니다. [속도 {2}]\".format(name, location, self.flying_speed))\n",
    "\n",
    "class FlyableAttackUnit(AttackUnit, Flyable):\n",
    "    def __init__(self, name, hp, damage, flying_speed):\n",
    "        AttackUnit.__init__(self, name, hp, damage)\n",
    "        Flyable.__init__(self, flying_speed)\n",
    "\n",
    "# 발키리 : 공중 공격 유닛, 한번에 14발 미사일 발사\n",
    "valkyrie = FlyableAttackUnit(\"발키리\", 200, 6, 5)\n",
    "valkyrie.fly(valkyrie.name, \"3시\")\n",
    "\n"
   ]
  },
  {
   "cell_type": "markdown",
   "metadata": {},
   "source": [
    "### 메소드 오버로딩"
   ]
  },
  {
   "cell_type": "code",
   "execution_count": 7,
   "metadata": {},
   "outputs": [
    {
     "name": "stdout",
     "output_type": "stream",
     "text": [
      "벌쳐 유닛이 생성 되었습니다.\n",
      "체력 80, 공격력 20\n",
      "배틀크루저 유닛이 생성 되었습니다.\n",
      "체력 500, 공격력 25\n",
      "[지상 유닛 이동]\n",
      "벌쳐 : 11시 방향으로 이동합니다. [속도 10]\n",
      "[공중 유닛 이동]\n",
      "배틀크루저 : 9시 방향으로 날아갑니다. [속도 3]\n"
     ]
    }
   ],
   "source": [
    "# 일반 유닛\n",
    "class Unit:\n",
    "    def __init__(self, name, hp, speed):\n",
    "        self.name = name\n",
    "        self.hp = hp\n",
    "        self.speed = speed\n",
    "    \n",
    "    def move(self, location):\n",
    "        print(\"[지상 유닛 이동]\")\n",
    "        print(\"{0} : {1} 방향으로 이동합니다. [속도 {2}]\".format(self.name, location, self.speed))\n",
    "\n",
    "# 공격 유닛\n",
    "class AttackUnit(Unit):\n",
    "    def __init__(self, name, hp, speed, damage):\n",
    "        Unit.__init__(self, name, hp, speed)\n",
    "        self.damage = damage\n",
    "        print(\"{0} 유닛이 생성 되었습니다.\".format(self.name))\n",
    "        print(\"체력 {0}, 공격력 {1}\".format(self.hp, self.damage))\n",
    "\n",
    "    def attack(self, location):\n",
    "        print(\"{0} : {1} 방향으로 적군을 공격 합니다. [공격력 {2}]\".format(self.name, location, self.damage))\n",
    "    \n",
    "    def damaged(self, damage):\n",
    "        print(\"{0} : {1} 데이지를 입었습니다.\".format(self.name, damage))\n",
    "        self.hp -= damage\n",
    "        print(\"{0} : 현재 체력은 {1} 입니다.\".format(self.name, self.hp))\n",
    "\n",
    "        if self.hp <= 0:\n",
    "            print(\"{0} : 파괴되었습니다.\".format(self.name))\n",
    "    \n",
    "\n",
    "# 드랍쉽 : 공중 유닛, 수송기, 마린/파이어뱃/탱크등을 수송, 공격 x\n",
    "# 날 수 있는 기능을 가진 클래스\n",
    "class Flyable:\n",
    "    def __init__(self, flying_speed):\n",
    "        self.flying_speed = flying_speed\n",
    "\n",
    "    def fly(self, name, location):\n",
    "        print(\"{0} : {1} 방향으로 날아갑니다. [속도 {2}]\".format(name, location, self.flying_speed))\n",
    "\n",
    "class FlyableAttackUnit(AttackUnit, Flyable):\n",
    "    def __init__(self, name, hp, damage, flying_speed):\n",
    "        AttackUnit.__init__(self, name, hp, 0, damage) # 지상 speed 0\n",
    "        Flyable.__init__(self, flying_speed)\n",
    "    \n",
    "    def move(self, location):\n",
    "        print(\"[공중 유닛 이동]\")\n",
    "        self.fly(self.name, location)\n",
    "\n",
    "# 벌처 : 지상 유닛, 기동성이 좋음\n",
    "vulture = AttackUnit(\"벌쳐\", 80, 10, 20)\n",
    "\n",
    "# 배틀크루저 : 공중 유닛, 체력도 굉장히 좋음, 공격력도 좋음\n",
    "battlecruiser = FlyableAttackUnit(\"배틀크루저\", 500, 25, 3)\n",
    "\n",
    "vulture.move(\"11시\")\n",
    "#battlecruiser.fly(battlecruiser.name, \"9시\")\n",
    "battlecruiser.move(\"9시\")\n"
   ]
  },
  {
   "cell_type": "markdown",
   "metadata": {},
   "source": [
    "### pass"
   ]
  },
  {
   "cell_type": "code",
   "execution_count": null,
   "metadata": {},
   "outputs": [],
   "source": [
    "# 일반 유닛\n",
    "class Unit:\n",
    "    def __init__(self, name, hp, speed):\n",
    "        self.name = name\n",
    "        self.hp = hp\n",
    "        self.speed = speed\n",
    "    \n",
    "    def move(self, location):\n",
    "        print(\"[지상 유닛 이동]\")\n",
    "        print(\"{0} : {1} 방향으로 이동합니다. [속도 {2}]\".format(self.name, location, self.speed))\n",
    "\n",
    "# 공격 유닛\n",
    "class AttackUnit(Unit):\n",
    "    def __init__(self, name, hp, speed, damage):\n",
    "        Unit.__init__(self, name, hp, speed)\n",
    "        self.damage = damage\n",
    "        print(\"{0} 유닛이 생성 되었습니다.\".format(self.name))\n",
    "        print(\"체력 {0}, 공격력 {1}\".format(self.hp, self.damage))\n",
    "\n",
    "    def attack(self, location):\n",
    "        print(\"{0} : {1} 방향으로 적군을 공격 합니다. [공격력 {2}]\".format(self.name, location, self.damage))\n",
    "    \n",
    "    def damaged(self, damage):\n",
    "        print(\"{0} : {1} 데이지를 입었습니다.\".format(self.name, damage))\n",
    "        self.hp -= damage\n",
    "        print(\"{0} : 현재 체력은 {1} 입니다.\".format(self.name, self.hp))\n",
    "\n",
    "        if self.hp <= 0:\n",
    "            print(\"{0} : 파괴되었습니다.\".format(self.name))\n",
    "    \n",
    "\n",
    "# 드랍쉽 : 공중 유닛, 수송기, 마린/파이어뱃/탱크등을 수송, 공격 x\n",
    "# 날 수 있는 기능을 가진 클래스\n",
    "class Flyable:\n",
    "    def __init__(self, flying_speed):\n",
    "        self.flying_speed = flying_speed\n",
    "\n",
    "    def fly(self, name, location):\n",
    "        print(\"{0} : {1} 방향으로 날아갑니다. [속도 {2}]\".format(name, location, self.flying_speed))\n",
    "\n",
    "class FlyableAttackUnit(AttackUnit, Flyable):\n",
    "    def __init__(self, name, hp, damage, flying_speed):\n",
    "        AttackUnit.__init__(self, name, hp, 0, damage) # 지상 speed 0\n",
    "        Flyable.__init__(self, flying_speed)\n",
    "    \n",
    "    def move(self, location):\n",
    "        print(\"[공중 유닛 이동]\")\n",
    "        self.fly(self.name, location)\n",
    "\n",
    "# 건물\n",
    "class BuildingUnit(Unit):\n",
    "    def __init__(self, name, hp, location):\n",
    "        pass\n",
    "\n",
    "# 서플라이 디폿 : 건물, 1개 건물 = 8 유닛\n",
    "supply_depot = BuildingUnit(\"서플라이 디폿\", 500, \"7시\")\n",
    "\n",
    "def game_start():\n",
    "    print\n"
   ]
  },
  {
   "cell_type": "markdown",
   "metadata": {},
   "source": [
    "### super"
   ]
  },
  {
   "cell_type": "code",
   "execution_count": null,
   "metadata": {},
   "outputs": [],
   "source": [
    "# 일반 유닛\n",
    "class Unit:\n",
    "    def __init__(self, name, hp, speed):\n",
    "        self.name = name\n",
    "        self.hp = hp\n",
    "        self.speed = speed\n",
    "    \n",
    "    def move(self, location):\n",
    "        print(\"[지상 유닛 이동]\")\n",
    "        print(\"{0} : {1} 방향으로 이동합니다. [속도 {2}]\".format(self.name, location, self.speed))\n",
    "\n",
    "# 공격 유닛\n",
    "class AttackUnit(Unit):\n",
    "    def __init__(self, name, hp, speed, damage):\n",
    "        Unit.__init__(self, name, hp, speed)\n",
    "        self.damage = damage\n",
    "        print(\"{0} 유닛이 생성 되었습니다.\".format(self.name))\n",
    "        print(\"체력 {0}, 공격력 {1}\".format(self.hp, self.damage))\n",
    "\n",
    "    def attack(self, location):\n",
    "        print(\"{0} : {1} 방향으로 적군을 공격 합니다. [공격력 {2}]\".format(self.name, location, self.damage))\n",
    "    \n",
    "    def damaged(self, damage):\n",
    "        print(\"{0} : {1} 데이지를 입었습니다.\".format(self.name, damage))\n",
    "        self.hp -= damage\n",
    "        print(\"{0} : 현재 체력은 {1} 입니다.\".format(self.name, self.hp))\n",
    "\n",
    "        if self.hp <= 0:\n",
    "            print(\"{0} : 파괴되었습니다.\".format(self.name))\n",
    "    \n",
    "\n",
    "# 드랍쉽 : 공중 유닛, 수송기, 마린/파이어뱃/탱크등을 수송, 공격 x\n",
    "# 날 수 있는 기능을 가진 클래스\n",
    "class Flyable:\n",
    "    def __init__(self, flying_speed):\n",
    "        self.flying_speed = flying_speed\n",
    "\n",
    "    def fly(self, name, location):\n",
    "        print(\"{0} : {1} 방향으로 날아갑니다. [속도 {2}]\".format(name, location, self.flying_speed))\n",
    "\n",
    "class FlyableAttackUnit(AttackUnit, Flyable):\n",
    "    def __init__(self, name, hp, damage, flying_speed):\n",
    "        AttackUnit.__init__(self, name, hp, 0, damage) # 지상 speed 0\n",
    "        Flyable.__init__(self, flying_speed)\n",
    "    \n",
    "    def move(self, location):\n",
    "        print(\"[공중 유닛 이동]\")\n",
    "        self.fly(self.name, location)\n",
    "\n",
    "# 건물\n",
    "class BuildingUnit(Unit):\n",
    "    def __init__(self, name, hp, location):\n",
    "        #Unit.__init__(self, name, hp, 0)\n",
    "        super().__init__(name, hp, 0)\n",
    "        self.location = location\n",
    "\n",
    "        \n"
   ]
  },
  {
   "cell_type": "code",
   "execution_count": 8,
   "metadata": {},
   "outputs": [
    {
     "name": "stdout",
     "output_type": "stream",
     "text": [
      "Unit 생성자\n",
      "Flyable 생성자\n",
      "Flyable 생성자\n"
     ]
    }
   ],
   "source": [
    "class Unit:\n",
    "    def __init__(self):\n",
    "        print(\"Unit 생성자\")\n",
    "\n",
    "class Flyable:\n",
    "    def __init__(self):\n",
    "        print(\"Flyable 생성자\")\n",
    "\n",
    "class FlyableUnit(Unit, Flyable):\n",
    "    def __init__(self):\n",
    "        #super().__init__()\n",
    "        Unit.__init__(self)\n",
    "        Flyable.__init__(self)\n",
    "\n",
    "class FlyableUnit1(Flyable, Unit):\n",
    "    def __init__(self):\n",
    "        super().__init__()\n",
    "\n",
    "# 드랍쉽  \n",
    "dropship = FlyableUnit()      \n",
    "dropship1 = FlyableUnit1()      \n"
   ]
  },
  {
   "cell_type": "markdown",
   "metadata": {},
   "source": [
    "### 전반전 총정리"
   ]
  },
  {
   "cell_type": "code",
   "execution_count": 12,
   "metadata": {},
   "outputs": [
    {
     "name": "stdout",
     "output_type": "stream",
     "text": [
      "[알림] 새로운 게임을 시작합니다.\n",
      "마린 유닛이 생성되었습니다.\n",
      "마린 유닛이 생성 되었습니다.\n",
      "체력 40, 공격력 5\n",
      "마린 유닛이 생성되었습니다.\n",
      "마린 유닛이 생성 되었습니다.\n",
      "체력 40, 공격력 5\n",
      "마린 유닛이 생성되었습니다.\n",
      "마린 유닛이 생성 되었습니다.\n",
      "체력 40, 공격력 5\n",
      "탱크 유닛이 생성되었습니다.\n",
      "탱크 유닛이 생성 되었습니다.\n",
      "체력 150, 공격력 35\n",
      "탱크 유닛이 생성되었습니다.\n",
      "탱크 유닛이 생성 되었습니다.\n",
      "체력 150, 공격력 35\n",
      "레이스 유닛이 생성되었습니다.\n",
      "레이스 유닛이 생성 되었습니다.\n",
      "체력 80, 공격력 20\n",
      "마린 : 1시 방향으로 이동합니다. [속도 1]\n",
      "마린 : 1시 방향으로 이동합니다. [속도 1]\n",
      "마린 : 1시 방향으로 이동합니다. [속도 1]\n",
      "탱크 : 1시 방향으로 이동합니다. [속도 1]\n",
      "탱크 : 1시 방향으로 이동합니다. [속도 1]\n",
      "레이스 : 1시 방향으로 날아갑니다. [속도 5]\n",
      "[알림] 탱크 시즈 모드 개발이 완료되었습니다.\n",
      "마린 : 스팀팩을 사용합니다. (HP 10 감소)\n",
      "마린 : 스팀팩을 사용합니다. (HP 10 감소)\n",
      "마린 : 스팀팩을 사용합니다. (HP 10 감소)\n",
      "탱크 : 시즈모드로 전환합니다.\n",
      "탱크 : 시즈모드로 전환합니다.\n",
      "레이스 : 클로킹 모드 설정합니다.\n",
      "마린 : 1시 방향으로 적군을 공격 합니다. [공격력 5]\n",
      "마린 : 1시 방향으로 적군을 공격 합니다. [공격력 5]\n",
      "마린 : 1시 방향으로 적군을 공격 합니다. [공격력 5]\n",
      "탱크 : 1시 방향으로 적군을 공격 합니다. [공격력 70]\n",
      "탱크 : 1시 방향으로 적군을 공격 합니다. [공격력 70]\n",
      "레이스 : 1시 방향으로 적군을 공격 합니다. [공격력 20]\n",
      "마린 : 6 데이지를 입었습니다.\n",
      "마린 : 현재 체력은 24 입니다.\n",
      "마린 : 14 데이지를 입었습니다.\n",
      "마린 : 현재 체력은 16 입니다.\n",
      "마린 : 9 데이지를 입었습니다.\n",
      "마린 : 현재 체력은 21 입니다.\n",
      "탱크 : 19 데이지를 입었습니다.\n",
      "탱크 : 현재 체력은 131 입니다.\n",
      "탱크 : 20 데이지를 입었습니다.\n",
      "탱크 : 현재 체력은 130 입니다.\n",
      "레이스 : 12 데이지를 입었습니다.\n",
      "레이스 : 현재 체력은 68 입니다.\n",
      "Player : gg\n",
      "[Player] 님이 게임에서 퇴장하셨습니다.\n"
     ]
    }
   ],
   "source": [
    "from random import *\n",
    "\n",
    "# 일반 유닛\n",
    "class Unit:\n",
    "    def __init__(self, name, hp, speed):\n",
    "        self.name = name\n",
    "        self.hp = hp\n",
    "        self.speed = speed\n",
    "        print(\"{0} 유닛이 생성되었습니다.\".format(name))\n",
    "    \n",
    "    def move(self, location):\n",
    "        print(\"{0} : {1} 방향으로 이동합니다. [속도 {2}]\".format(self.name, location, self.speed))\n",
    "\n",
    "    def damaged(self, damage):\n",
    "        print(\"{0} : {1} 데이지를 입었습니다.\".format(self.name, damage))\n",
    "        self.hp -= damage\n",
    "        print(\"{0} : 현재 체력은 {1} 입니다.\".format(self.name, self.hp))\n",
    "\n",
    "        if self.hp <= 0:\n",
    "            print(\"{0} : 파괴되었습니다.\".format(self.name))\n",
    "\n",
    "# 공격 유닛\n",
    "class AttackUnit(Unit):\n",
    "    def __init__(self, name, hp, speed, damage):\n",
    "        Unit.__init__(self, name, hp, speed)\n",
    "        self.damage = damage\n",
    "        print(\"{0} 유닛이 생성 되었습니다.\".format(self.name))\n",
    "        print(\"체력 {0}, 공격력 {1}\".format(self.hp, self.damage))\n",
    "\n",
    "    def attack(self, location):\n",
    "        print(\"{0} : {1} 방향으로 적군을 공격 합니다. [공격력 {2}]\".format(self.name, location, self.damage))\n",
    "    \n",
    "    def damaged(self, damage):\n",
    "        print(\"{0} : {1} 데이지를 입었습니다.\".format(self.name, damage))\n",
    "        self.hp -= damage\n",
    "        print(\"{0} : 현재 체력은 {1} 입니다.\".format(self.name, self.hp))\n",
    "\n",
    "        if self.hp <= 0:\n",
    "            print(\"{0} : 파괴되었습니다.\".format(self.name))\n",
    "    \n",
    "\n",
    "# 마린\n",
    "class Marine(AttackUnit):\n",
    "    def __init__(self):\n",
    "        AttackUnit.__init__(self, \"마린\", 40, 1, 5)\n",
    "\n",
    "    # 스팀팩 : 일정 시간 동안 이동 및 공격 속도를 증가, 체력 10 감소\n",
    "    def stimpack(self):\n",
    "        if self.hp > 10:\n",
    "            self.hp -= 10\n",
    "            print(\"{0} : 스팀팩을 사용합니다. (HP 10 감소)\".format(self.name))\n",
    "        else:\n",
    "            print(\"{0} : 체력이 부족하여 스팀팩을 사용하지 않습니다.\".format(self.name))\n",
    "\n",
    "class Tank(AttackUnit):\n",
    "    # 시즈모드 : 탱크를 지상에 고정시켜, 더 높은 파워로 공격 가능. 이동 불가\n",
    "    seize_developed = False # 시즈모드 개발 여부\n",
    "    def __init__(self):\n",
    "        AttackUnit.__init__(self, \"탱크\", 150, 1, 35)\n",
    "        self.seize_mode = False\n",
    "\n",
    "    def set_seize_mode(self):\n",
    "        if Tank.seize_developed == False:\n",
    "            return\n",
    "        # 현재 시즈모드가 아닐 때 -> 시즈모드\n",
    "        if self.seize_mode == False:\n",
    "            print(\"{0} : 시즈모드로 전환합니다.\".format(self.name))\n",
    "            self.damage *= 2\n",
    "            self.seize_mode = True\n",
    "        # 현재 시즈모드일 때 -> 시즈모드 해제\n",
    "        else:\n",
    "            print(\"{0} : 시즈모드를 해제합니다.\".format(self.name))\n",
    "            self.damage /= 2\n",
    "            self.seize_mode = False\n",
    "\n",
    "\n",
    "# 드랍쉽 : 공중 유닛, 수송기, 마린/파이어뱃/탱크등을 수송, 공격 x\n",
    "# 날 수 있는 기능을 가진 클래스\n",
    "class Flyable:\n",
    "    def __init__(self, flying_speed):\n",
    "        self.flying_speed = flying_speed\n",
    "\n",
    "    def fly(self, name, location):\n",
    "        print(\"{0} : {1} 방향으로 날아갑니다. [속도 {2}]\".format(name, location, self.flying_speed))\n",
    "\n",
    "class FlyableAttackUnit(AttackUnit, Flyable):\n",
    "    def __init__(self, name, hp, damage, flying_speed):\n",
    "        AttackUnit.__init__(self, name, hp, 0, damage) # 지상 speed 0\n",
    "        Flyable.__init__(self, flying_speed)\n",
    "    \n",
    "    def move(self, location):\n",
    "        self.fly(self.name, location)\n",
    "\n",
    "# 레이스 \n",
    "class Wraith(FlyableAttackUnit):\n",
    "    def __init__(self):\n",
    "        FlyableAttackUnit.__init__(self, \"레이스\", 80, 20, 5)\n",
    "        self.clocked = False # 클로킹 모드 (해제 상태)\n",
    "\n",
    "    def clocking(self):\n",
    "        if self.clocked == True: # 클로킹 모드 -> 모드 해제\n",
    "            print(\"{0} : 클로킹 모드 해제합니다.\".format(self.name))\n",
    "            self.clocked = False\n",
    "        else: # 클로킹 모드 해제 -> 모드 설정\n",
    "            print(\"{0} : 클로킹 모드 설정합니다.\".format(self.name))\n",
    "            self.clocked = True\n",
    "\n",
    "def game_start():\n",
    "    print(\"[알림] 새로운 게임을 시작합니다.\")\n",
    "\n",
    "def game_over():\n",
    "    print(\"Player : gg\") # good game\n",
    "    print(\"[Player] 님이 게임에서 퇴장하셨습니다.\")   \n",
    "\n",
    "# 실제 게임 진행\n",
    "game_start()\n",
    "\n",
    "# 마린 3기 생성\n",
    "m1 = Marine()\n",
    "m2 = Marine()\n",
    "m3 = Marine()\n",
    "\n",
    "# 탱크 2기 생성\n",
    "t1 = Tank()\n",
    "t2 = Tank()\n",
    "\n",
    "# 레이스 1기 생성\n",
    "w1 = Wraith()\n",
    "\n",
    "# 유닛 일괄 관리 (생성된 모든 유닛 append)\n",
    "attack_units = []\n",
    "attack_units.append(m1)\n",
    "attack_units.append(m2)\n",
    "attack_units.append(m3)\n",
    "\n",
    "attack_units.append(t1)\n",
    "attack_units.append(t2)\n",
    "\n",
    "attack_units.append(w1)\n",
    "\n",
    "# 전군 이동\n",
    "for unit in attack_units:\n",
    "    unit.move(\"1시\")\n",
    "\n",
    "# 탱크 시즈모드 개발\n",
    "Tank.seize_developed = True\n",
    "print(\"[알림] 탱크 시즈 모드 개발이 완료되었습니다.\")\n",
    "\n",
    "# 공격 모드 준비 (마린 : 스팀팩, 탱크 : 시즈모드, 레이스 : 클로킹)\n",
    "for unit in attack_units:\n",
    "    if isinstance(unit, Marine):\n",
    "        unit.stimpack()\n",
    "    elif isinstance(unit, Tank):\n",
    "        unit.set_seize_mode()\n",
    "    elif isinstance(unit, Wraith):\n",
    "        unit.clocking()\n",
    "\n",
    "\n",
    "# 전군 공격\n",
    "for unit in attack_units:\n",
    "    unit.attack(\"1시\")\n",
    "\n",
    "# 전군 피해\n",
    "for unit in attack_units:\n",
    "    unit.damaged(randint(5,21)) ## 공격은 랜덤으로 받음(5 ~ 21)\n",
    "\n",
    "# 게임 종료\n",
    "game_over()"
   ]
  },
  {
   "cell_type": "markdown",
   "metadata": {},
   "source": [
    "### Quiz\n",
    "\n",
    "(출력 예제)\n",
    "총 3대의 매물이 있습니다.\n",
    "강남 아파트 매매 10억 2010년\n",
    "마모 오피스텔 전세 5억 2007년\n",
    "송파 빌라 월세 500/50 2000년\n",
    "\n",
    "[코드]\n",
    "class House:\n",
    "    # 매물 초기화\n",
    "    def __init__(self, location, house_type, deal_type, price, completion_year):\n",
    "        pass\n",
    "    \n",
    "    # 매물 정보 표시\n",
    "    def show_detail(self):\n",
    "        pass\n",
    "        "
   ]
  },
  {
   "cell_type": "code",
   "execution_count": 24,
   "metadata": {},
   "outputs": [
    {
     "name": "stdout",
     "output_type": "stream",
     "text": [
      "총 3대의 매물이 있습니다.\n",
      "강남         아파트              매매                   10억                  2010년     \n",
      "마포         오피스텔             전세                   5억                   2007년     \n",
      "송파         빌라               월세                   200/50               2000년     \n"
     ]
    }
   ],
   "source": [
    "\n",
    "class House:\n",
    "    # 매물 초기화\n",
    "    def __init__(self, location, house_type, deal_type, price, completion_year):\n",
    "        self.location = location\n",
    "        self.house_type = house_type\n",
    "        self.deal_type = deal_type \n",
    "        self.price = price \n",
    "        self.completion_year = completion_year\n",
    "\n",
    "    \n",
    "    # 매물 정보 표시\n",
    "    def show_detail(self):\n",
    "        print(\"{0:<10} {1:<16} {2:<20} {3:<20} {4:<10}\".format(self.location, self.house_type, self.deal_type, self.price, self.completion_year))\n",
    "\n",
    "h1 = House(\"강남\",\"아파트\",\"매매\",\"10억\",\"2010년\")    \n",
    "h2 = House(\"마포\",\"오피스텔\",\"전세\",\"5억\",\"2007년\")\n",
    "h3 = House(\"송파\",\"빌라\",\"월세\",\"200/50\",\"2000년\")\n",
    "\n",
    "houses = []\n",
    "\n",
    "houses.append(h1)\n",
    "houses.append(h2)\n",
    "houses.append(h3)\n",
    "\n",
    "print(\"총 {0}대의 매물이 있습니다.\".format(len(houses)))\n",
    "for house in houses:\n",
    "    house.show_detail()\n",
    "\n",
    "\n"
   ]
  },
  {
   "cell_type": "markdown",
   "metadata": {},
   "source": [
    "### 예외 처리"
   ]
  },
  {
   "cell_type": "code",
   "execution_count": 33,
   "metadata": {},
   "outputs": [
    {
     "name": "stdout",
     "output_type": "stream",
     "text": [
      "나누기 전용 계산기입니다.\n",
      "알 수 없는 에러가 발생하였습니다.\n",
      "list index out of range\n"
     ]
    }
   ],
   "source": [
    "try:\n",
    "    print(\"나누기 전용 계산기입니다.\")\n",
    "    nums = []\n",
    "    nums.append(int(input(\"첫 번째 숫자를 입력하세요 : \")))\n",
    "    nums.append(int(input(\"두 번째 숫자를 입력하세요 : \")))\n",
    "    #nums.append(int(nums[0]/nums[1]))\n",
    "    print(\"{0} / {1} = {2}\".format(nums[0], nums[1], nums[2]))\n",
    "\n",
    "except ValueError:\n",
    "    print(\"에러! 잘못된 값을 입력했어요.'\")\n",
    "except ZeroDivisionError as err:\n",
    "    print(err)\n",
    "except Exception as err:\n",
    "    print(\"알 수 없는 에러가 발생하였습니다.\")\n",
    "    print(err)\n"
   ]
  },
  {
   "cell_type": "markdown",
   "metadata": {},
   "source": [
    "### 에러 발생시키기(raise)"
   ]
  },
  {
   "cell_type": "code",
   "execution_count": 35,
   "metadata": {},
   "outputs": [
    {
     "name": "stdout",
     "output_type": "stream",
     "text": [
      "한 자리 숫자 나누기 전용 계산기입니다.\n",
      "잘못된 값을 입력했어. 한 자리 수자만 입력해\n"
     ]
    }
   ],
   "source": [
    "try:\n",
    "    print(\"한 자리 숫자 나누기 전용 계산기입니다.\")\n",
    "    num1 = int(input(\"첫 번째 숫자를 입력하세요 : \"))\n",
    "    num2 = int(input(\"두 번째 숫자를 입력하세요 : \"))\n",
    "    if num1 >= 10 or num2 >=10:\n",
    "        raise ValueError\n",
    "    print(\"{0} / {1} = {2}\".format(num1, num2, int(num1/num2)))\n",
    "except ValueError:\n",
    "    print(\"잘못된 값을 입력했어. 한 자리 수자만 입력해\")    "
   ]
  },
  {
   "cell_type": "markdown",
   "metadata": {},
   "source": [
    "### 사용자 정의 예외처리"
   ]
  },
  {
   "cell_type": "code",
   "execution_count": 39,
   "metadata": {},
   "outputs": [
    {
     "name": "stdout",
     "output_type": "stream",
     "text": [
      "한 자리 숫자 나누기 전용 계산기입니다.\n",
      "에러가 발생하였습니다. 한 자리 숫자만 입력해\n",
      "입력값 : 10, 6\n"
     ]
    }
   ],
   "source": [
    "class BigNumberError(Exception):\n",
    "    def __init__(self, msg):\n",
    "        self.msg = msg\n",
    "    \n",
    "    def __str__(self):\n",
    "        return self.msg\n",
    "\n",
    "try:\n",
    "    print(\"한 자리 숫자 나누기 전용 계산기입니다.\")\n",
    "    num1 = int(input(\"첫 번째 숫자를 입력하세요 : \"))\n",
    "    num2 = int(input(\"두 번째 숫자를 입력하세요 : \"))\n",
    "    if num1 >= 10 or num2 >=10:\n",
    "        raise BigNumberError(\"입력값 : {0}, {1}\".format(num1, num2))\n",
    "    print(\"{0} / {1} = {2}\".format(num1, num2, int(num1/num2)))\n",
    "except BigNumberError as err:\n",
    "    print(\"에러가 발생하였습니다. 한 자리 숫자만 입력해\")    \n",
    "    print(err)"
   ]
  },
  {
   "cell_type": "markdown",
   "metadata": {},
   "source": [
    "### finally"
   ]
  },
  {
   "cell_type": "code",
   "execution_count": 43,
   "metadata": {},
   "outputs": [
    {
     "name": "stdout",
     "output_type": "stream",
     "text": [
      "한 자리 숫자 나누기 전용 계산기입니다.\n",
      "계산기를 이용해 주셔서 감사합니다.\n"
     ]
    },
    {
     "ename": "ZeroDivisionError",
     "evalue": "division by zero",
     "output_type": "error",
     "traceback": [
      "\u001b[1;31m---------------------------------------------------------------------------\u001b[0m",
      "\u001b[1;31mZeroDivisionError\u001b[0m                         Traceback (most recent call last)",
      "\u001b[1;32m<ipython-input-43-74d945b04fa7>\u001b[0m in \u001b[0;36m<module>\u001b[1;34m\u001b[0m\n\u001b[0;32m     12\u001b[0m     \u001b[1;32mif\u001b[0m \u001b[0mnum1\u001b[0m \u001b[1;33m>=\u001b[0m \u001b[1;36m10\u001b[0m \u001b[1;32mor\u001b[0m \u001b[0mnum2\u001b[0m \u001b[1;33m>=\u001b[0m\u001b[1;36m10\u001b[0m\u001b[1;33m:\u001b[0m\u001b[1;33m\u001b[0m\u001b[1;33m\u001b[0m\u001b[0m\n\u001b[0;32m     13\u001b[0m         \u001b[1;32mraise\u001b[0m \u001b[0mBigNumberError\u001b[0m\u001b[1;33m(\u001b[0m\u001b[1;34m\"입력값 : {0}, {1}\"\u001b[0m\u001b[1;33m.\u001b[0m\u001b[0mformat\u001b[0m\u001b[1;33m(\u001b[0m\u001b[0mnum1\u001b[0m\u001b[1;33m,\u001b[0m \u001b[0mnum2\u001b[0m\u001b[1;33m)\u001b[0m\u001b[1;33m)\u001b[0m\u001b[1;33m\u001b[0m\u001b[1;33m\u001b[0m\u001b[0m\n\u001b[1;32m---> 14\u001b[1;33m     \u001b[0mprint\u001b[0m\u001b[1;33m(\u001b[0m\u001b[1;34m\"{0} / {1} = {2}\"\u001b[0m\u001b[1;33m.\u001b[0m\u001b[0mformat\u001b[0m\u001b[1;33m(\u001b[0m\u001b[0mnum1\u001b[0m\u001b[1;33m,\u001b[0m \u001b[0mnum2\u001b[0m\u001b[1;33m,\u001b[0m \u001b[0mint\u001b[0m\u001b[1;33m(\u001b[0m\u001b[0mnum1\u001b[0m\u001b[1;33m/\u001b[0m\u001b[0mnum2\u001b[0m\u001b[1;33m)\u001b[0m\u001b[1;33m)\u001b[0m\u001b[1;33m)\u001b[0m\u001b[1;33m\u001b[0m\u001b[1;33m\u001b[0m\u001b[0m\n\u001b[0m\u001b[0;32m     15\u001b[0m \u001b[1;32mexcept\u001b[0m \u001b[0mBigNumberError\u001b[0m \u001b[1;32mas\u001b[0m \u001b[0merr\u001b[0m\u001b[1;33m:\u001b[0m\u001b[1;33m\u001b[0m\u001b[1;33m\u001b[0m\u001b[0m\n\u001b[0;32m     16\u001b[0m     \u001b[0mprint\u001b[0m\u001b[1;33m(\u001b[0m\u001b[1;34m\"에러가 발생하였습니다. 한 자리 숫자만 입력해\"\u001b[0m\u001b[1;33m)\u001b[0m\u001b[1;33m\u001b[0m\u001b[1;33m\u001b[0m\u001b[0m\n",
      "\u001b[1;31mZeroDivisionError\u001b[0m: division by zero"
     ]
    }
   ],
   "source": [
    "class BigNumberError(Exception):\n",
    "    def __init__(self, msg):\n",
    "        self.msg = msg\n",
    "    \n",
    "    def __str__(self):\n",
    "        return self.msg\n",
    "\n",
    "try:\n",
    "    print(\"한 자리 숫자 나누기 전용 계산기입니다.\")\n",
    "    num1 = int(input(\"첫 번째 숫자를 입력하세요 : \"))\n",
    "    num2 = int(input(\"두 번째 숫자를 입력하세요 : \"))\n",
    "    if num1 >= 10 or num2 >=10:\n",
    "        raise BigNumberError(\"입력값 : {0}, {1}\".format(num1, num2))\n",
    "    print(\"{0} / {1} = {2}\".format(num1, num2, int(num1/num2)))\n",
    "except BigNumberError as err:\n",
    "    print(\"에러가 발생하였습니다. 한 자리 숫자만 입력해\")    \n",
    "    print(err)\n",
    "finally:\n",
    "    print(\"계산기를 이용해 주셔서 감사합니다.\")    "
   ]
  },
  {
   "cell_type": "markdown",
   "metadata": {},
   "source": [
    "Quiz) 항상 대기 손님이 있는 치킨집 있음. 자동 주문 시스템 제작. 시스템 코드 확인하고 적절한 예외처리 구문 넣기\n",
    "\n",
    "조건1 : 1보다 작거나 숫자가 아닌 입력값이 들어올 때는 ValueError 로 처리\n",
    "        출력 메시지 : \"잘못된 값을 입력하였습니다.\"\n",
    "조건2 : 대기 손님이 주문할 수 있는 총 치킨량은 10마리로 한정\n",
    "        치킨 소진 시 사용자 정의 에러[SoldOutError]를 발생시키고 프로그램 종료\n",
    "        출력 메시지 : \"재고가 소진되어 더 이상 주문을 받지 않습니다.\n",
    "[코드]\n",
    "chicken = 10\n",
    "waiting = 1 # 홀 안에는 현재 만석. 대기번호 1부터 시작\n",
    "while(True):\n",
    "    print(\"[남은 치킨 : {0}]\".format(chicken))        \n",
    "    order = int(input(\"치킨 몇 마리 주문하기겠습니까?\"))\n",
    "    if order > chicken: # 남은 치킨보다 주문량이 많을 때\n",
    "        print(\"재료가 부족합니다.\")\n",
    "    else:\n",
    "        print(\"[대기번호 {0}] {1} 마리 주문이 완료되었습니다.\".format(waiting, order))\n",
    "        waiting +=1\n",
    "        chicken -= order\n"
   ]
  },
  {
   "cell_type": "code",
   "execution_count": 48,
   "metadata": {},
   "outputs": [
    {
     "name": "stdout",
     "output_type": "stream",
     "text": [
      "[남은 치킨 : 10]\n",
      "[대기번호 1] 5 마리 주문이 완료되었습니다.\n",
      "[남은 치킨 : 5]\n",
      "[대기번호 2] 2 마리 주문이 완료되었습니다.\n",
      "[남은 치킨 : 3]\n",
      "잘못된 값을 입력하였습니다.\n",
      "[남은 치킨 : 3]\n",
      "잘못된 값을 입력하였습니다.\n",
      "[남은 치킨 : 3]\n",
      "재료가 부족합니다.\n",
      "[남은 치킨 : 3]\n",
      "잘못된 값을 입력하였습니다.\n",
      "[남은 치킨 : 3]\n",
      "[대기번호 3] 3 마리 주문이 완료되었습니다.\n",
      "재고가 소진되어 더 이상 주문을 받지 않습니다.\n"
     ]
    }
   ],
   "source": [
    "class SoldOutError(Exception):\n",
    "    def __init__(self, msg):\n",
    "        self.msg = msg\n",
    "    \n",
    "    def __str__(self):\n",
    "        return self.msg\n",
    "\n",
    "chicken = 10\n",
    "waiting = 1 # 홀 안에는 현재 만석. 대기번호 1부터 시작\n",
    "while(True):\n",
    "    try:\n",
    "        print(\"[남은 치킨 : {0}]\".format(chicken))        \n",
    "        order = int(input(\"치킨 몇 마리 주문하기겠습니까?\"))\n",
    "        \n",
    "        if order > chicken: # 남은 치킨보다 주문량이 많을 때\n",
    "            print(\"재료가 부족합니다.\")\n",
    "        elif order <= 0:\n",
    "            raise ValueError\n",
    "        else:\n",
    "            print(\"[대기번호 {0}] {1} 마리 주문이 완료되었습니다.\".format(waiting, order))\n",
    "            waiting +=1\n",
    "            chicken -= order\n",
    "\n",
    "        if chicken < 1:\n",
    "            raise SoldOutError(\"재고가 소진되어 더 이상 주문을 받지 않습니다.\")    \n",
    "\n",
    "    except ValueError:\n",
    "        print(\"잘못된 값을 입력하였습니다.\")\n",
    "\n",
    "    except SoldOutError as err:\n",
    "        print(err)        \n",
    "        break\n"
   ]
  },
  {
   "cell_type": "markdown",
   "metadata": {},
   "source": [
    "### 모듈(module)"
   ]
  },
  {
   "cell_type": "code",
   "execution_count": 59,
   "metadata": {},
   "outputs": [
    {
     "ename": "AttributeError",
     "evalue": "module 'theater_module' has no attribute 'price'",
     "output_type": "error",
     "traceback": [
      "\u001b[1;31m---------------------------------------------------------------------------\u001b[0m",
      "\u001b[1;31mAttributeError\u001b[0m                            Traceback (most recent call last)",
      "\u001b[1;32m<ipython-input-59-f40866cf54a1>\u001b[0m in \u001b[0;36m<module>\u001b[1;34m\u001b[0m\n\u001b[0;32m      3\u001b[0m \u001b[1;32mimport\u001b[0m \u001b[0mtheater_module\u001b[0m\u001b[1;33m\u001b[0m\u001b[1;33m\u001b[0m\u001b[0m\n\u001b[0;32m      4\u001b[0m \u001b[1;33m\u001b[0m\u001b[0m\n\u001b[1;32m----> 5\u001b[1;33m \u001b[0mtheater_module\u001b[0m\u001b[1;33m.\u001b[0m\u001b[0mprice\u001b[0m\u001b[1;33m(\u001b[0m\u001b[1;36m3\u001b[0m\u001b[1;33m)\u001b[0m\u001b[1;33m\u001b[0m\u001b[1;33m\u001b[0m\u001b[0m\n\u001b[0m\u001b[0;32m      6\u001b[0m \u001b[1;31m# theater_module.price_morning(4)\u001b[0m\u001b[1;33m\u001b[0m\u001b[1;33m\u001b[0m\u001b[1;33m\u001b[0m\u001b[0m\n\u001b[0;32m      7\u001b[0m \u001b[1;31m# theater_module.price_soldier(5)\u001b[0m\u001b[1;33m\u001b[0m\u001b[1;33m\u001b[0m\u001b[1;33m\u001b[0m\u001b[0m\n",
      "\u001b[1;31mAttributeError\u001b[0m: module 'theater_module' has no attribute 'price'"
     ]
    }
   ],
   "source": [
    "# 동일 경로에 theater_module.py 생성함\n",
    "# moduletest.py 생성하여 테스트\n",
    "\n",
    "import theater_module\n",
    "\n",
    "theater_module.price(3)\n",
    "# theater_module.price_morning(4)\n",
    "# theater_module.price_soldier(5)\n",
    "\n",
    "# aa.py를 생성해서 테스트 함.\n"
   ]
  },
  {
   "cell_type": "code",
   "execution_count": 66,
   "metadata": {},
   "outputs": [
    {
     "name": "stdout",
     "output_type": "stream",
     "text": [
      "C:\\Users\\JBB\\Anaconda3\\lib\\random.py\n",
      "c:\\Users\\JBB\\Quick_Ref\\Programming\\Python\\Python_Basic\\Workspace\\theater_module.py\n"
     ]
    }
   ],
   "source": [
    "import inspect\n",
    "import random \n",
    "#from travel import *\n",
    "import theater_module\n",
    "print(inspect.getfile(random))\n",
    "print(inspect.getfile(theater_module))"
   ]
  },
  {
   "cell_type": "markdown",
   "metadata": {},
   "source": [
    "# 패키지"
   ]
  },
  {
   "cell_type": "code",
   "execution_count": 58,
   "metadata": {},
   "outputs": [
    {
     "name": "stdout",
     "output_type": "stream",
     "text": [
      "[베트남 패키지 3박 5일] 다낭 효도 여행 60만원\n",
      "[태국 패키지 3박 5일] 방콕, 파타야 여행 (야시장 투어) 50만원\n"
     ]
    }
   ],
   "source": [
    "# import travel.thailand\n",
    "# trip_to = travel.thailand.ThailandPackage()\n",
    "# trip_to.detail()\n",
    "\n",
    "# from travel.thailand import ThailandPackage\n",
    "# trip_to = ThailandPackage()\n",
    "# trip_to.detail()\n",
    "\n",
    "# from travel import vietnam\n",
    "# trip_to = vietnam.VietnamPackage()\n",
    "# trip_to.detail()\n",
    "\n",
    "from travel import *\n",
    "trip_to = vietnam.VietnamPackage()\n",
    "trip_to.detail()\n",
    "\n",
    "trip_to = thailand.ThailandPackage()\n",
    "trip_to.detail()"
   ]
  },
  {
   "cell_type": "markdown",
   "metadata": {},
   "source": [
    "### 모듈 직접 실행"
   ]
  },
  {
   "cell_type": "code",
   "execution_count": 62,
   "metadata": {},
   "outputs": [
    {
     "name": "stdout",
     "output_type": "stream",
     "text": [
      "Thailand 모듀을 직접 실행\n",
      "이 문장은 모듈을 직접 실행할 때만 실행돼요\n",
      "[태국 패키지 3박 5일] 방콕, 파타야 여행 (야시장 투어) 50만원\n"
     ]
    }
   ],
   "source": [
    "class ThailandPackage:\n",
    "    def detail(self):\n",
    "        print(\"[태국 패키지 3박 5일] 방콕, 파타야 여행 (야시장 투어) 50만원\")\n",
    "\n",
    "if __name__ == \"__main__\":\n",
    "    print(\"Thailand 모듀을 직접 실행\")\n",
    "    print(\"이 문장은 모듈을 직접 실행할 때만 실행돼요\")\n",
    "    trip_to = ThailandPackage()\n",
    "    trip_to.detail()\n",
    "else:\n",
    "    print(\"Thailand 외부에서 모듈 호출\")"
   ]
  },
  {
   "cell_type": "markdown",
   "metadata": {},
   "source": [
    "### 패키지, 모듈 위치"
   ]
  },
  {
   "cell_type": "code",
   "execution_count": 83,
   "metadata": {},
   "outputs": [
    {
     "name": "stdout",
     "output_type": "stream",
     "text": [
      "C:\\Users\\JBB\\Anaconda3\\lib\\random.py\n",
      "c:\\Users\\JBB\\Quick_Ref\\Programming\\Python\\Python_Basic\\Workspace\\travel\\thailand.py\n",
      "c:\\Users\\JBB\\Quick_Ref\\Programming\\Python\\Python_Basic\\Workspace\\theater_module.py\n",
      "20\n"
     ]
    }
   ],
   "source": [
    "import inspect\n",
    "import random \n",
    "from travel import *\n",
    "import theater_module\n",
    "print(inspect.getfile(random))\n",
    "print(inspect.getfile(thailand))\n",
    "print(inspect.getfile(theater_module))\n",
    "print(random.randint(1,21))\n",
    "#print(theater_module.price(3))"
   ]
  },
  {
   "cell_type": "markdown",
   "metadata": {},
   "source": [
    "### pip install"
   ]
  },
  {
   "cell_type": "code",
   "execution_count": 84,
   "metadata": {},
   "outputs": [
    {
     "name": "stdout",
     "output_type": "stream",
     "text": [
      "<html>\n",
      " <body>\n",
      "  <p>\n",
      "   Some\n",
      "   <b>\n",
      "    bad\n",
      "    <i>\n",
      "     HTML\n",
      "    </i>\n",
      "   </b>\n",
      "  </p>\n",
      " </body>\n",
      "</html>\n"
     ]
    }
   ],
   "source": [
    "from bs4 import BeautifulSoup\n",
    "soup = BeautifulSoup(\"<p>Some<b>bad<i>HTML\")\n",
    "print(soup.prettify())"
   ]
  },
  {
   "cell_type": "markdown",
   "metadata": {},
   "source": [
    "### 내장함수"
   ]
  },
  {
   "cell_type": "code",
   "execution_count": null,
   "metadata": {},
   "outputs": [],
   "source": [
    "# input"
   ]
  }
 ],
 "metadata": {
  "interpreter": {
   "hash": "ec985c47769bd4263ef39dfc38121adde7928de2df74e4478a4bf19abc002598"
  },
  "kernelspec": {
   "display_name": "Python 3.8.8 64-bit ('base': conda)",
   "language": "python",
   "name": "python3"
  },
  "language_info": {
   "codemirror_mode": {
    "name": "ipython",
    "version": 3
   },
   "file_extension": ".py",
   "mimetype": "text/x-python",
   "name": "python",
   "nbconvert_exporter": "python",
   "pygments_lexer": "ipython3",
   "version": "3.8.8"
  },
  "orig_nbformat": 4
 },
 "nbformat": 4,
 "nbformat_minor": 2
}
