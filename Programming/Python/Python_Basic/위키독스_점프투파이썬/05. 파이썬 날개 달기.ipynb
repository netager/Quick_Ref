{
 "cells": [
  {
   "cell_type": "markdown",
   "metadata": {},
   "source": [
    "## 05-1 클래스"
   ]
  },
  {
   "cell_type": "code",
   "execution_count": 8,
   "metadata": {},
   "outputs": [
    {
     "name": "stdout",
     "output_type": "stream",
     "text": [
      "3\n",
      "7\n",
      "3\n",
      "7\n",
      "3\n",
      "10\n",
      "--------------------------------------------------\n",
      "3\n",
      "7\n",
      "3\n",
      "10\n"
     ]
    }
   ],
   "source": [
    "# 클래스는 왜 필요한가?\n",
    "# ---------------------\n",
    "\n",
    "## 1개의 계산기\n",
    "## ------------ \n",
    "result = 0\n",
    "\n",
    "def add(num):\n",
    "    global result\n",
    "    result += num\n",
    "    return result\n",
    "\n",
    "print(add(3))\n",
    "print(add(4))\n",
    "\n",
    "\n",
    "## 2개의 계산기\n",
    "## ------------ \n",
    "result1 = 0\n",
    "result2 = 0\n",
    "\n",
    "def add1(num):\n",
    "    global result1\n",
    "    result1 += num\n",
    "    return result1\n",
    "\n",
    "def add2(num):\n",
    "    global result2\n",
    "    result2 += num\n",
    "    return result2\n",
    "\n",
    "print(add1(3))\n",
    "print(add1(4))\n",
    "\n",
    "print(add2(3))\n",
    "print(add2(7))\n",
    "print('-'*50)\n",
    "\n",
    "# class로 계산기 구현\n",
    "# -------------------\n",
    "class Calculator:\n",
    "    def __init__(self):\n",
    "        self.result = 0\n",
    "    \n",
    "    def add(self, num):\n",
    "        self.result += num\n",
    "        return self.result\n",
    "\n",
    "cal1 = Calculator()\n",
    "cal2 = Calculator()\n",
    "\n",
    "print(cal1.add(3))\n",
    "print(cal1.add(4))\n",
    "\n",
    "print(cal2.add(3))\n",
    "print(cal2.add(7))\n"
   ]
  },
  {
   "cell_type": "code",
   "execution_count": 1,
   "metadata": {},
   "outputs": [
    {
     "name": "stdout",
     "output_type": "stream",
     "text": [
      "4\n",
      "2\n"
     ]
    }
   ],
   "source": [
    "class Calculator:\n",
    "    def __init__(self):\n",
    "        self.result = 0\n",
    "        \n",
    "    def add(self, num):\n",
    "        self.result += num\n",
    "        return self.result\n",
    "    \n",
    "    def sub(self, num):\n",
    "        self.result -= num\n",
    "        return self.result\n",
    "\n",
    "cal1 = Calculator()\n",
    "print(cal1.add(4))\n",
    "print(cal1.sub(2))\n",
    "\n",
    "# 클래스, 객체, 인스턴스\n",
    "# ----------------------\n",
    "# 클래스   -> 과자 틀\n",
    "# 객체     -> 과자\n",
    "# 인스턴스 -> 클래스로 만든 객체를 인스턴스라고함. a = Cookie() 이면 a는 객체이고 a객체는 Cookie의 인스턴스임.\n",
    "#          -> 인스턴스라는 말은 특정 객체(a)가 어떤 클래스(Cookie)의 객체인지를 관계 위주로 설명할 때 사용\n",
    "#          -> \"a는 인스턴스\"보다는 \"a는 객체\"라는 표현이 어울리며 \"a는 Cookie의 객체\"보다는 \"a는 Cookie의 \n",
    "#             인스턴스\"라는 표현이 훨씬 잘 어울린다.\n",
    "# -----------------------------------------------------------------------------------------------------------"
   ]
  },
  {
   "cell_type": "code",
   "execution_count": 2,
   "metadata": {},
   "outputs": [
    {
     "name": "stdout",
     "output_type": "stream",
     "text": [
      "4 2\n",
      "6\n",
      "8\n",
      "2\n",
      "2.0\n"
     ]
    }
   ],
   "source": [
    "# 사칙연산 클래스 만들기\n",
    "# ----------------------\n",
    "class fourCal:\n",
    "    def setData(self, first, second):\n",
    "        self.first = first\n",
    "        self.second = second\n",
    "        \n",
    "    def addData(self):\n",
    "        result = self.first + self.second \n",
    "        return result\n",
    "    \n",
    "    def mulData(self):\n",
    "        result = self.first * self.second\n",
    "        return result \n",
    "    \n",
    "    def subData(self):\n",
    "        result = self.first - self.second\n",
    "        return result \n",
    "    \n",
    "    def divData(self):\n",
    "        result = self.first / self.second\n",
    "        return result \n",
    "    \n",
    "\n",
    "a = fourCal()\n",
    "b = fourCal()\n",
    "\n",
    "a.setData(4,2)\n",
    "\n",
    "print(a.first, a.second)\n",
    "# print(b.first, a.second)  # 에러발생\n",
    "\n",
    "print(a.addData())\n",
    "print(a.mulData())\n",
    "print(a.subData())\n",
    "print(a.divData())\n",
    "        \n",
    "        "
   ]
  },
  {
   "cell_type": "code",
   "execution_count": 44,
   "metadata": {},
   "outputs": [
    {
     "name": "stdout",
     "output_type": "stream",
     "text": [
      "16 4\n",
      "20\n",
      "64\n",
      "12\n",
      "4.0\n"
     ]
    }
   ],
   "source": [
    "# 생성자\n",
    "# ------\n",
    "class fourCal:\n",
    "    def __init__(self, first, second):\n",
    "        self.first = first\n",
    "        self.second = second\n",
    "        \n",
    "    def setData(self, first, second):\n",
    "        self.first = first\n",
    "        self.second = second\n",
    "        \n",
    "    def addData(self):\n",
    "        result = self.first + self.second \n",
    "        return result\n",
    "    \n",
    "    def mulData(self):\n",
    "        result = self.first * self.second\n",
    "        return result \n",
    "    \n",
    "    def subData(self):\n",
    "        result = self.first - self.second\n",
    "        return result \n",
    "    \n",
    "    def divData(self):\n",
    "        result = self.first / self.second\n",
    "        return result \n",
    "    \n",
    "\n",
    "a = fourCal(4, 2)\n",
    "a.setData(16,4)\n",
    "\n",
    "print(a.first, a.second)\n",
    "\n",
    "print(a.addData())\n",
    "print(a.mulData())\n",
    "print(a.subData())\n",
    "print(a.divData())"
   ]
  },
  {
   "cell_type": "code",
   "execution_count": 48,
   "metadata": {},
   "outputs": [
    {
     "name": "stdout",
     "output_type": "stream",
     "text": [
      "6\n",
      "8\n",
      "2\n",
      "2.0\n",
      "16\n"
     ]
    }
   ],
   "source": [
    "# 클래스의 상속\n",
    "# -------------\n",
    "# class 클래스이름(상속할 클래스이름)\n",
    "\n",
    "# 왜 상속을 해야 할까?\n",
    "# --------------------\n",
    "# 보통 상속은 기존 클래스를 변경하지 않고 기능을 추가하거나 기존 기능을 변경하려고 할 때 사용\n",
    "# 기존 클래스가 라이브러리 형태로 제공되거나 수정이 허용되지 않는 상황이라면 상속을 사용해야 함\n",
    "# --------------------------------------------------------------------------------------------\n",
    "\n",
    "# 상속 받아서 메서드 추가\n",
    "# -----------------------\n",
    "class moreFourCal(fourCal):\n",
    "    def powData(self):\n",
    "        result = self.first ** self.second\n",
    "        return result\n",
    "\n",
    "a = moreFourCal(4, 2)\n",
    "\n",
    "print(a.addData())\n",
    "print(a.mulData())\n",
    "print(a.subData())\n",
    "print(a.divData())\n",
    "print(a.powData())"
   ]
  },
  {
   "cell_type": "code",
   "execution_count": 55,
   "metadata": {},
   "outputs": [
    {
     "name": "stdout",
     "output_type": "stream",
     "text": [
      "0\n",
      "2.0\n"
     ]
    }
   ],
   "source": [
    "# 메서드 오버라이딩\n",
    "# -----------------\n",
    "a = fourCal(4,0)\n",
    "# a.divData()       # 분모가 0으로 ZeroDivisionError 발생\n",
    "\n",
    "class safeFourCal(fourCal):\n",
    "    def divData(self):\n",
    "        if self.second == 0:\n",
    "            return 0\n",
    "        else:\n",
    "            return self.first/self.second\n",
    "\n",
    "a = safeFourCal(4,0)\n",
    "print(a.divData())\n",
    "\n",
    "a = safeFourCal(4,2)\n",
    "print(a.divData())"
   ]
  },
  {
   "cell_type": "code",
   "execution_count": 60,
   "metadata": {},
   "outputs": [
    {
     "name": "stdout",
     "output_type": "stream",
     "text": [
      "김\n",
      "김\n",
      "박\n",
      "최\n",
      "박\n"
     ]
    }
   ],
   "source": [
    "# 클래스 변수\n",
    "# -----------\n",
    "# 객체 변수와 클래스 변수를 구분할 줄 알아야 함\n",
    "# 클래스변수는 클래스로 만든 모든 객체에 공유된다는 중요한 특징을 가지고 있음\n",
    "# --------------------------------------------------------------------------\n",
    "class Family:\n",
    "    lastname = '김'     # 클래스 변수 ~ 클래스 안에 변수를 선언하여 생성\n",
    "\n",
    "print(Family.lastname)  # 클래스 변수는 \"클래스이름.클래스변수\"로 사용할 수 있음\n",
    "\n",
    "a = Family()\n",
    "print(a.lastname)       # 객체를 통해서도 사용 가능\n",
    "\n",
    "Family.lastname = '박'  # 클래스 변수 변경\n",
    "print(a.lastname)       # 클래스 변수를 변경하면 이미 생성된 객체의 값도 변경\n",
    "                        # 즉, 클래스변수는 클래스로 만든 모든 객체에 공유된다는 특징\n",
    "\n",
    "# 클래스 변수와 동일한 객체 변수를 생성하면?\n",
    "# ------------------------------------------\n",
    "a.lastname = '최'       # Family 클래스의 lastname이 바뀌는 것이 아니라 a 객체에 lastname이라는 객체변수가 새롭게 생성.\n",
    "                        # 즉, 객체변수는 클래스 변수와 동일한 이름으로 생성할 수 있음\n",
    "print(a.lastname)\n",
    "print(Family.lastname)\n",
    "                "
   ]
  },
  {
   "cell_type": "markdown",
   "metadata": {},
   "source": [
    "## 05-2 모듈"
   ]
  },
  {
   "cell_type": "code",
   "execution_count": 61,
   "metadata": {},
   "outputs": [],
   "source": [
    "# 모듈\n",
    "# ----\n",
    "# 함수나 변수 또는 클래스를 모아 놓은 파이썬 파일\n",
    "# -----------------------------------------------"
   ]
  },
  {
   "cell_type": "code",
   "execution_count": 71,
   "metadata": {},
   "outputs": [
    {
     "name": "stdout",
     "output_type": "stream",
     "text": [
      "Overwriting c:/temp/test/mod1.py\n"
     ]
    }
   ],
   "source": [
    "%%writefile c:/temp/test/mod1.py\n",
    "\n",
    "# 모듈 만들기\n",
    "# -----------\n",
    "# mod1.py\n",
    "\n",
    "def add(a, b):\n",
    "    return a + b\n",
    "\n",
    "def sub(a, b):\n",
    "    return a - b"
   ]
  },
  {
   "cell_type": "code",
   "execution_count": 76,
   "metadata": {},
   "outputs": [],
   "source": [
    "# 모듈 불러오기\n",
    "# -------------\n",
    "# from 모듈이름 import 모듈함수\n",
    "# import는 현재 디렉터리에 있는 파일이나 파이썬 라이브러리가 저장된 디렉터리에 있는 모듈만 불러올 수 있음\n",
    "# ------------------------------------------------------------------------------------------------------"
   ]
  },
  {
   "cell_type": "code",
   "execution_count": null,
   "metadata": {},
   "outputs": [],
   "source": [
    "# if __name__ == \"__main__\": 의 의미\n",
    "# ----------------------------------\n",
    "# C:\\doit>python mod1.py처럼 직접 이 파일을 실행했을 때는 __name__ == \"__main__\"이 참이 되어 if문 다음 문장이 수행된다. \n",
    "# 반대로 대화형 인터프리터나 다른 파일에서 이 모듈을 불러서 사용할 때는 __name__ == \"__main__\"이 거짓이 되어 if문 다음 문장이 수행되지 않는다.\n",
    "# -------------------------------------------------------------------------------------------------------------------------------------------\n",
    "\n",
    "\n",
    "# __name__ 변수란?\n",
    "# ----------------\n",
    "# 파이썬의 __name__ 변수는 파이썬이 내부적으로 사용하는 특별한 변수 이름\n",
    "# 만약 C:\\doit>python mod1.py처럼 직접 mod1.py 파일을 실행할 경우 mod1.py의 __name__ 변수에는 __main__ 값이 저장\n",
    "# 하지만 파이썬 셸이나 다른 파이썬 모듈에서 mod1을 import 할 경우에는 mod1.py의 __name__ 변수에는 mod1.py의 모듈 이름 값 mod1이 저장\n",
    "# ---------------------------------------------------------------------------------------------------------------------------------"
   ]
  },
  {
   "cell_type": "code",
   "execution_count": 77,
   "metadata": {},
   "outputs": [
    {
     "name": "stdout",
     "output_type": "stream",
     "text": [
      "Writing c:/temp/test/mod2.py\n"
     ]
    }
   ],
   "source": [
    "%%writefile c:/temp/test/mod2.py \n",
    "\n",
    "# 클래스나 변수 등을 포함한 모듈\n",
    "# ------------------------------\n",
    "PI = 3.141592\n",
    "\n",
    "class Math:\n",
    "    def solv(self, r):\n",
    "        return PI * (r ** 2)\n",
    "    \n",
    "def add(a, b):\n",
    "    return a + b\n"
   ]
  },
  {
   "cell_type": "code",
   "execution_count": 78,
   "metadata": {},
   "outputs": [
    {
     "name": "stdout",
     "output_type": "stream",
     "text": [
      "Writing c:/temp/test/modtest.py\n"
     ]
    }
   ],
   "source": [
    "%%writefile c:/temp/test/modtest.py \n",
    "\n",
    "# 다른 파일에서 모듈 불러오기\n",
    "# ---------------------------\n",
    "import mod2 \n",
    "\n",
    "result = mod2.add(3,4)\n",
    "print(result) "
   ]
  },
  {
   "cell_type": "code",
   "execution_count": 81,
   "metadata": {},
   "outputs": [
    {
     "name": "stdout",
     "output_type": "stream",
     "text": [
      "7\n"
     ]
    }
   ],
   "source": [
    "# 모듈을 불어오는 또 다른 방법\n",
    "# ----------------------------\n",
    "# 모듀을 저장한 디렉터리로 이동하지 않고 모듈을 불러와서 사용하는 방법\n",
    "# -------------------------------------------------------------------\n",
    "\n",
    "## sys.path.append 사용하기\n",
    "## ------------------------\n",
    "import sys\n",
    "sys.path\n",
    "\n",
    "sys.path.append('c:/temp/test')\n",
    "sys.path\n",
    "\n",
    "import mod2\n",
    "print(mod2.add(3,4))\n",
    "\n",
    "\n",
    "## PYTHONPATH 환경 변수 사용하기\n",
    "## -----------------------------\n",
    "# c:\\doit>set PYTHONPATH=c:\\doit\\mymod"
   ]
  },
  {
   "cell_type": "markdown",
   "metadata": {},
   "source": [
    "## 05-3 패키지"
   ]
  },
  {
   "cell_type": "code",
   "execution_count": null,
   "metadata": {},
   "outputs": [],
   "source": [
    "# 패키지란 무엇인가?\n",
    "# ------------------\n",
    "# 패키지(Packages)는 도트(.)를 사용하여 파이썬 모듈을 계층적(디렉터리 구조)으로 관리할 수 있게 해준다\n",
    "# 모듈 이름이 A.B인 경우에 A는 패키지 이름이 되고 B는 A 패키지의 B모듈\n",
    "# 파이썬에서 모듈은 하나의 .py 파일\n",
    "# 패키지 구조로 모듈을 만들면 다른 모듈과 이름이 겹치더라도 더 안전하게 사용 가능\n",
    "# 파이썬 패키지는 디렉터리와 파이썬 모듈로 이루어지며 구조는 아래와 같다\n",
    "# ---------------------------------------------------------------------\n",
    "# game/\n",
    "#   __init__.py\n",
    "#   sound/\n",
    "#       __init__.py\n",
    "#       echo.py\n",
    "#       wav.py        \n",
    "#   graphic/\n",
    "#       __init__.py\n",
    "#       screen.py\n",
    "#       render.py\n",
    "#   play/\n",
    "#       __init__.py\n",
    "#       run.py\n",
    "#       test.py\n",
    "# --------------------------------------------------------------------------------------------------"
   ]
  },
  {
   "cell_type": "code",
   "execution_count": 86,
   "metadata": {},
   "outputs": [
    {
     "name": "stdout",
     "output_type": "stream",
     "text": [
      "echo\n",
      "echo\n",
      "render\n",
      "echo\n",
      "render\n"
     ]
    }
   ],
   "source": [
    "# 패키지 만들기\n",
    "# -------------\n",
    "\n",
    "## 1. 패키지 기본 구성 요소 준비하기\n",
    "## ---------------------------------\n",
    "## C:/doit/game/__init__.py\n",
    "## C:/doit/game/sound/__init__.py\n",
    "## C:/doit/game/sound/echo.py\n",
    "## C:/doit/game/graphic/__init__.py\n",
    "## C:/doit/game/graphic/render.py\n",
    "\n",
    "## 2. 각 디렉터리에 __init__.py 파일을 만들어 놓기만 하고 내용은 비워둠\n",
    "## -------------------------------------------------------------------\n",
    "\n",
    "## 3. echo.py는 다음과 같이 만듬\n",
    "## -----------------------------\n",
    "## echo.py\n",
    "## -------\n",
    "## def echo_test():\n",
    "##     print(\"echo\")\n",
    "\n",
    "## 4. render.py 다음과 같이 만듬\n",
    "## -----------------------------\n",
    "## render.py\n",
    "## ---------\n",
    "## render.py\n",
    "## ---------\n",
    "## def render_test():\n",
    "##     print(\"render\")\n",
    "\n",
    "## 5. game 패키지 참조할 수 있도록 명령창에서 set으로 PYTHONPATH에 c:\\doit 추가\n",
    "## ---------------------------------------------------------------------------\n",
    "## C:\\> set PYTHONPATH=C:/doit\n",
    "\n",
    "\n",
    "## 패키지 안의 함수 실행하기\n",
    "## -------------------------\n",
    "import game.sound.echo\n",
    "game.sound.echo.echo_test()\n",
    "\n",
    "\n",
    "import sys\n",
    "sys.path\n",
    "\n",
    "sys.path.append('c:/temp/test')\n",
    "sys.path\n",
    "\n",
    "from game.sound import echo\n",
    "echo.echo_test()\n",
    "\n",
    "from game.graphic import render\n",
    "render.render_test()\n",
    "\n",
    "from game.sound.echo import echo_test\n",
    "echo_test()\n",
    "\n",
    "from game.graphic.render import render_test\n",
    "render_test()\n",
    "\n",
    "# 주의사항\n",
    "# --------\n",
    "# 새로 명령창 수행후 PYTHONPATH 지정후 아래 수행하면 에러 발생\n",
    "# -----------------------------------------------------------\n",
    "# import game                       # game 디렉터리의 __init__.py에 정의한 것만 참조 가능\n",
    "\n",
    "# import game.sound.echo.echo_test  # 도트 연산자(.)를 사용해서 import a.b.c처럼 import할 때 가장 마지막 항목인 c는 반드시 모듈 또는 패키지여야 함\n"
   ]
  },
  {
   "cell_type": "code",
   "execution_count": 87,
   "metadata": {},
   "outputs": [
    {
     "name": "stdout",
     "output_type": "stream",
     "text": [
      "echo\n"
     ]
    }
   ],
   "source": [
    "# __init__.py 용도\n",
    "# ----------------\n",
    "# __init__.py 파일은 해당 디렉터리가 패키지의 일부임을 알려주는 역할을 한다. \n",
    "# 만약 game, sound, graphic 등 패키지에 포함된 디렉터리에 __init__.py 파일이 없다면 패키지로 인식되지 않는다.\n",
    "# python3.3 버전부터는 __init__.py 파일이 없어도 패키지로 인식한다(PEP 420). \n",
    "# 하지만 하위 버전 호환을 위해 __init__.py 파일을 생성하는 것이 안전한 방법\n",
    "\n",
    "# from game.sound import *      # 오류 발생 ~ 해당 디렉터리의 __init__.py 파일에 __all__ 변수를 설정하고 import할 수 있는 모듈을 정의\n",
    "# C:/doit/game/sound/__init__.py\n",
    "# __all__ = ['echo']\n",
    "\n",
    "# 착각하기 쉬운데 from game.sound.echo import * 는 __all__과 상관없이 무조건 import된다. \n",
    "# 이렇게 __all__과 상관없이 무조건 import되는 경우는 from a.b.c import * 에서 from의 마지막 항목인 c가 모듈인 경우이다."
   ]
  },
  {
   "cell_type": "code",
   "execution_count": null,
   "metadata": {},
   "outputs": [],
   "source": [
    "# relative 패키지\n",
    "# ---------------\n",
    "# 만약 graphic 디렉터리의 render.py 모듈이 sound 디렉터리의 echo.py 모듈을 사용하고 싶다면 render.py 수정\n",
    "\n",
    "# render.py\n",
    "# ---------\n",
    "# from game.sound.echo import echo_test\n",
    "# def render_test()\n",
    "#     print('render')\n",
    "#     echo_test()   \n",
    "\n",
    "# relative하게 import\n",
    "# -------------------\n",
    "# render.py\n",
    "# ---------\n",
    "# from ..sound.echo import echo_test\n",
    "# def render_test()\n",
    "#     print('render')\n",
    "#     echo_test()\n"
   ]
  },
  {
   "cell_type": "markdown",
   "metadata": {},
   "source": [
    "## 05-4 예외 처리"
   ]
  },
  {
   "cell_type": "code",
   "execution_count": 1,
   "metadata": {},
   "outputs": [],
   "source": [
    "# 오류는 어떤 때 발생하는가?\n",
    "# --------------------------\n",
    "# 존재하지 않는 파일을 사용하려고 시도할 때\n",
    "# 0으로 다른 숫자를 나누는 경우\n",
    "# 리스트 사용시 존재하지 않는 index 사용시 등\n",
    "# -------------------------------------------"
   ]
  },
  {
   "cell_type": "code",
   "execution_count": 2,
   "metadata": {},
   "outputs": [],
   "source": [
    "# 오류 예외 처리 기법\n",
    "# -------------------\n",
    "# try:\n",
    "#     ...\n",
    "# except [발생오류 [as 오류변수]]:\n",
    "#     ...\n",
    "\n",
    "## 1. try, except만 쓰는 방법\n",
    "## --------------------------\n",
    "## try:\n",
    "##     ...\n",
    "## except:\n",
    "##     ...\n",
    "\n",
    "## 2. 발생 오류만 포함한 except문\n",
    "## ------------------------------\n",
    "## try:\n",
    "##     ...\n",
    "## except 발생오류:\n",
    "##     ...\n",
    "\n",
    "## 3. 발생오류와 오류변수까지 포함한 except문\n",
    "## ------------------------------------------\n",
    "## try:\n",
    "##     ...\n",
    "## except 발생오류 as 오류변수:     # 발생 오류의 내용까지 확인\n",
    "##     ..."
   ]
  },
  {
   "cell_type": "code",
   "execution_count": null,
   "metadata": {},
   "outputs": [],
   "source": [
    "# try ... finally\n",
    "# ----------------\n",
    "# try문에는 finally절을 사용할 수 있다. finally절은 try문 수행 도중 예외 발생 여부에 상관없이 항상 수행.\n",
    "# 보통 fianlly절은 사용한 리소스를 close할 때 사용\n",
    "# -----------------------------------------------------------------------------------------------------\n",
    "# try:\n",
    "#     f = open('foo.txt', 'w')\n",
    "#     ...\n",
    "# finally:\n",
    "#     f.close()     # 중간에 오류가 발생하더라도 무조건 실행됨"
   ]
  },
  {
   "cell_type": "code",
   "execution_count": 3,
   "metadata": {},
   "outputs": [],
   "source": [
    "# 여러개의 오류 처리하기\n",
    "# ----------------------\n",
    "# try:\n",
    "#     ...\n",
    "# except 발생오류1:\n",
    "#     ...\n",
    "# except 발생오류2:\n",
    "#     ...\n",
    "\n",
    "# try:\n",
    "#     a = [1,2]\n",
    "#     print(a[3])\n",
    "#     4/0\n",
    "# except ZeroDivisionError:\n",
    "#     print(\"0으로 나눌 수 없습니다.\")\n",
    "# except IndexError:\n",
    "#     print(\"인덱싱 할 수 없습니다.\")\n",
    "\n",
    "\n",
    "# try:\n",
    "#     a = [1,2]\n",
    "#     print(a[3])\n",
    "#     4/0\n",
    "# except ZeroDivisionError as e:\n",
    "#     print(e)\n",
    "# except IndexError as e:\n",
    "#     print(e)\n",
    "\n",
    "\n",
    "# try:\n",
    "#     a = [1,2]\n",
    "#     print(a[3])\n",
    "#     4/0\n",
    "# except (ZeroDivisionError, IndexError) as e:\n",
    "#     print(e)"
   ]
  },
  {
   "cell_type": "code",
   "execution_count": 4,
   "metadata": {},
   "outputs": [
    {
     "ename": "IndentationError",
     "evalue": "unexpected indent (1383311241.py, line 8)",
     "output_type": "error",
     "traceback": [
      "\u001b[1;36m  Input \u001b[1;32mIn [4]\u001b[1;36m\u001b[0m\n\u001b[1;33m    ...\u001b[0m\n\u001b[1;37m    ^\u001b[0m\n\u001b[1;31mIndentationError\u001b[0m\u001b[1;31m:\u001b[0m unexpected indent\n"
     ]
    }
   ],
   "source": [
    "# try ... else\n",
    "# ------------\n",
    "# try:\n",
    "#     ...\n",
    "# except [발생오류 [as 오류변수]]:\n",
    "#     ...\n",
    "# else:  # 오류가 없을 경우에만 수행된다.\n",
    "    ...\n",
    "    \n",
    "\n",
    "# try:\n",
    "#     age=int(input('나이를 입력하세요: '))\n",
    "# except:\n",
    "#     print('입력이 정확하지 않습니다.')\n",
    "# else:\n",
    "#     if age <= 18:\n",
    "#         print('미성년자는 출입금지입니다.')\n",
    "#     else:\n",
    "#         print('환영합니다.')"
   ]
  },
  {
   "cell_type": "code",
   "execution_count": null,
   "metadata": {},
   "outputs": [],
   "source": [
    "# 오류 회피하기\n",
    "# -------------\n",
    "# 특정 오류가 발생할 경우 그냥 통과시켜야 할 때가 있음\n",
    "# try:\n",
    "#     f = open(\"나없는파일\", 'r')\n",
    "# except FileNotFoundError:\n",
    "#     pass"
   ]
  },
  {
   "cell_type": "code",
   "execution_count": 12,
   "metadata": {},
   "outputs": [
    {
     "name": "stdout",
     "output_type": "stream",
     "text": [
      "Error Occure, Error name : \n",
      "--------------------------------------------------\n"
     ]
    },
    {
     "ename": "NotImplementedError",
     "evalue": "",
     "output_type": "error",
     "traceback": [
      "\u001b[1;31m---------------------------------------------------------------------------\u001b[0m",
      "\u001b[1;31mNotImplementedError\u001b[0m                       Traceback (most recent call last)",
      "\u001b[1;32mc:\\Users\\User\\Quick_Ref\\Programming\\Python\\Python_Basic\\위키독스_점프투파이썬\\05. 파이썬 날개 달기.ipynb 셀 29\u001b[0m in \u001b[0;36m<cell line: 20>\u001b[1;34m()\u001b[0m\n\u001b[0;32m     <a href='vscode-notebook-cell:/c%3A/Users/User/Quick_Ref/Programming/Python/Python_Basic/%EC%9C%84%ED%82%A4%EB%8F%85%EC%8A%A4_%EC%A0%90%ED%94%84%ED%88%AC%ED%8C%8C%EC%9D%B4%EC%8D%AC/05.%20%ED%8C%8C%EC%9D%B4%EC%8D%AC%20%EB%82%A0%EA%B0%9C%20%EB%8B%AC%EA%B8%B0.ipynb#X40sZmlsZQ%3D%3D?line=17'>18</a>\u001b[0m \u001b[39mprint\u001b[39m(\u001b[39m'\u001b[39m\u001b[39m-\u001b[39m\u001b[39m'\u001b[39m\u001b[39m*\u001b[39m\u001b[39m50\u001b[39m)  \n\u001b[0;32m     <a href='vscode-notebook-cell:/c%3A/Users/User/Quick_Ref/Programming/Python/Python_Basic/%EC%9C%84%ED%82%A4%EB%8F%85%EC%8A%A4_%EC%A0%90%ED%94%84%ED%88%AC%ED%8C%8C%EC%9D%B4%EC%8D%AC/05.%20%ED%8C%8C%EC%9D%B4%EC%8D%AC%20%EB%82%A0%EA%B0%9C%20%EB%8B%AC%EA%B8%B0.ipynb#X40sZmlsZQ%3D%3D?line=18'>19</a>\u001b[0m aa \u001b[39m=\u001b[39m Eagle()\n\u001b[1;32m---> <a href='vscode-notebook-cell:/c%3A/Users/User/Quick_Ref/Programming/Python/Python_Basic/%EC%9C%84%ED%82%A4%EB%8F%85%EC%8A%A4_%EC%A0%90%ED%94%84%ED%88%AC%ED%8C%8C%EC%9D%B4%EC%8D%AC/05.%20%ED%8C%8C%EC%9D%B4%EC%8D%AC%20%EB%82%A0%EA%B0%9C%20%EB%8B%AC%EA%B8%B0.ipynb#X40sZmlsZQ%3D%3D?line=19'>20</a>\u001b[0m aa\u001b[39m.\u001b[39;49mfly()\n",
      "\u001b[1;32mc:\\Users\\User\\Quick_Ref\\Programming\\Python\\Python_Basic\\위키독스_점프투파이썬\\05. 파이썬 날개 달기.ipynb 셀 29\u001b[0m in \u001b[0;36mBird.fly\u001b[1;34m(self)\u001b[0m\n\u001b[0;32m      <a href='vscode-notebook-cell:/c%3A/Users/User/Quick_Ref/Programming/Python/Python_Basic/%EC%9C%84%ED%82%A4%EB%8F%85%EC%8A%A4_%EC%A0%90%ED%94%84%ED%88%AC%ED%8C%8C%EC%9D%B4%EC%8D%AC/05.%20%ED%8C%8C%EC%9D%B4%EC%8D%AC%20%EB%82%A0%EA%B0%9C%20%EB%8B%AC%EA%B8%B0.ipynb#X40sZmlsZQ%3D%3D?line=5'>6</a>\u001b[0m \u001b[39mdef\u001b[39;00m \u001b[39mfly\u001b[39m(\u001b[39mself\u001b[39m):\n\u001b[1;32m----> <a href='vscode-notebook-cell:/c%3A/Users/User/Quick_Ref/Programming/Python/Python_Basic/%EC%9C%84%ED%82%A4%EB%8F%85%EC%8A%A4_%EC%A0%90%ED%94%84%ED%88%AC%ED%8C%8C%EC%9D%B4%EC%8D%AC/05.%20%ED%8C%8C%EC%9D%B4%EC%8D%AC%20%EB%82%A0%EA%B0%9C%20%EB%8B%AC%EA%B8%B0.ipynb#X40sZmlsZQ%3D%3D?line=6'>7</a>\u001b[0m     \u001b[39mraise\u001b[39;00m \u001b[39mNotImplementedError\u001b[39;00m\n",
      "\u001b[1;31mNotImplementedError\u001b[0m: "
     ]
    }
   ],
   "source": [
    "# 오류 일부러 발생시키기\n",
    "# ----------------------\n",
    "\n",
    "# Bird 클래스를 상속하는 자식 클래스는 반드시 fly 함수를 구현하도록 만들고 싶은 경우\n",
    "class Bird:\n",
    "    def fly(self):\n",
    "        raise NotImplementedError\n",
    "\n",
    "class Eagle(Bird):\n",
    "    pass\n",
    "\n",
    "try:\n",
    "    eagle = Eagle()\n",
    "    eagle.fly()\n",
    "except NotImplementedError as e:\n",
    "    print(f'Error Occure, Error name : {e}') \n",
    "\n",
    "print('-'*50)  \n",
    "aa = Eagle()\n",
    "aa.fly() "
   ]
  },
  {
   "cell_type": "code",
   "execution_count": 21,
   "metadata": {},
   "outputs": [
    {
     "name": "stdout",
     "output_type": "stream",
     "text": [
      "천사\n",
      "허용되지 않는 별명입니다. \n",
      "천사\n",
      "허용되지 않는 별명입니다.\n"
     ]
    }
   ],
   "source": [
    "# 예외 만들기\n",
    "# -----------\n",
    "class MyError(Exception):\n",
    "    pass\n",
    "\n",
    "def say_nick(nick):\n",
    "    if nick == '바보':\n",
    "        raise MyError()\n",
    "    print(nick)\n",
    "\n",
    "try:    \n",
    "    say_nick('천사')\n",
    "    say_nick('바보')\n",
    "except MyError as e:\n",
    "    print('허용되지 않는 별명입니다. %s' %e)\n",
    "    \n",
    "\n",
    "# print(e)로 오류메시지 출력\n",
    "# --------------------------\n",
    "# 오류 클래스에 다음과 같은 __str__메서드 구현해야 함.\n",
    "# ----------------------------------------------------\n",
    "class MyError1(Exception):\n",
    "    def __str__(self):\n",
    "        return '허용되지 않는 별명입니다.'\n",
    "    \n",
    "def say_nick(nick):\n",
    "    if nick == '바보':\n",
    "        raise MyError1()\n",
    "    print(nick)\n",
    "\n",
    "try:    \n",
    "    say_nick('천사')\n",
    "    say_nick('바보')\n",
    "except MyError1 as e:\n",
    "    print(e)    \n",
    "\n"
   ]
  },
  {
   "cell_type": "markdown",
   "metadata": {},
   "source": [
    "## 05-5 내장 함수"
   ]
  },
  {
   "cell_type": "code",
   "execution_count": 22,
   "metadata": {},
   "outputs": [],
   "source": [
    "# 내장 함수\n",
    "# ---------\n",
    "# import 없이 사용 가능한 함수\n",
    "# ----------------------------"
   ]
  },
  {
   "cell_type": "code",
   "execution_count": 23,
   "metadata": {},
   "outputs": [
    {
     "data": {
      "text/plain": [
       "(2, 3, 1.2)"
      ]
     },
     "execution_count": 23,
     "metadata": {},
     "output_type": "execute_result"
    }
   ],
   "source": [
    "# abs() ~ 절대값 반환\n",
    "# -----\n",
    "abs(2), abs(-3), abs(01.2)"
   ]
  },
  {
   "cell_type": "code",
   "execution_count": 29,
   "metadata": {},
   "outputs": [
    {
     "data": {
      "text/plain": [
       "True"
      ]
     },
     "execution_count": 29,
     "metadata": {},
     "output_type": "execute_result"
    }
   ],
   "source": [
    "# all\n",
    "# ---\n",
    "# all(x)는 반복 가능한(iterable) 데이터 x를 입력 값으로 받으며 이 x의 요소가 모두 참이면 True,\n",
    "# 거짓이 하나라도 있으면 False 반환\n",
    "# --------------------------------------------------------------------------------------------\n",
    "all([1,2,3])\n",
    "all([1,2,3,0])\n",
    "all([])         # 입력 인수가 빈 값인 경우 True 리턴"
   ]
  },
  {
   "cell_type": "code",
   "execution_count": 31,
   "metadata": {},
   "outputs": [
    {
     "name": "stdout",
     "output_type": "stream",
     "text": [
      "n\n"
     ]
    }
   ],
   "source": [
    "if []:          # [] : False\n",
    "    print('y')\n",
    "else:\n",
    "    print('n')"
   ]
  },
  {
   "cell_type": "code",
   "execution_count": 33,
   "metadata": {},
   "outputs": [
    {
     "name": "stdout",
     "output_type": "stream",
     "text": [
      "True\n",
      "True\n",
      "False\n"
     ]
    }
   ],
   "source": [
    "# any\n",
    "# ---\n",
    "# any(x)는 반복 가능한(iterable) 데이터 x를 입력 값으로 받으며 이 x의 요소 중 하나라도 참이면 True,\n",
    "# x가 모두 거깃일 때 False 리턴\n",
    "# ------------------------------------------------------------------------------------------------\n",
    "print(any([1,2,3]))\n",
    "print(any([1,2,3,0]))\n",
    "print(any([]))         # 입력 인수가 빈 값인 경우 True 리턴"
   ]
  },
  {
   "cell_type": "code",
   "execution_count": 35,
   "metadata": {},
   "outputs": [
    {
     "data": {
      "text/plain": [
       "'가'"
      ]
     },
     "execution_count": 35,
     "metadata": {},
     "output_type": "execute_result"
    }
   ],
   "source": [
    "# chr\n",
    "# ---\n",
    "# 유니코드 숫자값을 입력받아 그 코드에 해당하는 문자를 리턴하는 함수\n",
    "# -----------------------------------------------------------------\n",
    "chr(97)\n",
    "chr(44032)"
   ]
  },
  {
   "cell_type": "code",
   "execution_count": 36,
   "metadata": {},
   "outputs": [
    {
     "data": {
      "text/plain": [
       "['__add__',\n",
       " '__class__',\n",
       " '__class_getitem__',\n",
       " '__contains__',\n",
       " '__delattr__',\n",
       " '__delitem__',\n",
       " '__dir__',\n",
       " '__doc__',\n",
       " '__eq__',\n",
       " '__format__',\n",
       " '__ge__',\n",
       " '__getattribute__',\n",
       " '__getitem__',\n",
       " '__gt__',\n",
       " '__hash__',\n",
       " '__iadd__',\n",
       " '__imul__',\n",
       " '__init__',\n",
       " '__init_subclass__',\n",
       " '__iter__',\n",
       " '__le__',\n",
       " '__len__',\n",
       " '__lt__',\n",
       " '__mul__',\n",
       " '__ne__',\n",
       " '__new__',\n",
       " '__reduce__',\n",
       " '__reduce_ex__',\n",
       " '__repr__',\n",
       " '__reversed__',\n",
       " '__rmul__',\n",
       " '__setattr__',\n",
       " '__setitem__',\n",
       " '__sizeof__',\n",
       " '__str__',\n",
       " '__subclasshook__',\n",
       " 'append',\n",
       " 'clear',\n",
       " 'copy',\n",
       " 'count',\n",
       " 'extend',\n",
       " 'index',\n",
       " 'insert',\n",
       " 'pop',\n",
       " 'remove',\n",
       " 'reverse',\n",
       " 'sort']"
      ]
     },
     "execution_count": 36,
     "metadata": {},
     "output_type": "execute_result"
    }
   ],
   "source": [
    "# dir\n",
    "# ---\n",
    "# 객체가 지닌 변수나 함수를 보여주는 함수\n",
    "# ---------------------------------------\n",
    "dir([1,2,3])"
   ]
  },
  {
   "cell_type": "code",
   "execution_count": 37,
   "metadata": {},
   "outputs": [
    {
     "data": {
      "text/plain": [
       "['__class__',\n",
       " '__class_getitem__',\n",
       " '__contains__',\n",
       " '__delattr__',\n",
       " '__delitem__',\n",
       " '__dir__',\n",
       " '__doc__',\n",
       " '__eq__',\n",
       " '__format__',\n",
       " '__ge__',\n",
       " '__getattribute__',\n",
       " '__getitem__',\n",
       " '__gt__',\n",
       " '__hash__',\n",
       " '__init__',\n",
       " '__init_subclass__',\n",
       " '__ior__',\n",
       " '__iter__',\n",
       " '__le__',\n",
       " '__len__',\n",
       " '__lt__',\n",
       " '__ne__',\n",
       " '__new__',\n",
       " '__or__',\n",
       " '__reduce__',\n",
       " '__reduce_ex__',\n",
       " '__repr__',\n",
       " '__reversed__',\n",
       " '__ror__',\n",
       " '__setattr__',\n",
       " '__setitem__',\n",
       " '__sizeof__',\n",
       " '__str__',\n",
       " '__subclasshook__',\n",
       " 'clear',\n",
       " 'copy',\n",
       " 'fromkeys',\n",
       " 'get',\n",
       " 'items',\n",
       " 'keys',\n",
       " 'pop',\n",
       " 'popitem',\n",
       " 'setdefault',\n",
       " 'update',\n",
       " 'values']"
      ]
     },
     "execution_count": 37,
     "metadata": {},
     "output_type": "execute_result"
    }
   ],
   "source": [
    "dir({'1':'a'})"
   ]
  },
  {
   "cell_type": "code",
   "execution_count": 38,
   "metadata": {},
   "outputs": [
    {
     "data": {
      "text/plain": [
       "(2, 1)"
      ]
     },
     "execution_count": 38,
     "metadata": {},
     "output_type": "execute_result"
    }
   ],
   "source": [
    "# divmod\n",
    "# ------\n",
    "# a를 b로 나눈 몫과 나머지를 튜플로 리턴하는 함수\n",
    "# ----------------------------------------------\n",
    "divmod(7,3)"
   ]
  },
  {
   "cell_type": "code",
   "execution_count": 39,
   "metadata": {},
   "outputs": [
    {
     "name": "stdout",
     "output_type": "stream",
     "text": [
      "0 body\n",
      "1 foo\n",
      "2 bar\n"
     ]
    }
   ],
   "source": [
    "# enumerate\n",
    "# ---------\n",
    "# 순서가 있는 데이터를 입력받아 인덱스 값을 포함하는 enumerate 객체를 리턴\n",
    "# -----------------------------------------------------------------------\n",
    "for i, name in enumerate(['body','foo','bar']):\n",
    "    print(i, name)\n",
    "    "
   ]
  },
  {
   "cell_type": "code",
   "execution_count": 43,
   "metadata": {},
   "outputs": [
    {
     "data": {
      "text/plain": [
       "(2, 0)"
      ]
     },
     "execution_count": 43,
     "metadata": {},
     "output_type": "execute_result"
    }
   ],
   "source": [
    "# eval\n",
    "# ----\n",
    "# 문자열로 구성된 표현식을 입력받아 해당 문자열을 실행한 결괏값을 리턴\n",
    "# -------------------------------------------------------------------\n",
    "eval('1+2')\n",
    "eval(\"'hi' + 'a'\")\n",
    "eval('divmod(4,2)')"
   ]
  },
  {
   "cell_type": "code",
   "execution_count": 55,
   "metadata": {},
   "outputs": [
    {
     "name": "stdout",
     "output_type": "stream",
     "text": [
      "[1, 2, 6]\n",
      "[1, 2, 6]\n"
     ]
    },
    {
     "data": {
      "text/plain": [
       "[1, 2, 6]"
      ]
     },
     "execution_count": 55,
     "metadata": {},
     "output_type": "execute_result"
    }
   ],
   "source": [
    "# filter\n",
    "# ------\n",
    "# filter(func, iterable)\n",
    "# 첫 번째 인수로 함수를, 두 번째 인수로 그 함수에 차례로 들어갈 반복 가능한 데이터를 받음.\n",
    "# 그리고 반복 가능한 데이터(iterable)의 요소 순서대로 함수(func)를 호출했을 때 반환 값이 \n",
    "# 참인 것만 묶어서(걸러 내서) 리턴한다.\n",
    "# ---------------------------------------------------------------------------------------\n",
    "def positive(l):\n",
    "    result = []\n",
    "    for i in l:\n",
    "        if i>0:\n",
    "            result.append(i)\n",
    "    return result\n",
    "print(positive([1,-3,2,0,-5,6]))\n",
    "\n",
    "def positive1(x):\n",
    "    return x > 0\n",
    "print(list(filter(positive1, [1, -3, 2, 0, -5, 6])))\n",
    "\n",
    "list(filter(lambda x: x>0, [1, -3, 2, 0, -5, 6]))\n",
    "      \n"
   ]
  },
  {
   "cell_type": "code",
   "execution_count": 77,
   "metadata": {},
   "outputs": [
    {
     "name": "stdout",
     "output_type": "stream",
     "text": [
      "10\n",
      "10\n",
      "a\n",
      "a\n",
      "a\n",
      "12\n",
      "12\n",
      "12\n",
      "1010\n",
      "1010\n"
     ]
    }
   ],
   "source": [
    "# hex\n",
    "# ---\n",
    "# 정수를 입력받아 16진수 문자열로 변환하여 리턴\n",
    "# --------------------------------------------\n",
    "hex(234)\n",
    "hex(3)\n",
    "\n",
    "# 진수 변환\n",
    "# ---------\n",
    "# 16진수 --> 10진수\n",
    "#------------------\n",
    "print(int(\"0xa\", 16))\n",
    "print(int(\"a\", 16))\n",
    "\n",
    "# 10진수 --> 16진수\n",
    "# -----------------\n",
    "print('{0:x}'.format(10))\n",
    "print(f'{10:x}')\n",
    "print('%0x' % 10)\n",
    "\n",
    "# 10진수 --> 8진수\n",
    "# ----------------\n",
    "print('{0:o}'.format(10))\n",
    "print(f'{10:o}')\n",
    "print('%0o' % 10)\n",
    "\n",
    "# 10진수 --> 2진수\n",
    "# ----------------\n",
    "print('{0:b}'.format(10))\n",
    "print(f'{10:b}')\n",
    "#print('%b' % 10)\n",
    "\n"
   ]
  },
  {
   "cell_type": "code",
   "execution_count": 81,
   "metadata": {},
   "outputs": [
    {
     "name": "stdout",
     "output_type": "stream",
     "text": [
      "2062087317872\n",
      "2062087317872\n",
      "2062087317872\n"
     ]
    }
   ],
   "source": [
    "# id\n",
    "# --\n",
    "# 객체를 입력받아 객체의 고유주소 값(레퍼런스)을 리턴\n",
    "# --------------------------------------------------\n",
    "a = 3\n",
    "print(id(a))\n",
    "b = a\n",
    "print(id(b))\n",
    "print(id(3))"
   ]
  },
  {
   "cell_type": "code",
   "execution_count": 86,
   "metadata": {},
   "outputs": [
    {
     "name": "stdout",
     "output_type": "stream",
     "text": [
      "aaa\n",
      "bbb\n"
     ]
    }
   ],
   "source": [
    "# input\n",
    "# -----\n",
    "# 사용자 입력을 받는 함수\n",
    "# -----------------------\n",
    "a = input()\n",
    "print(a)\n",
    "\n",
    "b = input('Enter: ')\n",
    "print(b)\n",
    "\n"
   ]
  },
  {
   "cell_type": "code",
   "execution_count": 90,
   "metadata": {},
   "outputs": [
    {
     "name": "stdout",
     "output_type": "stream",
     "text": [
      "3\n",
      "3\n",
      "3\n",
      "10\n"
     ]
    }
   ],
   "source": [
    "# int\n",
    "# ---\n",
    "# 문자열 형태의 숫자나 소수점이 있는 숫자를 정수로 리턴\n",
    "# ----------------------------------------------------\n",
    "print(int('3'))\n",
    "print(int(3.4))         # 소수점이하 절사\n",
    "\n",
    "print(int('11', 2))     # 2진수로 표현된 '11'을 정수로 변환\n",
    "print(int('a', 16))     # 16진수로 표현된 'a'를 정수로 변환\n"
   ]
  },
  {
   "cell_type": "code",
   "execution_count": 93,
   "metadata": {},
   "outputs": [
    {
     "name": "stdout",
     "output_type": "stream",
     "text": [
      "True\n",
      "False\n"
     ]
    }
   ],
   "source": [
    "# isinstance\n",
    "# ----------\n",
    "# 첫번째 인수로 객체, 두번째 인수로 클래스를 받음. 입력으로 받은 객체가 \n",
    "# 그 클래스의 인스턴스인지를 판단하여 참이면 True, 거짓이면 False를 리턴\n",
    "# ---------------------------------------------------------------------\n",
    "class Person: pass\n",
    "a = Person()\n",
    "\n",
    "print(isinstance(a, Person))\n",
    "\n",
    "b = 3\n",
    "print(isinstance(b, Person))"
   ]
  },
  {
   "cell_type": "code",
   "execution_count": 99,
   "metadata": {},
   "outputs": [
    {
     "name": "stdout",
     "output_type": "stream",
     "text": [
      "6\n",
      "3\n",
      "2\n",
      "{1, 2, 3, 4} : 4\n"
     ]
    }
   ],
   "source": [
    "# len\n",
    "# ---\n",
    "# len(s)는 입력값 s의 길이(요소의 전체 개수)를 리턴\n",
    "# ------------------------------------------------\n",
    "print(len('python'))\n",
    "print(len([1,2,3]))\n",
    "print(len((1, 'a')))\n",
    "\n",
    "a = set([1,2,3,4,1,2,3])\n",
    "print(f'{a} : {len(a)}')"
   ]
  },
  {
   "cell_type": "code",
   "execution_count": 103,
   "metadata": {},
   "outputs": [
    {
     "name": "stdout",
     "output_type": "stream",
     "text": [
      "['p', 'y', 't', 'h', 'o', 'n']\n",
      "[1, 2, 3]\n",
      "[1, 2, 3, 4]\n"
     ]
    }
   ],
   "source": [
    "# list\n",
    "# ----\n",
    "# 반복 가능한 데이터(iterable)를 입력받아 리스트로 리턴\n",
    "# ----------------------------------------------------\n",
    "print(list('python'))\n",
    "print(list((1,2,3)))\n",
    "\n",
    "a = [1,2,3,4]\n",
    "b = list(a)\n",
    "print(b)"
   ]
  },
  {
   "cell_type": "code",
   "execution_count": 110,
   "metadata": {},
   "outputs": [
    {
     "name": "stdout",
     "output_type": "stream",
     "text": [
      "[2, 4, 6, 8]\n",
      "map 함수 이용 :  [2, 4, 6, 8]\n",
      "lambda를 이용 :  [2, 4, 6, 8]\n"
     ]
    }
   ],
   "source": [
    "# map\n",
    "# ---\n",
    "# map(f, iterable)은 함수(f)와 반복 가능한 데이터를 입력 받음. \n",
    "# map 함수는 입력받은 데이터의 요소에 함수 f를 적용한 결과를 리턴\n",
    "# ---------------------------------------------------------------\n",
    "def two_times(numberList):\n",
    "    result = []\n",
    "    for number in numberList:\n",
    "        result.append(number*2)\n",
    "    return result\n",
    "\n",
    "result = two_times([1,2,3,4])\n",
    "print(result)\n",
    "\n",
    "# map 함수 이용\n",
    "# ------------\n",
    "def two_times(x):\n",
    "    return 2 * x\n",
    "\n",
    "print('map 함수 이용 : ', list(map(two_times, [1,2,3,4])))\n",
    "\n",
    "# lambda를 이용\n",
    "# -------------\n",
    "print('lambda를 이용 : ', list(map(lambda x: 2*x, [1,2,3,4])))"
   ]
  },
  {
   "cell_type": "code",
   "execution_count": 111,
   "metadata": {},
   "outputs": [
    {
     "name": "stdout",
     "output_type": "stream",
     "text": [
      "3\n",
      "y\n"
     ]
    }
   ],
   "source": [
    "# max\n",
    "# ---\n",
    "# 최댓값 리턴\n",
    "# -----------\n",
    "print(max([1,2,3]))\n",
    "print(max('python'))\n"
   ]
  },
  {
   "cell_type": "code",
   "execution_count": 112,
   "metadata": {},
   "outputs": [
    {
     "name": "stdout",
     "output_type": "stream",
     "text": [
      "1\n",
      "h\n"
     ]
    }
   ],
   "source": [
    "# min\n",
    "# ---\n",
    "# 최솟값 리턴\n",
    "# -----------\n",
    "print(min([1,2,3]))\n",
    "print(min('python'))"
   ]
  },
  {
   "cell_type": "code",
   "execution_count": 113,
   "metadata": {},
   "outputs": [
    {
     "name": "stdout",
     "output_type": "stream",
     "text": [
      "0o12\n",
      "0o30071\n"
     ]
    }
   ],
   "source": [
    "# oct\n",
    "# ---\n",
    "# 정수를 8진수 문자열로 리턴\n",
    "# -------------------------\n",
    "print(oct(10))\n",
    "print(oct(12345))"
   ]
  },
  {
   "cell_type": "code",
   "execution_count": 115,
   "metadata": {},
   "outputs": [],
   "source": [
    "# open\n",
    "# ----\n",
    "# \"파일 이름\" 과 \"읽기 방법\"을 입력받아 파일 객체를 리턴하는 함수\n",
    "# 모드(mode) : w, r, a, b(바이너리 모드로 파일 열기) - b는 w, r, a와 함께 사용\n",
    "# ---------------------------------------------------------------------------\n",
    "# f = open('binary_file', 'rb')"
   ]
  },
  {
   "cell_type": "code",
   "execution_count": 119,
   "metadata": {},
   "outputs": [
    {
     "name": "stdout",
     "output_type": "stream",
     "text": [
      "97\n",
      "44032\n"
     ]
    }
   ],
   "source": [
    "# ord\n",
    "# ---\n",
    "# ord(c)는 문자의 유니코드 숫자 값을 리턴\n",
    "# --------------------------------------\n",
    "print(ord('a'))\n",
    "print(ord('가'))\n"
   ]
  },
  {
   "cell_type": "code",
   "execution_count": 120,
   "metadata": {},
   "outputs": [
    {
     "name": "stdout",
     "output_type": "stream",
     "text": [
      "16\n"
     ]
    }
   ],
   "source": [
    "# pow\n",
    "# ---\n",
    "# pow(x, y)는 x의 y 제곱한 결괏값을 리턴\n",
    "# --------------------------------------\n",
    "print(pow(2, 4))"
   ]
  },
  {
   "cell_type": "code",
   "execution_count": 127,
   "metadata": {},
   "outputs": [
    {
     "name": "stdout",
     "output_type": "stream",
     "text": [
      "[0, 1, 2, 3, 4, 5, 6, 7, 8, 9]\n",
      "[5, 6, 7, 8, 9]\n",
      "[1, 3, 5, 7, 9]\n",
      "[0, -1, -2, -3, -4, -5, -6, -7, -8, -9]\n"
     ]
    }
   ],
   "source": [
    "# range\n",
    "# -----\n",
    "# 입력받은 숫자에 해당하는 범위 값을 반복 가능한 객체로 만들어 리턴\n",
    "# ----------------------------------------------------------------\n",
    "\n",
    "# 인수가 하나일 경우\n",
    "# ------------------\n",
    "print(list(range(10)))\n",
    "\n",
    "# 인수가 2개인 경우\n",
    "# -----------------\n",
    "print(list(range(5,10)))\n",
    "\n",
    "# 인수가 3개인 경우\n",
    "# -----------------\n",
    "print(list(range(1, 10, 2)))\n",
    "\n",
    "print(list(range(0, -10, -1)))\n",
    "\n",
    "\n",
    "# "
   ]
  },
  {
   "cell_type": "code",
   "execution_count": 131,
   "metadata": {},
   "outputs": [
    {
     "name": "stdout",
     "output_type": "stream",
     "text": [
      "5\n",
      "4\n",
      "5.68\n"
     ]
    }
   ],
   "source": [
    "# round\n",
    "# -----\n",
    "# 숫자를 입력받아 반올림해 리턴\n",
    "# -----------------------------\n",
    "print(round(4.6))\n",
    "print(round(4.2))\n",
    "\n",
    "print(round(5.678, 2))\n"
   ]
  },
  {
   "cell_type": "code",
   "execution_count": 135,
   "metadata": {},
   "outputs": [
    {
     "name": "stdout",
     "output_type": "stream",
     "text": [
      "[1, 2, 3]\n",
      "['a', 'b', 'c']\n",
      "['e', 'o', 'r', 's', 'z']\n",
      "[1, 2, 3]\n"
     ]
    }
   ],
   "source": [
    "# sorted\n",
    "# ------\n",
    "# 입력 데이터를 정렬한 후 그 결과를 리스트로 리턴\n",
    "# ----------------------------------------------\n",
    "print(sorted([3,2,1]))\n",
    "print(sorted(['a','c','b']))\n",
    "print(sorted('zeros'))\n",
    "print(sorted((3,2,1)))\n",
    "\n"
   ]
  },
  {
   "cell_type": "code",
   "execution_count": 136,
   "metadata": {},
   "outputs": [
    {
     "name": "stdout",
     "output_type": "stream",
     "text": [
      "3\n",
      "hi\n"
     ]
    }
   ],
   "source": [
    "# str\n",
    "# ---\n",
    "# str(object)은 문자열 형태로 객체를 변환하여 리턴\n",
    "# -----------------------------------------------\n",
    "print(str(3))\n",
    "print(str('hi'))"
   ]
  },
  {
   "cell_type": "code",
   "execution_count": 137,
   "metadata": {},
   "outputs": [
    {
     "name": "stdout",
     "output_type": "stream",
     "text": [
      "6\n"
     ]
    }
   ],
   "source": [
    "# sum\n",
    "# ---\n",
    "# 입력 데이터의 합을 리턴하는 함수\n",
    "# --------------------------------\n",
    "print(sum([1,2,3]))\n"
   ]
  },
  {
   "cell_type": "code",
   "execution_count": 138,
   "metadata": {},
   "outputs": [
    {
     "name": "stdout",
     "output_type": "stream",
     "text": [
      "('a', 'b', 'c')\n",
      "(1, 2, 3)\n",
      "(1, 2, 3)\n"
     ]
    }
   ],
   "source": [
    "# tuple\n",
    "# -----\n",
    "# 반복 가능한 데이터를 튜플로 바꾸어 리턴\n",
    "# --------------------------------------\n",
    "print(tuple('abc'))\n",
    "print(tuple([1,2,3]))\n",
    "print(tuple((1,2,3)))"
   ]
  },
  {
   "cell_type": "code",
   "execution_count": 141,
   "metadata": {},
   "outputs": [
    {
     "name": "stdout",
     "output_type": "stream",
     "text": [
      "<class 'str'>\n",
      "<class 'list'>\n",
      "<class '_io.TextIOWrapper'>\n"
     ]
    }
   ],
   "source": [
    "# type\n",
    "# ----\n",
    "# type(object)은 입력값의 자료형이 무엇인지 알려주는 함수\n",
    "# ------------------------------------------------------\n",
    "print(type('abc'))\n",
    "print(type([]))\n",
    "print(type(open('test', 'w')))"
   ]
  },
  {
   "cell_type": "code",
   "execution_count": 143,
   "metadata": {},
   "outputs": [
    {
     "name": "stdout",
     "output_type": "stream",
     "text": [
      "[(1, 4), (2, 5), (3, 6)]\n",
      "[(1, 4, 7), (2, 5, 8), (3, 6, 9)]\n",
      "[('a', 'd'), ('b', 'e'), ('c', 'f')]\n"
     ]
    }
   ],
   "source": [
    "# zip\n",
    "# ---\n",
    "# zip(*iterable)은 동일한 개수로 이루어진 데이터들을 묶어서 리턴하는 함수\n",
    "# ----------------------------------------------------------------------\n",
    "print(list(zip([1,2,3], [4,5,6])))\n",
    "print(list(zip([1,2,3], [4,5,6], [7,8,9])))\n",
    "print(list(zip('abc', 'def')))\n"
   ]
  },
  {
   "cell_type": "markdown",
   "metadata": {},
   "source": [
    "## 05-6 표준 라이브러리"
   ]
  },
  {
   "cell_type": "markdown",
   "metadata": {},
   "source": [
    "### datetime.date"
   ]
  },
  {
   "cell_type": "code",
   "execution_count": 3,
   "metadata": {},
   "outputs": [
    {
     "name": "stdout",
     "output_type": "stream",
     "text": [
      "2019-12-14 2021-06-05\n",
      "<539 days, 0:00:00>, <539>\n",
      "6\n",
      "일요일\n",
      "7\n",
      "일요일\n"
     ]
    }
   ],
   "source": [
    "# datetime.date\n",
    "# -------------\n",
    "import datetime\n",
    "\n",
    "day1 = datetime.date(2019, 12, 14)\n",
    "day2 = datetime.date(2021, 6, 5)\n",
    "print(day1, day2)\n",
    "\n",
    "diff = day2 - day1\n",
    "print(f'<{diff}>, <{diff.days}>')\n",
    "\n",
    "day = datetime.date(2023, 3, 19)\n",
    "print(day.weekday())\n",
    "print('월화수목금토일'[day.weekday()]+'요일')\n",
    "\n",
    "print(day.isoweekday())\n",
    "print('월화수목금토일'[day.isoweekday()-1]+'요일')\n"
   ]
  },
  {
   "cell_type": "markdown",
   "metadata": {},
   "source": [
    "### time"
   ]
  },
  {
   "cell_type": "code",
   "execution_count": 4,
   "metadata": {},
   "outputs": [
    {
     "data": {
      "text/plain": [
       "1679229807.0386496"
      ]
     },
     "execution_count": 4,
     "metadata": {},
     "output_type": "execute_result"
    }
   ],
   "source": [
    "# time.time\n",
    "# ---------\n",
    "# time.time()은 UTC(Universal Time Coordinated 협정 세계 표준시)를 사용하여 현재 시간을 실수 형태로\n",
    "# 리턴하는 함수. 1970년 1월 1일 0시 0분 0초를 기준으로 지난 시간을 초 단위로 돌려줌.\n",
    "# -------------------------------------------------------------------------------------------------\n",
    "import time\n",
    "\n",
    "time.time()"
   ]
  },
  {
   "cell_type": "code",
   "execution_count": 5,
   "metadata": {},
   "outputs": [
    {
     "name": "stdout",
     "output_type": "stream",
     "text": [
      "time.struct_time(tm_year=2023, tm_mon=3, tm_mday=19, tm_hour=21, tm_min=43, tm_sec=29, tm_wday=6, tm_yday=78, tm_isdst=0)\n"
     ]
    }
   ],
   "source": [
    "# time.localtime\n",
    "# --------------\n",
    "# time.localtime은 time.time()이 리턴한 실수 값을 사용해도 연도, 월, 일, 시, 분, 초, ... 의 형태로 바꾸어 주는 함수\n",
    "# ----------------------------------------------------------------------------------------------------------------\n",
    "import time\n",
    "\n",
    "print(time.localtime(time.time()))"
   ]
  },
  {
   "cell_type": "code",
   "execution_count": 6,
   "metadata": {},
   "outputs": [
    {
     "name": "stdout",
     "output_type": "stream",
     "text": [
      "Sun Mar 19 21:43:31 2023\n"
     ]
    }
   ],
   "source": [
    "# time.asctime\n",
    "# ------------\n",
    "# time.localtime에 의해 반환된 튜플 형태의 값을 인수로 받아서 날짜 와 시간을 쉬운 형태로 리턴\n",
    "# ------------------------------------------------------------------------------------------\n",
    "import time \n",
    "\n",
    "print(time.asctime(time.localtime(time.time())))"
   ]
  },
  {
   "cell_type": "code",
   "execution_count": 7,
   "metadata": {},
   "outputs": [
    {
     "name": "stdout",
     "output_type": "stream",
     "text": [
      "Sun Mar 19 21:43:33 2023\n"
     ]
    }
   ],
   "source": [
    "# time.ctime \n",
    "# ----------\n",
    "# time.asctime(time.localtime(time.time()))은 time.ctime()을 사용해 간편하게 표시할 수 있음\n",
    "# asctime과 다른점은 ctime은 항상 현재 시간만을 리턴함.\n",
    "# -----------------------------------------------------------------------------------------\n",
    "import time \n",
    "print(time.ctime())"
   ]
  },
  {
   "cell_type": "code",
   "execution_count": 8,
   "metadata": {},
   "outputs": [
    {
     "name": "stdout",
     "output_type": "stream",
     "text": [
      "03/19/23\n",
      "Sun Mar 19 21:43:35 2023\n"
     ]
    }
   ],
   "source": [
    "# time.strftime\n",
    "# -------------\n",
    "# 시간에 관계된 것을 세밀하게 표시하는 여러가지 포맷 코드를 제공 : https://wikidocs.net/33 참조\n",
    "# --------------------------------------------------------------------------------------------\n",
    "import time \n",
    "\n",
    "print(time.strftime('%x', time.localtime(time.time())))\n",
    "print(time.strftime('%c', time.localtime(time.time())))"
   ]
  },
  {
   "cell_type": "code",
   "execution_count": 174,
   "metadata": {},
   "outputs": [
    {
     "name": "stdout",
     "output_type": "stream",
     "text": [
      "0\n",
      "Sleep for 0.5 seconds ..........\n",
      "1\n",
      "Sleep for 0.5 seconds ..........\n",
      "2\n",
      "Sleep for 0.5 seconds ..........\n",
      "3\n",
      "Sleep for 0.5 seconds ..........\n",
      "4\n",
      "Sleep for 0.5 seconds ..........\n"
     ]
    }
   ],
   "source": [
    "# time.sleep \n",
    "# ----------\n",
    "# 일정한 시간 간격을 두고 루프를 실행할 수 있음\n",
    "# --------------------------------------------\n",
    "import time\n",
    "\n",
    "for i in range(5):\n",
    "    print(i)\n",
    "    print(\"Sleep for 0.5 seconds ..........\")\n",
    "    time.sleep(0.5)"
   ]
  },
  {
   "cell_type": "code",
   "execution_count": 9,
   "metadata": {},
   "outputs": [
    {
     "name": "stdout",
     "output_type": "stream",
     "text": [
      "20\n"
     ]
    }
   ],
   "source": [
    "# math.gcd\n",
    "# --------\n",
    "# 최대 공약수(gcd, greatest common divisor)를 구함\n",
    "# 파이썬 3.9 버전부터는 math.gcd의 인수로 여러개가 가능하지만 3.9 미만 버전에서는 2개까지만 허용\n",
    "# ---------------------------------------------------------------------------------------------\n",
    "import math\n",
    "print(math.gcd(60, 100, 80))\n"
   ]
  },
  {
   "cell_type": "code",
   "execution_count": 10,
   "metadata": {},
   "outputs": [
    {
     "data": {
      "text/plain": [
       "75"
      ]
     },
     "execution_count": 10,
     "metadata": {},
     "output_type": "execute_result"
    }
   ],
   "source": [
    "# math.lcm\n",
    "# --------\n",
    "# 최소 공배수(lcm, least common multiple) 구하는 함수\n",
    "# --------------------------------------------------\n",
    "import math\n",
    "\n",
    "math.lcm(15, 25)"
   ]
  },
  {
   "cell_type": "code",
   "execution_count": 11,
   "metadata": {},
   "outputs": [
    {
     "name": "stdout",
     "output_type": "stream",
     "text": [
      "0.12647305179978297\n",
      "3\n",
      "------------------------------------------------------------\n",
      "삭제되는 Value : 3 남아 있는 data : [1, 2, 4, 5]\n",
      "3\n",
      "삭제되는 Value : 2 남아 있는 data : [1, 4, 5]\n",
      "2\n",
      "삭제되는 Value : 5 남아 있는 data : [1, 4]\n",
      "5\n",
      "삭제되는 Value : 4 남아 있는 data : [1]\n",
      "4\n",
      "삭제되는 Value : 1 남아 있는 data : []\n",
      "1\n",
      "[2, 4, 1, 3, 5]\n",
      "[5, 2, 3]\n"
     ]
    }
   ],
   "source": [
    "# random\n",
    "# ------\n",
    "# 난수(규칙이 없는 임의의 수)를 발생시키는 모듈\n",
    "# --------------------------------------------\n",
    "import random\n",
    "\n",
    "print(random.random())     # 0.0에서 1.0 사이의 실수 중에서 난수 값을 리턴\n",
    "\n",
    "print(random.randint(1,10))\n",
    "\n",
    "print('-'*60)\n",
    "import random\n",
    "\n",
    "# def random_pop(data):\n",
    "#     number = random.randint(0, len(data)-1)\n",
    "#     print('random number : ', number)\n",
    "#     return data.pop(number)\n",
    "\n",
    "def random_pop(data):\n",
    "    number = random.choice(data)\n",
    "    data.remove(number)\n",
    "    print('삭제되는 Value :', number, '남아 있는 data :', data )\n",
    "    return number\n",
    "if __name__ == '__main__':\n",
    "    data = [1,2,3,4,5]\n",
    "    while data:\n",
    "        print(random_pop(data))\n",
    "        \n",
    "# random.sample\n",
    "# -------------\n",
    "a = [1,2,3,4,5]\n",
    "print(random.sample(a, len(a)))     # len(a)는 무작위로 추출하고자 하는 갯수\n",
    "print(random.sample(a, 3))\n",
    "\n"
   ]
  },
  {
   "cell_type": "code",
   "execution_count": 12,
   "metadata": {},
   "outputs": [
    {
     "name": "stdout",
     "output_type": "stream",
     "text": [
      "[('한민서', '사탕'), ('황지민', '초컬릿'), ('이영철', '젤리')]\n",
      "[('한민서', '사탕'), ('황지민', '초컬릿'), ('이영철', '젤리'), ('이광수', '새우깡'), ('김승민', '새우깡')]\n"
     ]
    }
   ],
   "source": [
    "# itertools.zip_longest\n",
    "# ---------------------\n",
    "# itertools.zip_longest(*iterables, fillvalue=None) 함수는 같은 개수의 자료형을 묶는 파이썬 내장 함수인\n",
    "# zip()과 똑같이 동작. 하지만 itertools.zip_longest() 함수는 전달한 반복 가능 객체(*iterables)의 길이가\n",
    "# 다르다면 긴 것을 기준으로 빠진 값은 fillvalue에 설정한 값으로 채울 수 있다.\n",
    "# -----------------------------------------------------------------------------------------------------\n",
    "students = ['한민서', '황지민', '이영철', '이광수', '김승민']\n",
    "snacks = ['사탕', '초컬릿', '젤리']\n",
    "\n",
    "result = zip(students, snacks)      # 갯수가 맞지 않으면 더 적은 snacks로 묶게 됨\n",
    "print(list(result))         \n",
    "\n",
    "import itertools\n",
    "\n",
    "students = ['한민서', '황지민', '이영철', '이광수', '김승민']\n",
    "snacks = ['사탕', '초컬릿', '젤리']\n",
    "\n",
    "result = itertools.zip_longest(students, snacks, fillvalue='새우깡')\n",
    "print(list(result))"
   ]
  },
  {
   "cell_type": "code",
   "execution_count": 13,
   "metadata": {},
   "outputs": [
    {
     "name": "stdout",
     "output_type": "stream",
     "text": [
      "[('1', '2'), ('1', '3'), ('2', '1'), ('2', '3'), ('3', '1'), ('3', '2')]\n"
     ]
    }
   ],
   "source": [
    "# itertools.permutations \n",
    "# ----------------------\n",
    "# itertools.permutations(iterable, r)은 반복 가능 객체(iterable) 중에서 r개를 선택한 순열을 이터레이터로 리턴\n",
    "# 순열 ~ 순서가 있는 것, 반대는 조합(itertools.combinations)\n",
    "# ----------------------------------------------------------------------------------------------------------\n",
    "import itertools \n",
    "\n",
    "print(list(itertools.permutations(['1','2','3'], 2)))\n"
   ]
  },
  {
   "cell_type": "code",
   "execution_count": 16,
   "metadata": {},
   "outputs": [
    {
     "name": "stdout",
     "output_type": "stream",
     "text": [
      "8145060\n",
      "15890700\n"
     ]
    }
   ],
   "source": [
    "# itertools.combinations\n",
    "# ----------------------\n",
    "# itertools.combinations(iterable, r)은 반복 가능 객체(iterable) 중에서 r개를 선택한 조합을 이터레이터로 리턴하는 함수\n",
    "# -------------------------------------------------------------------------------------------------------------------\n",
    "\n",
    "# 로또 번호의 모든 경우의 수(조합) ~ 1 ~ 45개의 숫자 중 서로 다른 6개를 뽑음 \n",
    "# -------------------------------\n",
    "import itertools\n",
    "\n",
    "print(len(list(itertools.combinations(range(1,46), 6))))\n",
    "\n",
    "# 중복 조합 ~ 뽑은 숫자를 다시 넣어서 중복 될 수 있는 경우\n",
    "# ---------\n",
    "print(len(list(itertools.combinations_with_replacement(range(1,46), 6))))"
   ]
  },
  {
   "cell_type": "code",
   "execution_count": 5,
   "metadata": {},
   "outputs": [
    {
     "name": "stdout",
     "output_type": "stream",
     "text": [
      "15\n",
      "15\n",
      "8\n",
      "1\n"
     ]
    }
   ],
   "source": [
    "# functools.reduce\n",
    "# ----------------\n",
    "# functools.reduce(function, iterable)은 function을 반복 가능한 객체(iterable)의 요소에 \n",
    "# 차례대로(왼쪽에서 오른쪽으로) 누적 적용하여 이 객체를 하나의 값으로 줄이는 함수\n",
    "# ------------------------------------------------------------------------------------\n",
    "def add(data):\n",
    "    result = 0\n",
    "    for i in data:\n",
    "        result += i\n",
    "    return result\n",
    "\n",
    "data = [1,2,3,4,5]\n",
    "result = add(data)\n",
    "print(result)\n",
    "\n",
    "# functools.reduce() 사용\n",
    "# -----------------------\n",
    "import functools\n",
    "\n",
    "data = [1,2,3,4,5]\n",
    "result = functools.reduce(lambda x, y: x+y, data)\n",
    "print(result)\n",
    "\n",
    "# functools.reduce()로 최댓값 구하기\n",
    "# ---------------------------------\n",
    "num_list = [3,2,8,1,6,7]\n",
    "max_num = functools.reduce(lambda x, y: x if x>y else y, num_list)\n",
    "print(max_num)\n",
    "\n",
    "# functools.reduce()로 최솟값 구하기\n",
    "# ---------------------------------\n",
    "num_list = [3,2,8,1,6,7]\n",
    "min_num = functools.reduce(lambda x, y: x if x<y else y, num_list)\n",
    "print(min_num)\n"
   ]
  },
  {
   "cell_type": "code",
   "execution_count": 7,
   "metadata": {},
   "outputs": [
    {
     "name": "stdout",
     "output_type": "stream",
     "text": [
      "[('dave', 32, 'B'), ('jane', 22, 'A'), ('sally', 17, 'B')]\n",
      "[('sally', 17, 'B'), ('jane', 22, 'A'), ('dave', 32, 'B')]\n",
      "[('jane', 22, 'A'), ('dave', 32, 'B'), ('sally', 17, 'B')]\n"
     ]
    }
   ],
   "source": [
    "# operator.itemgetter\n",
    "# -------------------\n",
    "# operator.itemgetter는 주로 sorted와 같은 함수의 key 매개변수에 적용하여 다양한 기준으로 정렬할 수 있도록 도와주는 모듈\n",
    "# ---------------------------------------------------------------------------------------------------------------------\n",
    "\n",
    "# Q) 나이순으로 정렬? (리스트 내의 튜플)\n",
    "# -------------------\n",
    "from operator import itemgetter\n",
    "\n",
    "students = [(\"jane\", 22, 'A'), (\"dave\", 32, 'B'), (\"sally\", 17, 'B'),]\n",
    "\n",
    "result = sorted(students, key=itemgetter(0))\n",
    "print(result)\n",
    "\n",
    "result = sorted(students, key=itemgetter(1))\n",
    "print(result)\n",
    "\n",
    "result = sorted(students, key=itemgetter(2))\n",
    "print(result)\n",
    "\n",
    " "
   ]
  },
  {
   "cell_type": "code",
   "execution_count": 8,
   "metadata": {},
   "outputs": [
    {
     "name": "stdout",
     "output_type": "stream",
     "text": [
      "[{'name': 'dave', 'age': 32, 'grade': 'B'}, {'name': 'jane', 'age': 22, 'grade': 'A'}, {'name': 'sally', 'age': 17, 'grade': 'B'}]\n",
      "[{'name': 'sally', 'age': 17, 'grade': 'B'}, {'name': 'jane', 'age': 22, 'grade': 'A'}, {'name': 'dave', 'age': 32, 'grade': 'B'}]\n",
      "[{'name': 'jane', 'age': 22, 'grade': 'A'}, {'name': 'dave', 'age': 32, 'grade': 'B'}, {'name': 'sally', 'age': 17, 'grade': 'B'}]\n"
     ]
    }
   ],
   "source": [
    "# Q) 나이순으로 정렬? (리스트 내의 딕셔너리)\n",
    "# -------------------\n",
    "from operator import itemgetter\n",
    "\n",
    "students = [{'name': 'jane', 'age': 22, 'grade': 'A'},\n",
    "            {'name': 'dave', 'age': 32, 'grade': 'B'},\n",
    "            {'name': 'sally', 'age': 17, 'grade': 'B'},]\n",
    "            \n",
    "result = sorted(students, key=itemgetter('name'))\n",
    "print(result)\n",
    "\n",
    "result = sorted(students, key=itemgetter('age'))\n",
    "print(result)\n",
    "\n",
    "result = sorted(students, key=itemgetter('grade'))\n",
    "print(result)\n"
   ]
  },
  {
   "cell_type": "code",
   "execution_count": 9,
   "metadata": {},
   "outputs": [
    {
     "name": "stdout",
     "output_type": "stream",
     "text": [
      "[<__main__.Student object at 0x00000217659CFEB0>, <__main__.Student object at 0x00000217659CFD60>, <__main__.Student object at 0x00000217659CF820>]\n",
      "[<__main__.Student object at 0x00000217659CF820>, <__main__.Student object at 0x00000217659CFD60>, <__main__.Student object at 0x00000217659CFEB0>]\n",
      "[<__main__.Student object at 0x00000217659CFD60>, <__main__.Student object at 0x00000217659CFEB0>, <__main__.Student object at 0x00000217659CF820>]\n"
     ]
    }
   ],
   "source": [
    "# operator.attrgetter()\n",
    "# ---------------------\n",
    "# students 리스트의 요소가 튜플이 아닌 Student 클래스의 객체라면 다음처럼 attrgetter()를 적용하여 정렬\n",
    "# --------------------------------------------------------------------------------------------------\n",
    "from operator import attrgetter\n",
    "\n",
    "class Student:\n",
    "    def __init__(self, name, age, grade):\n",
    "        self.name = name\n",
    "        self.age = age \n",
    "        self.grade = grade\n",
    "    \n",
    "students = [Student('jane', 22, 'A'), Student('dave', 32, 'B'), Student('sally', 17, 'B'),]\n",
    "\n",
    "print(sorted(students, key=attrgetter('name')))\n",
    "print(sorted(students, key=attrgetter('age')))\n",
    "print(sorted(students, key=attrgetter('grade')))\n"
   ]
  },
  {
   "cell_type": "code",
   "execution_count": 11,
   "metadata": {},
   "outputs": [
    {
     "data": {
      "text/plain": [
       "'c:/temp/bkup/modtest.py.bak1'"
      ]
     },
     "execution_count": 11,
     "metadata": {},
     "output_type": "execute_result"
    }
   ],
   "source": [
    "# shutil\n",
    "# ------\n",
    "# shutil은 파일을 복사(copy)하거나 이동(move)할 때 사용하는 모듈\n",
    "# -------------------------------------------------------------\n",
    "import shutil\n",
    "\n",
    "shutil.copy('c:/temp/test/modtest.py', 'c:/temp/bkup/modtest.py.bak')\n",
    "\n",
    "shutil.move('c:/temp/bkup/modtest.py.bak', 'c:/temp/bkup/modtest.py.bak1')"
   ]
  },
  {
   "cell_type": "code",
   "execution_count": 16,
   "metadata": {},
   "outputs": [
    {
     "name": "stdout",
     "output_type": "stream",
     "text": [
      "c:/temp/test\\mod1.py\n",
      "c:/temp/test\\mod2.py\n",
      "c:/temp/test\\modtest.py\n"
     ]
    }
   ],
   "source": [
    "# glob\n",
    "# ----\n",
    "# 특정 디렉터리에 있는 파일 이름 모두를 알아야 할 때가 있다. 이럴 때 사용하는 모듈\n",
    "# glob 모듈은 디렉터리 안의 파일들을 읽어서 리턴한다. *, ? 등 메타 문자를 써서 원하는 파일만 읽어 들일 수도 있다.\n",
    "# -------------------------------------------------------------------------------------------------------------\n",
    "import glob\n",
    "\n",
    "for fname in glob.glob('c:/temp/test/mo*'):\n",
    "    print(fname)\n"
   ]
  },
  {
   "cell_type": "code",
   "execution_count": 19,
   "metadata": {},
   "outputs": [
    {
     "name": "stdout",
     "output_type": "stream",
     "text": [
      "{1: 'python', 2: 'you need'}\n"
     ]
    }
   ],
   "source": [
    "# pickle\n",
    "# ------\n",
    "# pickle은 객체의 형태를 그대로 유지하면서 파일에 저장하고 불러올 수 있게 하는 모듈\n",
    "# --------------------------------------------------------------------------------\n",
    "import pickle\n",
    "\n",
    "f = open('c:/temp/test/test.txt', 'wb')\n",
    "data = {1: 'python', 2: 'you need'}\n",
    "pickle.dump(data, f)\n",
    "f.close()\n",
    "\n",
    "# pickle로 저장된 파일 로드\n",
    "# -------------------------\n",
    "import pickle\n",
    "\n",
    "f = open('c:/temp/test/test.txt', 'rb')\n",
    "data = pickle.load(f)\n",
    "print(data)"
   ]
  },
  {
   "cell_type": "code",
   "execution_count": 23,
   "metadata": {},
   "outputs": [
    {
     "name": "stdout",
     "output_type": "stream",
     "text": [
      "environ({'ALLUSERSPROFILE': 'C:\\\\ProgramData', 'APPDATA': 'C:\\\\Users\\\\User\\\\AppData\\\\Roaming', 'APPNAME': 'howcodec', 'CHROME_CRASHPAD_PIPE_NAME': '\\\\\\\\.\\\\pipe\\\\crashpad_13316_KSIMYPKGKDVWNXXP', 'CLASSPATH': 'C:\\\\Program Files\\\\Java\\\\jdk1.8.0_321\\\\lib', 'CLSID': '{2008562b-07bf-4898-b92c-3018213d16e1}', 'COMMONPROGRAMFILES': 'C:\\\\Program Files\\\\Common Files', 'COMMONPROGRAMFILES(X86)': 'C:\\\\Program Files (x86)\\\\Common Files', 'COMMONPROGRAMW6432': 'C:\\\\Program Files\\\\Common Files', 'COMPUTERNAME': 'DESKTOP-9NQJ5F2', 'COMSPEC': 'C:\\\\WINDOWS\\\\system32\\\\cmd.exe', 'CONDA_DEFAULT_ENV': 'base', 'CONDA_EXE': 'C:\\\\Users\\\\User\\\\anaconda3\\\\condabin\\\\..\\\\Scripts\\\\conda.exe', 'CONDA_PREFIX': 'C:\\\\Users\\\\User\\\\anaconda3', 'CONDA_PROMPT_MODIFIER': '(base) ', 'CONDA_PYTHON_EXE': 'C:\\\\Users\\\\User\\\\anaconda3\\\\python.exe', 'CONDA_SHLVL': '1', 'DRIVERDATA': 'C:\\\\Windows\\\\System32\\\\Drivers\\\\DriverData', 'EFC_4504': '1', 'ELECTRON_RUN_AS_NODE': '1', 'FPS_BROWSER_APP_PROFILE_STRING': 'Internet Explorer', 'FPS_BROWSER_USER_PROFILE_STRING': 'Default', 'HOMEDRIVE': 'C:', 'HOMEPATH': '\\\\Users\\\\User', 'JAVA_HOME': 'C:\\\\Program Files\\\\Java\\\\jdk1.8.0_321', 'JPY_INTERRUPT_EVENT': '3440', 'LOCALAPPDATA': 'C:\\\\Users\\\\User\\\\AppData\\\\Local', 'LOGONSERVER': '\\\\\\\\DESKTOP-9NQJ5F2', 'NUMBER_OF_PROCESSORS': '8', 'ONEDRIVE': 'C:\\\\Users\\\\User\\\\OneDrive', 'ONEDRIVECONSUMER': 'C:\\\\Users\\\\User\\\\OneDrive', 'ORIGINAL_XDG_CURRENT_DESKTOP': 'undefined', 'OS': 'Windows_NT', 'PATH': 'c:\\\\Users\\\\User\\\\anaconda3;C:\\\\Users\\\\User\\\\anaconda3;C:\\\\Users\\\\User\\\\anaconda3\\\\Library\\\\mingw-w64\\\\bin;C:\\\\Users\\\\User\\\\anaconda3\\\\Library\\\\usr\\\\bin;C:\\\\Users\\\\User\\\\anaconda3\\\\Library\\\\bin;C:\\\\Users\\\\User\\\\anaconda3\\\\Scripts;C:\\\\Users\\\\User\\\\anaconda3\\\\bin;C:\\\\Users\\\\User\\\\anaconda3\\\\condabin;C:\\\\app\\\\User\\\\product\\\\18.0.0\\\\dbhomeXE\\\\bin;C:\\\\Program Files (x86)\\\\Intel\\\\iCLS Client;C:\\\\Program Files\\\\Intel\\\\iCLS Client;C:\\\\WINDOWS\\\\system32;C:\\\\WINDOWS;C:\\\\WINDOWS\\\\System32\\\\Wbem;C:\\\\WINDOWS\\\\System32\\\\WindowsPowerShell\\\\v1.0;C:\\\\Program Files\\\\Intel\\\\WiFi\\\\bin;C:\\\\Program Files\\\\Common Files\\\\Intel\\\\WirelessCommon;C:\\\\Program Files (x86)\\\\Intel\\\\Intel(R) Management Engine Components\\\\DAL;C:\\\\Program Files\\\\Intel\\\\Intel(R) Management Engine Components\\\\DAL;C:\\\\Program Files (x86)\\\\Intel\\\\Intel(R) Management Engine Components\\\\IPT;C:\\\\Program Files\\\\Intel\\\\Intel(R) Management Engine Components\\\\IPT;C:\\\\WINDOWS\\\\System32\\\\OpenSSH;C:\\\\Program Files\\\\PuTTY;C:\\\\Users\\\\User\\\\anaconda3;C:\\\\Users\\\\User\\\\anaconda3\\\\Library\\\\bin;C:\\\\Users\\\\User\\\\anaconda3\\\\Scripts;C:\\\\Program Files\\\\dotnet;C:\\\\Program Files\\\\Graphviz\\\\bin\\\\dot.exe;C:\\\\Program Files\\\\Java\\\\jdk1.8.0_321\\\\bin;C:\\\\Users\\\\User\\\\anaconda3;C:\\\\Users\\\\User\\\\anaconda3\\\\Library\\\\mingw-w64\\\\bin;C:\\\\Users\\\\User\\\\anaconda3\\\\Library\\\\usr\\\\bin;C:\\\\Users\\\\User\\\\anaconda3\\\\Library\\\\bin;C:\\\\Users\\\\User\\\\anaconda3\\\\Scripts;C:\\\\Users\\\\User\\\\AppData\\\\Local\\\\Microsoft\\\\WindowsApps;C:\\\\Program Files\\\\Intel\\\\WiFi\\\\bin;C:\\\\Program Files\\\\Common Files\\\\Intel\\\\WirelessCommon;C:\\\\Users\\\\User\\\\AppData\\\\Local\\\\Microsoft\\\\WindowsApps;C:\\\\Users\\\\User\\\\AppData\\\\Local\\\\Programs\\\\Microsoft VS Code\\\\bin;C:\\\\Program Files\\\\Graphviz\\\\bin;.', 'PATHEXT': '.COM;.EXE;.BAT;.CMD;.VBS;.VBE;.JS;.JSE;.WSF;.WSH;.MSC', 'PROCESSOR_ARCHITECTURE': 'AMD64', 'PROCESSOR_IDENTIFIER': 'Intel64 Family 6 Model 142 Stepping 10, GenuineIntel', 'PROCESSOR_LEVEL': '6', 'PROCESSOR_REVISION': '8e0a', 'PROGRAMDATA': 'C:\\\\ProgramData', 'PROGRAMFILES': 'C:\\\\Program Files', 'PROGRAMFILES(X86)': 'C:\\\\Program Files (x86)', 'PROGRAMW6432': 'C:\\\\Program Files', 'PROMPT': '(base) $P$G', 'PSMODULEPATH': 'C:\\\\Program Files\\\\WindowsPowerShell\\\\Modules;C:\\\\WINDOWS\\\\system32\\\\WindowsPowerShell\\\\v1.0\\\\Modules', 'PUBLIC': 'C:\\\\Users\\\\Public', 'PYTHONIOENCODING': 'utf-8', 'PYTHONUNBUFFERED': '1', 'SESSIONNAME': 'Console', 'SYSTEMDRIVE': 'C:', 'SYSTEMROOT': 'C:\\\\WINDOWS', 'TEMP': 'C:\\\\Users\\\\User\\\\AppData\\\\Local\\\\Temp', 'TMP': 'C:\\\\Users\\\\User\\\\AppData\\\\Local\\\\Temp', 'USERDOMAIN': 'DESKTOP-9NQJ5F2', 'USERDOMAIN_ROAMINGPROFILE': 'DESKTOP-9NQJ5F2', 'USERNAME': 'User', 'USERPROFILE': 'C:\\\\Users\\\\User', 'VBOX_MSI_INSTALL_PATH': 'C:\\\\Program Files\\\\Oracle\\\\VirtualBox\\\\', 'VSCODE_AMD_ENTRYPOINT': 'vs/workbench/api/node/extensionHostProcess', 'VSCODE_CODE_CACHE_PATH': 'C:\\\\Users\\\\User\\\\AppData\\\\Roaming\\\\Code\\\\CachedData\\\\d045a5eda657f4d7b676dedbfa7aab8207f8a075', 'VSCODE_CWD': 'C:\\\\Users\\\\User\\\\AppData\\\\Local\\\\Programs\\\\Microsoft VS Code\\\\_', 'VSCODE_HANDLES_UNCAUGHT_ERRORS': 'true', 'VSCODE_IPC_HOOK': '\\\\\\\\.\\\\pipe\\\\ddf78b73f802b4b105ac4da8ec09dfcf-1.72.2-main-sock', 'VSCODE_NLS_CONFIG': '{\"locale\":\"ko\",\"availableLanguages\":{\"*\":\"ko\"},\"_languagePackId\":\"c52c1e49612ff79df6ac4072c56848e2.ko\",\"_translationsConfigFile\":\"C:\\\\\\\\Users\\\\\\\\User\\\\\\\\AppData\\\\\\\\Roaming\\\\\\\\Code\\\\\\\\clp\\\\\\\\c52c1e49612ff79df6ac4072c56848e2.ko\\\\\\\\tcf.json\",\"_cacheRoot\":\"C:\\\\\\\\Users\\\\\\\\User\\\\\\\\AppData\\\\\\\\Roaming\\\\\\\\Code\\\\\\\\clp\\\\\\\\c52c1e49612ff79df6ac4072c56848e2.ko\",\"_resolvedLanguagePackCoreLocation\":\"C:\\\\\\\\Users\\\\\\\\User\\\\\\\\AppData\\\\\\\\Roaming\\\\\\\\Code\\\\\\\\clp\\\\\\\\c52c1e49612ff79df6ac4072c56848e2.ko\\\\\\\\d045a5eda657f4d7b676dedbfa7aab8207f8a075\",\"_corruptedFile\":\"C:\\\\\\\\Users\\\\\\\\User\\\\\\\\AppData\\\\\\\\Roaming\\\\\\\\Code\\\\\\\\clp\\\\\\\\c52c1e49612ff79df6ac4072c56848e2.ko\\\\\\\\corrupted.info\",\"_languagePackSupport\":true}', 'VSCODE_PID': '13316', 'WINDIR': 'C:\\\\WINDOWS', 'PYDEVD_USE_FRAME_EVAL': 'NO', 'TERM': 'xterm-color', 'CLICOLOR': '1', 'PAGER': 'cat', 'GIT_PAGER': 'cat', 'MPLBACKEND': 'module://matplotlib_inline.backend_inline', 'KMP_INIT_AT_FORK': 'FALSE', 'KMP_DUPLICATE_LIB_OK': 'True', 'PYDEVD_IPYTHON_COMPATIBLE_DEBUGGING': '1'})\n",
      "------------------------------------------------------------\n",
      "c:\\Users\\User\\anaconda3;C:\\Users\\User\\anaconda3;C:\\Users\\User\\anaconda3\\Library\\mingw-w64\\bin;C:\\Users\\User\\anaconda3\\Library\\usr\\bin;C:\\Users\\User\\anaconda3\\Library\\bin;C:\\Users\\User\\anaconda3\\Scripts;C:\\Users\\User\\anaconda3\\bin;C:\\Users\\User\\anaconda3\\condabin;C:\\app\\User\\product\\18.0.0\\dbhomeXE\\bin;C:\\Program Files (x86)\\Intel\\iCLS Client;C:\\Program Files\\Intel\\iCLS Client;C:\\WINDOWS\\system32;C:\\WINDOWS;C:\\WINDOWS\\System32\\Wbem;C:\\WINDOWS\\System32\\WindowsPowerShell\\v1.0;C:\\Program Files\\Intel\\WiFi\\bin;C:\\Program Files\\Common Files\\Intel\\WirelessCommon;C:\\Program Files (x86)\\Intel\\Intel(R) Management Engine Components\\DAL;C:\\Program Files\\Intel\\Intel(R) Management Engine Components\\DAL;C:\\Program Files (x86)\\Intel\\Intel(R) Management Engine Components\\IPT;C:\\Program Files\\Intel\\Intel(R) Management Engine Components\\IPT;C:\\WINDOWS\\System32\\OpenSSH;C:\\Program Files\\PuTTY;C:\\Users\\User\\anaconda3;C:\\Users\\User\\anaconda3\\Library\\bin;C:\\Users\\User\\anaconda3\\Scripts;C:\\Program Files\\dotnet;C:\\Program Files\\Graphviz\\bin\\dot.exe;C:\\Program Files\\Java\\jdk1.8.0_321\\bin;C:\\Users\\User\\anaconda3;C:\\Users\\User\\anaconda3\\Library\\mingw-w64\\bin;C:\\Users\\User\\anaconda3\\Library\\usr\\bin;C:\\Users\\User\\anaconda3\\Library\\bin;C:\\Users\\User\\anaconda3\\Scripts;C:\\Users\\User\\AppData\\Local\\Microsoft\\WindowsApps;C:\\Program Files\\Intel\\WiFi\\bin;C:\\Program Files\\Common Files\\Intel\\WirelessCommon;C:\\Users\\User\\AppData\\Local\\Microsoft\\WindowsApps;C:\\Users\\User\\AppData\\Local\\Programs\\Microsoft VS Code\\bin;C:\\Program Files\\Graphviz\\bin;.\n"
     ]
    }
   ],
   "source": [
    "# os\n",
    "# --\n",
    "# os 모듈은 환경 변수나 디렉터리, 파일 등의 OS 자원을 제어할 수 있게 해주는 모듈\n",
    "# -----------------------------------------------------------------------------\n",
    "\n",
    "# 내 시스템의 한경 변수값을 알고 싶을 때 ~ on.environ\n",
    "# ---------------------------------------------------\n",
    "import os\n",
    "\n",
    "print(os.environ)\n",
    "print('-'*60)\n",
    "\n",
    "print(os.environ['PATH'])"
   ]
  },
  {
   "cell_type": "code",
   "execution_count": 36,
   "metadata": {},
   "outputs": [
    {
     "name": "stdout",
     "output_type": "stream",
     "text": [
      "c:\\temp\\test\n",
      " C 드라이브의 볼륨에는 이름이 없습니다.\n",
      " 볼륨 일련 번호: 34CA-6DBE\n",
      "\n",
      " c:\\Temp\\test 디렉터리\n",
      "\n",
      "2023-03-19  오후 10:30    <DIR>          .\n",
      "2023-03-19  오후 10:19    <DIR>          ..\n",
      "2023-03-18  오후 09:30                12 aa.py\n",
      "2023-03-18  오후 09:19                38 foo.txt\n",
      "2023-03-19  오전 01:23    <DIR>          game\n",
      "2023-03-19  오전 12:18               120 mod1.py\n",
      "2023-03-19  오전 12:41               207 mod2.py\n",
      "2023-03-19  오전 12:48               132 modtest.py\n",
      "2023-03-19  오후 07:41               250 random_pop.py\n",
      "2023-03-18  오후 09:35                82 sys2.py\n",
      "2023-03-19  오후 10:34                40 test.txt\n",
      "2023-03-19  오후 07:49    <DIR>          __pycache__\n",
      "2022-06-18  오후 05:46             5,812 개별종목팩터데이터.xlsx\n",
      "2022-06-18  오후 05:46             5,659 국내시장금리.xlsx\n",
      "2022-06-18  오후 05:46             5,660 국내시장금리_20220618.xlsx\n",
      "2023-03-18  오후 09:06               333 새파일.txt\n",
      "2022-06-18  오후 05:49            13,800 이순천_과제01.ipynb\n",
      "2022-06-18  오후 05:49            12,699 이순천_과제02.ipynb\n",
      "2023-03-18  오후 04:17                 0 테스트.txt\n",
      "2023-03-18  오후 04:21                 0 테스트1.txt\n",
      "2023-03-18  오후 04:21                 0 테스트2.txt\n",
      "              17개 파일              44,844 바이트\n",
      "               4개 디렉터리  50,578,341,888 바이트 남음\n",
      "\n"
     ]
    }
   ],
   "source": [
    "# 디렉터리 위치 변경하기 - os.chdir\n",
    "# ----------------------\n",
    "os.chdir('c:/temp/test')\n",
    "\n",
    "\n",
    "# 디렉러리 위치 돌려받기 - os.getcwd\n",
    "# ----------------------\n",
    "print(os.getcwd())\n",
    "\n",
    "\n",
    "# 시스템 명령어 호출하기 - os.system \n",
    "# ----------------------\n",
    "# 시스템 자체의 프로그램이나 기타 명령어를 파이썬에서 호출\n",
    "# -------------------------------------------------------\n",
    "os.system('dir')\n",
    "\n",
    "# 실행한 시스템 명령어의 결괏값 돌려받기 - os.popen\n",
    "# -------------------------------------\n",
    "# os.popen은 시스템 명령어를 실행한 결괏값을 읽기 모드 형태의 파일 객체로 리턴\n",
    "# ---------------------------------------------------------------------------\n",
    "f = os.popen('dir')\n",
    "print(f.read())"
   ]
  },
  {
   "cell_type": "code",
   "execution_count": 34,
   "metadata": {},
   "outputs": [
    {
     "name": "stdout",
     "output_type": "stream",
     "text": [
      "0\n"
     ]
    }
   ],
   "source": [
    "# 기타 유용한 os 관련 함수\n",
    "# -----------------------\n",
    "\n",
    "# os.mkdir(디렉터리)\n",
    "# ------------------\n",
    "\n",
    "# os.rmdir(디렉터리)\n",
    "# ------------------\n",
    "\n",
    "# os.unlink(파일) - 파일을 지운다\n",
    "# ---------------\n",
    "\n",
    "# os.rename(src, dst)\n",
    "# -------------------"
   ]
  },
  {
   "cell_type": "code",
   "execution_count": null,
   "metadata": {},
   "outputs": [],
   "source": [
    "# zipfile\n",
    "# -------\n",
    "# zipfile은 여러 개의 파일을 zip 형식으로 합치거나 이를 해제할 때 사용하는 모듈\n",
    "# ----------------------------------------------------------------------------\n",
    "import zipfile\n",
    "\n",
    "# 파일 합치기\n",
    "# -----------\n",
    "with zipfile.ZipFile('c:/temp/test/mytest.zip', 'w') as myzip:\n",
    "    myzip.write('c:/temp/test/a.txt')\n",
    "    myzip.write('c:/temp/test/b.txt')\n",
    "    myzip.write('c:/temp/test/c.txt')\n",
    "    \n",
    "\n",
    "# 해제하기\n",
    "# --------\n",
    "with zipfile.ZipFile('c:/temp/test/mytest.zip') as myzip:\n",
    "    myzip.extractall()\n",
    "    \n",
    "\n",
    "# 특정 파일만 해제\n",
    "# ----------------\n",
    "with zipfile.ZipFile('c:/temp/test/mytest.zip') as myzip:\n",
    "    myzip.extract('c:/temp/test/a.txt')"
   ]
  },
  {
   "cell_type": "code",
   "execution_count": null,
   "metadata": {},
   "outputs": [],
   "source": [
    "with zipfile.ZipFile('c:/temp/test/mytest.zip') as myzip:\n",
    "    myzip.extract('a.txt')"
   ]
  },
  {
   "cell_type": "code",
   "execution_count": null,
   "metadata": {},
   "outputs": [],
   "source": []
  },
  {
   "cell_type": "code",
   "execution_count": null,
   "metadata": {},
   "outputs": [],
   "source": [
    "with zipfile.ZipFile('c:/temp/test/mytest.zip') as myzip:\n",
    "    myzip.extract('c:/temp/test/a.txt')"
   ]
  },
  {
   "cell_type": "code",
   "execution_count": null,
   "metadata": {},
   "outputs": [],
   "source": []
  }
 ],
 "metadata": {
  "kernelspec": {
   "display_name": "Python 3.9.12 ('base')",
   "language": "python",
   "name": "python3"
  },
  "language_info": {
   "codemirror_mode": {
    "name": "ipython",
    "version": 3
   },
   "file_extension": ".py",
   "mimetype": "text/x-python",
   "name": "python",
   "nbconvert_exporter": "python",
   "pygments_lexer": "ipython3",
   "version": "3.9.12"
  },
  "orig_nbformat": 4,
  "vscode": {
   "interpreter": {
    "hash": "f08154012ddadd8e950e6e9e035c7a7b32c136e7647e9b7c77e02eb723a8bedb"
   }
  }
 },
 "nbformat": 4,
 "nbformat_minor": 2
}
