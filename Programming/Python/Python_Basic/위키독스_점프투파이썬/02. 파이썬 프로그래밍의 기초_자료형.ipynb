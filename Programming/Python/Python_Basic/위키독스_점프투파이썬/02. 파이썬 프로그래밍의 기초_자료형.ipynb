{
 "cells": [
  {
   "cell_type": "code",
   "execution_count": 1,
   "metadata": {},
   "outputs": [
    {
     "data": {
      "text/plain": [
       "10"
      ]
     },
     "execution_count": 1,
     "metadata": {},
     "output_type": "execute_result"
    }
   ],
   "source": [
    "a = 0xA\n",
    "a"
   ]
  },
  {
   "cell_type": "code",
   "execution_count": 2,
   "metadata": {},
   "outputs": [
    {
     "data": {
      "text/plain": [
       "'abc'"
      ]
     },
     "execution_count": 2,
     "metadata": {},
     "output_type": "execute_result"
    }
   ],
   "source": [
    "\"\"\"abc\"\"\""
   ]
  },
  {
   "cell_type": "code",
   "execution_count": 13,
   "metadata": {},
   "outputs": [],
   "source": [
    "aa = \"aa인생은\"\n",
    "len(aa)\n",
    "bb = \"20230315Rainy\""
   ]
  },
  {
   "cell_type": "code",
   "execution_count": 21,
   "metadata": {},
   "outputs": [
    {
     "data": {
      "text/plain": [
       "('20230315', 'Rainy')"
      ]
     },
     "execution_count": 21,
     "metadata": {},
     "output_type": "execute_result"
    }
   ],
   "source": [
    "aa[3], aa[4], aa[-1], aa[1:3], aa[2:], aa[:3]\n",
    "date = bb[:8]; weather = bb[8:]\n",
    "date, weather"
   ]
  },
  {
   "cell_type": "code",
   "execution_count": 23,
   "metadata": {},
   "outputs": [
    {
     "data": {
      "text/plain": [
       "'Python'"
      ]
     },
     "execution_count": 23,
     "metadata": {},
     "output_type": "execute_result"
    }
   ],
   "source": [
    "cc = \"Pithon\"\n",
    "cc[:1]+\"y\"+cc[2:]"
   ]
  },
  {
   "cell_type": "code",
   "execution_count": 25,
   "metadata": {},
   "outputs": [
    {
     "data": {
      "text/plain": [
       "'Python'"
      ]
     },
     "execution_count": 25,
     "metadata": {},
     "output_type": "execute_result"
    }
   ],
   "source": [
    "cc.replace(\"i\",\"y\")"
   ]
  },
  {
   "cell_type": "code",
   "execution_count": 37,
   "metadata": {},
   "outputs": [
    {
     "data": {
      "text/plain": [
       "'i ate 10 apples. so I was sick for three days.'"
      ]
     },
     "execution_count": 37,
     "metadata": {},
     "output_type": "execute_result"
    }
   ],
   "source": [
    "\"I eat %d apples.\" %3\n",
    "\"I eat %f apples\" %3.0\n",
    "\"I eat %s apples.\" % \"five\"\n",
    "number = 3\n",
    "\"I eat %d apples\" % number\n",
    "number = 10; day = \"three\"\n",
    "\"i ate %d apples. so I was sick for %s days.\" %(number, day)"
   ]
  },
  {
   "cell_type": "code",
   "execution_count": 40,
   "metadata": {},
   "outputs": [
    {
     "data": {
      "text/plain": [
       "'10 is 8진수 : 12 이고 16진수로는 a'"
      ]
     },
     "execution_count": 40,
     "metadata": {},
     "output_type": "execute_result"
    }
   ],
   "source": [
    "char = \"a\"\n",
    "\"First alphabet is %c %%\" %char\n",
    "\"%d is 8진수 : %o 이고 16진수로는 %x\" %(10, 10, 10)"
   ]
  },
  {
   "cell_type": "code",
   "execution_count": 43,
   "metadata": {},
   "outputs": [
    {
     "data": {
      "text/plain": [
       "'4 + 4 은 8이다.'"
      ]
     },
     "execution_count": 43,
     "metadata": {},
     "output_type": "execute_result"
    }
   ],
   "source": [
    "\"%s + %s 은 %s이다.\" %(4, 4, 4+4)"
   ]
  },
  {
   "cell_type": "code",
   "execution_count": 48,
   "metadata": {},
   "outputs": [
    {
     "data": {
      "text/plain": [
       "'4%'"
      ]
     },
     "execution_count": 48,
     "metadata": {},
     "output_type": "execute_result"
    }
   ],
   "source": [
    "\"%d%%\" % 4"
   ]
  },
  {
   "cell_type": "code",
   "execution_count": 55,
   "metadata": {},
   "outputs": [
    {
     "data": {
      "text/plain": [
       "'3.1416    '"
      ]
     },
     "execution_count": 55,
     "metadata": {},
     "output_type": "execute_result"
    }
   ],
   "source": [
    "\"%10s\" % \"hi\"\n",
    "\"%-10sjain\" % \"hi\"\n",
    "\"%0.4f\" % 3.141592\n",
    "\"%10.4f\" % 3.141592\n",
    "\"%-10.4f\" % 3.141592"
   ]
  },
  {
   "cell_type": "code",
   "execution_count": 60,
   "metadata": {},
   "outputs": [
    {
     "data": {
      "text/plain": [
       "'I ate 3 apples. so I was sick for 3 days.'"
      ]
     },
     "execution_count": 60,
     "metadata": {},
     "output_type": "execute_result"
    }
   ],
   "source": [
    "\"I eat {0} apples\".format(3)\n",
    "\"I eat {0} apples\".format(\"five\")\n",
    "number = 3\n",
    "\"I eat {0} apples.\".format(number)\n",
    "\n",
    "\"I ate {0} apples. so I was sick for {1} days.\".format(number, number)\n"
   ]
  },
  {
   "cell_type": "code",
   "execution_count": 61,
   "metadata": {},
   "outputs": [
    {
     "data": {
      "text/plain": [
       "'I ate 3 apples. so I was sick for 4 days.'"
      ]
     },
     "execution_count": 61,
     "metadata": {},
     "output_type": "execute_result"
    }
   ],
   "source": [
    "\"I ate {number} apples. so I was sick for {day} days.\".format(number=3, day=4)"
   ]
  },
  {
   "cell_type": "code",
   "execution_count": 72,
   "metadata": {},
   "outputs": [
    {
     "name": "stdout",
     "output_type": "stream",
     "text": [
      "I ate 4 apples    \n",
      "I ate 4     apples\n",
      "I ate 4   apples  \n",
      "I ate 4 apples    \n"
     ]
    }
   ],
   "source": [
    "print(\"I ate 4 {0:<10}\".format(\"apples\"))\n",
    "print(\"I ate 4 {0:>10}\".format(\"apples\"))\n",
    "print(\"I ate 4 {0:^10}\".format(\"apples\"))\n",
    "print(\"I ate 4 {f:<10}\".format(f=\"apples\"))"
   ]
  },
  {
   "cell_type": "code",
   "execution_count": 74,
   "metadata": {},
   "outputs": [
    {
     "name": "stdout",
     "output_type": "stream",
     "text": [
      "I ate ==apples==\n",
      "I ate !!apples!!\n"
     ]
    }
   ],
   "source": [
    "print(\"I ate {0:=^10}\".format(\"apples\"))\n",
    "print(\"I ate {0:!^10}\".format(\"apples\"))"
   ]
  },
  {
   "cell_type": "code",
   "execution_count": 90,
   "metadata": {},
   "outputs": [
    {
     "name": "stdout",
     "output_type": "stream",
     "text": [
      "4.1416\n",
      "    3.1416\n",
      "    3.1416\n",
      "####3.1416\n"
     ]
    }
   ],
   "source": [
    "y = 3.141592\n",
    "print(\"{0:<1.4f}\".format(y+1))\n",
    "print(\"{0:>10.4f}\".format(y))\n",
    "print(\"{0:>10.4f}\".format(y))\n",
    "print(\"{0:#>10.4f}\".format(y))"
   ]
  },
  {
   "cell_type": "code",
   "execution_count": 87,
   "metadata": {},
   "outputs": [
    {
     "name": "stdout",
     "output_type": "stream",
     "text": [
      "{ and }\n"
     ]
    }
   ],
   "source": [
    "print(\"{{ and }}\".format())"
   ]
  },
  {
   "cell_type": "code",
   "execution_count": null,
   "metadata": {},
   "outputs": [],
   "source": [
    "print(\"%-10.4f\" % 3.141592)"
   ]
  },
  {
   "cell_type": "code",
   "execution_count": 97,
   "metadata": {},
   "outputs": [
    {
     "name": "stdout",
     "output_type": "stream",
     "text": [
      "나의 이름은 홍길동        이다. 나이는 30 임\n",
      "나의 이름은 홍길동 이다. 나이는 31 임\n"
     ]
    }
   ],
   "source": [
    "name = '홍길동'\n",
    "age = 30\n",
    "#f'나의 이름은 {name} 이다. 나이는 {age} 임'\n",
    "print(f'나의 이름은 {name:<10} 이다. 나이는 {age} 임')\n",
    "print(f'나의 이름은 {name} 이다. 나이는 {age+1} 임')"
   ]
  },
  {
   "cell_type": "code",
   "execution_count": 99,
   "metadata": {},
   "outputs": [
    {
     "name": "stdout",
     "output_type": "stream",
     "text": [
      "나의 이름은 홍길동 이다. 나이는 30 임\n",
      "나의 이름은 홍길동                  이다. 나이는         31 임\n",
      "나의 이름은 홍길동================= 이다. 나이는 ========31 임\n"
     ]
    }
   ],
   "source": [
    "d = {'name':'홍길동', 'age':30}\n",
    "print(f'나의 이름은 {d[\"name\"]} 이다. 나이는 {d[\"age\"]} 임')\n",
    "print(f'나의 이름은 {d[\"name\"]:<20} 이다. 나이는 {d[\"age\"]+1:>10} 임')\n",
    "print(f'나의 이름은 {d[\"name\"]:=<20} 이다. 나이는 {d[\"age\"]+1:=>10} 임')\n",
    "\n"
   ]
  },
  {
   "cell_type": "code",
   "execution_count": 101,
   "metadata": {},
   "outputs": [
    {
     "name": "stdout",
     "output_type": "stream",
     "text": [
      "나의 이름은 홍길동================= 이다. 나이는 =============31.1234 임\n"
     ]
    }
   ],
   "source": [
    "d = {'name':'홍길동', 'age':30.1234333}\n",
    "\n",
    "print(f'나의 이름은 {d[\"name\"]:=<20} 이다. 나이는 {d[\"age\"]+1:=>20.4f} 임')"
   ]
  },
  {
   "cell_type": "code",
   "execution_count": 112,
   "metadata": {},
   "outputs": [
    {
     "name": "stdout",
     "output_type": "stream",
     "text": [
      "1\n",
      "14\n",
      "4\n",
      "-1\n",
      "14\n",
      "4\n"
     ]
    }
   ],
   "source": [
    "# count ~ 선택한 문자 갯수 반환\n",
    "# -----\n",
    "a = 'hobby대한민국'\n",
    "print(a.count('국'))\n",
    "\n",
    "\n",
    "# find ~ 위치 인덱스 반환\n",
    "# ----\n",
    "a = 'Python is the best choice'\n",
    "print(a.find('b'))\n",
    "print(a.find('o'))  # 문자 중복시 첫번째 문자의 위치 인덱스 반환\n",
    "print(a.find('z'))  # 찾는 문자 없으면 -1 반환\n",
    "\n",
    "\n",
    "# index ~ 위치 인덱스 알려주기\n",
    "# -----\n",
    "a = 'Python is the best choice'\n",
    "print(a.index('b'))\n",
    "print(a.index('o'))  # 문자 중복시 첫번째 문자의 위치 인덱스 반환\n",
    "# print(a.index('z'))  # 찾는 문자 없으면 오류 발생"
   ]
  },
  {
   "cell_type": "code",
   "execution_count": 114,
   "metadata": {},
   "outputs": [
    {
     "name": "stdout",
     "output_type": "stream",
     "text": [
      "a,b,c,d\n",
      "a,b,c,d\n",
      "HI\n",
      "hi\n"
     ]
    }
   ],
   "source": [
    "# join ~ 문자열 삽입\n",
    "# ----\n",
    "print(\",\".join('abcd'))\n",
    "print(\",\".join(['a','b','c','d']))\n",
    "\n",
    "\n",
    "# upper ~ 소문자를 대문자로 바꾸기\n",
    "# -----\n",
    "a = 'hi'\n",
    "print(a.upper())\n",
    "\n",
    "\n",
    "# lower ~ 대문자를 소문자로 바꾸기\n",
    "# -----\n",
    "a = 'HI'\n",
    "print(a.lower())"
   ]
  },
  {
   "cell_type": "code",
   "execution_count": 127,
   "metadata": {},
   "outputs": [
    {
     "name": "stdout",
     "output_type": "stream",
     "text": [
      "hi    \n",
      "hi\n",
      "     hi\n",
      "          hi\n",
      "hi\n",
      "hi\n"
     ]
    }
   ],
   "source": [
    "# lstrip ~ 왼쪽 공백 지우기\n",
    "# ------\n",
    "a = '     hi    '\n",
    "print(f'{a.lstrip():=^}')\n",
    "print('     hi'.lstrip())\n",
    "\n",
    "\n",
    "# rstrip ~ 오른쪽 공백 지우기\n",
    "# ------\n",
    "a = '     hi    '\n",
    "print(f'{a.rstrip():=^}')\n",
    "print('          hi     '.rstrip())\n",
    "\n",
    "\n",
    "# strip ~ 양쪽 공백 지우기\n",
    "# -----\n",
    "a = '     hi    '\n",
    "print(f'{a.strip():=^}')\n",
    "print('          hi     '.strip())\n"
   ]
  },
  {
   "cell_type": "code",
   "execution_count": 128,
   "metadata": {},
   "outputs": [
    {
     "data": {
      "text/plain": [
       "'Your leg is too short'"
      ]
     },
     "execution_count": 128,
     "metadata": {},
     "output_type": "execute_result"
    }
   ],
   "source": [
    "# replace ~ 문자열 바꾸기\n",
    "# -------\n",
    "a = 'Life is too short'\n",
    "a.replace('Life', 'Your leg')"
   ]
  },
  {
   "cell_type": "code",
   "execution_count": 132,
   "metadata": {},
   "outputs": [
    {
     "name": "stdout",
     "output_type": "stream",
     "text": [
      "['Life', 'is', 'too', 'short']\n",
      "['a', 'b', 'c', 'd']\n"
     ]
    }
   ],
   "source": [
    "# split ~ 문자열 나누기\n",
    "# -----\n",
    "a = 'Life is too short'\n",
    "print(a.split())\n",
    "\n",
    "b = 'a:b:c:d'\n",
    "print(b.split(':'))"
   ]
  },
  {
   "cell_type": "code",
   "execution_count": 136,
   "metadata": {},
   "outputs": [
    {
     "data": {
      "text/plain": [
       "3"
      ]
     },
     "execution_count": 136,
     "metadata": {},
     "output_type": "execute_result"
    }
   ],
   "source": [
    "# 리스트 인덱싱\n",
    "# ------------\n",
    "a = [1, 2, 3]\n",
    "a, a[0], a[0] + a[1]\n",
    "a[-1]\n"
   ]
  },
  {
   "cell_type": "code",
   "execution_count": 145,
   "metadata": {},
   "outputs": [
    {
     "data": {
      "text/plain": [
       "['a', 'b']"
      ]
     },
     "execution_count": 145,
     "metadata": {},
     "output_type": "execute_result"
    }
   ],
   "source": [
    "a = [1,2,3,['a','b','c']]\n",
    "a, a[-1], a[3]\n",
    "a[3][0:2]"
   ]
  },
  {
   "cell_type": "code",
   "execution_count": 147,
   "metadata": {},
   "outputs": [
    {
     "data": {
      "text/plain": [
       "'is'"
      ]
     },
     "execution_count": 147,
     "metadata": {},
     "output_type": "execute_result"
    }
   ],
   "source": [
    "a = [1, 2, ['a', 'b', ['Life', 'is']]]\n",
    "a[2][2][-1]"
   ]
  },
  {
   "cell_type": "code",
   "execution_count": 156,
   "metadata": {},
   "outputs": [
    {
     "name": "stdout",
     "output_type": "stream",
     "text": [
      "[3, ['a', 'b', 'c']]\n",
      "3\n",
      "['a', 'b', 'c']\n",
      "['a', 'b', 'c']\n"
     ]
    }
   ],
   "source": [
    "a = [1,2,3,['a','b','c']]\n",
    "print(a[2:4])\n",
    "print(a[2:4][0])\n",
    "print(a[2:4][1])\n",
    "print(a[3])"
   ]
  },
  {
   "cell_type": "code",
   "execution_count": 160,
   "metadata": {},
   "outputs": [
    {
     "name": "stdout",
     "output_type": "stream",
     "text": [
      "[1, 2]\n",
      "[3, 4, 5]\n"
     ]
    }
   ],
   "source": [
    "a = [1,2,3,4,5]\n",
    "print(a[:2])\n",
    "print(a[2:])"
   ]
  },
  {
   "cell_type": "code",
   "execution_count": 163,
   "metadata": {},
   "outputs": [
    {
     "name": "stdout",
     "output_type": "stream",
     "text": [
      "[3, ['a', 'b', 'c'], 4]\n",
      "['a', 'b']\n"
     ]
    }
   ],
   "source": [
    "a = [1, 2, 3, ['a', 'b', 'c'], 4, 5]\n",
    "print(a[2:5])\n",
    "print(a[3][:2])"
   ]
  },
  {
   "cell_type": "code",
   "execution_count": 167,
   "metadata": {},
   "outputs": [
    {
     "name": "stdout",
     "output_type": "stream",
     "text": [
      "[1, 2, 3, 4, 5, 6]\n",
      "[1, 2, 3, 1, 2, 3, 1, 2, 3]\n"
     ]
    }
   ],
   "source": [
    "# 리스트 연산하기\n",
    "# --------------\n",
    "\n",
    "a = [1,2,3]\n",
    "b = [4,5,6]\n",
    "\n",
    "print(a + b)\n",
    "print(a * 3 )"
   ]
  },
  {
   "cell_type": "code",
   "execution_count": 168,
   "metadata": {},
   "outputs": [
    {
     "data": {
      "text/plain": [
       "3"
      ]
     },
     "execution_count": 168,
     "metadata": {},
     "output_type": "execute_result"
    }
   ],
   "source": [
    "# 리스트 길이 구하기\n",
    "# ----------------\n",
    "a = [1,2,3]\n",
    "len(a)"
   ]
  },
  {
   "cell_type": "code",
   "execution_count": 171,
   "metadata": {},
   "outputs": [
    {
     "data": {
      "text/plain": [
       "'1 hi'"
      ]
     },
     "execution_count": 171,
     "metadata": {},
     "output_type": "execute_result"
    }
   ],
   "source": [
    "# 숫자를 문자형으로 변경\n",
    "# --------------------\n",
    "a = [1,2,3]\n",
    "str(a[0]) + ' hi'"
   ]
  },
  {
   "cell_type": "code",
   "execution_count": 174,
   "metadata": {},
   "outputs": [
    {
     "data": {
      "text/plain": [
       "[1, 2]"
      ]
     },
     "execution_count": 174,
     "metadata": {},
     "output_type": "execute_result"
    }
   ],
   "source": [
    "# 시스트의 수정과 삭제\n",
    "# -------------------\n",
    "a = [1,2,3]\n",
    "a[2] = 4\n",
    "a\n",
    "\n",
    "del a[1]\n",
    "a\n",
    "\n",
    "a = [1,2,3,4,5]\n",
    "del a[2:]\n",
    "a"
   ]
  },
  {
   "cell_type": "code",
   "execution_count": 179,
   "metadata": {},
   "outputs": [
    {
     "data": {
      "text/plain": [
       "[1, 2, 3, 4, [5, 6]]"
      ]
     },
     "execution_count": 179,
     "metadata": {},
     "output_type": "execute_result"
    }
   ],
   "source": [
    "# 리스트 관련 함수\n",
    "# ---------------\n",
    "a = [1,2,3]\n",
    "a.append(4)\n",
    "a\n",
    "a.append([5,6])\n",
    "a\n"
   ]
  },
  {
   "cell_type": "code",
   "execution_count": 184,
   "metadata": {},
   "outputs": [
    {
     "data": {
      "text/plain": [
       "['a', 'b', 'c']"
      ]
     },
     "execution_count": 184,
     "metadata": {},
     "output_type": "execute_result"
    }
   ],
   "source": [
    "# 리스트 정렬(sort)\n",
    "# ----------------\n",
    "a = [1,4,3,2]\n",
    "a.sort()\n",
    "a\n",
    "\n",
    "a = ['a','c','b']\n",
    "a.sort()\n",
    "a"
   ]
  },
  {
   "cell_type": "code",
   "execution_count": 186,
   "metadata": {},
   "outputs": [
    {
     "data": {
      "text/plain": [
       "['b', 'c', 'a']"
      ]
     },
     "execution_count": 186,
     "metadata": {},
     "output_type": "execute_result"
    }
   ],
   "source": [
    "# 리스트 뒤집기(reverse)\n",
    "# ---------------------\n",
    "a = ['a','c','b']\n",
    "a.reverse()\n",
    "a"
   ]
  },
  {
   "cell_type": "code",
   "execution_count": 189,
   "metadata": {},
   "outputs": [
    {
     "name": "stdout",
     "output_type": "stream",
     "text": [
      "['a', 'c', 'b']\n",
      "['b', 'c', 'a']\n"
     ]
    }
   ],
   "source": [
    "a = ['a','c','b']\n",
    "print(a[:])\n",
    "print(a[::-1])"
   ]
  },
  {
   "cell_type": "code",
   "execution_count": 195,
   "metadata": {},
   "outputs": [
    {
     "name": "stdout",
     "output_type": "stream",
     "text": [
      "2\n"
     ]
    },
    {
     "data": {
      "text/plain": [
       "0"
      ]
     },
     "execution_count": 195,
     "metadata": {},
     "output_type": "execute_result"
    }
   ],
   "source": [
    "# 인덱스 반환(index)\n",
    "# -----------------\n",
    "a = [1,2,3,1,2,3]\n",
    "print(a.index(3))\n",
    "a.index(1)"
   ]
  },
  {
   "cell_type": "code",
   "execution_count": 198,
   "metadata": {},
   "outputs": [
    {
     "data": {
      "text/plain": [
       "[4, 1, 2, 5, 3]"
      ]
     },
     "execution_count": 198,
     "metadata": {},
     "output_type": "execute_result"
    }
   ],
   "source": [
    "# 리스트에 요소 삽입\n",
    "# ----------------\n",
    "a = [1,2,3]\n",
    "a.insert(0,4)\n",
    "a\n",
    "a.insert(3,5)\n",
    "a"
   ]
  },
  {
   "cell_type": "code",
   "execution_count": 200,
   "metadata": {},
   "outputs": [
    {
     "data": {
      "text/plain": [
       "[2, 3, 2, 3]"
      ]
     },
     "execution_count": 200,
     "metadata": {},
     "output_type": "execute_result"
    }
   ],
   "source": [
    "# 리스트 요소 제거(remove)\n",
    "# -----------------------\n",
    "a = [1,2,3,1,2,3]\n",
    "a.remove(1)\n",
    "a\n",
    "a.remove(1)\n",
    "a"
   ]
  },
  {
   "cell_type": "code",
   "execution_count": 207,
   "metadata": {},
   "outputs": [
    {
     "data": {
      "text/plain": [
       "[1]"
      ]
     },
     "execution_count": 207,
     "metadata": {},
     "output_type": "execute_result"
    }
   ],
   "source": [
    "# 리스트 요소 끄집어 내기(pop)\n",
    "# --------------------------\n",
    "a = [1,2,3]\n",
    "a.pop(1)\n",
    "a.pop()\n",
    "a"
   ]
  },
  {
   "cell_type": "code",
   "execution_count": 208,
   "metadata": {},
   "outputs": [
    {
     "data": {
      "text/plain": [
       "2"
      ]
     },
     "execution_count": 208,
     "metadata": {},
     "output_type": "execute_result"
    }
   ],
   "source": [
    "# 리스트에 포함된 요소 x의 개수 세기(count)\n",
    "# --------------------------------------\n",
    "a = [1,2,3,1]\n",
    "a.count(1)"
   ]
  },
  {
   "cell_type": "code",
   "execution_count": 210,
   "metadata": {},
   "outputs": [
    {
     "data": {
      "text/plain": [
       "[1, 2, 3, 4, 5, 'a', 'b']"
      ]
     },
     "execution_count": 210,
     "metadata": {},
     "output_type": "execute_result"
    }
   ],
   "source": [
    "# 리스트 확장(extend)\n",
    "# ------------------\n",
    "a = [1,2,3]\n",
    "a.extend([4,5])\n",
    "a\n",
    "b = ['a','b']\n",
    "a.extend(b)\n",
    "a"
   ]
  },
  {
   "cell_type": "code",
   "execution_count": 212,
   "metadata": {},
   "outputs": [
    {
     "data": {
      "text/plain": [
       "[1, 2, 3, 4, 5]"
      ]
     },
     "execution_count": 212,
     "metadata": {},
     "output_type": "execute_result"
    }
   ],
   "source": [
    "a = [1,2,3]\n",
    "a.extend([4,5])\n",
    "a"
   ]
  },
  {
   "cell_type": "code",
   "execution_count": 213,
   "metadata": {},
   "outputs": [
    {
     "data": {
      "text/plain": [
       "[1, 2, 3, 4, 5]"
      ]
     },
     "execution_count": 213,
     "metadata": {},
     "output_type": "execute_result"
    }
   ],
   "source": [
    "a = [1,2,3]\n",
    "a += [4,5]\n",
    "a"
   ]
  },
  {
   "cell_type": "code",
   "execution_count": 216,
   "metadata": {},
   "outputs": [
    {
     "data": {
      "text/plain": [
       "[1, 2, 3, 4, 5]"
      ]
     },
     "execution_count": 216,
     "metadata": {},
     "output_type": "execute_result"
    }
   ],
   "source": [
    "a = [1,2,3]\n",
    "a = a + [4,5]\n",
    "a"
   ]
  },
  {
   "cell_type": "code",
   "execution_count": 217,
   "metadata": {},
   "outputs": [],
   "source": [
    "# 튜플"
   ]
  },
  {
   "cell_type": "code",
   "execution_count": 218,
   "metadata": {},
   "outputs": [],
   "source": [
    "t1 = ()\n",
    "t2 = (1,)\n",
    "t3 = (1,2,3)\n",
    "t4 = 1,2,3\n",
    "t5 = ('a','b',('ab','cd'))"
   ]
  },
  {
   "cell_type": "code",
   "execution_count": 228,
   "metadata": {},
   "outputs": [
    {
     "data": {
      "text/plain": [
       "('a', 'b', ('ab', 'cd'))"
      ]
     },
     "execution_count": 228,
     "metadata": {},
     "output_type": "execute_result"
    }
   ],
   "source": [
    "t5"
   ]
  },
  {
   "cell_type": "code",
   "execution_count": null,
   "metadata": {},
   "outputs": [],
   "source": []
  },
  {
   "cell_type": "code",
   "execution_count": null,
   "metadata": {},
   "outputs": [],
   "source": []
  },
  {
   "cell_type": "code",
   "execution_count": null,
   "metadata": {},
   "outputs": [],
   "source": []
  },
  {
   "cell_type": "code",
   "execution_count": null,
   "metadata": {},
   "outputs": [],
   "source": []
  },
  {
   "cell_type": "code",
   "execution_count": null,
   "metadata": {},
   "outputs": [],
   "source": []
  },
  {
   "cell_type": "code",
   "execution_count": null,
   "metadata": {},
   "outputs": [],
   "source": []
  }
 ],
 "metadata": {
  "kernelspec": {
   "display_name": "Python 3.9.7 ('base')",
   "language": "python",
   "name": "python3"
  },
  "language_info": {
   "codemirror_mode": {
    "name": "ipython",
    "version": 3
   },
   "file_extension": ".py",
   "mimetype": "text/x-python",
   "name": "python",
   "nbconvert_exporter": "python",
   "pygments_lexer": "ipython3",
   "version": "3.9.7"
  },
  "orig_nbformat": 4,
  "vscode": {
   "interpreter": {
    "hash": "263930470851f494f0ed2879c35b57985588df20f9e529b86e97dd5eb9ddc466"
   }
  }
 },
 "nbformat": 4,
 "nbformat_minor": 2
}
