{
 "cells": [
  {
   "attachments": {},
   "cell_type": "markdown",
   "metadata": {},
   "source": [
    "## 08-1 정규 표현식 살펴보기"
   ]
  },
  {
   "attachments": {},
   "cell_type": "markdown",
   "metadata": {},
   "source": [
    "### 정규 표현식은 왜 필요한가?"
   ]
  },
  {
   "cell_type": "code",
   "execution_count": 6,
   "metadata": {},
   "outputs": [
    {
     "name": "stdout",
     "output_type": "stream",
     "text": [
      "\n",
      "park 800905-*******\n",
      "kim  700905-*******\n",
      "\n",
      "\n",
      "park 800905-*******\n",
      "kim  700905-*******\n",
      "\n"
     ]
    }
   ],
   "source": [
    "# 과제\n",
    "# ----\n",
    "# 주민등록번호를 포함하고 있는 텍스트가 있다. 이 텍스트에 포함된 모든 주민등록번호의 뒷자리를 * 문자로 변경해 보자.\n",
    "# --------------------------------------------------------------------------------------------------------\n",
    "\n",
    "# 정규식을 모르는 경우\n",
    "# ------------------\n",
    "# 1. 전체 텍스트를 공백 문자로 나눈다(split).\n",
    "# 2. 나뉜 단어가 주민등록번호 형식인지 조사한다.\n",
    "# 3. 단어가 주민등록번호 형식이라면 뒷자리를 *로 변환한다.\n",
    "# 4. 나뉜 단어를 다시 조립한다.\n",
    "# 5. 이를 구현한 코드는 아마도 다음과 같을 것이다.\n",
    "# ----------------------------------------------------\n",
    "data = \"\"\"\n",
    "park 800905-1049118\n",
    "kim  700905-1059119\n",
    "\"\"\"\n",
    "\n",
    "result = []\n",
    "for line in data.split('\\n'):\n",
    "    word_result = []\n",
    "    for word in line.split(' '):\n",
    "        if len(word) == 14 and word[:6].isdigit() and word[7:].isdigit():\n",
    "            word = word[:6] + '-' + '*******'\n",
    "        word_result.append(word)\n",
    "    result.append(' '.join(word_result))\n",
    "\n",
    "result_data = '\\n'.join(result)\n",
    "print(result_data)\n",
    "\n",
    "\n",
    "# 정규식을 이용\n",
    "# ------------\n",
    "import re\n",
    "\n",
    "data = \"\"\"\n",
    "park 800905-1049118\n",
    "kim  700905-1059119\n",
    "\"\"\"\n",
    "pat = re.compile('(\\d{6})[-]\\d{7}')\n",
    "print(pat.sub('\\g<1>-*******', data))\n",
    "\n",
    "\n"
   ]
  },
  {
   "attachments": {},
   "cell_type": "markdown",
   "metadata": {},
   "source": [
    "## 08-2 정규 표현식 시작하기"
   ]
  },
  {
   "attachments": {},
   "cell_type": "markdown",
   "metadata": {},
   "source": [
    "### 정규 표현식의 기초, 메타 문자"
   ]
  },
  {
   "cell_type": "code",
   "execution_count": 4,
   "metadata": {},
   "outputs": [
    {
     "data": {
      "text/plain": [
       "'1 2 3'"
      ]
     },
     "execution_count": 4,
     "metadata": {},
     "output_type": "execute_result"
    }
   ],
   "source": [
    "# 정규 표현식 메타 문자\n",
    "# -------------------\n",
    "# . ^ $ * + ? { } [ ] \\ | ( )\n",
    "# 정규 표현식에서 메타 문자를 사용하면 특별한 의미를 가지게 됨\n",
    "# -------------------------------------------------------\n",
    "\n",
    "# 문자 클래스 []\n",
    "# -------------\n",
    "# [] 사이의 문자들과 매치\n",
    "# 문자 클래스를 만드는 메타 문자인 [] 사이에는 어떤 문자도 들어갈 수 있다\n",
    "# 즉 정규 표현식이 [abc]라면 이 표현식의 의미는 \"a, b, c 중 한 개의 문자와 매치\"를 뜻한다. \n",
    "# 이해를 돕기 위해 문자열 \"a\", \"before\", \"dude\"가 정규식 [abc]와 어떻게 매치되는지 살펴보자.\n",
    "\n",
    "# \"a\"는 정규식과 일치하는 문자인 \"a\"가 있으므로 매치\n",
    "# \"before\"는 정규식과 일치하는 문자인 \"b\"가 있으므로 매치\n",
    "# \"dude\"는 정규식과 일치하는 문자인 a, b, c 중 어느 하나도 포함하고 있지 않으므로 매치되지 않음\n",
    "\n",
    "# [ ] 안의 두 문자 사이에 하이픈(-)을 사용하면 두 문자 사이의 범위(From - To)를 의미한다. \n",
    "# 예를 들어 [a-c]라는 정규 표현식은 [abc]와 동일하고 [0-5]는 [012345]와 동일하다.\n",
    "# 다음은 하이픈(-)을 사용한 문자 클래스의 사용 예이다.\n",
    "# [a-zA-Z] : 알파벳 모두\n",
    "# [0-9] : 숫자\n",
    "\n",
    "# 문자 클래스([ ]) 안에는 어떤 문자나 메타 문자도 사용할수 있지만 주의해야 할 메타 문자가 1가지 있다. \n",
    "# 그것은 바로 ^인데, 문자 클래스 안에 ^ 메타 문자를 사용할 경우에는 반대(not)라는 의미를 갖는다. \n",
    "# 예를 들어 [^0-9]라는 정규 표현식은 숫자가 아닌 문자만 매치된다.\n",
    "\n",
    "## 자주 사용하는 문자 클래스\n",
    "## -----------------------\n",
    "## [0-9] 또는 [a-zA-Z] 등은 무척 자주 사용하는 정규 표현식이다. \n",
    "## 이렇게 자주 사용하는 정규식은 별도의 표기법으로 표현할 수 있다. 다음을 기억해 두자.\n",
    "##\n",
    "## \\d - 숫자와 매치, [0-9]와 동일한 표현식이다.\n",
    "## \\D - 숫자가 아닌 것과 매치, [^0-9]와 동일한 표현식이다.\n",
    "## \\s - whitespace 문자와 매치, [ \\t\\n\\r\\f\\v]와 동일한 표현식이다. 맨 앞의 빈 칸은 공백문자(space)를 의미한다.\n",
    "## \\S - whitespace 문자가 아닌 것과 매치, [^ \\t\\n\\r\\f\\v]와 동일한 표현식이다.\n",
    "## \\w - 문자+숫자(alphanumeric)와 매치, [a-zA-Z0-9_]와 동일한 표현식이다.\n",
    "## \\W - 문자+숫자(alphanumeric)가 아닌 문자와 매치, [^a-zA-Z0-9_]와 동일한 표현식이다.\n",
    "## 대문자로 사용된 것은 소문자의 반대임을 추측할 수 있다."
   ]
  },
  {
   "cell_type": "code",
   "execution_count": null,
   "metadata": {},
   "outputs": [],
   "source": [
    "# Dot(.)\n",
    "# ------\n",
    "# 정규 표현식의 Dot(.) 메타 문자는 줄바꿈 문자인 \\n을 제외한 모든 문자와 매치됨을 의미한다.\n",
    "# 정규식을 작성할 때 re.DOTALL 옵션을 주면 \\n 문자와도 매치된다.\n",
    "\n",
    "## 예시\n",
    "## ----\n",
    "## a.b      ---> a + 모든문자 + b \n",
    "\n",
    "# 이해를 돕기 위해 문자열 \"aab\", \"a0b\", \"abc\"가 정규식 a.b와 어떻게 매치되는지 살펴보자.\n",
    "# ---------------------------------------------------------------------------------\n",
    "# \"aab\"는 가운데 문자 \"a\"가 모든 문자를 의미하는 .과 일치하므로 정규식과 매치된다.\n",
    "# \"a0b\"는 가운데 문자 \"0\"가 모든 문자를 의미하는 .과 일치하므로 정규식과 매치된다.\n",
    "# \"abc\"는 \"a\"문자와 \"b\"문자 사이에 어떤 문자라도 하나는있어야 하는 이 정규식과 일치하지 않으므로 매치되지 않는다.\n",
    "\n",
    "# a[.]b     ---> a + Dot(.)문자 + b\n",
    "# 정규식 a[.]b는 \"a.b\" 문자열과 매치되고, \"a0b\" 문자열과는 매치되지 않는다."
   ]
  },
  {
   "cell_type": "code",
   "execution_count": 7,
   "metadata": {},
   "outputs": [],
   "source": [
    "# 반복(*)\n",
    "# ------\n",
    "# ca*t      ---> * 바로 앞에 있는 문자 a가 0부터 무한대로 반복될 수 있다는 의미이다.\n",
    "\n",
    "# 정규식      문자열      Match 여부      설명\n",
    "# ------      -----      ---------      ------\n",
    "# ca*t        ct         Yes            'a'가 0번 반복되어 매치\n",
    "# ca*t        cat        Yes            'a'가 0번 이상 반복되어 매치\n",
    "# ca*t        caaat      Yes            'a'가 0번 이상 반복되어 매치"
   ]
  },
  {
   "cell_type": "code",
   "execution_count": null,
   "metadata": {},
   "outputs": [],
   "source": [
    "# 반복(+)\n",
    "# ------\n",
    "# +는 최소 1번 이상 반복될 때 사용한다. 즉 *가 반복 횟수 0부터라면 +는 반복 횟수 1부터인 것이다.\n",
    "# ca+t      ---> c + a(1번 이상 반복) + t\n",
    "\n",
    "# 정규식      문자열      Match 여부      설명\n",
    "# ------      -----      ---------      ------\n",
    "# ca+t        ct         No             'a'가 0번 반복되어 매치되지 않음\n",
    "# ca+t        cat        Yes            'a'가 1번 이상 반복되어 매치\n",
    "# ca+t        caaat      Yes            'a'가 1번 이상 반복되어 매치"
   ]
  },
  {
   "cell_type": "code",
   "execution_count": null,
   "metadata": {},
   "outputs": [],
   "source": [
    "# 반복({m,n}, ?)\n",
    "# --------------\n",
    "# 반복 횟수를 3회만 또는 1회부터 3회까지만으로 제한하고 싶을 수도 있지 않을까?\n",
    "# { } 메타 문자를 사용하면 반복 횟수를 고정할 수 있다. \n",
    "# {m, n} 정규식을 사용하면 반복 횟수가 m부터 n까지 매치할 수 있다. \n",
    "# 또한 m 또는 n을 생략할 수도 있다. 만약 {3,}처럼 사용하면 반복 횟수가 3 이상인 경우이고 \n",
    "# {,3}처럼 사용하면 반복 횟수가 3 이하를 의미한다. 생략된 m은 0과 동일하며, 생략된 n은 무한대(2억 개 미만)의 의미를 갖는다.\n",
    "\n",
    "# {1,}은 +와 동일하고, {0,}은 *와 동일하다.\n",
    "\n",
    "## 1. {m}\n",
    "## ------\n",
    "## ca{2}t   ---> c + a(반드시 2번 반복) + t\n",
    "\n",
    "# 정규식      문자열      Match 여부      설명\n",
    "# ------      -----      ---------      ------\n",
    "# ca{2}t      ct         No             'a'가 1번 반복되어 매치되지 않음\n",
    "# ca{2}t      caat       Yes            'a'가 2번 반복되어 매치\n",
    "\n",
    "\n",
    "## 2. {m, n}\n",
    "## ---------\n",
    "## ca{2, 5}t    ---> c + a(2 ~ 5회 반복) + t\n",
    "\n",
    "# 정규식      문자열      Match 여부      설명\n",
    "# ------      -----      ---------      ------\n",
    "# ca{2,5}t      cat      No             'a'가 1번만 반복되어 매치되지 않음\n",
    "# ca{2,5}t      caat     Yes            'a'가 2번 반복되어 매치\n",
    "# ca{2,5}t      caaaaat  Yes            'a'가 5번 반복되어 매치\n",
    "\n",
    "\n",
    "## ?\n",
    "## -\n",
    "## 반복은 아니지만 이와 비슷한 개념으로 ? 이 있다. ? 메타문자가 의미하는 것은 {0, 1} 이다.\n",
    "## ab?c     ---> a + b(있어도 되고 없어도 된다) + c\n",
    "\n",
    "# 정규식      문자열      Match 여부      설명\n",
    "# ------      -----      ---------      ------\n",
    "# ab?c        abc        Yes            'b'가 1번 사용되어 매치\n",
    "# ab?c        ac         Yes            'b'가 0번 사용되어 매치\n",
    "\n",
    "\n",
    "### *, +, ? 메타 문자는 모두 {m, n} 형태로 고쳐 쓰는 것이 가능하지만 가급적 이해하기 쉽고 \n",
    "### 표현도 간결한 *, +, ? 메타 문자를 사용하는 것이 좋다."
   ]
  },
  {
   "attachments": {},
   "cell_type": "markdown",
   "metadata": {},
   "source": [
    "### 파이썬에서 정규 표현식을 지원하는 re 모듈"
   ]
  },
  {
   "cell_type": "code",
   "execution_count": null,
   "metadata": {},
   "outputs": [],
   "source": [
    "# 파이썬은 정규 표현식을 지원하기 위해 re(regular expression의 약어) 모듈을 제공한다. \n",
    "# re 모듈은 파이썬을 설치할 때 자동으로 설치되는 표준 라이브러리 임\n",
    "# ------------------------------------------------------------------------------\n",
    "import re\n",
    "p = re.compile('ab*')\n",
    "\n",
    "# 패턴이란 정규식을 컴파일한 결과\n",
    "# -----------------------------"
   ]
  },
  {
   "attachments": {},
   "cell_type": "markdown",
   "metadata": {},
   "source": [
    "### 정규식을 이용한 문자열 검색"
   ]
  },
  {
   "cell_type": "code",
   "execution_count": 9,
   "metadata": {},
   "outputs": [],
   "source": [
    "# 컴파일된 패턴 객체를 사용하여 문자열 검색을 수행해 보자. \n",
    "# 컴파일된 패턴 객체는 다음과 같은 4가지 메서드를 제공\n",
    "## Method   \t목적\n",
    "## ------       -----------------------------------------------------\n",
    "## match()\t    문자열의 처음부터 정규식과 매치되는지 조사한다.\n",
    "## search()\t    문자열 전체를 검색하여 정규식과 매치되는지 조사한다.\n",
    "## findall()\t정규식과 매치되는 모든 문자열(substring)을 리스트로 리턴한다.\n",
    "## finditer()\t정규식과 매치되는 모든 문자열(substring)을 반복 가능한 객체로 리턴한다.\n",
    "## --------------------------------------------------------------------------------\n",
    "\n",
    "## match, search는 정규식과 매치될 때는 match 객체를 리턴하고, \n",
    "## 매치되지 않을 때는 None을 리턴한다. \n",
    "## match 객체란 정규식의 검색 결과로 리턴된 객체를 말한다.\n",
    "\n",
    "import re\n",
    "\n",
    "p = re.compile('[a-z]+')"
   ]
  },
  {
   "cell_type": "code",
   "execution_count": 15,
   "metadata": {},
   "outputs": [
    {
     "name": "stdout",
     "output_type": "stream",
     "text": [
      "<re.Match object; span=(0, 6), match='python'>\n",
      "None\n",
      "Match found:  string\n",
      "None\n",
      "<re.Match object; span=(3, 9), match='python'>\n"
     ]
    }
   ],
   "source": [
    "# match\n",
    "# -----\n",
    "# match 메서드는 문자열의 처음부터 정규식과 매치되는지 조사한다. 위 패턴에 match 메서드를 수행해 보자.\n",
    "import re\n",
    "\n",
    "m = p.match('python')\n",
    "print(m)\n",
    "\n",
    "m = p.match('3 python')\n",
    "print(m)\n",
    "\n",
    "\n",
    "# match의 결과로 match 객체 또는 None을 리턴하기 때문에 파이썬 정규식 프로그램은 보통 다음과 같은 흐름으로 작성한다.\n",
    "# ----------------------------------------------------------------------------------------------------------\n",
    "p = re.compile('[a-z]+')\n",
    "m = p.match('string goes here')\n",
    "if m:\n",
    "    print('Match found: ', m.group())\n",
    "else:\n",
    "    print('No match')     \n",
    "    \n",
    "\n",
    "data = \"\"\"\n",
    "3 python \n",
    "life is too short\n",
    "\"\"\"    \n",
    "\n",
    "p = re.compile('[a-z]+')\n",
    "\n",
    "m = p.match(data)\n",
    "print(m)\n",
    "\n",
    "m = p.search(data)      # 패턴과 일치하는 1개의 단어 search\n",
    "print(m)\n"
   ]
  },
  {
   "cell_type": "code",
   "execution_count": 13,
   "metadata": {},
   "outputs": [
    {
     "name": "stdout",
     "output_type": "stream",
     "text": [
      "<re.Match object; span=(2, 8), match='python'>\n"
     ]
    }
   ],
   "source": [
    "# search\n",
    "# ------\n",
    "import re\n",
    "\n",
    "p = re.compile('[a-z]+')\n",
    "m = p.search('3 python')\n",
    "print(m)"
   ]
  },
  {
   "cell_type": "code",
   "execution_count": 16,
   "metadata": {},
   "outputs": [
    {
     "name": "stdout",
     "output_type": "stream",
     "text": [
      "['python', 'ife', 'is', 'too', 'short']\n"
     ]
    }
   ],
   "source": [
    "# findall\n",
    "# -------\n",
    "# findall은 패턴([a-z]+)과 매치되는 모든 값을 찾아 리스트로 리턴한다\n",
    "# --------------------------------------------------------------\n",
    "import re\n",
    "\n",
    "data = \"\"\"\n",
    "3 python \n",
    "Life is too short\n",
    "\"\"\"\n",
    "p = re.compile('[a-z]+')\n",
    "m = p.findall(data)\n",
    "print(m)"
   ]
  },
  {
   "cell_type": "code",
   "execution_count": 18,
   "metadata": {},
   "outputs": [
    {
     "name": "stdout",
     "output_type": "stream",
     "text": [
      "<callable_iterator object at 0x000001E39ECFBDC0>\n"
     ]
    }
   ],
   "source": [
    "# finditer\n",
    "# --------\n",
    "# finditer는 findall과 동일하지만 그 결과로 반복 가능한 객체(iterator object)를 리턴\n",
    "# 그리고 반복 가능한 객체가 포함하는 각각의 요소는 match 객체\n",
    "# -------------------------------------------------------------------------------\n",
    "import re\n",
    "\n",
    "data = \"\"\"\n",
    "3 python \n",
    "Life is too short\n",
    "\"\"\"\n",
    "p = re.compile('[a-z]+')\n",
    "m = p.finditer(data)\n",
    "print(m)"
   ]
  },
  {
   "attachments": {},
   "cell_type": "markdown",
   "metadata": {},
   "source": [
    "### match 객체의 메서드"
   ]
  },
  {
   "cell_type": "code",
   "execution_count": 21,
   "metadata": {},
   "outputs": [
    {
     "name": "stdout",
     "output_type": "stream",
     "text": [
      "python\n",
      "0\n",
      "6\n",
      "(0, 6)\n",
      "python\n",
      "2\n",
      "8\n",
      "(2, 8)\n"
     ]
    }
   ],
   "source": [
    "# match 객체의 메서드\n",
    "# ------------------\n",
    "## match 객체로 확인 가능한 것\n",
    "##--------------------------\n",
    "## 어떤 문자열이 매치되었는가?\n",
    "## 매치된 문자열의 인덱스는 어디서부터 어디까지인가?\n",
    "\n",
    "# match 객체 메서드\n",
    "# ----------------\n",
    "# method    \t목적\n",
    "# ------        --------------------------------------------\n",
    "# group()\t    매치된 문자열을 리턴한다.\n",
    "# start()\t    매치된 문자열의 시작 위치를 리턴한다.\n",
    "# end()\t        매치된 문자열의 끝 위치를 리턴한다.\n",
    "# span()\t    매치된 문자열의 (시작, 끝)에 해당하는 튜플을 리턴한다.\n",
    "# ----------------------------------------------------------------\n",
    "import re\n",
    "\n",
    "p = re.compile('[a-z]+')\n",
    "m = p.match('python')\n",
    "print(m.group())\n",
    "print(m.start())\n",
    "print(m.end())\n",
    "print(m.span())\n",
    "\n",
    "# match 메서드를 수행한 결과로 돌려준 match 객체의 start()의 결괏값은 항상 0일 수밖에 없다. \n",
    "# 왜냐하면 match 메서드는 항상 문자열의 시작부터 조사하기 때문이다.\n",
    "\n",
    "import re\n",
    "\n",
    "p = re.compile('[a-z]+')\n",
    "m = p.search('3 python')\n",
    "print(m.group())\n",
    "print(m.start())\n",
    "print(m.end())\n",
    "print(m.span())\n"
   ]
  },
  {
   "cell_type": "code",
   "execution_count": 22,
   "metadata": {},
   "outputs": [
    {
     "name": "stdout",
     "output_type": "stream",
     "text": [
      "<re.Match object; span=(0, 6), match='python'>\n"
     ]
    }
   ],
   "source": [
    "# 모듈 단위로 수행하기\n",
    "# -------------------\n",
    "# 지금까지 우리는 re.compile을 사용하여 컴파일된 패턴 객체로 그 이후의 작업을 수행했다. \n",
    "# re 모듈은 이것을 보다 축약한 형태로 사용할 수 있는 방법을 제공한다. 다음 예를 보자.\n",
    "# --------------------------------------------------------------------------------\n",
    "import re\n",
    "\n",
    "p = re.compile('[a-z]+')\n",
    "m = p.match('python')\n",
    "\n",
    "# 축약 코드\n",
    "# --------\n",
    "m = re.match('[a-z]+', 'python')\n",
    "print(m)\n",
    "\n",
    "# 보통 한 번 만든 패턴 객체를 여러번 사용해야 할 때는 이 방법보다 re.compile을 사용하는 것이 편하다."
   ]
  },
  {
   "attachments": {},
   "cell_type": "markdown",
   "metadata": {},
   "source": [
    "### 컴파일 옵션"
   ]
  },
  {
   "cell_type": "code",
   "execution_count": null,
   "metadata": {},
   "outputs": [],
   "source": [
    "# 컴파일 옵션\n",
    "# ----------\n",
    "# 정규식을 컴파일할 때 다음 옵션을 사용할 수 있다.\n",
    "# ---------------------------------------------\n",
    "# DOTALL(S)     - . 이 줄바꿈 문자를 포함하여 모든 문자와 매치할 수 있도록 한다.\n",
    "# IGNORECASE(I) - 대소문자에 관계없이 매치할 수 있도록 한다.\n",
    "# MULTILINE(M)  - 여러줄과 매치할 수 있도록 한다. (^, $ 메타문자의 사용과 관계가 있는 옵션이다)\n",
    "# VERBOSE(X)    - verbose 모드를 사용할 수 있도록 한다. (정규식을 보기 편하게 만들수 있고 주석등을 사용할 수 있게된다.)\n",
    "#                 옵션을 사용할 때는 re.DOTALL처럼 전체 옵션 이름을 써도 되고 re.S처럼 약어를 써도 된다.\n",
    "# ---------------------------------------------------------------------------------------------------------------"
   ]
  },
  {
   "attachments": {},
   "cell_type": "markdown",
   "metadata": {},
   "source": [
    "#### DOTALL, S"
   ]
  },
  {
   "cell_type": "code",
   "execution_count": 25,
   "metadata": {},
   "outputs": [
    {
     "name": "stdout",
     "output_type": "stream",
     "text": [
      "None\n",
      "<re.Match object; span=(0, 3), match='a\\nb'>\n"
     ]
    }
   ],
   "source": [
    "# DOTALL, S\n",
    "# ---------\n",
    "# . 메타 문자는 줄바꿈 문자(\\n)를 제외한 모든 문자와 매치되는 규칙이 있다. \n",
    "# 만약 \\n 문자도 포함하여 매치하고 싶다면 re.DOTALL 또는 re.S 옵션을 사용해 정규식을 컴파일하면 된다.\n",
    "# ---------------------------------------------------------------------------------------------\n",
    "# 보통 re.DOTALL 옵션은 여러 줄로 이루어진 문자열에서 줄바꿈 문자에 상관없이 검색할 때 많이 사용한다.\n",
    "# --------------------------------------------------------------------------------------------\n",
    "import re\n",
    "p = re.compile('a.b')\n",
    "m = p.match('a\\nb')\n",
    "print(m)\n",
    "\n",
    "p = re.compile('a.b', re.DOTALL)\n",
    "m = p.match('a\\nb')\n",
    "print(m)"
   ]
  },
  {
   "attachments": {},
   "cell_type": "markdown",
   "metadata": {},
   "source": [
    "#### IGNORECASE, I"
   ]
  },
  {
   "cell_type": "code",
   "execution_count": 28,
   "metadata": {},
   "outputs": [
    {
     "name": "stdout",
     "output_type": "stream",
     "text": [
      "<re.Match object; span=(0, 6), match='python'>\n",
      "==============================\n",
      "<re.Match object; span=(0, 6), match='Python'>\n",
      "==============================\n",
      "<re.Match object; span=(0, 6), match='PYTHON'>\n",
      "==============================\n"
     ]
    }
   ],
   "source": [
    "# IGNORECASE, I\n",
    "# -------------\n",
    "# re.IGNORECASE 또는 re.I 옵션은 대소문자 구별 없이 매치를 수행할 때 사용하는 옵션\n",
    "# ----------------------------------------------------------------------------\n",
    "import re\n",
    "\n",
    "p = re.compile('[a-z]+', re.I)\n",
    "\n",
    "m = p.match('python')\n",
    "print(m)\n",
    "print('='*30)\n",
    "\n",
    "m = p.match('Python')\n",
    "print(m)\n",
    "print('='*30)\n",
    "\n",
    "m = p.match('PYTHON')\n",
    "print(m)\n",
    "print('='*30)\n"
   ]
  },
  {
   "attachments": {},
   "cell_type": "markdown",
   "metadata": {},
   "source": [
    "#### MULTILINE, M"
   ]
  },
  {
   "cell_type": "code",
   "execution_count": 30,
   "metadata": {},
   "outputs": [
    {
     "name": "stdout",
     "output_type": "stream",
     "text": [
      "['python one']\n",
      "['python one', 'python two', 'python three']\n"
     ]
    }
   ],
   "source": [
    "# MULTILINE, M\n",
    "# -------------\n",
    "# re.MULTILINE 또는 re.M 옵션은 조금 후에 설명할 메타 문자인 ^, $와 연관된 옵션이다. \n",
    "# 이 메타 문자에 대해 간단히 설명하자면 ^는 문자열의 처음을 의미하고, $는 문자열의 마지막을 의미한다. \n",
    "# 예를 들어 정규식이 ^python인 경우 문자열의 처음은 항상 python으로 시작해야 매치되고, \n",
    "# 만약 정규식이 python$이라면 문자열의 마지막은 항상 python으로 끝나야 매치된다는 의미이다.\n",
    "# -------------------------------------------------------------------------------------------\n",
    "import re\n",
    "\n",
    "data = \"\"\"python one\n",
    "life is too short\n",
    "python two\n",
    "you need python\n",
    "python three\"\"\"\n",
    "\n",
    "p = re.compile('^python\\s\\w+')\n",
    "print(p.findall(data))      # ['python one'] 출력\n",
    "\n",
    "\n",
    "# ^ 메타 문자에 의해 python이라는 문자열을 사용한 첫 번째 줄만 매치된 것이다.\n",
    "# 하지만 ^ 메타 문자를 문자열 전체의 처음이 아니라 각 라인의 처음으로 인식시키고 싶은 경우도 있을 것이다. \n",
    "# 이럴 때 사용할 수 있는 옵션이 바로 re.MULTILINE 또는 re.M이다. 위 코드를 다음과 같이 수정해 보자.\n",
    "# -----------------------------------------------------------------------------------------------\n",
    "p = re.compile('^python\\s\\w+', re.MULTILINE)\n",
    "print(p.findall(data))      # ['python one', 'python two', 'python three'] 출력"
   ]
  },
  {
   "attachments": {},
   "cell_type": "markdown",
   "metadata": {},
   "source": [
    "#### VERBOSE, X"
   ]
  },
  {
   "cell_type": "code",
   "execution_count": null,
   "metadata": {},
   "outputs": [],
   "source": [
    "# VERBOSE, X\n",
    "# ----------\n",
    "# 지금껏 알아본 정규식은 매우 간단하지만 정규식 전문가들이 만든 정규식을 보면 거의 암호수준이다. \n",
    "# 정규식을 이해하려면 하나하나 조심스럽게 뜯어보아야만 한다. \n",
    "# 이렇게 이해하기 어려운 정규식을 주석 또는 줄 단위로 구분할 수 있다면 얼마나 보기 좋고 \n",
    "# 이해하기 쉬울까? 방법이 있다. 바로 re.VERBOSE 또는 re.X 옵션을 사용하면 된다.\n",
    "# ---------------------------------------------------------------------------------------\n",
    "import re\n",
    "\n",
    "# 1st 정규식\n",
    "# ----------\n",
    "charref = re.compile(r'&[#](0[0-7]+|[0-9]+|x[0-9a-fA-F]+);')\n",
    "\n",
    "\n",
    "# 2st 정규식\n",
    "# ----------\n",
    "charref = re.compile(r\"\"\"\n",
    " &[#]                # Start of a numeric entity reference\n",
    " (\n",
    "     0[0-7]+         # Octal form\n",
    "   | [0-9]+          # Decimal form\n",
    "   | x[0-9a-fA-F]+   # Hexadecimal form\n",
    " )\n",
    " ;                   # Trailing semicolon\n",
    "\"\"\", re.VERBOSE)\n",
    "\n",
    "# 첫 번째와 두 번째 예를 비교해 보면 컴파일된 패턴 객체인 charref는 모두 동일한 역할을 한다. \n",
    "# 하지만 정규식이 복잡할 경우 두 번째처럼 주석을 적고 여러 줄로 표현하는 것이 훨씬 가독성이 좋다는 것을 알 수 있다.\n",
    "\n",
    "# re.VERBOSE 옵션을 사용하면 문자열에 사용된 whitespace는 컴파일할 때 제거된다(단 [ ] 안에 사용한 whitespace는 제외). \n",
    "# 그리고 줄 단위로 #기호를 사용하여 주석문을 작성할 수 있다."
   ]
  },
  {
   "attachments": {},
   "cell_type": "markdown",
   "metadata": {},
   "source": [
    "### 백슬래시 문제"
   ]
  },
  {
   "cell_type": "code",
   "execution_count": null,
   "metadata": {},
   "outputs": [],
   "source": [
    "# 백슬래시 문제\n",
    "# ------------\n",
    "# 정규 표현식을 파이썬에서 사용할 때 혼란을 주는 요소가 한 가지 있는데, 바로 백슬래시(\\)이다.\n",
    "# 예를 들어 어떤 파일 안에 있는 \"\\section\" 문자열을 찾기 위한 정규식을 만든다고 가정해 보자.\n",
    "\n",
    "# \\section\n",
    "# --------\n",
    "# 이 정규식은 \\s 문자가 whitespace로 해석되어 의도한 대로 매치가 이루어지지 않는다.\n",
    "# 위 표현은 [ \\t\\n\\r\\f\\v]ection 과 동일한 의미로 해석됨\n",
    "\n",
    "# 의도한 대로 매치하고 싶다면 \\\\을 이용하여 이스케이프 처리\n",
    "# \\\\section\n",
    "# p = re.compile('\\\\section')\n",
    "\n",
    "# 그런데 여기에서 또 하나의 문제가 발견된다. \n",
    "# 위처럼 정규식을 만들어서 컴파일하면 실제 파이썬 정규식 엔진에는 파이썬 문자열 리터럴 규칙에 따라 \\\\이 \\로 변경되어 \\section이 전달된다.\n",
    "# 결국 정규식 엔진에 \\\\ 문자를 전달하려면 파이썬은 \\\\\\\\처럼 백슬래시를 4개나 사용해야 한다.\n",
    "\n",
    "# 정규식 엔진은 정규식을 해석하고 수행하는 모듈이다.\n",
    "# p = re.compile('\\\\\\\\section')\n",
    "\n",
    "# 이렇게 해야만 원하는 결과를 얻을 수 있다. 하지만 너무 복잡하지 않은가?\n",
    "\n",
    "# 만약 위와 같이 \\를 사용한 표현이 계속 반복되는 정규식이라면 너무 복잡해서 이해하기 쉽지않을 것이다. \n",
    "# 이러한 문제를 해결하려면 Raw String을 사용해야 한다\n",
    "# p = re.compile(r'\\\\section')\n"
   ]
  },
  {
   "attachments": {},
   "cell_type": "markdown",
   "metadata": {},
   "source": [
    "## 08-3 강력한 정규 표현식의 세계로"
   ]
  },
  {
   "attachments": {},
   "cell_type": "markdown",
   "metadata": {},
   "source": [
    "### 메타 문자"
   ]
  },
  {
   "cell_type": "code",
   "execution_count": null,
   "metadata": {},
   "outputs": [],
   "source": [
    "# 앞에서 살펴본 +, *, [], {} 등의 메타문자는 매치가 진행될 때 현재 매치되고 있는 문자열의 위치가 변경된다(보통 소비된다고 표현한다). \n",
    "# 하지만 이와 달리 문자열을 소비시키지 않는 메타 문자도 있다. \n",
    "# 이번에는 이런 문자열 소비가 없는(zerowidth assertions) 메타 문자에 대해 살펴보자"
   ]
  },
  {
   "cell_type": "code",
   "execution_count": 31,
   "metadata": {},
   "outputs": [
    {
     "name": "stdout",
     "output_type": "stream",
     "text": [
      "<re.Match object; span=(0, 4), match='Crow'>\n"
     ]
    }
   ],
   "source": [
    "# |\n",
    "# -\n",
    "# | 메타 문자는 or과 동일한 의미로 사용된다. A|B라는 정규식이 있다면 A 또는 B라는 의미가 된다.\n",
    "# --------------------------------------------------------------------------------------\n",
    "import re\n",
    "\n",
    "p = re.compile('Crow|Servo')\n",
    "m = p.match('CrowHello')\n",
    "print(m)"
   ]
  },
  {
   "cell_type": "code",
   "execution_count": 34,
   "metadata": {},
   "outputs": [
    {
     "name": "stdout",
     "output_type": "stream",
     "text": [
      "<re.Match object; span=(0, 4), match='Life'>\n"
     ]
    }
   ],
   "source": [
    "# ^\n",
    "# -\n",
    "# $ 메타 문자는 ^ 메타 문자와 반대의 경우이다. 즉 $는 문자열의 끝과 매치함을 의미한다.\n",
    "# -----------------------------------------------------------------------------------------------------\n",
    "import re\n",
    "\n",
    "print(re.search('^Life', 'Life is too short'))"
   ]
  },
  {
   "cell_type": "code",
   "execution_count": null,
   "metadata": {},
   "outputs": [],
   "source": [
    "# $\n",
    "# -\n",
    "# ^ 메타 문자는 문자열의 맨 처음과 일치함을 의미한다. \n",
    "# 앞에서 살펴본 컴파일 옵션 re.MULTILINE을 사용할 경우에는 여러 줄의 문자열일 때 각 줄의 처음과 일치하게 된다.\n",
    "# -----------------------------------------------------------------------------------------------------\n",
    "import re\n",
    "print(re.search('short$', 'Life is too short'))"
   ]
  },
  {
   "cell_type": "code",
   "execution_count": null,
   "metadata": {},
   "outputs": [],
   "source": [
    "# ^ 또는 $ 문자를 메타 문자가 아닌 문자 그 자체로 매치하고 싶은 경우에는 \\^, \\$ 로 사용하면 된다."
   ]
  },
  {
   "cell_type": "code",
   "execution_count": 36,
   "metadata": {},
   "outputs": [],
   "source": [
    "# \\A\n",
    "# --\n",
    "# \\A는 문자열의 처음과 매치됨을 의미한다. ^ 메타 문자와 동일한 의미이지만 re.MULTILINE 옵션을 \n",
    "# 사용할 경우에는 다르게 해석된다. \n",
    "# re.MULTILINE 옵션을 사용할 경우 ^은 각 줄의 문자열의 처음과 매치되지만 \\A는 줄과 상관없이 \n",
    "# 전체 문자열의 처음하고만 매치된다."
   ]
  },
  {
   "cell_type": "code",
   "execution_count": null,
   "metadata": {},
   "outputs": [],
   "source": [
    "# \\Z\n",
    "# --\n",
    "# \\Z는 문자열의 끝과 매치됨을 의미한다. 이것 역시 \\A와 동일하게 re.MULTILINE 옵션을 사용할 경우 $ 메타 \n",
    "# 문자와는 달리 전체 문자열의 끝과 매치된다."
   ]
  },
  {
   "cell_type": "code",
   "execution_count": 39,
   "metadata": {},
   "outputs": [
    {
     "name": "stdout",
     "output_type": "stream",
     "text": [
      "<re.Match object; span=(3, 8), match='class'>\n",
      "None\n",
      "None\n"
     ]
    }
   ],
   "source": [
    "# \\b\n",
    "# --\n",
    "# \\b는 단어 구분자(Word boundary)이다. 보통 단어는 whitespace에 의해 구분된다.\n",
    "# -------------------------------------------------------------------------\n",
    "# \\b 메타 문자를 사용할 때 주의해야 할 점이 있다. \n",
    "# \\b는 파이썬 리터럴 규칙에 의하면 백스페이스(BackSpace)를 의미하므로 백스페이스가 아닌 \n",
    "# 단어 구분자임을 알려 주기 위해 r'\\bclass\\b'처럼 Raw string임을 알려주는 기호 r을 반드시 붙여 주어야 한다.\n",
    "# --------------------------------------------------------------------------------------------------\n",
    "import re\n",
    "\n",
    "p = re.compile(r'\\bclass\\b')\n",
    "print(p.search('no class at all'))\n",
    "\n",
    "# \\bclass\\b 정규식은 앞뒤가 whitespace로 구분된 class라는 단어와 매치됨을 의미한다. \n",
    "# 따라서 no class at all의 class라는 단어와 매치됨을 확인할 수 있다.\n",
    "\n",
    "print(p.search('the declassified algorithm'))\n",
    "\n",
    "print(p.search('one subclass is'))"
   ]
  },
  {
   "cell_type": "code",
   "execution_count": 42,
   "metadata": {},
   "outputs": [
    {
     "name": "stdout",
     "output_type": "stream",
     "text": [
      "None\n",
      "<re.Match object; span=(6, 11), match='class'>\n",
      "None\n"
     ]
    }
   ],
   "source": [
    "# \\B\n",
    "# --\n",
    "# \\B 메타 문자는 \\b 메타 문자와 반대의 경우이다. 즉 whitespace로 구분된 단어가 아닌 경우에만 매치된다.\n",
    "# ----------------------------------------------------------------------------------------------\n",
    "import re\n",
    "\n",
    "p = re.compile(r'\\Bclass\\B')\n",
    "print(p.search('no class at all'))\n",
    "\n",
    "print(p.search('the declassified algorithm'))\n",
    "\n",
    "print(p.search('one subclass is'))"
   ]
  },
  {
   "attachments": {},
   "cell_type": "markdown",
   "metadata": {},
   "source": [
    "### 그루핑"
   ]
  },
  {
   "cell_type": "code",
   "execution_count": 60,
   "metadata": {},
   "outputs": [
    {
     "name": "stdout",
     "output_type": "stream",
     "text": [
      "<re.Match object; span=(0, 9), match='ABCABCABC'>\n",
      "ABCABCABC\n",
      "<re.Match object; span=(0, 18), match='park 010-1234-1234'>\n",
      "<re.Match object; span=(4, 18), match=' 010-1234-1234'>\n"
     ]
    }
   ],
   "source": [
    "# 그루핑\n",
    "# -----\n",
    "# ABC 문자열이 계속해서 반복되는지 조사하는 정규식을 작성하고 싶다고 하자. \n",
    "# 어떻게 해야할까? 지금까지 공부한 내용으로는 위 정규식을 작성할 수 없다. \n",
    "# 이럴 때 필요한 것이 바로 그루핑(Grouping) 이다.\n",
    "# -------------------------------------------------------------------\n",
    "# (ABC)+\n",
    "\n",
    "import re\n",
    "\n",
    "p = re.compile('(ABC)+')\n",
    "m = p.search('ABCABCABC OK?')\n",
    "print(m)\n",
    "print(m.group())\n",
    "\n",
    "\n",
    "# \\d : [0-9]\n",
    "# \\s : white space\n",
    "# \\w : [0-9a-zA-Z_]\n",
    "# ------------------\n",
    "p = re.compile(r'\\w+\\s+\\d+[-]\\d+[-]\\d+')\n",
    "m = p.search('park 010-1234-1234')\n",
    "print(m)\n",
    "\n",
    "p = re.compile(r'\\s+\\d+[-]\\d+[-]\\d+')\n",
    "m = p.search('park 010-1234-1234')\n",
    "print(m)\n"
   ]
  },
  {
   "cell_type": "code",
   "execution_count": 58,
   "metadata": {},
   "outputs": [
    {
     "name": "stdout",
     "output_type": "stream",
     "text": [
      "<re.Match object; span=(0, 18), match='park 010-1234-1234'>\n",
      "park\n"
     ]
    }
   ],
   "source": [
    "# \\w+\\s+\\d+[-]\\d+[-]\\d+은 이름 + \" \" + 전화번호 형태의 문자열을 찾는 정규식이다. \n",
    "# 그런데 이렇게 매치된 문자열 중에서 이름만 뽑아내고 싶다면 어떻게 해야 할까?\n",
    "\n",
    "# 보통 반복되는 문자열을 찾을 때 그룹을 사용하는데, 그룹을 사용하는 보다 큰 이유는 위에서 \n",
    "# 볼 수 있듯이 매치된 문자열 중에서 특정 부분의 문자열만 뽑아내기 위해서인 경우가 더 많다.\n",
    "\n",
    "# 위 예에서 만약 \"이름\" 부분만 뽑아내려 한다면 다음과 같이 할 수 있다.\n",
    "# ---------------------------------------------------------------------------------\n",
    "import re\n",
    "\n",
    "p = re.compile(r'(\\w+)\\s+\\d+[-]\\d+[-]\\d+')      \n",
    "                                                \n",
    "m = p.search('park 010-1234-1234')\n",
    "print(m)\n",
    "print(m.group(1))\n",
    "\n",
    "# \\w+ ---> (\\w+)로 변경하면 match 객체의 group(인덱스) 메서드를 사용하여 그루핑된 부분의 문자열만 뽑아낼 수 있음\n",
    "\n",
    "# group 메서드의 인덱스는 다음과 같은 의미를 갖는다.\n",
    "# ----------------------------------------------\n",
    "# group(인덱스)     설명\n",
    "# -------------     --------------------------\n",
    "# group(0)\t        매치된 전체 문자열\n",
    "# group(1)\t        첫 번째 그룹에 해당되는 문자열\n",
    "# group(2)\t        두 번째 그룹에 해당되는 문자열\n",
    "# group(n)\t        n 번째 그룹에 해당되는 문자열"
   ]
  },
  {
   "cell_type": "code",
   "execution_count": 61,
   "metadata": {},
   "outputs": [
    {
     "name": "stdout",
     "output_type": "stream",
     "text": [
      "park 010-1234-1234\n",
      "park\n",
      "010-1234-1234\n"
     ]
    }
   ],
   "source": [
    "# 이름과 전화번호 그루핑\n",
    "# --------------------\n",
    "import re\n",
    "\n",
    "p = re.compile(r'(\\w+)\\s+(\\d+[-]\\d+[-]\\d+)')      \n",
    "                                               \n",
    "m = p.search('park 010-1234-1234')\n",
    "\n",
    "print(m.group(0))\n",
    "print(m.group(1))\n",
    "print(m.group(2))\n"
   ]
  },
  {
   "cell_type": "code",
   "execution_count": 64,
   "metadata": {},
   "outputs": [
    {
     "name": "stdout",
     "output_type": "stream",
     "text": [
      "park 010-1234-5678\n",
      "park\n",
      "010\n",
      "1234\n",
      "5678\n"
     ]
    }
   ],
   "source": [
    "# 전화번호 중에서 국번만 뽑아내고 싶으면 어떻게 해야 할까? 다음과 같이 국번 부분을 또 그루핑하면 된다\n",
    "\n",
    "import re\n",
    "\n",
    "p = re.compile(r'(\\w+)\\s+(\\d+)[-](\\d+)[-](\\d+)')      \n",
    "                                               \n",
    "m = p.search('park 010-1234-5678')\n",
    "\n",
    "print(m.group(0))\n",
    "print(m.group(1))\n",
    "print(m.group(2))\n",
    "print(m.group(3))\n",
    "print(m.group(4))\n"
   ]
  },
  {
   "cell_type": "code",
   "execution_count": 66,
   "metadata": {},
   "outputs": [
    {
     "name": "stdout",
     "output_type": "stream",
     "text": [
      "park 010-1234-5678\n",
      "park\n",
      "010-1234-5678\n",
      "010\n"
     ]
    }
   ],
   "source": [
    "# 그루핑 중첩\n",
    "# ----------\n",
    "# (\\w+)\\s+((\\d+)[-]\\d+[-]\\d+)처럼 그룹을 중첩되게 사용하는 것도 가능하다. \n",
    "# 그룹이 중첩되어 있는 경우는 바깥쪽부터 시작하여 안쪽으로 들어갈수록 인덱스가 증가\n",
    "# ---------------------------------------------------------------------------\n",
    "import re\n",
    "\n",
    "p = re.compile(r'(\\w+)\\s+((\\d+)[-]\\d+[-]\\d+)')      \n",
    "                                               \n",
    "m = p.search('park 010-1234-5678')\n",
    "\n",
    "print(m.group(0))\n",
    "print(m.group(1))\n",
    "print(m.group(2))\n",
    "print(m.group(3))\n"
   ]
  },
  {
   "attachments": {},
   "cell_type": "markdown",
   "metadata": {},
   "source": [
    "### 그루핑된 문자열 재참조하기"
   ]
  },
  {
   "cell_type": "code",
   "execution_count": null,
   "metadata": {},
   "outputs": [],
   "source": [
    "# 그루핑된 문자열 재참조하기\n",
    "# ------------------------"
   ]
  }
 ],
 "metadata": {
  "kernelspec": {
   "display_name": "base",
   "language": "python",
   "name": "python3"
  },
  "language_info": {
   "codemirror_mode": {
    "name": "ipython",
    "version": 3
   },
   "file_extension": ".py",
   "mimetype": "text/x-python",
   "name": "python",
   "nbconvert_exporter": "python",
   "pygments_lexer": "ipython3",
   "version": "3.9.7"
  },
  "orig_nbformat": 4
 },
 "nbformat": 4,
 "nbformat_minor": 2
}
